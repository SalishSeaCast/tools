{
 "metadata": {
  "name": ""
 },
 "nbformat": 3,
 "nbformat_minor": 0,
 "worksheets": [
  {
   "cells": [
    {
     "cell_type": "markdown",
     "metadata": {},
     "source": [
      "#Sand Heads Winds\n",
      "\n",
      "This notebook demonstrates how to read the file of historical wind data\n",
      "from the Sand Heads weather station that is maintained in the SOG-forcing\n",
      "repo into a data structure of NumPy arrays.\n",
      "\n",
      "The code is based on code in the `bloomcast.wind` module in the [SoG-bloomcast project](https://bitbucket.org/douglatornell/sog-bloomcast)."
     ]
    },
    {
     "cell_type": "code",
     "collapsed": false,
     "input": [
      "from __future__ import division, print_function\n",
      "\n",
      "import arrow\n",
      "from dateutil import tz\n",
      "import numpy as np"
     ],
     "language": "python",
     "metadata": {},
     "outputs": [],
     "prompt_number": 1
    },
    {
     "cell_type": "markdown",
     "metadata": {},
     "source": [
      "Define a `SOGWindTimeseries` class to give us an object container for the wind\n",
      "data and the functions to read it from the SOG-forcing data file:"
     ]
    },
    {
     "cell_type": "code",
     "collapsed": false,
     "input": [
      "class SOGWindTimeseries(object):\n",
      "    \"\"\"Time series object that knows how to read SOG-forcing wind data files.\n",
      "    \"\"\"\n",
      "    def __init__(self, datafile):\n",
      "        self.datafile = datafile\n",
      "        \n",
      "    def read_data(self):\n",
      "        \"\"\"Read time stamps, cross- and along-strait wind components\n",
      "        from data file, and calculate the wind speeds\n",
      "        \"\"\"\n",
      "        self.timestamps, self.cross_winds, self.along_winds = [], [], []\n",
      "        with open(self.datafile, 'rt') as data:\n",
      "            for timestamp, cross_wind, along_wind in self._interesting(data):\n",
      "                self.timestamps.append(timestamp)\n",
      "                self.cross_winds.append(cross_wind)\n",
      "                self.along_winds.append(along_wind)\n",
      "        self.timestamps = np.array(self.timestamps)\n",
      "        self.cross_strait = np.array(self.cross_winds)\n",
      "        self.along_strait = np.array(self.along_winds)\n",
      "        self.speeds = np.sqrt(self.cross_strait**2 + self.along_strait**2)\n",
      "        \n",
      "    def _interesting(self, data):\n",
      "        \"\"\"Generator to extract interesting values from the data stream.\n",
      "        \"\"\"\n",
      "        tzinfo = tz.gettz('Canada/Pacific')\n",
      "        for row in data:\n",
      "            day, month, year, hour, cross_wind, along_wind = row.split()\n",
      "            day, month, year = map(int, (day, month, year))\n",
      "            hour = float(hour)\n",
      "            timestamp = arrow.get(year, month, day, int(hour), tzinfo=tzinfo)\n",
      "            cross_wind, along_wind = map(float, (cross_wind, along_wind))\n",
      "            yield timestamp, cross_wind, along_wind"
     ],
     "language": "python",
     "metadata": {},
     "outputs": [],
     "prompt_number": 2
    },
    {
     "cell_type": "markdown",
     "metadata": {},
     "source": [
      "The Sand Heads historical wind data file is in the `SOG-forcing` Mercurial repository.\n",
      "To be consistend with other SOG users I suggest setting up a `SOG-projects` directory.\n",
      "I would put that directory outside of your `MEOPAR/` directory tree,\n",
      "perhaps at the same level as your `MEOPAR/` directory,\n",
      "but it is really up to you.\n",
      "On an EOAS workstation that has an `/ocean/` mount:\n",
      "```bash\n",
      "$ mkdir SOG-projects\n",
      "$ cd SOG-projects\n",
      "$ hg clone /ocean/sallen/hg_repos/SOG-forcing SOG-forcing\n",
      "```\n",
      "There are some large files in `SOG-forcing` so the clone operation\n",
      "may take a couple of minutes to complete."
     ]
    },
    {
     "cell_type": "markdown",
     "metadata": {},
     "source": [
      "The `SOG-forcing/wind/` directory is a bit of a mess,\n",
      "but the most up to date Sand Heads historical wind data file is\n",
      "`SOG-forcing/wind/SH_pp_08Feb2014.dat`.\n",
      "We can instantiate a `SOGWindTimeseries` object instance\n",
      "and read the data from that file with:"
     ]
    },
    {
     "cell_type": "code",
     "collapsed": false,
     "input": [
      "wind = SOGWindTimeseries('../../../SOG-projects/SOG-forcing/wind/SH_pp_08Feb2014.dat')\n",
      "wind.read_data()"
     ],
     "language": "python",
     "metadata": {},
     "outputs": [],
     "prompt_number": 3
    },
    {
     "cell_type": "code",
     "collapsed": false,
     "input": [
      "wind.timestamps[0], wind.timestamps[-1]"
     ],
     "language": "python",
     "metadata": {},
     "outputs": [
      {
       "metadata": {},
       "output_type": "pyout",
       "prompt_number": 4,
       "text": [
        "(<Arrow [1967-01-01T00:00:00-08:00]>, <Arrow [2014-02-08T23:00:00-08:00]>)"
       ]
      }
     ],
     "prompt_number": 4
    },
    {
     "cell_type": "code",
     "collapsed": false,
     "input": [
      "wind.timestamps.shape"
     ],
     "language": "python",
     "metadata": {},
     "outputs": [
      {
       "metadata": {},
       "output_type": "pyout",
       "prompt_number": 5,
       "text": [
        "(412944,)"
       ]
      }
     ],
     "prompt_number": 5
    },
    {
     "cell_type": "code",
     "collapsed": false,
     "input": [
      "imax = np.argmax(wind.speeds)\n",
      "imax, wind.timestamps[imax], wind.speeds[imax]"
     ],
     "language": "python",
     "metadata": {},
     "outputs": [
      {
       "metadata": {},
       "output_type": "pyout",
       "prompt_number": 6,
       "text": [
        "(72246, <Arrow [1975-03-30T06:00:00-08:00]>, 27.199829429796065)"
       ]
      }
     ],
     "prompt_number": 6
    },
    {
     "cell_type": "markdown",
     "metadata": {},
     "source": [
      "**Note:**\n",
      "The wind component values in the SOG-forcing Sand Heads wind data files\n",
      "have been rotated so that they are parallel and perpendicular to the long axis\n",
      "of the Strait,\n",
      "a heading of 305$^\\circ$,\n",
      "(hence the attribute names `.cross_strait` and `.along_strait`)."
     ]
    },
    {
     "cell_type": "code",
     "collapsed": false,
     "input": [],
     "language": "python",
     "metadata": {},
     "outputs": []
    }
   ],
   "metadata": {}
  }
 ]
}