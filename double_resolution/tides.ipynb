{
 "cells": [
  {
   "cell_type": "markdown",
   "id": "7bd3dd46-2d0f-4d09-9b9b-95ce9bbd2d31",
   "metadata": {},
   "source": [
    "## Tides"
   ]
  },
  {
   "cell_type": "code",
   "execution_count": 1,
   "id": "4fc31854-aaa3-4d20-bb28-a4641634cd04",
   "metadata": {},
   "outputs": [],
   "source": [
    "import arrow\n",
    "import datetime\n",
    "import matplotlib.pyplot as plt\n",
    "import netCDF4 as nc\n",
    "import numpy as np\n",
    "import xarray as xr"
   ]
  },
  {
   "cell_type": "code",
   "execution_count": 2,
   "id": "8e7d5dc9-2a5c-4dcd-8631-343b3c9f456c",
   "metadata": {},
   "outputs": [
    {
     "data": {
      "text/plain": [
       "<class 'netCDF4._netCDF4.Dataset'>\n",
       "root group (NETCDF4 data model, file format HDF5):\n",
       "    Conventions: CF-1.6\n",
       "    title: Tidal Boundary Conditions for Northern Boundary\n",
       "    institution: Dept of Earth, Ocean & Atmospheric Sciences, University of British Columbia\n",
       "    source: https://bitbucket.org/salishsea/tools/src/tip/johnstone_strait_tides.ipynb\n",
       "    references: https://bitbucket.org/salishsea/nemo-forcing/src/tip/open_boundaries/north/SalishSea2_North_tide_M2_grid_V.nc\n",
       "    history: [2017-04-25 18:13:28] Created netCDF4 zlib=True dataset.\n",
       "    comment: Tidal current and amplitude data from Thomson & Huggett 1980\n",
       "    dimensions(sizes): xb(30), yb(1)\n",
       "    variables(dimensions): int32 nbidta(yb, xb), int32 nbjdta(yb, xb), int32 nbrdta(yb, xb), int32 xb(xb), int32 yb(yb), float32 v1(yb, xb), float32 v2(yb, xb)\n",
       "    groups: "
      ]
     },
     "execution_count": 2,
     "metadata": {},
     "output_type": "execute_result"
    }
   ],
   "source": [
    "single = nc.Dataset(f'../../tides/north/SalishSea_N36_AF_North_tide_M2_grid_V.nc')\n",
    "single"
   ]
  },
  {
   "cell_type": "code",
   "execution_count": 3,
   "id": "8577cae8-5884-4dfa-93c4-6b812b7df5b3",
   "metadata": {},
   "outputs": [
    {
     "data": {
      "text/plain": [
       "60"
      ]
     },
     "execution_count": 3,
     "metadata": {},
     "output_type": "execute_result"
    }
   ],
   "source": [
    "xbsize = 2*single['xb'].shape[0]\n",
    "xbsize"
   ]
  },
  {
   "cell_type": "code",
   "execution_count": 4,
   "id": "e93fdbf8-5afb-4c4b-9e76-50b787a7910b",
   "metadata": {},
   "outputs": [],
   "source": [
    "def duplicate_copy(single, xbsize):\n",
    "    double = np.zeros((xbsize))\n",
    "    double[0::2] = single[:]\n",
    "    double[1::2] = single[:]\n",
    "    return double"
   ]
  },
  {
   "cell_type": "code",
   "execution_count": 5,
   "id": "b65d0b41-ced9-4827-a910-b099920b9ed5",
   "metadata": {},
   "outputs": [],
   "source": [
    "def duplicate_index(single, xbTsize):\n",
    "    double = np.zeros((xbTsize))\n",
    "    double[0::2] = 2*single[:]\n",
    "    double[1::2] = double[0::2] + 1\n",
    "    return double"
   ]
  },
  {
   "cell_type": "code",
   "execution_count": 6,
   "id": "83429434-dab9-4ea6-a643-53fe3fd08b0c",
   "metadata": {},
   "outputs": [],
   "source": [
    "def duplicate_constant(single, xbTsize, tsize=0):\n",
    "    if tsize == 0:\n",
    "        double = np.zeros((xbTsize))\n",
    "        if single[0] == single[-1]:\n",
    "            if single[0] != 0:\n",
    "                double[:] = single[0]\n",
    "            return double\n",
    "        else:\n",
    "            print (\"NOT A CONSTANT FIELD\")\n",
    "    else:\n",
    "        double = np.zeros((tsize, xbTsize))\n",
    "        if single[0, 0] == single[-1, -1]:\n",
    "            if single[0, 0] != 0:\n",
    "                double[:, :] = single[:, 0]\n",
    "            return double\n",
    "        else:\n",
    "            print (\"NOT A CONSTANT FIELD\")"
   ]
  },
  {
   "cell_type": "code",
   "execution_count": 7,
   "id": "cfb5f832-d5f0-4af1-9311-def0224a8241",
   "metadata": {},
   "outputs": [],
   "source": [
    "def duplicate_double_constant(single, xbTsize, tsize=0):\n",
    "    if tsize == 0:\n",
    "        double = np.zeros((xbTsize))\n",
    "        if single[0] == single[-1]:\n",
    "            if single[0] != 0:\n",
    "                double[:] = single[0] * 2\n",
    "            return double\n",
    "        else:\n",
    "            print (\"NOT A CONSTANT FIELD\")\n",
    "    else:\n",
    "        double = np.zeros((tsize, xbTsize))\n",
    "        if single[0, 0] == single[-1, -1]:\n",
    "            if single[0, 0] != 0:\n",
    "                double[:, :] = single[:, 0] * 2\n",
    "            return double\n",
    "        else:\n",
    "            print (\"NOT A CONSTANT FIELD\")"
   ]
  },
  {
   "cell_type": "code",
   "execution_count": 8,
   "id": "f56ca625-72df-413d-8826-6c60a90f0db0",
   "metadata": {},
   "outputs": [
    {
     "data": {
      "text/plain": [
       "(1, 60)"
      ]
     },
     "execution_count": 8,
     "metadata": {},
     "output_type": "execute_result"
    }
   ],
   "source": [
    "v1 = np.expand_dims(duplicate_copy(single['v1'][0, :], xbsize), axis=0)\n",
    "v1.shape"
   ]
  },
  {
   "cell_type": "code",
   "execution_count": 9,
   "id": "770b378f-b556-403b-ba3b-c9e5104ee7c8",
   "metadata": {},
   "outputs": [
    {
     "data": {
      "image/png": "[encoded data removed]",
      "text/plain": [
       "<Figure size 864x360 with 2 Axes>"
      ]
     },
     "metadata": {
      "needs_background": "light"
     },
     "output_type": "display_data"
    }
   ],
   "source": [
    "fig, axs = plt.subplots(1, 2, figsize=(12, 5))\n",
    "axs[0].plot(single['v1'][0, :])\n",
    "axs[1].plot(v1[0, :]);"
   ]
  },
  {
   "cell_type": "code",
   "execution_count": 10,
   "id": "b1b3415b-f97c-44e0-a673-06547c1ce27b",
   "metadata": {},
   "outputs": [
    {
     "data": {
      "text/plain": [
       "<class 'netCDF4._netCDF4.Variable'>\n",
       "int32 nbjdta(yb, xb)\n",
       "    long_name: j grid position\n",
       "    units: 1\n",
       "unlimited dimensions: \n",
       "current shape = (1, 30)\n",
       "filling on, default _FillValue of -2147483647 used"
      ]
     },
     "execution_count": 10,
     "metadata": {},
     "output_type": "execute_result"
    }
   ],
   "source": [
    "single['nbjdta']"
   ]
  },
  {
   "cell_type": "code",
   "execution_count": 11,
   "id": "d6f8d820-0c9c-42ef-a1a0-ab72f42365be",
   "metadata": {},
   "outputs": [
    {
     "data": {
      "text/plain": [
       "array([[1794., 1794., 1794., 1794., 1794., 1794., 1794., 1794., 1794.,\n",
       "        1794., 1794., 1794., 1794., 1794., 1794., 1794., 1794., 1794.,\n",
       "        1794., 1794., 1794., 1794., 1794., 1794., 1794., 1794., 1794.,\n",
       "        1794., 1794., 1794., 1794., 1794., 1794., 1794., 1794., 1794.,\n",
       "        1794., 1794., 1794., 1794., 1794., 1794., 1794., 1794., 1794.,\n",
       "        1794., 1794., 1794., 1794., 1794., 1794., 1794., 1794., 1794.,\n",
       "        1794., 1794., 1794., 1794., 1794., 1794.]])"
      ]
     },
     "execution_count": 11,
     "metadata": {},
     "output_type": "execute_result"
    }
   ],
   "source": [
    "nbjdta = np.expand_dims(duplicate_double_constant(single['nbjdta'][0, :], xbsize), axis=0)\n",
    "nbjdta"
   ]
  },
  {
   "cell_type": "code",
   "execution_count": 12,
   "id": "cb115087-bfc9-4930-87a5-0b24adcfb56f",
   "metadata": {},
   "outputs": [
    {
     "data": {
      "text/plain": [
       "<class 'netCDF4._netCDF4.Variable'>\n",
       "int32 nbidta(yb, xb)\n",
       "    long_name: i grid position\n",
       "    units: 1\n",
       "unlimited dimensions: \n",
       "current shape = (1, 30)\n",
       "filling on, default _FillValue of -2147483647 used"
      ]
     },
     "execution_count": 12,
     "metadata": {},
     "output_type": "execute_result"
    }
   ],
   "source": [
    "single['nbidta']"
   ]
  },
  {
   "cell_type": "code",
   "execution_count": 13,
   "id": "8525df59-06e7-4865-b6ec-1ade89564155",
   "metadata": {},
   "outputs": [
    {
     "data": {
      "text/plain": [
       "(1, 60)"
      ]
     },
     "execution_count": 13,
     "metadata": {},
     "output_type": "execute_result"
    }
   ],
   "source": [
    "nbidta = np.expand_dims(duplicate_index(single['nbidta'][0, :], xbsize), axis=0)\n",
    "nbidta.shape"
   ]
  },
  {
   "cell_type": "code",
   "execution_count": 14,
   "id": "cc3ff86b-bad6-4d7c-9a4f-8448312c9c4d",
   "metadata": {},
   "outputs": [
    {
     "data": {
      "text/plain": [
       "array([[ 64.,  65.,  66.,  67.,  68.,  69.,  70.,  71.,  72.,  73.,  74.,\n",
       "         75.,  76.,  77.,  78.,  79.,  80.,  81.,  82.,  83.,  84.,  85.,\n",
       "         86.,  87.,  88.,  89.,  90.,  91.,  92.,  93.,  94.,  95.,  96.,\n",
       "         97.,  98.,  99., 100., 101., 102., 103., 104., 105., 106., 107.,\n",
       "        108., 109., 110., 111., 112., 113., 114., 115., 116., 117., 118.,\n",
       "        119., 120., 121., 122., 123.]])"
      ]
     },
     "execution_count": 14,
     "metadata": {},
     "output_type": "execute_result"
    }
   ],
   "source": [
    "nbidta"
   ]
  },
  {
   "cell_type": "code",
   "execution_count": 15,
   "id": "a11ef776-75bb-4d83-a5f8-9ffb270fe9ce",
   "metadata": {},
   "outputs": [
    {
     "data": {
      "text/plain": [
       "masked_array(data=[[1, 1, 1, 1, 1, 1, 1, 1, 1, 1, 1, 1, 1, 1, 1, 1, 1, 1,\n",
       "                    1, 1, 1, 1, 1, 1, 1, 1, 1, 1, 1, 1]],\n",
       "             mask=False,\n",
       "       fill_value=999999,\n",
       "            dtype=int32)"
      ]
     },
     "execution_count": 15,
     "metadata": {},
     "output_type": "execute_result"
    }
   ],
   "source": [
    "single['nbrdta'][:]"
   ]
  },
  {
   "cell_type": "code",
   "execution_count": 16,
   "id": "188b7e9c-418e-4f8b-af0b-991ccca4c362",
   "metadata": {},
   "outputs": [
    {
     "data": {
      "text/plain": [
       "(1, 60)"
      ]
     },
     "execution_count": 16,
     "metadata": {},
     "output_type": "execute_result"
    }
   ],
   "source": [
    "nbrdta = np.expand_dims(duplicate_constant(single['nbrdta'][0, :], xbsize), axis=0)\n",
    "nbrdta.shape"
   ]
  },
  {
   "cell_type": "code",
   "execution_count": 28,
   "id": "8eeb0abf-be8c-4e5b-9773-3f80f12bff75",
   "metadata": {},
   "outputs": [],
   "source": [
    "def write_the_file(boundary, const, grid, var1, var2, xb, nbs, nbidta, nbjdta, nbrdta, v1, v2, xbsize, single):\n",
    " \n",
    "    filename = f'ncfiles/tides/SalishSea_double_{boundary}_tide_{const}_grid_{grid}.nc'\n",
    "  # Add some global attributes\n",
    "    ds_attrs = {\n",
    "    'acknowledgements':\n",
    "        'from Webtide + tuning',\n",
    "    'creator_email':\n",
    "        'sallen@eoas.ubc.ca',\n",
    "    'creator_name':\n",
    "        'Salish Sea MEOPAR Project Contributors',\n",
    "    'creator_url':\n",
    "        'https://salishsea-meopar-docs.readthedocs.org/',\n",
    "    'institution':\n",
    "        'UBC EOAS',\n",
    "    'institution_fullname': (\n",
    "        'Earth, Ocean & Atmospheric Sciences,'\n",
    "        ' University of British Columbia'\n",
    "    ),\n",
    "    'summary': (\n",
    "        'Tides file, doubled by copying from north: N36_AF, west: long'\n",
    "    ),\n",
    "    'source': (\n",
    "        'tools/double_resolution/tides.ipynb'\n",
    "    ),\n",
    "    'history': (\n",
    "        '[{}] File creation.'\n",
    "        .format(datetime.datetime.today().strftime('%Y-%m-%d'))\n",
    "    )\n",
    "    }  \n",
    "\n",
    "    da = {}\n",
    "    if nbs:\n",
    "        interpl = {\n",
    "            'nbidta': nbidta.astype(np.int32),\n",
    "            'nbjdta': nbjdta.astype(np.int32),\n",
    "            'nbrdta': nbrdta.astype(np.int32),\n",
    "            var1: v1,\n",
    "            var2: v2,\n",
    "        }\n",
    "    else:\n",
    "        interpl = {\n",
    "            var1: v1,\n",
    "            var2: v2,\n",
    "        }\n",
    "    for var in interpl.keys():\n",
    "    \n",
    "        dims = ('yb', 'xb')\n",
    "        coords = {'yb': np.array([1]).astype(np.int32), 'xb': xb.astype(np.int32)}\n",
    "     \n",
    "        if boundary == 'west':\n",
    "            attrs = single[var].attrs\n",
    "        else:\n",
    "            attrs = ''\n",
    "\n",
    "        da[var] = xr.DataArray(\n",
    "            data=interpl[var],\n",
    "            name=var,\n",
    "            dims=dims,\n",
    "            coords=coords,\n",
    "            attrs=attrs\n",
    "        )\n",
    "    ds = xr.Dataset(\n",
    "    data_vars=da,\n",
    "    coords=coords,\n",
    "    attrs=ds_attrs\n",
    "    )\n",
    "    encoding = {var: {'zlib': True} for var in ds.data_vars}\n",
    "    ds.to_netcdf(\n",
    "    path=filename,\n",
    "    encoding=encoding,\n",
    "    )"
   ]
  },
  {
   "cell_type": "code",
   "execution_count": 18,
   "id": "df1cf292-d4fa-42d4-8036-759781e37b45",
   "metadata": {},
   "outputs": [],
   "source": [
    "v2 = np.expand_dims(duplicate_copy(single['v2'][0, :], xbsize), axis=0)\n",
    "xb = duplicate_index(single['xb'][:], xbsize)"
   ]
  },
  {
   "cell_type": "code",
   "execution_count": 19,
   "id": "46f6d6dc-195b-46c6-b217-d9b422895b3d",
   "metadata": {},
   "outputs": [],
   "source": [
    "const = 'M2'\n",
    "grid = 'V'\n",
    "boundary = 'north'\n",
    "write_the_file(boundary, const, grid, 'v1', 'v2', xb, nbidta, nbjdta, nbrdta, v1, v2, xbsize, single)"
   ]
  },
  {
   "cell_type": "code",
   "execution_count": null,
   "id": "3a4a3a61-b4f7-48d9-b283-cfc50c70531d",
   "metadata": {},
   "outputs": [],
   "source": []
  },
  {
   "cell_type": "markdown",
   "id": "b09e38ab-62c1-4469-94ac-b3a7ad0cda52",
   "metadata": {},
   "source": [
    "## Now do the Looping over Boundary, Constituents, and grid "
   ]
  },
  {
   "cell_type": "code",
   "execution_count": 25,
   "id": "c95af07f-c43f-400d-8f4e-d1bff3879b32",
   "metadata": {},
   "outputs": [],
   "source": [
    "boundaries = ['west', 'north']\n",
    "fnames = ['west', 'North']\n",
    "consts = ['M2', 'S2', 'N2', 'K2', 'K1', 'O1', 'Q1', 'P1']\n",
    "grids = ['T', 'U', 'V']\n",
    "zvars = ['z', 'u', 'v']"
   ]
  },
  {
   "cell_type": "code",
   "execution_count": null,
   "id": "be2fc7ad-f7dc-4b28-829a-e00164c0861e",
   "metadata": {},
   "outputs": [],
   "source": []
  },
  {
   "cell_type": "code",
   "execution_count": 30,
   "id": "4f675f7b-ccb2-4434-9a77-a809660062eb",
   "metadata": {},
   "outputs": [
    {
     "name": "stdout",
     "output_type": "stream",
     "text": [
      "../../tides/west/SalishSea_N36_long_west_tide_M2_grid_T.nc\n",
      "../../tides/west/SalishSea_N36_long_west_tide_M2_grid_U.nc\n",
      "../../tides/west/SalishSea_N36_long_west_tide_M2_grid_V.nc\n",
      "../../tides/west/SalishSea_N36_long_west_tide_S2_grid_T.nc\n",
      "../../tides/west/SalishSea_N36_long_west_tide_S2_grid_U.nc\n",
      "../../tides/west/SalishSea_N36_long_west_tide_S2_grid_V.nc\n",
      "../../tides/west/SalishSea_N36_long_west_tide_N2_grid_T.nc\n",
      "../../tides/west/SalishSea_N36_long_west_tide_N2_grid_U.nc\n",
      "../../tides/west/SalishSea_N36_long_west_tide_N2_grid_V.nc\n",
      "../../tides/west/SalishSea_N36_long_west_tide_K2_grid_T.nc\n",
      "../../tides/west/SalishSea_N36_long_west_tide_K2_grid_U.nc\n",
      "../../tides/west/SalishSea_N36_long_west_tide_K2_grid_V.nc\n",
      "../../tides/west/SalishSea_N36_long_west_tide_K1_grid_T.nc\n",
      "../../tides/west/SalishSea_N36_long_west_tide_K1_grid_U.nc\n",
      "../../tides/west/SalishSea_N36_long_west_tide_K1_grid_V.nc\n",
      "../../tides/west/SalishSea_N36_long_west_tide_O1_grid_T.nc\n",
      "../../tides/west/SalishSea_N36_long_west_tide_O1_grid_U.nc\n",
      "../../tides/west/SalishSea_N36_long_west_tide_O1_grid_V.nc\n",
      "../../tides/west/SalishSea_N36_long_west_tide_Q1_grid_T.nc\n",
      "../../tides/west/SalishSea_N36_long_west_tide_Q1_grid_U.nc\n",
      "../../tides/west/SalishSea_N36_long_west_tide_Q1_grid_V.nc\n",
      "../../tides/west/SalishSea_N36_long_west_tide_P1_grid_T.nc\n",
      "../../tides/west/SalishSea_N36_long_west_tide_P1_grid_U.nc\n",
      "../../tides/west/SalishSea_N36_long_west_tide_P1_grid_V.nc\n",
      "../../tides/north/SalishSea_N36_AF_North_tide_M2_grid_T.nc\n",
      "../../tides/north/SalishSea_N36_AF_North_tide_M2_grid_U.nc\n",
      "../../tides/north/SalishSea_N36_AF_North_tide_M2_grid_V.nc\n",
      "../../tides/north/SalishSea_N36_AF_North_tide_S2_grid_T.nc\n",
      "../../tides/north/SalishSea_N36_AF_North_tide_S2_grid_U.nc\n",
      "../../tides/north/SalishSea_N36_AF_North_tide_S2_grid_V.nc\n",
      "../../tides/north/SalishSea_N36_AF_North_tide_N2_grid_T.nc\n",
      "../../tides/north/SalishSea_N36_AF_North_tide_N2_grid_U.nc\n",
      "../../tides/north/SalishSea_N36_AF_North_tide_N2_grid_V.nc\n",
      "../../tides/north/SalishSea_N36_AF_North_tide_K2_grid_T.nc\n",
      "../../tides/north/SalishSea_N36_AF_North_tide_K2_grid_U.nc\n",
      "../../tides/north/SalishSea_N36_AF_North_tide_K2_grid_V.nc\n",
      "../../tides/north/SalishSea_N36_AF_North_tide_K1_grid_T.nc\n",
      "../../tides/north/SalishSea_N36_AF_North_tide_K1_grid_U.nc\n",
      "../../tides/north/SalishSea_N36_AF_North_tide_K1_grid_V.nc\n",
      "../../tides/north/SalishSea_N36_AF_North_tide_O1_grid_T.nc\n",
      "../../tides/north/SalishSea_N36_AF_North_tide_O1_grid_U.nc\n",
      "../../tides/north/SalishSea_N36_AF_North_tide_O1_grid_V.nc\n",
      "../../tides/north/SalishSea_N36_AF_North_tide_Q1_grid_T.nc\n",
      "../../tides/north/SalishSea_N36_AF_North_tide_Q1_grid_U.nc\n",
      "../../tides/north/SalishSea_N36_AF_North_tide_Q1_grid_V.nc\n",
      "../../tides/north/SalishSea_N36_AF_North_tide_P1_grid_T.nc\n",
      "../../tides/north/SalishSea_N36_AF_North_tide_P1_grid_U.nc\n",
      "../../tides/north/SalishSea_N36_AF_North_tide_P1_grid_V.nc\n"
     ]
    }
   ],
   "source": [
    "for boundary, fname in zip(boundaries, fnames):\n",
    "    for const in consts:\n",
    "        for grid, zvar in zip(grids, zvars):\n",
    "            if boundary == 'west':\n",
    "                singlefile = f'../../tides/{boundary}/SalishSea_N36_long_{fname}_tide_{const}_grid_{grid}.nc'\n",
    "                single = xr.open_dataset(singlefile)\n",
    "            #    print (single)\n",
    "            else:\n",
    "                singlefile = f'../../tides/{boundary}/SalishSea_N36_AF_{fname}_tide_{const}_grid_{grid}.nc'\n",
    "                single = nc.Dataset(singlefile)\n",
    "            print (singlefile)\n",
    "            var1 = zvar + '1'\n",
    "            var2 = zvar + '2'\n",
    "    \n",
    "            xbsize = 2*single['xb'].shape[0]\n",
    "        \n",
    "            xb = duplicate_index(single['xb'][:], xbsize)\n",
    "            nbs = False\n",
    "            if boundary == 'north':\n",
    "                nbidta = np.expand_dims(duplicate_index(single['nbidta'][0, :], xbsize), axis=0)\n",
    "                nbjdta = np.expand_dims(duplicate_double_constant(single['nbjdta'][0, :], xbsize), axis=0)\n",
    "                nbrdta = np.expand_dims(duplicate_constant(single['nbrdta'][0, :], xbsize), axis=0)\n",
    "                nbs = True\n",
    "                \n",
    "            v1 = np.expand_dims(duplicate_copy(single[var1][0, :], xbsize), axis=0)\n",
    "            v2 = np.expand_dims(duplicate_copy(single[var2][0, :], xbsize), axis=0)\n",
    "            \n",
    "            write_the_file(boundary, const, grid, var1, var2, xb, nbs, nbidta, nbjdta, nbrdta, v1, v2, xbsize, single)\n",
    "            single.close()"
   ]
  },
  {
   "cell_type": "code",
   "execution_count": 31,
   "id": "c5d842dd-9db6-4483-922d-38cf693927de",
   "metadata": {},
   "outputs": [
    {
     "data": {
      "image/png": "[encoded data removed]",
      "text/plain": [
       "<Figure size 432x288 with 1 Axes>"
      ]
     },
     "metadata": {
      "needs_background": "light"
     },
     "output_type": "display_data"
    }
   ],
   "source": [
    "checkit = xr.open_dataset('ncfiles/tides/SalishSea_double_north_tide_K1_grid_V.nc')\n",
    "checkit.v1.plot();"
   ]
  },
  {
   "cell_type": "code",
   "execution_count": 32,
   "id": "17c41913-53ad-4d33-8fc5-b486e7e96d86",
   "metadata": {},
   "outputs": [],
   "source": [
    "checkit.close()"
   ]
  },
  {
   "cell_type": "code",
   "execution_count": 35,
   "id": "8265abc6-b3d2-40cd-b62d-203516b862f5",
   "metadata": {},
   "outputs": [
    {
     "name": "stdout",
     "output_type": "stream",
     "text": [
      "<xarray.Dataset>\n",
      "Dimensions:  (xb: 190, yb: 1)\n",
      "Coordinates:\n",
      "  * yb       (yb) int32 1\n",
      "  * xb       (xb) int32 752 753 754 755 756 757 758 ... 936 937 938 939 940 941\n",
      "Data variables:\n",
      "    v1       (yb, xb) float64 ...\n",
      "    v2       (yb, xb) float64 ...\n",
      "Attributes:\n",
      "    acknowledgements:      from Webtide + tuning\n",
      "    creator_email:         sallen@eoas.ubc.ca\n",
      "    creator_name:          Salish Sea MEOPAR Project Contributors\n",
      "    creator_url:           https://salishsea-meopar-docs.readthedocs.org/\n",
      "    institution:           UBC EOAS\n",
      "    institution_fullname:  Earth, Ocean & Atmospheric Sciences, University of...\n",
      "    summary:               Tides file, doubled by copying from north: N36_AF,...\n",
      "    source:                tools/double_resolution/tides.ipynb\n",
      "    history:               [2022-06-23] File creation.\n"
     ]
    },
    {
     "data": {
      "image/png": "[encoded data removed]",
      "text/plain": [
       "<Figure size 432x288 with 1 Axes>"
      ]
     },
     "metadata": {
      "needs_background": "light"
     },
     "output_type": "display_data"
    }
   ],
   "source": [
    "checkit = xr.open_dataset('ncfiles/tides/SalishSea_double_west_tide_K1_grid_V.nc')\n",
    "checkit.v1.plot();\n",
    "print (checkit)\n",
    "checkit.close();"
   ]
  },
  {
   "cell_type": "code",
   "execution_count": null,
   "id": "56867646-b565-4abc-b976-f4fe2a3267d4",
   "metadata": {},
   "outputs": [],
   "source": [
    "nc.Dataset('../../tides/north/SalishSea_N36_AF_North_tide_M2_grid_T.nc')"
   ]
  },
  {
   "cell_type": "code",
   "execution_count": null,
   "id": "9c1bf755-b242-46c5-9a86-3fee1bd84b53",
   "metadata": {},
   "outputs": [],
   "source": [
    "nc.Dataset('../../tides/west/SalishSea_N36_AF_west_tide_M2_grid_T.nc')"
   ]
  },
  {
   "cell_type": "code",
   "execution_count": null,
   "id": "815f0fca-7090-4bba-9eed-c406862fdccd",
   "metadata": {},
   "outputs": [],
   "source": []
  }
 ],
 "metadata": {
  "kernelspec": {
   "display_name": "py39",
   "language": "python",
   "name": "py39"
  },
  "language_info": {
   "codemirror_mode": {
    "name": "ipython",
    "version": 3
   },
   "file_extension": ".py",
   "mimetype": "text/x-python",
   "name": "python",
   "nbconvert_exporter": "python",
   "pygments_lexer": "ipython3",
   "version": "3.9.2"
  }
 },
 "nbformat": 4,
 "nbformat_minor": 5
}
