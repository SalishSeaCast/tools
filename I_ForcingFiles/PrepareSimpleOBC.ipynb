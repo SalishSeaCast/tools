{
 "metadata": {
  "name": ""
 },
 "nbformat": 3,
 "nbformat_minor": 0,
 "worksheets": [
  {
   "cells": [
    {
     "cell_type": "markdown",
     "metadata": {},
     "source": [
      "Notebook to prepare simple OBC files from Thomson, Mihaly & Kulikov, 2007 (JGR)"
     ]
    },
    {
     "cell_type": "code",
     "collapsed": false,
     "input": [
      "%matplotlib inline\n",
      "import matplotlib.pyplot as plt\n",
      "import numpy as np\n",
      "import netCDF4 as NC"
     ],
     "language": "python",
     "metadata": {},
     "outputs": [],
     "prompt_number": 1
    },
    {
     "cell_type": "markdown",
     "metadata": {},
     "source": [
      "For tracer fields, (T,S) use bathymetry file"
     ]
    },
    {
     "cell_type": "code",
     "collapsed": false,
     "input": [
      "fB = NC.Dataset('../../nemo-forcing/grid/bathy_meter_SalishSea.nc','r')\n",
      "D = fB.variables['Bathymetry'][:]\n",
      "lat = fB.variables['nav_lat'][:]\n",
      "print lat.shape\n",
      "lon = fB.variables['nav_lon'][:]"
     ],
     "language": "python",
     "metadata": {},
     "outputs": [
      {
       "output_type": "stream",
       "stream": "stdout",
       "text": [
        "(898, 398)\n"
       ]
      }
     ],
     "prompt_number": 2
    },
    {
     "cell_type": "markdown",
     "metadata": {},
     "source": [
      "For grid size (needed for eta), need the coordinates file"
     ]
    },
    {
     "cell_type": "code",
     "collapsed": false,
     "input": [
      "fC = NC.Dataset('../../nemo-forcing/grid/coordinates_seagrid_SalishSea.nc','r')\n",
      "e1t = fC.variables['e1t'][:]\n",
      "phi = fC.variables['gphit'][:]\n",
      "lam = fC.variables['glamt'][:]\n",
      "\n",
      "print phi[0,380,180],phi[0,390,180],lam[0,380,180],lam[0,390,180],e1t[0,385,180]"
     ],
     "language": "python",
     "metadata": {},
     "outputs": [
      {
       "output_type": "stream",
       "stream": "stdout",
       "text": [
        " 48.7035149264 48.7430159083 -123.728540061 -123.761934237 502.910912807\n"
       ]
      }
     ],
     "prompt_number": 29
    },
    {
     "cell_type": "markdown",
     "metadata": {},
     "source": [
      "For depth we need a results file, here I am using a JPP results file.  Should be okay as long as 40 levels, max depth 500."
     ]
    },
    {
     "cell_type": "code",
     "collapsed": false,
     "input": [
      "fT = NC.Dataset('../../Results/JPP/JPP_1h_20020102_20020104_grid_T.nc','r')\n",
      "depth_out = fT.variables['deptht']\n",
      "depths = depth_out[:]"
     ],
     "language": "python",
     "metadata": {},
     "outputs": [],
     "prompt_number": 3
    },
    {
     "cell_type": "markdown",
     "metadata": {},
     "source": [
      "Construct our temperature and salinity profiles from sketches:  \n",
      "Temperature: above 100 m, 8 degrees  \n",
      "below 100, decrease from 8 to 7.3 at 220 m  \n",
      "Salinity: above 150 m, surface 29.5, increase to 33.4  \n",
      "below 150, increase from 33.4 to 33.7 at 220"
     ]
    },
    {
     "cell_type": "code",
     "collapsed": false,
     "input": [
      "temp = np.zeros(depths.size)\n",
      "sal = np.zeros(depths.size)\n",
      "for id in range(0,depths.size):\n",
      "    if depths[id] < 100:\n",
      "        temp[id] = 8\n",
      "    elif depths[id] < 220:\n",
      "        temp[id] = 8 - (8-7.3)*(depths[id]-100.)/(220-100.)\n",
      "    else:\n",
      "        temp[id] = 7.3\n",
      "    if depths[id] < 150:\n",
      "        sal[id] = 29.5 + (33.4-29.5)*depths[id]/(150.)\n",
      "    elif depths[id] < 220:\n",
      "        sal[id] = 33.4 + (33.7-33.4)*(depths[id]-150.)/(220-150.)\n",
      "    else:\n",
      "        sal[id] = 33.7\n",
      "plt.subplot(1,2,1)\n",
      "plt.plot(sal,-depths,'o')\n",
      "plt.subplot(1,2,2)\n",
      "plt.plot(temp,-depths,'*r')"
     ],
     "language": "python",
     "metadata": {},
     "outputs": [
      {
       "metadata": {},
       "output_type": "pyout",
       "prompt_number": 34,
       "text": [
        "[<matplotlib.lines.Line2D at 0x106eaccd0>]"
       ]
      },
      {
       "metadata": {},
       "output_type": "display_data",
       "png": "[encoded data removed]",
       "text": [
        "<matplotlib.figure.Figure at 0x106860910>"
       ]
      }
     ],
     "prompt_number": 34
    },
    {
     "cell_type": "markdown",
     "metadata": {},
     "source": [
      "From Open Boundary where we carefully characterized the western boundary we know our startj and endj values (and these include 5 padding cells on each end)."
     ]
    },
    {
     "cell_type": "code",
     "collapsed": false,
     "input": [
      "startj = 384\n",
      "endj = 471\n",
      "lengthj = endj-startj"
     ],
     "language": "python",
     "metadata": {},
     "outputs": [],
     "prompt_number": 40
    },
    {
     "cell_type": "markdown",
     "metadata": {},
     "source": [
      "Make boundary 10 wide (to follow AMM12)"
     ]
    },
    {
     "cell_type": "code",
     "collapsed": false,
     "input": [
      "r = 10"
     ],
     "language": "python",
     "metadata": {},
     "outputs": [],
     "prompt_number": 41
    },
    {
     "cell_type": "markdown",
     "metadata": {},
     "source": [
      "Open and make our file"
     ]
    },
    {
     "cell_type": "code",
     "collapsed": false,
     "input": [
      "nemo = NC.Dataset('SalishSea_bdyT_tra.nc', 'w', format='NETCDF3_CLASSIC')\n",
      "nemo.description = 'Rough T & S data from Thomson et al, 2007'  \n",
      "\n",
      "# dimensions\n",
      "nemo.createDimension('xbT', lengthj*r)\n",
      "nemo.createDimension('yb', 1)\n",
      "nemo.createDimension('deptht',size = len(depth_out))\n",
      "nemo.createDimension('time_counter', None)\n",
      "\n",
      "# variables\n",
      "# deptht\n",
      "deptht = nemo.createVariable('deptht','float32',('deptht'))\n",
      "deptht.units = 'm'\n",
      "# time_counter\n",
      "time_counter = nemo.createVariable('time_counter', 'float32', ('time_counter'))\n",
      "time_counter.units = 'non-dim'\n",
      "time_counter.longname = 'time axis'\n",
      "time_counter.axis = 'T'\n",
      "# nav_lat and nav_lon\n",
      "nav_lat = nemo.createVariable('nav_lat','float32',('yb','xbT'))\n",
      "nav_lon = nemo.createVariable('nav_lon','float32',('yb','xbT'))\n",
      "# votemper\n",
      "votemper = nemo.createVariable('votemper', 'float32', \n",
      "                               ('time_counter','deptht','yb','xbT'))\n",
      "votemper.units = 'degrees Celcius'\n",
      "votemper.long_name = 'Temperature'   \n",
      "votemper.coordinates = 'nav_lon nav_lat deptht time_counter'\n",
      "votemper.grid = 'SalishSea'\n",
      "# vosaline\n",
      "vosaline = nemo.createVariable('vosaline', 'float32', \n",
      "                               ('time_counter','deptht','yb','xbT'))\n",
      "vosaline.units = 'non dim'\n",
      "vosaline.long_name = 'Practical Salinity'  \n",
      "vosaline.coordinates = 'nav_lon nav_lat deptht time_counter'\n",
      "vosaline.grid = 'SalishSea'\n",
      "# nbidta, ndjdta, ndrdta\n",
      "nbidta = nemo.createVariable('nbidta', 'int32' , ('yb','xbT'))\n",
      "nbidta.units = 'non dim'\n",
      "nbidta.longname = 'i grid position'\n",
      "nbjdta = nemo.createVariable('nbjdta', 'int32' , ('yb','xbT'))\n",
      "nbjdta.units = 'non dim'\n",
      "nbjdta.longname = 'j grid position'\n",
      "nbrdta = nemo.createVariable('nbrdta', 'int32' , ('yb','xbT'))\n",
      "nbrdta.units = 'non dim'\n",
      "nbrdta.longname = 'position from boundary'"
     ],
     "language": "python",
     "metadata": {},
     "outputs": [],
     "prompt_number": 37
    },
    {
     "cell_type": "code",
     "collapsed": false,
     "input": [
      "# values\n",
      "# depths, time counter\n",
      "deptht[:] = depths\n",
      "time_counter[0] = 1\n",
      "# nav_lat, nav_lon, nbidta, nbjdta\n",
      "for ir in range(0,r):\n",
      "    nav_lat[0,ir*lengthj:(ir+1)*lengthj] = lat[startj:endj,ir]\n",
      "    nav_lon[0,ir*lengthj:(ir+1)*lengthj] = lon[startj:endj,ir]\n",
      "    nbidta[0,ir*lengthj:(ir+1)*lengthj] = ir\n",
      "    nbjdta[0,ir*lengthj:(ir+1)*lengthj] = range(startj,endj)\n",
      "    nbrdta[0,ir*lengthj:(ir+1)*lengthj] = ir\n",
      "# votemper, vosaline\n",
      "print votemper.shape\n",
      "for ib in range(0,lengthj*r):\n",
      "    votemper[0,:,0,ib] = temp\n",
      "    vosaline[0,:,0,ib] = sal\n",
      "# and close\n",
      "nemo.close()"
     ],
     "language": "python",
     "metadata": {},
     "outputs": [
      {
       "output_type": "stream",
       "stream": "stdout",
       "text": [
        "(1, 40, 1, 870)\n"
       ]
      }
     ],
     "prompt_number": 38
    },
    {
     "cell_type": "markdown",
     "metadata": {},
     "source": [
      "Construct our velocities: according to Thomson et al 2007:  \n",
      "50 cm/s out, above 60+-15 m  \n",
      "25 cm/s in, between 60 and 125 m  \n",
      "10 cm/s in, below 125 m"
     ]
    },
    {
     "cell_type": "markdown",
     "metadata": {},
     "source": [
      "But now we have two angles to take into account.  The angle of the grid rotation (angle) and the real cross-strait direction.\n",
      "The border is at 292.5o/112.5o, so straight into the Strait is 112.5o (mostly east and a little south), 22.5o south.  But we\n",
      "turn the grid a further 29o"
     ]
    },
    {
     "cell_type": "code",
     "collapsed": false,
     "input": [
      "angle = 360.-0.5*(331+2./60+15./(60*60)+330+49/60.+11./(60*60)) \n",
      "totangle = angle+22.5\n",
      "print angle,totangle\n",
      "phi = np.pi*totangle/180.  # because its more useful in radians"
     ],
     "language": "python",
     "metadata": {},
     "outputs": [
      {
       "output_type": "stream",
       "stream": "stdout",
       "text": [
        "29.0713888889 51.5713888889\n"
       ]
      }
     ],
     "prompt_number": 11
    },
    {
     "cell_type": "code",
     "collapsed": false,
     "input": [
      "uvel = np.zeros(depths.size)\n",
      "vvel = np.zeros(depths.size)\n",
      "for id in range(0,depths.size):\n",
      "    if depths[id] < 60:\n",
      "        uvel[id] = -0.5*np.cos(phi)\n",
      "        vvel[id] = 0.5*np.sin(phi)\n",
      "    elif depths[id] < 125:\n",
      "        uvel[id] = 0.25*np.cos(phi)\n",
      "        vvel[id] = -0.25*np.sin(phi)\n",
      "    else:\n",
      "        uvel[id] = 0.10*np.cos(phi)\n",
      "        vvel[id] = -0.10*np.sin(phi)\n",
      "plt.subplot(1,2,1)\n",
      "plt.plot(uvel,-depths,'o')\n",
      "plt.subplot(1,2,2)\n",
      "plt.plot(vvel,-depths,'*r')"
     ],
     "language": "python",
     "metadata": {},
     "outputs": [
      {
       "metadata": {},
       "output_type": "pyout",
       "prompt_number": 12,
       "text": [
        "[<matplotlib.lines.Line2D at 0x4dfa3d0>]"
       ]
      },
      {
       "metadata": {},
       "output_type": "display_data",
       "png": "[encoded data removed]",
       "text": [
        "<matplotlib.figure.Figure at 0x3d82590>"
       ]
      }
     ],
     "prompt_number": 12
    },
    {
     "cell_type": "markdown",
     "metadata": {},
     "source": [
      "And the surface height: geostrophy says g deta/dx = fu. So deta = fu/g * dx across flow which is fu/g * dx * cos(angle)"
     ]
    },
    {
     "cell_type": "code",
     "collapsed": false,
     "input": [
      "f = 2*7.27e-5*np.sin(48.48*np.pi/180)\n",
      "fug = f*0.5/9.81*cos(angle*np.pi/180)"
     ],
     "language": "python",
     "metadata": {},
     "outputs": [],
     "prompt_number": 10
    },
    {
     "cell_type": "code",
     "collapsed": false,
     "input": [
      "midj = 0.5*(startj+endj-1)\n",
      "print midj"
     ],
     "language": "python",
     "metadata": {},
     "outputs": [
      {
       "output_type": "stream",
       "stream": "stdout",
       "text": [
        "427.0\n"
       ]
      }
     ],
     "prompt_number": 17
    },
    {
     "cell_type": "code",
     "collapsed": false,
     "input": [
      "eta = np.zeros(endj)\n",
      "eta[midj] = 0.\n",
      "for j in range(int(midj)+1,endj):\n",
      "    eta[j] = eta[j-1] + fug*e1t[0,j,0]\n",
      "for j in range(int(midj)-1,startj-1,-1):\n",
      "    eta[j] = eta[j+1] - fug*e1t[0,j,0]\n",
      "plt.plot(eta[startj:endj])"
     ],
     "language": "python",
     "metadata": {},
     "outputs": [
      {
       "metadata": {},
       "output_type": "pyout",
       "prompt_number": 38,
       "text": [
        "[<matplotlib.lines.Line2D at 0x6467e10>]"
       ]
      },
      {
       "metadata": {},
       "output_type": "display_data",
       "png": "[encoded data removed]",
       "text": [
        "<matplotlib.figure.Figure at 0x47dfc50>"
       ]
      }
     ],
     "prompt_number": 38
    },
    {
     "cell_type": "code",
     "collapsed": false,
     "input": [
      "nemo = NC.Dataset('SalishSea_bdyT_u2d.nc', 'w', format='NETCDF3_CLASSIC')\n",
      "nemo.description = 'Eta based on Rough Velocity data from Thomson et al, 2007'  \n",
      "\n",
      "# dimensions\n",
      "nemo.createDimension('xbT', lengthj*r)\n",
      "nemo.createDimension('yb', 1)\n",
      "nemo.createDimension('time_counter', None)\n",
      "\n",
      "# variables\n",
      "# time_counter\n",
      "time_counter = nemo.createVariable('time_counter', 'float32', ('time_counter'))\n",
      "time_counter.units = 'non-dim'\n",
      "time_counter.longname = 'time axis'\n",
      "time_counter.axis = 'T'\n",
      "# nav_lat and nav_lon\n",
      "nav_lat = nemo.createVariable('nav_lat','float32',('yb','xbT'))\n",
      "nav_lon = nemo.createVariable('nav_lon','float32',('yb','xbT'))\n",
      "# sossheig\n",
      "sossheig = nemo.createVariable('sossheig', 'float32', \n",
      "                               ('time_counter','yb','xbT'))\n",
      "sossheig.units = 'm'\n",
      "sossheig.long_name = 'Sea Surface Height'   \n",
      "sossheig.grid = 'SalishSea'\n",
      "# nbidta, ndjdta, ndrdta\n",
      "nbidta = nemo.createVariable('nbidta', 'int32' , ('yb','xbT'))\n",
      "nbidta.units = 'non dim'\n",
      "nbidta.longname = 'i grid position'\n",
      "nbjdta = nemo.createVariable('nbjdta', 'int32' , ('yb','xbT'))\n",
      "nbjdta.units = 'non dim'\n",
      "nbjdta.longname = 'j grid position'\n",
      "nbrdta = nemo.createVariable('nbrdta', 'int32' , ('yb','xbT'))\n",
      "nbrdta.units = 'non dim'\n",
      "nbrdta.longname = 'position from boundary'"
     ],
     "language": "python",
     "metadata": {},
     "outputs": [],
     "prompt_number": 50
    },
    {
     "cell_type": "code",
     "collapsed": false,
     "input": [
      "# values\n",
      "# time counter\n",
      "time_counter[0] = 1\n",
      "# nav_lat, nav_lon, nbidta, nbjdta, sossheig\n",
      "for ir in range(0,r):\n",
      "    nav_lat[0,ir*lengthj:(ir+1)*lengthj] = lat[startj:endj,ir]\n",
      "    nav_lon[0,ir*lengthj:(ir+1)*lengthj] = lon[startj:endj,ir]\n",
      "    nbidta[0,ir*lengthj:(ir+1)*lengthj] = ir\n",
      "    nbjdta[0,ir*lengthj:(ir+1)*lengthj] = range(startj,endj)\n",
      "    nbrdta[0,ir*lengthj:(ir+1)*lengthj] = ir\n",
      "    sossheig[0,0,ir*lengthj:(ir+1)*lengthj] = eta[startj:endj]\n",
      "\n",
      "\n",
      "plt.plot(sossheig[0,0])\n",
      "# and close\n",
      "nemo.close()"
     ],
     "language": "python",
     "metadata": {},
     "outputs": [
      {
       "metadata": {},
       "output_type": "display_data",
       "png": "[encoded data removed]",
       "text": [
        "<matplotlib.figure.Figure at 0x6488b10>"
       ]
      }
     ],
     "prompt_number": 52
    },
    {
     "cell_type": "code",
     "collapsed": false,
     "input": [
      "nemo = NC.Dataset('SalishSea_bdyU_u3d.nc', 'w')\n",
      "nemo.description = 'Rough U data from Thomson et al, 2007'  \n",
      "\n",
      "# dimensions\n",
      "nemo.createDimension('xbT', lengthj*r)\n",
      "nemo.createDimension('yb', 1)\n",
      "nemo.createDimension('deptht',size = len(depth_out))\n",
      "nemo.createDimension('time_counter', None)\n",
      "\n",
      "# variables\n",
      "# deptht\n",
      "deptht = nemo.createVariable('deptht','float32',('deptht'))\n",
      "deptht.units = 'm'\n",
      "# time_counter\n",
      "time_counter = nemo.createVariable('time_counter', 'float32', ('time_counter'))\n",
      "time_counter.units = 'non-dim'\n",
      "time_counter.longname = 'time axis'\n",
      "time_counter.axis = 'T'\n",
      "# vozocrtx\n",
      "vozocrtx = nemo.createVariable('vozocrtx', 'float32', \n",
      "                               ('time_counter','deptht','yb','xbT'))\n",
      "vozocrtx.units = 'm/s'\n",
      "vozocrtx.long_name = 'x-direction velocity'   \n",
      "vozocrtx.grid = 'SalishSea'\n",
      "# nbidta, ndjdta, ndrdta\n",
      "nbidta = nemo.createVariable('nbidta', 'int32' , ('yb','xbT'))\n",
      "nbidta.units = 'non dim'\n",
      "nbidta.longname = 'i grid position'\n",
      "nbjdta = nemo.createVariable('nbjdta', 'int32' , ('yb','xbT'))\n",
      "nbjdta.units = 'non dim'\n",
      "nbjdta.longname = 'j grid position'\n",
      "nbrdta = nemo.createVariable('nbrdta', 'int32' , ('yb','xbT'))\n",
      "nbrdta.units = 'non dim'\n",
      "nbrdta.longname = 'position from boundary'"
     ],
     "language": "python",
     "metadata": {},
     "outputs": [],
     "prompt_number": 53
    },
    {
     "cell_type": "code",
     "collapsed": false,
     "input": [
      "# values\n",
      "# depths, time counter\n",
      "deptht[:] = depths\n",
      "time_counter[0] = 1\n",
      "# nav_lat, nav_lon, nbidta, nbjdta\n",
      "for ir in range(0,r):\n",
      "    nbidta[0,ir*lengthj:(ir+1)*lengthj] = ir\n",
      "    nbjdta[0,ir*lengthj:(ir+1)*lengthj] = range(startj,endj)\n",
      "    nbrdta[0,ir*lengthj:(ir+1)*lengthj] = ir\n",
      "# vozocrtx\n",
      "print vozocrtx.shape\n",
      "for ib in range(0,lengthj*r):\n",
      "    vozocrtx[0,:,0,ib] = uvel\n",
      "# and close\n",
      "nemo.close()"
     ],
     "language": "python",
     "metadata": {},
     "outputs": [
      {
       "output_type": "stream",
       "stream": "stdout",
       "text": [
        "(1, 40, 1, 870)\n"
       ]
      }
     ],
     "prompt_number": 54
    },
    {
     "cell_type": "code",
     "collapsed": false,
     "input": [
      "nemo.close()"
     ],
     "language": "python",
     "metadata": {},
     "outputs": [],
     "prompt_number": 57
    },
    {
     "cell_type": "code",
     "collapsed": false,
     "input": [
      "nemo = NC.Dataset('SalishSea_bdyV_u3d.nc', 'w')\n",
      "nemo.description = 'Rough V data from Thomson et al, 2007'  \n",
      "\n",
      "# dimensions\n",
      "nemo.createDimension('xbT', lengthj*r)\n",
      "nemo.createDimension('yb', 1)\n",
      "nemo.createDimension('deptht',size = len(depth_out))\n",
      "nemo.createDimension('time_counter', None)\n",
      "\n",
      "# variables\n",
      "# deptht\n",
      "deptht = nemo.createVariable('deptht','float32',('deptht'))\n",
      "deptht.units = 'm'\n",
      "# time_counter\n",
      "time_counter = nemo.createVariable('time_counter', 'float32', ('time_counter'))\n",
      "time_counter.units = 'non-dim'\n",
      "time_counter.longname = 'time axis'\n",
      "time_counter.axis = 'T'\n",
      "# vozocrtx\n",
      "vomecrty = nemo.createVariable('vomecrty', 'float32', \n",
      "                               ('time_counter','deptht','yb','xbT'))\n",
      "vomecrty.units = 'm/s'\n",
      "vomecrty.long_name = 'y-direction velocity'   \n",
      "vomecrty.grid = 'SalishSea'\n",
      "# nbidta, ndjdta, ndrdta\n",
      "nbidta = nemo.createVariable('nbidta', 'int32' , ('yb','xbT'))\n",
      "nbidta.units = 'non dim'\n",
      "nbidta.longname = 'i grid position'\n",
      "nbjdta = nemo.createVariable('nbjdta', 'int32' , ('yb','xbT'))\n",
      "nbjdta.units = 'non dim'\n",
      "nbjdta.longname = 'j grid position'\n",
      "nbrdta = nemo.createVariable('nbrdta', 'int32' , ('yb','xbT'))\n",
      "nbrdta.units = 'non dim'\n",
      "nbrdta.longname = 'position from boundary'"
     ],
     "language": "python",
     "metadata": {},
     "outputs": [],
     "prompt_number": 58
    },
    {
     "cell_type": "code",
     "collapsed": false,
     "input": [
      "# values\n",
      "# depths, time counter\n",
      "deptht[:] = depths\n",
      "time_counter[0] = 1\n",
      "# nav_lat, nav_lon, nbidta, nbjdta\n",
      "for ir in range(0,r):\n",
      "    nbidta[0,ir*lengthj:(ir+1)*lengthj] = ir\n",
      "    nbjdta[0,ir*lengthj:(ir+1)*lengthj] = range(startj,endj)\n",
      "    nbrdta[0,ir*lengthj:(ir+1)*lengthj] = ir\n",
      "# vomecrty\n",
      "print vomecrty.shape\n",
      "for ib in range(0,lengthj*r):\n",
      "    vomecrty[0,:,0,ib] = vvel\n",
      "# and close\n",
      "nemo.close()"
     ],
     "language": "python",
     "metadata": {},
     "outputs": [
      {
       "output_type": "stream",
       "stream": "stdout",
       "text": [
        "(1, 40, 1, 870)\n"
       ]
      }
     ],
     "prompt_number": 60
    },
    {
     "cell_type": "code",
     "collapsed": false,
     "input": [],
     "language": "python",
     "metadata": {},
     "outputs": []
    }
   ],
   "metadata": {}
  }
 ]
}