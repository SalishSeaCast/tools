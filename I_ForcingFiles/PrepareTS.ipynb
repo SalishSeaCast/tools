{
 "metadata": {
  "name": ""
 },
 "nbformat": 3,
 "nbformat_minor": 0,
 "worksheets": [
  {
   "cells": [
    {
     "cell_type": "markdown",
     "metadata": {},
     "source": [
      "Notebook to prepare NEMO initial stratification files from a single T,S profile from September 2003 taken at S4-1."
     ]
    },
    {
     "cell_type": "code",
     "collapsed": false,
     "input": [
      "%matplotlib inline\n",
      "import matplotlib.pyplot as plt\n",
      "import numpy as np\n",
      "import netCDF4 as NC\n",
      "from scipy.interpolate import interp1d\n",
      "from salishsea_tools import nc_tools"
     ],
     "language": "python",
     "metadata": {},
     "outputs": [],
     "prompt_number": 1
    },
    {
     "cell_type": "code",
     "collapsed": false,
     "input": [
      "data = np.genfromtxt('../../nemo-forcing/initial_strat/sg0318006.cnv', skiprows=98)\n",
      "pressure = data[:,1]"
     ],
     "language": "python",
     "metadata": {},
     "outputs": [],
     "prompt_number": 2
    },
    {
     "cell_type": "markdown",
     "metadata": {},
     "source": [
      "The twelve columns in data are: scan, pressure, temperature, conductivity, chl fluoresence, light transmission, PAR, oxygen, salinity, sigma, number of bins used to average and a flag.\n",
      "\n",
      "Now we sort based on sigma (column 9, zero based) to get rid of any inversions and then put the pressure back in the correct order."
     ]
    },
    {
     "cell_type": "code",
     "collapsed": false,
     "input": [
      "sorted = data[data[:,9].argsort()]\n",
      "sorted[:,1] = pressure"
     ],
     "language": "python",
     "metadata": {},
     "outputs": [],
     "prompt_number": 3
    },
    {
     "cell_type": "markdown",
     "metadata": {},
     "source": [
      "Extract the other columns we are interested in"
     ]
    },
    {
     "cell_type": "code",
     "collapsed": false,
     "input": [
      "temp = sorted[:,2]\n",
      "sal = sorted[:,8]\n",
      "sigma = sorted[:,9]"
     ],
     "language": "python",
     "metadata": {},
     "outputs": [],
     "prompt_number": 4
    },
    {
     "cell_type": "markdown",
     "metadata": {},
     "source": [
      "Take a look at what we have done.  Changes in Sigma (vertical axis) as a function of depth (horizontal axis)"
     ]
    },
    {
     "cell_type": "code",
     "collapsed": false,
     "input": [
      "plt.plot(sigma-data[:,9])"
     ],
     "language": "python",
     "metadata": {},
     "outputs": [
      {
       "metadata": {},
       "output_type": "pyout",
       "prompt_number": 5,
       "text": [
        "[<matplotlib.lines.Line2D at 0x106096e10>]"
       ]
      },
      {
       "metadata": {},
       "output_type": "display_data",
       "png": "[encoded data removed]",
       "text": [
        "<matplotlib.figure.Figure at 0x102352b90>"
       ]
      }
     ],
     "prompt_number": 5
    },
    {
     "cell_type": "markdown",
     "metadata": {},
     "source": [
      "Now we open the bathymetry file to give us latitude/longitude etc to base our input file upon.  We could use the coordinates file, but its just more complicated."
     ]
    },
    {
     "cell_type": "code",
     "collapsed": false,
     "input": [
      "fB = NC.Dataset('../../nemo-forcing/grid/bathy_meter_SalishSea.nc','r')\n",
      "print fB.file_format\n",
      "depth = fB.variables['Bathymetry']\n",
      "lat = fB.variables['nav_lat']\n",
      "lon = fB.variables['nav_lon']\n",
      "BX = fB.dimensions['x']\n",
      "print len(BX)\n",
      "BY = fB.dimensions['y']"
     ],
     "language": "python",
     "metadata": {},
     "outputs": [
      {
       "output_type": "stream",
       "stream": "stdout",
       "text": [
        "NETCDF4\n",
        "398\n"
       ]
      }
     ],
     "prompt_number": 10
    },
    {
     "cell_type": "markdown",
     "metadata": {},
     "source": [
      "Open a data file to determine the depths"
     ]
    },
    {
     "cell_type": "code",
     "collapsed": false,
     "input": [
      "fT = NC.Dataset('../../NEMO-forcing/grid/deptht_428m.nc')\n",
      "nc_tools.show_dataset_attrs(fT)\n",
      "depth_out = fT.variables['deptht']\n",
      "depths = depth_out[:]"
     ],
     "language": "python",
     "metadata": {},
     "outputs": [
      {
       "output_type": "stream",
       "stream": "stdout",
       "text": [
        "file format: NETCDF3_64BIT\n",
        "Conventions: CF-1.1\n",
        "production: An IPSL model\n",
        "TimeStamp: 01/12/2013 18:37:46 -0800\n",
        "file_name: SalishSea_1h_20020915_20020915_grid_T.nc\n",
        "history: Mon Dec  2 09:48:26 2013: ncks -O -v deptht SalishSea_1h_20020915_20020915_grid_T.nc deptht_428m.nc\n",
        "NCO: 4.0.9\n"
       ]
      }
     ],
     "prompt_number": 6
    },
    {
     "cell_type": "markdown",
     "metadata": {},
     "source": [
      "Interpolate Salinity and Temperature onto our Depths, not that below the maximum depth of the profile, it puts the maximum depth salinity and temperature.  If you call it for depths above 1m, it will do the same.  Don't do that!!!"
     ]
    },
    {
     "cell_type": "code",
     "collapsed": false,
     "input": [
      "print sal[-1]\n",
      "salinity_function = interp1d(pressure, sal, bounds_error=False, fill_value=sal[-1])\n",
      "temperature_function = interp1d(pressure, temp, bounds_error=False, fill_value=temp[-1])"
     ],
     "language": "python",
     "metadata": {},
     "outputs": [
      {
       "output_type": "stream",
       "stream": "stdout",
       "text": [
        "31.3702\n"
       ]
      }
     ],
     "prompt_number": 7
    },
    {
     "cell_type": "markdown",
     "metadata": {},
     "source": [
      "Set up our new NetCDF file (salinity first)"
     ]
    },
    {
     "cell_type": "code",
     "collapsed": false,
     "input": [
      "nemo = NC.Dataset('SS_SoG0318_1y_salinity_nomask.nc', 'w', zlib=True)\n",
      "# dataset attributes\n",
      "nc_tools.init_dataset_attrs(\n",
      "    nemo, \n",
      "    title='Salinity Initial Condition', \n",
      "    notebook_name='PrepareTS', \n",
      "    nc_filepath='../../NEMO-forcing/initial_strat/SS_SoG0318_1y_salinity_nomask.nc',\n",
      "    comment='Salinity from S4-1 September 2003, STRATOGEM Cruise 03-18; used at all grid points')"
     ],
     "language": "python",
     "metadata": {},
     "outputs": [
      {
       "output_type": "stream",
       "stream": "stdout",
       "text": [
        "file format: NETCDF4\n",
        "Conventions: CF-1.6\n",
        "title: Salinity Initial Condition\n",
        "institution: Dept of Earth, Ocean & Atmospheric Sciences, University of British Columbia\n",
        "source: https://bitbucket.org/salishsea/tools/src/tip/I_ForcingFiles/PrepareTS.ipynb\n",
        "references: https://bitbucket.org/salishsea/nemo-forcing/src/tip/initial_strat/SS_SoG0318_1y_salinity_nomask.nc\n",
        "history: [2013-12-02 14:02:13] Created netCDF4 zlib=True dataset.\n",
        "comment: Salinity from S4-1 September 2003, STRATOGEM Cruise 03-18; used at all grid points\n"
       ]
      }
     ],
     "prompt_number": 25
    },
    {
     "cell_type": "markdown",
     "metadata": {},
     "source": [
      "Set up our dimensions.  x and y match the bathymetry field, deptht and time counter is just 1"
     ]
    },
    {
     "cell_type": "code",
     "collapsed": false,
     "input": [
      "nemo.createDimension('x',len(BX))\n",
      "nemo.createDimension('y',len(BY))\n",
      "nemo.createDimension('deptht',size = len(depth_out))\n",
      "nemo.createDimension('time_counter', None)"
     ],
     "language": "python",
     "metadata": {},
     "outputs": [
      {
       "metadata": {},
       "output_type": "pyout",
       "prompt_number": 26,
       "text": [
        "<netCDF4.Dimension at 0x1060e4140>"
       ]
      }
     ],
     "prompt_number": 26
    },
    {
     "cell_type": "markdown",
     "metadata": {},
     "source": [
      "Set up all our variables.  Just copy latitude and longitude info."
     ]
    },
    {
     "cell_type": "code",
     "collapsed": false,
     "input": [
      "# variables\n",
      "nav_lat = nemo.createVariable('nav_lat', 'float32', ('y','x'))\n",
      "nav_lat.long_name = 'Latitude'\n",
      "nav_lat.units = 'degrees_north'\n",
      "nav_lat = lat\n",
      "nav_lon = nemo.createVariable('nav_lon', 'float32', ('y','x'))\n",
      "nav_lon.long_name = 'Longitude'\n",
      "nav_lon.units = 'degrees_east'\n",
      "nav_lon = lon\n",
      "deptht = nemo.createVariable('deptht', 'float32', ('deptht'))\n",
      "deptht.long_name = 'Vertical T Levels'\n",
      "deptht.units = 'm'\n",
      "deptht.positive = 'down'\n",
      "deptht.valid_range = np.array((4., 428.))\n",
      "deptht = depth_out\n",
      "time_counter = nemo.createVariable('time_counter', 'float32', ('time_counter'))\n",
      "time_counter.units = 'seconds since 2003-09-10 12:27:00'\n",
      "time_counter.long_name = 'Time axis'\n",
      "time_counter.calendar = 'noleap'\n",
      "vosaline = nemo.createVariable('vosaline', 'float32', \n",
      "                               ('time_counter','deptht','y','x'))\n",
      "vosaline.units = 1\n",
      "vosaline.long_name = 'Practical Salinity'  \n",
      "vosaline.coordinates = 'nav_lon nav_lat deptht time_counter'\n",
      "vosaline.grid = 'SalishSea'"
     ],
     "language": "python",
     "metadata": {},
     "outputs": [],
     "prompt_number": 27
    },
    {
     "cell_type": "markdown",
     "metadata": {},
     "source": [
      "Assign time and salinity values:"
     ]
    },
    {
     "cell_type": "code",
     "collapsed": false,
     "input": [
      "time_counter[0] = 1\n",
      " \n",
      "vosaline[0,0,:,:] = sal[0]\n",
      "for id in range(1,len(deptht)):\n",
      "    vosaline[0,id,:,:] = salinity_function(deptht[id])\n",
      "print vosaline[0,:,15,20]"
     ],
     "language": "python",
     "metadata": {},
     "outputs": [
      {
       "output_type": "stream",
       "stream": "stdout",
       "text": [
        "[ 28.47369957  28.47464943  28.4857502   28.50645065  28.54820442\n",
        "  28.73979759  29.03133202  29.20114899  29.25694275  29.28475189\n",
        "  29.31306648  29.34038162  29.35538864  29.36088181  29.36966324\n",
        "  29.38348389  29.39000702  29.39529991  29.39650726  29.44358444\n",
        "  29.47799492  29.53797722  29.68638992  29.77496529  29.98529053\n",
        "  30.21170235  30.58393097  30.74954033  30.85310936  30.94215393\n",
        "  31.01380157  31.05599976  31.09970665  31.12220764  31.17403793\n",
        "  31.23764992  31.29393768  31.35686111  31.3701992   31.3701992 ]\n"
       ]
      }
     ],
     "prompt_number": 28
    },
    {
     "cell_type": "code",
     "collapsed": false,
     "input": [
      "nemo.history = \"\"\"\n",
      "[2013-10-31 17:45:55] Created.\n",
      "[2013-12-02 14:02:00] Changed to 428m max depth.\n",
      "[2013-12-02 14:02:00] Updated to CF-1.6 conventions and netCDF4 with zlib compression.\n",
      "\"\"\""
     ],
     "language": "python",
     "metadata": {},
     "outputs": [],
     "prompt_number": 29
    },
    {
     "cell_type": "code",
     "collapsed": false,
     "input": [
      "nc_tools.check_dataset_attrs(nemo)"
     ],
     "language": "python",
     "metadata": {},
     "outputs": [],
     "prompt_number": 30
    },
    {
     "cell_type": "code",
     "collapsed": false,
     "input": [
      "nemo.close()"
     ],
     "language": "python",
     "metadata": {},
     "outputs": [],
     "prompt_number": 31
    },
    {
     "cell_type": "markdown",
     "metadata": {},
     "source": [
      "And do it all again for Temperature"
     ]
    },
    {
     "cell_type": "code",
     "collapsed": false,
     "input": [
      "nemo = NC.Dataset('SS_SoG0318_1y_temperature_nomask.nc', 'w', zlib=True)\n",
      "# dataset attributes\n",
      "nc_tools.init_dataset_attrs(\n",
      "    nemo, \n",
      "    title='Temperature Initial Condition', \n",
      "    notebook_name='PrepareTS', \n",
      "    nc_filepath='../../NEMO-forcing/initial_strat/SS_SoG0318_1y_temperature_nomask.nc',\n",
      "    comment='Temperature from S4-1 September 2003, STRATOGEM Cruise 03-18; used at all grid points')\n",
      "# dimensions\n",
      "nemo.createDimension('x',len(BX))\n",
      "nemo.createDimension('y',len(BY))\n",
      "nemo.createDimension('deptht',size = len(depth_out))\n",
      "nemo.createDimension('time_counter', None)\n",
      "# variables\n",
      "nav_lat = nemo.createVariable('nav_lat', 'float32', ('y','x'))\n",
      "nav_lat.long_name = 'Latitude'\n",
      "nav_lat.units = 'degrees_north'\n",
      "nav_lat = lat\n",
      "nav_lon = nemo.createVariable('nav_lon', 'float32', ('y','x'))\n",
      "nav_lon.long_name = 'Longitude'\n",
      "nav_lon.units = 'degrees_east'\n",
      "nav_lon = lon\n",
      "deptht = nemo.createVariable('deptht', 'float32', ('deptht'))\n",
      "deptht.long_name = 'Vertical T Levels'\n",
      "deptht.units = 'm'\n",
      "deptht.positive = 'down'\n",
      "deptht.valid_range = np.array((4., 428.))\n",
      "deptht = depth_out\n",
      "time_counter = nemo.createVariable('time_counter', 'float32', ('time_counter'))\n",
      "time_counter.units = 'seconds since 2003-09-10 12:27:00'\n",
      "time_counter.long_name = 'Time axis'\n",
      "time_counter.calendar = 'noleap' \n",
      "time_counter[0] = 1\n",
      "votemper = nemo.createVariable('votemper', 'float32', \n",
      "                               ('time_counter','deptht','y','x'))\n",
      "votemper.units = 'degC'\n",
      "votemper.long_name = 'Temperature'  "
     ],
     "language": "python",
     "metadata": {},
     "outputs": [
      {
       "output_type": "stream",
       "stream": "stdout",
       "text": [
        "file format: NETCDF4\n",
        "Conventions: CF-1.6\n",
        "title: Temperature Initial Condition\n",
        "institution: Dept of Earth, Ocean & Atmospheric Sciences, University of British Columbia\n",
        "source: https://bitbucket.org/salishsea/tools/src/tip/I_ForcingFiles/PrepareTS.ipynb\n",
        "references: https://bitbucket.org/salishsea/nemo-forcing/src/tip/initial_strat/SS_SoG0318_1y_temperature_nomask.nc\n",
        "history: [2013-12-02 14:04:29] Created netCDF4 zlib=True dataset.\n",
        "comment: Temperature from S4-1 September 2003, STRATOGEM Cruise 03-18; used at all grid points\n"
       ]
      }
     ],
     "prompt_number": 34
    },
    {
     "cell_type": "markdown",
     "metadata": {},
     "source": [
      "Assign temperature values:"
     ]
    },
    {
     "cell_type": "code",
     "collapsed": false,
     "input": [
      "votemper[0,0,:,:] = temp[0]\n",
      "for id in range(1,len(deptht)):\n",
      "    votemper[0,id,:,:] = temperature_function(deptht[id])\n",
      "print votemper[0,:,15,20]"
     ],
     "language": "python",
     "metadata": {},
     "outputs": [
      {
       "output_type": "stream",
       "stream": "stdout",
       "text": [
        "[ 14.04310036  14.04074955  14.00984955  13.94554806  13.80773544\n",
        "  13.16073608  12.15436363  11.5372057   11.31503582  11.19921017\n",
        "  11.08286476  10.98369312  10.9316988   10.90688896  10.86747456\n",
        "  10.81823158  10.7899332   10.68832302  10.5691185   10.45423412\n",
        "  10.31723785   9.91960526   9.94678497   9.67330265   9.44548798\n",
        "   9.44641876   9.78447723   9.8582325    9.81627083   9.62160778\n",
        "   9.54338932   9.41520977   9.41339302   9.30292892   9.38290977\n",
        "   9.45765018   9.46421432   9.45713997   9.45899963   9.45899963]\n"
       ]
      }
     ],
     "prompt_number": 35
    },
    {
     "cell_type": "code",
     "collapsed": false,
     "input": [
      "nemo.history = \"\"\"\n",
      "[2013-10-31 17:45:55] Created.\n",
      "[2013-12-02 14:04:00] Changed to 428m max depth.\n",
      "[2013-12-02 14:04:00] Updated to CF-1.6 conventions and netCDF4 with zlib compression.\n",
      "\"\"\""
     ],
     "language": "python",
     "metadata": {},
     "outputs": [],
     "prompt_number": 36
    },
    {
     "cell_type": "code",
     "collapsed": false,
     "input": [
      "nc_tools.check_dataset_attrs(nemo)"
     ],
     "language": "python",
     "metadata": {},
     "outputs": [],
     "prompt_number": 37
    },
    {
     "cell_type": "code",
     "collapsed": false,
     "input": [
      "nemo.close()"
     ],
     "language": "python",
     "metadata": {},
     "outputs": [],
     "prompt_number": 38
    },
    {
     "cell_type": "code",
     "collapsed": false,
     "input": [],
     "language": "python",
     "metadata": {},
     "outputs": []
    }
   ],
   "metadata": {}
  }
 ]
}