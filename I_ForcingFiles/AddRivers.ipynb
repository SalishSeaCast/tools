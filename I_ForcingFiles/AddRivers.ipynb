{
 "metadata": {
  "name": ""
 },
 "nbformat": 3,
 "nbformat_minor": 0,
 "worksheets": [
  {
   "cells": [
    {
     "cell_type": "markdown",
     "metadata": {},
     "source": [
      "**Notebook to prepare Rivers Input file for the Large Salish Sea Domain**\n",
      "\n",
      "*Usual Imports*"
     ]
    },
    {
     "cell_type": "code",
     "collapsed": false,
     "input": [
      "%matplotlib inline\n",
      "import matplotlib.pyplot as plt\n",
      "import numpy as np\n",
      "import netCDF4 as NC"
     ],
     "language": "python",
     "metadata": {},
     "outputs": [],
     "prompt_number": 99
    },
    {
     "cell_type": "markdown",
     "metadata": {},
     "source": [
      "Get the cool bathymetry plotting tools"
     ]
    },
    {
     "cell_type": "code",
     "collapsed": false,
     "input": [
      "import sys\n",
      "sys.path.append('../bathymetry')\n",
      "import bathy_tools"
     ],
     "language": "python",
     "metadata": {},
     "outputs": [],
     "prompt_number": 100
    },
    {
     "cell_type": "markdown",
     "metadata": {},
     "source": [
      "Open the bathymetry and coordinate files, working on the T-grid get lat/lon and size of the grid cells (e1t and e2t)"
     ]
    },
    {
     "cell_type": "code",
     "collapsed": false,
     "input": [
      "fB = NC.Dataset('../../nemo-forcing/grid/bathy_meter_SalishSea.nc','r')\n",
      "fC = NC.Dataset('../../nemo-forcing/grid/coordinates_seagrid_SalishSea.nc','r')\n",
      "D = fB.variables['Bathymetry'][:]\n",
      "ymax, xmax = D.shape\n",
      "lat = fB.variables['nav_lat']\n",
      "lon = fB.variables['nav_lon']\n",
      "print fC.variables.keys()\n",
      "gphit = fC.variables['gphit']\n",
      "glamt = fC.variables['glamt']\n",
      "e1t = fC.variables['e1t']\n",
      "e2t = fC.variables['e2t']\n",
      "print gphit[0,414:418,334]\n",
      "print glamt[0,414:418,334]\n",
      "print e1t[0,414:417,334]\n",
      "print e2t[0,414:417,334]"
     ],
     "language": "python",
     "metadata": {},
     "outputs": [
      {
       "output_type": "stream",
       "stream": "stdout",
       "text": [
        "[u'nav_lon', u'nav_lat', u'time', u'time_steps', u'glamt', u'glamu', u'glamv', u'glamf', u'gphit', u'gphiu', u'gphiv', u'gphif', u'e1t', u'e1u', u'e1v', u'e1f', u'e2t', u'e2u', u'e2v', u'e2f']\n",
        "[ 49.13004216  49.13396599  49.13788957  49.14181288]\n",
        "[-123.04199069 -123.04535223 -123.04871379 -123.05207535]\n",
        "[ 500.18409374  500.14953251  500.11494186]\n",
        "[ 432.39715269  432.35324343  432.30929844]\n"
       ]
      }
     ],
     "prompt_number": 101
    },
    {
     "cell_type": "markdown",
     "metadata": {},
     "source": [
      "Set up arrays"
     ]
    },
    {
     "cell_type": "code",
     "collapsed": false,
     "input": [
      "runoff = np.zeros((ymax,xmax))\n",
      "run_depth = -np.ones((ymax,xmax))\n",
      "print run_depth[50:52,50:54]"
     ],
     "language": "python",
     "metadata": {},
     "outputs": [
      {
       "output_type": "stream",
       "stream": "stdout",
       "text": [
        "[[-1. -1. -1. -1.]\n",
        " [-1. -1. -1. -1.]]\n"
       ]
      }
     ],
     "prompt_number": 105
    },
    {
     "cell_type": "markdown",
     "metadata": {},
     "source": [
      "**Fraser, South Arm**"
     ]
    },
    {
     "cell_type": "markdown",
     "metadata": {},
     "source": [
      "Plot the mouth of the South Arm"
     ]
    },
    {
     "cell_type": "code",
     "collapsed": false,
     "input": [
      "#fig = bathy_tools.plot_colourmesh_zoom(\n",
      "#    fB, (325,415), half_width=15)"
     ],
     "language": "python",
     "metadata": {},
     "outputs": [],
     "prompt_number": 73
    },
    {
     "cell_type": "code",
     "collapsed": false,
     "input": [
      "#fig = bathy_tools.plot_colourmesh_zoom(\n",
      "#    fB, (332,415))"
     ],
     "language": "python",
     "metadata": {},
     "outputs": [],
     "prompt_number": 74
    },
    {
     "cell_type": "markdown",
     "metadata": {},
     "source": [
      "Flow Calculations"
     ]
    },
    {
     "cell_type": "code",
     "collapsed": false,
     "input": [
      "# cells based on map are i=414,415,416 and j=334\n",
      "istart = 414\n",
      "di = 3\n",
      "jstart = 334\n",
      "dj = 1\n",
      "# Assumed river flow (m3/s): this is 70% of the Fraser yearly average flow from Morrison spreadsheet\n",
      "Flux = 2484.7\n",
      "# depth of influx\n",
      "depth_of_flux = 3.\n",
      "number_cells = di*dj\n",
      "area = number_cells*e1t[0,istart,jstart]*e2t[0,istart,jstart]\n",
      "w = Flux/area * 1000.\n",
      "print w\n",
      "runoff[istart:istart+di,jstart:jstart+dj] = w\n",
      "print run_depth.shape\n",
      "run_depth[istart:istart+di,jstart:jstart+dj] = depth_of_flux"
     ],
     "language": "python",
     "metadata": {},
     "outputs": [
      {
       "output_type": "stream",
       "stream": "stdout",
       "text": [
        "3.82948174042\n",
        "(898, 398)\n"
       ]
      }
     ],
     "prompt_number": 106
    },
    {
     "cell_type": "markdown",
     "metadata": {},
     "source": [
      "**Howe Sound**"
     ]
    },
    {
     "cell_type": "code",
     "collapsed": false,
     "input": [
      "#fig = bathy_tools.plot_colourmesh_zoom(\n",
      "#    fB, (385,530), half_width=5)"
     ],
     "language": "python",
     "metadata": {},
     "outputs": [],
     "prompt_number": 97
    },
    {
     "cell_type": "code",
     "collapsed": false,
     "input": [
      "# cells based on map are i = 532 and j=385 and j=386\n",
      "istart = 532\n",
      "di = 1\n",
      "jstart = 385\n",
      "dj = 2\n",
      "# Assumed river flow (m3/s): this is the yearly average flow based on Morrison spreadsheet\n",
      "Flux = 571.1\n",
      "# depth of influx\n",
      "depth_of_flux = 3.\n",
      "number_cells = di*dj\n",
      "area = number_cells*e1t[0,istart,jstart]*e2t[0,istart,jstart]\n",
      "w = Flux/area * 1000.\n",
      "print w\n",
      "runoff[istart:istart+di,jstart:jstart+dj] = w\n",
      "run_depth[istart:istart+di,jstart:jstart+dj] = depth_of_flux"
     ],
     "language": "python",
     "metadata": {},
     "outputs": [
      {
       "output_type": "stream",
       "stream": "stdout",
       "text": [
        "1.35400310472\n"
       ]
      }
     ],
     "prompt_number": 107
    },
    {
     "cell_type": "markdown",
     "metadata": {},
     "source": [
      "Create the File"
     ]
    },
    {
     "cell_type": "code",
     "collapsed": false,
     "input": [
      "nemo = NC.Dataset('rivers_Fraserplus_cnst.nc', 'w', format='NETCDF3_CLASSIC')\n",
      "nemo.description = 'Constant Yearly Average, South arm of Fraser, Squamish' \n",
      "\n",
      "# dimensions\n",
      "nemo.createDimension('x', xmax)\n",
      "nemo.createDimension('y', ymax)\n",
      "nemo.createDimension('time_counter', None)\n",
      "\n",
      "# variables\n",
      "# latitude and longitude\n",
      "nav_lat = nemo.createVariable('nav_lat','float32',('y','x'))\n",
      "nav_lat = lat\n",
      "x = nemo.createVariable('nav_lon','float32',('y','x'))\n",
      "nav_lon = lon\n",
      "# time\n",
      "time_counter = nemo.createVariable('time_counter', 'float32', ('time_counter'))\n",
      "time_counter.units = 'non-dim'\n",
      "time_counter[0] = 1\n",
      "# runoff\n",
      "rorunoff = nemo.createVariable('rorunoff', 'float32', ('time_counter','y','x'))\n",
      "rorunoff._Fillvalue = 0.\n",
      "rorunoff._missing_value = 0.\n",
      "rorunoff._units = 'kg m-2 s-1'\n",
      "rorunoff[0,:] = runoff\n",
      "# depth\n",
      "rodepth = nemo.createVariable('rodepth','float32',('y','x'))\n",
      "rodepth._Fillvalue = -1.\n",
      "rodepth.missing_value = -1.\n",
      "rodepth.units = 'm'\n",
      "rodepth[:] = run_depth\n",
      "nemo.close()"
     ],
     "language": "python",
     "metadata": {},
     "outputs": [],
     "prompt_number": 108
    },
    {
     "cell_type": "code",
     "collapsed": false,
     "input": [],
     "language": "python",
     "metadata": {},
     "outputs": []
    }
   ],
   "metadata": {}
  }
 ]
}