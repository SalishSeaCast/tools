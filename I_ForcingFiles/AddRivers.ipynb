{
 "metadata": {
  "name": ""
 },
 "nbformat": 3,
 "nbformat_minor": 0,
 "worksheets": [
  {
   "cells": [
    {
     "cell_type": "markdown",
     "metadata": {},
     "source": [
      "**Notebook to prepare Rivers Input file for the Large Salish Sea Domain**\n",
      "\n",
      "*Usual Imports*"
     ]
    },
    {
     "cell_type": "code",
     "collapsed": false,
     "input": [
      "%matplotlib inline\n",
      "import matplotlib.pyplot as plt\n",
      "import numpy as np\n",
      "import netCDF4 as NC"
     ],
     "language": "python",
     "metadata": {},
     "outputs": [],
     "prompt_number": 2
    },
    {
     "cell_type": "markdown",
     "metadata": {},
     "source": [
      "Get the cool bathymetry plotting tools"
     ]
    },
    {
     "cell_type": "code",
     "collapsed": false,
     "input": [
      "import sys\n",
      "sys.path.append('../bathymetry')\n",
      "import bathy_tools"
     ],
     "language": "python",
     "metadata": {},
     "outputs": [],
     "prompt_number": 3
    },
    {
     "cell_type": "markdown",
     "metadata": {},
     "source": [
      "Open the bathymetry and coordinate files, working on the T-grid get lat/lon and size of the grid cells (e1t and e2t)"
     ]
    },
    {
     "cell_type": "code",
     "collapsed": false,
     "input": [
      "fB = NC.Dataset('../../nemo-forcing/grid/bathy_meter_SalishSea.nc','r')\n",
      "fC = NC.Dataset('../../nemo-forcing/grid/coordinates_seagrid_SalishSea.nc','r')\n",
      "D = fB.variables['Bathymetry'][:]\n",
      "ymax, xmax = D.shape\n",
      "lat = fB.variables['nav_lat']\n",
      "lon = fB.variables['nav_lon']\n",
      "print fC.variables.keys()\n",
      "gphit = fC.variables['gphit']\n",
      "glamt = fC.variables['glamt']\n",
      "e1t = fC.variables['e1t']\n",
      "e2t = fC.variables['e2t']\n",
      "print gphit[0,414:418,334]\n",
      "print glamt[0,414:418,334]\n",
      "print e1t[0,414:417,334]\n",
      "print e2t[0,414:417,334]"
     ],
     "language": "python",
     "metadata": {},
     "outputs": [
      {
       "output_type": "stream",
       "stream": "stdout",
       "text": [
        "[u'nav_lon', u'nav_lat', u'time', u'time_steps', u'glamt', u'glamu', u'glamv', u'glamf', u'gphit', u'gphiu', u'gphiv', u'gphif', u'e1t', u'e1u', u'e1v', u'e1f', u'e2t', u'e2u', u'e2v', u'e2f']\n",
        "[ 49.13004216  49.13396599  49.13788957  49.14181288]\n",
        "[-123.04199069 -123.04535223 -123.04871379 -123.05207535]"
       ]
      },
      {
       "output_type": "stream",
       "stream": "stdout",
       "text": [
        "\n",
        "[ 500.18409374  500.14953251  500.11494186]\n",
        "[ 432.39715269  432.35324343  432.30929844]\n"
       ]
      }
     ],
     "prompt_number": 4
    },
    {
     "cell_type": "markdown",
     "metadata": {},
     "source": [
      "Set up arrays"
     ]
    },
    {
     "cell_type": "code",
     "collapsed": false,
     "input": [
      "runoff = np.zeros((ymax,xmax))\n",
      "run_depth = -np.ones((ymax,xmax))\n",
      "print run_depth[50:52,50:54]"
     ],
     "language": "python",
     "metadata": {},
     "outputs": [
      {
       "output_type": "stream",
       "stream": "stdout",
       "text": [
        "[[-1. -1. -1. -1.]\n",
        " [-1. -1. -1. -1.]]\n"
       ]
      }
     ],
     "prompt_number": 5
    },
    {
     "cell_type": "markdown",
     "metadata": {},
     "source": [
      "Define my function that fills up the arrays"
     ]
    },
    {
     "cell_type": "code",
     "collapsed": false,
     "input": [
      "def fill_runoff_array(Flux,istart,di,jstart,dj,depth_of_flux):\n",
      "    number_cells = di*dj\n",
      "    area = number_cells*e1t[0,istart,jstart]*e2t[0,istart,jstart]\n",
      "    w = Flux/area * 1000.\n",
      "    print w\n",
      "    runoff[istart:istart+di,jstart:jstart+dj] = w\n",
      "    run_depth[istart:istart+di,jstart:jstart+dj] = depth_of_flux"
     ],
     "language": "python",
     "metadata": {},
     "outputs": [],
     "prompt_number": 25
    },
    {
     "cell_type": "markdown",
     "metadata": {},
     "source": [
      "**Juan de Fuca** : rivers?  Jordan, Sooke what else?"
     ]
    },
    {
     "cell_type": "code",
     "collapsed": false,
     "input": [
      "# Assumed river flow (m3/s): this is the yearly average flow based on Morrison spreadsheet\n",
      "Flux = 12.92e9/365./86400."
     ],
     "language": "python",
     "metadata": {},
     "outputs": [],
     "prompt_number": 55
    },
    {
     "cell_type": "markdown",
     "metadata": {},
     "source": [
      "**Puget Sound** : rivers? Split w Skagit???"
     ]
    },
    {
     "cell_type": "code",
     "collapsed": false,
     "input": [
      "# Assumed river flow (m3/s): this is the yearly average flow based on Morrison spreadsheet\n",
      "Flux = 15.86e9/365./86400"
     ],
     "language": "python",
     "metadata": {},
     "outputs": []
    },
    {
     "cell_type": "markdown",
     "metadata": {},
     "source": [
      "**Skagit** : Skagit, Snohomoish ???"
     ]
    },
    {
     "cell_type": "code",
     "collapsed": false,
     "input": [
      "fig = bathy_tools.plot_colourmesh_zoom(\n",
      "    fB, (335,307), half_width=50)"
     ],
     "language": "python",
     "metadata": {},
     "outputs": [
      {
       "metadata": {},
       "output_type": "display_data",
       "png": "[encoded data removed]",
       "text": [
        "<matplotlib.figure.Figure at 0x10532a110>"
       ]
      }
     ],
     "prompt_number": 33
    },
    {
     "cell_type": "code",
     "collapsed": false,
     "input": [
      "# Assumed river flow (m3/s): this is the yearly average flow based on Morrison spreadsheet\n",
      "Flux = 29.56e9/365./86400."
     ],
     "language": "python",
     "metadata": {},
     "outputs": [],
     "prompt_number": 35
    },
    {
     "cell_type": "markdown",
     "metadata": {},
     "source": [
      "**Fraser: South Arm+Canoe, Main Arm, North Arm**"
     ]
    },
    {
     "cell_type": "markdown",
     "metadata": {},
     "source": [
      "Plot the mouths of the South Arm, Main Arm, North Arm"
     ]
    },
    {
     "cell_type": "code",
     "collapsed": false,
     "input": [
      "#fig = bathy_tools.plot_colourmesh_zoom(\n",
      "#    fB, (325,415), half_width=15)\n",
      "fig = bathy_tools.plot_colourmesh_zoom(\n",
      "    fB, (321,438), half_width=5)"
     ],
     "language": "python",
     "metadata": {},
     "outputs": [
      {
       "metadata": {},
       "output_type": "display_data",
       "png": "[encoded data removed]",
       "text": [
        "<matplotlib.figure.Figure at 0x107e77f10>"
       ]
      }
     ],
     "prompt_number": 22
    },
    {
     "cell_type": "code",
     "collapsed": false,
     "input": [
      "#fig = bathy_tools.plot_colourmesh_zoom(\n",
      "#    fB, (325,412))"
     ],
     "language": "python",
     "metadata": {},
     "outputs": [],
     "prompt_number": 18
    },
    {
     "cell_type": "markdown",
     "metadata": {},
     "source": [
      "Flow Calculations"
     ]
    },
    {
     "cell_type": "code",
     "collapsed": false,
     "input": [
      "# Main South Arm cells based on map are i=414,415,416 and j=334\n",
      "# Assumed river flow (m3/s): this is 75% of the Fraser yearly average flow from Morrison spreadsheet (in km3/yr)\n",
      "Flux = 111.94e9/365./86400.*0.75\n",
      "fill_runoff_array(Flux,istart=414,di=3,jstart=334,dj=1,depth_of_flux=3)\n",
      "\n",
      "# Southern South Arm (aka Canoe Pass, although that is not open), cells i= 411,412 j=324\n",
      "Flux = 111.94e9/365./86400.*0.05\n",
      "fill_runoff_array(Flux,istart=411,di=2,jstart=324,dj=1,depth_of_flux=3)\n",
      "\n",
      "# Main Arm, cells i=434,435, j=318\n",
      "Flux = 111.94e9/365./86400.*0.05\n",
      "fill_runoff_array(Flux,istart=434,di=2,jstart=318,dj=1,depth_of_flux=3)\n",
      "\n",
      "# North Arm\n"
     ],
     "language": "python",
     "metadata": {},
     "outputs": [
      {
       "output_type": "stream",
       "stream": "stdout",
       "text": [
        "4.10304237373\n",
        "0.409832237563\n",
        "0.411263697084\n"
       ]
      }
     ],
     "prompt_number": 26
    },
    {
     "cell_type": "markdown",
     "metadata": {},
     "source": [
      "**Howe: Squamish + Burrard Inlet**"
     ]
    },
    {
     "cell_type": "code",
     "collapsed": false,
     "input": [
      "#fig = bathy_tools.plot_colourmesh_zoom(\n",
      "#    fB, (345,457), half_width=5)"
     ],
     "language": "python",
     "metadata": {},
     "outputs": [],
     "prompt_number": 27
    },
    {
     "cell_type": "code",
     "collapsed": false,
     "input": [
      "# Squamish cells based on map are i = 532 and j=385 and j=386\n",
      "# Assumed river flow (m3/s): this is the yearly average flow based on Morrison spreadsheet\n",
      "# Taking 90% here because http://www.bccf.com/steelhead says Indian+Capilano+Lynn+Seymour+Brunette are 10% of \n",
      "# area recorded in Morrison spreadsheet\n",
      "Flux = 18.07e9/365./86400.*0.9\n",
      "fill_runoff_array(Flux,istart=532,di=1,jstart=385,dj=2,depth_of_flux=3)\n",
      "\n",
      "# Burrard Inlet cells based on map are i=457-459 and j=343\n",
      "Flux = 18.07e9/365./86400.*0.1\n",
      "fill_runoff_array(Flux,istart=457,di=3,jstart=343,dj=1,depth_of_flux=3)\n"
     ],
     "language": "python",
     "metadata": {},
     "outputs": [
      {
       "output_type": "stream",
       "stream": "stdout",
       "text": [
        "1.22264831899\n",
        "0.0890288991787\n"
       ]
      }
     ],
     "prompt_number": 28
    },
    {
     "cell_type": "markdown",
     "metadata": {},
     "source": [
      "**East Vancouver Island - South** : Gold River, Chemanius, Cowichan, Nanaimo, Englishman, Small/Big Qualicum"
     ]
    },
    {
     "cell_type": "code",
     "collapsed": false,
     "input": [
      "# Assumed river flow (m3/s): this is the yearly average flow based on Morrison spreadsheet\n",
      "Flux = 10.39e9/365./86400."
     ],
     "language": "python",
     "metadata": {},
     "outputs": [],
     "prompt_number": 57
    },
    {
     "cell_type": "markdown",
     "metadata": {},
     "source": [
      "**East Vancouver Island - North**: Campbell River, Nimpkish??? -- not the whole thing...."
     ]
    },
    {
     "cell_type": "code",
     "collapsed": false,
     "input": [
      "fig = bathy_tools.plot_colourmesh_zoom(\n",
      "    fB, (100,857), half_width=100)"
     ],
     "language": "python",
     "metadata": {},
     "outputs": [
      {
       "metadata": {},
       "output_type": "display_data",
       "png": "[encoded data removed]",
       "text": [
        "<matplotlib.figure.Figure at 0x1014faad0>"
       ]
      }
     ],
     "prompt_number": 62
    },
    {
     "cell_type": "code",
     "collapsed": false,
     "input": [
      "# Assumed river flow (m3/s): this is the yearly average flow based on Morrison spreadsheet: this is the whole!!!!\n",
      "Flux = 20.13e9/365./86400."
     ],
     "language": "python",
     "metadata": {},
     "outputs": []
    },
    {
     "cell_type": "markdown",
     "metadata": {},
     "source": [
      "**Jervis** : Jervis, Sechelt, Powell River"
     ]
    },
    {
     "cell_type": "code",
     "collapsed": false,
     "input": [
      "# Assumed river flow (m3/s): this is the yearly average flow based on Morrison spreadsheet\n",
      "Flux = 9.36e9/365./86400."
     ],
     "language": "python",
     "metadata": {},
     "outputs": [],
     "prompt_number": 58
    },
    {
     "cell_type": "markdown",
     "metadata": {},
     "source": [
      "**Toba** : Head versus Brem Creek?"
     ]
    },
    {
     "cell_type": "code",
     "collapsed": false,
     "input": [
      "#fig = bathy_tools.plot_colourmesh_zoom(\n",
      "#    fB, (310,776), half_width=5)"
     ],
     "language": "python",
     "metadata": {},
     "outputs": [],
     "prompt_number": 52
    },
    {
     "cell_type": "code",
     "collapsed": false,
     "input": [
      "# Assumed river flow (m3/s): this is the yearly average flow based on Morrison spreadsheet\n",
      "Flux = 8.52e9/365./86400.\n",
      "# Brem Creek, i = 782, j = 259, 260\n",
      "# fill_runoff_array(Flux,istart=782,di=1,jstart=259,dj=2,depth_of_flux=3)\n",
      "# River at Head, i= 775,775 j= 310\n",
      "# fill_runoff_array(Flux,istart=775,di=2,jstart=310,dj=1,depth_of_flux=3)\n"
     ],
     "language": "python",
     "metadata": {},
     "outputs": [],
     "prompt_number": 36
    },
    {
     "cell_type": "markdown",
     "metadata": {},
     "source": [
      "**Bute** : All at head?  two rivers though?"
     ]
    },
    {
     "cell_type": "code",
     "collapsed": false,
     "input": [
      "fig = bathy_tools.plot_colourmesh_zoom(\n",
      "    fB, (300,857), half_width=50)"
     ],
     "language": "python",
     "metadata": {},
     "outputs": [
      {
       "metadata": {},
       "output_type": "display_data",
       "png": "[encoded data removed]",
       "text": [
        "<matplotlib.figure.Figure at 0x107e5e650>"
       ]
      }
     ],
     "prompt_number": 30
    },
    {
     "cell_type": "code",
     "collapsed": false,
     "input": [
      "# Assumed river flow (m3/s): this is the yearly average flow based on Morrison spreadsheet\n",
      "Flux = 17.36e9/365./86400."
     ],
     "language": "python",
     "metadata": {},
     "outputs": [],
     "prompt_number": 34
    },
    {
     "cell_type": "markdown",
     "metadata": {},
     "source": [
      "Create the File"
     ]
    },
    {
     "cell_type": "code",
     "collapsed": false,
     "input": [
      "nemo = NC.Dataset('rivers_Fraserplus_cnst.nc', 'w')\n",
      "nemo.description = 'Constant Yearly Average, South arm of Fraser, Squamish' \n",
      "\n",
      "# dimensions\n",
      "nemo.createDimension('x', xmax)\n",
      "nemo.createDimension('y', ymax)\n",
      "nemo.createDimension('time_counter', None)\n",
      "\n",
      "# variables\n",
      "# latitude and longitude\n",
      "nav_lat = nemo.createVariable('nav_lat','float32',('y','x'),zlib=True)\n",
      "nav_lat = lat\n",
      "x = nemo.createVariable('nav_lon','float32',('y','x'),zlib=True)\n",
      "nav_lon = lon\n",
      "# time\n",
      "time_counter = nemo.createVariable('time_counter', 'float32', ('time_counter'),zlib=True)\n",
      "time_counter.units = 'non-dim'\n",
      "time_counter[0] = 1\n",
      "# runoff\n",
      "rorunoff = nemo.createVariable('rorunoff', 'float32', ('time_counter','y','x'), zlib=True)\n",
      "rorunoff._Fillvalue = 0.\n",
      "rorunoff._missing_value = 0.\n",
      "rorunoff._units = 'kg m-2 s-1'\n",
      "rorunoff[0,:] = runoff\n",
      "# depth\n",
      "rodepth = nemo.createVariable('rodepth','float32',('y','x'),zlib=True)\n",
      "rodepth._Fillvalue = -1.\n",
      "rodepth.missing_value = -1.\n",
      "rodepth.units = 'm'\n",
      "rodepth[:] = run_depth\n",
      "nemo.close()"
     ],
     "language": "python",
     "metadata": {},
     "outputs": [],
     "prompt_number": 109
    },
    {
     "cell_type": "code",
     "collapsed": false,
     "input": [],
     "language": "python",
     "metadata": {},
     "outputs": []
    }
   ],
   "metadata": {}
  }
 ]
}