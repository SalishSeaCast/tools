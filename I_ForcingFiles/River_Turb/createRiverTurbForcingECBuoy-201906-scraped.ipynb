{
 "cells": [
  {
   "cell_type": "markdown",
   "metadata": {
    "collapsed": true
   },
   "source": [
    "### create hourly Fraser turbidity time series where gaps 4 hrs or less are filled by linear interpolation\n",
    "\n",
    "### create daily averages from hourly time series and fill larger gaps based on interpolation of daily averages\n",
    "\n",
    "#### use Doug's scraped dataset since download is not currently available (at least past 2018)"
   ]
  },
  {
   "cell_type": "code",
   "execution_count": 1,
   "metadata": {
    "collapsed": false
   },
   "outputs": [],
   "source": [
    "# imports\n",
    "import numpy as np\n",
    "import matplotlib.pyplot as plt\n",
    "import datetime as dt\n",
    "import os\n",
    "import re\n",
    "import netCDF4 as nc\n",
    "import string\n",
    "import pandas as pd\n",
    "from dateutil.parser import parse as dutparse\n",
    "from salishsea_tools.evaltools import pac_to_utc, datetimeToDecDay\n",
    "#from dataProcess import forceNumeric, forceInt, fmtVarName, data2Tbl, adFunONC\n",
    "from pandas.plotting import register_matplotlib_converters\n",
    "register_matplotlib_converters()\n",
    "%matplotlib inline"
   ]
  },
  {
   "cell_type": "code",
   "execution_count": 2,
   "metadata": {
    "collapsed": true
   },
   "outputs": [],
   "source": [
    "# set to last available data!\n",
    "startdate=dt.date(2019,6,16)\n",
    "enddate=dt.date(2019,10,11) # in this case end date is not included"
   ]
  },
  {
   "cell_type": "code",
   "execution_count": 3,
   "metadata": {
    "collapsed": false
   },
   "outputs": [
    {
     "name": "stdout",
     "output_type": "stream",
     "text": [
      "Index(['# date', 'time', 'timezone', 'turbidity', 'turbidity units',\n",
      "       'specific conductivity', 'specific conductivity units',\n",
      "       'water temperature', 'water temperature units', 'pH', 'pH units',\n",
      "       'dissolved oxygen', 'dissolved oxygen units', 'water depth',\n",
      "       'water depth units', 'stream velocity', 'stream velocity units',\n",
      "       'stream velocity direction', 'wind speed', 'wind speed units',\n",
      "       'wind direction', 'wind bearing', 'air temperature',\n",
      "       'air temperature units', 'relative humidity', 'relative humidity units',\n",
      "       'atmospheric pressure', 'atmospheric pressure units', 'dtdate'],\n",
      "      dtype='object')\n"
     ]
    },
    {
     "data": {
      "text/plain": [
       "[<matplotlib.lines.Line2D at 0x7f0fe8fca4a8>]"
      ]
     },
     "execution_count": 3,
     "metadata": {},
     "output_type": "execute_result"
    },
    {
     "data": {
      "image/png": "[encoded data removed]",
      "text/plain": [
       "<Figure size 1728x144 with 1 Axes>"
      ]
     },
     "metadata": {
      "needs_background": "light"
     },
     "output_type": "display_data"
    }
   ],
   "source": [
    "# load data; set negative turbidities to zero\n",
    "tdf=pd.read_csv('/results/observations/ECCC/fraser_buoy.csv',header=0)\n",
    "tdf['dtdate']=pd.to_datetime(tdf['# date']+' '+tdf['time'],format='%Y-%m-%d %H:%M:%S')\n",
    "#    tdf['DD']=[_dateTimeToDecDay(jj) for jj in _pacToUTC(tdf['dtdate'].values)]\n",
    "print(tdf.keys())\n",
    "tdf.loc[tdf.turbidity<0,['turbidity']]=0\n",
    "fig,ax=plt.subplots(1,1,figsize=(24,2))\n",
    "ax.plot(tdf['dtdate'],tdf['turbidity'],'r.')"
   ]
  },
  {
   "cell_type": "code",
   "execution_count": 4,
   "metadata": {
    "collapsed": false
   },
   "outputs": [
    {
     "data": {
      "text/plain": [
       "datetime.datetime(2017, 7, 21, 18, 10)"
      ]
     },
     "execution_count": 4,
     "metadata": {},
     "output_type": "execute_result"
    }
   ],
   "source": [
    "dates0=[dt.datetime.strptime(el[0]+'T'+el[1],'%Y-%m-%dT%H:%M:%S') for el in zip(tdf['# date'],tdf['time'])]\n",
    "datesUTC=pac_to_utc(dates0)\n",
    "datesUTC[0]"
   ]
  },
  {
   "cell_type": "code",
   "execution_count": 5,
   "metadata": {
    "collapsed": false
   },
   "outputs": [],
   "source": [
    "tdf['Turb_NTU']=tdf['turbidity']\n",
    "tdf['DecDay']=datetimeToDecDay(datesUTC)"
   ]
  },
  {
   "cell_type": "code",
   "execution_count": 6,
   "metadata": {
    "collapsed": true
   },
   "outputs": [],
   "source": [
    "def daterange(start_date, end_date):\n",
    "    for n in range(int ((end_date - start_date).days)):\n",
    "        yield start_date + dt.timedelta(n)"
   ]
  },
  {
   "cell_type": "code",
   "execution_count": 7,
   "metadata": {
    "collapsed": false
   },
   "outputs": [],
   "source": [
    "dtdstart=dt.datetime(startdate.year,startdate.month,startdate.day)\n",
    "dtdend=dt.datetime(enddate.year,enddate.month,enddate.day)\n",
    "df=tdf.loc[(datesUTC>(dtdstart))&(datesUTC<(dtdend))&(tdf.turbidity<=200),['DecDay','Turb_NTU']].copy(deep=True)"
   ]
  },
  {
   "cell_type": "code",
   "execution_count": 8,
   "metadata": {
    "collapsed": false
   },
   "outputs": [
    {
     "data": {
      "text/html": [
       "<div>\n",
       "<style scoped>\n",
       "    .dataframe tbody tr th:only-of-type {\n",
       "        vertical-align: middle;\n",
       "    }\n",
       "\n",
       "    .dataframe tbody tr th {\n",
       "        vertical-align: top;\n",
       "    }\n",
       "\n",
       "    .dataframe thead th {\n",
       "        text-align: right;\n",
       "    }\n",
       "</style>\n",
       "<table border=\"1\" class=\"dataframe\">\n",
       "  <thead>\n",
       "    <tr style=\"text-align: right;\">\n",
       "      <th></th>\n",
       "      <th>DecDay</th>\n",
       "      <th>Turb_NTU</th>\n",
       "    </tr>\n",
       "  </thead>\n",
       "  <tbody>\n",
       "    <tr>\n",
       "      <th>14728</th>\n",
       "      <td>43630</td>\n",
       "      <td>18.23</td>\n",
       "    </tr>\n",
       "    <tr>\n",
       "      <th>14729</th>\n",
       "      <td>43630</td>\n",
       "      <td>17.43</td>\n",
       "    </tr>\n",
       "    <tr>\n",
       "      <th>14730</th>\n",
       "      <td>43630.1</td>\n",
       "      <td>16.96</td>\n",
       "    </tr>\n",
       "    <tr>\n",
       "      <th>14731</th>\n",
       "      <td>43630.1</td>\n",
       "      <td>16.64</td>\n",
       "    </tr>\n",
       "    <tr>\n",
       "      <th>14732</th>\n",
       "      <td>43630.2</td>\n",
       "      <td>17.73</td>\n",
       "    </tr>\n",
       "    <tr>\n",
       "      <th>14733</th>\n",
       "      <td>43630.2</td>\n",
       "      <td>18.15</td>\n",
       "    </tr>\n",
       "    <tr>\n",
       "      <th>14734</th>\n",
       "      <td>43630.3</td>\n",
       "      <td>18.69</td>\n",
       "    </tr>\n",
       "    <tr>\n",
       "      <th>14735</th>\n",
       "      <td>43630.3</td>\n",
       "      <td>20.08</td>\n",
       "    </tr>\n",
       "    <tr>\n",
       "      <th>14736</th>\n",
       "      <td>43630.3</td>\n",
       "      <td>16.73</td>\n",
       "    </tr>\n",
       "    <tr>\n",
       "      <th>14737</th>\n",
       "      <td>43630.4</td>\n",
       "      <td>17.94</td>\n",
       "    </tr>\n",
       "    <tr>\n",
       "      <th>14738</th>\n",
       "      <td>43630.4</td>\n",
       "      <td>17.23</td>\n",
       "    </tr>\n",
       "    <tr>\n",
       "      <th>14739</th>\n",
       "      <td>43630.5</td>\n",
       "      <td>14.94</td>\n",
       "    </tr>\n",
       "    <tr>\n",
       "      <th>14740</th>\n",
       "      <td>43630.5</td>\n",
       "      <td>15.99</td>\n",
       "    </tr>\n",
       "    <tr>\n",
       "      <th>14741</th>\n",
       "      <td>43630.5</td>\n",
       "      <td>15.66</td>\n",
       "    </tr>\n",
       "    <tr>\n",
       "      <th>14742</th>\n",
       "      <td>43630.6</td>\n",
       "      <td>20.31</td>\n",
       "    </tr>\n",
       "    <tr>\n",
       "      <th>14743</th>\n",
       "      <td>43630.6</td>\n",
       "      <td>21.46</td>\n",
       "    </tr>\n",
       "    <tr>\n",
       "      <th>14744</th>\n",
       "      <td>43630.7</td>\n",
       "      <td>25.37</td>\n",
       "    </tr>\n",
       "    <tr>\n",
       "      <th>14745</th>\n",
       "      <td>43630.7</td>\n",
       "      <td>26.45</td>\n",
       "    </tr>\n",
       "    <tr>\n",
       "      <th>14746</th>\n",
       "      <td>43630.8</td>\n",
       "      <td>28.66</td>\n",
       "    </tr>\n",
       "    <tr>\n",
       "      <th>14747</th>\n",
       "      <td>43630.8</td>\n",
       "      <td>29.38</td>\n",
       "    </tr>\n",
       "    <tr>\n",
       "      <th>14748</th>\n",
       "      <td>43630.8</td>\n",
       "      <td>28.82</td>\n",
       "    </tr>\n",
       "    <tr>\n",
       "      <th>14749</th>\n",
       "      <td>43630.9</td>\n",
       "      <td>29.55</td>\n",
       "    </tr>\n",
       "    <tr>\n",
       "      <th>14750</th>\n",
       "      <td>43630.9</td>\n",
       "      <td>27.10</td>\n",
       "    </tr>\n",
       "    <tr>\n",
       "      <th>14751</th>\n",
       "      <td>43631</td>\n",
       "      <td>24.66</td>\n",
       "    </tr>\n",
       "    <tr>\n",
       "      <th>14752</th>\n",
       "      <td>43631</td>\n",
       "      <td>20.19</td>\n",
       "    </tr>\n",
       "    <tr>\n",
       "      <th>14753</th>\n",
       "      <td>43631</td>\n",
       "      <td>20.74</td>\n",
       "    </tr>\n",
       "    <tr>\n",
       "      <th>14754</th>\n",
       "      <td>43631.1</td>\n",
       "      <td>19.05</td>\n",
       "    </tr>\n",
       "    <tr>\n",
       "      <th>14755</th>\n",
       "      <td>43631.1</td>\n",
       "      <td>18.68</td>\n",
       "    </tr>\n",
       "    <tr>\n",
       "      <th>14756</th>\n",
       "      <td>43631.2</td>\n",
       "      <td>17.13</td>\n",
       "    </tr>\n",
       "    <tr>\n",
       "      <th>14757</th>\n",
       "      <td>43631.2</td>\n",
       "      <td>19.32</td>\n",
       "    </tr>\n",
       "    <tr>\n",
       "      <th>...</th>\n",
       "      <td>...</td>\n",
       "      <td>...</td>\n",
       "    </tr>\n",
       "    <tr>\n",
       "      <th>17504</th>\n",
       "      <td>43745.8</td>\n",
       "      <td>5.02</td>\n",
       "    </tr>\n",
       "    <tr>\n",
       "      <th>17505</th>\n",
       "      <td>43745.8</td>\n",
       "      <td>3.75</td>\n",
       "    </tr>\n",
       "    <tr>\n",
       "      <th>17506</th>\n",
       "      <td>43745.8</td>\n",
       "      <td>0.58</td>\n",
       "    </tr>\n",
       "    <tr>\n",
       "      <th>17507</th>\n",
       "      <td>43745.9</td>\n",
       "      <td>0.23</td>\n",
       "    </tr>\n",
       "    <tr>\n",
       "      <th>17508</th>\n",
       "      <td>43745.9</td>\n",
       "      <td>0.54</td>\n",
       "    </tr>\n",
       "    <tr>\n",
       "      <th>17509</th>\n",
       "      <td>43746</td>\n",
       "      <td>1.16</td>\n",
       "    </tr>\n",
       "    <tr>\n",
       "      <th>17510</th>\n",
       "      <td>43746</td>\n",
       "      <td>0.40</td>\n",
       "    </tr>\n",
       "    <tr>\n",
       "      <th>17511</th>\n",
       "      <td>43746</td>\n",
       "      <td>1.36</td>\n",
       "    </tr>\n",
       "    <tr>\n",
       "      <th>17512</th>\n",
       "      <td>43746.1</td>\n",
       "      <td>0.11</td>\n",
       "    </tr>\n",
       "    <tr>\n",
       "      <th>17513</th>\n",
       "      <td>43746.1</td>\n",
       "      <td>1.34</td>\n",
       "    </tr>\n",
       "    <tr>\n",
       "      <th>17514</th>\n",
       "      <td>43746.2</td>\n",
       "      <td>0.17</td>\n",
       "    </tr>\n",
       "    <tr>\n",
       "      <th>17515</th>\n",
       "      <td>43746.2</td>\n",
       "      <td>1.12</td>\n",
       "    </tr>\n",
       "    <tr>\n",
       "      <th>17516</th>\n",
       "      <td>43746.3</td>\n",
       "      <td>2.86</td>\n",
       "    </tr>\n",
       "    <tr>\n",
       "      <th>17517</th>\n",
       "      <td>43746.3</td>\n",
       "      <td>2.58</td>\n",
       "    </tr>\n",
       "    <tr>\n",
       "      <th>17518</th>\n",
       "      <td>43746.3</td>\n",
       "      <td>1.55</td>\n",
       "    </tr>\n",
       "    <tr>\n",
       "      <th>17519</th>\n",
       "      <td>43746.4</td>\n",
       "      <td>0.20</td>\n",
       "    </tr>\n",
       "    <tr>\n",
       "      <th>17520</th>\n",
       "      <td>43746.4</td>\n",
       "      <td>0.41</td>\n",
       "    </tr>\n",
       "    <tr>\n",
       "      <th>17521</th>\n",
       "      <td>43746.5</td>\n",
       "      <td>0.47</td>\n",
       "    </tr>\n",
       "    <tr>\n",
       "      <th>17522</th>\n",
       "      <td>43746.5</td>\n",
       "      <td>0.00</td>\n",
       "    </tr>\n",
       "    <tr>\n",
       "      <th>17523</th>\n",
       "      <td>43746.5</td>\n",
       "      <td>0.00</td>\n",
       "    </tr>\n",
       "    <tr>\n",
       "      <th>17524</th>\n",
       "      <td>43746.6</td>\n",
       "      <td>0.00</td>\n",
       "    </tr>\n",
       "    <tr>\n",
       "      <th>17525</th>\n",
       "      <td>43746.6</td>\n",
       "      <td>0.00</td>\n",
       "    </tr>\n",
       "    <tr>\n",
       "      <th>17526</th>\n",
       "      <td>43746.7</td>\n",
       "      <td>0.99</td>\n",
       "    </tr>\n",
       "    <tr>\n",
       "      <th>17527</th>\n",
       "      <td>43746.7</td>\n",
       "      <td>2.23</td>\n",
       "    </tr>\n",
       "    <tr>\n",
       "      <th>17528</th>\n",
       "      <td>43746.8</td>\n",
       "      <td>3.60</td>\n",
       "    </tr>\n",
       "    <tr>\n",
       "      <th>17529</th>\n",
       "      <td>43746.8</td>\n",
       "      <td>3.06</td>\n",
       "    </tr>\n",
       "    <tr>\n",
       "      <th>17530</th>\n",
       "      <td>43746.8</td>\n",
       "      <td>0.69</td>\n",
       "    </tr>\n",
       "    <tr>\n",
       "      <th>17531</th>\n",
       "      <td>43746.9</td>\n",
       "      <td>1.27</td>\n",
       "    </tr>\n",
       "    <tr>\n",
       "      <th>17532</th>\n",
       "      <td>43746.9</td>\n",
       "      <td>0.00</td>\n",
       "    </tr>\n",
       "    <tr>\n",
       "      <th>17533</th>\n",
       "      <td>43747</td>\n",
       "      <td>0.00</td>\n",
       "    </tr>\n",
       "  </tbody>\n",
       "</table>\n",
       "<p>2781 rows × 2 columns</p>\n",
       "</div>"
      ],
      "text/plain": [
       "        DecDay  Turb_NTU\n",
       "14728    43630     18.23\n",
       "14729    43630     17.43\n",
       "14730  43630.1     16.96\n",
       "14731  43630.1     16.64\n",
       "14732  43630.2     17.73\n",
       "14733  43630.2     18.15\n",
       "14734  43630.3     18.69\n",
       "14735  43630.3     20.08\n",
       "14736  43630.3     16.73\n",
       "14737  43630.4     17.94\n",
       "14738  43630.4     17.23\n",
       "14739  43630.5     14.94\n",
       "14740  43630.5     15.99\n",
       "14741  43630.5     15.66\n",
       "14742  43630.6     20.31\n",
       "14743  43630.6     21.46\n",
       "14744  43630.7     25.37\n",
       "14745  43630.7     26.45\n",
       "14746  43630.8     28.66\n",
       "14747  43630.8     29.38\n",
       "14748  43630.8     28.82\n",
       "14749  43630.9     29.55\n",
       "14750  43630.9     27.10\n",
       "14751    43631     24.66\n",
       "14752    43631     20.19\n",
       "14753    43631     20.74\n",
       "14754  43631.1     19.05\n",
       "14755  43631.1     18.68\n",
       "14756  43631.2     17.13\n",
       "14757  43631.2     19.32\n",
       "...        ...       ...\n",
       "17504  43745.8      5.02\n",
       "17505  43745.8      3.75\n",
       "17506  43745.8      0.58\n",
       "17507  43745.9      0.23\n",
       "17508  43745.9      0.54\n",
       "17509    43746      1.16\n",
       "17510    43746      0.40\n",
       "17511    43746      1.36\n",
       "17512  43746.1      0.11\n",
       "17513  43746.1      1.34\n",
       "17514  43746.2      0.17\n",
       "17515  43746.2      1.12\n",
       "17516  43746.3      2.86\n",
       "17517  43746.3      2.58\n",
       "17518  43746.3      1.55\n",
       "17519  43746.4      0.20\n",
       "17520  43746.4      0.41\n",
       "17521  43746.5      0.47\n",
       "17522  43746.5      0.00\n",
       "17523  43746.5      0.00\n",
       "17524  43746.6      0.00\n",
       "17525  43746.6      0.00\n",
       "17526  43746.7      0.99\n",
       "17527  43746.7      2.23\n",
       "17528  43746.8      3.60\n",
       "17529  43746.8      3.06\n",
       "17530  43746.8      0.69\n",
       "17531  43746.9      1.27\n",
       "17532  43746.9      0.00\n",
       "17533    43747      0.00\n",
       "\n",
       "[2781 rows x 2 columns]"
      ]
     },
     "execution_count": 8,
     "metadata": {},
     "output_type": "execute_result"
    }
   ],
   "source": [
    "df"
   ]
  },
  {
   "cell_type": "code",
   "execution_count": 9,
   "metadata": {
    "collapsed": false
   },
   "outputs": [],
   "source": [
    "df['daynum']=0*df['DecDay']\n",
    "df['hr']=0*df['DecDay']"
   ]
  },
  {
   "cell_type": "code",
   "execution_count": 10,
   "metadata": {
    "collapsed": false
   },
   "outputs": [],
   "source": [
    "# create hash of daynum, hour pairs that are in df (where there is data)\n",
    "#timeSet=set()\n",
    "for index, row in df.iterrows():\n",
    "    day=int(np.floor(row['DecDay']))\n",
    "    hr=int(np.round((row['DecDay']-day)*24))\n",
    "    df.loc[index,['daynum','hr']]=[day,hr]\n",
    "    #timeSet=timeSet|set([(day,hr)])\n",
    "#timeSet"
   ]
  },
  {
   "cell_type": "code",
   "execution_count": 11,
   "metadata": {
    "collapsed": false
   },
   "outputs": [
    {
     "data": {
      "text/plain": [
       "118"
      ]
     },
     "execution_count": 11,
     "metadata": {},
     "output_type": "execute_result"
    }
   ],
   "source": [
    "# desired time series is from startdate to enddate\n",
    "ndays=(enddate-startdate).days+1\n",
    "ndays"
   ]
  },
  {
   "cell_type": "code",
   "execution_count": 12,
   "metadata": {
    "collapsed": false
   },
   "outputs": [],
   "source": [
    "dfout=pd.DataFrame(index=np.arange(0,ndays*24),\n",
    "                   columns=('DayNum','Hour','Turb_NTU'))\n",
    "dfdaily=pd.DataFrame(index=np.arange(0,ndays),columns=('DayNum','Turb_NTU'))"
   ]
  },
  {
   "cell_type": "code",
   "execution_count": 13,
   "metadata": {
    "collapsed": true
   },
   "outputs": [],
   "source": [
    "for ind,row in dfout.iterrows():\n",
    "    dfout.iloc[ind]['DayNum','Hour']=[np.floor(ind/24.0)+(startdate-dt.date(1900,1,1)).days,ind%24]\n",
    "    \n",
    "for ind,row in dfdaily.iterrows():\n",
    "    dfdaily.iloc[ind]['DayNum']=ind+(startdate-dt.date(1900,1,1)).days"
   ]
  },
  {
   "cell_type": "code",
   "execution_count": 14,
   "metadata": {
    "collapsed": false
   },
   "outputs": [
    {
     "data": {
      "text/html": [
       "<div>\n",
       "<style scoped>\n",
       "    .dataframe tbody tr th:only-of-type {\n",
       "        vertical-align: middle;\n",
       "    }\n",
       "\n",
       "    .dataframe tbody tr th {\n",
       "        vertical-align: top;\n",
       "    }\n",
       "\n",
       "    .dataframe thead th {\n",
       "        text-align: right;\n",
       "    }\n",
       "</style>\n",
       "<table border=\"1\" class=\"dataframe\">\n",
       "  <thead>\n",
       "    <tr style=\"text-align: right;\">\n",
       "      <th></th>\n",
       "      <th>DecDay</th>\n",
       "      <th>Turb_NTU</th>\n",
       "      <th>daynum</th>\n",
       "      <th>hr</th>\n",
       "    </tr>\n",
       "  </thead>\n",
       "  <tbody>\n",
       "    <tr>\n",
       "      <th>14788</th>\n",
       "      <td>43632.5</td>\n",
       "      <td>21.00</td>\n",
       "      <td>43632</td>\n",
       "      <td>12</td>\n",
       "    </tr>\n",
       "    <tr>\n",
       "      <th>14789</th>\n",
       "      <td>43632.5</td>\n",
       "      <td>21.00</td>\n",
       "      <td>43632</td>\n",
       "      <td>12</td>\n",
       "    </tr>\n",
       "    <tr>\n",
       "      <th>14954</th>\n",
       "      <td>43639.4</td>\n",
       "      <td>19.37</td>\n",
       "      <td>43639</td>\n",
       "      <td>10</td>\n",
       "    </tr>\n",
       "    <tr>\n",
       "      <th>14955</th>\n",
       "      <td>43639.4</td>\n",
       "      <td>19.37</td>\n",
       "      <td>43639</td>\n",
       "      <td>10</td>\n",
       "    </tr>\n",
       "    <tr>\n",
       "      <th>14956</th>\n",
       "      <td>43639.4</td>\n",
       "      <td>19.37</td>\n",
       "      <td>43639</td>\n",
       "      <td>10</td>\n",
       "    </tr>\n",
       "    <tr>\n",
       "      <th>14957</th>\n",
       "      <td>43639.4</td>\n",
       "      <td>19.37</td>\n",
       "      <td>43639</td>\n",
       "      <td>10</td>\n",
       "    </tr>\n",
       "    <tr>\n",
       "      <th>14958</th>\n",
       "      <td>43639.4</td>\n",
       "      <td>19.37</td>\n",
       "      <td>43639</td>\n",
       "      <td>10</td>\n",
       "    </tr>\n",
       "    <tr>\n",
       "      <th>14959</th>\n",
       "      <td>43639.4</td>\n",
       "      <td>19.37</td>\n",
       "      <td>43639</td>\n",
       "      <td>10</td>\n",
       "    </tr>\n",
       "    <tr>\n",
       "      <th>14960</th>\n",
       "      <td>43639.4</td>\n",
       "      <td>19.37</td>\n",
       "      <td>43639</td>\n",
       "      <td>10</td>\n",
       "    </tr>\n",
       "    <tr>\n",
       "      <th>14961</th>\n",
       "      <td>43639.4</td>\n",
       "      <td>19.37</td>\n",
       "      <td>43639</td>\n",
       "      <td>10</td>\n",
       "    </tr>\n",
       "    <tr>\n",
       "      <th>14962</th>\n",
       "      <td>43639.4</td>\n",
       "      <td>19.37</td>\n",
       "      <td>43639</td>\n",
       "      <td>10</td>\n",
       "    </tr>\n",
       "    <tr>\n",
       "      <th>14963</th>\n",
       "      <td>43639.4</td>\n",
       "      <td>19.37</td>\n",
       "      <td>43639</td>\n",
       "      <td>10</td>\n",
       "    </tr>\n",
       "    <tr>\n",
       "      <th>14964</th>\n",
       "      <td>43639.4</td>\n",
       "      <td>19.37</td>\n",
       "      <td>43639</td>\n",
       "      <td>10</td>\n",
       "    </tr>\n",
       "    <tr>\n",
       "      <th>14965</th>\n",
       "      <td>43639.4</td>\n",
       "      <td>19.37</td>\n",
       "      <td>43639</td>\n",
       "      <td>10</td>\n",
       "    </tr>\n",
       "    <tr>\n",
       "      <th>14966</th>\n",
       "      <td>43639.4</td>\n",
       "      <td>19.37</td>\n",
       "      <td>43639</td>\n",
       "      <td>10</td>\n",
       "    </tr>\n",
       "    <tr>\n",
       "      <th>14967</th>\n",
       "      <td>43639.4</td>\n",
       "      <td>19.37</td>\n",
       "      <td>43639</td>\n",
       "      <td>10</td>\n",
       "    </tr>\n",
       "    <tr>\n",
       "      <th>14968</th>\n",
       "      <td>43639.4</td>\n",
       "      <td>19.37</td>\n",
       "      <td>43639</td>\n",
       "      <td>10</td>\n",
       "    </tr>\n",
       "    <tr>\n",
       "      <th>14969</th>\n",
       "      <td>43639.4</td>\n",
       "      <td>19.37</td>\n",
       "      <td>43639</td>\n",
       "      <td>10</td>\n",
       "    </tr>\n",
       "    <tr>\n",
       "      <th>14970</th>\n",
       "      <td>43639.4</td>\n",
       "      <td>19.37</td>\n",
       "      <td>43639</td>\n",
       "      <td>10</td>\n",
       "    </tr>\n",
       "    <tr>\n",
       "      <th>14971</th>\n",
       "      <td>43639.4</td>\n",
       "      <td>19.37</td>\n",
       "      <td>43639</td>\n",
       "      <td>10</td>\n",
       "    </tr>\n",
       "    <tr>\n",
       "      <th>14972</th>\n",
       "      <td>43639.4</td>\n",
       "      <td>19.37</td>\n",
       "      <td>43639</td>\n",
       "      <td>10</td>\n",
       "    </tr>\n",
       "    <tr>\n",
       "      <th>14973</th>\n",
       "      <td>43639.4</td>\n",
       "      <td>19.37</td>\n",
       "      <td>43639</td>\n",
       "      <td>10</td>\n",
       "    </tr>\n",
       "    <tr>\n",
       "      <th>14974</th>\n",
       "      <td>43639.4</td>\n",
       "      <td>19.37</td>\n",
       "      <td>43639</td>\n",
       "      <td>10</td>\n",
       "    </tr>\n",
       "    <tr>\n",
       "      <th>14975</th>\n",
       "      <td>43639.4</td>\n",
       "      <td>19.37</td>\n",
       "      <td>43639</td>\n",
       "      <td>10</td>\n",
       "    </tr>\n",
       "    <tr>\n",
       "      <th>14976</th>\n",
       "      <td>43639.4</td>\n",
       "      <td>19.37</td>\n",
       "      <td>43639</td>\n",
       "      <td>10</td>\n",
       "    </tr>\n",
       "    <tr>\n",
       "      <th>14977</th>\n",
       "      <td>43639.4</td>\n",
       "      <td>19.37</td>\n",
       "      <td>43639</td>\n",
       "      <td>10</td>\n",
       "    </tr>\n",
       "    <tr>\n",
       "      <th>14978</th>\n",
       "      <td>43639.4</td>\n",
       "      <td>19.37</td>\n",
       "      <td>43639</td>\n",
       "      <td>10</td>\n",
       "    </tr>\n",
       "    <tr>\n",
       "      <th>14979</th>\n",
       "      <td>43639.4</td>\n",
       "      <td>19.37</td>\n",
       "      <td>43639</td>\n",
       "      <td>10</td>\n",
       "    </tr>\n",
       "    <tr>\n",
       "      <th>14980</th>\n",
       "      <td>43639.4</td>\n",
       "      <td>19.37</td>\n",
       "      <td>43639</td>\n",
       "      <td>10</td>\n",
       "    </tr>\n",
       "    <tr>\n",
       "      <th>14981</th>\n",
       "      <td>43639.4</td>\n",
       "      <td>19.37</td>\n",
       "      <td>43639</td>\n",
       "      <td>10</td>\n",
       "    </tr>\n",
       "    <tr>\n",
       "      <th>...</th>\n",
       "      <td>...</td>\n",
       "      <td>...</td>\n",
       "      <td>...</td>\n",
       "      <td>...</td>\n",
       "    </tr>\n",
       "    <tr>\n",
       "      <th>16632</th>\n",
       "      <td>43706</td>\n",
       "      <td>5.69</td>\n",
       "      <td>43706</td>\n",
       "      <td>0</td>\n",
       "    </tr>\n",
       "    <tr>\n",
       "      <th>16633</th>\n",
       "      <td>43706</td>\n",
       "      <td>5.69</td>\n",
       "      <td>43706</td>\n",
       "      <td>0</td>\n",
       "    </tr>\n",
       "    <tr>\n",
       "      <th>16634</th>\n",
       "      <td>43706</td>\n",
       "      <td>5.69</td>\n",
       "      <td>43706</td>\n",
       "      <td>0</td>\n",
       "    </tr>\n",
       "    <tr>\n",
       "      <th>16635</th>\n",
       "      <td>43706</td>\n",
       "      <td>5.69</td>\n",
       "      <td>43706</td>\n",
       "      <td>0</td>\n",
       "    </tr>\n",
       "    <tr>\n",
       "      <th>16636</th>\n",
       "      <td>43706</td>\n",
       "      <td>5.69</td>\n",
       "      <td>43706</td>\n",
       "      <td>0</td>\n",
       "    </tr>\n",
       "    <tr>\n",
       "      <th>16637</th>\n",
       "      <td>43706</td>\n",
       "      <td>5.69</td>\n",
       "      <td>43706</td>\n",
       "      <td>0</td>\n",
       "    </tr>\n",
       "    <tr>\n",
       "      <th>16638</th>\n",
       "      <td>43706</td>\n",
       "      <td>5.69</td>\n",
       "      <td>43706</td>\n",
       "      <td>0</td>\n",
       "    </tr>\n",
       "    <tr>\n",
       "      <th>16999</th>\n",
       "      <td>43724.8</td>\n",
       "      <td>0.00</td>\n",
       "      <td>43724</td>\n",
       "      <td>18</td>\n",
       "    </tr>\n",
       "    <tr>\n",
       "      <th>17000</th>\n",
       "      <td>43724.8</td>\n",
       "      <td>0.00</td>\n",
       "      <td>43724</td>\n",
       "      <td>18</td>\n",
       "    </tr>\n",
       "    <tr>\n",
       "      <th>17073</th>\n",
       "      <td>43727.8</td>\n",
       "      <td>5.02</td>\n",
       "      <td>43727</td>\n",
       "      <td>19</td>\n",
       "    </tr>\n",
       "    <tr>\n",
       "      <th>17074</th>\n",
       "      <td>43727.8</td>\n",
       "      <td>5.02</td>\n",
       "      <td>43727</td>\n",
       "      <td>19</td>\n",
       "    </tr>\n",
       "    <tr>\n",
       "      <th>17125</th>\n",
       "      <td>43730</td>\n",
       "      <td>7.97</td>\n",
       "      <td>43729</td>\n",
       "      <td>23</td>\n",
       "    </tr>\n",
       "    <tr>\n",
       "      <th>17126</th>\n",
       "      <td>43730</td>\n",
       "      <td>7.97</td>\n",
       "      <td>43729</td>\n",
       "      <td>23</td>\n",
       "    </tr>\n",
       "    <tr>\n",
       "      <th>17127</th>\n",
       "      <td>43730</td>\n",
       "      <td>7.97</td>\n",
       "      <td>43729</td>\n",
       "      <td>23</td>\n",
       "    </tr>\n",
       "    <tr>\n",
       "      <th>17128</th>\n",
       "      <td>43730</td>\n",
       "      <td>7.97</td>\n",
       "      <td>43729</td>\n",
       "      <td>23</td>\n",
       "    </tr>\n",
       "    <tr>\n",
       "      <th>17129</th>\n",
       "      <td>43730</td>\n",
       "      <td>7.97</td>\n",
       "      <td>43729</td>\n",
       "      <td>23</td>\n",
       "    </tr>\n",
       "    <tr>\n",
       "      <th>17130</th>\n",
       "      <td>43730</td>\n",
       "      <td>7.97</td>\n",
       "      <td>43729</td>\n",
       "      <td>23</td>\n",
       "    </tr>\n",
       "    <tr>\n",
       "      <th>17131</th>\n",
       "      <td>43730</td>\n",
       "      <td>7.97</td>\n",
       "      <td>43729</td>\n",
       "      <td>23</td>\n",
       "    </tr>\n",
       "    <tr>\n",
       "      <th>17132</th>\n",
       "      <td>43730</td>\n",
       "      <td>7.97</td>\n",
       "      <td>43729</td>\n",
       "      <td>23</td>\n",
       "    </tr>\n",
       "    <tr>\n",
       "      <th>17133</th>\n",
       "      <td>43730</td>\n",
       "      <td>7.97</td>\n",
       "      <td>43729</td>\n",
       "      <td>23</td>\n",
       "    </tr>\n",
       "    <tr>\n",
       "      <th>17134</th>\n",
       "      <td>43730</td>\n",
       "      <td>7.97</td>\n",
       "      <td>43729</td>\n",
       "      <td>23</td>\n",
       "    </tr>\n",
       "    <tr>\n",
       "      <th>17135</th>\n",
       "      <td>43730</td>\n",
       "      <td>7.97</td>\n",
       "      <td>43729</td>\n",
       "      <td>23</td>\n",
       "    </tr>\n",
       "    <tr>\n",
       "      <th>17136</th>\n",
       "      <td>43730</td>\n",
       "      <td>7.97</td>\n",
       "      <td>43729</td>\n",
       "      <td>23</td>\n",
       "    </tr>\n",
       "    <tr>\n",
       "      <th>17137</th>\n",
       "      <td>43730</td>\n",
       "      <td>7.97</td>\n",
       "      <td>43729</td>\n",
       "      <td>23</td>\n",
       "    </tr>\n",
       "    <tr>\n",
       "      <th>17138</th>\n",
       "      <td>43730</td>\n",
       "      <td>7.97</td>\n",
       "      <td>43729</td>\n",
       "      <td>23</td>\n",
       "    </tr>\n",
       "    <tr>\n",
       "      <th>17139</th>\n",
       "      <td>43730</td>\n",
       "      <td>7.97</td>\n",
       "      <td>43729</td>\n",
       "      <td>23</td>\n",
       "    </tr>\n",
       "    <tr>\n",
       "      <th>17140</th>\n",
       "      <td>43730</td>\n",
       "      <td>7.97</td>\n",
       "      <td>43729</td>\n",
       "      <td>23</td>\n",
       "    </tr>\n",
       "    <tr>\n",
       "      <th>17141</th>\n",
       "      <td>43730</td>\n",
       "      <td>7.97</td>\n",
       "      <td>43729</td>\n",
       "      <td>23</td>\n",
       "    </tr>\n",
       "    <tr>\n",
       "      <th>17493</th>\n",
       "      <td>43745.3</td>\n",
       "      <td>1.01</td>\n",
       "      <td>43745</td>\n",
       "      <td>7</td>\n",
       "    </tr>\n",
       "    <tr>\n",
       "      <th>17494</th>\n",
       "      <td>43745.3</td>\n",
       "      <td>1.01</td>\n",
       "      <td>43745</td>\n",
       "      <td>7</td>\n",
       "    </tr>\n",
       "  </tbody>\n",
       "</table>\n",
       "<p>361 rows × 4 columns</p>\n",
       "</div>"
      ],
      "text/plain": [
       "        DecDay  Turb_NTU  daynum  hr\n",
       "14788  43632.5     21.00   43632  12\n",
       "14789  43632.5     21.00   43632  12\n",
       "14954  43639.4     19.37   43639  10\n",
       "14955  43639.4     19.37   43639  10\n",
       "14956  43639.4     19.37   43639  10\n",
       "14957  43639.4     19.37   43639  10\n",
       "14958  43639.4     19.37   43639  10\n",
       "14959  43639.4     19.37   43639  10\n",
       "14960  43639.4     19.37   43639  10\n",
       "14961  43639.4     19.37   43639  10\n",
       "14962  43639.4     19.37   43639  10\n",
       "14963  43639.4     19.37   43639  10\n",
       "14964  43639.4     19.37   43639  10\n",
       "14965  43639.4     19.37   43639  10\n",
       "14966  43639.4     19.37   43639  10\n",
       "14967  43639.4     19.37   43639  10\n",
       "14968  43639.4     19.37   43639  10\n",
       "14969  43639.4     19.37   43639  10\n",
       "14970  43639.4     19.37   43639  10\n",
       "14971  43639.4     19.37   43639  10\n",
       "14972  43639.4     19.37   43639  10\n",
       "14973  43639.4     19.37   43639  10\n",
       "14974  43639.4     19.37   43639  10\n",
       "14975  43639.4     19.37   43639  10\n",
       "14976  43639.4     19.37   43639  10\n",
       "14977  43639.4     19.37   43639  10\n",
       "14978  43639.4     19.37   43639  10\n",
       "14979  43639.4     19.37   43639  10\n",
       "14980  43639.4     19.37   43639  10\n",
       "14981  43639.4     19.37   43639  10\n",
       "...        ...       ...     ...  ..\n",
       "16632    43706      5.69   43706   0\n",
       "16633    43706      5.69   43706   0\n",
       "16634    43706      5.69   43706   0\n",
       "16635    43706      5.69   43706   0\n",
       "16636    43706      5.69   43706   0\n",
       "16637    43706      5.69   43706   0\n",
       "16638    43706      5.69   43706   0\n",
       "16999  43724.8      0.00   43724  18\n",
       "17000  43724.8      0.00   43724  18\n",
       "17073  43727.8      5.02   43727  19\n",
       "17074  43727.8      5.02   43727  19\n",
       "17125    43730      7.97   43729  23\n",
       "17126    43730      7.97   43729  23\n",
       "17127    43730      7.97   43729  23\n",
       "17128    43730      7.97   43729  23\n",
       "17129    43730      7.97   43729  23\n",
       "17130    43730      7.97   43729  23\n",
       "17131    43730      7.97   43729  23\n",
       "17132    43730      7.97   43729  23\n",
       "17133    43730      7.97   43729  23\n",
       "17134    43730      7.97   43729  23\n",
       "17135    43730      7.97   43729  23\n",
       "17136    43730      7.97   43729  23\n",
       "17137    43730      7.97   43729  23\n",
       "17138    43730      7.97   43729  23\n",
       "17139    43730      7.97   43729  23\n",
       "17140    43730      7.97   43729  23\n",
       "17141    43730      7.97   43729  23\n",
       "17493  43745.3      1.01   43745   7\n",
       "17494  43745.3      1.01   43745   7\n",
       "\n",
       "[361 rows x 4 columns]"
      ]
     },
     "execution_count": 14,
     "metadata": {},
     "output_type": "execute_result"
    }
   ],
   "source": [
    "df.loc[df.duplicated(subset=('daynum','hr'),keep=False)]"
   ]
  },
  {
   "cell_type": "code",
   "execution_count": 15,
   "metadata": {
    "collapsed": false
   },
   "outputs": [],
   "source": [
    "# get rid ofduplicate rows\n",
    "df.drop_duplicates(subset=('daynum','hr'),keep='first',inplace=True)\n",
    "df.reset_index(inplace=True)"
   ]
  },
  {
   "cell_type": "code",
   "execution_count": 16,
   "metadata": {
    "collapsed": false
   },
   "outputs": [
    {
     "data": {
      "text/html": [
       "<div>\n",
       "<style scoped>\n",
       "    .dataframe tbody tr th:only-of-type {\n",
       "        vertical-align: middle;\n",
       "    }\n",
       "\n",
       "    .dataframe tbody tr th {\n",
       "        vertical-align: top;\n",
       "    }\n",
       "\n",
       "    .dataframe thead th {\n",
       "        text-align: right;\n",
       "    }\n",
       "</style>\n",
       "<table border=\"1\" class=\"dataframe\">\n",
       "  <thead>\n",
       "    <tr style=\"text-align: right;\">\n",
       "      <th></th>\n",
       "      <th>index</th>\n",
       "      <th>DecDay</th>\n",
       "      <th>Turb_NTU</th>\n",
       "      <th>daynum</th>\n",
       "      <th>hr</th>\n",
       "    </tr>\n",
       "  </thead>\n",
       "  <tbody>\n",
       "    <tr>\n",
       "      <th>0</th>\n",
       "      <td>14728</td>\n",
       "      <td>43630</td>\n",
       "      <td>18.23</td>\n",
       "      <td>43630</td>\n",
       "      <td>0</td>\n",
       "    </tr>\n",
       "  </tbody>\n",
       "</table>\n",
       "</div>"
      ],
      "text/plain": [
       "   index DecDay  Turb_NTU  daynum  hr\n",
       "0  14728  43630     18.23   43630   0"
      ]
     },
     "execution_count": 16,
     "metadata": {},
     "output_type": "execute_result"
    }
   ],
   "source": [
    "df[(df.daynum==(startdate-dt.date(1900,1,1)).days)&(df.hr==0)]"
   ]
  },
  {
   "cell_type": "code",
   "execution_count": 17,
   "metadata": {
    "collapsed": false
   },
   "outputs": [
    {
     "data": {
      "text/plain": [
       "<pandas.core.indexing._iLocIndexer at 0x7f0fe93f7ae8>"
      ]
     },
     "execution_count": 17,
     "metadata": {},
     "output_type": "execute_result"
    }
   ],
   "source": [
    "df[(df.daynum==(startdate-dt.date(1900,1,1)).days)&(df.hr==0)].iloc"
   ]
  },
  {
   "cell_type": "code",
   "execution_count": 18,
   "metadata": {
    "collapsed": false
   },
   "outputs": [
    {
     "data": {
      "text/html": [
       "<div>\n",
       "<style scoped>\n",
       "    .dataframe tbody tr th:only-of-type {\n",
       "        vertical-align: middle;\n",
       "    }\n",
       "\n",
       "    .dataframe tbody tr th {\n",
       "        vertical-align: top;\n",
       "    }\n",
       "\n",
       "    .dataframe thead th {\n",
       "        text-align: right;\n",
       "    }\n",
       "</style>\n",
       "<table border=\"1\" class=\"dataframe\">\n",
       "  <thead>\n",
       "    <tr style=\"text-align: right;\">\n",
       "      <th></th>\n",
       "      <th>index</th>\n",
       "      <th>DecDay</th>\n",
       "      <th>Turb_NTU</th>\n",
       "      <th>daynum</th>\n",
       "      <th>hr</th>\n",
       "    </tr>\n",
       "  </thead>\n",
       "  <tbody>\n",
       "    <tr>\n",
       "      <th>2432</th>\n",
       "      <td>17533</td>\n",
       "      <td>43747</td>\n",
       "      <td>0.0</td>\n",
       "      <td>43746</td>\n",
       "      <td>23</td>\n",
       "    </tr>\n",
       "  </tbody>\n",
       "</table>\n",
       "</div>"
      ],
      "text/plain": [
       "      index DecDay  Turb_NTU  daynum  hr\n",
       "2432  17533  43747       0.0   43746  23"
      ]
     },
     "execution_count": 18,
     "metadata": {},
     "output_type": "execute_result"
    }
   ],
   "source": [
    "df[(df.daynum==(enddate-dt.date(1900,1,1)-dt.timedelta(days=1)).days)&(df.hr==23)]"
   ]
  },
  {
   "cell_type": "code",
   "execution_count": 19,
   "metadata": {
    "collapsed": false
   },
   "outputs": [
    {
     "name": "stderr",
     "output_type": "stream",
     "text": [
      "/home/eolson/anaconda3/envs/py37/lib/python3.7/site-packages/matplotlib/pyplot.py:514: RuntimeWarning: More than 20 figures have been opened. Figures created through the pyplot interface (`matplotlib.pyplot.figure`) are retained until explicitly closed and may consume too much memory. (To control this warning, see the rcParam `figure.max_open_warning`).\n",
      "  max_open_warning, RuntimeWarning)\n"
     ]
    },
    {
     "data": {
      "image/png": "[encoded data removed]",
      "text/plain": [
       "<Figure size 1008x72 with 1 Axes>"
      ]
     },
     "metadata": {
      "needs_background": "light"
     },
     "output_type": "display_data"
    },
    {
     "data": {
      "image/png": "[encoded data removed]",
      "text/plain": [
       "<Figure size 1008x72 with 1 Axes>"
      ]
     },
     "metadata": {
      "needs_background": "light"
     },
     "output_type": "display_data"
    },
    {
     "data": {
      "image/png": "[encoded data removed]",
      "text/plain": [
       "<Figure size 1008x72 with 1 Axes>"
      ]
     },
     "metadata": {
      "needs_background": "light"
     },
     "output_type": "display_data"
    },
    {
     "data": {
      "image/png": "[encoded data removed]",
      "text/plain": [
       "<Figure size 1008x72 with 1 Axes>"
      ]
     },
     "metadata": {
      "needs_background": "light"
     },
     "output_type": "display_data"
    },
    {
     "data": {
      "image/png": "[encoded data removed]",
      "text/plain": [
       "<Figure size 1008x72 with 1 Axes>"
      ]
     },
     "metadata": {
      "needs_background": "light"
     },
     "output_type": "display_data"
    },
    {
     "data": {
      "image/png": "[encoded data removed]",
      "text/plain": [
       "<Figure size 1008x72 with 1 Axes>"
      ]
     },
     "metadata": {
      "needs_background": "light"
     },
     "output_type": "display_data"
    },
    {
     "data": {
      "image/png": "[encoded data removed]",
      "text/plain": [
       "<Figure size 1008x72 with 1 Axes>"
      ]
     },
     "metadata": {
      "needs_background": "light"
     },
     "output_type": "display_data"
    },
    {
     "data": {
      "image/png": "[encoded data removed]",
      "text/plain": [
       "<Figure size 1008x72 with 1 Axes>"
      ]
     },
     "metadata": {
      "needs_background": "light"
     },
     "output_type": "display_data"
    },
    {
     "data": {
      "image/png": "[encoded data removed]",
      "text/plain": [
       "<Figure size 1008x72 with 1 Axes>"
      ]
     },
     "metadata": {
      "needs_background": "light"
     },
     "output_type": "display_data"
    },
    {
     "data": {
      "image/png": "[encoded data removed]",
      "text/plain": [
       "<Figure size 1008x72 with 1 Axes>"
      ]
     },
     "metadata": {
      "needs_background": "light"
     },
     "output_type": "display_data"
    },
    {
     "data": {
      "image/png": "[encoded data removed]",
      "text/plain": [
       "<Figure size 1008x72 with 1 Axes>"
      ]
     },
     "metadata": {
      "needs_background": "light"
     },
     "output_type": "display_data"
    },
    {
     "data": {
      "image/png": "[encoded data removed]",
      "text/plain": [
       "<Figure size 1008x72 with 1 Axes>"
      ]
     },
     "metadata": {
      "needs_background": "light"
     },
     "output_type": "display_data"
    },
    {
     "data": {
      "image/png": "[encoded data removed]",
      "text/plain": [
       "<Figure size 1008x72 with 1 Axes>"
      ]
     },
     "metadata": {
      "needs_background": "light"
     },
     "output_type": "display_data"
    },
    {
     "data": {
      "image/png": "[encoded data removed]",
      "text/plain": [
       "<Figure size 1008x72 with 1 Axes>"
      ]
     },
     "metadata": {
      "needs_background": "light"
     },
     "output_type": "display_data"
    },
    {
     "data": {
      "image/png": "[encoded data removed]",
      "text/plain": [
       "<Figure size 1008x72 with 1 Axes>"
      ]
     },
     "metadata": {
      "needs_background": "light"
     },
     "output_type": "display_data"
    },
    {
     "data": {
      "image/png": "[encoded data removed]",
      "text/plain": [
       "<Figure size 1008x72 with 1 Axes>"
      ]
     },
     "metadata": {
      "needs_background": "light"
     },
     "output_type": "display_data"
    },
    {
     "data": {
      "image/png": "[encoded data removed]",
      "text/plain": [
       "<Figure size 1008x72 with 1 Axes>"
      ]
     },
     "metadata": {
      "needs_background": "light"
     },
     "output_type": "display_data"
    },
    {
     "data": {
      "image/png": "[encoded data removed]",
      "text/plain": [
       "<Figure size 1008x72 with 1 Axes>"
      ]
     },
     "metadata": {
      "needs_background": "light"
     },
     "output_type": "display_data"
    },
    {
     "data": {
      "image/png": "[encoded data removed]",
      "text/plain": [
       "<Figure size 1008x72 with 1 Axes>"
      ]
     },
     "metadata": {
      "needs_background": "light"
     },
     "output_type": "display_data"
    },
    {
     "data": {
      "image/png": "[encoded data removed]",
      "text/plain": [
       "<Figure size 1008x72 with 1 Axes>"
      ]
     },
     "metadata": {
      "needs_background": "light"
     },
     "output_type": "display_data"
    },
    {
     "data": {
      "image/png": "[encoded data removed]",
      "text/plain": [
       "<Figure size 1008x72 with 1 Axes>"
      ]
     },
     "metadata": {
      "needs_background": "light"
     },
     "output_type": "display_data"
    }
   ],
   "source": [
    "df0=df#[580:]\n",
    "ddlast=df[(df.daynum==(startdate-dt.date(1900,1,1)).days)&(df.hr==0)]['DecDay'].values[0]-1.0/24.0\n",
    "iout=0\n",
    "for ind, row in df0.iterrows():\n",
    "    #print(ind)\n",
    "    \n",
    "    # linearly interpolate breaks of 4 hrs or less\n",
    "    if (((row['DecDay']-ddlast)<5.5/24.0)&((row['DecDay']-ddlast)>1.5/24.0)): \n",
    "        tlast=df0.loc[ind-1]['Turb_NTU']\n",
    "        tnext=row['Turb_NTU']\n",
    "        ddnext=row['DecDay']\n",
    "        nint=int(np.round((ddnext-ddlast)*24)-1)\n",
    "        fig,ax=plt.subplots(1,1,figsize=(14,1))\n",
    "        ax.plot((df0.loc[(ind-12):(ind+12)]['DecDay']-ddlast)*24,df0.loc[(ind-12):(ind+12)]['Turb_NTU'],'r.')\n",
    "        ax.set_title(str(ind))\n",
    "        for ii in range(1,nint+1):\n",
    "            dd0=ddlast+ii/24.0\n",
    "            tur0=tlast+(dd0-ddlast)/(ddnext-ddlast)*(tnext-tlast)\n",
    "            ax.plot((dd0-ddlast)*24,tur0,'bx')\n",
    "            if ((dfout.loc[iout]['DayNum']+dfout.loc[iout]['Hour']/24.0-dd0)<.5/24.0):\n",
    "                dfout.loc[iout]['Turb_NTU']=tur0\n",
    "                iout+=1\n",
    "            else:\n",
    "                print('ERROR 2:')\n",
    "                print(dfout.loc[iout]['DayNum']+dfout.loc[iout]['Hour']/24.0,\n",
    "                      dd0,dfout.loc[iout]['DayNum']+dfout.loc[iout]['Hour']/24.0-dd0,.5/24.0)\n",
    "                break\n",
    "    elif ((row['DecDay']-ddlast)>5.5/24.0):# fill in larger holes with NaNs; interpolate between days later\n",
    "        fig,ax=plt.subplots(1,1,figsize=(14,1))\n",
    "        ax.plot(df0.loc[(ind-72):(ind+72)]['DecDay']-ddlast,df0.loc[(ind-72):(ind+72)]['Turb_NTU'],'m.')\n",
    "        ax.set_title(str(ind))\n",
    "        nint=int(np.round((row['DecDay']-ddlast)*24)-1)\n",
    "        for ii in range(1,nint+1):\n",
    "            dd0=ddlast+ii/24.0\n",
    "            ax.plot((dd0-ddlast),0,'cx')\n",
    "            if ((dfout.loc[iout]['DayNum']+dfout.loc[iout]['Hour']/24.0-dd0)<.5/24.0):\n",
    "                dfout.loc[iout]['Turb_NTU']=np.nan\n",
    "                iout+=1\n",
    "            else:\n",
    "                print('ERROR 4:')\n",
    "                break\n",
    "    # always append current row's value\n",
    "    if ((dfout.loc[iout]['DayNum']==row['daynum'])&(dfout.loc[iout]['Hour']==row['hr'])):\n",
    "        dfout.loc[iout]['Turb_NTU']=row['Turb_NTU']\n",
    "    else:\n",
    "        print('ERROR 1:')\n",
    "        print('iout=',iout,'ind=',ind)\n",
    "        print(dfout.loc[iout]['DayNum'],row['daynum'],dfout.loc[iout]['Hour'],row['hr'])\n",
    "        break\n",
    "    iout+=1\n",
    "    ddlast=row['DecDay']"
   ]
  },
  {
   "cell_type": "code",
   "execution_count": 20,
   "metadata": {
    "collapsed": false
   },
   "outputs": [
    {
     "data": {
      "text/html": [
       "<div>\n",
       "<style scoped>\n",
       "    .dataframe tbody tr th:only-of-type {\n",
       "        vertical-align: middle;\n",
       "    }\n",
       "\n",
       "    .dataframe tbody tr th {\n",
       "        vertical-align: top;\n",
       "    }\n",
       "\n",
       "    .dataframe thead th {\n",
       "        text-align: right;\n",
       "    }\n",
       "</style>\n",
       "<table border=\"1\" class=\"dataframe\">\n",
       "  <thead>\n",
       "    <tr style=\"text-align: right;\">\n",
       "      <th></th>\n",
       "      <th>index</th>\n",
       "      <th>DecDay</th>\n",
       "      <th>Turb_NTU</th>\n",
       "      <th>daynum</th>\n",
       "      <th>hr</th>\n",
       "    </tr>\n",
       "  </thead>\n",
       "  <tbody>\n",
       "    <tr>\n",
       "      <th>55</th>\n",
       "      <td>14783</td>\n",
       "      <td>43632.3</td>\n",
       "      <td>21.90</td>\n",
       "      <td>43632</td>\n",
       "      <td>7</td>\n",
       "    </tr>\n",
       "    <tr>\n",
       "      <th>56</th>\n",
       "      <td>14784</td>\n",
       "      <td>43632.3</td>\n",
       "      <td>22.50</td>\n",
       "      <td>43632</td>\n",
       "      <td>8</td>\n",
       "    </tr>\n",
       "    <tr>\n",
       "      <th>57</th>\n",
       "      <td>14785</td>\n",
       "      <td>43632.4</td>\n",
       "      <td>22.39</td>\n",
       "      <td>43632</td>\n",
       "      <td>9</td>\n",
       "    </tr>\n",
       "    <tr>\n",
       "      <th>58</th>\n",
       "      <td>14786</td>\n",
       "      <td>43632.4</td>\n",
       "      <td>21.88</td>\n",
       "      <td>43632</td>\n",
       "      <td>10</td>\n",
       "    </tr>\n",
       "    <tr>\n",
       "      <th>59</th>\n",
       "      <td>14787</td>\n",
       "      <td>43632.5</td>\n",
       "      <td>20.81</td>\n",
       "      <td>43632</td>\n",
       "      <td>11</td>\n",
       "    </tr>\n",
       "    <tr>\n",
       "      <th>60</th>\n",
       "      <td>14788</td>\n",
       "      <td>43632.5</td>\n",
       "      <td>21.00</td>\n",
       "      <td>43632</td>\n",
       "      <td>12</td>\n",
       "    </tr>\n",
       "    <tr>\n",
       "      <th>61</th>\n",
       "      <td>14790</td>\n",
       "      <td>43632.6</td>\n",
       "      <td>21.84</td>\n",
       "      <td>43632</td>\n",
       "      <td>14</td>\n",
       "    </tr>\n",
       "    <tr>\n",
       "      <th>62</th>\n",
       "      <td>14791</td>\n",
       "      <td>43632.6</td>\n",
       "      <td>22.72</td>\n",
       "      <td>43632</td>\n",
       "      <td>15</td>\n",
       "    </tr>\n",
       "    <tr>\n",
       "      <th>63</th>\n",
       "      <td>14792</td>\n",
       "      <td>43632.7</td>\n",
       "      <td>24.79</td>\n",
       "      <td>43632</td>\n",
       "      <td>16</td>\n",
       "    </tr>\n",
       "    <tr>\n",
       "      <th>64</th>\n",
       "      <td>14793</td>\n",
       "      <td>43632.7</td>\n",
       "      <td>29.68</td>\n",
       "      <td>43632</td>\n",
       "      <td>17</td>\n",
       "    </tr>\n",
       "  </tbody>\n",
       "</table>\n",
       "</div>"
      ],
      "text/plain": [
       "    index   DecDay  Turb_NTU  daynum  hr\n",
       "55  14783  43632.3     21.90   43632   7\n",
       "56  14784  43632.3     22.50   43632   8\n",
       "57  14785  43632.4     22.39   43632   9\n",
       "58  14786  43632.4     21.88   43632  10\n",
       "59  14787  43632.5     20.81   43632  11\n",
       "60  14788  43632.5     21.00   43632  12\n",
       "61  14790  43632.6     21.84   43632  14\n",
       "62  14791  43632.6     22.72   43632  15\n",
       "63  14792  43632.7     24.79   43632  16\n",
       "64  14793  43632.7     29.68   43632  17"
      ]
     },
     "execution_count": 20,
     "metadata": {},
     "output_type": "execute_result"
    }
   ],
   "source": [
    "df.iloc[55:65]"
   ]
  },
  {
   "cell_type": "code",
   "execution_count": 21,
   "metadata": {
    "collapsed": false
   },
   "outputs": [
    {
     "data": {
      "text/html": [
       "<div>\n",
       "<style scoped>\n",
       "    .dataframe tbody tr th:only-of-type {\n",
       "        vertical-align: middle;\n",
       "    }\n",
       "\n",
       "    .dataframe tbody tr th {\n",
       "        vertical-align: top;\n",
       "    }\n",
       "\n",
       "    .dataframe thead th {\n",
       "        text-align: right;\n",
       "    }\n",
       "</style>\n",
       "<table border=\"1\" class=\"dataframe\">\n",
       "  <thead>\n",
       "    <tr style=\"text-align: right;\">\n",
       "      <th></th>\n",
       "      <th>DayNum</th>\n",
       "      <th>Hour</th>\n",
       "      <th>Turb_NTU</th>\n",
       "    </tr>\n",
       "  </thead>\n",
       "  <tbody>\n",
       "    <tr>\n",
       "      <th>0</th>\n",
       "      <td>43630</td>\n",
       "      <td>0</td>\n",
       "      <td>18.23</td>\n",
       "    </tr>\n",
       "    <tr>\n",
       "      <th>1</th>\n",
       "      <td>43630</td>\n",
       "      <td>1</td>\n",
       "      <td>17.43</td>\n",
       "    </tr>\n",
       "    <tr>\n",
       "      <th>2</th>\n",
       "      <td>43630</td>\n",
       "      <td>2</td>\n",
       "      <td>16.96</td>\n",
       "    </tr>\n",
       "    <tr>\n",
       "      <th>3</th>\n",
       "      <td>43630</td>\n",
       "      <td>3</td>\n",
       "      <td>16.64</td>\n",
       "    </tr>\n",
       "    <tr>\n",
       "      <th>4</th>\n",
       "      <td>43630</td>\n",
       "      <td>4</td>\n",
       "      <td>17.73</td>\n",
       "    </tr>\n",
       "    <tr>\n",
       "      <th>5</th>\n",
       "      <td>43630</td>\n",
       "      <td>5</td>\n",
       "      <td>18.15</td>\n",
       "    </tr>\n",
       "    <tr>\n",
       "      <th>6</th>\n",
       "      <td>43630</td>\n",
       "      <td>6</td>\n",
       "      <td>18.69</td>\n",
       "    </tr>\n",
       "    <tr>\n",
       "      <th>7</th>\n",
       "      <td>43630</td>\n",
       "      <td>7</td>\n",
       "      <td>20.08</td>\n",
       "    </tr>\n",
       "    <tr>\n",
       "      <th>8</th>\n",
       "      <td>43630</td>\n",
       "      <td>8</td>\n",
       "      <td>16.73</td>\n",
       "    </tr>\n",
       "    <tr>\n",
       "      <th>9</th>\n",
       "      <td>43630</td>\n",
       "      <td>9</td>\n",
       "      <td>17.94</td>\n",
       "    </tr>\n",
       "    <tr>\n",
       "      <th>10</th>\n",
       "      <td>43630</td>\n",
       "      <td>10</td>\n",
       "      <td>17.23</td>\n",
       "    </tr>\n",
       "    <tr>\n",
       "      <th>11</th>\n",
       "      <td>43630</td>\n",
       "      <td>11</td>\n",
       "      <td>14.94</td>\n",
       "    </tr>\n",
       "    <tr>\n",
       "      <th>12</th>\n",
       "      <td>43630</td>\n",
       "      <td>12</td>\n",
       "      <td>15.99</td>\n",
       "    </tr>\n",
       "    <tr>\n",
       "      <th>13</th>\n",
       "      <td>43630</td>\n",
       "      <td>13</td>\n",
       "      <td>15.66</td>\n",
       "    </tr>\n",
       "    <tr>\n",
       "      <th>14</th>\n",
       "      <td>43630</td>\n",
       "      <td>14</td>\n",
       "      <td>20.31</td>\n",
       "    </tr>\n",
       "    <tr>\n",
       "      <th>15</th>\n",
       "      <td>43630</td>\n",
       "      <td>15</td>\n",
       "      <td>21.46</td>\n",
       "    </tr>\n",
       "    <tr>\n",
       "      <th>16</th>\n",
       "      <td>43630</td>\n",
       "      <td>16</td>\n",
       "      <td>25.37</td>\n",
       "    </tr>\n",
       "    <tr>\n",
       "      <th>17</th>\n",
       "      <td>43630</td>\n",
       "      <td>17</td>\n",
       "      <td>26.45</td>\n",
       "    </tr>\n",
       "    <tr>\n",
       "      <th>18</th>\n",
       "      <td>43630</td>\n",
       "      <td>18</td>\n",
       "      <td>28.66</td>\n",
       "    </tr>\n",
       "    <tr>\n",
       "      <th>19</th>\n",
       "      <td>43630</td>\n",
       "      <td>19</td>\n",
       "      <td>29.38</td>\n",
       "    </tr>\n",
       "    <tr>\n",
       "      <th>20</th>\n",
       "      <td>43630</td>\n",
       "      <td>20</td>\n",
       "      <td>28.82</td>\n",
       "    </tr>\n",
       "    <tr>\n",
       "      <th>21</th>\n",
       "      <td>43630</td>\n",
       "      <td>21</td>\n",
       "      <td>29.55</td>\n",
       "    </tr>\n",
       "    <tr>\n",
       "      <th>22</th>\n",
       "      <td>43630</td>\n",
       "      <td>22</td>\n",
       "      <td>27.1</td>\n",
       "    </tr>\n",
       "    <tr>\n",
       "      <th>23</th>\n",
       "      <td>43630</td>\n",
       "      <td>23</td>\n",
       "      <td>24.66</td>\n",
       "    </tr>\n",
       "    <tr>\n",
       "      <th>24</th>\n",
       "      <td>43631</td>\n",
       "      <td>0</td>\n",
       "      <td>20.19</td>\n",
       "    </tr>\n",
       "    <tr>\n",
       "      <th>25</th>\n",
       "      <td>43631</td>\n",
       "      <td>1</td>\n",
       "      <td>20.74</td>\n",
       "    </tr>\n",
       "    <tr>\n",
       "      <th>26</th>\n",
       "      <td>43631</td>\n",
       "      <td>2</td>\n",
       "      <td>19.05</td>\n",
       "    </tr>\n",
       "    <tr>\n",
       "      <th>27</th>\n",
       "      <td>43631</td>\n",
       "      <td>3</td>\n",
       "      <td>18.68</td>\n",
       "    </tr>\n",
       "    <tr>\n",
       "      <th>28</th>\n",
       "      <td>43631</td>\n",
       "      <td>4</td>\n",
       "      <td>17.13</td>\n",
       "    </tr>\n",
       "    <tr>\n",
       "      <th>29</th>\n",
       "      <td>43631</td>\n",
       "      <td>5</td>\n",
       "      <td>19.32</td>\n",
       "    </tr>\n",
       "    <tr>\n",
       "      <th>...</th>\n",
       "      <td>...</td>\n",
       "      <td>...</td>\n",
       "      <td>...</td>\n",
       "    </tr>\n",
       "    <tr>\n",
       "      <th>2802</th>\n",
       "      <td>43746</td>\n",
       "      <td>18</td>\n",
       "      <td>3.6</td>\n",
       "    </tr>\n",
       "    <tr>\n",
       "      <th>2803</th>\n",
       "      <td>43746</td>\n",
       "      <td>19</td>\n",
       "      <td>3.06</td>\n",
       "    </tr>\n",
       "    <tr>\n",
       "      <th>2804</th>\n",
       "      <td>43746</td>\n",
       "      <td>20</td>\n",
       "      <td>0.69</td>\n",
       "    </tr>\n",
       "    <tr>\n",
       "      <th>2805</th>\n",
       "      <td>43746</td>\n",
       "      <td>21</td>\n",
       "      <td>1.27</td>\n",
       "    </tr>\n",
       "    <tr>\n",
       "      <th>2806</th>\n",
       "      <td>43746</td>\n",
       "      <td>22</td>\n",
       "      <td>0</td>\n",
       "    </tr>\n",
       "    <tr>\n",
       "      <th>2807</th>\n",
       "      <td>43746</td>\n",
       "      <td>23</td>\n",
       "      <td>0</td>\n",
       "    </tr>\n",
       "    <tr>\n",
       "      <th>2808</th>\n",
       "      <td>43747</td>\n",
       "      <td>0</td>\n",
       "      <td>NaN</td>\n",
       "    </tr>\n",
       "    <tr>\n",
       "      <th>2809</th>\n",
       "      <td>43747</td>\n",
       "      <td>1</td>\n",
       "      <td>NaN</td>\n",
       "    </tr>\n",
       "    <tr>\n",
       "      <th>2810</th>\n",
       "      <td>43747</td>\n",
       "      <td>2</td>\n",
       "      <td>NaN</td>\n",
       "    </tr>\n",
       "    <tr>\n",
       "      <th>2811</th>\n",
       "      <td>43747</td>\n",
       "      <td>3</td>\n",
       "      <td>NaN</td>\n",
       "    </tr>\n",
       "    <tr>\n",
       "      <th>2812</th>\n",
       "      <td>43747</td>\n",
       "      <td>4</td>\n",
       "      <td>NaN</td>\n",
       "    </tr>\n",
       "    <tr>\n",
       "      <th>2813</th>\n",
       "      <td>43747</td>\n",
       "      <td>5</td>\n",
       "      <td>NaN</td>\n",
       "    </tr>\n",
       "    <tr>\n",
       "      <th>2814</th>\n",
       "      <td>43747</td>\n",
       "      <td>6</td>\n",
       "      <td>NaN</td>\n",
       "    </tr>\n",
       "    <tr>\n",
       "      <th>2815</th>\n",
       "      <td>43747</td>\n",
       "      <td>7</td>\n",
       "      <td>NaN</td>\n",
       "    </tr>\n",
       "    <tr>\n",
       "      <th>2816</th>\n",
       "      <td>43747</td>\n",
       "      <td>8</td>\n",
       "      <td>NaN</td>\n",
       "    </tr>\n",
       "    <tr>\n",
       "      <th>2817</th>\n",
       "      <td>43747</td>\n",
       "      <td>9</td>\n",
       "      <td>NaN</td>\n",
       "    </tr>\n",
       "    <tr>\n",
       "      <th>2818</th>\n",
       "      <td>43747</td>\n",
       "      <td>10</td>\n",
       "      <td>NaN</td>\n",
       "    </tr>\n",
       "    <tr>\n",
       "      <th>2819</th>\n",
       "      <td>43747</td>\n",
       "      <td>11</td>\n",
       "      <td>NaN</td>\n",
       "    </tr>\n",
       "    <tr>\n",
       "      <th>2820</th>\n",
       "      <td>43747</td>\n",
       "      <td>12</td>\n",
       "      <td>NaN</td>\n",
       "    </tr>\n",
       "    <tr>\n",
       "      <th>2821</th>\n",
       "      <td>43747</td>\n",
       "      <td>13</td>\n",
       "      <td>NaN</td>\n",
       "    </tr>\n",
       "    <tr>\n",
       "      <th>2822</th>\n",
       "      <td>43747</td>\n",
       "      <td>14</td>\n",
       "      <td>NaN</td>\n",
       "    </tr>\n",
       "    <tr>\n",
       "      <th>2823</th>\n",
       "      <td>43747</td>\n",
       "      <td>15</td>\n",
       "      <td>NaN</td>\n",
       "    </tr>\n",
       "    <tr>\n",
       "      <th>2824</th>\n",
       "      <td>43747</td>\n",
       "      <td>16</td>\n",
       "      <td>NaN</td>\n",
       "    </tr>\n",
       "    <tr>\n",
       "      <th>2825</th>\n",
       "      <td>43747</td>\n",
       "      <td>17</td>\n",
       "      <td>NaN</td>\n",
       "    </tr>\n",
       "    <tr>\n",
       "      <th>2826</th>\n",
       "      <td>43747</td>\n",
       "      <td>18</td>\n",
       "      <td>NaN</td>\n",
       "    </tr>\n",
       "    <tr>\n",
       "      <th>2827</th>\n",
       "      <td>43747</td>\n",
       "      <td>19</td>\n",
       "      <td>NaN</td>\n",
       "    </tr>\n",
       "    <tr>\n",
       "      <th>2828</th>\n",
       "      <td>43747</td>\n",
       "      <td>20</td>\n",
       "      <td>NaN</td>\n",
       "    </tr>\n",
       "    <tr>\n",
       "      <th>2829</th>\n",
       "      <td>43747</td>\n",
       "      <td>21</td>\n",
       "      <td>NaN</td>\n",
       "    </tr>\n",
       "    <tr>\n",
       "      <th>2830</th>\n",
       "      <td>43747</td>\n",
       "      <td>22</td>\n",
       "      <td>NaN</td>\n",
       "    </tr>\n",
       "    <tr>\n",
       "      <th>2831</th>\n",
       "      <td>43747</td>\n",
       "      <td>23</td>\n",
       "      <td>NaN</td>\n",
       "    </tr>\n",
       "  </tbody>\n",
       "</table>\n",
       "<p>2832 rows × 3 columns</p>\n",
       "</div>"
      ],
      "text/plain": [
       "     DayNum Hour Turb_NTU\n",
       "0     43630    0    18.23\n",
       "1     43630    1    17.43\n",
       "2     43630    2    16.96\n",
       "3     43630    3    16.64\n",
       "4     43630    4    17.73\n",
       "5     43630    5    18.15\n",
       "6     43630    6    18.69\n",
       "7     43630    7    20.08\n",
       "8     43630    8    16.73\n",
       "9     43630    9    17.94\n",
       "10    43630   10    17.23\n",
       "11    43630   11    14.94\n",
       "12    43630   12    15.99\n",
       "13    43630   13    15.66\n",
       "14    43630   14    20.31\n",
       "15    43630   15    21.46\n",
       "16    43630   16    25.37\n",
       "17    43630   17    26.45\n",
       "18    43630   18    28.66\n",
       "19    43630   19    29.38\n",
       "20    43630   20    28.82\n",
       "21    43630   21    29.55\n",
       "22    43630   22     27.1\n",
       "23    43630   23    24.66\n",
       "24    43631    0    20.19\n",
       "25    43631    1    20.74\n",
       "26    43631    2    19.05\n",
       "27    43631    3    18.68\n",
       "28    43631    4    17.13\n",
       "29    43631    5    19.32\n",
       "...     ...  ...      ...\n",
       "2802  43746   18      3.6\n",
       "2803  43746   19     3.06\n",
       "2804  43746   20     0.69\n",
       "2805  43746   21     1.27\n",
       "2806  43746   22        0\n",
       "2807  43746   23        0\n",
       "2808  43747    0      NaN\n",
       "2809  43747    1      NaN\n",
       "2810  43747    2      NaN\n",
       "2811  43747    3      NaN\n",
       "2812  43747    4      NaN\n",
       "2813  43747    5      NaN\n",
       "2814  43747    6      NaN\n",
       "2815  43747    7      NaN\n",
       "2816  43747    8      NaN\n",
       "2817  43747    9      NaN\n",
       "2818  43747   10      NaN\n",
       "2819  43747   11      NaN\n",
       "2820  43747   12      NaN\n",
       "2821  43747   13      NaN\n",
       "2822  43747   14      NaN\n",
       "2823  43747   15      NaN\n",
       "2824  43747   16      NaN\n",
       "2825  43747   17      NaN\n",
       "2826  43747   18      NaN\n",
       "2827  43747   19      NaN\n",
       "2828  43747   20      NaN\n",
       "2829  43747   21      NaN\n",
       "2830  43747   22      NaN\n",
       "2831  43747   23      NaN\n",
       "\n",
       "[2832 rows x 3 columns]"
      ]
     },
     "execution_count": 21,
     "metadata": {},
     "output_type": "execute_result"
    }
   ],
   "source": [
    "dfout"
   ]
  },
  {
   "cell_type": "code",
   "execution_count": 22,
   "metadata": {
    "collapsed": false
   },
   "outputs": [],
   "source": [
    "for idd in range((startdate-dt.date(1900,1,1)).days,(enddate-dt.date(1900,1,1)).days):# intentionally don't fill in last one because of Nans\n",
    "    tdata=dfout[(dfout.DayNum==idd)&(dfout.Turb_NTU>0)]['Turb_NTU'].values # exclude NaNs\n",
    "    nn=len(tdata)\n",
    "    if nn>19: #more  than 80% of day represented\n",
    "        dfdaily.loc[dfdaily.DayNum==idd,'Turb_NTU']=np.mean(tdata)"
   ]
  },
  {
   "cell_type": "code",
   "execution_count": 23,
   "metadata": {
    "collapsed": false
   },
   "outputs": [
    {
     "data": {
      "text/html": [
       "<div>\n",
       "<style scoped>\n",
       "    .dataframe tbody tr th:only-of-type {\n",
       "        vertical-align: middle;\n",
       "    }\n",
       "\n",
       "    .dataframe tbody tr th {\n",
       "        vertical-align: top;\n",
       "    }\n",
       "\n",
       "    .dataframe thead th {\n",
       "        text-align: right;\n",
       "    }\n",
       "</style>\n",
       "<table border=\"1\" class=\"dataframe\">\n",
       "  <thead>\n",
       "    <tr style=\"text-align: right;\">\n",
       "      <th></th>\n",
       "      <th>DayNum</th>\n",
       "      <th>Turb_NTU</th>\n",
       "    </tr>\n",
       "  </thead>\n",
       "  <tbody>\n",
       "    <tr>\n",
       "      <th>0</th>\n",
       "      <td>43630</td>\n",
       "      <td>21.0067</td>\n",
       "    </tr>\n",
       "    <tr>\n",
       "      <th>1</th>\n",
       "      <td>43631</td>\n",
       "      <td>23.2433</td>\n",
       "    </tr>\n",
       "    <tr>\n",
       "      <th>2</th>\n",
       "      <td>43632</td>\n",
       "      <td>26.1179</td>\n",
       "    </tr>\n",
       "    <tr>\n",
       "      <th>3</th>\n",
       "      <td>43633</td>\n",
       "      <td>28.49</td>\n",
       "    </tr>\n",
       "    <tr>\n",
       "      <th>4</th>\n",
       "      <td>43634</td>\n",
       "      <td>29.2117</td>\n",
       "    </tr>\n",
       "    <tr>\n",
       "      <th>5</th>\n",
       "      <td>43635</td>\n",
       "      <td>27.6392</td>\n",
       "    </tr>\n",
       "    <tr>\n",
       "      <th>6</th>\n",
       "      <td>43636</td>\n",
       "      <td>25.9208</td>\n",
       "    </tr>\n",
       "    <tr>\n",
       "      <th>7</th>\n",
       "      <td>43637</td>\n",
       "      <td>24.6225</td>\n",
       "    </tr>\n",
       "    <tr>\n",
       "      <th>8</th>\n",
       "      <td>43638</td>\n",
       "      <td>23.2946</td>\n",
       "    </tr>\n",
       "    <tr>\n",
       "      <th>9</th>\n",
       "      <td>43639</td>\n",
       "      <td>NaN</td>\n",
       "    </tr>\n",
       "    <tr>\n",
       "      <th>10</th>\n",
       "      <td>43640</td>\n",
       "      <td>NaN</td>\n",
       "    </tr>\n",
       "    <tr>\n",
       "      <th>11</th>\n",
       "      <td>43641</td>\n",
       "      <td>NaN</td>\n",
       "    </tr>\n",
       "    <tr>\n",
       "      <th>12</th>\n",
       "      <td>43642</td>\n",
       "      <td>NaN</td>\n",
       "    </tr>\n",
       "    <tr>\n",
       "      <th>13</th>\n",
       "      <td>43643</td>\n",
       "      <td>NaN</td>\n",
       "    </tr>\n",
       "    <tr>\n",
       "      <th>14</th>\n",
       "      <td>43644</td>\n",
       "      <td>NaN</td>\n",
       "    </tr>\n",
       "    <tr>\n",
       "      <th>15</th>\n",
       "      <td>43645</td>\n",
       "      <td>NaN</td>\n",
       "    </tr>\n",
       "    <tr>\n",
       "      <th>16</th>\n",
       "      <td>43646</td>\n",
       "      <td>NaN</td>\n",
       "    </tr>\n",
       "    <tr>\n",
       "      <th>17</th>\n",
       "      <td>43647</td>\n",
       "      <td>NaN</td>\n",
       "    </tr>\n",
       "    <tr>\n",
       "      <th>18</th>\n",
       "      <td>43648</td>\n",
       "      <td>15.9148</td>\n",
       "    </tr>\n",
       "    <tr>\n",
       "      <th>19</th>\n",
       "      <td>43649</td>\n",
       "      <td>17.6363</td>\n",
       "    </tr>\n",
       "    <tr>\n",
       "      <th>20</th>\n",
       "      <td>43650</td>\n",
       "      <td>19.281</td>\n",
       "    </tr>\n",
       "    <tr>\n",
       "      <th>21</th>\n",
       "      <td>43651</td>\n",
       "      <td>19.7596</td>\n",
       "    </tr>\n",
       "    <tr>\n",
       "      <th>22</th>\n",
       "      <td>43652</td>\n",
       "      <td>22.2763</td>\n",
       "    </tr>\n",
       "    <tr>\n",
       "      <th>23</th>\n",
       "      <td>43653</td>\n",
       "      <td>45.6567</td>\n",
       "    </tr>\n",
       "    <tr>\n",
       "      <th>24</th>\n",
       "      <td>43654</td>\n",
       "      <td>129.891</td>\n",
       "    </tr>\n",
       "    <tr>\n",
       "      <th>25</th>\n",
       "      <td>43655</td>\n",
       "      <td>NaN</td>\n",
       "    </tr>\n",
       "    <tr>\n",
       "      <th>26</th>\n",
       "      <td>43656</td>\n",
       "      <td>NaN</td>\n",
       "    </tr>\n",
       "    <tr>\n",
       "      <th>27</th>\n",
       "      <td>43657</td>\n",
       "      <td>NaN</td>\n",
       "    </tr>\n",
       "    <tr>\n",
       "      <th>28</th>\n",
       "      <td>43658</td>\n",
       "      <td>105.635</td>\n",
       "    </tr>\n",
       "    <tr>\n",
       "      <th>29</th>\n",
       "      <td>43659</td>\n",
       "      <td>74.6442</td>\n",
       "    </tr>\n",
       "    <tr>\n",
       "      <th>...</th>\n",
       "      <td>...</td>\n",
       "      <td>...</td>\n",
       "    </tr>\n",
       "    <tr>\n",
       "      <th>88</th>\n",
       "      <td>43718</td>\n",
       "      <td>3.056</td>\n",
       "    </tr>\n",
       "    <tr>\n",
       "      <th>89</th>\n",
       "      <td>43719</td>\n",
       "      <td>4.26208</td>\n",
       "    </tr>\n",
       "    <tr>\n",
       "      <th>90</th>\n",
       "      <td>43720</td>\n",
       "      <td>3.49208</td>\n",
       "    </tr>\n",
       "    <tr>\n",
       "      <th>91</th>\n",
       "      <td>43721</td>\n",
       "      <td>3.1185</td>\n",
       "    </tr>\n",
       "    <tr>\n",
       "      <th>92</th>\n",
       "      <td>43722</td>\n",
       "      <td>2.77905</td>\n",
       "    </tr>\n",
       "    <tr>\n",
       "      <th>93</th>\n",
       "      <td>43723</td>\n",
       "      <td>NaN</td>\n",
       "    </tr>\n",
       "    <tr>\n",
       "      <th>94</th>\n",
       "      <td>43724</td>\n",
       "      <td>NaN</td>\n",
       "    </tr>\n",
       "    <tr>\n",
       "      <th>95</th>\n",
       "      <td>43725</td>\n",
       "      <td>NaN</td>\n",
       "    </tr>\n",
       "    <tr>\n",
       "      <th>96</th>\n",
       "      <td>43726</td>\n",
       "      <td>6.27917</td>\n",
       "    </tr>\n",
       "    <tr>\n",
       "      <th>97</th>\n",
       "      <td>43727</td>\n",
       "      <td>7.61583</td>\n",
       "    </tr>\n",
       "    <tr>\n",
       "      <th>98</th>\n",
       "      <td>43728</td>\n",
       "      <td>7.50542</td>\n",
       "    </tr>\n",
       "    <tr>\n",
       "      <th>99</th>\n",
       "      <td>43729</td>\n",
       "      <td>8.58542</td>\n",
       "    </tr>\n",
       "    <tr>\n",
       "      <th>100</th>\n",
       "      <td>43730</td>\n",
       "      <td>NaN</td>\n",
       "    </tr>\n",
       "    <tr>\n",
       "      <th>101</th>\n",
       "      <td>43731</td>\n",
       "      <td>7.39</td>\n",
       "    </tr>\n",
       "    <tr>\n",
       "      <th>102</th>\n",
       "      <td>43732</td>\n",
       "      <td>6.17083</td>\n",
       "    </tr>\n",
       "    <tr>\n",
       "      <th>103</th>\n",
       "      <td>43733</td>\n",
       "      <td>5.06958</td>\n",
       "    </tr>\n",
       "    <tr>\n",
       "      <th>104</th>\n",
       "      <td>43734</td>\n",
       "      <td>5.25875</td>\n",
       "    </tr>\n",
       "    <tr>\n",
       "      <th>105</th>\n",
       "      <td>43735</td>\n",
       "      <td>6.43125</td>\n",
       "    </tr>\n",
       "    <tr>\n",
       "      <th>106</th>\n",
       "      <td>43736</td>\n",
       "      <td>9.9025</td>\n",
       "    </tr>\n",
       "    <tr>\n",
       "      <th>107</th>\n",
       "      <td>43737</td>\n",
       "      <td>14.9029</td>\n",
       "    </tr>\n",
       "    <tr>\n",
       "      <th>108</th>\n",
       "      <td>43738</td>\n",
       "      <td>17.2862</td>\n",
       "    </tr>\n",
       "    <tr>\n",
       "      <th>109</th>\n",
       "      <td>43739</td>\n",
       "      <td>14.7254</td>\n",
       "    </tr>\n",
       "    <tr>\n",
       "      <th>110</th>\n",
       "      <td>43740</td>\n",
       "      <td>9.97833</td>\n",
       "    </tr>\n",
       "    <tr>\n",
       "      <th>111</th>\n",
       "      <td>43741</td>\n",
       "      <td>6.39958</td>\n",
       "    </tr>\n",
       "    <tr>\n",
       "      <th>112</th>\n",
       "      <td>43742</td>\n",
       "      <td>30.6865</td>\n",
       "    </tr>\n",
       "    <tr>\n",
       "      <th>113</th>\n",
       "      <td>43743</td>\n",
       "      <td>1.92095</td>\n",
       "    </tr>\n",
       "    <tr>\n",
       "      <th>114</th>\n",
       "      <td>43744</td>\n",
       "      <td>NaN</td>\n",
       "    </tr>\n",
       "    <tr>\n",
       "      <th>115</th>\n",
       "      <td>43745</td>\n",
       "      <td>1.94381</td>\n",
       "    </tr>\n",
       "    <tr>\n",
       "      <th>116</th>\n",
       "      <td>43746</td>\n",
       "      <td>NaN</td>\n",
       "    </tr>\n",
       "    <tr>\n",
       "      <th>117</th>\n",
       "      <td>43747</td>\n",
       "      <td>NaN</td>\n",
       "    </tr>\n",
       "  </tbody>\n",
       "</table>\n",
       "<p>118 rows × 2 columns</p>\n",
       "</div>"
      ],
      "text/plain": [
       "    DayNum Turb_NTU\n",
       "0    43630  21.0067\n",
       "1    43631  23.2433\n",
       "2    43632  26.1179\n",
       "3    43633    28.49\n",
       "4    43634  29.2117\n",
       "5    43635  27.6392\n",
       "6    43636  25.9208\n",
       "7    43637  24.6225\n",
       "8    43638  23.2946\n",
       "9    43639      NaN\n",
       "10   43640      NaN\n",
       "11   43641      NaN\n",
       "12   43642      NaN\n",
       "13   43643      NaN\n",
       "14   43644      NaN\n",
       "15   43645      NaN\n",
       "16   43646      NaN\n",
       "17   43647      NaN\n",
       "18   43648  15.9148\n",
       "19   43649  17.6363\n",
       "20   43650   19.281\n",
       "21   43651  19.7596\n",
       "22   43652  22.2763\n",
       "23   43653  45.6567\n",
       "24   43654  129.891\n",
       "25   43655      NaN\n",
       "26   43656      NaN\n",
       "27   43657      NaN\n",
       "28   43658  105.635\n",
       "29   43659  74.6442\n",
       "..     ...      ...\n",
       "88   43718    3.056\n",
       "89   43719  4.26208\n",
       "90   43720  3.49208\n",
       "91   43721   3.1185\n",
       "92   43722  2.77905\n",
       "93   43723      NaN\n",
       "94   43724      NaN\n",
       "95   43725      NaN\n",
       "96   43726  6.27917\n",
       "97   43727  7.61583\n",
       "98   43728  7.50542\n",
       "99   43729  8.58542\n",
       "100  43730      NaN\n",
       "101  43731     7.39\n",
       "102  43732  6.17083\n",
       "103  43733  5.06958\n",
       "104  43734  5.25875\n",
       "105  43735  6.43125\n",
       "106  43736   9.9025\n",
       "107  43737  14.9029\n",
       "108  43738  17.2862\n",
       "109  43739  14.7254\n",
       "110  43740  9.97833\n",
       "111  43741  6.39958\n",
       "112  43742  30.6865\n",
       "113  43743  1.92095\n",
       "114  43744      NaN\n",
       "115  43745  1.94381\n",
       "116  43746      NaN\n",
       "117  43747      NaN\n",
       "\n",
       "[118 rows x 2 columns]"
      ]
     },
     "execution_count": 23,
     "metadata": {},
     "output_type": "execute_result"
    }
   ],
   "source": [
    "dfdaily"
   ]
  },
  {
   "cell_type": "code",
   "execution_count": 24,
   "metadata": {
    "collapsed": false
   },
   "outputs": [
    {
     "data": {
      "text/plain": [
       "[<matplotlib.lines.Line2D at 0x7f0fe7e405f8>]"
      ]
     },
     "execution_count": 24,
     "metadata": {},
     "output_type": "execute_result"
    },
    {
     "data": {
      "image/png": "[encoded data removed]",
      "text/plain": [
       "<Figure size 432x288 with 1 Axes>"
      ]
     },
     "metadata": {
      "needs_background": "light"
     },
     "output_type": "display_data"
    }
   ],
   "source": [
    "plt.plot(dfdaily['Turb_NTU'])"
   ]
  },
  {
   "cell_type": "code",
   "execution_count": 25,
   "metadata": {
    "collapsed": false
   },
   "outputs": [],
   "source": [
    "dds=dfdaily[dfdaily.Turb_NTU>0]['DayNum'].values\n",
    "ts=dfdaily[dfdaily.Turb_NTU>0]['Turb_NTU'].values"
   ]
  },
  {
   "cell_type": "code",
   "execution_count": 26,
   "metadata": {
    "collapsed": false
   },
   "outputs": [],
   "source": [
    "dfnan=dfdaily[~(dfdaily.Turb_NTU>0)]\n",
    "ddblanks=dfnan['DayNum'].values"
   ]
  },
  {
   "cell_type": "code",
   "execution_count": 27,
   "metadata": {
    "collapsed": false
   },
   "outputs": [],
   "source": [
    "dds1=[np.float(el) for el in dds]\n",
    "ts1=[np.float(el) for el in ts]\n",
    "ddblanks1=[np.float(el) for el in ddblanks]\n",
    "tinterps=np.interp(ddblanks1,dds1,ts1)"
   ]
  },
  {
   "cell_type": "code",
   "execution_count": 28,
   "metadata": {
    "collapsed": true
   },
   "outputs": [],
   "source": [
    "oldDD=np.copy(dfdaily['DayNum'].values)\n",
    "oldT=np.copy(dfdaily['Turb_NTU'].values)"
   ]
  },
  {
   "cell_type": "code",
   "execution_count": 29,
   "metadata": {
    "collapsed": true
   },
   "outputs": [],
   "source": [
    "for idd, newT in zip(ddblanks1,tinterps):\n",
    "    dfdaily.loc[dfdaily.DayNum==idd,'Turb_NTU']=newT"
   ]
  },
  {
   "cell_type": "code",
   "execution_count": 30,
   "metadata": {
    "collapsed": false
   },
   "outputs": [
    {
     "data": {
      "text/plain": [
       "[<matplotlib.lines.Line2D at 0x7f0fe7e4fd30>]"
      ]
     },
     "execution_count": 30,
     "metadata": {},
     "output_type": "execute_result"
    },
    {
     "data": {
      "image/png": "[encoded data removed]",
      "text/plain": [
       "<Figure size 1152x216 with 1 Axes>"
      ]
     },
     "metadata": {
      "needs_background": "light"
     },
     "output_type": "display_data"
    }
   ],
   "source": [
    "fig,ax=plt.subplots(1,1,figsize=(16,3))\n",
    "ax.plot(dfdaily['DayNum'],dfdaily['Turb_NTU'],'r.')\n",
    "ax.plot(oldDD,oldT,'b.')"
   ]
  },
  {
   "cell_type": "code",
   "execution_count": 31,
   "metadata": {
    "collapsed": false
   },
   "outputs": [
    {
     "data": {
      "text/plain": [
       "[<matplotlib.lines.Line2D at 0x7f0fe7fa25f8>]"
      ]
     },
     "execution_count": 31,
     "metadata": {},
     "output_type": "execute_result"
    },
    {
     "data": {
      "image/png": "[encoded data removed]",
      "text/plain": [
       "<Figure size 1152x216 with 1 Axes>"
      ]
     },
     "metadata": {
      "needs_background": "light"
     },
     "output_type": "display_data"
    }
   ],
   "source": [
    "fig,ax=plt.subplots(1,1,figsize=(16,3))\n",
    "ax.plot(df['DecDay'],df['Turb_NTU'],'c.')\n",
    "ax.plot(dfdaily['DayNum'],dfdaily['Turb_NTU'],'r.')\n",
    "ax.plot(oldDD,oldT,'b.')"
   ]
  },
  {
   "cell_type": "code",
   "execution_count": 32,
   "metadata": {
    "collapsed": false
   },
   "outputs": [
    {
     "data": {
      "text/plain": [
       "21.006666666666664"
      ]
     },
     "execution_count": 32,
     "metadata": {},
     "output_type": "execute_result"
    }
   ],
   "source": [
    "iday=(startdate-dt.date(1900,1,1)).days\n",
    "iTurb=dfdaily[dfdaily.DayNum==iday]['Turb_NTU'].values[0]\n",
    "iTurb"
   ]
  },
  {
   "cell_type": "markdown",
   "metadata": {
    "collapsed": true
   },
   "source": [
    "## Interpolation/averaging look OK; now create files: "
   ]
  },
  {
   "cell_type": "markdown",
   "metadata": {},
   "source": [
    "create daily Fraser turbidity files:"
   ]
  },
  {
   "cell_type": "code",
   "execution_count": 33,
   "metadata": {
    "collapsed": false
   },
   "outputs": [],
   "source": [
    "f=nc.Dataset('/results/forcing/rivers/RLonFraCElse_y2016m01d23.nc') # example for dims\n",
    "fnamebase='/ocean/eolson/MEOPAR/NEMO-forcing/rivers/riverTurbDaily201906_'\n",
    "for idate in daterange(startdate,enddate):\n",
    "    iday=(idate-dt.date(1900,1,1)).days\n",
    "    lower=iday\n",
    "    upper=iday+1\n",
    "    iTurb=dfdaily[dfdaily.DayNum==iday]['Turb_NTU'].values[0]\n",
    "\n",
    "    fname=fnamebase+idate.strftime('y%Ym%md%d')+'.nc'\n",
    "\n",
    "    new=nc.Dataset(fname,'w')\n",
    "    #Copy dimensions\n",
    "    for dname, the_dim in f.dimensions.items():\n",
    "        #print (dname, len(the_dim) if not the_dim.isunlimited() else None)\n",
    "        new.createDimension(dname, len(the_dim) if not the_dim.isunlimited() else None)\n",
    "    # create dimension variables:\n",
    "    new_x=new.createVariable('nav_lat',np.float32,('y','x'),zlib=True)\n",
    "    new_x[:]=f.variables['nav_lat'][:,:]\n",
    "\n",
    "    new_y=new.createVariable('nav_lon',np.float32,('y','x'),zlib=True)\n",
    "    new_y[:]=f.variables['nav_lon'][:,:]\n",
    "\n",
    "    new_tc=new.createVariable('time_counter',np.float32,('time_counter'),zlib=True)\n",
    "    new_tc[:]=f.variables['time_counter'][:]\n",
    "    \n",
    "    new_run=new.createVariable('turb',float,('time_counter', 'y', 'x'),zlib=True)\n",
    "    new_run[:,:,:]=-999.99 # most cells are masked with negative numbers\n",
    "    new_run[:,400:448, 338:380]=iTurb # set turbidity to daily average\n",
    "    new_run[:,440:503,363:398]=iTurb # extend Turbidity all the way up river\n",
    "\n",
    "    new.close()"
   ]
  },
  {
   "cell_type": "code",
   "execution_count": 41,
   "metadata": {
    "collapsed": false
   },
   "outputs": [],
   "source": [
    "ftest=nc.Dataset('/ocean/eolson/MEOPAR/NEMO-forcing/rivers/riverTurbDaily201906_y2019m09d02.nc')"
   ]
  },
  {
   "cell_type": "code",
   "execution_count": 42,
   "metadata": {
    "collapsed": false
   },
   "outputs": [
    {
     "data": {
      "text/plain": [
       "<class 'netCDF4._netCDF4.Dataset'>\n",
       "root group (NETCDF4 data model, file format HDF5):\n",
       "    dimensions(sizes): x(398), y(898), time_counter(1)\n",
       "    variables(dimensions): float32 \u001b[4mnav_lat\u001b[0m(y,x), float32 \u001b[4mnav_lon\u001b[0m(y,x), float32 \u001b[4mtime_counter\u001b[0m(time_counter), float64 \u001b[4mturb\u001b[0m(time_counter,y,x)\n",
       "    groups: "
      ]
     },
     "execution_count": 42,
     "metadata": {},
     "output_type": "execute_result"
    }
   ],
   "source": [
    "ftest"
   ]
  },
  {
   "cell_type": "code",
   "execution_count": 43,
   "metadata": {
    "collapsed": false
   },
   "outputs": [
    {
     "data": {
      "text/plain": [
       "<matplotlib.collections.QuadMesh at 0x7f0fe77e9470>"
      ]
     },
     "execution_count": 43,
     "metadata": {},
     "output_type": "execute_result"
    },
    {
     "data": {
      "image/png": "[encoded data removed]",
      "text/plain": [
       "<Figure size 432x288 with 1 Axes>"
      ]
     },
     "metadata": {
      "needs_background": "light"
     },
     "output_type": "display_data"
    }
   ],
   "source": [
    "plt.pcolormesh(ftest.variables['turb'][0,:,:])"
   ]
  },
  {
   "cell_type": "code",
   "execution_count": 51,
   "metadata": {
    "collapsed": false
   },
   "outputs": [
    {
     "data": {
      "text/plain": [
       "masked_array(\n",
       "  data=[[-999.99  , -999.99  , -999.99  , -999.99  ],\n",
       "        [-999.99  , -999.99  , -999.99  , -999.99  ],\n",
       "        [-999.99  , -999.99  , -999.99  , -999.99  ],\n",
       "        [-999.99  , -999.99  , -999.99  , -999.99  ],\n",
       "        [-999.99  , -999.99  , -999.99  , -999.99  ],\n",
       "        [   6.1205,    6.1205,    6.1205,    6.1205],\n",
       "        [   6.1205,    6.1205,    6.1205,    6.1205],\n",
       "        [   6.1205,    6.1205,    6.1205,    6.1205],\n",
       "        [   6.1205,    6.1205,    6.1205,    6.1205],\n",
       "        [   6.1205,    6.1205,    6.1205,    6.1205],\n",
       "        [   6.1205,    6.1205,    6.1205,    6.1205],\n",
       "        [   6.1205,    6.1205,    6.1205,    6.1205],\n",
       "        [   6.1205,    6.1205,    6.1205,    6.1205],\n",
       "        [   6.1205,    6.1205,    6.1205,    6.1205],\n",
       "        [   6.1205,    6.1205,    6.1205,    6.1205],\n",
       "        [   6.1205,    6.1205,    6.1205,    6.1205],\n",
       "        [   6.1205,    6.1205,    6.1205,    6.1205],\n",
       "        [   6.1205,    6.1205,    6.1205,    6.1205],\n",
       "        [   6.1205,    6.1205,    6.1205,    6.1205],\n",
       "        [   6.1205,    6.1205,    6.1205,    6.1205],\n",
       "        [   6.1205,    6.1205,    6.1205,    6.1205],\n",
       "        [   6.1205,    6.1205,    6.1205,    6.1205],\n",
       "        [   6.1205,    6.1205,    6.1205,    6.1205],\n",
       "        [   6.1205,    6.1205,    6.1205,    6.1205],\n",
       "        [   6.1205,    6.1205,    6.1205,    6.1205]],\n",
       "  mask=False,\n",
       "  fill_value=1e+20)"
      ]
     },
     "execution_count": 51,
     "metadata": {},
     "output_type": "execute_result"
    }
   ],
   "source": [
    "ftest.variables['turb'][0,395:420,364:368]"
   ]
  },
  {
   "cell_type": "code",
   "execution_count": 38,
   "metadata": {
    "collapsed": false
   },
   "outputs": [],
   "source": [
    "ftest.close()"
   ]
  },
  {
   "cell_type": "code",
   "execution_count": null,
   "metadata": {
    "collapsed": true
   },
   "outputs": [],
   "source": []
  }
 ],
 "metadata": {
  "anaconda-cloud": {},
  "kernelspec": {
   "display_name": "Python [conda env:py37]",
   "language": "python",
   "name": "conda-env-py37-py"
  },
  "language_info": {
   "codemirror_mode": {
    "name": "ipython",
    "version": 3
   },
   "file_extension": ".py",
   "mimetype": "text/x-python",
   "name": "python",
   "nbconvert_exporter": "python",
   "pygments_lexer": "ipython3",
   "version": "3.7.2"
  }
 },
 "nbformat": 4,
 "nbformat_minor": 0
}
