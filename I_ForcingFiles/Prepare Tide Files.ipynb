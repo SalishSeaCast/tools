{
 "metadata": {
  "name": ""
 },
 "nbformat": 3,
 "nbformat_minor": 0,
 "worksheets": [
  {
   "cells": [
    {
     "cell_type": "markdown",
     "metadata": {},
     "source": [
      "Notebook to prepare NEMO 3.4 Tide Files based on CONCEPTS 110 Tide Files"
     ]
    },
    {
     "cell_type": "code",
     "collapsed": false,
     "input": [
      "%matplotlib inline\n",
      "from matplotlib import pylab\n",
      "import netCDF4 as NC\n",
      "from numpy import sin, cos, pi\n",
      "from numpy import arange, zeros"
     ],
     "language": "python",
     "metadata": {},
     "outputs": [],
     "prompt_number": 102
    },
    {
     "cell_type": "markdown",
     "metadata": {},
     "source": [
      "Open CONCEPTS Tide Files & Bathymetry File"
     ]
    },
    {
     "cell_type": "code",
     "collapsed": false,
     "input": [
      "fT = NC.Dataset('../../input_files/SubDom_tide_elev.nc','r')\n",
      "fU = NC.Dataset('../../input_files/SubDom_tide_ubar.nc','r')\n",
      "fV = NC.Dataset('../../input_files/SubDom_tide_vbar.nc','r')\n",
      "fB = NC.Dataset('../../input_files/SubDom_bathy_meter_NOBCchancomp.nc','r')\n"
     ],
     "language": "python",
     "metadata": {},
     "outputs": [],
     "prompt_number": 9
    },
    {
     "cell_type": "markdown",
     "metadata": {},
     "source": [
      "Extract Bathymetric Depths"
     ]
    },
    {
     "cell_type": "code",
     "collapsed": false,
     "input": [
      "Depth = fB.variables['Bathymetry']\n",
      "depth = Depth[:]\n",
      "# masking just causes problems, set depth to 0 on land\n",
      "depth[depth.mask] = 0\n",
      "print depth.shape\n",
      "print depth[180,:]"
     ],
     "language": "python",
     "metadata": {},
     "outputs": [
      {
       "output_type": "stream",
       "stream": "stdout",
       "text": [
        "(345, 398)\n",
        "[0.0 0.0 0.0 0.0 0.0 0.0 0.0 0.0 4.0 8.0 10.0 6.0 5.0 9.0 17.0 25.0 49.0\n",
        " 65.0 66.0 73.0 83.0 98.0 116.0 125.0 137.0 140.0 154.0 173.0 185.0 202.0\n",
        " 212.0 220.0 224.0 225.0 228.0 227.0 232.0 230.0 228.0 224.0 224.0 216.0\n",
        " 212.0 210.0 207.0 204.0 201.0 202.0 206.0 203.0 209.0 212.0 198.0 188.0\n",
        " 169.0 155.0 137.0 130.0 117.0 112.0 100.0 78.0 61.0 46.0 37.0 33.0 41.0\n",
        " 25.0 24.0 4.0 0.0 0.0 0.0 0.0 0.0 0.0 0.0 0.0 0.0 0.0 0.0 0.0 0.0 0.0 0.0\n",
        " 0.0 0.0 0.0 0.0 0.0 0.0 0.0 0.0 0.0 0.0 0.0 0.0 0.0 0.0 0.0 0.0 0.0 0.0\n",
        " 0.0 0.0 0.0 0.0 0.0 0.0 0.0 0.0 0.0 0.0 0.0 0.0 0.0 0.0 0.0 0.0 0.0 0.0\n",
        " 0.0 0.0 0.0 0.0 0.0 0.0 0.0 0.0 0.0 0.0 0.0 0.0 0.0 0.0 0.0 0.0 0.0 0.0\n",
        " 0.0 0.0 0.0 0.0 0.0 0.0 0.0 0.0 0.0 0.0 0.0 0.0 0.0 0.0 0.0 0.0 0.0 0.0\n",
        " 0.0 0.0 0.0 0.0 0.0 0.0 0.0 0.0 0.0 0.0 0.0 0.0 0.0 0.0 0.0 0.0 0.0 0.0\n",
        " 0.0 0.0 0.0 0.0 0.0 0.0 0.0 0.0 0.0 0.0 0.0 0.0 0.0 0.0 0.0 0.0 0.0 0.0\n",
        " 0.0 0.0 0.0 0.0 0.0 0.0 0.0 0.0 0.0 23.0 51.0 53.0 53.0 39.0 4.0 0.0 0.0\n",
        " 0.0 0.0 0.0 0.0 0.0 0.0 0.0 0.0 0.0 0.0 0.0 0.0 0.0 0.0 0.0 0.0 0.0 0.0\n",
        " 0.0 0.0 0.0 0.0 0.0 0.0 0.0 0.0 0.0 0.0 0.0 7.0 25.0 28.0 31.0 36.0 17.0\n",
        " 10.0 0.0 0.0 0.0 0.0 24.0 51.0 74.0 75.0 51.0 26.0 0.0 0.0 0.0 0.0 7.0\n",
        " 15.0 7.0 0.0 0.0 0.0 0.0 4.0 23.0 50.0 72.0 110.0 125.0 174.0 203.0 186.0\n",
        " 172.0 157.0 148.0 142.0 140.0 136.0 134.0 131.0 128.0 127.0 126.0 125.0\n",
        " 125.0 121.0 120.0 121.0 120.0 120.0 120.0 118.0 118.0 117.0 117.0 115.0\n",
        " 115.0 115.0 116.0 117.0 117.0 121.0 128.0 116.0 111.0 108.0 107.0 84.0\n",
        " 94.0 26.0 33.0 35.0 17.0 12.0 8.0 10.0 14.0 16.0 17.0 17.0 21.0 24.0 27.0\n",
        " 29.0 29.0 31.0 31.0 32.0 32.0 32.0 31.0 30.0 20.0 8.0 7.0 6.0 12.0 12.0\n",
        " 7.0 4.0 4.0 4.0 4.0 4.0 4.0 4.0 0.0 0.0 0.0 0.0 0.0 0.0 0.0 0.0 0.0 0.0\n",
        " 0.0 0.0 0.0 0.0 0.0 0.0 0.0 0.0 0.0 0.0 0.0 0.0 0.0 0.0 0.0 0.0 0.0 0.0\n",
        " 0.0 0.0 0.0 0.0 0.0 0.0 0.0 0.0 0.0 0.0 0.0 0.0 0.0 0.0 0.0 0.0 0.0 0.0\n",
        " 0.0 0.0]\n"
       ]
      }
     ],
     "prompt_number": 144
    },
    {
     "cell_type": "markdown",
     "metadata": {},
     "source": [
      "Find the depths on the u-grid and v-grid along the Northern Boundary.\n",
      "Complicated by the fact the Bathymetry array is masked."
     ]
    },
    {
     "cell_type": "code",
     "collapsed": false,
     "input": [
      "# Northern Boundary\n",
      "iindex_N = 345-1\n",
      "jlast = 398-1\n",
      "# u is off-set from T and bathymetry so find values in between\n",
      "depthu_N = zeros((jlast+1), dtype=float)\n",
      "depthu_N[0:jlast-1] = 0.5*(depth[iindex_N,0:jlast-1]+depth[iindex_N,1:jlast])\n",
      "depthu_N[jlast] = depth[iindex_N,jlast]\n",
      "\n",
      "# plot to check        \n",
      "pylab.plot (depthu_N,'x',depth[iindex_N,:],'r+')\n",
      "pylab.xlim((175,205))\n",
      "\n",
      "# now the V points, offset in the other direction\n",
      "depthv_N = zeros((jlast+1), dtype=float)\n",
      "depthv_N = 0.5*(depth[iindex_N,:]+depth[iindex_N-1,:])\n"
     ],
     "language": "python",
     "metadata": {},
     "outputs": [
      {
       "metadata": {},
       "output_type": "display_data",
       "png": "[encoded data removed]",
       "text": [
        "<matplotlib.figure.Figure at 0x108327ad0>"
       ]
      }
     ],
     "prompt_number": 146
    },
    {
     "cell_type": "code",
     "collapsed": false,
     "input": [
      "# Western Boundary\n",
      "ilast = 345-1\n",
      "jindex_W = 1-1\n",
      "# First the u-points\n",
      "depthu_W = zeros((ilast+1), dtype=float)\n",
      "depthu_W = 0.5*(depth[:,jindex_W]+depth[:,jindex_W+1])\n",
      "\n",
      "# now V points\n",
      "depthv_W = zeros((ilast+1), dtype=float)\n",
      "depthv_W[0:ilast-1] = 0.5*(depth[0:ilast-1,jindex_W]+depth[1:ilast,jindex_W])\n",
      "depthv_W[ilast] = depth[ilast,jindex_W]\n",
      "\n",
      "\n",
      "# plot to check        \n",
      "pylab.plot (depthv_W,'x',depth[:,jindex_W],'r+')\n",
      "pylab.xlim((250,275))"
     ],
     "language": "python",
     "metadata": {},
     "outputs": [
      {
       "metadata": {},
       "output_type": "pyout",
       "prompt_number": 147,
       "text": [
        "(250, 275)"
       ]
      },
      {
       "metadata": {},
       "output_type": "display_data",
       "png": "[encoded data removed]",
       "text": [
        "<matplotlib.figure.Figure at 0x1071e2590>"
       ]
      }
     ],
     "prompt_number": 147
    },
    {
     "cell_type": "markdown",
     "metadata": {},
     "source": [
      "Extract Tides along the Northern and Western Boundaries"
     ]
    },
    {
     "cell_type": "code",
     "collapsed": false,
     "input": [
      "etaelev = fT.variables['M2_amp_elev']\n",
      "umax = fU.variables['M2_amp_u']\n",
      "vmax = fV.variables['M2_amp_v']\n",
      "print etaelev.shape, umax.shape, vmax.shape\n",
      "etaphase = fT.variables['M2_phi_elev']\n",
      "uphase = fU.variables['M2_phi_u']\n",
      "vphase = fV.variables['M2_phi_v']\n",
      "\n",
      "etaelev_N = etaelev[iindex_N,:]\n",
      "umax_N = umax[iindex_N,:]/depthu_N   # divide by depth because CONCEPTS uses flux not current\n",
      "vmax_N = vmax[iindex_N,:]/depthv_N\n",
      "etaphase_N = etaphase[iindex_N,:]*pi/180.\n",
      "uphase_N = uphase[iindex_N,:]*pi/180.\n",
      "vphase_N = vphase[iindex_N,:]*pi/180.\n",
      "etaZ1_N = etaelev_N*cos(etaphase_N)\n",
      "etaZ2_N = etaelev_N*sin(etaphase_N)\n",
      "uZ1_N = umax_N*cos(uphase_N)\n",
      "uZ2_N = umax_N*sin(uphase_N)\n",
      "vZ1_N = vmax_N*cos(vphase_N)\n",
      "vZ2_N = vmax_N*sin(vphase_N)\n",
      "print etaZ1_N.size\n",
      "\n",
      "jindex_W = 1-1\n",
      "etaelev_W = etaelev[:,jindex_W]\n",
      "umax_W = umax[:,jindex_W]/depthu_W\n",
      "vmax_W = vmax[:,jindex_W]/depthv_W\n",
      "etaphase_W = etaphase[:,jindex_W]*pi/180.\n",
      "uphase_W = uphase[:,jindex_W]*pi/180.\n",
      "vphase_W = vphase[:,jindex_W]*pi/180.\n",
      "etaZ1_W = etaelev_W*cos(etaphase_W)\n",
      "etaZ2_W = etaelev_W*sin(etaphase_W)\n",
      "uZ1_W = umax_W*cos(uphase_W)\n",
      "uZ2_W = umax_W*sin(uphase_W)\n",
      "vZ1_W = vmax_W*cos(vphase_W)\n",
      "vZ2_W = vmax_W*sin(vphase_W)\n",
      "# pad\n",
      "uZ1_W[185:189+1] = uZ1_W[190]\n",
      "            "
     ],
     "language": "python",
     "metadata": {},
     "outputs": [
      {
       "output_type": "stream",
       "stream": "stdout",
       "text": [
        "(345, 398) (345, 398) (345, 398)\n",
        "398\n"
       ]
      }
     ],
     "prompt_number": 148
    },
    {
     "cell_type": "code",
     "collapsed": false,
     "input": [
      "pylab.plot(umax_N[177:197],'b+',depth[344,177:197]/100.,'rx',umax_N[177:197]/depthu_N[177:197]*20,'g+')"
     ],
     "language": "python",
     "metadata": {},
     "outputs": [
      {
       "metadata": {},
       "output_type": "pyout",
       "prompt_number": 149,
       "text": [
        "[<matplotlib.lines.Line2D at 0x108331d50>,\n",
        " <matplotlib.lines.Line2D at 0x108331690>,\n",
        " <matplotlib.lines.Line2D at 0x108331dd0>]"
       ]
      },
      {
       "metadata": {},
       "output_type": "display_data",
       "png": "[encoded data removed]",
       "text": [
        "<matplotlib.figure.Figure at 0x1083259d0>"
       ]
      }
     ],
     "prompt_number": 149
    },
    {
     "cell_type": "markdown",
     "metadata": {},
     "source": [
      "Test that I got the conversion correct"
     ]
    },
    {
     "cell_type": "code",
     "collapsed": false,
     "input": [
      "phi = arange(0,6.2,0.1)\n",
      "eta_C = etaelev_W[200]*cos(phi-etaphase_W[200])\n",
      "eta_N = etaZ1_W[200]*cos(phi)+etaZ2_W[200]*sin(phi)\n",
      "pylab.plot(phi,eta_C,'+g',phi,eta_N,'-r')"
     ],
     "language": "python",
     "metadata": {},
     "outputs": [
      {
       "metadata": {},
       "output_type": "pyout",
       "prompt_number": 150,
       "text": [
        "[<matplotlib.lines.Line2D at 0x10831f910>,\n",
        " <matplotlib.lines.Line2D at 0x108172e90>]"
       ]
      },
      {
       "metadata": {},
       "output_type": "display_data",
       "png": "[encoded data removed]",
       "text": [
        "<matplotlib.figure.Figure at 0x108305090>"
       ]
      }
     ],
     "prompt_number": 150
    },
    {
     "cell_type": "markdown",
     "metadata": {},
     "source": [
      "Create the NEMO 3.4 File"
     ]
    },
    {
     "cell_type": "code",
     "collapsed": false,
     "input": [
      "nemo = NC.Dataset('JPP_bdytide_M2_grid_T.nc', 'w', format='NETCDF3_CLASSIC')\n",
      "nemo.description = 'Tide data from WebTide via JPP'\n",
      "\n",
      "# dimensions\n",
      "nemo.createDimension('xb', etaZ1_N.size+etaZ1_W.size)\n",
      "nemo.createDimension('yb', 1)\n",
      "\n",
      "# variables\n",
      "xb = nemo.createVariable('xb', 'int32', ('xb',))\n",
      "xb.units = 'non dim'\n",
      "xb.longname = 'counter around boundary'\n",
      "yb = nemo.createVariable('yb', 'int32', ('yb',))\n",
      "yb.units = 'non dim'\n",
      "nbidta = nemo.createVariable('nbidta', 'int32' , ('yb','xb'))\n",
      "nbidta.units = 'non dim'\n",
      "nbidta.longname = 'i grid position'\n",
      "nbjdta = nemo.createVariable('nbjdta', 'int32' , ('yb','xb'))\n",
      "nbjdta.units = 'non dim'\n",
      "nbjdta.longname = 'j grid position'\n",
      "nbrdta = nemo.createVariable('nbrdta', 'int32' , ('yb','xb'))\n",
      "nbrdta.units = 'non dim'\n",
      "z1 = nemo.createVariable('z1','float32',('yb','xb'))\n",
      "z1.units = 'm'\n",
      "z1.longname = 'tidal elevation: cosine'\n",
      "z2 = nemo.createVariable('z2','float32',('yb','xb'))\n",
      "z2.units = 'm'\n",
      "z2.longname = 'tidal elevation: sine'\n",
      "    \n",
      "# data\n",
      "total_length = etaZ1_N.size+etaZ1_W.size\n",
      "xb[:] = arange(1, total_length+1)\n",
      "yb[0] = 1\n",
      "\n",
      "etaZ1_W[etaZ1_W.mask] = 0.\n",
      "etaZ1_N[etaZ1_N.mask] = 0.\n",
      "etaZ2_W[etaZ2_W.mask] = 0.\n",
      "etaZ2_N[etaZ2_N.mask] = 0.\n",
      "\n",
      "   # West Boundary\n",
      "nbidta[0,0:etaZ1_W.size] = 1\n",
      "nbjdta[0,0:etaZ1_W.size] = arange(1,etaZ1_W.size+1)\n",
      "z1[0,0:etaZ1_W.size] = etaZ1_W\n",
      "z2[0,0:etaZ1_W.size] = etaZ2_W\n",
      "   # North Boundary\n",
      "nbidta[0,etaZ1_W.size:] = arange(1,etaZ1_N.size+1)\n",
      "nbjdta[0,etaZ1_W.size:] = iindex_N+1\n",
      "z1[0,etaZ1_W.size:] = etaZ1_N\n",
      "z2[0,etaZ2_W.size:] = etaZ2_N    \n",
      "\n",
      "    # and both\n",
      "nbrdta[:] = 1\n",
      "\n",
      "pylab.plot(nbidta[0,:etaZ1_W.size],nbjdta[0,:etaZ1_W.size],'bo',\n",
      "           nbidta[0,etaZ1_W.size:],nbjdta[0,etaZ1_W.size:],'gx')\n",
      "\n",
      "nemo.close()"
     ],
     "language": "python",
     "metadata": {},
     "outputs": [
      {
       "metadata": {},
       "output_type": "display_data",
       "png": "[encoded data removed]",
       "text": [
        "<matplotlib.figure.Figure at 0x1083db690>"
       ]
      }
     ],
     "prompt_number": 151
    },
    {
     "cell_type": "code",
     "collapsed": false,
     "input": [
      "u = NC.Dataset('JPP_bdytide_M2_grid_U.nc', 'w', format='NETCDF3_CLASSIC')\n",
      "u.description = 'Tide data from WebTide via JPP'\n",
      "\n",
      "#dimensions\n",
      "u.createDimension('xb', etaZ1_N.size+etaZ1_W.size)\n",
      "u.createDimension('yb', 1)\n",
      "\n",
      "# variables\n",
      "xb = u.createVariable('xb', 'int32', ('xb',))\n",
      "xb.units = 'non dim'\n",
      "xb.longname = 'counter around boundary'\n",
      "yb = u.createVariable('yb', 'int32', ('yb',))\n",
      "yb.units = 'non dim'\n",
      "nbidta = u.createVariable('nbidta', 'int32' , ('yb','xb'))\n",
      "nbidta.units = 'non dim'\n",
      "nbidta.longname = 'i grid position'\n",
      "nbjdta = u.createVariable('nbjdta', 'int32' , ('yb','xb'))\n",
      "nbjdta.units = 'non dim'\n",
      "nbjdta.longname = 'j grid position'\n",
      "nbrdta = u.createVariable('nbrdta', 'int32' , ('yb','xb'))\n",
      "nbrdta.units = 'non dim'\n",
      "u1 = u.createVariable('u1','float32',('yb','xb'))\n",
      "u1.units = 'm'\n",
      "u1.longname = 'tidal x-velocity: cosine'\n",
      "u2 = u.createVariable('u2','float32',('yb','xb'))\n",
      "u2.units = 'm'\n",
      "u2.longname = 'tidal x-velocity: sine'\n",
      "\n",
      "# data\n",
      "total_length = etaZ1_N.size+etaZ1_W.size\n",
      "xb[:] = arange(1, total_length+1)\n",
      "yb[0] = 1\n",
      "\n",
      "uZ1_W[uZ1_W.mask] = 0.\n",
      "uZ1_N[uZ1_N.mask] = 0.\n",
      "uZ2_W[uZ2_W.mask] = 0.\n",
      "uZ2_N[uZ2_N.mask] = 0.\n",
      "\n",
      "   # West Boundary\n",
      "nbidta[0,0:etaZ1_W.size] = 1\n",
      "nbjdta[0,0:etaZ1_W.size] = arange(1,etaZ1_W.size+1)\n",
      "u1[0,0:etaZ1_W.size] = uZ1_W\n",
      "u2[0,0:etaZ1_W.size] = uZ2_W\n",
      "   # North Boundary\n",
      "nbidta[0,etaZ1_W.size:] = arange(1,etaZ1_N.size+1)\n",
      "nbjdta[0,etaZ1_W.size:] = iindex_N+1\n",
      "u1[0,etaZ1_W.size:] = uZ1_N\n",
      "u2[0,etaZ2_W.size:] = uZ2_N    \n",
      "    # and both\n",
      "nbrdta[:] = 1\n",
      "\n",
      "pylab.plot(nbidta[0,:etaZ1_W.size],nbjdta[0,:etaZ1_W.size],'bo',\n",
      "           nbidta[0,etaZ1_W.size:],nbjdta[0,etaZ1_W.size:],'gx')\n",
      "\n",
      "u.close()"
     ],
     "language": "python",
     "metadata": {},
     "outputs": [
      {
       "metadata": {},
       "output_type": "display_data",
       "png": "[encoded data removed]",
       "text": [
        "<matplotlib.figure.Figure at 0x1083c4350>"
       ]
      }
     ],
     "prompt_number": 152
    },
    {
     "cell_type": "code",
     "collapsed": false,
     "input": [
      "v = NC.Dataset('JPP_bdytide_M2_grid_V.nc', 'w', format='NETCDF3_CLASSIC')\n",
      "v.description = 'Tide data from WebTide via JPP'\n",
      "\n",
      "# dimensions\n",
      "v.createDimension('xb', etaZ1_N.size+etaZ1_W.size)\n",
      "v.createDimension('yb', 1)\n",
      "\n",
      "# variables\n",
      "xb = v.createVariable('xb', 'int32', ('xb',))\n",
      "xb.units = 'non dim'\n",
      "xb.longname = 'counter around boundary'\n",
      "yb = v.createVariable('yb', 'int32', ('yb',))\n",
      "yb.units = 'non dim'\n",
      "nbidta = v.createVariable('nbidta', 'int32' , ('yb','xb'))\n",
      "nbidta.units = 'non dim'\n",
      "nbidta.longname = 'i grid position'\n",
      "nbjdta = v.createVariable('nbjdta', 'int32' , ('yb','xb'))\n",
      "nbjdta.units = 'non dim'\n",
      "nbjdta.longname = 'j grid position'\n",
      "nbrdta = v.createVariable('nbrdta', 'int32' , ('yb','xb'))\n",
      "nbrdta.units = 'non dim'\n",
      "v1 = v.createVariable('v1','float32',('yb','xb'))\n",
      "v1.units = 'm'\n",
      "v1.longname = 'tidal y-velocity: cosine'\n",
      "v2 = v.createVariable('v2','float32',('yb','xb'))\n",
      "v2.units = 'm'\n",
      "v2.longname = 'tidal y-velocity: sine'\n",
      "\n",
      "# data\n",
      "total_length = etaZ1_N.size+etaZ1_W.size\n",
      "xb[:] = arange(1, total_length+1)\n",
      "yb[0] = 1\n",
      "\n",
      "vZ1_W[vZ1_W.mask] = 0.\n",
      "vZ1_N[vZ1_N.mask] = 0.\n",
      "vZ2_W[vZ2_W.mask] = 0.\n",
      "vZ2_N[vZ2_N.mask] = 0.\n",
      "\n",
      "   # West Boundary\n",
      "nbidta[0,0:etaZ1_W.size] = 1\n",
      "nbjdta[0,0:etaZ1_W.size] = arange(1,etaZ1_W.size+1)\n",
      "v1[0,0:etaZ1_W.size] = vZ1_W\n",
      "v2[0,0:etaZ1_W.size] = vZ2_W\n",
      "   # North Boundary\n",
      "nbidta[0,etaZ1_W.size:] = arange(1,etaZ1_N.size+1)\n",
      "nbjdta[0,etaZ1_W.size:] = iindex_N+1\n",
      "v1[0,etaZ1_W.size:] = vZ1_N\n",
      "v2[0,etaZ2_W.size:] = vZ2_N    \n",
      "\n",
      "    # and both\n",
      "nbrdta[:] = 1\n",
      "\n",
      "pylab.plot(nbidta[0,:etaZ1_W.size],nbjdta[0,:etaZ1_W.size],'bo',\n",
      "           nbidta[0,etaZ1_W.size:],nbjdta[0,etaZ1_W.size:],'gx')\n",
      "\n",
      "v.close()"
     ],
     "language": "python",
     "metadata": {},
     "outputs": [
      {
       "metadata": {},
       "output_type": "display_data",
       "png": "[encoded data removed]",
       "text": [
        "<matplotlib.figure.Figure at 0x1083c9b50>"
       ]
      }
     ],
     "prompt_number": 158
    },
    {
     "cell_type": "code",
     "collapsed": false,
     "input": [],
     "language": "python",
     "metadata": {},
     "outputs": [],
     "prompt_number": 142
    },
    {
     "cell_type": "code",
     "collapsed": false,
     "input": [],
     "language": "python",
     "metadata": {},
     "outputs": []
    }
   ],
   "metadata": {}
  }
 ]
}