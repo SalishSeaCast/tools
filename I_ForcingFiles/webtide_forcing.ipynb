{
 "metadata": {
  "name": ""
 },
 "nbformat": 3,
 "nbformat_minor": 0,
 "worksheets": [
  {
   "cells": [
    {
     "cell_type": "markdown",
     "metadata": {},
     "source": [
      "Get the forcing from WebTide (http://www.bio.gc.ca/science/research-recherche/ocean/webtide/index-eng.php) for the Juan de Fuca boundary of the model"
     ]
    },
    {
     "cell_type": "code",
     "collapsed": false,
     "input": [
      "#preamble\n",
      "%matplotlib inline\n",
      "from matplotlib import pylab\n",
      "import netCDF4 as NC\n",
      "import csv \n",
      "import numpy\n",
      "from itertools import islice"
     ],
     "language": "python",
     "metadata": {},
     "outputs": [],
     "prompt_number": 1
    },
    {
     "cell_type": "markdown",
     "metadata": {},
     "source": [
      "Get the co-ordinates of the boundary and put them in a text file for WebTide. \n",
      "\n",
      "Note that surface elevation, u and v are offset from each other on a Arakawa C grid. So the lat/lon of each grid will be different for each of them. We therefore need a different list of co-ordinates to give WebTide for T, U and V.\n"
     ]
    },
    {
     "cell_type": "code",
     "collapsed": false,
     "input": [
      "#load in the bathymetry netcdf data\n",
      "fB = NC.Dataset('/ocean/klesouef/meopar/nemo-forcing/grid/SubDom_bathy_meter_NOBCchancomp.nc','r')\n",
      "\n",
      "#get the depth data from the netcdf\n",
      "depth = fB.variables['Bathymetry'][:]\n",
      "# masking just causes problems, set depth to 0 on land\n",
      "depth[depth.mask] = 0\n",
      "a, b = depth.shape\n",
      "print(a,b)"
     ],
     "language": "python",
     "metadata": {},
     "outputs": [
      {
       "output_type": "stream",
       "stream": "stdout",
       "text": [
        "(345, 398)\n"
       ]
      }
     ],
     "prompt_number": 2
    },
    {
     "cell_type": "code",
     "collapsed": false,
     "input": [
      "#load in the co-ordinates file\n",
      "fC = NC.Dataset('/ocean/klesouef/meopar/nemo-forcing/grid/SubDom_coordinates_seagrid_WestCoast.nc','r')\n",
      "\n",
      "#glam = longitude, gphi = latitude\n",
      "lonT = fC.variables['glamt'][0,:,0]\n",
      "latT = fC.variables['gphit'][0,:,0]\n",
      "lonU = fC.variables['glamu'][0,:,0]\n",
      "latU = fC.variables['gphiu'][0,:,0]\n",
      "lonV = fC.variables['glamv'][0,:,0]\n",
      "latV = fC.variables['gphiv'][0,:,0]\n",
      "\n",
      "#check it's the right boundary :)\n",
      "pylab.contourf(fC.variables['glamt'][0,:,:],fC.variables['gphit'][0,:,:],depth)\n",
      "pylab.plot(lonT,latT,'oy')"
     ],
     "language": "python",
     "metadata": {},
     "outputs": [
      {
       "metadata": {},
       "output_type": "pyout",
       "prompt_number": 3,
       "text": [
        "[<matplotlib.lines.Line2D at 0x3204f90>]"
       ]
      },
      {
       "metadata": {},
       "output_type": "display_data",
       "png": "[encoded data removed]",
       "text": [
        "<matplotlib.figure.Figure at 0x3204ed0>"
       ]
      }
     ],
     "prompt_number": 3
    },
    {
     "cell_type": "code",
     "collapsed": false,
     "input": [
      "#i and j indices of the western boundary\n",
      "i = a-1\n",
      "j = 0\n",
      "\n",
      "#find the boundary from the depth data\n",
      "depthT = depth[:,j]\n",
      "depthU = 0.5*(depth[:,j]+depth[:,j+1])\n",
      "depthV = numpy.zeros(len(depthT))\n",
      "depthV[0:i-1] = 0.5*(depth[0:i-1,j]+depth[1:i,j])\n",
      "depthV[i] = depth[i,j]\n",
      "\n",
      "#plot all the depth data\n",
      "#if the three depth variables line up then I've done it right!\n",
      "pylab.plot(depthT,'x',depthU,'o',depthV,'*')\n",
      "pylab.xlabel('grid number')\n",
      "pylab.ylabel('depth [m]')\n",
      "pylab.legend(('T','U','V'))\n",
      "pylab.title('Check the three grids line up')\n",
      "\n",
      "#find where lats and lons the depths are not 0 - this is the boundary\n",
      "boundlatT = latT[depthT!=0]\n",
      "boundlonT = lonT[depthT!=0]\n",
      "boundlatU = latU[depthU!=0]\n",
      "boundlonU = lonU[depthU!=0]\n",
      "boundlatV = latV[depthV!=0]\n",
      "boundlonV = lonV[depthV!=0]\n",
      "\n",
      "#calculate the angle that the boundary is on\n",
      "theta1 = numpy.arctan2((boundlatT[1]-boundlatT[0]),(boundlonT[1]-boundlonT[0]))\n",
      "theta2 = numpy.arctan((boundlatT[2]-boundlatT[1])/(boundlonT[2]-boundlonT[1]))\n",
      "theta3 = numpy.arctan((boundlatT[3]-boundlatT[2])/(boundlonT[3]-boundlonT[2]))\n",
      "theta4 = numpy.arctan((boundlatT[76]-boundlatT[75])/(boundlonT[76]-boundlonT[75]))\n",
      "print(numpy.degrees(theta1))\n",
      "print(numpy.degrees(theta2))\n",
      "print(numpy.degrees(theta3))\n",
      "print(numpy.degrees(theta4))\n",
      "\n",
      "print('number of T cells along boundary = '+str(len(boundlatT)))\n",
      "print('number of U cells along boundary = '+str(len(boundlatU)))\n",
      "print('number of V cells along boundary = '+str(len(boundlatV)))"
     ],
     "language": "python",
     "metadata": {},
     "outputs": [
      {
       "output_type": "stream",
       "stream": "stdout",
       "text": [
        "129.936673367\n",
        "-50.0611163864\n",
        "-50.0589059174\n",
        "-49.8969688481\n",
        "number of T cells along boundary = 77\n",
        "number of U cells along boundary = 77\n",
        "number of V cells along boundary = 78\n"
       ]
      },
      {
       "metadata": {},
       "output_type": "display_data",
       "png": "[encoded data removed]",
       "text": [
        "<matplotlib.figure.Figure at 0x3497d90>"
       ]
      }
     ],
     "prompt_number": 4
    },
    {
     "cell_type": "code",
     "collapsed": false,
     "input": [
      "#Write the lats and lons of each grid to a text file\n",
      "\n",
      "#T grid\n",
      "#create a .csv file of lat/lons for tidal elevation predictions, to import into Webtide\n",
      "with open('/ocean/klesouef/meopar/tools/I_ForcingFiles/jdf_boundary_coords_T.txt', 'wb') as csvfile:\n",
      "    writer = csv.writer(csvfile, delimiter=' ')\n",
      "    for t in numpy.arange(0,len(boundlatT)):\n",
      "            writer.writerow([boundlonT[t],boundlatT[t]])         \n",
      "            \n",
      "#U grid\n",
      "#create a .csv file of lat/lons for tidal elevation predictions, to import into Webtide\n",
      "with open('/ocean/klesouef/meopar/tools/I_ForcingFiles/jdf_boundary_coords_U.txt', 'wb') as csvfile:\n",
      "    writer = csv.writer(csvfile, delimiter=' ')\n",
      "    for t in numpy.arange(0,len(boundlatU)):\n",
      "            writer.writerow([boundlonU[t],boundlatU[t]])         \n",
      "\n",
      "#V grid\n",
      "#create a .csv file of lat/lons for tidal elevation predictions, to import into Webtide\n",
      "with open('/ocean/klesouef/meopar/tools/I_ForcingFiles/jdf_boundary_coords_V.txt', 'wb') as csvfile:\n",
      "    writer = csv.writer(csvfile, delimiter=' ')\n",
      "    for t in numpy.arange(0,len(boundlatV)):\n",
      "            writer.writerow([boundlonV[t],boundlatV[t]])         "
     ],
     "language": "python",
     "metadata": {},
     "outputs": [],
     "prompt_number": 5
    },
    {
     "cell_type": "markdown",
     "metadata": {},
     "source": [
      "Now I start the WebTide application, select 'Import Tide Markers' then select 'Get Constituents'. An html page opens with the constituents for each of the points. I select all the data and copy into a .csv file. I do this separately for T, U and V grids. For the T grid, I get constituents for elevation. For the U grid, I get constituents for currents but I only use the u component. For the V grid, I get constituents for currents but I only use the v component.\n"
     ]
    },
    {
     "cell_type": "heading",
     "level": 2,
     "metadata": {},
     "source": [
      "Water level (z1 and z2)"
     ]
    },
    {
     "cell_type": "code",
     "collapsed": false,
     "input": [
      "#take the output constituent elevation data from WebTide and convert it to something NEMO will like for a boundary\n",
      "#order of constituents in WebTide output is O1, P1, Q1, K1, K2, N2, M2, S2\n",
      "import pandas as pd\n",
      "\n",
      "#T\n",
      "webtide_wl_T = pd.read_csv('/ocean/klesouef/meopar/tools/I_ForcingFiles/Tidal Elevation Constituents T.csv',skiprows = 2)\n",
      "print(len(webtide_wl_T)/8)\n",
      "#the column names have spaces in them, so rename them\n",
      "webtide_wl_T = webtide_wl_T.rename(columns={'Constituent': 'const', 'Longitude': 'lon', 'Latitude': 'lat', \\\n",
      "                                            'Amplitude (m)': 'amp', 'Phase (deg GMT)': 'pha'})\n",
      "print(webtide_wl_T)\n",
      "\n",
      "#U\n",
      "webtide_wl_U = pd.read_csv('/ocean/klesouef/meopar/tools/I_ForcingFiles/Tidal Current Constituents U.csv',skiprows = 2)\n",
      "print(len(webtide_wl_U)/8)\n",
      "#the column names have spaces in them, so rename them\n",
      "webtide_wl_U = webtide_wl_U.rename(columns={'Constituent': 'const', 'Longitude': 'lon', 'Latitude': 'lat', \\\n",
      "                                            'U Amplitude (m)': 'ewamp', 'U Phase (deg GMT)': 'ewpha',\\\n",
      "                                            'V Amplitude (m)': 'nsamp', 'V Phase (deg GMT)': 'nspha'})\n",
      "print(webtide_wl_U)\n",
      "\n",
      "#V\n",
      "webtide_wl_V = pd.read_csv('/ocean/klesouef/meopar/tools/I_ForcingFiles/Tidal Current Constituents V.csv',skiprows = 2)\n",
      "print(len(webtide_wl_V)/8)\n",
      "#the column names have spaces in them, so rename them\n",
      "webtide_wl_V = webtide_wl_V.rename(columns={'Constituent': 'const', 'Longitude': 'lon', 'Latitude': 'lat', \\\n",
      "                                            'U Amplitude (m)': 'ewamp', 'U Phase (deg GMT)': 'ewpha',\\\n",
      "                                            'V Amplitude (m)': 'nsamp', 'V Phase (deg GMT)': 'nspha'})\n",
      "print(webtide_wl_V)"
     ],
     "language": "python",
     "metadata": {},
     "outputs": [
      {
       "output_type": "stream",
       "stream": "stdout",
       "text": [
        "77\n",
        "<class 'pandas.core.frame.DataFrame'>\n",
        "Int64Index: 616 entries, 0 to 615\n",
        "Data columns (total 5 columns):\n",
        "const    616  non-null values\n",
        "lon      616  non-null values\n",
        "lat      616  non-null values\n",
        "amp      616  non-null values\n",
        "pha      616  non-null values\n",
        "dtypes: float64(4), object(1)\n",
        "77\n",
        "<class 'pandas.core.frame.DataFrame'>\n",
        "Int64Index: 616 entries, 0 to 615\n",
        "Data columns (total 7 columns):\n",
        "const    616  non-null values\n",
        "lon      616  non-null values\n",
        "lat      616  non-null values\n",
        "ewamp    616  non-null values\n",
        "ewpha    616  non-null values\n",
        "nsamp    616  non-null values\n",
        "nspha    616  non-null values\n",
        "dtypes: float64(6), object(1)\n",
        "78\n",
        "<class 'pandas.core.frame.DataFrame'>\n",
        "Int64Index: 624 entries, 0 to 623\n",
        "Data columns (total 7 columns):\n",
        "const    624  non-null values\n",
        "lon      624  non-null values\n",
        "lat      624  non-null values\n",
        "ewamp    624  non-null values\n",
        "ewpha    624  non-null values\n",
        "nsamp    624  non-null values\n",
        "nspha    624  non-null values\n",
        "dtypes: float64(6), object(1)\n"
       ]
      }
     ],
     "prompt_number": 6
    },
    {
     "cell_type": "code",
     "collapsed": false,
     "input": [
      "#WATER LEVEL ELEVATION\n",
      "\n",
      "#along western boundary, etaZ1 and etaZ2 are 0 in masked cells\n",
      "etaamp_W = numpy.zeros((a,1))\n",
      "etapha_W = numpy.zeros((a,1))\n",
      "\n",
      "#find the boundary\n",
      "I = numpy.where(depthT!=0)\n",
      "\n",
      "#allocate the M2 phase and amplitude from Webtide to the boundary cells\n",
      "#(CHECK: Are these allocated in the right order?)\n",
      "etaamp_W[I,0] = webtide_wl_T[webtide_wl_T.const=='M2:'].amp\n",
      "etapha_W[I,0] = webtide_wl_T[webtide_wl_T.const=='M2:'].pha\n",
      "\n",
      "#convert the phase and amplitude to cosine and sine format that NEMO likes\n",
      "etaZ1_W = etaamp_W*numpy.cos(numpy.radians(etapha_W))\n",
      "etaZ2_W = etaamp_W*numpy.sin(numpy.radians(etapha_W))\n",
      "print(etaZ1_W.size)"
     ],
     "language": "python",
     "metadata": {},
     "outputs": [
      {
       "output_type": "stream",
       "stream": "stdout",
       "text": [
        "345\n"
       ]
      }
     ],
     "prompt_number": 7
    },
    {
     "cell_type": "code",
     "collapsed": false,
     "input": [
      "#U VELOCITY\n",
      "\n",
      "#Convert amplitudes from north/south u/v into east/west in the grid\n",
      "theta = 50 #degrees\n",
      "uamp = webtide_wl_U[webtide_wl_U.const=='M2:'].ewamp*numpy.cos(numpy.radians(theta)) \\\n",
      "        + webtide_wl_U[webtide_wl_U.const=='M2:'].nsamp*numpy.sin(numpy.radians(theta))\n",
      "\n",
      "#along western boundary, etaZ1 and etaZ2 are 0 in masked cells\n",
      "uamp_W = numpy.zeros((a,1))\n",
      "upha_W = numpy.zeros((a,1))\n",
      "\n",
      "#find the boundary\n",
      "I = numpy.where(depthU!=0)\n",
      "\n",
      "#allocate the M2 phase and amplitude from Webtide to the boundary cells\n",
      "#(CHECK: Are these allocated in the right order?)\n",
      "uamp_W[I,0] = uamp\n",
      "upha_W[I,0] = webtide_wl_U[webtide_wl_U.const=='M2:'].nspha\n",
      "\n",
      "#convert the phase and amplitude to cosine and sine format that NEMO likes\n",
      "uZ1_W = uamp_W*numpy.cos(numpy.radians(upha_W))\n",
      "uZ2_W = uamp_W*numpy.sin(numpy.radians(upha_W))\n",
      "print(uZ1_W.size)"
     ],
     "language": "python",
     "metadata": {},
     "outputs": [
      {
       "output_type": "stream",
       "stream": "stdout",
       "text": [
        "345\n"
       ]
      }
     ],
     "prompt_number": 8
    },
    {
     "cell_type": "code",
     "collapsed": false,
     "input": [
      "#V VELOCITY\n",
      "\n",
      "#Convert amplitudes from north/south u/v into east/west in the grid\n",
      "theta = 50 #degrees\n",
      "vamp = webtide_wl_V[webtide_wl_V.const=='M2:'].ewamp*numpy.cos(numpy.radians(theta)) \\\n",
      "        + webtide_wl_V[webtide_wl_V.const=='M2:'].ewamp*numpy.sin(numpy.radians(theta))\n",
      "\n",
      "#along western boundary, etaZ1 and etaZ2 are 0 in masked cells\n",
      "vamp_W = numpy.zeros((a,1))\n",
      "vpha_W = numpy.zeros((a,1))\n",
      "\n",
      "#find the boundary\n",
      "I = numpy.where(depthV!=0)\n",
      "\n",
      "#allocate the M2 phase and amplitude from Webtide to the boundary cells\n",
      "#(CHECK: Are these allocated in the right order?)\n",
      "vamp_W[I,0] = vamp\n",
      "vpha_W[I,0] = webtide_wl_V[webtide_wl_V.const=='M2:'].nspha\n",
      "\n",
      "#convert the phase and amplitude to cosine and sine format that NEMO likes\n",
      "vZ1_W = vamp_W*numpy.cos(numpy.radians(vpha_W))\n",
      "vZ2_W = vamp_W*numpy.sin(numpy.radians(vpha_W))\n",
      "print(uZ1_W.size)"
     ],
     "language": "python",
     "metadata": {},
     "outputs": [
      {
       "output_type": "stream",
       "stream": "stdout",
       "text": [
        "345\n"
       ]
      }
     ],
     "prompt_number": 9
    },
    {
     "cell_type": "code",
     "collapsed": false,
     "input": [
      "#define a function that allocates the boring parts to the netcdf?\n"
     ],
     "language": "python",
     "metadata": {},
     "outputs": [],
     "prompt_number": 10
    },
    {
     "cell_type": "code",
     "collapsed": false,
     "input": [
      "#WATER ELEVATION NETCDF\n",
      "\n",
      "#start making the netcdf file\n",
      "nemo = NC.Dataset('SalishSea_west_tide_M2_grid_T.nc', 'w')\n",
      "nemo.description = 'Tide data from WebTide'\n",
      "\n",
      "# dimensions\n",
      "nemo.createDimension('xb', a+b)\n",
      "nemo.createDimension('yb', 1)\n",
      "\n",
      "# variables (taken from Susan's code in Prepare Tide Files)\n",
      "xb = nemo.createVariable('xb', 'int32', ('xb',),zlib=True)\n",
      "xb.units = 'non dim'\n",
      "xb.longname = 'counter around boundary'\n",
      "yb = nemo.createVariable('yb', 'int32', ('yb',),zlib=True)\n",
      "yb.units = 'non dim'\n",
      "nbidta = nemo.createVariable('nbidta', 'int32' , ('yb','xb'),zlib=True)\n",
      "nbidta.units = 'non dim'\n",
      "nbidta.longname = 'i grid position'\n",
      "nbjdta = nemo.createVariable('nbjdta', 'int32' , ('yb','xb'),zlib=True)\n",
      "nbjdta.units = 'non dim'\n",
      "nbjdta.longname = 'j grid position'\n",
      "nbrdta = nemo.createVariable('nbrdta', 'int32' , ('yb','xb'),zlib=True)\n",
      "nbrdta.units = 'non dim'\n",
      "z1 = nemo.createVariable('z1','float32',('yb','xb'),zlib=True)\n",
      "z1.units = 'm'\n",
      "z1.longname = 'tidal elevation: cosine'\n",
      "z2 = nemo.createVariable('z2','float32',('yb','xb'),zlib=True)\n",
      "z2.units = 'm'\n",
      "z2.longname = 'tidal elevation: sine'\n",
      "\n",
      "# start to input the data\n",
      "xb[:] = numpy.arange(1, a+b+1)\n",
      "yb[0] = 1\n",
      "\n",
      "# West Boundary (this is where the webtide points go)\n",
      "nbidta[0,0:a] = 1\n",
      "nbjdta[0,0:a] = numpy.arange(1,a+1)\n",
      "z1[0,0:a] = etaZ1_W[:,0]\n",
      "z2[0,0:a] = etaZ2_W[:,0]\n",
      "\n",
      "#plot it to check it looks right\n",
      "#pylab.plot(etaZ1_W,'b')\n",
      "#pylab.plot(etaZ2_W,'r')\n",
      "\n",
      "# North Boundary (nothing here at the moment)\n",
      "nbidta[0,a:] = numpy.arange(1,b+1)\n",
      "nbjdta[0,a:] = 345\n",
      "z1[0,a:] = 0.\n",
      "z2[0,a:] = 0.   \n",
      "\n",
      "# the corner\n",
      "nbrdta[:] = 1\n",
      "\n",
      "#Check the cells where the webtide data went\n",
      "test = numpy.where(etaZ1_W[:,0]!=0)\n",
      "print(test)\n",
      "pylab.plot(nbidta[0,test[:][0]],nbjdta[0,test[:][0]],'*y')\n",
      "\n",
      "nemo.close()"
     ],
     "language": "python",
     "metadata": {},
     "outputs": [
      {
       "output_type": "stream",
       "stream": "stdout",
       "text": [
        "(array([190, 191, 192, 193, 194, 195, 196, 197, 198, 199, 200, 201, 202,\n",
        "       203, 204, 205, 206, 207, 208, 209, 210, 211, 212, 213, 214, 215,\n",
        "       216, 217, 218, 219, 220, 221, 222, 223, 224, 225, 226, 227, 228,\n",
        "       229, 230, 231, 232, 233, 234, 235, 236, 237, 238, 239, 240, 241,\n",
        "       242, 243, 244, 245, 246, 247, 248, 249, 250, 251, 252, 253, 254,\n",
        "       255, 256, 257, 258, 259, 260, 261, 262, 263, 264, 265, 266]),)\n"
       ]
      },
      {
       "metadata": {},
       "output_type": "display_data",
       "png": "[encoded data removed]",
       "text": [
        "<matplotlib.figure.Figure at 0x7f06535b2690>"
       ]
      }
     ],
     "prompt_number": 77
    },
    {
     "cell_type": "code",
     "collapsed": false,
     "input": [
      "#open netCDF to check it?\n"
     ],
     "language": "python",
     "metadata": {},
     "outputs": [],
     "prompt_number": 22
    },
    {
     "cell_type": "heading",
     "level": 3,
     "metadata": {},
     "source": [
      "U (u1 and u2)"
     ]
    },
    {
     "cell_type": "code",
     "collapsed": false,
     "input": [
      "#U NETCDF\n",
      "\n",
      "#start making the netcdf file\n",
      "u = NC.Dataset('SalishSea_west_tide_M2_grid_U.nc', 'w')\n",
      "u.description = 'Tide data from WebTide'\n",
      "\n",
      "# dimensions\n",
      "u.createDimension('xb', a+b)\n",
      "u.createDimension('yb', 1)\n",
      "\n",
      "# variables (taken from Susan's code in Prepare Tide Files)\n",
      "xb = u.createVariable('xb', 'int32', ('xb',),zlib=True)\n",
      "xb.units = 'non dim'\n",
      "xb.longname = 'counter around boundary'\n",
      "yb = u.createVariable('yb', 'int32', ('yb',),zlib=True)\n",
      "yb.units = 'non dim'\n",
      "nbidta = u.createVariable('nbidta', 'int32' , ('yb','xb'),zlib=True)\n",
      "nbidta.units = 'non dim'\n",
      "nbidta.longname = 'i grid position'\n",
      "nbjdta = u.createVariable('nbjdta', 'int32' , ('yb','xb'),zlib=True)\n",
      "nbjdta.units = 'non dim'\n",
      "nbjdta.longname = 'j grid position'\n",
      "nbrdta = u.createVariable('nbrdta', 'int32' , ('yb','xb'),zlib=True)\n",
      "nbrdta.units = 'non dim'\n",
      "u1 = u.createVariable('u1','float32',('yb','xb'),zlib=True)\n",
      "u1.units = 'm'\n",
      "u1.longname = 'tidal x-velocity: cosine'\n",
      "u2 = u.createVariable('u2','float32',('yb','xb'),zlib=True)\n",
      "u2.units = 'm'\n",
      "u2.longname = 'tidal x-velocity: sine'\n",
      "    \n",
      "# start to input the data\n",
      "xb[:] = numpy.arange(1, a+b+1)\n",
      "yb[0] = 1\n",
      "\n",
      "# West Boundary (this is where the webtide points go)\n",
      "nbidta[0,0:a] = 1\n",
      "nbjdta[0,0:a] = numpy.arange(1,a+1)\n",
      "u1[0,0:a] = uZ1_W[:,0]\n",
      "u2[0,0:a] = uZ2_W[:,0]\n",
      "\n",
      "#plot it to check it looks right\n",
      "pylab.plot(uZ1_W,'b')\n",
      "pylab.plot(uZ2_W,'r')\n",
      "pylab.xlabel('grid point')\n",
      "pylab.ylabel('U velocity [m]')\n",
      "\n",
      "# North Boundary (nothing here at the moment)\n",
      "nbidta[0,a:] = numpy.arange(1,b+1)\n",
      "nbjdta[0,a:] = 345\n",
      "u1[0,a:] = 0.\n",
      "u2[0,a:] = 0.   \n",
      "\n",
      "# the corner\n",
      "nbrdta[:] = 1\n",
      "\n",
      "u.close()"
     ],
     "language": "python",
     "metadata": {},
     "outputs": [
      {
       "metadata": {},
       "output_type": "display_data",
       "png": "[encoded data removed]",
       "text": [
        "<matplotlib.figure.Figure at 0x7f0653b59a90>"
       ]
      }
     ],
     "prompt_number": 78
    },
    {
     "cell_type": "heading",
     "level": 3,
     "metadata": {},
     "source": [
      "V (v1 and v2)"
     ]
    },
    {
     "cell_type": "code",
     "collapsed": false,
     "input": [
      "#V NETCDF\n",
      "\n",
      "#start making the netcdf file\n",
      "v = NC.Dataset('SalishSea_west_tide_M2_grid_V.nc', 'w')\n",
      "v.description = 'Tide data from WebTide'\n",
      "\n",
      "# dimensions\n",
      "v.createDimension('xb', a+b)\n",
      "v.createDimension('yb', 1)\n",
      "\n",
      "# variables (taken from Susan's code in Prepare Tide Files)\n",
      "xb = v.createVariable('xb', 'int32', ('xb',),zlib=True)\n",
      "xb.units = 'non dim'\n",
      "xb.longname = 'counter around boundary'\n",
      "yb = v.createVariable('yb', 'int32', ('yb',),zlib=True)\n",
      "yb.units = 'non dim'\n",
      "nbidta = v.createVariable('nbidta', 'int32' , ('yb','xb'),zlib=True)\n",
      "nbidta.units = 'non dim'\n",
      "nbidta.longname = 'i grid position'\n",
      "nbjdta = v.createVariable('nbjdta', 'int32' , ('yb','xb'),zlib=True)\n",
      "nbjdta.units = 'non dim'\n",
      "nbjdta.longname = 'j grid position'\n",
      "nbrdta = v.createVariable('nbrdta', 'int32' , ('yb','xb'),zlib=True)\n",
      "nbrdta.units = 'non dim'\n",
      "v1 = v.createVariable('v1','float32',('yb','xb'),zlib=True)\n",
      "v1.units = 'm'\n",
      "v1.longname = 'tidal y-velocity: cosine'\n",
      "v2 = v.createVariable('v2','float32',('yb','xb'),zlib=True)\n",
      "v2.units = 'm'\n",
      "v2.longname = 'tidal y-velocity: sine'\n",
      "    \n",
      "# start to input the data\n",
      "xb[:] = numpy.arange(1, a+b+1)\n",
      "yb[0] = 1\n",
      "\n",
      "# West Boundary (this is where the webtide points go)\n",
      "nbidta[0,0:a] = 1\n",
      "nbjdta[0,0:a] = numpy.arange(1,a+1)\n",
      "v1[0,0:a] = vZ1_W[:,0]\n",
      "v2[0,0:a] = vZ2_W[:,0]\n",
      "\n",
      "#plot it to check it looks right\n",
      "pylab.plot(vZ1_W,'b',vZ2_W,'r')\n",
      "pylab.xlabel('grid point')\n",
      "pylab.ylabel('V velocity')\n",
      "\n",
      "# North Boundary (nothing here at the moment)\n",
      "nbidta[0,a:] = numpy.arange(1,b+1)\n",
      "nbjdta[0,a:] = 345\n",
      "v1[0,a:] = 0.\n",
      "v2[0,a:] = 0.   \n",
      "\n",
      "# the corner\n",
      "nbrdta[:] = 1\n",
      "\n",
      "v.close()"
     ],
     "language": "python",
     "metadata": {},
     "outputs": [
      {
       "metadata": {},
       "output_type": "display_data",
       "png": "[encoded data removed]",
       "text": [
        "<matplotlib.figure.Figure at 0x7f065388fc10>"
       ]
      }
     ],
     "prompt_number": 79
    },
    {
     "cell_type": "code",
     "collapsed": false,
     "input": [],
     "language": "python",
     "metadata": {},
     "outputs": []
    }
   ],
   "metadata": {}
  }
 ]
}