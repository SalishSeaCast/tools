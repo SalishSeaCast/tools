{
 "metadata": {
  "name": ""
 },
 "nbformat": 3,
 "nbformat_minor": 0,
 "worksheets": [
  {
   "cells": [
    {
     "cell_type": "markdown",
     "metadata": {},
     "source": [
      "Get the forcing from WebTide (http://www.bio.gc.ca/science/research-recherche/ocean/webtide/index-eng.php) for the Juan de Fuca boundary of the model"
     ]
    },
    {
     "cell_type": "code",
     "collapsed": false,
     "input": [
      "#preamble\n",
      "%matplotlib inline\n",
      "from matplotlib import pylab\n",
      "import netCDF4 as NC\n",
      "import csv \n",
      "import numpy\n",
      "from itertools import islice"
     ],
     "language": "python",
     "metadata": {},
     "outputs": [],
     "prompt_number": 1
    },
    {
     "cell_type": "markdown",
     "metadata": {},
     "source": [
      "Get the co-ordinates of the boundary and put them in a text file for WebTide\n"
     ]
    },
    {
     "cell_type": "code",
     "collapsed": false,
     "input": [
      "#load in the bathymetry netcdf data\n",
      "fB = NC.Dataset('/ocean/klesouef/meopar/nemo-forcing/grid/SubDom_bathy_meter_NOBCchancomp.nc','r')\n",
      "\n",
      "#get the depth data from the netcdf\n",
      "depth = fB.variables['Bathymetry'][:]\n",
      "# masking just causes problems, set depth to 0 on land\n",
      "depth[depth.mask] = 0\n",
      "a, b = depth.shape\n",
      "print(a,b)\n",
      "\n",
      "X = fB.variables['nav_lat'][:,:]\n",
      "Y = fB.variables['nav_lon'][:,:]"
     ],
     "language": "python",
     "metadata": {},
     "outputs": [
      {
       "output_type": "stream",
       "stream": "stdout",
       "text": [
        "(345, 398)\n"
       ]
      }
     ],
     "prompt_number": 2
    },
    {
     "cell_type": "code",
     "collapsed": false,
     "input": [
      "#i and j indices of the Juan de Fuca boundary\n",
      "ilast = a-1\n",
      "jindex_W = 0\n",
      "\n",
      "#find the boundary from the depth data\n",
      "depthu_W = 0.5*(depth[:,jindex_W]+depth[:,jindex_W+1])\n",
      "#plot the depth data\n",
      "pylab.plot(depthu_W,'x')\n",
      "\n",
      "#find where lats and lons the depths are not 0 - this is the boundary\n",
      "boundlat = X[depthu_W!=0,0]\n",
      "boundlon = Y[depthu_W!=0,0]\n",
      "\n",
      "#create a .csv file with all the lat/lons in it, to import into Webtide\n",
      "with open('/ocean/klesouef/meopar/tools/compare_tides/jdf_boundary_coords.txt', 'wb') as csvfile:\n",
      "    writer = csv.writer(csvfile, delimiter=' ')\n",
      "    for t in numpy.arange(0,len(boundlat)):\n",
      "            writer.writerow([boundlon[t],boundlat[t]])         \n",
      "            "
     ],
     "language": "python",
     "metadata": {},
     "outputs": [
      {
       "metadata": {},
       "output_type": "display_data",
       "png": "[encoded data removed]",
       "text": [
        "<matplotlib.figure.Figure at 0x2ab6590>"
       ]
      }
     ],
     "prompt_number": 3
    },
    {
     "cell_type": "markdown",
     "metadata": {},
     "source": [
      "Now I start the WebTide application, select 'Import Tide Markers' then select 'Get Constituents'. An html page opens with the constituents for each of the points. I select all the data and copy into a .csv file."
     ]
    },
    {
     "cell_type": "code",
     "collapsed": false,
     "input": [
      "#take the output data from WebTide and convert it to something NEMO will like\n",
      "lon = []\n",
      "test = [{} for i in numpy.arange(0,len(boundlat))]\n",
      "dictnum = 0\n",
      "count = 0\n",
      "\n",
      "with open('/ocean/klesouef/meopar/tools/I_ForcingFiles/Tidal Elevation Constituents.csv','rb') as csvfile:\n",
      "    reader = csv.reader(csvfile)\n",
      "    for row in islice(reader, 0, None):\n",
      "        for row in reader:\n",
      "            #print(row)\n",
      "            lon.append(row[1])\n",
      "            if (count+1)%8 == 0:\n",
      "                dictnum = dictnum+1\n",
      "            count = count+1\n",
      "            \n",
      "\n",
      "#remember that webtide is in clumps of 8 rows, with each constituent listed for each lat/lon!! \n",
      "#I need all of the consts!\n",
      "        \n",
      "        \n",
      "        \n"
     ],
     "language": "python",
     "metadata": {},
     "outputs": [
      {
       "ename": "AttributeError",
       "evalue": "'DataFrame' object has no attribute 'reader'",
       "output_type": "pyerr",
       "traceback": [
        "\u001b[1;31m---------------------------------------------------------------------------\u001b[0m\n\u001b[1;31mAttributeError\u001b[0m                            Traceback (most recent call last)",
        "\u001b[1;32m<ipython-input-14-72f23a640dec>\u001b[0m in \u001b[0;36m<module>\u001b[1;34m()\u001b[0m\n\u001b[0;32m      7\u001b[0m \u001b[1;33m\u001b[0m\u001b[0m\n\u001b[0;32m      8\u001b[0m \u001b[1;32mwith\u001b[0m \u001b[0mopen\u001b[0m\u001b[1;33m(\u001b[0m\u001b[1;34m'/ocean/klesouef/meopar/tools/I_ForcingFiles/Tidal Elevation Constituents.csv'\u001b[0m\u001b[1;33m,\u001b[0m\u001b[1;34m'rb'\u001b[0m\u001b[1;33m)\u001b[0m \u001b[1;32mas\u001b[0m \u001b[0mcsvfile\u001b[0m\u001b[1;33m:\u001b[0m\u001b[1;33m\u001b[0m\u001b[0m\n\u001b[1;32m----> 9\u001b[1;33m     \u001b[0mreader\u001b[0m \u001b[1;33m=\u001b[0m \u001b[0mcsv\u001b[0m\u001b[1;33m.\u001b[0m\u001b[0mreader\u001b[0m\u001b[1;33m(\u001b[0m\u001b[0mcsvfile\u001b[0m\u001b[1;33m)\u001b[0m\u001b[1;33m\u001b[0m\u001b[0m\n\u001b[0m\u001b[0;32m     10\u001b[0m     \u001b[1;32mfor\u001b[0m \u001b[0mrow\u001b[0m \u001b[1;32min\u001b[0m \u001b[0mislice\u001b[0m\u001b[1;33m(\u001b[0m\u001b[0mreader\u001b[0m\u001b[1;33m,\u001b[0m \u001b[1;36m0\u001b[0m\u001b[1;33m,\u001b[0m \u001b[0mNone\u001b[0m\u001b[1;33m)\u001b[0m\u001b[1;33m:\u001b[0m\u001b[1;33m\u001b[0m\u001b[0m\n\u001b[0;32m     11\u001b[0m         \u001b[1;32mfor\u001b[0m \u001b[0mrow\u001b[0m \u001b[1;32min\u001b[0m \u001b[0mreader\u001b[0m\u001b[1;33m:\u001b[0m\u001b[1;33m\u001b[0m\u001b[0m\n",
        "\u001b[1;32m/home/klesouef/anaconda/lib/python2.7/site-packages/pandas/core/frame.pyc\u001b[0m in \u001b[0;36m__getattr__\u001b[1;34m(self, name)\u001b[0m\n\u001b[0;32m   2086\u001b[0m             \u001b[1;32mreturn\u001b[0m \u001b[0mself\u001b[0m\u001b[1;33m[\u001b[0m\u001b[0mname\u001b[0m\u001b[1;33m]\u001b[0m\u001b[1;33m\u001b[0m\u001b[0m\n\u001b[0;32m   2087\u001b[0m         raise AttributeError(\"'%s' object has no attribute '%s'\" %\n\u001b[1;32m-> 2088\u001b[1;33m                              (type(self).__name__, name))\n\u001b[0m\u001b[0;32m   2089\u001b[0m \u001b[1;33m\u001b[0m\u001b[0m\n\u001b[0;32m   2090\u001b[0m     \u001b[1;32mdef\u001b[0m \u001b[0m__setattr__\u001b[0m\u001b[1;33m(\u001b[0m\u001b[0mself\u001b[0m\u001b[1;33m,\u001b[0m \u001b[0mname\u001b[0m\u001b[1;33m,\u001b[0m \u001b[0mvalue\u001b[0m\u001b[1;33m)\u001b[0m\u001b[1;33m:\u001b[0m\u001b[1;33m\u001b[0m\u001b[0m\n",
        "\u001b[1;31mAttributeError\u001b[0m: 'DataFrame' object has no attribute 'reader'"
       ]
      }
     ],
     "prompt_number": 14
    },
    {
     "cell_type": "code",
     "collapsed": false,
     "input": [
      "import pandas as pd\n",
      "csv = pd.read_csv('/ocean/klesouef/meopar/tools/I_ForcingFiles/Tidal Elevation Constituents.csv')\n",
      "test = (csv[csv.Longitude==csv.Longitude[0]])\n",
      "print(test)"
     ],
     "language": "python",
     "metadata": {},
     "outputs": [
      {
       "output_type": "stream",
       "stream": "stdout",
       "text": [
        "  Constituent  Longitude  Latitude  Amplitude (m)  Phase (deg GMT)\n",
        "0         O1:   -124.692   48.3906       0.289505       228.037576\n",
        "1         P1:   -124.692   48.3906       0.149274       239.938770\n",
        "2         Q1:   -124.692   48.3906       0.051424       218.485905\n",
        "3         K1:   -124.692   48.3906       0.469926       243.865479\n",
        "4         K2:   -124.692   48.3906       0.066996       260.022960\n",
        "5         N2:   -124.692   48.3906       0.178588       220.234498\n",
        "6         M2:   -124.692   48.3906       0.838473       244.167648\n",
        "7         S2:   -124.692   48.3906       0.245321       270.964141\n"
       ]
      }
     ],
     "prompt_number": 24
    },
    {
     "cell_type": "code",
     "collapsed": false,
     "input": [],
     "language": "python",
     "metadata": {},
     "outputs": []
    }
   ],
   "metadata": {}
  }
 ]
}