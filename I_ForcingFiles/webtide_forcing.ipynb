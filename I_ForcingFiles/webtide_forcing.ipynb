{
 "metadata": {
  "name": ""
 },
 "nbformat": 3,
 "nbformat_minor": 0,
 "worksheets": [
  {
   "cells": [
    {
     "cell_type": "markdown",
     "metadata": {},
     "source": [
      "Get the forcing from WebTide (http://www.bio.gc.ca/science/research-recherche/ocean/webtide/index-eng.php) for the Juan de Fuca boundary of the model"
     ]
    },
    {
     "cell_type": "code",
     "collapsed": false,
     "input": [
      "#preamble\n",
      "%matplotlib inline\n",
      "from matplotlib import pylab\n",
      "import netCDF4 as NC\n",
      "import csv \n",
      "import numpy\n",
      "from itertools import islice"
     ],
     "language": "python",
     "metadata": {},
     "outputs": [],
     "prompt_number": 29
    },
    {
     "cell_type": "markdown",
     "metadata": {},
     "source": [
      "Get the co-ordinates of the boundary and put them in a text file for WebTide\n"
     ]
    },
    {
     "cell_type": "code",
     "collapsed": false,
     "input": [
      "#load in the bathymetry netcdf data\n",
      "fB = NC.Dataset('/ocean/klesouef/meopar/nemo-forcing/grid/SubDom_bathy_meter_NOBCchancomp.nc','r')\n",
      "\n",
      "#get the depth data from the netcdf\n",
      "depth = fB.variables['Bathymetry'][:]\n",
      "# masking just causes problems, set depth to 0 on land\n",
      "depth[depth.mask] = 0\n",
      "a, b = depth.shape\n",
      "print(a,b)\n",
      "\n",
      "X = fB.variables['nav_lat'][:,:]\n",
      "Y = fB.variables['nav_lon'][:,:]"
     ],
     "language": "python",
     "metadata": {},
     "outputs": [
      {
       "output_type": "stream",
       "stream": "stdout",
       "text": [
        "(345, 398)\n"
       ]
      }
     ],
     "prompt_number": 2
    },
    {
     "cell_type": "code",
     "collapsed": false,
     "input": [
      "#i and j indices of the Juan de Fuca boundary\n",
      "ilast = a-1\n",
      "jindex_W = 0\n",
      "\n",
      "#find the boundary from the depth data\n",
      "depthu_W = 0.5*(depth[:,jindex_W]+depth[:,jindex_W+1])\n",
      "#plot the depth data\n",
      "pylab.plot(depthu_W,'x')\n",
      "\n",
      "#find where lats and lons the depths are not 0 - this is the boundary\n",
      "boundlat = X[depthu_W!=0,0]\n",
      "boundlon = Y[depthu_W!=0,0]\n",
      "print('number of cells along boundary = '+str(len(boundlat)))\n",
      "\n",
      "#create a .csv file with all the lat/lons in it, to import into Webtide\n",
      "with open('/ocean/klesouef/meopar/tools/compare_tides/jdf_boundary_coords.txt', 'wb') as csvfile:\n",
      "    writer = csv.writer(csvfile, delimiter=' ')\n",
      "    for t in numpy.arange(0,len(boundlat)):\n",
      "            writer.writerow([boundlon[t],boundlat[t]])         \n",
      "            "
     ],
     "language": "python",
     "metadata": {},
     "outputs": [
      {
       "output_type": "stream",
       "stream": "stdout",
       "text": [
        "number of cells along boundary =77\n"
       ]
      },
      {
       "metadata": {},
       "output_type": "display_data",
       "png": "[encoded data removed]",
       "text": [
        "<matplotlib.figure.Figure at 0x3b418d0>"
       ]
      }
     ],
     "prompt_number": 30
    },
    {
     "cell_type": "markdown",
     "metadata": {},
     "source": [
      "Now I start the WebTide application, select 'Import Tide Markers' then select 'Get Constituents'. An html page opens with the constituents for each of the points. I select all the data and copy into a .csv file."
     ]
    },
    {
     "cell_type": "code",
     "collapsed": false,
     "input": [
      "#take the output constituent elevation data from WebTide and convert it to something NEMO will like for a boundary\n",
      "import pandas as pd\n",
      "webtide_wl = pd.read_csv('/ocean/klesouef/meopar/tools/I_ForcingFiles/Tidal Elevation Constituents.csv')\n",
      "num_grid_point = len(webtide_wl)/8\n",
      "print(num_grid_point)\n",
      "\n",
      "#the column names have spaces in them, so rename them\n",
      "webtide_wl = webtide_wl.rename(columns={'Constituent': 'const', 'Longitude': 'lon', 'Latitude': 'lat', \\\n",
      "                          'Amplitude (m)': 'amp', 'Phase (deg GMT)': 'pha'})\n",
      "\n",
      "#order of constituents in WebTide output is O1, P1, Q1, K1, K2, N2, M2, S2\n",
      "print(webtide_wl)"
     ],
     "language": "python",
     "metadata": {},
     "outputs": [
      {
       "output_type": "stream",
       "stream": "stdout",
       "text": [
        "77\n",
        "<class 'pandas.core.frame.DataFrame'>\n",
        "Int64Index: 616 entries, 0 to 615\n",
        "Data columns (total 5 columns):\n",
        "const    616  non-null values\n",
        "lon      616  non-null values\n",
        "lat      616  non-null values\n",
        "amp      616  non-null values\n",
        "pha      616  non-null values\n",
        "dtypes: float64(4), object(1)\n"
       ]
      }
     ],
     "prompt_number": 5
    },
    {
     "cell_type": "code",
     "collapsed": false,
     "input": [
      "#take the output constituent elevation data from WebTide and convert it to something NEMO will like for a boundary\n",
      "webtide_cu = pd.read_csv('/ocean/klesouef/meopar/tools/I_ForcingFiles/Tidal Current Constituents.csv',\\\n",
      "                         skiprows = 2)\n",
      "num_grid_point = len(webtide_cu)/8\n",
      "print(num_grid_point)\n",
      "\n",
      "#the column names have spaces in them, so rename them\n",
      "webtide_cu = webtide_cu.rename(columns={'Constituent': 'const', 'Longitude': 'lon', 'Latitude': 'lat', \\\n",
      "                                        'U Amplitude (m)': 'uamp', 'U Phase (deg GMT)': 'upha',\\\n",
      "                                        'V Amplitude (m)': 'vamp', 'V Phase (deg GMT)': 'vpha'})\n",
      "print(webtide_cu)"
     ],
     "language": "python",
     "metadata": {},
     "outputs": [
      {
       "output_type": "stream",
       "stream": "stdout",
       "text": [
        "77\n",
        "<class 'pandas.core.frame.DataFrame'>\n",
        "Int64Index: 616 entries, 0 to 615\n",
        "Data columns (total 7 columns):\n",
        "const    616  non-null values\n",
        "lon      616  non-null values\n",
        "lat      616  non-null values\n",
        "uamp     616  non-null values\n",
        "upha     616  non-null values\n",
        "vamp     616  non-null values\n",
        "vpha     616  non-null values\n",
        "dtypes: float64(6), object(1)\n"
       ]
      }
     ],
     "prompt_number": 6
    },
    {
     "cell_type": "code",
     "collapsed": false,
     "input": [
      "#Try this out with the M2 tide of the first point\n",
      "pha = webtide[webtide.const=='M2:'].pha\n",
      "amp = webtide[webtide.const=='M2:'].amp\n",
      "\n",
      "etaz1 = amp*numpy.cos(numpy.radians(pha))\n",
      "etaz2 = amp*numpy.sin(numpy.radians(pha))\n"
     ],
     "language": "python",
     "metadata": {},
     "outputs": [],
     "prompt_number": 78
    },
    {
     "cell_type": "code",
     "collapsed": false,
     "input": [
      "#along western boundary, etaZ1 and etaZ2 are 0 in masked cells\n",
      "etaamp_W = numpy.zeros((a,b))\n",
      "etapha_W = numpy.zeros((a,b))\n",
      "\n",
      "#find the boundary\n",
      "I = numpy.where(depthu_W!=0)\n",
      "\n",
      "#allocate the M2 phase and amplitude from Webtide to the boundary cells\n",
      "#(CHECK: Are these allocated in the right order?)\n",
      "etaamp_W[I,0] = webtide[webtide.const=='M2:'].amp\n",
      "etapha_W[I,0] = webtide[webtide.const=='M2:'].pha\n",
      "\n",
      "#convert the phase and amplitude to cosine and sine format that NEMO likes\n",
      "etaZ1_W = etaamp_W*numpy.cos(numpy.radians(etapha_W))\n",
      "etaZ2_W = etaamp_W*numpy.sin(numpy.radians(etapha_W))\n",
      "\n",
      "print('size etaamp_W = '+str(etaamp_W[I,0].size))\n",
      "print('size etaZ1_W = '+str(etaZ1_W[I,0].size))\n"
     ],
     "language": "python",
     "metadata": {},
     "outputs": [
      {
       "output_type": "stream",
       "stream": "stdout",
       "text": [
        "size etaamp_W = 77\n",
        "size etaZ1_W = 77\n"
       ]
      }
     ],
     "prompt_number": 72
    },
    {
     "cell_type": "code",
     "collapsed": false,
     "input": [
      "#define a function that allocates the boring parts to the netcdf?\n"
     ],
     "language": "python",
     "metadata": {},
     "outputs": []
    },
    {
     "cell_type": "code",
     "collapsed": false,
     "input": [
      "\n",
      "nemo = NC.Dataset('test_M2_grid_T.nc', 'w', format='NETCDF3_CLASSIC')\n",
      "nemo.description = 'Tide data from WebTide'\n",
      "\n",
      "# dimensions\n",
      "nemo.createDimension('xb', a+b)\n",
      "nemo.createDimension('yb', 1)\n",
      "\n",
      "# variables\n",
      "xb = nemo.createVariable('xb', 'int32', ('xb',))\n",
      "xb.units = 'non dim'\n",
      "xb.longname = 'counter around boundary'\n",
      "yb = nemo.createVariable('yb', 'int32', ('yb',))\n",
      "yb.units = 'non dim'\n",
      "nbidta = nemo.createVariable('nbidta', 'int32' , ('yb','xb'))\n",
      "nbidta.units = 'non dim'\n",
      "nbidta.longname = 'i grid position'\n",
      "nbjdta = nemo.createVariable('nbjdta', 'int32' , ('yb','xb'))\n",
      "nbjdta.units = 'non dim'\n",
      "nbjdta.longname = 'j grid position'\n",
      "nbrdta = nemo.createVariable('nbrdta', 'int32' , ('yb','xb'))\n",
      "nbrdta.units = 'non dim'\n",
      "z1 = nemo.createVariable('z1','float32',('yb','xb'))\n",
      "z1.units = 'm'\n",
      "z1.longname = 'tidal elevation: cosine'\n",
      "z2 = nemo.createVariable('z2','float32',('yb','xb'))\n",
      "z2.units = 'm'\n",
      "z2.longname = 'tidal elevation: sine'\n",
      "    \n",
      "# data\n",
      "xb[:] = numpy.arange(1, a+b+1)\n",
      "yb[0] = 1\n",
      "\n",
      "   # West Boundary\n",
      "nbidta[0,0:a] = 1\n",
      "nbjdta[0,0:a] = numpy.arange(1,a+1)\n",
      "z1[0,0:a] = etaZ1_W[:,0]\n",
      "z2[0,0:a] = etaZ2_W[:,0]\n",
      "\n",
      "pylab.plot(etaZ1_W,'b')\n",
      "pylab.plot(etaZ2_W,'r')\n",
      "\n",
      "   # North Boundary\n",
      "nbidta[0,a:] = numpy.arange(1,b+1)\n",
      "nbjdta[0,a:] = 345\n",
      "z1[0,a:] = 0.\n",
      "z2[0,a:] = 0.   \n",
      "\n",
      "    # and both\n",
      "nbrdta[:] = 1\n",
      "\n",
      "#pylab.plot(nbidta[0,:a],nbjdta[0,:a],'bo',nbidta[0,a:],nbjdta[0,a:],'gx')\n",
      "\n",
      "nemo.close()"
     ],
     "language": "python",
     "metadata": {},
     "outputs": [
      {
       "metadata": {},
       "output_type": "display_data",
       "png": "[encoded data removed]",
       "text": [
        "<matplotlib.figure.Figure at 0x7b3f490>"
       ]
      }
     ],
     "prompt_number": 95
    },
    {
     "cell_type": "code",
     "collapsed": false,
     "input": [
      "#open netCDF to check it"
     ],
     "language": "python",
     "metadata": {},
     "outputs": []
    },
    {
     "cell_type": "code",
     "collapsed": false,
     "input": [
      "\n",
      "jindex_W = 1-1\n",
      "\n",
      "#u\n",
      "umax_W = fU.variables['M2_amp_u'][:,jindex_W]/depthu_W\n",
      "uphase_W = fU.variables['M2_phi_u'][:,jindex_W]*pi/180.\n",
      "\n",
      "uZ1_W = umax_W*cos(uphase_W)\n",
      "uZ2_W = umax_W*sin(uphase_W)\n",
      "\n",
      "#v\n",
      "vmax_W = fV.variables['M2_amp_v'][:,jindex_W]/depthv_W\n",
      "vphase_W = fV.variables['M2_phi_v'][:,jindex_W]*pi/180.\n",
      "\n",
      "vZ1_W = vmax_W*cos(vphase_W)\n",
      "vZ2_W = vmax_W*sin(vphase_W)\n",
      "\n",
      "#pad\n",
      "uZ1_W[185:189+1] = uZ1_W[190]\n",
      "            \n"
     ],
     "language": "python",
     "metadata": {},
     "outputs": []
    }
   ],
   "metadata": {}
  }
 ]
}