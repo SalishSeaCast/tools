{
 "metadata": {
  "name": ""
 },
 "nbformat": 3,
 "nbformat_minor": 0,
 "worksheets": [
  {
   "cells": [
    {
     "cell_type": "markdown",
     "metadata": {},
     "source": [
      "Get the forcing from WebTide (http://www.bio.gc.ca/science/research-recherche/ocean/webtide/index-eng.php) for the Juan de Fuca boundary of the model"
     ]
    },
    {
     "cell_type": "code",
     "collapsed": false,
     "input": [
      "#preamble\n",
      "%matplotlib inline\n",
      "from matplotlib import pylab\n",
      "import netCDF4 as NC\n",
      "import csv \n",
      "import numpy\n",
      "from itertools import islice"
     ],
     "language": "python",
     "metadata": {},
     "outputs": [],
     "prompt_number": 8
    },
    {
     "cell_type": "markdown",
     "metadata": {},
     "source": [
      "Get the co-ordinates of the boundary and put them in a text file for WebTide\n"
     ]
    },
    {
     "cell_type": "code",
     "collapsed": false,
     "input": [
      "#load in the bathymetry netcdf data\n",
      "fB = NC.Dataset('/ocean/klesouef/meopar/nemo-forcing/grid/SubDom_bathy_meter_NOBCchancomp.nc','r')\n",
      "\n",
      "#get the depth data from the netcdf\n",
      "depth = fB.variables['Bathymetry'][:]\n",
      "# masking just causes problems, set depth to 0 on land\n",
      "depth[depth.mask] = 0\n",
      "a, b = depth.shape\n",
      "print(a,b)\n",
      "\n",
      "X = fB.variables['nav_lat'][:,:]\n",
      "Y = fB.variables['nav_lon'][:,:]"
     ],
     "language": "python",
     "metadata": {},
     "outputs": [
      {
       "output_type": "stream",
       "stream": "stdout",
       "text": [
        "(345, 398)\n"
       ]
      }
     ],
     "prompt_number": 9
    },
    {
     "cell_type": "code",
     "collapsed": false,
     "input": [
      "#i and j indices of the Juan de Fuca boundary\n",
      "ilast = a-1\n",
      "jindex_W = 0\n",
      "\n",
      "#find the boundary from the depth data\n",
      "depthu_W = 0.5*(depth[:,jindex_W]+depth[:,jindex_W+1])\n",
      "#plot the depth data\n",
      "pylab.plot(depthu_W,'x')\n",
      "\n",
      "#find where lats and lons the depths are not 0 - this is the boundary\n",
      "boundlat = X[depthu_W!=0,0]\n",
      "boundlon = Y[depthu_W!=0,0]\n",
      "print('number of cells along boundary = '+str(len(boundlat)))\n",
      "\n",
      "#create a .csv file with all the lat/lons in it, to import into Webtide\n",
      "with open('/ocean/klesouef/meopar/tools/compare_tides/jdf_boundary_coords.txt', 'wb') as csvfile:\n",
      "    writer = csv.writer(csvfile, delimiter=' ')\n",
      "    for t in numpy.arange(0,len(boundlat)):\n",
      "            writer.writerow([boundlon[t],boundlat[t]])         \n",
      "            "
     ],
     "language": "python",
     "metadata": {},
     "outputs": [
      {
       "output_type": "stream",
       "stream": "stdout",
       "text": [
        "number of cells along boundary = 77\n"
       ]
      },
      {
       "metadata": {},
       "output_type": "display_data",
       "png": "[encoded data removed]",
       "text": [
        "<matplotlib.figure.Figure at 0x3156fd0>"
       ]
      }
     ],
     "prompt_number": 10
    },
    {
     "cell_type": "markdown",
     "metadata": {},
     "source": [
      "Now I start the WebTide application, select 'Import Tide Markers' then select 'Get Constituents'. An html page opens with the constituents for each of the points. I select all the data and copy into a .csv file."
     ]
    },
    {
     "cell_type": "heading",
     "level": 2,
     "metadata": {},
     "source": [
      "Water level (z1 and z2)"
     ]
    },
    {
     "cell_type": "code",
     "collapsed": false,
     "input": [
      "#take the output constituent elevation data from WebTide and convert it to something NEMO will like for a boundary\n",
      "import pandas as pd\n",
      "webtide_wl = pd.read_csv('/ocean/klesouef/meopar/tools/I_ForcingFiles/Tidal Elevation Constituents.csv')\n",
      "num_grid_point = len(webtide_wl)/8\n",
      "print(num_grid_point)\n",
      "\n",
      "#the column names have spaces in them, so rename them\n",
      "webtide_wl = webtide_wl.rename(columns={'Constituent': 'const', 'Longitude': 'lon', 'Latitude': 'lat', \\\n",
      "                          'Amplitude (m)': 'amp', 'Phase (deg GMT)': 'pha'})\n",
      "\n",
      "#order of constituents in WebTide output is O1, P1, Q1, K1, K2, N2, M2, S2\n",
      "print(webtide_wl)"
     ],
     "language": "python",
     "metadata": {},
     "outputs": [
      {
       "output_type": "stream",
       "stream": "stdout",
       "text": [
        "77\n",
        "<class 'pandas.core.frame.DataFrame'>\n",
        "Int64Index: 616 entries, 0 to 615\n",
        "Data columns (total 5 columns):\n",
        "const    616  non-null values\n",
        "lon      616  non-null values\n",
        "lat      616  non-null values\n",
        "amp      616  non-null values\n",
        "pha      616  non-null values\n",
        "dtypes: float64(4), object(1)\n"
       ]
      }
     ],
     "prompt_number": 11
    },
    {
     "cell_type": "code",
     "collapsed": false,
     "input": [
      "#along western boundary, etaZ1 and etaZ2 are 0 in masked cells\n",
      "etaamp_W = numpy.zeros((a,1))\n",
      "etapha_W = numpy.zeros((a,1))\n",
      "\n",
      "#find the boundary\n",
      "I = numpy.where(depthu_W!=0)\n",
      "\n",
      "#allocate the M2 phase and amplitude from Webtide to the boundary cells\n",
      "#(CHECK: Are these allocated in the right order?)\n",
      "etaamp_W[I,0] = webtide_wl[webtide_wl.const=='M2:'].amp\n",
      "etapha_W[I,0] = webtide_wl[webtide_wl.const=='M2:'].pha\n",
      "\n",
      "#convert the phase and amplitude to cosine and sine format that NEMO likes\n",
      "etaZ1_W = etaamp_W*numpy.cos(numpy.radians(etapha_W))\n",
      "etaZ2_W = etaamp_W*numpy.sin(numpy.radians(etapha_W))\n",
      "print(etaZ1_W.size)"
     ],
     "language": "python",
     "metadata": {},
     "outputs": [
      {
       "output_type": "stream",
       "stream": "stdout",
       "text": [
        "345\n"
       ]
      }
     ],
     "prompt_number": 31
    },
    {
     "cell_type": "code",
     "collapsed": false,
     "input": [
      "#define a function that allocates the boring parts to the netcdf?\n"
     ],
     "language": "python",
     "metadata": {},
     "outputs": [],
     "prompt_number": 14
    },
    {
     "cell_type": "code",
     "collapsed": false,
     "input": [
      "#start making the netcdf file\n",
      "nemo = NC.Dataset('test_M2_grid_T.nc', 'w', format='NETCDF3_CLASSIC')\n",
      "nemo.description = 'Tide data from WebTide'\n",
      "\n",
      "# dimensions\n",
      "nemo.createDimension('xb', a+b)\n",
      "nemo.createDimension('yb', 1)\n",
      "\n",
      "# variables (taken from Susan's code in Prepare Tide Files)\n",
      "xb = nemo.createVariable('xb', 'int32', ('xb',))\n",
      "xb.units = 'non dim'\n",
      "xb.longname = 'counter around boundary'\n",
      "yb = nemo.createVariable('yb', 'int32', ('yb',))\n",
      "yb.units = 'non dim'\n",
      "nbidta = nemo.createVariable('nbidta', 'int32' , ('yb','xb'))\n",
      "nbidta.units = 'non dim'\n",
      "nbidta.longname = 'i grid position'\n",
      "nbjdta = nemo.createVariable('nbjdta', 'int32' , ('yb','xb'))\n",
      "nbjdta.units = 'non dim'\n",
      "nbjdta.longname = 'j grid position'\n",
      "nbrdta = nemo.createVariable('nbrdta', 'int32' , ('yb','xb'))\n",
      "nbrdta.units = 'non dim'\n",
      "z1 = nemo.createVariable('z1','float32',('yb','xb'))\n",
      "z1.units = 'm'\n",
      "z1.longname = 'tidal elevation: cosine'\n",
      "z2 = nemo.createVariable('z2','float32',('yb','xb'))\n",
      "z2.units = 'm'\n",
      "z2.longname = 'tidal elevation: sine'\n",
      "    \n",
      "# start to input the data\n",
      "xb[:] = numpy.arange(1, a+b+1)\n",
      "yb[0] = 1\n",
      "\n",
      "# West Boundary (this is where the webtide points go)\n",
      "nbidta[0,0:a] = 1\n",
      "nbjdta[0,0:a] = numpy.arange(1,a+1)\n",
      "z1[0,0:a] = etaZ1_W[:,0]\n",
      "z2[0,0:a] = etaZ2_W[:,0]\n",
      "\n",
      "#plot it to check it looks right\n",
      "pylab.plot(etaZ1_W,'b')\n",
      "pylab.plot(etaZ2_W,'r')\n",
      "\n",
      "# North Boundary (nothing here at the moment)\n",
      "nbidta[0,a:] = numpy.arange(1,b+1)\n",
      "nbjdta[0,a:] = 345\n",
      "z1[0,a:] = 0.\n",
      "z2[0,a:] = 0.   \n",
      "\n",
      "# the corner\n",
      "nbrdta[:] = 1\n",
      "\n",
      "#pylab.plot(nbidta[0,:a],nbjdta[0,:a],'bo',nbidta[0,a:],nbjdta[0,a:],'gx')\n",
      "\n",
      "nemo.close()"
     ],
     "language": "python",
     "metadata": {},
     "outputs": [
      {
       "metadata": {},
       "output_type": "display_data",
       "png": "[encoded data removed]",
       "text": [
        "<matplotlib.figure.Figure at 0x4c2fb50>"
       ]
      }
     ],
     "prompt_number": 35
    },
    {
     "cell_type": "code",
     "collapsed": false,
     "input": [
      "#open netCDF to check it?\n"
     ],
     "language": "python",
     "metadata": {},
     "outputs": [],
     "prompt_number": 22
    },
    {
     "cell_type": "heading",
     "level": 2,
     "metadata": {},
     "source": [
      "Tidal current constituents"
     ]
    },
    {
     "cell_type": "code",
     "collapsed": false,
     "input": [
      "#take the output constituent current data from WebTide and convert it to something NEMO will like for a boundary\n",
      "webtide_cu = pd.read_csv('/ocean/klesouef/meopar/tools/I_ForcingFiles/Tidal Current Constituents.csv',\\\n",
      "                         skiprows = 2)\n",
      "num_grid_point = len(webtide_cu)/8\n",
      "print(num_grid_point)\n",
      "\n",
      "#the column names have spaces in them, so rename them\n",
      "webtide_cu = webtide_cu.rename(columns={'Constituent': 'const', 'Longitude': 'lon', 'Latitude': 'lat', \\\n",
      "                                        'U Amplitude (m)': 'uamp', 'U Phase (deg GMT)': 'upha',\\\n",
      "                                        'V Amplitude (m)': 'vamp', 'V Phase (deg GMT)': 'vpha'})\n",
      "print(webtide_cu)\n",
      "\n",
      "#TO DO: Convert these from north/south u/v into east/west in the grid!!!!\n"
     ],
     "language": "python",
     "metadata": {},
     "outputs": [
      {
       "output_type": "stream",
       "stream": "stdout",
       "text": [
        "77\n",
        "<class 'pandas.core.frame.DataFrame'>\n",
        "Int64Index: 616 entries, 0 to 615\n",
        "Data columns (total 7 columns):\n",
        "const    616  non-null values\n",
        "lon      616  non-null values\n",
        "lat      616  non-null values\n",
        "uamp     616  non-null values\n",
        "upha     616  non-null values\n",
        "vamp     616  non-null values\n",
        "vpha     616  non-null values\n",
        "dtypes: float64(6), object(1)\n"
       ]
      }
     ],
     "prompt_number": 6
    },
    {
     "cell_type": "code",
     "collapsed": false,
     "input": [
      "#along western boundary, etaZ1 and etaZ2 are 0 in masked cells\n",
      "#u\n",
      "uamp_W = numpy.zeros((a,1))\n",
      "upha_W = numpy.zeros((a,1))\n",
      "#v\n",
      "vamp_W = numpy.zeros((a,1))\n",
      "vpha_W = numpy.zeros((a,1))\n",
      "\n",
      "#find the boundary\n",
      "I = numpy.where(depthu_W!=0)\n",
      "\n",
      "#allocate the M2 phase and amplitude from Webtide to the boundary cells\n",
      "#(CHECK: Are these allocated in the right order?)\n",
      "#u\n",
      "uamp_W[I,0] = webtide_cu[webtide_cu.const=='M2:'].uamp\n",
      "upha_W[I,0] = webtide_cu[webtide_cu.const=='M2:'].upha\n",
      "#v\n",
      "vamp_W[I,0] = webtide_cu[webtide_cu.const=='M2:'].vamp\n",
      "vpha_W[I,0] = webtide_cu[webtide_cu.const=='M2:'].vpha\n",
      "\n",
      "#convert the phase and amplitude to cosine and sine format that NEMO likes\n",
      "#u\n",
      "uZ1_W = uamp_W*numpy.cos(numpy.radians(upha_W))\n",
      "uZ2_W = uamp_W*numpy.sin(numpy.radians(upha_W))\n",
      "print(uZ1_W.size)\n",
      "#v\n",
      "vZ1_W = vamp_W*numpy.cos(numpy.radians(vpha_W))\n",
      "vZ2_W = vamp_W*numpy.sin(numpy.radians(vpha_W))\n",
      "print(vZ1_W.size)\n"
     ],
     "language": "python",
     "metadata": {},
     "outputs": [
      {
       "output_type": "stream",
       "stream": "stdout",
       "text": [
        "345\n",
        "345\n"
       ]
      }
     ],
     "prompt_number": 40
    },
    {
     "cell_type": "heading",
     "level": 3,
     "metadata": {},
     "source": [
      "U (u1 and u2)"
     ]
    },
    {
     "cell_type": "code",
     "collapsed": false,
     "input": [
      "#u\n",
      "\n",
      "#start making the netcdf file\n",
      "u = NC.Dataset('test_M2_grid_U.nc', 'w', format='NETCDF3_CLASSIC')\n",
      "u.description = 'Tide data from WebTide'\n",
      "\n",
      "# dimensions\n",
      "u.createDimension('xb', a+b)\n",
      "u.createDimension('yb', 1)\n",
      "\n",
      "# variables (taken from Susan's code in Prepare Tide Files)\n",
      "xb = u.createVariable('xb', 'int32', ('xb',))\n",
      "xb.units = 'non dim'\n",
      "xb.longname = 'counter around boundary'\n",
      "yb = u.createVariable('yb', 'int32', ('yb',))\n",
      "yb.units = 'non dim'\n",
      "nbidta = u.createVariable('nbidta', 'int32' , ('yb','xb'))\n",
      "nbidta.units = 'non dim'\n",
      "nbidta.longname = 'i grid position'\n",
      "nbjdta = u.createVariable('nbjdta', 'int32' , ('yb','xb'))\n",
      "nbjdta.units = 'non dim'\n",
      "nbjdta.longname = 'j grid position'\n",
      "nbrdta = u.createVariable('nbrdta', 'int32' , ('yb','xb'))\n",
      "nbrdta.units = 'non dim'\n",
      "u1 = u.createVariable('u1','float32',('yb','xb'))\n",
      "u1.units = 'm'\n",
      "u1.longname = 'tidal x-velocity: cosine'\n",
      "u2 = u.createVariable('u2','float32',('yb','xb'))\n",
      "u2.units = 'm'\n",
      "u2.longname = 'tidal x-velocity: sine'\n",
      "    \n",
      "# start to input the data\n",
      "xb[:] = numpy.arange(1, a+b+1)\n",
      "yb[0] = 1\n",
      "\n",
      "# West Boundary (this is where the webtide points go)\n",
      "nbidta[0,0:a] = 1\n",
      "nbjdta[0,0:a] = numpy.arange(1,a+1)\n",
      "u1[0,0:a] = uZ1_W[:,0]\n",
      "u2[0,0:a] = uZ2_W[:,0]\n",
      "\n",
      "#plot it to check it looks right\n",
      "pylab.plot(uZ1_W,'b')\n",
      "pylab.plot(uZ2_W,'r')\n",
      "pylab.xlabel('grid point')\n",
      "pylab.ylabel('V velocity')\n",
      "\n",
      "# North Boundary (nothing here at the moment)\n",
      "nbidta[0,a:] = numpy.arange(1,b+1)\n",
      "nbjdta[0,a:] = 345\n",
      "u1[0,a:] = 0.\n",
      "u2[0,a:] = 0.   \n",
      "\n",
      "# the corner\n",
      "nbrdta[:] = 1\n",
      "\n",
      "u.close()"
     ],
     "language": "python",
     "metadata": {},
     "outputs": [
      {
       "metadata": {},
       "output_type": "display_data",
       "png": "[encoded data removed]",
       "text": [
        "<matplotlib.figure.Figure at 0x4f6d510>"
       ]
      }
     ],
     "prompt_number": 38
    },
    {
     "cell_type": "heading",
     "level": 3,
     "metadata": {},
     "source": [
      "V (v1 and v2)"
     ]
    },
    {
     "cell_type": "code",
     "collapsed": false,
     "input": [
      "#v\n",
      "\n",
      "#start making the netcdf file\n",
      "v = NC.Dataset('test_M2_grid_V.nc', 'w', format='NETCDF3_CLASSIC')\n",
      "v.description = 'Tide data from WebTide'\n",
      "\n",
      "# dimensions\n",
      "v.createDimension('xb', a+b)\n",
      "v.createDimension('yb', 1)\n",
      "\n",
      "# variables (taken from Susan's code in Prepare Tide Files)\n",
      "xb = v.createVariable('xb', 'int32', ('xb',))\n",
      "xb.units = 'non dim'\n",
      "xb.longname = 'counter around boundary'\n",
      "yb = v.createVariable('yb', 'int32', ('yb',))\n",
      "yb.units = 'non dim'\n",
      "nbidta = v.createVariable('nbidta', 'int32' , ('yb','xb'))\n",
      "nbidta.units = 'non dim'\n",
      "nbidta.longname = 'i grid position'\n",
      "nbjdta = v.createVariable('nbjdta', 'int32' , ('yb','xb'))\n",
      "nbjdta.units = 'non dim'\n",
      "nbjdta.longname = 'j grid position'\n",
      "nbrdta = v.createVariable('nbrdta', 'int32' , ('yb','xb'))\n",
      "nbrdta.units = 'non dim'\n",
      "v1 = v.createVariable('v1','float32',('yb','xb'))\n",
      "v1.units = 'm'\n",
      "v1.longname = 'tidal y-velocity: cosine'\n",
      "v2 = v.createVariable('v2','float32',('yb','xb'))\n",
      "v2.units = 'm'\n",
      "v2.longname = 'tidal y-velocity: sine'\n",
      "    \n",
      "# start to input the data\n",
      "xb[:] = numpy.arange(1, a+b+1)\n",
      "yb[0] = 1\n",
      "\n",
      "# West Boundary (this is where the webtide points go)\n",
      "nbidta[0,0:a] = 1\n",
      "nbjdta[0,0:a] = numpy.arange(1,a+1)\n",
      "v1[0,0:a] = vZ1_W[:,0]\n",
      "v2[0,0:a] = vZ2_W[:,0]\n",
      "\n",
      "#plot it to check it looks right\n",
      "pylab.plot(vZ1_W,'b',vZ2_W,'r')\n",
      "pylab.xlabel('grid point')\n",
      "pylab.ylabel('V velocity')\n",
      "\n",
      "# North Boundary (nothing here at the moment)\n",
      "nbidta[0,a:] = numpy.arange(1,b+1)\n",
      "nbjdta[0,a:] = 345\n",
      "v1[0,a:] = 0.\n",
      "v2[0,a:] = 0.   \n",
      "\n",
      "# the corner\n",
      "nbrdta[:] = 1\n",
      "\n",
      "v.close()"
     ],
     "language": "python",
     "metadata": {},
     "outputs": [
      {
       "metadata": {},
       "output_type": "display_data",
       "png": "[encoded data removed]",
       "text": [
        "<matplotlib.figure.Figure at 0x56c61d0>"
       ]
      }
     ],
     "prompt_number": 44
    },
    {
     "cell_type": "code",
     "collapsed": false,
     "input": [],
     "language": "python",
     "metadata": {},
     "outputs": []
    }
   ],
   "metadata": {}
  }
 ]
}