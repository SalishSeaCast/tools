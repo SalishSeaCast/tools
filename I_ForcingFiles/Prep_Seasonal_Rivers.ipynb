{
 "metadata": {
  "name": ""
 },
 "nbformat": 3,
 "nbformat_minor": 0,
 "worksheets": [
  {
   "cells": [
    {
     "cell_type": "markdown",
     "metadata": {},
     "source": [
      "Read in the watershed seasonal flow data from the spreadsheet provided by Morrison and described in Morrison et al (2011)"
     ]
    },
    {
     "cell_type": "code",
     "collapsed": false,
     "input": [
      "import xlrd\n",
      "filename = '/ocean/klesouef/meopar/references/Flow_Mon_X_Year.xls'\n",
      "testtest = xlrd.open_workbook(filename)\n",
      "sh = testtest.sheet_by_index(0)\n"
     ],
     "language": "python",
     "metadata": {},
     "outputs": [],
     "prompt_number": 94
    },
    {
     "cell_type": "code",
     "collapsed": false,
     "input": [
      "Fraser = sh.row_values(2,4,17)\n",
      "Skagit = sh.row_values(11,4,17)\n",
      "EVI_N = sh.row_values(12,4,17)\n",
      "Howe = sh.row_values(13,4,17)\n",
      "Bute = sh.row_values(14,4,17)\n",
      "Puget = sh.row_values(16,4,17)\n",
      "JdF = sh.row_values(17,4,17)\n",
      "EVI_S = sh.row_values(19,4,17)\n",
      "Jervis = sh.row_values(20,4,17)\n",
      "Toba = sh.row_values(22,4,17)\n",
      "\n",
      "print EVI_S"
     ],
     "language": "python",
     "metadata": {},
     "outputs": [
      {
       "output_type": "stream",
       "stream": "stdout",
       "text": [
        "[1.56223583221436, 1.32897746562958, 1.21997261047363, 0.95238870382309, 0.7132831215858461, 0.47929379343986506, 0.30100244283676103, 0.15195263922214503, 0.18142713606357602, 0.526130735874176, 1.27161717414856, 1.70491695404053]\n"
       ]
      }
     ],
     "prompt_number": 98
    },
    {
     "cell_type": "code",
     "collapsed": false,
     "input": [
      "final = []\n",
      "for x in range(0, 23):\n",
      "    final.append(sh.row_values(x))"
     ],
     "language": "python",
     "metadata": {},
     "outputs": [],
     "prompt_number": 46
    },
    {
     "cell_type": "code",
     "collapsed": false,
     "input": [
      "\n",
      "Skagit = []\n",
      "EVI_N = []\n",
      "Howe = []\n",
      "Bute = []\n",
      "Puget = []\n",
      "JdF = []\n",
      "EVI_S = []\n",
      "Jervis = []\n",
      "Toba = []"
     ],
     "language": "python",
     "metadata": {},
     "outputs": [],
     "prompt_number": 13
    },
    {
     "cell_type": "code",
     "collapsed": false,
     "input": [],
     "language": "python",
     "metadata": {},
     "outputs": []
    }
   ],
   "metadata": {}
  }
 ]
}