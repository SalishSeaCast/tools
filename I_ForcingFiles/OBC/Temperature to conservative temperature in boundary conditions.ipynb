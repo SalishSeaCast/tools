{
 "cells": [
  {
   "cell_type": "markdown",
   "metadata": {},
   "source": [
    "This notebook is used to convert Potential Temperature to Conservative Temperature in our boundary conditions. It makes use of the MATLAB gsw library.\n",
    "\n",
    "Also, converts Practical Salinity to Reference Salinity."
   ]
  },
  {
   "cell_type": "code",
   "execution_count": 1,
   "metadata": {
    "collapsed": false
   },
   "outputs": [],
   "source": [
    "import numpy as np\n",
    "import netCDF4 as nc\n",
    "\n",
    "import os\n",
    "import subprocess as sp\n",
    "from salishsea_tools import (nc_tools, gsw_calls)\n",
    "import datetime\n"
   ]
  },
  {
   "cell_type": "markdown",
   "metadata": {},
   "source": [
    "# Plan\n",
    "1. Copy existing boundary files into a new file. This file has Practical Salinity and Potential Temperature (I checked and POM uses Potential temperature). \n",
    "2. Load temperature and salinity from new file\n",
    "3. Run matlab wrapper function from gsw_calls with loaded temperature and salinity.\n",
    "5. Overwrite in temperature/salinity variable in the new netCDF file and update metadata.\n",
    "6. Close new netcdf file.\n",
    "\n",
    "### Question: \n",
    "Is it okay to assume $\\delta S$ = 0? Remember, $S_A = S_{ref} + \\delta S$ , where $S_A$ is absolute salinity and $S_{ref}$ is the reference salinity.\n",
    "\n",
    "See this notebook: http://nbviewer.jupyter.org/urls/bitbucket.org/salishsea/analysis-nancy/raw/tip/notebooks/teos-10/What%20is%20Delta%20S%20on%20our%20open%20boundaries.ipynb\n",
    "\n",
    "### Decision: \n",
    "We will use $\\delta S = 0$, and so $S_A = S_{ref}$. The script I have written can do either $S_A$ or $S_{ref}$ with a flag. In order to be clear, whenever I create BCs with $\\delta S = 0$, I use Reference Salinity in the metadata to remind us that we chose $\\delta S =0 $. \n"
   ]
  },
  {
   "cell_type": "markdown",
   "metadata": {
    "collapsed": true
   },
   "source": [
    "# West"
   ]
  },
  {
   "cell_type": "code",
   "execution_count": 2,
   "metadata": {
    "collapsed": false
   },
   "outputs": [],
   "source": [
    "! cp /data/nsoontie/MEOPAR/NEMO-forcing/open_boundaries/west/SalishSea2_Masson_corrected.nc \\\n",
    " /data/nsoontie/MEOPAR/NEMO-forcing/open_boundaries/west/SalishSea_west_TEOS10.nc\n",
    "\n",
    "F = nc.Dataset('/data/nsoontie/MEOPAR/NEMO-forcing/open_boundaries/west/SalishSea_west_TEOS10.nc', 'r+')"
   ]
  },
  {
   "cell_type": "code",
   "execution_count": 3,
   "metadata": {
    "collapsed": false
   },
   "outputs": [],
   "source": [
    "sal = F.variables['vosaline']\n",
    "temp = F.variables['votemper']\n",
    "dep = np.expand_dims(np.expand_dims(np.expand_dims(F.variables['deptht'][:],axis=0),axis=2),axis=3) \\\n",
    "         + np.zeros(sal.shape)\n",
    "long = F.variables['nav_lon'][:] + np.zeros(sal[:].shape)\n",
    "lat = F.variables['nav_lat'][:] + np.zeros(sal[:].shape)"
   ]
  },
  {
   "cell_type": "code",
   "execution_count": 4,
   "metadata": {
    "collapsed": false
   },
   "outputs": [],
   "source": [
    "p = gsw_calls.generic_gsw_caller('gsw_p_from_z.m',[-dep,lat])"
   ]
  },
  {
   "cell_type": "code",
   "execution_count": 5,
   "metadata": {
    "collapsed": false
   },
   "outputs": [],
   "source": [
    "sal_pract = np.copy(sal[:])\n",
    "sal_ref = gsw_calls.generic_gsw_caller('gsw_SR_from_SP.m',[sal_pract,])"
   ]
  },
  {
   "cell_type": "code",
   "execution_count": 6,
   "metadata": {
    "collapsed": false
   },
   "outputs": [],
   "source": [
    "temp_pot = np.copy(temp[:])\n",
    "temp_cons = gsw_calls.generic_gsw_caller('gsw_CT_from_pt.m', [sal_ref, temp_pot,])"
   ]
  },
  {
   "cell_type": "markdown",
   "metadata": {},
   "source": [
    "Rewrite temp and sal as conservative temperature and absoluate salinity"
   ]
  },
  {
   "cell_type": "code",
   "execution_count": 7,
   "metadata": {
    "collapsed": false
   },
   "outputs": [],
   "source": [
    "sal[:] = sal_ref\n",
    "temp[:] = temp_cons"
   ]
  },
  {
   "cell_type": "markdown",
   "metadata": {},
   "source": [
    "Update metdata"
   ]
  },
  {
   "cell_type": "code",
   "execution_count": 8,
   "metadata": {
    "collapsed": false
   },
   "outputs": [
    {
     "name": "stdout",
     "output_type": "stream",
     "text": [
      "<class 'netCDF4._netCDF4.Variable'>\n",
      "float32 vosaline(time_counter, deptht, yb, xbT)\n",
      "    units: 1\n",
      "    long_name: Practical Salinity\n",
      "    coordinates: nav_lon nav_lat deptht time_counter\n",
      "    grid: SalishSea\n",
      "unlimited dimensions: time_counter\n",
      "current shape = (52, 40, 1, 870)\n",
      "filling on, default _FillValue of 9.969209968386869e+36 used\n",
      "\n"
     ]
    }
   ],
   "source": [
    "nc_tools.show_variable_attrs(F, 'vosaline')"
   ]
  },
  {
   "cell_type": "code",
   "execution_count": 9,
   "metadata": {
    "collapsed": false
   },
   "outputs": [],
   "source": [
    "sal.setncatts({'units': 'g/kg',\n",
    "               'long_name': 'Reference Salinity'})\n",
    "#sal.units = 'g/kg'\n",
    "#sal.long_name =  'Absolute Salinity'"
   ]
  },
  {
   "cell_type": "code",
   "execution_count": 10,
   "metadata": {
    "collapsed": false
   },
   "outputs": [
    {
     "name": "stdout",
     "output_type": "stream",
     "text": [
      "<class 'netCDF4._netCDF4.Variable'>\n",
      "float32 votemper(time_counter, deptht, yb, xbT)\n",
      "    units: degC\n",
      "    long_name: Temperature\n",
      "    coordinates: nav_lon nav_lat deptht time_counter\n",
      "    grid: SalishSea\n",
      "unlimited dimensions: time_counter\n",
      "current shape = (52, 40, 1, 870)\n",
      "filling on, default _FillValue of 9.969209968386869e+36 used\n",
      "\n"
     ]
    }
   ],
   "source": [
    "nc_tools.show_variable_attrs(F, 'votemper')"
   ]
  },
  {
   "cell_type": "code",
   "execution_count": 11,
   "metadata": {
    "collapsed": false
   },
   "outputs": [],
   "source": [
    "temp.setncatts({'units': 'deg C',\n",
    "                'long_name': 'Conservative Temperature'})\n",
    "#temp.units = 'deg C'\n",
    "#temp.long_name = 'Conservative Temperature'"
   ]
  },
  {
   "cell_type": "code",
   "execution_count": 12,
   "metadata": {
    "collapsed": false
   },
   "outputs": [
    {
     "name": "stdout",
     "output_type": "stream",
     "text": [
      "file format: NETCDF4\n",
      "Conventions: CF-1.6\n",
      "institution: Dept of Earth, Ocean & Atmospheric Sciences, University of British Columbia\n",
      "NCO: 4.0.9\n",
      "comment: \n",
      "Deep salinity (below 150m) increased by a weekly factor for a better match with observed climatologies.\n",
      "\n",
      "title: \n",
      "Modified boundary conditions based on weekly climatolgy from Diane Masson\n",
      "\n",
      "source: \n",
      "https://bitbucket.org/salishsea/tools/src/tip/I_ForcingFiles/OBC/Improved TS Climatology Western Boundary.ipynb\n",
      "https://bitbucket.org/salishsea/analysys/src/tip/Nancy/strat/comparisons/JuandeFucaBCs.ipynb\n",
      "\n",
      "references: \n",
      "https://bitbucket.org/salishsea/nemo-forcing/src/tip/open_boundaries/west/SalishSea2_Masson_corrected.nc\n",
      "\n",
      "history: \n",
      "2014-01-03 13:15:17] Created netCDF4 zlib=True dataset.\n",
      "Sat Jan  4 13:05:15 2014: ncks -4 -L1 -d time_counter,0,51 SalishSea_TS_Masson.nc SalishSea_Masson_trunc.nc\n",
      "[2014-01-04 14:17] Formed weekly climatology from original SalishSea grided results\n",
      "[2014-01-24 ] Removed Nan's\n",
      "[2014-01-25 18:01 ] Corrected for partial cells\n",
      "[2015-10-19 ] Applied correction to increase deep salinity\n",
      "\n"
     ]
    }
   ],
   "source": [
    "nc_tools.show_dataset_attrs(F)"
   ]
  },
  {
   "cell_type": "code",
   "execution_count": 13,
   "metadata": {
    "collapsed": false
   },
   "outputs": [],
   "source": [
    "F.title = \"\"\"\n",
    "Weekly climatology at the Juan de Fuca Strait open boundary in TEOS-10 variables. \n",
    "\"\"\"\n",
    "F.source = \"\"\"\n",
    "https://bitbucket.org/salishsea/tools/src/tip/I_ForcingFiles/OBC/Improved TS Climatology Western Boundary.ipynb\n",
    "https://bitbucket.org/salishsea/analysis/src/tip/Nancy/strat/comparisons/JuandeFucaBCs.ipynb\n",
    "https://bitbucket.org/salishsea/tools/I_ForcingFiles/OBC/Temperature to conservative temperature in boundary conditions.ipynb\n",
    "\"\"\"\n",
    "\n",
    "F.comment = \"\"\"\n",
    "Temperature and salinity are TEOS-10 variables: Conservative Temperature and Reference Salinity\n",
    "\"\"\" \n",
    "F.references = \"\"\"\n",
    "https://bitbucket.org/salishsea/nemo-forcing/src/tip/open_boundaries/west/SalishSea_west_TEOS10.nc\n",
    "\"\"\"\n",
    "F.history = \"\"\"\n",
    "2014-01-03 13:15:17] Created netCDF4 zlib=True dataset.\n",
    "Sat Jan  4 13:05:15 2014: ncks -4 -L1 -d time_counter,0,51 SalishSea_TS_Masson.nc SalishSea_Masson_trunc.nc\n",
    "[2014-01-04 14:17] Formed weekly climatology from original SalishSea grided results\n",
    "[2014-01-24 ] Removed Nan's\n",
    "[2014-01-25 18:01 ] Corrected for partial cells\n",
    "[2015-10-19 ] Applied correction to increase deep salinity\n",
    "[{} ] Converted temperarure and salinity to Conservative Temperature and Reference Salinity\n",
    "\"\"\".format(datetime.datetime.today().strftime('%Y-%m-%d'))"
   ]
  },
  {
   "cell_type": "code",
   "execution_count": 14,
   "metadata": {
    "collapsed": true
   },
   "outputs": [],
   "source": [
    "F.close()"
   ]
  },
  {
   "cell_type": "markdown",
   "metadata": {
    "collapsed": true
   },
   "source": [
    "This crashes! So I have written script that can be run from the command line. create_TEOS-10_BCs.py\n",
    "\n",
    "It can be used like this:\n",
    "\n",
    "~~~~\n",
    "python create_TEOS-10_BCs.py input.nc output.nc title_string\n",
    "~~~~\n",
    "The string is the title to be set in the output metadata.\n",
    "\n",
    "This still crashed in python 3.5 when copying an existing file to a new file. I switched to a python 2.7 environment and it worked. \n",
    "\n",
    "# How I used the script\n",
    "\n",
    "In a python 2.7 environment\n",
    "\n",
    "## West\n",
    "\n",
    "~~~~\n",
    "python create_TEOS-10_BCs.py /data/nsoontie/MEOPAR/NEMO-forcing/open_boundaries/west/SalishSea2_Masson_corrected.nc /data/nsoontie/MEOPAR/NEMO-forcing/open_boundaries/west/SalishSea_west_TEOS10.nc \"Weekly climatology of Temperature and Salinity at the Juan de Fuca boundary in TEOS-10 variables - Conservative Temperature and Reference Salinity\"\n",
    "~~~~\n",
    "\n",
    "## North\n",
    "\n",
    "~~~~\n",
    "python create_TEOS-10_BCs.py /data/nsoontie/MEOPAR/NEMO-forcing/open_boundaries/north/SalishSea2_North_tra.nc /data/nsoontie/MEOPAR/NEMO-forcing/open_boundaries/north/SalishSea_north_TEOS10.nc \"Seasonal climatology of Temperature and Salinity at the Johnstone Strait boundary in TEOS-10 variables - Conservative Temperature and Reference Salinity\"\n",
    "~~~~"
   ]
  },
  {
   "cell_type": "code",
   "execution_count": null,
   "metadata": {
    "collapsed": true
   },
   "outputs": [],
   "source": []
  },
  {
   "cell_type": "code",
   "execution_count": null,
   "metadata": {
    "collapsed": true
   },
   "outputs": [],
   "source": []
  }
 ],
 "metadata": {
  "kernelspec": {
   "display_name": "Python 3",
   "language": "python",
   "name": "python3"
  },
  "language_info": {
   "codemirror_mode": {
    "name": "ipython",
    "version": 3
   },
   "file_extension": ".py",
   "mimetype": "text/x-python",
   "name": "python",
   "nbconvert_exporter": "python",
   "pygments_lexer": "ipython3",
   "version": "3.5.2"
  }
 },
 "nbformat": 4,
 "nbformat_minor": 0
}
