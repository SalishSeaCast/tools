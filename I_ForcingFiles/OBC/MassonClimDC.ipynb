{
 "metadata": {
  "name": ""
 },
 "nbformat": 3,
 "nbformat_minor": 0,
 "worksheets": [
  {
   "cells": [
    {
     "cell_type": "markdown",
     "metadata": {},
     "source": [
      "Notebook to take dNan'd Climatology and correct it for partial steps"
     ]
    },
    {
     "cell_type": "code",
     "collapsed": false,
     "input": [
      "%matplotlib inline\n",
      "import matplotlib.pyplot as plt\n",
      "import netCDF4 as nc\n",
      "import numpy as np\n",
      "from salishsea_tools import nc_tools"
     ],
     "language": "python",
     "metadata": {},
     "outputs": [],
     "prompt_number": 29
    },
    {
     "cell_type": "markdown",
     "metadata": {},
     "source": [
      "Copy the NetCDF fie"
     ]
    },
    {
     "cell_type": "code",
     "collapsed": false,
     "input": [
      "!cp ../../../nemo-forcing/open_boundaries/west/SalishSea2_Masson_Clim.nc SalishSea2_Masson_DC.nc\n",
      "DC = nc.Dataset('SalishSea2_Masson_DC.nc', 'r+')"
     ],
     "language": "python",
     "metadata": {},
     "outputs": [],
     "prompt_number": 30
    },
    {
     "cell_type": "code",
     "collapsed": false,
     "input": [
      "temp = DC.variables['votemper']\n",
      "sal = DC.variables['vosaline']\n",
      "nbi = DC.variables['nbidta']\n",
      "nbj = DC.variables['nbjdta']"
     ],
     "language": "python",
     "metadata": {},
     "outputs": [],
     "prompt_number": 31
    },
    {
     "cell_type": "code",
     "collapsed": false,
     "input": [
      "print temp[:].shape, nbi[:].shape, nbi[0,44], nbj[0,44]"
     ],
     "language": "python",
     "metadata": {},
     "outputs": [
      {
       "output_type": "stream",
       "stream": "stdout",
       "text": [
        "(52, 40, 1, 870) (1, 870) 0 423\n"
       ]
      }
     ],
     "prompt_number": 32
    },
    {
     "cell_type": "markdown",
     "metadata": {},
     "source": [
      "Get the depth file"
     ]
    },
    {
     "cell_type": "code",
     "collapsed": false,
     "input": [
      "fT = nc.Dataset('../../../nemo-forcing/grid/grid_bathy.nc')\n",
      "nc_tools.show_dataset_attrs(fT)\n",
      "deptht = fT.variables['deptht']\n",
      "depth_out = deptht[:]\n",
      "depths = fT.variables['grid_bathy']\n",
      "depth = depths[:]\n",
      "depth[:,:,0] = depth[:,:,1]\n",
      "print depth.shape"
     ],
     "language": "python",
     "metadata": {},
     "outputs": [
      {
       "output_type": "stream",
       "stream": "stdout",
       "text": [
        "file format: NETCDF4\n",
        "Conventions: CF-1.6\n",
        "title: NEMO z-partial-step Grid Level Depths\n",
        "institution: Dept of Earth, Ocean & Atmospheric Sciences, University of British Columbia\n",
        "source: https://bitbucket.org/salishsea/tools/src/tip/bathymetry/NEMO-GridBathy.ipynb\n",
        "references: https://bitbucket.org/salishsea/nemo-forcing/src/tip/grid/grid_bathy.nc\n",
        "history: [2014-01-14 13:53:09] Created netCDF4 zlib=True dataset.\n",
        "comment: Calculated by a 1-step NEMO run.\n",
        "(40, 898, 398)"
       ]
      },
      {
       "output_type": "stream",
       "stream": "stdout",
       "text": [
        "\n"
       ]
      }
     ],
     "prompt_number": 33
    },
    {
     "cell_type": "code",
     "collapsed": false,
     "input": [
      "# takes a couple of hours\n",
      "for t in range(0,52):\n",
      "    print t\n",
      "    for ib in range(0,870):\n",
      "        for id in range(1,40):\n",
      "            if deptht[id] - depth[id,nbj[0,ib],nbi[0,ib]] > 0.01:\n",
      "                sal[t,id,0,ib] = sal[t,id,0,ib] + (\n",
      "                    sal[t,id-1,0,ib]-sal[t,id,0,ib])/(\n",
      "                    deptht[id-1]-deptht[id])*(depth[id,nbj[0,ib],nbi[0,ib]]-deptht[id])\n",
      "                temp[t,id,0,ib] = temp[t,id,0,ib] + (\n",
      "                    temp[t,id-1,0,ib]-temp[t,id,0,ib])/(\n",
      "                    deptht[id-1]-deptht[id])*(depth[id,nbj[0,ib],nbi[0,ib]]-deptht[id])                "
     ],
     "language": "python",
     "metadata": {},
     "outputs": [
      {
       "output_type": "stream",
       "stream": "stdout",
       "text": [
        "0\n",
        "1"
       ]
      },
      {
       "output_type": "stream",
       "stream": "stdout",
       "text": [
        "\n",
        "2"
       ]
      },
      {
       "output_type": "stream",
       "stream": "stdout",
       "text": [
        "\n",
        "3"
       ]
      },
      {
       "output_type": "stream",
       "stream": "stdout",
       "text": [
        "\n",
        "4"
       ]
      },
      {
       "output_type": "stream",
       "stream": "stdout",
       "text": [
        "\n",
        "5"
       ]
      },
      {
       "output_type": "stream",
       "stream": "stdout",
       "text": [
        "\n",
        "6"
       ]
      },
      {
       "output_type": "stream",
       "stream": "stdout",
       "text": [
        "\n",
        "7"
       ]
      },
      {
       "output_type": "stream",
       "stream": "stdout",
       "text": [
        "\n",
        "8"
       ]
      },
      {
       "output_type": "stream",
       "stream": "stdout",
       "text": [
        "\n",
        "9"
       ]
      },
      {
       "output_type": "stream",
       "stream": "stdout",
       "text": [
        "\n",
        "10"
       ]
      },
      {
       "output_type": "stream",
       "stream": "stdout",
       "text": [
        "\n",
        "11"
       ]
      },
      {
       "output_type": "stream",
       "stream": "stdout",
       "text": [
        "\n",
        "12"
       ]
      },
      {
       "output_type": "stream",
       "stream": "stdout",
       "text": [
        "\n",
        "13"
       ]
      },
      {
       "output_type": "stream",
       "stream": "stdout",
       "text": [
        "\n",
        "14"
       ]
      },
      {
       "output_type": "stream",
       "stream": "stdout",
       "text": [
        "\n",
        "15"
       ]
      },
      {
       "output_type": "stream",
       "stream": "stdout",
       "text": [
        "\n",
        "16"
       ]
      },
      {
       "output_type": "stream",
       "stream": "stdout",
       "text": [
        "\n",
        "17"
       ]
      },
      {
       "output_type": "stream",
       "stream": "stdout",
       "text": [
        "\n",
        "18"
       ]
      },
      {
       "output_type": "stream",
       "stream": "stdout",
       "text": [
        "\n",
        "19"
       ]
      },
      {
       "output_type": "stream",
       "stream": "stdout",
       "text": [
        "\n",
        "20"
       ]
      },
      {
       "output_type": "stream",
       "stream": "stdout",
       "text": [
        "\n",
        "21"
       ]
      },
      {
       "output_type": "stream",
       "stream": "stdout",
       "text": [
        "\n",
        "22"
       ]
      },
      {
       "output_type": "stream",
       "stream": "stdout",
       "text": [
        "\n",
        "23"
       ]
      },
      {
       "output_type": "stream",
       "stream": "stdout",
       "text": [
        "\n",
        "24"
       ]
      },
      {
       "output_type": "stream",
       "stream": "stdout",
       "text": [
        "\n",
        "25"
       ]
      },
      {
       "output_type": "stream",
       "stream": "stdout",
       "text": [
        "\n",
        "26"
       ]
      },
      {
       "output_type": "stream",
       "stream": "stdout",
       "text": [
        "\n",
        "27"
       ]
      },
      {
       "output_type": "stream",
       "stream": "stdout",
       "text": [
        "\n",
        "28"
       ]
      },
      {
       "output_type": "stream",
       "stream": "stdout",
       "text": [
        "\n",
        "29"
       ]
      },
      {
       "output_type": "stream",
       "stream": "stdout",
       "text": [
        "\n",
        "30"
       ]
      },
      {
       "output_type": "stream",
       "stream": "stdout",
       "text": [
        "\n",
        "31"
       ]
      },
      {
       "output_type": "stream",
       "stream": "stdout",
       "text": [
        "\n",
        "32"
       ]
      },
      {
       "output_type": "stream",
       "stream": "stdout",
       "text": [
        "\n",
        "33"
       ]
      },
      {
       "output_type": "stream",
       "stream": "stdout",
       "text": [
        "\n",
        "34"
       ]
      },
      {
       "output_type": "stream",
       "stream": "stdout",
       "text": [
        "\n",
        "35"
       ]
      },
      {
       "output_type": "stream",
       "stream": "stdout",
       "text": [
        "\n",
        "36"
       ]
      },
      {
       "output_type": "stream",
       "stream": "stdout",
       "text": [
        "\n",
        "37"
       ]
      },
      {
       "output_type": "stream",
       "stream": "stdout",
       "text": [
        "\n",
        "38"
       ]
      },
      {
       "output_type": "stream",
       "stream": "stdout",
       "text": [
        "\n",
        "39"
       ]
      },
      {
       "output_type": "stream",
       "stream": "stdout",
       "text": [
        "\n",
        "40"
       ]
      },
      {
       "output_type": "stream",
       "stream": "stdout",
       "text": [
        "\n",
        "41"
       ]
      },
      {
       "output_type": "stream",
       "stream": "stdout",
       "text": [
        "\n",
        "42"
       ]
      },
      {
       "output_type": "stream",
       "stream": "stdout",
       "text": [
        "\n",
        "43"
       ]
      },
      {
       "output_type": "stream",
       "stream": "stdout",
       "text": [
        "\n",
        "44"
       ]
      },
      {
       "output_type": "stream",
       "stream": "stdout",
       "text": [
        "\n",
        "45"
       ]
      },
      {
       "output_type": "stream",
       "stream": "stdout",
       "text": [
        "\n",
        "46"
       ]
      },
      {
       "output_type": "stream",
       "stream": "stdout",
       "text": [
        "\n",
        "47"
       ]
      },
      {
       "output_type": "stream",
       "stream": "stdout",
       "text": [
        "\n",
        "48"
       ]
      },
      {
       "output_type": "stream",
       "stream": "stdout",
       "text": [
        "\n",
        "49"
       ]
      },
      {
       "output_type": "stream",
       "stream": "stdout",
       "text": [
        "\n",
        "50"
       ]
      },
      {
       "output_type": "stream",
       "stream": "stdout",
       "text": [
        "\n",
        "51"
       ]
      },
      {
       "output_type": "stream",
       "stream": "stdout",
       "text": [
        "\n"
       ]
      }
     ],
     "prompt_number": 34
    },
    {
     "cell_type": "code",
     "collapsed": false,
     "input": [
      "nc_tools.show_dataset_attrs(DC)"
     ],
     "language": "python",
     "metadata": {},
     "outputs": [
      {
       "output_type": "stream",
       "stream": "stdout",
       "text": [
        "file format: NETCDF4\n",
        "Conventions: CF-1.6\n",
        "institution: Dept of Earth, Ocean & Atmospheric Sciences, University of British Columbia\n",
        "comment: T & S data from Masson\n",
        "NCO: 4.0.9\n",
        "title: \n",
        "Weekly climatology boundary conditions from Masson\n",
        "\n",
        "source: \n",
        "https://bitbucket.org/salishsea/tools/src/tip/I_ForcingFiles/OBC/MakeTSfromMasson.ipynb\n",
        "https://bitbucket.org/salishsea/tools/src/tip/I_ForcingFiles/OBC/MassonClimatology.ipynb\n",
        "\n",
        "references: \n",
        "https://bitbucket.org/salishsea/nemo-forcing/src/tip/open_boundaries/west/SalishSea2_Masson_Clim.nc\n",
        "\n",
        "history: \n",
        "[2014-01-03 13:15:17] Created netCDF4 zlib=True dataset.\n",
        "Sat Jan  4 13:05:15 2014: ncks -4 -L1 -d time_counter,0,51 SalishSea_TS_Masson.nc SalishSea_Masson_trunc.nc\n",
        "[2014-01-04 14:17] Formed weekly climatology from original SalishSea grided results\n",
        "\n"
       ]
      }
     ],
     "prompt_number": 35
    },
    {
     "cell_type": "code",
     "collapsed": false,
     "input": [
      "DC.title = \"\"\"\n",
      "Weekly climatology boundary conditions from Masson, depth corrected\n",
      "\"\"\"\n",
      "DC.source = \"\"\"\n",
      "https://bitbucket.org/salishsea/tools/src/tip/I_ForcingFiles/OBC/MakeTSfromMasson.ipynb\n",
      "https://bitbucket.org/salishsea/tools/src/tip/I_ForcingFiles/OBC/MassonClimatology.ipynb\n",
      "https://bitbucket.org/salishsea/tools/src/tip/I_ForcingFiles/OBC/MassonClimDC.ipynb\n",
      "\n",
      "\"\"\"\n",
      "DC.references = \"\"\"\n",
      "https://bitbucket.org/salishsea/nemo-forcing/src/tip/open_boundaries/west/SalishSea2_Masson_DC.nc\n",
      "\"\"\"\n",
      "DC.history = \"\"\"\n",
      "2014-01-03 13:15:17] Created netCDF4 zlib=True dataset.\n",
      "Sat Jan  4 13:05:15 2014: ncks -4 -L1 -d time_counter,0,51 SalishSea_TS_Masson.nc SalishSea_Masson_trunc.nc\n",
      "[2014-01-04 14:17] Formed weekly climatology from original SalishSea grided results\n",
      "[2014-01-24 ] Removed Nan's\n",
      "[2014-01-25 18:01 ] Corrected for partial cells\n",
      "\n",
      "\"\"\"\n",
      "nc_tools.show_dataset_attrs(DC)\n",
      " "
     ],
     "language": "python",
     "metadata": {},
     "outputs": [
      {
       "output_type": "stream",
       "stream": "stdout",
       "text": [
        "file format: NETCDF4\n",
        "Conventions: CF-1.6\n",
        "institution: Dept of Earth, Ocean & Atmospheric Sciences, University of British Columbia\n",
        "comment: T & S data from Masson\n",
        "NCO: 4.0.9\n",
        "title: \n",
        "Weekly climatology boundary conditions from Masson, depth corrected\n",
        "\n",
        "source: \n",
        "https://bitbucket.org/salishsea/tools/src/tip/I_ForcingFiles/OBC/MakeTSfromMasson.ipynb\n",
        "https://bitbucket.org/salishsea/tools/src/tip/I_ForcingFiles/OBC/MassonClimatology.ipynb\n",
        "https://bitbucket.org/salishsea/tools/src/tip/I_ForcingFiles/OBC/MassonClimDC.ipynb\n",
        "\n",
        "\n",
        "references: \n",
        "https://bitbucket.org/salishsea/nemo-forcing/src/tip/open_boundaries/west/SalishSea2_Masson_DC.nc\n",
        "\n",
        "history: \n",
        "2014-01-03 13:15:17] Created netCDF4 zlib=True dataset.\n",
        "Sat Jan  4 13:05:15 2014: ncks -4 -L1 -d time_counter,0,51 SalishSea_TS_Masson.nc SalishSea_Masson_trunc.nc\n",
        "[2014-01-04 14:17] Formed weekly climatology from original SalishSea grided results\n",
        "[2014-01-24 ] Removed Nan's\n",
        "[2014-01-25 18:01 ] Corrected for partial cells\n",
        "\n",
        "\n"
       ]
      }
     ],
     "prompt_number": 36
    },
    {
     "cell_type": "code",
     "collapsed": false,
     "input": [
      "DC.close()"
     ],
     "language": "python",
     "metadata": {},
     "outputs": [],
     "prompt_number": 37
    },
    {
     "cell_type": "code",
     "collapsed": false,
     "input": [],
     "language": "python",
     "metadata": {},
     "outputs": []
    }
   ],
   "metadata": {}
  }
 ]
}