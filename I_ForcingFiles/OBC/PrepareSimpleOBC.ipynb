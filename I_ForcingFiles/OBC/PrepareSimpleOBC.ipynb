{
 "metadata": {
  "name": ""
 },
 "nbformat": 3,
 "nbformat_minor": 0,
 "worksheets": [
  {
   "cells": [
    {
     "cell_type": "markdown",
     "metadata": {},
     "source": [
      "Notebook to prepare simple OBC files from Thomson, Mihaly & Kulikov, 2007 (JGR)"
     ]
    },
    {
     "cell_type": "code",
     "collapsed": false,
     "input": [
      "%matplotlib inline\n",
      "import matplotlib.pyplot as plt\n",
      "import numpy as np\n",
      "import netCDF4 as NC\n",
      "from salishsea_tools import nc_tools"
     ],
     "language": "python",
     "metadata": {},
     "outputs": [],
     "prompt_number": 8
    },
    {
     "cell_type": "markdown",
     "metadata": {},
     "source": [
      "For tracer fields, (T,S) use bathymetry file"
     ]
    },
    {
     "cell_type": "code",
     "collapsed": false,
     "input": [
      "fB = NC.Dataset('../../nemo-forcing/grid/bathy_meter_SalishSea.nc','r')\n",
      "D = fB.variables['Bathymetry'][:]\n",
      "lat = fB.variables['nav_lat'][:]\n",
      "print lat.shape\n",
      "lon = fB.variables['nav_lon'][:]"
     ],
     "language": "python",
     "metadata": {},
     "outputs": [
      {
       "output_type": "stream",
       "stream": "stdout",
       "text": [
        "(898, 398)\n"
       ]
      }
     ],
     "prompt_number": 2
    },
    {
     "cell_type": "markdown",
     "metadata": {},
     "source": [
      "For grid size (needed for eta), need the coordinates file"
     ]
    },
    {
     "cell_type": "code",
     "collapsed": false,
     "input": [
      "fC = NC.Dataset('../../nemo-forcing/grid/coordinates_seagrid_SalishSea.nc','r')\n",
      "e1t = fC.variables['e1t'][:]\n",
      "phi = fC.variables['gphit'][:]\n",
      "lam = fC.variables['glamt'][:]\n",
      "\n",
      "print phi[0,380,180],phi[0,390,180],lam[0,380,180],lam[0,390,180],e1t[0,385,180]"
     ],
     "language": "python",
     "metadata": {},
     "outputs": [
      {
       "output_type": "stream",
       "stream": "stdout",
       "text": [
        "48.7035149264 48.7430159083 -123.728540061 -123.761934237 502.910912807\n"
       ]
      }
     ],
     "prompt_number": 3
    },
    {
     "cell_type": "markdown",
     "metadata": {},
     "source": [
      "For depth we need a results file from a NEMO run.\n",
      "`NEMO-forcing/grid/deptht_428m.nc` was produced by running the model \n",
      "for 1 time step with the maximum depth parameter\n",
      "(`pphmax` in `par_SalishSea.h90`) set to 428m\n",
      "(the maximum depth in our bathymetry)."
     ]
    },
    {
     "cell_type": "code",
     "collapsed": false,
     "input": [
      "fT = NC.Dataset('../../NEMO-forcing/grid/deptht_428m.nc','r')\n",
      "depth_out = fT.variables['deptht']\n",
      "depths = depth_out[:]"
     ],
     "language": "python",
     "metadata": {},
     "outputs": [],
     "prompt_number": 4
    },
    {
     "cell_type": "markdown",
     "metadata": {},
     "source": [
      "Construct our temperature and salinity profiles from sketches:  \n",
      "Temperature: above 100 m, 8 degrees  \n",
      "below 100, decrease from 8 to 7.3 at 220 m  \n",
      "Salinity: above 150 m, surface 29.5, increase to 33.4  \n",
      "below 150, increase from 33.4 to 33.7 at 220"
     ]
    },
    {
     "cell_type": "code",
     "collapsed": false,
     "input": [
      "temp = np.zeros(depths.size)\n",
      "sal = np.zeros(depths.size)\n",
      "for id in range(0,depths.size):\n",
      "    if depths[id] < 100:\n",
      "        temp[id] = 8\n",
      "    elif depths[id] < 220:\n",
      "        temp[id] = 8 - (8-7.3)*(depths[id]-100.)/(220-100.)\n",
      "    else:\n",
      "        temp[id] = 7.3\n",
      "    if depths[id] < 150:\n",
      "        sal[id] = 29.5 + (33.4-29.5)*depths[id]/(150.)\n",
      "    elif depths[id] < 220:\n",
      "        sal[id] = 33.4 + (33.7-33.4)*(depths[id]-150.)/(220-150.)\n",
      "    else:\n",
      "        sal[id] = 33.7\n",
      "plt.subplot(1,2,1)\n",
      "plt.plot(sal,-depths,'o')\n",
      "plt.subplot(1,2,2)\n",
      "plt.plot(temp,-depths,'*r')"
     ],
     "language": "python",
     "metadata": {},
     "outputs": [
      {
       "metadata": {},
       "output_type": "pyout",
       "prompt_number": 5,
       "text": [
        "[<matplotlib.lines.Line2D at 0x106c14490>]"
       ]
      },
      {
       "metadata": {},
       "output_type": "display_data",
       "png": "[encoded data removed]",
       "text": [
        "<matplotlib.figure.Figure at 0x104cbb910>"
       ]
      }
     ],
     "prompt_number": 5
    },
    {
     "cell_type": "markdown",
     "metadata": {},
     "source": [
      "From Open Boundary where we carefully characterized the western boundary we know our startj and endj values (and these include 5 padding cells on each end)."
     ]
    },
    {
     "cell_type": "code",
     "collapsed": false,
     "input": [
      "startj = 384\n",
      "endj = 471\n",
      "lengthj = endj-startj"
     ],
     "language": "python",
     "metadata": {},
     "outputs": [],
     "prompt_number": 6
    },
    {
     "cell_type": "markdown",
     "metadata": {},
     "source": [
      "Make boundary 10 wide (to follow AMM12)"
     ]
    },
    {
     "cell_type": "code",
     "collapsed": false,
     "input": [
      "r = 10"
     ],
     "language": "python",
     "metadata": {},
     "outputs": [],
     "prompt_number": 7
    },
    {
     "cell_type": "markdown",
     "metadata": {},
     "source": [
      "Open and make our file for TS"
     ]
    },
    {
     "cell_type": "code",
     "collapsed": false,
     "input": [
      "nemo = NC.Dataset('SalishSea_bdyT_tra.nc', 'w', zlib=True)\n",
      "\n",
      "# dataset attributes\n",
      "nc_tools.init_dataset_attrs(\n",
      "    nemo, \n",
      "    title='Simple Temperature & Salinity Boundary Conditions', \n",
      "    notebook_name='PrepareSimpleOBC', \n",
      "    nc_filepath='../../NEMO-forcing/open_boundaries/west/SalishSea_bdyT_tra.nc',\n",
      "    comment='Rough T & S data from Thomson et al, 2007') \n",
      "\n",
      "# dimensions\n",
      "nemo.createDimension('xbT', lengthj*r)\n",
      "nemo.createDimension('yb', 1)\n",
      "nemo.createDimension('deptht',size = len(depth_out))\n",
      "nemo.createDimension('time_counter', None)\n",
      "\n",
      "# variables\n",
      "# deptht\n",
      "deptht = nemo.createVariable('deptht', 'float32', ('deptht',))\n",
      "deptht.long_name = 'Vertical T Levels'\n",
      "deptht.units = 'm'\n",
      "deptht.positive = 'down'\n",
      "deptht.valid_range = np.array((4., 428.))\n",
      "# time_counter\n",
      "time_counter = nemo.createVariable('time_counter', 'float32', ('time_counter'))\n",
      "time_counter.long_name = 'Time axis'\n",
      "time_counter.axis = 'T'\n",
      "time_counter.units = 'seconds since 2002-09-15 00:00:00'\n",
      "# nav_lat and nav_lon\n",
      "nav_lat = nemo.createVariable('nav_lat','float32',('yb','xbT'))\n",
      "nav_lat.long_name = 'Latitude'\n",
      "nav_lat.units = 'degrees_north'\n",
      "nav_lon = nemo.createVariable('nav_lon','float32',('yb','xbT'))\n",
      "nav_lon.long_name = 'Longitude'\n",
      "nav_lon.units = 'degrees_east'\n",
      "# votemper\n",
      "votemper = nemo.createVariable('votemper', 'float32', \n",
      "                               ('time_counter','deptht','yb','xbT'))\n",
      "votemper.units = 'degC'\n",
      "votemper.long_name = 'Temperature'   \n",
      "votemper.coordinates = 'nav_lon nav_lat deptht time_counter'\n",
      "votemper.grid = 'SalishSea'\n",
      "# vosaline\n",
      "vosaline = nemo.createVariable('vosaline', 'float32', \n",
      "                               ('time_counter','deptht','yb','xbT'))\n",
      "vosaline.units = 1\n",
      "vosaline.long_name = 'Practical Salinity'  \n",
      "vosaline.coordinates = 'nav_lon nav_lat deptht time_counter'\n",
      "vosaline.grid = 'SalishSea'\n",
      "# nbidta, ndjdta, ndrdta\n",
      "nbidta = nemo.createVariable('nbidta', 'int32' , ('yb','xbT'))\n",
      "nbidta.long_name = 'i grid position'\n",
      "nbidta.units = 1\n",
      "nbjdta = nemo.createVariable('nbjdta', 'int32' , ('yb','xbT'))\n",
      "nbjdta.long_name = 'j grid position'\n",
      "nbjdta.units = 1\n",
      "nbrdta = nemo.createVariable('nbrdta', 'int32' , ('yb','xbT'))\n",
      "nbrdta.long_name = 'position from boundary'\n",
      "nbrdta.units = 1"
     ],
     "language": "python",
     "metadata": {},
     "outputs": [
      {
       "output_type": "stream",
       "stream": "stdout",
       "text": [
        "file format: NETCDF4\n",
        "Conventions: CF-1.6\n",
        "title: Simple Temperature & Salinity Boundary Conditions\n",
        "institution: Dept of Earth, Ocean & Atmospheric Sciences, University of British Columbia\n",
        "source: https://bitbucket.org/salishsea/tools/src/tip/I_ForcingFiles/PrepareSimpleOBC.ipynb\n",
        "references: https://bitbucket.org/salishsea/nemo-forcing/src/tip/open_boundaries/west/SalishSea_bdyT_tra.nc\n",
        "history: [2013-12-02 13:17:50] Created netCDF4 zlib=True dataset.\n",
        "comment: Rough T & S data from Thomson et al, 2007\n"
       ]
      }
     ],
     "prompt_number": 23
    },
    {
     "cell_type": "code",
     "collapsed": false,
     "input": [
      "# values\n",
      "# depths, time counter\n",
      "deptht[:] = depths\n",
      "time_counter[0] = 1\n",
      "# nav_lat, nav_lon, nbidta, nbjdta\n",
      "for ir in range(0,r):\n",
      "    nav_lat[0,ir*lengthj:(ir+1)*lengthj] = lat[startj:endj,ir]\n",
      "    nav_lon[0,ir*lengthj:(ir+1)*lengthj] = lon[startj:endj,ir]\n",
      "    nbidta[0,ir*lengthj:(ir+1)*lengthj] = ir\n",
      "    nbjdta[0,ir*lengthj:(ir+1)*lengthj] = range(startj,endj)\n",
      "    nbrdta[0,ir*lengthj:(ir+1)*lengthj] = ir\n",
      "# votemper, vosaline\n",
      "print votemper.shape\n",
      "for ib in range(0,lengthj*r):\n",
      "    votemper[0,:,0,ib] = temp\n",
      "    vosaline[0,:,0,ib] = sal"
     ],
     "language": "python",
     "metadata": {},
     "outputs": [
      {
       "output_type": "stream",
       "stream": "stdout",
       "text": [
        "(1, 40, 1, 870)\n"
       ]
      }
     ],
     "prompt_number": 24
    },
    {
     "cell_type": "code",
     "collapsed": false,
     "input": [
      "nemo.history = \"\"\"\n",
      "[2013-11-01 13:30:07] Created.\n",
      "[2013-12-02 13:17:00] Changed to 428m max depth.\n",
      "[2013-12-02 13:17:00] Updated to CF-1.6 conventions and netCDF4 with zlib compression.\n",
      "\"\"\""
     ],
     "language": "python",
     "metadata": {},
     "outputs": [],
     "prompt_number": 25
    },
    {
     "cell_type": "code",
     "collapsed": false,
     "input": [
      "nc_tools.check_dataset_attrs(nemo)"
     ],
     "language": "python",
     "metadata": {},
     "outputs": [],
     "prompt_number": 26
    },
    {
     "cell_type": "code",
     "collapsed": false,
     "input": [
      "# and close\n",
      "nemo.close()"
     ],
     "language": "python",
     "metadata": {},
     "outputs": [],
     "prompt_number": 27
    },
    {
     "cell_type": "markdown",
     "metadata": {},
     "source": [
      "Construct our velocities: according to Thomson et al 2007:  \n",
      "50 cm/s out, above 60+-15 m  \n",
      "25 cm/s in, between 60 and 125 m  \n",
      "10 cm/s in, below 125 m"
     ]
    },
    {
     "cell_type": "markdown",
     "metadata": {},
     "source": [
      "But now we have two angles to take into account.  The angle of the grid rotation (angle) and the real cross-strait direction.\n",
      "The border is at 292.5o/112.5o, so straight into the Strait is 112.5o (mostly east and a little south), 22.5o south.  But we\n",
      "turn the grid a further 29o.  \n",
      "All very nice in theory but looking at the grid we want 45o"
     ]
    },
    {
     "cell_type": "code",
     "collapsed": false,
     "input": [
      "angle = 360.-0.5*(331+2./60+15./(60*60)+330+49/60.+11./(60*60)) \n",
      "totangle = 45.\n",
      "print angle,totangle\n",
      "phi = np.pi*totangle/180.  # because its more useful in radians"
     ],
     "language": "python",
     "metadata": {},
     "outputs": [
      {
       "output_type": "stream",
       "stream": "stdout",
       "text": [
        "29.0713888889 45.0\n"
       ]
      }
     ],
     "prompt_number": 35
    },
    {
     "cell_type": "markdown",
     "metadata": {},
     "source": [
      "The velocities above were adjusted to give appoximately the same inflow as outflow.  Note that this greatly reduces the outflow because of the large width at the mouth."
     ]
    },
    {
     "cell_type": "code",
     "collapsed": false,
     "input": [
      "uvel = np.zeros(depths.size)\n",
      "vvel = np.zeros(depths.size)\n",
      "invel = 0.18\n",
      "outvel = 0.3\n",
      "for id in range(0,depths.size):\n",
      "    if depths[id] < 60:\n",
      "        uvel[id] = -invel*np.cos(phi)\n",
      "        vvel[id] = invel*np.sin(phi)\n",
      "    elif depths[id] < 125:\n",
      "        uvel[id] = outvel*np.cos(phi)\n",
      "        vvel[id] = -outvel*np.sin(phi)\n",
      "    else:\n",
      "        uvel[id] = outvel*np.cos(phi)\n",
      "        vvel[id] = -outvel*np.sin(phi)\n",
      "plt.subplot(1,2,1)\n",
      "plt.plot(uvel,-depths,'o')\n",
      "plt.subplot(1,2,2)\n",
      "plt.plot(vvel,-depths,'*r')\n",
      "print uvel"
     ],
     "language": "python",
     "metadata": {},
     "outputs": [
      {
       "output_type": "stream",
       "stream": "stdout",
       "text": [
        "[-0.12727922 -0.12727922 -0.12727922 -0.12727922 -0.12727922 -0.12727922\n",
        " -0.12727922 -0.12727922 -0.12727922 -0.12727922 -0.12727922 -0.12727922\n",
        " -0.12727922 -0.12727922 -0.12727922 -0.12727922 -0.12727922 -0.12727922\n",
        " -0.12727922 -0.12727922 -0.12727922 -0.12727922 -0.12727922 -0.12727922\n",
        "  0.21213203  0.21213203  0.21213203  0.21213203  0.21213203  0.21213203\n",
        "  0.21213203  0.21213203  0.21213203  0.21213203  0.21213203  0.21213203\n",
        "  0.21213203  0.21213203  0.21213203  0.21213203]\n"
       ]
      },
      {
       "metadata": {},
       "output_type": "display_data",
       "png": "[encoded data removed]",
       "text": [
        "<matplotlib.figure.Figure at 0x106c57050>"
       ]
      }
     ],
     "prompt_number": 36
    },
    {
     "cell_type": "markdown",
     "metadata": {},
     "source": [
      "Calculate the barotropic veloocity (buvel and bvvel) and check that they add almost to zero across the domain"
     ]
    },
    {
     "cell_type": "code",
     "collapsed": false,
     "input": [
      "buvel = np.zeros((898,))\n",
      "tudepth = np.zeros((898,))\n",
      "print buvel.shape\n",
      "for j in range(startj,endj):\n",
      "    buvel[j] = 0.\n",
      "    tudepth[j] = 0.\n",
      "    for id in range(0,depths.size-1):\n",
      "        if depths[id] < D[j,1]:\n",
      "            buvel[j] +=  uvel[id]*(depths[id+1]-depths[id])\n",
      "            tudepth[j] += (depths[id+1]-depths[id])\n",
      "    if tudepth[j] > 0:\n",
      "        buvel[j] = buvel[j]/tudepth[j]\n",
      "bvvel = -buvel*np.sin(phi)/np.cos(phi)\n",
      "print buvel.sum(), bvvel.sum()"
     ],
     "language": "python",
     "metadata": {},
     "outputs": [
      {
       "output_type": "stream",
       "stream": "stdout",
       "text": [
        "(898,)\n",
        "0.031401500225"
       ]
      },
      {
       "output_type": "stream",
       "stream": "stdout",
       "text": [
        " -0.031401500225\n"
       ]
      }
     ],
     "prompt_number": 37
    },
    {
     "cell_type": "markdown",
     "metadata": {},
     "source": [
      "And the surface height: geostrophy says g deta/dx = fu. So deta = fu/g * dx across flow which is fu/g * dx * cos(angle)"
     ]
    },
    {
     "cell_type": "code",
     "collapsed": false,
     "input": [
      "f = 2*7.27e-5*np.sin(48.48*np.pi/180)\n",
      "fug = f*invel/9.81*np.cos(angle*np.pi/180)"
     ],
     "language": "python",
     "metadata": {},
     "outputs": [],
     "prompt_number": 38
    },
    {
     "cell_type": "code",
     "collapsed": false,
     "input": [
      "midj = 0.5*(startj+endj-1)\n",
      "print midj"
     ],
     "language": "python",
     "metadata": {},
     "outputs": [
      {
       "output_type": "stream",
       "stream": "stdout",
       "text": [
        "427.0\n"
       ]
      }
     ],
     "prompt_number": 39
    },
    {
     "cell_type": "code",
     "collapsed": false,
     "input": [
      "eta = np.zeros(endj)\n",
      "eta[midj] = 0.\n",
      "for j in range(int(midj)+1,endj):\n",
      "    eta[j] = eta[j-1] + fug*e1t[0,j,0]\n",
      "for j in range(int(midj)-1,startj-1,-1):\n",
      "    eta[j] = eta[j+1] - fug*e1t[0,j,0]\n",
      "plt.plot(eta[startj:endj])"
     ],
     "language": "python",
     "metadata": {},
     "outputs": [
      {
       "metadata": {},
       "output_type": "pyout",
       "prompt_number": 40,
       "text": [
        "[<matplotlib.lines.Line2D at 0x105f33710>]"
       ]
      },
      {
       "metadata": {},
       "output_type": "display_data",
       "png": "[encoded data removed]",
       "text": [
        "<matplotlib.figure.Figure at 0x106640810>"
       ]
      }
     ],
     "prompt_number": 40
    },
    {
     "cell_type": "code",
     "collapsed": false,
     "input": [
      "nemo = NC.Dataset('SalishSea_bdyT_u2d.nc', 'w', format='NETCDF3_CLASSIC')\n",
      "nemo.description = 'Eta based on Rough Velocity data from Thomson et al, 2007'  \n",
      "\n",
      "# dimensions\n",
      "nemo.createDimension('xbT', lengthj*r)\n",
      "nemo.createDimension('yb', 1)\n",
      "nemo.createDimension('time_counter', None)\n",
      "\n",
      "# variables\n",
      "# time_counter\n",
      "time_counter = nemo.createVariable('time_counter', 'float32', ('time_counter'))\n",
      "time_counter.units = 'non-dim'\n",
      "time_counter.longname = 'time axis'\n",
      "time_counter.axis = 'T'\n",
      "# nav_lat and nav_lon\n",
      "nav_lat = nemo.createVariable('nav_lat','float32',('yb','xbT'))\n",
      "nav_lon = nemo.createVariable('nav_lon','float32',('yb','xbT'))\n",
      "# sossheig\n",
      "sossheig = nemo.createVariable('sossheig', 'float32', \n",
      "                               ('time_counter','yb','xbT'))\n",
      "sossheig.units = 'm'\n",
      "sossheig.long_name = 'Sea Surface Height'   \n",
      "sossheig.grid = 'SalishSea'\n",
      "# nbidta, ndjdta, ndrdta\n",
      "nbidta = nemo.createVariable('nbidta', 'int32' , ('yb','xbT'))\n",
      "nbidta.units = 'non dim'\n",
      "nbidta.longname = 'i grid position'\n",
      "nbjdta = nemo.createVariable('nbjdta', 'int32' , ('yb','xbT'))\n",
      "nbjdta.units = 'non dim'\n",
      "nbjdta.longname = 'j grid position'\n",
      "nbrdta = nemo.createVariable('nbrdta', 'int32' , ('yb','xbT'))\n",
      "nbrdta.units = 'non dim'\n",
      "nbrdta.longname = 'position from boundary'"
     ],
     "language": "python",
     "metadata": {},
     "outputs": [],
     "prompt_number": 41
    },
    {
     "cell_type": "code",
     "collapsed": false,
     "input": [
      "# values\n",
      "# time counter\n",
      "time_counter[0] = 1\n",
      "# nav_lat, nav_lon, nbidta, nbjdta, sossheig\n",
      "for ir in range(0,r):\n",
      "    nav_lat[0,ir*lengthj:(ir+1)*lengthj] = lat[startj:endj,ir]\n",
      "    nav_lon[0,ir*lengthj:(ir+1)*lengthj] = lon[startj:endj,ir]\n",
      "    nbidta[0,ir*lengthj:(ir+1)*lengthj] = ir\n",
      "    nbjdta[0,ir*lengthj:(ir+1)*lengthj] = range(startj,endj)\n",
      "    nbrdta[0,ir*lengthj:(ir+1)*lengthj] = ir\n",
      "    sossheig[0,0,ir*lengthj:(ir+1)*lengthj] = eta[startj:endj]\n",
      "\n",
      "\n",
      "plt.plot(sossheig[0,0])\n",
      "# and close\n",
      "nemo.close()"
     ],
     "language": "python",
     "metadata": {},
     "outputs": [
      {
       "metadata": {},
       "output_type": "display_data",
       "png": "[encoded data removed]",
       "text": [
        "<matplotlib.figure.Figure at 0x106c57050>"
       ]
      }
     ],
     "prompt_number": 42
    },
    {
     "cell_type": "markdown",
     "metadata": {},
     "source": [
      "Barotropic Velocities: U first"
     ]
    },
    {
     "cell_type": "code",
     "collapsed": false,
     "input": [
      "nemo = NC.Dataset('SalishSea_bdyU_u2d.nc', 'w')\n",
      "nemo.description = 'Rough Barotropic U data from Thomson et al, 2007' \n",
      "# dimensions\n",
      "nemo.createDimension('xbT', lengthj*r)\n",
      "nemo.createDimension('yb', 1)\n",
      "nemo.createDimension('time_counter', None)\n",
      "\n",
      "# variables\n",
      "# time_counter\n",
      "time_counter = nemo.createVariable('time_counter', 'float32', ('time_counter'))\n",
      "time_counter.units = 'non-dim'\n",
      "time_counter.longname = 'time axis'\n",
      "time_counter.axis = 'T'\n",
      "# vobtcrtx\n",
      "vobtcrtx = nemo.createVariable('vobtcrtx', 'float32', \n",
      "                               ('time_counter','yb','xbT'))\n",
      "vobtcrtx.units = 'm/s'\n",
      "vobtcrtx.long_name = 'x-direction barotropic velocity'   \n",
      "vobtcrtx.grid = 'SalishSea'\n",
      "# nbidta, ndjdta, ndrdta\n",
      "nbidta = nemo.createVariable('nbidta', 'int32' , ('yb','xbT'))\n",
      "nbidta.units = 'non dim'\n",
      "nbidta.longname = 'i grid position'\n",
      "nbjdta = nemo.createVariable('nbjdta', 'int32' , ('yb','xbT'))\n",
      "nbjdta.units = 'non dim'\n",
      "nbjdta.longname = 'j grid position'\n",
      "nbrdta = nemo.createVariable('nbrdta', 'int32' , ('yb','xbT'))\n",
      "nbrdta.units = 'non dim'\n",
      "nbrdta.longname = 'position from boundary'"
     ],
     "language": "python",
     "metadata": {},
     "outputs": [],
     "prompt_number": 43
    },
    {
     "cell_type": "code",
     "collapsed": false,
     "input": [
      "# values\n",
      "# time counter\n",
      "time_counter[0] = 1\n",
      "# nav_lat, nav_lon, nbidta, nbjdta\n",
      "for ir in range(0,r):\n",
      "    nbidta[0,ir*lengthj:(ir+1)*lengthj] = ir\n",
      "    nbjdta[0,ir*lengthj:(ir+1)*lengthj] = range(startj,endj)\n",
      "    nbrdta[0,ir*lengthj:(ir+1)*lengthj] = ir\n",
      "    vobtcrtx[0,0,ir*lengthj:(ir+1)*lengthj] = buvel[startj:endj]\n",
      "# vobtcrtx\n",
      "print vobtcrtx.shape\n",
      "plt.plot(vobtcrtx[0,0,0:lengthj])\n",
      "# and close\n",
      "nemo.close()"
     ],
     "language": "python",
     "metadata": {},
     "outputs": [
      {
       "output_type": "stream",
       "stream": "stdout",
       "text": [
        "(1, 1, 870)\n"
       ]
      },
      {
       "metadata": {},
       "output_type": "display_data",
       "png": "[encoded data removed]",
       "text": [
        "<matplotlib.figure.Figure at 0x10803a450>"
       ]
      }
     ],
     "prompt_number": 44
    },
    {
     "cell_type": "markdown",
     "metadata": {},
     "source": [
      "And repeat: barotropic V"
     ]
    },
    {
     "cell_type": "code",
     "collapsed": false,
     "input": [
      "nemo = NC.Dataset('SalishSea_bdyV_u2d.nc', 'w')\n",
      "nemo.description = 'Rough Barotropic V data from Thomson et al, 2007' \n",
      "# dimensions\n",
      "nemo.createDimension('xbT', lengthj*r)\n",
      "nemo.createDimension('yb', 1)\n",
      "nemo.createDimension('time_counter', None)\n",
      "\n",
      "# variables\n",
      "# time_counter\n",
      "time_counter = nemo.createVariable('time_counter', 'float32', ('time_counter'))\n",
      "time_counter.units = 'non-dim'\n",
      "time_counter.longname = 'time axis'\n",
      "time_counter.axis = 'T'\n",
      "# vobtcrty\n",
      "vobtcrty = nemo.createVariable('vobtcrty', 'float32', \n",
      "                               ('time_counter','yb','xbT'))\n",
      "vobtcrty.units = 'm/s'\n",
      "vobtcrty.long_name = 'x-direction barotropic velocity'   \n",
      "vobtcrty.grid = 'SalishSea'\n",
      "# nbidta, ndjdta, ndrdta\n",
      "nbidta = nemo.createVariable('nbidta', 'int32' , ('yb','xbT'))\n",
      "nbidta.units = 'non dim'\n",
      "nbidta.longname = 'i grid position'\n",
      "nbjdta = nemo.createVariable('nbjdta', 'int32' , ('yb','xbT'))\n",
      "nbjdta.units = 'non dim'\n",
      "nbjdta.longname = 'j grid position'\n",
      "nbrdta = nemo.createVariable('nbrdta', 'int32' , ('yb','xbT'))\n",
      "nbrdta.units = 'non dim'\n",
      "nbrdta.longname = 'position from boundary'"
     ],
     "language": "python",
     "metadata": {},
     "outputs": [],
     "prompt_number": 45
    },
    {
     "cell_type": "code",
     "collapsed": false,
     "input": [
      "# values\n",
      "# time counter\n",
      "time_counter[0] = 1\n",
      "# nav_lat, nav_lon, nbidta, nbjdta\n",
      "for ir in range(0,r):\n",
      "    nbidta[0,ir*lengthj:(ir+1)*lengthj] = ir\n",
      "    nbjdta[0,ir*lengthj:(ir+1)*lengthj] = range(startj,endj)\n",
      "    nbrdta[0,ir*lengthj:(ir+1)*lengthj] = ir\n",
      "    vobtcrty[0,0,ir*lengthj:(ir+1)*lengthj] = bvvel[startj:endj]\n",
      "# vobtcrty\n",
      "print vobtcrty.shape\n",
      "plt.plot(vobtcrty[0,0,0:lengthj*r])\n",
      "# and close\n",
      "nemo.close()"
     ],
     "language": "python",
     "metadata": {},
     "outputs": [
      {
       "output_type": "stream",
       "stream": "stdout",
       "text": [
        "(1, 1, 870)\n"
       ]
      },
      {
       "metadata": {},
       "output_type": "display_data",
       "png": "[encoded data removed]",
       "text": [
        "<matplotlib.figure.Figure at 0x105f2ead0>"
       ]
      }
     ],
     "prompt_number": 46
    },
    {
     "cell_type": "markdown",
     "metadata": {},
     "source": [
      "And now the baroclinic velocities: u first"
     ]
    },
    {
     "cell_type": "code",
     "collapsed": false,
     "input": [
      "nemo = NC.Dataset('SalishSea_bdyU_u3d.nc', 'w')\n",
      "nemo.description = 'Rough U data from Thomson et al, 2007'  \n",
      "\n",
      "# dimensions\n",
      "nemo.createDimension('xbT', lengthj*r)\n",
      "nemo.createDimension('yb', 1)\n",
      "nemo.createDimension('deptht',size = len(depth_out))\n",
      "nemo.createDimension('time_counter', None)\n",
      "\n",
      "# variables\n",
      "# deptht\n",
      "deptht = nemo.createVariable('deptht','float32',('deptht'))\n",
      "deptht.units = 'm'\n",
      "# time_counter\n",
      "time_counter = nemo.createVariable('time_counter', 'float32', ('time_counter'))\n",
      "time_counter.units = 'non-dim'\n",
      "time_counter.longname = 'time axis'\n",
      "time_counter.axis = 'T'\n",
      "# vozocrtx\n",
      "vozocrtx = nemo.createVariable('vozocrtx', 'float32', \n",
      "                               ('time_counter','deptht','yb','xbT'))\n",
      "vozocrtx.units = 'm/s'\n",
      "vozocrtx.long_name = 'x-direction velocity'   \n",
      "vozocrtx.grid = 'SalishSea'\n",
      "# nbidta, ndjdta, ndrdta\n",
      "nbidta = nemo.createVariable('nbidta', 'int32' , ('yb','xbT'))\n",
      "nbidta.units = 'non dim'\n",
      "nbidta.longname = 'i grid position'\n",
      "nbjdta = nemo.createVariable('nbjdta', 'int32' , ('yb','xbT'))\n",
      "nbjdta.units = 'non dim'\n",
      "nbjdta.longname = 'j grid position'\n",
      "nbrdta = nemo.createVariable('nbrdta', 'int32' , ('yb','xbT'))\n",
      "nbrdta.units = 'non dim'\n",
      "nbrdta.longname = 'position from boundary'"
     ],
     "language": "python",
     "metadata": {},
     "outputs": [],
     "prompt_number": 47
    },
    {
     "cell_type": "code",
     "collapsed": false,
     "input": [
      "# values\n",
      "# depths, time counter\n",
      "deptht[:] = depths\n",
      "time_counter[0] = 1\n",
      "# nav_lat, nav_lon, nbidta, nbjdta\n",
      "for ir in range(0,r):\n",
      "    nbidta[0,ir*lengthj:(ir+1)*lengthj] = ir\n",
      "    nbjdta[0,ir*lengthj:(ir+1)*lengthj] = range(startj,endj)\n",
      "    nbrdta[0,ir*lengthj:(ir+1)*lengthj] = ir\n",
      "    for id in range(0,len(depth_out)):\n",
      "        for j in range(0,5):\n",
      "            vozocrtx[0,id,0,ir*lengthj+j:(ir+1)*lengthj+j] = 0.\n",
      "        for j in range(5,lengthj-6):\n",
      "            vozocrtx[0,id,0,ir*lengthj+j:(ir+1)*lengthj+j] = uvel[id]-buvel[startj+j]\n",
      "        for j in range(lengthj-6,lengthj):\n",
      "            vozocrtx[0,id,0,ir*lengthj+j:(ir+1)*lengthj+j] = 0.\n",
      "# vozocrtx\n",
      "print vozocrtx.shape\n",
      "plt.contourf(vozocrtx[0,:,0,0:lengthj])\n",
      "plt.colorbar()\n",
      "# and close\n",
      "nemo.close()"
     ],
     "language": "python",
     "metadata": {},
     "outputs": [
      {
       "output_type": "stream",
       "stream": "stdout",
       "text": [
        "(1, 40, 1, 870)\n"
       ]
      },
      {
       "metadata": {},
       "output_type": "display_data",
       "png": "[encoded data removed]",
       "text": [
        "<matplotlib.figure.Figure at 0x10803c590>"
       ]
      }
     ],
     "prompt_number": 48
    },
    {
     "cell_type": "markdown",
     "metadata": {},
     "source": [
      "And finally the v-baroclinic velocity"
     ]
    },
    {
     "cell_type": "code",
     "collapsed": false,
     "input": [
      "nemo = NC.Dataset('SalishSea_bdyV_u3d.nc', 'w')\n",
      "nemo.description = 'Rough V data from Thomson et al, 2007'  \n",
      "\n",
      "# dimensions\n",
      "nemo.createDimension('xbT', lengthj*r)\n",
      "nemo.createDimension('yb', 1)\n",
      "nemo.createDimension('deptht',size = len(depth_out))\n",
      "nemo.createDimension('time_counter', None)\n",
      "\n",
      "# variables\n",
      "# deptht\n",
      "deptht = nemo.createVariable('deptht','float32',('deptht'))\n",
      "deptht.units = 'm'\n",
      "# time_counter\n",
      "time_counter = nemo.createVariable('time_counter', 'float32', ('time_counter'))\n",
      "time_counter.units = 'non-dim'\n",
      "time_counter.longname = 'time axis'\n",
      "time_counter.axis = 'T'\n",
      "# vozocrtx\n",
      "vomecrty = nemo.createVariable('vomecrty', 'float32', \n",
      "                               ('time_counter','deptht','yb','xbT'))\n",
      "vomecrty.units = 'm/s'\n",
      "vomecrty.long_name = 'y-direction velocity'   \n",
      "vomecrty.grid = 'SalishSea'\n",
      "# nbidta, ndjdta, ndrdta\n",
      "nbidta = nemo.createVariable('nbidta', 'int32' , ('yb','xbT'))\n",
      "nbidta.units = 'non dim'\n",
      "nbidta.longname = 'i grid position'\n",
      "nbjdta = nemo.createVariable('nbjdta', 'int32' , ('yb','xbT'))\n",
      "nbjdta.units = 'non dim'\n",
      "nbjdta.longname = 'j grid position'\n",
      "nbrdta = nemo.createVariable('nbrdta', 'int32' , ('yb','xbT'))\n",
      "nbrdta.units = 'non dim'\n",
      "nbrdta.longname = 'position from boundary'"
     ],
     "language": "python",
     "metadata": {},
     "outputs": [],
     "prompt_number": 49
    },
    {
     "cell_type": "code",
     "collapsed": false,
     "input": [
      "# values\n",
      "# depths, time counter\n",
      "deptht[:] = depths\n",
      "time_counter[0] = 1\n",
      "# nav_lat, nav_lon, nbidta, nbjdta\n",
      "for ir in range(0,r):\n",
      "    nbidta[0,ir*lengthj:(ir+1)*lengthj] = ir\n",
      "    nbjdta[0,ir*lengthj:(ir+1)*lengthj] = range(startj,endj)\n",
      "    nbrdta[0,ir*lengthj:(ir+1)*lengthj] = ir\n",
      "    for id in range(0,len(depth_out)):\n",
      "        for j in range(0,5):\n",
      "            vomecrty[0,id,0,ir*lengthj+j:(ir+1)*lengthj+j] = 0.\n",
      "        for j in range(5,lengthj-6):\n",
      "            vomecrty[0,id,0,ir*lengthj+j:(ir+1)*lengthj+j] = vvel[id]-bvvel[startj+j]\n",
      "        for j in range(lengthj-6,lengthj):\n",
      "            vomecrty[0,id,0,ir*lengthj+j:(ir+1)*lengthj+j] = 0.\n",
      "# vomecrty\n",
      "print vomecrty.shape\n",
      "plt.contourf(vomecrty[0,:,0,0:lengthj])\n",
      "plt.colorbar()\n",
      "# vomecrty\n",
      "# and close\n",
      "nemo.close()"
     ],
     "language": "python",
     "metadata": {},
     "outputs": [
      {
       "output_type": "stream",
       "stream": "stdout",
       "text": [
        "(1, 40, 1, 870)\n"
       ]
      },
      {
       "metadata": {},
       "output_type": "display_data",
       "png": "[encoded data removed]",
       "text": [
        "<matplotlib.figure.Figure at 0x105f37ad0>"
       ]
      }
     ],
     "prompt_number": 50
    },
    {
     "cell_type": "code",
     "collapsed": false,
     "input": [],
     "language": "python",
     "metadata": {},
     "outputs": []
    }
   ],
   "metadata": {}
  }
 ]
}