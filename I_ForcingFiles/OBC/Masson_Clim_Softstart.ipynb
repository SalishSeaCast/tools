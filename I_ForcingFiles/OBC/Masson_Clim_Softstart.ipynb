{
 "metadata": {
  "name": ""
 },
 "nbformat": 3,
 "nbformat_minor": 0,
 "worksheets": [
  {
   "cells": [
    {
     "cell_type": "markdown",
     "metadata": {},
     "source": [
      "Notebook to prepare OBC files for TS from Masson climatology but starting in Sept with initial conditions before that.  That is a gentle movement to the proper conditions.  Sep 15 is yearday 258. Sep 12 is yearday 255.  But wtime is in day, not yearday.  So Sep 15 is day 257 and Sep 12 is day 254."
     ]
    },
    {
     "cell_type": "code",
     "collapsed": false,
     "input": [
      "%matplotlib inline\n",
      "import matplotlib.pyplot as plt\n",
      "import numpy as np\n",
      "import netCDF4 as NC\n",
      "from salishsea_tools import nc_tools"
     ],
     "language": "python",
     "metadata": {},
     "outputs": [],
     "prompt_number": 1
    },
    {
     "cell_type": "code",
     "collapsed": false,
     "input": [
      "wtime = np.arange(3.5,366,7)\n",
      "print wtime"
     ],
     "language": "python",
     "metadata": {},
     "outputs": [
      {
       "output_type": "stream",
       "stream": "stdout",
       "text": [
        "[   3.5   10.5   17.5   24.5   31.5   38.5   45.5   52.5   59.5   66.5\n",
        "   73.5   80.5   87.5   94.5  101.5  108.5  115.5  122.5  129.5  136.5\n",
        "  143.5  150.5  157.5  164.5  171.5  178.5  185.5  192.5  199.5  206.5\n",
        "  213.5  220.5  227.5  234.5  241.5  248.5  255.5  262.5  269.5  276.5\n",
        "  283.5  290.5  297.5  304.5  311.5  318.5  325.5  332.5  339.5  346.5\n",
        "  353.5  360.5]\n"
       ]
      }
     ],
     "prompt_number": 2
    },
    {
     "cell_type": "markdown",
     "metadata": {},
     "source": [
      "Read in the initial conditions."
     ]
    },
    {
     "cell_type": "code",
     "collapsed": false,
     "input": [
      "fTorig = NC.Dataset('../../../nemo-forcing/initial_strat/SS2_SoG0318_1y_temperature_nomask.nc','r')\n",
      "fSorig = NC.Dataset('../../../nemo-forcing/initial_strat/SS2_SoG0318_1y_salinity_nomask.nc','r')\n",
      "Torig = fTorig.variables['votemper'][:]\n",
      "Sorig = fSorig.variables['vosaline'][:]\n",
      "print Sorig.shape\n",
      "fTorig.close()\n",
      "fSorig.close()"
     ],
     "language": "python",
     "metadata": {},
     "outputs": [
      {
       "output_type": "stream",
       "stream": "stdout",
       "text": [
        "(1, 40, 898, 398)\n"
       ]
      }
     ],
     "prompt_number": 3
    },
    {
     "cell_type": "markdown",
     "metadata": {},
     "source": [
      "Copy Masson Climatology File"
     ]
    },
    {
     "cell_type": "code",
     "collapsed": false,
     "input": [
      "!cp ../../../nemo-forcing/open_boundaries/west/SalishSea2_Masson_Clim.nc SalishSea2_Masson_Soft.nc\n",
      "Soft = NC.Dataset('SalishSea2_Masson_Soft.nc', 'r+')"
     ],
     "language": "python",
     "metadata": {},
     "outputs": [],
     "prompt_number": 4
    },
    {
     "cell_type": "markdown",
     "metadata": {},
     "source": [
      "Get the data from the file, and overwrite the first 37 values"
     ]
    },
    {
     "cell_type": "code",
     "collapsed": false,
     "input": [
      "temp = Soft.variables['votemper']\n",
      "sal = Soft.variables['vosaline']\n",
      "nbi = Soft.variables['nbidta']\n",
      "nbj = Soft.variables['nbjdta']"
     ],
     "language": "python",
     "metadata": {},
     "outputs": [],
     "prompt_number": 5
    },
    {
     "cell_type": "code",
     "collapsed": false,
     "input": [
      "print nbi[0,5],nbj[0,5]"
     ],
     "language": "python",
     "metadata": {},
     "outputs": [
      {
       "output_type": "stream",
       "stream": "stdout",
       "text": [
        "0 384\n"
       ]
      }
     ],
     "prompt_number": 6
    },
    {
     "cell_type": "code",
     "collapsed": false,
     "input": [
      "plt.plot(sal[38,:,0,5])\n",
      "print sal[38,:,0,5]"
     ],
     "language": "python",
     "metadata": {},
     "outputs": [
      {
       "output_type": "stream",
       "stream": "stdout",
       "text": [
        "[ nan  nan  nan  nan  nan  nan  nan  nan  nan  nan  nan  nan  nan  nan  nan\n",
        "  nan  nan  nan  nan  nan  nan  nan  nan  nan  nan  nan  nan  nan  nan  nan\n",
        "  nan  nan  nan  nan  nan  nan  nan  nan  nan  nan]\n"
       ]
      },
      {
       "metadata": {},
       "output_type": "display_data",
       "png": "[encoded data removed]",
       "text": [
        "<matplotlib.figure.Figure at 0x24a7750>"
       ]
      }
     ],
     "prompt_number": 7
    },
    {
     "cell_type": "code",
     "collapsed": false,
     "input": [
      "for d in range(0,40):\n",
      "    for t in range (0,37):\n",
      "        temp[t,d,0,:] = Torig[0,d,3,3]\n",
      "        sal[t,d] = Sorig[0,d,3,3]"
     ],
     "language": "python",
     "metadata": {},
     "outputs": [],
     "prompt_number": 8
    },
    {
     "cell_type": "markdown",
     "metadata": {},
     "source": [
      "Take a Look"
     ]
    },
    {
     "cell_type": "code",
     "collapsed": false,
     "input": [
      "plt.figure(figsize=(12,4))\n",
      "plt.subplot(1,2,1)\n",
      "plt.plot(wtime,temp[:,0,0,45],'bx-',wtime,temp[:,26,0,45],'r+-')\n",
      "plt.subplot(1,2,2)\n",
      "plt.plot(wtime,sal[:,0,0,45],'bx-',wtime,sal[:,26,0,45],'r+-')\n",
      "print range(35,39),wtime[35:39],sal[35:39,26,0,45]"
     ],
     "language": "python",
     "metadata": {},
     "outputs": [
      {
       "output_type": "stream",
       "stream": "stdout",
       "text": [
        "[35, 36, 37, 38] [ 248.5  255.5  262.5  269.5] [ 30.58393097  30.58393097  33.34404755  33.31430817]\n"
       ]
      },
      {
       "metadata": {},
       "output_type": "display_data",
       "png": "[encoded data removed]",
       "text": [
        "<matplotlib.figure.Figure at 0x27aff90>"
       ]
      }
     ],
     "prompt_number": 9
    },
    {
     "cell_type": "markdown",
     "metadata": {},
     "source": [
      "Update Attributes"
     ]
    },
    {
     "cell_type": "code",
     "collapsed": false,
     "input": [
      "nc_tools.show_dataset_attrs(Soft)"
     ],
     "language": "python",
     "metadata": {},
     "outputs": [
      {
       "output_type": "stream",
       "stream": "stdout",
       "text": [
        "file format: NETCDF4\n",
        "Conventions: CF-1.6\n",
        "institution: Dept of Earth, Ocean & Atmospheric Sciences, University of British Columbia\n",
        "comment: T & S data from Masson\n",
        "NCO: 4.0.9\n",
        "title: \n",
        "Weekly climatology boundary conditions from Masson\n",
        "\n",
        "source: \n",
        "https://bitbucket.org/salishsea/tools/src/tip/I_ForcingFiles/OBC/MakeTSfromMasson.ipynb\n",
        "https://bitbucket.org/salishsea/tools/src/tip/I_ForcingFiles/OBC/MassonClimatology.ipynb\n",
        "\n",
        "references: \n",
        "https://bitbucket.org/salishsea/nemo-forcing/src/tip/open_boundaries/west/SalishSea2_Masson_Clim.nc\n",
        "\n",
        "history: \n",
        "[2014-01-03 13:15:17] Created netCDF4 zlib=True dataset.\n",
        "Sat Jan  4 13:05:15 2014: ncks -4 -L1 -d time_counter,0,51 SalishSea_TS_Masson.nc SalishSea_Masson_trunc.nc\n",
        "[2014-01-04 14:17] Formed weekly climatology from original SalishSea grided results\n",
        "\n"
       ]
      }
     ],
     "prompt_number": 10
    },
    {
     "cell_type": "code",
     "collapsed": false,
     "input": [
      "Soft.title = \"\"\"\n",
      "Weekly climatology OBC from Masson from day 262.5 forward, Original TS before\n",
      "\"\"\"\n",
      "Soft.source = \"\"\"\n",
      "https://bitbucket.org/salishsea/tools/src/tip/I_ForcingFiles/OBC/MakeTSfromMasson.ipynb\n",
      "https://bitbucket.org/salishsea/tools/src/tip/I_ForcingFiles/OBC/MassonClimatology.ipynb\n",
      "https://bitbucket.org/salishsea/tools/src/tip/I_ForcingFiles/OBC/Masson_Clim_Softstart.ipynb\n",
      "\n",
      "\"\"\"\n",
      "Soft.references = \"\"\"\n",
      "https://bitbucket.org/salishsea/nemo-forcing/src/tip/open_boundaries/west/SalishSea2_Masson_Soft.nc\n",
      "\"\"\"\n",
      "Soft.history = \"\"\"\n",
      "[2014-01-03 13:15:17] Created netCDF4 zlib=True dataset.\n",
      "Sat Jan  4 13:05:15 2014: ncks -4 -L1 -d time_counter,0,51 SalishSea_TS_Masson.nc SalishSea_Masson_trunc.nc\n",
      "[2014-01-04 14:17] Formed weekly climatology from original SalishSea grided results\n",
      "[2014-01-04 19:31] Put original TS in first 37 weeks\n",
      "\n",
      "\"\"\"\n",
      "nc_tools.show_dataset_attrs(Soft)\n",
      " "
     ],
     "language": "python",
     "metadata": {},
     "outputs": [
      {
       "output_type": "stream",
       "stream": "stdout",
       "text": [
        "file format: NETCDF4\n",
        "Conventions: CF-1.6\n",
        "institution: Dept of Earth, Ocean & Atmospheric Sciences, University of British Columbia\n",
        "comment: T & S data from Masson\n",
        "NCO: 4.0.9\n",
        "title: \n",
        "Weekly climatology OBC from Masson from day 262.5 forward, Original TS before\n",
        "\n",
        "source: \n",
        "https://bitbucket.org/salishsea/tools/src/tip/I_ForcingFiles/OBC/MakeTSfromMasson.ipynb\n",
        "https://bitbucket.org/salishsea/tools/src/tip/I_ForcingFiles/OBC/MassonClimatology.ipynb\n",
        "https://bitbucket.org/salishsea/tools/src/tip/I_ForcingFiles/OBC/Masson_Clim_Softstart.ipynb\n",
        "\n",
        "\n",
        "references: \n",
        "https://bitbucket.org/salishsea/nemo-forcing/src/tip/open_boundaries/west/SalishSea2_Masson_Soft.nc\n",
        "\n",
        "history: \n",
        "[2014-01-03 13:15:17] Created netCDF4 zlib=True dataset.\n",
        "Sat Jan  4 13:05:15 2014: ncks -4 -L1 -d time_counter,0,51 SalishSea_TS_Masson.nc SalishSea_Masson_trunc.nc\n",
        "[2014-01-04 14:17] Formed weekly climatology from original SalishSea grided results\n",
        "[2014-01-04 19:31] Put original TS in first 37 weeks\n",
        "\n",
        "\n"
       ]
      }
     ],
     "prompt_number": 11
    },
    {
     "cell_type": "code",
     "collapsed": false,
     "input": [
      "Soft.close()"
     ],
     "language": "python",
     "metadata": {},
     "outputs": [],
     "prompt_number": 12
    },
    {
     "cell_type": "code",
     "collapsed": false,
     "input": [],
     "language": "python",
     "metadata": {},
     "outputs": [
      {
       "output_type": "stream",
       "stream": "stdout",
       "text": [
        "[ 10.  20.  30.]\n"
       ]
      }
     ],
     "prompt_number": 43
    },
    {
     "cell_type": "code",
     "collapsed": false,
     "input": [],
     "language": "python",
     "metadata": {},
     "outputs": []
    }
   ],
   "metadata": {}
  }
 ]
}