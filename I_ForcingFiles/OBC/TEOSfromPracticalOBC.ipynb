{
 "cells": [
  {
   "cell_type": "markdown",
   "metadata": {},
   "source": [
    "Convert practical salinity open boundary files to TEOS-10 reference salinity open boundary files"
   ]
  },
  {
   "cell_type": "code",
   "execution_count": 1,
   "metadata": {
    "collapsed": false
   },
   "outputs": [],
   "source": [
    "import matplotlib.pyplot as plt\n",
    "import netCDF4 as nc\n",
    "import numpy as np\n",
    "from salishsea_tools import nc_tools\n",
    "from salishsea_tools import teos_tools\n",
    "%matplotlib inline"
   ]
  },
  {
   "cell_type": "markdown",
   "metadata": {},
   "source": [
    "Read in the original practical salinity file"
   ]
  },
  {
   "cell_type": "code",
   "execution_count": 2,
   "metadata": {
    "collapsed": false
   },
   "outputs": [
    {
     "name": "stdout",
     "output_type": "stream",
     "text": [
      "(52, 40, 1, 870)\n"
     ]
    }
   ],
   "source": [
    "practical_data = nc.Dataset('../../../NEMO-forcing/open_boundaries/west/SalishSea2_Masson_corrected.nc')\n",
    "practical_salinity = practical_data.variables['vosaline'][:]\n",
    "print (practical_salinity.shape)"
   ]
  },
  {
   "cell_type": "markdown",
   "metadata": {},
   "source": [
    "Now we have to work around a bug in netcdf4 library.  We want to change the attributes of the vosaline \n",
    "variable, but this crashes.  So instead we go out to the command line and copy the file and change the vosaline attributes. Note ncatted is only available on some machines, e.g. Salish\n",
    "\n",
    "cp ../../../NEMO-forcing/open_boundaries/west/SalishSea2_Masson_corrected.nc SalishSea_west_TEOS10.nc   \n",
    "ncatted -O -a units,vosaline,m,c,'g/kg' SalishSea_west_TEOS10.nc   \n",
    "ncatted -O -a long_name,vosaline,m,c,'Reference Salinity' SalishSea_west_TEOS10.nc   \n",
    "ncatted -O -h -a history,global,a,c,'[2016-01-23] Converted to Reference Salinity' SalishSea_west_TEOS10.nc   \n",
    "ncatted -O -h -a title,global,o,c,'Modified boundary conditions based on weekly climatolgy from Diane Masson converted to TEOS' SalishSea_west_TEOS10.nc   \n",
    "ncatted -O -h -a source,global,a,c,'https://bitbucket.org/salishsea/tools/src/tip/I_ForcingFiles/OBC/TEOSfromPracticalOBC.ipynb' SalishSea_west_TEOS10.nc   \n",
    "ncatted -O -h -a comment,global,a,c,'Converted to Reference Salinity (TEOS-10)' SalishSea_west_TEOS10.nc   \n",
    "ncatted -O -h -a references,global,a,c,'https://bitbucket.org/salishsea/nemo-forcing/src/tip/open_boundaries/west/SalishSea_west_TEOS10.nc' SalishSea_west_TEOS10.nc"
   ]
  },
  {
   "cell_type": "code",
   "execution_count": 4,
   "metadata": {
    "collapsed": false
   },
   "outputs": [
    {
     "name": "stdout",
     "output_type": "stream",
     "text": [
      "<class 'netCDF4._netCDF4.Variable'>\n",
      "float32 deptht(deptht)\n",
      "    long_name: Vertical T Levels\n",
      "    units: m\n",
      "    positive: down\n",
      "    valid_range: [   4.  428.]\n",
      "unlimited dimensions: \n",
      "current shape = (40,)\n",
      "filling on, default _FillValue of 9.969209968386869e+36 used\n",
      "\n",
      "<class 'netCDF4._netCDF4.Variable'>\n",
      "float32 nav_lat(yb, xbT)\n",
      "    long_name: Latitude\n",
      "    units: degrees_north\n",
      "unlimited dimensions: \n",
      "current shape = (1, 870)\n",
      "filling on, default _FillValue of 9.969209968386869e+36 used\n",
      "\n",
      "<class 'netCDF4._netCDF4.Variable'>\n",
      "float32 nav_lon(yb, xbT)\n",
      "    long_name: Longitude\n",
      "    units: degrees_east\n",
      "unlimited dimensions: \n",
      "current shape = (1, 870)\n",
      "filling on, default _FillValue of 9.969209968386869e+36 used\n",
      "\n",
      "<class 'netCDF4._netCDF4.Variable'>\n",
      "int32 nbidta(yb, xbT)\n",
      "    long_name: i grid position\n",
      "    units: 1\n",
      "unlimited dimensions: \n",
      "current shape = (1, 870)\n",
      "filling on, default _FillValue of -2147483647 used\n",
      "\n",
      "<class 'netCDF4._netCDF4.Variable'>\n",
      "int32 nbjdta(yb, xbT)\n",
      "    long_name: j grid position\n",
      "    units: 1\n",
      "unlimited dimensions: \n",
      "current shape = (1, 870)\n",
      "filling on, default _FillValue of -2147483647 used\n",
      "\n",
      "<class 'netCDF4._netCDF4.Variable'>\n",
      "int32 nbrdta(yb, xbT)\n",
      "    long_name: position from boundary\n",
      "    units: 1\n",
      "unlimited dimensions: \n",
      "current shape = (1, 870)\n",
      "filling on, default _FillValue of -2147483647 used\n",
      "\n",
      "<class 'netCDF4._netCDF4.Variable'>\n",
      "float32 time_counter(time_counter)\n",
      "    long_name: Time axis\n",
      "    axis: T\n",
      "    units: weeks since beginning of year\n",
      "unlimited dimensions: time_counter\n",
      "current shape = (52,)\n",
      "filling on, default _FillValue of 9.969209968386869e+36 used\n",
      "\n",
      "<class 'netCDF4._netCDF4.Variable'>\n",
      "float32 vosaline(time_counter, deptht, yb, xbT)\n",
      "    coordinates: nav_lon nav_lat deptht time_counter\n",
      "    grid: SalishSea\n",
      "    units: g/kg\n",
      "    long_name: Reference Salinity\n",
      "unlimited dimensions: time_counter\n",
      "current shape = (52, 40, 1, 870)\n",
      "filling on, default _FillValue of 9.969209968386869e+36 used\n",
      "\n",
      "<class 'netCDF4._netCDF4.Variable'>\n",
      "float32 votemper(time_counter, deptht, yb, xbT)\n",
      "    units: degC\n",
      "    long_name: Temperature\n",
      "    coordinates: nav_lon nav_lat deptht time_counter\n",
      "    grid: SalishSea\n",
      "unlimited dimensions: time_counter\n",
      "current shape = (52, 40, 1, 870)\n",
      "filling on, default _FillValue of 9.969209968386869e+36 used\n",
      "\n",
      "None\n",
      "file format: NETCDF4\n",
      "Conventions: CF-1.6\n",
      "institution: Dept of Earth, Ocean & Atmospheric Sciences, University of British Columbia\n",
      "NCO: 4.0.9\n",
      "history: Sun Jan 24 11:55:12 2016: ncatted -O -a long_name,vosaline,m,c,Reference Salinity SalishSea_west_TEOS10.nc\n",
      "Sun Jan 24 11:55:12 2016: ncatted -O -a units,vosaline,m,c,g/kg SalishSea_west_TEOS10.nc\n",
      "\n",
      "2014-01-03 13:15:17] Created netCDF4 zlib=True dataset.\n",
      "Sat Jan  4 13:05:15 2014: ncks -4 -L1 -d time_counter,0,51 SalishSea_TS_Masson.nc SalishSea_Masson_trunc.nc\n",
      "[2014-01-04 14:17] Formed weekly climatology from original SalishSea grided results\n",
      "[2014-01-24 ] Removed Nan's\n",
      "[2014-01-25 18:01 ] Corrected for partial cells\n",
      "[2015-10-19 ] Applied correction to increase deep salinity\n",
      "[2016-01-23] Converted to Reference Salinity\n",
      "title: Modified boundary conditions based on weekly climatolgy from Diane Masson converted to TEOS\n",
      "source: \n",
      "https://bitbucket.org/salishsea/tools/src/tip/I_ForcingFiles/OBC/Improved TS Climatology Western Boundary.ipynb\n",
      "https://bitbucket.org/salishsea/analysys/src/tip/Nancy/strat/comparisons/JuandeFucaBCs.ipynb\n",
      "https://bitbucket.org/salishsea/tools/src/tip/I_ForcingFiles/OBC/TEOSfromPracticalOBC.ipynb\n",
      "comment: \n",
      "Deep salinity (below 150m) increased by a weekly factor for a better match with observed climatologies.\n",
      "Converted to Reference Salinity (TEOS-10)\n",
      "references: \n",
      "https://bitbucket.org/salishsea/nemo-forcing/src/tip/open_boundaries/west/SalishSea2_Masson_corrected.nc\n",
      "https://bitbucket.org/salishsea/nemo-forcing/src/tip/open_boundaries/west/SalishSea_west_TEOS10.nc\n",
      "None\n"
     ]
    }
   ],
   "source": [
    "TEOS_data = nc.Dataset('SalishSea_west_TEOS10.nc', 'r+')\n",
    "print (nc_tools.show_variable_attrs(TEOS_data))\n",
    "print (nc_tools.show_dataset_attrs(TEOS_data))"
   ]
  },
  {
   "cell_type": "code",
   "execution_count": 5,
   "metadata": {
    "collapsed": false
   },
   "outputs": [
    {
     "name": "stdout",
     "output_type": "stream",
     "text": [
      "32.0997 32.2510379458\n"
     ]
    }
   ],
   "source": [
    "print (practical_salinity[26,20,0,40],teos_tools.psu_teos(practical_salinity[26,20,0,40]))"
   ]
  },
  {
   "cell_type": "code",
   "execution_count": 6,
   "metadata": {
    "collapsed": false
   },
   "outputs": [],
   "source": [
    "ref_sal = np.zeros_like(practical_salinity)\n",
    "ref_sal = teos_tools.psu_teos(practical_salinity)"
   ]
  },
  {
   "cell_type": "code",
   "execution_count": 7,
   "metadata": {
    "collapsed": false
   },
   "outputs": [
    {
     "name": "stdout",
     "output_type": "stream",
     "text": [
      "1.00472\n"
     ]
    },
    {
     "data": {
      "image/png": "[encoded data removed]",
      "text/plain": [
       "<matplotlib.figure.Figure at 0x7facdc4dfef0>"
      ]
     },
     "metadata": {},
     "output_type": "display_data"
    }
   ],
   "source": [
    "fig, ax = plt.subplots(1,3,figsize=(15,5))\n",
    "i = 26; k=0; l1=0; l2=87\n",
    "ax[0].pcolormesh(practical_salinity[i,:,k,l1:l2])\n",
    "ax[0].set_title('Practical Salinity')\n",
    "ax[1].pcolormesh(ref_sal[i,:,k,l1:l2])\n",
    "ax[1].set_title('Reference Salinity')\n",
    "ax[2].pcolormesh(ref_sal[i,:,k,l1:l2]/practical_salinity[i,:,k,l1:l2])\n",
    "ax[2].set_title('Ratio')\n",
    "print (ref_sal[i,10,k,42]/practical_salinity[i,10,k,42])"
   ]
  },
  {
   "cell_type": "code",
   "execution_count": 8,
   "metadata": {
    "collapsed": true
   },
   "outputs": [],
   "source": [
    "vosaline = TEOS_data.variables['vosaline']\n",
    "vosaline[:] = ref_sal"
   ]
  },
  {
   "cell_type": "code",
   "execution_count": 9,
   "metadata": {
    "collapsed": false
   },
   "outputs": [],
   "source": [
    "TEOS_data.close()"
   ]
  },
  {
   "cell_type": "code",
   "execution_count": null,
   "metadata": {
    "collapsed": true
   },
   "outputs": [],
   "source": []
  }
 ],
 "metadata": {
  "kernelspec": {
   "display_name": "Python 3",
   "language": "python",
   "name": "python3"
  },
  "language_info": {
   "codemirror_mode": {
    "name": "ipython",
    "version": 3
   },
   "file_extension": ".py",
   "mimetype": "text/x-python",
   "name": "python",
   "nbconvert_exporter": "python",
   "pygments_lexer": "ipython3",
   "version": "3.5.0"
  }
 },
 "nbformat": 4,
 "nbformat_minor": 0
}
