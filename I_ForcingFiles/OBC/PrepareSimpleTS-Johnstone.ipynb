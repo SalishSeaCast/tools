{
 "cells": [
  {
   "cell_type": "markdown",
   "metadata": {},
   "source": [
    "Notebook to prepare simple OBC files for T&S for Johnstone Strait from Thomson, 1981 (The book)\n",
    "\n",
    "Corrected to Full Depth 2015-12-30\n",
    "Corrected to Make Depth levels uniform 2016-03-12 (this ignores partial steps)"
   ]
  },
  {
   "cell_type": "code",
   "execution_count": 26,
   "metadata": {
    "collapsed": false
   },
   "outputs": [],
   "source": [
    "%matplotlib inline\n",
    "import matplotlib.pyplot as plt\n",
    "import numpy as np\n",
    "import netCDF4 as NC\n",
    "from salishsea_tools import nc_tools\n",
    "from salishsea_tools import teos_tools\n"
   ]
  },
  {
   "cell_type": "markdown",
   "metadata": {},
   "source": [
    "For tracer fields, (T,S) use bathymetry file"
   ]
  },
  {
   "cell_type": "code",
   "execution_count": 3,
   "metadata": {
    "collapsed": false
   },
   "outputs": [
    {
     "name": "stdout",
     "output_type": "stream",
     "text": [
      "(898, 398)\n"
     ]
    }
   ],
   "source": [
    "fB = NC.Dataset('../../../nemo-forcing/grid/bathy_meter_SalishSea2.nc','r')\n",
    "D = fB.variables['Bathymetry'][:]\n",
    "lat = fB.variables['nav_lat'][:]\n",
    "print (lat.shape)\n",
    "lon = fB.variables['nav_lon'][:]"
   ]
  },
  {
   "cell_type": "markdown",
   "metadata": {},
   "source": [
    "For depth we use nominal depths"
   ]
  },
  {
   "cell_type": "code",
   "execution_count": 8,
   "metadata": {
    "collapsed": true
   },
   "outputs": [],
   "source": [
    "fT = NC.Dataset('/results/SalishSea/nowcast/01jan16/SalishSea_1d_20160101_20160101_grid_T.nc')\n",
    "depths = fT.variables['deptht'][:]"
   ]
  },
  {
   "cell_type": "markdown",
   "metadata": {},
   "source": [
    "Construct our temperature and salinity profiles from plots 12.3 and 12.4 and description in text.    \n",
    "   Temperature: winter, 7 degrees  text description   \n",
    "   Temperature: summer, 9 degrees  text description   \n",
    "   If I put these in as two numbers, it will use 7 as end of March and 9 as end of September.... good enough   \n",
    "   Salinity: surface 30 to 31.5 at 100 m 31.5 to 32 at 325 m   \n",
    "   (note, the 30 comes from the text, figure is 31 at surface)"
   ]
  },
  {
   "cell_type": "markdown",
   "metadata": {},
   "source": [
    "From JohnstoneStraitBoundary where we characterized the nothern boundary we know our startj and endj values."
   ]
  },
  {
   "cell_type": "code",
   "execution_count": 4,
   "metadata": {
    "collapsed": false
   },
   "outputs": [],
   "source": [
    "starti = 32\n",
    "endi = 62\n",
    "lengthi = endi-starti"
   ]
  },
  {
   "cell_type": "markdown",
   "metadata": {},
   "source": [
    "Make boundary 10 wide (to follow AMM12)"
   ]
  },
  {
   "cell_type": "code",
   "execution_count": 5,
   "metadata": {
    "collapsed": false
   },
   "outputs": [],
   "source": [
    "r = 10"
   ]
  },
  {
   "cell_type": "markdown",
   "metadata": {},
   "source": [
    "Open and make our file for TS"
   ]
  },
  {
   "cell_type": "code",
   "execution_count": 11,
   "metadata": {
    "collapsed": false
   },
   "outputs": [
    {
     "name": "stdout",
     "output_type": "stream",
     "text": [
      "file format: NETCDF4\n",
      "Conventions: CF-1.6\n",
      "title: Simple Temperature & Salinity Boundary Conditions for Northern Boundary\n",
      "institution: Dept of Earth, Ocean & Atmospheric Sciences, University of British Columbia\n",
      "source: https://bitbucket.org/salishsea/tools/src/tip/PrepareSimpleTS-Johnstone.ipynb\n",
      "references: https://bitbucket.org/salishsea/nemo-forcing/src/tip/open_boundaries/north/SalishSea2_North_tra.nc\n",
      "history: [2016-03-12 11:36:17] Created netCDF4 zlib=True dataset.\n",
      "comment: Rough T & S data from Thomson 1981, extended full-depth, no partial steps\n"
     ]
    }
   ],
   "source": [
    "nemo = NC.Dataset('SalishSea2_North_tra.nc', 'w', zlib=True)\n",
    "\n",
    "# dataset attributes\n",
    "nc_tools.init_dataset_attrs(\n",
    "    nemo, \n",
    "    title='Simple Temperature & Salinity Boundary Conditions for Northern Boundary', \n",
    "    notebook_name='PrepareSimpleTS-Johnstone', \n",
    "    nc_filepath='../../../nemo-forcing/open_boundaries/north/SalishSea2_North_tra.nc',\n",
    "    comment='Rough T & S data from Thomson 1981, extended full-depth, no partial steps') \n",
    "\n",
    "# dimensions\n",
    "nemo.createDimension('xbT', lengthi*r)\n",
    "nemo.createDimension('yb', 1)\n",
    "nemo.createDimension('deptht',size = len(depths))\n",
    "nemo.createDimension('time_counter', None)\n",
    "\n",
    "# variables\n",
    "# deptht\n",
    "deptht = nemo.createVariable('deptht', 'float32', ('deptht',))\n",
    "deptht.long_name = 'Vertical T Levels'\n",
    "deptht.units = 'm'\n",
    "deptht.positive = 'down'\n",
    "deptht.valid_range = np.array((4., 428.))\n",
    "# time_counter\n",
    "time_counter = nemo.createVariable('time_counter', 'float32', ('time_counter'))\n",
    "time_counter.long_name = 'Time axis'\n",
    "time_counter.axis = 'T'\n",
    "time_counter.units = 'half years'\n",
    "# nav_lat and nav_lon\n",
    "nav_lat = nemo.createVariable('nav_lat','float32',('yb','xbT'))\n",
    "nav_lat.long_name = 'Latitude'\n",
    "nav_lat.units = 'degrees_north'\n",
    "nav_lon = nemo.createVariable('nav_lon','float32',('yb','xbT'))\n",
    "nav_lon.long_name = 'Longitude'\n",
    "nav_lon.units = 'degrees_east'\n",
    "# votemper\n",
    "votemper = nemo.createVariable('votemper', 'float32', \n",
    "                               ('time_counter','deptht','yb','xbT'))\n",
    "votemper.units = 'degC'\n",
    "votemper.long_name = 'Temperature'   \n",
    "votemper.coordinates = 'nav_lon nav_lat deptht time_counter'\n",
    "votemper.grid = 'SalishSea2'\n",
    "# vosaline\n",
    "\n",
    "vosaline = nemo.createVariable('vosaline', 'float32', \n",
    "                               ('time_counter','deptht','yb','xbT'))\n",
    "vosaline.units = 1\n",
    "vosaline.long_name = 'Practical Salinity'  \n",
    "vosaline.coordinates = 'nav_lon nav_lat deptht time_counter'\n",
    "vosaline.grid = 'SalishSea2'\n",
    "# nbidta, ndjdta, ndrdta\n",
    "nbidta = nemo.createVariable('nbidta', 'int32' , ('yb','xbT'))\n",
    "nbidta.long_name = 'i grid position'\n",
    "nbidta.units = 1\n",
    "nbjdta = nemo.createVariable('nbjdta', 'int32' , ('yb','xbT'))\n",
    "nbjdta.long_name = 'j grid position'\n",
    "nbjdta.units = 1\n",
    "nbrdta = nemo.createVariable('nbrdta', 'int32' , ('yb','xbT'))\n",
    "nbrdta.long_name = 'position from boundary'\n",
    "nbrdta.units = 1"
   ]
  },
  {
   "cell_type": "code",
   "execution_count": 12,
   "metadata": {
    "collapsed": false
   },
   "outputs": [
    {
     "name": "stdout",
     "output_type": "stream",
     "text": [
      "[895 895 895 895 895 895 895 895 895 895 895 895 895 895 895 895 895 895\n",
      " 895 895 895 895 895 895 895 895 895 895 895 895]\n"
     ]
    }
   ],
   "source": [
    "# values\n",
    "# depths, time counter\n",
    "deptht[:] = depths\n",
    "time_counter[0:2] = range(0,2)\n",
    "# nav_lat, nav_lon, nbidta, nbjdta\n",
    "for ir in range(0,r):\n",
    "    j = 896-ir\n",
    "    nav_lat[0,ir*lengthi:(ir+1)*lengthi] = lat[j,starti:endi]\n",
    "    nav_lon[0,ir*lengthi:(ir+1)*lengthi] = lon[j,starti:endi]\n",
    "    nbidta[0,ir*lengthi:(ir+1)*lengthi] = range(starti,endi)\n",
    "    nbjdta[0,ir*lengthi:(ir+1)*lengthi] = j\n",
    "    nbrdta[0,ir*lengthi:(ir+1)*lengthi] = ir\n",
    "print (nbjdta[0,lengthi:lengthi*2])"
   ]
  },
  {
   "cell_type": "code",
   "execution_count": 14,
   "metadata": {
    "collapsed": false
   },
   "outputs": [
    {
     "name": "stdout",
     "output_type": "stream",
     "text": [
      "(2, 40, 1, 300)\n"
     ]
    }
   ],
   "source": [
    "# votemper\n",
    "print (votemper.shape)\n",
    "t=0\n",
    "for ib in range(0,lengthi*r):\n",
    "    votemper[t,:,0,ib] = 7.0\n",
    "t=1\n",
    "for ib in range(0,lengthi*r):\n",
    "    votemper[t,:,0,ib] = 9.0    "
   ]
  },
  {
   "cell_type": "code",
   "execution_count": 15,
   "metadata": {
    "collapsed": false
   },
   "outputs": [
    {
     "name": "stdout",
     "output_type": "stream",
     "text": [
      "(2, 40, 1, 300)\n"
     ]
    }
   ],
   "source": [
    "# vosaline\n",
    "print (vosaline.shape)\n",
    "t = 0\n",
    "for ib in range(0, lengthi*r):\n",
    "    vosaline[t, 0, 0, ib] = 30.\n",
    "    for d in range(1,40):\n",
    "        if depths[d] < 100:\n",
    "            vosaline[t,d,0,ib] = 30. + 1.5*depths[d]/100.\n",
    "        else:\n",
    "            vosaline[t,d,0,ib] = 31.5 + 0.5*(depths[d]-100.)/225.\n",
    "vosaline[1] = vosaline[0]"
   ]
  },
  {
   "cell_type": "code",
   "execution_count": 16,
   "metadata": {
    "collapsed": false
   },
   "outputs": [
    {
     "data": {
      "text/plain": [
       "<matplotlib.colorbar.Colorbar at 0x7f7e98551a90>"
      ]
     },
     "execution_count": 16,
     "metadata": {},
     "output_type": "execute_result"
    },
    {
     "data": {
      "image/png": "[encoded data removed]",
      "text/plain": [
       "<matplotlib.figure.Figure at 0x7f7e985bcc18>"
      ]
     },
     "metadata": {},
     "output_type": "display_data"
    }
   ],
   "source": [
    "plt.figure(figsize=(15,4))\n",
    "plt.pcolormesh(vosaline[0,:,0])\n",
    "plt.colorbar()"
   ]
  },
  {
   "cell_type": "code",
   "execution_count": 17,
   "metadata": {
    "collapsed": false
   },
   "outputs": [
    {
     "data": {
      "text/plain": [
       "<matplotlib.colorbar.Colorbar at 0x7f7e98413be0>"
      ]
     },
     "execution_count": 17,
     "metadata": {},
     "output_type": "execute_result"
    },
    {
     "data": {
      "image/png": "[encoded data removed]",
      "text/plain": [
       "<matplotlib.figure.Figure at 0x7f7e984a1d68>"
      ]
     },
     "metadata": {},
     "output_type": "display_data"
    }
   ],
   "source": [
    "plt.figure(figsize=(15,4))\n",
    "plt.pcolormesh(votemper[0,:,0])\n",
    "plt.colorbar()"
   ]
  },
  {
   "cell_type": "code",
   "execution_count": 18,
   "metadata": {
    "collapsed": false
   },
   "outputs": [
    {
     "data": {
      "text/plain": [
       "<matplotlib.colorbar.Colorbar at 0x7f7e97be3048>"
      ]
     },
     "execution_count": 18,
     "metadata": {},
     "output_type": "execute_result"
    },
    {
     "data": {
      "image/png": "[encoded data removed]",
      "text/plain": [
       "<matplotlib.figure.Figure at 0x7f7e98491cc0>"
      ]
     },
     "metadata": {},
     "output_type": "display_data"
    }
   ],
   "source": [
    "ir = 2\n",
    "plt.figure(figsize=(6,4))\n",
    "plt.pcolormesh(vosaline[0,:,0,ir*lengthi:(ir+1)*lengthi],vmax=32,vmin=28)\n",
    "plt.colorbar()"
   ]
  },
  {
   "cell_type": "code",
   "execution_count": 19,
   "metadata": {
    "collapsed": false
   },
   "outputs": [],
   "source": [
    "nemo.history = \"\"\"\n",
    "[2014-02-02 18:26] Created\n",
    "[2014-03-18 16:10] grid point fixed (fortran/python)\n",
    "[2015-12-30 13:48] Extended salinity downwards to all depths\n",
    "[2016-03-12 11:40] uniform salinity (partial steps ignored)\n",
    "\"\"\""
   ]
  },
  {
   "cell_type": "code",
   "execution_count": 20,
   "metadata": {
    "collapsed": false
   },
   "outputs": [],
   "source": [
    "nc_tools.check_dataset_attrs(nemo)"
   ]
  },
  {
   "cell_type": "code",
   "execution_count": 21,
   "metadata": {
    "collapsed": false
   },
   "outputs": [],
   "source": [
    "# and close\n",
    "nemo.close()"
   ]
  },
  {
   "cell_type": "markdown",
   "metadata": {},
   "source": [
    "And do it again for TEOS-10"
   ]
  },
  {
   "cell_type": "code",
   "execution_count": 22,
   "metadata": {
    "collapsed": false
   },
   "outputs": [
    {
     "name": "stdout",
     "output_type": "stream",
     "text": [
      "file format: NETCDF4\n",
      "Conventions: CF-1.6\n",
      "title: Simple Temperature & Salinity Boundary Conditions for Northern Boundary\n",
      "institution: Dept of Earth, Ocean & Atmospheric Sciences, University of British Columbia\n",
      "source: https://bitbucket.org/salishsea/tools/src/tip/PrepareSimpleTS-Johnstone.ipynb\n",
      "references: https://bitbucket.org/salishsea/nemo-forcing/src/tip/open_boundaries/north/SalishSea_north_TEOS10.nc\n",
      "history: [2016-03-12 11:57:40] Created netCDF4 zlib=True dataset.\n",
      "comment: Rough T & S data from Thomson 1981, extended full-depth, no partial steps, TEOS10\n"
     ]
    }
   ],
   "source": [
    "nemoTEOS = NC.Dataset('SalishSea_north_TEOS10.nc', 'w', zlib=True)\n",
    "\n",
    "# dataset attributes\n",
    "nc_tools.init_dataset_attrs(\n",
    "    nemo, \n",
    "    title='Simple Temperature & Salinity Boundary Conditions for Northern Boundary', \n",
    "    notebook_name='PrepareSimpleTS-Johnstone', \n",
    "    nc_filepath='../../../nemo-forcing/open_boundaries/north/SalishSea_north_TEOS10.nc',\n",
    "    comment='Rough T & S data from Thomson 1981, extended full-depth, no partial steps, TEOS10') \n",
    "\n",
    "# dimensions\n",
    "nemo.createDimension('xbT', lengthi*r)\n",
    "nemo.createDimension('yb', 1)\n",
    "nemo.createDimension('deptht',size = len(depths))\n",
    "nemo.createDimension('time_counter', None)\n",
    "\n",
    "# variables\n",
    "# deptht\n",
    "deptht = nemo.createVariable('deptht', 'float32', ('deptht',))\n",
    "deptht.long_name = 'Vertical T Levels'\n",
    "deptht.units = 'm'\n",
    "deptht.positive = 'down'\n",
    "deptht.valid_range = np.array((4., 428.))\n",
    "# time_counter\n",
    "time_counter = nemo.createVariable('time_counter', 'float32', ('time_counter'))\n",
    "time_counter.long_name = 'Time axis'\n",
    "time_counter.axis = 'T'\n",
    "time_counter.units = 'half years'\n",
    "# nav_lat and nav_lon\n",
    "nav_lat = nemo.createVariable('nav_lat','float32',('yb','xbT'))\n",
    "nav_lat.long_name = 'Latitude'\n",
    "nav_lat.units = 'degrees_north'\n",
    "nav_lon = nemo.createVariable('nav_lon','float32',('yb','xbT'))\n",
    "nav_lon.long_name = 'Longitude'\n",
    "nav_lon.units = 'degrees_east'\n",
    "# votemper\n",
    "votemper = nemo.createVariable('votemper', 'float32', \n",
    "                               ('time_counter','deptht','yb','xbT'))\n",
    "votemper.units = 'degC'\n",
    "votemper.long_name = 'Temperature'   \n",
    "votemper.coordinates = 'nav_lon nav_lat deptht time_counter'\n",
    "votemper.grid = 'SalishSea2'\n",
    "# vosaline\n",
    "\n",
    "vosaline = nemo.createVariable('vosaline', 'float32', \n",
    "                               ('time_counter','deptht','yb','xbT'))\n",
    "vosaline.units = 1\n",
    "vosaline.long_name = 'Practical Salinity'  \n",
    "vosaline.coordinates = 'nav_lon nav_lat deptht time_counter'\n",
    "vosaline.grid = 'SalishSea2'\n",
    "# nbidta, ndjdta, ndrdta\n",
    "nbidta = nemo.createVariable('nbidta', 'int32' , ('yb','xbT'))\n",
    "nbidta.long_name = 'i grid position'\n",
    "nbidta.units = 1\n",
    "nbjdta = nemo.createVariable('nbjdta', 'int32' , ('yb','xbT'))\n",
    "nbjdta.long_name = 'j grid position'\n",
    "nbjdta.units = 1\n",
    "nbrdta = nemo.createVariable('nbrdta', 'int32' , ('yb','xbT'))\n",
    "nbrdta.long_name = 'position from boundary'\n",
    "nbrdta.units = 1"
   ]
  },
  {
   "cell_type": "code",
   "execution_count": 23,
   "metadata": {
    "collapsed": false
   },
   "outputs": [
    {
     "name": "stdout",
     "output_type": "stream",
     "text": [
      "[895 895 895 895 895 895 895 895 895 895 895 895 895 895 895 895 895 895\n",
      " 895 895 895 895 895 895 895 895 895 895 895 895]\n"
     ]
    }
   ],
   "source": [
    "# values\n",
    "# depths, time counter\n",
    "deptht[:] = depths\n",
    "time_counter[0:2] = range(0,2)\n",
    "# nav_lat, nav_lon, nbidta, nbjdta\n",
    "for ir in range(0,r):\n",
    "    j = 896-ir\n",
    "    nav_lat[0,ir*lengthi:(ir+1)*lengthi] = lat[j,starti:endi]\n",
    "    nav_lon[0,ir*lengthi:(ir+1)*lengthi] = lon[j,starti:endi]\n",
    "    nbidta[0,ir*lengthi:(ir+1)*lengthi] = range(starti,endi)\n",
    "    nbjdta[0,ir*lengthi:(ir+1)*lengthi] = j\n",
    "    nbrdta[0,ir*lengthi:(ir+1)*lengthi] = ir\n",
    "print (nbjdta[0,lengthi:lengthi*2])"
   ]
  },
  {
   "cell_type": "code",
   "execution_count": 24,
   "metadata": {
    "collapsed": false
   },
   "outputs": [
    {
     "name": "stdout",
     "output_type": "stream",
     "text": [
      "(2, 40, 1, 300)\n"
     ]
    }
   ],
   "source": [
    "# votemper\n",
    "print (votemper.shape)\n",
    "t=0\n",
    "for ib in range(0,lengthi*r):\n",
    "    votemper[t,:,0,ib] = 7.0\n",
    "t=1\n",
    "for ib in range(0,lengthi*r):\n",
    "    votemper[t,:,0,ib] = 9.0    "
   ]
  },
  {
   "cell_type": "code",
   "execution_count": 27,
   "metadata": {
    "collapsed": false
   },
   "outputs": [
    {
     "name": "stdout",
     "output_type": "stream",
     "text": [
      "(2, 40, 1, 300)\n"
     ]
    }
   ],
   "source": [
    "# vosaline : TEOS 10 converted\n",
    "print (vosaline.shape)\n",
    "t = 0\n",
    "for ib in range(0, lengthi*r):\n",
    "    vosaline[t, 0, 0, ib] = teos_tools.psu_teos(30.)\n",
    "    for d in range(1,40):\n",
    "        if depths[d] < 100:\n",
    "            vosaline[t,d,0,ib] = teos_tools.psu_teos(30. + 1.5*depths[d]/100.)\n",
    "        else:\n",
    "            vosaline[t,d,0,ib] = teos_tools.psu_teos(31.5 + 0.5*(depths[d]-100.)/225.)\n",
    "vosaline[1] = vosaline[0]"
   ]
  },
  {
   "cell_type": "code",
   "execution_count": 28,
   "metadata": {
    "collapsed": false
   },
   "outputs": [
    {
     "data": {
      "text/plain": [
       "<matplotlib.colorbar.Colorbar at 0x7f7e9808c518>"
      ]
     },
     "execution_count": 28,
     "metadata": {},
     "output_type": "execute_result"
    },
    {
     "data": {
      "image/png": "[encoded data removed]",
      "text/plain": [
       "<matplotlib.figure.Figure at 0x7f7e985b1be0>"
      ]
     },
     "metadata": {},
     "output_type": "display_data"
    }
   ],
   "source": [
    "plt.figure(figsize=(15,4))\n",
    "plt.pcolormesh(vosaline[0,:,0])\n",
    "plt.colorbar()"
   ]
  },
  {
   "cell_type": "code",
   "execution_count": 29,
   "metadata": {
    "collapsed": false
   },
   "outputs": [],
   "source": [
    "nemo.history = \"\"\"\n",
    "[2014-02-02 18:26] Created\n",
    "[2014-03-18 16:10] grid point fixed (fortran/python)\n",
    "[2015-12-30 13:48] Extended salinity downwards to all depths\n",
    "[2016-03-12 11:40] uniform salinity (partial steps ignored)\n",
    "[2016-02-12 11:56] convert to TEOS-10\n",
    "\"\"\""
   ]
  },
  {
   "cell_type": "code",
   "execution_count": 30,
   "metadata": {
    "collapsed": true
   },
   "outputs": [],
   "source": [
    "# and close\n",
    "nemo.close()"
   ]
  },
  {
   "cell_type": "code",
   "execution_count": null,
   "metadata": {
    "collapsed": true
   },
   "outputs": [],
   "source": []
  }
 ],
 "metadata": {
  "kernelspec": {
   "display_name": "Python 3",
   "language": "python",
   "name": "python3"
  },
  "language_info": {
   "codemirror_mode": {
    "name": "ipython",
    "version": 3
   },
   "file_extension": ".py",
   "mimetype": "text/x-python",
   "name": "python",
   "nbconvert_exporter": "python",
   "pygments_lexer": "ipython3",
   "version": "3.5.0"
  }
 },
 "nbformat": 4,
 "nbformat_minor": 0
}
