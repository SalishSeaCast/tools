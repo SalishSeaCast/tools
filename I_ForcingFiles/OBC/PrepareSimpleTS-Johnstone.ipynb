{
 "metadata": {
  "name": ""
 },
 "nbformat": 3,
 "nbformat_minor": 0,
 "worksheets": [
  {
   "cells": [
    {
     "cell_type": "markdown",
     "metadata": {},
     "source": [
      "Notebook to prepare simple OBC files for T&S for Johnstone Strait from Thomson, 1981 (The book)"
     ]
    },
    {
     "cell_type": "code",
     "collapsed": false,
     "input": [
      "%matplotlib inline\n",
      "import matplotlib.pyplot as plt\n",
      "import numpy as np\n",
      "import netCDF4 as NC\n",
      "from salishsea_tools import nc_tools"
     ],
     "language": "python",
     "metadata": {},
     "outputs": [],
     "prompt_number": 1
    },
    {
     "cell_type": "markdown",
     "metadata": {},
     "source": [
      "For tracer fields, (T,S) use bathymetry file"
     ]
    },
    {
     "cell_type": "code",
     "collapsed": false,
     "input": [
      "fB = NC.Dataset('../../../nemo-forcing/grid/bathy_meter_SalishSea2.nc','r')\n",
      "D = fB.variables['Bathymetry'][:]\n",
      "lat = fB.variables['nav_lat'][:]\n",
      "print lat.shape\n",
      "lon = fB.variables['nav_lon'][:]"
     ],
     "language": "python",
     "metadata": {},
     "outputs": [
      {
       "output_type": "stream",
       "stream": "stdout",
       "text": [
        "(898, 398)\n"
       ]
      }
     ],
     "prompt_number": 2
    },
    {
     "cell_type": "markdown",
     "metadata": {},
     "source": [
      "For depth we need the real depth, use the file Doug created."
     ]
    },
    {
     "cell_type": "code",
     "collapsed": false,
     "input": [
      "fT = NC.Dataset('../../../nemo-forcing/grid/grid_bathy.nc')\n",
      "nc_tools.show_dataset_attrs(fT)\n",
      "deptht = fT.variables['deptht']\n",
      "depth_out = deptht[:]\n",
      "depths = fT.variables['grid_bathy']\n",
      "depth = depths[:]\n",
      "depth[:,:,0] = depth[:,:,1]\n",
      "depth[:,897,:] = depth[:,896,:]\n",
      "print depth.shape"
     ],
     "language": "python",
     "metadata": {},
     "outputs": [
      {
       "output_type": "stream",
       "stream": "stdout",
       "text": [
        "file format: NETCDF4\n",
        "Conventions: CF-1.6\n",
        "title: NEMO z-partial-step Grid Level Depths\n",
        "institution: Dept of Earth, Ocean & Atmospheric Sciences, University of British Columbia\n",
        "source: https://bitbucket.org/salishsea/tools/src/tip/bathymetry/NEMO-GridBathy.ipynb\n",
        "references: https://bitbucket.org/salishsea/nemo-forcing/src/tip/grid/grid_bathy.nc\n",
        "history: [2014-01-14 13:53:09] Created netCDF4 zlib=True dataset.\n",
        "comment: Calculated by a 1-step NEMO run.\n",
        "(40, 898, 398)"
       ]
      },
      {
       "output_type": "stream",
       "stream": "stdout",
       "text": [
        "\n"
       ]
      }
     ],
     "prompt_number": 3
    },
    {
     "cell_type": "markdown",
     "metadata": {},
     "source": [
      "Construct our temperature and salinity profiles from plots 12.3 and 12.4 and description in text.    \n",
      "   Temperature: winter, 7 degrees  text description   \n",
      "   Temperature: summer, 9 degrees  text description   \n",
      "   If I put these in as two numbers, it will use 7 as end of March and 9 as end of September.... good enough   \n",
      "   Salinity: surface 30 to 31.5 at 100 m 31.5 to 32 at 325 m   \n",
      "   (note, the 30 comes from the text, figure is 31 at surface)"
     ]
    },
    {
     "cell_type": "markdown",
     "metadata": {},
     "source": [
      "From JohnstoneStraitBoundary where we characterized the nothern boundary we know our startj and endj values."
     ]
    },
    {
     "cell_type": "code",
     "collapsed": false,
     "input": [
      "starti = 32\n",
      "endi = 62\n",
      "lengthi = endi-starti"
     ],
     "language": "python",
     "metadata": {},
     "outputs": [],
     "prompt_number": 4
    },
    {
     "cell_type": "markdown",
     "metadata": {},
     "source": [
      "Make boundary 10 wide (to follow AMM12)"
     ]
    },
    {
     "cell_type": "code",
     "collapsed": false,
     "input": [
      "r = 10"
     ],
     "language": "python",
     "metadata": {},
     "outputs": [],
     "prompt_number": 5
    },
    {
     "cell_type": "markdown",
     "metadata": {},
     "source": [
      "Open and make our file for TS"
     ]
    },
    {
     "cell_type": "code",
     "collapsed": false,
     "input": [
      "nemo = NC.Dataset('SalishSea2_North_tra.nc', 'w', zlib=True)\n",
      "\n",
      "# dataset attributes\n",
      "nc_tools.init_dataset_attrs(\n",
      "    nemo, \n",
      "    title='Simple Temperature & Salinity Boundary Conditions for Northern Boundary', \n",
      "    notebook_name='PrepareSimpleTS-Johnstone', \n",
      "    nc_filepath='../../../nemo-forcing/open_boundaries/north/SalishSea2_North_tra.nc',\n",
      "    comment='Rough T & S data from Thomson 1981') \n",
      "\n",
      "# dimensions\n",
      "nemo.createDimension('xbT', lengthi*r)\n",
      "nemo.createDimension('yb', 1)\n",
      "nemo.createDimension('deptht',size = len(depth_out))\n",
      "nemo.createDimension('time_counter', None)\n",
      "\n",
      "# variables\n",
      "# deptht\n",
      "deptht = nemo.createVariable('deptht', 'float32', ('deptht',))\n",
      "deptht.long_name = 'Vertical T Levels'\n",
      "deptht.units = 'm'\n",
      "deptht.positive = 'down'\n",
      "deptht.valid_range = np.array((4., 428.))\n",
      "# time_counter\n",
      "time_counter = nemo.createVariable('time_counter', 'float32', ('time_counter'))\n",
      "time_counter.long_name = 'Time axis'\n",
      "time_counter.axis = 'T'\n",
      "time_counter.units = 'half years'\n",
      "# nav_lat and nav_lon\n",
      "nav_lat = nemo.createVariable('nav_lat','float32',('yb','xbT'))\n",
      "nav_lat.long_name = 'Latitude'\n",
      "nav_lat.units = 'degrees_north'\n",
      "nav_lon = nemo.createVariable('nav_lon','float32',('yb','xbT'))\n",
      "nav_lon.long_name = 'Longitude'\n",
      "nav_lon.units = 'degrees_east'\n",
      "# votemper\n",
      "votemper = nemo.createVariable('votemper', 'float32', \n",
      "                               ('time_counter','deptht','yb','xbT'))\n",
      "votemper.units = 'degC'\n",
      "votemper.long_name = 'Temperature'   \n",
      "votemper.coordinates = 'nav_lon nav_lat deptht time_counter'\n",
      "votemper.grid = 'SalishSea2'\n",
      "# vosaline\n",
      "vosaline = nemo.createVariable('vosaline', 'float32', \n",
      "                               ('time_counter','deptht','yb','xbT'))\n",
      "vosaline.units = 1\n",
      "vosaline.long_name = 'Practical Salinity'  \n",
      "vosaline.coordinates = 'nav_lon nav_lat deptht time_counter'\n",
      "vosaline.grid = 'SalishSea2'\n",
      "# nbidta, ndjdta, ndrdta\n",
      "nbidta = nemo.createVariable('nbidta', 'int32' , ('yb','xbT'))\n",
      "nbidta.long_name = 'i grid position'\n",
      "nbidta.units = 1\n",
      "nbjdta = nemo.createVariable('nbjdta', 'int32' , ('yb','xbT'))\n",
      "nbjdta.long_name = 'j grid position'\n",
      "nbjdta.units = 1\n",
      "nbrdta = nemo.createVariable('nbrdta', 'int32' , ('yb','xbT'))\n",
      "nbrdta.long_name = 'position from boundary'\n",
      "nbrdta.units = 1"
     ],
     "language": "python",
     "metadata": {},
     "outputs": [
      {
       "output_type": "stream",
       "stream": "stdout",
       "text": [
        "file format: NETCDF4\n",
        "Conventions: CF-1.6\n",
        "title: Simple Temperature & Salinity Boundary Conditions for Northern Boundary\n",
        "institution: Dept of Earth, Ocean & Atmospheric Sciences, University of British Columbia\n",
        "source: https://bitbucket.org/salishsea/tools/src/tip/PrepareSimpleTS-Johnstone.ipynb\n",
        "references: https://bitbucket.org/salishsea/nemo-forcing/src/tip/open_boundaries/north/SalishSea2_North_tra.nc\n",
        "history: [2014-03-18 15:57:02] Created netCDF4 zlib=True dataset.\n",
        "comment: Rough T & S data from Thomson 1981\n"
       ]
      }
     ],
     "prompt_number": 6
    },
    {
     "cell_type": "code",
     "collapsed": false,
     "input": [
      "# values\n",
      "# depths, time counter\n",
      "deptht[:] = depth_out\n",
      "time_counter[0:2] = range(0,2)\n",
      "# nav_lat, nav_lon, nbidta, nbjdta\n",
      "for ir in range(0,r):\n",
      "    j = 896-ir\n",
      "    nav_lat[0,ir*lengthi:(ir+1)*lengthi] = lat[j,starti:endi]\n",
      "    nav_lon[0,ir*lengthi:(ir+1)*lengthi] = lon[j,starti:endi]\n",
      "    nbidta[0,ir*lengthi:(ir+1)*lengthi] = range(starti,endi)\n",
      "    nbjdta[0,ir*lengthi:(ir+1)*lengthi] = j\n",
      "    nbrdta[0,ir*lengthi:(ir+1)*lengthi] = ir\n",
      "print nbjdta[0,lengthi:lengthi*2]"
     ],
     "language": "python",
     "metadata": {},
     "outputs": [
      {
       "output_type": "stream",
       "stream": "stdout",
       "text": [
        "[895 895 895 895 895 895 895 895 895 895 895 895 895 895 895 895 895 895\n",
        " 895 895 895 895 895 895 895 895 895 895 895 895]\n"
       ]
      }
     ],
     "prompt_number": 12
    },
    {
     "cell_type": "code",
     "collapsed": false,
     "input": [
      "# votemper\n",
      "print votemper.shape\n",
      "t=0\n",
      "for ib in range(0,lengthi*r):\n",
      "    votemper[t,:,0,ib] = 7.0\n",
      "t=1\n",
      "for ib in range(0,lengthi*r):\n",
      "    votemper[t,:,0,ib] = 9.0    "
     ],
     "language": "python",
     "metadata": {},
     "outputs": [
      {
       "output_type": "stream",
       "stream": "stdout",
       "text": [
        "(2, 40, 1, 300)\n"
       ]
      }
     ],
     "prompt_number": 13
    },
    {
     "cell_type": "code",
     "collapsed": false,
     "input": [
      "# vosaline\n",
      "print vosaline.shape\n",
      "t=0\n",
      "for ib in range(0,lengthi*r):\n",
      "    for d in range(0,40):\n",
      "        dep = max(0,depth[d, nbjdta[0,ib], nbidta[0,ib]])\n",
      "        if dep < 100:\n",
      "            vosaline[t,d,0,ib] = 30. + 1.5*dep/100.\n",
      "        else:\n",
      "            vosaline[t,d,0,ib] = 31.5 + 0.5*(dep-100.)/225.\n",
      "vosaline[1] = vosaline[0]"
     ],
     "language": "python",
     "metadata": {},
     "outputs": [
      {
       "output_type": "stream",
       "stream": "stdout",
       "text": [
        "(2, 40, 1, 300)\n"
       ]
      }
     ],
     "prompt_number": 14
    },
    {
     "cell_type": "code",
     "collapsed": false,
     "input": [
      "plt.figure(figsize=(15,40))\n",
      "plt.pcolormesh(vosaline[0,:,0])\n",
      "plt.colorbar()"
     ],
     "language": "python",
     "metadata": {},
     "outputs": [
      {
       "metadata": {},
       "output_type": "pyout",
       "prompt_number": 15,
       "text": [
        "<matplotlib.colorbar.Colorbar instance at 0x10663ee18>"
       ]
      },
      {
       "metadata": {},
       "output_type": "display_data",
       "png": "[encoded data removed]",
       "text": [
        "<matplotlib.figure.Figure at 0x105487910>"
       ]
      }
     ],
     "prompt_number": 15
    },
    {
     "cell_type": "code",
     "collapsed": false,
     "input": [
      "nemo.history = \"\"\"\n",
      "[2014-02-02 18:26] Created\n",
      "[2014-03-18 16:10] grid\n",
      "\"\"\""
     ],
     "language": "python",
     "metadata": {},
     "outputs": [],
     "prompt_number": 15
    },
    {
     "cell_type": "code",
     "collapsed": false,
     "input": [
      "nc_tools.check_dataset_attrs(nemo)"
     ],
     "language": "python",
     "metadata": {},
     "outputs": [],
     "prompt_number": 16
    },
    {
     "cell_type": "code",
     "collapsed": false,
     "input": [
      "# and close\n",
      "nemo.close()"
     ],
     "language": "python",
     "metadata": {},
     "outputs": [],
     "prompt_number": 17
    },
    {
     "cell_type": "code",
     "collapsed": false,
     "input": [],
     "language": "python",
     "metadata": {},
     "outputs": []
    }
   ],
   "metadata": {}
  }
 ]
}