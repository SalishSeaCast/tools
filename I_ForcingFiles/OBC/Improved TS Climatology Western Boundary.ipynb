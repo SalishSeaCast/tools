{
 "cells": [
  {
   "cell_type": "markdown",
   "metadata": {},
   "source": [
    "This notebook is used to improve the salinity of the deep water at the model's western boundary."
   ]
  },
  {
   "cell_type": "code",
   "execution_count": 1,
   "metadata": {
    "collapsed": false
   },
   "outputs": [],
   "source": [
    "import netCDF4 as nc\n",
    "import numpy as np\n",
    "import matplotlib.pyplot as plt\n",
    "import numpy as np\n",
    "import datetime\n",
    "\n",
    "from salishsea_tools import nc_tools\n",
    "%matplotlib inline"
   ]
  },
  {
   "cell_type": "markdown",
   "metadata": {},
   "source": [
    "# Background\n",
    "\n",
    "The notebook below found some discrepancies between the model's western boundary condition, based on climatological values of the Masson BC coast mode, and observed values. \n",
    "\n",
    "http://nbviewer.ipython.org/urls/bitbucket.org/salishsea/analysis/raw/tip/Nancy/strat/comparisons/Another%20look%20at%20JDF%20BCS.ipynb\n",
    "\n",
    "Based on this analysis, we propose a correction to the deep salinity of the open boundary. For each month, we apply the followin correction\n",
    "\n",
    "$S_{new}(t) = S_{old}(t) + ( mean(S_{obs}) - mean(S_{old}) )*1/2(1+\\tanh((z-150)/25))$\n",
    "\n",
    "where the mean represents an average of all the depth-averaged  data points in that month. Depth-averaging is performed over depths 150m and lower.\n",
    "\n",
    "That is\n",
    "\n",
    "$mean(S_{obs}) = 1/N\\sum^N  < S_{obs}>_{150m}$\n",
    "\n",
    "where $<>_{150m}$ means depth-averged below 150m, and $N$ is the number of data points in that month."
   ]
  },
  {
   "cell_type": "markdown",
   "metadata": {},
   "source": [
    "First, copy the boundary conditions file"
   ]
  },
  {
   "cell_type": "code",
   "execution_count": 2,
   "metadata": {
    "collapsed": false
   },
   "outputs": [],
   "source": [
    "! cp /data/nsoontie/MEOPAR/NEMO-forcing/open_boundaries/west/SalishSea2_Masson_DC.nc SalishSea2_Masson_corrected.nc\n",
    "\n",
    "F = nc.Dataset('SalishSea2_Masson_corrected.nc', 'r+')\n",
    "\n"
   ]
  },
  {
   "cell_type": "code",
   "execution_count": 3,
   "metadata": {
    "collapsed": false
   },
   "outputs": [
    {
     "name": "stdout",
     "output_type": "stream",
     "text": [
      "(52, 40, 1, 870)\n"
     ]
    }
   ],
   "source": [
    "sal = F.variables['vosaline'][:]\n",
    "deps = F.variables['deptht']    \n",
    "time = F.variables['time_counter']\n",
    "\n",
    "#times convert to date time\n",
    "start = datetime.datetime(2014,1,1) #arbitrary year.\n",
    "dates = [ start + datetime.timedelta(days = 7*t) for t in time]\n",
    "\n",
    "print(sal.shape)"
   ]
  },
  {
   "cell_type": "markdown",
   "metadata": {},
   "source": [
    "# Corrections\n",
    "\n",
    "a. Construct hyperbolic tanh"
   ]
  },
  {
   "cell_type": "code",
   "execution_count": 4,
   "metadata": {
    "collapsed": false
   },
   "outputs": [
    {
     "data": {
      "image/png": "[encoded data removed]",
      "text/plain": [
       "<matplotlib.figure.Figure at 0x7f7a78b83320>"
      ]
     },
     "metadata": {},
     "output_type": "display_data"
    }
   ],
   "source": [
    "tanh = 1/2*(1+np.tanh((deps[:]-150)/15))\n",
    "plt.plot(tanh,deps)\n",
    "plt.grid()"
   ]
  },
  {
   "cell_type": "code",
   "execution_count": 5,
   "metadata": {
    "collapsed": false
   },
   "outputs": [
    {
     "name": "stdout",
     "output_type": "stream",
     "text": [
      "(1, 40, 1, 1)\n"
     ]
    }
   ],
   "source": [
    "tanh = np.expand_dims(tanh,0)\n",
    "tanh = np.expand_dims(tanh,2)\n",
    "tanh = np.expand_dims(tanh,3)\n",
    "print(tanh.shape)"
   ]
  },
  {
   "cell_type": "markdown",
   "metadata": {},
   "source": [
    "b. Construct monthly correction\n",
    "\n",
    "This is from the notebook, and is translated by hand."
   ]
  },
  {
   "cell_type": "code",
   "execution_count": 6,
   "metadata": {
    "collapsed": true
   },
   "outputs": [],
   "source": [
    "corr = [-0.03356964,  0.3367368,   0.52041384,  0.39891783,  0.41826563,  0.35967722,\n",
    "       0.27993952,  0.27747043,  0.19912566,  0.22870407,  0.21248102, -0.08515805]"
   ]
  },
  {
   "cell_type": "markdown",
   "metadata": {},
   "source": [
    "# Apply correction, month by month"
   ]
  },
  {
   "cell_type": "code",
   "execution_count": 26,
   "metadata": {
    "collapsed": false
   },
   "outputs": [],
   "source": [
    "months = np.arange(1,13)\n",
    "salnew = np.copy(sal)\n",
    "for month in months:\n",
    "    #Look up model dates in the desired month\n",
    "    t_inds = []; \n",
    "    for t,d in enumerate(dates):\n",
    "        if d.month == month:\n",
    "            t_inds.append(t)\n",
    "    if month==12:\n",
    "        corr_factor = 1/3*(corr[month-1] + corr[0] +corr[month-2])\n",
    "    elif month == 1:\n",
    "            corr_factor = 1/3*(corr[month-1] + corr[month] +corr[-1])\n",
    "    else:\n",
    "        corr_factor = 1/3*(corr[month-1] + corr[month]+corr[month-2])\n",
    "    salnew[t_inds,:,:,:] = sal[t_inds,:,:,:] + corr_factor*tanh"
   ]
  },
  {
   "cell_type": "markdown",
   "metadata": {},
   "source": [
    "# Visualize"
   ]
  },
  {
   "cell_type": "code",
   "execution_count": 27,
   "metadata": {
    "collapsed": false
   },
   "outputs": [
    {
     "data": {
      "text/plain": [
       "<matplotlib.text.Text at 0x7f7a74f7d470>"
      ]
     },
     "execution_count": 27,
     "metadata": {},
     "output_type": "execute_result"
    },
    {
     "data": {
      "image/png": "[encoded data removed]",
      "text/plain": [
       "<matplotlib.figure.Figure at 0x7f7a75070908>"
      ]
     },
     "metadata": {},
     "output_type": "display_data"
    }
   ],
   "source": [
    "fig,axs = plt.subplots(1,2,figsize=(10,5))\n",
    "ax=axs[0]\n",
    "mesh = ax.pcolormesh(np.array(dates), deps[:], salnew[:,:,0,0].T,vmin=30,vmax=34)\n",
    "ax.invert_yaxis()\n",
    "plt.colorbar(mesh, ax=ax)\n",
    "ax.set_title('New BCs')\n",
    "ax=axs[1]\n",
    "mesh = ax.pcolormesh(np.array(dates), deps[:], sal[:,:,0,0].T,vmin=30,vmax=34)\n",
    "ax.invert_yaxis()\n",
    "plt.colorbar(mesh, ax=ax)\n",
    "ax.set_title('old BCs')"
   ]
  },
  {
   "cell_type": "code",
   "execution_count": 28,
   "metadata": {
    "collapsed": false
   },
   "outputs": [
    {
     "data": {
      "image/png": "[encoded data removed]",
      "text/plain": [
       "<matplotlib.figure.Figure at 0x7f7a7505f9b0>"
      ]
     },
     "metadata": {},
     "output_type": "display_data"
    }
   ],
   "source": [
    "plt.plot(np.array(dates),salnew[:,30,0,0],label = 'new')\n",
    "plt.plot(np.array(dates), sal[:,30,0,0], label='old')\n",
    "plt.legend()\n",
    "plt.grid()"
   ]
  },
  {
   "cell_type": "markdown",
   "metadata": {},
   "source": [
    "I don't like how choppy this is. I will consider a method for smoothing."
   ]
  },
  {
   "cell_type": "markdown",
   "metadata": {},
   "source": [
    "#Saving"
   ]
  },
  {
   "cell_type": "code",
   "execution_count": 13,
   "metadata": {
    "collapsed": false
   },
   "outputs": [
    {
     "name": "stdout",
     "output_type": "stream",
     "text": [
      "file format: NETCDF4\n",
      "Conventions: CF-1.6\n",
      "institution: Dept of Earth, Ocean & Atmospheric Sciences, University of British Columbia\n",
      "comment: T & S data from Masson\n",
      "NCO: 4.0.9\n",
      "title: \n",
      "Weekly climatology boundary conditions from Masson, depth corrected\n",
      "\n",
      "source: \n",
      "https://bitbucket.org/salishsea/tools/src/tip/I_ForcingFiles/OBC/MakeTSfromMasson.ipynb\n",
      "https://bitbucket.org/salishsea/tools/src/tip/I_ForcingFiles/OBC/MassonClimatology.ipynb\n",
      "https://bitbucket.org/salishsea/tools/src/tip/I_ForcingFiles/OBC/MassonClimDC.ipynb\n",
      "\n",
      "\n",
      "references: \n",
      "https://bitbucket.org/salishsea/nemo-forcing/src/tip/open_boundaries/west/SalishSea2_Masson_DC.nc\n",
      "\n",
      "history: \n",
      "2014-01-03 13:15:17] Created netCDF4 zlib=True dataset.\n",
      "Sat Jan  4 13:05:15 2014: ncks -4 -L1 -d time_counter,0,51 SalishSea_TS_Masson.nc SalishSea_Masson_trunc.nc\n",
      "[2014-01-04 14:17] Formed weekly climatology from original SalishSea grided results\n",
      "[2014-01-24 ] Removed Nan's\n",
      "[2014-01-25 18:01 ] Corrected for partial cells\n",
      "\n",
      "\n"
     ]
    }
   ],
   "source": [
    "nc_tools.show_dataset_attrs(F)"
   ]
  },
  {
   "cell_type": "code",
   "execution_count": 14,
   "metadata": {
    "collapsed": false
   },
   "outputs": [
    {
     "name": "stdout",
     "output_type": "stream",
     "text": [
      "file format: NETCDF4\n",
      "Conventions: CF-1.6\n",
      "institution: Dept of Earth, Ocean & Atmospheric Sciences, University of British Columbia\n",
      "comment: \n",
      "Salinity beloww 150m increased by 0.3311 from SalishSea2_Masson_DC.nc.\n",
      "Salinity above 150m decreased by 0.3311\n",
      "NCO: 4.0.9\n",
      "title: \n",
      "Modified boundary conditions based on weekly climatolgy from Diane Masson\n",
      "\n",
      "source: \n",
      "https://bitbucket.org/salishsea/tools/src/tip/I_ForcingFiles/OBC/Modifications_JDF_Sal.ipynb\n",
      "https://bitbucket.org/salishsea/analysys/src/tip/Nancy/strat/comparisons/JuandeFucaBCs.ipynb\n",
      "\n",
      "references: \n",
      "https://bitbucket.org/salishsea/nemo-forcing/src/tip/open_boundaries/west/SalishSea2_saltier2.nc\n",
      "\n",
      "history: \n",
      "2014-01-03 13:15:17] Created netCDF4 zlib=True dataset.\n",
      "Sat Jan  4 13:05:15 2014: ncks -4 -L1 -d time_counter,0,51 SalishSea_TS_Masson.nc SalishSea_Masson_trunc.nc\n",
      "[2014-01-04 14:17] Formed weekly climatology from original SalishSea grided results\n",
      "[2014-01-24 ] Removed Nan's\n",
      "[2014-01-25 18:01 ] Corrected for partial cells\n",
      "[2015-08-28 ] Increased deep salinity\n",
      "[2015-08-31 ] Decreased surface salinity\n",
      "\n"
     ]
    }
   ],
   "source": [
    "F.title = \"\"\"\n",
    "Modified boundary conditions based on weekly climatolgy from Diane Masson\n",
    "\"\"\"\n",
    "F.source = \"\"\"\n",
    "https://bitbucket.org/salishsea/tools/src/tip/I_ForcingFiles/OBC/Modifications_JDF_Sal.ipynb\n",
    "https://bitbucket.org/salishsea/analysys/src/tip/Nancy/strat/comparisons/JuandeFucaBCs.ipynb\n",
    "\"\"\"\n",
    "\n",
    "F.comment = \"\"\"\n",
    "Salinity beloww 150m increased by 0.3311 from SalishSea2_Masson_DC.nc.\n",
    "Salinity above 150m decreased by 0.3311\"\"\" \n",
    "F.references = \"\"\"\n",
    "https://bitbucket.org/salishsea/nemo-forcing/src/tip/open_boundaries/west/SalishSea2_saltier2.nc\n",
    "\"\"\"\n",
    "F.history = \"\"\"\n",
    "2014-01-03 13:15:17] Created netCDF4 zlib=True dataset.\n",
    "Sat Jan  4 13:05:15 2014: ncks -4 -L1 -d time_counter,0,51 SalishSea_TS_Masson.nc SalishSea_Masson_trunc.nc\n",
    "[2014-01-04 14:17] Formed weekly climatology from original SalishSea grided results\n",
    "[2014-01-24 ] Removed Nan's\n",
    "[2014-01-25 18:01 ] Corrected for partial cells\n",
    "[2015-08-28 ] Increased deep salinity\n",
    "[2015-08-31 ] Decreased surface salinity\n",
    "\"\"\"\n",
    "nc_tools.show_dataset_attrs(F)\n",
    " "
   ]
  },
  {
   "cell_type": "code",
   "execution_count": 15,
   "metadata": {
    "collapsed": true
   },
   "outputs": [],
   "source": [
    "F.close()"
   ]
  },
  {
   "cell_type": "code",
   "execution_count": null,
   "metadata": {
    "collapsed": true
   },
   "outputs": [],
   "source": []
  }
 ],
 "metadata": {
  "kernelspec": {
   "display_name": "Python 3",
   "language": "python",
   "name": "python3"
  },
  "language_info": {
   "codemirror_mode": {
    "name": "ipython",
    "version": 3
   },
   "file_extension": ".py",
   "mimetype": "text/x-python",
   "name": "python",
   "nbconvert_exporter": "python",
   "pygments_lexer": "ipython3",
   "version": "3.4.3"
  }
 },
 "nbformat": 4,
 "nbformat_minor": 0
}
