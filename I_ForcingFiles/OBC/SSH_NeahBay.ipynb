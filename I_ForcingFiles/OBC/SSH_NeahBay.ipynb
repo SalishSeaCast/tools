{
 "cells": [
  {
   "cell_type": "markdown",
   "metadata": {},
   "source": [
    "This notebook creates daily forcing files for the sea surface height (hourly frequency) at Neah Bay. This can be used to create \"obs\" forcing files for nowcasts in the event of a automation system error."
   ]
  },
  {
   "cell_type": "markdown",
   "metadata": {},
   "source": [
    "\n",
    "Observations: NOAA\n",
    "\n",
    "Tidal predictions: NOAA"
   ]
  },
  {
   "cell_type": "code",
   "execution_count": 1,
   "metadata": {
    "collapsed": false
   },
   "outputs": [],
   "source": [
    "\n",
    "%matplotlib inline\n",
    "from matplotlib import pylab\n",
    "import matplotlib.pyplot as plt\n",
    "import netCDF4 as NC\n",
    "import numpy as np\n",
    "import datetime\n",
    "import requests\n",
    "from dateutil import tz\n",
    "\n",
    "from salishsea_tools import nc_tools\n",
    "from salishsea_tools import tidetools\n",
    "from salishsea_tools.nowcast import figures\n",
    "import os\n",
    "import csv"
   ]
  },
  {
   "cell_type": "markdown",
   "metadata": {},
   "source": [
    "# Observations and tidal predictions"
   ]
  },
  {
   "cell_type": "markdown",
   "metadata": {},
   "source": [
    "Begin by loading Neah Bay water level observations and tidal predictions from NOAA.\n",
    "\n",
    "http://tidesandcurrents.noaa.gov/waterlevels.html?id=9443090"
   ]
  },
  {
   "cell_type": "code",
   "execution_count": 16,
   "metadata": {
    "collapsed": false
   },
   "outputs": [
    {
     "name": "stdout",
     "output_type": "stream",
     "text": [
      "0      2015-06-24 00:00:00+00:00\n",
      "1      2015-06-24 00:06:00+00:00\n",
      "2      2015-06-24 00:12:00+00:00\n",
      "3      2015-06-24 00:18:00+00:00\n",
      "4      2015-06-24 00:24:00+00:00\n",
      "5      2015-06-24 00:30:00+00:00\n",
      "6      2015-06-24 00:36:00+00:00\n",
      "7      2015-06-24 00:42:00+00:00\n",
      "8      2015-06-24 00:48:00+00:00\n",
      "9      2015-06-24 00:54:00+00:00\n",
      "10     2015-06-24 01:00:00+00:00\n",
      "11     2015-06-24 01:06:00+00:00\n",
      "12     2015-06-24 01:12:00+00:00\n",
      "13     2015-06-24 01:18:00+00:00\n",
      "14     2015-06-24 01:24:00+00:00\n",
      "15     2015-06-24 01:30:00+00:00\n",
      "16     2015-06-24 01:36:00+00:00\n",
      "17     2015-06-24 01:42:00+00:00\n",
      "18     2015-06-24 01:48:00+00:00\n",
      "19     2015-06-24 01:54:00+00:00\n",
      "20     2015-06-24 02:00:00+00:00\n",
      "21     2015-06-24 02:06:00+00:00\n",
      "22     2015-06-24 02:12:00+00:00\n",
      "23     2015-06-24 02:18:00+00:00\n",
      "24     2015-06-24 02:24:00+00:00\n",
      "25     2015-06-24 02:30:00+00:00\n",
      "26     2015-06-24 02:36:00+00:00\n",
      "27     2015-06-24 02:42:00+00:00\n",
      "28     2015-06-24 02:48:00+00:00\n",
      "29     2015-06-24 02:54:00+00:00\n",
      "                 ...            \n",
      "210    2015-06-24 21:00:00+00:00\n",
      "211    2015-06-24 21:06:00+00:00\n",
      "212    2015-06-24 21:12:00+00:00\n",
      "213    2015-06-24 21:18:00+00:00\n",
      "214    2015-06-24 21:24:00+00:00\n",
      "215    2015-06-24 21:30:00+00:00\n",
      "216    2015-06-24 21:36:00+00:00\n",
      "217    2015-06-24 21:42:00+00:00\n",
      "218    2015-06-24 21:48:00+00:00\n",
      "219    2015-06-24 21:54:00+00:00\n",
      "220    2015-06-24 22:00:00+00:00\n",
      "221    2015-06-24 22:06:00+00:00\n",
      "222    2015-06-24 22:12:00+00:00\n",
      "223    2015-06-24 22:18:00+00:00\n",
      "224    2015-06-24 22:24:00+00:00\n",
      "225    2015-06-24 22:30:00+00:00\n",
      "226    2015-06-24 22:36:00+00:00\n",
      "227    2015-06-24 22:42:00+00:00\n",
      "228    2015-06-24 22:48:00+00:00\n",
      "229    2015-06-24 22:54:00+00:00\n",
      "230    2015-06-24 23:00:00+00:00\n",
      "231    2015-06-24 23:06:00+00:00\n",
      "232    2015-06-24 23:12:00+00:00\n",
      "233    2015-06-24 23:18:00+00:00\n",
      "234    2015-06-24 23:24:00+00:00\n",
      "235    2015-06-24 23:30:00+00:00\n",
      "236    2015-06-24 23:36:00+00:00\n",
      "237    2015-06-24 23:42:00+00:00\n",
      "238    2015-06-24 23:48:00+00:00\n",
      "239    2015-06-24 23:54:00+00:00\n",
      "Name: time, dtype: object\n"
     ]
    },
    {
     "data": {
      "image/png": "[encoded data removed]",
      "text/plain": [
       "<matplotlib.figure.Figure at 0x7fc5123c34d0>"
      ]
     },
     "metadata": {},
     "output_type": "display_data"
    }
   ],
   "source": [
    "date = datetime.datetime(2015,6,24)\n",
    "start_date = datetime.datetime.strftime(date,'%d-%b-%Y')\n",
    "end_date = datetime.datetime.strftime(date,'%d-%b-%Y')\n",
    "\n",
    "station_no = figures.SITES['Neah Bay']['stn_no']\n",
    "\n",
    "obs = figures.get_NOAA_wlevels(station_no,start_date,end_date)\n",
    "tide = figures.get_NOAA_tides(station_no,start_date,end_date)\n",
    "\n",
    "plt.plot(obs.time, obs.wlev, 'o',label='obs')\n",
    "plt.plot(tide.time, tide.pred,'r',lw=2,label='tides')\n",
    "\n",
    "plt.legend(loc=0)\n",
    "\n",
    "plt.ylabel('Water level [m]')\n",
    "\n",
    "print obs.time"
   ]
  },
  {
   "cell_type": "markdown",
   "metadata": {},
   "source": [
    "# Interpolate data to on the hour"
   ]
  },
  {
   "cell_type": "code",
   "execution_count": 17,
   "metadata": {
    "collapsed": false
   },
   "outputs": [
    {
     "name": "stdout",
     "output_type": "stream",
     "text": [
      "[datetime.datetime(2015, 6, 24, 0, 0, tzinfo=tzutc()), datetime.datetime(2015, 6, 24, 1, 0, tzinfo=tzutc()), datetime.datetime(2015, 6, 24, 2, 0, tzinfo=tzutc()), datetime.datetime(2015, 6, 24, 3, 0, tzinfo=tzutc()), datetime.datetime(2015, 6, 24, 4, 0, tzinfo=tzutc()), datetime.datetime(2015, 6, 24, 5, 0, tzinfo=tzutc()), datetime.datetime(2015, 6, 24, 6, 0, tzinfo=tzutc()), datetime.datetime(2015, 6, 24, 7, 0, tzinfo=tzutc()), datetime.datetime(2015, 6, 24, 8, 0, tzinfo=tzutc()), datetime.datetime(2015, 6, 24, 9, 0, tzinfo=tzutc()), datetime.datetime(2015, 6, 24, 10, 0, tzinfo=tzutc()), datetime.datetime(2015, 6, 24, 11, 0, tzinfo=tzutc()), datetime.datetime(2015, 6, 24, 12, 0, tzinfo=tzutc()), datetime.datetime(2015, 6, 24, 13, 0, tzinfo=tzutc()), datetime.datetime(2015, 6, 24, 14, 0, tzinfo=tzutc()), datetime.datetime(2015, 6, 24, 15, 0, tzinfo=tzutc()), datetime.datetime(2015, 6, 24, 16, 0, tzinfo=tzutc()), datetime.datetime(2015, 6, 24, 17, 0, tzinfo=tzutc()), datetime.datetime(2015, 6, 24, 18, 0, tzinfo=tzutc()), datetime.datetime(2015, 6, 24, 19, 0, tzinfo=tzutc()), datetime.datetime(2015, 6, 24, 20, 0, tzinfo=tzutc()), datetime.datetime(2015, 6, 24, 21, 0, tzinfo=tzutc()), datetime.datetime(2015, 6, 24, 22, 0, tzinfo=tzutc()), datetime.datetime(2015, 6, 24, 23, 0, tzinfo=tzutc())]\n"
     ]
    },
    {
     "data": {
      "image/png": "[encoded data removed]",
      "text/plain": [
       "<matplotlib.figure.Figure at 0x7fc512012b90>"
      ]
     },
     "metadata": {},
     "output_type": "display_data"
    }
   ],
   "source": [
    "#create houly times\n",
    "t1=date.replace(tzinfo=tz.tzutc())\n",
    "t2 = t1 +datetime.timedelta(days=1)\n",
    "hourlys = [t1 + datetime.timedelta(hours=hour) for hour in np.arange(0,(t2-t1).total_seconds()/3600)]\n",
    "\n",
    "obs_interp = figures.interp_to_model_time(hourlys, obs.wlev, obs.time)\n",
    "obs_interp=np.array(obs_interp)\n",
    "tides_interp = figures.interp_to_model_time(hourlys, tide.pred, tide.time)\n",
    "tides_interp=np.array(tides_interp)\n",
    "anom=obs_interp-tides_interp\n",
    "\n",
    "plt.plot(hourlys, obs_interp, 'o',label='obs')\n",
    "plt.plot(hourlys, tides_interp, 'r', lw=2,label='tides')\n",
    "plt.plot(hourlys, anom,'-k',label='anom')\n",
    "plt.legend(loc=0)\n",
    "\n",
    "plt.ylabel('Water level [m]')\n",
    "\n",
    "print hourlys"
   ]
  },
  {
   "cell_type": "markdown",
   "metadata": {},
   "source": [
    "# Save as a NetCDF"
   ]
  },
  {
   "cell_type": "markdown",
   "metadata": {},
   "source": [
    "Follow Susan's SSH notebook for this. Make a new netcdf file for this day. I will save the anom at each point along the western boundary."
   ]
  },
  {
   "cell_type": "markdown",
   "metadata": {},
   "source": [
    "Get some preliminary data first: bathymetry, indices of the edges. "
   ]
  },
  {
   "cell_type": "code",
   "execution_count": 18,
   "metadata": {
    "collapsed": false
   },
   "outputs": [
    {
     "name": "stdout",
     "output_type": "stream",
     "text": [
      "(898, 398)\n"
     ]
    }
   ],
   "source": [
    "startj = 384\n",
    "endj = 471\n",
    "lengthj = endj-startj\n",
    "r = 1\n",
    "\n",
    "fB = NC.Dataset('/data/nsoontie/MEOPAR/NEMO-forcing/grid/bathy_meter_SalishSea2.nc','r')\n",
    "lat = fB.variables['nav_lat'][:]\n",
    "lon = fB.variables['nav_lon'][:]\n",
    "fB.close()\n",
    "print lat.shape"
   ]
  },
  {
   "cell_type": "markdown",
   "metadata": {},
   "source": [
    "A function for saving the netcdf file."
   ]
  },
  {
   "cell_type": "code",
   "execution_count": 19,
   "metadata": {
    "collapsed": false
   },
   "outputs": [],
   "source": [
    "def prepare_netcdf(ssh_file, count, ssh,date):\n",
    "    \n",
    "    filename = date.strftime('ssh_y%Ym%md%d.nc')\n",
    "    # dataset attributes\n",
    "    nc_tools.init_dataset_attrs(\n",
    "    ssh_file, \n",
    "    title='Juan de Fuca SSH hourly values', \n",
    "    notebook_name='SSH_NeahBay', \n",
    "    nc_filepath='/ocean/nsoontie/MEOPAR/sshNeahBay/obs/' + filename,\n",
    "    comment='Neah Bay observed anomaly')\n",
    "\n",
    "    \n",
    "    #dimensions\n",
    "    ssh_file.createDimension('xbT', lengthj*r)\n",
    "    ssh_file.createDimension('yb', 1)\n",
    "    ssh_file.createDimension('time_counter', None)\n",
    "    # variables\n",
    "    # time_counter\n",
    "    time_counter = ssh_file.createVariable('time_counter', 'float32', ('time_counter'))\n",
    "    time_counter.long_name = 'Time axis'\n",
    "    time_counter.axis = 'T'\n",
    "    time_counter.units = 'hour since 00:00:00 on {}'.format(date.strftime('%d/%m/%Y'))\n",
    "    # nav_lat and nav_lon\n",
    "    nav_lat = ssh_file.createVariable('nav_lat','float32',('yb','xbT'))\n",
    "    nav_lat.long_name = 'Latitude'\n",
    "    nav_lat.units = 'degrees_north'\n",
    "    nav_lon = ssh_file.createVariable('nav_lon','float32',('yb','xbT'))\n",
    "    nav_lon.long_name = 'Longitude'\n",
    "    nav_lon.units = 'degrees_east'\n",
    "    # ssh\n",
    "    sossheig = ssh_file.createVariable('sossheig', 'float32', \n",
    "                               ('time_counter','yb','xbT'), zlib=True)\n",
    "    sossheig.units = 'm'\n",
    "    sossheig.long_name = 'Sea surface height'   \n",
    "    sossheig.coordinates = 'nav_lon nav_lat time_counter'\n",
    "    sossheig.grid = 'SalishSea2'\n",
    "    # vobtcrtx, vobtcrty\n",
    "    vobtcrtx = ssh_file.createVariable('vobtcrtx', 'float32',\n",
    "                                   ('time_counter','yb','xbT'), zlib=True)\n",
    "    vobtcrtx.units = 'm/s'\n",
    "    vobtcrtx.long_name = 'Barotropic U Velocity- ZEROD'   \n",
    "    vobtcrtx.grid = 'SalishSea2'\n",
    "    vobtcrty = ssh_file.createVariable('vobtcrty', 'float32',\n",
    "                                   ('time_counter','yb','xbT'), zlib=True)\n",
    "    vobtcrty.units = 'm/s'\n",
    "    vobtcrty.long_name = 'Barotropic V Velocity- ZEROD'   \n",
    "    vobtcrty.grid = 'SalishSea2'\n",
    "    # nbidta, ndjdta, ndrdta\n",
    "    nbidta = ssh_file.createVariable('nbidta', 'int32' , ('yb','xbT'), zlib=True)\n",
    "    nbidta.long_name = 'i grid position'\n",
    "    nbidta.units = 1\n",
    "    nbjdta = ssh_file.createVariable('nbjdta', 'int32' , ('yb','xbT'), zlib=True)\n",
    "    nbjdta.long_name = 'j grid position'\n",
    "    nbjdta.units = 1\n",
    "    nbrdta = ssh_file.createVariable('nbrdta', 'int32' , ('yb','xbT'), zlib=True)\n",
    "    nbrdta.long_name = 'position from boundary'\n",
    "    nbrdta.units = 1\n",
    "    \n",
    "    for ir in range(0,r):\n",
    "        nav_lat[0,ir*lengthj:(ir+1)*lengthj] = lat[startj:endj,ir]\n",
    "        nav_lon[0,ir*lengthj:(ir+1)*lengthj] = lon[startj:endj,ir]\n",
    "        nbidta[0,ir*lengthj:(ir+1)*lengthj] = ir\n",
    "        nbjdta[0,ir*lengthj:(ir+1)*lengthj] = range(startj,endj)\n",
    "        nbrdta[0,ir*lengthj:(ir+1)*lengthj] = ir\n",
    "        \n",
    "    for ib in range(0,lengthj*r):\n",
    "        sossheig[0:count,0,ib] = ssh[0:count]\n",
    "        time_counter[0:count] = range(1,count+1)\n",
    "        vobtcrtx[0:count,0,ib] = 0*np.ones(count)\n",
    "        vobtcrty[0:count,0,ib] = 0*np.ones(count)\n"
   ]
  },
  {
   "cell_type": "markdown",
   "metadata": {},
   "source": [
    "Loop through the ssanomaly and time arrays to create the netcdf files.  Save them month by month.\n",
    "\n",
    "This is really clunky for now. I need the netcdf files in UTC, but all of the data files are in local time. So I will just ignore/delete the first and last month's files since these are incomplete. There is definitely room for improvement with this part of the code."
   ]
  },
  {
   "cell_type": "code",
   "execution_count": 20,
   "metadata": {
    "collapsed": false
   },
   "outputs": [
    {
     "name": "stdout",
     "output_type": "stream",
     "text": [
      "file format: NETCDF4\n",
      "Conventions: CF-1.6\n",
      "title: Juan de Fuca SSH hourly values\n",
      "institution: Dept of Earth, Ocean & Atmospheric Sciences, University of British Columbia\n",
      "source: https://bitbucket.org/salishsea/tools/src/tip/I_ForcingFiles/OBC/SSH_NeahBay.ipynb\n",
      "references: REQUIRED\n",
      "history: [2015-09-28 12:13:41] Created netCDF4 zlib=True dataset.\n",
      "comment: Neah Bay observed anomaly\n"
     ]
    }
   ],
   "source": [
    "#Create file\n",
    "filename = date.strftime('ssh_y%Ym%md%d.nc')\n",
    "count =24; \n",
    "ssh_file = NC.Dataset(filename, 'w', zlib=True)\n",
    "prepare_netcdf(ssh_file,count,anom,date)\n",
    "ssh_file.close()\n",
    "    "
   ]
  },
  {
   "cell_type": "markdown",
   "metadata": {},
   "source": [
    "# Check the NetCDF files"
   ]
  },
  {
   "cell_type": "markdown",
   "metadata": {},
   "source": [
    "A quick check that the data is saved in the netcdf file as expected. "
   ]
  },
  {
   "cell_type": "code",
   "execution_count": 21,
   "metadata": {
    "collapsed": false
   },
   "outputs": [
    {
     "name": "stdout",
     "output_type": "stream",
     "text": [
      "<type 'netCDF4._netCDF4.Dimension'>: name = 'xbT', size = 87\n",
      "\n",
      "<type 'netCDF4._netCDF4.Dimension'>: name = 'yb', size = 1\n",
      "\n",
      "<type 'netCDF4._netCDF4.Dimension'> (unlimited): name = 'time_counter', size = 24\n",
      "\n",
      "(24, 1, 87)\n",
      "[ 0.  0.  0.  0.  0.  0.  0.  0.  0.  0.  0.  0.  0.  0.  0.  0.  0.  0.\n",
      "  0.  0.  0.  0.  0.  0.  0.  0.  0.  0.  0.  0.  0.  0.  0.  0.  0.  0.\n",
      "  0.  0.  0.  0.  0.  0.  0.  0.  0.  0.  0.  0.  0.  0.  0.  0.  0.  0.\n",
      "  0.  0.  0.  0.  0.  0.  0.  0.  0.  0.  0.  0.  0.  0.  0.  0.  0.  0.\n",
      "  0.  0.  0.  0.  0.  0.  0.  0.  0.  0.  0.  0.  0.  0.  0.]\n",
      "[[ 0.  0.  0. ...,  0.  0.  0.]\n",
      " [ 0.  0.  0. ...,  0.  0.  0.]\n",
      " [ 0.  0.  0. ...,  0.  0.  0.]\n",
      " ..., \n",
      " [ 0.  0.  0. ...,  0.  0.  0.]\n",
      " [ 0.  0.  0. ...,  0.  0.  0.]\n",
      " [ 0.  0.  0. ...,  0.  0.  0.]]\n",
      "-0.035\n",
      "0.075\n",
      "(24, 1, 87)\n"
     ]
    },
    {
     "data": {
      "image/png": "[encoded data removed]",
      "text/plain": [
       "<matplotlib.figure.Figure at 0x7fc511ef1510>"
      ]
     },
     "metadata": {},
     "output_type": "display_data"
    }
   ],
   "source": [
    "\n",
    "\n",
    "f=  NC.Dataset(filename,'r');\n",
    "\n",
    "for dim in f.dimensions.values():\n",
    "    print dim\n",
    "    \n",
    "ssh=f.variables['sossheig'];\n",
    "us=f.variables['vobtcrtx'];\n",
    "vs=f.variables['vobtcrty'];\n",
    "print us.shape\n",
    "print us[1,0,:]\n",
    "print vs[:,0,:]\n",
    "    \n",
    "mn = ssh[:].min(); print mn\n",
    "mx = ssh[:].max(); print mx\n",
    "\n",
    "fig, ((ax_net,ax_data)) = plt.subplots(1, 2, figsize=(14,4))\n",
    "ax_net.plot(ssh[:,0,0])\n",
    "ax_net.set_xlabel(filename)\n",
    "\n",
    "ax_data.plot(hourlys,anom)\n",
    "\n",
    "print ssh.shape"
   ]
  },
  {
   "cell_type": "markdown",
   "metadata": {},
   "source": [
    "This looks good so let's move the files out of my working directory and into the forcing directory. "
   ]
  },
  {
   "cell_type": "code",
   "execution_count": 22,
   "metadata": {
    "collapsed": false
   },
   "outputs": [],
   "source": [
    "srcdir='.'\n",
    "dstdir='/ocean/nsoontie/MEOPAR/sshNeahBay/obs/'\n",
    "\n",
    "import shutil\n",
    "\n",
    "for basename in os.listdir(srcdir):\n",
    "    if basename.endswith('.nc'):\n",
    "        pathname = os.path.join(srcdir, basename)\n",
    "        if os.path.isfile(pathname):\n",
    "            shutil.copy2(pathname, dstdir)\n"
   ]
  },
  {
   "cell_type": "code",
   "execution_count": null,
   "metadata": {
    "collapsed": false
   },
   "outputs": [],
   "source": []
  }
 ],
 "metadata": {
  "kernelspec": {
   "display_name": "Python 2",
   "language": "python",
   "name": "python2"
  },
  "language_info": {
   "codemirror_mode": {
    "name": "ipython",
    "version": 2
   },
   "file_extension": ".py",
   "mimetype": "text/x-python",
   "name": "python",
   "nbconvert_exporter": "python",
   "pygments_lexer": "ipython2",
   "version": "2.7.10"
  }
 },
 "nbformat": 4,
 "nbformat_minor": 0
}
