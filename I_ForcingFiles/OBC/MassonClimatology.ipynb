{
 "metadata": {
  "name": ""
 },
 "nbformat": 3,
 "nbformat_minor": 0,
 "worksheets": [
  {
   "cells": [
    {
     "cell_type": "code",
     "collapsed": false,
     "input": [
      "%matplotlib inline\n",
      "import matplotlib.pyplot as plt\n",
      "import netCDF4 as nc\n",
      "import numpy as np\n",
      "from salishsea_tools import nc_tools"
     ],
     "language": "python",
     "metadata": {},
     "outputs": [],
     "prompt_number": 2
    },
    {
     "cell_type": "code",
     "collapsed": false,
     "input": [
      "masson = nc.Dataset('SalishSea_Masson_Clim.nc', 'r')"
     ],
     "language": "python",
     "metadata": {},
     "outputs": [],
     "prompt_number": 3
    },
    {
     "cell_type": "code",
     "collapsed": false,
     "input": [
      "T = masson.variables['votemper']\n",
      "S = masson.variables['vosaline']\n",
      "print T.shape"
     ],
     "language": "python",
     "metadata": {},
     "outputs": [
      {
       "output_type": "stream",
       "stream": "stdout",
       "text": [
        "(336, 40, 1, 870)\n"
       ]
      }
     ],
     "prompt_number": 4
    },
    {
     "cell_type": "code",
     "collapsed": false,
     "input": [
      "plt.plot(S[38,:,0,17])\n",
      "print T[38,:,0,19]"
     ],
     "language": "python",
     "metadata": {},
     "outputs": [
      {
       "output_type": "stream",
       "stream": "stdout",
       "text": [
        "[ nan  nan  nan  nan  nan  nan  nan  nan  nan  nan  nan  nan  nan  nan  nan\n",
        "  nan  nan  nan  nan  nan  nan  nan  nan  nan  nan  nan  nan  nan  nan  nan\n",
        "  nan  nan  nan  nan  nan  nan  nan  nan  nan  nan]\n"
       ]
      },
      {
       "metadata": {},
       "output_type": "display_data",
       "png": "[encoded data removed]",
       "text": [
        "<matplotlib.figure.Figure at 0x1053a6410>"
       ]
      }
     ],
     "prompt_number": 23
    },
    {
     "cell_type": "code",
     "collapsed": false,
     "input": [
      "Tmean = np.zeros((24,40,1,870))\n",
      "Smean = np.zeros((24,40,1,870))\n",
      "for i in range(0,24):\n",
      "    for j in range(0,14):\n",
      "         Tmean[i] = Tmean[i] + T[i+24*j]/14.\n",
      "         Smean[i] = Smean[i] + S[i+24*j]/14."
     ],
     "language": "python",
     "metadata": {},
     "outputs": [],
     "prompt_number": 100
    },
    {
     "cell_type": "code",
     "collapsed": false,
     "input": [
      "plt.subplot(1,2,1)\n",
      "plt.plot(Tmean[:,0,0,45],'*-',Tmean[:,26,0,45],'+-')\n",
      "plt.subplot(1,2,2)\n",
      "plt.plot(Smean[:,0,0,245],'*-',Smean[:,26,0,45],'+-')"
     ],
     "language": "python",
     "metadata": {},
     "outputs": [
      {
       "metadata": {},
       "output_type": "pyout",
       "prompt_number": 101,
       "text": [
        "[<matplotlib.lines.Line2D at 0x10d937d50>,\n",
        " <matplotlib.lines.Line2D at 0x10d960790>]"
       ]
      },
      {
       "metadata": {},
       "output_type": "display_data",
       "png": "[encoded data removed]",
       "text": [
        "<matplotlib.figure.Figure at 0x10bc01f90>"
       ]
      }
     ],
     "prompt_number": 101
    },
    {
     "cell_type": "markdown",
     "metadata": {},
     "source": [
      "Diane's data is output every 15 days, starting Jan 9.  (So its about 20 days from the last output in one year until the first output in the next year).  Lets try weekly file."
     ]
    },
    {
     "cell_type": "code",
     "collapsed": false,
     "input": [
      "dtime = range(9,360,15)\n",
      "wtime = np.arange(3.5,366,7)\n",
      "wcount = range(wtime.size)\n",
      "Tclim = np.zeros((wtime.size,40,1,870))\n",
      "Sclim = np.zeros((wtime.size,40,1,870))"
     ],
     "language": "python",
     "metadata": {},
     "outputs": [],
     "prompt_number": 103
    },
    {
     "cell_type": "markdown",
     "metadata": {},
     "source": [
      "First week need to wrap round end of year"
     ]
    },
    {
     "cell_type": "code",
     "collapsed": false,
     "input": [
      "for i in range(0,1):\n",
      "    Tclim[i] = (Tmean[23]*(dtime[0]-wtime[i]) + Tmean[0]*(wtime[i]-dtime[23]+365.25))/(dtime[0]-dtime[23]+365.25)\n",
      "    Sclim[i] = (Smean[23]*(dtime[0]-wtime[i]) + Smean[0]*(wtime[i]-dtime[23]+365.25))/(dtime[0]-dtime[23]+365.25)"
     ],
     "language": "python",
     "metadata": {},
     "outputs": [],
     "prompt_number": 104
    },
    {
     "cell_type": "markdown",
     "metadata": {},
     "source": [
      "Main part of year"
     ]
    },
    {
     "cell_type": "code",
     "collapsed": false,
     "input": [
      "j=1\n",
      "for i in range(1,51):\n",
      "    if dtime[j] < wtime[i]:\n",
      "        j = j+1\n",
      "    Tclim[i] = (Tmean[j-1]*(dtime[j]-wtime[i]) + Tmean[j]*(wtime[i]-dtime[j-1]))/(dtime[j]-dtime[j-1])\n",
      "    Sclim[i] = (Smean[j-1]*(dtime[j]-wtime[i]) + Smean[j]*(wtime[i]-dtime[j-1]))/(dtime[j]-dtime[j-1])"
     ],
     "language": "python",
     "metadata": {},
     "outputs": [],
     "prompt_number": 105
    },
    {
     "cell_type": "markdown",
     "metadata": {},
     "source": [
      "Last week, need to wrap round end of year"
     ]
    },
    {
     "cell_type": "code",
     "collapsed": false,
     "input": [
      "i=51\n",
      "Tclim[i] = (Tmean[23]*(dtime[0]+365.25-wtime[i]) + Tmean[0]*(wtime[i]-dtime[23]))/(dtime[0]-dtime[23]+365.25)\n",
      "Sclim[i] = (Smean[23]*(dtime[0]+365.25-wtime[i]) + Smean[0]*(wtime[i]-dtime[23]))/(dtime[0]-dtime[23]+365.25)"
     ],
     "language": "python",
     "metadata": {},
     "outputs": [],
     "prompt_number": 106
    },
    {
     "cell_type": "code",
     "collapsed": false,
     "input": [
      "plt.subplot(1,2,1)\n",
      "plt.plot(dtime,Tmean[:,0,0,45],'b-',dtime,Tmean[:,26,0,45],'r-',wtime,Tclim[:,0,0,45],'bx',wtime,Tclim[:,26,0,45],'r+')\n",
      "plt.subplot(1,2,2)\n",
      "plt.plot(dtime,Smean[:,0,0,45],'b-',dtime,Smean[:,26,0,45],'r-',wtime,Sclim[:,0,0,45],'bx',wtime,Sclim[:,26,0,45],'r+')"
     ],
     "language": "python",
     "metadata": {},
     "outputs": [
      {
       "metadata": {},
       "output_type": "pyout",
       "prompt_number": 107,
       "text": [
        "[<matplotlib.lines.Line2D at 0x105ac68d0>,\n",
        " <matplotlib.lines.Line2D at 0x10dd6d110>,\n",
        " <matplotlib.lines.Line2D at 0x10dd6d7d0>,\n",
        " <matplotlib.lines.Line2D at 0x10dd6ddd0>]"
       ]
      },
      {
       "metadata": {},
       "output_type": "display_data",
       "png": "[encoded data removed]",
       "text": [
        "<matplotlib.figure.Figure at 0x10d94b950>"
       ]
      }
     ],
     "prompt_number": 107
    },
    {
     "cell_type": "code",
     "collapsed": false,
     "input": [
      "# close this NetCDF file\n",
      "masson.close()"
     ],
     "language": "python",
     "metadata": {},
     "outputs": [],
     "prompt_number": 108
    },
    {
     "cell_type": "markdown",
     "metadata": {},
     "source": [
      "Now put new information into the NetCDF file.  I prepared a truncated version of the full NetCDF file above that only retains the first 52 elements (cause I only need 52 in this new file).  Command on salish:\n",
      "\n",
      "ncks -4 -L1 -d time_counter,0,51 SalishSea_TS_Masson.nc SalishSea_Masson_trunc.nc"
     ]
    },
    {
     "cell_type": "code",
     "collapsed": false,
     "input": [
      "!cp SalishSea_Masson_trunc.nc SalishSea2_Masson_Clim.nc\n",
      "Clim = nc.Dataset('SalishSea2_Masson_Clim.nc', 'r+')"
     ],
     "language": "python",
     "metadata": {},
     "outputs": [],
     "prompt_number": 130
    },
    {
     "cell_type": "code",
     "collapsed": false,
     "input": [
      "time_counter = Clim.variables['time_counter']\n",
      "time_counter.units = 'weeks since beginning of year'\n",
      "time_counter[0:52] = range(1,53)\n",
      "print time_counter, time_counter[10]"
     ],
     "language": "python",
     "metadata": {},
     "outputs": [
      {
       "output_type": "stream",
       "stream": "stdout",
       "text": [
        "<type 'netCDF4.Variable'>\n",
        "float32 time_counter(time_counter)\n",
        "    long_name: Time axis\n",
        "    axis: T\n",
        "    units: weeks since beginning of year\n",
        "unlimited dimensions: time_counter\n",
        "current shape = (52,)\n",
        " 11.0\n"
       ]
      }
     ],
     "prompt_number": 131
    },
    {
     "cell_type": "code",
     "collapsed": false,
     "input": [
      "votemper = Clim.variables['votemper']\n",
      "votemper[:] = Tclim\n",
      "vosaline = Clim.variables['vosaline']\n",
      "vosaline[:] = Sclim"
     ],
     "language": "python",
     "metadata": {},
     "outputs": [],
     "prompt_number": 132
    },
    {
     "cell_type": "markdown",
     "metadata": {},
     "source": [
      "Update Attributes"
     ]
    },
    {
     "cell_type": "code",
     "collapsed": false,
     "input": [
      "nc_tools.show_dataset_attrs(Clim)"
     ],
     "language": "python",
     "metadata": {},
     "outputs": [
      {
       "output_type": "stream",
       "stream": "stdout",
       "text": [
        "file format: NETCDF4\n",
        "Conventions: CF-1.6\n",
        "title: T&S Boundary Conditions from Masson\n",
        "institution: Dept of Earth, Ocean & Atmospheric Sciences, University of British Columbia\n",
        "source: https://bitbucket.org/salishsea/tools/src/tip/I_ForcingFiles/OBC/MakeTSfromMasson.ipynb\n",
        "references: https://bitbucket.org/salishsea/nemo-forcing/src/tip/open_boundaries/west/SalishSea_TS_Masson.nc\n",
        "history: Sat Jan  4 13:05:15 2014: ncks -4 -L1 -d time_counter,0,51 SalishSea_TS_Masson.nc SalishSea_Masson_trunc.nc\n",
        "[2014-01-03 13:15:17] Created netCDF4 zlib=True dataset.\n",
        "comment: T & S data from Masson\n",
        "NCO: 4.0.9\n"
       ]
      }
     ],
     "prompt_number": 126
    },
    {
     "cell_type": "code",
     "collapsed": false,
     "input": [
      "Clim.title = \"\"\"\n",
      "Weekly climatology boundary conditions from Masson\n",
      "\"\"\"\n",
      "Clim.source = \"\"\"\n",
      "https://bitbucket.org/salishsea/tools/src/tip/I_ForcingFiles/OBC/MakeTSfromMasson.ipynb\n",
      "https://bitbucket.org/salishsea/tools/src/tip/I_ForcingFiles/OBC/MassonClimatology.ipynb\n",
      "\"\"\"\n",
      "Clim.references = \"\"\"\n",
      "https://bitbucket.org/salishsea/nemo-forcing/src/tip/open_boundaries/west/SalishSea2_Masson_Clim.nc\n",
      "\"\"\"\n",
      "Clim.history = \"\"\"\n",
      "[2014-01-03 13:15:17] Created netCDF4 zlib=True dataset.\n",
      "Sat Jan  4 13:05:15 2014: ncks -4 -L1 -d time_counter,0,51 SalishSea_TS_Masson.nc SalishSea_Masson_trunc.nc\n",
      "[2014-01-04 14:17] Formed weekly climatology from original SalishSea grided results\n",
      "\"\"\"\n",
      "nc_tools.show_dataset_attrs(Clim)"
     ],
     "language": "python",
     "metadata": {},
     "outputs": [
      {
       "output_type": "stream",
       "stream": "stdout",
       "text": [
        "file format: NETCDF4\n",
        "Conventions: CF-1.6\n",
        "title: \n",
        "Weekly climatology boundary conditions from Masson\n",
        "\n",
        "institution: Dept of Earth, Ocean & Atmospheric Sciences, University of British Columbia\n",
        "source: \n",
        "https://bitbucket.org/salishsea/tools/src/tip/I_ForcingFiles/OBC/MakeTSfromMasson.ipynb\n",
        "https://bitbucket.org/salishsea/tools/src/tip/I_ForcingFiles/OBC/MassonClimatology.ipynb\n",
        "\n",
        "references: \n",
        "https://bitbucket.org/salishsea/nemo-forcing/src/tip/open_boundaries/west/SalishSea2_Masson_Clim.nc\n",
        "\n",
        "history: \n",
        "[2014-01-03 13:15:17] Created netCDF4 zlib=True dataset.\n",
        "Sat Jan  4 13:05:15 2014: ncks -4 -L1 -d time_counter,0,51 SalishSea_TS_Masson.nc SalishSea_Masson_trunc.nc\n",
        "[2014-01-04 14:17] Formed weekly climatology from original SalishSea grided results\n",
        "\n",
        "comment: T & S data from Masson\n",
        "NCO: 4.0.9\n"
       ]
      }
     ],
     "prompt_number": 133
    },
    {
     "cell_type": "code",
     "collapsed": false,
     "input": [
      "Clim.close()"
     ],
     "language": "python",
     "metadata": {},
     "outputs": [],
     "prompt_number": 134
    },
    {
     "cell_type": "code",
     "collapsed": false,
     "input": [],
     "language": "python",
     "metadata": {},
     "outputs": []
    }
   ],
   "metadata": {}
  }
 ]
}