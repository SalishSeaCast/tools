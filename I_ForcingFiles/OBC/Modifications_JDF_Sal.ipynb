{
 "cells": [
  {
   "cell_type": "markdown",
   "metadata": {},
   "source": [
    "This notebook is designed to increase the salinity of the deep water at the Strait of Juan de Fuca boudary."
   ]
  },
  {
   "cell_type": "code",
   "execution_count": 1,
   "metadata": {
    "collapsed": true
   },
   "outputs": [],
   "source": [
    "import netCDF4 as nc\n",
    "import numpy as np\n",
    "\n",
    "from salishsea_tools import nc_tools"
   ]
  },
  {
   "cell_type": "markdown",
   "metadata": {},
   "source": [
    "#Background\n",
    "\n",
    "Earlier, we found that the deep water (150m-250m) in our boundary conditions is fresher than a set of observations from 2003-2014.\n",
    "\n",
    "http://nbviewer.ipython.org/urls/bitbucket.org/salishsea/analysis/raw/tip/Nancy/strat/comparisons/JuandeFucaBCs.ipynb\n",
    "\n",
    "In the average, the monthly salinities where 0.3311 psu fresher than the observations. So, I will increase the salinity below 150 m by that value in the boundary conditions. "
   ]
  },
  {
   "cell_type": "markdown",
   "metadata": {},
   "source": [
    "First, copy the boundary conditions file"
   ]
  },
  {
   "cell_type": "code",
   "execution_count": 2,
   "metadata": {
    "collapsed": true
   },
   "outputs": [],
   "source": [
    "! cp /data/nsoontie/MEOPAR/NEMO-forcing/open_boundaries/west/SalishSea2_Masson_DC.nc SalishSea2_saltier.nc\n",
    "\n",
    "F = nc.Dataset('SalishSea2_saltier.nc', 'r+')\n",
    "\n"
   ]
  },
  {
   "cell_type": "code",
   "execution_count": 3,
   "metadata": {
    "collapsed": true
   },
   "outputs": [],
   "source": [
    "sal = F.variables['vosaline']\n",
    "deps = F.variables['deptht']"
   ]
  },
  {
   "cell_type": "code",
   "execution_count": 4,
   "metadata": {
    "collapsed": false
   },
   "outputs": [
    {
     "name": "stdout",
     "output_type": "stream",
     "text": [
      "(array([29, 30, 31, 32, 33, 34, 35, 36, 37, 38, 39]),)\n"
     ]
    }
   ],
   "source": [
    "inds = np.where(deps[:] >150)\n",
    "print inds"
   ]
  },
  {
   "cell_type": "code",
   "execution_count": 5,
   "metadata": {
    "collapsed": false
   },
   "outputs": [
    {
     "name": "stdout",
     "output_type": "stream",
     "text": [
      "33.4032\n"
     ]
    }
   ],
   "source": [
    "print np.mean(sal[:,inds[0],:,:])"
   ]
  },
  {
   "cell_type": "code",
   "execution_count": 6,
   "metadata": {
    "collapsed": true
   },
   "outputs": [],
   "source": [
    "correction = 0.3311"
   ]
  },
  {
   "cell_type": "code",
   "execution_count": 7,
   "metadata": {
    "collapsed": true
   },
   "outputs": [],
   "source": [
    "sal[:,inds[0],:,:] = sal[:,inds[0],:,:]+ correction"
   ]
  },
  {
   "cell_type": "code",
   "execution_count": 8,
   "metadata": {
    "collapsed": false
   },
   "outputs": [
    {
     "name": "stdout",
     "output_type": "stream",
     "text": [
      "33.7343\n"
     ]
    }
   ],
   "source": [
    "print np.mean(sal[:,inds[0],:,:])"
   ]
  },
  {
   "cell_type": "code",
   "execution_count": 9,
   "metadata": {
    "collapsed": false
   },
   "outputs": [
    {
     "name": "stdout",
     "output_type": "stream",
     "text": [
      "file format: NETCDF4\n",
      "Conventions: CF-1.6\n",
      "institution: Dept of Earth, Ocean & Atmospheric Sciences, University of British Columbia\n",
      "comment: T & S data from Masson\n",
      "NCO: 4.0.9\n",
      "title: \n",
      "Weekly climatology boundary conditions from Masson, depth corrected\n",
      "\n",
      "source: \n",
      "https://bitbucket.org/salishsea/tools/src/tip/I_ForcingFiles/OBC/MakeTSfromMasson.ipynb\n",
      "https://bitbucket.org/salishsea/tools/src/tip/I_ForcingFiles/OBC/MassonClimatology.ipynb\n",
      "https://bitbucket.org/salishsea/tools/src/tip/I_ForcingFiles/OBC/MassonClimDC.ipynb\n",
      "\n",
      "\n",
      "references: \n",
      "https://bitbucket.org/salishsea/nemo-forcing/src/tip/open_boundaries/west/SalishSea2_Masson_DC.nc\n",
      "\n",
      "history: \n",
      "2014-01-03 13:15:17] Created netCDF4 zlib=True dataset.\n",
      "Sat Jan  4 13:05:15 2014: ncks -4 -L1 -d time_counter,0,51 SalishSea_TS_Masson.nc SalishSea_Masson_trunc.nc\n",
      "[2014-01-04 14:17] Formed weekly climatology from original SalishSea grided results\n",
      "[2014-01-24 ] Removed Nan's\n",
      "[2014-01-25 18:01 ] Corrected for partial cells\n",
      "\n",
      "\n"
     ]
    }
   ],
   "source": [
    "nc_tools.show_dataset_attrs(F)"
   ]
  },
  {
   "cell_type": "code",
   "execution_count": 10,
   "metadata": {
    "collapsed": false
   },
   "outputs": [
    {
     "name": "stdout",
     "output_type": "stream",
     "text": [
      "file format: NETCDF4\n",
      "Conventions: CF-1.6\n",
      "institution: Dept of Earth, Ocean & Atmospheric Sciences, University of British Columbia\n",
      "comment: \n",
      "Salinity beloww 150m increased by 0.3311 from SalishSea2_Masson_DC.nc\n",
      "NCO: 4.0.9\n",
      "title: \n",
      "Modified boundary conditions based on weekly climatolgy from Diane Masson\n",
      "\n",
      "source: \n",
      "https://bitbucket.org/salishsea/tools/src/tip/I_ForcingFiles/OBC/Modifications_JDF_Sal.ipynb\n",
      "https://bitbucket.org/salishsea/analysys/src/tip/Nancy/strat/comparisons/JuandeFucaBCs.ipynb\n",
      "\n",
      "references: \n",
      "https://bitbucket.org/salishsea/nemo-forcing/src/tip/open_boundaries/west/SalishSea2_saltier.nc\n",
      "\n",
      "history: \n",
      "2014-01-03 13:15:17] Created netCDF4 zlib=True dataset.\n",
      "Sat Jan  4 13:05:15 2014: ncks -4 -L1 -d time_counter,0,51 SalishSea_TS_Masson.nc SalishSea_Masson_trunc.nc\n",
      "[2014-01-04 14:17] Formed weekly climatology from original SalishSea grided results\n",
      "[2014-01-24 ] Removed Nan's\n",
      "[2014-01-25 18:01 ] Corrected for partial cells\n",
      "[2015-08-28 ] Increased deep salinity\n",
      "\n"
     ]
    }
   ],
   "source": [
    "F.title = \"\"\"\n",
    "Modified boundary conditions based on weekly climatolgy from Diane Masson\n",
    "\"\"\"\n",
    "F.source = \"\"\"\n",
    "https://bitbucket.org/salishsea/tools/src/tip/I_ForcingFiles/OBC/Modifications_JDF_Sal.ipynb\n",
    "https://bitbucket.org/salishsea/analysys/src/tip/Nancy/strat/comparisons/JuandeFucaBCs.ipynb\n",
    "\"\"\"\n",
    "\n",
    "F.comment = \"\"\"\n",
    "Salinity beloww 150m increased by 0.3311 from SalishSea2_Masson_DC.nc\"\"\" \n",
    "F.references = \"\"\"\n",
    "https://bitbucket.org/salishsea/nemo-forcing/src/tip/open_boundaries/west/SalishSea2_saltier.nc\n",
    "\"\"\"\n",
    "F.history = \"\"\"\n",
    "2014-01-03 13:15:17] Created netCDF4 zlib=True dataset.\n",
    "Sat Jan  4 13:05:15 2014: ncks -4 -L1 -d time_counter,0,51 SalishSea_TS_Masson.nc SalishSea_Masson_trunc.nc\n",
    "[2014-01-04 14:17] Formed weekly climatology from original SalishSea grided results\n",
    "[2014-01-24 ] Removed Nan's\n",
    "[2014-01-25 18:01 ] Corrected for partial cells\n",
    "[2015-08-28 ] Increased deep salinity\n",
    "\"\"\"\n",
    "nc_tools.show_dataset_attrs(F)\n",
    " "
   ]
  },
  {
   "cell_type": "code",
   "execution_count": 11,
   "metadata": {
    "collapsed": true
   },
   "outputs": [],
   "source": [
    "F.close()"
   ]
  },
  {
   "cell_type": "code",
   "execution_count": null,
   "metadata": {
    "collapsed": true
   },
   "outputs": [],
   "source": []
  }
 ],
 "metadata": {
  "kernelspec": {
   "display_name": "Python 2",
   "language": "python",
   "name": "python2"
  },
  "language_info": {
   "codemirror_mode": {
    "name": "ipython",
    "version": 2
   },
   "file_extension": ".py",
   "mimetype": "text/x-python",
   "name": "python",
   "nbconvert_exporter": "python",
   "pygments_lexer": "ipython2",
   "version": "2.7.10"
  }
 },
 "nbformat": 4,
 "nbformat_minor": 0
}
