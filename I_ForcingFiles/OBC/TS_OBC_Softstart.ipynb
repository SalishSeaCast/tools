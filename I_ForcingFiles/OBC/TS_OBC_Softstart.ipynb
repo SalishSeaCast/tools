{
 "metadata": {
  "name": ""
 },
 "nbformat": 3,
 "nbformat_minor": 0,
 "worksheets": [
  {
   "cells": [
    {
     "cell_type": "markdown",
     "metadata": {},
     "source": [
      "Notebook to prepare OBC files for TS from Thomson, Mihaly & Kulikov, 2007 (JGR) but starting in Sept with initial conditions.  That is a gentle movement to the proper conditions."
     ]
    },
    {
     "cell_type": "code",
     "collapsed": false,
     "input": [
      "%matplotlib inline\n",
      "import matplotlib.pyplot as plt\n",
      "import numpy as np\n",
      "import netCDF4 as NC"
     ],
     "language": "python",
     "metadata": {},
     "outputs": [],
     "prompt_number": 1
    },
    {
     "cell_type": "markdown",
     "metadata": {},
     "source": [
      "For tracer fields, (T,S) use bathymetry file: \"2\" means the Juan de Fuca mouth is smoothed"
     ]
    },
    {
     "cell_type": "code",
     "collapsed": false,
     "input": [
      "fB = NC.Dataset('../../../nemo-forcing/grid/bathy_meter_SalishSea2.nc','r')\n",
      "D = fB.variables['Bathymetry'][:]\n",
      "lat = fB.variables['nav_lat'][:]\n",
      "print lat.shape\n",
      "lon = fB.variables['nav_lon'][:]"
     ],
     "language": "python",
     "metadata": {},
     "outputs": [
      {
       "output_type": "stream",
       "stream": "stdout",
       "text": [
        "(898, 398)\n"
       ]
      }
     ],
     "prompt_number": 2
    },
    {
     "cell_type": "markdown",
     "metadata": {},
     "source": [
      "For depth use new deptht_428 file"
     ]
    },
    {
     "cell_type": "code",
     "collapsed": false,
     "input": [
      "fT = NC.Dataset('../../../nemo-forcing/grid/deptht_428m.nc','r')\n",
      "depth_out = fT.variables['deptht']\n",
      "depths = depth_out[:]"
     ],
     "language": "python",
     "metadata": {},
     "outputs": [],
     "prompt_number": 3
    },
    {
     "cell_type": "markdown",
     "metadata": {},
     "source": [
      "Read in the initial conditions."
     ]
    },
    {
     "cell_type": "code",
     "collapsed": false,
     "input": [
      "fTorig = NC.Dataset('../../../nemo-forcing/initial_strat/SS2_SoG0318_1y_temperature_nomask.nc','r')\n",
      "fSorig = NC.Dataset('../../../nemo-forcing/initial_strat/SS2_SoG0318_1y_salinity_nomask.nc','r')\n",
      "Torig = fTorig.variables['votemper'][:]\n",
      "Sorig = fSorig.variables['vosaline'][:]\n",
      "print Sorig.shape\n",
      "print depths.shape"
     ],
     "language": "python",
     "metadata": {},
     "outputs": [
      {
       "output_type": "stream",
       "stream": "stdout",
       "text": [
        "(1, 40, 898, 398)\n",
        "(40,)\n"
       ]
      }
     ],
     "prompt_number": 4
    },
    {
     "cell_type": "markdown",
     "metadata": {},
     "source": [
      "Construct our new temperature and salinity profiles from sketches:  \n",
      "Temperature: above 100 m, 8 degrees  \n",
      "below 100, decrease from 8 to 7.3 at 220 m  \n",
      "Salinity: above 150 m, surface 29.5, increase to 33.4  \n",
      "below 150, increase from 33.4 to 33.7 at 220"
     ]
    },
    {
     "cell_type": "code",
     "collapsed": false,
     "input": [
      "temp = np.zeros(depths.size)\n",
      "sal = np.zeros(depths.size)\n",
      "for id in range(0,depths.size):\n",
      "    if depths[id] < 100:\n",
      "        temp[id] = 8\n",
      "    elif depths[id] < 220:\n",
      "        temp[id] = 8 - (8-7.3)*(depths[id]-100.)/(220-100.)\n",
      "    else:\n",
      "        temp[id] = 7.3\n",
      "    if depths[id] < 150:\n",
      "        sal[id] = 29.5 + (33.4-29.5)*depths[id]/(150.)\n",
      "    elif depths[id] < 220:\n",
      "        sal[id] = 33.4 + (33.7-33.4)*(depths[id]-150.)/(220-150.)\n",
      "    else:\n",
      "        sal[id] = 33.7\n",
      "plt.subplot(1,2,1)\n",
      "plt.plot(sal,-depths,'o',Sorig[0,:,2,2],-depths,'rs')\n",
      "plt.subplot(1,2,2)\n",
      "plt.plot(temp,-depths,'o',Torig[0,:,2,2],-depths,'rs')\n",
      "print temp[0]"
     ],
     "language": "python",
     "metadata": {},
     "outputs": [
      {
       "output_type": "stream",
       "stream": "stdout",
       "text": [
        "8.0\n"
       ]
      },
      {
       "metadata": {},
       "output_type": "display_data",
       "png": "[encoded data removed]",
       "text": [
        "<matplotlib.figure.Figure at 0x104bcc510>"
       ]
      }
     ],
     "prompt_number": 5
    },
    {
     "cell_type": "markdown",
     "metadata": {},
     "source": [
      "From Open Boundary where we carefully characterized the western boundary we know our startj and endj values (and these include 5 padding cells on each end)."
     ]
    },
    {
     "cell_type": "code",
     "collapsed": false,
     "input": [
      "startj = 384\n",
      "endj = 471\n",
      "lengthj = endj-startj"
     ],
     "language": "python",
     "metadata": {},
     "outputs": [],
     "prompt_number": 6
    },
    {
     "cell_type": "markdown",
     "metadata": {},
     "source": [
      "Make boundary 10 wide (to follow AMM12)"
     ]
    },
    {
     "cell_type": "code",
     "collapsed": false,
     "input": [
      "r = 10"
     ],
     "language": "python",
     "metadata": {},
     "outputs": [],
     "prompt_number": 7
    },
    {
     "cell_type": "code",
     "collapsed": false,
     "input": [
      "#Middle of each month in sec\n",
      "mmt = (31/2.,31+28/2.,31+28+31/2., 31+28+31+30/2., 31+28+31+30+31/2., 31+28+31+30+31+30/2.,\n",
      "       31+28+31+30+31+30+31/2., 31+28+31+30+31+30+31+31/2., 31+28+31+30+31+30+31+31+30/2.,\n",
      "       31+28+31+30+31+30+31+31+30+31/2., 31+28+31+30+31+30+31+31+30+31+30/2.,\n",
      "       31+28+31+30+31+30+31+31+30+31+30+31/2.)*86400"
     ],
     "language": "python",
     "metadata": {},
     "outputs": [],
     "prompt_number": 11
    },
    {
     "cell_type": "markdown",
     "metadata": {},
     "source": [
      "Open and make our files for TS"
     ]
    },
    {
     "cell_type": "code",
     "collapsed": false,
     "input": [
      "for month in range(1,10):\n",
      "    nemo = NC.Dataset('SalishSea2_bdyT_tra_m0'+str(month)+'.nc', 'w')\n",
      "    nemo.description = 'T & S same as initial conditions'\n",
      "\n",
      "# dimensions\n",
      "    nemo.createDimension('xbT', lengthj*r)\n",
      "    nemo.createDimension('yb', 1)\n",
      "    nemo.createDimension('deptht',size = len(depth_out))\n",
      "    nemo.createDimension('time_counter', None)\n",
      "\n",
      "# variables\n",
      "# deptht\n",
      "    deptht = nemo.createVariable('deptht','float32',('deptht'),zlib=True)\n",
      "    deptht.units = 'm'\n",
      "# time_counter\n",
      "    time_counter = nemo.createVariable('time_counter', 'float32', ('time_counter'))\n",
      "    time_counter.units = 'Seconds since beginning of year'\n",
      "    time_counter.longname = 'time axis'\n",
      "    time_counter.axis = 'T'\n",
      "# nav_lat and nav_lon\n",
      "    nav_lat = nemo.createVariable('nav_lat','float32',('yb','xbT'),zlib=True)\n",
      "    nav_lon = nemo.createVariable('nav_lon','float32',('yb','xbT'),zlib=True)\n",
      "# votemper\n",
      "    votemper = nemo.createVariable('votemper', 'float32', \n",
      "                               ('time_counter','deptht','yb','xbT'),\n",
      "                               zlib=True)\n",
      "    votemper.units = 'degrees Celcius'\n",
      "    votemper.long_name = 'Temperature'   \n",
      "    votemper.coordinates = 'time_counter, deptht, boundary number, boundary counter'\n",
      "    votemper.grid = 'SalishSea'\n",
      "# vosaline\n",
      "    vosaline = nemo.createVariable('vosaline', 'float32', \n",
      "                               ('time_counter','deptht','yb','xbT'),\n",
      "                               zlib=True)\n",
      "    vosaline.units = 'non dim'\n",
      "    vosaline.long_name = 'Practical Salinity'  \n",
      "    vosaline.coordinates = 'time_counter, deptht, boundary number, boundary counter'\n",
      "    vosaline.grid = 'SalishSea'\n",
      "# nbidta, ndjdta, ndrdta\n",
      "    nbidta = nemo.createVariable('nbidta', 'int32' , ('yb','xbT'))\n",
      "    nbidta.units = 'non dim'\n",
      "    nbidta.longname = 'i grid position'\n",
      "    nbjdta = nemo.createVariable('nbjdta', 'int32' , ('yb','xbT'))\n",
      "    nbjdta.units = 'non dim'\n",
      "    nbjdta.longname = 'j grid position'\n",
      "    nbrdta = nemo.createVariable('nbrdta', 'int32' , ('yb','xbT'))\n",
      "    nbrdta.units = 'non dim'\n",
      "    nbrdta.longname = 'position from boundary'\n",
      "# values\n",
      "# depths, time counter\n",
      "    deptht[:] = depths\n",
      "    time_counter[0] = mmt[month]\n",
      "# nav_lat, nav_lon, nbidta, nbjdta\n",
      "    for ir in range(0,r):\n",
      "        nav_lat[0,ir*lengthj:(ir+1)*lengthj] = lat[startj:endj,ir]\n",
      "        nav_lon[0,ir*lengthj:(ir+1)*lengthj] = lon[startj:endj,ir]\n",
      "        nbidta[0,ir*lengthj:(ir+1)*lengthj] = ir\n",
      "        nbjdta[0,ir*lengthj:(ir+1)*lengthj] = range(startj,endj)\n",
      "        nbrdta[0,ir*lengthj:(ir+1)*lengthj] = ir\n",
      "# votemper, vosaline\n",
      "    print votemper.shape\n",
      "    for ib in range(0,lengthj*r):\n",
      "        votemper[0,:,0,ib] = Torig\n",
      "        vosaline[0,:,0,ib] = Sorig\n",
      "# and close\n",
      "    nemo.close()"
     ],
     "language": "python",
     "metadata": {},
     "outputs": [
      {
       "output_type": "stream",
       "stream": "stdout",
       "text": [
        "(1, 40, 1, 870)\n",
        "(1, 40, 1, 870)"
       ]
      },
      {
       "output_type": "stream",
       "stream": "stdout",
       "text": [
        "\n",
        "(1, 40, 1, 870)"
       ]
      },
      {
       "output_type": "stream",
       "stream": "stdout",
       "text": [
        "\n",
        "(1, 40, 1, 870)"
       ]
      },
      {
       "output_type": "stream",
       "stream": "stdout",
       "text": [
        "\n",
        "(1, 40, 1, 870)"
       ]
      },
      {
       "output_type": "stream",
       "stream": "stdout",
       "text": [
        "\n",
        "(1, 40, 1, 870)"
       ]
      },
      {
       "output_type": "stream",
       "stream": "stdout",
       "text": [
        "\n",
        "(1, 40, 1, 870)"
       ]
      },
      {
       "output_type": "stream",
       "stream": "stdout",
       "text": [
        "\n",
        "(1, 40, 1, 870)"
       ]
      },
      {
       "output_type": "stream",
       "stream": "stdout",
       "text": [
        "\n",
        "(1, 40, 1, 870)"
       ]
      },
      {
       "output_type": "stream",
       "stream": "stdout",
       "text": [
        "\n"
       ]
      }
     ],
     "prompt_number": 12
    },
    {
     "cell_type": "code",
     "collapsed": false,
     "input": [
      "for month in range(10,12+1):\n",
      "    nemo = NC.Dataset('SalishSea2_bdyT_tra_m'+str(month)+'.nc', 'w')\n",
      "    nemo.description = 'Rough T & S data from Thomson et al, 2007'  \n",
      "\n",
      "# dimensions\n",
      "    nemo.createDimension('xbT', lengthj*r)\n",
      "    nemo.createDimension('yb', 1)\n",
      "    nemo.createDimension('deptht',size = len(depth_out))\n",
      "    nemo.createDimension('time_counter', None)\n",
      "\n",
      "# variables\n",
      "# deptht\n",
      "    deptht = nemo.createVariable('deptht','float32',('deptht'),zlib=True)\n",
      "    deptht.units = 'm'\n",
      "# time_counter\n",
      "    time_counter = nemo.createVariable('time_counter', 'float32', ('time_counter'))\n",
      "    time_counter.units = 'Seconds since beginning of year'\n",
      "    time_counter.longname = 'time axis'\n",
      "    time_counter.axis = 'T'\n",
      "# nav_lat and nav_lon\n",
      "    nav_lat = nemo.createVariable('nav_lat','float32',('yb','xbT'),zlib=True)\n",
      "    nav_lon = nemo.createVariable('nav_lon','float32',('yb','xbT'),zlib=True)\n",
      "# votemper\n",
      "    votemper = nemo.createVariable('votemper', 'float32', \n",
      "                               ('time_counter','deptht','yb','xbT'),\n",
      "                               zlib=True)\n",
      "    votemper.units = 'degrees Celcius'\n",
      "    votemper.long_name = 'Temperature'   \n",
      "    votemper.coordinates = 'time_counter, deptht, boundary number, boundary counter'\n",
      "    votemper.grid = 'SalishSea'\n",
      "# vosaline\n",
      "    vosaline = nemo.createVariable('vosaline', 'float32', \n",
      "                               ('time_counter','deptht','yb','xbT'),\n",
      "                               zlib=True)\n",
      "    vosaline.units = 'non dim'\n",
      "    vosaline.long_name = 'Practical Salinity'  \n",
      "    vosaline.coordinates = 'time_counter, deptht, boundary number, boundary counter'\n",
      "    vosaline.grid = 'SalishSea'\n",
      "# nbidta, ndjdta, ndrdta\n",
      "    nbidta = nemo.createVariable('nbidta', 'int32' , ('yb','xbT'))\n",
      "    nbidta.units = 'non dim'\n",
      "    nbidta.longname = 'i grid position'\n",
      "    nbjdta = nemo.createVariable('nbjdta', 'int32' , ('yb','xbT'))\n",
      "    nbjdta.units = 'non dim'\n",
      "    nbjdta.longname = 'j grid position'\n",
      "    nbrdta = nemo.createVariable('nbrdta', 'int32' , ('yb','xbT'))\n",
      "    nbrdta.units = 'non dim'\n",
      "    nbrdta.longname = 'position from boundary'\n",
      "# values\n",
      "# depths, time counter\n",
      "    deptht[:] = depths\n",
      "    time_counter[0] = mmt[month]\n",
      "# nav_lat, nav_lon, nbidta, nbjdta\n",
      "    for ir in range(0,r):\n",
      "        nav_lat[0,ir*lengthj:(ir+1)*lengthj] = lat[startj:endj,ir]\n",
      "        nav_lon[0,ir*lengthj:(ir+1)*lengthj] = lon[startj:endj,ir]\n",
      "        nbidta[0,ir*lengthj:(ir+1)*lengthj] = ir\n",
      "        nbjdta[0,ir*lengthj:(ir+1)*lengthj] = range(startj,endj)\n",
      "        nbrdta[0,ir*lengthj:(ir+1)*lengthj] = ir\n",
      "# votemper, vosaline\n",
      "    print votemper.shape\n",
      "    for ib in range(0,lengthj*r):\n",
      "        votemper[0,:,0,ib] = temp\n",
      "        vosaline[0,:,0,ib] = sal\n",
      "nemo.close()"
     ],
     "language": "python",
     "metadata": {},
     "outputs": [
      {
       "output_type": "stream",
       "stream": "stdout",
       "text": [
        "(1, 40, 1, 870)\n",
        "(1, 40, 1, 870)"
       ]
      },
      {
       "output_type": "stream",
       "stream": "stdout",
       "text": [
        "\n",
        "(1, 40, 1, 870)"
       ]
      },
      {
       "output_type": "stream",
       "stream": "stdout",
       "text": [
        "\n"
       ]
      }
     ],
     "prompt_number": 13
    },
    {
     "cell_type": "code",
     "collapsed": false,
     "input": [
      "# all as one file\n",
      "#Middle of each month in sec\n",
      "mmtsec = np.array([31/2.,31+28/2.,31+28+31/2., 31+28+31+30/2., 31+28+31+30+31/2., 31+28+31+30+31+30/2.,\n",
      "       31+28+31+30+31+30+31/2., 31+28+31+30+31+30+31+31/2., 31+28+31+30+31+30+31+31+30/2.,\n",
      "       31+28+31+30+31+30+31+31+30+31/2., 31+28+31+30+31+30+31+31+30+31+30/2.,\n",
      "       31+28+31+30+31+30+31+31+30+31+30+31/2.])*86400.\n",
      "print mmtsec.shape\n",
      "nemo = NC.Dataset('SalishSea2_Soft_tra.nc', 'w')\n",
      "nemo.description = 'T & S same as initial conditions for 9 months, then new OBC'\n",
      "\n",
      "# dimensions\n",
      "nemo.createDimension('xbT', lengthj*r)\n",
      "nemo.createDimension('yb', 1)\n",
      "nemo.createDimension('deptht',size = len(depth_out))\n",
      "nemo.createDimension('time_counter', None)\n",
      "\n",
      "# variables\n",
      "# deptht\n",
      "deptht = nemo.createVariable('deptht','float32',('deptht'),zlib=True)\n",
      "deptht.units = 'm'\n",
      "# time_counter\n",
      "time_counter = nemo.createVariable('time_counter', 'float32', ('time_counter'))\n",
      "time_counter.units = 'Seconds since beginning of year'\n",
      "time_counter.longname = 'time axis'\n",
      "time_counter.axis = 'T'\n",
      "# nav_lat and nav_lon\n",
      "nav_lat = nemo.createVariable('nav_lat','float32',('yb','xbT'),zlib=True)\n",
      "nav_lon = nemo.createVariable('nav_lon','float32',('yb','xbT'),zlib=True)\n",
      "# votemper\n",
      "votemper = nemo.createVariable('votemper', 'float32', \n",
      "                               ('time_counter','deptht','yb','xbT'),\n",
      "                               zlib=True)\n",
      "votemper.units = 'degrees Celcius'\n",
      "votemper.long_name = 'Temperature'   \n",
      "votemper.coordinates = 'time_counter, deptht, boundary number, boundary counter'\n",
      "votemper.grid = 'SalishSea'\n",
      "# vosaline\n",
      "vosaline = nemo.createVariable('vosaline', 'float32', \n",
      "                               ('time_counter','deptht','yb','xbT'),\n",
      "                               zlib=True)\n",
      "vosaline.units = 'non dim'\n",
      "vosaline.long_name = 'Practical Salinity'  \n",
      "vosaline.coordinates = 'time_counter, deptht, boundary number, boundary counter'\n",
      "vosaline.grid = 'SalishSea'\n",
      "# nbidta, ndjdta, ndrdta\n",
      "nbidta = nemo.createVariable('nbidta', 'int32' , ('yb','xbT'))\n",
      "nbidta.units = 'non dim'\n",
      "nbidta.longname = 'i grid position'\n",
      "nbjdta = nemo.createVariable('nbjdta', 'int32' , ('yb','xbT'))\n",
      "nbjdta.units = 'non dim'\n",
      "nbjdta.longname = 'j grid position'\n",
      "nbrdta = nemo.createVariable('nbrdta', 'int32' , ('yb','xbT'))\n",
      "nbrdta.units = 'non dim'\n",
      "nbrdta.longname = 'position from boundary'\n",
      "# values\n",
      "# depths, time counter\n",
      "deptht[:] = depths\n",
      "time_counter[0:12] = mmtsec\n",
      "# nav_lat, nav_lon, nbidta, nbjdta\n",
      "for ir in range(0,r):\n",
      "    nav_lat[0,ir*lengthj:(ir+1)*lengthj] = lat[startj:endj,ir]\n",
      "    nav_lon[0,ir*lengthj:(ir+1)*lengthj] = lon[startj:endj,ir]\n",
      "    nbidta[0,ir*lengthj:(ir+1)*lengthj] = ir\n",
      "    nbjdta[0,ir*lengthj:(ir+1)*lengthj] = range(startj,endj)\n",
      "    nbrdta[0,ir*lengthj:(ir+1)*lengthj] = ir\n",
      "# votemper, vosaline\n",
      "print votemper.shape\n",
      "for month in range(0,9):\n",
      "    for ib in range(0,lengthj*r):\n",
      "        votemper[month,:,0,ib] = Torig\n",
      "        vosaline[month,:,0,ib] = Sorig\n",
      "for month in range(9,12):\n",
      "    for ib in range(0,lengthj*r):\n",
      "        votemper[month,:,0,ib] = temp\n",
      "        vosaline[month,:,0,ib] = sal\n",
      "# and close\n",
      "nemo.close()"
     ],
     "language": "python",
     "metadata": {},
     "outputs": [
      {
       "output_type": "stream",
       "stream": "stdout",
       "text": [
        "(12,)\n",
        "(12, 40, 1, 870)"
       ]
      },
      {
       "output_type": "stream",
       "stream": "stdout",
       "text": [
        "\n"
       ]
      }
     ],
     "prompt_number": 8
    },
    {
     "cell_type": "code",
     "collapsed": false,
     "input": [
      "nemo.close()"
     ],
     "language": "python",
     "metadata": {},
     "outputs": [
      {
       "ename": "RuntimeError",
       "evalue": "NetCDF: Not a valid ID",
       "output_type": "pyerr",
       "traceback": [
        "\u001b[0;31m---------------------------------------------------------------------------\u001b[0m\n\u001b[0;31mRuntimeError\u001b[0m                              Traceback (most recent call last)",
        "\u001b[0;32m<ipython-input-9-a390fe3c330c>\u001b[0m in \u001b[0;36m<module>\u001b[0;34m()\u001b[0m\n\u001b[0;32m----> 1\u001b[0;31m \u001b[0mnemo\u001b[0m\u001b[0;34m.\u001b[0m\u001b[0mclose\u001b[0m\u001b[0;34m(\u001b[0m\u001b[0;34m)\u001b[0m\u001b[0;34m\u001b[0m\u001b[0m\n\u001b[0m",
        "\u001b[0;32m/Users/sallen/anaconda/python.app/Contents/lib/python2.7/site-packages/netCDF4.so\u001b[0m in \u001b[0;36mnetCDF4.Dataset.close (netCDF4.c:20738)\u001b[0;34m()\u001b[0m\n",
        "\u001b[0;31mRuntimeError\u001b[0m: NetCDF: Not a valid ID"
       ]
      }
     ],
     "prompt_number": 9
    },
    {
     "cell_type": "code",
     "collapsed": false,
     "input": [],
     "language": "python",
     "metadata": {},
     "outputs": [
      {
       "output_type": "stream",
       "stream": "stdout",
       "text": [
        "[ 10.  20.  30.]\n"
       ]
      }
     ],
     "prompt_number": 43
    },
    {
     "cell_type": "code",
     "collapsed": false,
     "input": [],
     "language": "python",
     "metadata": {},
     "outputs": []
    }
   ],
   "metadata": {}
  }
 ]
}