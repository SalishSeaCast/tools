{
 "metadata": {
  "name": "",
  "signature": "sha256:0d88fe71f547e641097106570acc9b1c8b25224d8575bb0a2a0c9a7f024bb8de"
 },
 "nbformat": 3,
 "nbformat_minor": 0,
 "worksheets": [
  {
   "cells": [
    {
     "cell_type": "markdown",
     "metadata": {},
     "source": [
      "Notebook to combine actual Fraser River data with monthly climatologies for all the other rivers."
     ]
    },
    {
     "cell_type": "markdown",
     "metadata": {},
     "source": [
      "Steps to Create this Notebook:\n",
      "* create daily files containing climatology for all rivers : done\n",
      "* figure out how the Hope data compares to the climatology for the Fraser Drainage from Morrison\n",
      "* replace Fraser information in the daily files with combined Hope/climatology data"
     ]
    },
    {
     "cell_type": "code",
     "collapsed": false,
     "input": [
      "# Standard Imports\n",
      "from __future__ import division\n",
      "import numpy as np\n",
      "%matplotlib inline\n",
      "import matplotlib.pyplot as plt\n",
      "import netCDF4 as NC\n",
      "from salishsea_tools import nc_tools\n",
      "import arrow\n",
      "import rivertools"
     ],
     "language": "python",
     "metadata": {},
     "outputs": [],
     "prompt_number": 81
    },
    {
     "cell_type": "code",
     "collapsed": false,
     "input": [
      "# Constant and data ranges etc\n",
      "year = 2014\n",
      "month = 9\n",
      "startdate = arrow.get(year,month,1)\n",
      "enddate = arrow.get(year,month,9)\n",
      "#\n",
      "# Fraser River at Hope Seasonal Climatology (found in matlab using Mark's mean daily data)\n",
      "climFraseratHope = (931, 878, 866, 1814, 4097, 6970, 5538, 3539, 2372, 1937, 1595, 1119)\n",
      "# Climatology, Fraser Watershed\n",
      "fluxfile = NC.Dataset('../../../nemo-forcing/rivers/Salish_allrivers_monthly.nc','r')\n",
      "climFraserWaterShed = fluxfile.variables['fraser'][:]\n",
      "NonHope = climFraserWaterShed - climFraseratHope\n",
      "plt.plot(climFraseratHope,'r', label=\"Fraser at Hope\")\n",
      "plt.plot(climFraserWaterShed,'b',label=\"WaterShed\")\n",
      "plt.plot(NonHope,'g',label=\"Non Hope\")\n",
      "\n",
      "\n",
      "# \n",
      "pd = rivertools.get_watershed_prop_dict('fraser')\n",
      "totalfraser = (pd['Fraser1']['prop'] + pd['Fraser2']['prop'] + \n",
      "               pd['Fraser3']['prop'] + pd['Fraser4']['prop'])\n",
      "print totalfraser\n",
      "print climFraserWaterShed.sum()\n",
      "print NonHope.sum()\n",
      "otherratio = 0.016\n",
      "fraserratio = 1-otherratio\n",
      "\n",
      "nonFraser = (otherratio * climFraserWaterShed.sum()/NonHope.sum()) * NonHope\n",
      "afterHope = NonHope - nonFraser\n",
      "\n",
      "plt.plot(climFraserWaterShed*otherratio,'k',label=\"Non Fraser Previous\")\n",
      "plt.plot(nonFraser,'m',label=\"Non Fraser Proposed\")\n",
      "plt.plot(afterHope,'c',label=\"After Hope\")\n",
      "plt.legend()\n",
      "plt.xlabel('Month')\n",
      "plt.ylabel('Discharge m3/s')\n",
      "plt.legend()\n",
      "plt.xlabel('Month')\n",
      "plt.ylabel('Discharge m3/s')\n"
     ],
     "language": "python",
     "metadata": {},
     "outputs": [
      {
       "output_type": "stream",
       "stream": "stdout",
       "text": [
        "fraser has 10 rivers\n",
        "0.984\n",
        "42477.8\n",
        "10821.7629395\n"
       ]
      },
      {
       "metadata": {},
       "output_type": "pyout",
       "prompt_number": 104,
       "text": [
        "<matplotlib.text.Text at 0xac15b90>"
       ]
      },
      {
       "metadata": {},
       "output_type": "display_data",
       "png": "[encoded data removed]",
       "text": [
        "<matplotlib.figure.Figure at 0xa6c3510>"
       ]
      }
     ],
     "prompt_number": 104
    },
    {
     "cell_type": "code",
     "collapsed": false,
     "input": [
      "# open monthly climatology\n",
      "filename = '../../../nemo-forcing/rivers/rivers_month.nc'\n",
      "clim_rivers = NC.Dataset(filename)\n",
      "nc_tools.show_dimensions(clim_rivers)\n",
      "nc_tools.show_variables(clim_rivers)\n",
      "criverflow = clim_rivers.variables['rorunoff']\n",
      "# get other variables so we can put them in new files\n",
      "lat = clim_rivers.variables['nav_lat']\n",
      "lon = clim_rivers.variables['nav_lon']\n",
      "riverdepth = clim_rivers.variables['rodepth']\n",
      "print criverflow.shape"
     ],
     "language": "python",
     "metadata": {},
     "outputs": [
      {
       "output_type": "stream",
       "stream": "stdout",
       "text": [
        "<type 'netCDF4.Dimension'>: name = 'x', size = 398\n",
        "\n",
        "<type 'netCDF4.Dimension'>: name = 'y', size = 898\n",
        "\n",
        "<type 'netCDF4.Dimension'> (unlimited): name = 'time_counter', size = 12\n",
        "\n",
        "[u'nav_lat', u'nav_lon', u'time_counter', u'rorunoff', u'rodepth']\n",
        "(12, 898, 398)\n"
       ]
      }
     ],
     "prompt_number": 55
    },
    {
     "cell_type": "code",
     "collapsed": false,
     "input": [
      "def calculate_daily_flow(r,criverflow):\n",
      "    if r.day < 16:\n",
      "        prevmonth = r.month-1\n",
      "        nextmonth = r.month\n",
      "    else:\n",
      "        prevmonth = r.month\n",
      "        nextmonth = r.month + 1\n",
      "    fp = r - arrow.get(year,prevmonth,15)\n",
      "    fn = arrow.get(year,nextmonth,15) - r\n",
      "    ft = fp+fn\n",
      "    fp = fp.days/ft.days\n",
      "    fn = fn.days/ft.days\n",
      "    driverflow = fp*criverflow[prevmonth] + fn*criverflow[nextmonth]\n",
      "    return driverflow"
     ],
     "language": "python",
     "metadata": {},
     "outputs": [],
     "prompt_number": 44
    },
    {
     "cell_type": "code",
     "collapsed": false,
     "input": [
      "def write_file(r,flow,lat,lon,riverdepth):\n",
      "    directory = '.'\n",
      "    # set up filename to follow NEMO conventions\n",
      "    filename = 'RFraserCElsey'+str(year)+'m'+'{:0=2}'.format(r.month)+'d'+'{:0=2}'.format(r.day)\n",
      "   # print directory+'/'+filename\n",
      "    nemo = NC.Dataset(directory+'/'+filename, 'w')\n",
      "    nemo.description = 'Real Fraser Values, Daily Climatology for Other Rivers' \n",
      "    \n",
      "    # dimensions\n",
      "    ymax, xmax = lat.shape\n",
      "    nemo.createDimension('x', xmax)\n",
      "    nemo.createDimension('y', ymax)\n",
      "    nemo.createDimension('time_counter', None)\n",
      "    \n",
      "    # variables\n",
      "    # latitude and longitude\n",
      "    nav_lat = nemo.createVariable('nav_lat','float32',('y','x'),zlib=True)\n",
      "    nav_lat = lat\n",
      "    x = nemo.createVariable('nav_lon','float32',('y','x'),zlib=True)\n",
      "    nav_lon = lon\n",
      "    # time\n",
      "    time_counter = nemo.createVariable('time_counter', 'float32', ('time_counter'),zlib=True)\n",
      "    time_counter.units = 'non-dim'\n",
      "    time_counter[0:1] = range(1,2)\n",
      "    # runoff\n",
      "    rorunoff = nemo.createVariable('rorunoff', 'float32', ('time_counter','y','x'), zlib=True)\n",
      "    rorunoff._Fillvalue = 0.\n",
      "    rorunoff._missing_value = 0.\n",
      "    rorunoff._units = 'kg m-2 s-1'\n",
      "    rorunoff[0,:] = flow\n",
      "    # depth\n",
      "    rodepth = nemo.createVariable('rodepth','float32',('y','x'),zlib=True)\n",
      "    rodepth._Fillvalue = -1.\n",
      "    rodepth.missing_value = -1.\n",
      "    rodepth.units = 'm'\n",
      "    rodepth = riverdepth\n",
      "    nemo.close()\n",
      "    return"
     ],
     "language": "python",
     "metadata": {},
     "outputs": [],
     "prompt_number": 65
    },
    {
     "cell_type": "code",
     "collapsed": false,
     "input": [
      "for key in pd:\n",
      "    river = pd[key]\n",
      "        if river contains Fraser:\n",
      "            flux = calculate_daily_flow(r,afterHope) + fraserflux\n",
      "            subarea = fraserratio\n",
      "        else:\n",
      "            flux = calculate_daily_flow(r,NonFraser)\n",
      "            subarea = otherratio\n",
      "        \n",
      "        fill_runoff_array(flux*river['prop']/subarea,river['i'],\n",
      "                          river['di'],river['j'],river['dj'],river['depth'],runoff,run_depth)"
     ],
     "language": "python",
     "metadata": {},
     "outputs": []
    },
    {
     "cell_type": "code",
     "collapsed": false,
     "input": [
      "for r in arrow.Arrow.range('day', startdate, enddate):\n",
      "    driverflow = calculate_daily_flow(r,criverflow)\n",
      "    write_file(r,driverflow,lat,lon,riverdepth)\n",
      "\n",
      "plt.pcolormesh(driverflow[300:400,350:450],cmap = 'Reds')\n",
      "plt.colorbar()\n",
      "    \n",
      "    "
     ],
     "language": "python",
     "metadata": {},
     "outputs": [
      {
       "metadata": {},
       "output_type": "pyout",
       "prompt_number": 71,
       "text": [
        "<matplotlib.colorbar.Colorbar instance at 0x8f85098>"
       ]
      },
      {
       "metadata": {},
       "output_type": "display_data",
       "png": "[encoded data removed]",
       "text": [
        "<matplotlib.figure.Figure at 0x63b0650>"
       ]
      }
     ],
     "prompt_number": 71
    },
    {
     "cell_type": "code",
     "collapsed": false,
     "input": [],
     "language": "python",
     "metadata": {},
     "outputs": []
    }
   ],
   "metadata": {}
  }
 ]
}