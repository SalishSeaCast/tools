{
 "cells": [
  {
   "cell_type": "code",
   "execution_count": 21,
   "metadata": {},
   "outputs": [],
   "source": [
    "import datetime as dt\n",
    "import matplotlib.pyplot as plt\n",
    "import numpy as np\n",
    "import pandas as pd"
   ]
  },
  {
   "cell_type": "code",
   "execution_count": 22,
   "metadata": {},
   "outputs": [],
   "source": [
    "def read_river(river_name):\n",
    "    river_flow = pd.read_csv(f'{river_name}_flow', header=None, sep='\\s+', index_col=False,\n",
    "                      names=['year', 'month', 'day', 'flow'])\n",
    "    river_flow['date'] = pd.to_datetime(river_flow.drop(columns='flow'))\n",
    "    river_flow.set_index('date', inplace=True)\n",
    "    river_flow = river_flow.drop(columns=['year', 'month', 'day'])\n",
    "    return river_flow"
   ]
  },
  {
   "cell_type": "code",
   "execution_count": 23,
   "metadata": {},
   "outputs": [],
   "source": [
    "englishman = read_river('Englishman')\n",
    "englishman = englishman[(englishman.index.year <= 2017) & (englishman.index.year >= 2015)]\n",
    "salmon = read_river('Salmon_Sayward')\n",
    "salmon = salmon[(salmon.index.year <= 2017) & (salmon.index.year >= 2015)]"
   ]
  },
  {
   "cell_type": "code",
   "execution_count": 24,
   "metadata": {},
   "outputs": [],
   "source": [
    "matching_dictionary = {'Englishman': 'Salmon_Sayward',\n",
    "                      'Theodosia': 'Englishman',\n",
    "                      'Roberts_Roberts': 'Englishman'}\n",
    "timeseries = {'Englishman': englishman,\n",
    "             'Salmon_Sayward': salmon}"
   ]
  },
  {
   "cell_type": "code",
   "execution_count": 25,
   "metadata": {},
   "outputs": [
    {
     "data": {
      "image/png": "[encoded data removed]",
      "text/plain": [
       "<Figure size 432x288 with 1 Axes>"
      ]
     },
     "metadata": {
      "needs_background": "light"
     },
     "output_type": "display_data"
    }
   ],
   "source": [
    "englishman.flow.plot();"
   ]
  },
  {
   "cell_type": "code",
   "execution_count": 26,
   "metadata": {},
   "outputs": [],
   "source": [
    "diffy = englishman.index[1:] - englishman.index[:-1]\n",
    "day = dt.datetime(2020, 1, 2) - dt.datetime(2020, 1, 1)\n",
    "gaps = englishman[1:][diffy > day]\n",
    "gap_length = diffy[diffy > day]"
   ]
  },
  {
   "cell_type": "code",
   "execution_count": 27,
   "metadata": {},
   "outputs": [
    {
     "name": "stdout",
     "output_type": "stream",
     "text": [
      "                 flow\n",
      "date                 \n",
      "2015-01-05   21.11260\n",
      "2016-03-05  103.68510\n",
      "2016-03-14   32.30315\n",
      "TimedeltaIndex(['2 days', '3 days', '5 days'], dtype='timedelta64[ns]', name='date', freq=None)\n"
     ]
    },
    {
     "data": {
      "text/plain": [
       "DatetimeIndex(['2015-01-05', '2016-03-05', '2016-03-14'], dtype='datetime64[ns]', name='date', freq=None)"
      ]
     },
     "execution_count": 27,
     "metadata": {},
     "output_type": "execute_result"
    }
   ],
   "source": [
    "print (gaps)\n",
    "print(gap_length)\n",
    "gaps.index"
   ]
  },
  {
   "cell_type": "code",
   "execution_count": 30,
   "metadata": {
    "scrolled": false
   },
   "outputs": [
    {
     "name": "stdout",
     "output_type": "stream",
     "text": [
      "2 days 00:00:00\n",
      "2015-01-05 00:00:00 [0.99739458]\n",
      "2 first loop\n",
      "4 second loop\n",
      "[0.81945005] [0.19786628] 4\n",
      "[0.43617273]\n",
      "3 days 00:00:00\n",
      "2016-03-05 00:00:00 [1.06132446]\n",
      "3 first loop\n",
      "6 second loop\n",
      "[2.05149942] [0.72630945] 6\n",
      "[0.545025]\n",
      "5 days 00:00:00\n",
      "2016-03-14 00:00:00 [1.12298107]\n",
      "5 first loop\n",
      "10 second loop\n",
      "[3.15793428] [0.99878489] 10\n",
      "[0.53357153]\n",
      "[[ 11.3493832    0.           0.           0.           0.        ]\n",
      " [ 64.62223158 113.85821754   0.           0.           0.        ]\n",
      " [ 55.26384987  47.6848076   35.68465735  31.57934278   0.        ]]\n",
      "[['2015-01-04T00:00:00.000000000' '1970-01-01T00:00:00.000000000'\n",
      "  '1970-01-01T00:00:00.000000000' '1970-01-01T00:00:00.000000000'\n",
      "  '1970-01-01T00:00:00.000000000']\n",
      " ['2016-03-03T00:00:00.000000000' '2016-03-04T00:00:00.000000000'\n",
      "  '1970-01-01T00:00:00.000000000' '1970-01-01T00:00:00.000000000'\n",
      "  '1970-01-01T00:00:00.000000000']\n",
      " ['2016-03-10T00:00:00.000000000' '2016-03-11T00:00:00.000000000'\n",
      "  '2016-03-12T00:00:00.000000000' '2016-03-13T00:00:00.000000000'\n",
      "  '1970-01-01T00:00:00.000000000']]\n"
     ]
    }
   ],
   "source": [
    "filler = timeseries[matching_dictionary['Englishman']]\n",
    "base = englishman\n",
    "fillvalue = np.zeros((len(gaps.index), gap_length.max().days))\n",
    "filldate = np.zeros((len(gaps.index), gap_length.max().days), dtype='datetime64[ns]')\n",
    "for ig, gap in enumerate(gaps.index):\n",
    "    summit = 0\n",
    "    sumsq = 0\n",
    "    count = 0\n",
    "    print (gap_length[ig])\n",
    "    for deltat in np.arange(-2*gap_length[ig]+day, gap_length[ig], day):\n",
    "        summit = summit + filler[filler.index == gap+deltat]['flow'].values\n",
    "        sumsq = sumsq + filler[filler.index == gap+deltat]['flow'].values**2\n",
    "        count = count + 1\n",
    "    mean = summit/count\n",
    "    var = sumsq/count - mean**2/count\n",
    "    print (gap, np.sqrt(var)/mean)\n",
    "    sumbase = 0\n",
    "    sumfill = 0\n",
    "    sumratio = 0\n",
    "    sumratio2 = 0\n",
    "    count = 0\n",
    "    for deltat in np.arange(-2*gap_length[ig]+day, -gap_length[ig]+day, day):\n",
    "        sumbase = sumbase + base[base.index == gap+deltat]['flow'].values\n",
    "        sumfill = sumfill + filler[filler.index == gap+deltat]['flow'].values\n",
    "        ratio = base[base.index == gap+deltat]['flow'].values/filler[filler.index == gap+deltat]['flow'].values\n",
    "        sumratio = sumratio + ratio\n",
    "        sumratio2 = sumratio2 + ratio**2\n",
    "        count = count + 1\n",
    "    print (count, 'first loop')\n",
    "    for deltat in np.arange(0, gap_length[ig], day):\n",
    "        sumbase = sumbase + base[base.index == gap+deltat]['flow'].values\n",
    "        sumfill = sumfill + filler[filler.index == gap+deltat]['flow'].values\n",
    "        ratio = base[base.index == gap+deltat]['flow'].values/filler[filler.index == gap+deltat]['flow'].values\n",
    "        sumratio = sumratio + ratio\n",
    "        sumratio2 = sumratio2 + ratio**2\n",
    "        count = count + 1\n",
    "    print (count, 'second loop')\n",
    "    print (sumratio, sumratio2, count)\n",
    "    meanratio = sumratio/count\n",
    "    varratio = sumratio2/count - meanratio**2/count\n",
    "    print (np.sqrt(varratio/meanratio))\n",
    "    if np.sqrt(var)/mean < np.sqrt(varratio/meanratio) : \n",
    "        uselinear = True\n",
    "    else:\n",
    "        uselinear = False\n",
    "    for step, deltat in enumerate(np.arange(-gap_length[ig]+day, 0, day)):\n",
    "        if uselinear:\n",
    "            slope = (base[base.index == gap].values \n",
    "                 - base[base.index == gap-gap_length[ig]].values)/gap_length[ig].days\n",
    "            fillvalue[ig, step] = base[base.index == gap-gap_length[ig]] + slope * (step+1)\n",
    "        else:\n",
    "            fillvalue[ig, step] = meanratio * filler[filler.index == gap + deltat].values \n",
    "        filldate[ig, step] = gap + deltat\n",
    "print (fillvalue)\n",
    "print (filldate)"
   ]
  },
  {
   "cell_type": "code",
   "execution_count": 26,
   "metadata": {},
   "outputs": [
    {
     "name": "stdout",
     "output_type": "stream",
     "text": [
      "2\n"
     ]
    }
   ],
   "source": [
    "print (gap_length[0].days)"
   ]
  },
  {
   "cell_type": "code",
   "execution_count": 47,
   "metadata": {},
   "outputs": [
    {
     "data": {
      "text/plain": [
       "[<matplotlib.lines.Line2D at 0x13d5d0890>]"
      ]
     },
     "execution_count": 47,
     "metadata": {},
     "output_type": "execute_result"
    },
    {
     "data": {
      "image/png": "[encoded data removed]",
      "text/plain": [
       "<Figure size 432x288 with 1 Axes>"
      ]
     },
     "metadata": {
      "needs_background": "light"
     },
     "output_type": "display_data"
    }
   ],
   "source": [
    "valuesfill = [47.1, 47.8, 55.4, 68.5, 129]\n",
    "valuesbase = [5.75, 5.55, np.nan, 21.1, 35.2]\n",
    "plt.plot(valuesfill, '-*')\n",
    "plt.plot(valuesbase, '-x')\n",
    "plt.plot(2, 13.33, 'o')\n",
    "plt.plot(2, 11.35, 'o')\n"
   ]
  },
  {
   "cell_type": "code",
   "execution_count": 51,
   "metadata": {},
   "outputs": [
    {
     "data": {
      "text/plain": [
       "[<matplotlib.lines.Line2D at 0x13d90e490>]"
      ]
     },
     "execution_count": 51,
     "metadata": {},
     "output_type": "execute_result"
    },
    {
     "data": {
      "image/png": "[encoded data removed]",
      "text/plain": [
       "<Figure size 432x288 with 1 Axes>"
      ]
     },
     "metadata": {
      "needs_background": "light"
     },
     "output_type": "display_data"
    }
   ],
   "source": [
    "valuesfill = [69.6, 75.9, 119, 189, 333, 329, 243, 187]\n",
    "valuesbase = [17.9, 32, 51.6, np.nan, np.nan, 103.7, 79.28, 55.77]\n",
    "plt.plot(valuesfill, '-*')\n",
    "plt.plot(valuesbase, '-x')\n",
    "plt.plot([3, 4], [68.951547, 86.318323], 'o-')\n",
    "plt.plot([3, 4], [64.62223158, 113.85821754], 'o-')\n"
   ]
  },
  {
   "cell_type": "code",
   "execution_count": 55,
   "metadata": {},
   "outputs": [
    {
     "data": {
      "text/plain": [
       "[<matplotlib.lines.Line2D at 0x13dd29890>]"
      ]
     },
     "execution_count": 55,
     "metadata": {},
     "output_type": "execute_result"
    },
    {
     "data": {
      "image/png": "[encoded data removed]",
      "text/plain": [
       "<Figure size 432x288 with 1 Axes>"
      ]
     },
     "metadata": {
      "needs_background": "light"
     },
     "output_type": "display_data"
    }
   ],
   "source": [
    "valuesfill = [329, 243, 187, 113, 90.6, 175, 151, 113, 100, 98.7, 79.4, 65.4, 55, 48]\n",
    "valuesbase = [104, 79, 56, 37, 28, np.nan, np.nan, np.nan, np.nan, 32, 25, 22, 17, 14]\n",
    "plt.plot(valuesfill, '-*')\n",
    "plt.plot(valuesbase, '-x')\n",
    "plt.plot([5, 6, 7, 8], [28.603182, 29.528174, 30.453166, 31.378158], 'o-')\n",
    "plt.plot([5, 6, 7, 8], [55.26384987, 47.6848076, 35.68465735, 31.57934278], 'o-')"
   ]
  },
  {
   "cell_type": "code",
   "execution_count": 68,
   "metadata": {},
   "outputs": [
    {
     "data": {
      "image/png": "[encoded data removed]",
      "text/plain": [
       "<Figure size 1080x288 with 1 Axes>"
      ]
     },
     "metadata": {
      "needs_background": "light"
     },
     "output_type": "display_data"
    }
   ],
   "source": [
    "fig, ax = plt.subplots(1, 1, figsize=(15, 4))\n",
    "englishman.flow.plot(ax=ax, marker='.', linewidth=0);\n",
    "ax.plot(filldate.flatten(), fillvalue.flatten(), 'x')\n",
    "ax.set_xlim(dt.datetime(2015, 9, 1), dt.datetime(2016, 4, 30));"
   ]
  },
  {
   "cell_type": "code",
   "execution_count": 34,
   "metadata": {},
   "outputs": [
    {
     "data": {
      "text/html": [
       "<div>\n",
       "<style scoped>\n",
       "    .dataframe tbody tr th:only-of-type {\n",
       "        vertical-align: middle;\n",
       "    }\n",
       "\n",
       "    .dataframe tbody tr th {\n",
       "        vertical-align: top;\n",
       "    }\n",
       "\n",
       "    .dataframe thead th {\n",
       "        text-align: right;\n",
       "    }\n",
       "</style>\n",
       "<table border=\"1\" class=\"dataframe\">\n",
       "  <thead>\n",
       "    <tr style=\"text-align: right;\">\n",
       "      <th></th>\n",
       "      <th>flow</th>\n",
       "    </tr>\n",
       "  </thead>\n",
       "  <tbody>\n",
       "    <tr>\n",
       "      <th>2015-01-01</th>\n",
       "      <td>6.009292</td>\n",
       "    </tr>\n",
       "    <tr>\n",
       "      <th>2015-01-02</th>\n",
       "      <td>5.754686</td>\n",
       "    </tr>\n",
       "    <tr>\n",
       "      <th>2015-01-03</th>\n",
       "      <td>5.555931</td>\n",
       "    </tr>\n",
       "    <tr>\n",
       "      <th>2015-01-05</th>\n",
       "      <td>21.112600</td>\n",
       "    </tr>\n",
       "    <tr>\n",
       "      <th>2015-01-06</th>\n",
       "      <td>35.194280</td>\n",
       "    </tr>\n",
       "    <tr>\n",
       "      <th>...</th>\n",
       "      <td>...</td>\n",
       "    </tr>\n",
       "    <tr>\n",
       "      <th>2016-03-04</th>\n",
       "      <td>113.858218</td>\n",
       "    </tr>\n",
       "    <tr>\n",
       "      <th>2016-03-10</th>\n",
       "      <td>55.263850</td>\n",
       "    </tr>\n",
       "    <tr>\n",
       "      <th>2016-03-11</th>\n",
       "      <td>47.684808</td>\n",
       "    </tr>\n",
       "    <tr>\n",
       "      <th>2016-03-12</th>\n",
       "      <td>35.684657</td>\n",
       "    </tr>\n",
       "    <tr>\n",
       "      <th>2016-03-13</th>\n",
       "      <td>31.579343</td>\n",
       "    </tr>\n",
       "  </tbody>\n",
       "</table>\n",
       "<p>1096 rows × 1 columns</p>\n",
       "</div>"
      ],
      "text/plain": [
       "                  flow\n",
       "2015-01-01    6.009292\n",
       "2015-01-02    5.754686\n",
       "2015-01-03    5.555931\n",
       "2015-01-05   21.112600\n",
       "2015-01-06   35.194280\n",
       "...                ...\n",
       "2016-03-04  113.858218\n",
       "2016-03-10   55.263850\n",
       "2016-03-11   47.684808\n",
       "2016-03-12   35.684657\n",
       "2016-03-13   31.579343\n",
       "\n",
       "[1096 rows x 1 columns]"
      ]
     },
     "execution_count": 34,
     "metadata": {},
     "output_type": "execute_result"
    }
   ],
   "source": [
    "fillit = pd.DataFrame(index =filldate.flatten(), data = {'flow':fillvalue.flatten()})"
   ]
  },
  {
   "cell_type": "code",
   "execution_count": 32,
   "metadata": {},
   "outputs": [
    {
     "name": "stdout",
     "output_type": "stream",
     "text": [
      "2015-01-04 00:00:00\n",
      "2015-01-04 00:00:00\n",
      "1090\n",
      "1970-01-01 00:00:00\n",
      "1970-01-01 00:00:00\n",
      "1970-01-01 00:00:00\n",
      "1970-01-01 00:00:00\n",
      "2016-03-03 00:00:00\n",
      "2016-03-03 00:00:00\n",
      "1091\n",
      "2016-03-04 00:00:00\n",
      "2016-03-04 00:00:00\n",
      "1092\n",
      "1970-01-01 00:00:00\n",
      "1970-01-01 00:00:00\n",
      "1970-01-01 00:00:00\n",
      "2016-03-10 00:00:00\n",
      "2016-03-10 00:00:00\n",
      "1093\n",
      "2016-03-11 00:00:00\n",
      "2016-03-11 00:00:00\n",
      "1094\n",
      "2016-03-12 00:00:00\n",
      "2016-03-12 00:00:00\n",
      "1095\n",
      "2016-03-13 00:00:00\n",
      "2016-03-13 00:00:00\n",
      "1096\n",
      "1970-01-01 00:00:00\n"
     ]
    }
   ],
   "source": [
    "for index in fillit.index:\n",
    "    print (index)\n",
    "    if index > np.datetime64(dt.datetime(2006, 12, 31)):\n",
    "        print (index)\n",
    "        englishman = englishman.append(fillit[fillit.index == index], sort=True)\n",
    "        print (len(englishman.index))"
   ]
  },
  {
   "cell_type": "code",
   "execution_count": 98,
   "metadata": {},
   "outputs": [
    {
     "data": {
      "image/png": "[encoded data removed]",
      "text/plain": [
       "<Figure size 1080x288 with 1 Axes>"
      ]
     },
     "metadata": {
      "needs_background": "light"
     },
     "output_type": "display_data"
    }
   ],
   "source": [
    "fig, ax = plt.subplots(1, 1, figsize=(15, 4))\n",
    "ax.plot(filldate.flatten(), fillvalue.flatten(), 'x')\n",
    "englishman.flow.plot(ax=ax, marker='.', linewidth=0);\n",
    "ax.set_xlim(dt.datetime(2015, 9, 1), dt.datetime(2016, 4, 30));\n"
   ]
  },
  {
   "cell_type": "code",
   "execution_count": 94,
   "metadata": {},
   "outputs": [
    {
     "data": {
      "text/html": [
       "<div>\n",
       "<style scoped>\n",
       "    .dataframe tbody tr th:only-of-type {\n",
       "        vertical-align: middle;\n",
       "    }\n",
       "\n",
       "    .dataframe tbody tr th {\n",
       "        vertical-align: top;\n",
       "    }\n",
       "\n",
       "    .dataframe thead th {\n",
       "        text-align: right;\n",
       "    }\n",
       "</style>\n",
       "<table border=\"1\" class=\"dataframe\">\n",
       "  <thead>\n",
       "    <tr style=\"text-align: right;\">\n",
       "      <th></th>\n",
       "      <th>flow</th>\n",
       "    </tr>\n",
       "    <tr>\n",
       "      <th>date</th>\n",
       "      <th></th>\n",
       "    </tr>\n",
       "  </thead>\n",
       "  <tbody>\n",
       "    <tr>\n",
       "      <th>2017-12-27</th>\n",
       "      <td>5.265768</td>\n",
       "    </tr>\n",
       "    <tr>\n",
       "      <th>2017-12-28</th>\n",
       "      <td>7.123708</td>\n",
       "    </tr>\n",
       "    <tr>\n",
       "      <th>2017-12-29</th>\n",
       "      <td>19.430410</td>\n",
       "    </tr>\n",
       "    <tr>\n",
       "      <th>2017-12-30</th>\n",
       "      <td>16.209720</td>\n",
       "    </tr>\n",
       "    <tr>\n",
       "      <th>2017-12-31</th>\n",
       "      <td>13.250540</td>\n",
       "    </tr>\n",
       "  </tbody>\n",
       "</table>\n",
       "</div>"
      ],
      "text/plain": [
       "                 flow\n",
       "date                 \n",
       "2017-12-27   5.265768\n",
       "2017-12-28   7.123708\n",
       "2017-12-29  19.430410\n",
       "2017-12-30  16.209720\n",
       "2017-12-31  13.250540"
      ]
     },
     "execution_count": 94,
     "metadata": {},
     "output_type": "execute_result"
    }
   ],
   "source": [
    "englishman[-5:]"
   ]
  },
  {
   "cell_type": "markdown",
   "metadata": {},
   "source": [
    "## Patch Roberts"
   ]
  },
  {
   "cell_type": "code",
   "execution_count": 6,
   "metadata": {},
   "outputs": [],
   "source": [
    "roberts = read_river('Roberts_Roberts')\n",
    "roberts = roberts[(roberts.index.year <= 2017) & (roberts.index.year >= 2015)]"
   ]
  },
  {
   "cell_type": "code",
   "execution_count": 7,
   "metadata": {},
   "outputs": [
    {
     "data": {
      "image/png": "[encoded data removed]",
      "text/plain": [
       "<Figure size 432x288 with 1 Axes>"
      ]
     },
     "metadata": {
      "needs_background": "light"
     },
     "output_type": "display_data"
    }
   ],
   "source": [
    "roberts.flow.plot();"
   ]
  },
  {
   "cell_type": "code",
   "execution_count": 8,
   "metadata": {},
   "outputs": [],
   "source": [
    "diffy = roberts.index[1:] - roberts.index[:-1]\n",
    "day = dt.datetime(2020, 1, 2) - dt.datetime(2020, 1, 1)\n",
    "gaps = roberts[1:][diffy > day]\n",
    "gap_length = diffy[diffy > day]"
   ]
  },
  {
   "cell_type": "code",
   "execution_count": 9,
   "metadata": {},
   "outputs": [
    {
     "name": "stdout",
     "output_type": "stream",
     "text": [
      "Empty DataFrame\n",
      "Columns: [flow]\n",
      "Index: []\n",
      "TimedeltaIndex([], dtype='timedelta64[ns]', name='date', freq=None)\n"
     ]
    },
    {
     "data": {
      "text/plain": [
       "DatetimeIndex([], dtype='datetime64[ns]', name='date', freq=None)"
      ]
     },
     "execution_count": 9,
     "metadata": {},
     "output_type": "execute_result"
    }
   ],
   "source": [
    "print (gaps)\n",
    "print(gap_length)\n",
    "gaps.index"
   ]
  },
  {
   "cell_type": "markdown",
   "metadata": {},
   "source": [
    "## Patch Theodosia"
   ]
  },
  {
   "cell_type": "code",
   "execution_count": 15,
   "metadata": {},
   "outputs": [],
   "source": [
    "def read_river_Theodosia():\n",
    "    part1 = pd.read_csv('Theodosia_Scotty_flow', header=None, sep='\\s+', index_col=False,\n",
    "                      names=['year', 'month', 'day', 'flow'])\n",
    "    part2 = pd.read_csv('Theodosia_Bypass_flow', header=None, sep='\\s+', index_col=False,\n",
    "                      names=['year', 'month', 'day', 'flow'])\n",
    "    part3 = pd.read_csv('Theodosia_Diversion_flow', header=None, sep='\\s+', index_col=False,\n",
    "                      names=['year', 'month', 'day', 'flow'])\n",
    "    for part in [part1, part2, part3]:\n",
    "        part['date'] = pd.to_datetime(part.drop(columns='flow'))\n",
    "        part.set_index('date', inplace=True)\n",
    "        part.drop(columns=['year', 'month', 'day'], inplace=True)\n",
    "    part1 = part1.rename(columns={'flow': 'Scotty'})\n",
    "    part2 = part2.rename(columns={'flow': 'Bypass'})\n",
    "    part3 = part3.rename(columns={'flow': 'Diversion'})\n",
    "    theodosia = (part1.merge(part2, how='inner', on='date')).merge(part3, how='inner', on='date')\n",
    "    theodosia['flow'] = theodosia['Scotty'] + theodosia['Diversion'] - theodosia['Bypass']\n",
    "    return theodosia"
   ]
  },
  {
   "cell_type": "code",
   "execution_count": 16,
   "metadata": {},
   "outputs": [],
   "source": [
    "theodosia = read_river_Theodosia()\n",
    "theodosia = theodosia[(theodosia.index.year <= 2017) & (theodosia.index.year >= 2015)]"
   ]
  },
  {
   "cell_type": "code",
   "execution_count": 17,
   "metadata": {},
   "outputs": [
    {
     "data": {
      "image/png": "[encoded data removed]",
      "text/plain": [
       "<Figure size 432x288 with 1 Axes>"
      ]
     },
     "metadata": {
      "needs_background": "light"
     },
     "output_type": "display_data"
    }
   ],
   "source": [
    "theodosia.flow.plot();"
   ]
  },
  {
   "cell_type": "code",
   "execution_count": 18,
   "metadata": {},
   "outputs": [],
   "source": [
    "diffy = theodosia.index[1:] - theodosia.index[:-1]\n",
    "day = dt.datetime(2020, 1, 2) - dt.datetime(2020, 1, 1)\n",
    "gaps = theodosia[1:][diffy > day]\n",
    "gap_length = diffy[diffy > day]"
   ]
  },
  {
   "cell_type": "code",
   "execution_count": 19,
   "metadata": {},
   "outputs": [
    {
     "name": "stdout",
     "output_type": "stream",
     "text": [
      "Empty DataFrame\n",
      "Columns: [Scotty, Bypass, Diversion, flow]\n",
      "Index: []\n",
      "TimedeltaIndex([], dtype='timedelta64[ns]', name='date', freq=None)\n"
     ]
    },
    {
     "data": {
      "text/plain": [
       "DatetimeIndex([], dtype='datetime64[ns]', name='date', freq=None)"
      ]
     },
     "execution_count": 19,
     "metadata": {},
     "output_type": "execute_result"
    }
   ],
   "source": [
    "print (gaps)\n",
    "print(gap_length)\n",
    "gaps.index"
   ]
  },
  {
   "cell_type": "code",
   "execution_count": null,
   "metadata": {},
   "outputs": [],
   "source": []
  }
 ],
 "metadata": {
  "kernelspec": {
   "display_name": "Python 3",
   "language": "python",
   "name": "python3"
  },
  "language_info": {
   "codemirror_mode": {
    "name": "ipython",
    "version": 3
   },
   "file_extension": ".py",
   "mimetype": "text/x-python",
   "name": "python",
   "nbconvert_exporter": "python",
   "pygments_lexer": "ipython3",
   "version": "3.7.9"
  }
 },
 "nbformat": 4,
 "nbformat_minor": 4
}
