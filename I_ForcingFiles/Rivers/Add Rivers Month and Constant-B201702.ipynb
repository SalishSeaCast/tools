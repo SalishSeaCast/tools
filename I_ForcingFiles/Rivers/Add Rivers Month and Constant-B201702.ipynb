{
 "cells": [
  {
   "cell_type": "code",
   "execution_count": 1,
   "metadata": {
    "collapsed": false
   },
   "outputs": [],
   "source": [
    "import netCDF4 as NC\n",
    "import numpy as np\n",
    "import matplotlib.pyplot as plt\n",
    "\n",
    "from salishsea_tools import rivertools, river_201702, nc_tools\n",
    "\n",
    "%matplotlib inline"
   ]
  },
  {
   "cell_type": "code",
   "execution_count": 21,
   "metadata": {
    "collapsed": false
   },
   "outputs": [
    {
     "data": {
      "text/plain": [
       "<module 'salishsea_tools.rivertools' from '/ocean/sallen/allen/research/Meopar/Tools/SalishSeaTools/salishsea_tools/rivertools.py'>"
      ]
     },
     "execution_count": 21,
     "metadata": {},
     "output_type": "execute_result"
    }
   ],
   "source": [
    "import importlib\n",
    "importlib.reload(rivertools)"
   ]
  },
  {
   "cell_type": "code",
   "execution_count": 2,
   "metadata": {
    "collapsed": false
   },
   "outputs": [],
   "source": [
    "#what type of file would you like to create?\n",
    "#e.g. 'constant' - yearly average used for all months\n",
    "#     'monthly' - monthly averages used for each month\n",
    "rivertype = 'constant'\n",
    "bathy = '../../../nemo-forcing/grid/bathymetry_201702.nc'\n",
    "# leave temperature at -99, I'm not setting it in this file"
   ]
  },
  {
   "cell_type": "code",
   "execution_count": 3,
   "metadata": {
    "collapsed": false
   },
   "outputs": [],
   "source": [
    "#get watershed fluxes from netcdf file\n",
    "if rivertype == 'constant':\n",
    "    fluxfile = NC.Dataset('../../../nemo-forcing/rivers/Salish_allrivers_cnst.nc','r')\n",
    "    #inialise the runoff and run_depth arrays\n",
    "    runoff, run_depth, run_temp = rivertools.init_runoff_array(bathy=bathy, init_depth=3)\n",
    "if rivertype == 'monthly':\n",
    "    fluxfile = NC.Dataset('../../../nemo-forcing/rivers/Salish_allrivers_monthly.nc','r')\n",
    "    #inialise the runoff and run_depth arrays\n",
    "    runoff, run_depth, run_temp = rivertools.init_runoff_array_monthly(bathy=bathy, \n",
    "                                                                       init_depth=3)\n"
   ]
  },
  {
   "cell_type": "code",
   "execution_count": 4,
   "metadata": {
    "collapsed": false
   },
   "outputs": [
    {
     "name": "stdout",
     "output_type": "stream",
     "text": [
      "3.0 -99.0\n"
     ]
    }
   ],
   "source": [
    "print (run_depth.max(), run_temp.max())"
   ]
  },
  {
   "cell_type": "code",
   "execution_count": 5,
   "metadata": {
    "collapsed": false
   },
   "outputs": [
    {
     "name": "stdout",
     "output_type": "stream",
     "text": [
      "(898, 398)\n"
     ]
    }
   ],
   "source": [
    "#get dimensions for netcdf files\n",
    "fB = NC.Dataset(bathy, 'r')\n",
    "lat = fB.variables['nav_lat']\n",
    "lon = fB.variables['nav_lon']\n",
    "D = fB.variables['Bathymetry'][:]\n",
    "ymax, xmax = D.shape\n",
    "print (lat[:].shape)\n",
    "mesh = NC.Dataset('../../../NEMO-forcing/grid/mesh_mask201702.nc')\n",
    "e1t = mesh.variables['e1t'][0,:]\n",
    "e2t = mesh.variables['e2t'][0,:]\n",
    "mesh.close()"
   ]
  },
  {
   "cell_type": "code",
   "execution_count": 6,
   "metadata": {
    "collapsed": false
   },
   "outputs": [],
   "source": [
    "#list of watersheds we are including\n",
    "names = ['skagit', 'fraser', 'evi_n', 'howe', 'bute', 'puget', 'jdf', 'evi_s', 'jervis', 'toba']"
   ]
  },
  {
   "cell_type": "code",
   "execution_count": 7,
   "metadata": {
    "collapsed": false
   },
   "outputs": [],
   "source": [
    "prop_dict = river_201702.prop_dict"
   ]
  },
  {
   "cell_type": "code",
   "execution_count": 8,
   "metadata": {
    "collapsed": false
   },
   "outputs": [
    {
     "name": "stdout",
     "output_type": "stream",
     "text": [
      "skagit\n",
      "937.349182129 937.3491821289062 1.0\n",
      "fraser\n",
      "3549.7334779 3549.736083984375 0.999999265838\n",
      "evi_n\n",
      "249.752106589 638.462158203125 0.391177618564\n",
      "howe\n",
      "572.813913014 572.8439331054688 0.999947594643\n",
      "bute\n",
      "550.370360963 550.5059204101562 0.999753754788\n",
      "puget\n",
      "502.769592285 502.76959228515625 1.0\n",
      "jdf\n",
      "409.813751221 409.8137512207031 1.0\n",
      "evi_s\n",
      "329.561645508 329.566162109375 0.999986295314\n",
      "jervis\n",
      "296.905334473 296.90533447265625 1.0\n",
      "toba\n",
      "270.210601807 270.2106018066406 1.0\n"
     ]
    }
   ],
   "source": [
    "for name in range(0,len(names)):\n",
    "    watershedname = names[name]\n",
    "    print (watershedname)\n",
    "    Flux = fluxfile.variables[watershedname][:]\n",
    "    if rivertype == 'constant':\n",
    "        Flux = float(Flux)\n",
    "    runoff_orig = np.copy(runoff)\n",
    "    runoff, run_depth, run_temp = rivertools.put_watershed_into_runoff(rivertype,\n",
    "                                            watershedname, Flux, runoff, run_depth, run_temp,\n",
    "                                            use_prop_dict=True, prop_dict=prop_dict[watershedname])\n",
    "    if rivertype == 'constant':\n",
    "        rivertools.check_sum(runoff_orig, runoff, Flux)\n",
    "    if rivertype == 'monthly':\n",
    "        rivertools.check_sum_monthly(runoff_orig, runoff, Flux)"
   ]
  },
  {
   "cell_type": "code",
   "execution_count": 9,
   "metadata": {
    "collapsed": false
   },
   "outputs": [
    {
     "name": "stdout",
     "output_type": "stream",
     "text": [
      "file format: NETCDF4\n",
      "Conventions: CF-1.6\n",
      "title: Constant Rivers for Bathymetry 201702\n",
      "institution: Dept of Earth, Ocean & Atmospheric Sciences, University of British Columbia\n",
      "source: https://bitbucket.org/salishsea/tools/src/tip/Add Rivers Month and Constant-B201702.ipynb\n",
      "references: REQUIRED\n",
      "history: [2017-04-12 18:03:24] Created netCDF4 zlib=True dataset.\n",
      "comment: Mean yearly flow for Rivers for Bathymetry 201702\n",
      "file format: NETCDF4\n",
      "Conventions: CF-1.6\n",
      "title: Constant Rivers for Bathymetry 201702\n",
      "institution: Dept of Earth, Ocean & Atmospheric Sciences, University of British Columbia\n",
      "source: https://bitbucket.org/salishsea/tools/src/tip/Add Rivers Month and Constant-B201702.ipynb\n",
      "references: REQUIRED\n",
      "history: [2017-04-12 18:03:24] Created netCDF4 zlib=True dataset.\n",
      "comment: Mean yearly flow for Rivers for Bathymetry 201702\n"
     ]
    }
   ],
   "source": [
    "if rivertype == 'constant':\n",
    "    \n",
    "    nemo = NC.Dataset('../../../NEMO-forcing/rivers/rivers_cnst_201702.nc', 'w')\n",
    "    \n",
    "    # dimensions\n",
    "    nemo.createDimension('x', xmax)\n",
    "    nemo.createDimension('y', ymax)\n",
    "    nemo.createDimension('time_counter', None)\n",
    "    \n",
    "    # variables\n",
    "    # latitude and longitude\n",
    "    nav_lat = nemo.createVariable('nav_lat', 'float32', ('y', 'x'), zlib=True)\n",
    "    nav_lat.setncattr('units', 'degrees_north')\n",
    "    nav_lat.setncattr('long_name', 'latitude')\n",
    "    nav_lat = lat\n",
    "    nav_lon = nemo.createVariable('nav_lon','float32',('y','x'),zlib=True)\n",
    "    nav_lon.setncattr('units', 'degrees_east')\n",
    "    nav_lon.setncattr('long_name', 'longitude')\n",
    "    nav_lon = lon\n",
    "    # time\n",
    "    time_counter = nemo.createVariable('time_counter', 'float32', ('time_counter'),zlib=True)\n",
    "    time_counter.setncattr('units', '1')\n",
    "    time_counter.setncattr('long_name', 'time')\n",
    "    time_counter[0] = 1\n",
    "    # runoff\n",
    "    rorunoff = nemo.createVariable('rorunoff', 'float32', ('time_counter','y','x'), zlib=True)\n",
    "    rorunoff.setncattr('units', 'kg m-2 s-1')\n",
    "    rorunoff.setncattr('long_name', 'runoff_flux')\n",
    "    rorunoff[0,:] = runoff\n",
    "    # depth\n",
    "    rodepth = nemo.createVariable('rodepth','float32',('y','x'),zlib=True)\n",
    "    rodepth.setncattr('units', 'm')\n",
    "    rodepth.setncattr('long_name', 'maximum_runoff_depth')\n",
    "    rodepth[:] = run_depth\n",
    "\n",
    "    nc_tools.init_dataset_attrs(nemo, 'Constant Rivers for Bathymetry 201702', 'Add Rivers Month and Constant-B201702',\n",
    "                           'NEMO-forcing/rivers/rivers_cnst_201702.nc', \n",
    "                            'Mean yearly flow for Rivers for Bathymetry 201702')\n",
    "\n",
    "    nc_tools.show_dataset_attrs(nemo)\n",
    "\n",
    "    nemo.setncattr('references', 'NEMO-forcing/rivers/rivers_cnst_201702.nc')\n",
    "\n",
    "    nc_tools.check_dataset_attrs(nemo)\n",
    "\n",
    "    nemo.close()"
   ]
  },
  {
   "cell_type": "code",
   "execution_count": 24,
   "metadata": {
    "collapsed": false
   },
   "outputs": [
    {
     "name": "stdout",
     "output_type": "stream",
     "text": [
      "file format: NETCDF4\n",
      "Conventions: CF-1.6\n",
      "title: Monthly Rivers for Bathymetry 201702\n",
      "institution: Dept of Earth, Ocean & Atmospheric Sciences, University of British Columbia\n",
      "source: https://bitbucket.org/salishsea/tools/src/tip/Add Rivers Month and Constant-B201702.ipynb\n",
      "references: REQUIRED\n",
      "history: [2017-04-12 18:02:11] Created netCDF4 zlib=True dataset.\n",
      "comment: Monthly Averages, Bathy 201702, all Four Fraser Arms from River Head\n",
      "file format: NETCDF4\n",
      "Conventions: CF-1.6\n",
      "title: Monthly Rivers for Bathymetry 201702\n",
      "institution: Dept of Earth, Ocean & Atmospheric Sciences, University of British Columbia\n",
      "source: https://bitbucket.org/salishsea/tools/src/tip/Add Rivers Month and Constant-B201702.ipynb\n",
      "references: REQUIRED\n",
      "history: [2017-04-12 18:02:11] Created netCDF4 zlib=True dataset.\n",
      "comment: Monthly Averages, Bathy 201702, all Four Fraser Arms from River Head\n"
     ]
    },
    {
     "ename": "RuntimeError",
     "evalue": "NetCDF: Not a valid ID",
     "output_type": "error",
     "traceback": [
      "\u001b[0;31m---------------------------------------------------------------------------\u001b[0m",
      "\u001b[0;31mRuntimeError\u001b[0m                              Traceback (most recent call last)",
      "\u001b[0;32m<ipython-input-24-fe1a27327e05>\u001b[0m in \u001b[0;36m<module>\u001b[0;34m()\u001b[0m\n\u001b[1;32m     44\u001b[0m \u001b[0;34m\u001b[0m\u001b[0m\n\u001b[1;32m     45\u001b[0m     \u001b[0mnemo\u001b[0m\u001b[0;34m.\u001b[0m\u001b[0mclose\u001b[0m\u001b[0;34m(\u001b[0m\u001b[0;34m)\u001b[0m\u001b[0;34m\u001b[0m\u001b[0m\n\u001b[0;32m---> 46\u001b[0;31m     \u001b[0mnemo\u001b[0m\u001b[0;34m.\u001b[0m\u001b[0mclose\u001b[0m\u001b[0;34m(\u001b[0m\u001b[0;34m)\u001b[0m\u001b[0;34m\u001b[0m\u001b[0m\n\u001b[0m",
      "\u001b[0;32mnetCDF4/_netCDF4.pyx\u001b[0m in \u001b[0;36mnetCDF4._netCDF4.Dataset.close (netCDF4/_netCDF4.c:15061)\u001b[0;34m()\u001b[0m\n",
      "\u001b[0;31mRuntimeError\u001b[0m: NetCDF: Not a valid ID"
     ]
    }
   ],
   "source": [
    "if rivertype == 'monthly':\n",
    "    \n",
    "    nemo = NC.Dataset('rivers_month_201702.nc', 'w')\n",
    "    nc_tools.init_dataset_attrs(nemo, 'Monthly Rivers for Bathymetry 201702', 'Add Rivers Month and Constant-B201702',\n",
    "                           'NEMO-forcing/rivers/rivers_month_201702.nc', \n",
    "                            'Monthly Averages, Bathy 201702, all Four Fraser Arms from River Head')\n",
    "    \n",
    "    # dimensions\n",
    "    nemo.createDimension('x', xmax)\n",
    "    nemo.createDimension('y', ymax)\n",
    "    nemo.createDimension('time_counter', None)\n",
    "    \n",
    "    # variables\n",
    "    # latitude and longitude\n",
    "    nav_lat = nemo.createVariable('nav_lat', 'float32', ('y', 'x'), zlib=True)\n",
    "    nav_lat.setncattr('units', 'degrees_north')\n",
    "    nav_lat.setncattr('long_name', 'latitude')\n",
    "    nav_lat = lat\n",
    "    nav_lon = nemo.createVariable('nav_lon','float32',('y','x'),zlib=True)\n",
    "    nav_lon.setncattr('units', 'degrees_east')\n",
    "    nav_lon.setncattr('long_name', 'longitude')\n",
    "    nav_lon = lon\n",
    "    # time\n",
    "    time_counter = nemo.createVariable('time_counter', 'float32', ('time_counter'),zlib=True)\n",
    "    time_counter.setncattr('units', 'month')\n",
    "    time_counter.setncattr('long_name', 'time')\n",
    "    time_counter[0:12] = range(1,13)\n",
    "    # runoff\n",
    "    rorunoff = nemo.createVariable('rorunoff', 'float32', ('time_counter','y','x'), zlib=True)\n",
    "    rorunoff.setncattr('units', 'kg m-2 s-1')\n",
    "    rorunoff.setncattr('long_name', 'runoff_flux')\n",
    "    rorunoff[0:12,:] = runoff\n",
    "    # depth\n",
    "    rodepth = nemo.createVariable('rodepth','float32',('y','x'),zlib=True)\n",
    "    rodepth.setncattr('units', 'm')\n",
    "    rodepth.setncattr('long_name', 'maximum_runoff_depth')\n",
    "    rodepth[:] = run_depth[0,:,:]\n",
    "    \n",
    "    nc_tools.show_dataset_attrs(nemo)\n",
    "\n",
    "    nemo.setncattr('references', 'NEMO-forcing/rivers/rivers_month_201702.nc')\n",
    "\n",
    "    nc_tools.check_dataset_attrs(nemo)\n",
    "\n",
    "    nemo.close()"
   ]
  },
  {
   "cell_type": "code",
   "execution_count": null,
   "metadata": {
    "collapsed": false,
    "scrolled": true
   },
   "outputs": [],
   "source": [
    "%matplotlib inline\n",
    "Fraser = 8.10384 * e1t[500, 395] * e2t[500, 395]\n",
    "test = NC.Dataset('../../../NEMO-forcing/rivers/rivers_cnst_201702.nc','r')\n",
    "test2 = NC.Dataset('../../../NEMO-forcing/rivers/rivers_cnst_extended.nc', 'r')\n",
    "test3 = NC.Dataset('../../../NEMO-forcing/rivers/rivers_cnst.nc', 'r')\n",
    "\n",
    "plotting = test.variables['rorunoff'][0, :, :]\n",
    "plot2 = test2.variables['rorunoff'][0, :, :]\n",
    "orig = test3.variables['rorunoff'][0, :, :]\n",
    "\n",
    "plt.figure(figsize=(19, 19))\n",
    "plt.pcolormesh(lon[:], lat[:], D, cmap='cool')\n",
    "sumit1 = 0.\n",
    "sumit2 = 0.\n",
    "sumit3 = 0.\n",
    "for i in range(0,800):\n",
    "    for j in range(0,398):\n",
    "        if plot2[i, j] > 0:\n",
    "            plt.plot(lon[i,j], lat[i,j],'ys')  #down by one two\n",
    "        if plotting[i, j] > 0:\n",
    "            plt.plot(lon[i,j], lat[i,j], 'mx')  # new\n",
    "        if orig[i, j] > 0:\n",
    "            plt.plot(lon[i,j], lat[i,j], 'r+')   # orig\n",
    "#        if plot2[i, j] != plotting[i, j] or plot2[i, j] != orig[i, j] or plotting[i, j] != orig[i, j]:\n",
    "#            sumit1 += e1t[i, j] * e2t[i, j] * plotting[i, j]/Fraser\n",
    "#            sumit2 += e1t[i, j] * e2t[i, j] * plot2[i, j]/Fraser\n",
    "#            sumit3 += e1t[i, j] * e2t[i, j] * orig[i ,j]/Fraser\n",
    "#            print (i, j, e1t[i, j] * e2t[i, j] * plotting[i, j]/Fraser,\n",
    "#                   e1t[i, j] * e2t[i, j] * plot2[i, j]/Fraser, \n",
    "#                   e1t[i, j] * e2t[i, j] * orig[i, j]/Fraser, sumit1, sumit2, sumit3)\n",
    "            \n",
    "plt.colorbar()\n",
    "plt.ylabel('Latitude')\n",
    "plt.xlabel('Longitude')\n",
    "plt.title('Location of rivers included, with depth contours [m]')\n",
    "plt.savefig('river_locations.pdf')\n"
   ]
  },
  {
   "cell_type": "code",
   "execution_count": null,
   "metadata": {
    "collapsed": false
   },
   "outputs": [],
   "source": [
    "6.07788/8.10384"
   ]
  },
  {
   "cell_type": "code",
   "execution_count": null,
   "metadata": {
    "collapsed": false
   },
   "outputs": [],
   "source": [
    "temp = test2.variables['rotemper'][:]\n",
    "roro = test2.variables['rorunoff'][:]\n",
    "print (temp.shape)\n",
    "plt.plot(temp[:,351,345])\n",
    "print (temp.max())"
   ]
  },
  {
   "cell_type": "code",
   "execution_count": null,
   "metadata": {
    "collapsed": false
   },
   "outputs": [],
   "source": [
    "if rivertype == 'monthly':\n",
    "    depths = D[roro[0] > 0.]\n",
    "    ii, jj = np.where(roro[0] > 0.)\n",
    "elif rivertype == 'constant':\n",
    "    depths = D[roro > 0.]\n",
    "    ii, jj = np.where(roro > 0.)"
   ]
  },
  {
   "cell_type": "code",
   "execution_count": null,
   "metadata": {
    "collapsed": false
   },
   "outputs": [],
   "source": [
    "print (ii[depths.mask], jj[depths.mask])\n",
    "ip = ii[depths.mask]; jp = jj[depths.mask]"
   ]
  },
  {
   "cell_type": "code",
   "execution_count": null,
   "metadata": {
    "collapsed": false
   },
   "outputs": [],
   "source": [
    "fig, ax = plt.subplots(1,1,figsize=(5,5))\n",
    "ax.pcolormesh(D)\n",
    "ax.plot(jp[0], ip[0],'mo')\n",
    "ax.set_xlim((35, 65))\n",
    "ax.set_ylim((870, 898))\n",
    "ax.plot(45+0.5, 891+0.5,'r*')"
   ]
  },
  {
   "cell_type": "code",
   "execution_count": null,
   "metadata": {
    "collapsed": false
   },
   "outputs": [],
   "source": [
    "fig, ax = plt.subplots(1,1,figsize=(5,5))\n",
    "ax.pcolormesh(D)\n",
    "ax.plot(jp[:3], ip[:3],'mo')\n",
    "ax.set_xlim((300, 320))\n",
    "ax.set_ylim((635, 655))\n",
    "ax.plot(307+0.5, 651+0.5,'r*')\n",
    "ax.plot(309+0.5, 650+0.5,'r*')\n",
    "ax.plot(310+0.5, 649+0.5,'r*')"
   ]
  },
  {
   "cell_type": "code",
   "execution_count": null,
   "metadata": {
    "collapsed": false
   },
   "outputs": [],
   "source": [
    "test.close()\n",
    "test2.close()\n",
    "nemo.close()"
   ]
  },
  {
   "cell_type": "code",
   "execution_count": null,
   "metadata": {
    "collapsed": true
   },
   "outputs": [],
   "source": []
  }
 ],
 "metadata": {
  "anaconda-cloud": {},
  "kernelspec": {
   "display_name": "Python [conda env:py3]",
   "language": "python",
   "name": "conda-env-py3-py"
  },
  "language_info": {
   "codemirror_mode": {
    "name": "ipython",
    "version": 3
   },
   "file_extension": ".py",
   "mimetype": "text/x-python",
   "name": "python",
   "nbconvert_exporter": "python",
   "pygments_lexer": "ipython3",
   "version": "3.5.2"
  }
 },
 "nbformat": 4,
 "nbformat_minor": 0
}
