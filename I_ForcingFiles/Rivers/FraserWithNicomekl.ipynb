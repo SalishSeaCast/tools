{
 "cells": [
  {
   "cell_type": "code",
   "execution_count": 11,
   "metadata": {},
   "outputs": [],
   "source": [
    "import numpy as np\n",
    "\n",
    "from salishsea_tools import river_201702"
   ]
  },
  {
   "cell_type": "code",
   "execution_count": 25,
   "metadata": {},
   "outputs": [],
   "source": [
    "watershed_from_river = {\n",
    "    'bute': {'primary': 2.015},\n",
    "    'jervis': {'primary': 8.810, 'secondary': 140.3},\n",
    "    'howe': {'primary': 2.276},\n",
    "    'jdf': {'primary': 8.501},\n",
    "    'evi_n': {'primary': 10.334},\n",
    "    'evi_s': {'primary': 24.60},\n",
    "    'toba': {'primary': 0.4563, 'secondary': 14.58},\n",
    "    'skagit': {'primary': 1.267, 'secondary': 1.236},\n",
    "    'puget': {'primary': 8.790, 'secondary': 29.09},\n",
    "    'Fraser' : {'primary': 1.161, 'secondary': 162, 'nico_into_fraser': 0.83565}\n",
    "}\n",
    "fmult = watershed_from_river['Fraser']['primary']\n",
    "nmult = watershed_from_river['Fraser']['secondary']"
   ]
  },
  {
   "cell_type": "code",
   "execution_count": 18,
   "metadata": {},
   "outputs": [
    {
     "name": "stdout",
     "output_type": "stream",
     "text": [
      "2638.0\n",
      "3393.0360000000005\n"
     ]
    }
   ],
   "source": [
    "mean_yearly_flux_nico = 2.039 # Nicomekl_climatology\n",
    "climFraseratHope = np.array([931, 878, 866, 1814, 4097, 6970, 5538, 3539, 2372, 1937, 1595, 1119]) # Marks climatology\n",
    "mean_yearly_flux_hope = climFraseratHope.sum()/12.\n",
    "print (mean_yearly_flux_hope)\n",
    "mean_total_flux = fmult * mean_yearly_flux_hope + nmult*mean_yearly_flux_nico\n",
    "print (mean_total_flux)"
   ]
  },
  {
   "cell_type": "code",
   "execution_count": 19,
   "metadata": {},
   "outputs": [
    {
     "name": "stdout",
     "output_type": "stream",
     "text": [
      "0.9026482477639494\n"
     ]
    }
   ],
   "source": [
    "print (fmult * mean_yearly_flux_hope / mean_total_flux)"
   ]
  },
  {
   "cell_type": "code",
   "execution_count": 12,
   "metadata": {},
   "outputs": [
    {
     "name": "stdout",
     "output_type": "stream",
     "text": [
      "0.984\n"
     ]
    }
   ],
   "source": [
    "fraserratio = river_201702.prop_dict['fraser']['Fraser']['prop']\n",
    "print (fraserratio)"
   ]
  },
  {
   "cell_type": "markdown",
   "metadata": {},
   "source": [
    "(nicopiece * 162*mean_year_flux_nico + 1.161 *mean_yearly_flux_hope)/mean_total_flux = fraserratio"
   ]
  },
  {
   "cell_type": "code",
   "execution_count": 20,
   "metadata": {},
   "outputs": [],
   "source": [
    "nicopiece = (fraserratio * mean_total_flux - fmult * mean_yearly_flux_hope) / (nmult*mean_yearly_flux_nico)"
   ]
  },
  {
   "cell_type": "code",
   "execution_count": 15,
   "metadata": {},
   "outputs": [
    {
     "data": {
      "text/plain": [
       "0.8356475396436169"
      ]
     },
     "execution_count": 15,
     "metadata": {},
     "output_type": "execute_result"
    }
   ],
   "source": [
    "nicopiece"
   ]
  },
  {
   "cell_type": "code",
   "execution_count": 23,
   "metadata": {},
   "outputs": [],
   "source": [
    "nicopiece = 0.83565\n",
    "nonfraser = (1 - nicopiece) * nmult * mean_yearly_flux_nico\n",
    "fraser = fmult * mean_yearly_flux_hope + nicopiece * nmult * mean_yearly_flux_nico"
   ]
  },
  {
   "cell_type": "code",
   "execution_count": 24,
   "metadata": {},
   "outputs": [
    {
     "name": "stdout",
     "output_type": "stream",
     "text": [
      "3338.7482367000002 54.28776330000001\n"
     ]
    }
   ],
   "source": [
    "print (fraser, nonfraser)"
   ]
  },
  {
   "cell_type": "code",
   "execution_count": null,
   "metadata": {},
   "outputs": [],
   "source": []
  }
 ],
 "metadata": {
  "kernelspec": {
   "display_name": "Python 3",
   "language": "python",
   "name": "python3"
  },
  "language_info": {
   "codemirror_mode": {
    "name": "ipython",
    "version": 3
   },
   "file_extension": ".py",
   "mimetype": "text/x-python",
   "name": "python",
   "nbconvert_exporter": "python",
   "pygments_lexer": "ipython3",
   "version": "3.7.9"
  }
 },
 "nbformat": 4,
 "nbformat_minor": 4
}
