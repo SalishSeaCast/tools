{
 "metadata": {
  "name": "",
  "signature": "sha256:285e75f1cf0f9847e6de93324df53f77e627546ea03de476c64074bdf392dcdb"
 },
 "nbformat": 3,
 "nbformat_minor": 0,
 "worksheets": [
  {
   "cells": [
    {
     "cell_type": "markdown",
     "metadata": {},
     "source": [
      "Notebook to create new river files at 2 m depth. "
     ]
    },
    {
     "cell_type": "code",
     "collapsed": false,
     "input": [
      "from salishsea_tools import rivertools\n",
      "import netCDF4 as NC\n",
      "import numpy as np\n",
      "from salishsea_tools import nc_tools\n",
      "from __future__ import division\n",
      "import matplotlib.pylab as plt\n",
      "\n",
      "%matplotlib inline"
     ],
     "language": "python",
     "metadata": {},
     "outputs": [],
     "prompt_number": 1
    },
    {
     "cell_type": "code",
     "collapsed": false,
     "input": [
      "path = '/data/nsoontie/MEOPAR/NEMO-forcing/rivers/rivers_month.nc'\n",
      "rivers=NC.Dataset(path)"
     ],
     "language": "python",
     "metadata": {},
     "outputs": [],
     "prompt_number": 2
    },
    {
     "cell_type": "code",
     "collapsed": false,
     "input": [
      "nc_tools.show_variables(rivers)"
     ],
     "language": "python",
     "metadata": {},
     "outputs": [
      {
       "output_type": "stream",
       "stream": "stdout",
       "text": [
        "[u'nav_lat', u'nav_lon', u'time_counter', u'rorunoff', u'rodepth']\n"
       ]
      }
     ],
     "prompt_number": 3
    },
    {
     "cell_type": "code",
     "collapsed": false,
     "input": [
      "nc_tools.show_variable_attrs(rivers)"
     ],
     "language": "python",
     "metadata": {},
     "outputs": [
      {
       "output_type": "stream",
       "stream": "stdout",
       "text": [
        "<type 'netCDF4.Variable'>\n",
        "float32 nav_lat(y, x)\n",
        "unlimited dimensions: \n",
        "current shape = (898, 398)\n",
        "filling on, default _FillValue of 9.96920996839e+36 used\n",
        "\n",
        "<type 'netCDF4.Variable'>\n",
        "float32 nav_lon(y, x)\n",
        "unlimited dimensions: \n",
        "current shape = (898, 398)\n",
        "filling on, default _FillValue of 9.96920996839e+36 used\n",
        "\n",
        "<type 'netCDF4.Variable'>\n",
        "float32 time_counter(time_counter)\n",
        "    units: non-dim\n",
        "unlimited dimensions: time_counter\n",
        "current shape = (12,)\n",
        "filling on, default _FillValue of 9.96920996839e+36 used\n",
        "\n",
        "<type 'netCDF4.Variable'>\n",
        "float32 rorunoff(time_counter, y, x)\n",
        "    _Fillvalue: 0.0\n",
        "    _missing_value: 0.0\n",
        "    _units: kg m-2 s-1\n",
        "unlimited dimensions: time_counter\n",
        "current shape = (12, 898, 398)\n",
        "filling on, default _FillValue of 9.96920996839e+36 used\n",
        "\n",
        "<type 'netCDF4.Variable'>\n",
        "float32 rodepth(y, x)\n",
        "    _Fillvalue: -1.0\n",
        "    missing_value: -1.0\n",
        "    units: m\n",
        "unlimited dimensions: \n",
        "current shape = (898, 398)\n",
        "filling on, default _FillValue of 9.96920996839e+36 used\n",
        "\n"
       ]
      }
     ],
     "prompt_number": 4
    },
    {
     "cell_type": "code",
     "collapsed": false,
     "input": [
      "depths = rivers.variables['rodepth']\n",
      "print depths[:].max(), depths[:].min()"
     ],
     "language": "python",
     "metadata": {},
     "outputs": [
      {
       "output_type": "stream",
       "stream": "stdout",
       "text": [
        "3.0 3.0\n"
       ]
      }
     ],
     "prompt_number": 5
    },
    {
     "cell_type": "markdown",
     "metadata": {},
     "source": [
      "Strategy: Copy the netcdf file but replace the 'rodepth' variable to 2 everywhere that it isn't masked."
     ]
    },
    {
     "cell_type": "code",
     "collapsed": false,
     "input": [
      "!cp /data/nsoontie/MEOPAR/NEMO-forcing/rivers/rivers_month.nc rivers_2m_month.nc"
     ],
     "language": "python",
     "metadata": {},
     "outputs": [],
     "prompt_number": 6
    },
    {
     "cell_type": "code",
     "collapsed": false,
     "input": [
      "#rivers_2m.variables['rodepth'][:] = \n",
      "rivers2m=NC.Dataset('rivers_2m_month.nc','r+')\n",
      "rivers2m.description = 'Monthly Averages, All Rivers, depth 2m'\n",
      "rivers2m.history = 'River files to 2 m depth'\n",
      "rivers2m.variables['rodepth'] [:]= rivers.variables['rodepth'][:]*2/3"
     ],
     "language": "python",
     "metadata": {},
     "outputs": [],
     "prompt_number": 7
    },
    {
     "cell_type": "code",
     "collapsed": false,
     "input": [
      "print rivers2m"
     ],
     "language": "python",
     "metadata": {},
     "outputs": [
      {
       "output_type": "stream",
       "stream": "stdout",
       "text": [
        "<type 'netCDF4.Dataset'>\n",
        "root group (NETCDF4 data model, file format UNDEFINED):\n",
        "    description: Monthly Averages, All Rivers, depth 2m\n",
        "    history: River files to 2 m depth\n",
        "    dimensions(sizes): x(398), y(898), time_counter(12)\n",
        "    variables(dimensions): float32 \u001b[4mnav_lat\u001b[0m(y,x), float32 \u001b[4mnav_lon\u001b[0m(y,x), float32 \u001b[4mtime_counter\u001b[0m(time_counter), float32 \u001b[4mrorunoff\u001b[0m(time_counter,y,x), float32 \u001b[4mrodepth\u001b[0m(y,x)\n",
        "    groups: \n",
        "\n"
       ]
      }
     ],
     "prompt_number": 8
    },
    {
     "cell_type": "code",
     "collapsed": false,
     "input": [
      "depth2 = rivers2m.variables['rodepth']\n",
      "print depth2, depth2[:].max(), depth2[:].min()\n"
     ],
     "language": "python",
     "metadata": {},
     "outputs": [
      {
       "output_type": "stream",
       "stream": "stdout",
       "text": [
        "<type 'netCDF4.Variable'>\n",
        "float32 rodepth(y, x)\n",
        "    _Fillvalue: -1.0\n",
        "    missing_value: -1.0\n",
        "    units: m\n",
        "unlimited dimensions: \n",
        "current shape = (898, 398)\n",
        "filling on, default _FillValue of 9.96920996839e+36 used\n",
        " 2.0 2.0\n"
       ]
      }
     ],
     "prompt_number": 9
    },
    {
     "cell_type": "code",
     "collapsed": false,
     "input": [
      "rivers2m.close()"
     ],
     "language": "python",
     "metadata": {},
     "outputs": [],
     "prompt_number": 10
    },
    {
     "cell_type": "markdown",
     "metadata": {},
     "source": [
      "Check that it reads as expected."
     ]
    },
    {
     "cell_type": "code",
     "collapsed": false,
     "input": [
      "rivers2m=NC.Dataset('rivers_2m_month.nc','r')\n",
      "depth2 = rivers2m.variables['rodepth']\n",
      "print depth2, depth2[:].max(), depth2[:].min()"
     ],
     "language": "python",
     "metadata": {},
     "outputs": [
      {
       "output_type": "stream",
       "stream": "stdout",
       "text": [
        "<type 'netCDF4.Variable'>\n",
        "float32 rodepth(y, x)\n",
        "    _Fillvalue: -1.0\n",
        "    missing_value: -1.0\n",
        "    units: m\n",
        "unlimited dimensions: \n",
        "current shape = (898, 398)\n",
        "filling on, default _FillValue of 9.96920996839e+36 used\n",
        " 2.0 2.0\n"
       ]
      }
     ],
     "prompt_number": 11
    },
    {
     "cell_type": "code",
     "collapsed": false,
     "input": [
      "plt.pcolormesh(depth2[:],vmin=1, vmax= 3,cmap='hot')\n",
      "plt.colorbar()"
     ],
     "language": "python",
     "metadata": {},
     "outputs": [
      {
       "metadata": {},
       "output_type": "pyout",
       "prompt_number": 12,
       "text": [
        "<matplotlib.colorbar.Colorbar instance at 0x7fcc97033b48>"
       ]
      },
      {
       "metadata": {},
       "output_type": "display_data",
       "png": "[encoded data removed]",
       "text": [
        "<matplotlib.figure.Figure at 0x7fccb84c5ed0>"
       ]
      }
     ],
     "prompt_number": 12
    },
    {
     "cell_type": "markdown",
     "metadata": {},
     "source": [
      "Looks good. Now copy new rivers file to NEMO-forcing and commit"
     ]
    },
    {
     "cell_type": "code",
     "collapsed": false,
     "input": [
      "rivers2m.close()"
     ],
     "language": "python",
     "metadata": {},
     "outputs": [],
     "prompt_number": 14
    },
    {
     "cell_type": "code",
     "collapsed": false,
     "input": [
      "rivers2m=NC.Dataset('/data/nsoontie/MEOPAR/NEMO-forcing/rivers/rivers_2m_month.nc','r')\n",
      "depth2 = rivers2m.variables['rodepth']\n",
      "print depth2, depth2[:].max(), depth2[:].min()"
     ],
     "language": "python",
     "metadata": {},
     "outputs": [
      {
       "output_type": "stream",
       "stream": "stdout",
       "text": [
        "<type 'netCDF4.Variable'>\n",
        "float32 rodepth(y, x)\n",
        "    _Fillvalue: -1.0\n",
        "    missing_value: -1.0\n",
        "    units: m\n",
        "unlimited dimensions: \n",
        "current shape = (898, 398)\n",
        "filling on, default _FillValue of 9.96920996839e+36 used\n",
        " 2.0 2.0\n"
       ]
      }
     ],
     "prompt_number": 15
    },
    {
     "cell_type": "code",
     "collapsed": false,
     "input": [
      "plt.pcolormesh(depth2[:],vmin=1, vmax= 3,cmap='hot')\n",
      "plt.colorbar()"
     ],
     "language": "python",
     "metadata": {},
     "outputs": [
      {
       "metadata": {},
       "output_type": "pyout",
       "prompt_number": 16,
       "text": [
        "<matplotlib.colorbar.Colorbar instance at 0x7fcc962a6fc8>"
       ]
      },
      {
       "metadata": {},
       "output_type": "display_data",
       "png": "[encoded data removed]",
       "text": [
        "<matplotlib.figure.Figure at 0x7fccb84c5b90>"
       ]
      }
     ],
     "prompt_number": 16
    },
    {
     "cell_type": "code",
     "collapsed": false,
     "input": [],
     "language": "python",
     "metadata": {},
     "outputs": []
    }
   ],
   "metadata": {}
  }
 ]
}
