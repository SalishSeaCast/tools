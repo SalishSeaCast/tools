{
 "cells": [
  {
   "cell_type": "code",
   "execution_count": 1,
   "id": "4dff7aff-6f3f-4a06-b86e-846ee7a8659e",
   "metadata": {},
   "outputs": [],
   "source": [
    "# Fit Forward, 10 day gap"
   ]
  },
  {
   "cell_type": "code",
   "execution_count": 2,
   "id": "3f56af5d-5469-45bc-a6af-8db92e9953aa",
   "metadata": {},
   "outputs": [],
   "source": [
    "import datetime as datetime\n",
    "import matplotlib.pyplot as plt\n",
    "import numpy as np\n",
    "from numpy.polynomial.polynomial import polyfit\n",
    "import pandas as pd\n",
    "import random"
   ]
  },
  {
   "cell_type": "code",
   "execution_count": 3,
   "id": "61614cfb-23e9-484b-85ff-55bf5f69b716",
   "metadata": {},
   "outputs": [],
   "source": [
    "maindir = '/results/forcing/rivers/observations/'\n",
    "origdir = '/data/dlatorne/SOG-projects/SOG-forcing/ECget/'\n",
    "def getdir(river_name):\n",
    "    if river_name in ['Fraser', 'Englishman']:\n",
    "        thedir = origdir\n",
    "    else:\n",
    "        thedir = maindir\n",
    "    return (thedir)"
   ]
  },
  {
   "cell_type": "code",
   "execution_count": 4,
   "id": "d59a50ef-3e7c-4d11-98ae-9c73ed144bae",
   "metadata": {},
   "outputs": [],
   "source": [
    "def read_river(river_name, ps):\n",
    "    thedir = getdir(river_name)\n",
    "    river_flow = pd.read_csv(f'{thedir}/{river_name}_flow', header=None, sep='\\s+', index_col=False,\n",
    "                      names=['year', 'month', 'day', 'flow'])\n",
    "    river_flow['date'] = pd.to_datetime(river_flow.drop(columns='flow'))\n",
    "    river_flow.set_index('date', inplace=True)\n",
    "    river_flow = river_flow.drop(columns=['year', 'month', 'day'])\n",
    "    if ps == 'primary':\n",
    "        river_flow = river_flow.rename(columns={'flow': 'Primary River Flow'})\n",
    "    elif ps == 'secondary':\n",
    "        river_flow = river_flow.rename(columns={'flow': 'Secondary River Flow'})\n",
    "    return river_flow"
   ]
  },
  {
   "cell_type": "code",
   "execution_count": 5,
   "id": "2e5bdf57-fa04-400d-b28a-a7a6492a61e9",
   "metadata": {},
   "outputs": [],
   "source": [
    "def read_river_Theodosia(set_primary=False):\n",
    "    if set_primary:\n",
    "        nameit = 'Primary River Flow'\n",
    "    else:\n",
    "        nameit = 'Secondary River Flow'\n",
    "    part1 = pd.read_csv(f'{maindir}/Theodosia_Scotty_flow', header=None, sep='\\s+', index_col=False,\n",
    "                      names=['year', 'month', 'day', 'flow'])\n",
    "    part2 = pd.read_csv(f'{maindir}/Theodosia_Bypass_flow', header=None, sep='\\s+', index_col=False,\n",
    "                      names=['year', 'month', 'day', 'flow'])\n",
    "    part3 = pd.read_csv(f'{maindir}/Theodosia_Diversion_flow', header=None, sep='\\s+', index_col=False,\n",
    "                      names=['year', 'month', 'day', 'flow'])\n",
    "    for part in [part1, part2, part3]:\n",
    "        part['date'] = pd.to_datetime(part.drop(columns='flow'))\n",
    "        part.set_index('date', inplace=True)\n",
    "        part.drop(columns=['year', 'month', 'day'], inplace=True)\n",
    "    part1 = part1.rename(columns={'flow': 'Scotty'})\n",
    "    part2 = part2.rename(columns={'flow': 'Bypass'})\n",
    "    part3 = part3.rename(columns={'flow': 'Diversion'})\n",
    "    theodosia = (part3.merge(part2, how='inner', on='date')).merge(part1, how='inner', on='date')\n",
    "    theodosia[nameit] = theodosia['Scotty'] + theodosia['Diversion'] - theodosia['Bypass']\n",
    "    part3['FlowFromDiversion'] = part3.Diversion * theodosia_from_diversion_only\n",
    "    theodosia = theodosia.merge(part3, how='outer', on='date', sort=True)\n",
    "    theodosia[nameit] = theodosia[nameit].fillna(\n",
    "        theodosia['FlowFromDiversion'])\n",
    "    return theodosia"
   ]
  },
  {
   "cell_type": "code",
   "execution_count": 6,
   "id": "d949555f-dc1d-44fe-82c3-336b715bba5a",
   "metadata": {},
   "outputs": [],
   "source": [
    "matching_dictionary = {'Englishman': 'Salmon_Sayward',\n",
    "                      'Theodosia': 'Clowhom_ClowhomLake',\n",
    "                      'RobertsCreek': 'Englishman',\n",
    "                      'Salmon_Sayward': 'Englishman',\n",
    "                      'Squamish_Brackendale': 'Homathko_Mouth',\n",
    "                      'SanJuan_PortRenfrew': 'Englishman',\n",
    "                      'Nisqually_McKenna': 'Snohomish_Monroe',\n",
    "                      'Snohomish_Monroe': 'Skagit_MountVernon',\n",
    "                      'Skagit_MountVernon': 'Snohomish_Monroe',\n",
    "                      'Homathko_Mouth': 'Squamish_Brackendale',\n",
    "                      'Nicomekl_Langley': 'RobertsCreek',\n",
    "                      'Greenwater_Greenwater': 'Snohomish_Monroe',\n",
    "                      'Clowhom_ClowhomLake': 'Theodosia_Diversion'}\n",
    "backup_dictionary = {'SanJuan_PortRenfrew': 'RobertsCreek',\n",
    "                    'Theodosia': 'Englishman'}\n",
    "\n",
    "theodosia_from_diversion_only = 1.429 # see TheodosiaWOScotty"
   ]
  },
  {
   "cell_type": "code",
   "execution_count": 7,
   "id": "6a792d25-2220-4c02-aba0-eb1188fb391b",
   "metadata": {},
   "outputs": [],
   "source": [
    "gap_length = 10"
   ]
  },
  {
   "cell_type": "code",
   "execution_count": 8,
   "id": "48fb9eec-47b7-40a4-b9bb-62fa7d6b54fd",
   "metadata": {},
   "outputs": [],
   "source": [
    "def estimate(primary_river, spoint, point, gap_length, ax, fittedbad, fittype, nobad, doplots=True):\n",
    "    goback = 7\n",
    "    bad = False\n",
    "    fitlength = np.array([7, 14, 21, 28])\n",
    "    ratio = np.zeros(len(fitlength))\n",
    "    fitted = np.zeros(len(fitlength))\n",
    "    persist = np.zeros((goback))\n",
    "    linear = np.zeros((goback-1))\n",
    "    cubic = np.zeros((goback-2))\n",
    "    \n",
    "    if len(primary_river.iloc[spoint-8:spoint]) != 8:\n",
    "        print (len(primary_river.iloc[spoint-8:spoint]), primary_river.iloc[spoint])\n",
    "        nobad = nobad + 1\n",
    "        allbad = True\n",
    "    else:\n",
    "        allbad = False\n",
    "        for ii in range(1, 8):\n",
    "            jj = ii + gap_length - 1        \n",
    "            persist[ii-1] = primary_river.iloc[spoint-ii:spoint].mean()\n",
    "            if ii > 1:\n",
    "                b, m = polyfit(range(ii), primary_river.iloc[spoint-ii:spoint].values, 1)\n",
    "                linear[ii-2] = b + m * jj\n",
    "            if ii > 2:\n",
    "                b, m, c = polyfit(range(ii), primary_river.iloc[spoint-ii:spoint].values, 2)\n",
    "                cubic[ii-3] = b + m * jj + c * jj**2\n",
    "\n",
    "        if fittype == 'fit':\n",
    "            useriver = matching_dictionary[river]\n",
    "        elif fittype == 'backup':\n",
    "            useriver = backup_dictionary[river]\n",
    "        firstchoice = read_river(useriver, 'primary')\n",
    "        for jj, length in enumerate(fitlength):\n",
    "            for ii in range(length):\n",
    "                denom = firstchoice[firstchoice.index == primary_river.index[spoint-ii]].values\n",
    "                if len(denom) == 1:\n",
    "                    ratio[jj] = ratio[jj] + (primary_river.iloc[spoint-ii].values /\n",
    "                                firstchoice[firstchoice.index == primary_river.index[spoint-ii]].values)\n",
    "                else:\n",
    "                    bad = True\n",
    "            if not bad:\n",
    "                numer = firstchoice[firstchoice.index == primary_river.index[point]].values\n",
    "                if len(numer) != 1:\n",
    "                    print ('Numer catch')\n",
    "                    bad = True\n",
    "                else:\n",
    "                    fitted[jj] = ratio[jj]/length * firstchoice[firstchoice.index == primary_river.index[point]].values\n",
    "        if bad:\n",
    "            fittedbad = fittedbad + 1\n",
    "        if doplots:\n",
    "            ax.plot(persist)\n",
    "            ax.plot(range(1, 7), linear)\n",
    "            ax.plot(range(2, 7), cubic)\n",
    "            if not bad:\n",
    "                ax.plot(fitted)\n",
    "            ax.plot(primary_river.iloc[spoint-7:spoint].values, 'o')\n",
    "            ax.plot(7, primary_river.iloc[spoint].values, 'x')\n",
    "            ax.plot(7+gap_length, primary_river.iloc[point].values, 's')\n",
    "            ax.grid()\n",
    "    return (persist, linear, cubic, fitted, bad, fittedbad, allbad, nobad)"
   ]
  },
  {
   "cell_type": "code",
   "execution_count": 9,
   "id": "dde6b3e4-bf9b-43b4-b2bb-2031967e09df",
   "metadata": {},
   "outputs": [],
   "source": [
    "def pmhalf(test, value):\n",
    "    bads = np.zeros(len(test), dtype='bool')\n",
    "    for ii, tt in enumerate(test):\n",
    "        if tt/value < 0.5 or tt/value > 2:\n",
    "            bads[ii] = True\n",
    "    return bads"
   ]
  },
  {
   "cell_type": "code",
   "execution_count": 10,
   "id": "6345fd32-a97b-457c-9894-ba6dbdcbd7ab",
   "metadata": {},
   "outputs": [],
   "source": [
    "def inbounds(test, maximum, minimum):\n",
    "    bads = np.zeros(len(test), dtype='bool')\n",
    "    for ii, tt in enumerate(test):\n",
    "        if tt < minimum or tt > maximum:\n",
    "            bads[ii] = True\n",
    "    return bads"
   ]
  },
  {
   "cell_type": "code",
   "execution_count": 11,
   "id": "cf51c048-2760-4cdc-9492-d25f705dcf7c",
   "metadata": {},
   "outputs": [],
   "source": [
    "def docheck(primary_river, point, persist, linear, cubic, fitted, badfit, ax, doplots=True):\n",
    "    maximum = primary_river['Primary River Flow'].max()\n",
    "    minimum = primary_river['Primary River Flow'].min()\n",
    "    value = primary_river.iloc[point].values\n",
    "    goodness_persist = np.abs(persist - value)\n",
    "    goodness_linear = np.abs(linear - value)\n",
    "    goodness_cubic = np.abs(cubic - value)\n",
    "    if not badfit:\n",
    "        goodness_fit = np.abs(fitted - value)\n",
    "        pmfitted = pmhalf(fitted, value)\n",
    "        ibfitted = inbounds(fitted, maximum, minimum)\n",
    "    else:\n",
    "        goodness_fit = np.zeros((4))\n",
    "        pmfitted = np.zeros((4))\n",
    "        ibfitted = np.zeros((4))\n",
    "    if doplots:\n",
    "        ax.plot(goodness_persist, 'o')\n",
    "        ax.plot(goodness_linear, 'o')\n",
    "        ax.plot(goodness_cubic, 'o')\n",
    "        if not badfit:\n",
    "            ax.plot(goodness_fit, 'o')\n",
    "        ax.grid()\n",
    "    return (np.concatenate((goodness_persist, goodness_linear, goodness_cubic, goodness_fit)), \n",
    "            np.concatenate((pmhalf(persist, value), pmhalf(linear, value), pmhalf(cubic, value), pmfitted)),\n",
    "            np.concatenate((inbounds(persist, maximum, minimum), inbounds(linear, maximum, minimum), \n",
    "                            inbounds(cubic, maximum, minimum), ibfitted)))"
   ]
  },
  {
   "cell_type": "code",
   "execution_count": 12,
   "id": "61d5826a-2f81-432d-bc17-43c6704371ba",
   "metadata": {},
   "outputs": [],
   "source": [
    "def doone(primary_river, gap_length, accumulateG, accumulateC, accumulateB, fittedbad, fittype, nobad, doplots=True):\n",
    "\n",
    "    point = random.randrange(len(primary_river.index))\n",
    "    spoint = point - gap_length + 1\n",
    "    \n",
    "    if doplots:\n",
    "        fig, axs = plt.subplots(1, 3, figsize=(15, 4))\n",
    "\n",
    "        primary_river.iloc[point-10:point+1].plot(ax=axs[0], marker='s')\n",
    "    else:\n",
    "        axs = [0, 1, 2]\n",
    "\n",
    "    (persist, linear, cubic, fitted, badfit, fittedbad, allbad, nobad) = estimate(\n",
    "        primary_river, spoint, point, gap_length, axs[1], fittedbad, fittype, nobad, doplots)\n",
    "\n",
    "    if not allbad:\n",
    "        GG, CC, BB = docheck(primary_river, point, persist, linear, cubic, fitted, badfit, axs[2], doplots)\n",
    "        accumulateG += GG\n",
    "        accumulateC += CC\n",
    "        accumulateB += BB\n",
    "    \n",
    "    \n",
    "    return accumulateG, accumulateC, accumulateB, fittedbad, nobad"
   ]
  },
  {
   "cell_type": "code",
   "execution_count": 13,
   "id": "580d9f95-58cc-40bd-9873-2dde8e9475e8",
   "metadata": {},
   "outputs": [
    {
     "name": "stdout",
     "output_type": "stream",
     "text": [
      "10\n"
     ]
    }
   ],
   "source": [
    "print (gap_length)"
   ]
  },
  {
   "cell_type": "code",
   "execution_count": 14,
   "id": "d127b144-4516-458a-aa53-bb7df808db0a",
   "metadata": {},
   "outputs": [
    {
     "name": "stdout",
     "output_type": "stream",
     "text": [
      "Numer catch\n",
      "Numer catch\n",
      "Numer catch\n",
      "Numer catch\n",
      "Numer catch\n",
      "realized 1000\n",
      "[1000. 1000. 1000. 1000. 1000. 1000. 1000. 1000. 1000. 1000. 1000. 1000.\n",
      " 1000. 1000. 1000. 1000. 1000. 1000.  942.  942.  942.  942.] [  96.86216269   96.12947753   95.83316298   95.92394114   95.77102748\n",
      "   95.55727128   95.57558062  342.40940215  306.75344607  270.50594906\n",
      "  246.02692464  223.66629976  208.14918098 2088.32618861 1549.8728115\n",
      " 1219.01668308 1033.88945598  896.22920522   63.21199196   64.09367434\n",
      "   67.14713382   70.53427487] [0.128      0.134      0.139      0.14       0.145      0.146\n",
      " 0.147      0.517      0.514      0.48       0.47       0.448\n",
      " 0.411      0.797      0.756      0.749      0.749      0.731\n",
      " 0.06475584 0.0552017  0.0552017  0.05732484] [0.         0.         0.         0.         0.         0.\n",
      " 0.         0.23       0.206      0.182      0.179      0.169\n",
      " 0.147      0.486      0.444      0.412      0.398      0.387\n",
      " 0.00106157 0.00212314 0.00106157 0.        ]\n"
     ]
    }
   ],
   "source": [
    "river = 'Homathko_Mouth'\n",
    "primary_river = read_river(river, 'primary')\n",
    "\n",
    "number_trys = 1000\n",
    "fittedbad = 0\n",
    "nobad = 0\n",
    "accumulateG, accumulateC, accumulateB = np.zeros(22), np.zeros(22),  np.zeros(22)\n",
    "\n",
    "for ii in range(number_trys):\n",
    "    accumulateG, accumulateC, accumulateB, fittedbad, nobad = doone(\n",
    "        primary_river, gap_length,accumulateG, accumulateC, accumulateB, fittedbad, 'fit', nobad, doplots=False)\n",
    "    \n",
    "print (\"realized\", number_trys - nobad)\n",
    "\n",
    "number_good = (number_trys - nobad) * np.ones(22)\n",
    "\n",
    "for ii in [18, 19, 20, 21]:\n",
    "    number_good[ii] = number_trys - fittedbad\n",
    "    \n",
    "print (number_good, accumulateG/number_good, accumulateC/number_good, accumulateB/number_good)"
   ]
  },
  {
   "cell_type": "code",
   "execution_count": 15,
   "id": "2409941c-5fed-46c2-88e8-d7e141edb560",
   "metadata": {},
   "outputs": [
    {
     "data": {
      "image/png": "[encoded data removed]",
      "text/plain": [
       "<Figure size 1080x1080 with 3 Axes>"
      ]
     },
     "metadata": {
      "needs_background": "light"
     },
     "output_type": "display_data"
    }
   ],
   "source": [
    "fig, axs = plt.subplots(3, 1, figsize=(15, 15))\n",
    "axs[0].plot(np.abs(accumulateG)/number_good, 'o')\n",
    "axs[1].plot(np.abs(accumulateC)/number_good, 'o')\n",
    "axs[2].plot(np.abs(accumulateB)/number_good, 'o')\n",
    "\n",
    "for ax in axs:\n",
    "    ax.axvspan(-0.5, 6.5, color='tab:orange', alpha=0.2) \n",
    "    ax.axvspan(6.5, 12.5, color='tab:green', alpha=0.2) \n",
    "    ax.axvspan(12.5, 17.5, color='tab:pink', alpha=0.2)\n",
    "    ax.axvspan(17.5, 21.5, color='tab:olive', alpha=0.2)\n",
    "    \n",
    "axs[1].plot([-0.5, 21.5], [0.05, 0.05], c='grey')\n",
    "axs[2].plot([-0.5, 21.5], [0.01, 0.01], c='grey');"
   ]
  },
  {
   "cell_type": "code",
   "execution_count": 16,
   "id": "2841bde2-9e6d-465e-837d-68b408eb9b55",
   "metadata": {},
   "outputs": [
    {
     "name": "stdout",
     "output_type": "stream",
     "text": [
      "10\n"
     ]
    }
   ],
   "source": [
    "print (gap_length)"
   ]
  },
  {
   "cell_type": "code",
   "execution_count": 17,
   "id": "df7a1cb2-476c-4291-b0f3-dcac7471d59d",
   "metadata": {},
   "outputs": [
    {
     "name": "stderr",
     "output_type": "stream",
     "text": [
      "/ocean/sallen/miniconda3/envs/py39/lib/python3.9/site-packages/pandas/util/_decorators.py:311: ParserWarning: Length of header or names does not match length of data. This leads to a loss of data with index_col=False.\n",
      "  return func(*args, **kwargs)\n"
     ]
    },
    {
     "name": "stdout",
     "output_type": "stream",
     "text": [
      "0 Primary River Flow    149.2295\n",
      "Name: 1970-01-01 00:00:00, dtype: float64\n",
      "realized 999\n",
      "[999. 999. 999. 999. 999. 999. 999. 999. 999. 999. 999. 999. 999. 999.\n",
      " 999. 999. 999. 999. 997. 997. 997. 997.] [ 158.30148212  157.55808822  155.51097916  152.54037508  149.51401707\n",
      "  146.98522733  144.81296899  590.41783674  509.33610617  460.5736626\n",
      "  416.12604306  379.94960726  356.17962018 3725.64671104 2745.82302997\n",
      " 2065.14161918 1714.0714389  1420.24632056   78.50174335   77.99946213\n",
      "   78.67517806   80.22089662] [0.25825826 0.24624625 0.24224224 0.23623624 0.23723724 0.24024024\n",
      " 0.23823824 0.67267267 0.64364364 0.62962963 0.5995996  0.58058058\n",
      " 0.56356356 0.81881882 0.81481481 0.7967968  0.77477477 0.78478478\n",
      " 0.06519559 0.0551655  0.0551655  0.06218656] [0.         0.         0.         0.         0.         0.\n",
      " 0.         0.31931932 0.28728729 0.26726727 0.22822823 0.20520521\n",
      " 0.1991992  0.47247247 0.43143143 0.40640641 0.39239239 0.38638639\n",
      " 0.00300903 0.00300903 0.         0.        ]\n"
     ]
    }
   ],
   "source": [
    "river = 'Snohomish_Monroe'\n",
    "\n",
    "primary_river = read_river(river, 'primary')\n",
    "\n",
    "number_trys = 1000\n",
    "fittedbad = 0\n",
    "nobad = 0\n",
    "accumulateG, accumulateC, accumulateB = np.zeros(22), np.zeros(22),  np.zeros(22)\n",
    "\n",
    "for ii in range(number_trys):\n",
    "    accumulateG, accumulateC, accumulateB, fittedbad, nobad = doone(\n",
    "        primary_river, gap_length,accumulateG, accumulateC, accumulateB, fittedbad, 'fit', nobad, doplots=False)\n",
    "    \n",
    "print (\"realized\", number_trys - nobad)\n",
    "\n",
    "number_good = (number_trys - nobad) * np.ones(22)\n",
    "\n",
    "for ii in [18, 19, 20, 21]:\n",
    "    number_good[ii] = number_trys - fittedbad\n",
    "    \n",
    "print (number_good, accumulateG/number_good, accumulateC/number_good, accumulateB/number_good)"
   ]
  },
  {
   "cell_type": "code",
   "execution_count": 18,
   "id": "b606764d-2657-4d34-aaba-c7dc5df3fedd",
   "metadata": {},
   "outputs": [
    {
     "data": {
      "image/png": "[encoded data removed]",
      "text/plain": [
       "<Figure size 1080x1080 with 3 Axes>"
      ]
     },
     "metadata": {
      "needs_background": "light"
     },
     "output_type": "display_data"
    }
   ],
   "source": [
    "fig, axs = plt.subplots(3, 1, figsize=(15, 15))\n",
    "axs[0].plot(np.abs(accumulateG)/number_good, 'o')\n",
    "axs[1].plot(np.abs(accumulateC)/number_good, 'o')\n",
    "axs[2].plot(np.abs(accumulateB)/number_good, 'o')\n",
    "\n",
    "for ax in axs:\n",
    "    ax.axvspan(-0.5, 6.5, color='tab:orange', alpha=0.2) \n",
    "    ax.axvspan(6.5, 12.5, color='tab:green', alpha=0.2) \n",
    "    ax.axvspan(12.5, 17.5, color='tab:pink', alpha=0.2)\n",
    "    ax.axvspan(17.5, 21.5, color='tab:olive', alpha=0.2)\n",
    "    \n",
    "axs[1].plot([-0.5, 21.5], [0.05, 0.05], c='grey')\n",
    "axs[2].plot([-0.5, 21.5], [0.01, 0.01], c='grey');"
   ]
  },
  {
   "cell_type": "code",
   "execution_count": 19,
   "id": "c493368b-1d5c-4dee-b02b-b195a8c81059",
   "metadata": {},
   "outputs": [
    {
     "name": "stderr",
     "output_type": "stream",
     "text": [
      "/ocean/sallen/miniconda3/envs/py39/lib/python3.9/site-packages/pandas/util/_decorators.py:311: ParserWarning: Length of header or names does not match length of data. This leads to a loss of data with index_col=False.\n",
      "  return func(*args, **kwargs)\n"
     ]
    },
    {
     "name": "stdout",
     "output_type": "stream",
     "text": [
      "Numer catch\n",
      "realized 1000\n",
      "[1000. 1000. 1000. 1000. 1000. 1000. 1000. 1000. 1000. 1000. 1000. 1000.\n",
      " 1000. 1000. 1000. 1000. 1000. 1000.  992.  992.  992.  992.] [ 155.4309099   153.67158875  153.29289953  152.8494815   153.05660622\n",
      "  152.88905448  153.10893414  614.2479857   504.07390387  441.85769964\n",
      "  408.43347514  371.18493949  343.23892654 4083.1325153  2784.74391803\n",
      " 2084.96140568 1717.48905877 1451.58890276  160.89951631  165.06961398\n",
      "  171.49310886  178.19690486] [0.082      0.078      0.075      0.073      0.077      0.075\n",
      " 0.074      0.57       0.506      0.452      0.439      0.412\n",
      " 0.381      0.9        0.85       0.815      0.796      0.77\n",
      " 0.06854839 0.07258065 0.07459677 0.08568548] [0.         0.         0.         0.         0.         0.\n",
      " 0.         0.283      0.24       0.204      0.192      0.171\n",
      " 0.146      0.579      0.523      0.473      0.452      0.415\n",
      " 0.00302419 0.00403226 0.00403226 0.00403226]\n"
     ]
    }
   ],
   "source": [
    "river = 'Skagit_MountVernon'\n",
    "\n",
    "primary_river = read_river(river, 'primary')\n",
    "\n",
    "number_trys = 1000\n",
    "fittedbad = 0\n",
    "nobad = 0\n",
    "accumulateG, accumulateC, accumulateB = np.zeros(22), np.zeros(22),  np.zeros(22)\n",
    "\n",
    "for ii in range(number_trys):\n",
    "    accumulateG, accumulateC, accumulateB, fittedbad, nobad = doone(\n",
    "        primary_river, gap_length,accumulateG, accumulateC, accumulateB, fittedbad, 'fit', nobad, doplots=False)\n",
    "    \n",
    "print (\"realized\", number_trys - nobad)\n",
    "\n",
    "number_good = (number_trys - nobad) * np.ones(22)\n",
    "\n",
    "for ii in [18, 19, 20, 21]:\n",
    "    number_good[ii] = number_trys - fittedbad\n",
    "    \n",
    "print (number_good, accumulateG/number_good, accumulateC/number_good, accumulateB/number_good)"
   ]
  },
  {
   "cell_type": "code",
   "execution_count": 20,
   "id": "4e696430-3bfb-45a5-ae75-9430e9ca8552",
   "metadata": {},
   "outputs": [
    {
     "data": {
      "image/png": "[encoded data removed]",
      "text/plain": [
       "<Figure size 1080x1080 with 3 Axes>"
      ]
     },
     "metadata": {
      "needs_background": "light"
     },
     "output_type": "display_data"
    }
   ],
   "source": [
    "fig, axs = plt.subplots(3, 1, figsize=(15, 15))\n",
    "axs[0].plot(np.abs(accumulateG)/number_good, 'o')\n",
    "axs[1].plot(np.abs(accumulateC)/number_good, 'o')\n",
    "axs[2].plot(np.abs(accumulateB)/number_good, 'o')\n",
    "\n",
    "for ax in axs:\n",
    "    ax.axvspan(-0.5, 6.5, color='tab:orange', alpha=0.2) \n",
    "    ax.axvspan(6.5, 12.5, color='tab:green', alpha=0.2) \n",
    "    ax.axvspan(12.5, 17.5, color='tab:pink', alpha=0.2)\n",
    "    ax.axvspan(17.5, 21.5, color='tab:olive', alpha=0.2)\n",
    "    \n",
    "axs[1].plot([-0.5, 21.5], [0.05, 0.05], c='grey')\n",
    "axs[2].plot([-0.5, 21.5], [0.01, 0.01], c='grey');"
   ]
  },
  {
   "cell_type": "code",
   "execution_count": 21,
   "id": "076b73e3-6b34-4dc2-ad59-48353170f060",
   "metadata": {},
   "outputs": [
    {
     "name": "stderr",
     "output_type": "stream",
     "text": [
      "/ocean/sallen/miniconda3/envs/py39/lib/python3.9/site-packages/pandas/util/_decorators.py:311: ParserWarning: Length of header or names does not match length of data. This leads to a loss of data with index_col=False.\n",
      "  return func(*args, **kwargs)\n"
     ]
    },
    {
     "name": "stdout",
     "output_type": "stream",
     "text": [
      "0 Primary River Flow    1.755642\n",
      "Name: 1970-01-06 00:00:00, dtype: float64\n",
      "0 Primary River Flow    1.699008\n",
      "Name: 1970-01-08 00:00:00, dtype: float64\n",
      "realized 998\n",
      "[998. 998. 998. 998. 998. 998. 998. 998. 998. 998. 998. 998. 998. 998.\n",
      " 998. 998. 998. 998. 999. 999. 999. 999.] [ 2.60624075  2.67531045  2.71623552  2.78071038  2.81054106  2.81260345\n",
      "  2.80899527  7.33259869  6.47774824  6.37409571  5.68941686  5.29441672\n",
      "  5.11037754 42.52571616 33.68402932 27.2943273  23.66085327 21.3314319\n",
      "  1.40705747  1.41439203  1.45376339  1.49721117] [0.1503006  0.14529058 0.1503006  0.1492986  0.15831663 0.16633267\n",
      " 0.17034068 0.42284569 0.40581162 0.39779559 0.38977956 0.38877756\n",
      " 0.37775551 0.71943888 0.66633267 0.61523046 0.59318637 0.57915832\n",
      " 0.05705706 0.05605606 0.05905906 0.06006006] [0.         0.         0.         0.         0.         0.\n",
      " 0.         0.15330661 0.13627255 0.12224449 0.11923848 0.1242485\n",
      " 0.10721443 0.34168337 0.31362725 0.29158317 0.26052104 0.25951904\n",
      " 0.00600601 0.003003   0.003003   0.001001  ]\n"
     ]
    }
   ],
   "source": [
    "river = 'Greenwater_Greenwater'\n",
    "\n",
    "primary_river = read_river(river, 'primary')\n",
    "\n",
    "number_trys = 1000\n",
    "fittedbad = 0\n",
    "nobad = 0\n",
    "accumulateG, accumulateC, accumulateB = np.zeros(22), np.zeros(22),  np.zeros(22)\n",
    "\n",
    "for ii in range(number_trys):\n",
    "    accumulateG, accumulateC, accumulateB, fittedbad, nobad = doone(\n",
    "        primary_river, gap_length,accumulateG, accumulateC, accumulateB, fittedbad, 'fit', nobad, doplots=False)\n",
    "    \n",
    "print (\"realized\", number_trys - nobad)\n",
    "\n",
    "number_good = (number_trys - nobad) * np.ones(22)\n",
    "\n",
    "for ii in [18, 19, 20, 21]:\n",
    "    number_good[ii] = number_trys - fittedbad\n",
    "    \n",
    "print (number_good, accumulateG/number_good, accumulateC/number_good, accumulateB/number_good)"
   ]
  },
  {
   "cell_type": "code",
   "execution_count": 22,
   "id": "6a2ce98b-ce35-43d6-a933-e9788f1464cc",
   "metadata": {},
   "outputs": [
    {
     "data": {
      "image/png": "[encoded data removed]",
      "text/plain": [
       "<Figure size 1080x1080 with 3 Axes>"
      ]
     },
     "metadata": {
      "needs_background": "light"
     },
     "output_type": "display_data"
    }
   ],
   "source": [
    "fig, axs = plt.subplots(3, 1, figsize=(15, 15))\n",
    "axs[0].plot(np.abs(accumulateG)/number_good, 'o')\n",
    "axs[1].plot(np.abs(accumulateC)/number_good, 'o')\n",
    "axs[2].plot(np.abs(accumulateB)/number_good, 'o')\n",
    "\n",
    "for ax in axs:\n",
    "    ax.axvspan(-0.5, 6.5, color='tab:orange', alpha=0.2) \n",
    "    ax.axvspan(6.5, 12.5, color='tab:green', alpha=0.2) \n",
    "    ax.axvspan(12.5, 17.5, color='tab:pink', alpha=0.2)\n",
    "    ax.axvspan(17.5, 21.5, color='tab:olive', alpha=0.2)\n",
    "    \n",
    "axs[1].plot([-0.5, 21.5], [0.05, 0.05], c='grey')\n",
    "axs[2].plot([-0.5, 21.5], [0.01, 0.01], c='grey');"
   ]
  },
  {
   "cell_type": "code",
   "execution_count": null,
   "id": "a75c10e0-c528-409f-a459-0adc86a0db3d",
   "metadata": {},
   "outputs": [],
   "source": []
  }
 ],
 "metadata": {
  "kernelspec": {
   "display_name": "py39",
   "language": "python",
   "name": "py39"
  },
  "language_info": {
   "codemirror_mode": {
    "name": "ipython",
    "version": 3
   },
   "file_extension": ".py",
   "mimetype": "text/x-python",
   "name": "python",
   "nbconvert_exporter": "python",
   "pygments_lexer": "ipython3",
   "version": "3.9.2"
  }
 },
 "nbformat": 4,
 "nbformat_minor": 5
}
