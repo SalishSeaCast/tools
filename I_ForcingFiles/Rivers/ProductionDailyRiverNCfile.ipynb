{
 "cells": [
  {
   "cell_type": "code",
   "execution_count": 109,
   "metadata": {},
   "outputs": [],
   "source": [
    "import arrow\n",
    "#import datetime as dt\n",
    "\n",
    "#import pandas as pd\n",
    "#from pathlib import Path\n",
    "#import xarray as xr\n",
    "import yaml\n",
    "\n",
    "#from salishsea_tools import rivertools\n",
    "#from salishsea_tools import river_202108 as rivers\n",
    "\n",
    "from DailyRiverFlows import make_runoff_files\n",
    "\n",
    "#prop_dict_name ='river_202108'\n",
    "#bathy_type = 'b202108'"
   ]
  },
  {
   "cell_type": "code",
   "execution_count": 110,
   "metadata": {},
   "outputs": [],
   "source": [
    "config_file = 'nowcast.yaml'\n",
    "with open(config_file, \"r\") as stream:\n",
    "    config = yaml.safe_load(stream)\n",
    "#config"
   ]
  },
  {
   "cell_type": "raw",
   "metadata": {},
   "source": [
    "# what coordinates are you using?\n",
    "gridcoords = 'coordinates_seagrid_SalishSea201702.nc'\n",
    "coords_file = '../../../grid/'+gridcoords\n",
    "# where is the river information? \n",
    "prop_dict = rivers.prop_dict"
   ]
  },
  {
   "cell_type": "raw",
   "metadata": {},
   "source": [
    "#get dimensions for netcdf files\n",
    "def get_area(config):\n",
    "    #directory = Path(config[\"run\"][\"enabled hosts\"][\"salish-nowcast\"][\"grid dir\"])\n",
    "    directory = Path('/home/sallen/MEOPAR/grid/')\n",
    "    coords_file = directory / config[\"run types\"][\"nowcast-green\"][\"coordinates\"]\n",
    "    with xr.open_dataset(coords_file, decode_times=False) as fB:\n",
    "        area = fB['e1t'][0,:] * fB['e2t'][0,:]\n",
    "    return area"
   ]
  },
  {
   "cell_type": "raw",
   "metadata": {},
   "source": [
    "#list of watersheds we are including\n",
    "names = ['bute', 'evi_n', 'jervis', 'evi_s', 'howe', 'jdf', 'skagit', 'puget', 'toba', 'fraser']"
   ]
  },
  {
   "cell_type": "code",
   "execution_count": 111,
   "metadata": {},
   "outputs": [
    {
     "name": "stdout",
     "output_type": "stream",
     "text": [
      "2023-02-23T00:00:00+00:00\n"
     ]
    }
   ],
   "source": [
    "# Date Range\n",
    "dateneeded = arrow.get(2023, 2, 23)\n",
    "print (dateneeded)"
   ]
  },
  {
   "cell_type": "code",
   "execution_count": 112,
   "metadata": {},
   "outputs": [
    {
     "name": "stdout",
     "output_type": "stream",
     "text": [
      "bute\n",
      "no secondary\n",
      "Homathko_Mouth\n",
      "[[77.15001775]]\n",
      "evi_n\n",
      "no secondary\n",
      "Salmon_Sayward\n",
      "[[395.99670986]]\n",
      "jervis\n",
      "Clowhom_ClowhomLake\n",
      "RobertsCreek\n",
      "[[127.24917172]]\n",
      "evi_s\n",
      "no secondary\n",
      "Englishman\n",
      "[[157.9251612]]\n",
      "howe\n",
      "no secondary\n",
      "Squamish_Brackendale\n",
      "[[80.54165412]]\n",
      "jdf\n",
      "no secondary\n",
      "SanJuan_PortRenfrew\n",
      "[[384.01499292]]\n",
      "skagit\n",
      "Skagit_MountVernon\n",
      "Snohomish_Monroe\n",
      "[[759.1733839]]\n",
      "puget\n",
      "Nisqually_McKenna\n",
      "Greenwater_Greenwater\n",
      "[[535.11251564]]\n",
      "toba\n",
      "Homathko_Mouth\n"
     ]
    },
    {
     "name": "stderr",
     "output_type": "stream",
     "text": [
      "/ocean/sallen/miniconda3/envs/py39/lib/python3.9/site-packages/pandas/util/_decorators.py:311: ParserWarning: Length of header or names does not match length of data. This leads to a loss of data with index_col=False.\n",
      "  return func(*args, **kwargs)\n"
     ]
    },
    {
     "name": "stdout",
     "output_type": "stream",
     "text": [
      "[[64.80563449]]\n",
      "fraser\n",
      "Fraser\n",
      "Nicomekl_Langley\n",
      "[[880.05959742]]\n",
      "files read\n",
      "/results/forcing/rivers/R202108Dailies_y2023m02d23.nc\n"
     ]
    }
   ],
   "source": [
    "make_runoff_files(dateneeded, config)"
   ]
  },
  {
   "cell_type": "raw",
   "metadata": {},
   "source": [
    "maindir = '/results/forcing/rivers/observations/'\n",
    "origdir = '/data/dlatorne/SOG-projects/SOG-forcing/ECget/'\n",
    "def getdir(river_name):\n",
    "    if river_name in ['Fraser', 'Englishman']:\n",
    "        thedir = origdir\n",
    "    else:\n",
    "        thedir = maindir\n",
    "    return (thedir)"
   ]
  },
  {
   "cell_type": "raw",
   "metadata": {},
   "source": [
    "def read_river(river_name, ps):\n",
    "    thedir = getdir(river_name)\n",
    "    river_flow = pd.read_csv(f'{thedir}/{river_name}_flow', header=None, sep='\\s+', index_col=False,\n",
    "                      names=['year', 'month', 'day', 'flow'])\n",
    "    river_flow['date'] = pd.to_datetime(river_flow.drop(columns='flow'))\n",
    "    river_flow.set_index('date', inplace=True)\n",
    "    river_flow = river_flow.drop(columns=['year', 'month', 'day'])\n",
    "    if ps == 'primary':\n",
    "        river_flow = river_flow.rename(columns={'flow': 'Primary River Flow'})\n",
    "    elif ps == 'secondary':\n",
    "        river_flow = river_flow.rename(columns={'flow': 'Secondary River Flow'})\n",
    "    return river_flow"
   ]
  },
  {
   "cell_type": "raw",
   "metadata": {},
   "source": [
    "def read_river_Theodosia():\n",
    "    part1 = pd.read_csv(f'{maindir}/Theodosia_Scotty_flow', header=None, sep='\\s+', index_col=False,\n",
    "                      names=['year', 'month', 'day', 'flow'])\n",
    "    part2 = pd.read_csv(f'{maindir}/Theodosia_Bypass_flow', header=None, sep='\\s+', index_col=False,\n",
    "                      names=['year', 'month', 'day', 'flow'])\n",
    "    part3 = pd.read_csv(f'{maindir}/Theodosia_Diversion_flow', header=None, sep='\\s+', index_col=False,\n",
    "                      names=['year', 'month', 'day', 'flow'])\n",
    "    for part in [part1, part2, part3]:\n",
    "        part['date'] = pd.to_datetime(part.drop(columns='flow'))\n",
    "        part.set_index('date', inplace=True)\n",
    "        part.drop(columns=['year', 'month', 'day'], inplace=True)\n",
    "    part1 = part1.rename(columns={'flow': 'Scotty'})\n",
    "    part2 = part2.rename(columns={'flow': 'Bypass'})\n",
    "    part3 = part3.rename(columns={'flow': 'Diversion'})\n",
    "    theodosia = (part3.merge(part2, how='inner', on='date')).merge(part1, how='inner', on='date')\n",
    "    theodosia['Secondary River Flow'] = theodosia['Scotty'] + theodosia['Diversion'] - theodosia['Bypass']\n",
    "    part3['FlowFromDiversion'] = part3.Diversion * theodosia_from_diversion_only\n",
    "    theodosia = theodosia.merge(part3, how='outer', on='date', sort=True)\n",
    "    theodosia['Secondary River Flow'] = theodosia['Secondary River Flow'].fillna(\n",
    "        theodosia['FlowFromDiversion'])\n",
    "    theodosia = theodosia.drop(['Diversion_x', 'Bypass', 'Scotty', 'Diversion_y', \n",
    "                                   'FlowFromDiversion'], axis=1)\n",
    "    return theodosia"
   ]
  },
  {
   "cell_type": "raw",
   "metadata": {},
   "source": [
    "def do_a_pair(water_shed, watershed_from_river, dateneeded,\n",
    "              primary_river_name, use_secondary, \n",
    "              secondary_river_name='Null'):\n",
    "    primary_river = read_river(primary_river_name, 'primary', config)\n",
    "    \n",
    "    if len(primary_river[primary_river.index == str(dateneeded.date())]) == 1:\n",
    "        print (primary_river_name, ' good to go')\n",
    "        primary_flow = primary_river[primary_river.index == str(dateneeded.date())].values\n",
    "    else:\n",
    "        print (primary_river_name, ' need to patch')\n",
    "        primary_flow = patch_gaps(primary_river_name, primary_river, dateneeded)\n",
    "            \n",
    "    if use_secondary:\n",
    "        print(secondary_river_name, 'read and check')\n",
    "        if secondary_river_name == \"Theodosia\":\n",
    "            secondary_river = read_river_Theodosia(config)\n",
    "        else:\n",
    "            secondary_river = read_river(secondary_river_name, 'secondary', config)\n",
    "            \n",
    "        if len(secondary_river[secondary_river.index == str(dateneeded.date())]) == 1:\n",
    "            print (secondary_river_name, ' good to go')\n",
    "            secondary_flow = secondary_river[secondary_river.index == str(dateneeded.date())].values\n",
    "        else:\n",
    "            print (secondary_river_name, ' need to patch')\n",
    "            secondary_flow = patch_gaps(secondary_river_name, secondary_river, dateneeded)\n",
    "        \n",
    "        watershed_flux = (primary_flow * \n",
    "                        watershed_from_river[water_shed]['primary']\n",
    "                        + secondary_flow \n",
    "                        * watershed_from_river[water_shed]['secondary'])\n",
    "    else:\n",
    "        watershed_flux = (primary_flow * \n",
    "                                watershed_from_river[water_shed]['primary'])\n",
    "\n",
    "    \n",
    "    return watershed_flux"
   ]
  },
  {
   "cell_type": "raw",
   "metadata": {},
   "source": [
    "def do_fraser(watershed_from_river, dateneeded,\n",
    "              primary_river_name, secondary_river_name):\n",
    "    primary_river = read_river(primary_river_name, 'primary', config)\n",
    "    \n",
    "    if len(primary_river[primary_river.index == str(dateneeded.date())]) == 1:\n",
    "        good = True\n",
    "        print (primary_river_name, ' good to go')\n",
    "        primary_flow = primary_river[primary_river.index == str(dateneeded.date())].values\n",
    "    else:\n",
    "        good = False\n",
    "        print (primary_river_name, ' need to patch')\n",
    "        lastdata = primary_river.iloc[-1]\n",
    "        if lastdata.name > dateneeded.naive:\n",
    "            print ('Not working at end of time series, use MakeDailyNCFiles notebook')\n",
    "            stop\n",
    "        else:\n",
    "            day = dt.datetime(2020, 1, 2) - dt.datetime(2020, 1, 1)\n",
    "            gap_length = int((dateneeded.naive - lastdata.name) / day)\n",
    "            print (gap_length)\n",
    "            primary_flow = lastdata.values\n",
    "    \n",
    "    secondary_river = read_river(secondary_river_name, 'secondary', config)\n",
    "    \n",
    "    if len(secondary_river[secondary_river.index == str(dateneeded.date())]) == 1:\n",
    "        good = True\n",
    "        print (secondary_river_name, ' good to go')\n",
    "        secondary_flow = secondary_river[secondary_river.index == str(dateneeded.date())].values\n",
    "    else:\n",
    "        good = False\n",
    "        print (secondary_river_name, ' need to patch')\n",
    "        secondary_flow = patch_gaps(secondary_river_name, secondary_river, dateneeded)   \n",
    "                        \n",
    "    Fraser_flux = (primary_flow * \n",
    "                        watershed_from_river['fraser']['primary']\n",
    "                        + secondary_flow \n",
    "                        * watershed_from_river['fraser']['secondary'] *\n",
    "                           watershed_from_river['fraser']['nico_into_fraser'])\n",
    "    secondary_flux = (secondary_flow *\n",
    "                                      watershed_from_river['fraser']['secondary'] *\n",
    "                           (1 - watershed_from_river['fraser']['nico_into_fraser']))\n",
    "\n",
    "    print ('Fraser done')\n",
    "    return Fraser_flux, secondary_flux"
   ]
  },
  {
   "cell_type": "raw",
   "metadata": {},
   "source": [
    "matching_dictionary = {'Englishman': 'Salmon_Sayward',\n",
    "                      'Theodosia': 'Clowhom_ClowhomLake',\n",
    "                      'RobertsCreek': 'Englishman',\n",
    "                      'Salmon_Sayward': 'Englishman',\n",
    "                      'Squamish_Brackendale': 'Homathko_Mouth',\n",
    "                      'SanJuan_PortRenfrew': 'Englishman',\n",
    "                      'Nisqually_McKenna': 'Snohomish_Monroe',\n",
    "                      'Snohomish_Monroe': 'Skagit_MountVernon',\n",
    "                      'Skagit_MountVernon': 'Snohomish_Monroe',\n",
    "                      'Homathko_Mouth': 'Squamish_Brackendale',\n",
    "                      'Nicomekl_Langley': 'RobertsCreek',\n",
    "                      'Greenwater_Greenwater': 'Snohomish_Monroe',\n",
    "                      'Clowhom_ClowhomLake': 'Theodosia_Diversion'}\n",
    "backup_dictionary = {'SanJuan_PortRenfrew': 'RobertsCreek',\n",
    "                    'Theodosia': 'Englishman'}\n",
    "patching_dictionary = {'Englishman': ['fit', 'persist'],\n",
    "                      'Theodosia': ['fit', 'backup', 'persist'],\n",
    "                      'RobertsCreek': ['fit', 'persist'],\n",
    "                      'Salmon_Sayward': ['fit', 'persist'],\n",
    "                      'Squamish_Brackendale': ['fit', 'persist'],\n",
    "                      'SanJuan_PortRenfrew': ['fit', 'backup', 'persist'],\n",
    "                      'Nisqually_McKenna': ['fit', 'persist'],\n",
    "                      'Snohomish_Monroe': ['fit', 'persist'],\n",
    "                      'Skagit_MountVernon': ['fit', 'persist'],\n",
    "                      'Homathko_Mouth': ['fit', 'persist'],\n",
    "                      'Nicomekl_Langley': ['fit', 'persist'],\n",
    "                      'Greenwater_Greenwater': ['fit', 'persist'],\n",
    "                      'Clowhom_ClowhomLake': ['fit', 'persist']}"
   ]
  },
  {
   "cell_type": "raw",
   "metadata": {},
   "source": [
    "persist_until = {'Englishman': 0,\n",
    "                      'Theodosia': 0,\n",
    "                      'RobertsCreek': 0,\n",
    "                      'Salmon_Sayward': 0,\n",
    "                      'Squamish_Brackendale': 0,\n",
    "                      'SanJuan_PortRenfrew': 0,\n",
    "                      'Nisqually_McKenna': 4,\n",
    "                      'Snohomish_Monroe': 0,\n",
    "                      'Skagit_MountVernon': 3,\n",
    "                      'Homathko_Mouth': 1,\n",
    "                      'Nicomekl_Langley': 0,\n",
    "                      'Greenwater_Greenwater': 1,\n",
    "                      'Clowhom_ClowhomLake': 2}"
   ]
  },
  {
   "cell_type": "raw",
   "metadata": {},
   "source": [
    "def patch_gaps(name, primary_river, dateneeded):\n",
    "    lastdata = primary_river.iloc[-1]\n",
    "\n",
    "    # Find the length of gap assuming that the required day is beyond the time series available\n",
    "    lastdata = primary_river.iloc[-1]\n",
    "    if lastdata.name > dateneeded.naive:\n",
    "        print ('Not working at end of time series, use MakeDailyNCFiles notebook')\n",
    "        stop\n",
    "    else:\n",
    "        day = dt.datetime(2020, 1, 2) - dt.datetime(2020, 1, 1)\n",
    "        gap_length = int((dateneeded.naive - lastdata.name) / day)\n",
    "        print (gap_length)\n",
    "            \n",
    "    notfitted = True\n",
    "    method = 0\n",
    "    while notfitted:\n",
    "        if gap_length > persist_until[name]:\n",
    "            fittype = patching_dictionary[name][method]\n",
    "        else:\n",
    "            fittype = 'persist'\n",
    "        print (fittype)\n",
    "        if fittype == 'persist':\n",
    "            flux = lastdata.values\n",
    "            notfitted = False\n",
    "        else:\n",
    "            if fittype == 'fit':\n",
    "                useriver = matching_dictionary[name]\n",
    "            elif fittype == 'backup':\n",
    "                useriver = backup_dictionary[name]\n",
    "            else:\n",
    "                print ('typo in fit list')\n",
    "                stop\n",
    "            bad, flux = patch_fitting(primary_river, useriver, dateneeded, gap_length)\n",
    "            if bad:\n",
    "                method = method + 1\n",
    "            else:\n",
    "                notfitted = False\n",
    "    return flux"
   ]
  },
  {
   "cell_type": "raw",
   "metadata": {},
   "source": [
    "def patch_fitting(primary_river, useriver, dateneeded, gap_length):\n",
    "    bad = False\n",
    "    firstchoice = read_river(useriver, 'primary', config)\n",
    "    print (firstchoice.index[-5:])\n",
    "    length = 7\n",
    "    ratio = 0\n",
    "    for day in arrow.Arrow.range('day', dateneeded.shift(days=-length-gap_length), \n",
    "                                 dateneeded.shift(days=-1-gap_length)):\n",
    "        numer = primary_river[primary_river.index == str(day.date())].values\n",
    "        denom = firstchoice[firstchoice.index == str(day.date())].values\n",
    "        print (numer, denom, numer/denom)\n",
    "        if (len(denom) == 1) and (len(numer) == 1):\n",
    "            ratio = ratio + numer / denom\n",
    "        else:\n",
    "            bad = True\n",
    "        \n",
    "    if len(firstchoice[firstchoice.index == str(dateneeded.date())].values) != 1:\n",
    "        bad = True\n",
    "        \n",
    "    if not bad:\n",
    "        print (ratio/length)\n",
    "        flux = ratio/length * firstchoice[firstchoice.index == str(dateneeded.date())].values\n",
    "    else:\n",
    "        flux = np.nan\n",
    "    return bad, flux"
   ]
  },
  {
   "cell_type": "raw",
   "metadata": {},
   "source": [
    "river = 'Englishman'\n",
    "primary_river = read_river(river, 'primary', config)\n",
    "lastdata = primary_river.iloc[-1]\n",
    "print (lastdata.name, dateneeded)\n",
    "lastdata.name < dateneeded.naive\n",
    "day = dt.datetime(2020, 1, 2) - dt.datetime(2020, 1, 1)\n",
    "\n",
    "gap_length = int((dateneeded.naive - lastdata.name) / day)\n",
    "gap_length"
   ]
  },
  {
   "cell_type": "raw",
   "metadata": {},
   "source": [
    "watershed_from_river = {\n",
    "    'bute': {'primary': 2.015},\n",
    "    'jervis': {'primary': 8.810, 'secondary': 140.3},\n",
    "    'howe': {'primary': 2.276},\n",
    "    'jdf': {'primary': 8.501},\n",
    "    'evi_n': {'primary': 10.334},\n",
    "    'evi_s': {'primary': 24.60},\n",
    "    'toba': {'primary': 0.4563, 'secondary': 14.58},\n",
    "    'skagit': {'primary': 1.267, 'secondary': 1.236},\n",
    "    'puget': {'primary': 8.790, 'secondary': 29.09},\n",
    "    'fraser' : {'primary': 1.161, 'secondary': 162, 'nico_into_fraser': 0.83565}\n",
    "}\n",
    "rivers_for_watershed = {\n",
    "    'bute': {'primary': 'Homathko_Mouth',\n",
    "            'secondary': 'False'},\n",
    "    'evi_n': {'primary': 'Salmon_Sayward',\n",
    "             'secondary': 'False'},\n",
    "    'jervis': {'primary': 'Clowhom_ClowhomLake',\n",
    "              'secondary': 'RobertsCreek'},\n",
    "    'evi_s': {'primary': 'Englishman', \n",
    "             'secondary': 'False'},\n",
    "    'howe': {'primary': 'Squamish_Brackendale',\n",
    "            'secondary': 'False'},\n",
    "    'jdf': {'primary': 'SanJuan_PortRenfrew',\n",
    "           'secondary': 'False'},\n",
    "    'skagit': {'primary': 'Skagit_MountVernon',\n",
    "              'secondary': 'Snohomish_Monroe'},\n",
    "    'puget': {'primary': 'Nisqually_McKenna',\n",
    "             'secondary': 'Greenwater_Greenwater'},\n",
    "    'toba': {'primary': 'Homathko_Mouth',\n",
    "            'secondary': 'Theodosia'},\n",
    "    'fraser': {'primary': 'Fraser',\n",
    "              'secondary': 'Nicomekl_Langley'},\n",
    "}"
   ]
  },
  {
   "cell_type": "raw",
   "metadata": {},
   "source": [
    "fraserratio = rivers.prop_dict['fraser']['Fraser']['prop']"
   ]
  },
  {
   "cell_type": "raw",
   "metadata": {},
   "source": [
    "theodosia_from_diversion_only = 1.429 # see TheodosiaWOScotty"
   ]
  },
  {
   "cell_type": "markdown",
   "metadata": {},
   "source": [
    "def write_file(day, runoff):\n",
    "    \"keep it small and simple, runoff only\"\n",
    "    notebook = 'ProductionDailyRiverNCfile.ipynb'\n",
    "    coords = {\n",
    "        'x' : range(398),\n",
    "        'y' : range(898),\n",
    "        'time_counter' : [0],\n",
    "    }\n",
    "    var_attrs = {'units': 'kg m-2 s-1',\n",
    "                      'long_name': 'runoff_flux'}\n",
    "    \n",
    "    year = day.year\n",
    "    month = day.month\n",
    "    day = day.day\n",
    "    # set up filename to follow NEMO conventions\n",
    "    filename = f'ncfiles/R202108Dailies_y{year}m{month:02}d{day:02}.nc'\n",
    "    print (filename)\n",
    "        \n",
    "    netcdf_title = f'Rivers for y{year}m{month:02}d{day:02}'\n",
    "    ds_attrs = {\n",
    "        'acknowledgements':\n",
    "            'Based on river fit',\n",
    "        'creator_email':\n",
    "            'sallen@eoas.ubc.ca',\n",
    "        'creator_name':\n",
    "            'Salish Sea MEOPAR Project Contributors',\n",
    "        'creator_url':\n",
    "            'https://salishsea-meopar-docs.readthedocs.org/',\n",
    "        'institution':\n",
    "            'UBC EOAS',\n",
    "        'institution_fullname': (\n",
    "            'Earth, Ocean & Atmospheric Sciences,'\n",
    "            ' University of British Columbia'\n",
    "        ),\n",
    "        'title': netcdf_title,\n",
    "        'notebook': notebook,\n",
    "        'rivers_base': prop_dict_name,\n",
    "        'summary': f'Daily Runoff for Bathymetry 202108',\n",
    "        'history': (\n",
    "            '[{}] File creation.'\n",
    "            .format(dt.datetime.today().strftime('%Y-%m-%d'))\n",
    "        )\n",
    "        }\n",
    "    runoffs = np.empty((1, runoff.shape[0], runoff.shape[1]))\n",
    "    runoffs[0] = runoff\n",
    "\n",
    "    da = xr.DataArray(\n",
    "            data = runoffs,\n",
    "            name='rorunoff',\n",
    "            dims=('time_counter', 'y', 'x'),\n",
    "            coords = coords,\n",
    "            attrs = var_attrs)\n",
    "    \n",
    "\n",
    "    ds = xr.Dataset(\n",
    "            data_vars={\n",
    "            'rorunoff': da},\n",
    "            coords = coords,\n",
    "            attrs = ds_attrs\n",
    "        )\n",
    "    \n",
    "    encoding = {var: {'zlib': True} for var in ds.data_vars}\n",
    "\n",
    "    ds.to_netcdf(filename, unlimited_dims=('time_counter'),\n",
    "            encoding=encoding,)\n"
   ]
  },
  {
   "cell_type": "raw",
   "metadata": {},
   "source": [
    "def calculate_watershed_flows(dateneeded, config):\n",
    "\n",
    "    flows = {}\n",
    "    for name in names:\n",
    "        print (name)\n",
    "        if rivers_for_watershed[name]['secondary'] == 'False':\n",
    "            print ('no secondary')\n",
    "            flows[name] = do_a_pair(name, watershed_from_river, dateneeded, \n",
    "                                    rivers_for_watershed[name]['primary'], False, config)\n",
    "        elif name == 'fraser':\n",
    "            flows['Fraser'], flows['nonFraser'] = do_fraser(watershed_from_river, dateneeded,\n",
    "                                   rivers_for_watershed[name]['primary'],\n",
    "                                   rivers_for_watershed[name]['secondary'], config)\n",
    "        else:\n",
    "            flows[name] = do_a_pair(name, watershed_from_river, dateneeded,\n",
    "                                    rivers_for_watershed[name]['primary'], True, config,\n",
    "                                   rivers_for_watershed[name]['secondary'])\n",
    "        if name == 'fraser':\n",
    "            print (flows['Fraser'])\n",
    "        else:\n",
    "            print (flows[name])\n",
    "\n",
    "    print ('files read')\n",
    "\n",
    "    return flows"
   ]
  },
  {
   "cell_type": "raw",
   "metadata": {},
   "source": [
    "def create_runoff_array(flows, prop_dict, horz_area):\n",
    "    runoff = np.zeros((horz_area.shape[0], horz_area.shape[1]))\n",
    "    run_depth = np.ones_like(runoff)\n",
    "    run_temp = np.empty_like(runoff)\n",
    "    for name in names:\n",
    "        if name == 'fraser':\n",
    "            for key in prop_dict[name]:\n",
    "                if \"Fraser\" in key:\n",
    "                    flux = flows['Fraser'].flatten()[0]\n",
    "                    subarea = fraserratio\n",
    "                else:\n",
    "                    flux = flows['nonFraser'].flatten()[0]\n",
    "                    subarea = 1 - fraserratio\n",
    "\n",
    "                river = prop_dict['fraser'][key]\n",
    "                runoff = rivertools.fill_runoff_array(flux*river['prop']/subarea, river['i'],\n",
    "                          river['di'], river['j'], river['dj'], river['depth'], runoff, \n",
    "                          run_depth, horz_area)[0]\n",
    "        else:\n",
    "            flowtoday = flows[name].flatten()[0]\n",
    "            runoff, run_depth, run_temp = rivertools.put_watershed_into_runoff('constant', horz_area,\n",
    "                                            flowtoday, runoff, run_depth, run_temp,\n",
    "                                            prop_dict[name])\n",
    "    return runoff"
   ]
  },
  {
   "cell_type": "raw",
   "metadata": {},
   "source": [
    "flows = calculate_watershed_flows(dateneeded, config)\n",
    "\n",
    "horz_area = get_area(config)\n",
    "\n",
    "runoff = create_runoff_array(flows, rivers.prop_dict, horz_area)\n",
    "\n",
    "write_file(dateneeded, runoff, bathy_type, prop_dict_name, config)"
   ]
  },
  {
   "cell_type": "markdown",
   "metadata": {},
   "source": [
    "# Plotting and Checking #"
   ]
  },
  {
   "cell_type": "code",
   "execution_count": 113,
   "metadata": {},
   "outputs": [],
   "source": [
    "import matplotlib.pyplot as plt\n",
    "import numpy as np\n",
    "import xarray as xr\n",
    "\n",
    "from salishsea_tools import nc_tools, viz_tools\n"
   ]
  },
  {
   "cell_type": "code",
   "execution_count": 114,
   "metadata": {},
   "outputs": [],
   "source": [
    "bathy = xr.open_dataset('../../../grid/bathymetry_202108.nc')"
   ]
  },
  {
   "cell_type": "code",
   "execution_count": 115,
   "metadata": {},
   "outputs": [],
   "source": [
    "imin, imax = 0, 898\n",
    "jmin, jmax = 0, 394\n",
    "jj = range(jmax)\n",
    "ii = range(imax)\n",
    "jjm, iim = np.meshgrid(jj, ii)"
   ]
  },
  {
   "cell_type": "raw",
   "metadata": {},
   "source": [
    "fig, ax = plt.subplots(1, 1, figsize=(4, 9))\n",
    "ax.contourf(bathy.Bathymetry[imin:imax, jmin:jmax], cmap='winter_r')\n",
    "ax.scatter(jjm[runoff[:, :jmax]>0], iim[runoff[:, :jmax]>0], \n",
    "           s=runoff[:, :jmax][runoff[:, :jmax]>0]*1000, color='tab:red');"
   ]
  },
  {
   "cell_type": "code",
   "execution_count": 116,
   "metadata": {},
   "outputs": [
    {
     "data": {
      "image/png": "[encoded data removed]",
      "text/plain": [
       "<Figure size 864x648 with 3 Axes>"
      ]
     },
     "metadata": {
      "needs_background": "light"
     },
     "output_type": "display_data"
    }
   ],
   "source": [
    "compare = xr.open_dataset(f'/results/forcing/rivers/R202108Dailies_y{dateneeded.year}m{dateneeded.month:02d}d{dateneeded.shift(days=-1).day:02d}.nc')\n",
    "#compare = xr.open_dataset(f'/results/forcing/rivers/R202108Dailies_y2022m12d26.nc')\n",
    "readitin = xr.open_dataset(f'/results/forcing/rivers/R202108Dailies_y{dateneeded.year}m{dateneeded.month:02d}d{dateneeded.day:02d}.nc')\n",
    "fluxarray = np.array(readitin.rorunoff[0, :, :jmax])\n",
    "climatearray = np.array(compare.rorunoff[0, :, :jmax])\n",
    "fig, axs = plt.subplots(1, 3, figsize=(12, 9))\n",
    "for ax in axs:\n",
    "    ax.contourf(bathy.Bathymetry[imin:imax, jmin:jmax], cmap='winter_r')\n",
    "      \n",
    "axs[1].scatter(jjm[fluxarray>0], iim[fluxarray>0], s=fluxarray[fluxarray>0]*1000, color='r')\n",
    "axs[0].scatter(jjm[climatearray>0], iim[climatearray>0], s=climatearray[climatearray>0]*1000, color='r')\n",
    "axs[2].scatter(jjm[fluxarray>climatearray], iim[fluxarray>climatearray], \n",
    "               s=(fluxarray[fluxarray>climatearray]-climatearray[fluxarray>climatearray])*1000, color='tab:red')\n",
    "axs[2].scatter(jjm[fluxarray<climatearray], iim[fluxarray<climatearray], \n",
    "               s=(-fluxarray[fluxarray<climatearray]+climatearray[fluxarray<climatearray])*1000, color='tab:blue', alpha=0.7)\n",
    "                      \n",
    "readitin.close()\n",
    "compare.close()"
   ]
  },
  {
   "cell_type": "code",
   "execution_count": 117,
   "metadata": {},
   "outputs": [
    {
     "data": {
      "text/plain": [
       "<Arrow [2023-02-22T00:00:00+00:00]>"
      ]
     },
     "execution_count": 117,
     "metadata": {},
     "output_type": "execute_result"
    }
   ],
   "source": [
    "dateneeded.shift(days=-1)"
   ]
  },
  {
   "cell_type": "code",
   "execution_count": null,
   "metadata": {},
   "outputs": [],
   "source": []
  }
 ],
 "metadata": {
  "kernelspec": {
   "display_name": "py39",
   "language": "python",
   "name": "py39"
  },
  "language_info": {
   "codemirror_mode": {
    "name": "ipython",
    "version": 3
   },
   "file_extension": ".py",
   "mimetype": "text/x-python",
   "name": "python",
   "nbconvert_exporter": "python",
   "pygments_lexer": "ipython3",
   "version": "3.9.2"
  }
 },
 "nbformat": 4,
 "nbformat_minor": 4
}
