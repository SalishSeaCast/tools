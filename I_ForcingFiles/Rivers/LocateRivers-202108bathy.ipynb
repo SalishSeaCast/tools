{
 "cells": [
  {
   "cell_type": "code",
   "execution_count": 59,
   "metadata": {},
   "outputs": [],
   "source": [
    "import matplotlib.pyplot as plt\n",
    "import xarray as xr\n",
    "\n",
    "from salishsea_tools import viz_tools, geo_tools\n",
    "\n",
    "%matplotlib inline"
   ]
  },
  {
   "cell_type": "code",
   "execution_count": 1,
   "metadata": {},
   "outputs": [],
   "source": [
    "bathyfile = '../../../grid/bathymetry_202108.nc'\n",
    "meshfile = '../../../grid/mesh_mask201702.nc'   # warning: old mesh file!!!"
   ]
  },
  {
   "cell_type": "code",
   "execution_count": 49,
   "metadata": {},
   "outputs": [],
   "source": [
    "bathy = xr.open_dataset(bathyfile)\n",
    "mesh = xr.open_dataset(meshfile)\n",
    "tmask = 1 - mesh.tmask[0, 0]\n",
    "bmask = bathy.Bathymetry == bathy.Bathymetry  # new tmask"
   ]
  },
  {
   "cell_type": "code",
   "execution_count": 60,
   "metadata": {},
   "outputs": [],
   "source": [
    "r202102 = xr.open_dataset('../../../rivers-climatology/rivers_daily_202102.nc').rorunoff[5]\n",
    "d202102 = xr.open_dataset('../../../rivers-climatology/rivers_daily_202102.nc').rodepth[5]\n",
    "r201803 = xr.open_dataset('../../../sea_initial_hg/rivers_month_201803.nc').rorunoff[5]\n",
    "d201803 = xr.open_dataset('../../../sea_initial_hg/rivers_month_201803.nc').rodepth[:]"
   ]
  },
  {
   "cell_type": "code",
   "execution_count": 82,
   "metadata": {},
   "outputs": [],
   "source": [
    "# From LocateRivers (on 201702)\n",
    "myrivers1a = {'Serpentine': [49.082, -122.853, 392, 354],\n",
    "            'Nicomekl': [49.063, -122.876, 388, 350],\n",
    "            'LittleCampbell': [49.014, -122.779, 373, 357], \n",
    "            'Colebrook': [49.083, -122.913, 395, 346],}\n",
    "fixrivers = {'Serpentine': [390, 350],\n",
    "             'LittleCampbell': [372, 357], \n",
    "             'Colebrook': [390, 346],\n",
    "            }\n",
    "myrivers1b = {\n",
    "            'Jericho': [49.276, -123.203, 453, 329, 13.3],\n",
    "            'FalseCreek': [49.276, -123.139, 450, 337, 27.17],\n",
    "            'FirtNarrows': [49.31, -123.097, 459, 343, 23.16 + 20.66 + 10.38 + 10.24 +\n",
    "                           93.71 + 195.12 + 342.65]}"
   ]
  },
  {
   "cell_type": "code",
   "execution_count": 21,
   "metadata": {},
   "outputs": [],
   "source": [
    "myrivers2 = {'Capilano': [49.320, -123.14, 458, 343, 49.370],\n",
    "            'Lawson': [49.328, -123.162, 461, 341, 3.21+3.96],\n",
    "            'Marr': [49.333, -123.185, 464, 338, 6.34],\n",
    "            'Rodgers': [49.336, -123.196, 465, 337, 0.33*7.28],\n",
    "            'RodgersB': [49.339, -123.205, 466, 337, 0.34*7.28],\n",
    "            'Westmount': [49.340, -123.212, 467, 336, 0.33*7.28],\n",
    "            'Cypress': [49.339, -123.241, 469, 331, 15.91],\n",
    "            'Eagle': [49.357, -123.27, 474, 329, 9.84],\n",
    "            'Whyte': [49.382, -123.265, 478, 332, 5.82],\n",
    "            'Disbrow': [49.399, -123.25, 481, 337, 2.97],\n",
    "            'Sclufield': [49.407, -123.244, 482, 339, 2.41],\n",
    "             'Turpin': [49.426, -123.233, 485, 343, 7.62],\n",
    "             'Harvey': [49.460, -123.24, 492, 346, 20.91],\n",
    "             'Deeks': [49.502, -123.25, 501, 350, 17.42],\n",
    "             'Kallahn': [49.549, -123.24, 510, 358, 13.36],\n",
    "             'Furry': [49.582, -123.226, 515, 364, 66.38],\n",
    "             'Britannia': [49.627, -123.207, 523, 373, 34.37],\n",
    "             'Gonzalos': [49.661, -123.177, 527, 381, 15.00],\n",
    "             'Shannon': [49.678, -123.16, 529, 386, 17.94], \n",
    "             'Stawanus': [49.683, -123.16, 530, 387, 57.76]\n",
    "            }"
   ]
  },
  {
   "cell_type": "code",
   "execution_count": 104,
   "metadata": {},
   "outputs": [],
   "source": [
    "myrivers3 = {'WoodfibreB': [49.666, -123.253, 533, 371, 47.7],\n",
    "            'Woodfibre': [49.661, -123.254, 533, 370, 25.26], \n",
    "            'Foulger': [49.645, -123.261, 530, 367, 17.28],\n",
    "            'Ellesmere': [49.597, -123.262, 521, 361, 15.34], \n",
    "            'Potlatch': [49.581, -123.317, 522, 350, 34.94], \n",
    "            'McNab': [49.562, -123.384, 522, 338, 72.7],\n",
    "            'Bain': [49.539, -123.447, 522, 326, 13.34],\n",
    "            'Rainy': [49.523, -123.483, 522, 319, 71.31],\n",
    "            'McNair': [49.510, -123.493, 520, 316, 54.03], \n",
    "            'Twin': [49.480, -123.485, 513, 313, 19.56],\n",
    "            'Langdale': [49.434, -123.472, 504, 309, 26.92]}"
   ]
  },
  {
   "cell_type": "code",
   "execution_count": 124,
   "metadata": {},
   "outputs": [],
   "source": [
    "myrivers4 = {'Chester': [49.390, -123.556, 501, 291, 24.58],\n",
    "            'Roberts': [49.421, -123.642, 512, 282, 48.83],\n",
    "            'Rume': [49.428, -123.670, 517, 279, 9.17],\n",
    "#            'Wilson': [49.428, -123.706, 521, 275, 25.83]\n",
    "            }"
   ]
  },
  {
   "cell_type": "code",
   "execution_count": 107,
   "metadata": {},
   "outputs": [],
   "source": [
    "jervis = {'Chapman': {\n",
    "        'prop': 0.02, 'i': 522, 'j': 273, 'di': 1, 'dj': 1, 'depth': 1,\n",
    "            },\n",
    "    'Lapan': {\n",
    "        'prop': 0.02, 'i': 620, 'j': 283, 'di': 1, 'dj': 1, 'depth': 1,\n",
    "            },\n",
    "    'Nelson': {\n",
    "        'prop': 0.02, 'i': 604, 'j': 262, 'di': 1, 'dj': 1, 'depth': 1,\n",
    "            },\n",
    "    'Wakefield': {\n",
    "        'prop': 0.02, 'i': 534, 'j': 264, 'di': 1, 'dj': 1, 'depth': 1,\n",
    "            },\n",
    "    'Halfmoon': {\n",
    "        'prop': 0.02, 'i': 549, 'j': 254, 'di': 1, 'dj': 1, 'depth': 1,\n",
    "            },\n",
    "         }"
   ]
  },
  {
   "cell_type": "code",
   "execution_count": 129,
   "metadata": {},
   "outputs": [],
   "source": [
    "def plot_rivers(ax):\n",
    "    for rivers in [myrivers1a, myrivers1b, myrivers2, myrivers3, myrivers4]:\n",
    "        for river in rivers:\n",
    "            ax.plot(rivers[river][3] + 0.5, rivers[river][2] + 0.5, 'go')\n",
    "    for river in jervis:\n",
    "        ax.plot(jervis[river]['j'] + 0.5, jervis[river]['i'] + 0.5, 'go')"
   ]
  },
  {
   "cell_type": "code",
   "execution_count": 70,
   "metadata": {},
   "outputs": [],
   "source": [
    "def plot_newrivers(ax):\n",
    "    for river in fixrivers:\n",
    "        ax.plot(fixrivers[river][1] + 0.5, fixrivers[river][0] + 0.5, 'm^')"
   ]
  },
  {
   "cell_type": "code",
   "execution_count": 78,
   "metadata": {},
   "outputs": [
    {
     "data": {
      "image/png": "[encoded data removed]",
      "text/plain": [
       "<Figure size 1008x504 with 2 Axes>"
      ]
     },
     "metadata": {
      "needs_background": "light"
     },
     "output_type": "display_data"
    }
   ],
   "source": [
    "istart, iend = 350, 400\n",
    "jstart, jend = 300, 350\n",
    "fig, axs = plt.subplots(1, 2, figsize=(14, 7))\n",
    "axs[0].pcolormesh(tmask)\n",
    "plot_rivers(axs[0])\n",
    "for i in range(istart, iend+1):\n",
    "        for j in range(jstart, jend+1):\n",
    "            if r202102[i, j] > 0:\n",
    "                axs[0].plot(j + 0.5, i + 0.5, 'rx')\n",
    "            \n",
    "axs[1].pcolormesh(1-bmask.astype(int))\n",
    "plot_rivers(axs[1])\n",
    "plot_newrivers(axs[1])\n",
    "for i in range(istart, iend+1):\n",
    "        for j in range(jstart, jend+1):\n",
    "            if r201803[i, j] > 0:\n",
    "                axs[1].plot(j + 0.5, i + 0.5, 'w+')\n",
    "\n",
    "for ax in axs:\n",
    "    ax.set_ylim(istart, iend)\n",
    "    ax.set_xlim(jstart, jend)"
   ]
  },
  {
   "cell_type": "code",
   "execution_count": 83,
   "metadata": {},
   "outputs": [
    {
     "data": {
      "image/png": "[encoded data removed]",
      "text/plain": [
       "<Figure size 1008x504 with 2 Axes>"
      ]
     },
     "metadata": {
      "needs_background": "light"
     },
     "output_type": "display_data"
    }
   ],
   "source": [
    "istart, iend = 350, 400\n",
    "jstart, jend = 348, 370\n",
    "fig, axs = plt.subplots(1, 2, figsize=(14, 7))\n",
    "axs[0].pcolormesh(tmask)\n",
    "plot_rivers(axs[0])\n",
    "for i in range(istart, iend+1):\n",
    "        for j in range(jstart, jend+1):\n",
    "            if r202102[i, j] > 0:\n",
    "                axs[0].plot(j + 0.5, i + 0.5, 'rx')\n",
    "            \n",
    "axs[1].pcolormesh(1-bmask.astype(int))\n",
    "plot_rivers(axs[1])\n",
    "plot_newrivers(axs[1])\n",
    "for i in range(istart, iend+1):\n",
    "        for j in range(jstart, jend+1):\n",
    "            if r201803[i, j] > 0:\n",
    "                axs[1].plot(j + 0.5, i + 0.5, 'w+')\n",
    "\n",
    "for ax in axs:\n",
    "    ax.set_ylim(istart, iend)\n",
    "    ax.set_xlim(jstart, jend)"
   ]
  },
  {
   "cell_type": "code",
   "execution_count": 101,
   "metadata": {},
   "outputs": [
    {
     "data": {
      "image/png": "[encoded data removed]",
      "text/plain": [
       "<Figure size 1008x504 with 2 Axes>"
      ]
     },
     "metadata": {
      "needs_background": "light"
     },
     "output_type": "display_data"
    }
   ],
   "source": [
    "istart, iend = 448, 500\n",
    "jstart, jend = 300, 350\n",
    "fig, axs = plt.subplots(1, 2, figsize=(14, 7))\n",
    "axs[0].pcolormesh(tmask)\n",
    "plot_rivers(axs[0])\n",
    "for i in range(istart, iend+1):\n",
    "        for j in range(jstart, jend+1):\n",
    "            if r202102[i, j] > 0:\n",
    "                axs[0].plot(j + 0.5, i + 0.5, 'rx')\n",
    "            \n",
    "axs[1].pcolormesh(1-bmask.astype(int))\n",
    "plot_rivers(axs[1])\n",
    "plot_newrivers(axs[1])\n",
    "for i in range(istart, iend+1):\n",
    "        for j in range(jstart, jend+1):\n",
    "            if r201803[i, j] > 0:\n",
    "                axs[1].plot(j + 0.5, i + 0.5, 'w+')\n",
    "\n",
    "for ax in axs:\n",
    "    ax.set_ylim(istart, iend)\n",
    "    ax.set_xlim(jstart, jend)"
   ]
  },
  {
   "cell_type": "code",
   "execution_count": 130,
   "metadata": {},
   "outputs": [
    {
     "data": {
      "image/png": "[encoded data removed]",
      "text/plain": [
       "<Figure size 1008x504 with 2 Axes>"
      ]
     },
     "metadata": {
      "needs_background": "light"
     },
     "output_type": "display_data"
    }
   ],
   "source": [
    "istart, iend = 500, 550\n",
    "jstart, jend = 250, 300\n",
    "fig, axs = plt.subplots(1, 2, figsize=(14, 7))\n",
    "axs[0].pcolormesh(tmask)\n",
    "plot_rivers(axs[0])\n",
    "for i in range(istart, iend+1):\n",
    "        for j in range(jstart, jend+1):\n",
    "            if r202102[i, j] > 0:\n",
    "                axs[0].plot(j + 0.5, i + 0.5, 'rx')\n",
    "            \n",
    "axs[1].pcolormesh(1-bmask.astype(int))\n",
    "plot_rivers(axs[1])\n",
    "plot_newrivers(axs[1])\n",
    "for i in range(istart, iend+1):\n",
    "        for j in range(jstart, jend+1):\n",
    "            if r201803[i, j] > 0:\n",
    "                axs[1].plot(j + 0.5, i + 0.5, 'w+')\n",
    "\n",
    "for ax in axs:\n",
    "    ax.set_ylim(istart, iend)\n",
    "    ax.set_xlim(jstart, jend)"
   ]
  },
  {
   "cell_type": "code",
   "execution_count": 131,
   "metadata": {},
   "outputs": [
    {
     "data": {
      "image/png": "[encoded data removed]",
      "text/plain": [
       "<Figure size 1008x504 with 2 Axes>"
      ]
     },
     "metadata": {
      "needs_background": "light"
     },
     "output_type": "display_data"
    }
   ],
   "source": [
    "istart, iend = 500, 550\n",
    "jstart, jend = 300, 350\n",
    "fig, axs = plt.subplots(1, 2, figsize=(14, 7))\n",
    "axs[0].pcolormesh(tmask)\n",
    "plot_rivers(axs[0])\n",
    "for i in range(istart, iend+1):\n",
    "        for j in range(jstart, jend+1):\n",
    "            if r202102[i, j] > 0:\n",
    "                axs[0].plot(j + 0.5, i + 0.5, 'rx')\n",
    "            \n",
    "axs[1].pcolormesh(1-bmask.astype(int))\n",
    "plot_rivers(axs[1])\n",
    "plot_newrivers(axs[1])\n",
    "for i in range(istart, iend+1):\n",
    "        for j in range(jstart, jend+1):\n",
    "            if r201803[i, j] > 0:\n",
    "                axs[1].plot(j + 0.5, i + 0.5, 'w+')\n",
    "\n",
    "for ax in axs:\n",
    "    ax.set_ylim(istart, iend)\n",
    "    ax.set_xlim(jstart, jend)"
   ]
  },
  {
   "cell_type": "code",
   "execution_count": 133,
   "metadata": {},
   "outputs": [
    {
     "data": {
      "image/png": "[encoded data removed]",
      "text/plain": [
       "<Figure size 1008x504 with 2 Axes>"
      ]
     },
     "metadata": {
      "needs_background": "light"
     },
     "output_type": "display_data"
    }
   ],
   "source": [
    "istart, iend = 500, 550\n",
    "jstart, jend = 350, 397\n",
    "fig, axs = plt.subplots(1, 2, figsize=(14, 7))\n",
    "axs[0].pcolormesh(tmask)\n",
    "plot_rivers(axs[0])\n",
    "for i in range(istart, iend+1):\n",
    "        for j in range(jstart, jend+1):\n",
    "            if r202102[i, j] > 0:\n",
    "                axs[0].plot(j + 0.5, i + 0.5, 'rx')\n",
    "            \n",
    "axs[1].pcolormesh(1-bmask.astype(int))\n",
    "plot_rivers(axs[1])\n",
    "plot_newrivers(axs[1])\n",
    "for i in range(istart, iend+1):\n",
    "        for j in range(jstart, jend+1):\n",
    "            if r201803[i, j] > 0:\n",
    "                axs[1].plot(j + 0.5, i + 0.5, 'w+')\n",
    "\n",
    "for ax in axs:\n",
    "    ax.set_ylim(istart, iend)\n",
    "    ax.set_xlim(jstart, jend)"
   ]
  },
  {
   "cell_type": "markdown",
   "metadata": {},
   "source": [
    "So, I need to add all the changes of 2021 with small changes to these rivers.  \n",
    "fixrivers = {'Serpentine': [390, 350],\n",
    "             'LittleCampbell': [372, 357], \n",
    "             'Colebrook': [390, 346],}"
   ]
  },
  {
   "cell_type": "code",
   "execution_count": null,
   "metadata": {},
   "outputs": [],
   "source": []
  }
 ],
 "metadata": {
  "kernelspec": {
   "display_name": "Python 3 (ipykernel)",
   "language": "python",
   "name": "python3"
  },
  "language_info": {
   "codemirror_mode": {
    "name": "ipython",
    "version": 3
   },
   "file_extension": ".py",
   "mimetype": "text/x-python",
   "name": "python",
   "nbconvert_exporter": "python",
   "pygments_lexer": "ipython3",
   "version": "3.11.6"
  }
 },
 "nbformat": 4,
 "nbformat_minor": 4
}
