{
 "cells": [
  {
   "cell_type": "code",
   "execution_count": 1,
   "id": "4dff7aff-6f3f-4a06-b86e-846ee7a8659e",
   "metadata": {},
   "outputs": [],
   "source": [
    "# Fit Forward, 7 day gap"
   ]
  },
  {
   "cell_type": "code",
   "execution_count": 2,
   "id": "3f56af5d-5469-45bc-a6af-8db92e9953aa",
   "metadata": {},
   "outputs": [],
   "source": [
    "import datetime as datetime\n",
    "import matplotlib.pyplot as plt\n",
    "import numpy as np\n",
    "from numpy.polynomial.polynomial import polyfit\n",
    "import pandas as pd\n",
    "import random"
   ]
  },
  {
   "cell_type": "code",
   "execution_count": 3,
   "id": "61614cfb-23e9-484b-85ff-55bf5f69b716",
   "metadata": {},
   "outputs": [],
   "source": [
    "maindir = '/results/forcing/rivers/observations/'\n",
    "origdir = '/data/dlatorne/SOG-projects/SOG-forcing/ECget/'\n",
    "def getdir(river_name):\n",
    "    if river_name in ['Fraser', 'Englishman']:\n",
    "        thedir = origdir\n",
    "    else:\n",
    "        thedir = maindir\n",
    "    return (thedir)"
   ]
  },
  {
   "cell_type": "code",
   "execution_count": 4,
   "id": "d59a50ef-3e7c-4d11-98ae-9c73ed144bae",
   "metadata": {},
   "outputs": [],
   "source": [
    "def read_river(river_name, ps):\n",
    "    thedir = getdir(river_name)\n",
    "    river_flow = pd.read_csv(f'{thedir}/{river_name}_flow', header=None, sep='\\s+', index_col=False,\n",
    "                      names=['year', 'month', 'day', 'flow'])\n",
    "    river_flow['date'] = pd.to_datetime(river_flow.drop(columns='flow'))\n",
    "    river_flow.set_index('date', inplace=True)\n",
    "    river_flow = river_flow.drop(columns=['year', 'month', 'day'])\n",
    "    if ps == 'primary':\n",
    "        river_flow = river_flow.rename(columns={'flow': 'Primary River Flow'})\n",
    "    elif ps == 'secondary':\n",
    "        river_flow = river_flow.rename(columns={'flow': 'Secondary River Flow'})\n",
    "    return river_flow"
   ]
  },
  {
   "cell_type": "code",
   "execution_count": 5,
   "id": "2e5bdf57-fa04-400d-b28a-a7a6492a61e9",
   "metadata": {},
   "outputs": [],
   "source": [
    "def read_river_Theodosia(set_primary=False):\n",
    "    if set_primary:\n",
    "        nameit = 'Primary River Flow'\n",
    "    else:\n",
    "        nameit = 'Secondary River Flow'\n",
    "    part1 = pd.read_csv(f'{maindir}/Theodosia_Scotty_flow', header=None, sep='\\s+', index_col=False,\n",
    "                      names=['year', 'month', 'day', 'flow'])\n",
    "    part2 = pd.read_csv(f'{maindir}/Theodosia_Bypass_flow', header=None, sep='\\s+', index_col=False,\n",
    "                      names=['year', 'month', 'day', 'flow'])\n",
    "    part3 = pd.read_csv(f'{maindir}/Theodosia_Diversion_flow', header=None, sep='\\s+', index_col=False,\n",
    "                      names=['year', 'month', 'day', 'flow'])\n",
    "    for part in [part1, part2, part3]:\n",
    "        part['date'] = pd.to_datetime(part.drop(columns='flow'))\n",
    "        part.set_index('date', inplace=True)\n",
    "        part.drop(columns=['year', 'month', 'day'], inplace=True)\n",
    "    part1 = part1.rename(columns={'flow': 'Scotty'})\n",
    "    part2 = part2.rename(columns={'flow': 'Bypass'})\n",
    "    part3 = part3.rename(columns={'flow': 'Diversion'})\n",
    "    theodosia = (part3.merge(part2, how='inner', on='date')).merge(part1, how='inner', on='date')\n",
    "    theodosia[nameit] = theodosia['Scotty'] + theodosia['Diversion'] - theodosia['Bypass']\n",
    "    part3['FlowFromDiversion'] = part3.Diversion * theodosia_from_diversion_only\n",
    "    theodosia = theodosia.merge(part3, how='outer', on='date', sort=True)\n",
    "    theodosia[nameit] = theodosia[nameit].fillna(\n",
    "        theodosia['FlowFromDiversion'])\n",
    "    return theodosia"
   ]
  },
  {
   "cell_type": "code",
   "execution_count": 6,
   "id": "d949555f-dc1d-44fe-82c3-336b715bba5a",
   "metadata": {},
   "outputs": [],
   "source": [
    "matching_dictionary = {'Englishman': 'Salmon_Sayward',\n",
    "                      'Theodosia': 'Clowhom_ClowhomLake',\n",
    "                      'RobertsCreek': 'Englishman',\n",
    "                      'Salmon_Sayward': 'Englishman',\n",
    "                      'Squamish_Brackendale': 'Homathko_Mouth',\n",
    "                      'SanJuan_PortRenfrew': 'Englishman',\n",
    "                      'Nisqually_McKenna': 'Snohomish_Monroe',\n",
    "                      'Snohomish_Monroe': 'Skagit_MountVernon',\n",
    "                      'Skagit_MountVernon': 'Snohomish_Monroe',\n",
    "                      'Homathko_Mouth': 'Squamish_Brackendale',\n",
    "                      'Nicomekl_Langley': 'RobertsCreek',\n",
    "                      'Greenwater_Greenwater': 'Snohomish_Monroe',\n",
    "                      'Clowhom_ClowhomLake': 'Theodosia_Diversion'}\n",
    "backup_dictionary = {'SanJuan_PortRenfrew': 'RobertsCreek',\n",
    "                    'Theodosia': 'Englishman'}\n",
    "\n",
    "theodosia_from_diversion_only = 1.429 # see TheodosiaWOScotty"
   ]
  },
  {
   "cell_type": "code",
   "execution_count": 7,
   "id": "6a792d25-2220-4c02-aba0-eb1188fb391b",
   "metadata": {},
   "outputs": [],
   "source": [
    "gap_length = 7"
   ]
  },
  {
   "cell_type": "code",
   "execution_count": 8,
   "id": "48fb9eec-47b7-40a4-b9bb-62fa7d6b54fd",
   "metadata": {},
   "outputs": [],
   "source": [
    "def estimate(primary_river, spoint, point, gap_length, ax, fittedbad, fittype, nobad, doplots=True):\n",
    "    goback = 7\n",
    "    bad = False\n",
    "    fitlength = np.array([7, 14, 21, 28])\n",
    "    ratio = np.zeros(len(fitlength))\n",
    "    fitted = np.zeros(len(fitlength))\n",
    "    persist = np.zeros((goback))\n",
    "    linear = np.zeros((goback-1))\n",
    "    cubic = np.zeros((goback-2))\n",
    "    \n",
    "    if len(primary_river.iloc[spoint-8:spoint]) != 8:\n",
    "        print (len(primary_river.iloc[spoint-8:spoint]), primary_river.iloc[spoint])\n",
    "        nobad = nobad + 1\n",
    "        allbad = True\n",
    "    else:\n",
    "        allbad = False\n",
    "        for ii in range(1, 8):\n",
    "            jj = ii + gap_length - 1        \n",
    "            persist[ii-1] = primary_river.iloc[spoint-ii:spoint].mean()\n",
    "            if ii > 1:\n",
    "                b, m = polyfit(range(ii), primary_river.iloc[spoint-ii:spoint].values, 1)\n",
    "                linear[ii-2] = b + m * jj\n",
    "            if ii > 2:\n",
    "                b, m, c = polyfit(range(ii), primary_river.iloc[spoint-ii:spoint].values, 2)\n",
    "                cubic[ii-3] = b + m * jj + c * jj**2\n",
    "\n",
    "        if fittype == 'fit':\n",
    "            useriver = matching_dictionary[river]\n",
    "        elif fittype == 'backup':\n",
    "            useriver = backup_dictionary[river]\n",
    "        firstchoice = read_river(useriver, 'primary')\n",
    "        for jj, length in enumerate(fitlength):\n",
    "            for ii in range(length):\n",
    "                denom = firstchoice[firstchoice.index == primary_river.index[spoint-ii]].values\n",
    "                if len(denom) == 1:\n",
    "                    ratio[jj] = ratio[jj] + (primary_river.iloc[spoint-ii].values /\n",
    "                                firstchoice[firstchoice.index == primary_river.index[spoint-ii]].values)\n",
    "                else:\n",
    "                    bad = True\n",
    "            if not bad:\n",
    "                numer = firstchoice[firstchoice.index == primary_river.index[point]].values\n",
    "                if len(numer) != 1:\n",
    "                    print ('Numer catch')\n",
    "                    bad = True\n",
    "                else:\n",
    "                    fitted[jj] = ratio[jj]/length * firstchoice[firstchoice.index == primary_river.index[point]].values\n",
    "        if bad:\n",
    "            fittedbad = fittedbad + 1\n",
    "        if doplots:\n",
    "            ax.plot(persist)\n",
    "            ax.plot(range(1, 7), linear)\n",
    "            ax.plot(range(2, 7), cubic)\n",
    "            if not bad:\n",
    "                ax.plot(fitted)\n",
    "            ax.plot(primary_river.iloc[spoint-7:spoint].values, 'o')\n",
    "            ax.plot(7, primary_river.iloc[spoint].values, 'x')\n",
    "            ax.plot(7+gap_length, primary_river.iloc[point].values, 's')\n",
    "            ax.grid()\n",
    "    return (persist, linear, cubic, fitted, bad, fittedbad, allbad, nobad)"
   ]
  },
  {
   "cell_type": "code",
   "execution_count": 9,
   "id": "dde6b3e4-bf9b-43b4-b2bb-2031967e09df",
   "metadata": {},
   "outputs": [],
   "source": [
    "def pmhalf(test, value):\n",
    "    bads = np.zeros(len(test), dtype='bool')\n",
    "    for ii, tt in enumerate(test):\n",
    "        if tt/value < 0.5 or tt/value > 2:\n",
    "            bads[ii] = True\n",
    "    return bads"
   ]
  },
  {
   "cell_type": "code",
   "execution_count": 10,
   "id": "6345fd32-a97b-457c-9894-ba6dbdcbd7ab",
   "metadata": {},
   "outputs": [],
   "source": [
    "def inbounds(test, maximum, minimum):\n",
    "    bads = np.zeros(len(test), dtype='bool')\n",
    "    for ii, tt in enumerate(test):\n",
    "        if tt < minimum or tt > maximum:\n",
    "            bads[ii] = True\n",
    "    return bads"
   ]
  },
  {
   "cell_type": "code",
   "execution_count": 11,
   "id": "cf51c048-2760-4cdc-9492-d25f705dcf7c",
   "metadata": {},
   "outputs": [],
   "source": [
    "def docheck(primary_river, point, persist, linear, cubic, fitted, badfit, ax, doplots=True):\n",
    "    maximum = primary_river['Primary River Flow'].max()\n",
    "    minimum = primary_river['Primary River Flow'].min()\n",
    "    value = primary_river.iloc[point].values\n",
    "    goodness_persist = np.abs(persist - value)\n",
    "    goodness_linear = np.abs(linear - value)\n",
    "    goodness_cubic = np.abs(cubic - value)\n",
    "    if not badfit:\n",
    "        goodness_fit = np.abs(fitted - value)\n",
    "        pmfitted = pmhalf(fitted, value)\n",
    "        ibfitted = inbounds(fitted, maximum, minimum)\n",
    "    else:\n",
    "        goodness_fit = np.zeros((4))\n",
    "        pmfitted = np.zeros((4))\n",
    "        ibfitted = np.zeros((4))\n",
    "    if doplots:\n",
    "        ax.plot(goodness_persist, 'o')\n",
    "        ax.plot(goodness_linear, 'o')\n",
    "        ax.plot(goodness_cubic, 'o')\n",
    "        if not badfit:\n",
    "            ax.plot(goodness_fit, 'o')\n",
    "        ax.grid()\n",
    "    return (np.concatenate((goodness_persist, goodness_linear, goodness_cubic, goodness_fit)), \n",
    "            np.concatenate((pmhalf(persist, value), pmhalf(linear, value), pmhalf(cubic, value), pmfitted)),\n",
    "            np.concatenate((inbounds(persist, maximum, minimum), inbounds(linear, maximum, minimum), \n",
    "                            inbounds(cubic, maximum, minimum), ibfitted)))"
   ]
  },
  {
   "cell_type": "code",
   "execution_count": 12,
   "id": "61d5826a-2f81-432d-bc17-43c6704371ba",
   "metadata": {},
   "outputs": [],
   "source": [
    "def doone(primary_river, gap_length, accumulateG, accumulateC, accumulateB, fittedbad, fittype, nobad, doplots=True):\n",
    "\n",
    "    point = random.randrange(len(primary_river.index))\n",
    "    spoint = point - gap_length + 1\n",
    "    \n",
    "    if doplots:\n",
    "        fig, axs = plt.subplots(1, 3, figsize=(15, 4))\n",
    "\n",
    "        primary_river.iloc[point-10:point+1].plot(ax=axs[0], marker='s')\n",
    "    else:\n",
    "        axs = [0, 1, 2]\n",
    "\n",
    "    (persist, linear, cubic, fitted, badfit, fittedbad, allbad, nobad) = estimate(\n",
    "        primary_river, spoint, point, gap_length, axs[1], fittedbad, fittype, nobad, doplots)\n",
    "\n",
    "    if not allbad:\n",
    "        GG, CC, BB = docheck(primary_river, point, persist, linear, cubic, fitted, badfit, axs[2], doplots)\n",
    "        accumulateG += GG\n",
    "        accumulateC += CC\n",
    "        accumulateB += BB\n",
    "    \n",
    "    \n",
    "    return accumulateG, accumulateC, accumulateB, fittedbad, nobad"
   ]
  },
  {
   "cell_type": "code",
   "execution_count": 13,
   "id": "580d9f95-58cc-40bd-9873-2dde8e9475e8",
   "metadata": {},
   "outputs": [
    {
     "name": "stdout",
     "output_type": "stream",
     "text": [
      "7\n"
     ]
    }
   ],
   "source": [
    "print (gap_length)"
   ]
  },
  {
   "cell_type": "code",
   "execution_count": 14,
   "id": "d127b144-4516-458a-aa53-bb7df808db0a",
   "metadata": {},
   "outputs": [
    {
     "name": "stdout",
     "output_type": "stream",
     "text": [
      "Numer catch\n",
      "Numer catch\n",
      "Numer catch\n",
      "Numer catch\n",
      "Numer catch\n",
      "realized 1000\n",
      "[1000. 1000. 1000. 1000. 1000. 1000. 1000. 1000. 1000. 1000. 1000. 1000.\n",
      " 1000. 1000. 1000. 1000. 1000. 1000.  959.  959.  959.  959.] [  96.15620491   96.59772262   97.50547373   97.79987482   98.47354835\n",
      "   98.74404109   99.24010486  265.14229536  229.8019347   209.14500378\n",
      "  196.01559449  182.82430329  175.53814443 1148.5541686   925.51448781\n",
      "  727.10166377  606.63624111  526.97553322   59.03155948   63.28570973\n",
      "   66.81882963   70.56845028] [0.11       0.117      0.111      0.122      0.124      0.121\n",
      " 0.122      0.408      0.399      0.387      0.383      0.361\n",
      " 0.349      0.7        0.669      0.641      0.641      0.614\n",
      " 0.04379562 0.04275287 0.05005214 0.05005214] [0.         0.         0.         0.         0.         0.\n",
      " 0.         0.146      0.124      0.116      0.106      0.098\n",
      " 0.095      0.361      0.335      0.324      0.296      0.295\n",
      " 0.00521376 0.00521376 0.00417101 0.00521376]\n"
     ]
    }
   ],
   "source": [
    "river = 'Homathko_Mouth'\n",
    "primary_river = read_river(river, 'primary')\n",
    "\n",
    "number_trys = 1000\n",
    "fittedbad = 0\n",
    "nobad = 0\n",
    "accumulateG, accumulateC, accumulateB = np.zeros(22), np.zeros(22),  np.zeros(22)\n",
    "\n",
    "for ii in range(number_trys):\n",
    "    accumulateG, accumulateC, accumulateB, fittedbad, nobad = doone(\n",
    "        primary_river, gap_length,accumulateG, accumulateC, accumulateB, fittedbad, 'fit', nobad, doplots=False)\n",
    "    \n",
    "print (\"realized\", number_trys - nobad)\n",
    "\n",
    "number_good = (number_trys - nobad) * np.ones(22)\n",
    "\n",
    "for ii in [18, 19, 20, 21]:\n",
    "    number_good[ii] = number_trys - fittedbad\n",
    "    \n",
    "print (number_good, accumulateG/number_good, accumulateC/number_good, accumulateB/number_good)"
   ]
  },
  {
   "cell_type": "code",
   "execution_count": 15,
   "id": "2409941c-5fed-46c2-88e8-d7e141edb560",
   "metadata": {},
   "outputs": [
    {
     "data": {
      "image/png": "[encoded data removed]",
      "text/plain": [
       "<Figure size 1080x1080 with 3 Axes>"
      ]
     },
     "metadata": {
      "needs_background": "light"
     },
     "output_type": "display_data"
    }
   ],
   "source": [
    "fig, axs = plt.subplots(3, 1, figsize=(15, 15))\n",
    "axs[0].plot(np.abs(accumulateG)/number_good, 'o')\n",
    "axs[1].plot(np.abs(accumulateC)/number_good, 'o')\n",
    "axs[2].plot(np.abs(accumulateB)/number_good, 'o')\n",
    "\n",
    "for ax in axs:\n",
    "    ax.axvspan(-0.5, 6.5, color='tab:orange', alpha=0.2) \n",
    "    ax.axvspan(6.5, 12.5, color='tab:green', alpha=0.2) \n",
    "    ax.axvspan(12.5, 17.5, color='tab:pink', alpha=0.2)\n",
    "    ax.axvspan(17.5, 21.5, color='tab:olive', alpha=0.2)\n",
    "    \n",
    "axs[1].plot([-0.5, 21.5], [0.05, 0.05], c='grey')\n",
    "axs[2].plot([-0.5, 21.5], [0.01, 0.01], c='grey');"
   ]
  },
  {
   "cell_type": "code",
   "execution_count": 16,
   "id": "2841bde2-9e6d-465e-837d-68b408eb9b55",
   "metadata": {},
   "outputs": [
    {
     "name": "stdout",
     "output_type": "stream",
     "text": [
      "7\n"
     ]
    }
   ],
   "source": [
    "print (gap_length)"
   ]
  },
  {
   "cell_type": "code",
   "execution_count": 17,
   "id": "39706881-69f3-4f65-89dc-e0a5b11d1eb9",
   "metadata": {},
   "outputs": [
    {
     "name": "stdout",
     "output_type": "stream",
     "text": [
      "Numer catch\n",
      "Numer catch\n",
      "Numer catch\n",
      "Numer catch\n",
      "Numer catch\n",
      "Numer catch\n",
      "realized 1000\n",
      "[1000. 1000. 1000. 1000. 1000. 1000. 1000. 1000. 1000. 1000. 1000. 1000.\n",
      " 1000. 1000. 1000. 1000. 1000. 1000.  876.  876.  876.  876.] [  99.3154229    96.36927923   94.09737237   92.54909751   91.77895729\n",
      "   91.09110864   90.64868322  334.1693086   284.90856255  252.06393517\n",
      "  232.50179607  210.69564989  193.93746744 1656.275457   1125.35423941\n",
      "  901.86162905  769.36891675  680.80562522   54.74080374   54.89071554\n",
      "   57.50301223   61.47291952] [0.201      0.205      0.202      0.194      0.202      0.196\n",
      " 0.201      0.607      0.604      0.569      0.579      0.543\n",
      " 0.51       0.85       0.805      0.797      0.771      0.778\n",
      " 0.06506849 0.05593607 0.04794521 0.05251142] [0.    0.    0.    0.    0.    0.    0.    0.249 0.22  0.191 0.18  0.17\n",
      " 0.159 0.444 0.396 0.383 0.362 0.368 0.    0.    0.    0.   ]\n"
     ]
    }
   ],
   "source": [
    "river = 'Squamish_Brackendale'\n",
    "primary_river = read_river(river, 'primary')\n",
    "\n",
    "number_trys = 1000\n",
    "fittedbad = 0\n",
    "nobad = 0\n",
    "accumulateG, accumulateC, accumulateB = np.zeros(22), np.zeros(22),  np.zeros(22)\n",
    "\n",
    "for ii in range(number_trys):\n",
    "    accumulateG, accumulateC, accumulateB, fittedbad, nobad = doone(\n",
    "        primary_river, gap_length,accumulateG, accumulateC, accumulateB, fittedbad, 'fit', nobad, doplots=False)\n",
    "    \n",
    "print (\"realized\", number_trys - nobad)\n",
    "\n",
    "number_good = (number_trys - nobad) * np.ones(22)\n",
    "\n",
    "for ii in [18, 19, 20, 21]:\n",
    "    number_good[ii] = number_trys - fittedbad\n",
    "    \n",
    "print (number_good, accumulateG/number_good, accumulateC/number_good, accumulateB/number_good)"
   ]
  },
  {
   "cell_type": "code",
   "execution_count": 18,
   "id": "dfb5be4f-3438-49ec-8a06-c58f13d58997",
   "metadata": {},
   "outputs": [
    {
     "data": {
      "image/png": "[encoded data removed]",
      "text/plain": [
       "<Figure size 1080x1080 with 3 Axes>"
      ]
     },
     "metadata": {
      "needs_background": "light"
     },
     "output_type": "display_data"
    }
   ],
   "source": [
    "fig, axs = plt.subplots(3, 1, figsize=(15, 15))\n",
    "axs[0].plot(np.abs(accumulateG)/number_good, 'o')\n",
    "axs[1].plot(np.abs(accumulateC)/number_good, 'o')\n",
    "axs[2].plot(np.abs(accumulateB)/number_good, 'o')\n",
    "\n",
    "for ax in axs:\n",
    "    ax.axvspan(-0.5, 6.5, color='tab:orange', alpha=0.2) \n",
    "    ax.axvspan(6.5, 12.5, color='tab:green', alpha=0.2) \n",
    "    ax.axvspan(12.5, 17.5, color='tab:pink', alpha=0.2)\n",
    "    ax.axvspan(17.5, 21.5, color='tab:olive', alpha=0.2)\n",
    "    \n",
    "axs[1].plot([-0.5, 21.5], [0.05, 0.05], c='grey')\n",
    "axs[2].plot([-0.5, 21.5], [0.01, 0.01], c='grey');"
   ]
  },
  {
   "cell_type": "code",
   "execution_count": 19,
   "id": "df7a1cb2-476c-4291-b0f3-dcac7471d59d",
   "metadata": {},
   "outputs": [
    {
     "name": "stderr",
     "output_type": "stream",
     "text": [
      "/ocean/sallen/miniconda3/envs/py39/lib/python3.9/site-packages/pandas/util/_decorators.py:311: ParserWarning: Length of header or names does not match length of data. This leads to a loss of data with index_col=False.\n",
      "  return func(*args, **kwargs)\n"
     ]
    },
    {
     "name": "stdout",
     "output_type": "stream",
     "text": [
      "realized 1000\n",
      "[1000. 1000. 1000. 1000. 1000. 1000. 1000. 1000. 1000. 1000. 1000. 1000.\n",
      " 1000. 1000. 1000. 1000. 1000. 1000.  999.  999.  999.  999.] [ 139.40006917  140.37596433  140.62955554  141.00126411  139.98257449\n",
      "  138.32072282  136.53687634  403.06904392  366.61715547  324.84692934\n",
      "  303.38227188  290.47591178  276.45797922 1802.74041122 1401.38487713\n",
      " 1109.05744461  954.7454489   808.52706447   74.63609813   73.64236189\n",
      "   73.81442469   76.22209271] [0.181      0.181      0.181      0.177      0.183      0.193\n",
      " 0.193      0.546      0.531      0.501      0.478      0.46\n",
      " 0.455      0.738      0.702      0.668      0.659      0.656\n",
      " 0.04504505 0.04504505 0.04504505 0.04304304] [0.       0.       0.       0.       0.       0.       0.       0.206\n",
      " 0.172    0.145    0.151    0.146    0.128    0.37     0.327    0.297\n",
      " 0.301    0.295    0.001001 0.001001 0.001001 0.      ]\n"
     ]
    }
   ],
   "source": [
    "river = 'Snohomish_Monroe'\n",
    "\n",
    "primary_river = read_river(river, 'primary')\n",
    "\n",
    "number_trys = 1000\n",
    "fittedbad = 0\n",
    "nobad = 0\n",
    "accumulateG, accumulateC, accumulateB = np.zeros(22), np.zeros(22),  np.zeros(22)\n",
    "\n",
    "for ii in range(number_trys):\n",
    "    accumulateG, accumulateC, accumulateB, fittedbad, nobad = doone(\n",
    "        primary_river, gap_length,accumulateG, accumulateC, accumulateB, fittedbad, 'fit', nobad, doplots=False)\n",
    "    \n",
    "print (\"realized\", number_trys - nobad)\n",
    "\n",
    "number_good = (number_trys - nobad) * np.ones(22)\n",
    "\n",
    "for ii in [18, 19, 20, 21]:\n",
    "    number_good[ii] = number_trys - fittedbad\n",
    "    \n",
    "print (number_good, accumulateG/number_good, accumulateC/number_good, accumulateB/number_good)"
   ]
  },
  {
   "cell_type": "code",
   "execution_count": 20,
   "id": "b606764d-2657-4d34-aaba-c7dc5df3fedd",
   "metadata": {},
   "outputs": [
    {
     "data": {
      "image/png": "[encoded data removed]",
      "text/plain": [
       "<Figure size 1080x1080 with 3 Axes>"
      ]
     },
     "metadata": {
      "needs_background": "light"
     },
     "output_type": "display_data"
    }
   ],
   "source": [
    "fig, axs = plt.subplots(3, 1, figsize=(15, 15))\n",
    "axs[0].plot(np.abs(accumulateG)/number_good, 'o')\n",
    "axs[1].plot(np.abs(accumulateC)/number_good, 'o')\n",
    "axs[2].plot(np.abs(accumulateB)/number_good, 'o')\n",
    "\n",
    "for ax in axs:\n",
    "    ax.axvspan(-0.5, 6.5, color='tab:orange', alpha=0.2) \n",
    "    ax.axvspan(6.5, 12.5, color='tab:green', alpha=0.2) \n",
    "    ax.axvspan(12.5, 17.5, color='tab:pink', alpha=0.2)\n",
    "    ax.axvspan(17.5, 21.5, color='tab:olive', alpha=0.2)\n",
    "    \n",
    "axs[1].plot([-0.5, 21.5], [0.05, 0.05], c='grey')\n",
    "axs[2].plot([-0.5, 21.5], [0.01, 0.01], c='grey');"
   ]
  },
  {
   "cell_type": "code",
   "execution_count": 21,
   "id": "c493368b-1d5c-4dee-b02b-b195a8c81059",
   "metadata": {},
   "outputs": [
    {
     "name": "stderr",
     "output_type": "stream",
     "text": [
      "/ocean/sallen/miniconda3/envs/py39/lib/python3.9/site-packages/pandas/util/_decorators.py:311: ParserWarning: Length of header or names does not match length of data. This leads to a loss of data with index_col=False.\n",
      "  return func(*args, **kwargs)\n"
     ]
    },
    {
     "name": "stdout",
     "output_type": "stream",
     "text": [
      "0 Primary River Flow    356.7917\n",
      "Name: 1970-01-07 00:00:00, dtype: float64\n",
      "realized 999\n",
      "[999. 999. 999. 999. 999. 999. 999. 999. 999. 999. 999. 999. 999. 999.\n",
      " 999. 999. 999. 999. 999. 999. 999. 999.] [ 143.00266957  140.11203263  140.24610407  141.99096199  142.77165968\n",
      "  143.41088947  143.82662541  445.04455205  370.66399236  331.28705216\n",
      "  304.61104329  285.48438999  270.35704589 2189.12577648 1562.65888116\n",
      " 1245.52001126 1024.87571624  858.90184863  138.90700006  141.31801168\n",
      "  144.14362875  150.39489055] [0.06706707 0.07007007 0.06506507 0.06406406 0.06006006 0.06106106\n",
      " 0.06306306 0.43443443 0.37837838 0.33433433 0.30530531 0.27627628\n",
      " 0.25925926 0.80780781 0.74874875 0.67167167 0.66866867 0.61961962\n",
      " 0.04204204 0.04004004 0.04104104 0.04704705] [0.         0.         0.         0.         0.         0.\n",
      " 0.         0.1991992  0.15015015 0.10810811 0.1021021  0.08708709\n",
      " 0.07607608 0.47047047 0.43143143 0.37137137 0.34434434 0.30930931\n",
      " 0.002002   0.         0.         0.001001  ]\n"
     ]
    }
   ],
   "source": [
    "river = 'Skagit_MountVernon'\n",
    "\n",
    "primary_river = read_river(river, 'primary')\n",
    "\n",
    "number_trys = 1000\n",
    "fittedbad = 0\n",
    "nobad = 0\n",
    "accumulateG, accumulateC, accumulateB = np.zeros(22), np.zeros(22),  np.zeros(22)\n",
    "\n",
    "for ii in range(number_trys):\n",
    "    accumulateG, accumulateC, accumulateB, fittedbad, nobad = doone(\n",
    "        primary_river, gap_length,accumulateG, accumulateC, accumulateB, fittedbad, 'fit', nobad, doplots=False)\n",
    "    \n",
    "print (\"realized\", number_trys - nobad)\n",
    "\n",
    "number_good = (number_trys - nobad) * np.ones(22)\n",
    "\n",
    "for ii in [18, 19, 20, 21]:\n",
    "    number_good[ii] = number_trys - fittedbad\n",
    "    \n",
    "print (number_good, accumulateG/number_good, accumulateC/number_good, accumulateB/number_good)"
   ]
  },
  {
   "cell_type": "code",
   "execution_count": 22,
   "id": "4e696430-3bfb-45a5-ae75-9430e9ca8552",
   "metadata": {},
   "outputs": [
    {
     "data": {
      "image/png": "[encoded data removed]",
      "text/plain": [
       "<Figure size 1080x1080 with 3 Axes>"
      ]
     },
     "metadata": {
      "needs_background": "light"
     },
     "output_type": "display_data"
    }
   ],
   "source": [
    "fig, axs = plt.subplots(3, 1, figsize=(15, 15))\n",
    "axs[0].plot(np.abs(accumulateG)/number_good, 'o')\n",
    "axs[1].plot(np.abs(accumulateC)/number_good, 'o')\n",
    "axs[2].plot(np.abs(accumulateB)/number_good, 'o')\n",
    "\n",
    "for ax in axs:\n",
    "    ax.axvspan(-0.5, 6.5, color='tab:orange', alpha=0.2) \n",
    "    ax.axvspan(6.5, 12.5, color='tab:green', alpha=0.2) \n",
    "    ax.axvspan(12.5, 17.5, color='tab:pink', alpha=0.2)\n",
    "    ax.axvspan(17.5, 21.5, color='tab:olive', alpha=0.2)\n",
    "    \n",
    "axs[1].plot([-0.5, 21.5], [0.05, 0.05], c='grey')\n",
    "axs[2].plot([-0.5, 21.5], [0.01, 0.01], c='grey');"
   ]
  },
  {
   "cell_type": "code",
   "execution_count": 23,
   "id": "076b73e3-6b34-4dc2-ad59-48353170f060",
   "metadata": {},
   "outputs": [
    {
     "name": "stderr",
     "output_type": "stream",
     "text": [
      "/ocean/sallen/miniconda3/envs/py39/lib/python3.9/site-packages/pandas/util/_decorators.py:311: ParserWarning: Length of header or names does not match length of data. This leads to a loss of data with index_col=False.\n",
      "  return func(*args, **kwargs)\n"
     ]
    },
    {
     "name": "stdout",
     "output_type": "stream",
     "text": [
      "realized 1000\n",
      "[1000. 1000. 1000. 1000. 1000. 1000. 1000. 1000. 1000. 1000. 1000. 1000.\n",
      " 1000. 1000. 1000. 1000. 1000. 1000.  997.  997.  997.  997.] [ 2.46367486  2.51813521  2.5697827   2.61156648  2.6170659   2.61064952\n",
      "  2.59834925  6.41397264  5.62434604  5.52980348  4.87335593  4.62579515\n",
      "  4.57436443 32.4968091  22.89367737 19.13294604 16.78242567 14.28122502\n",
      "  1.4601788   1.51017652  1.59199346  1.68334394] [0.101      0.117      0.116      0.122      0.127      0.133\n",
      " 0.135      0.314      0.294      0.303      0.295      0.293\n",
      " 0.286      0.576      0.519      0.493      0.474      0.455\n",
      " 0.06118355 0.0661986  0.07321966 0.08324975] [0.         0.         0.         0.         0.         0.\n",
      " 0.         0.101      0.09       0.083      0.078      0.07\n",
      " 0.07       0.279      0.245      0.209      0.202      0.191\n",
      " 0.00902708 0.00902708 0.00702106 0.00601805]\n"
     ]
    }
   ],
   "source": [
    "river = 'Greenwater_Greenwater'\n",
    "\n",
    "primary_river = read_river(river, 'primary')\n",
    "\n",
    "number_trys = 1000\n",
    "fittedbad = 0\n",
    "nobad = 0\n",
    "accumulateG, accumulateC, accumulateB = np.zeros(22), np.zeros(22),  np.zeros(22)\n",
    "\n",
    "for ii in range(number_trys):\n",
    "    accumulateG, accumulateC, accumulateB, fittedbad, nobad = doone(\n",
    "        primary_river, gap_length,accumulateG, accumulateC, accumulateB, fittedbad, 'fit', nobad, doplots=False)\n",
    "    \n",
    "print (\"realized\", number_trys - nobad)\n",
    "\n",
    "number_good = (number_trys - nobad) * np.ones(22)\n",
    "\n",
    "for ii in [18, 19, 20, 21]:\n",
    "    number_good[ii] = number_trys - fittedbad\n",
    "    \n",
    "print (number_good, accumulateG/number_good, accumulateC/number_good, accumulateB/number_good)"
   ]
  },
  {
   "cell_type": "code",
   "execution_count": 24,
   "id": "6a2ce98b-ce35-43d6-a933-e9788f1464cc",
   "metadata": {},
   "outputs": [
    {
     "data": {
      "image/png": "[encoded data removed]",
      "text/plain": [
       "<Figure size 1080x1080 with 3 Axes>"
      ]
     },
     "metadata": {
      "needs_background": "light"
     },
     "output_type": "display_data"
    }
   ],
   "source": [
    "fig, axs = plt.subplots(3, 1, figsize=(15, 15))\n",
    "axs[0].plot(np.abs(accumulateG)/number_good, 'o')\n",
    "axs[1].plot(np.abs(accumulateC)/number_good, 'o')\n",
    "axs[2].plot(np.abs(accumulateB)/number_good, 'o')\n",
    "\n",
    "for ax in axs:\n",
    "    ax.axvspan(-0.5, 6.5, color='tab:orange', alpha=0.2) \n",
    "    ax.axvspan(6.5, 12.5, color='tab:green', alpha=0.2) \n",
    "    ax.axvspan(12.5, 17.5, color='tab:pink', alpha=0.2)\n",
    "    ax.axvspan(17.5, 21.5, color='tab:olive', alpha=0.2)\n",
    "    \n",
    "axs[1].plot([-0.5, 21.5], [0.05, 0.05], c='grey')\n",
    "axs[2].plot([-0.5, 21.5], [0.01, 0.01], c='grey');"
   ]
  },
  {
   "cell_type": "code",
   "execution_count": null,
   "id": "a75c10e0-c528-409f-a459-0adc86a0db3d",
   "metadata": {},
   "outputs": [],
   "source": []
  }
 ],
 "metadata": {
  "kernelspec": {
   "display_name": "py39",
   "language": "python",
   "name": "py39"
  },
  "language_info": {
   "codemirror_mode": {
    "name": "ipython",
    "version": 3
   },
   "file_extension": ".py",
   "mimetype": "text/x-python",
   "name": "python",
   "nbconvert_exporter": "python",
   "pygments_lexer": "ipython3",
   "version": "3.9.2"
  }
 },
 "nbformat": 4,
 "nbformat_minor": 5
}
