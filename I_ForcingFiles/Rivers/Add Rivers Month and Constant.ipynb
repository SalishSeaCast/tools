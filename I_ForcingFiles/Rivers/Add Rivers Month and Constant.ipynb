{
 "cells": [
  {
   "cell_type": "code",
   "execution_count": 37,
   "metadata": {
    "collapsed": false
   },
   "outputs": [],
   "source": [
    "from salishsea_tools import rivertools\n",
    "import netCDF4 as NC\n",
    "import numpy as np\n",
    "import matplotlib.pyplot as plt\n",
    "%matplotlib inline"
   ]
  },
  {
   "cell_type": "code",
   "execution_count": 86,
   "metadata": {
    "collapsed": false
   },
   "outputs": [
    {
     "data": {
      "text/plain": [
       "<module 'salishsea_tools.rivertools' from '/Users/sallen/Documents/MeoPar/Tools/SalishSeaTools/salishsea_tools/rivertools.py'>"
      ]
     },
     "execution_count": 86,
     "metadata": {},
     "output_type": "execute_result"
    }
   ],
   "source": [
    "reload(rivertools)"
   ]
  },
  {
   "cell_type": "code",
   "execution_count": 115,
   "metadata": {
    "collapsed": false
   },
   "outputs": [],
   "source": [
    "#what type of file would you like to create?\n",
    "#e.g. 'constant' - yearly average used for all months\n",
    "#     'monthly' - monthly averages used for each month\n",
    "rivertype = 'monthly'"
   ]
  },
  {
   "cell_type": "code",
   "execution_count": 40,
   "metadata": {
    "collapsed": true
   },
   "outputs": [],
   "source": [
    "# set bathymetry\n",
    "bathy = '../../../nemo-forcing/grid/bathy_meter_SalishSea2.nc'\n",
    "# set initialized depth (everywhere its this except where set in prop_dict files)\n",
    "init_depth = 3.\n",
    "# set initialized temperature (everywhere its this temperature except where reset)\n",
    "# for monthly, any value other than -99 will call the rivertemp(month) to set the temperatures\n",
    "init_temp = 9."
   ]
  },
  {
   "cell_type": "code",
   "execution_count": 116,
   "metadata": {
    "collapsed": false
   },
   "outputs": [],
   "source": [
    "#get river fluxes from netcdf file\n",
    "if rivertype == 'constant':\n",
    "    fluxfile = NC.Dataset('../../../nemo-forcing/rivers/Salish_allrivers_cnst.nc','r')\n",
    "    #inialise the runoff and run_depth arrays\n",
    "    runoff, run_depth, run_temp = rivertools.init_runoff_array(bathy=bathy, init_depth=init_depth,\n",
    "                                                              init_temp=init_temp)\n",
    "if rivertype == 'monthly':\n",
    "    fluxfile = NC.Dataset('../../../nemo-forcing/rivers/Salish_allrivers_monthly.nc','r')\n",
    "    #inialise the runoff and run_depth arrays\n",
    "    runoff, run_depth, run_temp = rivertools.init_runoff_array_monthly(bathy=bathy, \n",
    "                                                                       init_depth=init_depth,\n",
    "                                                                       init_temp=init_temp)"
   ]
  },
  {
   "cell_type": "code",
   "execution_count": 108,
   "metadata": {
    "collapsed": false
   },
   "outputs": [
    {
     "name": "stdout",
     "output_type": "stream",
     "text": [
      "(3.0, 9.0)\n"
     ]
    }
   ],
   "source": [
    "print (run_depth.max(), run_temp.max())"
   ]
  },
  {
   "cell_type": "code",
   "execution_count": 117,
   "metadata": {
    "collapsed": false
   },
   "outputs": [
    {
     "name": "stdout",
     "output_type": "stream",
     "text": [
      "[ 937.34918213]\n",
      "[ 1144.85083008  1003.11553955   875.92791748   924.40124512  1203.48510742\n",
      "  1268.2265625    939.33544922   500.00836182   440.50671387   655.85516357\n",
      "  1149.6385498   1150.28015137]\n"
     ]
    }
   ],
   "source": [
    "fluxfile1 = NC.Dataset('../../../nemo-forcing/rivers/Salish_allrivers_cnst.nc','r')\n",
    "fluxfile2 = NC.Dataset('../../../nemo-forcing/rivers/Salish_allrivers_monthly.nc','r')\n",
    "print fluxfile1.variables['skagit'][:]\n",
    "print fluxfile2.variables['skagit'][:]"
   ]
  },
  {
   "cell_type": "code",
   "execution_count": 118,
   "metadata": {
    "collapsed": false
   },
   "outputs": [],
   "source": [
    "#list of watersheds we are including\n",
    "names = ['skagit','fraser','evi_n','howe','bute','puget','jdf','evi_s','jervis','toba']"
   ]
  },
  {
   "cell_type": "code",
   "execution_count": 111,
   "metadata": {
    "collapsed": false
   },
   "outputs": [
    {
     "name": "stdout",
     "output_type": "stream",
     "text": [
      "(908.05509995059549, 937.3491821289062)\n",
      "(3566.18306971435, 3549.736083984375)\n",
      "(255.63157143712797, 638.462158203125)\n",
      "(588.99650864276578, 572.8439331054688)\n",
      "(609.26456547060798, 550.5059204101562)\n",
      "(480.71352669585201, 502.76959228515625)\n",
      "(399.59934187151299, 409.8137512207031)\n",
      "(330.71661134751884, 329.566162109375)\n",
      "(307.43678262212228, 296.90533447265625)\n",
      "(285.36386496863395, 270.2106018066406)\n"
     ]
    }
   ],
   "source": [
    "for name in range(0,len(names)):\n",
    "    watershedname = names[name]\n",
    "    Flux = fluxfile.variables[watershedname][:]\n",
    "    if rivertype == 'constant':\n",
    "        Flux = float(Flux)\n",
    "    runoff_orig = np.copy(runoff)\n",
    "    runoff, run_depth, run_temp = rivertools.put_watershed_into_runoff(rivertype,\n",
    "                                            watershedname, Flux, runoff, run_depth, run_temp)\n",
    "    if rivertype == 'constant':\n",
    "        rivertools.check_sum(runoff_orig, runoff, Flux)\n",
    "    if rivertype == 'monthly':\n",
    "        rivertools.check_sum_monthly(runoff_orig, runoff, Flux)"
   ]
  },
  {
   "cell_type": "code",
   "execution_count": 119,
   "metadata": {
    "collapsed": false
   },
   "outputs": [
    {
     "name": "stdout",
     "output_type": "stream",
     "text": [
      "(3.0, 18.796279844530815)\n",
      "8.97165904\n"
     ]
    },
    {
     "data": {
      "image/png": "[encoded data removed]",
      "text/plain": [
       "<matplotlib.figure.Figure at 0x108aedf50>"
      ]
     },
     "metadata": {},
     "output_type": "display_data"
    }
   ],
   "source": [
    "print (run_depth.max(), run_temp.max())\n",
    "plt.plot(run_temp[:,351,345])\n",
    "print (np.mean(run_temp[:,351,345]))"
   ]
  },
  {
   "cell_type": "code",
   "execution_count": 113,
   "metadata": {
    "collapsed": false
   },
   "outputs": [],
   "source": [
    "#get dimensions for netcdf files\n",
    "import netCDF4 as NC\n",
    "fB = NC.Dataset('../../../nemo-forcing/grid/bathy_meter_SalishSea2.nc','r')\n",
    "lat = fB.variables['nav_lat']\n",
    "lon = fB.variables['nav_lon']\n",
    "D = fB.variables['Bathymetry'][:]\n",
    "ymax, xmax = D.shape"
   ]
  },
  {
   "cell_type": "code",
   "execution_count": 114,
   "metadata": {
    "collapsed": false
   },
   "outputs": [],
   "source": [
    "if rivertype == 'constant':\n",
    "\n",
    "    nemo = NC.Dataset('../../../NEMO-forcing/rivers/rivers_cnst.nc', 'w')\n",
    "    nemo.description = 'Constant Yearly Average, All Rivers' \n",
    "    \n",
    "    # dimensions\n",
    "    nemo.createDimension('x', xmax)\n",
    "    nemo.createDimension('y', ymax)\n",
    "    nemo.createDimension('time_counter', None)\n",
    "    \n",
    "    # variables\n",
    "    # latitude and longitude\n",
    "    nav_lat = nemo.createVariable('nav_lat','float32',('y','x'),zlib=True)\n",
    "    nav_lat = lat\n",
    "    x = nemo.createVariable('nav_lon','float32',('y','x'),zlib=True)\n",
    "    nav_lon = lon\n",
    "    # time\n",
    "    time_counter = nemo.createVariable('time_counter', 'float32', ('time_counter'),zlib=True)\n",
    "    time_counter.units = 'non-dim'\n",
    "    time_counter[0] = 1\n",
    "    # runoff\n",
    "    rorunoff = nemo.createVariable('rorunoff', 'float32', ('time_counter','y','x'), zlib=True)\n",
    "    rorunoff._Fillvalue = 0.\n",
    "    rorunoff._missing_value = 0.\n",
    "    rorunoff._units = 'kg m-2 s-1'\n",
    "    rorunoff[0,:] = runoff\n",
    "    # depth\n",
    "    rodepth = nemo.createVariable('rodepth','float32',('y','x'),zlib=True)\n",
    "    rodepth._Fillvalue = -1.\n",
    "    rodepth.missing_value = -1.\n",
    "    rodepth.units = 'm'\n",
    "    rodepth[:] = run_depth\n",
    "    nemo.close()"
   ]
  },
  {
   "cell_type": "code",
   "execution_count": 94,
   "metadata": {
    "collapsed": false
   },
   "outputs": [
    {
     "name": "stdout",
     "output_type": "stream",
     "text": [
      "(12, 898, 398)\n",
      "(12, 898, 398)\n"
     ]
    }
   ],
   "source": [
    "print runoff.shape\n",
    "print run_temp.shape"
   ]
  },
  {
   "cell_type": "code",
   "execution_count": 96,
   "metadata": {
    "collapsed": false
   },
   "outputs": [],
   "source": [
    "if rivertype == 'monthly':\n",
    "    nemo = NC.Dataset('../../../NEMO-forcing/rivers/rivers_month.nc', 'w')\n",
    "    nemo.description = 'Monthly Averages, All Rivers' \n",
    "    \n",
    "    # dimensions\n",
    "    nemo.createDimension('x', xmax)\n",
    "    nemo.createDimension('y', ymax)\n",
    "    nemo.createDimension('time_counter', None)\n",
    "    \n",
    "    # variables\n",
    "    # latitude and longitude\n",
    "    nav_lat = nemo.createVariable('nav_lat','float32',('y','x'),zlib=True)\n",
    "    nav_lat = lat\n",
    "    x = nemo.createVariable('nav_lon','float32',('y','x'),zlib=True)\n",
    "    nav_lon = lon\n",
    "    # time\n",
    "    time_counter = nemo.createVariable('time_counter', 'float32', ('time_counter'),zlib=True)\n",
    "    time_counter.units = 'non-dim'\n",
    "    time_counter[0:12] = range(1,13)\n",
    "    # runoff\n",
    "    rorunoff = nemo.createVariable('rorunoff', 'float32', ('time_counter','y','x'), zlib=True)\n",
    "    rorunoff._Fillvalue = 0.\n",
    "    rorunoff._missing_value = 0.\n",
    "    rorunoff._units = 'kg m-2 s-1'\n",
    "    rorunoff[0:12,:] = runoff\n",
    "    # depth\n",
    "    rodepth = nemo.createVariable('rodepth','float32',('y','x'),zlib=True)\n",
    "    rodepth._Fillvalue = -1.\n",
    "    rodepth.missing_value = -1.\n",
    "    rodepth.units = 'm'\n",
    "    rodepth[:] = run_depth[0,:,:]\n",
    "    # temperature\n",
    "    rotemper = nemo.createVariable('rotemper','float32',('time_counter','y','x'),zlib=True)\n",
    "    rotemper._Fillvalue = -99.\n",
    "    rotemper.missing_value = -99.\n",
    "    rotemper.units = 'deg C'\n",
    "    rotemper[0:12,:] = run_temp\n",
    "    nemo.close()"
   ]
  },
  {
   "cell_type": "code",
   "execution_count": 104,
   "metadata": {
    "collapsed": false
   },
   "outputs": [
    {
     "data": {
      "image/png": "[encoded data removed]",
      "text/plain": [
       "<matplotlib.figure.Figure at 0x107a72490>"
      ]
     },
     "metadata": {},
     "output_type": "display_data"
    }
   ],
   "source": [
    "%matplotlib inline\n",
    "\n",
    "test = NC.Dataset('../../../NEMO-forcing/rivers/rivers_month.nc','r')\n",
    "plotting = test.variables['rorunoff'][0,:,:]\n",
    "\n",
    "plt.figure(figsize=(9,9))\n",
    "plt.contourf(lon[:], lat[:], D, np.arange(0,420,30), cmap='cool')\n",
    "for i in range(0,898):\n",
    "    for j in range(0,398):\n",
    "        if plotting[i,j] > 0:\n",
    "            plt.plot(lon[i,j],lat[i,j],'m*')\n",
    "plt.colorbar()\n",
    "plt.ylabel('Latitude')\n",
    "plt.xlabel('Longitude')\n",
    "plt.title('Location of rivers included, with depth contours [m]')\n",
    "plt.savefig('river_locations.pdf')\n"
   ]
  },
  {
   "cell_type": "code",
   "execution_count": null,
   "metadata": {
    "collapsed": false
   },
   "outputs": [],
   "source": [
    "temp = test.variables['rotemper'][:]\n",
    "print temp.shape\n",
    "plt.plot(temp[:,351,345])"
   ]
  },
  {
   "cell_type": "code",
   "execution_count": 97,
   "metadata": {
    "collapsed": false
   },
   "outputs": [],
   "source": [
    "depths = D[runoff[0] > 0.]\n",
    "ii, jj = np.where(runoff[0] > 0.)"
   ]
  },
  {
   "cell_type": "code",
   "execution_count": 98,
   "metadata": {
    "collapsed": false
   },
   "outputs": [
    {
     "name": "stdout",
     "output_type": "stream",
     "text": [
      "[] []\n"
     ]
    }
   ],
   "source": [
    "print ii[depths.mask], jj[depths.mask]\n",
    "ip = ii[depths.mask]; jp = jj[depths.mask]"
   ]
  },
  {
   "cell_type": "code",
   "execution_count": 103,
   "metadata": {
    "collapsed": false
   },
   "outputs": [
    {
     "data": {
      "text/plain": [
       "[<matplotlib.lines.Line2D at 0x152086510>]"
      ]
     },
     "execution_count": 103,
     "metadata": {},
     "output_type": "execute_result"
    },
    {
     "data": {
      "image/png": "[encoded data removed]",
      "text/plain": [
       "<matplotlib.figure.Figure at 0x108438a50>"
      ]
     },
     "metadata": {},
     "output_type": "display_data"
    }
   ],
   "source": [
    "fig, ax = plt.subplots(1,1,figsize=(5,5))\n",
    "ax.pcolormesh(D)\n",
    "#ax.plot(jp[3], ip[3],'mo')\n",
    "ax.set_xlim((100, 150))\n",
    "ax.set_ylim((675, 725))\n",
    "ax.plot(122+0.5, 705+0.5,'r*')"
   ]
  },
  {
   "cell_type": "code",
   "execution_count": 100,
   "metadata": {
    "collapsed": false
   },
   "outputs": [
    {
     "data": {
      "text/plain": [
       "[<matplotlib.lines.Line2D at 0x106d685d0>]"
      ]
     },
     "execution_count": 100,
     "metadata": {},
     "output_type": "execute_result"
    },
    {
     "data": {
      "image/png": "[encoded data removed]",
      "text/plain": [
       "<matplotlib.figure.Figure at 0x108438410>"
      ]
     },
     "metadata": {},
     "output_type": "display_data"
    }
   ],
   "source": [
    "fig, ax = plt.subplots(1,1,figsize=(5,5))\n",
    "ax.pcolormesh(D)\n",
    "ax.plot(jp[:3], ip[:3],'mo')\n",
    "ax.set_xlim((300, 320))\n",
    "ax.set_ylim((635, 655))\n",
    "ax.plot(307+0.5, 651+0.5,'r*')\n",
    "ax.plot(309+0.5, 650+0.5,'r*')\n",
    "ax.plot(310+0.5, 649+0.5,'r*')"
   ]
  },
  {
   "cell_type": "code",
   "execution_count": null,
   "metadata": {
    "collapsed": true
   },
   "outputs": [],
   "source": []
  }
 ],
 "metadata": {
  "kernelspec": {
   "display_name": "Python 2",
   "language": "python",
   "name": "python2"
  },
  "language_info": {
   "codemirror_mode": {
    "name": "ipython",
    "version": 2
   },
   "file_extension": ".py",
   "mimetype": "text/x-python",
   "name": "python",
   "nbconvert_exporter": "python",
   "pygments_lexer": "ipython2",
   "version": "2.7.10"
  }
 },
 "nbformat": 4,
 "nbformat_minor": 0
}
