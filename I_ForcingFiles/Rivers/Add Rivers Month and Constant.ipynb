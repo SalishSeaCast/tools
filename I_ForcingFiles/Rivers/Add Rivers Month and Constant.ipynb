{
 "cells": [
  {
   "cell_type": "code",
   "execution_count": 4,
   "metadata": {
    "collapsed": false
   },
   "outputs": [],
   "source": [
    "from salishsea_tools import rivertools, gsw_calls\n",
    "import netCDF4 as NC\n",
    "import numpy as np\n",
    "import matplotlib.pyplot as plt\n",
    "%matplotlib inline\n",
    "\n"
   ]
  },
  {
   "cell_type": "code",
   "execution_count": 2,
   "metadata": {
    "collapsed": false
   },
   "outputs": [
    {
     "data": {
      "text/plain": [
       "<module 'salishsea_tools.gsw_calls' from '/ocean/sallen/allen/research/Meopar/Tools/SalishSeaTools/salishsea_tools/gsw_calls.py'>"
      ]
     },
     "execution_count": 2,
     "metadata": {},
     "output_type": "execute_result"
    }
   ],
   "source": [
    "import importlib\n",
    "importlib.reload(gsw_calls)"
   ]
  },
  {
   "cell_type": "code",
   "execution_count": 5,
   "metadata": {
    "collapsed": false
   },
   "outputs": [],
   "source": [
    "#what type of file would you like to create?\n",
    "#e.g. 'constant' - yearly average used for all months\n",
    "#     'monthly' - monthly averages used for each month\n",
    "rivertype = 'monthly'\n",
    "# what type of river, Long or Short?\n",
    "length = 'long'\n",
    "#bathymetry\n",
    "if length == 'long':\n",
    "    bathyname = 'bathy_downonegrid2.nc'\n",
    "else:\n",
    "    bathyname = 'bathy_meter_SalishSea2.nc'"
   ]
  },
  {
   "cell_type": "code",
   "execution_count": 6,
   "metadata": {
    "collapsed": false
   },
   "outputs": [],
   "source": [
    "# set bathymetry\n",
    "bathy = '../../../nemo-forcing/grid/' + bathyname\n",
    "# set initialized depth (everywhere its this except where set in prop_dict files)\n",
    "init_depth = 3.\n",
    "# set initialized temperature (everywhere its this temperature except where reset)\n",
    "# for monthly, any value other than -99 will call the rivertemp(month) to set the temperatures\n",
    "init_temp = 9."
   ]
  },
  {
   "cell_type": "code",
   "execution_count": 7,
   "metadata": {
    "collapsed": false
   },
   "outputs": [],
   "source": [
    "#get river fluxes from netcdf file\n",
    "if rivertype == 'constant':\n",
    "    fluxfile = NC.Dataset('../../../nemo-forcing/rivers/Salish_allrivers_cnst.nc','r')\n",
    "    #inialise the runoff and run_depth arrays\n",
    "    runoff, run_depth, run_temp = rivertools.init_runoff_array(bathy=bathy, init_depth=init_depth,\n",
    "                                                              init_temp=init_temp)\n",
    "if rivertype == 'monthly':\n",
    "    fluxfile = NC.Dataset('../../../nemo-forcing/rivers/Salish_allrivers_monthly.nc','r')\n",
    "    #inialise the runoff and run_depth arrays\n",
    "    runoff, run_depth, run_temp = rivertools.init_runoff_array_monthly(bathy=bathy, \n",
    "                                                                       init_depth=init_depth,\n",
    "                                                                       init_temp=init_temp)"
   ]
  },
  {
   "cell_type": "code",
   "execution_count": 8,
   "metadata": {
    "collapsed": false
   },
   "outputs": [
    {
     "name": "stdout",
     "output_type": "stream",
     "text": [
      "3.0 18.7962798445\n"
     ]
    }
   ],
   "source": [
    "print (run_depth.max(), run_temp.max())"
   ]
  },
  {
   "cell_type": "code",
   "execution_count": 9,
   "metadata": {
    "collapsed": true
   },
   "outputs": [],
   "source": [
    "# make temperature conservative temperature\n",
    "# this is terrible inefficient because its doing the full 898 x 398 of uniform temperatures\n",
    "sal_ref = np.zeros_like(run_temp)"
   ]
  },
  {
   "cell_type": "code",
   "execution_count": 14,
   "metadata": {
    "collapsed": false,
    "scrolled": true
   },
   "outputs": [],
   "source": [
    "#temp_cons = gsw_calls.generic_gsw_caller('CT_from_PT', sal_ref[0,0], run_temp[0,0]);\n",
    "temp_cons = gsw_calls._call_CT_from_PT(sal_ref, run_temp);"
   ]
  },
  {
   "cell_type": "code",
   "execution_count": 15,
   "metadata": {
    "collapsed": false
   },
   "outputs": [
    {
     "name": "stdout",
     "output_type": "stream",
     "text": [
      "(12, 898, 398)\n"
     ]
    },
    {
     "data": {
      "image/png": "[encoded data removed]",
      "text/plain": [
       "<matplotlib.figure.Figure at 0x7f20a9e3a240>"
      ]
     },
     "metadata": {},
     "output_type": "display_data"
    }
   ],
   "source": [
    "print (temp_cons.shape)\n",
    "if rivertype == 'monthly':\n",
    "    plt.plot (run_temp[:,0,0], 'o-')\n",
    "    plt.plot (temp_cons[:,0,0], 'x-')\n",
    "else:\n",
    "    print (temp_cons[15,15])"
   ]
  },
  {
   "cell_type": "code",
   "execution_count": 16,
   "metadata": {
    "collapsed": false
   },
   "outputs": [
    {
     "name": "stdout",
     "output_type": "stream",
     "text": [
      "(898, 398)\n"
     ]
    }
   ],
   "source": [
    "#get dimensions for netcdf files\n",
    "fB = NC.Dataset(bathy, 'r')\n",
    "lat = fB.variables['nav_lat']\n",
    "lon = fB.variables['nav_lon']\n",
    "D = fB.variables['Bathymetry'][:]\n",
    "ymax, xmax = D.shape\n",
    "print (lat[:].shape)"
   ]
  },
  {
   "cell_type": "code",
   "execution_count": null,
   "metadata": {
    "collapsed": true
   },
   "outputs": [],
   "source": [
    "# make temperature file\n",
    "nemo = NC.Dataset('river_ConsTemp_month.nc', 'w')\n",
    "nemo.description = 'Monthly Average Temperature, Conservative Temperature' \n",
    "\n",
    "# dimensions\n",
    "nemo.createDimension('x', xmax)\n",
    "nemo.createDimension('y', ymax)\n",
    "nemo.createDimension('time_counter', None)\n",
    "    \n",
    "# variables\n",
    "# latitude and longitude\n",
    "nav_lat = nemo.createVariable('nav_lat','float32',('y','x'),zlib=True)\n",
    "nav_lat = lat\n",
    "    \n",
    "nav_lon = nemo.createVariable('nav_lon','float32',('y','x'),zlib=True)\n",
    "nav_lon = lon\n",
    "\n",
    "# time\n",
    "time_counter = nemo.createVariable('time_counter', 'float32', ('time_counter'),zlib=True)\n",
    "time_counter.units = 'non-dim'\n",
    "time_counter[0:12] = range(1,13)\n",
    "\n",
    "# temperature\n",
    "rotemper = nemo.createVariable('rotemper','float32',('time_counter','y','x'),zlib=True)\n",
    "rotemper._Fillvalue = -99.\n",
    "rotemper.missing_value = -99.\n",
    "rotemper.units = 'deg C'\n",
    "rotemper.longname = 'Conservative Temperature'\n",
    "rotemper[0:12,:] = temp_cons\n",
    "    \n",
    "nemo.close()"
   ]
  },
  {
   "cell_type": "code",
   "execution_count": 17,
   "metadata": {
    "collapsed": false
   },
   "outputs": [],
   "source": [
    "#list of watersheds we are including\n",
    "names = ['skagit', 'fraser', 'evi_n', 'howe', 'bute', 'puget', 'jdf', 'evi_s', 'jervis', 'toba']"
   ]
  },
  {
   "cell_type": "code",
   "execution_count": 18,
   "metadata": {
    "collapsed": false
   },
   "outputs": [
    {
     "name": "stdout",
     "output_type": "stream",
     "text": [
      "908.655847841 937.969\n",
      "3608.52495708 3539.81\n",
      "255.803942635 638.889\n",
      "587.571269457 571.458\n",
      "606.331691748 547.856\n",
      "481.252250068 503.333\n",
      "400.914077215 411.162\n",
      "331.941328263 330.787\n",
      "307.500474383 296.967\n",
      "285.070089693 269.932\n"
     ]
    }
   ],
   "source": [
    "for name in range(0,len(names)):\n",
    "    watershedname = names[name]\n",
    "    Flux = fluxfile.variables[watershedname][:]\n",
    "    if rivertype == 'constant':\n",
    "        Flux = float(Flux)\n",
    "    runoff_orig = np.copy(runoff)\n",
    "    runoff, run_depth, run_temp = rivertools.put_watershed_into_runoff(rivertype,\n",
    "                                            watershedname, Flux, runoff, run_depth, temp_cons,\n",
    "                                            Fraser_River=length)\n",
    "    if rivertype == 'constant':\n",
    "        rivertools.check_sum(runoff_orig, runoff, Flux)\n",
    "    if rivertype == 'monthly':\n",
    "        rivertools.check_sum_monthly(runoff_orig, runoff, Flux)"
   ]
  },
  {
   "cell_type": "code",
   "execution_count": 19,
   "metadata": {
    "collapsed": false
   },
   "outputs": [
    {
     "name": "stdout",
     "output_type": "stream",
     "text": [
      "3.0 19.783\n",
      "8.97165904\n"
     ]
    },
    {
     "data": {
      "image/png": "[encoded data removed]",
      "text/plain": [
       "<matplotlib.figure.Figure at 0x7f20a9e28e80>"
      ]
     },
     "metadata": {},
     "output_type": "display_data"
    }
   ],
   "source": [
    "print (run_depth.max(), temp_cons.max())\n",
    "if rivertype=='monthly':\n",
    "    plt.plot(temp_cons[:,351,345])\n",
    "    print (np.mean(temp_cons[:,351,345]))"
   ]
  },
  {
   "cell_type": "code",
   "execution_count": null,
   "metadata": {
    "collapsed": false
   },
   "outputs": [],
   "source": [
    "if rivertype == 'constant':\n",
    "    \n",
    "    if length == 'short':\n",
    "        nemo = NC.Dataset('../../../NEMO-forcing/rivers/rivers_cnst.nc', 'w')\n",
    "        nemo.description = 'Constant Yearly Average, All Rivers, Short Fraser' \n",
    "    elif length == 'long':\n",
    "        nemo = NC.Dataset('../../../NEMO-forcing/rivers/rivers_cnst_extended.nc', 'w')\n",
    "    \n",
    "    # dimensions\n",
    "    nemo.createDimension('x', xmax)\n",
    "    nemo.createDimension('y', ymax)\n",
    "    nemo.createDimension('time_counter', None)\n",
    "    \n",
    "    # variables\n",
    "    # latitude and longitude\n",
    "    nav_lat = nemo.createVariable('nav_lat','float32',('y','x'),zlib=True)\n",
    "    nav_lat = lat\n",
    "    x = nemo.createVariable('nav_lon','float32',('y','x'),zlib=True)\n",
    "    nav_lon = lon\n",
    "    # time\n",
    "    time_counter = nemo.createVariable('time_counter', 'float32', ('time_counter'),zlib=True)\n",
    "    time_counter.units = 'non-dim'\n",
    "    time_counter[0] = 1\n",
    "    # runoff\n",
    "    rorunoff = nemo.createVariable('rorunoff', 'float32', ('time_counter','y','x'), zlib=True)\n",
    "    rorunoff._Fillvalue = 0.\n",
    "    rorunoff._missing_value = 0.\n",
    "    rorunoff._units = 'kg m-2 s-1'\n",
    "    rorunoff[0,:] = runoff\n",
    "    # depth\n",
    "    rodepth = nemo.createVariable('rodepth','float32',('y','x'),zlib=True)\n",
    "    rodepth._Fillvalue = -1.\n",
    "    rodepth.missing_value = -1.\n",
    "    rodepth.units = 'm'\n",
    "    rodepth[:] = run_depth\n",
    "    nemo.close()"
   ]
  },
  {
   "cell_type": "code",
   "execution_count": null,
   "metadata": {
    "collapsed": false
   },
   "outputs": [],
   "source": [
    "print (runoff.shape)\n",
    "print (temp_cons.shape)\n",
    "print (rivertype, length)"
   ]
  },
  {
   "cell_type": "code",
   "execution_count": 20,
   "metadata": {
    "collapsed": false
   },
   "outputs": [],
   "source": [
    "if rivertype == 'monthly':\n",
    "    if length == 'short':\n",
    "        nemo = NC.Dataset('rivers_month.nc', 'w')\n",
    "        nemo.description = 'Monthly Averages, All Rivers, Short Fraser' \n",
    "    elif length == 'long':\n",
    "        nemo = NC.Dataset('rivers_month_extended.nc', 'w')\n",
    "        nemo.description = 'Monthly Averages, All Rivers, Long Fraser, Windy Moved'\n",
    "    \n",
    "    # dimensions\n",
    "    nemo.createDimension('x', xmax)\n",
    "    nemo.createDimension('y', ymax)\n",
    "    nemo.createDimension('time_counter', None)\n",
    "    \n",
    "    # variables\n",
    "    # latitude and longitude\n",
    "    nav_lat = nemo.createVariable('nav_lat','float32',('y','x'),zlib=True)\n",
    "    nav_lat = lat\n",
    "    x = nemo.createVariable('nav_lon','float32',('y','x'),zlib=True)\n",
    "    nav_lon = lon\n",
    "    # time\n",
    "    time_counter = nemo.createVariable('time_counter', 'float32', ('time_counter'),zlib=True)\n",
    "    time_counter.units = 'non-dim'\n",
    "    time_counter[0:12] = range(1,13)\n",
    "    # runoff\n",
    "    rorunoff = nemo.createVariable('rorunoff', 'float32', ('time_counter','y','x'), zlib=True)\n",
    "    rorunoff._Fillvalue = 0.\n",
    "    rorunoff._missing_value = 0.\n",
    "    rorunoff._units = 'kg m-2 s-1'\n",
    "    rorunoff[0:12,:] = runoff\n",
    "    # depth\n",
    "    rodepth = nemo.createVariable('rodepth','float32',('y','x'),zlib=True)\n",
    "    rodepth._Fillvalue = -1.\n",
    "    rodepth.missing_value = -1.\n",
    "    rodepth.units = 'm'\n",
    "    rodepth[:] = run_depth[0,:,:]\n",
    "    # temperature\n",
    "    rotemper = nemo.createVariable('rotemper','float32',('time_counter','y','x'),zlib=True)\n",
    "    rotemper._Fillvalue = -99.\n",
    "    rotemper.missing_value = -99.\n",
    "    rotemper.units = 'deg C'\n",
    "    rotemper.longname = 'Conservative Temperature'\n",
    "    rotemper[0:12,:] = temp_cons\n",
    "    nemo.close()"
   ]
  },
  {
   "cell_type": "code",
   "execution_count": null,
   "metadata": {
    "collapsed": false,
    "scrolled": true
   },
   "outputs": [],
   "source": [
    "%matplotlib inline\n",
    "\n",
    "test = NC.Dataset('rivers_month_extended_CT.nc','r')\n",
    "test2 = NC.Dataset('../../../NEMO-forcing/rivers/rivers_month.nc', 'r')\n",
    "plotting = test.variables['rorunoff'][0, :, :]\n",
    "plot2 = test2.variables['rorunoff'][0, :, :]\n",
    "\n",
    "plt.figure(figsize=(19, 19))\n",
    "plt.pcolormesh(lon[:], lat[:], D, cmap='cool')\n",
    "for i in range(0,898):\n",
    "    for j in range(0,398):\n",
    "        if plotting[i,j] > 0:\n",
    "            plt.plot(lon[i,j],lat[i,j],'m*')\n",
    "        if plot2[i, j] > 0:\n",
    "            plt.plot(lon[i,j], lat[i,j], 'yo')\n",
    "plt.colorbar()\n",
    "plt.ylabel('Latitude')\n",
    "plt.xlabel('Longitude')\n",
    "plt.title('Location of rivers included, with depth contours [m]')\n",
    "plt.savefig('river_locations.pdf')\n"
   ]
  },
  {
   "cell_type": "code",
   "execution_count": null,
   "metadata": {
    "collapsed": false
   },
   "outputs": [],
   "source": [
    "temp = test2.variables['rotemper'][:]\n",
    "roro = test2.variables['rorunoff'][:]\n",
    "print (temp.shape)\n",
    "plt.plot(temp[:,351,345])\n",
    "print (temp.max())"
   ]
  },
  {
   "cell_type": "code",
   "execution_count": null,
   "metadata": {
    "collapsed": false
   },
   "outputs": [],
   "source": [
    "if rivertype == 'monthly':\n",
    "    depths = D[roro[0] > 0.]\n",
    "    ii, jj = np.where(roro[0] > 0.)\n",
    "elif rivertype == 'constant':\n",
    "    depths = D[roro > 0.]\n",
    "    ii, jj = np.where(roro > 0.)"
   ]
  },
  {
   "cell_type": "code",
   "execution_count": null,
   "metadata": {
    "collapsed": false
   },
   "outputs": [],
   "source": [
    "print (ii[depths.mask], jj[depths.mask])\n",
    "ip = ii[depths.mask]; jp = jj[depths.mask]"
   ]
  },
  {
   "cell_type": "code",
   "execution_count": null,
   "metadata": {
    "collapsed": false
   },
   "outputs": [],
   "source": [
    "fig, ax = plt.subplots(1,1,figsize=(5,5))\n",
    "ax.pcolormesh(D)\n",
    "ax.plot(jp[0], ip[0],'mo')\n",
    "ax.set_xlim((35, 65))\n",
    "ax.set_ylim((870, 898))\n",
    "ax.plot(45+0.5, 891+0.5,'r*')"
   ]
  },
  {
   "cell_type": "code",
   "execution_count": null,
   "metadata": {
    "collapsed": false
   },
   "outputs": [],
   "source": [
    "fig, ax = plt.subplots(1,1,figsize=(5,5))\n",
    "ax.pcolormesh(D)\n",
    "ax.plot(jp[:3], ip[:3],'mo')\n",
    "ax.set_xlim((300, 320))\n",
    "ax.set_ylim((635, 655))\n",
    "ax.plot(307+0.5, 651+0.5,'r*')\n",
    "ax.plot(309+0.5, 650+0.5,'r*')\n",
    "ax.plot(310+0.5, 649+0.5,'r*')"
   ]
  },
  {
   "cell_type": "code",
   "execution_count": null,
   "metadata": {
    "collapsed": false
   },
   "outputs": [],
   "source": [
    "test.close()\n",
    "nemo.close()"
   ]
  },
  {
   "cell_type": "code",
   "execution_count": null,
   "metadata": {
    "collapsed": true
   },
   "outputs": [],
   "source": []
  }
 ],
 "metadata": {
  "anaconda-cloud": {},
  "kernelspec": {
   "display_name": "Python [default]",
   "language": "python",
   "name": "python3"
  },
  "language_info": {
   "codemirror_mode": {
    "name": "ipython",
    "version": 3
   },
   "file_extension": ".py",
   "mimetype": "text/x-python",
   "name": "python",
   "nbconvert_exporter": "python",
   "pygments_lexer": "ipython3",
   "version": "3.5.2"
  }
 },
 "nbformat": 4,
 "nbformat_minor": 0
}
