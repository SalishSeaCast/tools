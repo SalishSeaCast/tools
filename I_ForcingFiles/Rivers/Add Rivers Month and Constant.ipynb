{
 "metadata": {
  "name": "",
  "signature": "sha256:ca1f97e8ffe4a45621409c284e6c041265420ab47cf782c8ea554d149feaaa8e"
 },
 "nbformat": 3,
 "nbformat_minor": 0,
 "worksheets": [
  {
   "cells": [
    {
     "cell_type": "code",
     "collapsed": false,
     "input": [
      "import sys\n",
      "sys.path.append('/ocean/klesouef/meopar/tools/I_ForcingFiles/Rivers')\n",
      "import rivertools\n",
      "import netCDF4 as NC\n",
      "import numpy as np"
     ],
     "language": "python",
     "metadata": {},
     "outputs": [],
     "prompt_number": 1
    },
    {
     "cell_type": "code",
     "collapsed": false,
     "input": [
      "reload(rivertools)"
     ],
     "language": "python",
     "metadata": {},
     "outputs": [
      {
       "metadata": {},
       "output_type": "pyout",
       "prompt_number": 2,
       "text": [
        "<module 'rivertools' from 'rivertools.pyc'>"
       ]
      }
     ],
     "prompt_number": 2
    },
    {
     "cell_type": "code",
     "collapsed": false,
     "input": [
      "#what type of file would you like to create?\n",
      "#e.g. 'constant' - yearly average used for all months\n",
      "#     'monthly' - monthly averages used for each month\n",
      "rivertype = 'monthly'"
     ],
     "language": "python",
     "metadata": {},
     "outputs": [],
     "prompt_number": 3
    },
    {
     "cell_type": "code",
     "collapsed": false,
     "input": [
      "#get river fluxes from netcdf file\n",
      "if rivertype == 'constant':\n",
      "    fluxfile = NC.Dataset('/ocean/sallen/allen/research/MEOPAR/nemo-forcing/rivers/Salish_allrivers_cnst.nc','r')\n",
      "    #inialise the runoff and run_depth arrays\n",
      "    runoff, run_depth = rivertools.init_runoff_array()\n",
      "if rivertype == 'monthly':\n",
      "    fluxfile = NC.Dataset('/ocean/sallen/allen/research/MEOPAR/nemo-forcing/rivers/Salish_allrivers_monthly.nc','r')\n",
      "    #inialise the runoff and run_depth arrays\n",
      "    runoff, run_depth = rivertools.init_runoff_array_monthly()"
     ],
     "language": "python",
     "metadata": {},
     "outputs": [
      {
       "output_type": "stream",
       "stream": "stdout",
       "text": [
        "(12, 898, 398)\n"
       ]
      }
     ],
     "prompt_number": 4
    },
    {
     "cell_type": "code",
     "collapsed": false,
     "input": [
      "fluxfile1 = NC.Dataset('/ocean/sallen/allen/research/MEOPAR/nemo-forcing/rivers/Salish_allrivers_cnst.nc','r')\n",
      "fluxfile2 = NC.Dataset('/ocean/sallen/allen/research/MEOPAR/nemo-forcing/rivers/Salish_allrivers_monthly.nc','r')\n",
      "print fluxfile1.variables['skagit'][:]\n",
      "print fluxfile2.variables['skagit'][:]"
     ],
     "language": "python",
     "metadata": {},
     "outputs": [
      {
       "output_type": "stream",
       "stream": "stdout",
       "text": [
        "[ 937.34918213]\n",
        "[ 1144.85083008  1003.11553955   875.92791748   924.40124512  1203.48510742\n",
        "  1268.2265625    939.33544922   500.00836182   440.50671387   655.85516357\n",
        "  1149.6385498   1150.28015137]\n"
       ]
      }
     ],
     "prompt_number": 5
    },
    {
     "cell_type": "code",
     "collapsed": false,
     "input": [
      "#list of watersheds we are including\n",
      "names = ['skagit','fraser','evi_n','howe','bute','puget','jdf','evi_s','jervis','toba']"
     ],
     "language": "python",
     "metadata": {},
     "outputs": [],
     "prompt_number": 6
    },
    {
     "cell_type": "code",
     "collapsed": false,
     "input": [
      "for name in range(0,len(names)):\n",
      "    watershedname = names[name]\n",
      "    Flux = fluxfile.variables[watershedname][:]\n",
      "    if rivertype == 'constant':\n",
      "        Flux = float(Flux)\n",
      "    runoff_orig = np.copy(runoff)\n",
      "    runoff, run_depth = rivertools.put_watershed_into_runoff(rivertype,watershedname,Flux,runoff,run_depth)\n",
      "    if rivertype == 'constant':\n",
      "        rivertools.check_sum(runoff_orig, runoff, Flux)\n",
      "    if rivertype == 'monthly':\n",
      "        rivertools.check_sum_monthly(runoff_orig, runoff, Flux)"
     ],
     "language": "python",
     "metadata": {},
     "outputs": [
      {
       "output_type": "stream",
       "stream": "stdout",
       "text": [
        "skagit has 10 rivers\n",
        "908.655847841 937.969\n",
        "fraser has 10 rivers"
       ]
      },
      {
       "output_type": "stream",
       "stream": "stdout",
       "text": [
        "\n",
        "3556.37459792 3539.81\n",
        "evi_n has 21 rivers\n",
        "255.798250913"
       ]
      },
      {
       "output_type": "stream",
       "stream": "stdout",
       "text": [
        " 638.889\n",
        "howe has 2 rivers\n",
        "587.571269457 571.458\n",
        "bute has 3 rivers\n",
        "606.331691748"
       ]
      },
      {
       "output_type": "stream",
       "stream": "stdout",
       "text": [
        " 547.856\n",
        "puget has 43 rivers"
       ]
      },
      {
       "output_type": "stream",
       "stream": "stdout",
       "text": [
        "\n",
        "481.252250068"
       ]
      },
      {
       "output_type": "stream",
       "stream": "stdout",
       "text": [
        " 503.333\n",
        "jdf has 27 rivers\n",
        "400.914077215"
       ]
      },
      {
       "output_type": "stream",
       "stream": "stdout",
       "text": [
        " 411.162\n",
        "evi_s has 17 rivers\n",
        "331.941328263"
       ]
      },
      {
       "output_type": "stream",
       "stream": "stdout",
       "text": [
        " 330.787\n",
        "jervis has 17 rivers\n",
        "307.539045044"
       ]
      },
      {
       "output_type": "stream",
       "stream": "stdout",
       "text": [
        " 296.967\n",
        "toba has 1 rivers\n",
        "285.070089693 269.932\n"
       ]
      }
     ],
     "prompt_number": 7
    },
    {
     "cell_type": "code",
     "collapsed": false,
     "input": [
      "#get dimensions for netcdf files\n",
      "import netCDF4 as NC\n",
      "fB = NC.Dataset('/ocean/sallen/allen/research/MEOPAR/nemo-forcing/grid/bathy_meter_SalishSea.nc','r')\n",
      "lat = fB.variables['nav_lat']\n",
      "lon = fB.variables['nav_lon']\n",
      "D = fB.variables['Bathymetry'][:]\n",
      "ymax, xmax = D.shape"
     ],
     "language": "python",
     "metadata": {},
     "outputs": [],
     "prompt_number": 8
    },
    {
     "cell_type": "code",
     "collapsed": false,
     "input": [
      "if rivertype == 'constant':\n",
      "\n",
      "    nemo = NC.Dataset('../../../NEMO-forcing/rivers/rivers_cnst.nc', 'w')\n",
      "    nemo.description = 'Constant Yearly Average, All Rivers' \n",
      "    \n",
      "    # dimensions\n",
      "    nemo.createDimension('x', xmax)\n",
      "    nemo.createDimension('y', ymax)\n",
      "    nemo.createDimension('time_counter', None)\n",
      "    \n",
      "    # variables\n",
      "    # latitude and longitude\n",
      "    nav_lat = nemo.createVariable('nav_lat','float32',('y','x'),zlib=True)\n",
      "    nav_lat = lat\n",
      "    x = nemo.createVariable('nav_lon','float32',('y','x'),zlib=True)\n",
      "    nav_lon = lon\n",
      "    # time\n",
      "    time_counter = nemo.createVariable('time_counter', 'float32', ('time_counter'),zlib=True)\n",
      "    time_counter.units = 'non-dim'\n",
      "    time_counter[0] = 1\n",
      "    # runoff\n",
      "    rorunoff = nemo.createVariable('rorunoff', 'float32', ('time_counter','y','x'), zlib=True)\n",
      "    rorunoff._Fillvalue = 0.\n",
      "    rorunoff._missing_value = 0.\n",
      "    rorunoff._units = 'kg m-2 s-1'\n",
      "    rorunoff[0,:] = runoff\n",
      "    # depth\n",
      "    rodepth = nemo.createVariable('rodepth','float32',('y','x'),zlib=True)\n",
      "    rodepth._Fillvalue = -1.\n",
      "    rodepth.missing_value = -1.\n",
      "    rodepth.units = 'm'\n",
      "    rodepth[:] = run_depth\n",
      "    nemo.close()"
     ],
     "language": "python",
     "metadata": {},
     "outputs": [],
     "prompt_number": 9
    },
    {
     "cell_type": "code",
     "collapsed": false,
     "input": [
      "print runoff.shape"
     ],
     "language": "python",
     "metadata": {},
     "outputs": [
      {
       "output_type": "stream",
       "stream": "stdout",
       "text": [
        "(12, 898, 398)\n"
       ]
      }
     ],
     "prompt_number": 10
    },
    {
     "cell_type": "code",
     "collapsed": false,
     "input": [
      "if rivertype == 'monthly':\n",
      "    nemo = NC.Dataset('../../../NEMO-forcing/rivers/rivers_month.nc', 'w')\n",
      "    nemo.description = 'Monthly Averages, All Rivers' \n",
      "    \n",
      "    # dimensions\n",
      "    nemo.createDimension('x', xmax)\n",
      "    nemo.createDimension('y', ymax)\n",
      "    nemo.createDimension('time_counter', None)\n",
      "    \n",
      "    # variables\n",
      "    # latitude and longitude\n",
      "    nav_lat = nemo.createVariable('nav_lat','float32',('y','x'),zlib=True)\n",
      "    nav_lat = lat\n",
      "    x = nemo.createVariable('nav_lon','float32',('y','x'),zlib=True)\n",
      "    nav_lon = lon\n",
      "    # time\n",
      "    time_counter = nemo.createVariable('time_counter', 'float32', ('time_counter'),zlib=True)\n",
      "    time_counter.units = 'non-dim'\n",
      "    time_counter[0:12] = range(1,13)\n",
      "    # runoff\n",
      "    rorunoff = nemo.createVariable('rorunoff', 'float32', ('time_counter','y','x'), zlib=True)\n",
      "    rorunoff._Fillvalue = 0.\n",
      "    rorunoff._missing_value = 0.\n",
      "    rorunoff._units = 'kg m-2 s-1'\n",
      "    rorunoff[0:12,:] = runoff\n",
      "    # depth\n",
      "    rodepth = nemo.createVariable('rodepth','float32',('y','x'),zlib=True)\n",
      "    rodepth._Fillvalue = -1.\n",
      "    rodepth.missing_value = -1.\n",
      "    rodepth.units = 'm'\n",
      "    rodepth[:] = run_depth[0,:,:]\n",
      "    nemo.close()"
     ],
     "language": "python",
     "metadata": {},
     "outputs": [],
     "prompt_number": 11
    },
    {
     "cell_type": "code",
     "collapsed": false,
     "input": [
      "%matplotlib inline\n",
      "import matplotlib.pyplot as plt\n",
      "\n",
      "test = NC.Dataset('../../../NEMO-forcing/rivers/rivers_month.nc','r')\n",
      "plotting = test.variables['rorunoff'][0,:,:]\n",
      "\n",
      "plt.figure(figsize=(9,9))\n",
      "plt.contourf(lon,lat,D,np.arange(0,420,30),cmap='cool')\n",
      "for i in range(0,898):\n",
      "    for j in range(0,398):\n",
      "        if plotting[i,j] > 0:\n",
      "            plt.plot(lon[i,j],lat[i,j],'m*')\n",
      "plt.colorbar()\n",
      "plt.ylabel('Latitude')\n",
      "plt.xlabel('Longitude')\n",
      "plt.title('Location of rivers included, with depth contours [m]')\n",
      "plt.savefig('river_locations.pdf')\n"
     ],
     "language": "python",
     "metadata": {},
     "outputs": [
      {
       "metadata": {},
       "output_type": "display_data",
       "png": "[encoded data removed]",
       "text": [
        "<matplotlib.figure.Figure at 0x7f3206afc590>"
       ]
      }
     ],
     "prompt_number": 13
    },
    {
     "cell_type": "code",
     "collapsed": false,
     "input": [],
     "language": "python",
     "metadata": {},
     "outputs": [],
     "prompt_number": 12
    }
   ],
   "metadata": {}
  }
 ]
}