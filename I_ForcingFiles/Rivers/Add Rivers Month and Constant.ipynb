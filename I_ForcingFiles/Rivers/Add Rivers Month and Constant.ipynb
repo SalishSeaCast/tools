{
 "metadata": {
  "name": "",
  "signature": "sha256:35d1c6235be2f6d6fddab8e6b50c2ce1fc664830b63349f20810549fcb9b444d"
 },
 "nbformat": 3,
 "nbformat_minor": 0,
 "worksheets": [
  {
   "cells": [
    {
     "cell_type": "code",
     "collapsed": false,
     "input": [
      "import sys\n",
      "sys.path.append('/ocean/klesouef/meopar/tools/I_ForcingFiles/Rivers')\n",
      "import rivertools\n",
      "import netCDF4 as NC\n",
      "import numpy as np"
     ],
     "language": "python",
     "metadata": {},
     "outputs": [],
     "prompt_number": 1
    },
    {
     "cell_type": "code",
     "collapsed": false,
     "input": [
      "reload(rivertools)"
     ],
     "language": "python",
     "metadata": {},
     "outputs": [
      {
       "metadata": {},
       "output_type": "pyout",
       "prompt_number": 2,
       "text": [
        "<module 'rivertools' from 'rivertools.pyc'>"
       ]
      }
     ],
     "prompt_number": 2
    },
    {
     "cell_type": "code",
     "collapsed": false,
     "input": [
      "#what type of file would you like to create?\n",
      "#e.g. 'constant' - yearly average used for all months\n",
      "#     'monthly' - monthly averages used for each month\n",
      "rivertype = 'constant'"
     ],
     "language": "python",
     "metadata": {},
     "outputs": [],
     "prompt_number": 3
    },
    {
     "cell_type": "code",
     "collapsed": false,
     "input": [
      "#get river fluxes from netcdf file\n",
      "if rivertype == 'constant':\n",
      "    fluxfile = NC.Dataset('/ocean/sallen/allen/research/MEOPAR/nemo-forcing/rivers/Salish_allrivers_cnst.nc','r')\n",
      "    #inialise the runoff and run_depth arrays\n",
      "    runoff, run_depth = rivertools.init_runoff_array()\n",
      "if rivertype == 'monthly':\n",
      "    fluxfile = NC.Dataset('/ocean/sallen/allen/research/MEOPAR/nemo-forcing/rivers/Salish_allrivers_monthly.nc','r')\n",
      "    #inialise the runoff and run_depth arrays\n",
      "    runoff, run_depth = rivertools.init_runoff_array_monthly()"
     ],
     "language": "python",
     "metadata": {},
     "outputs": [
      {
       "ename": "RuntimeError",
       "evalue": "No such file or directory",
       "output_type": "pyerr",
       "traceback": [
        "\u001b[1;31m---------------------------------------------------------------------------\u001b[0m\n\u001b[1;31mRuntimeError\u001b[0m                              Traceback (most recent call last)",
        "\u001b[1;32m<ipython-input-5-561edd7113ad>\u001b[0m in \u001b[0;36m<module>\u001b[1;34m()\u001b[0m\n\u001b[0;32m      3\u001b[0m     \u001b[0mfluxfile\u001b[0m \u001b[1;33m=\u001b[0m \u001b[0mNC\u001b[0m\u001b[1;33m.\u001b[0m\u001b[0mDataset\u001b[0m\u001b[1;33m(\u001b[0m\u001b[1;34m'../../../NEMO-forcing/rivers/Salish_allrivers_cnst.nc'\u001b[0m\u001b[1;33m,\u001b[0m\u001b[1;34m'r'\u001b[0m\u001b[1;33m)\u001b[0m\u001b[1;33m\u001b[0m\u001b[0m\n\u001b[0;32m      4\u001b[0m     \u001b[1;31m#inialise the runoff and run_depth arrays\u001b[0m\u001b[1;33m\u001b[0m\u001b[1;33m\u001b[0m\u001b[0m\n\u001b[1;32m----> 5\u001b[1;33m     \u001b[0mrunoff\u001b[0m\u001b[1;33m,\u001b[0m \u001b[0mrun_depth\u001b[0m \u001b[1;33m=\u001b[0m \u001b[0mrivertools\u001b[0m\u001b[1;33m.\u001b[0m\u001b[0minit_runoff_array\u001b[0m\u001b[1;33m(\u001b[0m\u001b[1;33m)\u001b[0m\u001b[1;33m\u001b[0m\u001b[0m\n\u001b[0m\u001b[0;32m      6\u001b[0m \u001b[1;32mif\u001b[0m \u001b[0mrivertype\u001b[0m \u001b[1;33m==\u001b[0m \u001b[1;34m'monthly'\u001b[0m\u001b[1;33m:\u001b[0m\u001b[1;33m\u001b[0m\u001b[0m\n\u001b[0;32m      7\u001b[0m     \u001b[0mfluxfile\u001b[0m \u001b[1;33m=\u001b[0m \u001b[0mNC\u001b[0m\u001b[1;33m.\u001b[0m\u001b[0mDataset\u001b[0m\u001b[1;33m(\u001b[0m\u001b[1;34m'../../../NEMO-forcing/rivers/Salish_allrivers_monthly.nc'\u001b[0m\u001b[1;33m,\u001b[0m\u001b[1;34m'r'\u001b[0m\u001b[1;33m)\u001b[0m\u001b[1;33m\u001b[0m\u001b[0m\n",
        "\u001b[1;32m/data/nsoontie/MEOPAR/tools/I_ForcingFiles/Rivers/rivertools.pyc\u001b[0m in \u001b[0;36minit_runoff_array\u001b[1;34m()\u001b[0m\n\u001b[0;32m    239\u001b[0m         \u001b[1;34m\"\"\"define a function to initialise the runoff array\"\"\"\u001b[0m\u001b[1;33m\u001b[0m\u001b[0m\n\u001b[0;32m    240\u001b[0m \u001b[1;33m\u001b[0m\u001b[0m\n\u001b[1;32m--> 241\u001b[1;33m         \u001b[0mfB\u001b[0m \u001b[1;33m=\u001b[0m \u001b[0mNC\u001b[0m\u001b[1;33m.\u001b[0m\u001b[0mDataset\u001b[0m\u001b[1;33m(\u001b[0m\u001b[1;34m'../../../nemo-forcing/grid/bathy_meter_SalishSea.nc'\u001b[0m\u001b[1;33m,\u001b[0m\u001b[1;34m'r'\u001b[0m\u001b[1;33m)\u001b[0m\u001b[1;33m\u001b[0m\u001b[0m\n\u001b[0m\u001b[0;32m    242\u001b[0m         \u001b[0mD\u001b[0m \u001b[1;33m=\u001b[0m \u001b[0mfB\u001b[0m\u001b[1;33m.\u001b[0m\u001b[0mvariables\u001b[0m\u001b[1;33m[\u001b[0m\u001b[1;34m'Bathymetry'\u001b[0m\u001b[1;33m]\u001b[0m\u001b[1;33m[\u001b[0m\u001b[1;33m:\u001b[0m\u001b[1;33m]\u001b[0m\u001b[1;33m\u001b[0m\u001b[0m\n\u001b[0;32m    243\u001b[0m         \u001b[0mymax\u001b[0m\u001b[1;33m,\u001b[0m \u001b[0mxmax\u001b[0m \u001b[1;33m=\u001b[0m \u001b[0mD\u001b[0m\u001b[1;33m.\u001b[0m\u001b[0mshape\u001b[0m\u001b[1;33m\u001b[0m\u001b[0m\n",
        "\u001b[1;32m/home/nsoontie/anaconda/lib/python2.7/site-packages/netCDF4.so\u001b[0m in \u001b[0;36mnetCDF4.Dataset.__init__ (netCDF4.c:19478)\u001b[1;34m()\u001b[0m\n",
        "\u001b[1;31mRuntimeError\u001b[0m: No such file or directory"
       ]
      }
     ],
     "prompt_number": 5
    },
    {
     "cell_type": "code",
     "collapsed": false,
     "input": [
      "fluxfile1 = NC.Dataset('../../../NEMO-forcing/rivers/Salish_allrivers_cnst.nc','r')\n",
      "fluxfile2 = NC.Dataset('../../../NEMO-forcing/rivers/Salish_allrivers_monthly.nc','r')\n",
      "print fluxfile1.variables['skagit'][:]\n",
      "print fluxfile2.variables['skagit'][:]"
     ],
     "language": "python",
     "metadata": {},
     "outputs": []
    },
    {
     "cell_type": "code",
     "collapsed": false,
     "input": [
      "#list of watersheds we are including\n",
      "names = ['skagit','fraser','evi_n','howe','bute','puget','jdf','evi_s','jervis','toba']"
     ],
     "language": "python",
     "metadata": {},
     "outputs": []
    },
    {
     "cell_type": "code",
     "collapsed": false,
     "input": [
      "for name in range(0,len(names)):\n",
      "    watershedname = names[name]\n",
      "    Flux = fluxfile.variables[watershedname][:]\n",
      "    if rivertype == 'constant':\n",
      "        Flux = float(Flux)\n",
      "    runoff_orig = np.copy(runoff)\n",
      "    runoff, run_depth = rivertools.put_watershed_into_runoff(rivertype,watershedname,Flux,runoff,run_depth)\n",
      "    if rivertype == 'constant':\n",
      "        rivertools.check_sum(runoff_orig, runoff, Flux)\n",
      "    if rivertype == 'monthly':\n",
      "        rivertools.check_sum_monthly(runoff_orig, runoff, Flux)"
     ],
     "language": "python",
     "metadata": {},
     "outputs": []
    },
    {
     "cell_type": "code",
     "collapsed": false,
     "input": [
      "#get dimensions for netcdf files\n",
      "import netCDF4 as NC\n",
      "fB = NC.Dataset('../../../nemo-forcing/grid/bathy_meter_SalishSea.nc','r')\n",
      "lat = fB.variables['nav_lat']\n",
      "lon = fB.variables['nav_lon']\n",
      "D = fB.variables['Bathymetry'][:]\n",
      "ymax, xmax = D.shape"
     ],
     "language": "python",
     "metadata": {},
     "outputs": []
    },
    {
     "cell_type": "code",
     "collapsed": false,
     "input": [
      "if rivertype == 'constant':\n",
      "\n",
      "    nemo = NC.Dataset('/ocean/klesouef/meopar/nemo-forcing/rivers/rivers_cnst.nc', 'w')\n",
      "    nemo.description = 'Constant Yearly Average, All Rivers' \n",
      "    \n",
      "    # dimensions\n",
      "    nemo.createDimension('x', xmax)\n",
      "    nemo.createDimension('y', ymax)\n",
      "    nemo.createDimension('time_counter', None)\n",
      "    \n",
      "    # variables\n",
      "    # latitude and longitude\n",
      "    nav_lat = nemo.createVariable('nav_lat','float32',('y','x'),zlib=True)\n",
      "    nav_lat = lat\n",
      "    x = nemo.createVariable('nav_lon','float32',('y','x'),zlib=True)\n",
      "    nav_lon = lon\n",
      "    # time\n",
      "    time_counter = nemo.createVariable('time_counter', 'float32', ('time_counter'),zlib=True)\n",
      "    time_counter.units = 'non-dim'\n",
      "    time_counter[0] = 1\n",
      "    # runoff\n",
      "    rorunoff = nemo.createVariable('rorunoff', 'float32', ('time_counter','y','x'), zlib=True)\n",
      "    rorunoff._Fillvalue = 0.\n",
      "    rorunoff._missing_value = 0.\n",
      "    rorunoff._units = 'kg m-2 s-1'\n",
      "    rorunoff[0,:] = runoff\n",
      "    # depth\n",
      "    rodepth = nemo.createVariable('rodepth','float32',('y','x'),zlib=True)\n",
      "    rodepth._Fillvalue = -1.\n",
      "    rodepth.missing_value = -1.\n",
      "    rodepth.units = 'm'\n",
      "    rodepth[:] = run_depth\n",
      "    nemo.close()"
     ],
     "language": "python",
     "metadata": {},
     "outputs": []
    },
    {
     "cell_type": "code",
     "collapsed": false,
     "input": [
      "print runoff.shape"
     ],
     "language": "python",
     "metadata": {},
     "outputs": []
    },
    {
     "cell_type": "code",
     "collapsed": false,
     "input": [
      "if rivertype == 'monthly':\n",
      "    nemo = NC.Dataset('/ocean/klesouef/meopar/nemo-forcing/rivers/rivers_month.nc', 'w')\n",
      "    nemo.description = 'Monthly Averages, All Rivers' \n",
      "    \n",
      "    # dimensions\n",
      "    nemo.createDimension('x', xmax)\n",
      "    nemo.createDimension('y', ymax)\n",
      "    nemo.createDimension('time_counter', None)\n",
      "    \n",
      "    # variables\n",
      "    # latitude and longitude\n",
      "    nav_lat = nemo.createVariable('nav_lat','float32',('y','x'),zlib=True)\n",
      "    nav_lat = lat\n",
      "    x = nemo.createVariable('nav_lon','float32',('y','x'),zlib=True)\n",
      "    nav_lon = lon\n",
      "    # time\n",
      "    time_counter = nemo.createVariable('time_counter', 'float32', ('time_counter'),zlib=True)\n",
      "    time_counter.units = 'non-dim'\n",
      "    time_counter[0:12] = range(1,13)\n",
      "    # runoff\n",
      "    rorunoff = nemo.createVariable('rorunoff', 'float32', ('time_counter','y','x'), zlib=True)\n",
      "    rorunoff._Fillvalue = 0.\n",
      "    rorunoff._missing_value = 0.\n",
      "    rorunoff._units = 'kg m-2 s-1'\n",
      "    rorunoff[0:12,:] = runoff\n",
      "    # depth\n",
      "    rodepth = nemo.createVariable('rodepth','float32',('y','x'),zlib=True)\n",
      "    rodepth._Fillvalue = -1.\n",
      "    rodepth.missing_value = -1.\n",
      "    rodepth.units = 'm'\n",
      "    rodepth[:] = run_depth[0,:,:]\n",
      "    nemo.close()"
     ],
     "language": "python",
     "metadata": {},
     "outputs": []
    },
    {
     "cell_type": "code",
     "collapsed": false,
     "input": [
      "%matplotlib inline\n",
      "import matplotlib.pyplot as plt\n",
      "\n",
      "test = NC.Dataset('/ocean/klesouef/meopar/nemo-forcing/rivers/rivers_cnst.nc','r')\n",
      "plotting = test.variables['rorunoff'][0,:,:]\n",
      "\n",
      "plt.figure(figsize=(9,9))\n",
      "plt.contourf(lon,lat,D,np.arange(0,420,30),cmap='cool')\n",
      "for i in range(0,898):\n",
      "    for j in range(0,398):\n",
      "        if plotting[i,j] > 0:\n",
      "            plt.plot(lon[i,j],lat[i,j],'m*')\n",
      "plt.colorbar()\n",
      "plt.ylabel('Latitude')\n",
      "plt.xlabel('Longitude')\n",
      "plt.title('Location of rivers included, with depth contours [m]')\n",
      "plt.savefig('river_locations.pdf')\n"
     ],
     "language": "python",
     "metadata": {},
     "outputs": []
    },
    {
     "cell_type": "code",
     "collapsed": false,
     "input": [],
     "language": "python",
     "metadata": {},
     "outputs": []
    }
   ],
   "metadata": {}
  }
 ]
}