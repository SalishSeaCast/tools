{
 "cells": [
  {
   "cell_type": "markdown",
   "id": "683ac2ee-32f8-4ab5-b812-6f037050df85",
   "metadata": {},
   "source": [
    "# Characterizing the Burrard Inlet Rivers"
   ]
  },
  {
   "cell_type": "code",
   "execution_count": 120,
   "id": "eabcc298-b89f-46ef-91ec-cdc6ee881f29",
   "metadata": {},
   "outputs": [],
   "source": [
    "import matplotlib.pyplot as plt\n",
    "import numpy as np\n",
    "import xarray as xr\n",
    "\n",
    "from salishsea_tools import viz_tools, geo_tools\n",
    "\n",
    "import yaml"
   ]
  },
  {
   "cell_type": "code",
   "execution_count": 21,
   "id": "d936c70f-8fbf-4116-9492-a321ea5c06e7",
   "metadata": {},
   "outputs": [],
   "source": [
    "bathyfile = '../../../grid/sss150/bathymetry_sss150_update202108210102AUM1.nc'\n",
    "coords = '../../../grid/sss150/coordinates_sss150_20210709.nc'"
   ]
  },
  {
   "cell_type": "code",
   "execution_count": 22,
   "id": "f055443b-baf3-4614-b754-3a1a067cef07",
   "metadata": {},
   "outputs": [],
   "source": [
    "bathy = xr.open_dataset(bathyfile)\n",
    "coord = xr.open_dataset(coords)\n",
    "bmask = bathy.Bathymetry == 0  # new tmask\n",
    "nnav_lon = coord.nav_lon[:]\n",
    "nnav_lat = coord.nav_lat[:]"
   ]
  },
  {
   "cell_type": "markdown",
   "id": "69799a2d-ac88-43d6-93b5-8ba806731fbf",
   "metadata": {},
   "source": [
    "Seymour River watershed area = 176 km2 https://www.pskf.ca/ecology/watershed/northvan/seymour.htm  \n",
    "Indian River approx 218 square kilometres in area Tseil-waututh integrated stewardship plan + 4.38 km2 nearby = 222 km2\n",
    "\n",
    "Major Watersheds: \n",
    "Capilano \n",
    "Indian\n",
    "\n",
    "UsingiMapBC at 1km resolution (aka top number on the scale is 1km)\n",
    "\n",
    "Medium Rivers\n",
    "Mackay Crk  10.11 km2\n",
    "Mosquito Creek 16.85 km2\n",
    "Lynn Creek 62.06 km2\n",
    "McCartney Creek   11.22 km2\n",
    "Francis Creek 8.75 km2\n",
    "Allan Creek 4.16 km2\n",
    "Percy Creek 6.34 km2\n",
    "Shone Creek 7.42 km2\n",
    "Elsay Creek 32.57 km2\n",
    "Grand Creek 8.72 + 15.81 km2 = 24.53 km2\n",
    "Lighthall Creek 7.87 km2\n",
    "Bunsen Lake : includes pretty much all the water from Coquitlam Lake and its watershed = 159.14+35.99+4.04 = 199.53 km2\n",
    "Sasamat Lake 6.60 + 0.87 km2 = 7.47 km2\n",
    "Mossum Creek 14.06 km2\n",
    "Noons Creek 6.25 km2\n",
    "\n",
    "Along the Coast\n",
    "A Port Moody 9.55 km2 + 3.59 km2 = 13.14 km2\n",
    "East of Burnaby Mountain 6.99 km2\n",
    "East of McGill point 10.83 km2\n",
    "Downtown 3.38 km2\n",
    "Lost Lagoon 2.57 km2\n"
   ]
  },
  {
   "cell_type": "code",
   "execution_count": 4,
   "id": "22f566e2-fcad-4444-808d-dd66c70fb7b5",
   "metadata": {},
   "outputs": [
    {
     "data": {
      "text/plain": [
       "845.1000000000001"
      ]
     },
     "execution_count": 4,
     "metadata": {},
     "output_type": "execute_result"
    }
   ],
   "source": [
    "Total_Area = (176 + 222 + 10.11 + 16.85 + 62.06 + 11.22 + 8.75 + 4.16 + 6.34 + 7.42 + 32.57 + 24.53 + 7.87 + \n",
    "              199.53 + 7.47 + 14.06 + 6.25 + 13.14 + 6.99 + 1.83 + 3.38 + 2.57)\n",
    "Total_Area"
   ]
  },
  {
   "cell_type": "code",
   "execution_count": 5,
   "id": "4dbe7ced-b079-43bd-9e63-44b9c5de5513",
   "metadata": {},
   "outputs": [
    {
     "data": {
      "text/plain": [
       "695.92"
      ]
     },
     "execution_count": 5,
     "metadata": {},
     "output_type": "execute_result"
    }
   ],
   "source": [
    "#Previous, first narrows area was\n",
    "prev_area = (23.16 + 20.66 + 10.38 + 10.24 +\n",
    "                           93.71 + 195.12 + 342.65)\n",
    "prev_area"
   ]
  },
  {
   "cell_type": "code",
   "execution_count": 6,
   "id": "4aa28e96-e7cd-4eb0-b9ed-d7cfaaa91bbc",
   "metadata": {},
   "outputs": [
    {
     "name": "stdout",
     "output_type": "stream",
     "text": [
      "149.18000000000018 199.53\n"
     ]
    }
   ],
   "source": [
    "print (Total_Area - prev_area, 199.53)"
   ]
  },
  {
   "cell_type": "code",
   "execution_count": null,
   "id": "47e50938-e500-4b6c-b17d-61494fbaa636",
   "metadata": {},
   "outputs": [],
   "source": [
    "So was missing Coquitlam.\n"
   ]
  },
  {
   "cell_type": "code",
   "execution_count": 10,
   "id": "bbaa1456-c139-4e75-afa9-10064206643a",
   "metadata": {},
   "outputs": [],
   "source": [
    "# from LocateRivers.ipynb\n",
    "TotalHoweNotSquamish = 736.39+357.87+398.38+82.58\n",
    "# Use 3600 km2 from Clague but that misses some. \n",
    "# Add 200 km2 to give 3800\n",
    "Squamish = 3800\n",
    "# and a total land part of watershed of 5375.22.** need to add 149 km2\n",
    "TotalHoweNotSquamish = 736.39+357.87+398.38+82.58 + 149.18\n",
    "# Note that Morrison Area is 6234 km2 including water\n",
    "Howe = TotalHoweNotSquamish + 3800\n",
    "# I'm going to assume Morrison treated Coquitlam as part of the Howe watershed, aka did it correct"
   ]
  },
  {
   "cell_type": "code",
   "execution_count": 11,
   "id": "2bd2856e-42fc-4e5b-aabe-fd043ff3adbc",
   "metadata": {},
   "outputs": [
    {
     "data": {
      "text/plain": [
       "0.6878575048874086"
      ]
     },
     "execution_count": 11,
     "metadata": {},
     "output_type": "execute_result"
    }
   ],
   "source": [
    "Squamish/Howe"
   ]
  },
  {
   "cell_type": "code",
   "execution_count": null,
   "id": "5cd63b7a-f676-450a-90ce-6cda4d529ddb",
   "metadata": {},
   "outputs": [],
   "source": [
    "def make_prop_dict(wc, rivers):\n",
    "    prop_dict = {}\n",
    "    ws = 'fraser'\n",
    "    prop_dict[ws] = {}\n",
    "    rivers = myrivers1a\n",
    "    for river in rivers:\n",
    "        prop_dict[ws][river] = {}\n",
    "        prop_dict[ws][river]['prop'] = 'entry'\n",
    "        prop_dict[ws][river]['i'] = rivers[river][2]\n",
    "        prop_dict[ws][river]['j'] = rivers[river][3]\n",
    "        prop_dict[ws][river]['di'] = 1\n",
    "        prop_dict[ws][river]['dj'] = 1\n",
    "        prop_dict[ws][river]['depth'] = 1\n",
    "    print (prop_dict)"
   ]
  },
  {
   "cell_type": "markdown",
   "id": "35fa818b-e6a0-47b7-aea9-9640665316ee",
   "metadata": {},
   "source": [
    "### Areas"
   ]
  },
  {
   "cell_type": "code",
   "execution_count": 151,
   "id": "563ee634-bc15-45e0-b4ac-e64e0bb8bf78",
   "metadata": {},
   "outputs": [],
   "source": [
    "areas = {'Mackay Creek':  10.11 ,# km2\n",
    "'Mosquito Creek': 16.85 ,#km2\n",
    "'Lynn Creek': 62.06 ,#km2\n",
    "'McCartney Creek':   11.22 ,#km2\n",
    "'Francis Creek': 8.75,# km2\n",
    "'Allan Creek': 4.16,# km2\n",
    "'Percy Creek': 6.34,# km2\n",
    "'Shone Creek': 7.42,# km2\n",
    "'Elsay Creek': 32.57,# km2\n",
    "'Grand Creek': 8.72 + 15.81,# km2 = 24.53 km2\n",
    "'Lighthall Creek': 7.87,# km2\n",
    "'Bunsen Lake':  #includes pretty much all the water from Coquitlam Lake and its watershed = \n",
    "         159.14+35.99+4.04,# = 199.53 km2\n",
    "'Sasamat Lake': 6.60 + 0.87,# km2 = 7.47 km2\n",
    "'Mossum Creek': 14.06,# km2\n",
    "'Noons Creek': 6.25,# km2\n",
    "\n",
    "'Seymour': 176, #km2\n",
    "'Indian': 222, #km2\n",
    "\n",
    "#Along the Coast\n",
    "'Port Moody': 9.55 + 3.59,#= 13.14 km2\n",
    "'Burnaby Mountain': 6.99,# km2\n",
    "'McGill Point': 10.83,# km2\n",
    "'Downtown': 3.38,# km2\n",
    "'Lost Lagoon': 2.57,# km2\n",
    "        }"
   ]
  },
  {
   "cell_type": "markdown",
   "id": "fdff5bc9-3f41-4ed2-9a7b-2ebc7d28f3bb",
   "metadata": {},
   "source": [
    "### Locations"
   ]
  },
  {
   "cell_type": "code",
   "execution_count": 140,
   "id": "c2ee96b4-ed16-49a6-9a52-769595b9dd28",
   "metadata": {},
   "outputs": [],
   "source": [
    "# Major Watersheds: \n",
    "locations = {'Seymour': [49.29664, -123.02245],\n",
    "\n",
    "'Indian': #multiple mouths: put it all across the top\n",
    "[49.46687791868848, -122.88436465257121],\n",
    "\n",
    "#Medium Rivers\n",
    "'Mackay Creek': [49.31418, -123.10268],\n",
    "             \n",
    "'Mosquito Creek': [49.31343, -123.09154],\n",
    "\n",
    "'Lynn Creek': [49.29893, -123.03936],\n",
    "\n",
    "'McCartney Creek': [49.30766, -122.99867],\n",
    "\n",
    "'Francis Creek': [49.33194, -122.93842],\n",
    "\n",
    "'Allan Creek': [49.34179, -122.91988],\n",
    "\n",
    "'Percy Creek': [49.35375, -122.90666],\n",
    "\n",
    "'Shone Creek': [49.37254, -122.89070],\n",
    "\n",
    "'Elsay Creek': [49.40751, -122.88486],\n",
    "\n",
    "'Grand Creek': [49.44960, -122.86186],\n",
    "\n",
    "'Lighthall Creek': [49.40829, -122.85963],\n",
    "\n",
    "'Bunsen Lake': [49.370406668339534, -122.87365984977869],\n",
    "                    \n",
    "'Sasamat Lake': [49.32255, -122.90495],\n",
    "\n",
    "'Mossum Creek': [49.29736, -122.86770],\n",
    "\n",
    "'Noons Creek': [49.28371, -122.83474],\n",
    "\n",
    "\n",
    "#Along the Coast\n",
    "'Port Moody': [49.28158, -122.85911],\n",
    "\n",
    "'Burnaby Mountain': [49.28807, -122.96125],\n",
    "\n",
    "'McGill Point': [49.29065, -123.03610],\n",
    "\n",
    "'Downtown': [49.28684, -123.11042],\n",
    "\n",
    "'Lost Lagoon': [49.29546, -123.13532],\n",
    "}"
   ]
  },
  {
   "cell_type": "code",
   "execution_count": 141,
   "id": "567becdb-b182-4973-895a-f158e38d494d",
   "metadata": {},
   "outputs": [
    {
     "data": {
      "text/plain": [
       "{'Seymour': [49.29664, -123.02245],\n",
       " 'Indian': [49.46687791868848, -122.88436465257121],\n",
       " 'Mackay Creek': [49.31418, -123.10268],\n",
       " 'Mosquito Creek': [49.31343, -123.09154],\n",
       " 'Lynn Creek': [49.29893, -123.03936],\n",
       " 'McCartney Creek': [49.30766, -122.99867],\n",
       " 'Francis Creek': [49.33194, -122.93842],\n",
       " 'Allan Creek': [49.34179, -122.91988],\n",
       " 'Percy Creek': [49.35375, -122.90666],\n",
       " 'Shone Creek': [49.37254, -122.8907],\n",
       " 'Elsay Creek': [49.40751, -122.88486],\n",
       " 'Grand Creek': [49.4496, -122.86186],\n",
       " 'Lighthall Creek': [49.40829, -122.85963],\n",
       " 'Bunsen Lake': [49.370406668339534, -122.87365984977869],\n",
       " 'Sasamat Lake': [49.32255, -122.90495],\n",
       " 'Mossum Creek': [49.29736, -122.8677],\n",
       " 'Noons Creek': [49.28371, -122.83474],\n",
       " 'Port Moody': [49.28158, -122.85911],\n",
       " 'Burnaby Mountain': [49.28807, -122.96125],\n",
       " 'McGill Point': [49.29065, -123.0361],\n",
       " 'Downtown': [49.28684, -123.11042],\n",
       " 'Lost Lagoon': [49.29546, -123.13532]}"
      ]
     },
     "execution_count": 141,
     "metadata": {},
     "output_type": "execute_result"
    }
   ],
   "source": [
    "locations"
   ]
  },
  {
   "cell_type": "code",
   "execution_count": 25,
   "id": "490528c0-1cdc-40ef-9070-3bd31b612202",
   "metadata": {},
   "outputs": [],
   "source": [
    "def plot_newrivers(ax, nav_lon, nav_lat, fixed_rivers, bynumber=False):\n",
    "    if bynumber:\n",
    "        for river in fixed_rivers:\n",
    "            xx = 0.5 * (nav_lon[fixed_rivers[river][2], fixed_rivers[river][3]] +\n",
    "                            nav_lon[fixed_rivers[river][2]+1, fixed_rivers[river][3]+1])\n",
    "            yy = 0.5 * (nav_lat[fixed_rivers[river][2], fixed_rivers[river][3]] +\n",
    "                            nav_lat[fixed_rivers[river][2]+1, fixed_rivers[river][3]+1])            \n",
    "            ax.plot(xx, yy, 'c+')\n",
    "    else:\n",
    "        for river in fixed_rivers:\n",
    "            xx = 0.5 * (nav_lon[fixed_rivers[river]['i'], fixed_rivers[river]['j']] +\n",
    "                            nav_lon[fixed_rivers[river]['i']+1, fixed_rivers[river]['j']+1])\n",
    "            yy = 0.5 * (nav_lat[fixed_rivers[river]['i'], fixed_rivers[river]['j']] +\n",
    "                            nav_lat[fixed_rivers[river]['i']+1, fixed_rivers[river]['j']+1])            \n",
    "            ax.plot(xx, yy, 'c+')\n",
    "        "
   ]
  },
  {
   "cell_type": "code",
   "execution_count": 26,
   "id": "ac35554c-21ad-49fa-b57e-f0755ec7f62b",
   "metadata": {},
   "outputs": [],
   "source": [
    "def plot_newrivers_index(ax, fixed_rivers, bynumber=False):\n",
    "    if bynumber:\n",
    "        for river in fixed_rivers:\n",
    "            xx = fixed_rivers[river][3] + 0.5\n",
    "            yy = fixed_rivers[river][2] + 0.5            \n",
    "            ax.plot(xx, yy, 'c*')\n",
    "    else:\n",
    "        for river in fixed_rivers:\n",
    "            xx = fixed_rivers[river]['j'] + 0.5\n",
    "            yy = fixed_rivers[river]['i'] + 0.5            \n",
    "            ax.plot(xx, yy, 'c*')"
   ]
  },
  {
   "cell_type": "code",
   "execution_count": 142,
   "id": "e0fdcece-63eb-44ad-b8de-a9778edd3bcc",
   "metadata": {},
   "outputs": [
    {
     "name": "stdout",
     "output_type": "stream",
     "text": [
      "Seymour 359 292\n",
      "Indian 557 357\n",
      "Mackay Creek 374 247\n",
      "Mosquito Creek 373 252\n",
      "Lynn Creek 361 282\n",
      "McCartney Creek 373 304\n",
      "Francis Creek 403 336\n",
      "Allan Creek 415 346\n",
      "Percy Creek 429 353\n",
      "Shone Creek 451 361\n",
      "Elsay Creek 491 362\n",
      "Grand Creek 540 371\n",
      "Lighthall Creek 493 375\n",
      "Bunsen Lake 449 370\n",
      "Sasamat Lake 396 355\n",
      "Mossum Creek 369 378\n",
      "Noons Creek 356 397\n",
      "Port Moody 352 384\n",
      "Burnaby Mountain 353 327\n",
      "McGill Point 352 285\n",
      "Downtown 343 243\n",
      "Lost Lagoon 352 229\n",
      "{'Seymour': [49.29664, -123.02245, 367, 290], 'Indian': [49.46687791868848, -122.88436465257121, 559, 355], 'Mackay Creek': [49.31418, -123.10268, 373, 247], 'Mosquito Creek': [49.31343, -123.09154, 374, 253], 'Lynn Creek': [49.29893, -123.03936, 361, 283], 'McCartney Creek': [49.30766, -122.99867, 373, 304], 'Francis Creek': [49.33194, -122.93842, 403, 336], 'Allan Creek': [49.34179, -122.91988, 416, 346], 'Percy Creek': [49.35375, -122.90666, 429, 352], 'Shone Creek': [49.37254, -122.8907, 451, 361], 'Elsay Creek': [49.40751, -122.88486, 492, 361], 'Grand Creek': [49.4496, -122.86186, 540, 371], 'Lighthall Creek': [49.40829, -122.85963, 493, 375], 'Bunsen Lake': [49.370406668339534, -122.87365984977869, 449, 370], 'Sasamat Lake': [49.32255, -122.90495, 396, 355], 'Mossum Creek': [49.29736, -122.8677, 370, 378], 'Noons Creek': [49.28371, -122.83474, 356, 397], 'Port Moody': [49.28158, -122.85911, 352, 382], 'Burnaby Mountain': [49.28807, -122.96125, 353, 327], 'McGill Point': [49.29065, -123.0361, 351, 285], 'Downtown': [49.28684, -123.11042, 343, 243], 'Lost Lagoon': [49.29546, -123.13532, 352, 229], 'Indian 2': [nan, nan, 560, 356], 'Indian 3': [nan, nan, 561, 356], 'Indian 4': [nan, nan, 563, 357], 'Indian 5': [nan, nan, 564, 357]}\n"
     ]
    }
   ],
   "source": [
    "with_coords = locations\n",
    "for river in locations:\n",
    "    yy, xx = geo_tools.find_closest_model_point(locations[river][1], locations[river][0], \n",
    "                                              bathy.nav_lon[:], bathy.nav_lat[:], land_mask=bmask)\n",
    "    print (river, yy, xx)\n",
    "    with_coords[river] = [locations[river][0], locations[river][1], yy, xx]\n",
    "# Hand corrections\n",
    "with_coords['Mackay Creek'][2] = with_coords['Mackay Creek'][2] - 1\n",
    "with_coords['Mosquito Creek'][2] = with_coords['Mosquito Creek'][2] + 1\n",
    "with_coords['Mosquito Creek'][3] = with_coords['Mosquito Creek'][3] + 1\n",
    "with_coords['Lynn Creek'][3] = with_coords['Lynn Creek'][3] + 1\n",
    "with_coords['Seymour'][2] = 367\n",
    "with_coords['Seymour'][3] = 290\n",
    "with_coords['McGill Point'][2] = with_coords['McGill Point'][2] - 1\n",
    "with_coords['Mossum Creek'][2] = with_coords['Mossum Creek'][2] + 1\n",
    "with_coords['Port Moody'][2] = 352\n",
    "with_coords['Port Moody'][3] = 382\n",
    "with_coords['Allan Creek'][2] = with_coords['Allan Creek'][2] + 1\n",
    "with_coords['Percy Creek'][3] = with_coords['Percy Creek'][3] - 1\n",
    "with_coords['Elsay Creek'][2] = with_coords['Elsay Creek'][2] + 1\n",
    "with_coords['Elsay Creek'][3] = with_coords['Elsay Creek'][3] - 1\n",
    "with_coords['Indian'][2] = 559\n",
    "with_coords['Indian'][3] = 355\n",
    "with_coords['Indian 2'] = [np.nan, np.nan, 560, 356]\n",
    "with_coords['Indian 3'] = [np.nan, np.nan, 561, 356] # dj = 2\n",
    "with_coords['Indian 4'] = [np.nan, np.nan, 563, 357]\n",
    "with_coords['Indian 5'] = [np.nan, np.nan, 564, 357] # dj = 2\n",
    "print (with_coords)"
   ]
  },
  {
   "cell_type": "code",
   "execution_count": 133,
   "id": "b33171d1-ac12-49ef-9012-b35d88b16c39",
   "metadata": {},
   "outputs": [
    {
     "data": {
      "image/png": "[encoded data removed]",
      "text/plain": [
       "<Figure size 1080x648 with 2 Axes>"
      ]
     },
     "metadata": {
      "needs_background": "light"
     },
     "output_type": "display_data"
    }
   ],
   "source": [
    "fig, axs = plt.subplots(1, 2, figsize=(15, 9))\n",
    "\n",
    "axs[0].pcolormesh(nnav_lon, nnav_lat, bmask[:-1, :-1])\n",
    "axs[1].pcolormesh(bmask)\n",
    "\n",
    "plot_newrivers(axs[0], nnav_lon, nnav_lat, with_coords, bynumber=True)\n",
    "\n",
    "axs[0].set_xlim(-123.2, -122.8)\n",
    "axs[0].set_ylim(49.2, 49.5)\n",
    "viz_tools.set_aspect(axs[0], coords='map')\n",
    "\n",
    "plot_newrivers_index(axs[1], with_coords, bynumber=True)\n",
    "\n",
    "axs[1].set_xlim(150, 450)\n",
    "axs[1].set_ylim(300, 600)\n",
    "axs[1].set_aspect(0.7);"
   ]
  },
  {
   "cell_type": "code",
   "execution_count": 138,
   "id": "3ffabef4-35c1-4fbf-8b2b-27dacc0d7885",
   "metadata": {},
   "outputs": [
    {
     "data": {
      "image/png": "[encoded data removed]",
      "text/plain": [
       "<Figure size 1080x648 with 2 Axes>"
      ]
     },
     "metadata": {
      "needs_background": "light"
     },
     "output_type": "display_data"
    }
   ],
   "source": [
    "fig, axs = plt.subplots(1, 2, figsize=(15, 9))\n",
    "\n",
    "axs[0].pcolormesh(nnav_lon, nnav_lat, bmask[:-1, :-1])\n",
    "axs[1].pcolormesh(bmask)\n",
    "\n",
    "plot_newrivers(axs[0], nnav_lon, nnav_lat, with_coords, bynumber=True)\n",
    "\n",
    "axs[0].set_xlim(-123.15, -123.06)\n",
    "axs[0].set_ylim(49.25, 49.35)\n",
    "viz_tools.set_aspect(axs[0], coords='map')\n",
    "\n",
    "plot_newrivers_index(axs[1], with_coords, bynumber=True)\n",
    "\n",
    "axs[1].set_xlim(220, 280)\n",
    "axs[1].set_ylim(300, 400)\n",
    "axs[1].set_aspect(0.7);"
   ]
  },
  {
   "cell_type": "markdown",
   "id": "9eb68653-0d78-44dd-a6da-27bd09339ab7",
   "metadata": {},
   "source": [
    "Like: Lost Lagoon, downtown  \n",
    "Move Mosquito Creek +1, +1 Done\n",
    "Move MacKay -1 in y"
   ]
  },
  {
   "cell_type": "code",
   "execution_count": 61,
   "id": "77be07a7-98d0-4eda-8e9f-1217e40317e1",
   "metadata": {},
   "outputs": [
    {
     "data": {
      "image/png": "[encoded data removed]",
      "text/plain": [
       "<Figure size 1080x648 with 2 Axes>"
      ]
     },
     "metadata": {
      "needs_background": "light"
     },
     "output_type": "display_data"
    }
   ],
   "source": [
    "fig, axs = plt.subplots(1, 2, figsize=(15, 9))\n",
    "\n",
    "axs[0].pcolormesh(nnav_lon, nnav_lat, bmask[:-1, :-1])\n",
    "axs[1].pcolormesh(bmask)\n",
    "\n",
    "plot_newrivers(axs[0], nnav_lon, nnav_lat, with_coords, bynumber=True)\n",
    "\n",
    "axs[0].set_xlim(-123.06, -123.0)\n",
    "axs[0].set_ylim(49.27, 49.32)\n",
    "viz_tools.set_aspect(axs[0], coords='map')\n",
    "\n",
    "plot_newrivers_index(axs[1], with_coords, bynumber=True)\n",
    "\n",
    "axs[0].plot(-123.03848, 49.30240, 'ro')\n",
    "#axs[1].plot(290+0.5, 367+0.5, 'ro')\n",
    "\n",
    "\n",
    "axs[1].set_xlim(280, 310)\n",
    "axs[1].set_ylim(340, 400)\n",
    "axs[1].set_aspect(0.7);"
   ]
  },
  {
   "cell_type": "markdown",
   "id": "e2ae3057-12cf-4c22-ae45-ba4a8c43623d",
   "metadata": {},
   "source": [
    "Lynn Creek: in one: 0, +1 weird shape but okay  \n",
    "Seymour River: 367, 290  \n",
    "McGill Point, into coast: -1, 0  \n",
    "done\n"
   ]
  },
  {
   "cell_type": "code",
   "execution_count": 65,
   "id": "f7ded9f4-dcb9-415a-9ca1-4ca5290e76bb",
   "metadata": {},
   "outputs": [
    {
     "data": {
      "image/png": "[encoded data removed]",
      "text/plain": [
       "<Figure size 1080x648 with 2 Axes>"
      ]
     },
     "metadata": {
      "needs_background": "light"
     },
     "output_type": "display_data"
    }
   ],
   "source": [
    "fig, axs = plt.subplots(1, 2, figsize=(15, 9))\n",
    "\n",
    "axs[0].pcolormesh(nnav_lon, nnav_lat, bmask[:-1, :-1])\n",
    "axs[1].pcolormesh(bmask)\n",
    "\n",
    "plot_newrivers(axs[0], nnav_lon, nnav_lat, with_coords, bynumber=True)\n",
    "\n",
    "axs[0].set_xlim(-123.0, -122.94)\n",
    "axs[0].set_ylim(49.27, 49.32)\n",
    "viz_tools.set_aspect(axs[0], coords='map')\n",
    "\n",
    "plot_newrivers_index(axs[1], with_coords, bynumber=True)\n",
    "\n",
    "axs[0].plot(-123.03848, 49.30240, 'ro')\n",
    "#axs[1].plot(290+0.5, 367+0.5, 'ro')\n",
    "\n",
    "\n",
    "axs[1].set_xlim(300, 350)\n",
    "axs[1].set_ylim(340, 400)\n",
    "axs[1].set_aspect(0.7);"
   ]
  },
  {
   "cell_type": "markdown",
   "id": "7740b241-806b-49db-ab87-23bfa58560e3",
   "metadata": {},
   "source": [
    "McCartney Creek  looks good  \n",
    "Burnaby Mountain looks good"
   ]
  },
  {
   "cell_type": "code",
   "execution_count": 75,
   "id": "c396dd8e-310c-43df-8037-4a749ab4778a",
   "metadata": {},
   "outputs": [
    {
     "data": {
      "image/png": "[encoded data removed]",
      "text/plain": [
       "<Figure size 1080x648 with 2 Axes>"
      ]
     },
     "metadata": {
      "needs_background": "light"
     },
     "output_type": "display_data"
    }
   ],
   "source": [
    "fig, axs = plt.subplots(1, 2, figsize=(15, 9))\n",
    "\n",
    "axs[0].pcolormesh(nnav_lon, nnav_lat, bmask[:-1, :-1])\n",
    "axs[1].pcolormesh(bmask)\n",
    "\n",
    "plot_newrivers(axs[0], nnav_lon, nnav_lat, with_coords, bynumber=True)\n",
    "\n",
    "axs[0].set_xlim(-122.907, -122.85)\n",
    "axs[0].set_ylim(49.275, 49.33)\n",
    "viz_tools.set_aspect(axs[0], coords='map')\n",
    "\n",
    "plot_newrivers_index(axs[1], with_coords, bynumber=True)\n",
    "\n",
    "axs[0].plot(-123.03848, 49.30240, 'ro')\n",
    "#axs[1].plot(382+0.5, 352+0.5, 'ro')\n",
    "\n",
    "\n",
    "axs[1].set_xlim(345, 395)\n",
    "axs[1].set_ylim(345, 410)\n",
    "axs[1].set_aspect(0.7);"
   ]
  },
  {
   "cell_type": "markdown",
   "id": "30ed6098-999f-43d5-bb10-9feafd6fe7be",
   "metadata": {},
   "source": [
    "Sasamat looks good  \n",
    "Mossum Creek needs to tuck in: +1, 0  \n",
    "Port Moody 382 352  "
   ]
  },
  {
   "cell_type": "code",
   "execution_count": 77,
   "id": "71546855-e689-4152-930d-08b11961f820",
   "metadata": {},
   "outputs": [
    {
     "data": {
      "image/png": "[encoded data removed]",
      "text/plain": [
       "<Figure size 1080x648 with 2 Axes>"
      ]
     },
     "metadata": {
      "needs_background": "light"
     },
     "output_type": "display_data"
    }
   ],
   "source": [
    "fig, axs = plt.subplots(1, 2, figsize=(15, 9))\n",
    "\n",
    "axs[0].pcolormesh(nnav_lon, nnav_lat, bmask[:-1, :-1])\n",
    "axs[1].pcolormesh(bmask)\n",
    "\n",
    "plot_newrivers(axs[0], nnav_lon, nnav_lat, with_coords, bynumber=True)\n",
    "\n",
    "axs[0].set_xlim(-122.85, -122.75)\n",
    "axs[0].set_ylim(49.275, 49.33)\n",
    "viz_tools.set_aspect(axs[0], coords='map')\n",
    "\n",
    "plot_newrivers_index(axs[1], with_coords, bynumber=True)\n",
    "\n",
    "axs[0].plot(-123.03848, 49.30240, 'ro')\n",
    "#axs[1].plot(382+0.5, 352+0.5, 'ro')\n",
    "\n",
    "\n",
    "axs[1].set_xlim(395, 445)\n",
    "axs[1].set_ylim(345, 410)\n",
    "axs[1].set_aspect(0.7);"
   ]
  },
  {
   "cell_type": "markdown",
   "id": "efab6e88-788f-47d2-9fe9-856bb11a9f74",
   "metadata": {},
   "source": [
    "Noon's Creek looks fine."
   ]
  },
  {
   "cell_type": "code",
   "execution_count": 89,
   "id": "7b9b1ebd-5f3f-41bb-aaa6-f0b9e5ca5d35",
   "metadata": {},
   "outputs": [
    {
     "data": {
      "image/png": "[encoded data removed]",
      "text/plain": [
       "<Figure size 1080x648 with 2 Axes>"
      ]
     },
     "metadata": {
      "needs_background": "light"
     },
     "output_type": "display_data"
    }
   ],
   "source": [
    "fig, axs = plt.subplots(1, 2, figsize=(15, 9))\n",
    "\n",
    "axs[0].pcolormesh(nnav_lon, nnav_lat, bmask[:-1, :-1])\n",
    "axs[1].pcolormesh(bmask)\n",
    "\n",
    "plot_newrivers(axs[0], nnav_lon, nnav_lat, with_coords, bynumber=True)\n",
    "\n",
    "axs[0].set_xlim(-122.96, -122.88)\n",
    "axs[0].set_ylim(49.3, 49.37)\n",
    "viz_tools.set_aspect(axs[0], coords='map')\n",
    "\n",
    "plot_newrivers_index(axs[1], with_coords, bynumber=True)\n",
    "\n",
    "axs[0].plot(-123.03848, 49.30240, 'ro')\n",
    "#axs[1].plot(382+0.5, 352+0.5, 'ro')\n",
    "\n",
    "\n",
    "axs[1].set_xlim(320, 370)\n",
    "axs[1].set_ylim(370, 440)\n",
    "axs[1].set_aspect(0.7);"
   ]
  },
  {
   "cell_type": "markdown",
   "id": "4046bf75-9ade-4f85-a72b-d66c29960b35",
   "metadata": {},
   "source": [
    "Francis Creek  looks good  \n",
    "Allan Creek  +1, 0 to tuck it in  \n",
    "Percy Creek  0, -1 to tuck it in    done  "
   ]
  },
  {
   "cell_type": "code",
   "execution_count": 96,
   "id": "9fcc0152-ec29-46d9-a862-b5ea7af74dec",
   "metadata": {},
   "outputs": [
    {
     "data": {
      "image/png": "[encoded data removed]",
      "text/plain": [
       "<Figure size 1080x648 with 2 Axes>"
      ]
     },
     "metadata": {
      "needs_background": "light"
     },
     "output_type": "display_data"
    }
   ],
   "source": [
    "fig, axs = plt.subplots(1, 2, figsize=(15, 9))\n",
    "\n",
    "axs[0].pcolormesh(nnav_lon, nnav_lat, bmask[:-1, :-1])\n",
    "axs[1].pcolormesh(bmask)\n",
    "\n",
    "plot_newrivers(axs[0], nnav_lon, nnav_lat, with_coords, bynumber=True)\n",
    "\n",
    "axs[0].set_xlim(-122.9, -122.82)\n",
    "axs[0].set_ylim(49.365, 49.44)\n",
    "viz_tools.set_aspect(axs[0], coords='map')\n",
    "\n",
    "plot_newrivers_index(axs[1], with_coords, bynumber=True)\n",
    "\n",
    "axs[0].plot(-123.03848, 49.30240, 'ro')\n",
    "#axs[1].plot(382+0.5, 352+0.5, 'ro')\n",
    "\n",
    "\n",
    "axs[1].set_xlim(355, 405)\n",
    "axs[1].set_ylim(440, 510)\n",
    "axs[1].set_aspect(0.7);"
   ]
  },
  {
   "cell_type": "markdown",
   "id": "fe395a69-3cae-49e5-bc6e-f50848294561",
   "metadata": {},
   "source": [
    "Shone Creek 451 361  looks good   \n",
    "Elsay Creek 491 362  tuck it in +1, -1  \n",
    "Lighthall Creek 493 375  looks good  \n",
    "Bunsen Lake 449 370   looks good   done  "
   ]
  },
  {
   "cell_type": "code",
   "execution_count": 119,
   "id": "002e3c13-f679-4af4-86ba-807655709d9f",
   "metadata": {},
   "outputs": [
    {
     "data": {
      "image/png": "[encoded data removed]",
      "text/plain": [
       "<Figure size 1080x648 with 2 Axes>"
      ]
     },
     "metadata": {
      "needs_background": "light"
     },
     "output_type": "display_data"
    }
   ],
   "source": [
    "fig, axs = plt.subplots(1, 2, figsize=(15, 9))\n",
    "\n",
    "axs[0].pcolormesh(nnav_lon, nnav_lat, bmask[:-1, :-1])\n",
    "axs[1].pcolormesh(bmask)\n",
    "\n",
    "plot_newrivers(axs[0], nnav_lon, nnav_lat, with_coords, bynumber=True)\n",
    "\n",
    "axs[0].set_xlim(-122.895, -122.84)\n",
    "axs[0].set_ylim(49.435, 49.48)\n",
    "viz_tools.set_aspect(axs[0], coords='map')\n",
    "\n",
    "plot_newrivers_index(axs[1], with_coords, bynumber=True)\n",
    "\n",
    "axs[0].plot(-123.03848, 49.30240, 'ro')\n",
    "#axs[1].plot(355+0.5, 559+0.5, 'ro')\n",
    "#axs[1].plot(356+0.5, 560+0.5, 'ro')\n",
    "#axs[1].plot(356+0.5, 561+0.5, 'ro')\n",
    "#axs[1].plot(357+0.5, 561+0.5, 'ro')\n",
    "#axs[1].plot(357+0.5, 563+0.5, 'ro')\n",
    "#axs[1].plot(357+0.5, 564+0.5, 'ro')\n",
    "#axs[1].plot(358+0.5, 564+0.5, 'ro')\n",
    "\n",
    "\n",
    "axs[1].set_xlim(335, 385)\n",
    "axs[1].set_ylim(510, 580)\n",
    "axs[1].set_aspect(0.7);"
   ]
  },
  {
   "cell_type": "markdown",
   "id": "5f6e601e-dfcf-49c9-9a9a-739e87fe2fe5",
   "metadata": {},
   "source": [
    "Grand Creek  very nice  \n",
    "Indian Arm 7 parts: 355, 559  \n",
    "356, 560  \n",
    "356, 561 and 357, 561  \n",
    "357, 563  \n",
    "357, 564 and 358, 564  done: note the double values are not showing here. "
   ]
  },
  {
   "cell_type": "code",
   "execution_count": 154,
   "id": "5e35f375-df8a-4285-abb6-d60bf4cab3cc",
   "metadata": {},
   "outputs": [],
   "source": [
    "with open('Inside_First_Narrows_Locations.yaml', 'w') as file:\n",
    "        yaml.dump(with_coords, file)"
   ]
  },
  {
   "cell_type": "code",
   "execution_count": 155,
   "id": "85b6c77c-6461-4fad-a852-7bac7f60a31b",
   "metadata": {},
   "outputs": [],
   "source": [
    "with open('Inside_First_Narrows_Areas.yaml', 'w') as file:\n",
    "        yaml.dump(areas, file)"
   ]
  },
  {
   "cell_type": "code",
   "execution_count": 156,
   "id": "361f0ce1-be41-4de9-aa08-da9989ca0fb9",
   "metadata": {},
   "outputs": [],
   "source": [
    "proportion = {}\n",
    "for river in areas:\n",
    "    proportion[river] = areas[river]/(5372.22 + 149.18)\n",
    "with open('Inside_First_Narrows_Proportions.yaml', 'w') as file:\n",
    "        yaml.dump(proportion, file)"
   ]
  },
  {
   "cell_type": "code",
   "execution_count": 152,
   "id": "344f6c41-38e3-4699-8ee8-8f8542e65b0a",
   "metadata": {},
   "outputs": [
    {
     "name": "stdout",
     "output_type": "stream",
     "text": [
      "Mackay Creek\n",
      "Mosquito Creek\n",
      "Lynn Creek\n",
      "McCartney Creek\n",
      "Francis Creek\n",
      "Allan Creek\n",
      "Percy Creek\n",
      "Shone Creek\n",
      "Elsay Creek\n",
      "Grand Creek\n",
      "Lighthall Creek\n",
      "Bunsen Lake\n",
      "Sasamat Lake\n",
      "Mossum Creek\n",
      "Noons Creek\n",
      "Seymour\n",
      "Indian\n",
      "Port Moody\n",
      "Burnaby Mountain\n",
      "McGill Point\n",
      "Downtown\n",
      "Lost Lagoon\n"
     ]
    }
   ],
   "source": [
    "for river in areas:\n",
    "    print (river)\n",
    "    if river not in with_coords:\n",
    "        print ('missing in coords')"
   ]
  },
  {
   "cell_type": "code",
   "execution_count": null,
   "id": "c873bf41-7c5b-4604-8793-1010d1b69eb5",
   "metadata": {},
   "outputs": [],
   "source": []
  },
  {
   "cell_type": "code",
   "execution_count": null,
   "id": "21668979-d82b-4c8d-955d-7c4f1aea0883",
   "metadata": {},
   "outputs": [],
   "source": [
    "Seymour missing!!!"
   ]
  },
  {
   "cell_type": "code",
   "execution_count": 153,
   "id": "d2dc29b7-bd40-435b-abf5-1d0bab253ff4",
   "metadata": {},
   "outputs": [
    {
     "name": "stdout",
     "output_type": "stream",
     "text": [
      "Seymour\n",
      "Indian\n",
      "Mackay Creek\n",
      "Mosquito Creek\n",
      "Lynn Creek\n",
      "McCartney Creek\n",
      "Francis Creek\n",
      "Allan Creek\n",
      "Percy Creek\n",
      "Shone Creek\n",
      "Elsay Creek\n",
      "Grand Creek\n",
      "Lighthall Creek\n",
      "Bunsen Lake\n",
      "Sasamat Lake\n",
      "Mossum Creek\n",
      "Noons Creek\n",
      "Port Moody\n",
      "Burnaby Mountain\n",
      "McGill Point\n",
      "Downtown\n",
      "Lost Lagoon\n",
      "Indian 2\n",
      "missing in areas\n",
      "Indian 3\n",
      "missing in areas\n",
      "Indian 4\n",
      "missing in areas\n",
      "Indian 5\n",
      "missing in areas\n"
     ]
    }
   ],
   "source": [
    "for river in with_coords:\n",
    "    print (river)\n",
    "    if river not in areas:\n",
    "        print ('missing in areas')"
   ]
  },
  {
   "cell_type": "code",
   "execution_count": null,
   "id": "d6678d8f-8227-4e10-9769-07d98d95ce26",
   "metadata": {},
   "outputs": [],
   "source": []
  }
 ],
 "metadata": {
  "kernelspec": {
   "display_name": "py39",
   "language": "python",
   "name": "py39"
  },
  "language_info": {
   "codemirror_mode": {
    "name": "ipython",
    "version": 3
   },
   "file_extension": ".py",
   "mimetype": "text/x-python",
   "name": "python",
   "nbconvert_exporter": "python",
   "pygments_lexer": "ipython3",
   "version": "3.9.2"
  }
 },
 "nbformat": 4,
 "nbformat_minor": 5
}
