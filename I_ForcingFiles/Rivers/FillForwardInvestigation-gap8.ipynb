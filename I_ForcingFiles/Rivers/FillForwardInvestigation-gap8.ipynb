{
 "cells": [
  {
   "cell_type": "code",
   "execution_count": 1,
   "id": "4dff7aff-6f3f-4a06-b86e-846ee7a8659e",
   "metadata": {},
   "outputs": [],
   "source": [
    "# Fit Forward, 7 day gap"
   ]
  },
  {
   "cell_type": "code",
   "execution_count": 2,
   "id": "3f56af5d-5469-45bc-a6af-8db92e9953aa",
   "metadata": {},
   "outputs": [],
   "source": [
    "import datetime as datetime\n",
    "import matplotlib.pyplot as plt\n",
    "import numpy as np\n",
    "from numpy.polynomial.polynomial import polyfit\n",
    "import pandas as pd\n",
    "import random"
   ]
  },
  {
   "cell_type": "code",
   "execution_count": 3,
   "id": "61614cfb-23e9-484b-85ff-55bf5f69b716",
   "metadata": {},
   "outputs": [],
   "source": [
    "maindir = '/results/forcing/rivers/observations/'\n",
    "origdir = '/data/dlatorne/SOG-projects/SOG-forcing/ECget/'\n",
    "def getdir(river_name):\n",
    "    if river_name in ['Fraser', 'Englishman']:\n",
    "        thedir = origdir\n",
    "    else:\n",
    "        thedir = maindir\n",
    "    return (thedir)"
   ]
  },
  {
   "cell_type": "code",
   "execution_count": 4,
   "id": "d59a50ef-3e7c-4d11-98ae-9c73ed144bae",
   "metadata": {},
   "outputs": [],
   "source": [
    "def read_river(river_name, ps):\n",
    "    thedir = getdir(river_name)\n",
    "    river_flow = pd.read_csv(f'{thedir}/{river_name}_flow', header=None, sep='\\s+', index_col=False,\n",
    "                      names=['year', 'month', 'day', 'flow'])\n",
    "    river_flow['date'] = pd.to_datetime(river_flow.drop(columns='flow'))\n",
    "    river_flow.set_index('date', inplace=True)\n",
    "    river_flow = river_flow.drop(columns=['year', 'month', 'day'])\n",
    "    if ps == 'primary':\n",
    "        river_flow = river_flow.rename(columns={'flow': 'Primary River Flow'})\n",
    "    elif ps == 'secondary':\n",
    "        river_flow = river_flow.rename(columns={'flow': 'Secondary River Flow'})\n",
    "    return river_flow"
   ]
  },
  {
   "cell_type": "code",
   "execution_count": 5,
   "id": "2e5bdf57-fa04-400d-b28a-a7a6492a61e9",
   "metadata": {},
   "outputs": [],
   "source": [
    "def read_river_Theodosia(set_primary=False):\n",
    "    if set_primary:\n",
    "        nameit = 'Primary River Flow'\n",
    "    else:\n",
    "        nameit = 'Secondary River Flow'\n",
    "    part1 = pd.read_csv(f'{maindir}/Theodosia_Scotty_flow', header=None, sep='\\s+', index_col=False,\n",
    "                      names=['year', 'month', 'day', 'flow'])\n",
    "    part2 = pd.read_csv(f'{maindir}/Theodosia_Bypass_flow', header=None, sep='\\s+', index_col=False,\n",
    "                      names=['year', 'month', 'day', 'flow'])\n",
    "    part3 = pd.read_csv(f'{maindir}/Theodosia_Diversion_flow', header=None, sep='\\s+', index_col=False,\n",
    "                      names=['year', 'month', 'day', 'flow'])\n",
    "    for part in [part1, part2, part3]:\n",
    "        part['date'] = pd.to_datetime(part.drop(columns='flow'))\n",
    "        part.set_index('date', inplace=True)\n",
    "        part.drop(columns=['year', 'month', 'day'], inplace=True)\n",
    "    part1 = part1.rename(columns={'flow': 'Scotty'})\n",
    "    part2 = part2.rename(columns={'flow': 'Bypass'})\n",
    "    part3 = part3.rename(columns={'flow': 'Diversion'})\n",
    "    theodosia = (part3.merge(part2, how='inner', on='date')).merge(part1, how='inner', on='date')\n",
    "    theodosia[nameit] = theodosia['Scotty'] + theodosia['Diversion'] - theodosia['Bypass']\n",
    "    part3['FlowFromDiversion'] = part3.Diversion * theodosia_from_diversion_only\n",
    "    theodosia = theodosia.merge(part3, how='outer', on='date', sort=True)\n",
    "    theodosia[nameit] = theodosia[nameit].fillna(\n",
    "        theodosia['FlowFromDiversion'])\n",
    "    return theodosia"
   ]
  },
  {
   "cell_type": "code",
   "execution_count": 6,
   "id": "d949555f-dc1d-44fe-82c3-336b715bba5a",
   "metadata": {},
   "outputs": [],
   "source": [
    "matching_dictionary = {'Englishman': 'Salmon_Sayward',\n",
    "                      'Theodosia': 'Clowhom_ClowhomLake',\n",
    "                      'RobertsCreek': 'Englishman',\n",
    "                      'Salmon_Sayward': 'Englishman',\n",
    "                      'Squamish_Brackendale': 'Homathko_Mouth',\n",
    "                      'SanJuan_PortRenfrew': 'Englishman',\n",
    "                      'Nisqually_McKenna': 'Snohomish_Monroe',\n",
    "                      'Snohomish_Monroe': 'Skagit_MountVernon',\n",
    "                      'Skagit_MountVernon': 'Snohomish_Monroe',\n",
    "                      'Homathko_Mouth': 'Squamish_Brackendale',\n",
    "                      'Nicomekl_Langley': 'RobertsCreek',\n",
    "                      'Greenwater_Greenwater': 'Snohomish_Monroe',\n",
    "                      'Clowhom_ClowhomLake': 'Theodosia_Diversion'}\n",
    "backup_dictionary = {'SanJuan_PortRenfrew': 'RobertsCreek',\n",
    "                    'Theodosia': 'Englishman'}\n",
    "\n",
    "theodosia_from_diversion_only = 1.429 # see TheodosiaWOScotty"
   ]
  },
  {
   "cell_type": "code",
   "execution_count": 7,
   "id": "6a792d25-2220-4c02-aba0-eb1188fb391b",
   "metadata": {},
   "outputs": [],
   "source": [
    "gap_length = 8"
   ]
  },
  {
   "cell_type": "code",
   "execution_count": 8,
   "id": "48fb9eec-47b7-40a4-b9bb-62fa7d6b54fd",
   "metadata": {},
   "outputs": [],
   "source": [
    "def estimate(primary_river, spoint, point, gap_length, ax, fittedbad, fittype, nobad, doplots=True):\n",
    "    goback = 7\n",
    "    bad = False\n",
    "    fitlength = np.array([7, 14, 21, 28])\n",
    "    ratio = np.zeros(len(fitlength))\n",
    "    fitted = np.zeros(len(fitlength))\n",
    "    persist = np.zeros((goback))\n",
    "    linear = np.zeros((goback-1))\n",
    "    cubic = np.zeros((goback-2))\n",
    "    \n",
    "    if len(primary_river.iloc[spoint-8:spoint]) != 8:\n",
    "        print (len(primary_river.iloc[spoint-8:spoint]), primary_river.iloc[spoint])\n",
    "        nobad = nobad + 1\n",
    "        allbad = True\n",
    "    else:\n",
    "        allbad = False\n",
    "        for ii in range(1, 8):\n",
    "            jj = ii + gap_length - 1        \n",
    "            persist[ii-1] = primary_river.iloc[spoint-ii:spoint].mean()\n",
    "            if ii > 1:\n",
    "                b, m = polyfit(range(ii), primary_river.iloc[spoint-ii:spoint].values, 1)\n",
    "                linear[ii-2] = b + m * jj\n",
    "            if ii > 2:\n",
    "                b, m, c = polyfit(range(ii), primary_river.iloc[spoint-ii:spoint].values, 2)\n",
    "                cubic[ii-3] = b + m * jj + c * jj**2\n",
    "\n",
    "        if fittype == 'fit':\n",
    "            useriver = matching_dictionary[river]\n",
    "        elif fittype == 'backup':\n",
    "            useriver = backup_dictionary[river]\n",
    "        firstchoice = read_river(useriver, 'primary')\n",
    "        for jj, length in enumerate(fitlength):\n",
    "            for ii in range(length):\n",
    "                denom = firstchoice[firstchoice.index == primary_river.index[spoint-ii]].values\n",
    "                if len(denom) == 1:\n",
    "                    ratio[jj] = ratio[jj] + (primary_river.iloc[spoint-ii].values /\n",
    "                                firstchoice[firstchoice.index == primary_river.index[spoint-ii]].values)\n",
    "                else:\n",
    "                    bad = True\n",
    "            if not bad:\n",
    "                numer = firstchoice[firstchoice.index == primary_river.index[point]].values\n",
    "                if len(numer) != 1:\n",
    "                    print ('Numer catch')\n",
    "                    bad = True\n",
    "                else:\n",
    "                    fitted[jj] = ratio[jj]/length * firstchoice[firstchoice.index == primary_river.index[point]].values\n",
    "        if bad:\n",
    "            fittedbad = fittedbad + 1\n",
    "        if doplots:\n",
    "            ax.plot(persist)\n",
    "            ax.plot(range(1, 7), linear)\n",
    "            ax.plot(range(2, 7), cubic)\n",
    "            if not bad:\n",
    "                ax.plot(fitted)\n",
    "            ax.plot(primary_river.iloc[spoint-7:spoint].values, 'o')\n",
    "            ax.plot(7, primary_river.iloc[spoint].values, 'x')\n",
    "            ax.plot(7+gap_length, primary_river.iloc[point].values, 's')\n",
    "            ax.grid()\n",
    "    return (persist, linear, cubic, fitted, bad, fittedbad, allbad, nobad)"
   ]
  },
  {
   "cell_type": "code",
   "execution_count": 9,
   "id": "dde6b3e4-bf9b-43b4-b2bb-2031967e09df",
   "metadata": {},
   "outputs": [],
   "source": [
    "def pmhalf(test, value):\n",
    "    bads = np.zeros(len(test), dtype='bool')\n",
    "    for ii, tt in enumerate(test):\n",
    "        if tt/value < 0.5 or tt/value > 2:\n",
    "            bads[ii] = True\n",
    "    return bads"
   ]
  },
  {
   "cell_type": "code",
   "execution_count": 10,
   "id": "6345fd32-a97b-457c-9894-ba6dbdcbd7ab",
   "metadata": {},
   "outputs": [],
   "source": [
    "def inbounds(test, maximum, minimum):\n",
    "    bads = np.zeros(len(test), dtype='bool')\n",
    "    for ii, tt in enumerate(test):\n",
    "        if tt < minimum or tt > maximum:\n",
    "            bads[ii] = True\n",
    "    return bads"
   ]
  },
  {
   "cell_type": "code",
   "execution_count": 11,
   "id": "cf51c048-2760-4cdc-9492-d25f705dcf7c",
   "metadata": {},
   "outputs": [],
   "source": [
    "def docheck(primary_river, point, persist, linear, cubic, fitted, badfit, ax, doplots=True):\n",
    "    maximum = primary_river['Primary River Flow'].max()\n",
    "    minimum = primary_river['Primary River Flow'].min()\n",
    "    value = primary_river.iloc[point].values\n",
    "    goodness_persist = np.abs(persist - value)\n",
    "    goodness_linear = np.abs(linear - value)\n",
    "    goodness_cubic = np.abs(cubic - value)\n",
    "    if not badfit:\n",
    "        goodness_fit = np.abs(fitted - value)\n",
    "        pmfitted = pmhalf(fitted, value)\n",
    "        ibfitted = inbounds(fitted, maximum, minimum)\n",
    "    else:\n",
    "        goodness_fit = np.zeros((4))\n",
    "        pmfitted = np.zeros((4))\n",
    "        ibfitted = np.zeros((4))\n",
    "    if doplots:\n",
    "        ax.plot(goodness_persist, 'o')\n",
    "        ax.plot(goodness_linear, 'o')\n",
    "        ax.plot(goodness_cubic, 'o')\n",
    "        if not badfit:\n",
    "            ax.plot(goodness_fit, 'o')\n",
    "        ax.grid()\n",
    "    return (np.concatenate((goodness_persist, goodness_linear, goodness_cubic, goodness_fit)), \n",
    "            np.concatenate((pmhalf(persist, value), pmhalf(linear, value), pmhalf(cubic, value), pmfitted)),\n",
    "            np.concatenate((inbounds(persist, maximum, minimum), inbounds(linear, maximum, minimum), \n",
    "                            inbounds(cubic, maximum, minimum), ibfitted)))"
   ]
  },
  {
   "cell_type": "code",
   "execution_count": 12,
   "id": "61d5826a-2f81-432d-bc17-43c6704371ba",
   "metadata": {},
   "outputs": [],
   "source": [
    "def doone(primary_river, gap_length, accumulateG, accumulateC, accumulateB, fittedbad, fittype, nobad, doplots=True):\n",
    "\n",
    "    point = random.randrange(len(primary_river.index))\n",
    "    spoint = point - gap_length + 1\n",
    "    \n",
    "    if doplots:\n",
    "        fig, axs = plt.subplots(1, 3, figsize=(15, 4))\n",
    "\n",
    "        primary_river.iloc[point-10:point+1].plot(ax=axs[0], marker='s')\n",
    "    else:\n",
    "        axs = [0, 1, 2]\n",
    "\n",
    "    (persist, linear, cubic, fitted, badfit, fittedbad, allbad, nobad) = estimate(\n",
    "        primary_river, spoint, point, gap_length, axs[1], fittedbad, fittype, nobad, doplots)\n",
    "\n",
    "    if not allbad:\n",
    "        GG, CC, BB = docheck(primary_river, point, persist, linear, cubic, fitted, badfit, axs[2], doplots)\n",
    "        accumulateG += GG\n",
    "        accumulateC += CC\n",
    "        accumulateB += BB\n",
    "    \n",
    "    \n",
    "    return accumulateG, accumulateC, accumulateB, fittedbad, nobad"
   ]
  },
  {
   "cell_type": "code",
   "execution_count": 13,
   "id": "580d9f95-58cc-40bd-9873-2dde8e9475e8",
   "metadata": {},
   "outputs": [
    {
     "name": "stdout",
     "output_type": "stream",
     "text": [
      "8\n"
     ]
    }
   ],
   "source": [
    "print (gap_length)"
   ]
  },
  {
   "cell_type": "code",
   "execution_count": 14,
   "id": "d127b144-4516-458a-aa53-bb7df808db0a",
   "metadata": {},
   "outputs": [
    {
     "name": "stdout",
     "output_type": "stream",
     "text": [
      "Numer catch\n",
      "Numer catch\n",
      "Numer catch\n",
      "Numer catch\n",
      "Numer catch\n",
      "Numer catch\n",
      "realized 1000\n",
      "[1000. 1000. 1000. 1000. 1000. 1000. 1000. 1000. 1000. 1000. 1000. 1000.\n",
      " 1000. 1000. 1000. 1000. 1000. 1000.  953.  953.  953.  953.] [  93.32149592   95.78212888   97.54825898   97.95301206   97.96429715\n",
      "   98.04921314   98.44620841  277.89146182  258.07927778  227.99903583\n",
      "  212.56468228  202.07010812  197.01207004 1381.60464866 1108.06216315\n",
      "  906.12005108  730.31767281  630.39165502   59.62427249   59.69489145\n",
      "   61.73594327   65.27773983] [0.114      0.117      0.117      0.127      0.134      0.131\n",
      " 0.128      0.446      0.458      0.427      0.41       0.391\n",
      " 0.388      0.732      0.686      0.67       0.637      0.643\n",
      " 0.0524659  0.05561385 0.05561385 0.0587618 ] [0.         0.         0.         0.         0.         0.\n",
      " 0.         0.199      0.17       0.143      0.131      0.116\n",
      " 0.117      0.419      0.374      0.338      0.333      0.331\n",
      " 0.00629591 0.00209864 0.00104932 0.00104932]\n"
     ]
    }
   ],
   "source": [
    "river = 'Homathko_Mouth'\n",
    "primary_river = read_river(river, 'primary')\n",
    "\n",
    "number_trys = 1000\n",
    "fittedbad = 0\n",
    "nobad = 0\n",
    "accumulateG, accumulateC, accumulateB = np.zeros(22), np.zeros(22),  np.zeros(22)\n",
    "\n",
    "for ii in range(number_trys):\n",
    "    accumulateG, accumulateC, accumulateB, fittedbad, nobad = doone(\n",
    "        primary_river, gap_length,accumulateG, accumulateC, accumulateB, fittedbad, 'fit', nobad, doplots=False)\n",
    "    \n",
    "print (\"realized\", number_trys - nobad)\n",
    "\n",
    "number_good = (number_trys - nobad) * np.ones(22)\n",
    "\n",
    "for ii in [18, 19, 20, 21]:\n",
    "    number_good[ii] = number_trys - fittedbad\n",
    "    \n",
    "print (number_good, accumulateG/number_good, accumulateC/number_good, accumulateB/number_good)"
   ]
  },
  {
   "cell_type": "code",
   "execution_count": 15,
   "id": "2409941c-5fed-46c2-88e8-d7e141edb560",
   "metadata": {},
   "outputs": [
    {
     "data": {
      "image/png": "[encoded data removed]",
      "text/plain": [
       "<Figure size 1080x1080 with 3 Axes>"
      ]
     },
     "metadata": {
      "needs_background": "light"
     },
     "output_type": "display_data"
    }
   ],
   "source": [
    "fig, axs = plt.subplots(3, 1, figsize=(15, 15))\n",
    "axs[0].plot(np.abs(accumulateG)/number_good, 'o')\n",
    "axs[1].plot(np.abs(accumulateC)/number_good, 'o')\n",
    "axs[2].plot(np.abs(accumulateB)/number_good, 'o')\n",
    "\n",
    "for ax in axs:\n",
    "    ax.axvspan(-0.5, 6.5, color='tab:orange', alpha=0.2) \n",
    "    ax.axvspan(6.5, 12.5, color='tab:green', alpha=0.2) \n",
    "    ax.axvspan(12.5, 17.5, color='tab:pink', alpha=0.2)\n",
    "    ax.axvspan(17.5, 21.5, color='tab:olive', alpha=0.2)\n",
    "    \n",
    "axs[1].plot([-0.5, 21.5], [0.05, 0.05], c='grey')\n",
    "axs[2].plot([-0.5, 21.5], [0.01, 0.01], c='grey');"
   ]
  },
  {
   "cell_type": "code",
   "execution_count": 16,
   "id": "2841bde2-9e6d-465e-837d-68b408eb9b55",
   "metadata": {},
   "outputs": [
    {
     "name": "stdout",
     "output_type": "stream",
     "text": [
      "8\n"
     ]
    }
   ],
   "source": [
    "print (gap_length)"
   ]
  },
  {
   "cell_type": "code",
   "execution_count": 17,
   "id": "df7a1cb2-476c-4291-b0f3-dcac7471d59d",
   "metadata": {},
   "outputs": [
    {
     "name": "stderr",
     "output_type": "stream",
     "text": [
      "/ocean/sallen/miniconda3/envs/py39/lib/python3.9/site-packages/pandas/util/_decorators.py:311: ParserWarning: Length of header or names does not match length of data. This leads to a loss of data with index_col=False.\n",
      "  return func(*args, **kwargs)\n"
     ]
    },
    {
     "name": "stdout",
     "output_type": "stream",
     "text": [
      "Numer catch\n",
      "realized 1000\n",
      "[1000. 1000. 1000. 1000. 1000. 1000. 1000. 1000. 1000. 1000. 1000. 1000.\n",
      " 1000. 1000. 1000. 1000. 1000. 1000.  999.  999.  999.  999.] [ 143.63866414  143.10064704  143.05515097  142.48326974  143.53536718\n",
      "  144.84019551  145.33419572  442.49981772  392.1228073   343.69153152\n",
      "  333.39741044  312.54809308  290.28882415 2215.44857108 1752.50241537\n",
      " 1343.33487398 1054.516447    939.23892653   74.82515148   73.95478816\n",
      "   75.69843861   78.07037675] [0.193      0.196      0.206      0.223      0.23       0.233\n",
      " 0.232      0.602      0.567      0.549      0.529      0.508\n",
      " 0.496      0.742      0.753      0.712      0.715      0.68\n",
      " 0.04704705 0.04504505 0.04704705 0.04904905] [0.       0.       0.       0.       0.       0.       0.       0.246\n",
      " 0.239    0.198    0.179    0.172    0.153    0.375    0.369    0.368\n",
      " 0.341    0.33     0.001001 0.       0.       0.      ]\n"
     ]
    }
   ],
   "source": [
    "river = 'Snohomish_Monroe'\n",
    "\n",
    "primary_river = read_river(river, 'primary')\n",
    "\n",
    "number_trys = 1000\n",
    "fittedbad = 0\n",
    "nobad = 0\n",
    "accumulateG, accumulateC, accumulateB = np.zeros(22), np.zeros(22),  np.zeros(22)\n",
    "\n",
    "for ii in range(number_trys):\n",
    "    accumulateG, accumulateC, accumulateB, fittedbad, nobad = doone(\n",
    "        primary_river, gap_length,accumulateG, accumulateC, accumulateB, fittedbad, 'fit', nobad, doplots=False)\n",
    "    \n",
    "print (\"realized\", number_trys - nobad)\n",
    "\n",
    "number_good = (number_trys - nobad) * np.ones(22)\n",
    "\n",
    "for ii in [18, 19, 20, 21]:\n",
    "    number_good[ii] = number_trys - fittedbad\n",
    "    \n",
    "print (number_good, accumulateG/number_good, accumulateC/number_good, accumulateB/number_good)"
   ]
  },
  {
   "cell_type": "code",
   "execution_count": 18,
   "id": "b606764d-2657-4d34-aaba-c7dc5df3fedd",
   "metadata": {},
   "outputs": [
    {
     "data": {
      "image/png": "[encoded data removed]",
      "text/plain": [
       "<Figure size 1080x1080 with 3 Axes>"
      ]
     },
     "metadata": {
      "needs_background": "light"
     },
     "output_type": "display_data"
    }
   ],
   "source": [
    "fig, axs = plt.subplots(3, 1, figsize=(15, 15))\n",
    "axs[0].plot(np.abs(accumulateG)/number_good, 'o')\n",
    "axs[1].plot(np.abs(accumulateC)/number_good, 'o')\n",
    "axs[2].plot(np.abs(accumulateB)/number_good, 'o')\n",
    "\n",
    "for ax in axs:\n",
    "    ax.axvspan(-0.5, 6.5, color='tab:orange', alpha=0.2) \n",
    "    ax.axvspan(6.5, 12.5, color='tab:green', alpha=0.2) \n",
    "    ax.axvspan(12.5, 17.5, color='tab:pink', alpha=0.2)\n",
    "    ax.axvspan(17.5, 21.5, color='tab:olive', alpha=0.2)\n",
    "    \n",
    "axs[1].plot([-0.5, 21.5], [0.05, 0.05], c='grey')\n",
    "axs[2].plot([-0.5, 21.5], [0.01, 0.01], c='grey');"
   ]
  },
  {
   "cell_type": "code",
   "execution_count": 19,
   "id": "c493368b-1d5c-4dee-b02b-b195a8c81059",
   "metadata": {},
   "outputs": [
    {
     "name": "stderr",
     "output_type": "stream",
     "text": [
      "/ocean/sallen/miniconda3/envs/py39/lib/python3.9/site-packages/pandas/util/_decorators.py:311: ParserWarning: Length of header or names does not match length of data. This leads to a loss of data with index_col=False.\n",
      "  return func(*args, **kwargs)\n"
     ]
    },
    {
     "name": "stdout",
     "output_type": "stream",
     "text": [
      "realized 1000\n",
      "[1000. 1000. 1000. 1000. 1000. 1000. 1000. 1000. 1000. 1000. 1000. 1000.\n",
      " 1000. 1000. 1000. 1000. 1000. 1000. 1000. 1000. 1000. 1000.] [ 157.5359851   156.6993673   156.0032922   154.72143767  153.23302126\n",
      "  152.58989027  151.60276627  530.4988625   428.14684622  369.92321905\n",
      "  347.4237955   327.86130785  310.32848529 3007.7225481  2126.05862975\n",
      " 1565.36030526 1263.7099243  1029.54275378  155.32491436  159.82197171\n",
      "  167.76668078  175.95569418] [0.078 0.08  0.075 0.075 0.075 0.069 0.068 0.486 0.423 0.384 0.365 0.337\n",
      " 0.312 0.857 0.789 0.733 0.71  0.672 0.057 0.058 0.056 0.058] [0.    0.    0.    0.    0.    0.    0.    0.243 0.167 0.146 0.128 0.11\n",
      " 0.085 0.52  0.457 0.416 0.38  0.35  0.005 0.003 0.004 0.003]\n"
     ]
    }
   ],
   "source": [
    "river = 'Skagit_MountVernon'\n",
    "\n",
    "primary_river = read_river(river, 'primary')\n",
    "\n",
    "number_trys = 1000\n",
    "fittedbad = 0\n",
    "nobad = 0\n",
    "accumulateG, accumulateC, accumulateB = np.zeros(22), np.zeros(22),  np.zeros(22)\n",
    "\n",
    "for ii in range(number_trys):\n",
    "    accumulateG, accumulateC, accumulateB, fittedbad, nobad = doone(\n",
    "        primary_river, gap_length,accumulateG, accumulateC, accumulateB, fittedbad, 'fit', nobad, doplots=False)\n",
    "    \n",
    "print (\"realized\", number_trys - nobad)\n",
    "\n",
    "number_good = (number_trys - nobad) * np.ones(22)\n",
    "\n",
    "for ii in [18, 19, 20, 21]:\n",
    "    number_good[ii] = number_trys - fittedbad\n",
    "    \n",
    "print (number_good, accumulateG/number_good, accumulateC/number_good, accumulateB/number_good)"
   ]
  },
  {
   "cell_type": "code",
   "execution_count": 20,
   "id": "4e696430-3bfb-45a5-ae75-9430e9ca8552",
   "metadata": {},
   "outputs": [
    {
     "data": {
      "image/png": "[encoded data removed]",
      "text/plain": [
       "<Figure size 1080x1080 with 3 Axes>"
      ]
     },
     "metadata": {
      "needs_background": "light"
     },
     "output_type": "display_data"
    }
   ],
   "source": [
    "fig, axs = plt.subplots(3, 1, figsize=(15, 15))\n",
    "axs[0].plot(np.abs(accumulateG)/number_good, 'o')\n",
    "axs[1].plot(np.abs(accumulateC)/number_good, 'o')\n",
    "axs[2].plot(np.abs(accumulateB)/number_good, 'o')\n",
    "\n",
    "for ax in axs:\n",
    "    ax.axvspan(-0.5, 6.5, color='tab:orange', alpha=0.2) \n",
    "    ax.axvspan(6.5, 12.5, color='tab:green', alpha=0.2) \n",
    "    ax.axvspan(12.5, 17.5, color='tab:pink', alpha=0.2)\n",
    "    ax.axvspan(17.5, 21.5, color='tab:olive', alpha=0.2)\n",
    "    \n",
    "axs[1].plot([-0.5, 21.5], [0.05, 0.05], c='grey')\n",
    "axs[2].plot([-0.5, 21.5], [0.01, 0.01], c='grey');"
   ]
  },
  {
   "cell_type": "code",
   "execution_count": 21,
   "id": "076b73e3-6b34-4dc2-ad59-48353170f060",
   "metadata": {},
   "outputs": [
    {
     "name": "stderr",
     "output_type": "stream",
     "text": [
      "/ocean/sallen/miniconda3/envs/py39/lib/python3.9/site-packages/pandas/util/_decorators.py:311: ParserWarning: Length of header or names does not match length of data. This leads to a loss of data with index_col=False.\n",
      "  return func(*args, **kwargs)\n"
     ]
    },
    {
     "name": "stdout",
     "output_type": "stream",
     "text": [
      "0 Primary River Flow    1.868909\n",
      "Name: 1970-01-04 00:00:00, dtype: float64\n",
      "realized 999\n",
      "[999. 999. 999. 999. 999. 999. 999. 999. 999. 999. 999. 999. 999. 999.\n",
      " 999. 999. 999. 999. 998. 998. 998. 998.] [ 2.26509161  2.3646072   2.45419724  2.47886366  2.4667345   2.46370895\n",
      "  2.47833383  6.8199185   6.20748283  5.64054764  5.30000247  5.20022937\n",
      "  5.05574803 34.47984596 30.81007787 24.44671789 19.67569371 16.25755028\n",
      "  1.24858324  1.28275607  1.3329893   1.3622769 ] [0.10710711 0.11311311 0.11811812 0.12212212 0.12312312 0.12112112\n",
      " 0.12212212 0.34734735 0.31531532 0.29029029 0.28328328 0.27227227\n",
      " 0.27127127 0.60960961 0.56956957 0.52552553 0.48948949 0.48748749\n",
      " 0.04609218 0.05210421 0.04509018 0.04709419] [0.         0.         0.         0.         0.         0.\n",
      " 0.         0.10710711 0.09209209 0.07607608 0.07607608 0.07007007\n",
      " 0.06606607 0.3013013  0.27227227 0.24424424 0.22522523 0.22222222\n",
      " 0.00501002 0.00200401 0.00200401 0.00200401]\n"
     ]
    }
   ],
   "source": [
    "river = 'Greenwater_Greenwater'\n",
    "\n",
    "primary_river = read_river(river, 'primary')\n",
    "\n",
    "number_trys = 1000\n",
    "fittedbad = 0\n",
    "nobad = 0\n",
    "accumulateG, accumulateC, accumulateB = np.zeros(22), np.zeros(22),  np.zeros(22)\n",
    "\n",
    "for ii in range(number_trys):\n",
    "    accumulateG, accumulateC, accumulateB, fittedbad, nobad = doone(\n",
    "        primary_river, gap_length,accumulateG, accumulateC, accumulateB, fittedbad, 'fit', nobad, doplots=False)\n",
    "    \n",
    "print (\"realized\", number_trys - nobad)\n",
    "\n",
    "number_good = (number_trys - nobad) * np.ones(22)\n",
    "\n",
    "for ii in [18, 19, 20, 21]:\n",
    "    number_good[ii] = number_trys - fittedbad\n",
    "    \n",
    "print (number_good, accumulateG/number_good, accumulateC/number_good, accumulateB/number_good)"
   ]
  },
  {
   "cell_type": "code",
   "execution_count": 22,
   "id": "6a2ce98b-ce35-43d6-a933-e9788f1464cc",
   "metadata": {},
   "outputs": [
    {
     "data": {
      "image/png": "[encoded data removed]",
      "text/plain": [
       "<Figure size 1080x1080 with 3 Axes>"
      ]
     },
     "metadata": {
      "needs_background": "light"
     },
     "output_type": "display_data"
    }
   ],
   "source": [
    "fig, axs = plt.subplots(3, 1, figsize=(15, 15))\n",
    "axs[0].plot(np.abs(accumulateG)/number_good, 'o')\n",
    "axs[1].plot(np.abs(accumulateC)/number_good, 'o')\n",
    "axs[2].plot(np.abs(accumulateB)/number_good, 'o')\n",
    "\n",
    "for ax in axs:\n",
    "    ax.axvspan(-0.5, 6.5, color='tab:orange', alpha=0.2) \n",
    "    ax.axvspan(6.5, 12.5, color='tab:green', alpha=0.2) \n",
    "    ax.axvspan(12.5, 17.5, color='tab:pink', alpha=0.2)\n",
    "    ax.axvspan(17.5, 21.5, color='tab:olive', alpha=0.2)\n",
    "    \n",
    "axs[1].plot([-0.5, 21.5], [0.05, 0.05], c='grey')\n",
    "axs[2].plot([-0.5, 21.5], [0.01, 0.01], c='grey');"
   ]
  },
  {
   "cell_type": "code",
   "execution_count": null,
   "id": "a75c10e0-c528-409f-a459-0adc86a0db3d",
   "metadata": {},
   "outputs": [],
   "source": []
  }
 ],
 "metadata": {
  "kernelspec": {
   "display_name": "py39",
   "language": "python",
   "name": "py39"
  },
  "language_info": {
   "codemirror_mode": {
    "name": "ipython",
    "version": 3
   },
   "file_extension": ".py",
   "mimetype": "text/x-python",
   "name": "python",
   "nbconvert_exporter": "python",
   "pygments_lexer": "ipython3",
   "version": "3.9.2"
  }
 },
 "nbformat": 4,
 "nbformat_minor": 5
}
