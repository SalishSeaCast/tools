{
 "cells": [
  {
   "cell_type": "code",
   "execution_count": 1,
   "id": "4dff7aff-6f3f-4a06-b86e-846ee7a8659e",
   "metadata": {},
   "outputs": [],
   "source": [
    "# Fit Forward, 9 day gap"
   ]
  },
  {
   "cell_type": "code",
   "execution_count": 2,
   "id": "3f56af5d-5469-45bc-a6af-8db92e9953aa",
   "metadata": {},
   "outputs": [],
   "source": [
    "import datetime as datetime\n",
    "import matplotlib.pyplot as plt\n",
    "import numpy as np\n",
    "from numpy.polynomial.polynomial import polyfit\n",
    "import pandas as pd\n",
    "import random"
   ]
  },
  {
   "cell_type": "code",
   "execution_count": 3,
   "id": "61614cfb-23e9-484b-85ff-55bf5f69b716",
   "metadata": {},
   "outputs": [],
   "source": [
    "maindir = '/results/forcing/rivers/observations/'\n",
    "origdir = '/data/dlatorne/SOG-projects/SOG-forcing/ECget/'\n",
    "def getdir(river_name):\n",
    "    if river_name in ['Fraser', 'Englishman']:\n",
    "        thedir = origdir\n",
    "    else:\n",
    "        thedir = maindir\n",
    "    return (thedir)"
   ]
  },
  {
   "cell_type": "code",
   "execution_count": 4,
   "id": "d59a50ef-3e7c-4d11-98ae-9c73ed144bae",
   "metadata": {},
   "outputs": [],
   "source": [
    "def read_river(river_name, ps):\n",
    "    thedir = getdir(river_name)\n",
    "    river_flow = pd.read_csv(f'{thedir}/{river_name}_flow', header=None, sep='\\s+', index_col=False,\n",
    "                      names=['year', 'month', 'day', 'flow'])\n",
    "    river_flow['date'] = pd.to_datetime(river_flow.drop(columns='flow'))\n",
    "    river_flow.set_index('date', inplace=True)\n",
    "    river_flow = river_flow.drop(columns=['year', 'month', 'day'])\n",
    "    if ps == 'primary':\n",
    "        river_flow = river_flow.rename(columns={'flow': 'Primary River Flow'})\n",
    "    elif ps == 'secondary':\n",
    "        river_flow = river_flow.rename(columns={'flow': 'Secondary River Flow'})\n",
    "    return river_flow"
   ]
  },
  {
   "cell_type": "code",
   "execution_count": 5,
   "id": "2e5bdf57-fa04-400d-b28a-a7a6492a61e9",
   "metadata": {},
   "outputs": [],
   "source": [
    "def read_river_Theodosia(set_primary=False):\n",
    "    if set_primary:\n",
    "        nameit = 'Primary River Flow'\n",
    "    else:\n",
    "        nameit = 'Secondary River Flow'\n",
    "    part1 = pd.read_csv(f'{maindir}/Theodosia_Scotty_flow', header=None, sep='\\s+', index_col=False,\n",
    "                      names=['year', 'month', 'day', 'flow'])\n",
    "    part2 = pd.read_csv(f'{maindir}/Theodosia_Bypass_flow', header=None, sep='\\s+', index_col=False,\n",
    "                      names=['year', 'month', 'day', 'flow'])\n",
    "    part3 = pd.read_csv(f'{maindir}/Theodosia_Diversion_flow', header=None, sep='\\s+', index_col=False,\n",
    "                      names=['year', 'month', 'day', 'flow'])\n",
    "    for part in [part1, part2, part3]:\n",
    "        part['date'] = pd.to_datetime(part.drop(columns='flow'))\n",
    "        part.set_index('date', inplace=True)\n",
    "        part.drop(columns=['year', 'month', 'day'], inplace=True)\n",
    "    part1 = part1.rename(columns={'flow': 'Scotty'})\n",
    "    part2 = part2.rename(columns={'flow': 'Bypass'})\n",
    "    part3 = part3.rename(columns={'flow': 'Diversion'})\n",
    "    theodosia = (part3.merge(part2, how='inner', on='date')).merge(part1, how='inner', on='date')\n",
    "    theodosia[nameit] = theodosia['Scotty'] + theodosia['Diversion'] - theodosia['Bypass']\n",
    "    part3['FlowFromDiversion'] = part3.Diversion * theodosia_from_diversion_only\n",
    "    theodosia = theodosia.merge(part3, how='outer', on='date', sort=True)\n",
    "    theodosia[nameit] = theodosia[nameit].fillna(\n",
    "        theodosia['FlowFromDiversion'])\n",
    "    return theodosia"
   ]
  },
  {
   "cell_type": "code",
   "execution_count": 6,
   "id": "d949555f-dc1d-44fe-82c3-336b715bba5a",
   "metadata": {},
   "outputs": [],
   "source": [
    "matching_dictionary = {'Englishman': 'Salmon_Sayward',\n",
    "                      'Theodosia': 'Clowhom_ClowhomLake',\n",
    "                      'RobertsCreek': 'Englishman',\n",
    "                      'Salmon_Sayward': 'Englishman',\n",
    "                      'Squamish_Brackendale': 'Homathko_Mouth',\n",
    "                      'SanJuan_PortRenfrew': 'Englishman',\n",
    "                      'Nisqually_McKenna': 'Snohomish_Monroe',\n",
    "                      'Snohomish_Monroe': 'Skagit_MountVernon',\n",
    "                      'Skagit_MountVernon': 'Snohomish_Monroe',\n",
    "                      'Homathko_Mouth': 'Squamish_Brackendale',\n",
    "                      'Nicomekl_Langley': 'RobertsCreek',\n",
    "                      'Greenwater_Greenwater': 'Snohomish_Monroe',\n",
    "                      'Clowhom_ClowhomLake': 'Theodosia_Diversion'}\n",
    "backup_dictionary = {'SanJuan_PortRenfrew': 'RobertsCreek',\n",
    "                    'Theodosia': 'Englishman'}\n",
    "\n",
    "theodosia_from_diversion_only = 1.429 # see TheodosiaWOScotty"
   ]
  },
  {
   "cell_type": "code",
   "execution_count": 7,
   "id": "6a792d25-2220-4c02-aba0-eb1188fb391b",
   "metadata": {},
   "outputs": [],
   "source": [
    "gap_length = 9"
   ]
  },
  {
   "cell_type": "code",
   "execution_count": 8,
   "id": "48fb9eec-47b7-40a4-b9bb-62fa7d6b54fd",
   "metadata": {},
   "outputs": [],
   "source": [
    "def estimate(primary_river, spoint, point, gap_length, ax, fittedbad, fittype, nobad, doplots=True):\n",
    "    goback = 7\n",
    "    bad = False\n",
    "    fitlength = np.array([7, 14, 21, 28])\n",
    "    ratio = np.zeros(len(fitlength))\n",
    "    fitted = np.zeros(len(fitlength))\n",
    "    persist = np.zeros((goback))\n",
    "    linear = np.zeros((goback-1))\n",
    "    cubic = np.zeros((goback-2))\n",
    "    \n",
    "    if len(primary_river.iloc[spoint-8:spoint]) != 8:\n",
    "        print (len(primary_river.iloc[spoint-8:spoint]), primary_river.iloc[spoint])\n",
    "        nobad = nobad + 1\n",
    "        allbad = True\n",
    "    else:\n",
    "        allbad = False\n",
    "        for ii in range(1, 8):\n",
    "            jj = ii + gap_length - 1        \n",
    "            persist[ii-1] = primary_river.iloc[spoint-ii:spoint].mean()\n",
    "            if ii > 1:\n",
    "                b, m = polyfit(range(ii), primary_river.iloc[spoint-ii:spoint].values, 1)\n",
    "                linear[ii-2] = b + m * jj\n",
    "            if ii > 2:\n",
    "                b, m, c = polyfit(range(ii), primary_river.iloc[spoint-ii:spoint].values, 2)\n",
    "                cubic[ii-3] = b + m * jj + c * jj**2\n",
    "\n",
    "        if fittype == 'fit':\n",
    "            useriver = matching_dictionary[river]\n",
    "        elif fittype == 'backup':\n",
    "            useriver = backup_dictionary[river]\n",
    "        firstchoice = read_river(useriver, 'primary')\n",
    "        for jj, length in enumerate(fitlength):\n",
    "            for ii in range(length):\n",
    "                denom = firstchoice[firstchoice.index == primary_river.index[spoint-ii]].values\n",
    "                if len(denom) == 1:\n",
    "                    ratio[jj] = ratio[jj] + (primary_river.iloc[spoint-ii].values /\n",
    "                                firstchoice[firstchoice.index == primary_river.index[spoint-ii]].values)\n",
    "                else:\n",
    "                    bad = True\n",
    "            if not bad:\n",
    "                numer = firstchoice[firstchoice.index == primary_river.index[point]].values\n",
    "                if len(numer) != 1:\n",
    "                    print ('Numer catch')\n",
    "                    bad = True\n",
    "                else:\n",
    "                    fitted[jj] = ratio[jj]/length * firstchoice[firstchoice.index == primary_river.index[point]].values\n",
    "        if bad:\n",
    "            fittedbad = fittedbad + 1\n",
    "        if doplots:\n",
    "            ax.plot(persist)\n",
    "            ax.plot(range(1, 7), linear)\n",
    "            ax.plot(range(2, 7), cubic)\n",
    "            if not bad:\n",
    "                ax.plot(fitted)\n",
    "            ax.plot(primary_river.iloc[spoint-7:spoint].values, 'o')\n",
    "            ax.plot(7, primary_river.iloc[spoint].values, 'x')\n",
    "            ax.plot(7+gap_length, primary_river.iloc[point].values, 's')\n",
    "            ax.grid()\n",
    "    return (persist, linear, cubic, fitted, bad, fittedbad, allbad, nobad)"
   ]
  },
  {
   "cell_type": "code",
   "execution_count": 9,
   "id": "dde6b3e4-bf9b-43b4-b2bb-2031967e09df",
   "metadata": {},
   "outputs": [],
   "source": [
    "def pmhalf(test, value):\n",
    "    bads = np.zeros(len(test), dtype='bool')\n",
    "    for ii, tt in enumerate(test):\n",
    "        if tt/value < 0.5 or tt/value > 2:\n",
    "            bads[ii] = True\n",
    "    return bads"
   ]
  },
  {
   "cell_type": "code",
   "execution_count": 10,
   "id": "6345fd32-a97b-457c-9894-ba6dbdcbd7ab",
   "metadata": {},
   "outputs": [],
   "source": [
    "def inbounds(test, maximum, minimum):\n",
    "    bads = np.zeros(len(test), dtype='bool')\n",
    "    for ii, tt in enumerate(test):\n",
    "        if tt < minimum or tt > maximum:\n",
    "            bads[ii] = True\n",
    "    return bads"
   ]
  },
  {
   "cell_type": "code",
   "execution_count": 11,
   "id": "cf51c048-2760-4cdc-9492-d25f705dcf7c",
   "metadata": {},
   "outputs": [],
   "source": [
    "def docheck(primary_river, point, persist, linear, cubic, fitted, badfit, ax, doplots=True):\n",
    "    maximum = primary_river['Primary River Flow'].max()\n",
    "    minimum = primary_river['Primary River Flow'].min()\n",
    "    value = primary_river.iloc[point].values\n",
    "    goodness_persist = np.abs(persist - value)\n",
    "    goodness_linear = np.abs(linear - value)\n",
    "    goodness_cubic = np.abs(cubic - value)\n",
    "    if not badfit:\n",
    "        goodness_fit = np.abs(fitted - value)\n",
    "        pmfitted = pmhalf(fitted, value)\n",
    "        ibfitted = inbounds(fitted, maximum, minimum)\n",
    "    else:\n",
    "        goodness_fit = np.zeros((4))\n",
    "        pmfitted = np.zeros((4))\n",
    "        ibfitted = np.zeros((4))\n",
    "    if doplots:\n",
    "        ax.plot(goodness_persist, 'o')\n",
    "        ax.plot(goodness_linear, 'o')\n",
    "        ax.plot(goodness_cubic, 'o')\n",
    "        if not badfit:\n",
    "            ax.plot(goodness_fit, 'o')\n",
    "        ax.grid()\n",
    "    return (np.concatenate((goodness_persist, goodness_linear, goodness_cubic, goodness_fit)), \n",
    "            np.concatenate((pmhalf(persist, value), pmhalf(linear, value), pmhalf(cubic, value), pmfitted)),\n",
    "            np.concatenate((inbounds(persist, maximum, minimum), inbounds(linear, maximum, minimum), \n",
    "                            inbounds(cubic, maximum, minimum), ibfitted)))"
   ]
  },
  {
   "cell_type": "code",
   "execution_count": 12,
   "id": "61d5826a-2f81-432d-bc17-43c6704371ba",
   "metadata": {},
   "outputs": [],
   "source": [
    "def doone(primary_river, gap_length, accumulateG, accumulateC, accumulateB, fittedbad, fittype, nobad, doplots=True):\n",
    "\n",
    "    point = random.randrange(len(primary_river.index))\n",
    "    spoint = point - gap_length + 1\n",
    "    \n",
    "    if doplots:\n",
    "        fig, axs = plt.subplots(1, 3, figsize=(15, 4))\n",
    "\n",
    "        primary_river.iloc[point-10:point+1].plot(ax=axs[0], marker='s')\n",
    "    else:\n",
    "        axs = [0, 1, 2]\n",
    "\n",
    "    (persist, linear, cubic, fitted, badfit, fittedbad, allbad, nobad) = estimate(\n",
    "        primary_river, spoint, point, gap_length, axs[1], fittedbad, fittype, nobad, doplots)\n",
    "\n",
    "    if not allbad:\n",
    "        GG, CC, BB = docheck(primary_river, point, persist, linear, cubic, fitted, badfit, axs[2], doplots)\n",
    "        accumulateG += GG\n",
    "        accumulateC += CC\n",
    "        accumulateB += BB\n",
    "    \n",
    "    \n",
    "    return accumulateG, accumulateC, accumulateB, fittedbad, nobad"
   ]
  },
  {
   "cell_type": "code",
   "execution_count": 13,
   "id": "580d9f95-58cc-40bd-9873-2dde8e9475e8",
   "metadata": {},
   "outputs": [
    {
     "name": "stdout",
     "output_type": "stream",
     "text": [
      "9\n"
     ]
    }
   ],
   "source": [
    "print (gap_length)"
   ]
  },
  {
   "cell_type": "code",
   "execution_count": 14,
   "id": "d127b144-4516-458a-aa53-bb7df808db0a",
   "metadata": {},
   "outputs": [
    {
     "name": "stdout",
     "output_type": "stream",
     "text": [
      "Numer catch\n",
      "Numer catch\n",
      "Numer catch\n",
      "Numer catch\n",
      "realized 1000\n",
      "[1000. 1000. 1000. 1000. 1000. 1000. 1000. 1000. 1000. 1000. 1000. 1000.\n",
      " 1000. 1000. 1000. 1000. 1000. 1000.  956.  956.  956.  956.] [ 104.61314063  104.07358258  104.57545462  105.43462094  105.92300769\n",
      "  105.90790958  106.12035358  300.38420059  273.34043061  253.84036435\n",
      "  238.25460628  219.08329801  205.13351643 1601.83139339 1274.27456057\n",
      " 1030.81272197  869.03558726  753.29088774   58.86881036   59.67878678\n",
      "   61.28672214   65.00540638] [0.149      0.142      0.144      0.147      0.151      0.144\n",
      " 0.142      0.481      0.47       0.478      0.464      0.45\n",
      " 0.412      0.76       0.733      0.7        0.709      0.702\n",
      " 0.04811715 0.0460251  0.0460251  0.04707113] [0.         0.         0.         0.         0.         0.\n",
      " 0.         0.186      0.17       0.162      0.164      0.151\n",
      " 0.147      0.425      0.4        0.359      0.36       0.347\n",
      " 0.00523013 0.00313808 0.00209205 0.00313808]\n"
     ]
    }
   ],
   "source": [
    "river = 'Homathko_Mouth'\n",
    "primary_river = read_river(river, 'primary')\n",
    "\n",
    "number_trys = 1000\n",
    "fittedbad = 0\n",
    "nobad = 0\n",
    "accumulateG, accumulateC, accumulateB = np.zeros(22), np.zeros(22),  np.zeros(22)\n",
    "\n",
    "for ii in range(number_trys):\n",
    "    accumulateG, accumulateC, accumulateB, fittedbad, nobad = doone(\n",
    "        primary_river, gap_length,accumulateG, accumulateC, accumulateB, fittedbad, 'fit', nobad, doplots=False)\n",
    "    \n",
    "print (\"realized\", number_trys - nobad)\n",
    "\n",
    "number_good = (number_trys - nobad) * np.ones(22)\n",
    "\n",
    "for ii in [18, 19, 20, 21]:\n",
    "    number_good[ii] = number_trys - fittedbad\n",
    "    \n",
    "print (number_good, accumulateG/number_good, accumulateC/number_good, accumulateB/number_good)"
   ]
  },
  {
   "cell_type": "code",
   "execution_count": 15,
   "id": "2409941c-5fed-46c2-88e8-d7e141edb560",
   "metadata": {},
   "outputs": [
    {
     "data": {
      "image/png": "[encoded data removed]",
      "text/plain": [
       "<Figure size 1080x1080 with 3 Axes>"
      ]
     },
     "metadata": {
      "needs_background": "light"
     },
     "output_type": "display_data"
    }
   ],
   "source": [
    "fig, axs = plt.subplots(3, 1, figsize=(15, 15))\n",
    "axs[0].plot(np.abs(accumulateG)/number_good, 'o')\n",
    "axs[1].plot(np.abs(accumulateC)/number_good, 'o')\n",
    "axs[2].plot(np.abs(accumulateB)/number_good, 'o')\n",
    "\n",
    "for ax in axs:\n",
    "    ax.axvspan(-0.5, 6.5, color='tab:orange', alpha=0.2) \n",
    "    ax.axvspan(6.5, 12.5, color='tab:green', alpha=0.2) \n",
    "    ax.axvspan(12.5, 17.5, color='tab:pink', alpha=0.2)\n",
    "    ax.axvspan(17.5, 21.5, color='tab:olive', alpha=0.2)\n",
    "    \n",
    "axs[1].plot([-0.5, 21.5], [0.05, 0.05], c='grey')\n",
    "axs[2].plot([-0.5, 21.5], [0.01, 0.01], c='grey');"
   ]
  },
  {
   "cell_type": "code",
   "execution_count": 16,
   "id": "2841bde2-9e6d-465e-837d-68b408eb9b55",
   "metadata": {},
   "outputs": [
    {
     "name": "stdout",
     "output_type": "stream",
     "text": [
      "9\n"
     ]
    }
   ],
   "source": [
    "print (gap_length)"
   ]
  },
  {
   "cell_type": "code",
   "execution_count": 17,
   "id": "df7a1cb2-476c-4291-b0f3-dcac7471d59d",
   "metadata": {},
   "outputs": [
    {
     "name": "stderr",
     "output_type": "stream",
     "text": [
      "/ocean/sallen/miniconda3/envs/py39/lib/python3.9/site-packages/pandas/util/_decorators.py:311: ParserWarning: Length of header or names does not match length of data. This leads to a loss of data with index_col=False.\n",
      "  return func(*args, **kwargs)\n"
     ]
    },
    {
     "name": "stdout",
     "output_type": "stream",
     "text": [
      "0 Primary River Flow    100.5246\n",
      "Name: 1970-01-07 00:00:00, dtype: float64\n",
      "realized 999\n",
      "[999. 999. 999. 999. 999. 999. 999. 999. 999. 999. 999. 999. 999. 999.\n",
      " 999. 999. 999. 999. 998. 998. 998. 998.] [ 145.22380112  145.351878    144.60901349  144.40806352  144.83302315\n",
      "  144.70156875  144.47733056  461.61637947  401.45786158  377.81208427\n",
      "  360.7707805   337.19188759  317.62011597 2831.77575799 1959.25421934\n",
      " 1535.62442855 1260.0233089  1099.55331235   77.51998245   75.90337462\n",
      "   77.23022262   79.7562165 ] [0.21221221 0.21421421 0.20920921 0.21221221 0.21621622 0.21421421\n",
      " 0.21421421 0.63663664 0.58758759 0.57157157 0.57057057 0.54954955\n",
      " 0.54554555 0.78478478 0.77677678 0.76376376 0.72672673 0.71971972\n",
      " 0.05511022 0.05210421 0.04809619 0.04709419] [0.         0.         0.         0.         0.         0.\n",
      " 0.         0.27827828 0.23623624 0.21121121 0.21521522 0.1961962\n",
      " 0.18718719 0.42442442 0.40840841 0.37237237 0.36736737 0.34734735\n",
      " 0.00300601 0.00300601 0.00200401 0.        ]\n"
     ]
    }
   ],
   "source": [
    "river = 'Snohomish_Monroe'\n",
    "\n",
    "primary_river = read_river(river, 'primary')\n",
    "\n",
    "number_trys = 1000\n",
    "fittedbad = 0\n",
    "nobad = 0\n",
    "accumulateG, accumulateC, accumulateB = np.zeros(22), np.zeros(22),  np.zeros(22)\n",
    "\n",
    "for ii in range(number_trys):\n",
    "    accumulateG, accumulateC, accumulateB, fittedbad, nobad = doone(\n",
    "        primary_river, gap_length,accumulateG, accumulateC, accumulateB, fittedbad, 'fit', nobad, doplots=False)\n",
    "    \n",
    "print (\"realized\", number_trys - nobad)\n",
    "\n",
    "number_good = (number_trys - nobad) * np.ones(22)\n",
    "\n",
    "for ii in [18, 19, 20, 21]:\n",
    "    number_good[ii] = number_trys - fittedbad\n",
    "    \n",
    "print (number_good, accumulateG/number_good, accumulateC/number_good, accumulateB/number_good)"
   ]
  },
  {
   "cell_type": "code",
   "execution_count": 18,
   "id": "b606764d-2657-4d34-aaba-c7dc5df3fedd",
   "metadata": {},
   "outputs": [
    {
     "data": {
      "image/png": "[encoded data removed]",
      "text/plain": [
       "<Figure size 1080x1080 with 3 Axes>"
      ]
     },
     "metadata": {
      "needs_background": "light"
     },
     "output_type": "display_data"
    }
   ],
   "source": [
    "fig, axs = plt.subplots(3, 1, figsize=(15, 15))\n",
    "axs[0].plot(np.abs(accumulateG)/number_good, 'o')\n",
    "axs[1].plot(np.abs(accumulateC)/number_good, 'o')\n",
    "axs[2].plot(np.abs(accumulateB)/number_good, 'o')\n",
    "\n",
    "for ax in axs:\n",
    "    ax.axvspan(-0.5, 6.5, color='tab:orange', alpha=0.2) \n",
    "    ax.axvspan(6.5, 12.5, color='tab:green', alpha=0.2) \n",
    "    ax.axvspan(12.5, 17.5, color='tab:pink', alpha=0.2)\n",
    "    ax.axvspan(17.5, 21.5, color='tab:olive', alpha=0.2)\n",
    "    \n",
    "axs[1].plot([-0.5, 21.5], [0.05, 0.05], c='grey')\n",
    "axs[2].plot([-0.5, 21.5], [0.01, 0.01], c='grey');"
   ]
  },
  {
   "cell_type": "code",
   "execution_count": 19,
   "id": "c493368b-1d5c-4dee-b02b-b195a8c81059",
   "metadata": {},
   "outputs": [
    {
     "name": "stderr",
     "output_type": "stream",
     "text": [
      "/ocean/sallen/miniconda3/envs/py39/lib/python3.9/site-packages/pandas/util/_decorators.py:311: ParserWarning: Length of header or names does not match length of data. This leads to a loss of data with index_col=False.\n",
      "  return func(*args, **kwargs)\n"
     ]
    },
    {
     "name": "stdout",
     "output_type": "stream",
     "text": [
      "realized 1000\n",
      "[1000. 1000. 1000. 1000. 1000. 1000. 1000. 1000. 1000. 1000. 1000. 1000.\n",
      " 1000. 1000. 1000. 1000. 1000. 1000.  998.  998.  998.  998.] [ 161.7149748   158.17212015  158.3300803   157.34434893  157.06666072\n",
      "  157.51719993  157.56393539  616.9972657   529.22427763  451.93724631\n",
      "  408.27958081  378.83346737  351.55460619 3451.9465621  2645.76317593\n",
      " 2162.1326877  1706.80205407 1379.607495    147.14014085  151.474866\n",
      "  157.14653262  166.49110628] [0.095      0.091      0.099      0.101      0.091      0.09\n",
      " 0.085      0.525      0.454      0.446      0.412      0.381\n",
      " 0.363      0.891      0.818      0.794      0.76       0.723\n",
      " 0.04408818 0.04809619 0.04709419 0.05511022] [0.         0.         0.         0.         0.         0.\n",
      " 0.         0.276      0.23       0.2        0.167      0.141\n",
      " 0.129      0.534      0.468      0.463      0.413      0.391\n",
      " 0.00300601 0.001002   0.001002   0.00200401]\n"
     ]
    }
   ],
   "source": [
    "river = 'Skagit_MountVernon'\n",
    "\n",
    "primary_river = read_river(river, 'primary')\n",
    "\n",
    "number_trys = 1000\n",
    "fittedbad = 0\n",
    "nobad = 0\n",
    "accumulateG, accumulateC, accumulateB = np.zeros(22), np.zeros(22),  np.zeros(22)\n",
    "\n",
    "for ii in range(number_trys):\n",
    "    accumulateG, accumulateC, accumulateB, fittedbad, nobad = doone(\n",
    "        primary_river, gap_length,accumulateG, accumulateC, accumulateB, fittedbad, 'fit', nobad, doplots=False)\n",
    "    \n",
    "print (\"realized\", number_trys - nobad)\n",
    "\n",
    "number_good = (number_trys - nobad) * np.ones(22)\n",
    "\n",
    "for ii in [18, 19, 20, 21]:\n",
    "    number_good[ii] = number_trys - fittedbad\n",
    "    \n",
    "print (number_good, accumulateG/number_good, accumulateC/number_good, accumulateB/number_good)"
   ]
  },
  {
   "cell_type": "code",
   "execution_count": 20,
   "id": "4e696430-3bfb-45a5-ae75-9430e9ca8552",
   "metadata": {},
   "outputs": [
    {
     "data": {
      "image/png": "[encoded data removed]",
      "text/plain": [
       "<Figure size 1080x1080 with 3 Axes>"
      ]
     },
     "metadata": {
      "needs_background": "light"
     },
     "output_type": "display_data"
    }
   ],
   "source": [
    "fig, axs = plt.subplots(3, 1, figsize=(15, 15))\n",
    "axs[0].plot(np.abs(accumulateG)/number_good, 'o')\n",
    "axs[1].plot(np.abs(accumulateC)/number_good, 'o')\n",
    "axs[2].plot(np.abs(accumulateB)/number_good, 'o')\n",
    "\n",
    "for ax in axs:\n",
    "    ax.axvspan(-0.5, 6.5, color='tab:orange', alpha=0.2) \n",
    "    ax.axvspan(6.5, 12.5, color='tab:green', alpha=0.2) \n",
    "    ax.axvspan(12.5, 17.5, color='tab:pink', alpha=0.2)\n",
    "    ax.axvspan(17.5, 21.5, color='tab:olive', alpha=0.2)\n",
    "    \n",
    "axs[1].plot([-0.5, 21.5], [0.05, 0.05], c='grey')\n",
    "axs[2].plot([-0.5, 21.5], [0.01, 0.01], c='grey');"
   ]
  },
  {
   "cell_type": "code",
   "execution_count": 21,
   "id": "076b73e3-6b34-4dc2-ad59-48353170f060",
   "metadata": {},
   "outputs": [
    {
     "name": "stderr",
     "output_type": "stream",
     "text": [
      "/ocean/sallen/miniconda3/envs/py39/lib/python3.9/site-packages/pandas/util/_decorators.py:311: ParserWarning: Length of header or names does not match length of data. This leads to a loss of data with index_col=False.\n",
      "  return func(*args, **kwargs)\n"
     ]
    },
    {
     "name": "stdout",
     "output_type": "stream",
     "text": [
      "realized 1000\n",
      "[1000. 1000. 1000. 1000. 1000. 1000. 1000. 1000. 1000. 1000. 1000. 1000.\n",
      " 1000. 1000. 1000. 1000. 1000. 1000.  995.  995.  995.  995.] [ 2.60688141  2.63425668  2.65908726  2.66569191  2.66203299  2.67596268\n",
      "  2.68919639  7.36652007  6.80710433  6.16925427  5.78865764  5.60767214\n",
      "  5.3960268  34.04710287 31.3018869  25.82690651 21.18732779 17.43975913\n",
      "  1.45387561  1.48974672  1.53426151  1.59617252] [0.121      0.123      0.131      0.136      0.144      0.147\n",
      " 0.145      0.385      0.375      0.364      0.361      0.354\n",
      " 0.341      0.674      0.59       0.57       0.534      0.528\n",
      " 0.05125628 0.05326633 0.05125628 0.06331658] [0.         0.         0.         0.         0.         0.\n",
      " 0.         0.128      0.123      0.108      0.095      0.087\n",
      " 0.083      0.325      0.273      0.262      0.247      0.24\n",
      " 0.00904523 0.00603015 0.0040201  0.00301508]\n"
     ]
    }
   ],
   "source": [
    "river = 'Greenwater_Greenwater'\n",
    "\n",
    "primary_river = read_river(river, 'primary')\n",
    "\n",
    "number_trys = 1000\n",
    "fittedbad = 0\n",
    "nobad = 0\n",
    "accumulateG, accumulateC, accumulateB = np.zeros(22), np.zeros(22),  np.zeros(22)\n",
    "\n",
    "for ii in range(number_trys):\n",
    "    accumulateG, accumulateC, accumulateB, fittedbad, nobad = doone(\n",
    "        primary_river, gap_length,accumulateG, accumulateC, accumulateB, fittedbad, 'fit', nobad, doplots=False)\n",
    "    \n",
    "print (\"realized\", number_trys - nobad)\n",
    "\n",
    "number_good = (number_trys - nobad) * np.ones(22)\n",
    "\n",
    "for ii in [18, 19, 20, 21]:\n",
    "    number_good[ii] = number_trys - fittedbad\n",
    "    \n",
    "print (number_good, accumulateG/number_good, accumulateC/number_good, accumulateB/number_good)"
   ]
  },
  {
   "cell_type": "code",
   "execution_count": 22,
   "id": "6a2ce98b-ce35-43d6-a933-e9788f1464cc",
   "metadata": {},
   "outputs": [
    {
     "data": {
      "image/png": "[encoded data removed]",
      "text/plain": [
       "<Figure size 1080x1080 with 3 Axes>"
      ]
     },
     "metadata": {
      "needs_background": "light"
     },
     "output_type": "display_data"
    }
   ],
   "source": [
    "fig, axs = plt.subplots(3, 1, figsize=(15, 15))\n",
    "axs[0].plot(np.abs(accumulateG)/number_good, 'o')\n",
    "axs[1].plot(np.abs(accumulateC)/number_good, 'o')\n",
    "axs[2].plot(np.abs(accumulateB)/number_good, 'o')\n",
    "\n",
    "for ax in axs:\n",
    "    ax.axvspan(-0.5, 6.5, color='tab:orange', alpha=0.2) \n",
    "    ax.axvspan(6.5, 12.5, color='tab:green', alpha=0.2) \n",
    "    ax.axvspan(12.5, 17.5, color='tab:pink', alpha=0.2)\n",
    "    ax.axvspan(17.5, 21.5, color='tab:olive', alpha=0.2)\n",
    "    \n",
    "axs[1].plot([-0.5, 21.5], [0.05, 0.05], c='grey')\n",
    "axs[2].plot([-0.5, 21.5], [0.01, 0.01], c='grey');"
   ]
  },
  {
   "cell_type": "code",
   "execution_count": null,
   "id": "a75c10e0-c528-409f-a459-0adc86a0db3d",
   "metadata": {},
   "outputs": [],
   "source": []
  }
 ],
 "metadata": {
  "kernelspec": {
   "display_name": "py39",
   "language": "python",
   "name": "py39"
  },
  "language_info": {
   "codemirror_mode": {
    "name": "ipython",
    "version": 3
   },
   "file_extension": ".py",
   "mimetype": "text/x-python",
   "name": "python",
   "nbconvert_exporter": "python",
   "pygments_lexer": "ipython3",
   "version": "3.9.2"
  }
 },
 "nbformat": 4,
 "nbformat_minor": 5
}
