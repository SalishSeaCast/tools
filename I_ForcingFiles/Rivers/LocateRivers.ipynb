{
 "cells": [
  {
   "cell_type": "code",
   "execution_count": 23,
   "metadata": {},
   "outputs": [],
   "source": [
    "import matplotlib.pyplot as plt\n",
    "import xarray as xr\n",
    "\n",
    "from salishsea_tools import viz_tools, geo_tools\n",
    "\n",
    "%matplotlib inline"
   ]
  },
  {
   "cell_type": "code",
   "execution_count": 29,
   "metadata": {},
   "outputs": [],
   "source": [
    "bathyfile = '../../../grid/bathymetry_201702.nc'\n",
    "meshfile = '../../../grid/mesh_mask201702.nc'"
   ]
  },
  {
   "cell_type": "code",
   "execution_count": 30,
   "metadata": {},
   "outputs": [],
   "source": [
    "bathy = xr.open_dataset(bathyfile)\n",
    "mesh = xr.open_dataset(meshfile)\n",
    "mask = 1 - mesh.tmask[0, 0]"
   ]
  },
  {
   "cell_type": "code",
   "execution_count": 33,
   "metadata": {},
   "outputs": [
    {
     "data": {
      "text/html": [
       "<div><svg style=\"position: absolute; width: 0; height: 0; overflow: hidden\">\n",
       "<defs>\n",
       "<symbol id=\"icon-database\" viewBox=\"0 0 32 32\">\n",
       "<path d=\"M16 0c-8.837 0-16 2.239-16 5v4c0 2.761 7.163 5 16 5s16-2.239 16-5v-4c0-2.761-7.163-5-16-5z\"></path>\n",
       "<path d=\"M16 17c-8.837 0-16-2.239-16-5v6c0 2.761 7.163 5 16 5s16-2.239 16-5v-6c0 2.761-7.163 5-16 5z\"></path>\n",
       "<path d=\"M16 26c-8.837 0-16-2.239-16-5v6c0 2.761 7.163 5 16 5s16-2.239 16-5v-6c0 2.761-7.163 5-16 5z\"></path>\n",
       "</symbol>\n",
       "<symbol id=\"icon-file-text2\" viewBox=\"0 0 32 32\">\n",
       "<path d=\"M28.681 7.159c-0.694-0.947-1.662-2.053-2.724-3.116s-2.169-2.030-3.116-2.724c-1.612-1.182-2.393-1.319-2.841-1.319h-15.5c-1.378 0-2.5 1.121-2.5 2.5v27c0 1.378 1.122 2.5 2.5 2.5h23c1.378 0 2.5-1.122 2.5-2.5v-19.5c0-0.448-0.137-1.23-1.319-2.841zM24.543 5.457c0.959 0.959 1.712 1.825 2.268 2.543h-4.811v-4.811c0.718 0.556 1.584 1.309 2.543 2.268zM28 29.5c0 0.271-0.229 0.5-0.5 0.5h-23c-0.271 0-0.5-0.229-0.5-0.5v-27c0-0.271 0.229-0.5 0.5-0.5 0 0 15.499-0 15.5 0v7c0 0.552 0.448 1 1 1h7v19.5z\"></path>\n",
       "<path d=\"M23 26h-14c-0.552 0-1-0.448-1-1s0.448-1 1-1h14c0.552 0 1 0.448 1 1s-0.448 1-1 1z\"></path>\n",
       "<path d=\"M23 22h-14c-0.552 0-1-0.448-1-1s0.448-1 1-1h14c0.552 0 1 0.448 1 1s-0.448 1-1 1z\"></path>\n",
       "<path d=\"M23 18h-14c-0.552 0-1-0.448-1-1s0.448-1 1-1h14c0.552 0 1 0.448 1 1s-0.448 1-1 1z\"></path>\n",
       "</symbol>\n",
       "</defs>\n",
       "</svg>\n",
       "<style>/* CSS stylesheet for displaying xarray objects in jupyterlab.\n",
       " *\n",
       " */\n",
       "\n",
       ":root {\n",
       "  --xr-font-color0: var(--jp-content-font-color0, rgba(0, 0, 0, 1));\n",
       "  --xr-font-color2: var(--jp-content-font-color2, rgba(0, 0, 0, 0.54));\n",
       "  --xr-font-color3: var(--jp-content-font-color3, rgba(0, 0, 0, 0.38));\n",
       "  --xr-border-color: var(--jp-border-color2, #e0e0e0);\n",
       "  --xr-disabled-color: var(--jp-layout-color3, #bdbdbd);\n",
       "  --xr-background-color: var(--jp-layout-color0, white);\n",
       "  --xr-background-color-row-even: var(--jp-layout-color1, white);\n",
       "  --xr-background-color-row-odd: var(--jp-layout-color2, #eeeeee);\n",
       "}\n",
       "\n",
       "html[theme=dark],\n",
       "body.vscode-dark {\n",
       "  --xr-font-color0: rgba(255, 255, 255, 1);\n",
       "  --xr-font-color2: rgba(255, 255, 255, 0.54);\n",
       "  --xr-font-color3: rgba(255, 255, 255, 0.38);\n",
       "  --xr-border-color: #1F1F1F;\n",
       "  --xr-disabled-color: #515151;\n",
       "  --xr-background-color: #111111;\n",
       "  --xr-background-color-row-even: #111111;\n",
       "  --xr-background-color-row-odd: #313131;\n",
       "}\n",
       "\n",
       ".xr-wrap {\n",
       "  display: block;\n",
       "  min-width: 300px;\n",
       "  max-width: 700px;\n",
       "}\n",
       "\n",
       ".xr-text-repr-fallback {\n",
       "  /* fallback to plain text repr when CSS is not injected (untrusted notebook) */\n",
       "  display: none;\n",
       "}\n",
       "\n",
       ".xr-header {\n",
       "  padding-top: 6px;\n",
       "  padding-bottom: 6px;\n",
       "  margin-bottom: 4px;\n",
       "  border-bottom: solid 1px var(--xr-border-color);\n",
       "}\n",
       "\n",
       ".xr-header > div,\n",
       ".xr-header > ul {\n",
       "  display: inline;\n",
       "  margin-top: 0;\n",
       "  margin-bottom: 0;\n",
       "}\n",
       "\n",
       ".xr-obj-type,\n",
       ".xr-array-name {\n",
       "  margin-left: 2px;\n",
       "  margin-right: 10px;\n",
       "}\n",
       "\n",
       ".xr-obj-type {\n",
       "  color: var(--xr-font-color2);\n",
       "}\n",
       "\n",
       ".xr-sections {\n",
       "  padding-left: 0 !important;\n",
       "  display: grid;\n",
       "  grid-template-columns: 150px auto auto 1fr 20px 20px;\n",
       "}\n",
       "\n",
       ".xr-section-item {\n",
       "  display: contents;\n",
       "}\n",
       "\n",
       ".xr-section-item input {\n",
       "  display: none;\n",
       "}\n",
       "\n",
       ".xr-section-item input + label {\n",
       "  color: var(--xr-disabled-color);\n",
       "}\n",
       "\n",
       ".xr-section-item input:enabled + label {\n",
       "  cursor: pointer;\n",
       "  color: var(--xr-font-color2);\n",
       "}\n",
       "\n",
       ".xr-section-item input:enabled + label:hover {\n",
       "  color: var(--xr-font-color0);\n",
       "}\n",
       "\n",
       ".xr-section-summary {\n",
       "  grid-column: 1;\n",
       "  color: var(--xr-font-color2);\n",
       "  font-weight: 500;\n",
       "}\n",
       "\n",
       ".xr-section-summary > span {\n",
       "  display: inline-block;\n",
       "  padding-left: 0.5em;\n",
       "}\n",
       "\n",
       ".xr-section-summary-in:disabled + label {\n",
       "  color: var(--xr-font-color2);\n",
       "}\n",
       "\n",
       ".xr-section-summary-in + label:before {\n",
       "  display: inline-block;\n",
       "  content: '►';\n",
       "  font-size: 11px;\n",
       "  width: 15px;\n",
       "  text-align: center;\n",
       "}\n",
       "\n",
       ".xr-section-summary-in:disabled + label:before {\n",
       "  color: var(--xr-disabled-color);\n",
       "}\n",
       "\n",
       ".xr-section-summary-in:checked + label:before {\n",
       "  content: '▼';\n",
       "}\n",
       "\n",
       ".xr-section-summary-in:checked + label > span {\n",
       "  display: none;\n",
       "}\n",
       "\n",
       ".xr-section-summary,\n",
       ".xr-section-inline-details {\n",
       "  padding-top: 4px;\n",
       "  padding-bottom: 4px;\n",
       "}\n",
       "\n",
       ".xr-section-inline-details {\n",
       "  grid-column: 2 / -1;\n",
       "}\n",
       "\n",
       ".xr-section-details {\n",
       "  display: none;\n",
       "  grid-column: 1 / -1;\n",
       "  margin-bottom: 5px;\n",
       "}\n",
       "\n",
       ".xr-section-summary-in:checked ~ .xr-section-details {\n",
       "  display: contents;\n",
       "}\n",
       "\n",
       ".xr-array-wrap {\n",
       "  grid-column: 1 / -1;\n",
       "  display: grid;\n",
       "  grid-template-columns: 20px auto;\n",
       "}\n",
       "\n",
       ".xr-array-wrap > label {\n",
       "  grid-column: 1;\n",
       "  vertical-align: top;\n",
       "}\n",
       "\n",
       ".xr-preview {\n",
       "  color: var(--xr-font-color3);\n",
       "}\n",
       "\n",
       ".xr-array-preview,\n",
       ".xr-array-data {\n",
       "  padding: 0 5px !important;\n",
       "  grid-column: 2;\n",
       "}\n",
       "\n",
       ".xr-array-data,\n",
       ".xr-array-in:checked ~ .xr-array-preview {\n",
       "  display: none;\n",
       "}\n",
       "\n",
       ".xr-array-in:checked ~ .xr-array-data,\n",
       ".xr-array-preview {\n",
       "  display: inline-block;\n",
       "}\n",
       "\n",
       ".xr-dim-list {\n",
       "  display: inline-block !important;\n",
       "  list-style: none;\n",
       "  padding: 0 !important;\n",
       "  margin: 0;\n",
       "}\n",
       "\n",
       ".xr-dim-list li {\n",
       "  display: inline-block;\n",
       "  padding: 0;\n",
       "  margin: 0;\n",
       "}\n",
       "\n",
       ".xr-dim-list:before {\n",
       "  content: '(';\n",
       "}\n",
       "\n",
       ".xr-dim-list:after {\n",
       "  content: ')';\n",
       "}\n",
       "\n",
       ".xr-dim-list li:not(:last-child):after {\n",
       "  content: ',';\n",
       "  padding-right: 5px;\n",
       "}\n",
       "\n",
       ".xr-has-index {\n",
       "  font-weight: bold;\n",
       "}\n",
       "\n",
       ".xr-var-list,\n",
       ".xr-var-item {\n",
       "  display: contents;\n",
       "}\n",
       "\n",
       ".xr-var-item > div,\n",
       ".xr-var-item label,\n",
       ".xr-var-item > .xr-var-name span {\n",
       "  background-color: var(--xr-background-color-row-even);\n",
       "  margin-bottom: 0;\n",
       "}\n",
       "\n",
       ".xr-var-item > .xr-var-name:hover span {\n",
       "  padding-right: 5px;\n",
       "}\n",
       "\n",
       ".xr-var-list > li:nth-child(odd) > div,\n",
       ".xr-var-list > li:nth-child(odd) > label,\n",
       ".xr-var-list > li:nth-child(odd) > .xr-var-name span {\n",
       "  background-color: var(--xr-background-color-row-odd);\n",
       "}\n",
       "\n",
       ".xr-var-name {\n",
       "  grid-column: 1;\n",
       "}\n",
       "\n",
       ".xr-var-dims {\n",
       "  grid-column: 2;\n",
       "}\n",
       "\n",
       ".xr-var-dtype {\n",
       "  grid-column: 3;\n",
       "  text-align: right;\n",
       "  color: var(--xr-font-color2);\n",
       "}\n",
       "\n",
       ".xr-var-preview {\n",
       "  grid-column: 4;\n",
       "}\n",
       "\n",
       ".xr-var-name,\n",
       ".xr-var-dims,\n",
       ".xr-var-dtype,\n",
       ".xr-preview,\n",
       ".xr-attrs dt {\n",
       "  white-space: nowrap;\n",
       "  overflow: hidden;\n",
       "  text-overflow: ellipsis;\n",
       "  padding-right: 10px;\n",
       "}\n",
       "\n",
       ".xr-var-name:hover,\n",
       ".xr-var-dims:hover,\n",
       ".xr-var-dtype:hover,\n",
       ".xr-attrs dt:hover {\n",
       "  overflow: visible;\n",
       "  width: auto;\n",
       "  z-index: 1;\n",
       "}\n",
       "\n",
       ".xr-var-attrs,\n",
       ".xr-var-data {\n",
       "  display: none;\n",
       "  background-color: var(--xr-background-color) !important;\n",
       "  padding-bottom: 5px !important;\n",
       "}\n",
       "\n",
       ".xr-var-attrs-in:checked ~ .xr-var-attrs,\n",
       ".xr-var-data-in:checked ~ .xr-var-data {\n",
       "  display: block;\n",
       "}\n",
       "\n",
       ".xr-var-data > table {\n",
       "  float: right;\n",
       "}\n",
       "\n",
       ".xr-var-name span,\n",
       ".xr-var-data,\n",
       ".xr-attrs {\n",
       "  padding-left: 25px !important;\n",
       "}\n",
       "\n",
       ".xr-attrs,\n",
       ".xr-var-attrs,\n",
       ".xr-var-data {\n",
       "  grid-column: 1 / -1;\n",
       "}\n",
       "\n",
       "dl.xr-attrs {\n",
       "  padding: 0;\n",
       "  margin: 0;\n",
       "  display: grid;\n",
       "  grid-template-columns: 125px auto;\n",
       "}\n",
       "\n",
       ".xr-attrs dt,\n",
       ".xr-attrs dd {\n",
       "  padding: 0;\n",
       "  margin: 0;\n",
       "  float: left;\n",
       "  padding-right: 10px;\n",
       "  width: auto;\n",
       "}\n",
       "\n",
       ".xr-attrs dt {\n",
       "  font-weight: normal;\n",
       "  grid-column: 1;\n",
       "}\n",
       "\n",
       ".xr-attrs dt:hover span {\n",
       "  display: inline-block;\n",
       "  background: var(--xr-background-color);\n",
       "  padding-right: 10px;\n",
       "}\n",
       "\n",
       ".xr-attrs dd {\n",
       "  grid-column: 2;\n",
       "  white-space: pre-wrap;\n",
       "  word-break: break-all;\n",
       "}\n",
       "\n",
       ".xr-icon-database,\n",
       ".xr-icon-file-text2 {\n",
       "  display: inline-block;\n",
       "  vertical-align: middle;\n",
       "  width: 1em;\n",
       "  height: 1.5em !important;\n",
       "  stroke-width: 0;\n",
       "  stroke: currentColor;\n",
       "  fill: currentColor;\n",
       "}\n",
       "</style><pre class='xr-text-repr-fallback'>&lt;xarray.Dataset&gt;\n",
       "Dimensions:       (t: 1, x: 398, y: 898, z: 40)\n",
       "Dimensions without coordinates: t, x, y, z\n",
       "Data variables:\n",
       "    nav_lon       (y, x) float32 ...\n",
       "    nav_lat       (y, x) float32 ...\n",
       "    time_counter  (t) datetime64[ns] 1900-01-01\n",
       "    tmask         (t, z, y, x) int8 ...\n",
       "    umask         (t, z, y, x) int8 ...\n",
       "    vmask         (t, z, y, x) int8 ...\n",
       "    fmask         (t, z, y, x) int8 ...\n",
       "    tmaskutil     (t, y, x) int8 ...\n",
       "    umaskutil     (t, y, x) int8 ...\n",
       "    vmaskutil     (t, y, x) int8 ...\n",
       "    fmaskutil     (t, y, x) int8 ...\n",
       "    glamt         (t, y, x) float32 ...\n",
       "    glamu         (t, y, x) float32 ...\n",
       "    glamv         (t, y, x) float32 ...\n",
       "    glamf         (t, y, x) float32 ...\n",
       "    gphit         (t, y, x) float32 ...\n",
       "    gphiu         (t, y, x) float32 ...\n",
       "    gphiv         (t, y, x) float32 ...\n",
       "    gphif         (t, y, x) float32 ...\n",
       "    e1t           (t, y, x) float64 ...\n",
       "    e1u           (t, y, x) float64 ...\n",
       "    e1v           (t, y, x) float64 ...\n",
       "    e1f           (t, y, x) float64 ...\n",
       "    e2t           (t, y, x) float64 ...\n",
       "    e2u           (t, y, x) float64 ...\n",
       "    e2v           (t, y, x) float64 ...\n",
       "    e2f           (t, y, x) float64 ...\n",
       "    ff            (t, y, x) float64 ...\n",
       "    mbathy        (t, y, x) int16 ...\n",
       "    misf          (t, y, x) int16 ...\n",
       "    isfdraft      (t, y, x) float32 ...\n",
       "    e3t_0         (t, z, y, x) float64 ...\n",
       "    e3u_0         (t, z, y, x) float64 ...\n",
       "    e3v_0         (t, z, y, x) float64 ...\n",
       "    e3w_0         (t, z, y, x) float64 ...\n",
       "    gdept_0       (t, z, y, x) float32 ...\n",
       "    gdepu         (t, z, y, x) float32 ...\n",
       "    gdepv         (t, z, y, x) float32 ...\n",
       "    gdepw_0       (t, z, y, x) float32 ...\n",
       "    gdept_1d      (t, z) float64 0.5 1.5 2.5 3.5 4.5 ... 360.7 387.6 414.5 441.5\n",
       "    gdepw_1d      (t, z) float64 0.0 1.0 2.0 3.0 4.0 ... 347.2 374.1 401.1 428.0\n",
       "    e3t_1d        (t, z) float64 1.0 1.0 1.0 1.0 1.0 ... 26.93 26.93 26.93 26.93\n",
       "    e3w_1d        (t, z) float64 1.0 1.0 1.0 1.0 1.0 ... 26.92 26.93 26.93 26.93\n",
       "Attributes:\n",
       "    DOMAIN_number_total:     1\n",
       "    DOMAIN_number:           0\n",
       "    DOMAIN_dimensions_ids:   [1 2]\n",
       "    DOMAIN_size_global:      [398 898]\n",
       "    DOMAIN_size_local:       [398 898]\n",
       "    DOMAIN_position_first:   [1 1]\n",
       "    DOMAIN_position_last:    [398 898]\n",
       "    DOMAIN_halo_size_start:  [0 0]\n",
       "    DOMAIN_halo_size_end:    [0 0]\n",
       "    DOMAIN_type:             BOX\n",
       "    file_name:               NEMO-forcing/grid/mesh_mask201702.nc\n",
       "    TimeStamp:               14/03/2019 15:00:00 -0700\n",
       "    Conventions:             CF-1.6\n",
       "    title:                   Salish Sea NEMO bathymetry_201702 Bathymetry Mes...\n",
       "    institution:             Dept of Earth, Ocean &amp; Atmospheric Sciences, Uni...\n",
       "    source:                  NEMO-3.6 Salish Sea configuration\n",
       "    references:              https://salishsea.eos.ubc.ca/erddap/info/\\nhttps...\n",
       "    history:                 [2019-03-14 15:00] ncks -4 -L4 -O mesh_mask.nc m...</pre><div class='xr-wrap' hidden><div class='xr-header'><div class='xr-obj-type'>xarray.Dataset</div></div><ul class='xr-sections'><li class='xr-section-item'><input id='section-2fd13ec8-cead-4485-b720-c15cb127e868' class='xr-section-summary-in' type='checkbox' disabled ><label for='section-2fd13ec8-cead-4485-b720-c15cb127e868' class='xr-section-summary'  title='Expand/collapse section'>Dimensions:</label><div class='xr-section-inline-details'><ul class='xr-dim-list'><li><span>t</span>: 1</li><li><span>x</span>: 398</li><li><span>y</span>: 898</li><li><span>z</span>: 40</li></ul></div><div class='xr-section-details'></div></li><li class='xr-section-item'><input id='section-197a930f-2602-43c6-9373-2ef8eac5d73a' class='xr-section-summary-in' type='checkbox' disabled ><label for='section-197a930f-2602-43c6-9373-2ef8eac5d73a' class='xr-section-summary'  title='Expand/collapse section'>Coordinates: <span>(0)</span></label><div class='xr-section-inline-details'></div><div class='xr-section-details'><ul class='xr-var-list'></ul></div></li><li class='xr-section-item'><input id='section-34e2786e-6676-47f4-8b5f-a82c90cc234c' class='xr-section-summary-in' type='checkbox'  ><label for='section-34e2786e-6676-47f4-8b5f-a82c90cc234c' class='xr-section-summary' >Data variables: <span>(43)</span></label><div class='xr-section-inline-details'></div><div class='xr-section-details'><ul class='xr-var-list'><li class='xr-var-item'><div class='xr-var-name'><span>nav_lon</span></div><div class='xr-var-dims'>(y, x)</div><div class='xr-var-dtype'>float32</div><div class='xr-var-preview xr-preview'>...</div><input id='attrs-81c06b28-6b95-4161-8cba-fefee89b7f7c' class='xr-var-attrs-in' type='checkbox' ><label for='attrs-81c06b28-6b95-4161-8cba-fefee89b7f7c' title='Show/Hide attributes'><svg class='icon xr-icon-file-text2'><use xlink:href='#icon-file-text2'></use></svg></label><input id='data-0061b4b3-458c-420b-acf3-3244f9fae3ba' class='xr-var-data-in' type='checkbox'><label for='data-0061b4b3-458c-420b-acf3-3244f9fae3ba' title='Show/Hide data repr'><svg class='icon xr-icon-database'><use xlink:href='#icon-database'></use></svg></label><div class='xr-var-attrs'><dl class='xr-attrs'><dt><span>standard_name :</span></dt><dd>nav_lon</dd><dt><span>long_name :</span></dt><dd>longitude of T-grid points</dd><dt><span>units :</span></dt><dd>degrees_east</dd></dl></div><div class='xr-var-data'><pre>[357404 values with dtype=float32]</pre></div></li><li class='xr-var-item'><div class='xr-var-name'><span>nav_lat</span></div><div class='xr-var-dims'>(y, x)</div><div class='xr-var-dtype'>float32</div><div class='xr-var-preview xr-preview'>...</div><input id='attrs-8efb27af-2ccd-4c1b-8b91-7f7c14c022f8' class='xr-var-attrs-in' type='checkbox' ><label for='attrs-8efb27af-2ccd-4c1b-8b91-7f7c14c022f8' title='Show/Hide attributes'><svg class='icon xr-icon-file-text2'><use xlink:href='#icon-file-text2'></use></svg></label><input id='data-69ea8409-bbc3-4c81-a279-b72302693ceb' class='xr-var-data-in' type='checkbox'><label for='data-69ea8409-bbc3-4c81-a279-b72302693ceb' title='Show/Hide data repr'><svg class='icon xr-icon-database'><use xlink:href='#icon-database'></use></svg></label><div class='xr-var-attrs'><dl class='xr-attrs'><dt><span>standard_name :</span></dt><dd>nav_lat</dd><dt><span>long_name :</span></dt><dd>latitude of T-grid points</dd><dt><span>units :</span></dt><dd>degrees_north</dd></dl></div><div class='xr-var-data'><pre>[357404 values with dtype=float32]</pre></div></li><li class='xr-var-item'><div class='xr-var-name'><span>time_counter</span></div><div class='xr-var-dims'>(t)</div><div class='xr-var-dtype'>datetime64[ns]</div><div class='xr-var-preview xr-preview'>...</div><input id='attrs-133c4753-764f-4f38-bf98-c36e6df32b15' class='xr-var-attrs-in' type='checkbox' ><label for='attrs-133c4753-764f-4f38-bf98-c36e6df32b15' title='Show/Hide attributes'><svg class='icon xr-icon-file-text2'><use xlink:href='#icon-file-text2'></use></svg></label><input id='data-ef41a62f-767f-4808-a14a-24891150ceae' class='xr-var-data-in' type='checkbox'><label for='data-ef41a62f-767f-4808-a14a-24891150ceae' title='Show/Hide data repr'><svg class='icon xr-icon-database'><use xlink:href='#icon-database'></use></svg></label><div class='xr-var-attrs'><dl class='xr-attrs'><dt><span>standard_name :</span></dt><dd>time_counter</dd><dt><span>long_name :</span></dt><dd>time</dd><dt><span>time_origin :</span></dt><dd>2014-09-12 00:30:00</dd></dl></div><div class='xr-var-data'><pre>array([&#x27;1900-01-01T00:00:00.000000000&#x27;], dtype=&#x27;datetime64[ns]&#x27;)</pre></div></li><li class='xr-var-item'><div class='xr-var-name'><span>tmask</span></div><div class='xr-var-dims'>(t, z, y, x)</div><div class='xr-var-dtype'>int8</div><div class='xr-var-preview xr-preview'>...</div><input id='attrs-2f83c5b5-4b0c-4723-b09f-eb2b7edcc30d' class='xr-var-attrs-in' type='checkbox' ><label for='attrs-2f83c5b5-4b0c-4723-b09f-eb2b7edcc30d' title='Show/Hide attributes'><svg class='icon xr-icon-file-text2'><use xlink:href='#icon-file-text2'></use></svg></label><input id='data-e59978a2-02aa-4ec0-b2eb-8e199e922ab5' class='xr-var-data-in' type='checkbox'><label for='data-e59978a2-02aa-4ec0-b2eb-8e199e922ab5' title='Show/Hide data repr'><svg class='icon xr-icon-database'><use xlink:href='#icon-database'></use></svg></label><div class='xr-var-attrs'><dl class='xr-attrs'><dt><span>standard_name :</span></dt><dd>tmask</dd><dt><span>long_name :</span></dt><dd>mask for T-grid and W-grid</dd><dt><span>flag_values :</span></dt><dd>0, 1</dd><dt><span>flag_meanings :</span></dt><dd>land, water</dd></dl></div><div class='xr-var-data'><pre>[14296160 values with dtype=int8]</pre></div></li><li class='xr-var-item'><div class='xr-var-name'><span>umask</span></div><div class='xr-var-dims'>(t, z, y, x)</div><div class='xr-var-dtype'>int8</div><div class='xr-var-preview xr-preview'>...</div><input id='attrs-642f855e-ee78-4c35-8d4b-6918445f618b' class='xr-var-attrs-in' type='checkbox' ><label for='attrs-642f855e-ee78-4c35-8d4b-6918445f618b' title='Show/Hide attributes'><svg class='icon xr-icon-file-text2'><use xlink:href='#icon-file-text2'></use></svg></label><input id='data-c69d1d47-0141-4fa5-9ad3-65191640515b' class='xr-var-data-in' type='checkbox'><label for='data-c69d1d47-0141-4fa5-9ad3-65191640515b' title='Show/Hide data repr'><svg class='icon xr-icon-database'><use xlink:href='#icon-database'></use></svg></label><div class='xr-var-attrs'><dl class='xr-attrs'><dt><span>standard_name :</span></dt><dd>umask</dd><dt><span>long_name :</span></dt><dd>mask for U-grid</dd><dt><span>flag_values :</span></dt><dd>0, 1</dd><dt><span>flag_meanings :</span></dt><dd>land, water</dd></dl></div><div class='xr-var-data'><pre>[14296160 values with dtype=int8]</pre></div></li><li class='xr-var-item'><div class='xr-var-name'><span>vmask</span></div><div class='xr-var-dims'>(t, z, y, x)</div><div class='xr-var-dtype'>int8</div><div class='xr-var-preview xr-preview'>...</div><input id='attrs-8650e312-b763-4b44-8d0d-8aa3f9bd0332' class='xr-var-attrs-in' type='checkbox' ><label for='attrs-8650e312-b763-4b44-8d0d-8aa3f9bd0332' title='Show/Hide attributes'><svg class='icon xr-icon-file-text2'><use xlink:href='#icon-file-text2'></use></svg></label><input id='data-abdfefe2-bf14-4cb8-9ea3-d2ce02749c92' class='xr-var-data-in' type='checkbox'><label for='data-abdfefe2-bf14-4cb8-9ea3-d2ce02749c92' title='Show/Hide data repr'><svg class='icon xr-icon-database'><use xlink:href='#icon-database'></use></svg></label><div class='xr-var-attrs'><dl class='xr-attrs'><dt><span>standard_name :</span></dt><dd>vmask</dd><dt><span>long_name :</span></dt><dd>mask for V-grid</dd><dt><span>flag_values :</span></dt><dd>0, 1</dd><dt><span>flag_meanings :</span></dt><dd>land, water</dd></dl></div><div class='xr-var-data'><pre>[14296160 values with dtype=int8]</pre></div></li><li class='xr-var-item'><div class='xr-var-name'><span>fmask</span></div><div class='xr-var-dims'>(t, z, y, x)</div><div class='xr-var-dtype'>int8</div><div class='xr-var-preview xr-preview'>...</div><input id='attrs-67b9e197-0d3b-4b62-923f-01bf3f8d0aec' class='xr-var-attrs-in' type='checkbox' ><label for='attrs-67b9e197-0d3b-4b62-923f-01bf3f8d0aec' title='Show/Hide attributes'><svg class='icon xr-icon-file-text2'><use xlink:href='#icon-file-text2'></use></svg></label><input id='data-d48db654-198c-410d-bbc0-6242cb01e007' class='xr-var-data-in' type='checkbox'><label for='data-d48db654-198c-410d-bbc0-6242cb01e007' title='Show/Hide data repr'><svg class='icon xr-icon-database'><use xlink:href='#icon-database'></use></svg></label><div class='xr-var-attrs'><dl class='xr-attrs'><dt><span>standard_name :</span></dt><dd>fmask</dd><dt><span>long_name :</span></dt><dd>mask for vorticity-grid</dd><dt><span>flag_values :</span></dt><dd>0, 1</dd><dt><span>flag_meanings :</span></dt><dd>land, water</dd></dl></div><div class='xr-var-data'><pre>[14296160 values with dtype=int8]</pre></div></li><li class='xr-var-item'><div class='xr-var-name'><span>tmaskutil</span></div><div class='xr-var-dims'>(t, y, x)</div><div class='xr-var-dtype'>int8</div><div class='xr-var-preview xr-preview'>...</div><input id='attrs-0cd2092c-1072-46e6-a24d-948676471f40' class='xr-var-attrs-in' type='checkbox' ><label for='attrs-0cd2092c-1072-46e6-a24d-948676471f40' title='Show/Hide attributes'><svg class='icon xr-icon-file-text2'><use xlink:href='#icon-file-text2'></use></svg></label><input id='data-72b4e898-2394-4e4c-b8a3-ed31b0895126' class='xr-var-data-in' type='checkbox'><label for='data-72b4e898-2394-4e4c-b8a3-ed31b0895126' title='Show/Hide data repr'><svg class='icon xr-icon-database'><use xlink:href='#icon-database'></use></svg></label><div class='xr-var-attrs'><dl class='xr-attrs'><dt><span>standard_name :</span></dt><dd>tmaskutil</dd><dt><span>long_name :</span></dt><dd>dry land mask for T-grid and W-grid</dd><dt><span>flag_values :</span></dt><dd>0, 1</dd><dt><span>flag_meanings :</span></dt><dd>land, water</dd></dl></div><div class='xr-var-data'><pre>[357404 values with dtype=int8]</pre></div></li><li class='xr-var-item'><div class='xr-var-name'><span>umaskutil</span></div><div class='xr-var-dims'>(t, y, x)</div><div class='xr-var-dtype'>int8</div><div class='xr-var-preview xr-preview'>...</div><input id='attrs-96f8a27c-1a98-4eca-a0c3-e9f99f94e4db' class='xr-var-attrs-in' type='checkbox' ><label for='attrs-96f8a27c-1a98-4eca-a0c3-e9f99f94e4db' title='Show/Hide attributes'><svg class='icon xr-icon-file-text2'><use xlink:href='#icon-file-text2'></use></svg></label><input id='data-372bdde9-d528-4f66-978f-779ed7ce783c' class='xr-var-data-in' type='checkbox'><label for='data-372bdde9-d528-4f66-978f-779ed7ce783c' title='Show/Hide data repr'><svg class='icon xr-icon-database'><use xlink:href='#icon-database'></use></svg></label><div class='xr-var-attrs'><dl class='xr-attrs'><dt><span>standard_name :</span></dt><dd>umaskutil</dd><dt><span>long_name :</span></dt><dd>dry land mask for U-grid</dd><dt><span>flag_values :</span></dt><dd>0, 1</dd><dt><span>flag_meanings :</span></dt><dd>land, water</dd></dl></div><div class='xr-var-data'><pre>[357404 values with dtype=int8]</pre></div></li><li class='xr-var-item'><div class='xr-var-name'><span>vmaskutil</span></div><div class='xr-var-dims'>(t, y, x)</div><div class='xr-var-dtype'>int8</div><div class='xr-var-preview xr-preview'>...</div><input id='attrs-a4bf3d0f-4921-4b5a-8af6-4cb630c21d85' class='xr-var-attrs-in' type='checkbox' ><label for='attrs-a4bf3d0f-4921-4b5a-8af6-4cb630c21d85' title='Show/Hide attributes'><svg class='icon xr-icon-file-text2'><use xlink:href='#icon-file-text2'></use></svg></label><input id='data-c91da7ff-739e-4fbc-89b5-7d2d3b71af1d' class='xr-var-data-in' type='checkbox'><label for='data-c91da7ff-739e-4fbc-89b5-7d2d3b71af1d' title='Show/Hide data repr'><svg class='icon xr-icon-database'><use xlink:href='#icon-database'></use></svg></label><div class='xr-var-attrs'><dl class='xr-attrs'><dt><span>standard_name :</span></dt><dd>vmaskutil</dd><dt><span>long_name :</span></dt><dd>dry land mask for V-grid</dd><dt><span>flag_values :</span></dt><dd>0, 1</dd><dt><span>flag_meanings :</span></dt><dd>land, water</dd></dl></div><div class='xr-var-data'><pre>[357404 values with dtype=int8]</pre></div></li><li class='xr-var-item'><div class='xr-var-name'><span>fmaskutil</span></div><div class='xr-var-dims'>(t, y, x)</div><div class='xr-var-dtype'>int8</div><div class='xr-var-preview xr-preview'>...</div><input id='attrs-a1de48a1-9a3d-4045-b83f-7e864f53c05f' class='xr-var-attrs-in' type='checkbox' ><label for='attrs-a1de48a1-9a3d-4045-b83f-7e864f53c05f' title='Show/Hide attributes'><svg class='icon xr-icon-file-text2'><use xlink:href='#icon-file-text2'></use></svg></label><input id='data-2cec8435-ff2c-458a-bfe2-e42955db4a6a' class='xr-var-data-in' type='checkbox'><label for='data-2cec8435-ff2c-458a-bfe2-e42955db4a6a' title='Show/Hide data repr'><svg class='icon xr-icon-database'><use xlink:href='#icon-database'></use></svg></label><div class='xr-var-attrs'><dl class='xr-attrs'><dt><span>standard_name :</span></dt><dd>fmaskutil</dd><dt><span>long_name :</span></dt><dd>dry land mask for vorticity-grid</dd><dt><span>flag_values :</span></dt><dd>0, 1</dd><dt><span>flag_meanings :</span></dt><dd>land, water</dd></dl></div><div class='xr-var-data'><pre>[357404 values with dtype=int8]</pre></div></li><li class='xr-var-item'><div class='xr-var-name'><span>glamt</span></div><div class='xr-var-dims'>(t, y, x)</div><div class='xr-var-dtype'>float32</div><div class='xr-var-preview xr-preview'>...</div><input id='attrs-bc92ac99-daca-48e4-8af7-026e352416ad' class='xr-var-attrs-in' type='checkbox' ><label for='attrs-bc92ac99-daca-48e4-8af7-026e352416ad' title='Show/Hide attributes'><svg class='icon xr-icon-file-text2'><use xlink:href='#icon-file-text2'></use></svg></label><input id='data-6d9574dc-e73c-47d0-83d7-ed6c6edfef54' class='xr-var-data-in' type='checkbox'><label for='data-6d9574dc-e73c-47d0-83d7-ed6c6edfef54' title='Show/Hide data repr'><svg class='icon xr-icon-database'><use xlink:href='#icon-database'></use></svg></label><div class='xr-var-attrs'><dl class='xr-attrs'><dt><span>standard_name :</span></dt><dd>glamt</dd><dt><span>long_name :</span></dt><dd>longitude of T-grid points</dd><dt><span>units :</span></dt><dd>degrees_east</dd></dl></div><div class='xr-var-data'><pre>[357404 values with dtype=float32]</pre></div></li><li class='xr-var-item'><div class='xr-var-name'><span>glamu</span></div><div class='xr-var-dims'>(t, y, x)</div><div class='xr-var-dtype'>float32</div><div class='xr-var-preview xr-preview'>...</div><input id='attrs-2d125985-f342-478f-8abe-eddf7f888122' class='xr-var-attrs-in' type='checkbox' ><label for='attrs-2d125985-f342-478f-8abe-eddf7f888122' title='Show/Hide attributes'><svg class='icon xr-icon-file-text2'><use xlink:href='#icon-file-text2'></use></svg></label><input id='data-934bc6e3-99d3-4009-bc10-a175e56341ba' class='xr-var-data-in' type='checkbox'><label for='data-934bc6e3-99d3-4009-bc10-a175e56341ba' title='Show/Hide data repr'><svg class='icon xr-icon-database'><use xlink:href='#icon-database'></use></svg></label><div class='xr-var-attrs'><dl class='xr-attrs'><dt><span>standard_name :</span></dt><dd>glamu</dd><dt><span>long_name :</span></dt><dd>longitude of U-grid points</dd><dt><span>units :</span></dt><dd>degrees_east</dd></dl></div><div class='xr-var-data'><pre>[357404 values with dtype=float32]</pre></div></li><li class='xr-var-item'><div class='xr-var-name'><span>glamv</span></div><div class='xr-var-dims'>(t, y, x)</div><div class='xr-var-dtype'>float32</div><div class='xr-var-preview xr-preview'>...</div><input id='attrs-b52aa84e-d42e-4e3b-bb18-3726d6816d0b' class='xr-var-attrs-in' type='checkbox' ><label for='attrs-b52aa84e-d42e-4e3b-bb18-3726d6816d0b' title='Show/Hide attributes'><svg class='icon xr-icon-file-text2'><use xlink:href='#icon-file-text2'></use></svg></label><input id='data-23d6dd43-fe50-4010-9701-37913d3a7cba' class='xr-var-data-in' type='checkbox'><label for='data-23d6dd43-fe50-4010-9701-37913d3a7cba' title='Show/Hide data repr'><svg class='icon xr-icon-database'><use xlink:href='#icon-database'></use></svg></label><div class='xr-var-attrs'><dl class='xr-attrs'><dt><span>standard_name :</span></dt><dd>glamv</dd><dt><span>long_name :</span></dt><dd>longitude of V-grid points</dd><dt><span>units :</span></dt><dd>degrees_east</dd></dl></div><div class='xr-var-data'><pre>[357404 values with dtype=float32]</pre></div></li><li class='xr-var-item'><div class='xr-var-name'><span>glamf</span></div><div class='xr-var-dims'>(t, y, x)</div><div class='xr-var-dtype'>float32</div><div class='xr-var-preview xr-preview'>...</div><input id='attrs-c71457cd-b77e-4a86-a0ba-1a4445e304ae' class='xr-var-attrs-in' type='checkbox' ><label for='attrs-c71457cd-b77e-4a86-a0ba-1a4445e304ae' title='Show/Hide attributes'><svg class='icon xr-icon-file-text2'><use xlink:href='#icon-file-text2'></use></svg></label><input id='data-b345867b-37ef-46ca-92ad-2438ef9c505b' class='xr-var-data-in' type='checkbox'><label for='data-b345867b-37ef-46ca-92ad-2438ef9c505b' title='Show/Hide data repr'><svg class='icon xr-icon-database'><use xlink:href='#icon-database'></use></svg></label><div class='xr-var-attrs'><dl class='xr-attrs'><dt><span>standard_name :</span></dt><dd>glamf</dd><dt><span>long_name :</span></dt><dd>longitude of vorticity-grid points</dd><dt><span>units :</span></dt><dd>degrees_east</dd></dl></div><div class='xr-var-data'><pre>[357404 values with dtype=float32]</pre></div></li><li class='xr-var-item'><div class='xr-var-name'><span>gphit</span></div><div class='xr-var-dims'>(t, y, x)</div><div class='xr-var-dtype'>float32</div><div class='xr-var-preview xr-preview'>...</div><input id='attrs-2aa4a9b9-3c4a-4682-93bd-9d9298c81dd9' class='xr-var-attrs-in' type='checkbox' ><label for='attrs-2aa4a9b9-3c4a-4682-93bd-9d9298c81dd9' title='Show/Hide attributes'><svg class='icon xr-icon-file-text2'><use xlink:href='#icon-file-text2'></use></svg></label><input id='data-a7936ac0-ada3-40b3-bb13-051979568cf1' class='xr-var-data-in' type='checkbox'><label for='data-a7936ac0-ada3-40b3-bb13-051979568cf1' title='Show/Hide data repr'><svg class='icon xr-icon-database'><use xlink:href='#icon-database'></use></svg></label><div class='xr-var-attrs'><dl class='xr-attrs'><dt><span>standard_name :</span></dt><dd>gphit</dd><dt><span>long_name :</span></dt><dd>latitude of T-grid points</dd><dt><span>units :</span></dt><dd>degrees_north</dd></dl></div><div class='xr-var-data'><pre>[357404 values with dtype=float32]</pre></div></li><li class='xr-var-item'><div class='xr-var-name'><span>gphiu</span></div><div class='xr-var-dims'>(t, y, x)</div><div class='xr-var-dtype'>float32</div><div class='xr-var-preview xr-preview'>...</div><input id='attrs-0a50f540-8448-438b-9cef-efb0e5142efb' class='xr-var-attrs-in' type='checkbox' ><label for='attrs-0a50f540-8448-438b-9cef-efb0e5142efb' title='Show/Hide attributes'><svg class='icon xr-icon-file-text2'><use xlink:href='#icon-file-text2'></use></svg></label><input id='data-4d19547d-75b1-415e-adfd-a20f81cc2267' class='xr-var-data-in' type='checkbox'><label for='data-4d19547d-75b1-415e-adfd-a20f81cc2267' title='Show/Hide data repr'><svg class='icon xr-icon-database'><use xlink:href='#icon-database'></use></svg></label><div class='xr-var-attrs'><dl class='xr-attrs'><dt><span>standard_name :</span></dt><dd>gphiu</dd><dt><span>long_name :</span></dt><dd>latitude of U-grid points</dd><dt><span>units :</span></dt><dd>degrees_north</dd></dl></div><div class='xr-var-data'><pre>[357404 values with dtype=float32]</pre></div></li><li class='xr-var-item'><div class='xr-var-name'><span>gphiv</span></div><div class='xr-var-dims'>(t, y, x)</div><div class='xr-var-dtype'>float32</div><div class='xr-var-preview xr-preview'>...</div><input id='attrs-cec23354-086f-47f2-b441-dfc6916b5f03' class='xr-var-attrs-in' type='checkbox' ><label for='attrs-cec23354-086f-47f2-b441-dfc6916b5f03' title='Show/Hide attributes'><svg class='icon xr-icon-file-text2'><use xlink:href='#icon-file-text2'></use></svg></label><input id='data-b20cb38a-73c2-4d27-ba83-eb4cc4a6bea6' class='xr-var-data-in' type='checkbox'><label for='data-b20cb38a-73c2-4d27-ba83-eb4cc4a6bea6' title='Show/Hide data repr'><svg class='icon xr-icon-database'><use xlink:href='#icon-database'></use></svg></label><div class='xr-var-attrs'><dl class='xr-attrs'><dt><span>standard_name :</span></dt><dd>gphiv</dd><dt><span>long_name :</span></dt><dd>latitude of V-grid points</dd><dt><span>units :</span></dt><dd>degrees_north</dd></dl></div><div class='xr-var-data'><pre>[357404 values with dtype=float32]</pre></div></li><li class='xr-var-item'><div class='xr-var-name'><span>gphif</span></div><div class='xr-var-dims'>(t, y, x)</div><div class='xr-var-dtype'>float32</div><div class='xr-var-preview xr-preview'>...</div><input id='attrs-c26f5415-7e71-4671-bb20-730d975455c1' class='xr-var-attrs-in' type='checkbox' ><label for='attrs-c26f5415-7e71-4671-bb20-730d975455c1' title='Show/Hide attributes'><svg class='icon xr-icon-file-text2'><use xlink:href='#icon-file-text2'></use></svg></label><input id='data-bdca8bd4-ecd5-48d7-82ff-9a9e8d61e048' class='xr-var-data-in' type='checkbox'><label for='data-bdca8bd4-ecd5-48d7-82ff-9a9e8d61e048' title='Show/Hide data repr'><svg class='icon xr-icon-database'><use xlink:href='#icon-database'></use></svg></label><div class='xr-var-attrs'><dl class='xr-attrs'><dt><span>standard_name :</span></dt><dd>gphif</dd><dt><span>long_name :</span></dt><dd>latitude of vorticity-grid points</dd><dt><span>units :</span></dt><dd>degrees_north</dd></dl></div><div class='xr-var-data'><pre>[357404 values with dtype=float32]</pre></div></li><li class='xr-var-item'><div class='xr-var-name'><span>e1t</span></div><div class='xr-var-dims'>(t, y, x)</div><div class='xr-var-dtype'>float64</div><div class='xr-var-preview xr-preview'>...</div><input id='attrs-59655392-7d63-4e3e-a29e-84a52bb333ce' class='xr-var-attrs-in' type='checkbox' ><label for='attrs-59655392-7d63-4e3e-a29e-84a52bb333ce' title='Show/Hide attributes'><svg class='icon xr-icon-file-text2'><use xlink:href='#icon-file-text2'></use></svg></label><input id='data-de0515d8-50a3-4de9-9751-3054b06b4cea' class='xr-var-data-in' type='checkbox'><label for='data-de0515d8-50a3-4de9-9751-3054b06b4cea' title='Show/Hide data repr'><svg class='icon xr-icon-database'><use xlink:href='#icon-database'></use></svg></label><div class='xr-var-attrs'><dl class='xr-attrs'><dt><span>standard_name :</span></dt><dd>e1t</dd><dt><span>long_name :</span></dt><dd>grid spacing on T-grid in u direction</dd><dt><span>units :</span></dt><dd>m</dd></dl></div><div class='xr-var-data'><pre>[357404 values with dtype=float64]</pre></div></li><li class='xr-var-item'><div class='xr-var-name'><span>e1u</span></div><div class='xr-var-dims'>(t, y, x)</div><div class='xr-var-dtype'>float64</div><div class='xr-var-preview xr-preview'>...</div><input id='attrs-76c4c18f-6fec-4be7-9272-aed364c9d836' class='xr-var-attrs-in' type='checkbox' ><label for='attrs-76c4c18f-6fec-4be7-9272-aed364c9d836' title='Show/Hide attributes'><svg class='icon xr-icon-file-text2'><use xlink:href='#icon-file-text2'></use></svg></label><input id='data-36015d03-e614-413d-84fc-fafef2ea9327' class='xr-var-data-in' type='checkbox'><label for='data-36015d03-e614-413d-84fc-fafef2ea9327' title='Show/Hide data repr'><svg class='icon xr-icon-database'><use xlink:href='#icon-database'></use></svg></label><div class='xr-var-attrs'><dl class='xr-attrs'><dt><span>standard_name :</span></dt><dd>e1u</dd><dt><span>long_name :</span></dt><dd>grid spacing on U-grid in u direction</dd><dt><span>units :</span></dt><dd>m</dd></dl></div><div class='xr-var-data'><pre>[357404 values with dtype=float64]</pre></div></li><li class='xr-var-item'><div class='xr-var-name'><span>e1v</span></div><div class='xr-var-dims'>(t, y, x)</div><div class='xr-var-dtype'>float64</div><div class='xr-var-preview xr-preview'>...</div><input id='attrs-bbf1b338-0559-4993-9af7-3bc052465b9d' class='xr-var-attrs-in' type='checkbox' ><label for='attrs-bbf1b338-0559-4993-9af7-3bc052465b9d' title='Show/Hide attributes'><svg class='icon xr-icon-file-text2'><use xlink:href='#icon-file-text2'></use></svg></label><input id='data-f0461b51-3f08-47d1-9aa0-7531b84b5ba2' class='xr-var-data-in' type='checkbox'><label for='data-f0461b51-3f08-47d1-9aa0-7531b84b5ba2' title='Show/Hide data repr'><svg class='icon xr-icon-database'><use xlink:href='#icon-database'></use></svg></label><div class='xr-var-attrs'><dl class='xr-attrs'><dt><span>standard_name :</span></dt><dd>e1v</dd><dt><span>long_name :</span></dt><dd>grid spacing on V-grid in u direction</dd><dt><span>units :</span></dt><dd>m</dd></dl></div><div class='xr-var-data'><pre>[357404 values with dtype=float64]</pre></div></li><li class='xr-var-item'><div class='xr-var-name'><span>e1f</span></div><div class='xr-var-dims'>(t, y, x)</div><div class='xr-var-dtype'>float64</div><div class='xr-var-preview xr-preview'>...</div><input id='attrs-7a23df0b-a5f9-46fd-a987-95fbe86a999f' class='xr-var-attrs-in' type='checkbox' ><label for='attrs-7a23df0b-a5f9-46fd-a987-95fbe86a999f' title='Show/Hide attributes'><svg class='icon xr-icon-file-text2'><use xlink:href='#icon-file-text2'></use></svg></label><input id='data-438aa2b4-e604-49b1-aab2-dc697791cb0d' class='xr-var-data-in' type='checkbox'><label for='data-438aa2b4-e604-49b1-aab2-dc697791cb0d' title='Show/Hide data repr'><svg class='icon xr-icon-database'><use xlink:href='#icon-database'></use></svg></label><div class='xr-var-attrs'><dl class='xr-attrs'><dt><span>standard_name :</span></dt><dd>e1f</dd><dt><span>long_name :</span></dt><dd>grid spacing on vorticity-grid in u direction</dd><dt><span>units :</span></dt><dd>m</dd></dl></div><div class='xr-var-data'><pre>[357404 values with dtype=float64]</pre></div></li><li class='xr-var-item'><div class='xr-var-name'><span>e2t</span></div><div class='xr-var-dims'>(t, y, x)</div><div class='xr-var-dtype'>float64</div><div class='xr-var-preview xr-preview'>...</div><input id='attrs-5b596b68-d269-4483-86f9-30229bbffb8a' class='xr-var-attrs-in' type='checkbox' ><label for='attrs-5b596b68-d269-4483-86f9-30229bbffb8a' title='Show/Hide attributes'><svg class='icon xr-icon-file-text2'><use xlink:href='#icon-file-text2'></use></svg></label><input id='data-3379dfba-006f-4bfa-9f53-3fb7c2dc7f86' class='xr-var-data-in' type='checkbox'><label for='data-3379dfba-006f-4bfa-9f53-3fb7c2dc7f86' title='Show/Hide data repr'><svg class='icon xr-icon-database'><use xlink:href='#icon-database'></use></svg></label><div class='xr-var-attrs'><dl class='xr-attrs'><dt><span>standard_name :</span></dt><dd>e2t</dd><dt><span>long_name :</span></dt><dd>grid spacing on T-grid in v direction</dd><dt><span>units :</span></dt><dd>m</dd></dl></div><div class='xr-var-data'><pre>[357404 values with dtype=float64]</pre></div></li><li class='xr-var-item'><div class='xr-var-name'><span>e2u</span></div><div class='xr-var-dims'>(t, y, x)</div><div class='xr-var-dtype'>float64</div><div class='xr-var-preview xr-preview'>...</div><input id='attrs-3fc6286f-9cfa-46bc-bab5-ed87af9a8936' class='xr-var-attrs-in' type='checkbox' ><label for='attrs-3fc6286f-9cfa-46bc-bab5-ed87af9a8936' title='Show/Hide attributes'><svg class='icon xr-icon-file-text2'><use xlink:href='#icon-file-text2'></use></svg></label><input id='data-464b80ba-35ca-48ae-92fd-8e747fb77c2e' class='xr-var-data-in' type='checkbox'><label for='data-464b80ba-35ca-48ae-92fd-8e747fb77c2e' title='Show/Hide data repr'><svg class='icon xr-icon-database'><use xlink:href='#icon-database'></use></svg></label><div class='xr-var-attrs'><dl class='xr-attrs'><dt><span>standard_name :</span></dt><dd>e2u</dd><dt><span>long_name :</span></dt><dd>grid spacing on U-grid in v direction</dd><dt><span>units :</span></dt><dd>m</dd></dl></div><div class='xr-var-data'><pre>[357404 values with dtype=float64]</pre></div></li><li class='xr-var-item'><div class='xr-var-name'><span>e2v</span></div><div class='xr-var-dims'>(t, y, x)</div><div class='xr-var-dtype'>float64</div><div class='xr-var-preview xr-preview'>...</div><input id='attrs-5aaaecd7-401d-49de-a006-61ce32de3f98' class='xr-var-attrs-in' type='checkbox' ><label for='attrs-5aaaecd7-401d-49de-a006-61ce32de3f98' title='Show/Hide attributes'><svg class='icon xr-icon-file-text2'><use xlink:href='#icon-file-text2'></use></svg></label><input id='data-aa288730-34e6-418a-82b7-759c93c3cfbc' class='xr-var-data-in' type='checkbox'><label for='data-aa288730-34e6-418a-82b7-759c93c3cfbc' title='Show/Hide data repr'><svg class='icon xr-icon-database'><use xlink:href='#icon-database'></use></svg></label><div class='xr-var-attrs'><dl class='xr-attrs'><dt><span>standard_name :</span></dt><dd>e2v</dd><dt><span>long_name :</span></dt><dd>grid spacing on V-grid in v direction</dd><dt><span>units :</span></dt><dd>m</dd></dl></div><div class='xr-var-data'><pre>[357404 values with dtype=float64]</pre></div></li><li class='xr-var-item'><div class='xr-var-name'><span>e2f</span></div><div class='xr-var-dims'>(t, y, x)</div><div class='xr-var-dtype'>float64</div><div class='xr-var-preview xr-preview'>...</div><input id='attrs-c6b4afac-c52f-4d7d-ac2d-11e4f6522b07' class='xr-var-attrs-in' type='checkbox' ><label for='attrs-c6b4afac-c52f-4d7d-ac2d-11e4f6522b07' title='Show/Hide attributes'><svg class='icon xr-icon-file-text2'><use xlink:href='#icon-file-text2'></use></svg></label><input id='data-ca9cde9a-ad9b-4527-803d-2ea34971384d' class='xr-var-data-in' type='checkbox'><label for='data-ca9cde9a-ad9b-4527-803d-2ea34971384d' title='Show/Hide data repr'><svg class='icon xr-icon-database'><use xlink:href='#icon-database'></use></svg></label><div class='xr-var-attrs'><dl class='xr-attrs'><dt><span>standard_name :</span></dt><dd>e2f</dd><dt><span>long_name :</span></dt><dd>grid spacing on vorticity-grid in v direction</dd><dt><span>units :</span></dt><dd>m</dd></dl></div><div class='xr-var-data'><pre>[357404 values with dtype=float64]</pre></div></li><li class='xr-var-item'><div class='xr-var-name'><span>ff</span></div><div class='xr-var-dims'>(t, y, x)</div><div class='xr-var-dtype'>float64</div><div class='xr-var-preview xr-preview'>...</div><input id='attrs-6bd79d74-a20f-4e5b-a979-52aeb9ba47a2' class='xr-var-attrs-in' type='checkbox' ><label for='attrs-6bd79d74-a20f-4e5b-a979-52aeb9ba47a2' title='Show/Hide attributes'><svg class='icon xr-icon-file-text2'><use xlink:href='#icon-file-text2'></use></svg></label><input id='data-54bcd9d7-f9db-42e2-91aa-49110489a735' class='xr-var-data-in' type='checkbox'><label for='data-54bcd9d7-f9db-42e2-91aa-49110489a735' title='Show/Hide data repr'><svg class='icon xr-icon-database'><use xlink:href='#icon-database'></use></svg></label><div class='xr-var-attrs'><dl class='xr-attrs'><dt><span>standard_name :</span></dt><dd>ff</dd><dt><span>long_name :</span></dt><dd>Coriolis parameter on vorticity-grid</dd><dt><span>units :</span></dt><dd>1/s</dd></dl></div><div class='xr-var-data'><pre>[357404 values with dtype=float64]</pre></div></li><li class='xr-var-item'><div class='xr-var-name'><span>mbathy</span></div><div class='xr-var-dims'>(t, y, x)</div><div class='xr-var-dtype'>int16</div><div class='xr-var-preview xr-preview'>...</div><input id='attrs-cef5e251-98da-47f1-b37f-0e1f59c304b7' class='xr-var-attrs-in' type='checkbox' ><label for='attrs-cef5e251-98da-47f1-b37f-0e1f59c304b7' title='Show/Hide attributes'><svg class='icon xr-icon-file-text2'><use xlink:href='#icon-file-text2'></use></svg></label><input id='data-6e8c1222-a573-42b4-8f87-6f3dd8b10811' class='xr-var-data-in' type='checkbox'><label for='data-6e8c1222-a573-42b4-8f87-6f3dd8b10811' title='Show/Hide data repr'><svg class='icon xr-icon-database'><use xlink:href='#icon-database'></use></svg></label><div class='xr-var-attrs'><dl class='xr-attrs'><dt><span>standard_name :</span></dt><dd>mbathy</dd><dt><span>long_name :</span></dt><dd>fortran index of deepest water cell, T-grid</dd><dt><span>units :</span></dt><dd>count</dd></dl></div><div class='xr-var-data'><pre>[357404 values with dtype=int16]</pre></div></li><li class='xr-var-item'><div class='xr-var-name'><span>misf</span></div><div class='xr-var-dims'>(t, y, x)</div><div class='xr-var-dtype'>int16</div><div class='xr-var-preview xr-preview'>...</div><input id='attrs-82511b96-6113-4f7b-920d-53eba135c93a' class='xr-var-attrs-in' type='checkbox' ><label for='attrs-82511b96-6113-4f7b-920d-53eba135c93a' title='Show/Hide attributes'><svg class='icon xr-icon-file-text2'><use xlink:href='#icon-file-text2'></use></svg></label><input id='data-7d45a44f-a2b6-4965-8404-56f70728d782' class='xr-var-data-in' type='checkbox'><label for='data-7d45a44f-a2b6-4965-8404-56f70728d782' title='Show/Hide data repr'><svg class='icon xr-icon-database'><use xlink:href='#icon-database'></use></svg></label><div class='xr-var-attrs'><dl class='xr-attrs'><dt><span>standard_name :</span></dt><dd>misf</dd><dt><span>long_name :</span></dt><dd>fortran index of shallowest water, T-grid</dd><dt><span>units :</span></dt><dd>count</dd></dl></div><div class='xr-var-data'><pre>[357404 values with dtype=int16]</pre></div></li><li class='xr-var-item'><div class='xr-var-name'><span>isfdraft</span></div><div class='xr-var-dims'>(t, y, x)</div><div class='xr-var-dtype'>float32</div><div class='xr-var-preview xr-preview'>...</div><input id='attrs-3d397181-b6b3-4716-b9a7-aaeda03767b9' class='xr-var-attrs-in' type='checkbox' ><label for='attrs-3d397181-b6b3-4716-b9a7-aaeda03767b9' title='Show/Hide attributes'><svg class='icon xr-icon-file-text2'><use xlink:href='#icon-file-text2'></use></svg></label><input id='data-478553ea-d9aa-43e7-8572-5840e68296b5' class='xr-var-data-in' type='checkbox'><label for='data-478553ea-d9aa-43e7-8572-5840e68296b5' title='Show/Hide data repr'><svg class='icon xr-icon-database'><use xlink:href='#icon-database'></use></svg></label><div class='xr-var-attrs'><dl class='xr-attrs'><dt><span>standard_name :</span></dt><dd>isfdraft</dd><dt><span>long_name :</span></dt><dd>thickness of land-fast ice below sea level</dd><dt><span>units :</span></dt><dd>m</dd></dl></div><div class='xr-var-data'><pre>[357404 values with dtype=float32]</pre></div></li><li class='xr-var-item'><div class='xr-var-name'><span>e3t_0</span></div><div class='xr-var-dims'>(t, z, y, x)</div><div class='xr-var-dtype'>float64</div><div class='xr-var-preview xr-preview'>...</div><input id='attrs-932306db-4f46-4bed-93fa-c796374b2782' class='xr-var-attrs-in' type='checkbox' ><label for='attrs-932306db-4f46-4bed-93fa-c796374b2782' title='Show/Hide attributes'><svg class='icon xr-icon-file-text2'><use xlink:href='#icon-file-text2'></use></svg></label><input id='data-5ea3d0bf-a09a-44af-847e-ee6c60fce24f' class='xr-var-data-in' type='checkbox'><label for='data-5ea3d0bf-a09a-44af-847e-ee6c60fce24f' title='Show/Hide data repr'><svg class='icon xr-icon-database'><use xlink:href='#icon-database'></use></svg></label><div class='xr-var-attrs'><dl class='xr-attrs'><dt><span>standard_name :</span></dt><dd>e3t_0</dd><dt><span>long_name :</span></dt><dd>grid spacing on T-grid in w direction</dd><dt><span>units :</span></dt><dd>m</dd></dl></div><div class='xr-var-data'><pre>[14296160 values with dtype=float64]</pre></div></li><li class='xr-var-item'><div class='xr-var-name'><span>e3u_0</span></div><div class='xr-var-dims'>(t, z, y, x)</div><div class='xr-var-dtype'>float64</div><div class='xr-var-preview xr-preview'>...</div><input id='attrs-6011e7d8-8f66-4d0b-9637-827e60454574' class='xr-var-attrs-in' type='checkbox' ><label for='attrs-6011e7d8-8f66-4d0b-9637-827e60454574' title='Show/Hide attributes'><svg class='icon xr-icon-file-text2'><use xlink:href='#icon-file-text2'></use></svg></label><input id='data-0c4c9cb2-068c-4e5f-84d7-37a57070bab4' class='xr-var-data-in' type='checkbox'><label for='data-0c4c9cb2-068c-4e5f-84d7-37a57070bab4' title='Show/Hide data repr'><svg class='icon xr-icon-database'><use xlink:href='#icon-database'></use></svg></label><div class='xr-var-attrs'><dl class='xr-attrs'><dt><span>standard_name :</span></dt><dd>e3u_0</dd><dt><span>long_name :</span></dt><dd>grid spacing on U-grid in w direction</dd><dt><span>units :</span></dt><dd>m</dd></dl></div><div class='xr-var-data'><pre>[14296160 values with dtype=float64]</pre></div></li><li class='xr-var-item'><div class='xr-var-name'><span>e3v_0</span></div><div class='xr-var-dims'>(t, z, y, x)</div><div class='xr-var-dtype'>float64</div><div class='xr-var-preview xr-preview'>...</div><input id='attrs-e566cd64-de68-413a-945e-328b9429d69d' class='xr-var-attrs-in' type='checkbox' ><label for='attrs-e566cd64-de68-413a-945e-328b9429d69d' title='Show/Hide attributes'><svg class='icon xr-icon-file-text2'><use xlink:href='#icon-file-text2'></use></svg></label><input id='data-4ef6849e-2bef-4718-80e8-12885245ba53' class='xr-var-data-in' type='checkbox'><label for='data-4ef6849e-2bef-4718-80e8-12885245ba53' title='Show/Hide data repr'><svg class='icon xr-icon-database'><use xlink:href='#icon-database'></use></svg></label><div class='xr-var-attrs'><dl class='xr-attrs'><dt><span>standard_name :</span></dt><dd>e3v_0</dd><dt><span>long_name :</span></dt><dd>grid spacing on V-grid in w direction</dd><dt><span>units :</span></dt><dd>m</dd></dl></div><div class='xr-var-data'><pre>[14296160 values with dtype=float64]</pre></div></li><li class='xr-var-item'><div class='xr-var-name'><span>e3w_0</span></div><div class='xr-var-dims'>(t, z, y, x)</div><div class='xr-var-dtype'>float64</div><div class='xr-var-preview xr-preview'>...</div><input id='attrs-6a8d86c9-b280-4df4-92e0-ffd031dfcdc0' class='xr-var-attrs-in' type='checkbox' ><label for='attrs-6a8d86c9-b280-4df4-92e0-ffd031dfcdc0' title='Show/Hide attributes'><svg class='icon xr-icon-file-text2'><use xlink:href='#icon-file-text2'></use></svg></label><input id='data-12561bb4-552d-4148-a8fa-64a4d42c40b3' class='xr-var-data-in' type='checkbox'><label for='data-12561bb4-552d-4148-a8fa-64a4d42c40b3' title='Show/Hide data repr'><svg class='icon xr-icon-database'><use xlink:href='#icon-database'></use></svg></label><div class='xr-var-attrs'><dl class='xr-attrs'><dt><span>standard_name :</span></dt><dd>e3w_0</dd><dt><span>long_name :</span></dt><dd>grid spacing on W-grid in w direction</dd><dt><span>units :</span></dt><dd>m</dd></dl></div><div class='xr-var-data'><pre>[14296160 values with dtype=float64]</pre></div></li><li class='xr-var-item'><div class='xr-var-name'><span>gdept_0</span></div><div class='xr-var-dims'>(t, z, y, x)</div><div class='xr-var-dtype'>float32</div><div class='xr-var-preview xr-preview'>...</div><input id='attrs-749ee807-d641-4d26-844b-4eeccf77cb78' class='xr-var-attrs-in' type='checkbox' ><label for='attrs-749ee807-d641-4d26-844b-4eeccf77cb78' title='Show/Hide attributes'><svg class='icon xr-icon-file-text2'><use xlink:href='#icon-file-text2'></use></svg></label><input id='data-73ae8bca-a852-4cc4-ac45-2c1247ded4b1' class='xr-var-data-in' type='checkbox'><label for='data-73ae8bca-a852-4cc4-ac45-2c1247ded4b1' title='Show/Hide data repr'><svg class='icon xr-icon-database'><use xlink:href='#icon-database'></use></svg></label><div class='xr-var-attrs'><dl class='xr-attrs'><dt><span>standard_name :</span></dt><dd>gdept_0</dd><dt><span>long_name :</span></dt><dd>depth of T-grid points</dd><dt><span>units :</span></dt><dd>m</dd><dt><span>positive :</span></dt><dd>down</dd></dl></div><div class='xr-var-data'><pre>[14296160 values with dtype=float32]</pre></div></li><li class='xr-var-item'><div class='xr-var-name'><span>gdepu</span></div><div class='xr-var-dims'>(t, z, y, x)</div><div class='xr-var-dtype'>float32</div><div class='xr-var-preview xr-preview'>...</div><input id='attrs-98a33347-655a-4e0d-a889-46b0a4358409' class='xr-var-attrs-in' type='checkbox' ><label for='attrs-98a33347-655a-4e0d-a889-46b0a4358409' title='Show/Hide attributes'><svg class='icon xr-icon-file-text2'><use xlink:href='#icon-file-text2'></use></svg></label><input id='data-ff2c8147-0ea4-4b87-ae01-ff0305ce5dfe' class='xr-var-data-in' type='checkbox'><label for='data-ff2c8147-0ea4-4b87-ae01-ff0305ce5dfe' title='Show/Hide data repr'><svg class='icon xr-icon-database'><use xlink:href='#icon-database'></use></svg></label><div class='xr-var-attrs'><dl class='xr-attrs'><dt><span>standard_name :</span></dt><dd>gdepu</dd><dt><span>long_name :</span></dt><dd>depth of U-grid points</dd><dt><span>units :</span></dt><dd>m</dd><dt><span>positive :</span></dt><dd>down</dd></dl></div><div class='xr-var-data'><pre>[14296160 values with dtype=float32]</pre></div></li><li class='xr-var-item'><div class='xr-var-name'><span>gdepv</span></div><div class='xr-var-dims'>(t, z, y, x)</div><div class='xr-var-dtype'>float32</div><div class='xr-var-preview xr-preview'>...</div><input id='attrs-f14bb581-6033-43e7-9603-cb2ceb690856' class='xr-var-attrs-in' type='checkbox' ><label for='attrs-f14bb581-6033-43e7-9603-cb2ceb690856' title='Show/Hide attributes'><svg class='icon xr-icon-file-text2'><use xlink:href='#icon-file-text2'></use></svg></label><input id='data-4776defc-2ce7-413a-b9ac-79454b474e6b' class='xr-var-data-in' type='checkbox'><label for='data-4776defc-2ce7-413a-b9ac-79454b474e6b' title='Show/Hide data repr'><svg class='icon xr-icon-database'><use xlink:href='#icon-database'></use></svg></label><div class='xr-var-attrs'><dl class='xr-attrs'><dt><span>standard_name :</span></dt><dd>gdepv</dd><dt><span>long_name :</span></dt><dd>depth of V-grid points</dd><dt><span>units :</span></dt><dd>m</dd><dt><span>positive :</span></dt><dd>down</dd></dl></div><div class='xr-var-data'><pre>[14296160 values with dtype=float32]</pre></div></li><li class='xr-var-item'><div class='xr-var-name'><span>gdepw_0</span></div><div class='xr-var-dims'>(t, z, y, x)</div><div class='xr-var-dtype'>float32</div><div class='xr-var-preview xr-preview'>...</div><input id='attrs-841ad797-d52d-48ac-8bad-513893f4be5a' class='xr-var-attrs-in' type='checkbox' ><label for='attrs-841ad797-d52d-48ac-8bad-513893f4be5a' title='Show/Hide attributes'><svg class='icon xr-icon-file-text2'><use xlink:href='#icon-file-text2'></use></svg></label><input id='data-14c203fb-b213-4de4-9aee-aa905dd6d58f' class='xr-var-data-in' type='checkbox'><label for='data-14c203fb-b213-4de4-9aee-aa905dd6d58f' title='Show/Hide data repr'><svg class='icon xr-icon-database'><use xlink:href='#icon-database'></use></svg></label><div class='xr-var-attrs'><dl class='xr-attrs'><dt><span>standard_name :</span></dt><dd>gdepw_0</dd><dt><span>long_name :</span></dt><dd>depth of W-grid points</dd><dt><span>units :</span></dt><dd>m</dd><dt><span>positive :</span></dt><dd>down</dd></dl></div><div class='xr-var-data'><pre>[14296160 values with dtype=float32]</pre></div></li><li class='xr-var-item'><div class='xr-var-name'><span>gdept_1d</span></div><div class='xr-var-dims'>(t, z)</div><div class='xr-var-dtype'>float64</div><div class='xr-var-preview xr-preview'>...</div><input id='attrs-ae5f6303-b109-4508-82e0-60164944b637' class='xr-var-attrs-in' type='checkbox' ><label for='attrs-ae5f6303-b109-4508-82e0-60164944b637' title='Show/Hide attributes'><svg class='icon xr-icon-file-text2'><use xlink:href='#icon-file-text2'></use></svg></label><input id='data-8413620e-48c1-46f4-be39-bbd7fbb22439' class='xr-var-data-in' type='checkbox'><label for='data-8413620e-48c1-46f4-be39-bbd7fbb22439' title='Show/Hide data repr'><svg class='icon xr-icon-database'><use xlink:href='#icon-database'></use></svg></label><div class='xr-var-attrs'><dl class='xr-attrs'><dt><span>standard_name :</span></dt><dd>gdept_1d</dd><dt><span>long_name :</span></dt><dd>nominal depth of T-grid points</dd><dt><span>units :</span></dt><dd>m</dd><dt><span>positive :</span></dt><dd>down</dd></dl></div><div class='xr-var-data'><pre>array([[  0.5     ,   1.500003,   2.500012,   3.500031,   4.50007 ,\n",
       "          5.500151,   6.50031 ,   7.500623,   8.501236,   9.502433,\n",
       "         10.504765,  11.509311,  12.518167,  13.535412,  14.568982,\n",
       "         15.634287,  16.761173,  18.007135,  19.481785,  21.389979,\n",
       "         24.100257,  28.229915,  34.685758,  44.517725,  58.484334,\n",
       "         76.585584,  98.062959, 121.866518, 147.089458, 173.114482,\n",
       "        199.573049, 226.260306, 253.066637, 279.93455 , 306.834197,\n",
       "        333.75017 , 360.674532, 387.603203, 414.534088, 441.46611 ]])</pre></div></li><li class='xr-var-item'><div class='xr-var-name'><span>gdepw_1d</span></div><div class='xr-var-dims'>(t, z)</div><div class='xr-var-dtype'>float64</div><div class='xr-var-preview xr-preview'>...</div><input id='attrs-12509b9b-13eb-4431-9dc2-fc567b5ea961' class='xr-var-attrs-in' type='checkbox' ><label for='attrs-12509b9b-13eb-4431-9dc2-fc567b5ea961' title='Show/Hide attributes'><svg class='icon xr-icon-file-text2'><use xlink:href='#icon-file-text2'></use></svg></label><input id='data-5728372b-2225-4902-9671-6c6318c1ddfb' class='xr-var-data-in' type='checkbox'><label for='data-5728372b-2225-4902-9671-6c6318c1ddfb' title='Show/Hide data repr'><svg class='icon xr-icon-database'><use xlink:href='#icon-database'></use></svg></label><div class='xr-var-attrs'><dl class='xr-attrs'><dt><span>standard_name :</span></dt><dd>gdepw_1d</dd><dt><span>long_name :</span></dt><dd>nominal depth of W-grid points</dd><dt><span>units :</span></dt><dd>m</dd><dt><span>positive :</span></dt><dd>down</dd></dl></div><div class='xr-var-data'><pre>array([[  0.      ,   1.000001,   2.000006,   3.000019,   4.000047,\n",
       "          5.000104,   6.000217,   7.000441,   8.000879,   9.001735,\n",
       "         10.003406,  11.006663,  12.013008,  13.025366,  14.049429,\n",
       "         15.096256,  16.187303,  17.364034,  18.705972,  20.363473,\n",
       "         22.613064,  25.937413,  31.101035,  39.118857,  50.963237,\n",
       "         67.052074,  86.96747 , 109.737066, 134.345934, 160.029562,\n",
       "        186.305278, 212.896557, 239.653045, 266.495214, 293.381605,\n",
       "        320.29076 , 347.21162 , 374.138492, 401.068453, 428.      ]])</pre></div></li><li class='xr-var-item'><div class='xr-var-name'><span>e3t_1d</span></div><div class='xr-var-dims'>(t, z)</div><div class='xr-var-dtype'>float64</div><div class='xr-var-preview xr-preview'>...</div><input id='attrs-94d36746-0423-452e-a87b-1c9f4d86d27d' class='xr-var-attrs-in' type='checkbox' ><label for='attrs-94d36746-0423-452e-a87b-1c9f4d86d27d' title='Show/Hide attributes'><svg class='icon xr-icon-file-text2'><use xlink:href='#icon-file-text2'></use></svg></label><input id='data-9b42b103-3f5d-47ca-897d-187d51a277b9' class='xr-var-data-in' type='checkbox'><label for='data-9b42b103-3f5d-47ca-897d-187d51a277b9' title='Show/Hide data repr'><svg class='icon xr-icon-database'><use xlink:href='#icon-database'></use></svg></label><div class='xr-var-attrs'><dl class='xr-attrs'><dt><span>standard_name :</span></dt><dd>e3t_1d</dd><dt><span>long_name :</span></dt><dd>nominal vertical grid spacing on T-grid</dd><dt><span>units :</span></dt><dd>m</dd></dl></div><div class='xr-var-data'><pre>array([[ 1.000001,  1.000005,  1.000013,  1.000027,  1.000056,  1.000111,\n",
       "         1.000219,  1.00043 ,  1.000841,  1.00164 ,  1.003197,  1.006229,\n",
       "         1.012133,  1.023624,  1.045976,  1.089401,  1.173564,  1.335929,\n",
       "         1.646368,  2.229903,  3.292486,  5.119985,  7.974515, 11.825297,\n",
       "        16.10792 , 19.958703, 22.813233, 24.640732, 25.703315, 26.28685 ,\n",
       "        26.597289, 26.759653, 26.843817, 26.887242, 26.909594, 26.921085,\n",
       "        26.926989, 26.930021, 26.931578, 26.932377]])</pre></div></li><li class='xr-var-item'><div class='xr-var-name'><span>e3w_1d</span></div><div class='xr-var-dims'>(t, z)</div><div class='xr-var-dtype'>float64</div><div class='xr-var-preview xr-preview'>...</div><input id='attrs-61266aca-9f22-45e7-8c0b-9d2622ec167a' class='xr-var-attrs-in' type='checkbox' ><label for='attrs-61266aca-9f22-45e7-8c0b-9d2622ec167a' title='Show/Hide attributes'><svg class='icon xr-icon-file-text2'><use xlink:href='#icon-file-text2'></use></svg></label><input id='data-efa5b6cd-89c6-45cb-b627-b7180f21a4cc' class='xr-var-data-in' type='checkbox'><label for='data-efa5b6cd-89c6-45cb-b627-b7180f21a4cc' title='Show/Hide data repr'><svg class='icon xr-icon-database'><use xlink:href='#icon-database'></use></svg></label><div class='xr-var-attrs'><dl class='xr-attrs'><dt><span>standard_name :</span></dt><dd>e3w_1d</dd><dt><span>long_name :</span></dt><dd>nominal vertical grid spacing on W-grid</dd><dt><span>units :</span></dt><dd>m</dd></dl></div><div class='xr-var-data'><pre>array([[ 1.      ,  1.000003,  1.000008,  1.000019,  1.000039,  1.000079,\n",
       "         1.000156,  1.000307,  1.000602,  1.001174,  1.00229 ,  1.004463,\n",
       "         1.008694,  1.016931,  1.032959,  1.06412 ,  1.1246  ,  1.24159 ,\n",
       "         1.466437,  1.893272,  2.684857,  4.091313,  6.409889,  9.797678,\n",
       "        13.966609, 18.13554 , 21.523329, 23.841905, 25.248361, 26.039946,\n",
       "        26.46678 , 26.691628, 26.808618, 26.869097, 26.900259, 26.916287,\n",
       "        26.924524, 26.928755, 26.930928, 26.932043]])</pre></div></li></ul></div></li><li class='xr-section-item'><input id='section-427f6e80-8088-4b88-aa5b-1d798ed6c3bb' class='xr-section-summary-in' type='checkbox'  ><label for='section-427f6e80-8088-4b88-aa5b-1d798ed6c3bb' class='xr-section-summary' >Attributes: <span>(18)</span></label><div class='xr-section-inline-details'></div><div class='xr-section-details'><dl class='xr-attrs'><dt><span>DOMAIN_number_total :</span></dt><dd>1</dd><dt><span>DOMAIN_number :</span></dt><dd>0</dd><dt><span>DOMAIN_dimensions_ids :</span></dt><dd>[1 2]</dd><dt><span>DOMAIN_size_global :</span></dt><dd>[398 898]</dd><dt><span>DOMAIN_size_local :</span></dt><dd>[398 898]</dd><dt><span>DOMAIN_position_first :</span></dt><dd>[1 1]</dd><dt><span>DOMAIN_position_last :</span></dt><dd>[398 898]</dd><dt><span>DOMAIN_halo_size_start :</span></dt><dd>[0 0]</dd><dt><span>DOMAIN_halo_size_end :</span></dt><dd>[0 0]</dd><dt><span>DOMAIN_type :</span></dt><dd>BOX</dd><dt><span>file_name :</span></dt><dd>NEMO-forcing/grid/mesh_mask201702.nc</dd><dt><span>TimeStamp :</span></dt><dd>14/03/2019 15:00:00 -0700</dd><dt><span>Conventions :</span></dt><dd>CF-1.6</dd><dt><span>title :</span></dt><dd>Salish Sea NEMO bathymetry_201702 Bathymetry Mesh Mask</dd><dt><span>institution :</span></dt><dd>Dept of Earth, Ocean &amp; Atmospheric Sciences, University of British Columbia</dd><dt><span>source :</span></dt><dd>NEMO-3.6 Salish Sea configuration</dd><dt><span>references :</span></dt><dd>https://salishsea.eos.ubc.ca/erddap/info/\n",
       "https://bitbucket.org/salishsea/nemo-forcing/src/tip/grid/bathymetery_201702.nc\n",
       "</dd><dt><span>history :</span></dt><dd>[2019-03-14 15:00] ncks -4 -L4 -O mesh_mask.nc mesh_mask201702.nc\n",
       "[2019-03-16 17:30] Added metadata to variable in preparation for creation of ERDDAP datasets.</dd></dl></div></li></ul></div></div>"
      ],
      "text/plain": [
       "<xarray.Dataset>\n",
       "Dimensions:       (t: 1, x: 398, y: 898, z: 40)\n",
       "Dimensions without coordinates: t, x, y, z\n",
       "Data variables:\n",
       "    nav_lon       (y, x) float32 ...\n",
       "    nav_lat       (y, x) float32 ...\n",
       "    time_counter  (t) datetime64[ns] ...\n",
       "    tmask         (t, z, y, x) int8 ...\n",
       "    umask         (t, z, y, x) int8 ...\n",
       "    vmask         (t, z, y, x) int8 ...\n",
       "    fmask         (t, z, y, x) int8 ...\n",
       "    tmaskutil     (t, y, x) int8 ...\n",
       "    umaskutil     (t, y, x) int8 ...\n",
       "    vmaskutil     (t, y, x) int8 ...\n",
       "    fmaskutil     (t, y, x) int8 ...\n",
       "    glamt         (t, y, x) float32 ...\n",
       "    glamu         (t, y, x) float32 ...\n",
       "    glamv         (t, y, x) float32 ...\n",
       "    glamf         (t, y, x) float32 ...\n",
       "    gphit         (t, y, x) float32 ...\n",
       "    gphiu         (t, y, x) float32 ...\n",
       "    gphiv         (t, y, x) float32 ...\n",
       "    gphif         (t, y, x) float32 ...\n",
       "    e1t           (t, y, x) float64 ...\n",
       "    e1u           (t, y, x) float64 ...\n",
       "    e1v           (t, y, x) float64 ...\n",
       "    e1f           (t, y, x) float64 ...\n",
       "    e2t           (t, y, x) float64 ...\n",
       "    e2u           (t, y, x) float64 ...\n",
       "    e2v           (t, y, x) float64 ...\n",
       "    e2f           (t, y, x) float64 ...\n",
       "    ff            (t, y, x) float64 ...\n",
       "    mbathy        (t, y, x) int16 ...\n",
       "    misf          (t, y, x) int16 ...\n",
       "    isfdraft      (t, y, x) float32 ...\n",
       "    e3t_0         (t, z, y, x) float64 ...\n",
       "    e3u_0         (t, z, y, x) float64 ...\n",
       "    e3v_0         (t, z, y, x) float64 ...\n",
       "    e3w_0         (t, z, y, x) float64 ...\n",
       "    gdept_0       (t, z, y, x) float32 ...\n",
       "    gdepu         (t, z, y, x) float32 ...\n",
       "    gdepv         (t, z, y, x) float32 ...\n",
       "    gdepw_0       (t, z, y, x) float32 ...\n",
       "    gdept_1d      (t, z) float64 ...\n",
       "    gdepw_1d      (t, z) float64 ...\n",
       "    e3t_1d        (t, z) float64 ...\n",
       "    e3w_1d        (t, z) float64 ...\n",
       "Attributes:\n",
       "    DOMAIN_number_total:     1\n",
       "    DOMAIN_number:           0\n",
       "    DOMAIN_dimensions_ids:   [1 2]\n",
       "    DOMAIN_size_global:      [398 898]\n",
       "    DOMAIN_size_local:       [398 898]\n",
       "    DOMAIN_position_first:   [1 1]\n",
       "    DOMAIN_position_last:    [398 898]\n",
       "    DOMAIN_halo_size_start:  [0 0]\n",
       "    DOMAIN_halo_size_end:    [0 0]\n",
       "    DOMAIN_type:             BOX\n",
       "    file_name:               NEMO-forcing/grid/mesh_mask201702.nc\n",
       "    TimeStamp:               14/03/2019 15:00:00 -0700\n",
       "    Conventions:             CF-1.6\n",
       "    title:                   Salish Sea NEMO bathymetry_201702 Bathymetry Mes...\n",
       "    institution:             Dept of Earth, Ocean & Atmospheric Sciences, Uni...\n",
       "    source:                  NEMO-3.6 Salish Sea configuration\n",
       "    references:              https://salishsea.eos.ubc.ca/erddap/info/\\nhttps...\n",
       "    history:                 [2019-03-14 15:00] ncks -4 -L4 -O mesh_mask.nc m..."
      ]
     },
     "execution_count": 33,
     "metadata": {},
     "output_type": "execute_result"
    }
   ],
   "source": [
    "mesh"
   ]
  },
  {
   "cell_type": "code",
   "execution_count": 293,
   "metadata": {},
   "outputs": [],
   "source": [
    "myrivers1a = {'Serpentine': [49.082, -122.853, 392, 354],\n",
    "            'Nicomekl': [49.063, -122.876, 388, 350],\n",
    "            'LittleCampbell': [49.014, -122.779, 373, 357], \n",
    "            'Colebrook': [49.083, -122.913, 395, 346],}\n",
    "myrivers1b = {\n",
    "            'Jericho': [49.276, -123.203, 453, 329, 13.3],\n",
    "            'FalseCreek': [49.276, -123.139, 450, 337, 27.17],\n",
    "            'FirtNarrows': [49.31, -123.097, 459, 343, 23.16 + 20.66 + 10.38 + 10.24 +\n",
    "                           93.71 + 195.12 + 342.65]}"
   ]
  },
  {
   "cell_type": "code",
   "execution_count": 294,
   "metadata": {},
   "outputs": [
    {
     "name": "stdout",
     "output_type": "stream",
     "text": [
      "736.39\n"
     ]
    }
   ],
   "source": [
    "sumit = 0\n",
    "for river in myrivers1b:\n",
    "    sumit = sumit + myrivers1b[river][4]\n",
    "print (sumit)"
   ]
  },
  {
   "cell_type": "code",
   "execution_count": 297,
   "metadata": {},
   "outputs": [
    {
     "name": "stdout",
     "output_type": "stream",
     "text": [
      "Jericho 454 329\n",
      "FalseCreek 450 337\n",
      "FirtNarrows 457 343\n"
     ]
    },
    {
     "data": {
      "image/png": "[encoded data removed]",
      "text/plain": [
       "<Figure size 504x504 with 2 Axes>"
      ]
     },
     "metadata": {
      "needs_background": "light"
     },
     "output_type": "display_data"
    }
   ],
   "source": [
    "fig, ax = plt.subplots(1, 1, figsize=(7, 7))\n",
    "colours = ax.pcolormesh(mesh.glamf[0], mesh.gphif[0], bathy.Bathymetry[1:, 1:], vmax=10, cmap='copper')\n",
    "ax.set_xlim(-123.3, -123.1)\n",
    "ax.set_ylim(49.25, 49.4)\n",
    "viz_tools.set_aspect(ax, coords='map')\n",
    "fig.colorbar(colours);\n",
    "for river in myrivers1b:\n",
    "    plt.plot(myrivers1b[river][1], myrivers1b[river][0], 'mo')\n",
    "    yy, xx = geo_tools.find_closest_model_point(myrivers1b[river][1], myrivers1b[river][0], \n",
    "                                              bathy.nav_lon[:], bathy.nav_lat[:], land_mask=mask)\n",
    "    print (river, yy, xx)\n",
    "    plt.plot(bathy.nav_lon[yy, xx], bathy.nav_lat[yy, xx], 'wx')\n",
    "    plt.plot(bathy.nav_lon[myrivers1b[river][2], myrivers1b[river][3]],\n",
    "            bathy.nav_lat[myrivers1b[river][2], myrivers1b[river][3]], 'r+')"
   ]
  },
  {
   "cell_type": "code",
   "execution_count": 257,
   "metadata": {},
   "outputs": [],
   "source": [
    "myrivers2 = {'Capilano': [49.320, -123.14, 458, 343, 49.370],\n",
    "            'Lawson': [49.328, -123.162, 461, 341, 3.21+3.96],\n",
    "            'Marr': [49.333, -123.185, 464, 338, 6.34],\n",
    "            'Rodgers': [49.336, -123.196, 465, 337, 0.33*7.28],\n",
    "            'RodgersB': [49.339, -123.205, 466, 337, 0.34*7.28],\n",
    "            'Westmount': [49.340, -123.212, 467, 336, 0.33*7.28],\n",
    "            'Cypress': [49.339, -123.241, 469, 331, 15.91],\n",
    "            'Eagle': [49.357, -123.27, 474, 329, 9.84],\n",
    "            'Whyte': [49.382, -123.265, 478, 332, 5.82],\n",
    "            'Disbrow': [49.399, -123.25, 481, 337, 2.97],\n",
    "            'Sclufield': [49.407, -123.244, 482, 339, 2.41],\n",
    "             'Turpin': [49.426, -123.233, 485, 343, 7.62],\n",
    "             'Harvey': [49.460, -123.24, 492, 346, 20.91],\n",
    "             'Deeks': [49.502, -123.25, 501, 350, 17.42],\n",
    "             'Kallahn': [49.549, -123.24, 510, 358, 13.36],\n",
    "             'Furry': [49.582, -123.226, 515, 364, 66.38],\n",
    "             'Britannia': [49.627, -123.207, 523, 373, 34.37],\n",
    "             'Gonzalos': [49.661, -123.177, 527, 381, 15.00],\n",
    "             'Shannon': [49.678, -123.16, 529, 386, 17.94], \n",
    "             'Stawanus': [49.683, -123.16, 530, 387, 57.76]\n",
    "            }"
   ]
  },
  {
   "cell_type": "code",
   "execution_count": 258,
   "metadata": {},
   "outputs": [
    {
     "name": "stdout",
     "output_type": "stream",
     "text": [
      "357.87\n"
     ]
    }
   ],
   "source": [
    "sumit = 0\n",
    "for river in myrivers2:\n",
    "    sumit = sumit + myrivers2[river][4]\n",
    "print (sumit)"
   ]
  },
  {
   "cell_type": "code",
   "execution_count": 164,
   "metadata": {
    "scrolled": false
   },
   "outputs": [
    {
     "name": "stdout",
     "output_type": "stream",
     "text": [
      "Capilano 458 343\n",
      "Lawson 461 341\n",
      "Marr 464 338\n",
      "Rodgers 465 337\n",
      "RodgersB 466 336\n",
      "Westmount 467 335\n",
      "Cypress 469 331\n",
      "Eagle 474 329\n",
      "Whyte 479 333\n",
      "Disbrow 481 337\n",
      "Sclufield 482 339\n",
      "Turpin 485 343\n",
      "Harvey 492 346\n",
      "Deeks 501 350\n",
      "Kallahn 510 358\n",
      "Furry 515 364\n",
      "Britannia 523 373\n",
      "Gonzalos 527 381\n",
      "Shannon 529 386\n",
      "Stawanus 530 387\n"
     ]
    },
    {
     "data": {
      "image/png": "[encoded data removed]",
      "text/plain": [
       "<Figure size 720x720 with 2 Axes>"
      ]
     },
     "metadata": {
      "needs_background": "light"
     },
     "output_type": "display_data"
    }
   ],
   "source": [
    "fig, ax = plt.subplots(1, 1, figsize=(10, 10))\n",
    "colours = ax.pcolormesh(mesh.glamf[0], mesh.gphif[0], bathy.Bathymetry[1:, 1:], \n",
    "                        vmax=50, cmap='copper')\n",
    "ax.set_xlim(-123.3, -123.1)\n",
    "ax.set_ylim(49.45, 49.7)\n",
    "viz_tools.set_aspect(ax, coords='map')\n",
    "fig.colorbar(colours);\n",
    "for river in myrivers2:\n",
    "    plt.plot(myrivers2[river][1], myrivers2[river][0], 'mo')\n",
    "    yy, xx = geo_tools.find_closest_model_point(myrivers2[river][1], myrivers2[river][0], \n",
    "                                              bathy.nav_lon[:], bathy.nav_lat[:], land_mask=mask)\n",
    "    print (river, yy, xx)\n",
    "    plt.plot(bathy.nav_lon[yy, xx], bathy.nav_lat[yy, xx], 'wx')\n",
    "    plt.plot(bathy.nav_lon[myrivers2[river][2], myrivers2[river][3]],\n",
    "            bathy.nav_lat[myrivers2[river][2], myrivers2[river][3]], 'r+')"
   ]
  },
  {
   "cell_type": "code",
   "execution_count": 259,
   "metadata": {},
   "outputs": [],
   "source": [
    "myrivers3 = {'WoodfibreB': [49.666, -123.253, 533, 371, 47.7],\n",
    "            'Woodfibre': [49.661, -123.254, 533, 37, 25.26], \n",
    "            'Foulger': [49.645, -123.261, 530, 367, 17.28],\n",
    "            'Ellesmere': [49.597, -123.262, 521, 361, 15.34], \n",
    "            'Potlatch': [49.581, -123.317, 522, 350, 34.94], \n",
    "            'McNab': [49.562, -123.384, 522, 338, 72.7],\n",
    "            'Bain': [49.539, -123.447, 522, 326, 13.34],\n",
    "            'Rainy': [49.523, -123.483, 522, 319, 71.31],\n",
    "            'McNair': [49.510, -123.493, 520, 316, 54.03], \n",
    "            'Twin': [49.480, -123.485, 513, 313, 19.56],\n",
    "            'Langdale': [49.434, -123.472, 504, 309, 26.92]}"
   ]
  },
  {
   "cell_type": "code",
   "execution_count": 260,
   "metadata": {},
   "outputs": [
    {
     "name": "stdout",
     "output_type": "stream",
     "text": [
      "398.38\n"
     ]
    }
   ],
   "source": [
    "sumit = 0\n",
    "for river in myrivers3:\n",
    "    sumit = sumit + myrivers3[river][4]\n",
    "print (sumit)"
   ]
  },
  {
   "cell_type": "code",
   "execution_count": 198,
   "metadata": {},
   "outputs": [
    {
     "name": "stdout",
     "output_type": "stream",
     "text": [
      "WoodfibreB 533 371\n",
      "Woodfibre 533 370\n",
      "Foulger 530 367\n",
      "Ellesmere 521 361\n",
      "Potlatch 521 351\n",
      "McNab 522 338\n",
      "Bain 522 326\n",
      "Rainy 522 319\n",
      "McNair 520 316\n",
      "Twin 513 313\n",
      "Langdale 504 309\n"
     ]
    },
    {
     "data": {
      "image/png": "[encoded data removed]",
      "text/plain": [
       "<Figure size 720x720 with 2 Axes>"
      ]
     },
     "metadata": {
      "needs_background": "light"
     },
     "output_type": "display_data"
    }
   ],
   "source": [
    "fig, ax = plt.subplots(1, 1, figsize=(10, 10))\n",
    "colours = ax.pcolormesh(mesh.glamf[0], mesh.gphif[0], bathy.Bathymetry[1:, 1:], \n",
    "                        vmax=100, cmap='copper')\n",
    "ax.set_xlim(-123.5, -123.3)\n",
    "ax.set_ylim(49.4, 49.65)\n",
    "viz_tools.set_aspect(ax, coords='map')\n",
    "fig.colorbar(colours);\n",
    "for river in myrivers3:\n",
    "    plt.plot(myrivers3[river][1], myrivers3[river][0], 'mo')\n",
    "    yy, xx = geo_tools.find_closest_model_point(myrivers3[river][1], myrivers3[river][0], \n",
    "                                              bathy.nav_lon[:], bathy.nav_lat[:], land_mask=mask)\n",
    "    print (river, yy, xx)\n",
    "    plt.plot(bathy.nav_lon[yy, xx], bathy.nav_lat[yy, xx], 'wx')\n",
    "    plt.plot(bathy.nav_lon[myrivers3[river][2], myrivers3[river][3]],\n",
    "            bathy.nav_lat[myrivers3[river][2], myrivers3[river][3]], 'r+')"
   ]
  },
  {
   "cell_type": "code",
   "execution_count": 205,
   "metadata": {},
   "outputs": [
    {
     "name": "stdout",
     "output_type": "stream",
     "text": [
      "{'fraser': {'Serpentine': {'prop': 'entry', 'i': 392, 'j': 354, 'di': 1, 'dj': 1, 'depth': 1}, 'Nicomekl': {'prop': 'entry', 'i': 388, 'j': 350, 'di': 1, 'dj': 1, 'depth': 1}, 'LittleCampbell': {'prop': 'entry', 'i': 373, 'j': 357, 'di': 1, 'dj': 1, 'depth': 1}, 'Colebrook': {'prop': 'entry', 'i': 395, 'j': 346, 'di': 1, 'dj': 1, 'depth': 1}}}\n"
     ]
    }
   ],
   "source": [
    "prop_dict = {}\n",
    "ws = 'fraser'\n",
    "prop_dict[ws] = {}\n",
    "rivers = myrivers1a\n",
    "for river in rivers:\n",
    "    prop_dict[ws][river] = {}\n",
    "    prop_dict[ws][river]['prop'] = 'entry'\n",
    "    prop_dict[ws][river]['i'] = rivers[river][2]\n",
    "    prop_dict[ws][river]['j'] = rivers[river][3]\n",
    "    prop_dict[ws][river]['di'] = 1\n",
    "    prop_dict[ws][river]['dj'] = 1\n",
    "    prop_dict[ws][river]['depth'] = 1\n",
    "print (prop_dict)"
   ]
  },
  {
   "cell_type": "code",
   "execution_count": 210,
   "metadata": {},
   "outputs": [
    {
     "data": {
      "text/plain": [
       "0.0020941176470588236"
      ]
     },
     "execution_count": 210,
     "metadata": {},
     "output_type": "execute_result"
    }
   ],
   "source": [
    "WRIA1 = 0.016\n",
    "Nooksack_cor = WRIA1*0.75/2040\n",
    "areas = 116 + 149 + 60 + 31\n",
    "Nooksack_cor * areas"
   ]
  },
  {
   "cell_type": "code",
   "execution_count": 211,
   "metadata": {},
   "outputs": [],
   "source": [
    "jervis = {'Chapman': {\n",
    "        'prop': 0.02, 'i': 522, 'j': 273, 'di': 1, 'dj': 1, 'depth': 1,\n",
    "            },\n",
    "    'Lapan': {\n",
    "        'prop': 0.02, 'i': 620, 'j': 283, 'di': 1, 'dj': 1, 'depth': 1,\n",
    "            },\n",
    "    'Nelson': {\n",
    "        'prop': 0.02, 'i': 604, 'j': 262, 'di': 1, 'dj': 1, 'depth': 1,\n",
    "            },\n",
    "    'Wakefield': {\n",
    "        'prop': 0.02, 'i': 534, 'j': 264, 'di': 1, 'dj': 1, 'depth': 1,\n",
    "            },\n",
    "    'Halfmoon': {\n",
    "        'prop': 0.02, 'i': 549, 'j': 254, 'di': 1, 'dj': 1, 'depth': 1,\n",
    "            },\n",
    "         }"
   ]
  },
  {
   "cell_type": "code",
   "execution_count": 220,
   "metadata": {},
   "outputs": [],
   "source": []
  },
  {
   "cell_type": "code",
   "execution_count": 225,
   "metadata": {},
   "outputs": [
    {
     "data": {
      "image/png": "[encoded data removed]",
      "text/plain": [
       "<Figure size 720x720 with 2 Axes>"
      ]
     },
     "metadata": {
      "needs_background": "light"
     },
     "output_type": "display_data"
    }
   ],
   "source": [
    "fig, ax = plt.subplots(1, 1, figsize=(10, 10))\n",
    "colours = ax.pcolormesh(mesh.glamf[0], mesh.gphif[0], bathy.Bathymetry[1:, 1:], \n",
    "                        vmax=100, cmap='copper')\n",
    "ax.set_xlim(-124, -123.3)\n",
    "ax.set_ylim(49.2, 49.8)\n",
    "viz_tools.set_aspect(ax, coords='map')\n",
    "fig.colorbar(colours);\n",
    "for river in jervis:\n",
    "    yy, xx = jervis[river]['i'], jervis[river]['j']\n",
    "    ax.plot(bathy.nav_lon[yy, xx], bathy.nav_lat[yy, xx], 'mo')\n",
    "for river in myrivers3:\n",
    "    ax.plot(bathy.nav_lon[myrivers3[river][2], myrivers3[river][3]],\n",
    "            bathy.nav_lat[myrivers3[river][2], myrivers3[river][3]], 'bs')\n",
    "# Roberts Creek\n",
    "Latitude= 49.42123361565936\n",
    "Longitude= -123.6424594842415    \n",
    "ax.plot(Longitude, Latitude, 'g^');\n",
    "# Intermediate Lake\n",
    "Latitude = 49.429814071504154\n",
    "Longitude = -123.67000480198539\n",
    "ax.plot(Longitude, Latitude, 'g^');\n",
    "# Wilson Creek\n",
    "Latitude = 49.4284109254669\n",
    "Longitude = -123.70604446051382\n",
    "ax.plot(Longitude, Latitude, 'g^');\n",
    "Latitude = 49.43051226372889\n",
    "Longitude = -123.71761433845224\n",
    "ax.plot(Longitude, Latitude, 'g^');"
   ]
  },
  {
   "cell_type": "code",
   "execution_count": 261,
   "metadata": {},
   "outputs": [],
   "source": [
    "myrivers4 = {'Chester': [49.390, -123.556, 501, 291, 24.58],\n",
    "            'Roberts': [49.421, -123.642, 512, 282, 48.83],\n",
    "            'Rume': [49.428, -123.670, 517, 279, 9.17],\n",
    "#            'Wilson': [49.428, -123.706, 521, 275, 25.83]\n",
    "            }"
   ]
  },
  {
   "cell_type": "code",
   "execution_count": 262,
   "metadata": {},
   "outputs": [
    {
     "name": "stdout",
     "output_type": "stream",
     "text": [
      "82.58\n"
     ]
    }
   ],
   "source": [
    "sumit = 0\n",
    "for river in myrivers4:\n",
    "    sumit = sumit + myrivers4[river][4]\n",
    "print (sumit)"
   ]
  },
  {
   "cell_type": "code",
   "execution_count": 241,
   "metadata": {},
   "outputs": [
    {
     "name": "stdout",
     "output_type": "stream",
     "text": [
      "Chester 501 291\n",
      "Roberts 512 282\n",
      "Rume 516 279\n",
      "Wilson 519 274\n"
     ]
    },
    {
     "data": {
      "image/png": "[encoded data removed]",
      "text/plain": [
       "<Figure size 720x720 with 2 Axes>"
      ]
     },
     "metadata": {
      "needs_background": "light"
     },
     "output_type": "display_data"
    }
   ],
   "source": [
    "fig, ax = plt.subplots(1, 1, figsize=(10, 10))\n",
    "colours = ax.pcolormesh(mesh.glamf[0], mesh.gphif[0], bathy.Bathymetry[1:, 1:], \n",
    "                        vmax=100, cmap='copper')\n",
    "ax.set_xlim(-123.8, -123.6)\n",
    "ax.set_ylim(49.3, 49.55)\n",
    "viz_tools.set_aspect(ax, coords='map')\n",
    "fig.colorbar(colours);\n",
    "for river in myrivers4:\n",
    "    plt.plot(myrivers4[river][1], myrivers4[river][0], 'mo')\n",
    "    yy, xx = geo_tools.find_closest_model_point(myrivers4[river][1], myrivers4[river][0], \n",
    "                                              bathy.nav_lon[:], bathy.nav_lat[:], land_mask=mask)\n",
    "    print (river, yy, xx)\n",
    "    plt.plot(bathy.nav_lon[yy, xx], bathy.nav_lat[yy, xx], 'wx')\n",
    "    plt.plot(bathy.nav_lon[myrivers4[river][2], myrivers4[river][3]],\n",
    "            bathy.nav_lat[myrivers4[river][2], myrivers4[river][3]], 'r+')"
   ]
  },
  {
   "cell_type": "code",
   "execution_count": 242,
   "metadata": {},
   "outputs": [
    {
     "data": {
      "text/plain": [
       "0.004464995678478825"
      ]
     },
     "execution_count": 242,
     "metadata": {},
     "output_type": "execute_result"
    }
   ],
   "source": [
    "25.83/5785"
   ]
  },
  {
   "cell_type": "code",
   "execution_count": 268,
   "metadata": {},
   "outputs": [],
   "source": [
    "TotalHoweNotSquamish = 736.39+357.87+398.38+82.58"
   ]
  },
  {
   "cell_type": "code",
   "execution_count": 273,
   "metadata": {},
   "outputs": [
    {
     "data": {
      "text/plain": [
       "1575.2199999999998"
      ]
     },
     "execution_count": 273,
     "metadata": {},
     "output_type": "execute_result"
    }
   ],
   "source": [
    "TotalHoweNotSquamish"
   ]
  },
  {
   "cell_type": "markdown",
   "metadata": {},
   "source": [
    "Use 3600 km2 from Clague but that misses some.  Add 200 km2 to give 3800 and a total land part of watershed of 5375.22."
   ]
  },
  {
   "cell_type": "code",
   "execution_count": 274,
   "metadata": {},
   "outputs": [
    {
     "data": {
      "text/plain": [
       "0.706947808647832"
      ]
     },
     "execution_count": 274,
     "metadata": {},
     "output_type": "execute_result"
    }
   ],
   "source": [
    "Squamish = 3800\n",
    "Howe = 5375.22\n",
    "Squamish/Howe"
   ]
  },
  {
   "cell_type": "code",
   "execution_count": 288,
   "metadata": {},
   "outputs": [
    {
     "name": "stdout",
     "output_type": "stream",
     "text": [
      "{'howe': {'Jericho': {'prop': 0.002474317330267412, 'i': 453, 'j': 329, 'di': 1, 'dj': 1, 'depth': 1}, 'FalseCreek': {'prop': 0.005054676831831999, 'i': 450, 'j': 337, 'di': 1, 'dj': 1, 'depth': 1}, 'FirtNarrows': {'prop': 0.1294681892089998, 'i': 457, 'j': 343, 'di': 1, 'dj': 1, 'depth': 1}}}\n",
      "0.1369971833710992\n"
     ]
    }
   ],
   "source": [
    "prop_dict = {}\n",
    "ws = 'howe'\n",
    "prop_dict[ws] = {}\n",
    "rivers = myrivers1b\n",
    "sumit = 0\n",
    "for river in rivers:\n",
    "    prop_dict[ws][river] = {}\n",
    "    prop_dict[ws][river]['prop'] = rivers[river][4]/Howe\n",
    "    prop_dict[ws][river]['i'] = rivers[river][2]\n",
    "    prop_dict[ws][river]['j'] = rivers[river][3]\n",
    "    prop_dict[ws][river]['di'] = 1\n",
    "    prop_dict[ws][river]['dj'] = 1\n",
    "    prop_dict[ws][river]['depth'] = 1\n",
    "    sumit = sumit + rivers[river][4]/Howe\n",
    "\n",
    "print (prop_dict)\n",
    "print (sumit)"
   ]
  },
  {
   "cell_type": "code",
   "execution_count": 287,
   "metadata": {},
   "outputs": [
    {
     "name": "stdout",
     "output_type": "stream",
     "text": [
      "{'howe': {'Capilano': {'prop': 0.00918474034551144, 'i': 458, 'j': 343, 'di': 1, 'dj': 1, 'depth': 1}, 'Lawson': {'prop': 0.0013338988915802515, 'i': 461, 'j': 341, 'di': 1, 'dj': 1, 'depth': 1}, 'Marr': {'prop': 0.0011794866070598039, 'i': 464, 'j': 338, 'di': 1, 'dj': 1, 'depth': 1}, 'Rodgers': {'prop': 0.00044693984618303996, 'i': 465, 'j': 337, 'di': 1, 'dj': 1, 'depth': 1}, 'RodgersB': {'prop': 0.0004604834778855563, 'i': 466, 'j': 337, 'di': 1, 'dj': 1, 'depth': 1}, 'Westmount': {'prop': 0.00044693984618303996, 'i': 467, 'j': 336, 'di': 1, 'dj': 1, 'depth': 1}, 'Cypress': {'prop': 0.0029598788514702654, 'i': 469, 'j': 331, 'di': 1, 'dj': 1, 'depth': 1}, 'Eagle': {'prop': 0.0018306227466038597, 'i': 474, 'j': 329, 'di': 1, 'dj': 1, 'depth': 1}, 'Whyte': {'prop': 0.0010827463806132587, 'i': 478, 'j': 332, 'di': 1, 'dj': 1, 'depth': 1}, 'Disbrow': {'prop': 0.0005525355241273846, 'i': 481, 'j': 337, 'di': 1, 'dj': 1, 'depth': 1}, 'Sclufield': {'prop': 0.00044835374180033564, 'i': 482, 'j': 339, 'di': 1, 'dj': 1, 'depth': 1}, 'Turpin': {'prop': 0.0014176163952359158, 'i': 485, 'j': 343, 'di': 1, 'dj': 1, 'depth': 1}, 'Harvey': {'prop': 0.0038900733365332023, 'i': 492, 'j': 346, 'di': 1, 'dj': 1, 'depth': 1}, 'Deeks': {'prop': 0.0032407975859592725, 'i': 501, 'j': 350, 'di': 1, 'dj': 1, 'depth': 1}, 'Kallahn': {'prop': 0.0024854796640881673, 'i': 510, 'j': 358, 'di': 1, 'dj': 1, 'depth': 1}, 'Furry': {'prop': 0.012349261983695549, 'i': 515, 'j': 364, 'di': 1, 'dj': 1, 'depth': 1}, 'Britannia': {'prop': 0.006394156890322628, 'i': 523, 'j': 373, 'di': 1, 'dj': 1, 'depth': 1}, 'Gonzalos': {'prop': 0.002790583455188811, 'i': 527, 'j': 381, 'di': 1, 'dj': 1, 'depth': 1}, 'Shannon': {'prop': 0.0033375378124058178, 'i': 529, 'j': 386, 'di': 1, 'dj': 1, 'depth': 1}, 'Stawanus': {'prop': 0.010745606691447047, 'i': 530, 'j': 387, 'di': 1, 'dj': 1, 'depth': 1}}}\n",
      "0.06657774007389465\n"
     ]
    }
   ],
   "source": [
    "prop_dict = {}\n",
    "ws = 'howe'\n",
    "prop_dict[ws] = {}\n",
    "rivers = myrivers2\n",
    "sumit = 0\n",
    "for river in rivers:\n",
    "    prop_dict[ws][river] = {}\n",
    "    prop_dict[ws][river]['prop'] = rivers[river][4]/Howe\n",
    "    prop_dict[ws][river]['i'] = rivers[river][2]\n",
    "    prop_dict[ws][river]['j'] = rivers[river][3]\n",
    "    prop_dict[ws][river]['di'] = 1\n",
    "    prop_dict[ws][river]['dj'] = 1\n",
    "    prop_dict[ws][river]['depth'] = 1\n",
    "    sumit = sumit + rivers[river][4]/Howe\n",
    "\n",
    "print (prop_dict)\n",
    "print (sumit)"
   ]
  },
  {
   "cell_type": "code",
   "execution_count": 281,
   "metadata": {},
   "outputs": [
    {
     "data": {
      "text/plain": [
       "0.0009074233240685963"
      ]
     },
     "execution_count": 281,
     "metadata": {},
     "output_type": "execute_result"
    }
   ],
   "source": [
    "0.00044693984618303996+0.0004604834778855563"
   ]
  },
  {
   "cell_type": "code",
   "execution_count": 286,
   "metadata": {},
   "outputs": [
    {
     "name": "stdout",
     "output_type": "stream",
     "text": [
      "{'howe': {'WoodfibreB': {'prop': 0.00887405538750042, 'i': 533, 'j': 371, 'di': 1, 'dj': 1, 'depth': 1}, 'Woodfibre': {'prop': 0.004699342538537958, 'i': 533, 'j': 37, 'di': 1, 'dj': 1, 'depth': 1}, 'Foulger': {'prop': 0.0032147521403775104, 'i': 530, 'j': 367, 'di': 1, 'dj': 1, 'depth': 1}, 'Ellesmere': {'prop': 0.0028538366801730904, 'i': 521, 'j': 361, 'di': 1, 'dj': 1, 'depth': 1}, 'Potlatch': {'prop': 0.006500199061619803, 'i': 522, 'j': 350, 'di': 1, 'dj': 1, 'depth': 1}, 'McNab': {'prop': 0.013525027812815104, 'i': 522, 'j': 338, 'di': 1, 'dj': 1, 'depth': 1}, 'Bain': {'prop': 0.0024817588861479156, 'i': 522, 'j': 326, 'di': 1, 'dj': 1, 'depth': 1}, 'Rainy': {'prop': 0.013266433745967606, 'i': 522, 'j': 319, 'di': 1, 'dj': 1, 'depth': 1}, 'McNair': {'prop': 0.010051681605590097, 'i': 520, 'j': 316, 'di': 1, 'dj': 1, 'depth': 1}, 'Twin': {'prop': 0.003638920825566209, 'i': 513, 'j': 313, 'di': 1, 'dj': 1, 'depth': 1}, 'Langdale': {'prop': 0.005008167107578853, 'i': 504, 'j': 309, 'di': 1, 'dj': 1, 'depth': 1}}}\n",
      "0.07411417579187456\n"
     ]
    }
   ],
   "source": [
    "prop_dict = {}\n",
    "ws = 'howe'\n",
    "prop_dict[ws] = {}\n",
    "rivers = myrivers3\n",
    "sumit = 0\n",
    "for river in rivers:\n",
    "    prop_dict[ws][river] = {}\n",
    "    prop_dict[ws][river]['prop'] = rivers[river][4]/Howe\n",
    "    prop_dict[ws][river]['i'] = rivers[river][2]\n",
    "    prop_dict[ws][river]['j'] = rivers[river][3]\n",
    "    prop_dict[ws][river]['di'] = 1\n",
    "    prop_dict[ws][river]['dj'] = 1\n",
    "    prop_dict[ws][river]['depth'] = 1\n",
    "    sumit = sumit + rivers[river][4]/Howe\n",
    "\n",
    "print (prop_dict)\n",
    "print(sumit)"
   ]
  },
  {
   "cell_type": "code",
   "execution_count": 283,
   "metadata": {},
   "outputs": [
    {
     "data": {
      "text/plain": [
       "0.013573397926038377"
      ]
     },
     "execution_count": 283,
     "metadata": {},
     "output_type": "execute_result"
    }
   ],
   "source": [
    "0.00887405538750042+0.004699342538537958"
   ]
  },
  {
   "cell_type": "code",
   "execution_count": 285,
   "metadata": {},
   "outputs": [
    {
     "name": "stdout",
     "output_type": "stream",
     "text": [
      "{'howe': {'Chester': {'prop': 0.004572836088569398, 'i': 501, 'j': 291, 'di': 1, 'dj': 1, 'depth': 1}, 'Roberts': {'prop': 0.009084279341124641, 'i': 512, 'j': 282, 'di': 1, 'dj': 1, 'depth': 1}, 'Rume': {'prop': 0.0017059766856054263, 'i': 517, 'j': 279, 'di': 1, 'dj': 1, 'depth': 1}}}\n",
      "0.015363092115299464\n"
     ]
    }
   ],
   "source": [
    "prop_dict = {}\n",
    "ws = 'howe'\n",
    "prop_dict[ws] = {}\n",
    "rivers = myrivers4\n",
    "sumit = 0\n",
    "for river in rivers:\n",
    "    prop_dict[ws][river] = {}\n",
    "    prop_dict[ws][river]['prop'] = rivers[river][4]/Howe\n",
    "    prop_dict[ws][river]['i'] = rivers[river][2]\n",
    "    prop_dict[ws][river]['j'] = rivers[river][3]\n",
    "    prop_dict[ws][river]['di'] = 1\n",
    "    prop_dict[ws][river]['dj'] = 1\n",
    "    prop_dict[ws][river]['depth'] = 1\n",
    "    sumit = sumit + rivers[river][4]/Howe\n",
    "print (prop_dict)\n",
    "print (sumit)"
   ]
  },
  {
   "cell_type": "code",
   "execution_count": 289,
   "metadata": {},
   "outputs": [
    {
     "data": {
      "text/plain": [
       "1.0"
      ]
     },
     "execution_count": 289,
     "metadata": {},
     "output_type": "execute_result"
    }
   ],
   "source": [
    "0.015+0.074+0.067+0.707+0.137"
   ]
  },
  {
   "cell_type": "code",
   "execution_count": null,
   "metadata": {},
   "outputs": [],
   "source": []
  }
 ],
 "metadata": {
  "kernelspec": {
   "display_name": "Python 3",
   "language": "python",
   "name": "python3"
  },
  "language_info": {
   "codemirror_mode": {
    "name": "ipython",
    "version": 3
   },
   "file_extension": ".py",
   "mimetype": "text/x-python",
   "name": "python",
   "nbconvert_exporter": "python",
   "pygments_lexer": "ipython3",
   "version": "3.7.9"
  }
 },
 "nbformat": 4,
 "nbformat_minor": 4
}
