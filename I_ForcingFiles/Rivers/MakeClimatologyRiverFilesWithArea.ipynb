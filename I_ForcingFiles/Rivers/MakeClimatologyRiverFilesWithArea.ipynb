{
 "cells": [
  {
   "cell_type": "markdown",
   "metadata": {},
   "source": [
    "Make rivers constant and rivers monthly file\n",
    "Temperature in not set in these files\n",
    "They have flux, area, depth "
   ]
  },
  {
   "cell_type": "code",
   "execution_count": 1,
   "metadata": {
    "collapsed": false
   },
   "outputs": [],
   "source": [
    "import netCDF4 as NC\n",
    "import numpy as np\n",
    "import matplotlib.pyplot as plt\n",
    "\n",
    "from salishsea_tools import rivertools, river_201702, river_downbyone2, nc_tools\n",
    "\n",
    "%matplotlib inline"
   ]
  },
  {
   "cell_type": "code",
   "execution_count": 2,
   "metadata": {
    "collapsed": false
   },
   "outputs": [
    {
     "data": {
      "text/plain": [
       "<module 'salishsea_tools.river_downbyone2' from '/ocean/sallen/allen/research/Meopar/Tools/SalishSeaTools/salishsea_tools/river_downbyone2.py'>"
      ]
     },
     "execution_count": 2,
     "metadata": {},
     "output_type": "execute_result"
    }
   ],
   "source": [
    "import importlib\n",
    "importlib.reload(river_downbyone2)"
   ]
  },
  {
   "cell_type": "code",
   "execution_count": 3,
   "metadata": {
    "collapsed": true
   },
   "outputs": [],
   "source": [
    "#what type of file would you like to create?\n",
    "#e.g. 'constant' - yearly average used for all months\n",
    "#     'monthly' - monthly averages used for each month\n",
    "rivertype = 'monthly'"
   ]
  },
  {
   "cell_type": "code",
   "execution_count": 4,
   "metadata": {
    "collapsed": false
   },
   "outputs": [],
   "source": [
    "# what coordinates are you using?\n",
    "coords = 'coordinates_seagrid_SalishSea.nc'\n",
    "coords_file = '../../../NEMO-forcing/grid/'+coords\n",
    "# where is the river information?\n",
    "prop_dict_name ='river_downbyone2'\n",
    "prop_dict = river_downbyone2.prop_dict"
   ]
  },
  {
   "cell_type": "code",
   "execution_count": 5,
   "metadata": {
    "collapsed": true
   },
   "outputs": [],
   "source": [
    "# what file name do you want to produce?\n",
    "netcdf_file = 'rivers_month_extended.nc'"
   ]
  },
  {
   "cell_type": "code",
   "execution_count": 6,
   "metadata": {
    "collapsed": false
   },
   "outputs": [],
   "source": [
    "#get dimensions for netcdf files\n",
    "fB = NC.Dataset(coords_file, 'r')\n",
    "lat = fB.variables['nav_lat']\n",
    "lon = fB.variables['nav_lon']\n",
    "e1t = fB.variables['e1t'][0,:]\n",
    "e2t = fB.variables['e2t'][0,:]\n",
    "area = e1t*e2t\n",
    "fB.close()"
   ]
  },
  {
   "cell_type": "code",
   "execution_count": 7,
   "metadata": {
    "collapsed": false
   },
   "outputs": [],
   "source": [
    "#get watershed fluxes from netcdf file\n",
    "if rivertype == 'constant':\n",
    "    fluxfile = NC.Dataset('../../../nemo-forcing/rivers/Salish_allrivers_cnst.nc','r')\n",
    "    #inialise the runoff and run_depth arrays\n",
    "    runoff = np.zeros_like(area)\n",
    "if rivertype == 'monthly':\n",
    "    fluxfile = NC.Dataset('../../../nemo-forcing/rivers/Salish_allrivers_monthly.nc','r')\n",
    "    #inialise the runoff and run_depth arrays\n",
    "    runoff = np.zeros((12, area.shape[0], area.shape[1]))"
   ]
  },
  {
   "cell_type": "code",
   "execution_count": 8,
   "metadata": {
    "collapsed": false
   },
   "outputs": [],
   "source": [
    "#list of watersheds we are including\n",
    "names = ['skagit', 'fraser', 'evi_n', 'howe', 'bute', 'puget', 'jdf', 'evi_s', 'jervis', 'toba']"
   ]
  },
  {
   "cell_type": "code",
   "execution_count": 9,
   "metadata": {
    "collapsed": false
   },
   "outputs": [
    {
     "name": "stdout",
     "output_type": "stream",
     "text": [
      "skagit\n",
      "937.969310164 937.969319661 0.999999989875\n",
      "fraser\n",
      "3539.76580088 3539.81380208 0.999986439626\n",
      "evi_n\n",
      "249.918898314 638.888590495 0.391177588757\n",
      "howe\n",
      "571.427951034 571.457763672 0.999947830549\n",
      "bute\n",
      "547.815330845 547.855875651 0.999925993664\n",
      "puget\n",
      "503.333033348 503.333048503 0.999999969892\n",
      "jdf\n",
      "411.162093321 411.162068685 1.00000005992\n",
      "evi_s\n",
      "330.77776717 330.786621094 0.999973233731\n",
      "jervis\n",
      "296.9668444 296.966837565 1.00000002301\n",
      "toba\n",
      "269.874062982 269.932454427 0.999783681272\n"
     ]
    }
   ],
   "source": [
    "run_depth = np.ones_like(runoff)\n",
    "run_temp = np.empty_like(runoff)\n",
    "for name in range(0,len(names)):\n",
    "    watershedname = names[name]\n",
    "    print (watershedname)\n",
    "    Flux = fluxfile.variables[watershedname][:]\n",
    "    if rivertype == 'constant':\n",
    "        Flux = float(Flux)\n",
    "    runoff_orig = np.copy(runoff)\n",
    "    runoff, run_depth, run_temp = rivertools.put_watershed_into_runoff(rivertype, area,\n",
    "                                            Flux, runoff, run_depth, run_temp,\n",
    "                                            prop_dict[watershedname])\n",
    "    if rivertype == 'constant':\n",
    "        rivertools.check_sum(runoff_orig, runoff, Flux, area)\n",
    "    if rivertype == 'monthly':\n",
    "        rivertools.check_sum_monthly(runoff_orig, runoff, Flux, area)"
   ]
  },
  {
   "cell_type": "code",
   "execution_count": 10,
   "metadata": {
    "collapsed": false
   },
   "outputs": [
    {
     "name": "stdout",
     "output_type": "stream",
     "text": [
      "file format: NETCDF4\n",
      "Conventions: CF-1.6\n",
      "title: monthly rivers for river_downbyone2\n",
      "institution: Dept of Earth, Ocean & Atmospheric Sciences, University of British Columbia\n",
      "source: https://bitbucket.org/salishsea/tools/src/tip/MakeClimatologyRiverFilesWithArea.ipynb\n",
      "references: REQUIRED\n",
      "history: [2017-05-13 15:41:10] Created netCDF4 zlib=True dataset.\n",
      "comment: monthly rivers for river_downbyone2 on coordinates_seagrid_SalishSea.nc\n",
      "file format: NETCDF4\n",
      "Conventions: CF-1.6\n",
      "title: monthly rivers for river_downbyone2\n",
      "institution: Dept of Earth, Ocean & Atmospheric Sciences, University of British Columbia\n",
      "source: https://bitbucket.org/salishsea/tools/src/tip/MakeClimatologyRiverFilesWithArea.ipynb\n",
      "references: REQUIRED\n",
      "history: [2017-05-13 15:41:10] Created netCDF4 zlib=True dataset.\n",
      "comment: monthly rivers for river_downbyone2 on coordinates_seagrid_SalishSea.nc\n"
     ]
    }
   ],
   "source": [
    "# set up titles\n",
    "netcdf_title = rivertype+' rivers for '+prop_dict_name\n",
    "netcdf_comment = netcdf_title+' on '+coords\n",
    "notebook = 'MakeClimatologyRiverFilesWithArea.ipynb'\n",
    "\n",
    "nemo = NC.Dataset(netcdf_file, 'w')\n",
    "nc_tools.init_dataset_attrs(nemo, netcdf_title, notebook,\n",
    "                           'NEMO-forcing/rivers/'+netcdf_file, netcdf_comment)\n",
    "\n",
    "# dimensions\n",
    "nemo.createDimension('x', area.shape[1])\n",
    "nemo.createDimension('y', area.shape[0])\n",
    "nemo.createDimension('time_counter', None)\n",
    "    \n",
    "# variables\n",
    "# latitude and longitude\n",
    "nav_lat = nemo.createVariable('nav_lat', 'float32', ('y', 'x'), zlib=True)\n",
    "nav_lat.setncattr('units', 'degrees_north')\n",
    "nav_lat.setncattr('long_name', 'latitude')\n",
    "nav_lat = lat\n",
    "nav_lon = nemo.createVariable('nav_lon','float32',('y','x'),zlib=True)\n",
    "nav_lon.setncattr('units', 'degrees_east')\n",
    "nav_lon.setncattr('long_name', 'longitude')\n",
    "nav_lon = lon\n",
    "# area\n",
    "nav_area = nemo.createVariable('area', 'float32', ('y', 'x'), zlib=True)\n",
    "nav_area.setncattr('units', 'm2')\n",
    "nav_area.setncattr('long_name', 'horizontal_grid_cell_area')\n",
    "nav_area = area\n",
    "\n",
    "# time\n",
    "time_counter = nemo.createVariable('time_counter', 'float32', ('time_counter'),zlib=True)\n",
    "time_counter.setncattr('units', 'month')\n",
    "time_counter.setncattr('long_name', 'time')\n",
    "if rivertype == 'monthly':\n",
    "    time_counter[0:12] = range(1,13)\n",
    "elif rivertype == 'constant':\n",
    "    time_counter[0] = 1\n",
    "else:\n",
    "    print('problem!!!')\n",
    "\n",
    "# runoff\n",
    "rorunoff = nemo.createVariable('rorunoff', 'float32', ('time_counter','y','x'), zlib=True)\n",
    "rorunoff.setncattr('units', 'kg m-2 s-1')\n",
    "rorunoff.setncattr('long_name', 'runoff_flux')\n",
    "if rivertype == 'monthly':\n",
    "    rorunoff[0:12,:] = runoff\n",
    "else:\n",
    "    rorunoff[0, :] = runoff\n",
    "\n",
    "# depth\n",
    "rodepth = nemo.createVariable('rodepth','float32',('y','x'),zlib=True)\n",
    "rodepth.setncattr('units', 'm')\n",
    "rodepth.setncattr('long_name', 'maximum_runoff_depth')\n",
    "if rivertype == 'monthly':\n",
    "    rodepth[:] = run_depth[0,:,:]\n",
    "else:\n",
    "    rodepth[:] = run_depth\n",
    "    \n",
    "nc_tools.show_dataset_attrs(nemo)\n",
    "nemo.close()"
   ]
  },
  {
   "cell_type": "markdown",
   "metadata": {},
   "source": [
    "**Your file has now been created.  Move it into NEMO-forcing/Rivers and commit**"
   ]
  },
  {
   "cell_type": "code",
   "execution_count": null,
   "metadata": {
    "collapsed": true
   },
   "outputs": [],
   "source": []
  }
 ],
 "metadata": {
  "anaconda-cloud": {},
  "kernelspec": {
   "display_name": "Python 3",
   "language": "python",
   "name": "python3"
  },
  "language_info": {
   "codemirror_mode": {
    "name": "ipython",
    "version": 3
   },
   "file_extension": ".py",
   "mimetype": "text/x-python",
   "name": "python",
   "nbconvert_exporter": "python",
   "pygments_lexer": "ipython3",
   "version": "3.6.0"
  }
 },
 "nbformat": 4,
 "nbformat_minor": 0
}
