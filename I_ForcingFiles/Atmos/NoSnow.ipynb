{
 "metadata": {
  "name": ""
 },
 "nbformat": 3,
 "nbformat_minor": 0,
 "worksheets": [
  {
   "cells": [
    {
     "cell_type": "markdown",
     "metadata": {},
     "source": [
      "#No Snow on the Salish Sea\n",
      "\n",
      "Create an annual climatology CGRF-like atmospheric forcing file for NEMO\n",
      "that always supplies zero as the solid precipitation value."
     ]
    },
    {
     "cell_type": "code",
     "collapsed": false,
     "input": [
      "import netCDF4 as nc\n",
      "import numpy as np"
     ],
     "language": "python",
     "metadata": {},
     "outputs": [],
     "prompt_number": 1
    },
    {
     "cell_type": "markdown",
     "metadata": {},
     "source": [
      "Use a file from the GEM tarballs supplied by JP Paquin on 31-Oct-2013 as a template:"
     ]
    },
    {
     "cell_type": "code",
     "collapsed": false,
     "input": [
      "tmpl = nc.Dataset('../../NEMO-forcing/atmospheric/snow_precip_y2002m01d02.nc', 'r')\n",
      "tmpl.file_format"
     ],
     "language": "python",
     "metadata": {},
     "outputs": [
      {
       "metadata": {},
       "output_type": "pyout",
       "prompt_number": 2,
       "text": [
        "'NETCDF3_CLASSIC'"
       ]
      }
     ],
     "prompt_number": 2
    },
    {
     "cell_type": "code",
     "collapsed": false,
     "input": [
      "for attr in tmpl.ncattrs(): print '{}: {}'.format(attr, tmpl.getncattr(attr))"
     ],
     "language": "python",
     "metadata": {},
     "outputs": [
      {
       "output_type": "stream",
       "stream": "stdout",
       "text": [
        "history: Fri Feb 10 15:04:22 2012: ncap2 -s snow=precip*snow_msk precip_y2002m01d02.nc snow_precip_y2002m01d02.nc\n",
        "Fri Feb 10 15:03:31 2012: ncks -A -v snow_msk tmp.nc precip_y2002m01d02.nc\n",
        "Fri Feb 10 14:46:24 2012: ncks -A -v snow_msk tmp.nc precip_y2002m01d02.nc\n",
        "NCO: 4.0.8\n",
        "nco_openmp_thread_number: 1\n"
       ]
      }
     ],
     "prompt_number": 3
    },
    {
     "cell_type": "code",
     "collapsed": false,
     "input": [
      "for dim in tmpl.dimensions.itervalues(): print dim"
     ],
     "language": "python",
     "metadata": {},
     "outputs": [
      {
       "output_type": "stream",
       "stream": "stdout",
       "text": [
        "<type 'netCDF4.Dimension'> (unlimited): name = 'time_counter', size = 25\n",
        "\n",
        "<type 'netCDF4.Dimension'>: name = 'y', size = 600\n",
        "\n",
        "<type 'netCDF4.Dimension'>: name = 'x', size = 801\n",
        "\n"
       ]
      }
     ],
     "prompt_number": 4
    },
    {
     "cell_type": "code",
     "collapsed": false,
     "input": [
      "for var in tmpl.variables.itervalues(): print var"
     ],
     "language": "python",
     "metadata": {},
     "outputs": [
      {
       "output_type": "stream",
       "stream": "stdout",
       "text": [
        "<type 'netCDF4.Variable'>\n",
        "float32 snow(time_counter, y, x)\n",
        "    add_offset: 0.0\n",
        "    axis: TYX\n",
        "    long_name: precipitation\n",
        "    missing_value: 1e+20\n",
        "    online_operation: inst(only(x))\n",
        "    savelog10: 0.0\n",
        "    scale_factor: 1.0\n",
        "    short_name: precip\n",
        "    units: m/s\n",
        "    valid_max: 1.0\n",
        "    valid_min: 0.0\n",
        "unlimited dimensions: time_counter\n",
        "current shape = (25, 600, 801)\n",
        "\n",
        "<type 'netCDF4.Variable'>\n",
        "float32 nav_lon(y, x)\n",
        "    units: degrees_east\n",
        "    valid_min: 0.0\n",
        "    valid_max: 360.0\n",
        "    long_name: Longitude\n",
        "    nav_model: Default grid\n",
        "unlimited dimensions: \n",
        "current shape = (600, 801)\n",
        "\n",
        "<type 'netCDF4.Variable'>\n",
        "float32 nav_lat(y, x)\n",
        "    units: degrees_north\n",
        "    valid_min: -90.0\n",
        "    valid_max: 90.0\n",
        "    long_name: Latitude\n",
        "    nav_model: Default grid\n",
        "unlimited dimensions: \n",
        "current shape = (600, 801)\n",
        "\n",
        "<type 'netCDF4.Variable'>\n",
        "float64 time_counter(time_counter)\n",
        "    calendar: gregorian\n",
        "    units: seconds since 0006-01-01 00:00:00\n",
        "    time_origin: 0001-JAN-01 00:00:00\n",
        "    title: Time\n",
        "    long_name: Time axis\n",
        "unlimited dimensions: time_counter\n",
        "current shape = (25,)\n",
        "\n",
        "<type 'netCDF4.Variable'>\n",
        "float32 precip(time_counter, y, x)\n",
        "    units: m/s\n",
        "    missing_value: 1e+20\n",
        "    valid_min: 0.0\n",
        "    valid_max: 1.0\n",
        "    long_name: precipitation\n",
        "    short_name: precip\n",
        "    online_operation: inst(only(x))\n",
        "    axis: TYX\n",
        "    scale_factor: 1.0\n",
        "    add_offset: 0.0\n",
        "    savelog10: 0.0\n",
        "unlimited dimensions: time_counter\n",
        "current shape = (25, 600, 801)\n",
        "\n",
        "<type 'netCDF4.Variable'>\n",
        "float64 snow_msk(time_counter, y, x)\n",
        "    add_offset: 0.0\n",
        "    axis: TYX\n",
        "    long_name: Air temperature\n",
        "    missing_value: 1e+20\n",
        "    online_operation: inst(only(x))\n",
        "    savelog10: 0.0\n",
        "    scale_factor: 1.0\n",
        "    short_name: tair\n",
        "    units: Kelvins\n",
        "    valid_max: 373.0\n",
        "    valid_min: 173.0\n",
        "unlimited dimensions: time_counter\n",
        "current shape = (25, 600, 801)\n",
        "\n"
       ]
      }
     ],
     "prompt_number": 5
    },
    {
     "cell_type": "markdown",
     "metadata": {},
     "source": [
      "Create the no-snow dataset:"
     ]
    },
    {
     "cell_type": "code",
     "collapsed": false,
     "input": [
      "no_snow = nc.Dataset('../../NEMO-forcing/atmospheric/no_snow.nc', 'w')"
     ],
     "language": "python",
     "metadata": {},
     "outputs": [],
     "prompt_number": 15
    },
    {
     "cell_type": "code",
     "collapsed": false,
     "input": [
      "no_snow.createDimension('time_counter')\n",
      "no_snow.createDimension('y', 600)\n",
      "no_snow.createDimension('x', 801)"
     ],
     "language": "python",
     "metadata": {},
     "outputs": [
      {
       "metadata": {},
       "output_type": "pyout",
       "prompt_number": 16,
       "text": [
        "<netCDF4.Dimension at 0x1042fdb90>"
       ]
      }
     ],
     "prompt_number": 16
    },
    {
     "cell_type": "code",
     "collapsed": false,
     "input": [
      "time = no_snow.createVariable('time_counter', float, ('time_counter', ), zlib=True)\n",
      "lats = no_snow.createVariable('nav_lat', float, ('y', 'x'), zlib=True)\n",
      "lons = no_snow.createVariable('nav_lon', float, ('y', 'x'), zlib=True)"
     ],
     "language": "python",
     "metadata": {},
     "outputs": [],
     "prompt_number": 17
    },
    {
     "cell_type": "markdown",
     "metadata": {},
     "source": [
      "Simply using the `fill_value=0` argument,\n",
      "which sets the `_FillValue` netCDF attribute on the `snow` variable,\n",
      "is sufficient to ensure that its value is zero at all times and locations."
     ]
    },
    {
     "cell_type": "code",
     "collapsed": false,
     "input": [
      "snow = no_snow.createVariable(\n",
      "            'snow', float, ('time_counter', 'y', 'x'), fill_value=0,\n",
      "            zlib=True, least_significant_digit=1)"
     ],
     "language": "python",
     "metadata": {},
     "outputs": [],
     "prompt_number": 18
    },
    {
     "cell_type": "code",
     "collapsed": false,
     "input": [
      "def copy_attrs(src, dst):\n",
      "    for attr in src.ncattrs():\n",
      "        dst.setncattr(attr, src.getncattr(attr))"
     ],
     "language": "python",
     "metadata": {},
     "outputs": [],
     "prompt_number": 74
    },
    {
     "cell_type": "code",
     "collapsed": false,
     "input": [
      "copy_attrs(tmpl.variables['time_counter'], time)\n",
      "copy_attrs(tmpl.variables['nav_lat'], lats)\n",
      "copy_attrs(tmpl.variables['nav_lon'], lons)\n",
      "copy_attrs(tmpl.variables['snow'], snow)"
     ],
     "language": "python",
     "metadata": {},
     "outputs": [],
     "prompt_number": 76
    },
    {
     "cell_type": "markdown",
     "metadata": {},
     "source": [
      "Set the variable values and their attributes:"
     ]
    },
    {
     "cell_type": "code",
     "collapsed": false,
     "input": [
      "time[:] = np.array((1, ))\n",
      "time.calendar = 'gregorian'\n",
      "time.time_origin = '0001-JAN-01 00:00:00'\n",
      "time.units = 'seconds since 0001-01-01 00:00:00'\n",
      "time.title = 'Time'\n",
      "time.standard_name = 'time'\n",
      "time.long_name = 'Time Axis'"
     ],
     "language": "python",
     "metadata": {},
     "outputs": [],
     "prompt_number": 24
    },
    {
     "cell_type": "code",
     "collapsed": false,
     "input": [
      "lats[:] = tmpl.variables['nav_lat'][:]\n",
      "lats.units = 'degrees_north'\n",
      "lats.valid_range = np.array((-90.0, 90.0))\n",
      "lats.long_name = 'Latitude'\n",
      "lats.nav_model = 'Default grid'"
     ],
     "language": "python",
     "metadata": {},
     "outputs": [],
     "prompt_number": 20
    },
    {
     "cell_type": "code",
     "collapsed": false,
     "input": [
      "lons[:] = tmpl.variables['nav_lon'][:]\n",
      "lons.units = 'degrees_east'\n",
      "lons.valid_range = np.array((0.0, 360.0))\n",
      "lons.long_name = 'Longitude'\n",
      "lons.nav_model = 'Default grid'"
     ],
     "language": "python",
     "metadata": {},
     "outputs": [],
     "prompt_number": 21
    },
    {
     "cell_type": "code",
     "collapsed": false,
     "input": [
      "snow.units = 'm/s'\n",
      "snow.valid_range = np.array((0.0, 1.0))\n",
      "snow.long_name = 'Snowfall rate'"
     ],
     "language": "python",
     "metadata": {},
     "outputs": [],
     "prompt_number": 22
    },
    {
     "cell_type": "code",
     "collapsed": false,
     "input": [
      "print time\n",
      "print lats\n",
      "print lons\n",
      "print snow"
     ],
     "language": "python",
     "metadata": {},
     "outputs": [
      {
       "output_type": "stream",
       "stream": "stdout",
       "text": [
        "<type 'netCDF4.Variable'>\n",
        "float64 time_counter(time_counter)\n",
        "    calendar: gregorian\n",
        "    time_origin: 0001-JAN-01 00:00:00\n",
        "    units: seconds since 0001-01-01 00:00:00\n",
        "    title: Time\n",
        "    standard_name: time\n",
        "    long_name: Time Axis\n",
        "unlimited dimensions: time_counter\n",
        "current shape = (1,)\n",
        "\n",
        "<type 'netCDF4.Variable'>\n",
        "float64 nav_lat(y, x)\n",
        "    units: degrees_north\n",
        "    valid_range: [-90.  90.]\n",
        "    long_name: Latitude\n",
        "    nav_model: Default grid\n",
        "unlimited dimensions: \n",
        "current shape = (600, 801)\n",
        "\n",
        "<type 'netCDF4.Variable'>\n",
        "float64 nav_lon(y, x)\n",
        "    units: degrees_east\n",
        "    valid_range: [   0.  360.]\n",
        "    long_name: Longitude\n",
        "    nav_model: Default grid\n",
        "unlimited dimensions: \n",
        "current shape = (600, 801)\n",
        "\n",
        "<type 'netCDF4.Variable'>\n",
        "float64 snow(time_counter, y, x)\n",
        "    _FillValue: 0.0\n",
        "    least_significant_digit: 1\n",
        "    units: m/s\n",
        "    valid_range: [ 0.  1.]\n",
        "    long_name: Snowfall rate\n",
        "unlimited dimensions: time_counter\n",
        "current shape = (1, 600, 801)\n",
        "\n"
       ]
      }
     ],
     "prompt_number": 25
    },
    {
     "cell_type": "markdown",
     "metadata": {},
     "source": [
      "Set the dataset global attributes and commit the dataset to disk:"
     ]
    },
    {
     "cell_type": "code",
     "collapsed": false,
     "input": [
      "no_snow.Conventions = 'CF-1.6'\n",
      "no_snow.title = 'Salish Sea Yearly Snowfall Climatology'\n",
      "no_snow.institution = 'Dept of Earth, Ocean & Atmospheric Sciences, University of British Columbia'\n",
      "no_snow.source = 'https://bitbucket.org/salishsea/tools/src/tip/I_ForcingFiles/NoSnow.ipynb'\n",
      "no_snow.references = 'https://bitbucket.org/salishsea/nemo-forcing/src/tip/atmospheric/no_snow.nc'\n",
      "no_snow.history = \"\"\"\n",
      "    [2013-11-08 15:51] Created.\n",
      "    [2013-11-10 17:21] Cleaned up variable and dataset attributes.\n",
      "\"\"\"\n",
      "no_snow.comment = \"\"\"\n",
      "    Annual climatology CGRF-like atmospheric forcing file for NEMO that always supplies zero as the solid precipitation value.'\n",
      "    nav_lat and nav_lon variables are from a CGRF precipitation file, as are all variable attributes.\n",
      "\"\"\""
     ],
     "language": "python",
     "metadata": {},
     "outputs": [],
     "prompt_number": 26
    },
    {
     "cell_type": "code",
     "collapsed": false,
     "input": [
      "no_snow.close()"
     ],
     "language": "python",
     "metadata": {},
     "outputs": [],
     "prompt_number": 27
    },
    {
     "cell_type": "code",
     "collapsed": false,
     "input": [],
     "language": "python",
     "metadata": {},
     "outputs": []
    }
   ],
   "metadata": {}
  }
 ]
}