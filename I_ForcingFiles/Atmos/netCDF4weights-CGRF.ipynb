{
 "metadata": {
  "name": ""
 },
 "nbformat": 3,
 "nbformat_minor": 0,
 "worksheets": [
  {
   "cells": [
    {
     "cell_type": "markdown",
     "metadata": {},
     "source": [
      "#Convert Atmospheric Forcing Weights to netCDF4\n",
      "\n",
      "Transfer the values from the `met_gem_weight.nc` \n",
      "from the 2-Oct-2013 `WC3_PREP` tarball\n",
      "into a netCDF4 file with zlib compression on variables\n",
      "and CF-1.6 conventions conformant attributes."
     ]
    },
    {
     "cell_type": "code",
     "collapsed": false,
     "input": [
      "import netCDF4 as nc\n",
      "import numpy as np\n",
      "from salishsea_tools import nc_tools"
     ],
     "language": "python",
     "metadata": {},
     "outputs": [],
     "prompt_number": 304
    },
    {
     "cell_type": "code",
     "collapsed": false,
     "input": [
      "src = nc.Dataset('../../NEMO-forcing/grid/met_gem_weight.nc')\n",
      "nc_tools.show_dataset_attrs(src)"
     ],
     "language": "python",
     "metadata": {},
     "outputs": [
      {
       "output_type": "stream",
       "stream": "stdout",
       "text": [
        "file format: NETCDF3_CLASSIC\n"
       ]
      }
     ],
     "prompt_number": 306
    },
    {
     "cell_type": "code",
     "collapsed": false,
     "input": [
      "nc_tools.show_dimensions(src)"
     ],
     "language": "python",
     "metadata": {},
     "outputs": [
      {
       "output_type": "stream",
       "stream": "stdout",
       "text": [
        "<type 'netCDF4.Dimension'>: name = 'x', size = 398\n",
        "\n",
        "<type 'netCDF4.Dimension'>: name = 'y', size = 898\n",
        "\n",
        "<type 'netCDF4.Dimension'>: name = 'lon', size = 801\n",
        "\n",
        "<type 'netCDF4.Dimension'>: name = 'lat', size = 600\n",
        "\n",
        "<type 'netCDF4.Dimension'>: name = 'numwgt', size = 4\n",
        "\n"
       ]
      }
     ],
     "prompt_number": 307
    },
    {
     "cell_type": "code",
     "collapsed": false,
     "input": [
      "nc_tools.show_variables(src)"
     ],
     "language": "python",
     "metadata": {},
     "outputs": [
      {
       "output_type": "stream",
       "stream": "stdout",
       "text": [
        "[u'nav_lon', u'nav_lat', u'src01', u'wgt01', u'src02', u'wgt02', u'src03', u'wgt03', u'src04', u'wgt04']\n"
       ]
      }
     ],
     "prompt_number": 308
    },
    {
     "cell_type": "code",
     "collapsed": false,
     "input": [
      "nc_tools.show_variable_attrs(src)"
     ],
     "language": "python",
     "metadata": {},
     "outputs": [
      {
       "output_type": "stream",
       "stream": "stdout",
       "text": [
        "<type 'netCDF4.Variable'>\n",
        "float64 nav_lon(lat, lon)\n",
        "unlimited dimensions: \n",
        "current shape = (600, 801)\n",
        "\n",
        "<type 'netCDF4.Variable'>\n",
        "float64 nav_lat(lat, lon)\n",
        "unlimited dimensions: \n",
        "current shape = (600, 801)\n",
        "\n",
        "<type 'netCDF4.Variable'>\n",
        "int32 src01(y, x)\n",
        "unlimited dimensions: \n",
        "current shape = (898, 398)\n",
        "\n",
        "<type 'netCDF4.Variable'>\n",
        "float64 wgt01(y, x)\n",
        "unlimited dimensions: \n",
        "current shape = (898, 398)\n",
        "\n",
        "<type 'netCDF4.Variable'>\n",
        "int32 src02(y, x)\n",
        "unlimited dimensions: \n",
        "current shape = (898, 398)\n",
        "\n",
        "<type 'netCDF4.Variable'>\n",
        "float64 wgt02(y, x)\n",
        "unlimited dimensions: \n",
        "current shape = (898, 398)\n",
        "\n",
        "<type 'netCDF4.Variable'>\n",
        "int32 src03(y, x)\n",
        "unlimited dimensions: \n",
        "current shape = (898, 398)\n",
        "\n",
        "<type 'netCDF4.Variable'>\n",
        "float64 wgt03(y, x)\n",
        "unlimited dimensions: \n",
        "current shape = (898, 398)\n",
        "\n",
        "<type 'netCDF4.Variable'>\n",
        "int32 src04(y, x)\n",
        "unlimited dimensions: \n",
        "current shape = (898, 398)\n",
        "\n",
        "<type 'netCDF4.Variable'>\n",
        "float64 wgt04(y, x)\n",
        "unlimited dimensions: \n",
        "current shape = (898, 398)\n",
        "\n"
       ]
      }
     ],
     "prompt_number": 309
    },
    {
     "cell_type": "code",
     "collapsed": false,
     "input": [
      "nc_filepath = '../../NEMO-forcing/grid/weights-CGRF.nc'\n",
      "weights = nc.Dataset(nc_filepath, 'w')"
     ],
     "language": "python",
     "metadata": {},
     "outputs": [],
     "prompt_number": 283
    },
    {
     "cell_type": "code",
     "collapsed": false,
     "input": [
      "weights.createDimension('x', 398)\n",
      "weights.createDimension('y', 898)\n",
      "weights.createDimension('lon', 801)\n",
      "weights.createDimension('lat', 600)\n",
      "weights.createDimension('numwgt', 4)"
     ],
     "language": "python",
     "metadata": {},
     "outputs": [
      {
       "metadata": {},
       "output_type": "pyout",
       "prompt_number": 284,
       "text": [
        "<netCDF4.Dimension at 0x1045cc1e0>"
       ]
      }
     ],
     "prompt_number": 284
    },
    {
     "cell_type": "code",
     "collapsed": false,
     "input": [
      "lats = weights.createVariable('nav_lat', float, ('lat', 'lon'), zlib=True)\n",
      "lons = weights.createVariable('nav_lon', float, ('lat', 'lon'), zlib=True)\n",
      "src01 = weights.createVariable('src01', int, ('y', 'x'), zlib=True)\n",
      "wgt01 = weights.createVariable('wgt01', float, ('y', 'x'), zlib=True)\n",
      "src02 = weights.createVariable('src02', int, ('y', 'x'), zlib=True)\n",
      "wgt02 = weights.createVariable('wgt02', float, ('y', 'x'), zlib=True)\n",
      "src03 = weights.createVariable('src03', int, ('y', 'x'), zlib=True)\n",
      "wgt03 = weights.createVariable('wgt03', float, ('y', 'x'), zlib=True)\n",
      "src04 = weights.createVariable('src04', int, ('y', 'x'), zlib=True)\n",
      "wgt04 = weights.createVariable('wgt04', float, ('y', 'x'), zlib=True)"
     ],
     "language": "python",
     "metadata": {},
     "outputs": [],
     "prompt_number": 285
    },
    {
     "cell_type": "code",
     "collapsed": false,
     "input": [
      "lats[:] = src.variables['nav_lat'][:]\n",
      "lats.units = 'degrees_north'\n",
      "lats.long_name = 'Latitude'\n",
      "lats.valid_range = np.array((-90.0, 90.0))\n",
      "    \n",
      "lons[:] = src.variables['nav_lon'][:]\n",
      "lons.units = 'degrees_east'\n",
      "lons.long_name = 'Longitude'\n",
      "lons.valid_range = np.array((0., 360.))\n",
      "    \n",
      "nc_tools.show_variable_attrs(weights, lats, lons)"
     ],
     "language": "python",
     "metadata": {},
     "outputs": [
      {
       "output_type": "stream",
       "stream": "stdout",
       "text": [
        "<type 'netCDF4.Variable'>\n",
        "float64 nav_lat(lat, lon)\n",
        "    units: degrees_north\n",
        "    long_name: Latitude\n",
        "    valid_range: [-90.  90.]\n",
        "unlimited dimensions: \n",
        "current shape = (600, 801)\n",
        "\n",
        "<type 'netCDF4.Variable'>\n",
        "float64 nav_lon(lat, lon)\n",
        "    units: degrees_east\n",
        "    long_name: Longitude\n",
        "    valid_range: [   0.  360.]\n",
        "unlimited dimensions: \n",
        "current shape = (600, 801)\n",
        "\n"
       ]
      }
     ],
     "prompt_number": 286
    },
    {
     "cell_type": "code",
     "collapsed": false,
     "input": [
      "src01[:] = src.variables['src01'][:]\n",
      "src01.units = 1\n",
      "src01.long_name = 'CGRF Grid Index 1 (Flattened)'\n",
      "src01.valid_range = np.array(\n",
      "    (np.min(src.variables['src01']), np.max(src.variables['src01'])))\n",
      "\n",
      "wgt01[:] = src.variables['wgt01'][:]\n",
      "wgt01.units = 1\n",
      "wgt01.long_name = 'Salish Sea Grid Weights for src01'\n",
      "wgt01.valid_range = np.array(\n",
      "    (np.min(src.variables['wgt01']), np.max(src.variables['wgt01'])))\n",
      "\n",
      "nc_tools.show_variable_attrs(weights, src01, wgt01)"
     ],
     "language": "python",
     "metadata": {},
     "outputs": [
      {
       "output_type": "stream",
       "stream": "stdout",
       "text": [
        "<type 'netCDF4.Variable'>\n",
        "int64 src01(y, x)\n",
        "    units: 1\n",
        "    long_name: CGRF Grid Index 1 (Flattened)\n",
        "    valid_range: [365782 376995]\n",
        "unlimited dimensions: \n",
        "current shape = (898, 398)\n",
        "\n",
        "<type 'netCDF4.Variable'>\n",
        "float64 wgt01(y, x)\n",
        "    units: 1\n",
        "    long_name: Salish Sea Grid Weights for src01\n",
        "    valid_range: [ 0.25055845  0.99765266]\n",
        "unlimited dimensions: \n",
        "current shape = (898, 398)\n",
        "\n"
       ]
      }
     ],
     "prompt_number": 287
    },
    {
     "cell_type": "code",
     "collapsed": false,
     "input": [
      "src02[:] = src.variables['src02'][:]\n",
      "src02.units = 1\n",
      "src02.long_name = 'CGRF Grid Index 2 (Flattened)'\n",
      "src02.valid_range = np.array(\n",
      "    (np.min(src.variables['src02']), np.max(src.variables['src02'])))\n",
      "\n",
      "wgt02[:] = src.variables['wgt02'][:]\n",
      "wgt02.units = 1\n",
      "wgt02.long_name = 'Salish Sea Grid Weights for src02'\n",
      "wgt02.valid_range = np.array(\n",
      "    (np.min(src.variables['wgt02']), np.max(src.variables['wgt02'])))\n",
      "\n",
      "nc_tools.show_variable_attrs(weights, src02, wgt02)"
     ],
     "language": "python",
     "metadata": {},
     "outputs": [
      {
       "output_type": "stream",
       "stream": "stdout",
       "text": [
        "<type 'netCDF4.Variable'>\n",
        "int64 src02(y, x)\n",
        "    units: 1\n",
        "    long_name: CGRF Grid Index 2 (Flattened)\n",
        "    valid_range: [364982 376995]\n",
        "unlimited dimensions: \n",
        "current shape = (898, 398)\n",
        "\n",
        "<type 'netCDF4.Variable'>\n",
        "float64 wgt02(y, x)\n",
        "    units: 1\n",
        "    long_name: Salish Sea Grid Weights for src02\n",
        "    valid_range: [ 0.          0.49951051]\n",
        "unlimited dimensions: \n",
        "current shape = (898, 398)\n",
        "\n"
       ]
      }
     ],
     "prompt_number": 288
    },
    {
     "cell_type": "code",
     "collapsed": false,
     "input": [
      "src03[:] = src.variables['src03'][:]\n",
      "src03.units = 1\n",
      "src03.long_name = 'CGRF Grid Index 3 (Flattened)'\n",
      "src03.valid_range = np.array(\n",
      "    (np.min(src.variables['src03']), np.max(src.variables['src03'])))\n",
      "\n",
      "wgt03[:] = src.variables['wgt03'][:]\n",
      "wgt03.units = 1\n",
      "wgt03.long_name = 'Salish Sea Grid Weights for src03'\n",
      "wgt03.valid_range = np.array(\n",
      "    (np.min(src.variables['wgt03']), np.max(src.variables['wgt03'])))\n",
      "\n",
      "nc_tools.show_variable_attrs(weights, src03, wgt03)"
     ],
     "language": "python",
     "metadata": {},
     "outputs": [
      {
       "output_type": "stream",
       "stream": "stdout",
       "text": [
        "<type 'netCDF4.Variable'>\n",
        "int64 src03(y, x)\n",
        "    units: 1\n",
        "    long_name: CGRF Grid Index 3 (Flattened)\n",
        "    valid_range: [365782 376995]\n",
        "unlimited dimensions: \n",
        "current shape = (898, 398)\n",
        "\n",
        "<type 'netCDF4.Variable'>\n",
        "float64 wgt03(y, x)\n",
        "    units: 1\n",
        "    long_name: Salish Sea Grid Weights for src03\n",
        "    valid_range: [ 0.          0.49897051]\n",
        "unlimited dimensions: \n",
        "current shape = (898, 398)\n",
        "\n"
       ]
      }
     ],
     "prompt_number": 289
    },
    {
     "cell_type": "code",
     "collapsed": false,
     "input": [
      "src04[:] = src.variables['src04'][:]\n",
      "src04.units = 1\n",
      "src04.long_name = 'CGRF Grid Index 4 (Flattened)'\n",
      "src04.valid_range = np.array(\n",
      "    (np.min(src.variables['src04']), np.max(src.variables['src04'])))\n",
      "\n",
      "wgt04[:] = src.variables['wgt04'][:]\n",
      "wgt04.units = 1\n",
      "wgt04.long_name = 'Salish Sea Grid Weights for src04'\n",
      "wgt04.valid_range = np.array(\n",
      "    (np.min(src.variables['wgt04']), np.max(src.variables['wgt04'])))\n",
      "\n",
      "nc_tools.show_variable_attrs(weights, src04, wgt04)"
     ],
     "language": "python",
     "metadata": {},
     "outputs": [
      {
       "output_type": "stream",
       "stream": "stdout",
       "text": [
        "<type 'netCDF4.Variable'>\n",
        "int64 src04(y, x)\n",
        "    units: 1\n",
        "    long_name: CGRF Grid Index 4 (Flattened)\n",
        "    valid_range: [364981 376996]\n",
        "unlimited dimensions: \n",
        "current shape = (898, 398)\n",
        "\n",
        "<type 'netCDF4.Variable'>\n",
        "float64 wgt04(y, x)\n",
        "    units: 1\n",
        "    long_name: Salish Sea Grid Weights for src04\n",
        "    valid_range: [ 0.          0.24944159]\n",
        "unlimited dimensions: \n",
        "current shape = (898, 398)\n",
        "\n"
       ]
      }
     ],
     "prompt_number": 290
    },
    {
     "cell_type": "markdown",
     "metadata": {},
     "source": [
      "Global dataset attributes:"
     ]
    },
    {
     "cell_type": "code",
     "collapsed": false,
     "input": [
      "nc_tools.init_dataset_attrs(\n",
      "    weights, 'Salish Sea NEMO CGRF Atmospheric Forcing Interpolation Weights',\n",
      "    'netCDF4weights-CGRF', nc_filepath)"
     ],
     "language": "python",
     "metadata": {},
     "outputs": [
      {
       "output_type": "stream",
       "stream": "stdout",
       "text": [
        "file format: NETCDF4\n",
        "Conventions: CF-1.6\n",
        "title: Salish Sea NEMO CGRF Atmospheric Forcing Interpolation Weights\n",
        "institution: Dept of Earth, Ocean & Atmospheric Sciences, University of British Columbia\n",
        "source: https://bitbucket.org/salishsea/tools/src/tip/I_ForcingFiles/netCDF4weights-CGRF.ipynb\n",
        "references: https://bitbucket.org/salishsea/nemo-forcing/src/tip/grid/weights-CGRF.nc\n",
        "history: [2013-11-14 16:18:43] Created netCDF4 zlib=True dataset.\n",
        "comment: \n"
       ]
      }
     ],
     "prompt_number": 291
    },
    {
     "cell_type": "code",
     "collapsed": false,
     "input": [
      "weights.comment = (\n",
      "    'Based on met_gem_weight.nc file from 2-Oct-2013 WC3_PREP tarball '\n",
      "    'provided by J-P Paquin.')\n",
      "show_global_attrs(weights)"
     ],
     "language": "python",
     "metadata": {},
     "outputs": [
      {
       "output_type": "stream",
       "stream": "stdout",
       "text": [
        "file format: NETCDF4\n",
        "Conventions: CF-1.6\n",
        "title: Salish Sea NEMO CGRF Atmospheric Forcing Interpolation Weights\n",
        "institution: Dept of Earth, Ocean & Atmospheric Sciences, University of British Columbia\n",
        "source: https://bitbucket.org/salishsea/tools/src/tip/I_ForcingFiles/netCDF4weights-CGRF.ipynb\n",
        "references: https://bitbucket.org/salishsea/nemo-forcing/src/tip/grid/weights-CGRF.nc\n",
        "history: [2013-11-14 16:18:43] Created netCDF4 zlib=True dataset.\n",
        "comment: Based on met_gem_weight.nc file from 2-Oct-2013 WC3_PREP tarball provided by J-P Paquin.\n"
       ]
      }
     ],
     "prompt_number": 292
    },
    {
     "cell_type": "code",
     "collapsed": false,
     "input": [
      "nc_tools.check_dataset_attrs(weights)"
     ],
     "language": "python",
     "metadata": {},
     "outputs": [],
     "prompt_number": 293
    },
    {
     "cell_type": "code",
     "collapsed": false,
     "input": [
      "weights.close()"
     ],
     "language": "python",
     "metadata": {},
     "outputs": [],
     "prompt_number": 294
    },
    {
     "cell_type": "code",
     "collapsed": false,
     "input": [],
     "language": "python",
     "metadata": {},
     "outputs": []
    }
   ],
   "metadata": {}
  }
 ]
}