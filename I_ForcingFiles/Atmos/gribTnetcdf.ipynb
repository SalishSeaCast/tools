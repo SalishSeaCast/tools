{
 "metadata": {
  "name": "",
  "signature": "sha256:28536f24442ec1a14f4065b60d9424c0172e3a7b394f7e6278ff3680f4426647"
 },
 "nbformat": 3,
 "nbformat_minor": 0,
 "worksheets": [
  {
   "cells": [
    {
     "cell_type": "markdown",
     "metadata": {},
     "source": [
      "Notebook to convert grib2 files to netCDF files that can be used in NEMO\n",
      "Makes use of wgrib2"
     ]
    },
    {
     "cell_type": "heading",
     "level": 2,
     "metadata": {},
     "source": [
      "GRIB2 Conversion to NetCDF"
     ]
    },
    {
     "cell_type": "code",
     "collapsed": false,
     "input": [
      "import arrow\n",
      "import glob\n",
      "%matplotlib inline\n",
      "import matplotlib.pyplot as plt\n",
      "import netCDF4 as nc\n",
      "import numpy as np\n",
      "import paramiko\n",
      "import os\n",
      "from salishsea_tools import nc_tools\n",
      "import subprocess as sp\n",
      "from salishsea_tools.nowcast.workers import grib_to_netcdf as gTn"
     ],
     "language": "python",
     "metadata": {},
     "outputs": [],
     "prompt_number": 2
    },
    {
     "cell_type": "code",
     "collapsed": false,
     "input": [
      "reload(gTn)"
     ],
     "language": "python",
     "metadata": {},
     "outputs": [
      {
       "metadata": {},
       "output_type": "pyout",
       "prompt_number": 36,
       "text": [
        "<module 'salishsea_tools.nowcast.workers.grib_to_netcdf' from '/ocean/sallen/allen/research/Meopar/Tools/SalishSeaTools/salishsea_tools/nowcast/workers/grib_to_netcdf.py'>"
       ]
      }
     ],
     "prompt_number": 36
    },
    {
     "cell_type": "heading",
     "level": 3,
     "metadata": {},
     "source": [
      "1. Chose the Files"
     ]
    },
    {
     "cell_type": "markdown",
     "metadata": {},
     "source": [
      "Note that nn addition we need the previous forecast for the first section to calculate differences for accumulated variables (hence the -1)\n",
      "\n",
      "The files required depend on whether we are doing the nowcast+forecast files or the forecast2 files.\n",
      "\n",
      "For the nowcast+forecast we use:\n",
      "- for today: 18 hour forecast from the previous day for the first hour, the 00 forecast for the next 12 hours and the 12 forecast for the last 11 hours\n",
      "- for tomorrow: 12 forecast\n",
      "- for the next day: 12 forecast\n",
      "\n",
      "For the forecast2 we use:\n",
      "- for tomorrow: 06 forecast\n",
      "- for the next day: 06 forecast"
     ]
    },
    {
     "cell_type": "code",
     "collapsed": false,
     "input": [
      "config = {\n",
      "    'file group': 'sallen',\n",
      "    'weather': {\n",
      "        'GRIB_dir': '../../../GRIB/',\n",
      "        'ops_dir': '/ocean/sallen/allen/research/MEOPAR/Operational/',\n",
      "        'wgrib2': '/ocean/sallen/allen/research/MEOPAR/private-tools/grib2/wgrib2/wgrib2',\n",
      "        'grid_defn.pl': '/ocean/sallen/allen/research/MEOPAR/private-tools/PThupaki/grid_defn.pl'\n",
      "    },\n",
      "}\n",
      "rundate = arrow.get('2015-04-03')\n",
      "print rundate"
     ],
     "language": "python",
     "metadata": {},
     "outputs": [
      {
       "output_type": "stream",
       "stream": "stdout",
       "text": [
        "2015-04-03T00:00:00+00:00\n"
       ]
      }
     ],
     "prompt_number": 34
    },
    {
     "cell_type": "code",
     "collapsed": false,
     "input": [
      "(fcst_section_hrs_arr, zerostart, length, subdirectory,\n",
      "         yearmonthday) = gTn.define_forecast_segments_nowcast(rundate)\n",
      "print (fcst_section_hrs_arr, zerostart, length, subdirectory,\n",
      "         yearmonthday) "
     ],
     "language": "python",
     "metadata": {},
     "outputs": [
      {
       "output_type": "stream",
       "stream": "stdout",
       "text": [
        "([OrderedDict([('section 1', ('20150402/18', -1, 5, 6)), ('section 2', ('20150403/00', 1, 1, 12)), ('section 3', ('20150403/12', 13, 1, 11))]), OrderedDict([('section 1', ('20150403/12', -1, 11, 35))]), OrderedDict([('section 1', ('20150403/12', -1, 35, 48))])], [[1, 13], [], []], [24, 24, 13], ['', 'fcst', 'fcst'], ['y2015m04d03', 'y2015m04d04', 'y2015m04d05'])\n"
       ]
      }
     ],
     "prompt_number": 10
    },
    {
     "cell_type": "heading",
     "level": 3,
     "metadata": {},
     "source": [
      "1b. Chose the Size"
     ]
    },
    {
     "cell_type": "code",
     "collapsed": false,
     "input": [
      "#size = 'full'\n",
      "#size = 'pramod'\n",
      "size = 'watershed'\n",
      "if size == 'full':\n",
      "    fileextra = 'fsize'\n",
      "elif size == 'pramod':\n",
      "    fileextra = '_pramod'\n",
      "    ist = 1; ien = 300\n",
      "    jst = 1; jen = 300\n",
      "elif size == 'watershed':  # see AtmosphericGridSelection.ipynb\n",
      "    fileextra = ''\n",
      "    ist = 110; ien = 365\n",
      "    jst = 20; jen = 285"
     ],
     "language": "python",
     "metadata": {},
     "outputs": [],
     "prompt_number": 11
    },
    {
     "cell_type": "heading",
     "level": 2,
     "metadata": {},
     "source": [
      "Run it"
     ]
    },
    {
     "cell_type": "code",
     "collapsed": false,
     "input": [
      "fig, axs = gTn.set_up_plotting()\n",
      "ip = 0\n",
      "for fcst_section_hrs, zstart, flen, subdir, ymd in zip(\n",
      "            fcst_section_hrs_arr, zerostart, length, subdirectory,\n",
      "            yearmonthday):\n",
      "    gTn.rotate_grib_wind(config, fcst_section_hrs)\n",
      "    print 'winds', ymd\n",
      "    gTn.collect_grib_scalars(config, fcst_section_hrs)\n",
      "    print 'scalars', ymd\n",
      "    outgrib, outzeros = gTn.concat_hourly_gribs(config, ymd, fcst_section_hrs)\n",
      "    print 'concat', ymd\n",
      "    outgrib, outzeros = gTn.crop_to_watersheds(\n",
      "            config, ymd, ist, ien, jst, jen, outgrib, outzeros)\n",
      "    print 'cropped', ymd\n",
      "    outnetcdf, out0netcdf = gTn.make_netCDF_files(\n",
      "            config, ymd, subdir, outgrib, outzeros)\n",
      "    print 'netcdfd', ymd\n",
      "    gTn.calc_instantaneous(outnetcdf, out0netcdf, ymd, flen, zstart,\n",
      "                           axs)\n",
      "    print 'instantaneous', ymd\n",
      "    gTn.change_to_NEMO_variable_names(outnetcdf, axs, ip)\n",
      "    ip += 1"
     ],
     "language": "python",
     "metadata": {},
     "outputs": [
      {
       "output_type": "stream",
       "stream": "stdout",
       "text": [
        "Problem, 0 size file ../../../GRIB/20150403/12/007/CMC_hrdps_west_VGRD_TGL_10_ps2.5km_2015040312_P007-00.grib2\n",
        "winds"
       ]
      },
      {
       "output_type": "stream",
       "stream": "stdout",
       "text": [
        " y2015m04d03\n",
        "scalars"
       ]
      },
      {
       "output_type": "stream",
       "stream": "stdout",
       "text": [
        " y2015m04d03\n",
        "concat"
       ]
      },
      {
       "output_type": "stream",
       "stream": "stdout",
       "text": [
        " y2015m04d03\n",
        "cropped"
       ]
      },
      {
       "output_type": "stream",
       "stream": "stdout",
       "text": [
        " y2015m04d03\n",
        "netcdfd"
       ]
      },
      {
       "output_type": "stream",
       "stream": "stdout",
       "text": [
        " y2015m04d03\n",
        "instantaneous"
       ]
      },
      {
       "output_type": "stream",
       "stream": "stdout",
       "text": [
        " y2015m04d03\n",
        "winds"
       ]
      },
      {
       "output_type": "stream",
       "stream": "stdout",
       "text": [
        " y2015m04d04\n",
        "scalars"
       ]
      },
      {
       "output_type": "stream",
       "stream": "stdout",
       "text": [
        " y2015m04d04\n",
        "concat"
       ]
      },
      {
       "output_type": "stream",
       "stream": "stdout",
       "text": [
        " y2015m04d04\n",
        "cropped"
       ]
      },
      {
       "output_type": "stream",
       "stream": "stdout",
       "text": [
        " y2015m04d04\n",
        "netcdfd"
       ]
      },
      {
       "output_type": "stream",
       "stream": "stdout",
       "text": [
        " y2015m04d04\n",
        "instantaneous"
       ]
      },
      {
       "output_type": "stream",
       "stream": "stdout",
       "text": [
        " y2015m04d04\n",
        "winds"
       ]
      },
      {
       "output_type": "stream",
       "stream": "stdout",
       "text": [
        " y2015m04d05\n",
        "scalars"
       ]
      },
      {
       "output_type": "stream",
       "stream": "stdout",
       "text": [
        " y2015m04d05\n",
        "concat"
       ]
      },
      {
       "output_type": "stream",
       "stream": "stdout",
       "text": [
        " y2015m04d05\n",
        "cropped"
       ]
      },
      {
       "output_type": "stream",
       "stream": "stdout",
       "text": [
        " y2015m04d05\n",
        "netcdfd"
       ]
      },
      {
       "output_type": "stream",
       "stream": "stdout",
       "text": [
        " y2015m04d05\n",
        "instantaneous"
       ]
      },
      {
       "output_type": "stream",
       "stream": "stdout",
       "text": [
        " y2015m04d05\n"
       ]
      }
     ],
     "prompt_number": 39
    },
    {
     "cell_type": "heading",
     "level": 1,
     "metadata": {},
     "source": [
      "Description of Steps Below"
     ]
    },
    {
     "cell_type": "heading",
     "level": 3,
     "metadata": {},
     "source": [
      "2. Twist u,v wind speed from grid IJ direction to N/S directions"
     ]
    },
    {
     "cell_type": "markdown",
     "metadata": {},
     "source": [
      "First append the u and v components, then rotate: now in gribTnetcdf module, call process_gribUV"
     ]
    },
    {
     "cell_type": "heading",
     "level": 3,
     "metadata": {},
     "source": [
      "3. Collate the Files"
     ]
    },
    {
     "cell_type": "markdown",
     "metadata": {},
     "source": [
      "Next we collate the non-vectors fields and move them to the same grid as the vectors fields which I believe is the same as the original grid but not exact enough for wgrib2.  Then we collate the lot.\n",
      "Key command is ./wgrib2 filename -append -grib outfile > logfile 2>&1\n",
      "\n",
      "Now in gribTnetcdf, called process_gribscalar and GRIBappend"
     ]
    },
    {
     "cell_type": "heading",
     "level": 3,
     "metadata": {},
     "source": [
      "3b.  Subsample if necessary"
     ]
    },
    {
     "cell_type": "markdown",
     "metadata": {},
     "source": [
      "Key command is ./wgrib2 ingrib -ijsmall_grib ist:ien jst:jen outgrib\n",
      "\n",
      "Now in gribTnetcdf as subsample"
     ]
    },
    {
     "cell_type": "heading",
     "level": 3,
     "metadata": {},
     "source": [
      "4. Convert to NetCDF"
     ]
    },
    {
     "cell_type": "markdown",
     "metadata": {},
     "source": [
      "Key command is ./wgrib2 outgrib -netcdf outnetcdf\n",
      "\n",
      "Now in gribTnetcdf as makeCDF"
     ]
    },
    {
     "cell_type": "heading",
     "level": 3,
     "metadata": {},
     "source": [
      "5. Calculate the Accumulated Variables"
     ]
    },
    {
     "cell_type": "markdown",
     "metadata": {},
     "source": [
      "Subtract previous accumulated values to get hourly numbers.  Then divide by 3600. to get per second.\n",
      "\n",
      "Now in gribTnetcdf as processCDF"
     ]
    },
    {
     "cell_type": "code",
     "collapsed": false,
     "input": [
      "data = nc.Dataset(outnetcdf, 'r')\n",
      "precip = data.variables['APCP_surface'][:]\n",
      "plt.plot(precip[:,200,200],'o-')\n",
      "data.close()"
     ],
     "language": "python",
     "metadata": {},
     "outputs": [
      {
       "metadata": {},
       "output_type": "display_data",
       "png": "[encoded data removed]",
       "text": [
        "<matplotlib.figure.Figure at 0x16b58b90>"
       ]
      }
     ],
     "prompt_number": 126
    },
    {
     "cell_type": "heading",
     "level": 3,
     "metadata": {},
     "source": [
      "6. Rename the Variables"
     ]
    },
    {
     "cell_type": "markdown",
     "metadata": {},
     "source": [
      "We want [u'nav_lon', u'nav_lat', u'time_counter', u'tair', u'qair', u'u_wind', u'v_wind', u'atmpres', u'precip', u'therm_rad', u'solar']\n",
      "\n",
      "Now in gribTnetcdf as renameCDF"
     ]
    },
    {
     "cell_type": "code",
     "collapsed": false,
     "input": [],
     "language": "python",
     "metadata": {},
     "outputs": [],
     "prompt_number": 133
    }
   ],
   "metadata": {}
  }
 ]
}