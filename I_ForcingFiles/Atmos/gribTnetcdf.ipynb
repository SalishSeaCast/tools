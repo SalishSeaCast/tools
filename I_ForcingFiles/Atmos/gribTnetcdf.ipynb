{
 "metadata": {
  "name": "",
  "signature": "sha256:52ff076e0ab31baacffc68d8b85f5d278e6396c0475c580f4135cbe1619d9010"
 },
 "nbformat": 3,
 "nbformat_minor": 0,
 "worksheets": [
  {
   "cells": [
    {
     "cell_type": "markdown",
     "metadata": {},
     "source": [
      "Notebook to convert grib2 files to netCDF files that can be used in NEMO\n",
      "Makes use of wgrib2"
     ]
    },
    {
     "cell_type": "heading",
     "level": 2,
     "metadata": {},
     "source": [
      "GRIB2 Conversion to NetCDF"
     ]
    },
    {
     "cell_type": "code",
     "collapsed": false,
     "input": [
      "import glob\n",
      "%matplotlib inline\n",
      "import matplotlib.pyplot as plt\n",
      "import netCDF4 as nc\n",
      "import numpy as np\n",
      "import os\n",
      "from salishsea_tools import nc_tools\n",
      "import subprocess as sp"
     ],
     "language": "python",
     "metadata": {},
     "outputs": [],
     "prompt_number": 1
    },
    {
     "cell_type": "heading",
     "level": 3,
     "metadata": {},
     "source": [
      "1. Chose the Files"
     ]
    },
    {
     "cell_type": "markdown",
     "metadata": {},
     "source": [
      "We need the 18 forecast from the previous day for the first six hours, the 06 forecast from the current day for the next 12 hours and the 18 forecast from the previous day for the last six hours.  In addition we need the previous forecast for the first section to calculate differences for accumulated variables (hence the -1)"
     ]
    },
    {
     "cell_type": "code",
     "collapsed": false,
     "input": [
      "GRIBdir = '../../../GRIB/'\n",
      "OPERdir = '../../../Operational/'\n",
      "ymd = 'y2014m10d17'\n",
      "HoursWeNeed = {\n",
      "    'part one':  ('20141016/18/', 24-18-1, 24+6-18),\n",
      "    'part two':  ('20141017/06/', 7-6, 18-6),\n",
      "    'part three':('20141017/18/', 19-18, 23-18),\n",
      "}\n"
     ],
     "language": "python",
     "metadata": {},
     "outputs": [],
     "prompt_number": 2
    },
    {
     "cell_type": "heading",
     "level": 3,
     "metadata": {},
     "source": [
      "1b. Chose the Size"
     ]
    },
    {
     "cell_type": "code",
     "collapsed": false,
     "input": [
      "#size = 'full'\n",
      "#size = 'pramod'\n",
      "size = 'watershed'\n",
      "if size == 'full':\n",
      "    fileextra = ''\n",
      "elif size == 'pramod':\n",
      "    fileextra = '_pramod'\n",
      "    ist = 1; ien = 300\n",
      "    jst = 1; jen = 300\n",
      "elif size == 'watershed':  # see AtmosphericGridSelection.ipynb\n",
      "    fileextra = '_ss'\n",
      "    ist = 110; ien = 365\n",
      "    jst = 20; jen = 285"
     ],
     "language": "python",
     "metadata": {},
     "outputs": [],
     "prompt_number": 3
    },
    {
     "cell_type": "heading",
     "level": 3,
     "metadata": {},
     "source": [
      "2. Twist u,v wind speed from grid IJ direction to N/S directions"
     ]
    },
    {
     "cell_type": "markdown",
     "metadata": {},
     "source": [
      "First append the u and v components, then rotate"
     ]
    },
    {
     "cell_type": "code",
     "collapsed": false,
     "input": [
      "for part in ('part one','part two','part three'):\n",
      "    for fhour in range(HoursWeNeed[part][1],HoursWeNeed[part][2]+1):\n",
      "        \n",
      "        # set up directories and files\n",
      "        sfhour = '{:0=3}'.format(fhour)\n",
      "        print sfhour\n",
      "        dire = HoursWeNeed[part][0]\n",
      "        outuv = GRIBdir+dire+sfhour+'/UV.grib' \n",
      "        sp.call([\"rm\",\"-f\",outuv])\n",
      "        outuvrot = GRIBdir+dire+sfhour+'/UVrot.grib'\n",
      "        sp.call([\"rm\",\"-f\",outuvrot])\n",
      "        \n",
      "        # append U and V\n",
      "        fn = glob.glob(GRIBdir+dire+sfhour+'/*UGRD*')\n",
      "        sp.call([\"./wgrib2\",fn[0],\"-append\",\"-grib\",outuv])\n",
      "        fn = glob.glob(GRIBdir+dire+sfhour+'/*VGRD*')\n",
      "        sp.call([\"./wgrib2\",fn[0],\"-append\",\"-grib\",outuv])\n",
      "        print sp.check_output([\"./wgrib2\",fn[0],\"-vt\"])\n",
      "        \n",
      "        # rotate\n",
      "        GRIDspec = sp.check_output([\"../../../private-tools/PThupaki/grid_defn.pl\",outuv])\n",
      "        cmd = [\"./wgrib2\", outuv]\n",
      "        cmd.extend(\"-new_grid_winds earth\".split())\n",
      "        cmd.append(\"-new_grid\")\n",
      "        cmd.extend(GRIDspec.split())\n",
      "        cmd.append(outuvrot)\n",
      "        sp.call(cmd)\n",
      "        "
     ],
     "language": "python",
     "metadata": {},
     "outputs": [
      {
       "output_type": "stream",
       "stream": "stdout",
       "text": [
        "005\n",
        "1:0:vt=2014101623\n"
       ]
      },
      {
       "output_type": "stream",
       "stream": "stdout",
       "text": [
        "\n",
        "006"
       ]
      },
      {
       "output_type": "stream",
       "stream": "stdout",
       "text": [
        "\n",
        "1:0:vt=2014101700\n"
       ]
      },
      {
       "output_type": "stream",
       "stream": "stdout",
       "text": [
        "\n",
        "007"
       ]
      },
      {
       "output_type": "stream",
       "stream": "stdout",
       "text": [
        "\n",
        "1:0:vt=2014101701\n"
       ]
      },
      {
       "output_type": "stream",
       "stream": "stdout",
       "text": [
        "\n",
        "008"
       ]
      },
      {
       "output_type": "stream",
       "stream": "stdout",
       "text": [
        "\n",
        "1:0:vt=2014101702\n"
       ]
      },
      {
       "output_type": "stream",
       "stream": "stdout",
       "text": [
        "\n",
        "009"
       ]
      },
      {
       "output_type": "stream",
       "stream": "stdout",
       "text": [
        "\n",
        "1:0:vt=2014101703\n"
       ]
      },
      {
       "output_type": "stream",
       "stream": "stdout",
       "text": [
        "\n",
        "010"
       ]
      },
      {
       "output_type": "stream",
       "stream": "stdout",
       "text": [
        "\n",
        "1:0:vt=2014101704\n"
       ]
      },
      {
       "output_type": "stream",
       "stream": "stdout",
       "text": [
        "\n",
        "011"
       ]
      },
      {
       "output_type": "stream",
       "stream": "stdout",
       "text": [
        "\n",
        "1:0:vt=2014101705\n"
       ]
      },
      {
       "output_type": "stream",
       "stream": "stdout",
       "text": [
        "\n",
        "012"
       ]
      },
      {
       "output_type": "stream",
       "stream": "stdout",
       "text": [
        "\n",
        "1:0:vt=2014101706\n"
       ]
      },
      {
       "output_type": "stream",
       "stream": "stdout",
       "text": [
        "\n",
        "001"
       ]
      },
      {
       "output_type": "stream",
       "stream": "stdout",
       "text": [
        "\n",
        "1:0:vt=2014101707\n"
       ]
      },
      {
       "output_type": "stream",
       "stream": "stdout",
       "text": [
        "\n",
        "002"
       ]
      },
      {
       "output_type": "stream",
       "stream": "stdout",
       "text": [
        "\n",
        "1:0:vt=2014101708\n"
       ]
      },
      {
       "output_type": "stream",
       "stream": "stdout",
       "text": [
        "\n",
        "003"
       ]
      },
      {
       "output_type": "stream",
       "stream": "stdout",
       "text": [
        "\n",
        "1:0:vt=2014101709\n"
       ]
      },
      {
       "output_type": "stream",
       "stream": "stdout",
       "text": [
        "\n",
        "004"
       ]
      },
      {
       "output_type": "stream",
       "stream": "stdout",
       "text": [
        "\n",
        "1:0:vt=2014101710\n"
       ]
      },
      {
       "output_type": "stream",
       "stream": "stdout",
       "text": [
        "\n",
        "005"
       ]
      },
      {
       "output_type": "stream",
       "stream": "stdout",
       "text": [
        "\n",
        "1:0:vt=2014101711\n"
       ]
      },
      {
       "output_type": "stream",
       "stream": "stdout",
       "text": [
        "\n",
        "006"
       ]
      },
      {
       "output_type": "stream",
       "stream": "stdout",
       "text": [
        "\n",
        "1:0:vt=2014101712\n"
       ]
      },
      {
       "output_type": "stream",
       "stream": "stdout",
       "text": [
        "\n",
        "007"
       ]
      },
      {
       "output_type": "stream",
       "stream": "stdout",
       "text": [
        "\n",
        "1:0:vt=2014101713\n"
       ]
      },
      {
       "output_type": "stream",
       "stream": "stdout",
       "text": [
        "\n",
        "008"
       ]
      },
      {
       "output_type": "stream",
       "stream": "stdout",
       "text": [
        "\n",
        "1:0:vt=2014101714\n"
       ]
      },
      {
       "output_type": "stream",
       "stream": "stdout",
       "text": [
        "\n",
        "009"
       ]
      },
      {
       "output_type": "stream",
       "stream": "stdout",
       "text": [
        "\n",
        "1:0:vt=2014101715\n"
       ]
      },
      {
       "output_type": "stream",
       "stream": "stdout",
       "text": [
        "\n",
        "010"
       ]
      },
      {
       "output_type": "stream",
       "stream": "stdout",
       "text": [
        "\n",
        "1:0:vt=2014101716\n"
       ]
      },
      {
       "output_type": "stream",
       "stream": "stdout",
       "text": [
        "\n",
        "011"
       ]
      },
      {
       "output_type": "stream",
       "stream": "stdout",
       "text": [
        "\n",
        "1:0:vt=2014101717\n"
       ]
      },
      {
       "output_type": "stream",
       "stream": "stdout",
       "text": [
        "\n",
        "012"
       ]
      },
      {
       "output_type": "stream",
       "stream": "stdout",
       "text": [
        "\n",
        "1:0:vt=2014101718\n"
       ]
      },
      {
       "output_type": "stream",
       "stream": "stdout",
       "text": [
        "\n",
        "001"
       ]
      },
      {
       "output_type": "stream",
       "stream": "stdout",
       "text": [
        "\n",
        "1:0:vt=2014101719\n"
       ]
      },
      {
       "output_type": "stream",
       "stream": "stdout",
       "text": [
        "\n",
        "002"
       ]
      },
      {
       "output_type": "stream",
       "stream": "stdout",
       "text": [
        "\n",
        "1:0:vt=2014101720\n"
       ]
      },
      {
       "output_type": "stream",
       "stream": "stdout",
       "text": [
        "\n",
        "003"
       ]
      },
      {
       "output_type": "stream",
       "stream": "stdout",
       "text": [
        "\n",
        "1:0:vt=2014101721\n"
       ]
      },
      {
       "output_type": "stream",
       "stream": "stdout",
       "text": [
        "\n",
        "004"
       ]
      },
      {
       "output_type": "stream",
       "stream": "stdout",
       "text": [
        "\n",
        "1:0:vt=2014101722\n"
       ]
      },
      {
       "output_type": "stream",
       "stream": "stdout",
       "text": [
        "\n",
        "005"
       ]
      },
      {
       "output_type": "stream",
       "stream": "stdout",
       "text": [
        "\n",
        "1:0:vt=2014101723\n"
       ]
      },
      {
       "output_type": "stream",
       "stream": "stdout",
       "text": [
        "\n"
       ]
      }
     ],
     "prompt_number": 4
    },
    {
     "cell_type": "heading",
     "level": 3,
     "metadata": {},
     "source": [
      "3. Collate the Files"
     ]
    },
    {
     "cell_type": "markdown",
     "metadata": {},
     "source": [
      "First we collate the non-vectors fields and move them to the same grid as the vectors fields which I believe is the same as the original grid but not exact enough for wgrib2.  Then we collate the lot.\n",
      "Key command is ./wgrib2 filename -append -grib outfile > logfile 2>&1"
     ]
    },
    {
     "cell_type": "code",
     "collapsed": false,
     "input": [
      "for part in ('part one','part two','part three'):\n",
      "    for fhour in range(HoursWeNeed[part][1],HoursWeNeed[part][2]+1):\n",
      "        # set up directories and files\n",
      "        sfhour = '{:0=3}'.format(fhour)\n",
      "        dire = HoursWeNeed[part][0]\n",
      "        outscalar = GRIBdir+dire+sfhour+'/scalar.grib' \n",
      "        sp.call([\"rm\",\"-f\",outscalar])\n",
      "        outscalargrid = GRIBdir+dire+sfhour+'/gscalar.grib'\n",
      "        sp.call([\"rm\",\"-f\",outscalargrid])\n",
      "        for fn in glob.glob(GRIBdir+dire+sfhour+'/*'):\n",
      "            if not (\"GRD\" in fn) and (\"CMC\" in fn):                \n",
      "                sp.call([\"./wgrib2\",fn,\"-append\",\"-grib\",outscalar])\n",
      "#  put on new grid\n",
      "        GRIDspec = sp.check_output([\"../../../private-tools/PThupaki/grid_defn.pl\",outuv])\n",
      "        cmd = [\"./wgrib2\", outscalar]\n",
      "        cmd.append(\"-new_grid\")\n",
      "        cmd.extend(GRIDspec.split())\n",
      "        cmd.append(outscalargrid)\n",
      "        sp.call(cmd)"
     ],
     "language": "python",
     "metadata": {},
     "outputs": [],
     "prompt_number": 5
    },
    {
     "cell_type": "code",
     "collapsed": false,
     "input": [
      "outgrib = os.path.join(OPERdir, 'oper_allvar_{ymd}.grib'.format(ymd=ymd))   \n",
      "outzeros = os.path.join(OPERdir, 'oper_000_{ymd}.grib'.format(ymd=ymd))\n",
      "sp.call([\"rm\",\"-f\",outgrib])\n",
      "sp.call([\"rm\",\"-f\",outzeros])\n",
      "\n",
      "for part in ('part one','part two','part three'):\n",
      "    for fhour in range(HoursWeNeed[part][1],HoursWeNeed[part][2]+1):\n",
      "        # set up directories and files\n",
      "        sfhour = '{:0=3}'.format(fhour)\n",
      "        dire = HoursWeNeed[part][0]\n",
      "        outuvrot = GRIBdir+dire+sfhour+'/UVrot.grib'\n",
      "        outscalargrid = GRIBdir+dire+sfhour+'/gscalar.grib'\n",
      "        if fhour == 0 or (part == 'part one' and fhour == 5):\n",
      "            print outuvrot, outscalargrid\n",
      "            sp.call([\"./wgrib2\",outuvrot,\"-append\",\"-grib\",outzeros])\n",
      "            sp.call([\"./wgrib2\",outscalargrid,\"-append\",\"-grib\",outzeros]) \n",
      "        else:\n",
      "            sp.call([\"./wgrib2\",outuvrot,\"-append\",\"-grib\",outgrib])\n",
      "            sp.call([\"./wgrib2\",outscalargrid,\"-append\",\"-grib\",outgrib]) "
     ],
     "language": "python",
     "metadata": {},
     "outputs": [
      {
       "output_type": "stream",
       "stream": "stdout",
       "text": [
        "../../../GRIB/20141016/18/005/UVrot.grib ../../../GRIB/20141016/18/005/gscalar.grib\n"
       ]
      }
     ],
     "prompt_number": 6
    },
    {
     "cell_type": "heading",
     "level": 3,
     "metadata": {},
     "source": [
      "3b.  Subsample if necessary"
     ]
    },
    {
     "cell_type": "markdown",
     "metadata": {},
     "source": [
      "Key command is ./wgrib2 ingrib -ijsmall_grib ist:ien jst:jen outgrib"
     ]
    },
    {
     "cell_type": "code",
     "collapsed": false,
     "input": [
      "if size != 'full':\n",
      "    newgrib = os.path.join(OPERdir, 'oper_allvar_small_{ymd}.grib'.format(ymd=ymd))\n",
      "    newzeros = os.path.join(OPERdir, 'oper_000_small_{ymd}.grib'.format(ymd=ymd))\n",
      "    istr = '{ist}:{ien}'.format(ist=ist,ien=ien)\n",
      "    jstr = '{jst}:{jen}'.format(jst=jst,jen=jen)\n",
      "    sp.call([\"./wgrib2\", outgrib, \"-ijsmall_grib\",istr,jstr,newgrib])    \n",
      "    sp.call([\"./wgrib2\", outzeros, \"-ijsmall_grib\",istr,jstr,newzeros])\n",
      "    outgrib = newgrib\n",
      "    outzeros = newzeros"
     ],
     "language": "python",
     "metadata": {},
     "outputs": [],
     "prompt_number": 7
    },
    {
     "cell_type": "heading",
     "level": 3,
     "metadata": {},
     "source": [
      "4. Convert to NetCDF"
     ]
    },
    {
     "cell_type": "markdown",
     "metadata": {},
     "source": [
      "Key command is ./wgrib2 outgrib -netcdf outnetcdf"
     ]
    },
    {
     "cell_type": "code",
     "collapsed": false,
     "input": [
      "outnetcdf = os.path.join(OPERdir, 'oper_allvar{fileextra}_{ymd}.nc'.format(\n",
      "                                                                  fileextra=fileextra,ymd=ymd))\n",
      "out0netcdf = os.path.join(OPERdir, 'oper_000_{ymd}.nc'.format(ymd=ymd))\n",
      "sp.call([\"./wgrib2\", outgrib, \"-netcdf\", outnetcdf])\n",
      "sp.call([\"./wgrib2\", outzeros, \"-netcdf\", out0netcdf])"
     ],
     "language": "python",
     "metadata": {},
     "outputs": [
      {
       "metadata": {},
       "output_type": "pyout",
       "prompt_number": 8,
       "text": [
        "0"
       ]
      }
     ],
     "prompt_number": 8
    },
    {
     "cell_type": "heading",
     "level": 3,
     "metadata": {},
     "source": [
      "5. Calculate the Accumulated Variables"
     ]
    },
    {
     "cell_type": "markdown",
     "metadata": {},
     "source": [
      "Subtract previous accumulated values to get hourly numbers.  Then divide by 3600. to get per second."
     ]
    },
    {
     "cell_type": "code",
     "collapsed": false,
     "input": [
      "data = nc.Dataset(outnetcdf, 'r+')\n",
      "data0 = nc.Dataset(out0netcdf, 'r')\n",
      "acc_vars = ('APCP_surface', 'DSWRF_surface', 'DLWRF_surface')\n",
      "acc_values = {\n",
      "    'acc': {},\n",
      "    'zero': {},\n",
      "    'inst': {},\n",
      "}\n",
      "for var in acc_vars:\n",
      "    acc_values['acc'][var] = data.variables[var][:]\n",
      "    acc_values['zero'][var] = data0.variables[var][:]\n",
      "    acc_values['inst'][var] = np.empty_like(acc_values['acc'][var])\n",
      "plt.plot(acc_values['acc']['APCP_surface'][:,200,200],'o-')"
     ],
     "language": "python",
     "metadata": {},
     "outputs": [
      {
       "metadata": {},
       "output_type": "pyout",
       "prompt_number": 9,
       "text": [
        "[<matplotlib.lines.Line2D at 0x2b6e050>]"
       ]
      },
      {
       "metadata": {},
       "output_type": "display_data",
       "png": "[encoded data removed]",
       "text": [
        "<matplotlib.figure.Figure at 0x1a19990>"
       ]
      }
     ],
     "prompt_number": 9
    },
    {
     "cell_type": "code",
     "collapsed": false,
     "input": [
      "for var in acc_vars:\n",
      "    acc_values['inst'][var][0] = (acc_values['acc'][var][0] - acc_values['zero'][var][0])/3600.\n",
      "    for t in range(1,7):\n",
      "        acc_values['inst'][var][t] = (acc_values['acc'][var][t] - acc_values['acc'][var][t-1])/3600.    \n",
      "    acc_values['inst'][var][7] = acc_values['acc'][var][7]/3600.\n",
      "    for t in range(8,19):\n",
      "        acc_values['inst'][var][t] = (acc_values['acc'][var][t] - acc_values['acc'][var][t-1])/3600.\n",
      "    acc_values['inst'][var][19] = (acc_values['acc'][var][19])/3600.\n",
      "    for t in range(20,24):\n",
      "        acc_values['inst'][var][t] = (acc_values['acc'][var][t] - acc_values['acc'][var][t-1])/3600.\n",
      "plt.plot(acc_values['inst']['APCP_surface'][:,200,200])"
     ],
     "language": "python",
     "metadata": {},
     "outputs": [
      {
       "metadata": {},
       "output_type": "pyout",
       "prompt_number": 10,
       "text": [
        "[<matplotlib.lines.Line2D at 0x359f110>]"
       ]
      },
      {
       "metadata": {},
       "output_type": "display_data",
       "png": "[encoded data removed]",
       "text": [
        "<matplotlib.figure.Figure at 0x357b050>"
       ]
      }
     ],
     "prompt_number": 10
    },
    {
     "cell_type": "code",
     "collapsed": false,
     "input": [
      "for var in acc_vars:\n",
      "    data.variables[var][:] = acc_values['inst'][var][:]\n",
      "data.close()"
     ],
     "language": "python",
     "metadata": {},
     "outputs": [],
     "prompt_number": 11
    },
    {
     "cell_type": "code",
     "collapsed": false,
     "input": [
      "data = nc.Dataset(outnetcdf, 'r')\n",
      "precip = data.variables['APCP_surface'][:]\n",
      "plt.plot(precip[:,200,200],'o-')\n",
      "data.close()\n",
      "data0.close()"
     ],
     "language": "python",
     "metadata": {},
     "outputs": [
      {
       "metadata": {},
       "output_type": "display_data",
       "png": "[encoded data removed]",
       "text": [
        "<matplotlib.figure.Figure at 0x2b52650>"
       ]
      }
     ],
     "prompt_number": 12
    },
    {
     "cell_type": "heading",
     "level": 3,
     "metadata": {},
     "source": [
      "6. Rename the Variables"
     ]
    },
    {
     "cell_type": "markdown",
     "metadata": {},
     "source": [
      "We want [u'nav_lon', u'nav_lat', u'time_counter', u'tair', u'qair', u'u_wind', u'v_wind', u'atmpres', u'precip', u'therm_rad', u'solar']"
     ]
    },
    {
     "cell_type": "code",
     "collapsed": false,
     "input": [
      "data = nc.Dataset(outnetcdf, 'r+')\n",
      "nc_tools.show_variables(data)"
     ],
     "language": "python",
     "metadata": {},
     "outputs": [
      {
       "output_type": "stream",
       "stream": "stdout",
       "text": [
        "[u'y', u'x', u'latitude', u'longitude', u'time', u'UGRD_10maboveground', u'VGRD_10maboveground', u'DSWRF_surface', u'SPFH_2maboveground', u'APCP_surface', u'PRMSL_meansealevel', u'DLWRF_surface', u'TMP_2maboveground']\n"
       ]
      }
     ],
     "prompt_number": 13
    },
    {
     "cell_type": "code",
     "collapsed": false,
     "input": [
      "data.renameVariable('latitude','nav_lat')\n",
      "data.renameVariable('longitude','nav_lon')\n",
      "data.renameVariable('time','time_counter')\n",
      "data.renameVariable('UGRD_10maboveground','u_wind')\n",
      "data.renameVariable('VGRD_10maboveground','v_wind')\n",
      "data.renameVariable('DSWRF_surface','solar')\n",
      "data.renameVariable('SPFH_2maboveground','qair')\n",
      "data.renameVariable('DLWRF_surface','therm_rad')\n",
      "data.renameVariable('TMP_2maboveground','tair')\n",
      "data.renameVariable('PRMSL_meansealevel','atmpres')\n",
      "data.renameVariable('APCP_surface','precip')\n",
      "nc_tools.show_variables(data)"
     ],
     "language": "python",
     "metadata": {},
     "outputs": [
      {
       "output_type": "stream",
       "stream": "stdout",
       "text": [
        "[u'y', u'x', 'nav_lat', 'nav_lon', 'time_counter', 'u_wind', 'v_wind', 'solar', 'qair', 'therm_rad', 'tair', 'atmpres', 'precip']\n"
       ]
      }
     ],
     "prompt_number": 14
    },
    {
     "cell_type": "code",
     "collapsed": false,
     "input": [
      "Temp = data.variables['tair'][:]\n",
      "plt.pcolormesh(Temp[0])"
     ],
     "language": "python",
     "metadata": {},
     "outputs": [
      {
       "metadata": {},
       "output_type": "pyout",
       "prompt_number": 15,
       "text": [
        "<matplotlib.collections.QuadMesh at 0x366f950>"
       ]
      },
      {
       "metadata": {},
       "output_type": "display_data",
       "png": "[encoded data removed]",
       "text": [
        "<matplotlib.figure.Figure at 0x3668990>"
       ]
      }
     ],
     "prompt_number": 15
    },
    {
     "cell_type": "code",
     "collapsed": false,
     "input": [
      "precip = data.variables['precip'][:]\n",
      "plt.plot(precip[:,200,200])"
     ],
     "language": "python",
     "metadata": {},
     "outputs": [
      {
       "metadata": {},
       "output_type": "pyout",
       "prompt_number": 16,
       "text": [
        "[<matplotlib.lines.Line2D at 0x2bc1850>]"
       ]
      },
      {
       "metadata": {},
       "output_type": "display_data",
       "png": "[encoded data removed]",
       "text": [
        "<matplotlib.figure.Figure at 0x366b690>"
       ]
      }
     ],
     "prompt_number": 16
    },
    {
     "cell_type": "code",
     "collapsed": false,
     "input": [
      "solar = data.variables['solar'][:]\n",
      "plt.plot(solar[:,150,150])"
     ],
     "language": "python",
     "metadata": {},
     "outputs": [
      {
       "metadata": {},
       "output_type": "pyout",
       "prompt_number": 17,
       "text": [
        "[<matplotlib.lines.Line2D at 0x2bef9d0>]"
       ]
      },
      {
       "metadata": {},
       "output_type": "display_data",
       "png": "[encoded data removed]",
       "text": [
        "<matplotlib.figure.Figure at 0x368f250>"
       ]
      }
     ],
     "prompt_number": 17
    },
    {
     "cell_type": "code",
     "collapsed": false,
     "input": [
      "longwave = data.variables['therm_rad'][:]\n",
      "plt.plot(longwave[:,150,150])\n",
      "plt.plot(7, longwave[7,150,150], 'o')\n",
      "plt.plot(19, longwave[19,150,150], 'o')"
     ],
     "language": "python",
     "metadata": {},
     "outputs": [
      {
       "metadata": {},
       "output_type": "pyout",
       "prompt_number": 18,
       "text": [
        "[<matplotlib.lines.Line2D at 0x2bd9c90>]"
       ]
      },
      {
       "metadata": {},
       "output_type": "display_data",
       "png": "[encoded data removed]",
       "text": [
        "<matplotlib.figure.Figure at 0x2bd9b10>"
       ]
      }
     ],
     "prompt_number": 18
    },
    {
     "cell_type": "code",
     "collapsed": false,
     "input": [
      "data.close()"
     ],
     "language": "python",
     "metadata": {},
     "outputs": [],
     "prompt_number": 19
    },
    {
     "cell_type": "code",
     "collapsed": false,
     "input": [
      "data = nc.Dataset(outnetcdf, 'r')\n",
      "nc_tools.show_variables(data)"
     ],
     "language": "python",
     "metadata": {},
     "outputs": [
      {
       "output_type": "stream",
       "stream": "stdout",
       "text": [
        "[u'y', u'x', u'nav_lat', u'nav_lon', u'time_counter', u'u_wind', u'v_wind', u'solar', u'qair', u'precip', u'atmpres', u'therm_rad', u'tair']\n"
       ]
      }
     ],
     "prompt_number": 20
    },
    {
     "cell_type": "code",
     "collapsed": false,
     "input": [
      "lats = data.variables['nav_lat'][:]\n",
      "lons = data.variables['nav_lon'][:]\n",
      "print lats[0,0],lons[0,0]"
     ],
     "language": "python",
     "metadata": {},
     "outputs": [
      {
       "output_type": "stream",
       "stream": "stdout",
       "text": [
        "45.664901 233.015505\n"
       ]
      }
     ],
     "prompt_number": 21
    },
    {
     "cell_type": "code",
     "collapsed": false,
     "input": [],
     "language": "python",
     "metadata": {},
     "outputs": [],
     "prompt_number": 21
    }
   ],
   "metadata": {}
  }
 ]
}