{
 "metadata": {
  "name": "",
  "signature": "sha256:206f215c09d84eb40651e9ba99dc15b66956a18fcc0809c6eb0a4b9eedf30a07"
 },
 "nbformat": 3,
 "nbformat_minor": 0,
 "worksheets": [
  {
   "cells": [
    {
     "cell_type": "markdown",
     "metadata": {},
     "source": [
      "Notebook to convert grib2 files to netCDF files that can be used in NEMO\n",
      "Makes use of wgrib2"
     ]
    },
    {
     "cell_type": "heading",
     "level": 2,
     "metadata": {},
     "source": [
      "GRIB2 Conversion to NetCDF"
     ]
    },
    {
     "cell_type": "markdown",
     "metadata": {},
     "source": [
      "*Remaining Problems*\n",
      "1. After rotation, GRIB2 considers the files to be on different grids.  Perhaps should also regrid the scalars?\n",
      "2. Conversion to netCDF baulks at the shifting forecasts  e.g. input time before initial"
     ]
    },
    {
     "cell_type": "code",
     "collapsed": false,
     "input": [
      "import glob\n",
      "import os\n",
      "import subprocess as sp"
     ],
     "language": "python",
     "metadata": {},
     "outputs": [],
     "prompt_number": 30
    },
    {
     "cell_type": "heading",
     "level": 3,
     "metadata": {},
     "source": [
      "1. Chose the Files"
     ]
    },
    {
     "cell_type": "markdown",
     "metadata": {},
     "source": [
      "We need the 18 forecast from the previous day for the first six hours, the 06 forecast from the current day for the next 12 hours and the 18 forecast from the previous day for the last six hours"
     ]
    },
    {
     "cell_type": "code",
     "collapsed": false,
     "input": [
      "GRIBdir = '../../../GRIB/'\n",
      "OPERdir = '../../../Operational/'\n",
      "HoursWeNeed = {'part one':['20140911/18/',24-18,24+6-18],'part two':['20140912/06/',7-6,18-6],\n",
      "               'part three':['20140912/06/',19-18,23-18]}"
     ],
     "language": "python",
     "metadata": {},
     "outputs": [],
     "prompt_number": 49
    },
    {
     "cell_type": "heading",
     "level": 3,
     "metadata": {},
     "source": [
      "2. Twist u,v wind speed from grid IJ direction to N/S directions"
     ]
    },
    {
     "cell_type": "markdown",
     "metadata": {},
     "source": [
      "First append the u and v components, then rotate"
     ]
    },
    {
     "cell_type": "code",
     "collapsed": false,
     "input": [
      "for part in ('part one','part two','part three'):\n",
      "    for fhour in range(HoursWeNeed[part][1],HoursWeNeed[part][2]+1):\n",
      "        \n",
      "        # set up directories and files\n",
      "        sfhour = '{:0=3}'.format(fhour)\n",
      "        dire = HoursWeNeed[part][0]\n",
      "        outuv = GRIBdir+dire+sfhour+'/UV.grib' \n",
      "        print outuv\n",
      "        sp.call(['rm','-f',outuv])\n",
      "        outuvrot = GRIBdir+dire+sfhour+'/UVrot.grib'\n",
      "        sp.call(['rm','-f',outuvrot])\n",
      "        \n",
      "        # append U and V\n",
      "        fn = glob.glob(GRIBdir+dire+sfhour+'/*UGRD*')\n",
      "        sp.call([\"./wgrib2\",fn[0],\"-append\",\"-grib\",outuv])\n",
      "        fn = glob.glob(GRIBdir+dire+sfhour+'/*VGRD*')\n",
      "        sp.call([\"./wgrib2\",fn[0],\"-append\",\"-grib\",outuv])\n",
      "        \n",
      "        # rotate\n",
      "        GRIDspec = sp.check_output([\"../../../private-tools/PThupaki/grid_defn.pl\",outuv])\n",
      "        cmd = [\"./wgrib2\", outuv]\n",
      "        cmd.extend(\"-new_grid_winds earth\".split())\n",
      "        cmd.append(\"-new_grid\")\n",
      "        cmd.extend(GRIDspec.split())\n",
      "        cmd.append(outuvrot)\n",
      "        sp.call(cmd)"
     ],
     "language": "python",
     "metadata": {},
     "outputs": [
      {
       "output_type": "stream",
       "stream": "stdout",
       "text": [
        "../../../GRIB/20140911/18/006/UV.grib\n",
        "../../../GRIB/20140911/18/007/UV.grib"
       ]
      },
      {
       "output_type": "stream",
       "stream": "stdout",
       "text": [
        "\n",
        "../../../GRIB/20140911/18/008/UV.grib"
       ]
      },
      {
       "output_type": "stream",
       "stream": "stdout",
       "text": [
        "\n",
        "../../../GRIB/20140911/18/009/UV.grib"
       ]
      },
      {
       "output_type": "stream",
       "stream": "stdout",
       "text": [
        "\n",
        "../../../GRIB/20140911/18/010/UV.grib"
       ]
      },
      {
       "output_type": "stream",
       "stream": "stdout",
       "text": [
        "\n",
        "../../../GRIB/20140911/18/011/UV.grib"
       ]
      },
      {
       "output_type": "stream",
       "stream": "stdout",
       "text": [
        "\n",
        "../../../GRIB/20140911/18/012/UV.grib"
       ]
      },
      {
       "output_type": "stream",
       "stream": "stdout",
       "text": [
        "\n",
        "../../../GRIB/20140912/06/001/UV.grib"
       ]
      },
      {
       "output_type": "stream",
       "stream": "stdout",
       "text": [
        "\n",
        "../../../GRIB/20140912/06/002/UV.grib"
       ]
      },
      {
       "output_type": "stream",
       "stream": "stdout",
       "text": [
        "\n",
        "../../../GRIB/20140912/06/003/UV.grib"
       ]
      },
      {
       "output_type": "stream",
       "stream": "stdout",
       "text": [
        "\n",
        "../../../GRIB/20140912/06/004/UV.grib"
       ]
      },
      {
       "output_type": "stream",
       "stream": "stdout",
       "text": [
        "\n",
        "../../../GRIB/20140912/06/005/UV.grib"
       ]
      },
      {
       "output_type": "stream",
       "stream": "stdout",
       "text": [
        "\n",
        "../../../GRIB/20140912/06/006/UV.grib"
       ]
      },
      {
       "output_type": "stream",
       "stream": "stdout",
       "text": [
        "\n",
        "../../../GRIB/20140912/06/007/UV.grib"
       ]
      },
      {
       "output_type": "stream",
       "stream": "stdout",
       "text": [
        "\n",
        "../../../GRIB/20140912/06/008/UV.grib"
       ]
      },
      {
       "output_type": "stream",
       "stream": "stdout",
       "text": [
        "\n",
        "../../../GRIB/20140912/06/009/UV.grib"
       ]
      },
      {
       "output_type": "stream",
       "stream": "stdout",
       "text": [
        "\n",
        "../../../GRIB/20140912/06/010/UV.grib"
       ]
      },
      {
       "output_type": "stream",
       "stream": "stdout",
       "text": [
        "\n",
        "../../../GRIB/20140912/06/011/UV.grib"
       ]
      },
      {
       "output_type": "stream",
       "stream": "stdout",
       "text": [
        "\n",
        "../../../GRIB/20140912/06/012/UV.grib"
       ]
      },
      {
       "output_type": "stream",
       "stream": "stdout",
       "text": [
        "\n",
        "../../../GRIB/20140912/06/001/UV.grib"
       ]
      },
      {
       "output_type": "stream",
       "stream": "stdout",
       "text": [
        "\n",
        "../../../GRIB/20140912/06/002/UV.grib"
       ]
      },
      {
       "output_type": "stream",
       "stream": "stdout",
       "text": [
        "\n",
        "../../../GRIB/20140912/06/003/UV.grib"
       ]
      },
      {
       "output_type": "stream",
       "stream": "stdout",
       "text": [
        "\n",
        "../../../GRIB/20140912/06/004/UV.grib"
       ]
      },
      {
       "output_type": "stream",
       "stream": "stdout",
       "text": [
        "\n",
        "../../../GRIB/20140912/06/005/UV.grib"
       ]
      },
      {
       "output_type": "stream",
       "stream": "stdout",
       "text": [
        "\n"
       ]
      }
     ],
     "prompt_number": 97
    },
    {
     "cell_type": "heading",
     "level": 3,
     "metadata": {},
     "source": [
      "3. Collate the Files"
     ]
    },
    {
     "cell_type": "markdown",
     "metadata": {},
     "source": [
      "Key command is ./wgrib2 filename -append -grib outfile > logfile 2>&1"
     ]
    },
    {
     "cell_type": "code",
     "collapsed": false,
     "input": [
      "outgrib = OPERdir+'oper_allvar_y2014m09d12.grib'\n",
      "\n",
      "for part in ('part one','part two','part three'):\n",
      "    for fhour in range(HoursWeNeed[part][1],HoursWeNeed[part][2]+1):\n",
      "        \n",
      "        # set up directories and files\n",
      "        sfhour = '{:0=3}'.format(fhour)\n",
      "        dire = HoursWeNeed[part][0]\n",
      "        outuvrot = GRIBdir+dire+sfhour+'/UVrot.grib'\n",
      "        print outuvrot\n",
      "        sp.call([\"./wgrib2\",outuvrot,\"-append\",\"-grib\",outgrib])\n",
      "        \n",
      "        for fn in glob.glob(GRIBdir+dir+sfhour+'/*'):\n",
      "            if not (\"GRD\" in fn) and (\"CMC\" in fn):                \n",
      "                print fn\n",
      "                sp.call([\"./wgrib2\",fn,\"-append\",\"-grib\",outgrib])\n",
      "\n",
      "        \n",
      "       "
     ],
     "language": "python",
     "metadata": {},
     "outputs": [
      {
       "output_type": "stream",
       "stream": "stdout",
       "text": [
        "../../../GRIB/20140911/18/006/UVrot.grib\n",
        "../../../GRIB/20140912/06/006/CMC_hrdps_west_SPFH_TGL_2_ps2.5km_2014091206_P006-00.grib2\n",
        "../../../GRIB/20140912/06/006/CMC_hrdps_west_PRMSL_MSL_0_ps2.5km_2014091206_P006-00.grib2\n",
        "../../../GRIB/20140912/06/006/CMC_hrdps_west_TMP_TGL_2_ps2.5km_2014091206_P006-00.grib2"
       ]
      },
      {
       "output_type": "stream",
       "stream": "stdout",
       "text": [
        "\n",
        "../../../GRIB/20140912/06/006/CMC_hrdps_west_DSWRF_SFC_0_ps2.5km_2014091206_P006-00.grib2"
       ]
      },
      {
       "output_type": "stream",
       "stream": "stdout",
       "text": [
        "\n",
        "../../../GRIB/20140912/06/006/CMC_hrdps_west_DLWRF_SFC_0_ps2.5km_2014091206_P006-00.grib2\n",
        "../../../GRIB/20140912/06/006/CMC_hrdps_west_APCP_SFC_0_ps2.5km_2014091206_P006-00.grib2\n",
        "../../../GRIB/20140911/18/007/UVrot.grib\n",
        "../../../GRIB/20140912/06/007/CMC_hrdps_west_SPFH_TGL_2_ps2.5km_2014091206_P007-00.grib2\n",
        "../../../GRIB/20140912/06/007/CMC_hrdps_west_DSWRF_SFC_0_ps2.5km_2014091206_P007-00.grib2"
       ]
      },
      {
       "output_type": "stream",
       "stream": "stdout",
       "text": [
        "\n",
        "../../../GRIB/20140912/06/007/CMC_hrdps_west_TMP_TGL_2_ps2.5km_2014091206_P007-00.grib2"
       ]
      },
      {
       "output_type": "stream",
       "stream": "stdout",
       "text": [
        "\n",
        "../../../GRIB/20140912/06/007/CMC_hrdps_west_APCP_SFC_0_ps2.5km_2014091206_P007-00.grib2\n",
        "../../../GRIB/20140912/06/007/CMC_hrdps_west_PRMSL_MSL_0_ps2.5km_2014091206_P007-00.grib2\n",
        "../../../GRIB/20140912/06/007/CMC_hrdps_west_DLWRF_SFC_0_ps2.5km_2014091206_P007-00.grib2"
       ]
      },
      {
       "output_type": "stream",
       "stream": "stdout",
       "text": [
        "\n",
        "../../../GRIB/20140911/18/008/UVrot.grib\n",
        "../../../GRIB/20140912/06/008/CMC_hrdps_west_APCP_SFC_0_ps2.5km_2014091206_P008-00.grib2\n",
        "../../../GRIB/20140912/06/008/CMC_hrdps_west_DLWRF_SFC_0_ps2.5km_2014091206_P008-00.grib2\n",
        "../../../GRIB/20140912/06/008/CMC_hrdps_west_PRMSL_MSL_0_ps2.5km_2014091206_P008-00.grib2"
       ]
      },
      {
       "output_type": "stream",
       "stream": "stdout",
       "text": [
        "\n",
        "../../../GRIB/20140912/06/008/CMC_hrdps_west_DSWRF_SFC_0_ps2.5km_2014091206_P008-00.grib2\n",
        "../../../GRIB/20140912/06/008/CMC_hrdps_west_SPFH_TGL_2_ps2.5km_2014091206_P008-00.grib2\n",
        "../../../GRIB/20140912/06/008/CMC_hrdps_west_TMP_TGL_2_ps2.5km_2014091206_P008-00.grib2"
       ]
      },
      {
       "output_type": "stream",
       "stream": "stdout",
       "text": [
        "\n",
        "../../../GRIB/20140911/18/009/UVrot.grib\n",
        "../../../GRIB/20140912/06/009/CMC_hrdps_west_TMP_TGL_2_ps2.5km_2014091206_P009-00.grib2\n",
        "../../../GRIB/20140912/06/009/CMC_hrdps_west_SPFH_TGL_2_ps2.5km_2014091206_P009-00.grib2"
       ]
      },
      {
       "output_type": "stream",
       "stream": "stdout",
       "text": [
        "\n",
        "../../../GRIB/20140912/06/009/CMC_hrdps_west_DLWRF_SFC_0_ps2.5km_2014091206_P009-00.grib2\n",
        "../../../GRIB/20140912/06/009/CMC_hrdps_west_APCP_SFC_0_ps2.5km_2014091206_P009-00.grib2\n",
        "../../../GRIB/20140912/06/009/CMC_hrdps_west_DSWRF_SFC_0_ps2.5km_2014091206_P009-00.grib2"
       ]
      },
      {
       "output_type": "stream",
       "stream": "stdout",
       "text": [
        "\n",
        "../../../GRIB/20140912/06/009/CMC_hrdps_west_PRMSL_MSL_0_ps2.5km_2014091206_P009-00.grib2\n",
        "../../../GRIB/20140911/18/010/UVrot.grib\n",
        "../../../GRIB/20140912/06/010/CMC_hrdps_west_TMP_TGL_2_ps2.5km_2014091206_P010-00.grib2\n",
        "../../../GRIB/20140912/06/010/CMC_hrdps_west_SPFH_TGL_2_ps2.5km_2014091206_P010-00.grib2"
       ]
      },
      {
       "output_type": "stream",
       "stream": "stdout",
       "text": [
        "\n",
        "../../../GRIB/20140912/06/010/CMC_hrdps_west_APCP_SFC_0_ps2.5km_2014091206_P010-00.grib2\n",
        "../../../GRIB/20140912/06/010/CMC_hrdps_west_PRMSL_MSL_0_ps2.5km_2014091206_P010-00.grib2\n",
        "../../../GRIB/20140912/06/010/CMC_hrdps_west_DSWRF_SFC_0_ps2.5km_2014091206_P010-00.grib2"
       ]
      },
      {
       "output_type": "stream",
       "stream": "stdout",
       "text": [
        "\n",
        "../../../GRIB/20140912/06/010/CMC_hrdps_west_DLWRF_SFC_0_ps2.5km_2014091206_P010-00.grib2\n",
        "../../../GRIB/20140911/18/011/UVrot.grib\n",
        "../../../GRIB/20140912/06/011/CMC_hrdps_west_SPFH_TGL_2_ps2.5km_2014091206_P011-00.grib2\n",
        "../../../GRIB/20140912/06/011/CMC_hrdps_west_TMP_TGL_2_ps2.5km_2014091206_P011-00.grib2"
       ]
      },
      {
       "output_type": "stream",
       "stream": "stdout",
       "text": [
        "\n",
        "../../../GRIB/20140912/06/011/CMC_hrdps_west_DSWRF_SFC_0_ps2.5km_2014091206_P011-00.grib2\n",
        "../../../GRIB/20140912/06/011/CMC_hrdps_west_DLWRF_SFC_0_ps2.5km_2014091206_P011-00.grib2\n",
        "../../../GRIB/20140912/06/011/CMC_hrdps_west_APCP_SFC_0_ps2.5km_2014091206_P011-00.grib2"
       ]
      },
      {
       "output_type": "stream",
       "stream": "stdout",
       "text": [
        "\n",
        "../../../GRIB/20140912/06/011/CMC_hrdps_west_PRMSL_MSL_0_ps2.5km_2014091206_P011-00.grib2\n",
        "../../../GRIB/20140911/18/012/UVrot.grib\n",
        "../../../GRIB/20140912/06/012/CMC_hrdps_west_TMP_TGL_2_ps2.5km_2014091206_P012-00.grib2\n",
        "../../../GRIB/20140912/06/012/CMC_hrdps_west_SPFH_TGL_2_ps2.5km_2014091206_P012-00.grib2"
       ]
      },
      {
       "output_type": "stream",
       "stream": "stdout",
       "text": [
        "\n",
        "../../../GRIB/20140912/06/012/CMC_hrdps_west_DLWRF_SFC_0_ps2.5km_2014091206_P012-00.grib2\n",
        "../../../GRIB/20140912/06/012/CMC_hrdps_west_DSWRF_SFC_0_ps2.5km_2014091206_P012-00.grib2"
       ]
      },
      {
       "output_type": "stream",
       "stream": "stdout",
       "text": [
        "\n",
        "../../../GRIB/20140912/06/012/CMC_hrdps_west_PRMSL_MSL_0_ps2.5km_2014091206_P012-00.grib2\n",
        "../../../GRIB/20140912/06/012/CMC_hrdps_west_APCP_SFC_0_ps2.5km_2014091206_P012-00.grib2\n",
        "../../../GRIB/20140912/06/001/UVrot.grib"
       ]
      },
      {
       "output_type": "stream",
       "stream": "stdout",
       "text": [
        "\n",
        "../../../GRIB/20140912/06/001/CMC_hrdps_west_DSWRF_SFC_0_ps2.5km_2014091206_P001-00.grib2\n",
        "../../../GRIB/20140912/06/001/CMC_hrdps_west_DLWRF_SFC_0_ps2.5km_2014091206_P001-00.grib2\n",
        "../../../GRIB/20140912/06/001/CMC_hrdps_west_PRMSL_MSL_0_ps2.5km_2014091206_P001-00.grib2\n",
        "../../../GRIB/20140912/06/001/CMC_hrdps_west_TMP_TGL_2_ps2.5km_2014091206_P001-00.grib2"
       ]
      },
      {
       "output_type": "stream",
       "stream": "stdout",
       "text": [
        "\n",
        "../../../GRIB/20140912/06/001/CMC_hrdps_west_SPFH_TGL_2_ps2.5km_2014091206_P001-00.grib2\n",
        "../../../GRIB/20140912/06/001/CMC_hrdps_west_APCP_SFC_0_ps2.5km_2014091206_P001-00.grib2"
       ]
      },
      {
       "output_type": "stream",
       "stream": "stdout",
       "text": [
        "\n",
        "../../../GRIB/20140912/06/002/UVrot.grib\n",
        "../../../GRIB/20140912/06/002/CMC_hrdps_west_DLWRF_SFC_0_ps2.5km_2014091206_P002-00.grib2\n",
        "../../../GRIB/20140912/06/002/CMC_hrdps_west_PRMSL_MSL_0_ps2.5km_2014091206_P002-00.grib2\n",
        "../../../GRIB/20140912/06/002/CMC_hrdps_west_APCP_SFC_0_ps2.5km_2014091206_P002-00.grib2"
       ]
      },
      {
       "output_type": "stream",
       "stream": "stdout",
       "text": [
        "\n",
        "../../../GRIB/20140912/06/002/CMC_hrdps_west_TMP_TGL_2_ps2.5km_2014091206_P002-00.grib2\n",
        "../../../GRIB/20140912/06/002/CMC_hrdps_west_SPFH_TGL_2_ps2.5km_2014091206_P002-00.grib2"
       ]
      },
      {
       "output_type": "stream",
       "stream": "stdout",
       "text": [
        "\n",
        "../../../GRIB/20140912/06/002/CMC_hrdps_west_DSWRF_SFC_0_ps2.5km_2014091206_P002-00.grib2\n",
        "../../../GRIB/20140912/06/003/UVrot.grib\n",
        "../../../GRIB/20140912/06/003/CMC_hrdps_west_DSWRF_SFC_0_ps2.5km_2014091206_P003-00.grib2\n",
        "../../../GRIB/20140912/06/003/CMC_hrdps_west_PRMSL_MSL_0_ps2.5km_2014091206_P003-00.grib2\n",
        "../../../GRIB/20140912/06/003/CMC_hrdps_west_APCP_SFC_0_ps2.5km_2014091206_P003-00.grib2"
       ]
      },
      {
       "output_type": "stream",
       "stream": "stdout",
       "text": [
        "\n",
        "../../../GRIB/20140912/06/003/CMC_hrdps_west_SPFH_TGL_2_ps2.5km_2014091206_P003-00.grib2\n",
        "../../../GRIB/20140912/06/003/CMC_hrdps_west_DLWRF_SFC_0_ps2.5km_2014091206_P003-00.grib2\n",
        "../../../GRIB/20140912/06/003/CMC_hrdps_west_TMP_TGL_2_ps2.5km_2014091206_P003-00.grib2"
       ]
      },
      {
       "output_type": "stream",
       "stream": "stdout",
       "text": [
        "\n",
        "../../../GRIB/20140912/06/004/UVrot.grib\n",
        "../../../GRIB/20140912/06/004/CMC_hrdps_west_APCP_SFC_0_ps2.5km_2014091206_P004-00.grib2\n",
        "../../../GRIB/20140912/06/004/CMC_hrdps_west_SPFH_TGL_2_ps2.5km_2014091206_P004-00.grib2\n",
        "../../../GRIB/20140912/06/004/CMC_hrdps_west_PRMSL_MSL_0_ps2.5km_2014091206_P004-00.grib2"
       ]
      },
      {
       "output_type": "stream",
       "stream": "stdout",
       "text": [
        "\n",
        "../../../GRIB/20140912/06/004/CMC_hrdps_west_DSWRF_SFC_0_ps2.5km_2014091206_P004-00.grib2\n",
        "../../../GRIB/20140912/06/004/CMC_hrdps_west_DLWRF_SFC_0_ps2.5km_2014091206_P004-00.grib2\n",
        "../../../GRIB/20140912/06/004/CMC_hrdps_west_TMP_TGL_2_ps2.5km_2014091206_P004-00.grib2\n",
        "../../../GRIB/20140912/06/005/UVrot.grib"
       ]
      },
      {
       "output_type": "stream",
       "stream": "stdout",
       "text": [
        "\n",
        "../../../GRIB/20140912/06/005/CMC_hrdps_west_PRMSL_MSL_0_ps2.5km_2014091206_P005-00.grib2\n",
        "../../../GRIB/20140912/06/005/CMC_hrdps_west_DSWRF_SFC_0_ps2.5km_2014091206_P005-00.grib2\n",
        "../../../GRIB/20140912/06/005/CMC_hrdps_west_SPFH_TGL_2_ps2.5km_2014091206_P005-00.grib2\n",
        "../../../GRIB/20140912/06/005/CMC_hrdps_west_DLWRF_SFC_0_ps2.5km_2014091206_P005-00.grib2"
       ]
      },
      {
       "output_type": "stream",
       "stream": "stdout",
       "text": [
        "\n",
        "../../../GRIB/20140912/06/005/CMC_hrdps_west_TMP_TGL_2_ps2.5km_2014091206_P005-00.grib2\n",
        "../../../GRIB/20140912/06/005/CMC_hrdps_west_APCP_SFC_0_ps2.5km_2014091206_P005-00.grib2"
       ]
      },
      {
       "output_type": "stream",
       "stream": "stdout",
       "text": [
        "\n",
        "../../../GRIB/20140912/06/006/UVrot.grib"
       ]
      },
      {
       "output_type": "stream",
       "stream": "stdout",
       "text": [
        "\n",
        "../../../GRIB/20140912/06/006/CMC_hrdps_west_SPFH_TGL_2_ps2.5km_2014091206_P006-00.grib2\n",
        "../../../GRIB/20140912/06/006/CMC_hrdps_west_PRMSL_MSL_0_ps2.5km_2014091206_P006-00.grib2\n",
        "../../../GRIB/20140912/06/006/CMC_hrdps_west_TMP_TGL_2_ps2.5km_2014091206_P006-00.grib2\n",
        "../../../GRIB/20140912/06/006/CMC_hrdps_west_DSWRF_SFC_0_ps2.5km_2014091206_P006-00.grib2"
       ]
      },
      {
       "output_type": "stream",
       "stream": "stdout",
       "text": [
        "\n",
        "../../../GRIB/20140912/06/006/CMC_hrdps_west_DLWRF_SFC_0_ps2.5km_2014091206_P006-00.grib2\n",
        "../../../GRIB/20140912/06/006/CMC_hrdps_west_APCP_SFC_0_ps2.5km_2014091206_P006-00.grib2\n",
        "../../../GRIB/20140912/06/007/UVrot.grib\n",
        "../../../GRIB/20140912/06/007/CMC_hrdps_west_SPFH_TGL_2_ps2.5km_2014091206_P007-00.grib2\n",
        "../../../GRIB/20140912/06/007/CMC_hrdps_west_DSWRF_SFC_0_ps2.5km_2014091206_P007-00.grib2"
       ]
      },
      {
       "output_type": "stream",
       "stream": "stdout",
       "text": [
        "\n",
        "../../../GRIB/20140912/06/007/CMC_hrdps_west_TMP_TGL_2_ps2.5km_2014091206_P007-00.grib2\n",
        "../../../GRIB/20140912/06/007/CMC_hrdps_west_APCP_SFC_0_ps2.5km_2014091206_P007-00.grib2\n",
        "../../../GRIB/20140912/06/007/CMC_hrdps_west_PRMSL_MSL_0_ps2.5km_2014091206_P007-00.grib2"
       ]
      },
      {
       "output_type": "stream",
       "stream": "stdout",
       "text": [
        "\n",
        "../../../GRIB/20140912/06/007/CMC_hrdps_west_DLWRF_SFC_0_ps2.5km_2014091206_P007-00.grib2\n",
        "../../../GRIB/20140912/06/008/UVrot.grib\n",
        "../../../GRIB/20140912/06/008/CMC_hrdps_west_APCP_SFC_0_ps2.5km_2014091206_P008-00.grib2\n",
        "../../../GRIB/20140912/06/008/CMC_hrdps_west_DLWRF_SFC_0_ps2.5km_2014091206_P008-00.grib2"
       ]
      },
      {
       "output_type": "stream",
       "stream": "stdout",
       "text": [
        "\n",
        "../../../GRIB/20140912/06/008/CMC_hrdps_west_PRMSL_MSL_0_ps2.5km_2014091206_P008-00.grib2\n",
        "../../../GRIB/20140912/06/008/CMC_hrdps_west_DSWRF_SFC_0_ps2.5km_2014091206_P008-00.grib2\n",
        "../../../GRIB/20140912/06/008/CMC_hrdps_west_SPFH_TGL_2_ps2.5km_2014091206_P008-00.grib2"
       ]
      },
      {
       "output_type": "stream",
       "stream": "stdout",
       "text": [
        "\n",
        "../../../GRIB/20140912/06/008/CMC_hrdps_west_TMP_TGL_2_ps2.5km_2014091206_P008-00.grib2\n",
        "../../../GRIB/20140912/06/009/UVrot.grib"
       ]
      },
      {
       "output_type": "stream",
       "stream": "stdout",
       "text": [
        "\n",
        "../../../GRIB/20140912/06/009/CMC_hrdps_west_TMP_TGL_2_ps2.5km_2014091206_P009-00.grib2\n",
        "../../../GRIB/20140912/06/009/CMC_hrdps_west_SPFH_TGL_2_ps2.5km_2014091206_P009-00.grib2\n",
        "../../../GRIB/20140912/06/009/CMC_hrdps_west_DLWRF_SFC_0_ps2.5km_2014091206_P009-00.grib2"
       ]
      },
      {
       "output_type": "stream",
       "stream": "stdout",
       "text": [
        "\n",
        "../../../GRIB/20140912/06/009/CMC_hrdps_west_APCP_SFC_0_ps2.5km_2014091206_P009-00.grib2\n",
        "../../../GRIB/20140912/06/009/CMC_hrdps_west_DSWRF_SFC_0_ps2.5km_2014091206_P009-00.grib2\n",
        "../../../GRIB/20140912/06/009/CMC_hrdps_west_PRMSL_MSL_0_ps2.5km_2014091206_P009-00.grib2\n",
        "../../../GRIB/20140912/06/010/UVrot.grib"
       ]
      },
      {
       "output_type": "stream",
       "stream": "stdout",
       "text": [
        "\n",
        "../../../GRIB/20140912/06/010/CMC_hrdps_west_TMP_TGL_2_ps2.5km_2014091206_P010-00.grib2\n",
        "../../../GRIB/20140912/06/010/CMC_hrdps_west_SPFH_TGL_2_ps2.5km_2014091206_P010-00.grib2\n",
        "../../../GRIB/20140912/06/010/CMC_hrdps_west_APCP_SFC_0_ps2.5km_2014091206_P010-00.grib2"
       ]
      },
      {
       "output_type": "stream",
       "stream": "stdout",
       "text": [
        "\n",
        "../../../GRIB/20140912/06/010/CMC_hrdps_west_PRMSL_MSL_0_ps2.5km_2014091206_P010-00.grib2\n",
        "../../../GRIB/20140912/06/010/CMC_hrdps_west_DSWRF_SFC_0_ps2.5km_2014091206_P010-00.grib2\n",
        "../../../GRIB/20140912/06/010/CMC_hrdps_west_DLWRF_SFC_0_ps2.5km_2014091206_P010-00.grib2"
       ]
      },
      {
       "output_type": "stream",
       "stream": "stdout",
       "text": [
        "\n",
        "../../../GRIB/20140912/06/011/UVrot.grib\n",
        "../../../GRIB/20140912/06/011/CMC_hrdps_west_SPFH_TGL_2_ps2.5km_2014091206_P011-00.grib2\n",
        "../../../GRIB/20140912/06/011/CMC_hrdps_west_TMP_TGL_2_ps2.5km_2014091206_P011-00.grib2"
       ]
      },
      {
       "output_type": "stream",
       "stream": "stdout",
       "text": [
        "\n",
        "../../../GRIB/20140912/06/011/CMC_hrdps_west_DSWRF_SFC_0_ps2.5km_2014091206_P011-00.grib2\n",
        "../../../GRIB/20140912/06/011/CMC_hrdps_west_DLWRF_SFC_0_ps2.5km_2014091206_P011-00.grib2\n",
        "../../../GRIB/20140912/06/011/CMC_hrdps_west_APCP_SFC_0_ps2.5km_2014091206_P011-00.grib2"
       ]
      },
      {
       "output_type": "stream",
       "stream": "stdout",
       "text": [
        "\n",
        "../../../GRIB/20140912/06/011/CMC_hrdps_west_PRMSL_MSL_0_ps2.5km_2014091206_P011-00.grib2\n",
        "../../../GRIB/20140912/06/012/UVrot.grib\n",
        "../../../GRIB/20140912/06/012/CMC_hrdps_west_TMP_TGL_2_ps2.5km_2014091206_P012-00.grib2\n",
        "../../../GRIB/20140912/06/012/CMC_hrdps_west_SPFH_TGL_2_ps2.5km_2014091206_P012-00.grib2"
       ]
      },
      {
       "output_type": "stream",
       "stream": "stdout",
       "text": [
        "\n",
        "../../../GRIB/20140912/06/012/CMC_hrdps_west_DLWRF_SFC_0_ps2.5km_2014091206_P012-00.grib2\n",
        "../../../GRIB/20140912/06/012/CMC_hrdps_west_DSWRF_SFC_0_ps2.5km_2014091206_P012-00.grib2"
       ]
      },
      {
       "output_type": "stream",
       "stream": "stdout",
       "text": [
        "\n",
        "../../../GRIB/20140912/06/012/CMC_hrdps_west_PRMSL_MSL_0_ps2.5km_2014091206_P012-00.grib2\n",
        "../../../GRIB/20140912/06/012/CMC_hrdps_west_APCP_SFC_0_ps2.5km_2014091206_P012-00.grib2\n",
        "../../../GRIB/20140912/06/001/UVrot.grib\n",
        "../../../GRIB/20140912/06/001/CMC_hrdps_west_DSWRF_SFC_0_ps2.5km_2014091206_P001-00.grib2\n",
        "../../../GRIB/20140912/06/001/CMC_hrdps_west_DLWRF_SFC_0_ps2.5km_2014091206_P001-00.grib2"
       ]
      },
      {
       "output_type": "stream",
       "stream": "stdout",
       "text": [
        "\n",
        "../../../GRIB/20140912/06/001/CMC_hrdps_west_PRMSL_MSL_0_ps2.5km_2014091206_P001-00.grib2\n",
        "../../../GRIB/20140912/06/001/CMC_hrdps_west_TMP_TGL_2_ps2.5km_2014091206_P001-00.grib2\n",
        "../../../GRIB/20140912/06/001/CMC_hrdps_west_SPFH_TGL_2_ps2.5km_2014091206_P001-00.grib2"
       ]
      },
      {
       "output_type": "stream",
       "stream": "stdout",
       "text": [
        "\n",
        "../../../GRIB/20140912/06/001/CMC_hrdps_west_APCP_SFC_0_ps2.5km_2014091206_P001-00.grib2\n",
        "../../../GRIB/20140912/06/002/UVrot.grib\n",
        "../../../GRIB/20140912/06/002/CMC_hrdps_west_DLWRF_SFC_0_ps2.5km_2014091206_P002-00.grib2\n",
        "../../../GRIB/20140912/06/002/CMC_hrdps_west_PRMSL_MSL_0_ps2.5km_2014091206_P002-00.grib2"
       ]
      },
      {
       "output_type": "stream",
       "stream": "stdout",
       "text": [
        "\n",
        "../../../GRIB/20140912/06/002/CMC_hrdps_west_APCP_SFC_0_ps2.5km_2014091206_P002-00.grib2\n",
        "../../../GRIB/20140912/06/002/CMC_hrdps_west_TMP_TGL_2_ps2.5km_2014091206_P002-00.grib2\n",
        "../../../GRIB/20140912/06/002/CMC_hrdps_west_SPFH_TGL_2_ps2.5km_2014091206_P002-00.grib2"
       ]
      },
      {
       "output_type": "stream",
       "stream": "stdout",
       "text": [
        "\n",
        "../../../GRIB/20140912/06/002/CMC_hrdps_west_DSWRF_SFC_0_ps2.5km_2014091206_P002-00.grib2\n",
        "../../../GRIB/20140912/06/003/UVrot.grib\n",
        "../../../GRIB/20140912/06/003/CMC_hrdps_west_DSWRF_SFC_0_ps2.5km_2014091206_P003-00.grib2\n",
        "../../../GRIB/20140912/06/003/CMC_hrdps_west_PRMSL_MSL_0_ps2.5km_2014091206_P003-00.grib2\n",
        "../../../GRIB/20140912/06/003/CMC_hrdps_west_APCP_SFC_0_ps2.5km_2014091206_P003-00.grib2"
       ]
      },
      {
       "output_type": "stream",
       "stream": "stdout",
       "text": [
        "\n",
        "../../../GRIB/20140912/06/003/CMC_hrdps_west_SPFH_TGL_2_ps2.5km_2014091206_P003-00.grib2\n",
        "../../../GRIB/20140912/06/003/CMC_hrdps_west_DLWRF_SFC_0_ps2.5km_2014091206_P003-00.grib2\n",
        "../../../GRIB/20140912/06/003/CMC_hrdps_west_TMP_TGL_2_ps2.5km_2014091206_P003-00.grib2"
       ]
      },
      {
       "output_type": "stream",
       "stream": "stdout",
       "text": [
        "\n",
        "../../../GRIB/20140912/06/004/UVrot.grib\n",
        "../../../GRIB/20140912/06/004/CMC_hrdps_west_APCP_SFC_0_ps2.5km_2014091206_P004-00.grib2\n",
        "../../../GRIB/20140912/06/004/CMC_hrdps_west_SPFH_TGL_2_ps2.5km_2014091206_P004-00.grib2\n",
        "../../../GRIB/20140912/06/004/CMC_hrdps_west_PRMSL_MSL_0_ps2.5km_2014091206_P004-00.grib2"
       ]
      },
      {
       "output_type": "stream",
       "stream": "stdout",
       "text": [
        "\n",
        "../../../GRIB/20140912/06/004/CMC_hrdps_west_DSWRF_SFC_0_ps2.5km_2014091206_P004-00.grib2\n",
        "../../../GRIB/20140912/06/004/CMC_hrdps_west_DLWRF_SFC_0_ps2.5km_2014091206_P004-00.grib2\n",
        "../../../GRIB/20140912/06/004/CMC_hrdps_west_TMP_TGL_2_ps2.5km_2014091206_P004-00.grib2\n",
        "../../../GRIB/20140912/06/005/UVrot.grib"
       ]
      },
      {
       "output_type": "stream",
       "stream": "stdout",
       "text": [
        "\n",
        "../../../GRIB/20140912/06/005/CMC_hrdps_west_PRMSL_MSL_0_ps2.5km_2014091206_P005-00.grib2\n",
        "../../../GRIB/20140912/06/005/CMC_hrdps_west_DSWRF_SFC_0_ps2.5km_2014091206_P005-00.grib2\n",
        "../../../GRIB/20140912/06/005/CMC_hrdps_west_SPFH_TGL_2_ps2.5km_2014091206_P005-00.grib2\n",
        "../../../GRIB/20140912/06/005/CMC_hrdps_west_DLWRF_SFC_0_ps2.5km_2014091206_P005-00.grib2"
       ]
      },
      {
       "output_type": "stream",
       "stream": "stdout",
       "text": [
        "\n",
        "../../../GRIB/20140912/06/005/CMC_hrdps_west_TMP_TGL_2_ps2.5km_2014091206_P005-00.grib2\n",
        "../../../GRIB/20140912/06/005/CMC_hrdps_west_APCP_SFC_0_ps2.5km_2014091206_P005-00.grib2"
       ]
      },
      {
       "output_type": "stream",
       "stream": "stdout",
       "text": [
        "\n"
       ]
      }
     ],
     "prompt_number": 102
    },
    {
     "cell_type": "heading",
     "level": 3,
     "metadata": {},
     "source": [
      "2. Convert to NetCDF"
     ]
    },
    {
     "cell_type": "markdown",
     "metadata": {},
     "source": [
      "Key command is ./wgrib2 outgrib -netcdf outnetcdf"
     ]
    },
    {
     "cell_type": "code",
     "collapsed": false,
     "input": [
      "outnetcdf = OPERdir+'oper_allvar_y2014m09d12.nc'\n",
      "sp.call([\"./wgrib2\",outgrib,\"-netcdf\",outnetcdf])"
     ],
     "language": "python",
     "metadata": {},
     "outputs": [
      {
       "metadata": {},
       "output_type": "pyout",
       "prompt_number": 101,
       "text": [
        "8"
       ]
      }
     ],
     "prompt_number": 101
    },
    {
     "cell_type": "code",
     "collapsed": false,
     "input": [],
     "language": "python",
     "metadata": {},
     "outputs": []
    }
   ],
   "metadata": {}
  }
 ]
}