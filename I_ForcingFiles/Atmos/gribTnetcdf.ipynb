{
 "metadata": {
  "name": "",
  "signature": "sha256:2fe6f02524536497451fd5663a181d1f951cdfe3f0f6dbd36b31dc072a7663c5"
 },
 "nbformat": 3,
 "nbformat_minor": 0,
 "worksheets": [
  {
   "cells": [
    {
     "cell_type": "markdown",
     "metadata": {},
     "source": [
      "Notebook to convert grib2 files to netCDF files that can be used in NEMO\n",
      "Makes use of wgrib2"
     ]
    },
    {
     "cell_type": "heading",
     "level": 2,
     "metadata": {},
     "source": [
      "GRIB2 Conversion to NetCDF"
     ]
    },
    {
     "cell_type": "markdown",
     "metadata": {},
     "source": [
      "*Remaining Problems*\n",
      "1. After rotation, GRIB2 considers the files to be on different grids.  Perhaps should also regrid the scalars?"
     ]
    },
    {
     "cell_type": "code",
     "collapsed": false,
     "input": [
      "import glob\n",
      "import os\n",
      "import subprocess as sp"
     ],
     "language": "python",
     "metadata": {},
     "outputs": [],
     "prompt_number": 11
    },
    {
     "cell_type": "heading",
     "level": 3,
     "metadata": {},
     "source": [
      "1. Chose the Files"
     ]
    },
    {
     "cell_type": "markdown",
     "metadata": {},
     "source": [
      "We need the 18 forecast from the previous day for the first six hours, the 06 forecast from the current day for the next 12 hours and the 18 forecast from the previous day for the last six hours"
     ]
    },
    {
     "cell_type": "code",
     "collapsed": false,
     "input": [
      "GRIBdir = '../../../GRIB/'\n",
      "OPERdir = '../../../Operational/'\n",
      "HoursWeNeed = {'part one':['20140911/18/',24-18,24+6-18],'part two':['20140912/06/',7-6,18-6],\n",
      "               'part three':['20140912/18/',19-18,23-18]}"
     ],
     "language": "python",
     "metadata": {},
     "outputs": [],
     "prompt_number": 12
    },
    {
     "cell_type": "heading",
     "level": 3,
     "metadata": {},
     "source": [
      "2. Twist u,v wind speed from grid IJ direction to N/S directions"
     ]
    },
    {
     "cell_type": "markdown",
     "metadata": {},
     "source": [
      "First append the u and v components, then rotate"
     ]
    },
    {
     "cell_type": "code",
     "collapsed": false,
     "input": [
      "for part in ('part one','part two','part three'):\n",
      "    for fhour in range(HoursWeNeed[part][1],HoursWeNeed[part][2]+1):\n",
      "        \n",
      "        # set up directories and files\n",
      "        sfhour = '{:0=3}'.format(fhour)\n",
      "        dire = HoursWeNeed[part][0]\n",
      "        outuv = GRIBdir+dire+sfhour+'/UV.grib' \n",
      "        print outuv\n",
      "        sp.call(['rm','-f',outuv])\n",
      "        outuvrot = GRIBdir+dire+sfhour+'/UVrot.grib'\n",
      "        sp.call(['rm','-f',outuvrot])\n",
      "        \n",
      "        # append U and V\n",
      "        fn = glob.glob(GRIBdir+dire+sfhour+'/*UGRD*')\n",
      "        sp.call([\"./wgrib2\",fn[0],\"-append\",\"-grib\",outuv])\n",
      "        fn = glob.glob(GRIBdir+dire+sfhour+'/*VGRD*')\n",
      "        sp.call([\"./wgrib2\",fn[0],\"-append\",\"-grib\",outuv])\n",
      "        print sp.check_output([\"./wgrib2\",fn[0],\"-vt\"])\n",
      "        \n",
      "        # rotate\n",
      "        GRIDspec = sp.check_output([\"../../../private-tools/PThupaki/grid_defn.pl\",outuv])\n",
      "        cmd = [\"./wgrib2\", outuv]\n",
      "        cmd.extend(\"-new_grid_winds earth\".split())\n",
      "        cmd.append(\"-new_grid\")\n",
      "        cmd.extend(GRIDspec.split())\n",
      "        cmd.append(outuvrot)\n",
      "        sp.call(cmd)"
     ],
     "language": "python",
     "metadata": {},
     "outputs": [
      {
       "output_type": "stream",
       "stream": "stdout",
       "text": [
        "../../../GRIB/20140911/18/006/UV.grib\n",
        "1:0:vt=2014091200\n"
       ]
      },
      {
       "output_type": "stream",
       "stream": "stdout",
       "text": [
        "\n",
        "../../../GRIB/20140911/18/007/UV.grib"
       ]
      },
      {
       "output_type": "stream",
       "stream": "stdout",
       "text": [
        "\n",
        "1:0:vt=2014091201\n"
       ]
      },
      {
       "output_type": "stream",
       "stream": "stdout",
       "text": [
        "\n",
        "../../../GRIB/20140911/18/008/UV.grib"
       ]
      },
      {
       "output_type": "stream",
       "stream": "stdout",
       "text": [
        "\n",
        "1:0:vt=2014091202\n"
       ]
      },
      {
       "output_type": "stream",
       "stream": "stdout",
       "text": [
        "\n",
        "../../../GRIB/20140911/18/009/UV.grib"
       ]
      },
      {
       "output_type": "stream",
       "stream": "stdout",
       "text": [
        "\n",
        "1:0:vt=2014091203\n"
       ]
      },
      {
       "output_type": "stream",
       "stream": "stdout",
       "text": [
        "\n",
        "../../../GRIB/20140911/18/010/UV.grib"
       ]
      },
      {
       "output_type": "stream",
       "stream": "stdout",
       "text": [
        "\n",
        "1:0:vt=2014091204\n"
       ]
      },
      {
       "output_type": "stream",
       "stream": "stdout",
       "text": [
        "\n",
        "../../../GRIB/20140911/18/011/UV.grib"
       ]
      },
      {
       "output_type": "stream",
       "stream": "stdout",
       "text": [
        "\n",
        "1:0:vt=2014091205\n"
       ]
      },
      {
       "output_type": "stream",
       "stream": "stdout",
       "text": [
        "\n",
        "../../../GRIB/20140911/18/012/UV.grib"
       ]
      },
      {
       "output_type": "stream",
       "stream": "stdout",
       "text": [
        "\n",
        "1:0:vt=2014091206\n"
       ]
      },
      {
       "output_type": "stream",
       "stream": "stdout",
       "text": [
        "\n",
        "../../../GRIB/20140912/06/001/UV.grib"
       ]
      },
      {
       "output_type": "stream",
       "stream": "stdout",
       "text": [
        "\n",
        "1:0:vt=2014091207\n"
       ]
      },
      {
       "output_type": "stream",
       "stream": "stdout",
       "text": [
        "\n",
        "../../../GRIB/20140912/06/002/UV.grib"
       ]
      },
      {
       "output_type": "stream",
       "stream": "stdout",
       "text": [
        "\n",
        "1:0:vt=2014091208\n"
       ]
      },
      {
       "output_type": "stream",
       "stream": "stdout",
       "text": [
        "\n",
        "../../../GRIB/20140912/06/003/UV.grib"
       ]
      },
      {
       "output_type": "stream",
       "stream": "stdout",
       "text": [
        "\n",
        "1:0:vt=2014091209\n"
       ]
      },
      {
       "output_type": "stream",
       "stream": "stdout",
       "text": [
        "\n",
        "../../../GRIB/20140912/06/004/UV.grib"
       ]
      },
      {
       "output_type": "stream",
       "stream": "stdout",
       "text": [
        "\n",
        "1:0:vt=2014091210\n"
       ]
      },
      {
       "output_type": "stream",
       "stream": "stdout",
       "text": [
        "\n",
        "../../../GRIB/20140912/06/005/UV.grib"
       ]
      },
      {
       "output_type": "stream",
       "stream": "stdout",
       "text": [
        "\n",
        "1:0:vt=2014091211\n"
       ]
      },
      {
       "output_type": "stream",
       "stream": "stdout",
       "text": [
        "\n",
        "../../../GRIB/20140912/06/006/UV.grib"
       ]
      },
      {
       "output_type": "stream",
       "stream": "stdout",
       "text": [
        "\n",
        "1:0:vt=2014091212\n"
       ]
      },
      {
       "output_type": "stream",
       "stream": "stdout",
       "text": [
        "\n",
        "../../../GRIB/20140912/06/007/UV.grib"
       ]
      },
      {
       "output_type": "stream",
       "stream": "stdout",
       "text": [
        "\n",
        "1:0:vt=2014091213\n"
       ]
      },
      {
       "output_type": "stream",
       "stream": "stdout",
       "text": [
        "\n",
        "../../../GRIB/20140912/06/008/UV.grib"
       ]
      },
      {
       "output_type": "stream",
       "stream": "stdout",
       "text": [
        "\n",
        "1:0:vt=2014091214\n"
       ]
      },
      {
       "output_type": "stream",
       "stream": "stdout",
       "text": [
        "\n",
        "../../../GRIB/20140912/06/009/UV.grib"
       ]
      },
      {
       "output_type": "stream",
       "stream": "stdout",
       "text": [
        "\n",
        "1:0:vt=2014091215\n"
       ]
      },
      {
       "output_type": "stream",
       "stream": "stdout",
       "text": [
        "\n",
        "../../../GRIB/20140912/06/010/UV.grib"
       ]
      },
      {
       "output_type": "stream",
       "stream": "stdout",
       "text": [
        "\n",
        "1:0:vt=2014091216\n"
       ]
      },
      {
       "output_type": "stream",
       "stream": "stdout",
       "text": [
        "\n",
        "../../../GRIB/20140912/06/011/UV.grib"
       ]
      },
      {
       "output_type": "stream",
       "stream": "stdout",
       "text": [
        "\n",
        "1:0:vt=2014091217\n"
       ]
      },
      {
       "output_type": "stream",
       "stream": "stdout",
       "text": [
        "\n",
        "../../../GRIB/20140912/06/012/UV.grib"
       ]
      },
      {
       "output_type": "stream",
       "stream": "stdout",
       "text": [
        "\n",
        "1:0:vt=2014091218\n"
       ]
      },
      {
       "output_type": "stream",
       "stream": "stdout",
       "text": [
        "\n",
        "../../../GRIB/20140912/18/001/UV.grib"
       ]
      },
      {
       "output_type": "stream",
       "stream": "stdout",
       "text": [
        "\n",
        "1:0:vt=2014091219\n"
       ]
      },
      {
       "output_type": "stream",
       "stream": "stdout",
       "text": [
        "\n",
        "../../../GRIB/20140912/18/002/UV.grib"
       ]
      },
      {
       "output_type": "stream",
       "stream": "stdout",
       "text": [
        "\n",
        "1:0:vt=2014091220\n"
       ]
      },
      {
       "output_type": "stream",
       "stream": "stdout",
       "text": [
        "\n",
        "../../../GRIB/20140912/18/003/UV.grib"
       ]
      },
      {
       "output_type": "stream",
       "stream": "stdout",
       "text": [
        "\n",
        "1:0:vt=2014091221\n"
       ]
      },
      {
       "output_type": "stream",
       "stream": "stdout",
       "text": [
        "\n",
        "../../../GRIB/20140912/18/004/UV.grib"
       ]
      },
      {
       "output_type": "stream",
       "stream": "stdout",
       "text": [
        "\n",
        "1:0:vt=2014091222\n"
       ]
      },
      {
       "output_type": "stream",
       "stream": "stdout",
       "text": [
        "\n",
        "../../../GRIB/20140912/18/005/UV.grib"
       ]
      },
      {
       "output_type": "stream",
       "stream": "stdout",
       "text": [
        "\n",
        "1:0:vt=2014091223\n"
       ]
      },
      {
       "output_type": "stream",
       "stream": "stdout",
       "text": [
        "\n"
       ]
      }
     ],
     "prompt_number": 13
    },
    {
     "cell_type": "heading",
     "level": 3,
     "metadata": {},
     "source": [
      "3. Collate the Files"
     ]
    },
    {
     "cell_type": "markdown",
     "metadata": {},
     "source": [
      "Key command is ./wgrib2 filename -append -grib outfile > logfile 2>&1"
     ]
    },
    {
     "cell_type": "code",
     "collapsed": false,
     "input": [
      "outgrib = OPERdir+'oper_allvar_y2014m09d12.grib'\n",
      "\n",
      "for part in ('part one','part two','part three'):\n",
      "    for fhour in range(HoursWeNeed[part][1],HoursWeNeed[part][2]+1):\n",
      "        \n",
      "        # set up directories and files\n",
      "        sfhour = '{:0=3}'.format(fhour)\n",
      "        dire = HoursWeNeed[part][0]\n",
      "        outuvrot = GRIBdir+dire+sfhour+'/UVrot.grib'\n",
      "        print outuvrot\n",
      "        sp.call([\"./wgrib2\",outuvrot,\"-append\",\"-grib\",outgrib])\n",
      "        \n",
      "        for fn in glob.glob(GRIBdir+dire+sfhour+'/*'):\n",
      "            if not (\"GRD\" in fn) and (\"CMC\" in fn):                \n",
      "                print fn\n",
      "                sp.call([\"./wgrib2\",fn,\"-append\",\"-grib\",outgrib])\n",
      "\n",
      "        \n",
      "       "
     ],
     "language": "python",
     "metadata": {},
     "outputs": [
      {
       "output_type": "stream",
       "stream": "stdout",
       "text": [
        "../../../GRIB/20140911/18/006/UVrot.grib\n",
        "../../../GRIB/20140911/18/006/CMC_hrdps_west_DSWRF_SFC_0_ps2.5km_2014091118_P006-00.grib2"
       ]
      },
      {
       "output_type": "stream",
       "stream": "stdout",
       "text": [
        "\n",
        "../../../GRIB/20140911/18/006/CMC_hrdps_west_SPFH_TGL_2_ps2.5km_2014091118_P006-00.grib2\n",
        "../../../GRIB/20140911/18/006/CMC_hrdps_west_DLWRF_SFC_0_ps2.5km_2014091118_P006-00.grib2\n",
        "../../../GRIB/20140911/18/006/CMC_hrdps_west_TMP_TGL_2_ps2.5km_2014091118_P006-00.grib2"
       ]
      },
      {
       "output_type": "stream",
       "stream": "stdout",
       "text": [
        "\n",
        "../../../GRIB/20140911/18/006/CMC_hrdps_west_PRMSL_MSL_0_ps2.5km_2014091118_P006-00.grib2\n",
        "../../../GRIB/20140911/18/006/CMC_hrdps_west_APCP_SFC_0_ps2.5km_2014091118_P006-00.grib2"
       ]
      },
      {
       "output_type": "stream",
       "stream": "stdout",
       "text": [
        "\n",
        "../../../GRIB/20140911/18/007/UVrot.grib\n",
        "../../../GRIB/20140911/18/007/CMC_hrdps_west_APCP_SFC_0_ps2.5km_2014091118_P007-00.grib2"
       ]
      },
      {
       "output_type": "stream",
       "stream": "stdout",
       "text": [
        "\n",
        "../../../GRIB/20140911/18/007/CMC_hrdps_west_TMP_TGL_2_ps2.5km_2014091118_P007-00.grib2\n",
        "../../../GRIB/20140911/18/007/CMC_hrdps_west_DLWRF_SFC_0_ps2.5km_2014091118_P007-00.grib2\n",
        "../../../GRIB/20140911/18/007/CMC_hrdps_west_PRMSL_MSL_0_ps2.5km_2014091118_P007-00.grib2"
       ]
      },
      {
       "output_type": "stream",
       "stream": "stdout",
       "text": [
        "\n",
        "../../../GRIB/20140911/18/007/CMC_hrdps_west_DSWRF_SFC_0_ps2.5km_2014091118_P007-00.grib2\n",
        "../../../GRIB/20140911/18/007/CMC_hrdps_west_SPFH_TGL_2_ps2.5km_2014091118_P007-00.grib2\n",
        "../../../GRIB/20140911/18/008/UVrot.grib"
       ]
      },
      {
       "output_type": "stream",
       "stream": "stdout",
       "text": [
        "\n",
        "../../../GRIB/20140911/18/008/CMC_hrdps_west_APCP_SFC_0_ps2.5km_2014091118_P008-00.grib2"
       ]
      },
      {
       "output_type": "stream",
       "stream": "stdout",
       "text": [
        "\n",
        "../../../GRIB/20140911/18/008/CMC_hrdps_west_DLWRF_SFC_0_ps2.5km_2014091118_P008-00.grib2\n",
        "../../../GRIB/20140911/18/008/CMC_hrdps_west_DSWRF_SFC_0_ps2.5km_2014091118_P008-00.grib2\n",
        "../../../GRIB/20140911/18/008/CMC_hrdps_west_SPFH_TGL_2_ps2.5km_2014091118_P008-00.grib2"
       ]
      },
      {
       "output_type": "stream",
       "stream": "stdout",
       "text": [
        "\n",
        "../../../GRIB/20140911/18/008/CMC_hrdps_west_PRMSL_MSL_0_ps2.5km_2014091118_P008-00.grib2\n",
        "../../../GRIB/20140911/18/008/CMC_hrdps_west_TMP_TGL_2_ps2.5km_2014091118_P008-00.grib2\n",
        "../../../GRIB/20140911/18/009/UVrot.grib"
       ]
      },
      {
       "output_type": "stream",
       "stream": "stdout",
       "text": [
        "\n",
        "../../../GRIB/20140911/18/009/CMC_hrdps_west_TMP_TGL_2_ps2.5km_2014091118_P009-00.grib2"
       ]
      },
      {
       "output_type": "stream",
       "stream": "stdout",
       "text": [
        "\n",
        "../../../GRIB/20140911/18/009/CMC_hrdps_west_SPFH_TGL_2_ps2.5km_2014091118_P009-00.grib2\n",
        "../../../GRIB/20140911/18/009/CMC_hrdps_west_DLWRF_SFC_0_ps2.5km_2014091118_P009-00.grib2"
       ]
      },
      {
       "output_type": "stream",
       "stream": "stdout",
       "text": [
        "\n",
        "../../../GRIB/20140911/18/009/CMC_hrdps_west_APCP_SFC_0_ps2.5km_2014091118_P009-00.grib2\n",
        "../../../GRIB/20140911/18/009/CMC_hrdps_west_DSWRF_SFC_0_ps2.5km_2014091118_P009-00.grib2\n",
        "../../../GRIB/20140911/18/009/CMC_hrdps_west_PRMSL_MSL_0_ps2.5km_2014091118_P009-00.grib2"
       ]
      },
      {
       "output_type": "stream",
       "stream": "stdout",
       "text": [
        "\n",
        "../../../GRIB/20140911/18/010/UVrot.grib"
       ]
      },
      {
       "output_type": "stream",
       "stream": "stdout",
       "text": [
        "\n",
        "../../../GRIB/20140911/18/010/CMC_hrdps_west_PRMSL_MSL_0_ps2.5km_2014091118_P010-00.grib2"
       ]
      },
      {
       "output_type": "stream",
       "stream": "stdout",
       "text": [
        "\n",
        "../../../GRIB/20140911/18/010/CMC_hrdps_west_TMP_TGL_2_ps2.5km_2014091118_P010-00.grib2\n",
        "../../../GRIB/20140911/18/010/CMC_hrdps_west_DLWRF_SFC_0_ps2.5km_2014091118_P010-00.grib2"
       ]
      },
      {
       "output_type": "stream",
       "stream": "stdout",
       "text": [
        "\n",
        "../../../GRIB/20140911/18/010/CMC_hrdps_west_DSWRF_SFC_0_ps2.5km_2014091118_P010-00.grib2\n",
        "../../../GRIB/20140911/18/010/CMC_hrdps_west_SPFH_TGL_2_ps2.5km_2014091118_P010-00.grib2\n",
        "../../../GRIB/20140911/18/010/CMC_hrdps_west_APCP_SFC_0_ps2.5km_2014091118_P010-00.grib2"
       ]
      },
      {
       "output_type": "stream",
       "stream": "stdout",
       "text": [
        "\n",
        "../../../GRIB/20140911/18/011/UVrot.grib\n",
        "../../../GRIB/20140911/18/011/CMC_hrdps_west_PRMSL_MSL_0_ps2.5km_2014091118_P011-00.grib2"
       ]
      },
      {
       "output_type": "stream",
       "stream": "stdout",
       "text": [
        "\n",
        "../../../GRIB/20140911/18/011/CMC_hrdps_west_TMP_TGL_2_ps2.5km_2014091118_P011-00.grib2\n",
        "../../../GRIB/20140911/18/011/CMC_hrdps_west_DSWRF_SFC_0_ps2.5km_2014091118_P011-00.grib2"
       ]
      },
      {
       "output_type": "stream",
       "stream": "stdout",
       "text": [
        "\n",
        "../../../GRIB/20140911/18/011/CMC_hrdps_west_APCP_SFC_0_ps2.5km_2014091118_P011-00.grib2\n",
        "../../../GRIB/20140911/18/011/CMC_hrdps_west_SPFH_TGL_2_ps2.5km_2014091118_P011-00.grib2\n",
        "../../../GRIB/20140911/18/011/CMC_hrdps_west_DLWRF_SFC_0_ps2.5km_2014091118_P011-00.grib2"
       ]
      },
      {
       "output_type": "stream",
       "stream": "stdout",
       "text": [
        "\n",
        "../../../GRIB/20140911/18/012/UVrot.grib\n",
        "../../../GRIB/20140911/18/012/CMC_hrdps_west_PRMSL_MSL_0_ps2.5km_2014091118_P012-00.grib2"
       ]
      },
      {
       "output_type": "stream",
       "stream": "stdout",
       "text": [
        "\n",
        "../../../GRIB/20140911/18/012/CMC_hrdps_west_DSWRF_SFC_0_ps2.5km_2014091118_P012-00.grib2\n",
        "../../../GRIB/20140911/18/012/CMC_hrdps_west_SPFH_TGL_2_ps2.5km_2014091118_P012-00.grib2\n",
        "../../../GRIB/20140911/18/012/CMC_hrdps_west_APCP_SFC_0_ps2.5km_2014091118_P012-00.grib2"
       ]
      },
      {
       "output_type": "stream",
       "stream": "stdout",
       "text": [
        "\n",
        "../../../GRIB/20140911/18/012/CMC_hrdps_west_TMP_TGL_2_ps2.5km_2014091118_P012-00.grib2\n",
        "../../../GRIB/20140911/18/012/CMC_hrdps_west_DLWRF_SFC_0_ps2.5km_2014091118_P012-00.grib2\n",
        "../../../GRIB/20140912/06/001/UVrot.grib"
       ]
      },
      {
       "output_type": "stream",
       "stream": "stdout",
       "text": [
        "\n",
        "../../../GRIB/20140912/06/001/CMC_hrdps_west_DSWRF_SFC_0_ps2.5km_2014091206_P001-00.grib2"
       ]
      },
      {
       "output_type": "stream",
       "stream": "stdout",
       "text": [
        "\n",
        "../../../GRIB/20140912/06/001/CMC_hrdps_west_DLWRF_SFC_0_ps2.5km_2014091206_P001-00.grib2\n",
        "../../../GRIB/20140912/06/001/CMC_hrdps_west_PRMSL_MSL_0_ps2.5km_2014091206_P001-00.grib2\n",
        "../../../GRIB/20140912/06/001/CMC_hrdps_west_TMP_TGL_2_ps2.5km_2014091206_P001-00.grib2\n",
        "../../../GRIB/20140912/06/001/CMC_hrdps_west_SPFH_TGL_2_ps2.5km_2014091206_P001-00.grib2"
       ]
      },
      {
       "output_type": "stream",
       "stream": "stdout",
       "text": [
        "\n",
        "../../../GRIB/20140912/06/001/CMC_hrdps_west_APCP_SFC_0_ps2.5km_2014091206_P001-00.grib2\n",
        "../../../GRIB/20140912/06/002/UVrot.grib\n",
        "../../../GRIB/20140912/06/002/CMC_hrdps_west_DLWRF_SFC_0_ps2.5km_2014091206_P002-00.grib2"
       ]
      },
      {
       "output_type": "stream",
       "stream": "stdout",
       "text": [
        "\n",
        "../../../GRIB/20140912/06/002/CMC_hrdps_west_PRMSL_MSL_0_ps2.5km_2014091206_P002-00.grib2\n",
        "../../../GRIB/20140912/06/002/CMC_hrdps_west_APCP_SFC_0_ps2.5km_2014091206_P002-00.grib2\n",
        "../../../GRIB/20140912/06/002/CMC_hrdps_west_TMP_TGL_2_ps2.5km_2014091206_P002-00.grib2\n",
        "../../../GRIB/20140912/06/002/CMC_hrdps_west_SPFH_TGL_2_ps2.5km_2014091206_P002-00.grib2"
       ]
      },
      {
       "output_type": "stream",
       "stream": "stdout",
       "text": [
        "\n",
        "../../../GRIB/20140912/06/002/CMC_hrdps_west_DSWRF_SFC_0_ps2.5km_2014091206_P002-00.grib2\n",
        "../../../GRIB/20140912/06/003/UVrot.grib\n",
        "../../../GRIB/20140912/06/003/CMC_hrdps_west_DSWRF_SFC_0_ps2.5km_2014091206_P003-00.grib2"
       ]
      },
      {
       "output_type": "stream",
       "stream": "stdout",
       "text": [
        "\n",
        "../../../GRIB/20140912/06/003/CMC_hrdps_west_PRMSL_MSL_0_ps2.5km_2014091206_P003-00.grib2\n",
        "../../../GRIB/20140912/06/003/CMC_hrdps_west_APCP_SFC_0_ps2.5km_2014091206_P003-00.grib2\n",
        "../../../GRIB/20140912/06/003/CMC_hrdps_west_SPFH_TGL_2_ps2.5km_2014091206_P003-00.grib2\n",
        "../../../GRIB/20140912/06/003/CMC_hrdps_west_DLWRF_SFC_0_ps2.5km_2014091206_P003-00.grib2"
       ]
      },
      {
       "output_type": "stream",
       "stream": "stdout",
       "text": [
        "\n",
        "../../../GRIB/20140912/06/003/CMC_hrdps_west_TMP_TGL_2_ps2.5km_2014091206_P003-00.grib2\n",
        "../../../GRIB/20140912/06/004/UVrot.grib"
       ]
      },
      {
       "output_type": "stream",
       "stream": "stdout",
       "text": [
        "\n",
        "../../../GRIB/20140912/06/004/CMC_hrdps_west_APCP_SFC_0_ps2.5km_2014091206_P004-00.grib2"
       ]
      },
      {
       "output_type": "stream",
       "stream": "stdout",
       "text": [
        "\n",
        "../../../GRIB/20140912/06/004/CMC_hrdps_west_SPFH_TGL_2_ps2.5km_2014091206_P004-00.grib2\n",
        "../../../GRIB/20140912/06/004/CMC_hrdps_west_PRMSL_MSL_0_ps2.5km_2014091206_P004-00.grib2\n",
        "../../../GRIB/20140912/06/004/CMC_hrdps_west_DSWRF_SFC_0_ps2.5km_2014091206_P004-00.grib2"
       ]
      },
      {
       "output_type": "stream",
       "stream": "stdout",
       "text": [
        "\n",
        "../../../GRIB/20140912/06/004/CMC_hrdps_west_DLWRF_SFC_0_ps2.5km_2014091206_P004-00.grib2\n",
        "../../../GRIB/20140912/06/004/CMC_hrdps_west_TMP_TGL_2_ps2.5km_2014091206_P004-00.grib2\n",
        "../../../GRIB/20140912/06/005/UVrot.grib"
       ]
      },
      {
       "output_type": "stream",
       "stream": "stdout",
       "text": [
        "\n",
        "../../../GRIB/20140912/06/005/CMC_hrdps_west_PRMSL_MSL_0_ps2.5km_2014091206_P005-00.grib2"
       ]
      },
      {
       "output_type": "stream",
       "stream": "stdout",
       "text": [
        "\n",
        "../../../GRIB/20140912/06/005/CMC_hrdps_west_DSWRF_SFC_0_ps2.5km_2014091206_P005-00.grib2\n",
        "../../../GRIB/20140912/06/005/CMC_hrdps_west_SPFH_TGL_2_ps2.5km_2014091206_P005-00.grib2\n",
        "../../../GRIB/20140912/06/005/CMC_hrdps_west_DLWRF_SFC_0_ps2.5km_2014091206_P005-00.grib2"
       ]
      },
      {
       "output_type": "stream",
       "stream": "stdout",
       "text": [
        "\n",
        "../../../GRIB/20140912/06/005/CMC_hrdps_west_TMP_TGL_2_ps2.5km_2014091206_P005-00.grib2\n",
        "../../../GRIB/20140912/06/005/CMC_hrdps_west_APCP_SFC_0_ps2.5km_2014091206_P005-00.grib2"
       ]
      },
      {
       "output_type": "stream",
       "stream": "stdout",
       "text": [
        "\n",
        "../../../GRIB/20140912/06/006/UVrot.grib\n",
        "../../../GRIB/20140912/06/006/CMC_hrdps_west_SPFH_TGL_2_ps2.5km_2014091206_P006-00.grib2"
       ]
      },
      {
       "output_type": "stream",
       "stream": "stdout",
       "text": [
        "\n",
        "../../../GRIB/20140912/06/006/CMC_hrdps_west_PRMSL_MSL_0_ps2.5km_2014091206_P006-00.grib2\n",
        "../../../GRIB/20140912/06/006/CMC_hrdps_west_TMP_TGL_2_ps2.5km_2014091206_P006-00.grib2"
       ]
      },
      {
       "output_type": "stream",
       "stream": "stdout",
       "text": [
        "\n",
        "../../../GRIB/20140912/06/006/CMC_hrdps_west_DSWRF_SFC_0_ps2.5km_2014091206_P006-00.grib2\n",
        "../../../GRIB/20140912/06/006/CMC_hrdps_west_DLWRF_SFC_0_ps2.5km_2014091206_P006-00.grib2\n",
        "../../../GRIB/20140912/06/006/CMC_hrdps_west_APCP_SFC_0_ps2.5km_2014091206_P006-00.grib2"
       ]
      },
      {
       "output_type": "stream",
       "stream": "stdout",
       "text": [
        "\n",
        "../../../GRIB/20140912/06/007/UVrot.grib\n",
        "../../../GRIB/20140912/06/007/CMC_hrdps_west_SPFH_TGL_2_ps2.5km_2014091206_P007-00.grib2"
       ]
      },
      {
       "output_type": "stream",
       "stream": "stdout",
       "text": [
        "\n",
        "../../../GRIB/20140912/06/007/CMC_hrdps_west_DSWRF_SFC_0_ps2.5km_2014091206_P007-00.grib2\n",
        "../../../GRIB/20140912/06/007/CMC_hrdps_west_TMP_TGL_2_ps2.5km_2014091206_P007-00.grib2\n",
        "../../../GRIB/20140912/06/007/CMC_hrdps_west_APCP_SFC_0_ps2.5km_2014091206_P007-00.grib2"
       ]
      },
      {
       "output_type": "stream",
       "stream": "stdout",
       "text": [
        "\n",
        "../../../GRIB/20140912/06/007/CMC_hrdps_west_PRMSL_MSL_0_ps2.5km_2014091206_P007-00.grib2\n",
        "../../../GRIB/20140912/06/007/CMC_hrdps_west_DLWRF_SFC_0_ps2.5km_2014091206_P007-00.grib2\n",
        "../../../GRIB/20140912/06/008/UVrot.grib"
       ]
      },
      {
       "output_type": "stream",
       "stream": "stdout",
       "text": [
        "\n",
        "../../../GRIB/20140912/06/008/CMC_hrdps_west_APCP_SFC_0_ps2.5km_2014091206_P008-00.grib2"
       ]
      },
      {
       "output_type": "stream",
       "stream": "stdout",
       "text": [
        "\n",
        "../../../GRIB/20140912/06/008/CMC_hrdps_west_DLWRF_SFC_0_ps2.5km_2014091206_P008-00.grib2\n",
        "../../../GRIB/20140912/06/008/CMC_hrdps_west_PRMSL_MSL_0_ps2.5km_2014091206_P008-00.grib2\n",
        "../../../GRIB/20140912/06/008/CMC_hrdps_west_DSWRF_SFC_0_ps2.5km_2014091206_P008-00.grib2\n",
        "../../../GRIB/20140912/06/008/CMC_hrdps_west_SPFH_TGL_2_ps2.5km_2014091206_P008-00.grib2"
       ]
      },
      {
       "output_type": "stream",
       "stream": "stdout",
       "text": [
        "\n",
        "../../../GRIB/20140912/06/008/CMC_hrdps_west_TMP_TGL_2_ps2.5km_2014091206_P008-00.grib2\n",
        "../../../GRIB/20140912/06/009/UVrot.grib"
       ]
      },
      {
       "output_type": "stream",
       "stream": "stdout",
       "text": [
        "\n",
        "../../../GRIB/20140912/06/009/CMC_hrdps_west_TMP_TGL_2_ps2.5km_2014091206_P009-00.grib2"
       ]
      },
      {
       "output_type": "stream",
       "stream": "stdout",
       "text": [
        "\n",
        "../../../GRIB/20140912/06/009/CMC_hrdps_west_SPFH_TGL_2_ps2.5km_2014091206_P009-00.grib2\n",
        "../../../GRIB/20140912/06/009/CMC_hrdps_west_DLWRF_SFC_0_ps2.5km_2014091206_P009-00.grib2"
       ]
      },
      {
       "output_type": "stream",
       "stream": "stdout",
       "text": [
        "\n",
        "../../../GRIB/20140912/06/009/CMC_hrdps_west_APCP_SFC_0_ps2.5km_2014091206_P009-00.grib2\n",
        "../../../GRIB/20140912/06/009/CMC_hrdps_west_DSWRF_SFC_0_ps2.5km_2014091206_P009-00.grib2\n",
        "../../../GRIB/20140912/06/009/CMC_hrdps_west_PRMSL_MSL_0_ps2.5km_2014091206_P009-00.grib2"
       ]
      },
      {
       "output_type": "stream",
       "stream": "stdout",
       "text": [
        "\n",
        "../../../GRIB/20140912/06/010/UVrot.grib\n",
        "../../../GRIB/20140912/06/010/CMC_hrdps_west_TMP_TGL_2_ps2.5km_2014091206_P010-00.grib2"
       ]
      },
      {
       "output_type": "stream",
       "stream": "stdout",
       "text": [
        "\n",
        "../../../GRIB/20140912/06/010/CMC_hrdps_west_SPFH_TGL_2_ps2.5km_2014091206_P010-00.grib2\n",
        "../../../GRIB/20140912/06/010/CMC_hrdps_west_APCP_SFC_0_ps2.5km_2014091206_P010-00.grib2"
       ]
      },
      {
       "output_type": "stream",
       "stream": "stdout",
       "text": [
        "\n",
        "../../../GRIB/20140912/06/010/CMC_hrdps_west_PRMSL_MSL_0_ps2.5km_2014091206_P010-00.grib2\n",
        "../../../GRIB/20140912/06/010/CMC_hrdps_west_DSWRF_SFC_0_ps2.5km_2014091206_P010-00.grib2\n",
        "../../../GRIB/20140912/06/010/CMC_hrdps_west_DLWRF_SFC_0_ps2.5km_2014091206_P010-00.grib2"
       ]
      },
      {
       "output_type": "stream",
       "stream": "stdout",
       "text": [
        "\n",
        "../../../GRIB/20140912/06/011/UVrot.grib\n",
        "../../../GRIB/20140912/06/011/CMC_hrdps_west_SPFH_TGL_2_ps2.5km_2014091206_P011-00.grib2"
       ]
      },
      {
       "output_type": "stream",
       "stream": "stdout",
       "text": [
        "\n",
        "../../../GRIB/20140912/06/011/CMC_hrdps_west_TMP_TGL_2_ps2.5km_2014091206_P011-00.grib2\n",
        "../../../GRIB/20140912/06/011/CMC_hrdps_west_DSWRF_SFC_0_ps2.5km_2014091206_P011-00.grib2"
       ]
      },
      {
       "output_type": "stream",
       "stream": "stdout",
       "text": [
        "\n",
        "../../../GRIB/20140912/06/011/CMC_hrdps_west_DLWRF_SFC_0_ps2.5km_2014091206_P011-00.grib2\n",
        "../../../GRIB/20140912/06/011/CMC_hrdps_west_APCP_SFC_0_ps2.5km_2014091206_P011-00.grib2\n",
        "../../../GRIB/20140912/06/011/CMC_hrdps_west_PRMSL_MSL_0_ps2.5km_2014091206_P011-00.grib2\n",
        "../../../GRIB/20140912/06/012/UVrot.grib"
       ]
      },
      {
       "output_type": "stream",
       "stream": "stdout",
       "text": [
        "\n",
        "../../../GRIB/20140912/06/012/CMC_hrdps_west_TMP_TGL_2_ps2.5km_2014091206_P012-00.grib2"
       ]
      },
      {
       "output_type": "stream",
       "stream": "stdout",
       "text": [
        "\n",
        "../../../GRIB/20140912/06/012/CMC_hrdps_west_SPFH_TGL_2_ps2.5km_2014091206_P012-00.grib2\n",
        "../../../GRIB/20140912/06/012/CMC_hrdps_west_DLWRF_SFC_0_ps2.5km_2014091206_P012-00.grib2"
       ]
      },
      {
       "output_type": "stream",
       "stream": "stdout",
       "text": [
        "\n",
        "../../../GRIB/20140912/06/012/CMC_hrdps_west_DSWRF_SFC_0_ps2.5km_2014091206_P012-00.grib2\n",
        "../../../GRIB/20140912/06/012/CMC_hrdps_west_PRMSL_MSL_0_ps2.5km_2014091206_P012-00.grib2\n",
        "../../../GRIB/20140912/06/012/CMC_hrdps_west_APCP_SFC_0_ps2.5km_2014091206_P012-00.grib2"
       ]
      },
      {
       "output_type": "stream",
       "stream": "stdout",
       "text": [
        "\n",
        "../../../GRIB/20140912/18/001/UVrot.grib\n",
        "../../../GRIB/20140912/18/001/CMC_hrdps_west_PRMSL_MSL_0_ps2.5km_2014091218_P001-00.grib2"
       ]
      },
      {
       "output_type": "stream",
       "stream": "stdout",
       "text": [
        "\n",
        "../../../GRIB/20140912/18/001/CMC_hrdps_west_TMP_TGL_2_ps2.5km_2014091218_P001-00.grib2\n",
        "../../../GRIB/20140912/18/001/CMC_hrdps_west_SPFH_TGL_2_ps2.5km_2014091218_P001-00.grib2\n",
        "../../../GRIB/20140912/18/001/CMC_hrdps_west_DLWRF_SFC_0_ps2.5km_2014091218_P001-00.grib2"
       ]
      },
      {
       "output_type": "stream",
       "stream": "stdout",
       "text": [
        "\n",
        "../../../GRIB/20140912/18/001/CMC_hrdps_west_DSWRF_SFC_0_ps2.5km_2014091218_P001-00.grib2\n",
        "../../../GRIB/20140912/18/001/CMC_hrdps_west_APCP_SFC_0_ps2.5km_2014091218_P001-00.grib2\n",
        "../../../GRIB/20140912/18/002/UVrot.grib\n",
        "../../../GRIB/20140912/18/002/CMC_hrdps_west_APCP_SFC_0_ps2.5km_2014091218_P002-00.grib2"
       ]
      },
      {
       "output_type": "stream",
       "stream": "stdout",
       "text": [
        "\n",
        "../../../GRIB/20140912/18/002/CMC_hrdps_west_TMP_TGL_2_ps2.5km_2014091218_P002-00.grib2\n",
        "../../../GRIB/20140912/18/002/CMC_hrdps_west_SPFH_TGL_2_ps2.5km_2014091218_P002-00.grib2\n",
        "../../../GRIB/20140912/18/002/CMC_hrdps_west_DLWRF_SFC_0_ps2.5km_2014091218_P002-00.grib2"
       ]
      },
      {
       "output_type": "stream",
       "stream": "stdout",
       "text": [
        "\n",
        "../../../GRIB/20140912/18/002/CMC_hrdps_west_DSWRF_SFC_0_ps2.5km_2014091218_P002-00.grib2\n",
        "../../../GRIB/20140912/18/002/CMC_hrdps_west_PRMSL_MSL_0_ps2.5km_2014091218_P002-00.grib2\n",
        "../../../GRIB/20140912/18/003/UVrot.grib"
       ]
      },
      {
       "output_type": "stream",
       "stream": "stdout",
       "text": [
        "\n",
        "../../../GRIB/20140912/18/003/CMC_hrdps_west_SPFH_TGL_2_ps2.5km_2014091218_P003-00.grib2"
       ]
      },
      {
       "output_type": "stream",
       "stream": "stdout",
       "text": [
        "\n",
        "../../../GRIB/20140912/18/003/CMC_hrdps_west_DLWRF_SFC_0_ps2.5km_2014091218_P003-00.grib2\n",
        "../../../GRIB/20140912/18/003/CMC_hrdps_west_APCP_SFC_0_ps2.5km_2014091218_P003-00.grib2\n",
        "../../../GRIB/20140912/18/003/CMC_hrdps_west_PRMSL_MSL_0_ps2.5km_2014091218_P003-00.grib2"
       ]
      },
      {
       "output_type": "stream",
       "stream": "stdout",
       "text": [
        "\n",
        "../../../GRIB/20140912/18/003/CMC_hrdps_west_DSWRF_SFC_0_ps2.5km_2014091218_P003-00.grib2\n",
        "../../../GRIB/20140912/18/003/CMC_hrdps_west_TMP_TGL_2_ps2.5km_2014091218_P003-00.grib2\n",
        "../../../GRIB/20140912/18/004/UVrot.grib"
       ]
      },
      {
       "output_type": "stream",
       "stream": "stdout",
       "text": [
        "\n",
        "../../../GRIB/20140912/18/004/CMC_hrdps_west_DLWRF_SFC_0_ps2.5km_2014091218_P004-00.grib2"
       ]
      },
      {
       "output_type": "stream",
       "stream": "stdout",
       "text": [
        "\n",
        "../../../GRIB/20140912/18/004/CMC_hrdps_west_DSWRF_SFC_0_ps2.5km_2014091218_P004-00.grib2\n",
        "../../../GRIB/20140912/18/004/CMC_hrdps_west_PRMSL_MSL_0_ps2.5km_2014091218_P004-00.grib2\n",
        "../../../GRIB/20140912/18/004/CMC_hrdps_west_SPFH_TGL_2_ps2.5km_2014091218_P004-00.grib2"
       ]
      },
      {
       "output_type": "stream",
       "stream": "stdout",
       "text": [
        "\n",
        "../../../GRIB/20140912/18/004/CMC_hrdps_west_TMP_TGL_2_ps2.5km_2014091218_P004-00.grib2\n",
        "../../../GRIB/20140912/18/004/CMC_hrdps_west_APCP_SFC_0_ps2.5km_2014091218_P004-00.grib2"
       ]
      },
      {
       "output_type": "stream",
       "stream": "stdout",
       "text": [
        "\n",
        "../../../GRIB/20140912/18/005/UVrot.grib\n",
        "../../../GRIB/20140912/18/005/CMC_hrdps_west_APCP_SFC_0_ps2.5km_2014091218_P005-00.grib2"
       ]
      },
      {
       "output_type": "stream",
       "stream": "stdout",
       "text": [
        "\n",
        "../../../GRIB/20140912/18/005/CMC_hrdps_west_PRMSL_MSL_0_ps2.5km_2014091218_P005-00.grib2\n",
        "../../../GRIB/20140912/18/005/CMC_hrdps_west_DSWRF_SFC_0_ps2.5km_2014091218_P005-00.grib2\n",
        "../../../GRIB/20140912/18/005/CMC_hrdps_west_DLWRF_SFC_0_ps2.5km_2014091218_P005-00.grib2\n",
        "../../../GRIB/20140912/18/005/CMC_hrdps_west_SPFH_TGL_2_ps2.5km_2014091218_P005-00.grib2"
       ]
      },
      {
       "output_type": "stream",
       "stream": "stdout",
       "text": [
        "\n",
        "../../../GRIB/20140912/18/005/CMC_hrdps_west_TMP_TGL_2_ps2.5km_2014091218_P005-00.grib2\n"
       ]
      }
     ],
     "prompt_number": 14
    },
    {
     "cell_type": "heading",
     "level": 3,
     "metadata": {},
     "source": [
      "2. Convert to NetCDF"
     ]
    },
    {
     "cell_type": "markdown",
     "metadata": {},
     "source": [
      "Key command is ./wgrib2 outgrib -netcdf outnetcdf"
     ]
    },
    {
     "cell_type": "code",
     "collapsed": false,
     "input": [
      "print sp.check_output([\"./wgrib2\",outgrib,\"-vt\"])"
     ],
     "language": "python",
     "metadata": {},
     "outputs": [
      {
       "output_type": "stream",
       "stream": "stdout",
       "text": [
        "1:0:vt=2014091200\n",
        "2:498510:vt=2014091200\n",
        "3:997020:vt=2014091200\n",
        "4:1115245:vt=2014091200\n",
        "5:1349931:vt=2014091200\n",
        "6:1473238:vt=2014091200\n",
        "7:1735889:vt=2014091200\n",
        "8:1859158:vt=2014091200\n",
        "9:1885097:vt=2014091201\n",
        "10:2383607:vt=2014091201\n",
        "11:2882117:vt=2014091201\n",
        "12:2909751:vt=2014091201\n",
        "13:3173586:vt=2014091201\n",
        "14:3294173:vt=2014091201\n",
        "15:3421278:vt=2014091201\n",
        "16:3543092:vt=2014091201\n",
        "17:3780695:vt=2014091202\n",
        "18:4279205:vt=2014091202\n",
        "19:4819243:vt=2014091202\n",
        "20:4848327:vt=2014091202\n",
        "21:4974384:vt=2014091202\n",
        "22:5097946:vt=2014091202\n",
        "23:5327173:vt=2014091202\n",
        "24:5461011:vt=2014091202\n",
        "25:5726615:vt=2014091203\n",
        "26:6225125:vt=2014091203\n",
        "27:6723635:vt=2014091203\n",
        "28:6993764:vt=2014091203\n",
        "29:7218896:vt=2014091203\n",
        "30:7349749:vt=2014091203\n",
        "31:7380299:vt=2014091203\n",
        "32:7504214:vt=2014091203\n",
        "33:7616980:vt=2014091204\n",
        "34:8115490:vt=2014091204\n",
        "35:8614000:vt=2014091204\n",
        "36:8733047:vt=2014091204\n",
        "37:9008511:vt=2014091204\n",
        "38:9143612:vt=2014091204\n",
        "39:9267505:vt=2014091204\n",
        "40:9493500:vt=2014091204\n",
        "41:9525078:vt=2014091205\n",
        "42:10023588:vt=2014091205\n",
        "43:10522098:vt=2014091205\n",
        "44:10645117:vt=2014091205\n",
        "45:10924766:vt=2014091205\n",
        "46:11048659:vt=2014091205\n",
        "47:11081220:vt=2014091205\n",
        "48:11308401:vt=2014091205\n",
        "49:11451375:vt=2014091206\n",
        "50:11949885:vt=2014091206\n",
        "51:12448395:vt=2014091206\n",
        "52:12573523:vt=2014091206\n",
        "53:12697416:vt=2014091206\n",
        "54:12925756:vt=2014091206\n",
        "55:12959341:vt=2014091206\n",
        "56:13241409:vt=2014091206\n",
        "57:13387941:vt=2014091207\n",
        "58:13886451:vt=2014091207\n",
        "59:14384961:vt=2014091207\n",
        "60:14385159:vt=2014091207\n",
        "61:14495256:vt=2014091207\n",
        "62:14616503:vt=2014091207\n",
        "63:14881936:vt=2014091207\n",
        "64:15093329:vt=2014091207\n",
        "65:15098107:vt=2014091208\n",
        "66:15596617:vt=2014091208\n",
        "67:16095127:vt=2014091208\n",
        "68:16218748:vt=2014091208\n",
        "69:16343775:vt=2014091208\n",
        "70:16353764:vt=2014091208\n",
        "71:16628712:vt=2014091208\n",
        "72:16849547:vt=2014091208\n",
        "73:16849745:vt=2014091209\n",
        "74:17348255:vt=2014091209\n",
        "75:17846765:vt=2014091209\n",
        "76:17846963:vt=2014091209\n",
        "77:17973977:vt=2014091209\n",
        "78:17987115:vt=2014091209\n",
        "79:18212519:vt=2014091209\n",
        "80:18328031:vt=2014091209\n",
        "81:18608267:vt=2014091210\n",
        "82:19106777:vt=2014091210\n",
        "83:19605287:vt=2014091210\n",
        "84:19624161:vt=2014091210\n",
        "85:19852429:vt=2014091210\n",
        "86:19980216:vt=2014091210\n",
        "87:19980414:vt=2014091210\n",
        "88:20109328:vt=2014091210\n",
        "89:20391913:vt=2014091211\n",
        "90:20890423:vt=2014091211\n",
        "91:21388933:vt=2014091211\n",
        "92:21516927:vt=2014091211\n",
        "93:21517125:vt=2014091211\n",
        "94:21747108:vt=2014091211\n",
        "95:21887450:vt=2014091211\n",
        "96:22171017:vt=2014091211\n",
        "97:22195350:vt=2014091212\n",
        "98:22693860:vt=2014091212\n",
        "99:23192370:vt=2014091212\n",
        "100:23423094:vt=2014091212\n",
        "101:23550738:vt=2014091212\n",
        "102:23834701:vt=2014091212\n",
        "103:23834899:vt=2014091212\n",
        "104:23953384:vt=2014091212\n",
        "105:23983611:vt=2014091213\n",
        "106:24482121:vt=2014091213\n",
        "107:24980631:vt=2014091213\n",
        "108:25211226:vt=2014091213\n",
        "109:25221544:vt=2014091213\n",
        "110:25505094:vt=2014091213\n",
        "111:25541122:vt=2014091213\n",
        "112:25668203:vt=2014091213\n",
        "113:25784386:vt=2014091214\n",
        "114:26282896:vt=2014091214\n",
        "115:26781406:vt=2014091214\n",
        "116:26822937:vt=2014091214\n",
        "117:26944934:vt=2014091214\n",
        "118:27070757:vt=2014091214\n",
        "119:27138605:vt=2014091214\n",
        "120:27367200:vt=2014091214\n",
        "121:27648679:vt=2014091215\n",
        "122:28147189:vt=2014091215\n",
        "123:28645699:vt=2014091215\n",
        "124:28915131:vt=2014091215\n",
        "125:29144722:vt=2014091215\n",
        "126:29271882:vt=2014091215\n",
        "127:29318051:vt=2014091215\n",
        "128:29408584:vt=2014091215\n",
        "129:29558915:vt=2014091216\n",
        "130:30057425:vt=2014091216\n",
        "131:30555935:vt=2014091216\n",
        "132:30809569:vt=2014091216\n",
        "133:31036493:vt=2014091216\n",
        "134:31086779:vt=2014091216\n",
        "135:31215070:vt=2014091216\n",
        "136:31317016:vt=2014091216\n",
        "137:31448219:vt=2014091217\n",
        "138:31946729:vt=2014091217\n",
        "139:32445239:vt=2014091217\n",
        "140:32711555:vt=2014091217\n",
        "141:32964026:vt=2014091217\n",
        "142:33062607:vt=2014091217\n",
        "143:33201340:vt=2014091217\n",
        "144:33255297:vt=2014091217\n",
        "145:33375247:vt=2014091218\n",
        "146:33873757:vt=2014091218\n",
        "147:34372267:vt=2014091218\n",
        "148:34628913:vt=2014091218\n",
        "149:34897438:vt=2014091218\n",
        "150:35039146:vt=2014091218\n",
        "151:35146695:vt=2014091218\n",
        "152:35262988:vt=2014091218\n",
        "153:35319880:vt=2014091219\n",
        "154:35818390:vt=2014091219\n",
        "155:36316900:vt=2014091219\n",
        "156:36429165:vt=2014091219\n",
        "157:36687906:vt=2014091219\n",
        "158:36946605:vt=2014091219\n",
        "159:37060242:vt=2014091219\n",
        "160:37157861:vt=2014091219\n",
        "161:37177591:vt=2014091220\n",
        "162:37676101:vt=2014091220\n",
        "163:38174611:vt=2014091220\n",
        "164:38196986:vt=2014091220\n",
        "165:38460705:vt=2014091220\n",
        "166:38727501:vt=2014091220\n",
        "167:38855381:vt=2014091220\n",
        "168:38952898:vt=2014091220\n",
        "169:39067646:vt=2014091221\n",
        "170:39566156:vt=2014091221\n",
        "171:40064666:vt=2014091221\n",
        "172:40334956:vt=2014091221\n",
        "173:40454586:vt=2014091221\n",
        "174:40484629:vt=2014091221\n",
        "175:40601397:vt=2014091221\n",
        "176:40717542:vt=2014091221\n",
        "177:40982976:vt=2014091222\n",
        "178:41481486:vt=2014091222\n",
        "179:41979996:vt=2014091222\n",
        "180:42113875:vt=2014091222\n",
        "181:42214610:vt=2014091222\n",
        "182:42333978:vt=2014091222\n",
        "183:42605870:vt=2014091222\n",
        "184:42871693:vt=2014091222\n",
        "185:42896381:vt=2014091223\n",
        "186:43394891:vt=2014091223\n",
        "187:43893401:vt=2014091223\n",
        "188:43922846:vt=2014091223\n",
        "189:44043827:vt=2014091223\n",
        "190:44152195:vt=2014091223\n",
        "191:44297339:vt=2014091223\n",
        "192:44529694:vt=2014091223\n",
        "\n"
       ]
      }
     ],
     "prompt_number": 15
    },
    {
     "cell_type": "code",
     "collapsed": false,
     "input": [
      "outnetcdf = OPERdir+'oper_allvar_y2014m09d12.nc'\n",
      "sp.call([\"./wgrib2\",outgrib,\"-netcdf\",outnetcdf])"
     ],
     "language": "python",
     "metadata": {},
     "outputs": [
      {
       "metadata": {},
       "output_type": "pyout",
       "prompt_number": 16,
       "text": [
        "8"
       ]
      }
     ],
     "prompt_number": 16
    }
   ],
   "metadata": {}
  }
 ]
}