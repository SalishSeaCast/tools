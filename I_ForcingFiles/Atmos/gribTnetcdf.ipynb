{
 "metadata": {
  "name": "",
  "signature": "sha256:9dcf05705eb7e3b001c796724ef7e3939686b01a70d8388e7e4a7b851448667e"
 },
 "nbformat": 3,
 "nbformat_minor": 0,
 "worksheets": [
  {
   "cells": [
    {
     "cell_type": "markdown",
     "metadata": {},
     "source": [
      "Notebook to convert grib2 files to netCDF files that can be used in NEMO\n",
      "Makes use of wgrib2"
     ]
    },
    {
     "cell_type": "heading",
     "level": 2,
     "metadata": {},
     "source": [
      "GRIB2 Conversion to NetCDF"
     ]
    },
    {
     "cell_type": "code",
     "collapsed": false,
     "input": [
      "import glob\n",
      "%matplotlib inline\n",
      "import matplotlib.pyplot as plt\n",
      "import netCDF4 as nc\n",
      "import numpy as np\n",
      "import os\n",
      "from salishsea_tools import nc_tools\n",
      "import subprocess as sp\n",
      "import gribTnetcdf"
     ],
     "language": "python",
     "metadata": {},
     "outputs": [
      {
       "output_type": "stream",
       "stream": "stderr",
       "text": [
        "/home/sallen/anaconda/lib/python2.7/site-packages/matplotlib/__init__.py:1256: UserWarning:  This call to matplotlib.use() has no effect\n",
        "because the backend has already been chosen;\n",
        "matplotlib.use() must be called *before* pylab, matplotlib.pyplot,\n",
        "or matplotlib.backends is imported for the first time.\n",
        "\n",
        "  warnings.warn(_use_error_msg)\n"
       ]
      }
     ],
     "prompt_number": 1
    },
    {
     "cell_type": "code",
     "collapsed": false,
     "input": [
      "reload(gribTnetcdf)"
     ],
     "language": "python",
     "metadata": {},
     "outputs": [
      {
       "metadata": {},
       "output_type": "pyout",
       "prompt_number": 76,
       "text": [
        "<module 'gribTnetcdf' from 'gribTnetcdf.py'>"
       ]
      }
     ],
     "prompt_number": 76
    },
    {
     "cell_type": "heading",
     "level": 3,
     "metadata": {},
     "source": [
      "1. Chose the Files"
     ]
    },
    {
     "cell_type": "markdown",
     "metadata": {},
     "source": [
      "Note that nn addition we need the previous forecast for the first section to calculate differences for accumulated variables (hence the -1)\n",
      "\n",
      "The files required depend on whether we are doing the nowcast+forecast files or the forecast2 files.\n",
      "\n",
      "For the nowcast+forecast we use:\n",
      "- for today: 18 hour forecast from the previous day for the first hour, the 00 forecast for the next 12 hours and the 12 forecast for the last 11 hours\n",
      "- for tomorrow: 12 forecast\n",
      "- for the next day: 12 forecast\n",
      "\n",
      "For the forecast2 we use:\n",
      "- for tomorrow: 06 forecast\n",
      "- for the next day: 06 forecast"
     ]
    },
    {
     "cell_type": "code",
     "collapsed": false,
     "input": [
      "GRIBdir = '../../../GRIB/'\n",
      "OPERdir = '../../../Operational/'\n",
      "ymd = 'y2014m10d12'\n",
      "HoursWeNeed = {\n",
      "    'part one':  ('20141011/18/', 24-18-1, 24+6-18),\n",
      "    'part two':  ('20141012/06/', 7-6, 18-6),\n",
      "    'part three':('20141012/18/', 19-18, 23-18),\n",
      "}\n"
     ],
     "language": "python",
     "metadata": {},
     "outputs": [],
     "prompt_number": 77
    },
    {
     "cell_type": "heading",
     "level": 3,
     "metadata": {},
     "source": [
      "1b. Chose the Size"
     ]
    },
    {
     "cell_type": "code",
     "collapsed": false,
     "input": [
      "#size = 'full'\n",
      "#size = 'pramod'\n",
      "size = 'watershed'\n",
      "if size == 'full':\n",
      "    fileextra = 'fsize'\n",
      "elif size == 'pramod':\n",
      "    fileextra = '_pramod'\n",
      "    ist = 1; ien = 300\n",
      "    jst = 1; jen = 300\n",
      "elif size == 'watershed':  # see AtmosphericGridSelection.ipynb\n",
      "    fileextra = ''\n",
      "    ist = 110; ien = 365\n",
      "    jst = 20; jen = 285"
     ],
     "language": "python",
     "metadata": {},
     "outputs": [],
     "prompt_number": 47
    },
    {
     "cell_type": "heading",
     "level": 2,
     "metadata": {},
     "source": [
      "Run it"
     ]
    },
    {
     "cell_type": "code",
     "collapsed": false,
     "input": [
      "gribTnetcdf.process_gribUV(GRIBdir,HoursWeNeed)\n",
      "gribTnetcdf.process_gribscalar(GRIBdir,HoursWeNeed)\n",
      "outgrib, outzeros = gribTnetcdf.GRIBappend(OPERdir, GRIBdir, ymd, HoursWeNeed)\n",
      "if size != 'full':\n",
      "    outgrib, outzeros = gribTnetcdf.subsample(OPERdir,ymd, ist, ien, jst, jen, outgrib, outzeros)\n",
      "outnetcdf,out0netcdf = gribTnetcdf.makeCDF(OPERdir, ymd, fileextra, outgrib, outzeros)\n",
      "gribTnetcdf.processCDF(outnetcdf, out0netcdf)\n",
      "gribTnetcdf.renameCDF(outnetcdf)"
     ],
     "language": "python",
     "metadata": {},
     "outputs": [
      {
       "output_type": "stream",
       "stream": "stdout",
       "text": [
        "005\n",
        "1:0:vt=2014101123\n"
       ]
      },
      {
       "output_type": "stream",
       "stream": "stdout",
       "text": [
        "\n",
        "006"
       ]
      },
      {
       "output_type": "stream",
       "stream": "stdout",
       "text": [
        "\n",
        "1:0:vt=2014101200\n"
       ]
      },
      {
       "output_type": "stream",
       "stream": "stdout",
       "text": [
        "\n",
        "007"
       ]
      },
      {
       "output_type": "stream",
       "stream": "stdout",
       "text": [
        "\n",
        "1:0:vt=2014101201\n"
       ]
      },
      {
       "output_type": "stream",
       "stream": "stdout",
       "text": [
        "\n",
        "008"
       ]
      },
      {
       "output_type": "stream",
       "stream": "stdout",
       "text": [
        "\n",
        "1:0:vt=2014101202\n"
       ]
      },
      {
       "output_type": "stream",
       "stream": "stdout",
       "text": [
        "\n",
        "009"
       ]
      },
      {
       "output_type": "stream",
       "stream": "stdout",
       "text": [
        "\n",
        "1:0:vt=2014101203\n"
       ]
      },
      {
       "output_type": "stream",
       "stream": "stdout",
       "text": [
        "\n",
        "010"
       ]
      },
      {
       "output_type": "stream",
       "stream": "stdout",
       "text": [
        "\n",
        "1:0:vt=2014101204\n"
       ]
      },
      {
       "output_type": "stream",
       "stream": "stdout",
       "text": [
        "\n",
        "011"
       ]
      },
      {
       "output_type": "stream",
       "stream": "stdout",
       "text": [
        "\n",
        "1:0:vt=2014101205\n"
       ]
      },
      {
       "output_type": "stream",
       "stream": "stdout",
       "text": [
        "\n",
        "012"
       ]
      },
      {
       "output_type": "stream",
       "stream": "stdout",
       "text": [
        "\n",
        "1:0:vt=2014101206\n"
       ]
      },
      {
       "output_type": "stream",
       "stream": "stdout",
       "text": [
        "\n",
        "001"
       ]
      },
      {
       "output_type": "stream",
       "stream": "stdout",
       "text": [
        "\n",
        "1:0:vt=2014101207\n"
       ]
      },
      {
       "output_type": "stream",
       "stream": "stdout",
       "text": [
        "\n",
        "002"
       ]
      },
      {
       "output_type": "stream",
       "stream": "stdout",
       "text": [
        "\n",
        "1:0:vt=2014101208\n"
       ]
      },
      {
       "output_type": "stream",
       "stream": "stdout",
       "text": [
        "\n",
        "003"
       ]
      },
      {
       "output_type": "stream",
       "stream": "stdout",
       "text": [
        "\n",
        "1:0:vt=2014101209\n"
       ]
      },
      {
       "output_type": "stream",
       "stream": "stdout",
       "text": [
        "\n",
        "004"
       ]
      },
      {
       "output_type": "stream",
       "stream": "stdout",
       "text": [
        "\n",
        "1:0:vt=2014101210\n"
       ]
      },
      {
       "output_type": "stream",
       "stream": "stdout",
       "text": [
        "\n",
        "005"
       ]
      },
      {
       "output_type": "stream",
       "stream": "stdout",
       "text": [
        "\n",
        "1:0:vt=2014101211\n"
       ]
      },
      {
       "output_type": "stream",
       "stream": "stdout",
       "text": [
        "\n",
        "006"
       ]
      },
      {
       "output_type": "stream",
       "stream": "stdout",
       "text": [
        "\n",
        "1:0:vt=2014101212\n"
       ]
      },
      {
       "output_type": "stream",
       "stream": "stdout",
       "text": [
        "\n",
        "007"
       ]
      },
      {
       "output_type": "stream",
       "stream": "stdout",
       "text": [
        "\n",
        "1:0:vt=2014101213\n"
       ]
      },
      {
       "output_type": "stream",
       "stream": "stdout",
       "text": [
        "\n",
        "008"
       ]
      },
      {
       "output_type": "stream",
       "stream": "stdout",
       "text": [
        "\n",
        "1:0:vt=2014101214\n"
       ]
      },
      {
       "output_type": "stream",
       "stream": "stdout",
       "text": [
        "\n",
        "009"
       ]
      },
      {
       "output_type": "stream",
       "stream": "stdout",
       "text": [
        "\n",
        "1:0:vt=2014101215\n"
       ]
      },
      {
       "output_type": "stream",
       "stream": "stdout",
       "text": [
        "\n",
        "010"
       ]
      },
      {
       "output_type": "stream",
       "stream": "stdout",
       "text": [
        "\n",
        "1:0:vt=2014101216\n"
       ]
      },
      {
       "output_type": "stream",
       "stream": "stdout",
       "text": [
        "\n",
        "011"
       ]
      },
      {
       "output_type": "stream",
       "stream": "stdout",
       "text": [
        "\n",
        "1:0:vt=2014101217\n"
       ]
      },
      {
       "output_type": "stream",
       "stream": "stdout",
       "text": [
        "\n",
        "012"
       ]
      },
      {
       "output_type": "stream",
       "stream": "stdout",
       "text": [
        "\n",
        "1:0:vt=2014101218\n"
       ]
      },
      {
       "output_type": "stream",
       "stream": "stdout",
       "text": [
        "\n",
        "001"
       ]
      },
      {
       "output_type": "stream",
       "stream": "stdout",
       "text": [
        "\n",
        "1:0:vt=2014101219\n"
       ]
      },
      {
       "output_type": "stream",
       "stream": "stdout",
       "text": [
        "\n",
        "002"
       ]
      },
      {
       "output_type": "stream",
       "stream": "stdout",
       "text": [
        "\n",
        "1:0:vt=2014101220\n"
       ]
      },
      {
       "output_type": "stream",
       "stream": "stdout",
       "text": [
        "\n",
        "003"
       ]
      },
      {
       "output_type": "stream",
       "stream": "stdout",
       "text": [
        "\n",
        "1:0:vt=2014101221\n"
       ]
      },
      {
       "output_type": "stream",
       "stream": "stdout",
       "text": [
        "\n",
        "004"
       ]
      },
      {
       "output_type": "stream",
       "stream": "stdout",
       "text": [
        "\n",
        "1:0:vt=2014101222\n"
       ]
      },
      {
       "output_type": "stream",
       "stream": "stdout",
       "text": [
        "\n",
        "005"
       ]
      },
      {
       "output_type": "stream",
       "stream": "stdout",
       "text": [
        "\n",
        "1:0:vt=2014101223\n"
       ]
      },
      {
       "output_type": "stream",
       "stream": "stdout",
       "text": [
        "\n",
        "../../../GRIB/20141011/18/005/UVrot.grib"
       ]
      },
      {
       "output_type": "stream",
       "stream": "stdout",
       "text": [
        " ../../../GRIB/20141011/18/005/gscalar.grib\n",
        "../../../Operational/oper_allvar_small_y2014m10d12.grib"
       ]
      },
      {
       "output_type": "stream",
       "stream": "stdout",
       "text": [
        " ../../../Operational/oper_000_small_y2014m10d12.grib\n",
        "[u'y', u'x', u'latitude', u'longitude', u'time', u'UGRD_10maboveground', u'VGRD_10maboveground', u'PRMSL_meansealevel', u'DSWRF_surface', u'TMP_2maboveground', u'APCP_surface', u'DLWRF_surface', u'SPFH_2maboveground']"
       ]
      },
      {
       "output_type": "stream",
       "stream": "stdout",
       "text": [
        "\n",
        "[u'y', u'x', 'nav_lat', 'nav_lon', 'time_counter', 'u_wind', 'v_wind', 'solar', 'qair', 'therm_rad', 'tair', 'atmpres', 'precip']"
       ]
      },
      {
       "output_type": "stream",
       "stream": "stdout",
       "text": [
        "\n"
       ]
      },
      {
       "metadata": {},
       "output_type": "display_data",
       "png": "[encoded data removed]",
       "text": [
        "<matplotlib.figure.Figure at 0x3252c10>"
       ]
      }
     ],
     "prompt_number": 78
    },
    {
     "cell_type": "heading",
     "level": 3,
     "metadata": {},
     "source": [
      "2. Twist u,v wind speed from grid IJ direction to N/S directions"
     ]
    },
    {
     "cell_type": "markdown",
     "metadata": {},
     "source": [
      "First append the u and v components, then rotate: now in gribTnetcdf module, call process_gribUV"
     ]
    },
    {
     "cell_type": "heading",
     "level": 3,
     "metadata": {},
     "source": [
      "3. Collate the Files"
     ]
    },
    {
     "cell_type": "markdown",
     "metadata": {},
     "source": [
      "Next we collate the non-vectors fields and move them to the same grid as the vectors fields which I believe is the same as the original grid but not exact enough for wgrib2.  Then we collate the lot.\n",
      "Key command is ./wgrib2 filename -append -grib outfile > logfile 2>&1\n",
      "\n",
      "Now in gribTnetcdf, called process_gribscalar and GRIBappend"
     ]
    },
    {
     "cell_type": "heading",
     "level": 3,
     "metadata": {},
     "source": [
      "3b.  Subsample if necessary"
     ]
    },
    {
     "cell_type": "markdown",
     "metadata": {},
     "source": [
      "Key command is ./wgrib2 ingrib -ijsmall_grib ist:ien jst:jen outgrib\n",
      "\n",
      "Now in gribTnetcdf as subsample"
     ]
    },
    {
     "cell_type": "heading",
     "level": 3,
     "metadata": {},
     "source": [
      "4. Convert to NetCDF"
     ]
    },
    {
     "cell_type": "markdown",
     "metadata": {},
     "source": [
      "Key command is ./wgrib2 outgrib -netcdf outnetcdf\n",
      "\n",
      "Now in gribTnetcdf as makeCDF"
     ]
    },
    {
     "cell_type": "heading",
     "level": 3,
     "metadata": {},
     "source": [
      "5. Calculate the Accumulated Variables"
     ]
    },
    {
     "cell_type": "markdown",
     "metadata": {},
     "source": [
      "Subtract previous accumulated values to get hourly numbers.  Then divide by 3600. to get per second.\n",
      "\n",
      "Now in gribTnetcdf as processCDF"
     ]
    },
    {
     "cell_type": "code",
     "collapsed": false,
     "input": [
      "data = nc.Dataset(outnetcdf, 'r')\n",
      "precip = data.variables['APCP_surface'][:]\n",
      "plt.plot(precip[:,200,200],'o-')\n",
      "data.close()"
     ],
     "language": "python",
     "metadata": {},
     "outputs": [
      {
       "metadata": {},
       "output_type": "display_data",
       "png": "[encoded data removed]",
       "text": [
        "<matplotlib.figure.Figure at 0x16b58b90>"
       ]
      }
     ],
     "prompt_number": 126
    },
    {
     "cell_type": "heading",
     "level": 3,
     "metadata": {},
     "source": [
      "6. Rename the Variables"
     ]
    },
    {
     "cell_type": "markdown",
     "metadata": {},
     "source": [
      "We want [u'nav_lon', u'nav_lat', u'time_counter', u'tair', u'qair', u'u_wind', u'v_wind', u'atmpres', u'precip', u'therm_rad', u'solar']\n",
      "\n",
      "Now in gribTnetcdf as renameCDF"
     ]
    },
    {
     "cell_type": "code",
     "collapsed": false,
     "input": [],
     "language": "python",
     "metadata": {},
     "outputs": [],
     "prompt_number": 133
    }
   ],
   "metadata": {}
  }
 ]
}