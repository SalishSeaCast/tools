{
 "metadata": {
  "name": "",
  "signature": "sha256:870bd94a92d08cd5512086a7340e45485867b1d2d04b27a1c2a843c7480a8f5a"
 },
 "nbformat": 3,
 "nbformat_minor": 0,
 "worksheets": [
  {
   "cells": [
    {
     "cell_type": "markdown",
     "metadata": {},
     "source": [
      "Notebook to convert grib2 files to netCDF files that can be used in NEMO\n",
      "Makes use of wgrib2"
     ]
    },
    {
     "cell_type": "heading",
     "level": 2,
     "metadata": {},
     "source": [
      "GRIB2 Conversion to NetCDF"
     ]
    },
    {
     "cell_type": "markdown",
     "metadata": {},
     "source": [
      "*Remaining Problems*\n",
      "1. After rotation, GRIB2 considers the files to be on different grids.  Perhaps should also regrid the scalars?"
     ]
    },
    {
     "cell_type": "code",
     "collapsed": false,
     "input": [
      "import glob\n",
      "%matplotlib inline\n",
      "import matplotlib.pyplot as plt\n",
      "import netCDF4 as nc\n",
      "import os\n",
      "from salishsea_tools import nc_tools\n",
      "import subprocess as sp"
     ],
     "language": "python",
     "metadata": {},
     "outputs": [],
     "prompt_number": 48
    },
    {
     "cell_type": "heading",
     "level": 3,
     "metadata": {},
     "source": [
      "1. Chose the Files"
     ]
    },
    {
     "cell_type": "markdown",
     "metadata": {},
     "source": [
      "We need the 18 forecast from the previous day for the first six hours, the 06 forecast from the current day for the next 12 hours and the 18 forecast from the previous day for the last six hours"
     ]
    },
    {
     "cell_type": "code",
     "collapsed": false,
     "input": [
      "GRIBdir = '../../../GRIB/'\n",
      "OPERdir = '../../../Operational/'\n",
      "HoursWeNeed = {'part one':['20140911/18/',24-18,24+6-18],'part two':['20140912/06/',7-6,18-6],\n",
      "               'part three':['20140912/18/',19-18,23-18]}"
     ],
     "language": "python",
     "metadata": {},
     "outputs": [],
     "prompt_number": 27
    },
    {
     "cell_type": "heading",
     "level": 3,
     "metadata": {},
     "source": [
      "2. Twist u,v wind speed from grid IJ direction to N/S directions"
     ]
    },
    {
     "cell_type": "markdown",
     "metadata": {},
     "source": [
      "First append the u and v components, then rotate"
     ]
    },
    {
     "cell_type": "code",
     "collapsed": false,
     "input": [
      "for part in ('part one','part two','part three'):\n",
      "    for fhour in range(HoursWeNeed[part][1],HoursWeNeed[part][2]+1):\n",
      "        \n",
      "        # set up directories and files\n",
      "        sfhour = '{:0=3}'.format(fhour)\n",
      "        dire = HoursWeNeed[part][0]\n",
      "        outuv = GRIBdir+dire+sfhour+'/UV.grib' \n",
      "        print outuv\n",
      "        sp.call([\"rm\",\"-f\",outuv])\n",
      "        outuvrot = GRIBdir+dire+sfhour+'/UVrot.grib'\n",
      "        sp.call([\"rm\",\"-f\",outuvrot])\n",
      "        \n",
      "        # append U and V\n",
      "        fn = glob.glob(GRIBdir+dire+sfhour+'/*UGRD*')\n",
      "        sp.call([\"./wgrib2\",fn[0],\"-append\",\"-grib\",outuv])\n",
      "        fn = glob.glob(GRIBdir+dire+sfhour+'/*VGRD*')\n",
      "        sp.call([\"./wgrib2\",fn[0],\"-append\",\"-grib\",outuv])\n",
      "        print sp.check_output([\"./wgrib2\",fn[0],\"-vt\"])\n",
      "        \n",
      "        # rotate\n",
      "        GRIDspec = sp.check_output([\"../../../private-tools/PThupaki/grid_defn.pl\",outuv])\n",
      "        cmd = [\"./wgrib2\", outuv]\n",
      "        cmd.extend(\"-new_grid_winds earth\".split())\n",
      "        cmd.append(\"-new_grid\")\n",
      "        cmd.extend(GRIDspec.split())\n",
      "        cmd.append(outuvrot)\n",
      "        sp.call(cmd)\n",
      "        "
     ],
     "language": "python",
     "metadata": {},
     "outputs": [
      {
       "output_type": "stream",
       "stream": "stdout",
       "text": [
        "../../../GRIB/20140911/18/006/UV.grib\n",
        "1:0:vt=2014091200\n"
       ]
      },
      {
       "output_type": "stream",
       "stream": "stdout",
       "text": [
        "\n",
        "../../../GRIB/20140911/18/007/UV.grib"
       ]
      },
      {
       "output_type": "stream",
       "stream": "stdout",
       "text": [
        "\n",
        "1:0:vt=2014091201\n"
       ]
      },
      {
       "output_type": "stream",
       "stream": "stdout",
       "text": [
        "\n",
        "../../../GRIB/20140911/18/008/UV.grib"
       ]
      },
      {
       "output_type": "stream",
       "stream": "stdout",
       "text": [
        "\n",
        "1:0:vt=2014091202\n"
       ]
      },
      {
       "output_type": "stream",
       "stream": "stdout",
       "text": [
        "\n",
        "../../../GRIB/20140911/18/009/UV.grib"
       ]
      },
      {
       "output_type": "stream",
       "stream": "stdout",
       "text": [
        "\n",
        "1:0:vt=2014091203\n"
       ]
      },
      {
       "output_type": "stream",
       "stream": "stdout",
       "text": [
        "\n",
        "../../../GRIB/20140911/18/010/UV.grib"
       ]
      },
      {
       "output_type": "stream",
       "stream": "stdout",
       "text": [
        "\n",
        "1:0:vt=2014091204\n"
       ]
      },
      {
       "output_type": "stream",
       "stream": "stdout",
       "text": [
        "\n",
        "../../../GRIB/20140911/18/011/UV.grib"
       ]
      },
      {
       "output_type": "stream",
       "stream": "stdout",
       "text": [
        "\n",
        "1:0:vt=2014091205\n"
       ]
      },
      {
       "output_type": "stream",
       "stream": "stdout",
       "text": [
        "\n",
        "../../../GRIB/20140911/18/012/UV.grib"
       ]
      },
      {
       "output_type": "stream",
       "stream": "stdout",
       "text": [
        "\n",
        "1:0:vt=2014091206\n"
       ]
      },
      {
       "output_type": "stream",
       "stream": "stdout",
       "text": [
        "\n",
        "../../../GRIB/20140912/06/001/UV.grib"
       ]
      },
      {
       "output_type": "stream",
       "stream": "stdout",
       "text": [
        "\n",
        "1:0:vt=2014091207\n"
       ]
      },
      {
       "output_type": "stream",
       "stream": "stdout",
       "text": [
        "\n",
        "../../../GRIB/20140912/06/002/UV.grib"
       ]
      },
      {
       "output_type": "stream",
       "stream": "stdout",
       "text": [
        "\n",
        "1:0:vt=2014091208\n"
       ]
      },
      {
       "output_type": "stream",
       "stream": "stdout",
       "text": [
        "\n",
        "../../../GRIB/20140912/06/003/UV.grib"
       ]
      },
      {
       "output_type": "stream",
       "stream": "stdout",
       "text": [
        "\n",
        "1:0:vt=2014091209\n"
       ]
      },
      {
       "output_type": "stream",
       "stream": "stdout",
       "text": [
        "\n",
        "../../../GRIB/20140912/06/004/UV.grib"
       ]
      },
      {
       "output_type": "stream",
       "stream": "stdout",
       "text": [
        "\n",
        "1:0:vt=2014091210\n"
       ]
      },
      {
       "output_type": "stream",
       "stream": "stdout",
       "text": [
        "\n",
        "../../../GRIB/20140912/06/005/UV.grib"
       ]
      },
      {
       "output_type": "stream",
       "stream": "stdout",
       "text": [
        "\n",
        "1:0:vt=2014091211\n"
       ]
      },
      {
       "output_type": "stream",
       "stream": "stdout",
       "text": [
        "\n",
        "../../../GRIB/20140912/06/006/UV.grib"
       ]
      },
      {
       "output_type": "stream",
       "stream": "stdout",
       "text": [
        "\n",
        "1:0:vt=2014091212\n"
       ]
      },
      {
       "output_type": "stream",
       "stream": "stdout",
       "text": [
        "\n",
        "../../../GRIB/20140912/06/007/UV.grib"
       ]
      },
      {
       "output_type": "stream",
       "stream": "stdout",
       "text": [
        "\n",
        "1:0:vt=2014091213\n"
       ]
      },
      {
       "output_type": "stream",
       "stream": "stdout",
       "text": [
        "\n",
        "../../../GRIB/20140912/06/008/UV.grib"
       ]
      },
      {
       "output_type": "stream",
       "stream": "stdout",
       "text": [
        "\n",
        "1:0:vt=2014091214\n"
       ]
      },
      {
       "output_type": "stream",
       "stream": "stdout",
       "text": [
        "\n",
        "../../../GRIB/20140912/06/009/UV.grib"
       ]
      },
      {
       "output_type": "stream",
       "stream": "stdout",
       "text": [
        "\n",
        "1:0:vt=2014091215\n"
       ]
      },
      {
       "output_type": "stream",
       "stream": "stdout",
       "text": [
        "\n",
        "../../../GRIB/20140912/06/010/UV.grib"
       ]
      },
      {
       "output_type": "stream",
       "stream": "stdout",
       "text": [
        "\n",
        "1:0:vt=2014091216\n"
       ]
      },
      {
       "output_type": "stream",
       "stream": "stdout",
       "text": [
        "\n",
        "../../../GRIB/20140912/06/011/UV.grib"
       ]
      },
      {
       "output_type": "stream",
       "stream": "stdout",
       "text": [
        "\n",
        "1:0:vt=2014091217\n"
       ]
      },
      {
       "output_type": "stream",
       "stream": "stdout",
       "text": [
        "\n",
        "../../../GRIB/20140912/06/012/UV.grib"
       ]
      },
      {
       "output_type": "stream",
       "stream": "stdout",
       "text": [
        "\n",
        "1:0:vt=2014091218\n"
       ]
      },
      {
       "output_type": "stream",
       "stream": "stdout",
       "text": [
        "\n",
        "../../../GRIB/20140912/18/001/UV.grib"
       ]
      },
      {
       "output_type": "stream",
       "stream": "stdout",
       "text": [
        "\n",
        "1:0:vt=2014091219\n"
       ]
      },
      {
       "output_type": "stream",
       "stream": "stdout",
       "text": [
        "\n",
        "../../../GRIB/20140912/18/002/UV.grib"
       ]
      },
      {
       "output_type": "stream",
       "stream": "stdout",
       "text": [
        "\n",
        "1:0:vt=2014091220\n"
       ]
      },
      {
       "output_type": "stream",
       "stream": "stdout",
       "text": [
        "\n",
        "../../../GRIB/20140912/18/003/UV.grib"
       ]
      },
      {
       "output_type": "stream",
       "stream": "stdout",
       "text": [
        "\n",
        "1:0:vt=2014091221\n"
       ]
      },
      {
       "output_type": "stream",
       "stream": "stdout",
       "text": [
        "\n",
        "../../../GRIB/20140912/18/004/UV.grib"
       ]
      },
      {
       "output_type": "stream",
       "stream": "stdout",
       "text": [
        "\n",
        "1:0:vt=2014091222\n"
       ]
      },
      {
       "output_type": "stream",
       "stream": "stdout",
       "text": [
        "\n",
        "../../../GRIB/20140912/18/005/UV.grib"
       ]
      },
      {
       "output_type": "stream",
       "stream": "stdout",
       "text": [
        "\n",
        "1:0:vt=2014091223\n"
       ]
      },
      {
       "output_type": "stream",
       "stream": "stdout",
       "text": [
        "\n"
       ]
      }
     ],
     "prompt_number": 29
    },
    {
     "cell_type": "heading",
     "level": 3,
     "metadata": {},
     "source": [
      "3. Collate the Files"
     ]
    },
    {
     "cell_type": "markdown",
     "metadata": {},
     "source": [
      "First we collate the non-vectors fields and move them to the same grid as the vectors fields which I believe is the same as the original grid but not exact enough for wgrib2.  Then we collate the lot.\n",
      "Key command is ./wgrib2 filename -append -grib outfile > logfile 2>&1"
     ]
    },
    {
     "cell_type": "code",
     "collapsed": false,
     "input": [
      "for part in ('part one','part two','part three'):\n",
      "    for fhour in range(HoursWeNeed[part][1],HoursWeNeed[part][2]+1):\n",
      "        # set up directories and files\n",
      "        sfhour = '{:0=3}'.format(fhour)\n",
      "        dire = HoursWeNeed[part][0]\n",
      "        outscalar = GRIBdir+dire+sfhour+'/scalar.grib' \n",
      "        sp.call([\"rm\",\"-f\",outscalar])\n",
      "        outscalargrid = GRIBdir+dire+sfhour+'/gscalar.grib'\n",
      "        sp.call([\"rm\",\"-f\",outscalargrid])\n",
      "        for fn in glob.glob(GRIBdir+dire+sfhour+'/*'):\n",
      "            if not (\"GRD\" in fn) and (\"CMC\" in fn):                \n",
      "                print fn\n",
      "                sp.call([\"./wgrib2\",fn,\"-append\",\"-grib\",outscalar])\n",
      "#  put on new grid\n",
      "        GRIDspec = sp.check_output([\"../../../private-tools/PThupaki/grid_defn.pl\",outuv])\n",
      "        cmd = [\"./wgrib2\", outscalar]\n",
      "        cmd.append(\"-new_grid\")\n",
      "        cmd.extend(GRIDspec.split())\n",
      "        cmd.append(outscalargrid)\n",
      "        sp.call(cmd)"
     ],
     "language": "python",
     "metadata": {},
     "outputs": [
      {
       "output_type": "stream",
       "stream": "stdout",
       "text": [
        "../../../GRIB/20140911/18/006/CMC_hrdps_west_DSWRF_SFC_0_ps2.5km_2014091118_P006-00.grib2\n",
        "../../../GRIB/20140911/18/006/CMC_hrdps_west_SPFH_TGL_2_ps2.5km_2014091118_P006-00.grib2\n",
        "../../../GRIB/20140911/18/006/CMC_hrdps_west_DLWRF_SFC_0_ps2.5km_2014091118_P006-00.grib2"
       ]
      },
      {
       "output_type": "stream",
       "stream": "stdout",
       "text": [
        "\n",
        "../../../GRIB/20140911/18/006/CMC_hrdps_west_TMP_TGL_2_ps2.5km_2014091118_P006-00.grib2\n",
        "../../../GRIB/20140911/18/006/CMC_hrdps_west_PRMSL_MSL_0_ps2.5km_2014091118_P006-00.grib2"
       ]
      },
      {
       "output_type": "stream",
       "stream": "stdout",
       "text": [
        "\n",
        "../../../GRIB/20140911/18/006/CMC_hrdps_west_APCP_SFC_0_ps2.5km_2014091118_P006-00.grib2\n",
        "../../../GRIB/20140911/18/007/CMC_hrdps_west_APCP_SFC_0_ps2.5km_2014091118_P007-00.grib2"
       ]
      },
      {
       "output_type": "stream",
       "stream": "stdout",
       "text": [
        "\n",
        "../../../GRIB/20140911/18/007/CMC_hrdps_west_TMP_TGL_2_ps2.5km_2014091118_P007-00.grib2\n",
        "../../../GRIB/20140911/18/007/CMC_hrdps_west_DLWRF_SFC_0_ps2.5km_2014091118_P007-00.grib2\n",
        "../../../GRIB/20140911/18/007/CMC_hrdps_west_PRMSL_MSL_0_ps2.5km_2014091118_P007-00.grib2"
       ]
      },
      {
       "output_type": "stream",
       "stream": "stdout",
       "text": [
        "\n",
        "../../../GRIB/20140911/18/007/CMC_hrdps_west_DSWRF_SFC_0_ps2.5km_2014091118_P007-00.grib2\n",
        "../../../GRIB/20140911/18/007/CMC_hrdps_west_SPFH_TGL_2_ps2.5km_2014091118_P007-00.grib2\n",
        "../../../GRIB/20140911/18/008/CMC_hrdps_west_APCP_SFC_0_ps2.5km_2014091118_P008-00.grib2"
       ]
      },
      {
       "output_type": "stream",
       "stream": "stdout",
       "text": [
        "\n",
        "../../../GRIB/20140911/18/008/CMC_hrdps_west_DLWRF_SFC_0_ps2.5km_2014091118_P008-00.grib2\n",
        "../../../GRIB/20140911/18/008/CMC_hrdps_west_DSWRF_SFC_0_ps2.5km_2014091118_P008-00.grib2\n",
        "../../../GRIB/20140911/18/008/CMC_hrdps_west_SPFH_TGL_2_ps2.5km_2014091118_P008-00.grib2"
       ]
      },
      {
       "output_type": "stream",
       "stream": "stdout",
       "text": [
        "\n",
        "../../../GRIB/20140911/18/008/CMC_hrdps_west_PRMSL_MSL_0_ps2.5km_2014091118_P008-00.grib2\n",
        "../../../GRIB/20140911/18/008/CMC_hrdps_west_TMP_TGL_2_ps2.5km_2014091118_P008-00.grib2\n",
        "../../../GRIB/20140911/18/009/CMC_hrdps_west_TMP_TGL_2_ps2.5km_2014091118_P009-00.grib2"
       ]
      },
      {
       "output_type": "stream",
       "stream": "stdout",
       "text": [
        "\n",
        "../../../GRIB/20140911/18/009/CMC_hrdps_west_SPFH_TGL_2_ps2.5km_2014091118_P009-00.grib2\n",
        "../../../GRIB/20140911/18/009/CMC_hrdps_west_DLWRF_SFC_0_ps2.5km_2014091118_P009-00.grib2"
       ]
      },
      {
       "output_type": "stream",
       "stream": "stdout",
       "text": [
        "\n",
        "../../../GRIB/20140911/18/009/CMC_hrdps_west_APCP_SFC_0_ps2.5km_2014091118_P009-00.grib2\n",
        "../../../GRIB/20140911/18/009/CMC_hrdps_west_DSWRF_SFC_0_ps2.5km_2014091118_P009-00.grib2\n",
        "../../../GRIB/20140911/18/009/CMC_hrdps_west_PRMSL_MSL_0_ps2.5km_2014091118_P009-00.grib2"
       ]
      },
      {
       "output_type": "stream",
       "stream": "stdout",
       "text": [
        "\n",
        "../../../GRIB/20140911/18/010/CMC_hrdps_west_PRMSL_MSL_0_ps2.5km_2014091118_P010-00.grib2"
       ]
      },
      {
       "output_type": "stream",
       "stream": "stdout",
       "text": [
        "\n",
        "../../../GRIB/20140911/18/010/CMC_hrdps_west_TMP_TGL_2_ps2.5km_2014091118_P010-00.grib2\n",
        "../../../GRIB/20140911/18/010/CMC_hrdps_west_DLWRF_SFC_0_ps2.5km_2014091118_P010-00.grib2\n",
        "../../../GRIB/20140911/18/010/CMC_hrdps_west_DSWRF_SFC_0_ps2.5km_2014091118_P010-00.grib2"
       ]
      },
      {
       "output_type": "stream",
       "stream": "stdout",
       "text": [
        "\n",
        "../../../GRIB/20140911/18/010/CMC_hrdps_west_SPFH_TGL_2_ps2.5km_2014091118_P010-00.grib2"
       ]
      },
      {
       "output_type": "stream",
       "stream": "stdout",
       "text": [
        "\n",
        "../../../GRIB/20140911/18/010/CMC_hrdps_west_APCP_SFC_0_ps2.5km_2014091118_P010-00.grib2\n",
        "../../../GRIB/20140911/18/011/CMC_hrdps_west_PRMSL_MSL_0_ps2.5km_2014091118_P011-00.grib2"
       ]
      },
      {
       "output_type": "stream",
       "stream": "stdout",
       "text": [
        "\n",
        "../../../GRIB/20140911/18/011/CMC_hrdps_west_TMP_TGL_2_ps2.5km_2014091118_P011-00.grib2\n",
        "../../../GRIB/20140911/18/011/CMC_hrdps_west_DSWRF_SFC_0_ps2.5km_2014091118_P011-00.grib2"
       ]
      },
      {
       "output_type": "stream",
       "stream": "stdout",
       "text": [
        "\n",
        "../../../GRIB/20140911/18/011/CMC_hrdps_west_APCP_SFC_0_ps2.5km_2014091118_P011-00.grib2"
       ]
      },
      {
       "output_type": "stream",
       "stream": "stdout",
       "text": [
        "\n",
        "../../../GRIB/20140911/18/011/CMC_hrdps_west_SPFH_TGL_2_ps2.5km_2014091118_P011-00.grib2\n",
        "../../../GRIB/20140911/18/011/CMC_hrdps_west_DLWRF_SFC_0_ps2.5km_2014091118_P011-00.grib2\n",
        "../../../GRIB/20140911/18/012/CMC_hrdps_west_PRMSL_MSL_0_ps2.5km_2014091118_P012-00.grib2"
       ]
      },
      {
       "output_type": "stream",
       "stream": "stdout",
       "text": [
        "\n",
        "../../../GRIB/20140911/18/012/CMC_hrdps_west_DSWRF_SFC_0_ps2.5km_2014091118_P012-00.grib2\n",
        "../../../GRIB/20140911/18/012/CMC_hrdps_west_SPFH_TGL_2_ps2.5km_2014091118_P012-00.grib2\n",
        "../../../GRIB/20140911/18/012/CMC_hrdps_west_APCP_SFC_0_ps2.5km_2014091118_P012-00.grib2"
       ]
      },
      {
       "output_type": "stream",
       "stream": "stdout",
       "text": [
        "\n",
        "../../../GRIB/20140911/18/012/CMC_hrdps_west_TMP_TGL_2_ps2.5km_2014091118_P012-00.grib2\n",
        "../../../GRIB/20140911/18/012/CMC_hrdps_west_DLWRF_SFC_0_ps2.5km_2014091118_P012-00.grib2\n",
        "../../../GRIB/20140912/06/001/CMC_hrdps_west_DSWRF_SFC_0_ps2.5km_2014091206_P001-00.grib2"
       ]
      },
      {
       "output_type": "stream",
       "stream": "stdout",
       "text": [
        "\n",
        "../../../GRIB/20140912/06/001/CMC_hrdps_west_DLWRF_SFC_0_ps2.5km_2014091206_P001-00.grib2\n",
        "../../../GRIB/20140912/06/001/CMC_hrdps_west_PRMSL_MSL_0_ps2.5km_2014091206_P001-00.grib2\n",
        "../../../GRIB/20140912/06/001/CMC_hrdps_west_TMP_TGL_2_ps2.5km_2014091206_P001-00.grib2\n",
        "../../../GRIB/20140912/06/001/CMC_hrdps_west_SPFH_TGL_2_ps2.5km_2014091206_P001-00.grib2"
       ]
      },
      {
       "output_type": "stream",
       "stream": "stdout",
       "text": [
        "\n",
        "../../../GRIB/20140912/06/001/CMC_hrdps_west_APCP_SFC_0_ps2.5km_2014091206_P001-00.grib2\n",
        "../../../GRIB/20140912/06/002/CMC_hrdps_west_DLWRF_SFC_0_ps2.5km_2014091206_P002-00.grib2"
       ]
      },
      {
       "output_type": "stream",
       "stream": "stdout",
       "text": [
        "\n",
        "../../../GRIB/20140912/06/002/CMC_hrdps_west_PRMSL_MSL_0_ps2.5km_2014091206_P002-00.grib2\n",
        "../../../GRIB/20140912/06/002/CMC_hrdps_west_APCP_SFC_0_ps2.5km_2014091206_P002-00.grib2\n",
        "../../../GRIB/20140912/06/002/CMC_hrdps_west_TMP_TGL_2_ps2.5km_2014091206_P002-00.grib2"
       ]
      },
      {
       "output_type": "stream",
       "stream": "stdout",
       "text": [
        "\n",
        "../../../GRIB/20140912/06/002/CMC_hrdps_west_SPFH_TGL_2_ps2.5km_2014091206_P002-00.grib2\n",
        "../../../GRIB/20140912/06/002/CMC_hrdps_west_DSWRF_SFC_0_ps2.5km_2014091206_P002-00.grib2"
       ]
      },
      {
       "output_type": "stream",
       "stream": "stdout",
       "text": [
        "\n",
        "../../../GRIB/20140912/06/003/CMC_hrdps_west_DSWRF_SFC_0_ps2.5km_2014091206_P003-00.grib2"
       ]
      },
      {
       "output_type": "stream",
       "stream": "stdout",
       "text": [
        "\n",
        "../../../GRIB/20140912/06/003/CMC_hrdps_west_PRMSL_MSL_0_ps2.5km_2014091206_P003-00.grib2\n",
        "../../../GRIB/20140912/06/003/CMC_hrdps_west_APCP_SFC_0_ps2.5km_2014091206_P003-00.grib2\n",
        "../../../GRIB/20140912/06/003/CMC_hrdps_west_SPFH_TGL_2_ps2.5km_2014091206_P003-00.grib2\n",
        "../../../GRIB/20140912/06/003/CMC_hrdps_west_DLWRF_SFC_0_ps2.5km_2014091206_P003-00.grib2"
       ]
      },
      {
       "output_type": "stream",
       "stream": "stdout",
       "text": [
        "\n",
        "../../../GRIB/20140912/06/003/CMC_hrdps_west_TMP_TGL_2_ps2.5km_2014091206_P003-00.grib2\n",
        "../../../GRIB/20140912/06/004/CMC_hrdps_west_APCP_SFC_0_ps2.5km_2014091206_P004-00.grib2"
       ]
      },
      {
       "output_type": "stream",
       "stream": "stdout",
       "text": [
        "\n",
        "../../../GRIB/20140912/06/004/CMC_hrdps_west_SPFH_TGL_2_ps2.5km_2014091206_P004-00.grib2\n",
        "../../../GRIB/20140912/06/004/CMC_hrdps_west_PRMSL_MSL_0_ps2.5km_2014091206_P004-00.grib2\n",
        "../../../GRIB/20140912/06/004/CMC_hrdps_west_DSWRF_SFC_0_ps2.5km_2014091206_P004-00.grib2"
       ]
      },
      {
       "output_type": "stream",
       "stream": "stdout",
       "text": [
        "\n",
        "../../../GRIB/20140912/06/004/CMC_hrdps_west_DLWRF_SFC_0_ps2.5km_2014091206_P004-00.grib2\n",
        "../../../GRIB/20140912/06/004/CMC_hrdps_west_TMP_TGL_2_ps2.5km_2014091206_P004-00.grib2\n",
        "../../../GRIB/20140912/06/005/CMC_hrdps_west_PRMSL_MSL_0_ps2.5km_2014091206_P005-00.grib2"
       ]
      },
      {
       "output_type": "stream",
       "stream": "stdout",
       "text": [
        "\n",
        "../../../GRIB/20140912/06/005/CMC_hrdps_west_DSWRF_SFC_0_ps2.5km_2014091206_P005-00.grib2\n",
        "../../../GRIB/20140912/06/005/CMC_hrdps_west_SPFH_TGL_2_ps2.5km_2014091206_P005-00.grib2\n",
        "../../../GRIB/20140912/06/005/CMC_hrdps_west_DLWRF_SFC_0_ps2.5km_2014091206_P005-00.grib2"
       ]
      },
      {
       "output_type": "stream",
       "stream": "stdout",
       "text": [
        "\n",
        "../../../GRIB/20140912/06/005/CMC_hrdps_west_TMP_TGL_2_ps2.5km_2014091206_P005-00.grib2\n",
        "../../../GRIB/20140912/06/005/CMC_hrdps_west_APCP_SFC_0_ps2.5km_2014091206_P005-00.grib2"
       ]
      },
      {
       "output_type": "stream",
       "stream": "stdout",
       "text": [
        "\n",
        "../../../GRIB/20140912/06/006/CMC_hrdps_west_SPFH_TGL_2_ps2.5km_2014091206_P006-00.grib2"
       ]
      },
      {
       "output_type": "stream",
       "stream": "stdout",
       "text": [
        "\n",
        "../../../GRIB/20140912/06/006/CMC_hrdps_west_PRMSL_MSL_0_ps2.5km_2014091206_P006-00.grib2\n",
        "../../../GRIB/20140912/06/006/CMC_hrdps_west_TMP_TGL_2_ps2.5km_2014091206_P006-00.grib2\n",
        "../../../GRIB/20140912/06/006/CMC_hrdps_west_DSWRF_SFC_0_ps2.5km_2014091206_P006-00.grib2"
       ]
      },
      {
       "output_type": "stream",
       "stream": "stdout",
       "text": [
        "\n",
        "../../../GRIB/20140912/06/006/CMC_hrdps_west_DLWRF_SFC_0_ps2.5km_2014091206_P006-00.grib2\n",
        "../../../GRIB/20140912/06/006/CMC_hrdps_west_APCP_SFC_0_ps2.5km_2014091206_P006-00.grib2\n",
        "../../../GRIB/20140912/06/007/CMC_hrdps_west_SPFH_TGL_2_ps2.5km_2014091206_P007-00.grib2"
       ]
      },
      {
       "output_type": "stream",
       "stream": "stdout",
       "text": [
        "\n",
        "../../../GRIB/20140912/06/007/CMC_hrdps_west_DSWRF_SFC_0_ps2.5km_2014091206_P007-00.grib2"
       ]
      },
      {
       "output_type": "stream",
       "stream": "stdout",
       "text": [
        "\n",
        "../../../GRIB/20140912/06/007/CMC_hrdps_west_TMP_TGL_2_ps2.5km_2014091206_P007-00.grib2\n",
        "../../../GRIB/20140912/06/007/CMC_hrdps_west_APCP_SFC_0_ps2.5km_2014091206_P007-00.grib2\n",
        "../../../GRIB/20140912/06/007/CMC_hrdps_west_PRMSL_MSL_0_ps2.5km_2014091206_P007-00.grib2"
       ]
      },
      {
       "output_type": "stream",
       "stream": "stdout",
       "text": [
        "\n",
        "../../../GRIB/20140912/06/007/CMC_hrdps_west_DLWRF_SFC_0_ps2.5km_2014091206_P007-00.grib2\n",
        "../../../GRIB/20140912/06/008/CMC_hrdps_west_APCP_SFC_0_ps2.5km_2014091206_P008-00.grib2"
       ]
      },
      {
       "output_type": "stream",
       "stream": "stdout",
       "text": [
        "\n",
        "../../../GRIB/20140912/06/008/CMC_hrdps_west_DLWRF_SFC_0_ps2.5km_2014091206_P008-00.grib2\n",
        "../../../GRIB/20140912/06/008/CMC_hrdps_west_PRMSL_MSL_0_ps2.5km_2014091206_P008-00.grib2\n",
        "../../../GRIB/20140912/06/008/CMC_hrdps_west_DSWRF_SFC_0_ps2.5km_2014091206_P008-00.grib2\n",
        "../../../GRIB/20140912/06/008/CMC_hrdps_west_SPFH_TGL_2_ps2.5km_2014091206_P008-00.grib2"
       ]
      },
      {
       "output_type": "stream",
       "stream": "stdout",
       "text": [
        "\n",
        "../../../GRIB/20140912/06/008/CMC_hrdps_west_TMP_TGL_2_ps2.5km_2014091206_P008-00.grib2\n",
        "../../../GRIB/20140912/06/009/CMC_hrdps_west_TMP_TGL_2_ps2.5km_2014091206_P009-00.grib2"
       ]
      },
      {
       "output_type": "stream",
       "stream": "stdout",
       "text": [
        "\n",
        "../../../GRIB/20140912/06/009/CMC_hrdps_west_SPFH_TGL_2_ps2.5km_2014091206_P009-00.grib2\n",
        "../../../GRIB/20140912/06/009/CMC_hrdps_west_DLWRF_SFC_0_ps2.5km_2014091206_P009-00.grib2"
       ]
      },
      {
       "output_type": "stream",
       "stream": "stdout",
       "text": [
        "\n",
        "../../../GRIB/20140912/06/009/CMC_hrdps_west_APCP_SFC_0_ps2.5km_2014091206_P009-00.grib2\n",
        "../../../GRIB/20140912/06/009/CMC_hrdps_west_DSWRF_SFC_0_ps2.5km_2014091206_P009-00.grib2\n",
        "../../../GRIB/20140912/06/009/CMC_hrdps_west_PRMSL_MSL_0_ps2.5km_2014091206_P009-00.grib2"
       ]
      },
      {
       "output_type": "stream",
       "stream": "stdout",
       "text": [
        "\n",
        "../../../GRIB/20140912/06/010/CMC_hrdps_west_TMP_TGL_2_ps2.5km_2014091206_P010-00.grib2"
       ]
      },
      {
       "output_type": "stream",
       "stream": "stdout",
       "text": [
        "\n",
        "../../../GRIB/20140912/06/010/CMC_hrdps_west_SPFH_TGL_2_ps2.5km_2014091206_P010-00.grib2\n",
        "../../../GRIB/20140912/06/010/CMC_hrdps_west_APCP_SFC_0_ps2.5km_2014091206_P010-00.grib2"
       ]
      },
      {
       "output_type": "stream",
       "stream": "stdout",
       "text": [
        "\n",
        "../../../GRIB/20140912/06/010/CMC_hrdps_west_PRMSL_MSL_0_ps2.5km_2014091206_P010-00.grib2\n",
        "../../../GRIB/20140912/06/010/CMC_hrdps_west_DSWRF_SFC_0_ps2.5km_2014091206_P010-00.grib2\n",
        "../../../GRIB/20140912/06/010/CMC_hrdps_west_DLWRF_SFC_0_ps2.5km_2014091206_P010-00.grib2"
       ]
      },
      {
       "output_type": "stream",
       "stream": "stdout",
       "text": [
        "\n",
        "../../../GRIB/20140912/06/011/CMC_hrdps_west_SPFH_TGL_2_ps2.5km_2014091206_P011-00.grib2"
       ]
      },
      {
       "output_type": "stream",
       "stream": "stdout",
       "text": [
        "\n",
        "../../../GRIB/20140912/06/011/CMC_hrdps_west_TMP_TGL_2_ps2.5km_2014091206_P011-00.grib2\n",
        "../../../GRIB/20140912/06/011/CMC_hrdps_west_DSWRF_SFC_0_ps2.5km_2014091206_P011-00.grib2"
       ]
      },
      {
       "output_type": "stream",
       "stream": "stdout",
       "text": [
        "\n",
        "../../../GRIB/20140912/06/011/CMC_hrdps_west_DLWRF_SFC_0_ps2.5km_2014091206_P011-00.grib2\n",
        "../../../GRIB/20140912/06/011/CMC_hrdps_west_APCP_SFC_0_ps2.5km_2014091206_P011-00.grib2\n",
        "../../../GRIB/20140912/06/011/CMC_hrdps_west_PRMSL_MSL_0_ps2.5km_2014091206_P011-00.grib2"
       ]
      },
      {
       "output_type": "stream",
       "stream": "stdout",
       "text": [
        "\n",
        "../../../GRIB/20140912/06/012/CMC_hrdps_west_TMP_TGL_2_ps2.5km_2014091206_P012-00.grib2"
       ]
      },
      {
       "output_type": "stream",
       "stream": "stdout",
       "text": [
        "\n",
        "../../../GRIB/20140912/06/012/CMC_hrdps_west_SPFH_TGL_2_ps2.5km_2014091206_P012-00.grib2\n",
        "../../../GRIB/20140912/06/012/CMC_hrdps_west_DLWRF_SFC_0_ps2.5km_2014091206_P012-00.grib2"
       ]
      },
      {
       "output_type": "stream",
       "stream": "stdout",
       "text": [
        "\n",
        "../../../GRIB/20140912/06/012/CMC_hrdps_west_DSWRF_SFC_0_ps2.5km_2014091206_P012-00.grib2\n",
        "../../../GRIB/20140912/06/012/CMC_hrdps_west_PRMSL_MSL_0_ps2.5km_2014091206_P012-00.grib2\n",
        "../../../GRIB/20140912/06/012/CMC_hrdps_west_APCP_SFC_0_ps2.5km_2014091206_P012-00.grib2"
       ]
      },
      {
       "output_type": "stream",
       "stream": "stdout",
       "text": [
        "\n",
        "../../../GRIB/20140912/18/001/CMC_hrdps_west_PRMSL_MSL_0_ps2.5km_2014091218_P001-00.grib2"
       ]
      },
      {
       "output_type": "stream",
       "stream": "stdout",
       "text": [
        "\n",
        "../../../GRIB/20140912/18/001/CMC_hrdps_west_TMP_TGL_2_ps2.5km_2014091218_P001-00.grib2\n",
        "../../../GRIB/20140912/18/001/CMC_hrdps_west_SPFH_TGL_2_ps2.5km_2014091218_P001-00.grib2\n",
        "../../../GRIB/20140912/18/001/CMC_hrdps_west_DLWRF_SFC_0_ps2.5km_2014091218_P001-00.grib2"
       ]
      },
      {
       "output_type": "stream",
       "stream": "stdout",
       "text": [
        "\n",
        "../../../GRIB/20140912/18/001/CMC_hrdps_west_DSWRF_SFC_0_ps2.5km_2014091218_P001-00.grib2\n",
        "../../../GRIB/20140912/18/001/CMC_hrdps_west_APCP_SFC_0_ps2.5km_2014091218_P001-00.grib2\n",
        "../../../GRIB/20140912/18/002/CMC_hrdps_west_APCP_SFC_0_ps2.5km_2014091218_P002-00.grib2"
       ]
      },
      {
       "output_type": "stream",
       "stream": "stdout",
       "text": [
        "\n",
        "../../../GRIB/20140912/18/002/CMC_hrdps_west_TMP_TGL_2_ps2.5km_2014091218_P002-00.grib2\n",
        "../../../GRIB/20140912/18/002/CMC_hrdps_west_SPFH_TGL_2_ps2.5km_2014091218_P002-00.grib2\n",
        "../../../GRIB/20140912/18/002/CMC_hrdps_west_DLWRF_SFC_0_ps2.5km_2014091218_P002-00.grib2"
       ]
      },
      {
       "output_type": "stream",
       "stream": "stdout",
       "text": [
        "\n",
        "../../../GRIB/20140912/18/002/CMC_hrdps_west_DSWRF_SFC_0_ps2.5km_2014091218_P002-00.grib2\n",
        "../../../GRIB/20140912/18/002/CMC_hrdps_west_PRMSL_MSL_0_ps2.5km_2014091218_P002-00.grib2\n",
        "../../../GRIB/20140912/18/003/CMC_hrdps_west_SPFH_TGL_2_ps2.5km_2014091218_P003-00.grib2"
       ]
      },
      {
       "output_type": "stream",
       "stream": "stdout",
       "text": [
        "\n",
        "../../../GRIB/20140912/18/003/CMC_hrdps_west_DLWRF_SFC_0_ps2.5km_2014091218_P003-00.grib2\n",
        "../../../GRIB/20140912/18/003/CMC_hrdps_west_APCP_SFC_0_ps2.5km_2014091218_P003-00.grib2"
       ]
      },
      {
       "output_type": "stream",
       "stream": "stdout",
       "text": [
        "\n",
        "../../../GRIB/20140912/18/003/CMC_hrdps_west_PRMSL_MSL_0_ps2.5km_2014091218_P003-00.grib2\n",
        "../../../GRIB/20140912/18/003/CMC_hrdps_west_DSWRF_SFC_0_ps2.5km_2014091218_P003-00.grib2\n",
        "../../../GRIB/20140912/18/003/CMC_hrdps_west_TMP_TGL_2_ps2.5km_2014091218_P003-00.grib2\n",
        "../../../GRIB/20140912/18/004/CMC_hrdps_west_DLWRF_SFC_0_ps2.5km_2014091218_P004-00.grib2"
       ]
      },
      {
       "output_type": "stream",
       "stream": "stdout",
       "text": [
        "\n",
        "../../../GRIB/20140912/18/004/CMC_hrdps_west_DSWRF_SFC_0_ps2.5km_2014091218_P004-00.grib2\n",
        "../../../GRIB/20140912/18/004/CMC_hrdps_west_PRMSL_MSL_0_ps2.5km_2014091218_P004-00.grib2\n",
        "../../../GRIB/20140912/18/004/CMC_hrdps_west_SPFH_TGL_2_ps2.5km_2014091218_P004-00.grib2"
       ]
      },
      {
       "output_type": "stream",
       "stream": "stdout",
       "text": [
        "\n",
        "../../../GRIB/20140912/18/004/CMC_hrdps_west_TMP_TGL_2_ps2.5km_2014091218_P004-00.grib2\n",
        "../../../GRIB/20140912/18/004/CMC_hrdps_west_APCP_SFC_0_ps2.5km_2014091218_P004-00.grib2"
       ]
      },
      {
       "output_type": "stream",
       "stream": "stdout",
       "text": [
        "\n",
        "../../../GRIB/20140912/18/005/CMC_hrdps_west_APCP_SFC_0_ps2.5km_2014091218_P005-00.grib2"
       ]
      },
      {
       "output_type": "stream",
       "stream": "stdout",
       "text": [
        "\n",
        "../../../GRIB/20140912/18/005/CMC_hrdps_west_PRMSL_MSL_0_ps2.5km_2014091218_P005-00.grib2\n",
        "../../../GRIB/20140912/18/005/CMC_hrdps_west_DSWRF_SFC_0_ps2.5km_2014091218_P005-00.grib2\n",
        "../../../GRIB/20140912/18/005/CMC_hrdps_west_DLWRF_SFC_0_ps2.5km_2014091218_P005-00.grib2"
       ]
      },
      {
       "output_type": "stream",
       "stream": "stdout",
       "text": [
        "\n",
        "../../../GRIB/20140912/18/005/CMC_hrdps_west_SPFH_TGL_2_ps2.5km_2014091218_P005-00.grib2\n",
        "../../../GRIB/20140912/18/005/CMC_hrdps_west_TMP_TGL_2_ps2.5km_2014091218_P005-00.grib2\n"
       ]
      }
     ],
     "prompt_number": 30
    },
    {
     "cell_type": "code",
     "collapsed": false,
     "input": [
      "outgrib = OPERdir+'oper_allvar_y2014m09d12.grib'\n",
      "sp.call([\"rm\",\"-f\",outgrib])\n",
      "\n",
      "for part in ('part one','part two','part three'):\n",
      "    for fhour in range(HoursWeNeed[part][1],HoursWeNeed[part][2]+1):\n",
      "        \n",
      "        # set up directories and files\n",
      "        sfhour = '{:0=3}'.format(fhour)\n",
      "        dire = HoursWeNeed[part][0]\n",
      "        outuvrot = GRIBdir+dire+sfhour+'/UVrot.grib'\n",
      "        outscalargrid = GRIBdir+dire+sfhour+'/gscalar.grib'\n",
      "        print outuvrot, outscalargrid\n",
      "        sp.call([\"./wgrib2\",outuvrot,\"-append\",\"-grib\",outgrib])\n",
      "        sp.call([\"./wgrib2\",outscalargrid,\"-append\",\"-grib\",outgrib])       "
     ],
     "language": "python",
     "metadata": {},
     "outputs": [
      {
       "output_type": "stream",
       "stream": "stdout",
       "text": [
        "../../../GRIB/20140911/18/006/UVrot.grib ../../../GRIB/20140911/18/006/gscalar.grib\n",
        "../../../GRIB/20140911/18/007/UVrot.grib"
       ]
      },
      {
       "output_type": "stream",
       "stream": "stdout",
       "text": [
        " ../../../GRIB/20140911/18/007/gscalar.grib\n",
        "../../../GRIB/20140911/18/008/UVrot.grib"
       ]
      },
      {
       "output_type": "stream",
       "stream": "stdout",
       "text": [
        " ../../../GRIB/20140911/18/008/gscalar.grib\n",
        "../../../GRIB/20140911/18/009/UVrot.grib"
       ]
      },
      {
       "output_type": "stream",
       "stream": "stdout",
       "text": [
        " ../../../GRIB/20140911/18/009/gscalar.grib\n",
        "../../../GRIB/20140911/18/010/UVrot.grib"
       ]
      },
      {
       "output_type": "stream",
       "stream": "stdout",
       "text": [
        " ../../../GRIB/20140911/18/010/gscalar.grib\n",
        "../../../GRIB/20140911/18/011/UVrot.grib"
       ]
      },
      {
       "output_type": "stream",
       "stream": "stdout",
       "text": [
        " ../../../GRIB/20140911/18/011/gscalar.grib\n",
        "../../../GRIB/20140911/18/012/UVrot.grib"
       ]
      },
      {
       "output_type": "stream",
       "stream": "stdout",
       "text": [
        " ../../../GRIB/20140911/18/012/gscalar.grib\n",
        "../../../GRIB/20140912/06/001/UVrot.grib"
       ]
      },
      {
       "output_type": "stream",
       "stream": "stdout",
       "text": [
        " ../../../GRIB/20140912/06/001/gscalar.grib\n",
        "../../../GRIB/20140912/06/002/UVrot.grib"
       ]
      },
      {
       "output_type": "stream",
       "stream": "stdout",
       "text": [
        " ../../../GRIB/20140912/06/002/gscalar.grib\n",
        "../../../GRIB/20140912/06/003/UVrot.grib"
       ]
      },
      {
       "output_type": "stream",
       "stream": "stdout",
       "text": [
        " ../../../GRIB/20140912/06/003/gscalar.grib\n",
        "../../../GRIB/20140912/06/004/UVrot.grib"
       ]
      },
      {
       "output_type": "stream",
       "stream": "stdout",
       "text": [
        " ../../../GRIB/20140912/06/004/gscalar.grib\n",
        "../../../GRIB/20140912/06/005/UVrot.grib"
       ]
      },
      {
       "output_type": "stream",
       "stream": "stdout",
       "text": [
        " ../../../GRIB/20140912/06/005/gscalar.grib\n",
        "../../../GRIB/20140912/06/006/UVrot.grib"
       ]
      },
      {
       "output_type": "stream",
       "stream": "stdout",
       "text": [
        " ../../../GRIB/20140912/06/006/gscalar.grib\n",
        "../../../GRIB/20140912/06/007/UVrot.grib"
       ]
      },
      {
       "output_type": "stream",
       "stream": "stdout",
       "text": [
        " ../../../GRIB/20140912/06/007/gscalar.grib\n",
        "../../../GRIB/20140912/06/008/UVrot.grib"
       ]
      },
      {
       "output_type": "stream",
       "stream": "stdout",
       "text": [
        " ../../../GRIB/20140912/06/008/gscalar.grib\n",
        "../../../GRIB/20140912/06/009/UVrot.grib"
       ]
      },
      {
       "output_type": "stream",
       "stream": "stdout",
       "text": [
        " ../../../GRIB/20140912/06/009/gscalar.grib\n",
        "../../../GRIB/20140912/06/010/UVrot.grib"
       ]
      },
      {
       "output_type": "stream",
       "stream": "stdout",
       "text": [
        " ../../../GRIB/20140912/06/010/gscalar.grib\n",
        "../../../GRIB/20140912/06/011/UVrot.grib"
       ]
      },
      {
       "output_type": "stream",
       "stream": "stdout",
       "text": [
        " ../../../GRIB/20140912/06/011/gscalar.grib\n",
        "../../../GRIB/20140912/06/012/UVrot.grib"
       ]
      },
      {
       "output_type": "stream",
       "stream": "stdout",
       "text": [
        " ../../../GRIB/20140912/06/012/gscalar.grib\n",
        "../../../GRIB/20140912/18/001/UVrot.grib"
       ]
      },
      {
       "output_type": "stream",
       "stream": "stdout",
       "text": [
        " ../../../GRIB/20140912/18/001/gscalar.grib\n",
        "../../../GRIB/20140912/18/002/UVrot.grib"
       ]
      },
      {
       "output_type": "stream",
       "stream": "stdout",
       "text": [
        " ../../../GRIB/20140912/18/002/gscalar.grib\n",
        "../../../GRIB/20140912/18/003/UVrot.grib"
       ]
      },
      {
       "output_type": "stream",
       "stream": "stdout",
       "text": [
        " ../../../GRIB/20140912/18/003/gscalar.grib\n",
        "../../../GRIB/20140912/18/004/UVrot.grib"
       ]
      },
      {
       "output_type": "stream",
       "stream": "stdout",
       "text": [
        " ../../../GRIB/20140912/18/004/gscalar.grib\n",
        "../../../GRIB/20140912/18/005/UVrot.grib"
       ]
      },
      {
       "output_type": "stream",
       "stream": "stdout",
       "text": [
        " ../../../GRIB/20140912/18/005/gscalar.grib\n"
       ]
      }
     ],
     "prompt_number": 33
    },
    {
     "cell_type": "heading",
     "level": 3,
     "metadata": {},
     "source": [
      "4. Convert to NetCDF"
     ]
    },
    {
     "cell_type": "markdown",
     "metadata": {},
     "source": [
      "Key command is ./wgrib2 outgrib -netcdf outnetcdf"
     ]
    },
    {
     "cell_type": "code",
     "collapsed": false,
     "input": [
      "print sp.check_output([\"./wgrib2\",outgrib,\"-vt\"])"
     ],
     "language": "python",
     "metadata": {},
     "outputs": [
      {
       "output_type": "stream",
       "stream": "stdout",
       "text": [
        "1:0:vt=2014091200\n",
        "2:498510:vt=2014091200\n",
        "3:997020:vt=2014091200\n",
        "4:1370970:vt=2014091200\n",
        "5:1869480:vt=2014091200\n",
        "6:2243430:vt=2014091200\n",
        "7:2741940:vt=2014091200\n",
        "8:3240450:vt=2014091200\n",
        "9:3738984:vt=2014091201\n",
        "10:4237494:vt=2014091201\n",
        "11:4736004:vt=2014091201\n",
        "12:5234538:vt=2014091201\n",
        "13:5733048:vt=2014091201\n",
        "14:6106998:vt=2014091201\n",
        "15:6605508:vt=2014091201\n",
        "16:6979458:vt=2014091201\n",
        "17:7477968:vt=2014091202\n",
        "18:7976478:vt=2014091202\n",
        "19:8516516:vt=2014091202\n",
        "20:9015050:vt=2014091202\n",
        "21:9389000:vt=2014091202\n",
        "22:9762950:vt=2014091202\n",
        "23:10261460:vt=2014091202\n",
        "24:10759970:vt=2014091202\n",
        "25:11258480:vt=2014091203\n",
        "26:11756990:vt=2014091203\n",
        "27:12255500:vt=2014091203\n",
        "28:12754010:vt=2014091203\n",
        "29:13252520:vt=2014091203\n",
        "30:13626470:vt=2014091203\n",
        "31:14125004:vt=2014091203\n",
        "32:14498954:vt=2014091203\n",
        "33:14997464:vt=2014091204\n",
        "34:15495974:vt=2014091204\n",
        "35:15994484:vt=2014091204\n",
        "36:16492994:vt=2014091204\n",
        "37:16991504:vt=2014091204\n",
        "38:17365454:vt=2014091204\n",
        "39:17739404:vt=2014091204\n",
        "40:18237914:vt=2014091204\n",
        "41:18736448:vt=2014091205\n",
        "42:19234958:vt=2014091205\n",
        "43:19733468:vt=2014091205\n",
        "44:20231978:vt=2014091205\n",
        "45:20730488:vt=2014091205\n",
        "46:21104438:vt=2014091205\n",
        "47:21602972:vt=2014091205\n",
        "48:22101482:vt=2014091205\n",
        "49:22475432:vt=2014091206\n",
        "50:22973942:vt=2014091206\n",
        "51:23472452:vt=2014091206\n",
        "52:23970962:vt=2014091206\n",
        "53:24344912:vt=2014091206\n",
        "54:24843422:vt=2014091206\n",
        "55:25341956:vt=2014091206\n",
        "56:25840466:vt=2014091206\n",
        "57:26214416:vt=2014091207\n",
        "58:26712926:vt=2014091207\n",
        "59:27211436:vt=2014091207\n",
        "60:27211632:vt=2014091207\n",
        "61:27585582:vt=2014091207\n",
        "62:28084092:vt=2014091207\n",
        "63:28582602:vt=2014091207\n",
        "64:29081112:vt=2014091207\n",
        "65:29579646:vt=2014091208\n",
        "66:30078156:vt=2014091208\n",
        "67:30576666:vt=2014091208\n",
        "68:30950616:vt=2014091208\n",
        "69:31449126:vt=2014091208\n",
        "70:31947660:vt=2014091208\n",
        "71:32446170:vt=2014091208\n",
        "72:32944680:vt=2014091208\n",
        "73:32944876:vt=2014091209\n",
        "74:33443386:vt=2014091209\n",
        "75:33941896:vt=2014091209\n",
        "76:33942092:vt=2014091209\n",
        "77:34440602:vt=2014091209\n",
        "78:34939136:vt=2014091209\n",
        "79:35437646:vt=2014091209\n",
        "80:35811596:vt=2014091209\n",
        "81:36310106:vt=2014091210\n",
        "82:36808616:vt=2014091210\n",
        "83:37307126:vt=2014091210\n",
        "84:37805660:vt=2014091210\n",
        "85:38304170:vt=2014091210\n",
        "86:38802680:vt=2014091210\n",
        "87:38802876:vt=2014091210\n",
        "88:39176826:vt=2014091210\n",
        "89:39675336:vt=2014091211\n",
        "90:40173846:vt=2014091211\n",
        "91:40672356:vt=2014091211\n",
        "92:41170866:vt=2014091211\n",
        "93:41171062:vt=2014091211\n",
        "94:41669572:vt=2014091211\n",
        "95:42043522:vt=2014091211\n",
        "96:42542032:vt=2014091211\n",
        "97:43040566:vt=2014091212\n",
        "98:43539076:vt=2014091212\n",
        "99:44037586:vt=2014091212\n",
        "100:44536096:vt=2014091212\n",
        "101:45034606:vt=2014091212\n",
        "102:45533116:vt=2014091212\n",
        "103:45533312:vt=2014091212\n",
        "104:45907262:vt=2014091212\n",
        "105:46405796:vt=2014091213\n",
        "106:46904306:vt=2014091213\n",
        "107:47402816:vt=2014091213\n",
        "108:47901326:vt=2014091213\n",
        "109:48275276:vt=2014091213\n",
        "110:48773786:vt=2014091213\n",
        "111:49272320:vt=2014091213\n",
        "112:49770830:vt=2014091213\n",
        "113:50144780:vt=2014091214\n",
        "114:50643290:vt=2014091214\n",
        "115:51141800:vt=2014091214\n",
        "116:51640334:vt=2014091214\n",
        "117:52014284:vt=2014091214\n",
        "118:52512794:vt=2014091214\n",
        "119:52886744:vt=2014091214\n",
        "120:53385254:vt=2014091214\n",
        "121:53883764:vt=2014091215\n",
        "122:54382274:vt=2014091215\n",
        "123:54880784:vt=2014091215\n",
        "124:55379294:vt=2014091215\n",
        "125:55877804:vt=2014091215\n",
        "126:56251754:vt=2014091215\n",
        "127:56750288:vt=2014091215\n",
        "128:57124238:vt=2014091215\n",
        "129:57622748:vt=2014091216\n",
        "130:58121258:vt=2014091216\n",
        "131:58619768:vt=2014091216\n",
        "132:59118278:vt=2014091216\n",
        "133:59616788:vt=2014091216\n",
        "134:60115322:vt=2014091216\n",
        "135:60613832:vt=2014091216\n",
        "136:60987782:vt=2014091216\n",
        "137:61361732:vt=2014091217\n",
        "138:61860242:vt=2014091217\n",
        "139:62358752:vt=2014091217\n",
        "140:62857262:vt=2014091217\n",
        "141:63355772:vt=2014091217\n",
        "142:63729722:vt=2014091217\n",
        "143:64103672:vt=2014091217\n",
        "144:64602206:vt=2014091217\n",
        "145:65100716:vt=2014091218\n",
        "146:65599226:vt=2014091218\n",
        "147:66097736:vt=2014091218\n",
        "148:66596246:vt=2014091218\n",
        "149:67094756:vt=2014091218\n",
        "150:67468706:vt=2014091218\n",
        "151:67842656:vt=2014091218\n",
        "152:68341166:vt=2014091218\n",
        "153:68839700:vt=2014091219\n",
        "154:69338210:vt=2014091219\n",
        "155:69836720:vt=2014091219\n",
        "156:70335230:vt=2014091219\n",
        "157:70833740:vt=2014091219\n",
        "158:71332250:vt=2014091219\n",
        "159:71706200:vt=2014091219\n",
        "160:72080150:vt=2014091219\n",
        "161:72578684:vt=2014091220\n",
        "162:73077194:vt=2014091220\n",
        "163:73575704:vt=2014091220\n",
        "164:74074238:vt=2014091220\n",
        "165:74572748:vt=2014091220\n",
        "166:75071258:vt=2014091220\n",
        "167:75445208:vt=2014091220\n",
        "168:75819158:vt=2014091220\n",
        "169:76317668:vt=2014091221\n",
        "170:76816178:vt=2014091221\n",
        "171:77314688:vt=2014091221\n",
        "172:77813198:vt=2014091221\n",
        "173:78187148:vt=2014091221\n",
        "174:78685682:vt=2014091221\n",
        "175:79184192:vt=2014091221\n",
        "176:79558142:vt=2014091221\n",
        "177:80056652:vt=2014091222\n",
        "178:80555162:vt=2014091222\n",
        "179:81053672:vt=2014091222\n",
        "180:81427622:vt=2014091222\n",
        "181:81801572:vt=2014091222\n",
        "182:82300082:vt=2014091222\n",
        "183:82798592:vt=2014091222\n",
        "184:83297102:vt=2014091222\n",
        "185:83795636:vt=2014091223\n",
        "186:84294146:vt=2014091223\n",
        "187:84792656:vt=2014091223\n",
        "188:85291190:vt=2014091223\n",
        "189:85789700:vt=2014091223\n",
        "190:86163650:vt=2014091223\n",
        "191:86537600:vt=2014091223\n",
        "192:87036110:vt=2014091223\n",
        "\n"
       ]
      }
     ],
     "prompt_number": 34
    },
    {
     "cell_type": "code",
     "collapsed": false,
     "input": [
      "outnetcdf = OPERdir+'oper_allvar_y2014m09d12.nc'\n",
      "sp.call([\"./wgrib2\",outgrib,\"-netcdf\",outnetcdf])"
     ],
     "language": "python",
     "metadata": {},
     "outputs": [
      {
       "metadata": {},
       "output_type": "pyout",
       "prompt_number": 44,
       "text": [
        "0"
       ]
      }
     ],
     "prompt_number": 44
    },
    {
     "cell_type": "heading",
     "level": 3,
     "metadata": {},
     "source": [
      "5. Rename the Variables"
     ]
    },
    {
     "cell_type": "markdown",
     "metadata": {},
     "source": [
      "We want [u'nav_lon', u'nav_lat', u'time_counter', u'tair', u'qair', u'u_wind', u'v_wind', u'atmpres', u'precip', u'therm_rad', u'solar']"
     ]
    },
    {
     "cell_type": "code",
     "collapsed": false,
     "input": [
      "data = nc.Dataset(outnetcdf, 'r+')\n",
      "nc_tools.show_variables(data)"
     ],
     "language": "python",
     "metadata": {},
     "outputs": [
      {
       "output_type": "stream",
       "stream": "stdout",
       "text": [
        "[u'y', u'x', u'latitude', u'longitude', u'time', u'UGRD_10maboveground', u'VGRD_10maboveground', u'DSWRF_surface', u'SPFH_2maboveground', u'DLWRF_surface', u'TMP_2maboveground', u'PRMSL_meansealevel', u'APCP_surface']\n"
       ]
      }
     ],
     "prompt_number": 45
    },
    {
     "cell_type": "code",
     "collapsed": false,
     "input": [
      "data.renameVariable('latitude','nav_lat')\n",
      "data.renameVariable('longitude','nav_lon')\n",
      "data.renameVariable('time','time_counter')\n",
      "data.renameVariable('UGRD_10maboveground','u_wind')\n",
      "data.renameVariable('VGRD_10maboveground','v_wind')\n",
      "data.renameVariable('DSWRF_surface','solar')\n",
      "data.renameVariable('SPFH_2maboveground','qair')\n",
      "data.renameVariable('DLWRF_surface','therm_rad')\n",
      "data.renameVariable('TMP_2maboveground','tair')\n",
      "data.renameVariable('PRMSL_meansealevel','atmpres')\n",
      "data.renameVariable('APCP_surface','precip')\n",
      "nc_tools.show_variables(data)"
     ],
     "language": "python",
     "metadata": {},
     "outputs": [
      {
       "output_type": "stream",
       "stream": "stdout",
       "text": [
        "[u'y', u'x', 'nav_lat', 'nav_lon', 'time_counter', 'u_wind', 'v_wind', 'solar', 'qair', 'therm_rad', 'tair', 'atmpres', 'precip']\n"
       ]
      }
     ],
     "prompt_number": 46
    },
    {
     "cell_type": "code",
     "collapsed": false,
     "input": [
      "Temp = data.variables['tair'][:]\n",
      "plt.pcolormesh(Temp[0])"
     ],
     "language": "python",
     "metadata": {},
     "outputs": [
      {
       "metadata": {},
       "output_type": "pyout",
       "prompt_number": 49,
       "text": [
        "<matplotlib.collections.QuadMesh at 0x3858e90>"
       ]
      },
      {
       "metadata": {},
       "output_type": "display_data",
       "png": "[encoded data removed]",
       "text": [
        "<matplotlib.figure.Figure at 0x37ae190>"
       ]
      }
     ],
     "prompt_number": 49
    },
    {
     "cell_type": "code",
     "collapsed": false,
     "input": [
      "precip = data.variables['precip'][:]\n",
      "plt.plot(precip[:,400,400])"
     ],
     "language": "python",
     "metadata": {},
     "outputs": [
      {
       "metadata": {},
       "output_type": "pyout",
       "prompt_number": 51,
       "text": [
        "[<matplotlib.lines.Line2D at 0x4519b90>]"
       ]
      },
      {
       "metadata": {},
       "output_type": "display_data",
       "png": "[encoded data removed]",
       "text": [
        "<matplotlib.figure.Figure at 0x4b03690>"
       ]
      }
     ],
     "prompt_number": 51
    },
    {
     "cell_type": "code",
     "collapsed": false,
     "input": [
      "solar = data.variables['solar'][:]\n",
      "plt.plot(solar[:,150,150])"
     ],
     "language": "python",
     "metadata": {},
     "outputs": [
      {
       "metadata": {},
       "output_type": "pyout",
       "prompt_number": 52,
       "text": [
        "[<matplotlib.lines.Line2D at 0x4548d10>]"
       ]
      },
      {
       "metadata": {},
       "output_type": "display_data",
       "png": "[encoded data removed]",
       "text": [
        "<matplotlib.figure.Figure at 0x4aeb790>"
       ]
      }
     ],
     "prompt_number": 52
    },
    {
     "cell_type": "code",
     "collapsed": false,
     "input": [
      "longwave = data.variables['therm_rad'][:]\n",
      "plt.plot(longwave[:,150,150])"
     ],
     "language": "python",
     "metadata": {},
     "outputs": [
      {
       "metadata": {},
       "output_type": "pyout",
       "prompt_number": 54,
       "text": [
        "[<matplotlib.lines.Line2D at 0x4f02c10>]"
       ]
      },
      {
       "metadata": {},
       "output_type": "display_data",
       "png": "[encoded data removed]",
       "text": [
        "<matplotlib.figure.Figure at 0x4ed9150>"
       ]
      }
     ],
     "prompt_number": 54
    },
    {
     "cell_type": "markdown",
     "metadata": {},
     "source": [
      "We have three accumulated variables that we will need to handle"
     ]
    },
    {
     "cell_type": "code",
     "collapsed": false,
     "input": [],
     "language": "python",
     "metadata": {},
     "outputs": []
    }
   ],
   "metadata": {}
  }
 ]
}