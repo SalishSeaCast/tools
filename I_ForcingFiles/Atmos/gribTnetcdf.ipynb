{
 "metadata": {
  "name": "",
  "signature": "sha256:87a48f135cd70c618fc33008c3255f35ea581b01f81391eb63f5498714bf799e"
 },
 "nbformat": 3,
 "nbformat_minor": 0,
 "worksheets": [
  {
   "cells": [
    {
     "cell_type": "markdown",
     "metadata": {},
     "source": [
      "Notebook to convert grib2 files to netCDF files that can be used in NEMO\n",
      "Makes use of wgrib2"
     ]
    },
    {
     "cell_type": "heading",
     "level": 2,
     "metadata": {},
     "source": [
      "GRIB2 Conversion to NetCDF"
     ]
    },
    {
     "cell_type": "code",
     "collapsed": false,
     "input": [
      "import glob\n",
      "%matplotlib inline\n",
      "import matplotlib.pyplot as plt\n",
      "import netCDF4 as nc\n",
      "import numpy as np\n",
      "import os\n",
      "from salishsea_tools import nc_tools\n",
      "import subprocess as sp"
     ],
     "language": "python",
     "metadata": {},
     "outputs": [],
     "prompt_number": 1
    },
    {
     "cell_type": "heading",
     "level": 3,
     "metadata": {},
     "source": [
      "1. Chose the Files"
     ]
    },
    {
     "cell_type": "markdown",
     "metadata": {},
     "source": [
      "We need the 18 forecast from the previous day for the first six hours, the 06 forecast from the current day for the next 12 hours and the 18 forecast from the previous day for the last six hours.  In addition we need the previous forecast for the first section to calculate differences for accumulated variables (hence the -1)"
     ]
    },
    {
     "cell_type": "code",
     "collapsed": false,
     "input": [
      "GRIBdir = '../../../GRIB/'\n",
      "OPERdir = '../../../Operational/'\n",
      "ymd = 'y2014m10d05'\n",
      "HoursWeNeed = {\n",
      "    'part one':  ('20141004/18/', 24-18-1, 24+6-18),\n",
      "    'part two':  ('20141005/06/', 7-6, 18-6),\n",
      "    'part three':('20141005/18/', 19-18, 23-18),\n",
      "}\n"
     ],
     "language": "python",
     "metadata": {},
     "outputs": [],
     "prompt_number": 2
    },
    {
     "cell_type": "heading",
     "level": 3,
     "metadata": {},
     "source": [
      "1b. Chose the Size"
     ]
    },
    {
     "cell_type": "code",
     "collapsed": false,
     "input": [
      "#size = 'full'\n",
      "#size = 'pramod'\n",
      "size = 'watershed'\n",
      "if size == 'full':\n",
      "    fileextra = 'fsize'\n",
      "elif size == 'pramod':\n",
      "    fileextra = '_pramod'\n",
      "    ist = 1; ien = 300\n",
      "    jst = 1; jen = 300\n",
      "elif size == 'watershed':  # see AtmosphericGridSelection.ipynb\n",
      "    fileextra = ''\n",
      "    ist = 110; ien = 365\n",
      "    jst = 20; jen = 285"
     ],
     "language": "python",
     "metadata": {},
     "outputs": [],
     "prompt_number": 3
    },
    {
     "cell_type": "heading",
     "level": 2,
     "metadata": {},
     "source": [
      "Run it"
     ]
    },
    {
     "cell_type": "code",
     "collapsed": false,
     "input": [
      "process_gribUV(GRIBdir,HoursWeNeed)\n",
      "process_gribscalar(GRIBdir,HoursWeNeed)\n",
      "outgrib, outzeros = GRIBappend(OPERdir, GRIBdir, ymd, HoursWeNeed)\n",
      "if size != 'full':\n",
      "    outgrib, outzeros = subsample(OPERdir,ymd, outgrib, outzeros)\n",
      "outnetcdf,out0netcdf = makeCDF(OPERdir, ymd, fileextra, outgrib, outzeros)\n",
      "processCDF(outnetcdf, out0netcdf)\n",
      "renameCDF(outnetcdf)"
     ],
     "language": "python",
     "metadata": {},
     "outputs": [
      {
       "output_type": "stream",
       "stream": "stdout",
       "text": [
        "005\n",
        "1:0:vt=2014100423\n"
       ]
      },
      {
       "output_type": "stream",
       "stream": "stdout",
       "text": [
        "\n",
        "006"
       ]
      },
      {
       "output_type": "stream",
       "stream": "stdout",
       "text": [
        "\n",
        "1:0:vt=2014100500\n"
       ]
      },
      {
       "output_type": "stream",
       "stream": "stdout",
       "text": [
        "\n",
        "007"
       ]
      },
      {
       "output_type": "stream",
       "stream": "stdout",
       "text": [
        "\n",
        "1:0:vt=2014100501\n"
       ]
      },
      {
       "output_type": "stream",
       "stream": "stdout",
       "text": [
        "\n",
        "008"
       ]
      },
      {
       "output_type": "stream",
       "stream": "stdout",
       "text": [
        "\n",
        "1:0:vt=2014100502\n"
       ]
      },
      {
       "output_type": "stream",
       "stream": "stdout",
       "text": [
        "\n",
        "009"
       ]
      },
      {
       "output_type": "stream",
       "stream": "stdout",
       "text": [
        "\n",
        "1:0:vt=2014100503\n"
       ]
      },
      {
       "output_type": "stream",
       "stream": "stdout",
       "text": [
        "\n",
        "010"
       ]
      },
      {
       "output_type": "stream",
       "stream": "stdout",
       "text": [
        "\n",
        "1:0:vt=2014100504\n"
       ]
      },
      {
       "output_type": "stream",
       "stream": "stdout",
       "text": [
        "\n",
        "011"
       ]
      },
      {
       "output_type": "stream",
       "stream": "stdout",
       "text": [
        "\n",
        "1:0:vt=2014100505\n"
       ]
      },
      {
       "output_type": "stream",
       "stream": "stdout",
       "text": [
        "\n",
        "012"
       ]
      },
      {
       "output_type": "stream",
       "stream": "stdout",
       "text": [
        "\n",
        "1:0:vt=2014100506\n"
       ]
      },
      {
       "output_type": "stream",
       "stream": "stdout",
       "text": [
        "\n",
        "001"
       ]
      },
      {
       "output_type": "stream",
       "stream": "stdout",
       "text": [
        "\n",
        "1:0:vt=2014100507\n"
       ]
      },
      {
       "output_type": "stream",
       "stream": "stdout",
       "text": [
        "\n",
        "002"
       ]
      },
      {
       "output_type": "stream",
       "stream": "stdout",
       "text": [
        "\n",
        "1:0:vt=2014100508\n"
       ]
      },
      {
       "output_type": "stream",
       "stream": "stdout",
       "text": [
        "\n",
        "003"
       ]
      },
      {
       "output_type": "stream",
       "stream": "stdout",
       "text": [
        "\n",
        "1:0:vt=2014100509\n"
       ]
      },
      {
       "output_type": "stream",
       "stream": "stdout",
       "text": [
        "\n",
        "004"
       ]
      },
      {
       "output_type": "stream",
       "stream": "stdout",
       "text": [
        "\n",
        "1:0:vt=2014100510\n"
       ]
      },
      {
       "output_type": "stream",
       "stream": "stdout",
       "text": [
        "\n",
        "005"
       ]
      },
      {
       "output_type": "stream",
       "stream": "stdout",
       "text": [
        "\n",
        "1:0:vt=2014100511\n"
       ]
      },
      {
       "output_type": "stream",
       "stream": "stdout",
       "text": [
        "\n",
        "006"
       ]
      },
      {
       "output_type": "stream",
       "stream": "stdout",
       "text": [
        "\n",
        "1:0:vt=2014100512\n"
       ]
      },
      {
       "output_type": "stream",
       "stream": "stdout",
       "text": [
        "\n",
        "007"
       ]
      },
      {
       "output_type": "stream",
       "stream": "stdout",
       "text": [
        "\n",
        "1:0:vt=2014100513\n"
       ]
      },
      {
       "output_type": "stream",
       "stream": "stdout",
       "text": [
        "\n",
        "008"
       ]
      },
      {
       "output_type": "stream",
       "stream": "stdout",
       "text": [
        "\n",
        "1:0:vt=2014100514\n"
       ]
      },
      {
       "output_type": "stream",
       "stream": "stdout",
       "text": [
        "\n",
        "009"
       ]
      },
      {
       "output_type": "stream",
       "stream": "stdout",
       "text": [
        "\n",
        "1:0:vt=2014100515\n"
       ]
      },
      {
       "output_type": "stream",
       "stream": "stdout",
       "text": [
        "\n",
        "010"
       ]
      },
      {
       "output_type": "stream",
       "stream": "stdout",
       "text": [
        "\n",
        "1:0:vt=2014100516\n"
       ]
      },
      {
       "output_type": "stream",
       "stream": "stdout",
       "text": [
        "\n",
        "011"
       ]
      },
      {
       "output_type": "stream",
       "stream": "stdout",
       "text": [
        "\n",
        "1:0:vt=2014100517\n"
       ]
      },
      {
       "output_type": "stream",
       "stream": "stdout",
       "text": [
        "\n",
        "012"
       ]
      },
      {
       "output_type": "stream",
       "stream": "stdout",
       "text": [
        "\n",
        "1:0:vt=2014100518\n"
       ]
      },
      {
       "output_type": "stream",
       "stream": "stdout",
       "text": [
        "\n",
        "001"
       ]
      },
      {
       "output_type": "stream",
       "stream": "stdout",
       "text": [
        "\n",
        "1:0:vt=2014100519\n"
       ]
      },
      {
       "output_type": "stream",
       "stream": "stdout",
       "text": [
        "\n",
        "002"
       ]
      },
      {
       "output_type": "stream",
       "stream": "stdout",
       "text": [
        "\n",
        "1:0:vt=2014100520\n"
       ]
      },
      {
       "output_type": "stream",
       "stream": "stdout",
       "text": [
        "\n",
        "003"
       ]
      },
      {
       "output_type": "stream",
       "stream": "stdout",
       "text": [
        "\n",
        "1:0:vt=2014100521\n"
       ]
      },
      {
       "output_type": "stream",
       "stream": "stdout",
       "text": [
        "\n",
        "004"
       ]
      },
      {
       "output_type": "stream",
       "stream": "stdout",
       "text": [
        "\n",
        "1:0:vt=2014100522\n"
       ]
      },
      {
       "output_type": "stream",
       "stream": "stdout",
       "text": [
        "\n",
        "005"
       ]
      },
      {
       "output_type": "stream",
       "stream": "stdout",
       "text": [
        "\n",
        "1:0:vt=2014100523\n"
       ]
      },
      {
       "output_type": "stream",
       "stream": "stdout",
       "text": [
        "\n",
        "../../../GRIB/20141004/18/005/UVrot.grib"
       ]
      },
      {
       "output_type": "stream",
       "stream": "stdout",
       "text": [
        " ../../../GRIB/20141004/18/005/gscalar.grib\n",
        "[u'y', u'x', u'latitude', u'longitude', u'time', u'UGRD_10maboveground', u'VGRD_10maboveground', u'APCP_surface', u'SPFH_2maboveground', u'DLWRF_surface', u'PRMSL_meansealevel', u'DSWRF_surface', u'TMP_2maboveground']"
       ]
      },
      {
       "output_type": "stream",
       "stream": "stdout",
       "text": [
        "\n",
        "[u'y', u'x', 'nav_lat', 'nav_lon', 'time_counter', 'u_wind', 'v_wind', 'solar', 'qair', 'therm_rad', 'tair', 'atmpres', 'precip']"
       ]
      },
      {
       "output_type": "stream",
       "stream": "stdout",
       "text": [
        "\n"
       ]
      },
      {
       "metadata": {},
       "output_type": "display_data",
       "png": "[encoded data removed]",
       "text": [
        "<matplotlib.figure.Figure at 0x3c60a90>"
       ]
      }
     ],
     "prompt_number": 44
    },
    {
     "cell_type": "heading",
     "level": 3,
     "metadata": {},
     "source": [
      "2. Twist u,v wind speed from grid IJ direction to N/S directions"
     ]
    },
    {
     "cell_type": "markdown",
     "metadata": {},
     "source": [
      "First append the u and v components, then rotate"
     ]
    },
    {
     "cell_type": "code",
     "collapsed": false,
     "input": [
      "def process_gribUV(GRIBdir,HoursWeNeed):\n",
      "    '''Script to align winds with N/S, amalgamate files'''\n",
      "    for part in ('part one','part two','part three'):\n",
      "        for fhour in range(HoursWeNeed[part][1],HoursWeNeed[part][2]+1):\n",
      "        \n",
      "            # set up directories and files\n",
      "            sfhour = '{:0=3}'.format(fhour)\n",
      "            print sfhour\n",
      "            dire = HoursWeNeed[part][0]\n",
      "            outuv = GRIBdir+dire+sfhour+'/UV.grib' \n",
      "            try:\n",
      "                os.remove(outuv)\n",
      "            except Exception: \n",
      "                pass\n",
      "            outuvrot = GRIBdir+dire+sfhour+'/UVrot.grib'\n",
      "            try:\n",
      "                os.remove(outuvrot)\n",
      "            except Exception:\n",
      "                pass\n",
      "        \n",
      "            # append U and V\n",
      "            fn = glob.glob(GRIBdir+dire+sfhour+'/*UGRD*')\n",
      "            sp.call([\"./wgrib2\",fn[0],\"-append\",\"-grib\",outuv])\n",
      "            fn = glob.glob(GRIBdir+dire+sfhour+'/*VGRD*')\n",
      "            sp.call([\"./wgrib2\",fn[0],\"-append\",\"-grib\",outuv])\n",
      "            print sp.check_output([\"./wgrib2\",fn[0],\"-vt\"])\n",
      "        \n",
      "            # rotate\n",
      "            GRIDspec = sp.check_output(\n",
      "                [\"/ocean/sallen/allen/research/Meopar/private-tools/PThupaki/grid_defn.pl\",outuv])\n",
      "            cmd = [\"./wgrib2\", outuv]\n",
      "            cmd.extend(\"-new_grid_winds earth\".split())\n",
      "            cmd.append(\"-new_grid\")\n",
      "            cmd.extend(GRIDspec.split())\n",
      "            cmd.append(outuvrot)\n",
      "            sp.call(cmd)\n",
      "            os.remove(outuv)\n",
      "        "
     ],
     "language": "python",
     "metadata": {},
     "outputs": [],
     "prompt_number": 39
    },
    {
     "cell_type": "heading",
     "level": 3,
     "metadata": {},
     "source": [
      "3. Collate the Files"
     ]
    },
    {
     "cell_type": "markdown",
     "metadata": {},
     "source": [
      "First we collate the non-vectors fields and move them to the same grid as the vectors fields which I believe is the same as the original grid but not exact enough for wgrib2.  Then we collate the lot.\n",
      "Key command is ./wgrib2 filename -append -grib outfile > logfile 2>&1"
     ]
    },
    {
     "cell_type": "code",
     "collapsed": false,
     "input": [
      "def process_gribscalar(GRIBdir,HoursWeNeed):\n",
      "    '''append scalar files, put on same grid as UV'''\n",
      "    for part in ('part one','part two','part three'):\n",
      "        for fhour in range(HoursWeNeed[part][1],HoursWeNeed[part][2]+1):\n",
      "            \n",
      "            # set up directories and files\n",
      "            sfhour = '{:0=3}'.format(fhour)\n",
      "            dire = HoursWeNeed[part][0]\n",
      "            outscalar = GRIBdir+dire+sfhour+'/scalar.grib' \n",
      "            try:\n",
      "                os.remove(outscalar)\n",
      "            except Exception: \n",
      "                pass\n",
      "            outscalargrid = GRIBdir+dire+sfhour+'/gscalar.grib'\n",
      "            try:\n",
      "                os.remove(outscalargrid)\n",
      "            except Exception: \n",
      "                pass\n",
      "            for fn in glob.glob(GRIBdir+dire+sfhour+'/*'):\n",
      "                if not (\"GRD\" in fn) and (\"CMC\" in fn):                \n",
      "                    sp.call([\"./wgrib2\",fn,\"-append\",\"-grib\",outscalar])\n",
      "    #  put on new grid\n",
      "            GRIDspec = sp.check_output(\n",
      "              [\"/ocean/sallen/allen/research/Meopar/private-tools/PThupaki/grid_defn.pl\",outscalar])\n",
      "            cmd = [\"./wgrib2\", outscalar]\n",
      "            cmd.append(\"-new_grid\")\n",
      "            cmd.extend(GRIDspec.split())\n",
      "            cmd.append(outscalargrid)\n",
      "            sp.call(cmd)\n",
      "            os.remove(outscalar)"
     ],
     "language": "python",
     "metadata": {},
     "outputs": [],
     "prompt_number": 40
    },
    {
     "cell_type": "code",
     "collapsed": false,
     "input": [
      "def GRIBappend(OPERdir, GRIBdir, ymd, HoursWeNeed):\n",
      "    '''Append all the hours and the vector and scalar files'''\n",
      "    outgrib = os.path.join(OPERdir, 'oper_allvar_{ymd}.grib'.format(ymd=ymd))   \n",
      "    outzeros = os.path.join(OPERdir, 'oper_000_{ymd}.grib'.format(ymd=ymd))\n",
      "    try:\n",
      "        os.unremove(outgrib)\n",
      "    except Exception: \n",
      "        pass\n",
      "    try:\n",
      "        os.remove(outzeros)\n",
      "    except Exception: \n",
      "        pass\n",
      "\n",
      "    for part in ('part one','part two','part three'):\n",
      "        for fhour in range(HoursWeNeed[part][1],HoursWeNeed[part][2]+1):\n",
      "        \n",
      "            # set up directories and files\n",
      "            sfhour = '{:0=3}'.format(fhour)\n",
      "            dire = HoursWeNeed[part][0]\n",
      "            outuvrot = GRIBdir+dire+sfhour+'/UVrot.grib'\n",
      "            outscalargrid = GRIBdir+dire+sfhour+'/gscalar.grib'\n",
      "            if fhour == 0 or (part == 'part one' and fhour == 5):\n",
      "                print outuvrot, outscalargrid\n",
      "                sp.call([\"./wgrib2\",outuvrot,\"-append\",\"-grib\",outzeros])\n",
      "                sp.call([\"./wgrib2\",outscalargrid,\"-append\",\"-grib\",outzeros]) \n",
      "            else:\n",
      "                sp.call([\"./wgrib2\",outuvrot,\"-append\",\"-grib\",outgrib])\n",
      "                sp.call([\"./wgrib2\",outscalargrid,\"-append\",\"-grib\",outgrib]) \n",
      "            os.remove(outuvrot)\n",
      "            os.remove(outscalargrid)\n",
      "    return outgrib, outzeros"
     ],
     "language": "python",
     "metadata": {},
     "outputs": [],
     "prompt_number": 41
    },
    {
     "cell_type": "heading",
     "level": 3,
     "metadata": {},
     "source": [
      "3b.  Subsample if necessary"
     ]
    },
    {
     "cell_type": "markdown",
     "metadata": {},
     "source": [
      "Key command is ./wgrib2 ingrib -ijsmall_grib ist:ien jst:jen outgrib"
     ]
    },
    {
     "cell_type": "code",
     "collapsed": false,
     "input": [
      "def subsample(OPERdir, ymd, outgrib, outzeros):\n",
      "    '''sub sample onto smaller grid'''\n",
      "    newgrib = os.path.join(OPERdir, 'oper_allvar_small_{ymd}.grib'.format(ymd=ymd))\n",
      "    newzeros = os.path.join(OPERdir, 'oper_000_small_{ymd}.grib'.format(ymd=ymd))\n",
      "    istr = '{ist}:{ien}'.format(ist=ist,ien=ien)\n",
      "    jstr = '{jst}:{jen}'.format(jst=jst,jen=jen)\n",
      "    sp.call([\"./wgrib2\", outgrib, \"-ijsmall_grib\",istr,jstr,newgrib])    \n",
      "    sp.call([\"./wgrib2\", outzeros, \"-ijsmall_grib\",istr,jstr,newzeros])\n",
      "    os.remove(outgrib)\n",
      "    os.remove(outzeros)\n",
      "    return newgrib, newzeros"
     ],
     "language": "python",
     "metadata": {},
     "outputs": [],
     "prompt_number": 21
    },
    {
     "cell_type": "heading",
     "level": 3,
     "metadata": {},
     "source": [
      "4. Convert to NetCDF"
     ]
    },
    {
     "cell_type": "markdown",
     "metadata": {},
     "source": [
      "Key command is ./wgrib2 outgrib -netcdf outnetcdf"
     ]
    },
    {
     "cell_type": "code",
     "collapsed": false,
     "input": [
      "def makeCDF(OPERdir,ymd,fileextra,outgrid,outzeros):\n",
      "    '''convert the grid files to netcdf (classic) files'''\n",
      "    outnetcdf = os.path.join(OPERdir, 'ops{fileextra}_{ymd}.nc'.format(fileextra=fileextra, ymd=ymd))\n",
      "    out0netcdf = os.path.join(OPERdir, 'oper_000_{ymd}.nc'.format(ymd=ymd))\n",
      "    sp.call([\"./wgrib2\", outgrib, \"-netcdf\", outnetcdf])\n",
      "    sp.call([\"./wgrib2\", outzeros, \"-netcdf\", out0netcdf])\n",
      "    os.remove(outgrib)\n",
      "    os.remove(outzeros)\n",
      "    return outnetcdf,out0netcdf"
     ],
     "language": "python",
     "metadata": {},
     "outputs": [],
     "prompt_number": 26
    },
    {
     "cell_type": "heading",
     "level": 3,
     "metadata": {},
     "source": [
      "5. Calculate the Accumulated Variables"
     ]
    },
    {
     "cell_type": "markdown",
     "metadata": {},
     "source": [
      "Subtract previous accumulated values to get hourly numbers.  Then divide by 3600. to get per second."
     ]
    },
    {
     "cell_type": "code",
     "collapsed": false,
     "input": [
      "def processCDF(outnetcdf, out0netcdf):\n",
      "    '''calculate instantaneous values for accumulated variables'''\n",
      "    data = nc.Dataset(outnetcdf, 'r+')\n",
      "    data0 = nc.Dataset(out0netcdf, 'r')\n",
      "    acc_vars = ('APCP_surface', 'DSWRF_surface', 'DLWRF_surface')\n",
      "    acc_values = {\n",
      "        'acc': {},\n",
      "        'zero': {},\n",
      "        'inst': {},\n",
      "    }\n",
      "    for var in acc_vars:\n",
      "        acc_values['acc'][var] = data.variables[var][:]\n",
      "        acc_values['zero'][var] = data0.variables[var][:]\n",
      "        acc_values['inst'][var] = np.empty_like(acc_values['acc'][var])\n",
      "    plt.subplot(2,3,1)\n",
      "    plt.plot(acc_values['acc']['APCP_surface'][:,200,200],'o-')\n",
      "\n",
      "    for var in acc_vars:\n",
      "        acc_values['inst'][var][0] = (acc_values['acc'][var][0] - acc_values['zero'][var][0])/3600.\n",
      "        for t in range(1,7):\n",
      "            acc_values['inst'][var][t] = (acc_values['acc'][var][t] - acc_values['acc'][var][t-1])/3600.    \n",
      "        acc_values['inst'][var][7] = acc_values['acc'][var][7]/3600.\n",
      "        for t in range(8,19):\n",
      "            acc_values['inst'][var][t] = (acc_values['acc'][var][t] - acc_values['acc'][var][t-1])/3600.\n",
      "        acc_values['inst'][var][19] = (acc_values['acc'][var][19])/3600.\n",
      "        for t in range(20,24):\n",
      "            acc_values['inst'][var][t] = (acc_values['acc'][var][t] - acc_values['acc'][var][t-1])/3600.\n",
      "    plt.subplot(2,3,2)\n",
      "    plt.plot(acc_values['inst']['APCP_surface'][:,200,200])\n",
      "    for var in acc_vars:\n",
      "        data.variables[var][:] = acc_values['inst'][var][:]\n",
      "    data.close()\n",
      "    data0.close()\n",
      "    os.remove(out0netcdf)"
     ],
     "language": "python",
     "metadata": {},
     "outputs": [],
     "prompt_number": 42
    },
    {
     "cell_type": "code",
     "collapsed": false,
     "input": [
      "data = nc.Dataset(outnetcdf, 'r')\n",
      "precip = data.variables['APCP_surface'][:]\n",
      "plt.plot(precip[:,200,200],'o-')\n",
      "data.close()"
     ],
     "language": "python",
     "metadata": {},
     "outputs": [
      {
       "metadata": {},
       "output_type": "display_data",
       "png": "[encoded data removed]",
       "text": [
        "<matplotlib.figure.Figure at 0x16b58b90>"
       ]
      }
     ],
     "prompt_number": 126
    },
    {
     "cell_type": "heading",
     "level": 3,
     "metadata": {},
     "source": [
      "6. Rename the Variables"
     ]
    },
    {
     "cell_type": "markdown",
     "metadata": {},
     "source": [
      "We want [u'nav_lon', u'nav_lat', u'time_counter', u'tair', u'qair', u'u_wind', u'v_wind', u'atmpres', u'precip', u'therm_rad', u'solar']"
     ]
    },
    {
     "cell_type": "code",
     "collapsed": false,
     "input": [
      "def renameCDF(outnetcdf):\n",
      "    '''rename variables to match NEMO naming conventions'''\n",
      "    data = nc.Dataset(outnetcdf, 'r+')\n",
      "    nc_tools.show_variables(data)\n",
      "    data.renameDimension('time','time_counter')\n",
      "    data.renameVariable('latitude','nav_lat')\n",
      "    data.renameVariable('longitude','nav_lon')\n",
      "    data.renameVariable('time','time_counter')\n",
      "    data.renameVariable('UGRD_10maboveground','u_wind')\n",
      "    data.renameVariable('VGRD_10maboveground','v_wind')\n",
      "    data.renameVariable('DSWRF_surface','solar')\n",
      "    data.renameVariable('SPFH_2maboveground','qair')\n",
      "    data.renameVariable('DLWRF_surface','therm_rad')\n",
      "    data.renameVariable('TMP_2maboveground','tair')\n",
      "    data.renameVariable('PRMSL_meansealevel','atmpres')\n",
      "    data.renameVariable('APCP_surface','precip')\n",
      "    nc_tools.show_variables(data)\n",
      "    Temp = data.variables['tair'][:]\n",
      "    plt.subplot(2,3,3)\n",
      "    plt.pcolormesh(Temp[0])\n",
      "    plt.subplot(2,3,4)\n",
      "    precip = data.variables['precip'][:]\n",
      "    plt.plot(precip[:,200,200])\n",
      "    solar = data.variables['solar'][:]\n",
      "    plt.subplot(2,3,5)\n",
      "    plt.plot(solar[:,150,150])\n",
      "    longwave = data.variables['therm_rad'][:]\n",
      "    plt.subplot(2,3,6)\n",
      "    plt.plot(longwave[:,150,150])\n",
      "    \n",
      "    data.close()"
     ],
     "language": "python",
     "metadata": {},
     "outputs": [],
     "prompt_number": 43
    },
    {
     "cell_type": "code",
     "collapsed": false,
     "input": [],
     "language": "python",
     "metadata": {},
     "outputs": [],
     "prompt_number": 133
    }
   ],
   "metadata": {}
  }
 ]
}