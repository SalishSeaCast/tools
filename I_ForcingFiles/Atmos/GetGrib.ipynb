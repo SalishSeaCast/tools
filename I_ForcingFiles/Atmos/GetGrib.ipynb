{
 "metadata": {
  "name": "",
  "signature": "sha256:12c4b87486b7ab6a43bca4aa93fbb79cea1f4bcfc0f9286cf01a87d3af649a60"
 },
 "nbformat": 3,
 "nbformat_minor": 0,
 "worksheets": [
  {
   "cells": [
    {
     "cell_type": "markdown",
     "metadata": {},
     "source": [
      "Notebook to design script to download GRIB2 data from EC webpage"
     ]
    },
    {
     "cell_type": "code",
     "collapsed": false,
     "input": [
      "# Standard Imports\n",
      "from __future__ import division\n",
      "import numpy as np\n",
      "import arrow\n",
      "import os\n",
      "import subprocess\n",
      "import urllib"
     ],
     "language": "python",
     "metadata": {},
     "outputs": [],
     "prompt_number": 41
    },
    {
     "cell_type": "code",
     "collapsed": false,
     "input": [
      "# variables we need\n",
      "variablenames = (\"UGRD_TGL_10_\",\"VGRD_TGL_10_\",\"DSWRF_SFC_0_\",\"DLWRF_SFC_0_\", \"TMP_TGL_2_\",\n",
      "                 \"SPFH_TGL_2_\",\"APCP_SFC_0_\",\"PRMSL_MSL_0_\")\n",
      "# other parts of the file names\n",
      "lead = \"CMC_hrdps_west_\"\n",
      "centre = \"ps2.5km_\"\n",
      "# first part of URL\n",
      "urllead = \"http://dd.weather.gc.ca/model_hrdps/west/grib2/\"\n",
      "# head of destination directory (your MEOPAR/GRIB)\n",
      "dirlead = \"../../../GRIB/\""
     ],
     "language": "python",
     "metadata": {},
     "outputs": [],
     "prompt_number": 37
    },
    {
     "cell_type": "code",
     "collapsed": false,
     "input": [
      "# things we may want to read as arguments?\n",
      "forecasts = ('06','18')\n",
      "utc = arrow.utcnow()\n",
      "now = utc.to('Canada/Pacific')\n",
      "date = now.format('YYYYMMDD')\n",
      "print now\n",
      "print date"
     ],
     "language": "python",
     "metadata": {},
     "outputs": [
      {
       "output_type": "stream",
       "stream": "stdout",
       "text": [
        "2014-09-11T20:03:16.927790-07:00\n",
        "20140911\n"
       ]
      }
     ],
     "prompt_number": 38
    },
    {
     "cell_type": "code",
     "collapsed": false,
     "input": [],
     "language": "python",
     "metadata": {},
     "outputs": [],
     "prompt_number": 38
    },
    {
     "cell_type": "code",
     "collapsed": false,
     "input": [
      "# for testing\n",
      "os.chdir('/Users/sallen/Documents/MeoPar/Tools/I_ForcingFiles/Atmos')"
     ],
     "language": "python",
     "metadata": {},
     "outputs": [],
     "prompt_number": 42
    },
    {
     "cell_type": "code",
     "collapsed": false,
     "input": [
      "os.chdir(dirlead)\n",
      "os.mkdir(date)\n",
      "os.chdir(date)\n",
      "for forecast in forecasts:\n",
      "    os.mkdir(forecast)\n",
      "    os.chdir(forecast)\n",
      "    for fhour in range(1,42+1):\n",
      "        sfhour = '{:0=3}'.format(fhour)\n",
      "        os.mkdir(sfhour)\n",
      "        os.chdir(sfhour)\n",
      "        for v in variablenames:\n",
      "            filename = lead+v+centre+date+forecast+'_P'+sfhour+'-00.grib2'\n",
      "            fileURL = urllead+forecast+'/'+sfhour+'/'+filename\n",
      "            urllib.urlretrieve(fileURL, filename)\n",
      "        os.chdir('..')\n",
      "    os.chdir('..')"
     ],
     "language": "python",
     "metadata": {},
     "outputs": [],
     "prompt_number": 43
    },
    {
     "cell_type": "code",
     "collapsed": false,
     "input": [
      "filename = '{lead}{}{}{}{}_P{}-00.grib2'.format()\n",
      "url = 'http://{}/{}/{}/{}'.format(urllead, forecast, sfhour, filename)"
     ],
     "language": "python",
     "metadata": {},
     "outputs": []
    },
    {
     "cell_type": "code",
     "collapsed": false,
     "input": [],
     "language": "python",
     "metadata": {},
     "outputs": []
    }
   ],
   "metadata": {}
  }
 ]
}