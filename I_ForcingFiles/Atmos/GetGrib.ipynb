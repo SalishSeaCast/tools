{
 "metadata": {
  "name": "",
  "signature": "sha256:73a153678d9297aa7d19a85145582940c88770963a414a7036f8bfcf8cd949ba"
 },
 "nbformat": 3,
 "nbformat_minor": 0,
 "worksheets": [
  {
   "cells": [
    {
     "cell_type": "markdown",
     "metadata": {},
     "source": [
      "Notebook to design script to download GRIB2 data from EC webpage"
     ]
    },
    {
     "cell_type": "code",
     "collapsed": false,
     "input": [
      "# Standard Imports\n",
      "from __future__ import division\n",
      "import arrow\n",
      "import os\n",
      "import urllib"
     ],
     "language": "python",
     "metadata": {},
     "outputs": [],
     "prompt_number": 1
    },
    {
     "cell_type": "code",
     "collapsed": false,
     "input": [
      "# variables we need\n",
      "variablenames = (\"UGRD_TGL_10_\",\"VGRD_TGL_10_\",\"DSWRF_SFC_0_\",\"DLWRF_SFC_0_\", \"TMP_TGL_2_\",\n",
      "                 \"SPFH_TGL_2_\",\"APCP_SFC_0_\",\"PRMSL_MSL_0_\")\n",
      "# template for filename\n",
      "filename_template = 'CMC_hrdps_west_{variable}ps2.5km_{date}{forecast}_P{hour}-00.grib2'\n",
      "# template for URL\n",
      "url_template = 'https://dd.weather.gc.ca/model_hrdps/west/grib2/{forecast}/{hour}/'\n",
      "# head of destination directory (your MEOPAR/GRIB)\n",
      "dirlead = \"../../../GRIB/\""
     ],
     "language": "python",
     "metadata": {},
     "outputs": [],
     "prompt_number": 2
    },
    {
     "cell_type": "code",
     "collapsed": false,
     "input": [
      "# things we may want to read as arguments?\n",
      "forecasts = ('06','18')\n",
      "utc = arrow.utcnow()\n",
      "now = utc.to('Canada/Pacific')\n",
      "date = now.format('YYYYMMDD')\n",
      "print now\n",
      "print date"
     ],
     "language": "python",
     "metadata": {},
     "outputs": [
      {
       "output_type": "stream",
       "stream": "stdout",
       "text": [
        "2014-09-14T16:57:04.649680-07:00\n",
        "20140914\n"
       ]
      }
     ],
     "prompt_number": 3
    },
    {
     "cell_type": "code",
     "collapsed": false,
     "input": [
      "os.chdir(dirlead)\n",
      "os.mkdir(date)\n",
      "os.chdir(date)\n",
      "for forecast in forecasts:\n",
      "    os.mkdir(forecast)\n",
      "    os.chdir(forecast)\n",
      "    for fhour in range(1,42+1):\n",
      "        sfhour = '{:0=3}'.format(fhour)\n",
      "        os.mkdir(sfhour)\n",
      "        os.chdir(sfhour)\n",
      "        for v in variablenames:\n",
      "            filename = filename_template.format(variable=v,date=date,forecast=forecast,hour=sfhour)\n",
      "            fileURL = url_template.format(forecast=forecast,hour=sfhour)+filename\n",
      "            urllib.urlretrieve(fileURL, filename)\n",
      "        os.chdir('..')\n",
      "    os.chdir('..')"
     ],
     "language": "python",
     "metadata": {},
     "outputs": [
      {
       "ename": "KeyboardInterrupt",
       "evalue": "",
       "output_type": "pyerr",
       "traceback": [
        "\u001B[0;31m---------------------------------------------------------------------------\u001B[0m\n\u001B[0;31mKeyboardInterrupt\u001B[0m                         Traceback (most recent call last)",
        "\u001B[0;32m<ipython-input-5-4a3fe3e7c6b5>\u001B[0m in \u001B[0;36m<module>\u001B[0;34m()\u001B[0m\n\u001B[1;32m     12\u001B[0m             \u001B[0mfilename\u001B[0m \u001B[0;34m=\u001B[0m \u001B[0mfilename_template\u001B[0m\u001B[0;34m.\u001B[0m\u001B[0mformat\u001B[0m\u001B[0;34m(\u001B[0m\u001B[0mvariable\u001B[0m\u001B[0;34m=\u001B[0m\u001B[0mv\u001B[0m\u001B[0;34m,\u001B[0m\u001B[0mdate\u001B[0m\u001B[0;34m=\u001B[0m\u001B[0mdate\u001B[0m\u001B[0;34m,\u001B[0m\u001B[0mforecast\u001B[0m\u001B[0;34m=\u001B[0m\u001B[0mforecast\u001B[0m\u001B[0;34m,\u001B[0m\u001B[0mhour\u001B[0m\u001B[0;34m=\u001B[0m\u001B[0msfhour\u001B[0m\u001B[0;34m)\u001B[0m\u001B[0;34m\u001B[0m\u001B[0m\n\u001B[1;32m     13\u001B[0m             \u001B[0mfileURL\u001B[0m \u001B[0;34m=\u001B[0m \u001B[0murl_template\u001B[0m\u001B[0;34m.\u001B[0m\u001B[0mformat\u001B[0m\u001B[0;34m(\u001B[0m\u001B[0mforecast\u001B[0m\u001B[0;34m=\u001B[0m\u001B[0mforecast\u001B[0m\u001B[0;34m,\u001B[0m\u001B[0mhour\u001B[0m\u001B[0;34m=\u001B[0m\u001B[0msfhour\u001B[0m\u001B[0;34m)\u001B[0m\u001B[0;34m+\u001B[0m\u001B[0mfilename\u001B[0m\u001B[0;34m\u001B[0m\u001B[0m\n\u001B[0;32m---> 14\u001B[0;31m             \u001B[0murllib\u001B[0m\u001B[0;34m.\u001B[0m\u001B[0murlretrieve\u001B[0m\u001B[0;34m(\u001B[0m\u001B[0mfileURL\u001B[0m\u001B[0;34m,\u001B[0m \u001B[0mfilename\u001B[0m\u001B[0;34m)\u001B[0m\u001B[0;34m\u001B[0m\u001B[0m\n\u001B[0m\u001B[1;32m     15\u001B[0m         \u001B[0mos\u001B[0m\u001B[0;34m.\u001B[0m\u001B[0mchdir\u001B[0m\u001B[0;34m(\u001B[0m\u001B[0;34m'..'\u001B[0m\u001B[0;34m)\u001B[0m\u001B[0;34m\u001B[0m\u001B[0m\n\u001B[1;32m     16\u001B[0m     \u001B[0mos\u001B[0m\u001B[0;34m.\u001B[0m\u001B[0mchdir\u001B[0m\u001B[0;34m(\u001B[0m\u001B[0;34m'..'\u001B[0m\u001B[0;34m)\u001B[0m\u001B[0;34m\u001B[0m\u001B[0m\n",
        "\u001B[0;32m/Users/sallen/anaconda/lib/python2.7/urllib.pyc\u001B[0m in \u001B[0;36murlretrieve\u001B[0;34m(url, filename, reporthook, data)\u001B[0m\n\u001B[1;32m     92\u001B[0m     \u001B[0;32mif\u001B[0m \u001B[0;32mnot\u001B[0m \u001B[0m_urlopener\u001B[0m\u001B[0;34m:\u001B[0m\u001B[0;34m\u001B[0m\u001B[0m\n\u001B[1;32m     93\u001B[0m         \u001B[0m_urlopener\u001B[0m \u001B[0;34m=\u001B[0m \u001B[0mFancyURLopener\u001B[0m\u001B[0;34m(\u001B[0m\u001B[0;34m)\u001B[0m\u001B[0;34m\u001B[0m\u001B[0m\n\u001B[0;32m---> 94\u001B[0;31m     \u001B[0;32mreturn\u001B[0m \u001B[0m_urlopener\u001B[0m\u001B[0;34m.\u001B[0m\u001B[0mretrieve\u001B[0m\u001B[0;34m(\u001B[0m\u001B[0murl\u001B[0m\u001B[0;34m,\u001B[0m \u001B[0mfilename\u001B[0m\u001B[0;34m,\u001B[0m \u001B[0mreporthook\u001B[0m\u001B[0;34m,\u001B[0m \u001B[0mdata\u001B[0m\u001B[0;34m)\u001B[0m\u001B[0;34m\u001B[0m\u001B[0m\n\u001B[0m\u001B[1;32m     95\u001B[0m \u001B[0;32mdef\u001B[0m \u001B[0murlcleanup\u001B[0m\u001B[0;34m(\u001B[0m\u001B[0;34m)\u001B[0m\u001B[0;34m:\u001B[0m\u001B[0;34m\u001B[0m\u001B[0m\n\u001B[1;32m     96\u001B[0m     \u001B[0;32mif\u001B[0m \u001B[0m_urlopener\u001B[0m\u001B[0;34m:\u001B[0m\u001B[0;34m\u001B[0m\u001B[0m\n",
        "\u001B[0;32m/Users/sallen/anaconda/lib/python2.7/urllib.pyc\u001B[0m in \u001B[0;36mretrieve\u001B[0;34m(self, url, filename, reporthook, data)\u001B[0m\n\u001B[1;32m    266\u001B[0m                     \u001B[0mreporthook\u001B[0m\u001B[0;34m(\u001B[0m\u001B[0mblocknum\u001B[0m\u001B[0;34m,\u001B[0m \u001B[0mbs\u001B[0m\u001B[0;34m,\u001B[0m \u001B[0msize\u001B[0m\u001B[0;34m)\u001B[0m\u001B[0;34m\u001B[0m\u001B[0m\n\u001B[1;32m    267\u001B[0m                 \u001B[0;32mwhile\u001B[0m \u001B[0;36m1\u001B[0m\u001B[0;34m:\u001B[0m\u001B[0;34m\u001B[0m\u001B[0m\n\u001B[0;32m--> 268\u001B[0;31m                     \u001B[0mblock\u001B[0m \u001B[0;34m=\u001B[0m \u001B[0mfp\u001B[0m\u001B[0;34m.\u001B[0m\u001B[0mread\u001B[0m\u001B[0;34m(\u001B[0m\u001B[0mbs\u001B[0m\u001B[0;34m)\u001B[0m\u001B[0;34m\u001B[0m\u001B[0m\n\u001B[0m\u001B[1;32m    269\u001B[0m                     \u001B[0;32mif\u001B[0m \u001B[0mblock\u001B[0m \u001B[0;34m==\u001B[0m \u001B[0;34m\"\"\u001B[0m\u001B[0;34m:\u001B[0m\u001B[0;34m\u001B[0m\u001B[0m\n\u001B[1;32m    270\u001B[0m                         \u001B[0;32mbreak\u001B[0m\u001B[0;34m\u001B[0m\u001B[0m\n",
        "\u001B[0;32m/Users/sallen/anaconda/lib/python2.7/socket.pyc\u001B[0m in \u001B[0;36mread\u001B[0;34m(self, size)\u001B[0m\n\u001B[1;32m    378\u001B[0m                 \u001B[0;31m# fragmentation issues on many platforms.\u001B[0m\u001B[0;34m\u001B[0m\u001B[0;34m\u001B[0m\u001B[0m\n\u001B[1;32m    379\u001B[0m                 \u001B[0;32mtry\u001B[0m\u001B[0;34m:\u001B[0m\u001B[0;34m\u001B[0m\u001B[0m\n\u001B[0;32m--> 380\u001B[0;31m                     \u001B[0mdata\u001B[0m \u001B[0;34m=\u001B[0m \u001B[0mself\u001B[0m\u001B[0;34m.\u001B[0m\u001B[0m_sock\u001B[0m\u001B[0;34m.\u001B[0m\u001B[0mrecv\u001B[0m\u001B[0;34m(\u001B[0m\u001B[0mleft\u001B[0m\u001B[0;34m)\u001B[0m\u001B[0;34m\u001B[0m\u001B[0m\n\u001B[0m\u001B[1;32m    381\u001B[0m                 \u001B[0;32mexcept\u001B[0m \u001B[0merror\u001B[0m\u001B[0;34m,\u001B[0m \u001B[0me\u001B[0m\u001B[0;34m:\u001B[0m\u001B[0;34m\u001B[0m\u001B[0m\n\u001B[1;32m    382\u001B[0m                     \u001B[0;32mif\u001B[0m \u001B[0me\u001B[0m\u001B[0;34m.\u001B[0m\u001B[0margs\u001B[0m\u001B[0;34m[\u001B[0m\u001B[0;36m0\u001B[0m\u001B[0;34m]\u001B[0m \u001B[0;34m==\u001B[0m \u001B[0mEINTR\u001B[0m\u001B[0;34m:\u001B[0m\u001B[0;34m\u001B[0m\u001B[0m\n",
        "\u001B[0;31mKeyboardInterrupt\u001B[0m: "
       ]
      }
     ],
     "prompt_number": 5
    },
    {
     "cell_type": "code",
     "collapsed": false,
     "input": [
      "# now we have a script you can just run this!\n",
      "\n",
      "import GetGrib\n",
      "GetGrib.GetGrib()"
     ],
     "language": "python",
     "metadata": {},
     "outputs": [
      {
       "output_type": "stream",
       "stream": "stdout",
       "text": [
        "20140914\n"
       ]
      },
      {
       "ename": "KeyboardInterrupt",
       "evalue": "",
       "output_type": "pyerr",
       "traceback": [
        "\u001B[0;31m---------------------------------------------------------------------------\u001B[0m\n\u001B[0;31mKeyboardInterrupt\u001B[0m                         Traceback (most recent call last)",
        "\u001B[0;32m<ipython-input-4-39c458f92c45>\u001B[0m in \u001B[0;36m<module>\u001B[0;34m()\u001B[0m\n\u001B[1;32m      1\u001B[0m \u001B[0;32mimport\u001B[0m \u001B[0mGetGrib\u001B[0m\u001B[0;34m\u001B[0m\u001B[0m\n\u001B[0;32m----> 2\u001B[0;31m \u001B[0mGetGrib\u001B[0m\u001B[0;34m.\u001B[0m\u001B[0mGetGrib\u001B[0m\u001B[0;34m(\u001B[0m\u001B[0;34m)\u001B[0m\u001B[0;34m\u001B[0m\u001B[0m\n\u001B[0m",
        "\u001B[0;32m/Users/sallen/Documents/MeoPar/GRIB/20140914/06/004/GetGrib.py\u001B[0m in \u001B[0;36mGetGrib\u001B[0;34m()\u001B[0m\n",
        "\u001B[0;32m/Users/sallen/anaconda/lib/python2.7/urllib.pyc\u001B[0m in \u001B[0;36murlretrieve\u001B[0;34m(url, filename, reporthook, data)\u001B[0m\n\u001B[1;32m     92\u001B[0m     \u001B[0;32mif\u001B[0m \u001B[0;32mnot\u001B[0m \u001B[0m_urlopener\u001B[0m\u001B[0;34m:\u001B[0m\u001B[0;34m\u001B[0m\u001B[0m\n\u001B[1;32m     93\u001B[0m         \u001B[0m_urlopener\u001B[0m \u001B[0;34m=\u001B[0m \u001B[0mFancyURLopener\u001B[0m\u001B[0;34m(\u001B[0m\u001B[0;34m)\u001B[0m\u001B[0;34m\u001B[0m\u001B[0m\n\u001B[0;32m---> 94\u001B[0;31m     \u001B[0;32mreturn\u001B[0m \u001B[0m_urlopener\u001B[0m\u001B[0;34m.\u001B[0m\u001B[0mretrieve\u001B[0m\u001B[0;34m(\u001B[0m\u001B[0murl\u001B[0m\u001B[0;34m,\u001B[0m \u001B[0mfilename\u001B[0m\u001B[0;34m,\u001B[0m \u001B[0mreporthook\u001B[0m\u001B[0;34m,\u001B[0m \u001B[0mdata\u001B[0m\u001B[0;34m)\u001B[0m\u001B[0;34m\u001B[0m\u001B[0m\n\u001B[0m\u001B[1;32m     95\u001B[0m \u001B[0;32mdef\u001B[0m \u001B[0murlcleanup\u001B[0m\u001B[0;34m(\u001B[0m\u001B[0;34m)\u001B[0m\u001B[0;34m:\u001B[0m\u001B[0;34m\u001B[0m\u001B[0m\n\u001B[1;32m     96\u001B[0m     \u001B[0;32mif\u001B[0m \u001B[0m_urlopener\u001B[0m\u001B[0;34m:\u001B[0m\u001B[0;34m\u001B[0m\u001B[0m\n",
        "\u001B[0;32m/Users/sallen/anaconda/lib/python2.7/urllib.pyc\u001B[0m in \u001B[0;36mretrieve\u001B[0;34m(self, url, filename, reporthook, data)\u001B[0m\n\u001B[1;32m    266\u001B[0m                     \u001B[0mreporthook\u001B[0m\u001B[0;34m(\u001B[0m\u001B[0mblocknum\u001B[0m\u001B[0;34m,\u001B[0m \u001B[0mbs\u001B[0m\u001B[0;34m,\u001B[0m \u001B[0msize\u001B[0m\u001B[0;34m)\u001B[0m\u001B[0;34m\u001B[0m\u001B[0m\n\u001B[1;32m    267\u001B[0m                 \u001B[0;32mwhile\u001B[0m \u001B[0;36m1\u001B[0m\u001B[0;34m:\u001B[0m\u001B[0;34m\u001B[0m\u001B[0m\n\u001B[0;32m--> 268\u001B[0;31m                     \u001B[0mblock\u001B[0m \u001B[0;34m=\u001B[0m \u001B[0mfp\u001B[0m\u001B[0;34m.\u001B[0m\u001B[0mread\u001B[0m\u001B[0;34m(\u001B[0m\u001B[0mbs\u001B[0m\u001B[0;34m)\u001B[0m\u001B[0;34m\u001B[0m\u001B[0m\n\u001B[0m\u001B[1;32m    269\u001B[0m                     \u001B[0;32mif\u001B[0m \u001B[0mblock\u001B[0m \u001B[0;34m==\u001B[0m \u001B[0;34m\"\"\u001B[0m\u001B[0;34m:\u001B[0m\u001B[0;34m\u001B[0m\u001B[0m\n\u001B[1;32m    270\u001B[0m                         \u001B[0;32mbreak\u001B[0m\u001B[0;34m\u001B[0m\u001B[0m\n",
        "\u001B[0;32m/Users/sallen/anaconda/lib/python2.7/socket.pyc\u001B[0m in \u001B[0;36mread\u001B[0;34m(self, size)\u001B[0m\n\u001B[1;32m    378\u001B[0m                 \u001B[0;31m# fragmentation issues on many platforms.\u001B[0m\u001B[0;34m\u001B[0m\u001B[0;34m\u001B[0m\u001B[0m\n\u001B[1;32m    379\u001B[0m                 \u001B[0;32mtry\u001B[0m\u001B[0;34m:\u001B[0m\u001B[0;34m\u001B[0m\u001B[0m\n\u001B[0;32m--> 380\u001B[0;31m                     \u001B[0mdata\u001B[0m \u001B[0;34m=\u001B[0m \u001B[0mself\u001B[0m\u001B[0;34m.\u001B[0m\u001B[0m_sock\u001B[0m\u001B[0;34m.\u001B[0m\u001B[0mrecv\u001B[0m\u001B[0;34m(\u001B[0m\u001B[0mleft\u001B[0m\u001B[0;34m)\u001B[0m\u001B[0;34m\u001B[0m\u001B[0m\n\u001B[0m\u001B[1;32m    381\u001B[0m                 \u001B[0;32mexcept\u001B[0m \u001B[0merror\u001B[0m\u001B[0;34m,\u001B[0m \u001B[0me\u001B[0m\u001B[0;34m:\u001B[0m\u001B[0;34m\u001B[0m\u001B[0m\n\u001B[1;32m    382\u001B[0m                     \u001B[0;32mif\u001B[0m \u001B[0me\u001B[0m\u001B[0;34m.\u001B[0m\u001B[0margs\u001B[0m\u001B[0;34m[\u001B[0m\u001B[0;36m0\u001B[0m\u001B[0;34m]\u001B[0m \u001B[0;34m==\u001B[0m \u001B[0mEINTR\u001B[0m\u001B[0;34m:\u001B[0m\u001B[0;34m\u001B[0m\u001B[0m\n",
        "\u001B[0;31mKeyboardInterrupt\u001B[0m: "
       ]
      }
     ],
     "prompt_number": 4
    },
    {
     "cell_type": "code",
     "collapsed": false,
     "input": [],
     "language": "python",
     "metadata": {},
     "outputs": []
    }
   ],
   "metadata": {}
  }
 ]
}
