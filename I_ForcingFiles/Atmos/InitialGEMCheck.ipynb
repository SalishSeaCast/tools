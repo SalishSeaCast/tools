{
 "metadata": {
  "name": ""
 },
 "nbformat": 3,
 "nbformat_minor": 0,
 "worksheets": [
  {
   "cells": [
    {
     "cell_type": "markdown",
     "metadata": {},
     "source": [
      "#Initial Check of GEM Products Forcing Data\n",
      "\n",
      "This notebook is about initial checks and exploration of the 2.5 km grid GEM products\n",
      "atmospheric forcing dataset provided by Luc Fillion's group at EC Dorval."
     ]
    },
    {
     "cell_type": "code",
     "collapsed": false,
     "input": [
      "from __future__ import division, print_function\n",
      "\n",
      "import matplotlib.pyplot as plt\n",
      "import netCDF4 as nc\n",
      "import numpy as np\n",
      "\n",
      "from salishsea_tools import (\n",
      "    nc_tools,\n",
      "    viz_tools,\n",
      ")"
     ],
     "language": "python",
     "metadata": {},
     "outputs": [],
     "prompt_number": 1
    },
    {
     "cell_type": "code",
     "collapsed": false,
     "input": [
      "%matplotlib inline"
     ],
     "language": "python",
     "metadata": {},
     "outputs": [],
     "prompt_number": 2
    },
    {
     "cell_type": "markdown",
     "metadata": {},
     "source": [
      "Pull in the bathymetry dataset to use as a map basis:"
     ]
    },
    {
     "cell_type": "code",
     "collapsed": false,
     "input": [
      "grid = nc.Dataset('../../../NEMO-forcing/grid/bathy_meter_SalishSea2.nc')\n",
      "lats = grid.variables['nav_lat']\n",
      "lons = grid.variables['nav_lon']\n",
      "bathy = grid.variables['Bathymetry']"
     ],
     "language": "python",
     "metadata": {},
     "outputs": [],
     "prompt_number": 3
    },
    {
     "cell_type": "markdown",
     "metadata": {},
     "source": [
      "Look at the atmospheric forcing dataset:"
     ]
    },
    {
     "cell_type": "code",
     "collapsed": false,
     "input": [
      "atmos = nc.Dataset('2012121618_006_2.5km_330x300.nc')"
     ],
     "language": "python",
     "metadata": {},
     "outputs": [],
     "prompt_number": 4
    },
    {
     "cell_type": "code",
     "collapsed": false,
     "input": [
      "nc_tools.show_dimensions(atmos)"
     ],
     "language": "python",
     "metadata": {},
     "outputs": [
      {
       "output_type": "stream",
       "stream": "stdout",
       "text": [
        "<type 'netCDF4.Dimension'>: name = 'x', size = 330\n",
        "\n",
        "<type 'netCDF4.Dimension'>: name = 'y', size = 300\n",
        "\n",
        "<type 'netCDF4.Dimension'> (unlimited): name = 'time_counter', size = 1\n",
        "\n"
       ]
      }
     ],
     "prompt_number": 5
    },
    {
     "cell_type": "code",
     "collapsed": false,
     "input": [
      "nc_tools.show_variables(atmos)"
     ],
     "language": "python",
     "metadata": {},
     "outputs": [
      {
       "output_type": "stream",
       "stream": "stdout",
       "text": [
        "[u'nav_lon', u'nav_lat', u'time_counter', u'tair', u'qair', u'u_wind', u'v_wind', u'atmpres', u'precip', u'therm_rad', u'solar']\n"
       ]
      }
     ],
     "prompt_number": 6
    },
    {
     "cell_type": "code",
     "collapsed": false,
     "input": [
      "nc_tools.show_variable_attrs(atmos, 'nav_lat', 'nav_lon')"
     ],
     "language": "python",
     "metadata": {},
     "outputs": [
      {
       "output_type": "stream",
       "stream": "stdout",
       "text": [
        "<type 'netCDF4.Variable'>\n",
        "float32 nav_lat(y, x)\n",
        "    units: degrees_north\n",
        "    valid_min: -90.0\n",
        "    valid_max: 90.0\n",
        "    long_name: Latitude\n",
        "    nav_model: Default grid\n",
        "unlimited dimensions: \n",
        "current shape = (300, 330)\n",
        "filling off\n",
        "\n",
        "<type 'netCDF4.Variable'>\n",
        "float32 nav_lon(y, x)\n",
        "    units: degrees_east\n",
        "    valid_min: 0.0\n",
        "    valid_max: 360.0\n",
        "    long_name: Longitude\n",
        "    nav_model: Default grid\n",
        "unlimited dimensions: \n",
        "current shape = (300, 330)\n",
        "filling off\n",
        "\n"
       ]
      }
     ],
     "prompt_number": 7
    },
    {
     "cell_type": "markdown",
     "metadata": {},
     "source": [
      "Recall that NEMO uses a -180$^\\circ$ to 180$^\\circ$ longitude scale:"
     ]
    },
    {
     "cell_type": "code",
     "collapsed": false,
     "input": [
      "nc_tools.show_variable_attrs(grid, 'nav_lat', 'nav_lon')"
     ],
     "language": "python",
     "metadata": {},
     "outputs": [
      {
       "output_type": "stream",
       "stream": "stdout",
       "text": [
        "<type 'netCDF4.Variable'>\n",
        "float64 nav_lat(y, x)\n",
        "    units: degrees north\n",
        "    valid_range: [ 46.85966492  51.10480118]\n",
        "    long_name: Latitude\n",
        "unlimited dimensions: \n",
        "current shape = (898, 398)\n",
        "filling on, default _FillValue of 9.96920996839e+36 used\n",
        "\n",
        "<type 'netCDF4.Variable'>\n",
        "float64 nav_lon(y, x)\n",
        "    units: degrees east\n",
        "    valid_range: [-126.40029144 -121.31835175]\n",
        "    long_name: Longitude\n",
        "unlimited dimensions: \n",
        "current shape = (898, 398)\n",
        "filling on, default _FillValue of 9.96920996839e+36 used\n",
        "\n"
       ]
      }
     ],
     "prompt_number": 8
    },
    {
     "cell_type": "markdown",
     "metadata": {},
     "source": [
      "Transform longitudes from 0$^\\circ$ to 360$^\\circ$ to -180$^\\circ$ to 180$^\\circ$:"
     ]
    },
    {
     "cell_type": "code",
     "collapsed": false,
     "input": [
      "atmos_lats = atmos.variables['nav_lat']\n",
      "atmos_lons_360 = atmos.variables['nav_lon']\n",
      "\n",
      "atmos_lons = np.zeros_like(atmos_lons_360)\n",
      "for i in xrange(atmos_lons.shape[0]):\n",
      "    mask = atmos_lons_360[i] > 180\n",
      "    atmos_lons[i] = atmos_lons_360[i]\n",
      "    atmos_lons[i, mask] = atmos_lons_360[i, mask] - 360"
     ],
     "language": "python",
     "metadata": {},
     "outputs": [],
     "prompt_number": 9
    },
    {
     "cell_type": "markdown",
     "metadata": {},
     "source": [
      "Plot the atmospheric forcing grid points overlaid on bathymetry map of the NEMO model domain:"
     ]
    },
    {
     "cell_type": "code",
     "collapsed": false,
     "input": [
      "fig, ax = plt.subplots(1, 1, figsize=(10, 8))\n",
      "viz_tools.set_aspect(ax, coords='map', lats=lats)\n",
      "cmap = plt.get_cmap('winter_r')\n",
      "cmap.set_bad('burlywood')\n",
      "mesh = ax.pcolormesh(lons[:], lats[:], bathy[:], cmap=cmap)\n",
      "\n",
      "ax.plot(atmos_lons[:], atmos_lats[:], '+', color='black')\n",
      "\n",
      "ax.set_xlabel('{longitude.long_name} [{longitude.units}]'.format(longitude=lons))\n",
      "ax.set_ylabel('{latitude.long_name} [{latitude.units}]'.format(latitude=lats))"
     ],
     "language": "python",
     "metadata": {},
     "outputs": [
      {
       "metadata": {},
       "output_type": "pyout",
       "prompt_number": 11,
       "text": [
        "<matplotlib.text.Text at 0x108b56e10>"
       ]
      },
      {
       "metadata": {},
       "output_type": "display_data",
       "png": "[encoded data removed]",
       "text": [
        "<matplotlib.figure.Figure at 0x1085b74d0>"
       ]
      }
     ],
     "prompt_number": 11
    },
    {
     "cell_type": "markdown",
     "metadata": {},
     "source": [
      "Something's not right...\n",
      "Get the range of latitude and longitude values in the atmospheric forcing file:"
     ]
    },
    {
     "cell_type": "code",
     "collapsed": false,
     "input": [
      "print(np.percentile(atmos_lats, (0, 100)))\n",
      "print(np.percentile(atmos_lons, (0, 100)))"
     ],
     "language": "python",
     "metadata": {},
     "outputs": [
      {
       "output_type": "stream",
       "stream": "stdout",
       "text": [
        "[-5.3325004577636719, 1.3949998617172241]\n",
        "[-179.97749328613281, 180.0]\n"
       ]
      }
     ],
     "prompt_number": 12
    },
    {
     "cell_type": "markdown",
     "metadata": {},
     "source": [
      "This probably indicates a problem in the preparation of the file.\n",
      "Need to discuss it with the EC folks."
     ]
    }
   ],
   "metadata": {}
  }
 ]
}