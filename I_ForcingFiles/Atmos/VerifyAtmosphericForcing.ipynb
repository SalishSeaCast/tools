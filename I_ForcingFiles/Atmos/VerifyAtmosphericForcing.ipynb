{
 "metadata": {
  "name": ""
 },
 "nbformat": 3,
 "nbformat_minor": 0,
 "worksheets": [
  {
   "cells": [
    {
     "cell_type": "markdown",
     "metadata": {},
     "source": [
      "#Verification of Atmospheric Forcing"
     ]
    },
    {
     "cell_type": "code",
     "collapsed": false,
     "input": [
      "%matplotlib inline\n",
      "from __future__ import division\n",
      "import pprint\n",
      "import matplotlib.pyplot as plt\n",
      "import netCDF4 as nc\n",
      "import numpy as np\n",
      "from salishsea_tools import (\n",
      "    bathy_tools,\n",
      "    nc_tools,\n",
      ")"
     ],
     "language": "python",
     "metadata": {},
     "outputs": [],
     "prompt_number": 1
    },
    {
     "cell_type": "markdown",
     "metadata": {},
     "source": [
      "##CGRF Grid Over the Salish Sea Domain\n",
      "\n",
      "The CGRF results used for atmospheric forcing are on a 33km grid.\n",
      "The figure below shows that grid overlaid on the Salish Sea NEMO domain."
     ]
    },
    {
     "cell_type": "code",
     "collapsed": false,
     "input": [
      "bathy = nc.Dataset('../../../NEMO-forcing/grid/bathy_meter_SalishSea.nc')\n",
      "weights = nc.Dataset('../../../NEMO-forcing/grid/met_gem_weight.nc')"
     ],
     "language": "python",
     "metadata": {},
     "outputs": [],
     "prompt_number": 3
    },
    {
     "cell_type": "code",
     "collapsed": false,
     "input": [
      "nc_tools.show_dimensions(weights)\n",
      "nc_tools.show_variables(weights)"
     ],
     "language": "python",
     "metadata": {},
     "outputs": [
      {
       "output_type": "stream",
       "stream": "stdout",
       "text": [
        "<type 'netCDF4.Dimension'>: name = 'x', size = 398\n",
        "\n",
        "<type 'netCDF4.Dimension'>: name = 'y', size = 898\n",
        "\n",
        "<type 'netCDF4.Dimension'>: name = 'lon', size = 801\n",
        "\n",
        "<type 'netCDF4.Dimension'>: name = 'lat', size = 600\n",
        "\n",
        "<type 'netCDF4.Dimension'>: name = 'numwgt', size = 4\n",
        "\n",
        "[u'nav_lon', u'nav_lat', u'src01', u'wgt01', u'src02', u'wgt02', u'src03', u'wgt03', u'src04', u'wgt04']\n"
       ]
      }
     ],
     "prompt_number": 4
    },
    {
     "cell_type": "code",
     "collapsed": false,
     "input": [
      "nc_tools.show_variable_attrs(weights, 'nav_lat', 'nav_lon')"
     ],
     "language": "python",
     "metadata": {},
     "outputs": [
      {
       "output_type": "stream",
       "stream": "stdout",
       "text": [
        "<type 'netCDF4.Variable'>\n",
        "float64 nav_lat(lat, lon)\n",
        "unlimited dimensions: \n",
        "current shape = (600, 801)\n",
        "\n",
        "<type 'netCDF4.Variable'>\n",
        "float64 nav_lon(lat, lon)\n",
        "unlimited dimensions: \n",
        "current shape = (600, 801)\n",
        "\n"
       ]
      }
     ],
     "prompt_number": 52
    },
    {
     "cell_type": "markdown",
     "metadata": {},
     "source": [
      "The lack of metadata in the weights file is dismaying.\n",
      "Let's check one of the CGRF files."
     ]
    },
    {
     "cell_type": "code",
     "collapsed": false,
     "input": [
      "cgrf_wind_u = nc.Dataset('../../../results/SalishSea/verify_atmos/2002091500_u10.nc')\n",
      "nc_tools.show_dataset_attrs(cgrf_wind_u)\n",
      "nc_tools.show_variables(cgrf_wind_u)"
     ],
     "language": "python",
     "metadata": {},
     "outputs": [
      {
       "output_type": "stream",
       "stream": "stdout",
       "text": [
        "file format: NETCDF3_CLASSIC\n",
        "[u'nav_lon', u'nav_lat', u'time_counter', u'u_wind']\n"
       ]
      }
     ],
     "prompt_number": 53
    },
    {
     "cell_type": "code",
     "collapsed": false,
     "input": [
      "nc_tools.show_variable_attrs(cgrf_wind_u)"
     ],
     "language": "python",
     "metadata": {},
     "outputs": [
      {
       "output_type": "stream",
       "stream": "stdout",
       "text": [
        "<type 'netCDF4.Variable'>\n",
        "float32 nav_lon(y, x)\n",
        "    units: degrees_east\n",
        "    valid_min: 0.0\n",
        "    valid_max: 360.0\n",
        "    long_name: Longitude\n",
        "    nav_model: Default grid\n",
        "unlimited dimensions: \n",
        "current shape = (600, 801)\n",
        "\n",
        "<type 'netCDF4.Variable'>\n",
        "float32 nav_lat(y, x)\n",
        "    units: degrees_north\n",
        "    valid_min: -90.0\n",
        "    valid_max: 90.0\n",
        "    long_name: Latitude\n",
        "    nav_model: Default grid\n",
        "unlimited dimensions: \n",
        "current shape = (600, 801)\n",
        "\n",
        "<type 'netCDF4.Variable'>\n",
        "float64 time_counter(time_counter)\n",
        "    calendar: gregorian\n",
        "    units: seconds since 0006-01-01 00:00:00\n",
        "    time_origin: 0001-JAN-01 00:00:00\n",
        "    title: Time\n",
        "    long_name: Time axis\n",
        "unlimited dimensions: time_counter\n",
        "current shape = (25,)\n",
        "\n",
        "<type 'netCDF4.Variable'>\n",
        "float32 u_wind(time_counter, y, x)\n",
        "    units: m/s\n",
        "    missing_value: 1e+20\n",
        "    valid_min: -100.0\n",
        "    valid_max: 100.0\n",
        "    long_name: zonal wind\n",
        "    short_name: u_wind\n",
        "    online_operation: inst(only(x))\n",
        "    axis: TYX\n",
        "    scale_factor: 1.0\n",
        "    add_offset: 0.0\n",
        "    savelog10: 0.0\n",
        "unlimited dimensions: time_counter\n",
        "current shape = (25, 600, 801)\n",
        "\n"
       ]
      }
     ],
     "prompt_number": 54
    },
    {
     "cell_type": "markdown",
     "metadata": {},
     "source": [
      "The `(25,)` shape of the `time_counter` variable is surprising.\n",
      "\n",
      "We'll assume that the longitudes in the weights file are also on\n",
      "a 0-360 degree basis and transform them to the -180 to 180 basis\n",
      "used by NEMO."
     ]
    },
    {
     "cell_type": "code",
     "collapsed": false,
     "input": [
      "wgt_lats = weights.variables['nav_lat']\n",
      "wgt_lons_360 = weights.variables['nav_lon']\n",
      "wgt_lons = np.zeros_like(wgt_lons_360)\n",
      "for i in xrange(wgt_lons.shape[0]):\n",
      "    mask = wgt_lons_360[i] > 180\n",
      "    wgt_lons[i] = wgt_lons_360[i]\n",
      "    wgt_lons[i, mask] = wgt_lons_360[i, mask] - 360"
     ],
     "language": "python",
     "metadata": {},
     "outputs": [],
     "prompt_number": 115
    },
    {
     "cell_type": "code",
     "collapsed": false,
     "input": [
      "nc_tools.show_variable_attrs(bathy)"
     ],
     "language": "python",
     "metadata": {},
     "outputs": [
      {
       "output_type": "stream",
       "stream": "stdout",
       "text": [
        "<type 'netCDF4.Variable'>\n",
        "float64 nav_lon(y, x)\n",
        "    units: degrees east\n",
        "    valid_range: [-126.40029144 -121.31835175]\n",
        "    long_name: Longitude\n",
        "unlimited dimensions: \n",
        "current shape = (898, 398)\n",
        "\n",
        "<type 'netCDF4.Variable'>\n",
        "float64 nav_lat(y, x)\n",
        "    units: degrees north\n",
        "    valid_range: [ 46.85966492  51.10480118]\n",
        "    long_name: Latitude\n",
        "unlimited dimensions: \n",
        "current shape = (898, 398)\n",
        "\n",
        "<type 'netCDF4.Variable'>\n",
        "float64 Bathymetry(y, x)\n",
        "    _FillValue: 0.0\n",
        "    least_significant_digit: 1\n",
        "    units: m\n",
        "    valid_range: [   0.  428.]\n",
        "    long_name: Depth\n",
        "    positive: down\n",
        "unlimited dimensions: \n",
        "current shape = (898, 398)\n",
        "\n"
       ]
      }
     ],
     "prompt_number": 5
    },
    {
     "cell_type": "code",
     "collapsed": true,
     "input": [
      "fig = bathy_tools.plot_colourmesh(\n",
      "        bathy, 'Salish Sea Domain with CGRF Grid Overlay',\n",
      "        fig_size=(12, 12),\n",
      "        axis_limits=(-126.25, -122.15, 47.075, 50.95))\n",
      "ax, cbar = fig.axes\n",
      "markers = ax.plot(wgt_lons[:], wgt_lats[:], '+', color='black')\n",
      "# CGRF points for comparision with model results\n",
      "markers = ax.plot(wgt_lons[0, 523], wgt_lats[465, 0], 'o', color='red')\n",
      "markers = ax.plot(wgt_lons[0, 526], wgt_lats[463, 0], 'o', color='red')"
     ],
     "language": "python",
     "metadata": {},
     "outputs": [
      {
       "metadata": {},
       "output_type": "display_data",
       "png": "[encoded data removed]",
       "text": [
        "<matplotlib.figure.Figure at 0x1097e3090>"
       ]
      }
     ],
     "prompt_number": 127
    },
    {
     "cell_type": "markdown",
     "metadata": {},
     "source": [
      "###Comparison Points for CGRF and NEMO Results\n",
      "\n",
      "Two CGRF grid points have been chosen to use for comparison\n",
      "to NEMO results:"
     ]
    },
    {
     "cell_type": "code",
     "collapsed": false,
     "input": [
      "cgrf_pts = [\n",
      "    {'wgt_ji': (465, 523)},\n",
      "    {'wgt_ji': (463, 526)},\n",
      "]\n",
      "for p in cgrf_pts:\n",
      "    p['lat_lon'] = (wgt_lats[p['wgt_ji'][0], 0], wgt_lons[0, p['wgt_ji'][1]])\n",
      "    print p['lat_lon']"
     ],
     "language": "python",
     "metadata": {},
     "outputs": [
      {
       "output_type": "stream",
       "stream": "stdout",
       "text": [
        "(49.650001525878906, -124.64999389648438)\n",
        "(49.049999237060547, -123.30000305175781)\n"
       ]
      }
     ],
     "prompt_number": 126
    },
    {
     "cell_type": "markdown",
     "metadata": {},
     "source": [
      "They are marked with red circle markers in the plot above.\n",
      "\n",
      "Now find the nearest model grid points to the CGRF comparison points:"
     ]
    },
    {
     "cell_type": "code",
     "collapsed": false,
     "input": [
      "bathy_lats = bathy.variables['nav_lat']\n",
      "bathy_lons = bathy.variables['nav_lon']"
     ],
     "language": "python",
     "metadata": {},
     "outputs": [],
     "prompt_number": 128
    },
    {
     "cell_type": "code",
     "collapsed": false,
     "input": [
      "def find_nearest_grid_pt(lat, lon, bathy, lat_fuzz=0.0020, lon_fuzz=0.0045):\n",
      "    lats = bathy.variables['nav_lat']\n",
      "    lons = bathy.variables['nav_lon']\n",
      "    lat_rng = np.logical_and(lats > lat - lat_fuzz, lats < lat + lat_fuzz)\n",
      "    lon_rng = np.logical_and(lons > lon - lon_fuzz, lons < lon + lon_fuzz)\n",
      "    j, i = np.where(np.logical_and(lon_rng, lat_rng))\n",
      "    return j, i"
     ],
     "language": "python",
     "metadata": {},
     "outputs": [],
     "prompt_number": 129
    },
    {
     "cell_type": "code",
     "collapsed": false,
     "input": [
      "for p in cgrf_pts:\n",
      "    j, i = find_nearest_grid_pt(p['lat_lon'][0], p['lat_lon'][1], bathy)\n",
      "    p['nearest_ji'] = tuple(map(int, (j, i)))\n",
      "    print p['nearest_ji']"
     ],
     "language": "python",
     "metadata": {},
     "outputs": [
      {
       "output_type": "stream",
       "stream": "stdout",
       "text": [
        "(629, 163)\n",
        "(417, 286)"
       ]
      },
      {
       "output_type": "stream",
       "stream": "stdout",
       "text": [
        "\n"
       ]
      }
     ],
     "prompt_number": 130
    },
    {
     "cell_type": "code",
     "collapsed": false,
     "input": [
      "pprint.pprint(cgrf_pts)"
     ],
     "language": "python",
     "metadata": {},
     "outputs": [
      {
       "output_type": "stream",
       "stream": "stdout",
       "text": [
        "[{'lat_lon': (49.650001525878906, -124.64999389648438),\n",
        "  'nearest_ji': (629, 163),\n",
        "  'wgt_ji': (465, 523)},\n",
        " {'lat_lon': (49.049999237060547, -123.30000305175781),\n",
        "  'nearest_ji': (417, 286),\n",
        "  'wgt_ji': (463, 526)}]\n"
       ]
      }
     ],
     "prompt_number": 131
    },
    {
     "cell_type": "code",
     "collapsed": false,
     "input": [
      "for p in cgrf_pts:\n",
      "    print (bathy.variables['nav_lat'][p['nearest_ji']], \n",
      "           bathy.variables['nav_lon'][p['nearest_ji']])"
     ],
     "language": "python",
     "metadata": {},
     "outputs": [
      {
       "output_type": "stream",
       "stream": "stdout",
       "text": [
        "(49.649738311767578, -124.64822387695312)\n",
        "(49.051143646240234, -123.30149841308594)\n"
       ]
      }
     ],
     "prompt_number": 132
    },
    {
     "cell_type": "markdown",
     "metadata": {},
     "source": [
      "##Calculated Wind Speed\n",
      "\n",
      "A Salish Sea NEMO run was done for 1 hr of model time starting at 00:00 16-Sep-2002\n",
      "with instantaneous output of quantities related to atmospheric forcing\n",
      "at each 50s time step.\n",
      "\n",
      "The wind speed over the domain can be calculated from the $u$ and $v$ components\n",
      "of wind stress:\n",
      "\n",
      "$$s_{wind} = \\sqrt{\\frac{\\sqrt{\\tau_u^2 + \\tau_v^2}}{\\rho_{air} C_D}}$$\n",
      "\n",
      "Note that the $u$ and $v$ grids are not coincident,\n",
      "so without interpolation,\n",
      "that calculation of wind speed is not exact.\n",
      "However,\n",
      "it should be good enough for comparison to the forcing wind speed components\n",
      "from the CGRF results to confirm that wind forcing is being correctly applied\n",
      "by NEMO."
     ]
    },
    {
     "cell_type": "code",
     "collapsed": false,
     "input": [
      "u_grid = nc.Dataset('../../../results/SalishSea/verify_atmos/SalishSea_1h_20020916_20020916_grid_U.nc')\n",
      "nc_tools.show_dataset_attrs(u_grid)"
     ],
     "language": "python",
     "metadata": {},
     "outputs": [
      {
       "output_type": "stream",
       "stream": "stdout",
       "text": [
        "file format: NETCDF3_64BIT\n",
        "Conventions: CF-1.1\n",
        "production: An IPSL model\n",
        "TimeStamp: 19/11/2013 16:17:40 -0800\n",
        "file_name: SalishSea_1h_20020916_20020916_grid_U.nc\n"
       ]
      }
     ],
     "prompt_number": 133
    },
    {
     "cell_type": "code",
     "collapsed": false,
     "input": [
      "nc_tools.show_dimensions(u_grid)"
     ],
     "language": "python",
     "metadata": {},
     "outputs": [
      {
       "output_type": "stream",
       "stream": "stdout",
       "text": [
        "<type 'netCDF4.Dimension'>: name = 'x', size = 398\n",
        "\n",
        "<type 'netCDF4.Dimension'>: name = 'y', size = 898\n",
        "\n",
        "<type 'netCDF4.Dimension'>: name = 'depthu', size = 40\n",
        "\n",
        "<type 'netCDF4.Dimension'> (unlimited): name = 'time_counter', size = 72\n",
        "\n"
       ]
      }
     ],
     "prompt_number": 134
    },
    {
     "cell_type": "code",
     "collapsed": false,
     "input": [
      "nc_tools.show_variables(u_grid)"
     ],
     "language": "python",
     "metadata": {},
     "outputs": [
      {
       "output_type": "stream",
       "stream": "stdout",
       "text": [
        "[u'nav_lon', u'nav_lat', u'depthu', u'time_counter', u'vozocrtx', u'u_wind_stress']\n"
       ]
      }
     ],
     "prompt_number": 135
    },
    {
     "cell_type": "code",
     "collapsed": false,
     "input": [
      "nc_tools.show_variable_attrs(u_grid, 'u_wind_stress')"
     ],
     "language": "python",
     "metadata": {},
     "outputs": [
      {
       "output_type": "stream",
       "stream": "stdout",
       "text": [
        "<type 'netCDF4.Variable'>\n",
        "float32 u_wind_stress(time_counter, y, x)\n",
        "    units: N/m2\n",
        "    standard_name: Wind Stress along i-axis\n",
        "    _FillValue: 9.96921e+36\n",
        "    long_name: Wind Stress along i-axis\n",
        "    online_operation: inst(X)\n",
        "    interval_operation: 50.0\n",
        "    interval_write: 50.0\n",
        "    coordinates: time_counter nav_lat nav_lon\n",
        "unlimited dimensions: time_counter\n",
        "current shape = (72, 898, 398)\n",
        "\n"
       ]
      }
     ],
     "prompt_number": 136
    },
    {
     "cell_type": "code",
     "collapsed": false,
     "input": [
      "tau_u = u_grid.variables['u_wind_stress']"
     ],
     "language": "python",
     "metadata": {},
     "outputs": [],
     "prompt_number": 137
    },
    {
     "cell_type": "code",
     "collapsed": false,
     "input": [
      "v_grid = nc.Dataset('../../../results/SalishSea/verify_atmos/SalishSea_1h_20020916_20020916_grid_V.nc')\n",
      "tau_v = v_grid.variables['v_wind_stress']"
     ],
     "language": "python",
     "metadata": {},
     "outputs": [],
     "prompt_number": 138
    },
    {
     "cell_type": "code",
     "collapsed": false,
     "input": [
      "rho_air = 1.2\n",
      "C_D = 0.002\n",
      "tau_mag = np.sqrt(tau_u[:]**2 + tau_v[:]**2)\n",
      "wind_spd = np.sqrt(tau_mag / (rho_air * C_D))"
     ],
     "language": "python",
     "metadata": {},
     "outputs": [],
     "prompt_number": 139
    },
    {
     "cell_type": "markdown",
     "metadata": {},
     "source": [
      "The 50s time steps are indexed from 0 to 71."
     ]
    },
    {
     "cell_type": "code",
     "collapsed": false,
     "input": [
      "t = 0\n",
      "plt.figure(figsize=(9, 9))\n",
      "plt.pcolormesh(wind_spd[t])\n",
      "plt.colorbar()\n",
      "print 'max wind speed:', np.max(wind_spd[t]), 'm/s'"
     ],
     "language": "python",
     "metadata": {},
     "outputs": [
      {
       "output_type": "stream",
       "stream": "stdout",
       "text": [
        "max wind speed: 3.42851 m/s\n"
       ]
      },
      {
       "metadata": {},
       "output_type": "display_data",
       "png": "[encoded data removed]",
       "text": [
        "<matplotlib.figure.Figure at 0x11c9aec90>"
       ]
      }
     ],
     "prompt_number": 140
    },
    {
     "cell_type": "markdown",
     "metadata": {},
     "source": [
      "The wind speed generally look reasonable,\n",
      "and the fact that there is variation over the domain\n",
      "at the 1st time step implies that a non-uniform field of values\n",
      "have been applied by NEMO.\n",
      "\n",
      "**Notes:** \n",
      "\n",
      "* The run that produced these result was done before\n",
      "  removal of the degenerate bathymetry at the east end of Jervis Inlet\n",
      "  and in the Toba Inlet region.\n",
      "* Rotation of the wind forcing components to orient them correctly\n",
      "  for the model grid was incorrectly configured for this run"
     ]
    },
    {
     "cell_type": "markdown",
     "metadata": {},
     "source": [
      "###CGRF-NEMO Wind Speed Comparison"
     ]
    },
    {
     "cell_type": "markdown",
     "metadata": {},
     "source": [
      "####Calculated vs. CGRF\n",
      "\n",
      "Compare the wind speeds calculated by NEMO\n",
      "to the forcing wind speed at the NEMO grid points\n",
      "closest to 2 CGRF grid points."
     ]
    },
    {
     "cell_type": "code",
     "collapsed": false,
     "input": [
      "cgrf_wind_u = nc.Dataset('../../../results/SalishSea/verify_atmos/2002091600_u10.nc')\n",
      "cgrf_wind_v = nc.Dataset('../../../results/SalishSea/verify_atmos/2002091600_v10.nc')\n",
      "nc_tools.show_dataset_attrs(cgrf_wind_u)"
     ],
     "language": "python",
     "metadata": {},
     "outputs": [
      {
       "output_type": "stream",
       "stream": "stdout",
       "text": [
        "file format: NETCDF3_CLASSIC\n"
       ]
      }
     ],
     "prompt_number": 141
    },
    {
     "cell_type": "code",
     "collapsed": false,
     "input": [
      "nc_tools.show_variable_attrs(cgrf_wind_u)"
     ],
     "language": "python",
     "metadata": {},
     "outputs": [
      {
       "output_type": "stream",
       "stream": "stdout",
       "text": [
        "<type 'netCDF4.Variable'>\n",
        "float32 nav_lon(y, x)\n",
        "    units: degrees_east\n",
        "    valid_min: 0.0\n",
        "    valid_max: 360.0\n",
        "    long_name: Longitude\n",
        "    nav_model: Default grid\n",
        "unlimited dimensions: \n",
        "current shape = (600, 801)\n",
        "\n",
        "<type 'netCDF4.Variable'>\n",
        "float32 nav_lat(y, x)\n",
        "    units: degrees_north\n",
        "    valid_min: -90.0\n",
        "    valid_max: 90.0\n",
        "    long_name: Latitude\n",
        "    nav_model: Default grid\n",
        "unlimited dimensions: \n",
        "current shape = (600, 801)\n",
        "\n",
        "<type 'netCDF4.Variable'>\n",
        "float64 time_counter(time_counter)\n",
        "    calendar: gregorian\n",
        "    units: seconds since 0006-01-01 00:00:00\n",
        "    time_origin: 0001-JAN-01 00:00:00\n",
        "    title: Time\n",
        "    long_name: Time axis\n",
        "unlimited dimensions: time_counter\n",
        "current shape = (25,)\n",
        "\n",
        "<type 'netCDF4.Variable'>\n",
        "float32 u_wind(time_counter, y, x)\n",
        "    units: m/s\n",
        "    missing_value: 1e+20\n",
        "    valid_min: -100.0\n",
        "    valid_max: 100.0\n",
        "    long_name: zonal wind\n",
        "    short_name: u_wind\n",
        "    online_operation: inst(only(x))\n",
        "    axis: TYX\n",
        "    scale_factor: 1.0\n",
        "    add_offset: 0.0\n",
        "    savelog10: 0.0\n",
        "unlimited dimensions: time_counter\n",
        "current shape = (25, 600, 801)\n",
        "\n"
       ]
      }
     ],
     "prompt_number": 142
    },
    {
     "cell_type": "code",
     "collapsed": false,
     "input": [
      "for t_model, t_cgrf in ((0, 0), (71, 1)):\n",
      "    print '\\nhour:', t_cgrf\n",
      "    for p in cgrf_pts:\n",
      "        print 'location:', p['lat_lon']\n",
      "        print '  model:', wind_spd[t_model][p['nearest_ji']], 'm/s'\n",
      "        u_comp = cgrf_wind_u.variables['u_wind'][t_cgrf][p['wgt_ji']]\n",
      "        v_comp = cgrf_wind_v.variables['v_wind'][t_cgrf][p['wgt_ji']]\n",
      "        print '  CGRF:', np.sqrt(u_comp**2 + v_comp**2), 'm/s'"
     ],
     "language": "python",
     "metadata": {},
     "outputs": [
      {
       "output_type": "stream",
       "stream": "stdout",
       "text": [
        "\n",
        "hour: 0\n",
        "location: (49.650001525878906, -124.64999389648438)\n",
        "  model: 2.91593 m/s\n",
        "  CGRF: 3.94075622519 m/s\n",
        "location: (49.049999237060547, -123.30000305175781)\n",
        "  model: 2.41528 m/s\n",
        "  CGRF:"
       ]
      },
      {
       "output_type": "stream",
       "stream": "stdout",
       "text": [
        " 3.91639493782 m/s\n",
        "\n",
        "hour: 1\n",
        "location: (49.650001525878906, -124.64999389648438)\n",
        "  model: 2.79533 m/s\n",
        "  CGRF: 3.84901132706 m/s\n",
        "location: (49.049999237060547, -123.30000305175781)\n",
        "  model: 2.86232 m/s\n",
        "  CGRF:"
       ]
      },
      {
       "output_type": "stream",
       "stream": "stdout",
       "text": [
        " 4.1610043348 m/s\n"
       ]
      }
     ],
     "prompt_number": 150
    },
    {
     "cell_type": "markdown",
     "metadata": {},
     "source": [
      "The values are close,\n",
      "but nowhere near as close as expected.\n",
      "Susan dug into the NEMO code and concluded that\n",
      "the calculated wind components are subject to \n",
      "atmospheric stability criteria manipulations \n",
      "and are rescaled to be in a neutral atmosphere, \n",
      "so they do not directly reflect the applied forcing values."
     ]
    },
    {
     "cell_type": "markdown",
     "metadata": {},
     "source": [
      "####Post-read vs. CGRF\n",
      "\n",
      "Time interpolation in NEMO was disabled for atmospheric forcing.\n",
      "Print statements were added to a copy of `SBC/sbcblk_core.F90`\n",
      "to dump the values at the NEMO grid points closest to the 2\n",
      "selected CGRF grid points resulting in this output:"
     ]
    },
    {
     "cell_type": "markdown",
     "metadata": {},
     "source": [
      "```\n",
      " kt:           1\n",
      " ulat:   49.650676928506599      ulon:  -124.64562909505409\n",
      " sbcblk_core: uwind(164, 630):  0.51517896657705364\n",
      " vlat:   49.651692399610411      vlon:  -124.64988684749699\n",
      " sbcblk_core: vwind(164, 630):   1.5088777718195618\n",
      " ulat:   49.052091092561710      ulon:  -123.29890034588348\n",
      " sbcblk_core: uwind(287, 418):  0.59795274734143566\n",
      " vlat:   49.053109614657615      vlon:  -123.30317523422143\n",
      " sbcblk_core: vwind(287, 418):   2.0739016030781947\n",
      " kt:           2\n",
      " ulat:   49.650676928506599      ulon:  -124.64562909505409\n",
      " sbcblk_core: uwind(164, 630):  0.51517896657705364\n",
      " vlat:   49.651692399610411      vlon:  -124.64988684749699\n",
      " sbcblk_core: vwind(164, 630):   1.5088777718195618\n",
      " ulat:   49.052091092561710      ulon:  -123.29890034588348\n",
      " sbcblk_core: uwind(287, 418):  0.59795274734143566\n",
      " vlat:   49.053109614657615      vlon:  -123.30317523422143\n",
      " sbcblk_core: vwind(287, 418):   2.0739016030781947\n",
      "```"
     ]
    },
    {
     "cell_type": "markdown",
     "metadata": {},
     "source": [
      "Looking at the wind components from the corresponding CGRF files:"
     ]
    },
    {
     "cell_type": "code",
     "collapsed": false,
     "input": [
      "cgrf_wind_u = nc.Dataset('../../../results/SalishSea/verify_atmos/2002091500_u10.nc')\n",
      "cgrf_wind_v = nc.Dataset('../../../results/SalishSea/verify_atmos/2002091500_v10.nc')"
     ],
     "language": "python",
     "metadata": {},
     "outputs": [],
     "prompt_number": 157
    },
    {
     "cell_type": "code",
     "collapsed": false,
     "input": [
      "for p in cgrf_pts:\n",
      "    print 'location:', p['lat_lon']\n",
      "    u_comp = cgrf_wind_u.variables['u_wind'][0][p['wgt_ji']]\n",
      "    print 'CGRF uwind:', u_comp\n",
      "    v_comp = cgrf_wind_v.variables['v_wind'][0][p['wgt_ji']]\n",
      "    print 'CGRF vwind:', v_comp"
     ],
     "language": "python",
     "metadata": {},
     "outputs": [
      {
       "output_type": "stream",
       "stream": "stdout",
       "text": [
        "location: (49.650001525878906, -124.64999389648438)\n",
        "CGRF uwind: 0.515769\n",
        "CGRF vwind: 1.51127\n",
        "location: (49.049999237060547, -123.30000305175781)\n",
        "CGRF uwind: 0.600227\n",
        "CGRF vwind:"
       ]
      },
      {
       "output_type": "stream",
       "stream": "stdout",
       "text": [
        " 2.08036\n"
       ]
      }
     ],
     "prompt_number": 164
    },
    {
     "cell_type": "markdown",
     "metadata": {},
     "source": [
      "It is evident that the expected wind component values \n",
      "from the CGRF files are being read by NEMO and interpolated\n",
      "to the NEMO grid points."
     ]
    },
    {
     "cell_type": "markdown",
     "metadata": {},
     "source": [
      "#####Rotation"
     ]
    },
    {
     "cell_type": "markdown",
     "metadata": {},
     "source": [
      "With rotation pairing enabled in the `namsbc_core` namelist in the `namelist.surface` file\n",
      "(i.e. `Uwnd` and `Vwnd` in the `rotation pairing` column for the wind components)\n",
      "the print statements yield:"
     ]
    },
    {
     "cell_type": "markdown",
     "metadata": {},
     "source": [
      "```\n",
      " kt:           1\n",
      " ulat:   49.650676928506599      ulon:  -124.64562909505409\n",
      " sbcblk_core: uwind(164, 630):   1.1797428366219003\n",
      " vlat:   49.651692399610411      vlon:  -124.64988684749699\n",
      " sbcblk_core: vwind(164, 630):   1.0725336066221320\n",
      " ulat:   49.052091092561710      ulon:  -123.29890034588348\n",
      " sbcblk_core: uwind(287, 418):   1.5343094685566783\n",
      " vlat:   49.053109614657615      vlon:  -123.30317523422143\n",
      " sbcblk_core: vwind(287, 418):   1.5180611983713963\n",
      " kt:           2\n",
      " ulat:   49.650676928506599      ulon:  -124.64562909505409\n",
      " sbcblk_core: uwind(164, 630):   1.1797428366219003\n",
      " vlat:   49.651692399610411      vlon:  -124.64988684749699\n",
      " sbcblk_core: vwind(164, 630):   1.0725336066221320\n",
      " ulat:   49.052091092561710      ulon:  -123.29890034588348\n",
      " sbcblk_core: uwind(287, 418):   1.5343094685566783\n",
      " vlat:   49.053109614657615      vlon:  -123.30317523422143\n",
      " sbcblk_core: vwind(287, 418):   1.5180611983713963\n",
      "```"
     ]
    },
    {
     "cell_type": "markdown",
     "metadata": {},
     "source": [
      "The velocity components are different from the non-rotated case above,\n",
      "and from the CGRF components,\n",
      "so *something* has happened.\n",
      "Check that the magnitude\n",
      "(i.e. wind speed)\n",
      "is invariant:"
     ]
    },
    {
     "cell_type": "code",
     "collapsed": false,
     "input": [
      "def speed(u, v):\n",
      "    return np.sqrt(u**2 + v**2)\n",
      "\n",
      "cgrf_u_comps = np.array((\n",
      "    cgrf_wind_u.variables['u_wind'][0][cgrf_pts[0]['wgt_ji']],\n",
      "    cgrf_wind_u.variables['u_wind'][0][cgrf_pts[1]['wgt_ji']]\n",
      "))\n",
      "cgrf_v_comps = np.array((\n",
      "    cgrf_wind_v.variables['v_wind'][0][cgrf_pts[0]['wgt_ji']],\n",
      "    cgrf_wind_v.variables['v_wind'][0][cgrf_pts[1]['wgt_ji']]\n",
      "))\n",
      "no_rot_u_comps = np.array((0.51517896657705364, 0.59795274734143566))\n",
      "no_rot_v_comps = np.array((1.5088777718195618, 2.0739016030781947))\n",
      "rotated_u_comps = np.array((1.1797428366219003, 1.5343094685566783))\n",
      "rotated_v_comps = np.array((1.0725336066221320, 1.5180611983713963))\n",
      "\n",
      "print 'Wind speeds at comparison points:'\n",
      "no_rot_speeds = speed(no_rot_u_comps, no_rot_v_comps)\n",
      "print 'non-rotated:', no_rot_speeds\n",
      "rotated_speeds = speed(rotated_u_comps, rotated_v_comps)\n",
      "print 'rotated:', rotated_speeds\n",
      "cgrf_speeds = speed(cgrf_u_comps, cgrf_v_comps)\n",
      "print 'CGRF:', cgrf_speeds"
     ],
     "language": "python",
     "metadata": {},
     "outputs": [
      {
       "output_type": "stream",
       "stream": "stdout",
       "text": [
        "Wind speeds at comparison points:\n",
        "non-rotated: [ 1.59440318  2.15838258]\n",
        "rotated: [ 1.59440318  2.15838258]\n",
        "CGRF: [ 1.59686112  2.16521716]\n"
       ]
      }
     ],
     "prompt_number": 214
    },
    {
     "cell_type": "markdown",
     "metadata": {},
     "source": [
      "No change in wind speed between the non-rotated and the rotated results,\n",
      "and close agreement to the speeds calculated from the CGRF forcing components\n",
      "confirms that NEMO applied a purely rotational transformation."
     ]
    },
    {
     "cell_type": "markdown",
     "metadata": {},
     "source": [
      "Now look at the wind angles to confirm that the direction of rotation is correct."
     ]
    },
    {
     "cell_type": "code",
     "collapsed": false,
     "input": [
      "print 'Wind angles at comparison points:'\n",
      "cgrf_angles = np.arctan2(cgrf_v_comps, cgrf_u_comps)\n",
      "print 'CGRF:', cgrf_angles\n",
      "rotated_angles = np.arctan2(rotated_v_comps, rotated_u_comps)\n",
      "print 'rotated:', rotated_angles\n",
      "print 'angle ratios:', rotated_angles / cgrf_angles"
     ],
     "language": "python",
     "metadata": {},
     "outputs": [
      {
       "output_type": "stream",
       "stream": "stdout",
       "text": [
        "Wind angles at comparison points:\n",
        "CGRF: [ 1.24190998  1.28990388]\n",
        "rotated: [ 0.73783368  0.78007505]\n",
        "angle ratios: [ 0.59411205  0.6047544 ]\n"
       ]
      }
     ],
     "prompt_number": 241
    },
    {
     "cell_type": "code",
     "collapsed": false,
     "input": [
      "np.rad2deg(cgrf_angles), np.rad2deg(rotated_angles)"
     ],
     "language": "python",
     "metadata": {},
     "outputs": [
      {
       "metadata": {},
       "output_type": "pyout",
       "prompt_number": 242,
       "text": [
        "(array([ 71.15619659,  73.90604401], dtype=float32),\n",
        " array([ 42.27475577,  44.69500804]))"
       ]
      }
     ],
     "prompt_number": 242
    },
    {
     "cell_type": "markdown",
     "metadata": {},
     "source": [
      "The $\\sim30^\\circ$ difference between the CGRF and rotated wind vectors\n",
      "is consistent with the rotation of the model grid relative to\n",
      "a north-south axis.\n",
      "\n",
      "With a collection of ellipses and arrows on a piece of paper\n",
      "one can convince oneself\n",
      "(and more importantly, Susan)\n",
      "that direction that NEMO is rotating the wind vector is correct."
     ]
    },
    {
     "cell_type": "code",
     "collapsed": false,
     "input": [
      "u_grid = nc.Dataset('../../../results/SalishSea/verify_atmos/rotated/SalishSea_1h_20020915_20020915_grid_U.nc')\n",
      "v_grid = nc.Dataset('../../../results/SalishSea/verify_atmos/rotated/SalishSea_1h_20020915_20020915_grid_V.nc')\n",
      "tau_u = u_grid.variables['u_wind_stress']\n",
      "tau_v = v_grid.variables['v_wind_stress']\n",
      "for p in cgrf_pts:\n",
      "    print 'tau_u:', tau_u[0][p['nearest_ji']], 'tau_v:', tau_v[0][p['nearest_ji']]"
     ],
     "language": "python",
     "metadata": {},
     "outputs": [
      {
       "output_type": "stream",
       "stream": "stdout",
       "text": [
        "tau_u: 0.0019485 tau_v: 0.00180023\n",
        "tau_u: 0.00291909 tau_v: 0.00286683\n"
       ]
      }
     ],
     "prompt_number": 246
    },
    {
     "cell_type": "markdown",
     "metadata": {},
     "source": [
      "The fact that the wind stress components are both positive indicates that\n",
      "NEMO is treating the wind as being in a \"blowing to\" direction."
     ]
    },
    {
     "cell_type": "markdown",
     "metadata": {},
     "source": [
      "#####Time Interpolation"
     ]
    },
    {
     "cell_type": "markdown",
     "metadata": {},
     "source": [
      "Enabling time interpolation in the `namsbc_core` namelist in the `namelist.surface` file\n",
      "(i.e. `.true.` in the `time interp.` column for the wind components)\n",
      "the print statements yield:"
     ]
    },
    {
     "cell_type": "markdown",
     "metadata": {},
     "source": [
      "```\n",
      " kt:           1\n",
      " ulat:   49.650676928506599      ulon:  -124.64562909505409\n",
      " sbcblk_core: uwind(164, 630):  -2.4427305818641006E-002\n",
      " vlat:   49.651692399610411      vlon:  -124.64988684749699\n",
      " sbcblk_core: vwind(164, 630):  0.36203166795018449\n",
      " ulat:   49.052091092561710      ulon:  -123.29890034588348\n",
      " sbcblk_core: uwind(287, 418):  -6.1575779805040740E-002\n",
      " vlat:   49.053109614657615      vlon:  -123.30317523422143\n",
      " sbcblk_core: vwind(287, 418):   1.7772129119173564E-002\n",
      " kt:           2\n",
      " ulat:   49.650676928506599      ulon:  -124.64562909505409\n",
      " sbcblk_core: uwind(164, 630):  -2.3924413357676255E-002\n",
      " vlat:   49.651692399610411      vlon:  -124.64988684749699\n",
      " sbcblk_core: vwind(164, 630):  0.36261354108844573\n",
      " ulat:   49.052091092561710      ulon:  -123.29890034588348\n",
      " sbcblk_core: uwind(287, 418):  -6.0770988867618586E-002\n",
      " vlat:   49.053109614657615      vlon:  -123.30317523422143\n",
      " sbcblk_core: vwind(287, 418):   1.7809433918960185E-002\n",
      " kt:           3\n",
      " ulat:   49.650676928506599      ulon:  -124.64562909505409\n",
      " sbcblk_core: uwind(164, 630):  -2.3421520896711501E-002\n",
      " vlat:   49.651692399610411      vlon:  -124.64988684749699\n",
      " sbcblk_core: vwind(164, 630):  0.36319541422670698\n",
      " ulat:   49.052091092561710      ulon:  -123.29890034588348\n",
      " sbcblk_core: uwind(287, 418):  -5.9966197930196433E-002\n",
      " vlat:   49.053109614657615      vlon:  -123.30317523422143\n",
      " sbcblk_core: vwind(287, 418):   1.7846738718746813E-002\n",
      " ...\n",
      "```"
     ]
    },
    {
     "cell_type": "markdown",
     "metadata": {},
     "source": [
      "Extracting the u and v component values at each location\n",
      "for the first 10 time steps of the run:"
     ]
    },
    {
     "cell_type": "code",
     "collapsed": false,
     "input": [
      "u_wind_1 = np.array((\n",
      "    -2.4427305818641006E-002, -2.3924413357676255E-002, -2.3421520896711501E-002, -2.2918628435746748E-002, \n",
      "    -2.2415735974781997E-002, -2.1912843513817250E-002, -2.1409951052852497E-002, -2.0907058591887746E-002,\n",
      "    -2.0404166130922993E-002, -1.9901273669958246E-002))"
     ],
     "language": "python",
     "metadata": {},
     "outputs": [],
     "prompt_number": 23
    },
    {
     "cell_type": "code",
     "collapsed": false,
     "input": [
      "def check_diffs(array):\n",
      "    diffs = np.diff(array)\n",
      "    print diffs\n",
      "    np.testing.assert_allclose(diffs - diffs[0], np.zeros_like(diffs), atol=1e-10)"
     ],
     "language": "python",
     "metadata": {},
     "outputs": [],
     "prompt_number": 24
    },
    {
     "cell_type": "code",
     "collapsed": false,
     "input": [
      "check_diffs(u_wind_1)"
     ],
     "language": "python",
     "metadata": {},
     "outputs": [
      {
       "output_type": "stream",
       "stream": "stdout",
       "text": [
        "[ 0.00050289  0.00050289  0.00050289  0.00050289  0.00050289  0.00050289\n",
        "  0.00050289  0.00050289  0.00050289]\n"
       ]
      }
     ],
     "prompt_number": 25
    },
    {
     "cell_type": "code",
     "collapsed": false,
     "input": [
      "v_wind_1 = np.array((\n",
      "    0.36203166795018449, 0.36261354108844573, 0.36319541422670698, 0.36377728736496823, 0.36435916050322947,\n",
      "    0.36494103364149066, 0.36552290677975197, 0.36610477991801321, 0.36668665305627446, 0.36726852619453565))\n",
      "check_diffs(v_wind_1)"
     ],
     "language": "python",
     "metadata": {},
     "outputs": [
      {
       "output_type": "stream",
       "stream": "stdout",
       "text": [
        "[ 0.00058187  0.00058187  0.00058187  0.00058187  0.00058187  0.00058187\n",
        "  0.00058187  0.00058187  0.00058187]\n"
       ]
      }
     ],
     "prompt_number": 26
    },
    {
     "cell_type": "code",
     "collapsed": false,
     "input": [
      "u_wind_2 = np.array((\n",
      "    -6.1575779805040740E-002, -6.0770988867618586E-002, -5.9966197930196433E-002, -5.9161406992774279E-002,\n",
      "    -5.8356616055352126E-002, -5.7551825117929965E-002, -5.6747034180507805E-002, -5.5942243243085658E-002,\n",
      "    -5.5137452305663498E-002, -5.4332661368241345E-002))\n",
      "check_diffs(u_wind_2)"
     ],
     "language": "python",
     "metadata": {},
     "outputs": [
      {
       "output_type": "stream",
       "stream": "stdout",
       "text": [
        "[ 0.00080479  0.00080479  0.00080479  0.00080479  0.00080479  0.00080479\n",
        "  0.00080479  0.00080479  0.00080479]\n"
       ]
      }
     ],
     "prompt_number": 27
    },
    {
     "cell_type": "code",
     "collapsed": false,
     "input": [
      "v_wind_2 = np.array((\n",
      "    1.7772129119173564E-002, 1.7809433918960185E-002, 1.7846738718746813E-002, 1.7884043518533434E-002,\n",
      "    1.7921348318320058E-002, 1.7958653118106679E-002, 1.7995957917893303E-002, 1.8033262717679927E-002,\n",
      "    1.8070567517466551E-002, 1.8107872317253172E-002))\n",
      "check_diffs(v_wind_2)"
     ],
     "language": "python",
     "metadata": {},
     "outputs": [
      {
       "output_type": "stream",
       "stream": "stdout",
       "text": [
        "[  3.73047998e-05   3.73047998e-05   3.73047998e-05   3.73047998e-05\n",
        "   3.73047998e-05   3.73047998e-05   3.73047998e-05   3.73047998e-05\n",
        "   3.73047998e-05]\n"
       ]
      }
     ],
     "prompt_number": 28
    },
    {
     "cell_type": "code",
     "collapsed": false,
     "input": [
      "fig, ((ax1, ax2), (ax3, ax4)) = plt.subplots(2, 2, figsize=(10, 10))\n",
      "ax1.plot(u_wind_1)\n",
      "ax2.plot(v_wind_1)\n",
      "ax3.plot(u_wind_2)\n",
      "ax4.plot(v_wind_2)"
     ],
     "language": "python",
     "metadata": {},
     "outputs": [
      {
       "metadata": {},
       "output_type": "pyout",
       "prompt_number": 40,
       "text": [
        "[<matplotlib.lines.Line2D at 0x107ce7210>]"
       ]
      },
      {
       "metadata": {},
       "output_type": "display_data",
       "png": "[encoded data removed]",
       "text": [
        "<matplotlib.figure.Figure at 0x106cfed90>"
       ]
      }
     ],
     "prompt_number": 40
    },
    {
     "cell_type": "markdown",
     "metadata": {},
     "source": [
      "The fact that all 4 sequences vary monotonically\n",
      "and that the differences between the values in each sequence\n",
      "are equal at a $1\\times10^{-10}$ tolerances level\n",
      "indicates NEMO is doing time interpolation of the wind forcing values\n",
      "as expected."
     ]
    },
    {
     "cell_type": "markdown",
     "metadata": {},
     "source": [
      "Extracting the u and v wind component forcing values\n",
      "for each of the CGRF comparison grid points from the\n",
      "CGRF files that span the beginning of the run\n",
      "with commands like:"
     ]
    },
    {
     "cell_type": "markdown",
     "metadata": {},
     "source": [
      "```bash\n",
      "# CGRF point 1, u component:\n",
      "ncks -O -d time_counter,23 -d x,523 -d y,465 NEMO-atmos/u10_y2002m09d14.nc foo.nc\n",
      "ncks -O -d time_counter,0 -d x,523 -d y,465 NEMO-atmos/u10_y2002m09d15.nc bar.nc\n",
      "ncdump foo.nc\n",
      "ncdump bar.nc\n",
      "# CGRF point 2, v component:\n",
      "ncks -O -d time_counter,23 -d x,526 -d y,463 NEMO-atmos/v10_y2002m09d14.nc foo.nc\n",
      "ncks -O -d time_counter,0 -d x,526 -d y,463 NEMO-atmos/v10_y2002m09d15.nc bar.nc\n",
      "ncdump foo.nc\n",
      "ncdump bar.nc\n",
      "```"
     ]
    },
    {
     "cell_type": "code",
     "collapsed": false,
     "input": [
      "def forcing_values(vel_23, vel_0, wind):\n",
      "    diff = (vel_0 - vel_23) / 72\n",
      "    interp = (vel_23 + vel_0) / 2\n",
      "    print 'forcing:', interp\n",
      "    print 'interpolated:', wind[0]\n",
      "    print 'forcing diff:', diff\n",
      "    print 'interpolated diff:', np.diff(wind)[0]"
     ],
     "language": "python",
     "metadata": {},
     "outputs": [],
     "prompt_number": 59
    },
    {
     "cell_type": "code",
     "collapsed": false,
     "input": [
      "u1_23 = -0.04462868\n",
      "u1_0 = -0.007576232\n",
      "forcing_values(u1_23, u1_0, u_wind_1)"
     ],
     "language": "python",
     "metadata": {},
     "outputs": [
      {
       "output_type": "stream",
       "stream": "stdout",
       "text": [
        "forcing: -0.026102456\n",
        "interpolated: -0.0244273058186\n",
        "forcing diff: 0.000514617333333\n",
        "interpolated diff: 0.000502892460965\n"
       ]
      }
     ],
     "prompt_number": 60
    },
    {
     "cell_type": "code",
     "collapsed": false,
     "input": [
      "v1_23 = 0.3394713\n",
      "v1_0 = 0.3820636\n",
      "forcing_values(v1_23, v1_0, v_wind_1)"
     ],
     "language": "python",
     "metadata": {},
     "outputs": [
      {
       "output_type": "stream",
       "stream": "stdout",
       "text": [
        "forcing: 0.36076745\n",
        "interpolated: 0.36203166795\n",
        "forcing diff: 0.000591559722222\n",
        "interpolated diff: 0.000581873138261\n"
       ]
      }
     ],
     "prompt_number": 61
    },
    {
     "cell_type": "code",
     "collapsed": false,
     "input": [
      "u2_23 = -0.09087943\n",
      "u2_0 = -0.03170706\n",
      "forcing_values(u2_23, u2_0, u_wind_2)"
     ],
     "language": "python",
     "metadata": {},
     "outputs": [
      {
       "output_type": "stream",
       "stream": "stdout",
       "text": [
        "forcing: -0.061293245\n",
        "interpolated: -0.061575779805\n",
        "forcing diff: 0.000821838472222\n",
        "interpolated diff: 0.000804790937422\n"
       ]
      }
     ],
     "prompt_number": 62
    },
    {
     "cell_type": "code",
     "collapsed": false,
     "input": [
      "v2_23 = 0.01571607\n",
      "v2_0 = 0.01809027\n",
      "forcing_values(v2_23, v2_0, v_wind_2)"
     ],
     "language": "python",
     "metadata": {},
     "outputs": [
      {
       "output_type": "stream",
       "stream": "stdout",
       "text": [
        "forcing: 0.01690317\n",
        "interpolated: 0.0177721291192\n",
        "forcing diff: 3.2975e-05\n",
        "interpolated diff: 3.73047997866e-05\n"
       ]
      }
     ],
     "prompt_number": 63
    },
    {
     "cell_type": "markdown",
     "metadata": {},
     "source": [
      "Considering that the CGRF and NEMO grid points are not coincident,\n",
      "the forcing and interpolated values can only be expected to be close,\n",
      "not equal.\n",
      "The values are close enough that we can be reasonably certain that NEMO\n",
      "interpolating the wind forcing values from the expected CGRF forcing values."
     ]
    },
    {
     "cell_type": "code",
     "collapsed": false,
     "input": [],
     "language": "python",
     "metadata": {},
     "outputs": []
    }
   ],
   "metadata": {}
  }
 ]
}