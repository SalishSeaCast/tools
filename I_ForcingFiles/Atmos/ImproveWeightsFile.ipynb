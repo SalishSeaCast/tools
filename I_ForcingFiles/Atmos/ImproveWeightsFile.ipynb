{
 "cells": [
  {
   "cell_type": "markdown",
   "metadata": {},
   "source": [
    "# Improve Atmospheric Forcing Weights File\n",
    "\n",
    "Transfer the values from a `met_gem_weight.nc`\n",
    "created by `NEMO_EastCoast/NEMO_Preparation/4_weights_ATMOS/get_weight_nemo`\n",
    "into a netCDF4 file with zlib compression on variables\n",
    "and CF-1.6 conventions conformant attributes."
   ]
  },
  {
   "cell_type": "markdown",
   "metadata": {},
   "source": [
    "## 1. Setup"
   ]
  },
  {
   "cell_type": "code",
   "execution_count": 1,
   "metadata": {
    "tags": []
   },
   "outputs": [],
   "source": [
    "from datetime import datetime\n",
    "import os\n",
    "from pathlib import Path\n",
    "\n",
    "import netCDF4 as nc\n",
    "import numpy as np\n",
    "\n",
    "from salishsea_tools import nc_tools"
   ]
  },
  {
   "cell_type": "markdown",
   "metadata": {},
   "source": [
    "The input file is the `met_gem_weight.nc` file produced by\n",
    "`NEMO_EastCoast/NEMO_Preparation/4_weights_ATMOS/get_weight_nemo`.\n",
    "See the\n",
    "[Atmospheric Forcing - Interolation Weights](http://salishsea-meopar-docs.readthedocs.org/en/latest/code-notes/salishsea-nemo/nemo-forcing/atmospheric.html#interpolation-weights)\n",
    "docs for details of how to generate it.\n",
    "The only thing you should need to change here is the path to the\n",
    "`met_gem_weight.nc` file you want to work with."
   ]
  },
  {
   "cell_type": "code",
   "execution_count": 2,
   "metadata": {
    "collapsed": false,
    "jupyter": {
     "outputs_hidden": false
    }
   },
   "outputs": [],
   "source": [
    "met_gem_weight = Path('/data/dlatorne/MEOPAR/grid', 'met_gem_weight.nc')"
   ]
  },
  {
   "cell_type": "markdown",
   "metadata": {},
   "source": [
    "The output file should be version controlled in the `grid/' repo."
   ]
  },
  {
   "cell_type": "code",
   "execution_count": 3,
   "metadata": {
    "collapsed": false,
    "jupyter": {
     "outputs_hidden": false
    }
   },
   "outputs": [],
   "source": [
    "netcdf4_weight = Path(\n",
    "    '/data/dlatorne/MEOPAR/grid', \n",
    "    'weights-continental2.5-hrdps_202108_23feb23onward.nc'\n",
    ")"
   ]
  },
  {
   "cell_type": "markdown",
   "metadata": {},
   "source": [
    "A descriptive name of the atmospheric forcing model grid\n",
    "is used in the metadata for the variables."
   ]
  },
  {
   "cell_type": "code",
   "execution_count": 4,
   "metadata": {
    "collapsed": false,
    "jupyter": {
     "outputs_hidden": false
    }
   },
   "outputs": [],
   "source": [
    "atmos_grid_name = 'HRDPS 2.5km Continental Rotated Lat/Lon'"
   ]
  },
  {
   "cell_type": "markdown",
   "metadata": {},
   "source": [
    "The history metadata that will be attached to the dataset:"
   ]
  },
  {
   "cell_type": "code",
   "execution_count": 5,
   "metadata": {
    "collapsed": false,
    "jupyter": {
     "outputs_hidden": false
    }
   },
   "outputs": [],
   "source": [
    "history = (\n",
    "    f'[{datetime.now().strftime(\"%Y-%m-%d %H:%M:%S\")}] '\n",
    "    f'Converted to netCDF4 zlib=True dataset, and added CF-1.6 metadata '\n",
    "    f'with {os.fspath(Path(\"tools/I_ForcingFiles/Atmos/ImproveWeightsFile.ipynb\"))}'\n",
    ")"
   ]
  },
  {
   "cell_type": "markdown",
   "metadata": {},
   "source": [
    "**Note:** Please edit the date/time below to that of the creation of the `met_gem_weight.nc`."
   ]
  },
  {
   "cell_type": "code",
   "execution_count": 6,
   "metadata": {
    "collapsed": false,
    "jupyter": {
     "outputs_hidden": false
    }
   },
   "outputs": [],
   "source": [
    "history = '\\n'.join((\n",
    "    history,\n",
    "    '[2023-03-13 22:38:43] '\n",
    "    'Created netCDF3 classic dataset with NEMO_EastCoast/NEMO_Preparation/4_weights_ATMOS/get_weight_nemo.'\n",
    "))"
   ]
  },
  {
   "cell_type": "markdown",
   "metadata": {},
   "source": [
    "## 2. Open & Inspect the Input Dataset"
   ]
  },
  {
   "cell_type": "code",
   "execution_count": 7,
   "metadata": {
    "collapsed": false,
    "jupyter": {
     "outputs_hidden": false
    }
   },
   "outputs": [
    {
     "name": "stdout",
     "output_type": "stream",
     "text": [
      "file format: NETCDF3_CLASSIC\n"
     ]
    }
   ],
   "source": [
    "src = nc.Dataset(met_gem_weight)\n",
    "nc_tools.show_dataset_attrs(src)"
   ]
  },
  {
   "cell_type": "code",
   "execution_count": 8,
   "metadata": {
    "collapsed": false,
    "jupyter": {
     "outputs_hidden": false
    }
   },
   "outputs": [
    {
     "name": "stdout",
     "output_type": "stream",
     "text": [
      "<class 'netCDF4._netCDF4.Dimension'>: name = 'x', size = 398\n",
      "<class 'netCDF4._netCDF4.Dimension'>: name = 'y', size = 898\n",
      "<class 'netCDF4._netCDF4.Dimension'>: name = 'lon', size = 190\n",
      "<class 'netCDF4._netCDF4.Dimension'>: name = 'lat', size = 230\n",
      "<class 'netCDF4._netCDF4.Dimension'>: name = 'numwgt', size = 4\n"
     ]
    }
   ],
   "source": [
    "nc_tools.show_dimensions(src)"
   ]
  },
  {
   "cell_type": "code",
   "execution_count": 9,
   "metadata": {
    "collapsed": false,
    "jupyter": {
     "outputs_hidden": false
    }
   },
   "outputs": [
    {
     "name": "stdout",
     "output_type": "stream",
     "text": [
      "dict_keys(['nav_lon', 'nav_lat', 'src01', 'wgt01', 'src02', 'wgt02', 'src03', 'wgt03', 'src04', 'wgt04'])\n"
     ]
    }
   ],
   "source": [
    "nc_tools.show_variables(src)"
   ]
  },
  {
   "cell_type": "code",
   "execution_count": 10,
   "metadata": {
    "collapsed": false,
    "jupyter": {
     "outputs_hidden": false
    }
   },
   "outputs": [
    {
     "name": "stdout",
     "output_type": "stream",
     "text": [
      "<class 'netCDF4._netCDF4.Variable'>\n",
      "float64 nav_lon(lat, lon)\n",
      "unlimited dimensions: \n",
      "current shape = (230, 190)\n",
      "filling on, default _FillValue of 9.969209968386869e+36 used\n",
      "<class 'netCDF4._netCDF4.Variable'>\n",
      "float64 nav_lat(lat, lon)\n",
      "unlimited dimensions: \n",
      "current shape = (230, 190)\n",
      "filling on, default _FillValue of 9.969209968386869e+36 used\n",
      "<class 'netCDF4._netCDF4.Variable'>\n",
      "int32 src01(y, x)\n",
      "unlimited dimensions: \n",
      "current shape = (898, 398)\n",
      "filling on, default _FillValue of -2147483647 used\n",
      "<class 'netCDF4._netCDF4.Variable'>\n",
      "float64 wgt01(y, x)\n",
      "unlimited dimensions: \n",
      "current shape = (898, 398)\n",
      "filling on, default _FillValue of 9.969209968386869e+36 used\n",
      "<class 'netCDF4._netCDF4.Variable'>\n",
      "int32 src02(y, x)\n",
      "unlimited dimensions: \n",
      "current shape = (898, 398)\n",
      "filling on, default _FillValue of -2147483647 used\n",
      "<class 'netCDF4._netCDF4.Variable'>\n",
      "float64 wgt02(y, x)\n",
      "unlimited dimensions: \n",
      "current shape = (898, 398)\n",
      "filling on, default _FillValue of 9.969209968386869e+36 used\n",
      "<class 'netCDF4._netCDF4.Variable'>\n",
      "int32 src03(y, x)\n",
      "unlimited dimensions: \n",
      "current shape = (898, 398)\n",
      "filling on, default _FillValue of -2147483647 used\n",
      "<class 'netCDF4._netCDF4.Variable'>\n",
      "float64 wgt03(y, x)\n",
      "unlimited dimensions: \n",
      "current shape = (898, 398)\n",
      "filling on, default _FillValue of 9.969209968386869e+36 used\n",
      "<class 'netCDF4._netCDF4.Variable'>\n",
      "int32 src04(y, x)\n",
      "unlimited dimensions: \n",
      "current shape = (898, 398)\n",
      "filling on, default _FillValue of -2147483647 used\n",
      "<class 'netCDF4._netCDF4.Variable'>\n",
      "float64 wgt04(y, x)\n",
      "unlimited dimensions: \n",
      "current shape = (898, 398)\n",
      "filling on, default _FillValue of 9.969209968386869e+36 used\n"
     ]
    }
   ],
   "source": [
    "nc_tools.show_variable_attrs(src)"
   ]
  },
  {
   "cell_type": "markdown",
   "metadata": {},
   "source": [
    "## 3. Create the Output Dataset"
   ]
  },
  {
   "cell_type": "markdown",
   "metadata": {},
   "source": [
    "New datasets created with the `netCDF4` library default to netCDF4 format."
   ]
  },
  {
   "cell_type": "code",
   "execution_count": 11,
   "metadata": {
    "collapsed": false,
    "jupyter": {
     "outputs_hidden": false
    }
   },
   "outputs": [],
   "source": [
    "weights = nc.Dataset(netcdf4_weight, 'w')"
   ]
  },
  {
   "cell_type": "code",
   "execution_count": 12,
   "metadata": {
    "collapsed": false,
    "jupyter": {
     "outputs_hidden": false
    }
   },
   "outputs": [
    {
     "data": {
      "text/plain": [
       "<class 'netCDF4._netCDF4.Dimension'>: name = 'numwgt', size = 4"
      ]
     },
     "execution_count": 12,
     "metadata": {},
     "output_type": "execute_result"
    }
   ],
   "source": [
    "y_size, x_size = src.variables['src01'].shape\n",
    "weights.createDimension('x', x_size)\n",
    "weights.createDimension('y', y_size)\n",
    "lat_size, lon_size = src.variables['nav_lon'].shape\n",
    "weights.createDimension('lon', lon_size)\n",
    "weights.createDimension('lat', lat_size)\n",
    "weights.createDimension('numwgt', 4)"
   ]
  },
  {
   "cell_type": "markdown",
   "metadata": {},
   "source": [
    "Setting `zlib=True` for the variables enables Lempel-Ziv deflation\n",
    "which results in a 40%-80% decrease in the file size."
   ]
  },
  {
   "cell_type": "code",
   "execution_count": 13,
   "metadata": {
    "collapsed": false,
    "jupyter": {
     "outputs_hidden": false
    }
   },
   "outputs": [],
   "source": [
    "lats = weights.createVariable('nav_lat', float, ('lat', 'lon'), zlib=True)\n",
    "lons = weights.createVariable('nav_lon', float, ('lat', 'lon'), zlib=True)\n",
    "src01 = weights.createVariable('src01', int, ('y', 'x'), zlib=True)\n",
    "wgt01 = weights.createVariable('wgt01', float, ('y', 'x'), zlib=True)\n",
    "src02 = weights.createVariable('src02', int, ('y', 'x'), zlib=True)\n",
    "wgt02 = weights.createVariable('wgt02', float, ('y', 'x'), zlib=True)\n",
    "src03 = weights.createVariable('src03', int, ('y', 'x'), zlib=True)\n",
    "wgt03 = weights.createVariable('wgt03', float, ('y', 'x'), zlib=True)\n",
    "src04 = weights.createVariable('src04', int, ('y', 'x'), zlib=True)\n",
    "wgt04 = weights.createVariable('wgt04', float, ('y', 'x'), zlib=True)"
   ]
  },
  {
   "cell_type": "markdown",
   "metadata": {},
   "source": [
    "Copy the latitude and longitude values,\n",
    "and add their variable-level metadata:"
   ]
  },
  {
   "cell_type": "code",
   "execution_count": 14,
   "metadata": {
    "collapsed": false,
    "jupyter": {
     "outputs_hidden": false
    }
   },
   "outputs": [
    {
     "name": "stdout",
     "output_type": "stream",
     "text": [
      "<class 'netCDF4._netCDF4.Variable'>\n",
      "float64 nav_lat(lat, lon)\n",
      "    units: degrees_north\n",
      "    long_name: Latitude\n",
      "    valid_range: [-90.  90.]\n",
      "unlimited dimensions: \n",
      "current shape = (230, 190)\n",
      "filling on, default _FillValue of 9.969209968386869e+36 used\n",
      "<class 'netCDF4._netCDF4.Variable'>\n",
      "float64 nav_lon(lat, lon)\n",
      "    units: degrees_east\n",
      "    long_name: Longitude\n",
      "    valid_range: [  0. 360.]\n",
      "unlimited dimensions: \n",
      "current shape = (230, 190)\n",
      "filling on, default _FillValue of 9.969209968386869e+36 used\n"
     ]
    }
   ],
   "source": [
    "lats[:] = src.variables['nav_lat'][:]\n",
    "lats.units = 'degrees_north'\n",
    "lats.long_name = 'Latitude'\n",
    "lats.valid_range = np.array((-90.0, 90.0))\n",
    "    \n",
    "lons[:] = src.variables['nav_lon'][:]\n",
    "lons.units = 'degrees_east'\n",
    "lons.long_name = 'Longitude'\n",
    "lons.valid_range = np.array((0., 360.))\n",
    "    \n",
    "nc_tools.show_variable_attrs(weights, 'nav_lat', 'nav_lon')"
   ]
  },
  {
   "cell_type": "markdown",
   "metadata": {},
   "source": [
    "Copy the `src` and `wgt` variable values,\n",
    "and add metadata:"
   ]
  },
  {
   "cell_type": "code",
   "execution_count": 15,
   "metadata": {
    "collapsed": false,
    "jupyter": {
     "outputs_hidden": false
    }
   },
   "outputs": [
    {
     "name": "stdout",
     "output_type": "stream",
     "text": [
      "<class 'netCDF4._netCDF4.Variable'>\n",
      "int64 src01(y, x)\n",
      "    units: 1\n",
      "    long_name: HRDPS 2.5km Continental Rotated Lat/Lon Grid Index 1 (Flattened)\n",
      "    valid_range: [ 3893 39991]\n",
      "unlimited dimensions: \n",
      "current shape = (898, 398)\n",
      "filling on, default _FillValue of -9223372036854775806 used\n",
      "<class 'netCDF4._netCDF4.Variable'>\n",
      "float64 wgt01(y, x)\n",
      "    units: 1\n",
      "    long_name: SalishSeaCast NEMO Grid Weights for src01\n",
      "    valid_range: [0.2503892  0.99962357]\n",
      "unlimited dimensions: \n",
      "current shape = (898, 398)\n",
      "filling on, default _FillValue of 9.969209968386869e+36 used\n",
      "<class 'netCDF4._netCDF4.Variable'>\n",
      "int64 src02(y, x)\n",
      "    units: 1\n",
      "    long_name: HRDPS 2.5km Continental Rotated Lat/Lon Grid Index 1 (Flattened)\n",
      "    valid_range: [ 3703 40181]\n",
      "unlimited dimensions: \n",
      "current shape = (898, 398)\n",
      "filling on, default _FillValue of -9223372036854775806 used\n",
      "<class 'netCDF4._netCDF4.Variable'>\n",
      "float64 wgt02(y, x)\n",
      "    units: 1\n",
      "    long_name: SalishSeaCast NEMO Grid Weights for src02\n",
      "    valid_range: [-2.54920258e-07  4.99148742e-01]\n",
      "unlimited dimensions: \n",
      "current shape = (898, 398)\n",
      "filling on, default _FillValue of 9.969209968386869e+36 used\n",
      "<class 'netCDF4._netCDF4.Variable'>\n",
      "int64 src03(y, x)\n",
      "    units: 1\n",
      "    long_name: HRDPS 2.5km Continental Rotated Lat/Lon Grid Index 1 (Flattened)\n",
      "    valid_range: [ 3892 39992]\n",
      "unlimited dimensions: \n",
      "current shape = (898, 398)\n",
      "filling on, default _FillValue of -9223372036854775806 used\n",
      "<class 'netCDF4._netCDF4.Variable'>\n",
      "float64 wgt03(y, x)\n",
      "    units: 1\n",
      "    long_name: SalishSeaCast NEMO Grid Weights for src03\n",
      "    valid_range: [-5.72400417e-07  4.98936914e-01]\n",
      "unlimited dimensions: \n",
      "current shape = (898, 398)\n",
      "filling on, default _FillValue of 9.969209968386869e+36 used\n",
      "<class 'netCDF4._netCDF4.Variable'>\n",
      "int64 src04(y, x)\n",
      "    units: 1\n",
      "    long_name: HRDPS 2.5km Continental Rotated Lat/Lon Grid Index 1 (Flattened)\n",
      "    valid_range: [ 3702 40182]\n",
      "unlimited dimensions: \n",
      "current shape = (898, 398)\n",
      "filling on, default _FillValue of -9223372036854775806 used\n",
      "<class 'netCDF4._netCDF4.Variable'>\n",
      "float64 wgt04(y, x)\n",
      "    units: 1\n",
      "    long_name: SalishSeaCast NEMO Grid Weights for src04\n",
      "    valid_range: [-2.33144746e-07  2.49611075e-01]\n",
      "unlimited dimensions: \n",
      "current shape = (898, 398)\n",
      "filling on, default _FillValue of 9.969209968386869e+36 used\n"
     ]
    }
   ],
   "source": [
    "vars = (\n",
    "    (src01, wgt01), (src02, wgt02), (src03, wgt03), (src04, wgt04),\n",
    ")\n",
    "for i, sw in enumerate(vars):\n",
    "    s, w = sw\n",
    "    sname = f'src{(i+1):02d}'\n",
    "    wname = f'wgt{(i+1):02d}'\n",
    "    s[:] = src.variables[sname][:]\n",
    "    s.units = 1\n",
    "    s.long_name = f'{atmos_grid_name} Grid Index 1 (Flattened)'\n",
    "    s.valid_range = np.array(\n",
    "        (np.min(src.variables[sname]), np.max(src.variables[sname])))\n",
    "    \n",
    "    w[:] = src.variables[wname][:]\n",
    "    w.units = 1\n",
    "    w.long_name = f'SalishSeaCast NEMO Grid Weights for {sname}'\n",
    "    w.valid_range = np.array(\n",
    "        (np.min(src.variables[wname]), np.max(src.variables[wname])))\n",
    "\n",
    "    nc_tools.show_variable_attrs(weights, sname, wname)"
   ]
  },
  {
   "cell_type": "markdown",
   "metadata": {},
   "source": [
    "Global dataset attributes:"
   ]
  },
  {
   "cell_type": "code",
   "execution_count": 16,
   "metadata": {
    "collapsed": false,
    "jupyter": {
     "outputs_hidden": false
    }
   },
   "outputs": [
    {
     "name": "stdout",
     "output_type": "stream",
     "text": [
      "file format: NETCDF4\n",
      "Conventions: CF-1.6\n",
      "title: SalishSeaCast NEMO HRDPS 2.5km Continental Rotated Lat/Lon Grid Atmospheric Forcing Interpolation Weights\n",
      "institution: Dept of Earth, Ocean & Atmospheric Sciences, University of British Columbia\n",
      "source: REQUIRED\n",
      "references: REQUIRED\n",
      "history: [2023-03-14 10:19:41] Created netCDF4 zlib=True dataset.\n",
      "comment: \n"
     ]
    },
    {
     "name": "stderr",
     "output_type": "stream",
     "text": [
      "not found!\n"
     ]
    }
   ],
   "source": [
    "nc_tools.init_dataset_attrs(\n",
    "    weights,\n",
    "    f'SalishSeaCast NEMO {atmos_grid_name} Grid Atmospheric Forcing Interpolation Weights',\n",
    "    f'ImproveWeightsFile',\n",
    "    os.fspath(netcdf4_weight),\n",
    ")"
   ]
  },
  {
   "cell_type": "code",
   "execution_count": 17,
   "metadata": {
    "collapsed": false,
    "jupyter": {
     "outputs_hidden": false
    }
   },
   "outputs": [
    {
     "name": "stdout",
     "output_type": "stream",
     "text": [
      "file format: NETCDF4\n",
      "Conventions: CF-1.6\n",
      "title: SalishSeaCast NEMO HRDPS 2.5km Continental Rotated Lat/Lon Grid Atmospheric Forcing Interpolation Weights\n",
      "institution: Dept of Earth, Ocean & Atmospheric Sciences, University of British Columbia\n",
      "source: NEMO_EastCoast/NEMO_Preparation/4_weights_ATMOS/get_weight_nemo\n",
      "references: https://salishsea-meopar-docs.readthedocs.io/en/latest/code-notes/salishsea-nemo/nemo-forcing/atmospheric.html#interpolation-weights\n",
      "history: [2023-03-14 10:19:39] Converted to netCDF4 zlib=True dataset, and added CF-1.6 metadata with tools/I_ForcingFiles/Atmos/ImproveWeightsFile.ipynb\n",
      "[2023-03-13 22:38:43] Created netCDF3 classic dataset with NEMO_EastCoast/NEMO_Preparation/4_weights_ATMOS/get_weight_nemo.\n",
      "comment: For use with forcing files in /results/forcing/atmospheric/continental2.5/nemo_forcing/\n"
     ]
    }
   ],
   "source": [
    "weights.history = history\n",
    "weights.source = 'NEMO_EastCoast/NEMO_Preparation/4_weights_ATMOS/get_weight_nemo'\n",
    "weights.references = 'https://salishsea-meopar-docs.readthedocs.io/en/latest/code-notes/salishsea-nemo/nemo-forcing/atmospheric.html#interpolation-weights'\n",
    "weights.comment = 'For use with forcing files in /results/forcing/atmospheric/continental2.5/nemo_forcing/'\n",
    "nc_tools.show_dataset_attrs(weights)"
   ]
  },
  {
   "cell_type": "code",
   "execution_count": 18,
   "metadata": {
    "collapsed": false,
    "jupyter": {
     "outputs_hidden": false
    }
   },
   "outputs": [],
   "source": [
    "nc_tools.check_dataset_attrs(weights)"
   ]
  },
  {
   "cell_type": "code",
   "execution_count": 19,
   "metadata": {
    "collapsed": false,
    "jupyter": {
     "outputs_hidden": false
    }
   },
   "outputs": [],
   "source": [
    "weights.close()"
   ]
  },
  {
   "cell_type": "code",
   "execution_count": null,
   "metadata": {},
   "outputs": [],
   "source": []
  }
 ],
 "metadata": {
  "kernelspec": {
   "display_name": "Python 3 (ipykernel)",
   "language": "python",
   "name": "python3"
  },
  "language_info": {
   "codemirror_mode": {
    "name": "ipython",
    "version": 3
   },
   "file_extension": ".py",
   "mimetype": "text/x-python",
   "name": "python",
   "nbconvert_exporter": "python",
   "pygments_lexer": "ipython3",
   "version": "3.9.15"
  }
 },
 "nbformat": 4,
 "nbformat_minor": 4
}
