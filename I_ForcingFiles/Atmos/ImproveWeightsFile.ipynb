{
 "cells": [
  {
   "cell_type": "markdown",
   "metadata": {},
   "source": [
    "# Improve Atmospheric Forcing Weights File\n",
    "\n",
    "Transfer the values from a `met_gem_weight.nc`\n",
    "created by `NEMO_EastCoast/NEMO_Preparation/4_weights_ATMOS/get_weight_nemo`\n",
    "into a netCDF4 file with zlib compression on variables\n",
    "and CF-1.6 conventions conformant attributes."
   ]
  },
  {
   "cell_type": "markdown",
   "metadata": {},
   "source": [
    "## 1. Setup"
   ]
  },
  {
   "cell_type": "code",
   "metadata": {
    "tags": [],
    "ExecuteTime": {
     "end_time": "2024-10-06T17:34:44.562559Z",
     "start_time": "2024-10-06T17:34:44.404978Z"
    }
   },
   "source": [
    "from datetime import datetime\n",
    "import os\n",
    "from pathlib import Path\n",
    "\n",
    "import netCDF4 as nc\n",
    "import numpy as np\n",
    "\n",
    "from salishsea_tools import nc_tools"
   ],
   "outputs": [],
   "execution_count": 1
  },
  {
   "cell_type": "markdown",
   "metadata": {},
   "source": [
    "The input file is the `met_gem_weight.nc` file produced by\n",
    "`NEMO_EastCoast/NEMO_Preparation/4_weights_ATMOS/get_weight_nemo`.\n",
    "See the\n",
    "[Atmospheric Forcing - Interolation Weights](http://salishsea-meopar-docs.readthedocs.org/en/latest/code-notes/salishsea-nemo/nemo-forcing/atmospheric.html#interpolation-weights)\n",
    "docs for details of how to generate it.\n",
    "The only thing you should need to change here is the path to the\n",
    "`met_gem_weight.nc` file you want to work with."
   ]
  },
  {
   "cell_type": "code",
   "metadata": {
    "collapsed": false,
    "jupyter": {
     "outputs_hidden": false
    },
    "ExecuteTime": {
     "end_time": "2024-10-06T17:35:02.343421Z",
     "start_time": "2024-10-06T17:35:02.340641Z"
    }
   },
   "source": "met_gem_weight = Path('/data/dlatorne/MEOPAR/grid/sss150/', 'met_gem_weight.nc')",
   "outputs": [],
   "execution_count": 2
  },
  {
   "cell_type": "markdown",
   "metadata": {},
   "source": [
    "The output file should be version controlled in the `grid/' repo."
   ]
  },
  {
   "cell_type": "code",
   "metadata": {
    "collapsed": false,
    "jupyter": {
     "outputs_hidden": false
    },
    "ExecuteTime": {
     "end_time": "2024-10-06T17:37:15.595732Z",
     "start_time": "2024-10-06T17:37:15.593227Z"
    }
   },
   "source": [
    "netcdf4_weight = Path(\n",
    "    '/data/dlatorne/MEOPAR/grid/sss150/', \n",
    "    'weights-continental2.5-hrdps_20240822_23feb23onward.nc'\n",
    ")"
   ],
   "outputs": [],
   "execution_count": 3
  },
  {
   "cell_type": "markdown",
   "metadata": {},
   "source": [
    "A descriptive name of the atmospheric forcing model grid\n",
    "is used in the metadata for the variables."
   ]
  },
  {
   "cell_type": "code",
   "metadata": {
    "collapsed": false,
    "jupyter": {
     "outputs_hidden": false
    },
    "ExecuteTime": {
     "end_time": "2024-10-06T17:52:52.938793Z",
     "start_time": "2024-10-06T17:52:52.936543Z"
    }
   },
   "source": [
    "atmos_grid_name = 'HRDPS 2.5km Continental Rotated Lat/Lon'"
   ],
   "outputs": [],
   "execution_count": 4
  },
  {
   "cell_type": "markdown",
   "metadata": {},
   "source": [
    "The history metadata that will be attached to the dataset:"
   ]
  },
  {
   "cell_type": "code",
   "metadata": {
    "collapsed": false,
    "jupyter": {
     "outputs_hidden": false
    },
    "ExecuteTime": {
     "end_time": "2024-10-06T17:53:45.822525Z",
     "start_time": "2024-10-06T17:53:45.819812Z"
    }
   },
   "source": [
    "history = (\n",
    "    f'[{datetime.now():%Y-%m-%d %H:%M:%S}] '\n",
    "    f'Converted to netCDF4 zlib=True dataset, and added CF-1.6 metadata '\n",
    "    f'with {os.fspath(Path(\"tools/I_ForcingFiles/Atmos/ImproveWeightsFile.ipynb\"))}'\n",
    ")"
   ],
   "outputs": [],
   "execution_count": 5
  },
  {
   "cell_type": "markdown",
   "metadata": {},
   "source": [
    "**Note:** Please edit the date/time below to that of the creation of the `met_gem_weight.nc`."
   ]
  },
  {
   "cell_type": "code",
   "metadata": {
    "collapsed": false,
    "jupyter": {
     "outputs_hidden": false
    },
    "ExecuteTime": {
     "end_time": "2024-10-06T17:54:17.661976Z",
     "start_time": "2024-10-06T17:54:17.659504Z"
    }
   },
   "source": [
    "history = '\\n'.join((\n",
    "    history,\n",
    "    '[2024-10-06 10:19:43] '\n",
    "    'Created netCDF3 classic dataset with NEMO_EastCoast/NEMO_Preparation/4_weights_ATMOS/get_weight_nemo.'\n",
    "))"
   ],
   "outputs": [],
   "execution_count": 6
  },
  {
   "metadata": {
    "ExecuteTime": {
     "end_time": "2024-10-06T17:54:25.578246Z",
     "start_time": "2024-10-06T17:54:25.573664Z"
    }
   },
   "cell_type": "code",
   "source": "history",
   "outputs": [
    {
     "data": {
      "text/plain": [
       "'[2024-10-06 10:53:45] Converted to netCDF4 zlib=True dataset, and added CF-1.6 metadata with tools/I_ForcingFiles/Atmos/ImproveWeightsFile.ipynb\\n[2024-10-06 10:19:43] Created netCDF3 classic dataset with NEMO_EastCoast/NEMO_Preparation/4_weights_ATMOS/get_weight_nemo.'"
      ]
     },
     "execution_count": 7,
     "metadata": {},
     "output_type": "execute_result"
    }
   ],
   "execution_count": 7
  },
  {
   "cell_type": "markdown",
   "metadata": {},
   "source": [
    "## 2. Open & Inspect the Input Dataset"
   ]
  },
  {
   "cell_type": "code",
   "metadata": {
    "collapsed": false,
    "jupyter": {
     "outputs_hidden": false
    },
    "ExecuteTime": {
     "end_time": "2024-10-06T17:56:40.658619Z",
     "start_time": "2024-10-06T17:56:39.806085Z"
    }
   },
   "source": [
    "src = nc.Dataset(met_gem_weight)\n",
    "nc_tools.show_dataset_attrs(src)"
   ],
   "outputs": [
    {
     "name": "stdout",
     "output_type": "stream",
     "text": [
      "file format: NETCDF3_CLASSIC\n"
     ]
    }
   ],
   "execution_count": 9
  },
  {
   "cell_type": "code",
   "metadata": {
    "collapsed": false,
    "jupyter": {
     "outputs_hidden": false
    },
    "ExecuteTime": {
     "end_time": "2024-10-06T17:56:45.459053Z",
     "start_time": "2024-10-06T17:56:45.456265Z"
    }
   },
   "source": [
    "nc_tools.show_dimensions(src)"
   ],
   "outputs": [
    {
     "name": "stdout",
     "output_type": "stream",
     "text": [
      "<class 'netCDF4._netCDF4.Dimension'>: name = 'x', size = 710\n",
      "<class 'netCDF4._netCDF4.Dimension'>: name = 'y', size = 826\n",
      "<class 'netCDF4._netCDF4.Dimension'>: name = 'lon', size = 190\n",
      "<class 'netCDF4._netCDF4.Dimension'>: name = 'lat', size = 230\n",
      "<class 'netCDF4._netCDF4.Dimension'>: name = 'numwgt', size = 4\n"
     ]
    }
   ],
   "execution_count": 10
  },
  {
   "cell_type": "code",
   "metadata": {
    "collapsed": false,
    "jupyter": {
     "outputs_hidden": false
    },
    "ExecuteTime": {
     "end_time": "2024-10-06T17:56:49.900294Z",
     "start_time": "2024-10-06T17:56:49.897547Z"
    }
   },
   "source": [
    "nc_tools.show_variables(src)"
   ],
   "outputs": [
    {
     "name": "stdout",
     "output_type": "stream",
     "text": [
      "dict_keys(['nav_lon', 'nav_lat', 'src01', 'wgt01', 'src02', 'wgt02', 'src03', 'wgt03', 'src04', 'wgt04'])\n"
     ]
    }
   ],
   "execution_count": 11
  },
  {
   "cell_type": "code",
   "metadata": {
    "collapsed": false,
    "jupyter": {
     "outputs_hidden": false
    },
    "ExecuteTime": {
     "end_time": "2024-10-06T17:56:53.779392Z",
     "start_time": "2024-10-06T17:56:53.775541Z"
    }
   },
   "source": [
    "nc_tools.show_variable_attrs(src)"
   ],
   "outputs": [
    {
     "name": "stdout",
     "output_type": "stream",
     "text": [
      "<class 'netCDF4._netCDF4.Variable'>\n",
      "float64 nav_lon(lat, lon)\n",
      "unlimited dimensions: \n",
      "current shape = (230, 190)\n",
      "filling on, default _FillValue of 9.969209968386869e+36 used\n",
      "<class 'netCDF4._netCDF4.Variable'>\n",
      "float64 nav_lat(lat, lon)\n",
      "unlimited dimensions: \n",
      "current shape = (230, 190)\n",
      "filling on, default _FillValue of 9.969209968386869e+36 used\n",
      "<class 'netCDF4._netCDF4.Variable'>\n",
      "int32 src01(y, x)\n",
      "unlimited dimensions: \n",
      "current shape = (826, 710)\n",
      "filling on, default _FillValue of -2147483647 used\n",
      "<class 'netCDF4._netCDF4.Variable'>\n",
      "float64 wgt01(y, x)\n",
      "unlimited dimensions: \n",
      "current shape = (826, 710)\n",
      "filling on, default _FillValue of 9.969209968386869e+36 used\n",
      "<class 'netCDF4._netCDF4.Variable'>\n",
      "int32 src02(y, x)\n",
      "unlimited dimensions: \n",
      "current shape = (826, 710)\n",
      "filling on, default _FillValue of -2147483647 used\n",
      "<class 'netCDF4._netCDF4.Variable'>\n",
      "float64 wgt02(y, x)\n",
      "unlimited dimensions: \n",
      "current shape = (826, 710)\n",
      "filling on, default _FillValue of 9.969209968386869e+36 used\n",
      "<class 'netCDF4._netCDF4.Variable'>\n",
      "int32 src03(y, x)\n",
      "unlimited dimensions: \n",
      "current shape = (826, 710)\n",
      "filling on, default _FillValue of -2147483647 used\n",
      "<class 'netCDF4._netCDF4.Variable'>\n",
      "float64 wgt03(y, x)\n",
      "unlimited dimensions: \n",
      "current shape = (826, 710)\n",
      "filling on, default _FillValue of 9.969209968386869e+36 used\n",
      "<class 'netCDF4._netCDF4.Variable'>\n",
      "int32 src04(y, x)\n",
      "unlimited dimensions: \n",
      "current shape = (826, 710)\n",
      "filling on, default _FillValue of -2147483647 used\n",
      "<class 'netCDF4._netCDF4.Variable'>\n",
      "float64 wgt04(y, x)\n",
      "unlimited dimensions: \n",
      "current shape = (826, 710)\n",
      "filling on, default _FillValue of 9.969209968386869e+36 used\n"
     ]
    }
   ],
   "execution_count": 12
  },
  {
   "cell_type": "markdown",
   "metadata": {},
   "source": [
    "## 3. Create the Output Dataset"
   ]
  },
  {
   "cell_type": "markdown",
   "metadata": {},
   "source": [
    "New datasets created with the `netCDF4` library default to netCDF4 format."
   ]
  },
  {
   "cell_type": "code",
   "metadata": {
    "collapsed": false,
    "jupyter": {
     "outputs_hidden": false
    },
    "ExecuteTime": {
     "end_time": "2024-10-06T17:57:09.749591Z",
     "start_time": "2024-10-06T17:57:09.607360Z"
    }
   },
   "source": [
    "weights = nc.Dataset(netcdf4_weight, 'w')"
   ],
   "outputs": [],
   "execution_count": 13
  },
  {
   "cell_type": "code",
   "metadata": {
    "collapsed": false,
    "jupyter": {
     "outputs_hidden": false
    },
    "ExecuteTime": {
     "end_time": "2024-10-06T17:57:14.702031Z",
     "start_time": "2024-10-06T17:57:14.697909Z"
    }
   },
   "source": [
    "y_size, x_size = src.variables['src01'].shape\n",
    "weights.createDimension('x', x_size)\n",
    "weights.createDimension('y', y_size)\n",
    "lat_size, lon_size = src.variables['nav_lon'].shape\n",
    "weights.createDimension('lon', lon_size)\n",
    "weights.createDimension('lat', lat_size)\n",
    "weights.createDimension('numwgt', 4)"
   ],
   "outputs": [
    {
     "data": {
      "text/plain": [
       "<class 'netCDF4._netCDF4.Dimension'>: name = 'numwgt', size = 4"
      ]
     },
     "execution_count": 14,
     "metadata": {},
     "output_type": "execute_result"
    }
   ],
   "execution_count": 14
  },
  {
   "cell_type": "markdown",
   "metadata": {},
   "source": [
    "Setting `zlib=True` for the variables enables Lempel-Ziv deflation\n",
    "which results in a 40%-80% decrease in the file size."
   ]
  },
  {
   "cell_type": "code",
   "metadata": {
    "collapsed": false,
    "jupyter": {
     "outputs_hidden": false
    },
    "ExecuteTime": {
     "end_time": "2024-10-06T17:57:25.842503Z",
     "start_time": "2024-10-06T17:57:25.836531Z"
    }
   },
   "source": [
    "lats = weights.createVariable('nav_lat', float, ('lat', 'lon'), zlib=True)\n",
    "lons = weights.createVariable('nav_lon', float, ('lat', 'lon'), zlib=True)\n",
    "src01 = weights.createVariable('src01', int, ('y', 'x'), zlib=True)\n",
    "wgt01 = weights.createVariable('wgt01', float, ('y', 'x'), zlib=True)\n",
    "src02 = weights.createVariable('src02', int, ('y', 'x'), zlib=True)\n",
    "wgt02 = weights.createVariable('wgt02', float, ('y', 'x'), zlib=True)\n",
    "src03 = weights.createVariable('src03', int, ('y', 'x'), zlib=True)\n",
    "wgt03 = weights.createVariable('wgt03', float, ('y', 'x'), zlib=True)\n",
    "src04 = weights.createVariable('src04', int, ('y', 'x'), zlib=True)\n",
    "wgt04 = weights.createVariable('wgt04', float, ('y', 'x'), zlib=True)"
   ],
   "outputs": [],
   "execution_count": 15
  },
  {
   "cell_type": "markdown",
   "metadata": {},
   "source": [
    "Copy the latitude and longitude values,\n",
    "and add their variable-level metadata:"
   ]
  },
  {
   "cell_type": "code",
   "metadata": {
    "collapsed": false,
    "jupyter": {
     "outputs_hidden": false
    },
    "ExecuteTime": {
     "end_time": "2024-10-06T17:57:29.380529Z",
     "start_time": "2024-10-06T17:57:29.101386Z"
    }
   },
   "source": [
    "lats[:] = src.variables['nav_lat'][:]\n",
    "lats.units = 'degrees_north'\n",
    "lats.long_name = 'Latitude'\n",
    "lats.valid_range = np.array((-90.0, 90.0))\n",
    "    \n",
    "lons[:] = src.variables['nav_lon'][:]\n",
    "lons.units = 'degrees_east'\n",
    "lons.long_name = 'Longitude'\n",
    "lons.valid_range = np.array((0., 360.))\n",
    "    \n",
    "nc_tools.show_variable_attrs(weights, 'nav_lat', 'nav_lon')"
   ],
   "outputs": [
    {
     "name": "stdout",
     "output_type": "stream",
     "text": [
      "<class 'netCDF4._netCDF4.Variable'>\n",
      "float64 nav_lat(lat, lon)\n",
      "    units: degrees_north\n",
      "    long_name: Latitude\n",
      "    valid_range: [-90.  90.]\n",
      "unlimited dimensions: \n",
      "current shape = (230, 190)\n",
      "filling on, default _FillValue of 9.969209968386869e+36 used\n",
      "<class 'netCDF4._netCDF4.Variable'>\n",
      "float64 nav_lon(lat, lon)\n",
      "    units: degrees_east\n",
      "    long_name: Longitude\n",
      "    valid_range: [  0. 360.]\n",
      "unlimited dimensions: \n",
      "current shape = (230, 190)\n",
      "filling on, default _FillValue of 9.969209968386869e+36 used\n"
     ]
    }
   ],
   "execution_count": 16
  },
  {
   "cell_type": "markdown",
   "metadata": {},
   "source": [
    "Copy the `src` and `wgt` variable values,\n",
    "and add metadata:"
   ]
  },
  {
   "cell_type": "code",
   "metadata": {
    "collapsed": false,
    "jupyter": {
     "outputs_hidden": false
    },
    "ExecuteTime": {
     "end_time": "2024-10-06T17:57:46.077270Z",
     "start_time": "2024-10-06T17:57:36.620694Z"
    }
   },
   "source": [
    "vars = (\n",
    "    (src01, wgt01), (src02, wgt02), (src03, wgt03), (src04, wgt04),\n",
    ")\n",
    "for i, sw in enumerate(vars):\n",
    "    s, w = sw\n",
    "    sname = f'src{(i+1):02d}'\n",
    "    wname = f'wgt{(i+1):02d}'\n",
    "    s[:] = src.variables[sname][:]\n",
    "    s.units = 1\n",
    "    s.long_name = f'{atmos_grid_name} Grid Index 1 (Flattened)'\n",
    "    s.valid_range = np.array(\n",
    "        (np.min(src.variables[sname]), np.max(src.variables[sname])))\n",
    "    \n",
    "    w[:] = src.variables[wname][:]\n",
    "    w.units = 1\n",
    "    w.long_name = f'SalishSeaCast NEMO Grid Weights for {sname}'\n",
    "    w.valid_range = np.array(\n",
    "        (np.min(src.variables[wname]), np.max(src.variables[wname])))\n",
    "\n",
    "    nc_tools.show_variable_attrs(weights, sname, wname)"
   ],
   "outputs": [
    {
     "name": "stdout",
     "output_type": "stream",
     "text": [
      "<class 'netCDF4._netCDF4.Variable'>\n",
      "int64 src01(y, x)\n",
      "    units: 1\n",
      "    long_name: HRDPS 2.5km Continental Rotated Lat/Lon Grid Index 1 (Flattened)\n",
      "    valid_range: [20653 28039]\n",
      "unlimited dimensions: \n",
      "current shape = (826, 710)\n",
      "filling on, default _FillValue of -9223372036854775806 used\n",
      "<class 'netCDF4._netCDF4.Variable'>\n",
      "float64 wgt01(y, x)\n",
      "    units: 1\n",
      "    long_name: SalishSeaCast NEMO Grid Weights for src01\n",
      "    valid_range: [0.25043291 0.99865817]\n",
      "unlimited dimensions: \n",
      "current shape = (826, 710)\n",
      "filling on, default _FillValue of 9.969209968386869e+36 used\n",
      "<class 'netCDF4._netCDF4.Variable'>\n",
      "int64 src02(y, x)\n",
      "    units: 1\n",
      "    long_name: HRDPS 2.5km Continental Rotated Lat/Lon Grid Index 1 (Flattened)\n",
      "    valid_range: [20465 28041]\n",
      "unlimited dimensions: \n",
      "current shape = (826, 710)\n",
      "filling on, default _FillValue of -9223372036854775806 used\n",
      "<class 'netCDF4._netCDF4.Variable'>\n",
      "float64 wgt02(y, x)\n",
      "    units: 1\n",
      "    long_name: SalishSeaCast NEMO Grid Weights for src02\n",
      "    valid_range: [4.24207750e-07 4.99972649e-01]\n",
      "unlimited dimensions: \n",
      "current shape = (826, 710)\n",
      "filling on, default _FillValue of 9.969209968386869e+36 used\n",
      "<class 'netCDF4._netCDF4.Variable'>\n",
      "int64 src03(y, x)\n",
      "    units: 1\n",
      "    long_name: HRDPS 2.5km Continental Rotated Lat/Lon Grid Index 1 (Flattened)\n",
      "    valid_range: [20652 28040]\n",
      "unlimited dimensions: \n",
      "current shape = (826, 710)\n",
      "filling on, default _FillValue of -9223372036854775806 used\n",
      "<class 'netCDF4._netCDF4.Variable'>\n",
      "float64 wgt03(y, x)\n",
      "    units: 1\n",
      "    long_name: SalishSeaCast NEMO Grid Weights for src03\n",
      "    valid_range: [7.62250122e-07 4.99714178e-01]\n",
      "unlimited dimensions: \n",
      "current shape = (826, 710)\n",
      "filling on, default _FillValue of 9.969209968386869e+36 used\n",
      "<class 'netCDF4._netCDF4.Variable'>\n",
      "int64 src04(y, x)\n",
      "    units: 1\n",
      "    long_name: HRDPS 2.5km Continental Rotated Lat/Lon Grid Index 1 (Flattened)\n",
      "    valid_range: [20465 28042]\n",
      "unlimited dimensions: \n",
      "current shape = (826, 710)\n",
      "filling on, default _FillValue of -9223372036854775806 used\n",
      "<class 'netCDF4._netCDF4.Variable'>\n",
      "float64 wgt04(y, x)\n",
      "    units: 1\n",
      "    long_name: SalishSeaCast NEMO Grid Weights for src04\n",
      "    valid_range: [8.03788283e-08 2.49567461e-01]\n",
      "unlimited dimensions: \n",
      "current shape = (826, 710)\n",
      "filling on, default _FillValue of 9.969209968386869e+36 used\n"
     ]
    }
   ],
   "execution_count": 17
  },
  {
   "cell_type": "markdown",
   "metadata": {},
   "source": [
    "Global dataset attributes:"
   ]
  },
  {
   "cell_type": "code",
   "metadata": {
    "collapsed": false,
    "jupyter": {
     "outputs_hidden": false
    },
    "ExecuteTime": {
     "end_time": "2024-10-06T17:57:54.361547Z",
     "start_time": "2024-10-06T17:57:54.210329Z"
    }
   },
   "source": [
    "nc_tools.init_dataset_attrs(\n",
    "    weights,\n",
    "    f'SalishSeaCast NEMO {atmos_grid_name} Grid Atmospheric Forcing Interpolation Weights',\n",
    "    f'ImproveWeightsFile',\n",
    "    os.fspath(netcdf4_weight),\n",
    ")"
   ],
   "outputs": [
    {
     "name": "stdout",
     "output_type": "stream",
     "text": [
      "file format: NETCDF4\n",
      "Conventions: CF-1.6\n",
      "title: SalishSeaCast NEMO HRDPS 2.5km Continental Rotated Lat/Lon Grid Atmospheric Forcing Interpolation Weights\n",
      "institution: Dept of Earth, Ocean & Atmospheric Sciences, University of British Columbia\n",
      "source: REQUIRED\n",
      "references: REQUIRED\n",
      "history: [2024-10-06 10:57:54] Created netCDF4 zlib=True dataset.\n",
      "comment: \n"
     ]
    },
    {
     "name": "stderr",
     "output_type": "stream",
     "text": [
      "not found!\n"
     ]
    }
   ],
   "execution_count": 18
  },
  {
   "cell_type": "code",
   "metadata": {
    "collapsed": false,
    "jupyter": {
     "outputs_hidden": false
    },
    "ExecuteTime": {
     "end_time": "2024-10-06T17:58:11.652786Z",
     "start_time": "2024-10-06T17:58:11.649604Z"
    }
   },
   "source": [
    "weights.history = history\n",
    "weights.source = 'NEMO_EastCoast/NEMO_Preparation/4_weights_ATMOS/get_weight_nemo'\n",
    "weights.references = 'https://salishsea-meopar-docs.readthedocs.io/en/latest/code-notes/salishsea-nemo/nemo-forcing/atmospheric.html#interpolation-weights'\n",
    "weights.comment = 'For use with forcing files in /results/forcing/atmospheric/continental2.5/nemo_forcing/'\n",
    "nc_tools.show_dataset_attrs(weights)"
   ],
   "outputs": [
    {
     "name": "stdout",
     "output_type": "stream",
     "text": [
      "file format: NETCDF4\n",
      "Conventions: CF-1.6\n",
      "title: SalishSeaCast NEMO HRDPS 2.5km Continental Rotated Lat/Lon Grid Atmospheric Forcing Interpolation Weights\n",
      "institution: Dept of Earth, Ocean & Atmospheric Sciences, University of British Columbia\n",
      "source: NEMO_EastCoast/NEMO_Preparation/4_weights_ATMOS/get_weight_nemo\n",
      "references: https://salishsea-meopar-docs.readthedocs.io/en/latest/code-notes/salishsea-nemo/nemo-forcing/atmospheric.html#interpolation-weights\n",
      "history: [2024-10-06 10:53:45] Converted to netCDF4 zlib=True dataset, and added CF-1.6 metadata with tools/I_ForcingFiles/Atmos/ImproveWeightsFile.ipynb\n",
      "[2024-10-06 10:19:43] Created netCDF3 classic dataset with NEMO_EastCoast/NEMO_Preparation/4_weights_ATMOS/get_weight_nemo.\n",
      "comment: For use with forcing files in /results/forcing/atmospheric/continental2.5/nemo_forcing/\n"
     ]
    }
   ],
   "execution_count": 19
  },
  {
   "cell_type": "code",
   "metadata": {
    "collapsed": false,
    "jupyter": {
     "outputs_hidden": false
    },
    "ExecuteTime": {
     "end_time": "2024-10-06T17:58:20.150883Z",
     "start_time": "2024-10-06T17:58:20.148114Z"
    }
   },
   "source": [
    "nc_tools.check_dataset_attrs(weights)"
   ],
   "outputs": [],
   "execution_count": 20
  },
  {
   "cell_type": "code",
   "metadata": {
    "collapsed": false,
    "jupyter": {
     "outputs_hidden": false
    },
    "ExecuteTime": {
     "end_time": "2024-10-06T17:58:26.604917Z",
     "start_time": "2024-10-06T17:58:25.852459Z"
    }
   },
   "source": [
    "weights.close()"
   ],
   "outputs": [],
   "execution_count": 21
  },
  {
   "cell_type": "code",
   "execution_count": null,
   "metadata": {},
   "outputs": [],
   "source": []
  }
 ],
 "metadata": {
  "kernelspec": {
   "display_name": "Python 3 (ipykernel)",
   "language": "python",
   "name": "python3"
  },
  "language_info": {
   "codemirror_mode": {
    "name": "ipython",
    "version": 3
   },
   "file_extension": ".py",
   "mimetype": "text/x-python",
   "name": "python",
   "nbconvert_exporter": "python",
   "pygments_lexer": "ipython3",
   "version": "3.11.0"
  }
 },
 "nbformat": 4,
 "nbformat_minor": 4
}
