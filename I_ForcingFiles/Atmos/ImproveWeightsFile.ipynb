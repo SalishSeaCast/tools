{
 "cells": [
  {
   "cell_type": "markdown",
   "metadata": {},
   "source": [
    "# Improve Atmospheric Forcing Weights File\n",
    "\n",
    "Transfer the values from a `met_gem_weight.nc`\n",
    "created by `NEMO_EastCoast/NEMO_Preparation/4_weights_ATMOS/get_weight_nemo`\n",
    "into a netCDF4 file with zlib compression on variables\n",
    "and CF-1.6 conventions conformant attributes."
   ]
  },
  {
   "cell_type": "markdown",
   "metadata": {},
   "source": [
    "## 1. Setup"
   ]
  },
  {
   "cell_type": "code",
   "execution_count": 21,
   "metadata": {
    "collapsed": false
   },
   "outputs": [],
   "source": [
    "from datetime import datetime\n",
    "import os\n",
    "from pathlib import Path\n",
    "\n",
    "import netCDF4 as nc\n",
    "import numpy as np\n",
    "\n",
    "from salishsea_tools import nc_tools"
   ]
  },
  {
   "cell_type": "markdown",
   "metadata": {},
   "source": [
    "The input file is the `met_gem_weight.nc` file produced by\n",
    "`NEMO_EastCoast/NEMO_Preparation/4_weights_ATMOS/get_weight_nemo`.\n",
    "See the\n",
    "[Atmospheric Forcing - Interolation Weights](http://salishsea-meopar-docs.readthedocs.org/en/latest/code-notes/salishsea-nemo/nemo-forcing/atmospheric.html#interpolation-weights)\n",
    "docs for details of how to generate it.\n",
    "The only thing you should need to change here is the path to the\n",
    "`met_gem_weight.nc` file you want to work with."
   ]
  },
  {
   "cell_type": "code",
   "execution_count": 22,
   "metadata": {
    "collapsed": false
   },
   "outputs": [],
   "source": [
    "met_gem_weight = Path('../../../grid/', 'met_gem_weight.nc')"
   ]
  },
  {
   "cell_type": "markdown",
   "metadata": {},
   "source": [
    "The output file should be version controlled in `NEMO-forcing/grid/'."
   ]
  },
  {
   "cell_type": "code",
   "execution_count": 23,
   "metadata": {
    "collapsed": false
   },
   "outputs": [],
   "source": [
    "netcdf4_weight = Path('../../../grid/', 'weights-gem2.5-gemlam_201702.nc')"
   ]
  },
  {
   "cell_type": "markdown",
   "metadata": {},
   "source": [
    "A descriptive name of the atmospheric forcing model grid\n",
    "is used in the metadata for the variables."
   ]
  },
  {
   "cell_type": "code",
   "execution_count": 24,
   "metadata": {
    "collapsed": false
   },
   "outputs": [],
   "source": [
    "atmos_grid_name = 'GEM 2.5km Experimental'"
   ]
  },
  {
   "cell_type": "markdown",
   "metadata": {},
   "source": [
    "The history metadata that will be attached to the dataset:"
   ]
  },
  {
   "cell_type": "code",
   "execution_count": 25,
   "metadata": {
    "collapsed": false
   },
   "outputs": [],
   "source": [
    "history = (\n",
    "    '[{}] '\n",
    "    'Converted to netCDF4 zlib=True dataset, and added CF-1.6 metadata.'\n",
    "    .format(datetime.now().strftime('%Y-%m-%d %H:%M:%S'))\n",
    ")"
   ]
  },
  {
   "cell_type": "markdown",
   "metadata": {},
   "source": [
    "**Note:** Please edit the date/time below to that of the creation of the `met_gem_weight.nc`."
   ]
  },
  {
   "cell_type": "code",
   "execution_count": 26,
   "metadata": {
    "collapsed": false
   },
   "outputs": [],
   "source": [
    "history = '\\n'.join((\n",
    "    history,\n",
    "    '[2019-05-222 15:28:45] '\n",
    "    'Created netCDF3 classic dataset with NEMO_EastCoast/NEMO_Preparation/4_weights_ATMOS/get_weight_nemo.'\n",
    "))"
   ]
  },
  {
   "cell_type": "markdown",
   "metadata": {},
   "source": [
    "## 2. Open & Inspect the Input Dataset"
   ]
  },
  {
   "cell_type": "code",
   "execution_count": 27,
   "metadata": {
    "collapsed": false
   },
   "outputs": [
    {
     "name": "stdout",
     "output_type": "stream",
     "text": [
      "file format: NETCDF3_CLASSIC\n"
     ]
    }
   ],
   "source": [
    "src = nc.Dataset(met_gem_weight)\n",
    "nc_tools.show_dataset_attrs(src)"
   ]
  },
  {
   "cell_type": "code",
   "execution_count": 28,
   "metadata": {
    "collapsed": false
   },
   "outputs": [
    {
     "name": "stdout",
     "output_type": "stream",
     "text": [
      "<class 'netCDF4._netCDF4.Dimension'>: name = 'x', size = 398\n",
      "\n",
      "<class 'netCDF4._netCDF4.Dimension'>: name = 'y', size = 898\n",
      "\n",
      "<class 'netCDF4._netCDF4.Dimension'>: name = 'lon', size = 256\n",
      "\n",
      "<class 'netCDF4._netCDF4.Dimension'>: name = 'lat', size = 266\n",
      "\n",
      "<class 'netCDF4._netCDF4.Dimension'>: name = 'numwgt', size = 4\n",
      "\n"
     ]
    }
   ],
   "source": [
    "nc_tools.show_dimensions(src)"
   ]
  },
  {
   "cell_type": "code",
   "execution_count": 29,
   "metadata": {
    "collapsed": false
   },
   "outputs": [
    {
     "name": "stdout",
     "output_type": "stream",
     "text": [
      "odict_keys(['nav_lon', 'nav_lat', 'src01', 'wgt01', 'src02', 'wgt02', 'src03', 'wgt03', 'src04', 'wgt04'])\n"
     ]
    }
   ],
   "source": [
    "nc_tools.show_variables(src)"
   ]
  },
  {
   "cell_type": "code",
   "execution_count": 30,
   "metadata": {
    "collapsed": false
   },
   "outputs": [
    {
     "name": "stdout",
     "output_type": "stream",
     "text": [
      "<class 'netCDF4._netCDF4.Variable'>\n",
      "float64 nav_lon(lat, lon)\n",
      "unlimited dimensions: \n",
      "current shape = (266, 256)\n",
      "filling on, default _FillValue of 9.969209968386869e+36 used\n",
      "\n",
      "<class 'netCDF4._netCDF4.Variable'>\n",
      "float64 nav_lat(lat, lon)\n",
      "unlimited dimensions: \n",
      "current shape = (266, 256)\n",
      "filling on, default _FillValue of 9.969209968386869e+36 used\n",
      "\n",
      "<class 'netCDF4._netCDF4.Variable'>\n",
      "int32 src01(y, x)\n",
      "unlimited dimensions: \n",
      "current shape = (898, 398)\n",
      "filling on, default _FillValue of -2147483647 used\n",
      "\n",
      "<class 'netCDF4._netCDF4.Variable'>\n",
      "float64 wgt01(y, x)\n",
      "unlimited dimensions: \n",
      "current shape = (898, 398)\n",
      "filling on, default _FillValue of 9.969209968386869e+36 used\n",
      "\n",
      "<class 'netCDF4._netCDF4.Variable'>\n",
      "int32 src02(y, x)\n",
      "unlimited dimensions: \n",
      "current shape = (898, 398)\n",
      "filling on, default _FillValue of -2147483647 used\n",
      "\n",
      "<class 'netCDF4._netCDF4.Variable'>\n",
      "float64 wgt02(y, x)\n",
      "unlimited dimensions: \n",
      "current shape = (898, 398)\n",
      "filling on, default _FillValue of 9.969209968386869e+36 used\n",
      "\n",
      "<class 'netCDF4._netCDF4.Variable'>\n",
      "int32 src03(y, x)\n",
      "unlimited dimensions: \n",
      "current shape = (898, 398)\n",
      "filling on, default _FillValue of -2147483647 used\n",
      "\n",
      "<class 'netCDF4._netCDF4.Variable'>\n",
      "float64 wgt03(y, x)\n",
      "unlimited dimensions: \n",
      "current shape = (898, 398)\n",
      "filling on, default _FillValue of 9.969209968386869e+36 used\n",
      "\n",
      "<class 'netCDF4._netCDF4.Variable'>\n",
      "int32 src04(y, x)\n",
      "unlimited dimensions: \n",
      "current shape = (898, 398)\n",
      "filling on, default _FillValue of -2147483647 used\n",
      "\n",
      "<class 'netCDF4._netCDF4.Variable'>\n",
      "float64 wgt04(y, x)\n",
      "unlimited dimensions: \n",
      "current shape = (898, 398)\n",
      "filling on, default _FillValue of 9.969209968386869e+36 used\n",
      "\n"
     ]
    }
   ],
   "source": [
    "nc_tools.show_variable_attrs(src)"
   ]
  },
  {
   "cell_type": "markdown",
   "metadata": {},
   "source": [
    "## 3. Create the Output Dataset"
   ]
  },
  {
   "cell_type": "markdown",
   "metadata": {},
   "source": [
    "New datasets created with the `netCDF4` library default to netCDF4 format."
   ]
  },
  {
   "cell_type": "code",
   "execution_count": 31,
   "metadata": {
    "collapsed": false
   },
   "outputs": [],
   "source": [
    "weights = nc.Dataset(netcdf4_weight, 'w')"
   ]
  },
  {
   "cell_type": "code",
   "execution_count": 32,
   "metadata": {
    "collapsed": false
   },
   "outputs": [
    {
     "data": {
      "text/plain": [
       "<class 'netCDF4._netCDF4.Dimension'>: name = 'numwgt', size = 4"
      ]
     },
     "execution_count": 32,
     "metadata": {},
     "output_type": "execute_result"
    }
   ],
   "source": [
    "y_size, x_size = src.variables['src01'].shape\n",
    "weights.createDimension('x', x_size)\n",
    "weights.createDimension('y', y_size)\n",
    "lat_size, lon_size = src.variables['nav_lon'].shape\n",
    "weights.createDimension('lon', lon_size)\n",
    "weights.createDimension('lat', lat_size)\n",
    "weights.createDimension('numwgt', 4)"
   ]
  },
  {
   "cell_type": "markdown",
   "metadata": {},
   "source": [
    "Setting `zlib=True` for the variables enables Lempel-Ziv deflation\n",
    "which results in a 40%-80% decrease in the file size."
   ]
  },
  {
   "cell_type": "code",
   "execution_count": 33,
   "metadata": {
    "collapsed": false
   },
   "outputs": [],
   "source": [
    "lats = weights.createVariable('nav_lat', float, ('lat', 'lon'), zlib=True)\n",
    "lons = weights.createVariable('nav_lon', float, ('lat', 'lon'), zlib=True)\n",
    "src01 = weights.createVariable('src01', int, ('y', 'x'), zlib=True)\n",
    "wgt01 = weights.createVariable('wgt01', float, ('y', 'x'), zlib=True)\n",
    "src02 = weights.createVariable('src02', int, ('y', 'x'), zlib=True)\n",
    "wgt02 = weights.createVariable('wgt02', float, ('y', 'x'), zlib=True)\n",
    "src03 = weights.createVariable('src03', int, ('y', 'x'), zlib=True)\n",
    "wgt03 = weights.createVariable('wgt03', float, ('y', 'x'), zlib=True)\n",
    "src04 = weights.createVariable('src04', int, ('y', 'x'), zlib=True)\n",
    "wgt04 = weights.createVariable('wgt04', float, ('y', 'x'), zlib=True)"
   ]
  },
  {
   "cell_type": "markdown",
   "metadata": {},
   "source": [
    "Copy the latitude and longitude values,\n",
    "and add their variable-level metadata:"
   ]
  },
  {
   "cell_type": "code",
   "execution_count": 34,
   "metadata": {
    "collapsed": false
   },
   "outputs": [
    {
     "name": "stdout",
     "output_type": "stream",
     "text": [
      "<class 'netCDF4._netCDF4.Variable'>\n",
      "float64 nav_lat(lat, lon)\n",
      "    units: degrees_north\n",
      "    long_name: Latitude\n",
      "    valid_range: [-90.  90.]\n",
      "unlimited dimensions: \n",
      "current shape = (266, 256)\n",
      "filling on, default _FillValue of 9.969209968386869e+36 used\n",
      "\n",
      "<class 'netCDF4._netCDF4.Variable'>\n",
      "float64 nav_lon(lat, lon)\n",
      "    units: degrees_east\n",
      "    long_name: Longitude\n",
      "    valid_range: [  0. 360.]\n",
      "unlimited dimensions: \n",
      "current shape = (266, 256)\n",
      "filling on, default _FillValue of 9.969209968386869e+36 used\n",
      "\n"
     ]
    }
   ],
   "source": [
    "lats[:] = src.variables['nav_lat'][:]\n",
    "lats.units = 'degrees_north'\n",
    "lats.long_name = 'Latitude'\n",
    "lats.valid_range = np.array((-90.0, 90.0))\n",
    "    \n",
    "lons[:] = src.variables['nav_lon'][:]\n",
    "lons.units = 'degrees_east'\n",
    "lons.long_name = 'Longitude'\n",
    "lons.valid_range = np.array((0., 360.))\n",
    "    \n",
    "nc_tools.show_variable_attrs(weights, 'nav_lat', 'nav_lon')"
   ]
  },
  {
   "cell_type": "markdown",
   "metadata": {},
   "source": [
    "Copy the `src` and `wgt` variable values,\n",
    "and add metadata:"
   ]
  },
  {
   "cell_type": "code",
   "execution_count": 35,
   "metadata": {
    "collapsed": false
   },
   "outputs": [
    {
     "name": "stdout",
     "output_type": "stream",
     "text": [
      "<class 'netCDF4._netCDF4.Variable'>\n",
      "int64 src01(y, x)\n",
      "    units: 1\n",
      "    long_name: GEM 2.5km Experimental Grid Index 1 (Flattened)\n",
      "    valid_range: [ 9093 57995]\n",
      "unlimited dimensions: \n",
      "current shape = (898, 398)\n",
      "filling on, default _FillValue of -9223372036854775806 used\n",
      "\n",
      "<class 'netCDF4._netCDF4.Variable'>\n",
      "float64 wgt01(y, x)\n",
      "    units: 1\n",
      "    long_name: Salish Sea Grid Weights for src01\n",
      "    valid_range: [0.25075039 0.99903354]\n",
      "unlimited dimensions: \n",
      "current shape = (898, 398)\n",
      "filling on, default _FillValue of 9.969209968386869e+36 used\n",
      "\n",
      "<class 'netCDF4._netCDF4.Variable'>\n",
      "int64 src02(y, x)\n",
      "    units: 1\n",
      "    long_name: GEM 2.5km Experimental Grid Index 1 (Flattened)\n",
      "    valid_range: [ 9093 57995]\n",
      "unlimited dimensions: \n",
      "current shape = (898, 398)\n",
      "filling on, default _FillValue of -9223372036854775806 used\n",
      "\n",
      "<class 'netCDF4._netCDF4.Variable'>\n",
      "float64 wgt02(y, x)\n",
      "    units: 1\n",
      "    long_name: Salish Sea Grid Weights for src01\n",
      "    valid_range: [1.32611766e-06 4.99494745e-01]\n",
      "unlimited dimensions: \n",
      "current shape = (898, 398)\n",
      "filling on, default _FillValue of 9.969209968386869e+36 used\n",
      "\n",
      "<class 'netCDF4._netCDF4.Variable'>\n",
      "int64 src03(y, x)\n",
      "    units: 1\n",
      "    long_name: GEM 2.5km Experimental Grid Index 1 (Flattened)\n",
      "    valid_range: [ 9092 57995]\n",
      "unlimited dimensions: \n",
      "current shape = (898, 398)\n",
      "filling on, default _FillValue of -9223372036854775806 used\n",
      "\n",
      "<class 'netCDF4._netCDF4.Variable'>\n",
      "float64 wgt03(y, x)\n",
      "    units: 1\n",
      "    long_name: Salish Sea Grid Weights for src01\n",
      "    valid_range: [1.80989635e-06 4.98870191e-01]\n",
      "unlimited dimensions: \n",
      "current shape = (898, 398)\n",
      "filling on, default _FillValue of 9.969209968386869e+36 used\n",
      "\n",
      "<class 'netCDF4._netCDF4.Variable'>\n",
      "int64 src04(y, x)\n",
      "    units: 1\n",
      "    long_name: GEM 2.5km Experimental Grid Index 1 (Flattened)\n",
      "    valid_range: [ 9092 57995]\n",
      "unlimited dimensions: \n",
      "current shape = (898, 398)\n",
      "filling on, default _FillValue of -9223372036854775806 used\n",
      "\n",
      "<class 'netCDF4._netCDF4.Variable'>\n",
      "float64 wgt04(y, x)\n",
      "    units: 1\n",
      "    long_name: Salish Sea Grid Weights for src01\n",
      "    valid_range: [9.93053927e-08 2.49249741e-01]\n",
      "unlimited dimensions: \n",
      "current shape = (898, 398)\n",
      "filling on, default _FillValue of 9.969209968386869e+36 used\n",
      "\n"
     ]
    }
   ],
   "source": [
    "vars = (\n",
    "    (src01, wgt01), (src02, wgt02), (src03, wgt03), (src04, wgt04),\n",
    ")\n",
    "for i, sw in enumerate(vars):\n",
    "    s, w = sw\n",
    "    sname = 'src{:02d}'.format(i+1)\n",
    "    wname = 'wgt{:02d}'.format(i+1)\n",
    "    s[:] = src.variables[sname][:]\n",
    "    s.units = 1\n",
    "    s.long_name = '{} Grid Index 1 (Flattened)'.format(atmos_grid_name)\n",
    "    s.valid_range = np.array(\n",
    "        (np.min(src.variables[sname]), np.max(src.variables[sname])))\n",
    "    \n",
    "    w[:] = src.variables[wname][:]\n",
    "    w.units = 1\n",
    "    w.long_name = 'Salish Sea Grid Weights for src01'\n",
    "    w.valid_range = np.array(\n",
    "        (np.min(src.variables[wname]), np.max(src.variables[wname])))\n",
    "\n",
    "    nc_tools.show_variable_attrs(weights, sname, wname)"
   ]
  },
  {
   "cell_type": "markdown",
   "metadata": {},
   "source": [
    "Global dataset attributes:"
   ]
  },
  {
   "cell_type": "code",
   "execution_count": 38,
   "metadata": {
    "collapsed": false
   },
   "outputs": [
    {
     "name": "stdout",
     "output_type": "stream",
     "text": [
      "file format: NETCDF4\n",
      "Conventions: CF-1.6\n",
      "title: SalishSeaCast NEMO GEM 2.5km Experimental Atmospheric Forcing Interpolation Weights\n",
      "institution: Dept of Earth, Ocean & Atmospheric Sciences, University of British Columbia\n",
      "source: https://bitbucket.org/salishsea/tools/src/tip/I_ForcingFiles/Atmos/ImproveWeightsFile.ipynb\n",
      "references: https://bitbucket.org/salishsea/grid/src/tip/weights-gem2.5-gemlam_201702.nc\n",
      "history: [2019-05-27 16:45:30] Created netCDF4 zlib=True dataset.\n",
      "comment: \n"
     ]
    }
   ],
   "source": [
    "nc_tools.init_dataset_attrs(\n",
    "    weights,\n",
    "    'SalishSeaCast NEMO {} Atmospheric Forcing Interpolation Weights'.format(atmos_grid_name),\n",
    "    'ImproveWeightsFile',\n",
    "    os.fspath(netcdf4_weight),\n",
    ")"
   ]
  },
  {
   "cell_type": "code",
   "execution_count": 39,
   "metadata": {
    "collapsed": false
   },
   "outputs": [
    {
     "name": "stdout",
     "output_type": "stream",
     "text": [
      "file format: NETCDF4\n",
      "Conventions: CF-1.6\n",
      "title: SalishSeaCast NEMO GEM 2.5km Experimental Atmospheric Forcing Interpolation Weights\n",
      "institution: Dept of Earth, Ocean & Atmospheric Sciences, University of British Columbia\n",
      "source: https://bitbucket.org/salishsea/tools/src/tip/I_ForcingFiles/Atmos/ImproveWeightsFile.ipynb\n",
      "references: https://bitbucket.org/salishsea/grid/src/tip/weights-gem2.5-gemlam_201702.nc\n",
      "history: [2019-05-27 16:42:24] Converted to netCDF4 zlib=True dataset, and added CF-1.6 metadata.\n",
      "[2019-05-222 15:28:45] Created netCDF3 classic dataset with NEMO_EastCoast/NEMO_Preparation/4_weights_ATMOS/get_weight_nemo.\n",
      "comment: \n"
     ]
    }
   ],
   "source": [
    "weights.history = history\n",
    "nc_tools.show_dataset_attrs(weights)"
   ]
  },
  {
   "cell_type": "code",
   "execution_count": 40,
   "metadata": {
    "collapsed": false
   },
   "outputs": [],
   "source": [
    "nc_tools.check_dataset_attrs(weights)"
   ]
  },
  {
   "cell_type": "code",
   "execution_count": 41,
   "metadata": {
    "collapsed": false
   },
   "outputs": [],
   "source": [
    "weights.close()"
   ]
  },
  {
   "cell_type": "code",
   "execution_count": null,
   "metadata": {},
   "outputs": [],
   "source": []
  }
 ],
 "metadata": {
  "kernelspec": {
   "display_name": "Python 3",
   "language": "python",
   "name": "python3"
  },
  "language_info": {
   "codemirror_mode": {
    "name": "ipython",
    "version": 3
   },
   "file_extension": ".py",
   "mimetype": "text/x-python",
   "name": "python",
   "nbconvert_exporter": "python",
   "pygments_lexer": "ipython3",
   "version": "3.7.3"
  }
 },
 "nbformat": 4,
 "nbformat_minor": 2
}
