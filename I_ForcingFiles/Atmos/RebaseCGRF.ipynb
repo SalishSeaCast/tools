{
 "metadata": {
  "name": ""
 },
 "nbformat": 3,
 "nbformat_minor": 0,
 "worksheets": [
  {
   "cells": [
    {
     "cell_type": "markdown",
     "metadata": {},
     "source": [
      "#Rebasing CGRF Atmospheric Forcing Files\n",
      "\n",
      "This notebook documents and verifies the algorithm for\n",
      "rebasing the [CGRF atmospheric forcing dataset][CGRF dataset] files.\n",
      "\n",
      "[CGRF dataset]: http://salishsea-meopar-docs.readthedocs.org/en/latest/code-notes/salishsea-nemo/nemo-forcing/atmospheric.html#cgrf-dataset\n",
      "\n",
      "The raw CGRF files contain hourly values that run from 06:00 UTC on the file's date\n",
      "to 06:00 UTC on the following day.\n",
      "For hourly forcing,\n",
      "NEMO expects files containing values that run from 00:00 UTC to 23:00 UTC on a date.\n",
      "NEMO also has strict file name requirements for forcing values.\n",
      "To construct such a file some values from two consecutive day's CGRF files must be\n",
      "combined into a file with the name pattern required by NEMO.\n",
      "Since new files need to be created the opportunity is taken to reduce storage requirements\n",
      "by creating them as netCDF4 files with variable-level compression enabled.\n",
      "Metadata that conforms to [CF-1.6 and Salish Sea MEOPAR project conventions][netCDF4 conventions] is included\n",
      "in the new files.\n",
      "\n",
      "[netCDF4 conventions]: http://salishsea-meopar-docs.readthedocs.org/en/latest/code-notes/salishsea-nemo/nemo-forcing/netcdf4.html#netcdf4-file-conventions\n",
      "\n",
      "All of that processing is implemented in the [`salishsea get_cgrf`][salishsea get_cgrf] command.\n",
      "This notebook provides explanation of that code,\n",
      "and verification that the created files contain wind and precipitation forcing\n",
      "values that are consistent with observations at Sandheads and YVR.\n",
      "\n",
      "[salishsea get_cgrf]: http://salishsea-meopar-tools.readthedocs.org/en/latest/SalishSeaCmd/salishsea-cmd.html#get-cgrf-sub-command"
     ]
    },
    {
     "cell_type": "markdown",
     "metadata": {},
     "source": [
      "The first steps of combining forcing values from consecutive day's CGRF files \n",
      "are done using commands from the [NCO][nco] collection of utiltities:\n",
      "\n",
      "[nco]: http://nco.sourceforge.net/"
     ]
    },
    {
     "cell_type": "markdown",
     "metadata": {},
     "source": [
      "```bash\n",
      "ncks -4 -L1 -O -d time_counter,18,23 CGRF/rsync-mirror/2002-09-15/2002091500_u10.nc tmp1.nc\n",
      "ncks -4 -L1 -O -d time_counter,0,17 CGRF/rsync-mirror/2002-09-16/2002091600_u10.nc tmp2.nc\n",
      "ncrcat -O tmp1.nc tmp2.nc CGRF/NEMO-atmos/u10_y2002m09d16.nc\n",
      "```"
     ]
    },
    {
     "cell_type": "markdown",
     "metadata": {},
     "source": [
      "Those commands result in the `u10_y2002m09d16.nc` file,\n",
      "the u-component\n",
      "(zonal)\n",
      "wind values for 2002-09-16.\n",
      "That file contains the variables and metadata\n",
      "from `tmp1.nc`\n",
      "(the first 6 hours values for 2002-09-16)\n",
      "and the values from `tmp2.nc`\n",
      "(the last 18 hours values for 2009-09-16):"
     ]
    },
    {
     "cell_type": "markdown",
     "metadata": {},
     "source": [
      "```bash\n",
      "$ ncdump -c u10_y2002m09d16.nc\n",
      "```\n",
      "\n",
      "```netcdf4\n",
      "netcdf u10_y2002m09d16 {\n",
      "dimensions:\n",
      "\ty = 600 ;\n",
      "\tx = 801 ;\n",
      "\ttime_counter = UNLIMITED ; // (24 currently)\n",
      "variables:\n",
      "\tfloat nav_lat(y, x) ;\n",
      "\t\tnav_lat:units = \"degrees_north\" ;\n",
      "\t\tnav_lat:valid_min = -90.f ;\n",
      "\t\tnav_lat:valid_max = 90.f ;\n",
      "\t\tnav_lat:long_name = \"Latitude\" ;\n",
      "\t\tnav_lat:nav_model = \"Default grid\" ;\n",
      "\tfloat nav_lon(y, x) ;\n",
      "\t\tnav_lon:units = \"degrees_east\" ;\n",
      "\t\tnav_lon:valid_min = 0.f ;\n",
      "\t\tnav_lon:valid_max = 360.f ;\n",
      "\t\tnav_lon:long_name = \"Longitude\" ;\n",
      "\t\tnav_lon:nav_model = \"Default grid\" ;\n",
      "\tdouble time_counter(time_counter) ;\n",
      "\t\ttime_counter:calendar = \"gregorian\" ;\n",
      "\t\ttime_counter:units = \"seconds since 0006-01-01 00:00:00\" ;\n",
      "\t\ttime_counter:time_origin = \"0001-JAN-01 00:00:00\" ;\n",
      "\t\ttime_counter:title = \"Time\" ;\n",
      "\t\ttime_counter:long_name = \"Time axis\" ;\n",
      "\tfloat u_wind(time_counter, y, x) ;\n",
      "\t\tu_wind:units = \"m/s\" ;\n",
      "\t\tu_wind:missing_value = 1.e+20f ;\n",
      "\t\tu_wind:valid_min = -100.f ;\n",
      "\t\tu_wind:valid_max = 100.f ;\n",
      "\t\tu_wind:long_name = \"zonal wind\" ;\n",
      "\t\tu_wind:short_name = \"u_wind\" ;\n",
      "\t\tu_wind:online_operation = \"inst(only(x))\" ;\n",
      "\t\tu_wind:axis = \"TYX\" ;\n",
      "\t\tu_wind:scale_factor = 1.f ;\n",
      "\t\tu_wind:add_offset = 0.f ;\n",
      "\t\tu_wind:savelog10 = 0.f ;\n",
      "\n",
      "// global attributes:\n",
      "\t\t:history = \"Sat Jan  4 17:36:41 2014: ncrcat -O tmp1.nc tmp2.nc u10_y2002m09d16.nc\\nSat Jan  4 17:36:15 2014: ncks -4 -L1 -O -d time_counter,18,23 rsync-mirror/2002-09-15/2002091500_u10.nc tmp1.nc\" ;\n",
      "\t\t:NCO = \"4.0.9\" ;\n",
      "\t\t:nco_openmp_thread_number = 1 ;\n",
      "data:\n",
      "\n",
      " time_counter = 19, 20, 21, 22, 23, 24, 1, 2, 3, 4, 5, 6, 7, 8, 9, 10, 11,\n",
      "    12, 13, 14, 15, 16, 17, 18 ;\n",
      "}\n",
      "```"
     ]
    },
    {
     "cell_type": "markdown",
     "metadata": {},
     "source": [
      "The `time_counter` variable values need to be changed to `0-23`\n",
      "and the `time_counter` variable `units` and `time_origin` metadata\n",
      "values need to be corrected.\n",
      "The global attributes need to be augmented to bring them into conformance\n",
      "with [CF-1.6 and Salish Sea MEOPAR project conventions][netCDF4 conventions],\n",
      "and the `history` attribute needs to reflect the file's provenance.\n",
      "Use the `python-netCDF4` library to do those tasks.\n",
      "\n",
      "[netCDF4 conventions]: http://salishsea-meopar-docs.readthedocs.org/en/latest/code-notes/salishsea-nemo/nemo-forcing/netcdf4.html#netcdf4-file-conventions"
     ]
    },
    {
     "cell_type": "code",
     "collapsed": false,
     "input": [
      "import netCDF4 as nc\n",
      "import numpy as np\n",
      "from salishsea_tools import nc_tools"
     ],
     "language": "python",
     "metadata": {},
     "outputs": [],
     "prompt_number": 126
    },
    {
     "cell_type": "code",
     "collapsed": false,
     "input": [
      "u10 = nc.Dataset('u10_y2002m09d16.nc', 'r+')\n",
      "nc_tools.show_dataset_attrs(u10)"
     ],
     "language": "python",
     "metadata": {},
     "outputs": [
      {
       "output_type": "stream",
       "stream": "stdout",
       "text": [
        "file format: NETCDF4\n",
        "history: Sat Jan  4 17:36:41 2014: ncrcat -O tmp1.nc tmp2.nc u10_y2002m09d16.nc\n",
        "Sat Jan  4 17:36:15 2014: ncks -4 -L1 -O -d time_counter,18,23 rsync-mirror/2002-09-15/2002091500_u10.nc tmp1.nc\n",
        "NCO: 4.0.9\n",
        "nco_openmp_thread_number: 1\n"
       ]
      }
     ],
     "prompt_number": 19
    },
    {
     "cell_type": "code",
     "collapsed": false,
     "input": [
      "nc_tools.init_dataset_attrs(\n",
      "    u10, \n",
      "    title='CGRF u-component wind forcing dataset for 2002-09-15',\n",
      "    notebook_name='',\n",
      "    nc_filepath='',\n",
      "    comment='Processed from goapp.ocean.dal.ca::canadian_GDPS_reforecasts_v1 files.',\n",
      "    quiet=True,\n",
      ")\n",
      "u10.source = 'https://bitbucket.org/salishsea/tools/raw/tip/SalishSeaCmd/salishsea_cmd/get_cgrf_processor.py'\n",
      "u10.references = 'CGRF/NEMO-atmos/u10_y2002m09d15.nc'\n",
      "nc_tools.show_dataset_attrs(u10)"
     ],
     "language": "python",
     "metadata": {},
     "outputs": [
      {
       "output_type": "stream",
       "stream": "stdout",
       "text": [
        "file format: NETCDF4\n",
        "history: Sat Jan  4 17:36:41 2014: ncrcat -O tmp1.nc tmp2.nc u10_y2002m09d16.nc\n",
        "Sat Jan  4 17:36:15 2014: ncks -4 -L1 -O -d time_counter,18,23 rsync-mirror/2002-09-15/2002091500_u10.nc tmp1.nc\n",
        "NCO: 4.0.9\n",
        "nco_openmp_thread_number: 1\n",
        "Conventions: CF-1.6\n",
        "title: CGRF u-component wind forcing dataset for 2002-09-15\n",
        "institution: Dept of Earth, Ocean & Atmospheric Sciences, University of British Columbia\n",
        "source: https://bitbucket.org/salishsea/tools/raw/tip/SalishSeaCmd/salishsea_cmd/get_cgrf_processor.py\n",
        "references: CGRF/NEMO-atmos/u10_y2002m09d15.nc\n",
        "comment: Processed from goapp.ocean.dal.ca::canadian_GDPS_reforecasts_v1 files.\n"
       ]
      }
     ],
     "prompt_number": 20
    },
    {
     "cell_type": "code",
     "collapsed": false,
     "input": [
      "u10.variables['time_counter'].units = 'hours since 2002-09-16 00:00:00'\n",
      "u10.variables['time_counter'].time_origin = '2002-SEP-16 00:00:00'\n",
      "u10.variables['time_counter'][:] = np.arange(24)\n",
      "u10.variables['time_counter'].valid_range = np.array((0, 23))"
     ],
     "language": "python",
     "metadata": {},
     "outputs": [],
     "prompt_number": 21
    },
    {
     "cell_type": "code",
     "collapsed": false,
     "input": [
      "u10.variables['time_counter'][:]"
     ],
     "language": "python",
     "metadata": {},
     "outputs": [
      {
       "metadata": {},
       "output_type": "pyout",
       "prompt_number": 22,
       "text": [
        "array([  0.,   1.,   2.,   3.,   4.,   5.,   6.,   7.,   8.,   9.,  10.,\n",
        "        11.,  12.,  13.,  14.,  15.,  16.,  17.,  18.,  19.,  20.,  21.,\n",
        "        22.,  23.])"
       ]
      }
     ],
     "prompt_number": 22
    },
    {
     "cell_type": "code",
     "collapsed": false,
     "input": [
      "nc_tools.show_variable_attrs(u10, 'time_counter')"
     ],
     "language": "python",
     "metadata": {},
     "outputs": [
      {
       "output_type": "stream",
       "stream": "stdout",
       "text": [
        "<type 'netCDF4.Variable'>\n",
        "float64 time_counter(time_counter)\n",
        "    calendar: gregorian\n",
        "    units: hours since 2002-09-16 00:00:00\n",
        "    time_origin: 2002-SEP-16 00:00:00\n",
        "    title: Time\n",
        "    long_name: Time axis\n",
        "    valid_range: [ 0 23]\n",
        "unlimited dimensions: time_counter\n",
        "current shape = (24,)\n",
        "\n"
       ]
      }
     ],
     "prompt_number": 23
    },
    {
     "cell_type": "code",
     "collapsed": false,
     "input": [
      "tmp2 = nc.Dataset('tmp2.nc')\n",
      "nc_tools.show_dataset_attrs(tmp2)"
     ],
     "language": "python",
     "metadata": {},
     "outputs": [
      {
       "output_type": "stream",
       "stream": "stdout",
       "text": [
        "file format: NETCDF4\n",
        "history: Sat Jan  4 17:36:27 2014: ncks -4 -L1 -O -d time_counter,0,17 rsync-mirror/2002-09-16/2002091600_u10.nc tmp2.nc\n",
        "NCO: 4.0.9\n"
       ]
      }
     ],
     "prompt_number": 24
    },
    {
     "cell_type": "code",
     "collapsed": false,
     "input": [
      "ncrcat, tmp1 = u10.history.split('\\n')\n",
      "u10.history = (\n",
      "    '{}\\n'\n",
      "    '{}\\n'\n",
      "    '{}\\n'\n",
      "    'Sat Jan  4 17:44:42 2014: Adjust time_counter values and clean up metadata.'\n",
      "    .format(tmp1, tmp2.history, ncrcat)\n",
      ")"
     ],
     "language": "python",
     "metadata": {},
     "outputs": [],
     "prompt_number": 25
    },
    {
     "cell_type": "code",
     "collapsed": false,
     "input": [
      "u10.history"
     ],
     "language": "python",
     "metadata": {},
     "outputs": [
      {
       "metadata": {},
       "output_type": "pyout",
       "prompt_number": 26,
       "text": [
        "u'Sat Jan  4 17:36:15 2014: ncks -4 -L1 -O -d time_counter,18,23 rsync-mirror/2002-09-15/2002091500_u10.nc tmp1.nc\\nSat Jan  4 17:36:27 2014: ncks -4 -L1 -O -d time_counter,0,17 rsync-mirror/2002-09-16/2002091600_u10.nc tmp2.nc\\nSat Jan  4 17:36:41 2014: ncrcat -O tmp1.nc tmp2.nc u10_y2002m09d16.nc\\nSat Jan  4 17:44:42 2014: Adjust time_counter values and clean up metadata.'"
       ]
      }
     ],
     "prompt_number": 26
    },
    {
     "cell_type": "code",
     "collapsed": false,
     "input": [
      "nc_tools.check_dataset_attrs(u10)"
     ],
     "language": "python",
     "metadata": {},
     "outputs": [],
     "prompt_number": 27
    },
    {
     "cell_type": "code",
     "collapsed": false,
     "input": [
      "u10.close()"
     ],
     "language": "python",
     "metadata": {},
     "outputs": [],
     "prompt_number": 28
    },
    {
     "cell_type": "code",
     "collapsed": false,
     "input": [
      "u10 = nc.Dataset('u10_y2002m09d16.nc')"
     ],
     "language": "python",
     "metadata": {},
     "outputs": [],
     "prompt_number": 85
    },
    {
     "cell_type": "markdown",
     "metadata": {},
     "source": [
      "Implementing the above steps as a function:"
     ]
    },
    {
     "cell_type": "code",
     "collapsed": false,
     "input": [
      "import datetime"
     ],
     "language": "python",
     "metadata": {},
     "outputs": [],
     "prompt_number": 29
    },
    {
     "cell_type": "code",
     "collapsed": false,
     "input": [
      "def improve_cgrf_file(var, description, date, tmp2_history):\n",
      "    cgrf_file = '{}_{:y%Ym%md%d}.nc'.format(var, date)\n",
      "    dataset = nc.Dataset(cgrf_file, 'r+')\n",
      "    nc_tools.init_dataset_attrs(\n",
      "        dataset, \n",
      "        title='CGRF {} forcing dataset for {:%Y-%m-%d}'.format(description, date),\n",
      "        notebook_name='',\n",
      "        nc_filepath='',\n",
      "        comment='Processed from goapp.ocean.dal.ca::canadian_GDPS_reforecasts_v1 files.',\n",
      "        quiet=True,\n",
      "    )\n",
      "    dataset.source = 'https://bitbucket.org/salishsea/tools/raw/tip/SalishSeaCmd/salishsea_cmd/get_cgrf_processor.py'\n",
      "    dataset.references = 'CGRF/NEMO-atmos/{}'.format(cgrf_file)\n",
      "    dataset.variables['time_counter'].units = 'hours since {:%Y-%m-%d} 00:00:00'.format(date)\n",
      "    dataset.variables['time_counter'].time_origin = '{:%Y-%b-%d} 00:00:00'.format(date)\n",
      "    dataset.variables['time_counter'][:] = np.arange(24)\n",
      "    dataset.variables['time_counter'].valid_range = np.array((0, 23))\n",
      "    history = dataset.history.split('\\n')\n",
      "    history.reverse()\n",
      "    dataset.history = (\n",
      "         '{}\\n'\n",
      "         '{:%c}: Adjust time_counter values and clean up metadata.'\n",
      "         .format('\\n'.join(history), datetime.datetime.now())\n",
      "    )\n",
      "    nc_tools.check_dataset_attrs(dataset)\n",
      "    dataset.close()"
     ],
     "language": "python",
     "metadata": {},
     "outputs": [],
     "prompt_number": 66
    },
    {
     "cell_type": "markdown",
     "metadata": {},
     "source": [
      "Process the v-component wind forcing:"
     ]
    },
    {
     "cell_type": "code",
     "collapsed": false,
     "input": [
      "tmp2 = nc.Dataset('v10_tmp2.nc')\n",
      "improve_cgrf_file('v10', 'v-component wind', datetime.date(2002, 9, 16), tmp2.history)"
     ],
     "language": "python",
     "metadata": {},
     "outputs": [],
     "prompt_number": 32
    },
    {
     "cell_type": "code",
     "collapsed": false,
     "input": [
      "v10 = nc.Dataset('v10_y2002m09d16.nc')\n",
      "nc_tools.show_dataset_attrs(v10)\n",
      "nc_tools.show_variable_attrs(v10)"
     ],
     "language": "python",
     "metadata": {},
     "outputs": [
      {
       "output_type": "stream",
       "stream": "stdout",
       "text": [
        "file format: NETCDF4\n",
        "NCO: 4.0.9\n",
        "nco_openmp_thread_number: 1\n",
        "Conventions: CF-1.6\n",
        "title: CGRF v-component wind forcing dataset for 2002-09-16\n",
        "institution: Dept of Earth, Ocean & Atmospheric Sciences, University of British Columbia\n",
        "source: https://bitbucket.org/salishsea/tools/raw/tip/SalishSeaCmd/salishsea_cmd/get_cgrf_processor.py\n",
        "references: CGRF/NEMO-atmos/v10_y2002m09d16.nc\n",
        "comment: Processed from goapp.ocean.dal.ca::canadian_GDPS_reforecasts_v1 files.\n",
        "history: Sat Jan  4 17:28:37 2014: ncks -4 -L1 -O -d time_counter,18,23 rsync-mirror/2002-09-15/2002091500_v10.nc tmp1.nc\n",
        "Sat Jan  4 17:29:39 2014: ncks -4 -L1 -O -d time_counter,0,17 rsync-mirror/2002-09-16/2002091600_v10.nc tmp2.nc\n",
        "Sat Jan  4 17:30:17 2014: ncrcat -O tmp1.nc tmp2.nc v10_y2002m09d16.nc\n",
        "Sat Jan  4 17:45:51 2014: Adjust time_counter values and clean up metadata.\n",
        "<type 'netCDF4.Variable'>\n",
        "float32 nav_lat(y, x)\n",
        "    units: degrees_north\n",
        "    valid_min: -90.0\n",
        "    valid_max: 90.0\n",
        "    long_name: Latitude\n",
        "    nav_model: Default grid\n",
        "unlimited dimensions: \n",
        "current shape = (600, 801)\n",
        "\n",
        "<type 'netCDF4.Variable'>\n",
        "float32 nav_lon(y, x)\n",
        "    units: degrees_east\n",
        "    valid_min: 0.0\n",
        "    valid_max: 360.0\n",
        "    long_name: Longitude\n",
        "    nav_model: Default grid\n",
        "unlimited dimensions: \n",
        "current shape = (600, 801)\n",
        "\n",
        "<type 'netCDF4.Variable'>\n",
        "float64 time_counter(time_counter)\n",
        "    calendar: gregorian\n",
        "    title: Time\n",
        "    long_name: Time axis\n",
        "    units: hours since 2002-09-16 00:00:00\n",
        "    time_origin: 2002-Sep-16 00:00:00\n",
        "    valid_range: [ 0 23]\n",
        "unlimited dimensions: time_counter\n",
        "current shape = (24,)\n",
        "\n",
        "<type 'netCDF4.Variable'>\n",
        "float32 v_wind(time_counter, y, x)\n",
        "    units: m/s\n",
        "    missing_value: 1e+20\n",
        "    valid_min: -100.0\n",
        "    valid_max: 100.0\n",
        "    long_name: meridional wind\n",
        "    short_name: v_wind\n",
        "    online_operation: inst(only(x))\n",
        "    axis: TYX\n",
        "    scale_factor: 1.0\n",
        "    add_offset: 0.0\n",
        "    savelog10: 0.0\n",
        "unlimited dimensions: time_counter\n",
        "current shape = (24, 600, 801)\n",
        "\n"
       ]
      }
     ],
     "prompt_number": 33
    },
    {
     "cell_type": "markdown",
     "metadata": {},
     "source": [
      "Process the precipitation forcing:"
     ]
    },
    {
     "cell_type": "code",
     "collapsed": false,
     "input": [
      "tmp2 = nc.Dataset('tmp2.nc')\n",
      "improve_cgrf_file('precip', 'precipitation', datetime.date(2002, 9, 16), tmp2.history)"
     ],
     "language": "python",
     "metadata": {},
     "outputs": [],
     "prompt_number": 70
    },
    {
     "cell_type": "code",
     "collapsed": false,
     "input": [
      "precip = nc.Dataset('precip_y2002m09d16.nc')\n",
      "nc_tools.show_dataset_attrs(precip)\n",
      "nc_tools.show_variable_attrs(precip)"
     ],
     "language": "python",
     "metadata": {},
     "outputs": [
      {
       "output_type": "stream",
       "stream": "stdout",
       "text": [
        "file format: NETCDF4\n",
        "NCO: 4.0.9\n",
        "nco_openmp_thread_number: 1\n",
        "Conventions: CF-1.6\n",
        "title: CGRF precipitation forcing dataset for 2002-09-16\n",
        "institution: Dept of Earth, Ocean & Atmospheric Sciences, University of British Columbia\n",
        "source: https://bitbucket.org/salishsea/tools/raw/tip/SalishSeaCmd/salishsea_cmd/get_cgrf_processor.py\n",
        "references: CGRF/NEMO-atmos/precip_y2002m09d16.nc\n",
        "comment: Processed from goapp.ocean.dal.ca::canadian_GDPS_reforecasts_v1 files.\n",
        "history: Mon Jun  6 14:45:58 2011: ncbo -v precip -y add 2002091500_precip.nc 2002091500_precip.nc precip2.nc\n",
        "Mon Jun  6 14:45:59 2011: ncbo -v precip -y add precip2.nc 2002091500_precip.nc precip3.nc\n",
        "Mon Jun  6 14:46:00 2011: ncks -A -v nav_lat,nav_lon 2002091500_precip.nc precip3.nc\n",
        "Sat Jan  4 17:48:03 2014: ncks -4 -L1 -O -d time_counter,18,23 rsync-mirror/2002-09-15/2002091500_precip.nc tmp1.nc\n",
        "Sat Jan  4 17:49:11 2014: ncrcat -O tmp1.nc tmp2.nc precip_y2002m09d16.nc\n",
        "Sat Jan  4 18:23:14 2014: Adjust time_counter values and clean up metadata.\n",
        "<type 'netCDF4.Variable'>\n",
        "float32 nav_lat(y, x)\n",
        "    units: degrees_north\n",
        "    valid_min: -90.0\n",
        "    valid_max: 90.0\n",
        "    long_name: Latitude\n",
        "    nav_model: Default grid\n",
        "unlimited dimensions: \n",
        "current shape = (600, 801)\n",
        "\n",
        "<type 'netCDF4.Variable'>\n",
        "float32 nav_lon(y, x)\n",
        "    units: degrees_east\n",
        "    valid_min: 0.0\n",
        "    valid_max: 360.0\n",
        "    long_name: Longitude\n",
        "    nav_model: Default grid\n",
        "unlimited dimensions: \n",
        "current shape = (600, 801)\n",
        "\n",
        "<type 'netCDF4.Variable'>\n",
        "float32 precip(time_counter, y, x)\n",
        "    units: m/s\n",
        "    missing_value: 1e+20\n",
        "    valid_min: 0.0\n",
        "    valid_max: 1.0\n",
        "    long_name: precipitation\n",
        "    short_name: precip\n",
        "    online_operation: inst(only(x))\n",
        "    axis: TYX\n",
        "    savelog10: 0.0\n",
        "unlimited dimensions: time_counter\n",
        "current shape = (24, 600, 801)\n",
        "\n",
        "<type 'netCDF4.Variable'>\n",
        "float64 time_counter(time_counter)\n",
        "    calendar: gregorian\n",
        "    title: Time\n",
        "    long_name: Time axis\n",
        "    units: hours since 2002-09-16 00:00:00\n",
        "    time_origin: 2002-Sep-16 00:00:00\n",
        "    valid_range: [ 0 23]\n",
        "unlimited dimensions: time_counter\n",
        "current shape = (24,)\n",
        "\n"
       ]
      }
     ],
     "prompt_number": 71
    },
    {
     "cell_type": "markdown",
     "metadata": {},
     "source": [
      "##Verification\n",
      "\n",
      "Compare the rebased CGRF wind speeds and directions,\n",
      "and precipitation values to Environment Canada measurements\n",
      "from Sandheads and YVR."
     ]
    },
    {
     "cell_type": "code",
     "collapsed": false,
     "input": [
      "from __future__ import division\n",
      "import cStringIO\n",
      "import matplotlib.pyplot as plt\n",
      "import requests\n",
      "from xml.etree import cElementTree as ElementTree\n",
      "\n",
      "%matplotlib inline"
     ],
     "language": "python",
     "metadata": {},
     "outputs": [],
     "prompt_number": 139
    },
    {
     "cell_type": "markdown",
     "metadata": {},
     "source": [
      "The CGRF grid point closest to Sandheads and YVR is:"
     ]
    },
    {
     "cell_type": "code",
     "collapsed": false,
     "input": [
      "cgrf_pt = (463, 526)\n",
      "(u10.variables['nav_lat'][cgrf_pt], u10.variables['nav_lon'][(463, 526)] - 360)"
     ],
     "language": "python",
     "metadata": {},
     "outputs": [
      {
       "metadata": {},
       "output_type": "pyout",
       "prompt_number": 75,
       "text": [
        "(49.049999, -123.30000305175781)"
       ]
      }
     ],
     "prompt_number": 75
    },
    {
     "cell_type": "markdown",
     "metadata": {},
     "source": [
      "YVR is located at 49$^\\circ$ 11' 42\" N, 123$^\\circ$ 10' 55\" W:"
     ]
    },
    {
     "cell_type": "code",
     "collapsed": false,
     "input": [
      "(49 + 11 / 60 + 42 / 3600, -(123 + 10 / 60 + 55 / 3600))"
     ],
     "language": "python",
     "metadata": {},
     "outputs": [
      {
       "metadata": {},
       "output_type": "pyout",
       "prompt_number": 79,
       "text": [
        "(49.19499999999999, -123.18194444444445)"
       ]
      }
     ],
     "prompt_number": 79
    },
    {
     "cell_type": "markdown",
     "metadata": {},
     "source": [
      "Sandheads is located at 49$^\\circ$ 6' 21.225\" N, 123$^\\circ$ 18' 12.123\" W:"
     ]
    },
    {
     "cell_type": "code",
     "collapsed": false,
     "input": [
      "(49 + 6 / 60 + 21.225 / 3600, -(123 + 18 / 60 + 12.123 / 3600))"
     ],
     "language": "python",
     "metadata": {},
     "outputs": [
      {
       "metadata": {},
       "output_type": "pyout",
       "prompt_number": 80,
       "text": [
        "(49.105895833333335, -123.3033675)"
       ]
      }
     ],
     "prompt_number": 80
    },
    {
     "cell_type": "markdown",
     "metadata": {},
     "source": [
      "CGRF wind components, speed & direction, and precipitation rate:"
     ]
    },
    {
     "cell_type": "code",
     "collapsed": false,
     "input": [
      "u_wind = {'CGRF': u10.variables['u_wind'][:, 463, 526]}\n",
      "v_wind = {'CGRF': v10.variables['v_wind'][:, 463, 526]}\n",
      "rain = {'CGRF': precip.variables['precip'][:, 463, 526] * 3600 * 1000}\n",
      "wind_spd = {'CGRF': np.sqrt(u_wind['CGRF']**2 + v_wind['CGRF']**2) * 3600 / 1000}\n",
      "wind_dir= {'CGRF': np.rad2deg(np.arctan2(v_wind['CGRF'], u_wind['CGRF']))}"
     ],
     "language": "python",
     "metadata": {},
     "outputs": [],
     "prompt_number": 207
    },
    {
     "cell_type": "markdown",
     "metadata": {},
     "source": [
      "Sandheads and YVR wind speed & direction,\n",
      "and YVR rain indication.\n",
      "The EC hourly observations do not include rainfall rate so\n",
      "rainfall at YVR is quantitative;\n",
      "i.e.\n",
      "a rainfall rate of 0.1 mm/hr indicates that the word `rain`\n",
      "appears in the weather description."
     ]
    },
    {
     "cell_type": "code",
     "collapsed": false,
     "input": [
      "def get_EC_observations(station, wind_spd, wind_dir, rain):\n",
      "    station_ids = {\n",
      "        'Sandheads': 6831,\n",
      "        'YVR': 889,\n",
      "    }\n",
      "    wind_spd[station], wind_dir[station] = [], []\n",
      "    if station == 'YVR':\n",
      "        rain[station] = []\n",
      "    url = 'http://climate.weather.gc.ca/climateData/bulkdata_e.html'\n",
      "    query = {\n",
      "        'timeframe': 1,\n",
      "        'stationID': station_ids[station],\n",
      "        'format': 'xml',\n",
      "        'Year': 2002,\n",
      "        'Month': 9,\n",
      "        'Day': 1,\n",
      "    }\n",
      "    response = requests.get(url, params=query)\n",
      "    tree = ElementTree.parse(cStringIO.StringIO(response.content))\n",
      "    root = tree.getroot()\n",
      "    raw_data = root.findall('stationdata')\n",
      "    for record in raw_data:\n",
      "        selectors = (\n",
      "            (int(record.get('day')) == 15 and int(record.get('hour')) >= 16)\n",
      "            or\n",
      "            (int(record.get('day')) == 16 and int(record.get('hour')) < 16)\n",
      "        )\n",
      "        if selectors:\n",
      "            wind_spd[station].append(float(record.find('windspd').text))\n",
      "            wind_dir[station].append(float(record.find('winddir').text) * 10)\n",
      "            if station == 'YVR':\n",
      "                if 'rain' in record.find('weather').text.lower():\n",
      "                    rain[station].append(0.1)\n",
      "                else:\n",
      "                    rain[station].append(0)"
     ],
     "language": "python",
     "metadata": {},
     "outputs": [],
     "prompt_number": 208
    },
    {
     "cell_type": "code",
     "collapsed": false,
     "input": [
      "get_EC_observations('Sandheads', wind_spd, wind_dir, rain)\n",
      "get_EC_observations('YVR', wind_spd, wind_dir, rain)"
     ],
     "language": "python",
     "metadata": {},
     "outputs": [],
     "prompt_number": 210
    },
    {
     "cell_type": "code",
     "collapsed": false,
     "input": [
      "fig, (ax_ws, ax_wd, ax_rain) = plt.subplots(1, 3, figsize=(18, 8))\n",
      "for locn in 'CGRF YVR Sandheads'.split():\n",
      "    ax_ws.plot(wind_spd[locn], marker='+', label=locn)\n",
      "    ax_wd.plot(wind_dir[locn], marker='+', label=locn)\n",
      "ax_ws.set_ylabel('Wind Speed [km/hr]')\n",
      "ax_wd.set_ylabel('Wind Direction [wind from deg CW from north]')\n",
      "\n",
      "for locn in 'CGRF YVR'.split():\n",
      "    ax_rain.plot(rain[locn], marker='+', label=locn)\n",
      "ax_rain.set_ylabel('Rainfall [mm/hr]')\n",
      "\n",
      "for ax in (ax_ws, ax_wd, ax_rain):\n",
      "    ax.set_xlim(0, 23)\n",
      "    ax.set_xlabel('Hr After Midnight UTC')\n",
      "    ax.legend(loc='best')"
     ],
     "language": "python",
     "metadata": {},
     "outputs": [
      {
       "metadata": {},
       "output_type": "display_data",
       "png": "[encoded data removed]",
       "text": [
        "<matplotlib.figure.Figure at 0x10af9e090>"
       ]
      }
     ],
     "prompt_number": 211
    },
    {
     "cell_type": "code",
     "collapsed": false,
     "input": [],
     "language": "python",
     "metadata": {},
     "outputs": []
    }
   ],
   "metadata": {}
  }
 ]
}