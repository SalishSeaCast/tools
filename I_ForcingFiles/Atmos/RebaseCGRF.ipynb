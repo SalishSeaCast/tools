{
 "metadata": {
  "name": ""
 },
 "nbformat": 3,
 "nbformat_minor": 0,
 "worksheets": [
  {
   "cells": [
    {
     "cell_type": "markdown",
     "metadata": {},
     "source": [
      "#Rebasing CGRF Atmospheric Forcing Files\n",
      "\n",
      "This notebook documents and verifies the algorithm for\n",
      "rebasing the [CGRF atmospheric forcing dataset][CGRF dataset] files.\n",
      "\n",
      "[CGRF dataset]: http://salishsea-meopar-docs.readthedocs.org/en/latest/code-notes/salishsea-nemo/nemo-forcing/atmospheric.html#cgrf-dataset\n",
      "\n",
      "The raw CGRF files contain hourly values that run from 06:00 UTC on the file's date\n",
      "to 06:00 UTC on the following day.\n",
      "For hourly forcing,\n",
      "NEMO expects files containing values that run from 00:00 UTC to 23:00 UTC on a date.\n",
      "NEMO also has strict file name requirements for forcing values.\n",
      "To construct such a file some values from two consecutive day's CGRF files must be\n",
      "combined into a file with the name pattern required by NEMO.\n",
      "Since new files need to be created the opportunity is taken to reduce storage requirements\n",
      "by creating them as netCDF4 files with variable-level compression enabled.\n",
      "Metadata that conforms to [CF-1.6 and Salish Sea MEOPAR project conventions][netCDF4 conventions] is included\n",
      "in the new files.\n",
      "\n",
      "[netCDF4 conventions]: http://salishsea-meopar-docs.readthedocs.org/en/latest/code-notes/salishsea-nemo/nemo-forcing/netcdf4.html#netcdf4-file-conventions\n",
      "\n",
      "All of that processing is implemented in the [`salishsea get_cgrf`][salishsea get_cgrf] command.\n",
      "This notebook provides explanation of that code,\n",
      "and verification that the created files contain wind and precipitation forcing\n",
      "values that are consistent with observations at Sandheads and YVR.\n",
      "\n",
      "[salishsea get_cgrf]: http://salishsea-meopar-tools.readthedocs.org/en/latest/SalishSeaCmd/salishsea-cmd.html#get-cgrf-sub-command"
     ]
    },
    {
     "cell_type": "markdown",
     "metadata": {},
     "source": [
      "The first steps of combining forcing values from consecutive day's CGRF files \n",
      "are done using commands from the [NCO][nco] collection of utiltities:\n",
      "\n",
      "[nco]: http://nco.sourceforge.net/"
     ]
    },
    {
     "cell_type": "markdown",
     "metadata": {},
     "source": [
      "```bash\n",
      "ncks -4 -L1 -A -d time_counter,18,23 CGRF/rsync-mirror/2002-09-14/2002091400_u10.nc tmp1.nc\n",
      "ncks -4 -L1 -A -d time_counter,0,17 CGRF/rsync-mirror/2002-09-15/2002091500_u10.nc tmp2.nc\n",
      "ncrcat -A tmp1.nc tmp2.nc CGRF/NEMO-atmos/u10_y2002m09d15.nc\n",
      "```"
     ]
    },
    {
     "cell_type": "markdown",
     "metadata": {},
     "source": [
      "Those commands result in the `u10_y2002m09d15.nc` that contains the variables and metadata\n",
      "from `tmp1.nc`\n",
      "(the first 6 hours values for 2002-09-15)\n",
      "and the values from `tmp2.nc`\n",
      "(the last 18 hours values for 2009-09-15):"
     ]
    },
    {
     "cell_type": "markdown",
     "metadata": {},
     "source": [
      "```bash\n",
      "$ ncdump -c u10_y2002m09d15.nc\n",
      "```\n",
      "\n",
      "```netcdf4\n",
      "netcdf u10_y2002m09d15 {\n",
      "dimensions:\n",
      "\ty = 600 ;\n",
      "\tx = 801 ;\n",
      "\ttime_counter = UNLIMITED ; // (24 currently)\n",
      "variables:\n",
      "\tfloat nav_lat(y, x) ;\n",
      "\t\tnav_lat:units = \"degrees_north\" ;\n",
      "\t\tnav_lat:valid_min = -90.f ;\n",
      "\t\tnav_lat:valid_max = 90.f ;\n",
      "\t\tnav_lat:long_name = \"Latitude\" ;\n",
      "\t\tnav_lat:nav_model = \"Default grid\" ;\n",
      "\tfloat nav_lon(y, x) ;\n",
      "\t\tnav_lon:units = \"degrees_east\" ;\n",
      "\t\tnav_lon:valid_min = 0.f ;\n",
      "\t\tnav_lon:valid_max = 360.f ;\n",
      "\t\tnav_lon:long_name = \"Longitude\" ;\n",
      "\t\tnav_lon:nav_model = \"Default grid\" ;\n",
      "\tdouble time_counter(time_counter) ;\n",
      "\t\ttime_counter:calendar = \"gregorian\" ;\n",
      "\t\ttime_counter:units = \"seconds since 0006-01-01 00:00:00\" ;\n",
      "\t\ttime_counter:time_origin = \"0001-JAN-01 00:00:00\" ;\n",
      "\t\ttime_counter:title = \"Time\" ;\n",
      "\t\ttime_counter:long_name = \"Time axis\" ;\n",
      "\tfloat u_wind(time_counter, y, x) ;\n",
      "\t\tu_wind:units = \"m/s\" ;\n",
      "\t\tu_wind:missing_value = 1.e+20f ;\n",
      "\t\tu_wind:valid_min = -100.f ;\n",
      "\t\tu_wind:valid_max = 100.f ;\n",
      "\t\tu_wind:long_name = \"zonal wind\" ;\n",
      "\t\tu_wind:short_name = \"u_wind\" ;\n",
      "\t\tu_wind:online_operation = \"inst(only(x))\" ;\n",
      "\t\tu_wind:axis = \"TYX\" ;\n",
      "\t\tu_wind:scale_factor = 1.f ;\n",
      "\t\tu_wind:add_offset = 0.f ;\n",
      "\t\tu_wind:savelog10 = 0.f ;\n",
      "\n",
      "// global attributes:\n",
      "\t\t:history = \"Sat Jan  4 11:42:06 2014: ncrcat -O tmp1.nc tmp2.nc u10_y2002m09d15.nc\\nSat Jan  4 09:45:35 2014: ncks -4 -L1 -A -d time_counter,18,23 rsync-mirror/2002-09-14/2002091400_u10.nc tmp1.nc\" ;\n",
      "\t\t:NCO = \"4.0.9\" ;\n",
      "\t\t:nco_openmp_thread_number = 1 ;\n",
      "data:\n",
      "\n",
      " time_counter = 19, 20, 21, 22, 23, 24, 1, 2, 3, 4, 5, 6, 7, 8, 9, 10, 11,\n",
      "    12, 13, 14, 15, 16, 17, 18 ;\n",
      "}\n",
      "```"
     ]
    },
    {
     "cell_type": "markdown",
     "metadata": {},
     "source": [
      "The `time_counter` variable values need to be changed to `0-23`\n",
      "and the `time_counter` variable `units` and `time_origin` metadata\n",
      "values need to be corrected.\n",
      "The global attributes need to be augmented to bring them into conformance\n",
      "with [CF-1.6 and Salish Sea MEOPAR project conventions][netCDF4 conventions],\n",
      "and the `history` attribute needs to reflect the file's provenance.\n",
      "Use the `python-netCDF4` library to do those tasks.\n",
      "\n",
      "[netCDF4 conventions]: http://salishsea-meopar-docs.readthedocs.org/en/latest/code-notes/salishsea-nemo/nemo-forcing/netcdf4.html#netcdf4-file-conventions"
     ]
    },
    {
     "cell_type": "code",
     "collapsed": false,
     "input": [
      "import netCDF4 as nc\n",
      "import numpy as np\n",
      "from salishsea_tools import nc_tools"
     ],
     "language": "python",
     "metadata": {},
     "outputs": [],
     "prompt_number": 39
    },
    {
     "cell_type": "code",
     "collapsed": false,
     "input": [
      "u10 = nc.Dataset('u10_y2002m09d15.nc', 'r+')\n",
      "nc_tools.show_dataset_attrs(u10)"
     ],
     "language": "python",
     "metadata": {},
     "outputs": [
      {
       "output_type": "stream",
       "stream": "stdout",
       "text": [
        "file format: NETCDF4\n",
        "history: Sat Jan  4 11:42:06 2014: ncrcat -O tmp1.nc tmp2.nc u10_y2002m09d15.nc\n",
        "Sat Jan  4 09:45:35 2014: ncks -4 -L1 -A -d time_counter,18,23 rsync-mirror/2002-09-14/2002091400_u10.nc tmp1.nc\n",
        "NCO: 4.0.9\n",
        "nco_openmp_thread_number: 1\n"
       ]
      }
     ],
     "prompt_number": 50
    },
    {
     "cell_type": "code",
     "collapsed": false,
     "input": [
      "nc_tools.init_dataset_attrs(\n",
      "    u10, \n",
      "    title='CGRF u-component wind forcing dataset for 2002-09-15',\n",
      "    notebook_name='',\n",
      "    nc_filepath='',\n",
      "    comment='Processed from goapp.ocean.dal.ca::canadian_GDPS_reforecasts_v1 files.',\n",
      "    quiet=True,\n",
      ")\n",
      "u10.source = 'https://bitbucket.org/salishsea/tools/raw/tip/SalishSeaCmd/salishsea_cmd/get_cgrf_processor.py'\n",
      "u10.references = 'CGRF/NEMO-atmos/u10_y2002m09d15.nc'\n",
      "nc_tools.show_dataset_attrs(u10)"
     ],
     "language": "python",
     "metadata": {},
     "outputs": [
      {
       "output_type": "stream",
       "stream": "stdout",
       "text": [
        "file format: NETCDF4\n",
        "history: [2014-01-04 11:47:09] Created netCDF4 zlib=True dataset.\n",
        "NCO: 4.0.9\n",
        "nco_openmp_thread_number: 1\n",
        "Conventions: CF-1.6\n",
        "title: CGRF u-component wind forcing dataset for 2002-09-15\n",
        "institution: Dept of Earth, Ocean & Atmospheric Sciences, University of British Columbia\n",
        "source: https://bitbucket.org/salishsea/tools/raw/tip/SalishSeaCmd/salishsea_cmd/get_cgrf_processor.py\n",
        "references: CGRF/NEMO-atmos/u10_y2002m09d15.nc\n",
        "comment: Processed from goapp.ocean.dal.ca::canadian_GDPS_reforecasts_v1 files.\n"
       ]
      }
     ],
     "prompt_number": 51
    },
    {
     "cell_type": "code",
     "collapsed": false,
     "input": [
      "u10.variables['time_counter'].units = 'hours since 2002-09-15 00:00:00'\n",
      "u10.variables['time_counter'].time_origin = '2002-SEP-15 00:00:00'\n",
      "u10.variables['time_counter'][:] = np.arange(24)\n",
      "u10.variables['time_counter'].valid_range = np.array((0, 23))"
     ],
     "language": "python",
     "metadata": {},
     "outputs": [],
     "prompt_number": 52
    },
    {
     "cell_type": "code",
     "collapsed": false,
     "input": [
      "u10.variables['time_counter'][:]"
     ],
     "language": "python",
     "metadata": {},
     "outputs": [
      {
       "metadata": {},
       "output_type": "pyout",
       "prompt_number": 53,
       "text": [
        "array([  0.,   1.,   2.,   3.,   4.,   5.,   6.,   7.,   8.,   9.,  10.,\n",
        "        11.,  12.,  13.,  14.,  15.,  16.,  17.,  18.,  19.,  20.,  21.,\n",
        "        22.,  23.])"
       ]
      }
     ],
     "prompt_number": 53
    },
    {
     "cell_type": "code",
     "collapsed": false,
     "input": [
      "nc_tools.show_variable_attrs(u10, 'time_counter')"
     ],
     "language": "python",
     "metadata": {},
     "outputs": [
      {
       "output_type": "stream",
       "stream": "stdout",
       "text": [
        "<type 'netCDF4.Variable'>\n",
        "float64 time_counter(time_counter)\n",
        "    calendar: gregorian\n",
        "    units: hours since 2002-09-15 00:00:00\n",
        "    time_origin: 2002-SEP-15 00:00:00\n",
        "    title: Time\n",
        "    long_name: Time axis\n",
        "    valid_range: [ 0 23]\n",
        "unlimited dimensions: time_counter\n",
        "current shape = (24,)\n",
        "\n"
       ]
      }
     ],
     "prompt_number": 54
    },
    {
     "cell_type": "code",
     "collapsed": false,
     "input": [
      "tmp2 = nc.Dataset('tmp2.nc')\n",
      "nc_tools.show_dataset_attrs(tmp2)"
     ],
     "language": "python",
     "metadata": {},
     "outputs": [
      {
       "output_type": "stream",
       "stream": "stdout",
       "text": [
        "file format: NETCDF4\n",
        "history: Sat Jan  4 09:46:10 2014: ncks -4 -L1 -A -d time_counter,0,17 rsync-mirror/2002-09-15/2002091500_u10.nc tmp2.nc\n",
        "NCO: 4.0.9\n"
       ]
      }
     ],
     "prompt_number": 55
    },
    {
     "cell_type": "code",
     "collapsed": false,
     "input": [
      "ncrcat, tmp1 = u10.history.split('\\n')\n",
      "u10.history = (\n",
      "    '{}\\n'\n",
      "    '{}\\n'\n",
      "    '{}\\n'\n",
      "    'Sat Jan  4 11:16:42 2014: Adjust time_counter values and clean up metadata.'\n",
      "    .format(tmp1, tmp2.history, ncrcat)\n",
      ")"
     ],
     "language": "python",
     "metadata": {},
     "outputs": [
      {
       "ename": "ValueError",
       "evalue": "need more than 1 value to unpack",
       "output_type": "pyerr",
       "traceback": [
        "\u001b[0;31m---------------------------------------------------------------------------\u001b[0m\n\u001b[0;31mValueError\u001b[0m                                Traceback (most recent call last)",
        "\u001b[0;32m<ipython-input-56-a7d331b0e382>\u001b[0m in \u001b[0;36m<module>\u001b[0;34m()\u001b[0m\n\u001b[0;32m----> 1\u001b[0;31m \u001b[0mncrcat\u001b[0m\u001b[0;34m,\u001b[0m \u001b[0mtmp1\u001b[0m \u001b[0;34m=\u001b[0m \u001b[0mu10\u001b[0m\u001b[0;34m.\u001b[0m\u001b[0mhistory\u001b[0m\u001b[0;34m.\u001b[0m\u001b[0msplit\u001b[0m\u001b[0;34m(\u001b[0m\u001b[0;34m'\\n'\u001b[0m\u001b[0;34m)\u001b[0m\u001b[0;34m\u001b[0m\u001b[0m\n\u001b[0m\u001b[1;32m      2\u001b[0m u10.history = (\n\u001b[1;32m      3\u001b[0m     \u001b[0;34m'{}\\n'\u001b[0m\u001b[0;34m\u001b[0m\u001b[0m\n\u001b[1;32m      4\u001b[0m     \u001b[0;34m'{}\\n'\u001b[0m\u001b[0;34m\u001b[0m\u001b[0m\n\u001b[1;32m      5\u001b[0m     \u001b[0;34m'{}\\n'\u001b[0m\u001b[0;34m\u001b[0m\u001b[0m\n",
        "\u001b[0;31mValueError\u001b[0m: need more than 1 value to unpack"
       ]
      }
     ],
     "prompt_number": 56
    },
    {
     "cell_type": "code",
     "collapsed": false,
     "input": [
      "u10.history"
     ],
     "language": "python",
     "metadata": {},
     "outputs": [
      {
       "metadata": {},
       "output_type": "pyout",
       "prompt_number": 57,
       "text": [
        "u'[2014-01-04 11:47:09] Created netCDF4 zlib=True dataset.'"
       ]
      }
     ],
     "prompt_number": 57
    },
    {
     "cell_type": "code",
     "collapsed": false,
     "input": [
      "nc_tools.check_dataset_attrs(u10)"
     ],
     "language": "python",
     "metadata": {},
     "outputs": [
      {
       "metadata": {},
       "output_type": "pyout",
       "prompt_number": 18,
       "text": [
        "u'Sat Jan  4 09:45:35 2014: ncks -4 -L1 -A -d time_counter,18,23 rsync-mirror/2002-09-14/2002091400_u10.nc tmp1.nc\\nSat Jan  4 09:46:10 2014: ncks -4 -L1 -A -d time_counter,0,17 rsync-mirror/2002-09-15/2002091500_u10.nc tmp2.nc\\nSat Jan  4 09:47:02 2014: ncrcat -h -A tmp1.nc tmp2.nc CGRF/NEMO-atmos/u10_y2002m09d15.nc'"
       ]
      }
     ],
     "prompt_number": 18
    },
    {
     "cell_type": "code",
     "collapsed": false,
     "input": [
      "u10.close()"
     ],
     "language": "python",
     "metadata": {},
     "outputs": [
      {
       "ename": "RuntimeError",
       "evalue": "NetCDF: Not a valid ID",
       "output_type": "pyerr",
       "traceback": [
        "\u001b[0;31m---------------------------------------------------------------------------\u001b[0m\n\u001b[0;31mRuntimeError\u001b[0m                              Traceback (most recent call last)",
        "\u001b[0;32m<ipython-input-49-9f90a4afdfeb>\u001b[0m in \u001b[0;36m<module>\u001b[0;34m()\u001b[0m\n\u001b[0;32m----> 1\u001b[0;31m \u001b[0mu10\u001b[0m\u001b[0;34m.\u001b[0m\u001b[0mclose\u001b[0m\u001b[0;34m(\u001b[0m\u001b[0;34m)\u001b[0m\u001b[0;34m\u001b[0m\u001b[0m\n\u001b[0m",
        "\u001b[0;32m/Users/doug/anaconda/lib/python2.7/site-packages/netCDF4.so\u001b[0m in \u001b[0;36mnetCDF4.Dataset.close (netCDF4.c:20764)\u001b[0;34m()\u001b[0m\n",
        "\u001b[0;31mRuntimeError\u001b[0m: NetCDF: Not a valid ID"
       ]
      }
     ],
     "prompt_number": 49
    },
    {
     "cell_type": "code",
     "collapsed": false,
     "input": [],
     "language": "python",
     "metadata": {},
     "outputs": []
    }
   ],
   "metadata": {}
  }
 ]
}