{
 "metadata": {
  "name": ""
 },
 "nbformat": 3,
 "nbformat_minor": 0,
 "worksheets": [
  {
   "cells": [
    {
     "cell_type": "markdown",
     "metadata": {},
     "source": [
      "#Rebasing CGRF Atmospheric Forcing Files\n",
      "\n",
      "This notebook documents and verifies the algorithm for\n",
      "rebasing the [CGRF atmospheric forcing dataset][CGRF dataset] files.\n",
      "\n",
      "[CGRF dataset]: http://salishsea-meopar-docs.readthedocs.org/en/latest/code-notes/salishsea-nemo/nemo-forcing/atmospheric.html#cgrf-dataset\n",
      "\n",
      "The raw CGRF files contain hourly values that run from 06:00 UTC on the file's date\n",
      "to 06:00 UTC on the following day.\n",
      "For hourly forcing,\n",
      "NEMO expects files containing values that run from 00:00 UTC to 23:00 UTC on a date.\n",
      "NEMO also has strict file name requirements for forcing values.\n",
      "To construct such a file some values from two consecutive day's CGRF files must be\n",
      "combined into a file with the name pattern required by NEMO.\n",
      "Since new files need to be created the opportunity is taken to reduce storage requirements\n",
      "by creating them as netCDF4 files with variable-level compression enabled.\n",
      "Metadata that conforms to [CF-1.6 and Salish Sea MEOPAR project conventions][netCDF4 conventions] is included\n",
      "in the new files.\n",
      "\n",
      "[netCDF4 conventions]: http://salishsea-meopar-docs.readthedocs.org/en/latest/code-notes/salishsea-nemo/nemo-forcing/netcdf4.html#netcdf4-file-conventions\n",
      "\n",
      "All of that processing is implemented in the [`salishsea get_cgrf`][salishsea get_cgrf] command.\n",
      "This notebook provides explanation of that code,\n",
      "and verification that the created files contain wind and precipitation forcing\n",
      "values that are consistent with observations at Sandheads and YVR.\n",
      "\n",
      "[salishsea get_cgrf]: http://salishsea-meopar-tools.readthedocs.org/en/latest/SalishSeaCmd/salishsea-cmd.html#get-cgrf-sub-command"
     ]
    },
    {
     "cell_type": "markdown",
     "metadata": {},
     "source": [
      "The first steps of combining forcing values from consecutive day's CGRF files \n",
      "are done using commands from the [NCO][nco] collection of utiltities:\n",
      "\n",
      "[nco]: http://nco.sourceforge.net/"
     ]
    },
    {
     "cell_type": "markdown",
     "metadata": {},
     "source": [
      "```bash\n",
      "ncks -4 -L1 -O -d time_counter,18,23 CGRF/rsync-mirror/2002-09-15/2002091500_u10.nc tmp1.nc\n",
      "ncks -4 -L1 -O -d time_counter,0,17 CGRF/rsync-mirror/2002-09-16/2002091600_u10.nc tmp2.nc\n",
      "ncrcat -O tmp1.nc tmp2.nc CGRF/NEMO-atmos/u10_y2002m09d16.nc\n",
      "```"
     ]
    },
    {
     "cell_type": "markdown",
     "metadata": {},
     "source": [
      "Those commands result in the `u10_y2002m09d16.nc` file,\n",
      "the u-component\n",
      "(zonal)\n",
      "wind values for 2002-09-16.\n",
      "That file contains the variables and metadata\n",
      "from `tmp1.nc`\n",
      "(the first 6 hours values for 2002-09-16)\n",
      "and the values from `tmp2.nc`\n",
      "(the last 18 hours values for 2009-09-16):"
     ]
    },
    {
     "cell_type": "markdown",
     "metadata": {},
     "source": [
      "```bash\n",
      "$ ncdump -c u10_y2002m09d16.nc\n",
      "```\n",
      "\n",
      "```netcdf4\n",
      "netcdf u10_y2002m09d16 {\n",
      "dimensions:\n",
      "\ty = 600 ;\n",
      "\tx = 801 ;\n",
      "\ttime_counter = UNLIMITED ; // (24 currently)\n",
      "variables:\n",
      "\tfloat nav_lat(y, x) ;\n",
      "\t\tnav_lat:units = \"degrees_north\" ;\n",
      "\t\tnav_lat:valid_min = -90.f ;\n",
      "\t\tnav_lat:valid_max = 90.f ;\n",
      "\t\tnav_lat:long_name = \"Latitude\" ;\n",
      "\t\tnav_lat:nav_model = \"Default grid\" ;\n",
      "\tfloat nav_lon(y, x) ;\n",
      "\t\tnav_lon:units = \"degrees_east\" ;\n",
      "\t\tnav_lon:valid_min = 0.f ;\n",
      "\t\tnav_lon:valid_max = 360.f ;\n",
      "\t\tnav_lon:long_name = \"Longitude\" ;\n",
      "\t\tnav_lon:nav_model = \"Default grid\" ;\n",
      "\tdouble time_counter(time_counter) ;\n",
      "\t\ttime_counter:calendar = \"gregorian\" ;\n",
      "\t\ttime_counter:units = \"seconds since 0006-01-01 00:00:00\" ;\n",
      "\t\ttime_counter:time_origin = \"0001-JAN-01 00:00:00\" ;\n",
      "\t\ttime_counter:title = \"Time\" ;\n",
      "\t\ttime_counter:long_name = \"Time axis\" ;\n",
      "\tfloat u_wind(time_counter, y, x) ;\n",
      "\t\tu_wind:units = \"m/s\" ;\n",
      "\t\tu_wind:missing_value = 1.e+20f ;\n",
      "\t\tu_wind:valid_min = -100.f ;\n",
      "\t\tu_wind:valid_max = 100.f ;\n",
      "\t\tu_wind:long_name = \"zonal wind\" ;\n",
      "\t\tu_wind:short_name = \"u_wind\" ;\n",
      "\t\tu_wind:online_operation = \"inst(only(x))\" ;\n",
      "\t\tu_wind:axis = \"TYX\" ;\n",
      "\t\tu_wind:scale_factor = 1.f ;\n",
      "\t\tu_wind:add_offset = 0.f ;\n",
      "\t\tu_wind:savelog10 = 0.f ;\n",
      "\n",
      "// global attributes:\n",
      "\t\t:history = \"Sat Jan  4 17:36:41 2014: ncrcat -O tmp1.nc tmp2.nc u10_y2002m09d16.nc\\nSat Jan  4 17:36:15 2014: ncks -4 -L1 -O -d time_counter,18,23 rsync-mirror/2002-09-15/2002091500_u10.nc tmp1.nc\" ;\n",
      "\t\t:NCO = \"4.0.9\" ;\n",
      "\t\t:nco_openmp_thread_number = 1 ;\n",
      "data:\n",
      "\n",
      " time_counter = 19, 20, 21, 22, 23, 24, 1, 2, 3, 4, 5, 6, 7, 8, 9, 10, 11,\n",
      "    12, 13, 14, 15, 16, 17, 18 ;\n",
      "}\n",
      "```"
     ]
    },
    {
     "cell_type": "markdown",
     "metadata": {},
     "source": [
      "The `time_counter` variable values need to be changed to `0-23`\n",
      "and the `time_counter` variable `units` and `time_origin` metadata\n",
      "values need to be corrected.\n",
      "The global attributes need to be augmented to bring them into conformance\n",
      "with [CF-1.6 and Salish Sea MEOPAR project conventions][netCDF4 conventions],\n",
      "and the `history` attribute needs to reflect the file's provenance.\n",
      "Use the `python-netCDF4` library to do those tasks.\n",
      "\n",
      "[netCDF4 conventions]: http://salishsea-meopar-docs.readthedocs.org/en/latest/code-notes/salishsea-nemo/nemo-forcing/netcdf4.html#netcdf4-file-conventions"
     ]
    },
    {
     "cell_type": "code",
     "collapsed": false,
     "input": [
      "import netCDF4 as nc\n",
      "import numpy as np\n",
      "from salishsea_tools import nc_tools"
     ],
     "language": "python",
     "metadata": {},
     "outputs": [],
     "prompt_number": 17
    },
    {
     "cell_type": "code",
     "collapsed": false,
     "input": [
      "u10 = nc.Dataset('u10_y2002m09d16.nc', 'r+')\n",
      "nc_tools.show_dataset_attrs(u10)"
     ],
     "language": "python",
     "metadata": {},
     "outputs": [
      {
       "output_type": "stream",
       "stream": "stdout",
       "text": [
        "file format: NETCDF4\n",
        "history: Sat Jan  4 17:36:41 2014: ncrcat -O tmp1.nc tmp2.nc u10_y2002m09d16.nc\n",
        "Sat Jan  4 17:36:15 2014: ncks -4 -L1 -O -d time_counter,18,23 rsync-mirror/2002-09-15/2002091500_u10.nc tmp1.nc\n",
        "NCO: 4.0.9\n",
        "nco_openmp_thread_number: 1\n"
       ]
      }
     ],
     "prompt_number": 19
    },
    {
     "cell_type": "code",
     "collapsed": false,
     "input": [
      "nc_tools.init_dataset_attrs(\n",
      "    u10, \n",
      "    title='CGRF u-component wind forcing dataset for 2002-09-15',\n",
      "    notebook_name='',\n",
      "    nc_filepath='',\n",
      "    comment='Processed from goapp.ocean.dal.ca::canadian_GDPS_reforecasts_v1 files.',\n",
      "    quiet=True,\n",
      ")\n",
      "u10.source = 'https://bitbucket.org/salishsea/tools/raw/tip/SalishSeaCmd/salishsea_cmd/get_cgrf_processor.py'\n",
      "u10.references = 'CGRF/NEMO-atmos/u10_y2002m09d15.nc'\n",
      "nc_tools.show_dataset_attrs(u10)"
     ],
     "language": "python",
     "metadata": {},
     "outputs": [
      {
       "output_type": "stream",
       "stream": "stdout",
       "text": [
        "file format: NETCDF4\n",
        "history: Sat Jan  4 17:36:41 2014: ncrcat -O tmp1.nc tmp2.nc u10_y2002m09d16.nc\n",
        "Sat Jan  4 17:36:15 2014: ncks -4 -L1 -O -d time_counter,18,23 rsync-mirror/2002-09-15/2002091500_u10.nc tmp1.nc\n",
        "NCO: 4.0.9\n",
        "nco_openmp_thread_number: 1\n",
        "Conventions: CF-1.6\n",
        "title: CGRF u-component wind forcing dataset for 2002-09-15\n",
        "institution: Dept of Earth, Ocean & Atmospheric Sciences, University of British Columbia\n",
        "source: https://bitbucket.org/salishsea/tools/raw/tip/SalishSeaCmd/salishsea_cmd/get_cgrf_processor.py\n",
        "references: CGRF/NEMO-atmos/u10_y2002m09d15.nc\n",
        "comment: Processed from goapp.ocean.dal.ca::canadian_GDPS_reforecasts_v1 files.\n"
       ]
      }
     ],
     "prompt_number": 20
    },
    {
     "cell_type": "code",
     "collapsed": false,
     "input": [
      "u10.variables['time_counter'].units = 'hours since 2002-09-16 00:00:00'\n",
      "u10.variables['time_counter'].time_origin = '2002-SEP-16 00:00:00'\n",
      "u10.variables['time_counter'][:] = np.arange(24)\n",
      "u10.variables['time_counter'].valid_range = np.array((0, 23))"
     ],
     "language": "python",
     "metadata": {},
     "outputs": [],
     "prompt_number": 21
    },
    {
     "cell_type": "code",
     "collapsed": false,
     "input": [
      "u10.variables['time_counter'][:]"
     ],
     "language": "python",
     "metadata": {},
     "outputs": [
      {
       "metadata": {},
       "output_type": "pyout",
       "prompt_number": 22,
       "text": [
        "array([  0.,   1.,   2.,   3.,   4.,   5.,   6.,   7.,   8.,   9.,  10.,\n",
        "        11.,  12.,  13.,  14.,  15.,  16.,  17.,  18.,  19.,  20.,  21.,\n",
        "        22.,  23.])"
       ]
      }
     ],
     "prompt_number": 22
    },
    {
     "cell_type": "code",
     "collapsed": false,
     "input": [
      "nc_tools.show_variable_attrs(u10, 'time_counter')"
     ],
     "language": "python",
     "metadata": {},
     "outputs": [
      {
       "output_type": "stream",
       "stream": "stdout",
       "text": [
        "<type 'netCDF4.Variable'>\n",
        "float64 time_counter(time_counter)\n",
        "    calendar: gregorian\n",
        "    units: hours since 2002-09-16 00:00:00\n",
        "    time_origin: 2002-SEP-16 00:00:00\n",
        "    title: Time\n",
        "    long_name: Time axis\n",
        "    valid_range: [ 0 23]\n",
        "unlimited dimensions: time_counter\n",
        "current shape = (24,)\n",
        "\n"
       ]
      }
     ],
     "prompt_number": 23
    },
    {
     "cell_type": "code",
     "collapsed": false,
     "input": [
      "tmp2 = nc.Dataset('tmp2.nc')\n",
      "nc_tools.show_dataset_attrs(tmp2)"
     ],
     "language": "python",
     "metadata": {},
     "outputs": [
      {
       "output_type": "stream",
       "stream": "stdout",
       "text": [
        "file format: NETCDF4\n",
        "history: Sat Jan  4 17:36:27 2014: ncks -4 -L1 -O -d time_counter,0,17 rsync-mirror/2002-09-16/2002091600_u10.nc tmp2.nc\n",
        "NCO: 4.0.9\n"
       ]
      }
     ],
     "prompt_number": 24
    },
    {
     "cell_type": "code",
     "collapsed": false,
     "input": [
      "ncrcat, tmp1 = u10.history.split('\\n')\n",
      "u10.history = (\n",
      "    '{}\\n'\n",
      "    '{}\\n'\n",
      "    '{}\\n'\n",
      "    'Sat Jan  4 17:44:42 2014: Adjust time_counter values and clean up metadata.'\n",
      "    .format(tmp1, tmp2.history, ncrcat)\n",
      ")"
     ],
     "language": "python",
     "metadata": {},
     "outputs": [],
     "prompt_number": 25
    },
    {
     "cell_type": "code",
     "collapsed": false,
     "input": [
      "u10.history"
     ],
     "language": "python",
     "metadata": {},
     "outputs": [
      {
       "metadata": {},
       "output_type": "pyout",
       "prompt_number": 26,
       "text": [
        "u'Sat Jan  4 17:36:15 2014: ncks -4 -L1 -O -d time_counter,18,23 rsync-mirror/2002-09-15/2002091500_u10.nc tmp1.nc\\nSat Jan  4 17:36:27 2014: ncks -4 -L1 -O -d time_counter,0,17 rsync-mirror/2002-09-16/2002091600_u10.nc tmp2.nc\\nSat Jan  4 17:36:41 2014: ncrcat -O tmp1.nc tmp2.nc u10_y2002m09d16.nc\\nSat Jan  4 17:44:42 2014: Adjust time_counter values and clean up metadata.'"
       ]
      }
     ],
     "prompt_number": 26
    },
    {
     "cell_type": "code",
     "collapsed": false,
     "input": [
      "nc_tools.check_dataset_attrs(u10)"
     ],
     "language": "python",
     "metadata": {},
     "outputs": [],
     "prompt_number": 27
    },
    {
     "cell_type": "code",
     "collapsed": false,
     "input": [
      "u10.close()"
     ],
     "language": "python",
     "metadata": {},
     "outputs": [],
     "prompt_number": 28
    },
    {
     "cell_type": "markdown",
     "metadata": {},
     "source": [
      "Implementing the above steps as a function:"
     ]
    },
    {
     "cell_type": "code",
     "collapsed": false,
     "input": [
      "import datetime"
     ],
     "language": "python",
     "metadata": {},
     "outputs": [],
     "prompt_number": 29
    },
    {
     "cell_type": "code",
     "collapsed": false,
     "input": [
      "def improve_cgrf_file(var, description, date, tmp2_history):\n",
      "    cgrf_file = '{}_{:y%Ym%md%d}.nc'.format(var, date)\n",
      "    dataset = nc.Dataset(cgrf_file, 'r+')\n",
      "    nc_tools.init_dataset_attrs(\n",
      "        dataset, \n",
      "        title='CGRF {} forcing dataset for {:%Y-%m-%d}'.format(description, date),\n",
      "        notebook_name='',\n",
      "        nc_filepath='',\n",
      "        comment='Processed from goapp.ocean.dal.ca::canadian_GDPS_reforecasts_v1 files.',\n",
      "        quiet=True,\n",
      "    )\n",
      "    dataset.source = 'https://bitbucket.org/salishsea/tools/raw/tip/SalishSeaCmd/salishsea_cmd/get_cgrf_processor.py'\n",
      "    dataset.references = 'CGRF/NEMO-atmos/{}'.format(cgrf_file)\n",
      "    dataset.variables['time_counter'].units = 'hours since {:%Y-%m-%d} 00:00:00'.format(date)\n",
      "    dataset.variables['time_counter'].time_origin = '{:%Y-%b-%d} 00:00:00'.format(date)\n",
      "    dataset.variables['time_counter'][:] = np.arange(24)\n",
      "    dataset.variables['time_counter'].valid_range = np.array((0, 23))\n",
      "    history = dataset.history.split('\\n')\n",
      "    history.reverse()\n",
      "    dataset.history = (\n",
      "         '{}\\n'\n",
      "         '{:%c}: Adjust time_counter values and clean up metadata.'\n",
      "         .format('\\n'.join(history), datetime.datetime.now())\n",
      "    )\n",
      "    nc_tools.check_dataset_attrs(dataset)\n",
      "    dataset.close()"
     ],
     "language": "python",
     "metadata": {},
     "outputs": [],
     "prompt_number": 66
    },
    {
     "cell_type": "markdown",
     "metadata": {},
     "source": [
      "Process the v-component wind forcing:"
     ]
    },
    {
     "cell_type": "code",
     "collapsed": false,
     "input": [
      "tmp2 = nc.Dataset('v10_tmp2.nc')\n",
      "improve_cgrf_file('v10', 'v-component wind', datetime.date(2002, 9, 16), tmp2.history)"
     ],
     "language": "python",
     "metadata": {},
     "outputs": [],
     "prompt_number": 32
    },
    {
     "cell_type": "code",
     "collapsed": false,
     "input": [
      "v10 = nc.Dataset('v10_y2002m09d16.nc')\n",
      "nc_tools.show_dataset_attrs(v10)\n",
      "nc_tools.show_variable_attrs(v10)"
     ],
     "language": "python",
     "metadata": {},
     "outputs": [
      {
       "output_type": "stream",
       "stream": "stdout",
       "text": [
        "file format: NETCDF4\n",
        "NCO: 4.0.9\n",
        "nco_openmp_thread_number: 1\n",
        "Conventions: CF-1.6\n",
        "title: CGRF v-component wind forcing dataset for 2002-09-16\n",
        "institution: Dept of Earth, Ocean & Atmospheric Sciences, University of British Columbia\n",
        "source: https://bitbucket.org/salishsea/tools/raw/tip/SalishSeaCmd/salishsea_cmd/get_cgrf_processor.py\n",
        "references: CGRF/NEMO-atmos/v10_y2002m09d16.nc\n",
        "comment: Processed from goapp.ocean.dal.ca::canadian_GDPS_reforecasts_v1 files.\n",
        "history: Sat Jan  4 17:28:37 2014: ncks -4 -L1 -O -d time_counter,18,23 rsync-mirror/2002-09-15/2002091500_v10.nc tmp1.nc\n",
        "Sat Jan  4 17:29:39 2014: ncks -4 -L1 -O -d time_counter,0,17 rsync-mirror/2002-09-16/2002091600_v10.nc tmp2.nc\n",
        "Sat Jan  4 17:30:17 2014: ncrcat -O tmp1.nc tmp2.nc v10_y2002m09d16.nc\n",
        "Sat Jan  4 17:45:51 2014: Adjust time_counter values and clean up metadata.\n",
        "<type 'netCDF4.Variable'>\n",
        "float32 nav_lat(y, x)\n",
        "    units: degrees_north\n",
        "    valid_min: -90.0\n",
        "    valid_max: 90.0\n",
        "    long_name: Latitude\n",
        "    nav_model: Default grid\n",
        "unlimited dimensions: \n",
        "current shape = (600, 801)\n",
        "\n",
        "<type 'netCDF4.Variable'>\n",
        "float32 nav_lon(y, x)\n",
        "    units: degrees_east\n",
        "    valid_min: 0.0\n",
        "    valid_max: 360.0\n",
        "    long_name: Longitude\n",
        "    nav_model: Default grid\n",
        "unlimited dimensions: \n",
        "current shape = (600, 801)\n",
        "\n",
        "<type 'netCDF4.Variable'>\n",
        "float64 time_counter(time_counter)\n",
        "    calendar: gregorian\n",
        "    title: Time\n",
        "    long_name: Time axis\n",
        "    units: hours since 2002-09-16 00:00:00\n",
        "    time_origin: 2002-Sep-16 00:00:00\n",
        "    valid_range: [ 0 23]\n",
        "unlimited dimensions: time_counter\n",
        "current shape = (24,)\n",
        "\n",
        "<type 'netCDF4.Variable'>\n",
        "float32 v_wind(time_counter, y, x)\n",
        "    units: m/s\n",
        "    missing_value: 1e+20\n",
        "    valid_min: -100.0\n",
        "    valid_max: 100.0\n",
        "    long_name: meridional wind\n",
        "    short_name: v_wind\n",
        "    online_operation: inst(only(x))\n",
        "    axis: TYX\n",
        "    scale_factor: 1.0\n",
        "    add_offset: 0.0\n",
        "    savelog10: 0.0\n",
        "unlimited dimensions: time_counter\n",
        "current shape = (24, 600, 801)\n",
        "\n"
       ]
      }
     ],
     "prompt_number": 33
    },
    {
     "cell_type": "markdown",
     "metadata": {},
     "source": [
      "Process the precipitation forcing:"
     ]
    },
    {
     "cell_type": "code",
     "collapsed": false,
     "input": [
      "tmp2 = nc.Dataset('tmp2.nc')\n",
      "improve_cgrf_file('precip', 'precipitation', datetime.date(2002, 9, 16), tmp2.history)"
     ],
     "language": "python",
     "metadata": {},
     "outputs": [],
     "prompt_number": 70
    },
    {
     "cell_type": "code",
     "collapsed": false,
     "input": [
      "precip = nc.Dataset('precip_y2002m09d16.nc')\n",
      "nc_tools.show_dataset_attrs(precip)\n",
      "nc_tools.show_variable_attrs(precip)"
     ],
     "language": "python",
     "metadata": {},
     "outputs": [
      {
       "output_type": "stream",
       "stream": "stdout",
       "text": [
        "file format: NETCDF4\n",
        "NCO: 4.0.9\n",
        "nco_openmp_thread_number: 1\n",
        "Conventions: CF-1.6\n",
        "title: CGRF precipitation forcing dataset for 2002-09-16\n",
        "institution: Dept of Earth, Ocean & Atmospheric Sciences, University of British Columbia\n",
        "source: https://bitbucket.org/salishsea/tools/raw/tip/SalishSeaCmd/salishsea_cmd/get_cgrf_processor.py\n",
        "references: CGRF/NEMO-atmos/precip_y2002m09d16.nc\n",
        "comment: Processed from goapp.ocean.dal.ca::canadian_GDPS_reforecasts_v1 files.\n",
        "history: Mon Jun  6 14:45:58 2011: ncbo -v precip -y add 2002091500_precip.nc 2002091500_precip.nc precip2.nc\n",
        "Mon Jun  6 14:45:59 2011: ncbo -v precip -y add precip2.nc 2002091500_precip.nc precip3.nc\n",
        "Mon Jun  6 14:46:00 2011: ncks -A -v nav_lat,nav_lon 2002091500_precip.nc precip3.nc\n",
        "Sat Jan  4 17:48:03 2014: ncks -4 -L1 -O -d time_counter,18,23 rsync-mirror/2002-09-15/2002091500_precip.nc tmp1.nc\n",
        "Sat Jan  4 17:49:11 2014: ncrcat -O tmp1.nc tmp2.nc precip_y2002m09d16.nc\n",
        "Sat Jan  4 18:23:14 2014: Adjust time_counter values and clean up metadata.\n",
        "<type 'netCDF4.Variable'>\n",
        "float32 nav_lat(y, x)\n",
        "    units: degrees_north\n",
        "    valid_min: -90.0\n",
        "    valid_max: 90.0\n",
        "    long_name: Latitude\n",
        "    nav_model: Default grid\n",
        "unlimited dimensions: \n",
        "current shape = (600, 801)\n",
        "\n",
        "<type 'netCDF4.Variable'>\n",
        "float32 nav_lon(y, x)\n",
        "    units: degrees_east\n",
        "    valid_min: 0.0\n",
        "    valid_max: 360.0\n",
        "    long_name: Longitude\n",
        "    nav_model: Default grid\n",
        "unlimited dimensions: \n",
        "current shape = (600, 801)\n",
        "\n",
        "<type 'netCDF4.Variable'>\n",
        "float32 precip(time_counter, y, x)\n",
        "    units: m/s\n",
        "    missing_value: 1e+20\n",
        "    valid_min: 0.0\n",
        "    valid_max: 1.0\n",
        "    long_name: precipitation\n",
        "    short_name: precip\n",
        "    online_operation: inst(only(x))\n",
        "    axis: TYX\n",
        "    savelog10: 0.0\n",
        "unlimited dimensions: time_counter\n",
        "current shape = (24, 600, 801)\n",
        "\n",
        "<type 'netCDF4.Variable'>\n",
        "float64 time_counter(time_counter)\n",
        "    calendar: gregorian\n",
        "    title: Time\n",
        "    long_name: Time axis\n",
        "    units: hours since 2002-09-16 00:00:00\n",
        "    time_origin: 2002-Sep-16 00:00:00\n",
        "    valid_range: [ 0 23]\n",
        "unlimited dimensions: time_counter\n",
        "current shape = (24,)\n",
        "\n"
       ]
      }
     ],
     "prompt_number": 71
    },
    {
     "cell_type": "code",
     "collapsed": false,
     "input": [],
     "language": "python",
     "metadata": {},
     "outputs": []
    }
   ],
   "metadata": {}
  }
 ]
}