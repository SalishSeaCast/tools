{
 "metadata": {
  "name": ""
 },
 "nbformat": 3,
 "nbformat_minor": 0,
 "worksheets": [
  {
   "cells": [
    {
     "cell_type": "markdown",
     "metadata": {},
     "source": [
      "**Notebook to prepare Rivers Input file for the Large Salish Sea Domain**\n",
      "\n",
      "*Usual Imports*"
     ]
    },
    {
     "cell_type": "code",
     "collapsed": false,
     "input": [
      "%matplotlib inline\n",
      "import matplotlib.pyplot as plt\n",
      "import numpy as np\n",
      "import netCDF4 as NC"
     ],
     "language": "python",
     "metadata": {},
     "outputs": [],
     "prompt_number": 5
    },
    {
     "cell_type": "markdown",
     "metadata": {},
     "source": [
      "Get the cool bathymetry plotting tools"
     ]
    },
    {
     "cell_type": "code",
     "collapsed": false,
     "input": [
      "from salishsea_tools import bathy_tools"
     ],
     "language": "python",
     "metadata": {},
     "outputs": [
      {
       "ename": "ImportError",
       "evalue": "No module named salishsea_tools",
       "output_type": "pyerr",
       "traceback": [
        "\u001b[1;31m---------------------------------------------------------------------------\u001b[0m\n\u001b[1;31mImportError\u001b[0m                               Traceback (most recent call last)",
        "\u001b[1;32m<ipython-input-6-0545bcd69800>\u001b[0m in \u001b[0;36m<module>\u001b[1;34m()\u001b[0m\n\u001b[1;32m----> 1\u001b[1;33m \u001b[1;32mfrom\u001b[0m \u001b[0msalishsea_tools\u001b[0m \u001b[1;32mimport\u001b[0m \u001b[0mbathy_tools\u001b[0m\u001b[1;33m\u001b[0m\u001b[0m\n\u001b[0m",
        "\u001b[1;31mImportError\u001b[0m: No module named salishsea_tools"
       ]
      }
     ],
     "prompt_number": 6
    },
    {
     "cell_type": "markdown",
     "metadata": {},
     "source": [
      "Open the bathymetry and coordinate files, working on the T-grid get lat/lon and size of the grid cells (e1t and e2t)"
     ]
    },
    {
     "cell_type": "code",
     "collapsed": false,
     "input": [
      "fB = NC.Dataset('../../nemo-forcing/grid/bathy_meter_SalishSea.nc','r')\n",
      "fC = NC.Dataset('../../nemo-forcing/grid/coordinates_seagrid_SalishSea.nc','r')\n",
      "D = fB.variables['Bathymetry'][:]\n",
      "ymax, xmax = D.shape\n",
      "lat = fB.variables['nav_lat']\n",
      "lon = fB.variables['nav_lon']\n",
      "print fC.variables.keys()\n",
      "gphit = fC.variables['gphit']\n",
      "glamt = fC.variables['glamt']\n",
      "e1t = fC.variables['e1t']\n",
      "e2t = fC.variables['e2t']\n",
      "print gphit[0,414:418,334]\n",
      "print glamt[0,414:418,334]\n",
      "print e1t[0,414:417,334]\n",
      "print e2t[0,414:417,334]"
     ],
     "language": "python",
     "metadata": {},
     "outputs": [
      {
       "output_type": "stream",
       "stream": "stdout",
       "text": [
        "[u'nav_lon', u'nav_lat', u'time', u'time_steps', u'glamt', u'glamu', u'glamv', u'glamf', u'gphit', u'gphiu', u'gphiv', u'gphif', u'e1t', u'e1u', u'e1v', u'e1f', u'e2t', u'e2u', u'e2v', u'e2f']\n",
        "[ 49.13004216  49.13396599  49.13788957  49.14181288]\n",
        "[-123.04199069 -123.04535223 -123.04871379 -123.05207535]\n",
        "[ 500.18409374  500.14953251  500.11494186]\n",
        "[ 432.39715269  432.35324343  432.30929844]\n"
       ]
      }
     ],
     "prompt_number": 145
    },
    {
     "cell_type": "markdown",
     "metadata": {},
     "source": [
      "Set up arrays"
     ]
    },
    {
     "cell_type": "code",
     "collapsed": false,
     "input": [
      "runoff = np.zeros((ymax,xmax))\n",
      "run_depth = -np.ones((ymax,xmax))\n",
      "print run_depth[50:52,50:54], runoff.sum()"
     ],
     "language": "python",
     "metadata": {},
     "outputs": [
      {
       "output_type": "stream",
       "stream": "stdout",
       "text": [
        "[[-1. -1. -1. -1.]\n",
        " [-1. -1. -1. -1.]] 0.0\n"
       ]
      }
     ],
     "prompt_number": 164
    },
    {
     "cell_type": "markdown",
     "metadata": {},
     "source": [
      "Define my function that fills up the arrays"
     ]
    },
    {
     "cell_type": "code",
     "collapsed": false,
     "input": [
      "def fill_runoff_array(Flux,istart,di,jstart,dj,depth_of_flux):\n",
      "    number_cells = di*dj\n",
      "    area = number_cells*e1t[0,istart,jstart]*e2t[0,istart,jstart]\n",
      "    w = Flux/area * 1000.   # w is in kg/s not m/s\n",
      "    print w\n",
      "    runoff[istart:istart+di,jstart:jstart+dj] = w\n",
      "    run_depth[istart:istart+di,jstart:jstart+dj] = depth_of_flux"
     ],
     "language": "python",
     "metadata": {},
     "outputs": [],
     "prompt_number": 163
    },
    {
     "cell_type": "markdown",
     "metadata": {},
     "source": [
      "Define a function to check that the water has been all (and not too much distributed)"
     ]
    },
    {
     "cell_type": "code",
     "collapsed": false,
     "input": [
      "def check_sum(runoff_orig, runoff_new, Flux):\n",
      "    print (np.sum(runoff_new)-runoff_orig.sum())*e1t[0,450,200]*e2t[0,450,200]/1000., Flux"
     ],
     "language": "python",
     "metadata": {},
     "outputs": [],
     "prompt_number": 165
    },
    {
     "cell_type": "markdown",
     "metadata": {},
     "source": [
      "**Juan de Fuca** : rivers?  Jordan, Sooke what else?\n",
      "\n",
      "The Juan de Fuca watershed in Morrison et al (2011) includes the north side of Juan de Fuca Strait from Victoria to Port Renfrew (inclusive) and the south side of Juan de Fuca Strait from Cape Flattery to Port Townsend. \n",
      "\n",
      "Nice map showing watersheds in Washington: http://www.ecy.wa.gov/apps/watersheds/wriapages/index.html\n"
     ]
    },
    {
     "cell_type": "code",
     "collapsed": false,
     "input": [
      "# Assumed river flow (m3/s): this is the yearly average flow based on Morrison spreadsheet\n",
      "Flux = 12.92e9/365./86400.\n",
      "\n",
      "# Assume that 50% of the area of the JdF watershed defined by Morrison et al (2011) is on north side of JdF (Canada side)\n",
      "# From bccf steelhead site map, assume that 33% of Canada side is part of San Juan River/Harris Creek watershed\n",
      "#San Juan River (in the steelhead map) (includes Harris Creek from the steelhead map)\n",
      "SanJuan = Flux*0.5*0.33333\n",
      "#Jordan = Flux \n",
      "\n",
      "\n",
      "#Sooke River\n",
      "#Muir Creek\n",
      "#Jordan River\n",
      "\n",
      "\n",
      "\n",
      "# Assume that 50% of the area of the watershed defined by Morrison et al (2011) is on south side of JdF (US side)\n",
      "USFlux = Flux*0.5\n",
      "# Assume that 60% of US side of JdF is occupied by watershed WRIA 18, two main rivers Elwha and Dungeness\n",
      "# Elwha River 48.14616,-123.567095\n",
      "\n",
      "# Assume that 40% of US side of JdF is occupied by watershed WRIA 19 Lyre-Hoko\n",
      "# Coville Creek 48.138342,-123.611684\n",
      "Coville = USFlux*0.05\n",
      "# Salt Creek 48.16328,-123.70481\n",
      "Salt = USFlux*0.05\n",
      "# Field Creek 48.154406,-123.810554\n",
      "Field = USFlux*0.05\n",
      "# Lyre River at 48.160675, -123.828499 \n",
      "Lyre = USFlux*0.20\n",
      "# East Twin River/West Twin River 48.165957,-123.949835\n",
      "EastWestTwin = USFlux*0.05\n",
      "# Deep Creek 48.175316,-124.026289\n",
      "Deep = USFlux*0.05\n",
      "# Pysht River 48.204541,-124.095984\n",
      "Pysht = USFlux*0.10\n",
      "# Clallom River 48.254713,-124.267824\n",
      "Clallom = USFlux*0.10\n",
      "# Hoko River 48.287419, -124.362191\n",
      "Hoko = USFlux*0.20\n",
      "# Sekiu River 48.288676,-124.394159\n",
      "Sekiu = USFlux*0.10\n",
      "# Sail River 48.360327,-124.556508\n",
      "Sail = USFlux*0.05\n",
      "\n",
      "USFlux_cum = Coville+Salt+Field+Lyre+EastWestTwin+Deep+Pysht+Clallom+Hoko+Sekiu+Sail\n",
      "print USFlux, USFlux_cum\n",
      "\n",
      "\n",
      "# Coville i=, j=\n",
      "fill_runoff_array(Coville,istart=701,di=1,jstart=123,dj=1,depth_of_flux=3)\n",
      "# Salt i =, j=\n",
      "fill_runoff_array(Salt,istart=383,di=1,jstart=201,dj=2,depth_of_flux=3)\n",
      "# Field, i=334, j=185\n",
      "fill_runoff_array(Field,istart=334,di=1,jstart=185,dj=1,depth_of_flux=3)\n",
      "\n",
      "\n"
     ],
     "language": "python",
     "metadata": {},
     "outputs": [
      {
       "output_type": "stream",
       "stream": "stdout",
       "text": [
        " 204.845256215 204.845256215\n"
       ]
      }
     ],
     "prompt_number": 2
    },
    {
     "cell_type": "markdown",
     "metadata": {},
     "source": [
      "**Puget Sound** : rivers? Split w Skagit???"
     ]
    },
    {
     "cell_type": "code",
     "collapsed": false,
     "input": [
      "# Assumed river flow (m3/s): this is the yearly average flow based on Morrison spreadsheet\n",
      "Flux = 15.86e9/365./86400\n",
      "\n",
      "\n",
      "# Assume that ??% of US side of JdF is occupied by watershed WRIA 17, two main rivers Quilcene-Snow\n"
     ],
     "language": "python",
     "metadata": {},
     "outputs": []
    },
    {
     "cell_type": "markdown",
     "metadata": {},
     "source": [
      "**Skagit** : Skagit, Snohomoish ???"
     ]
    },
    {
     "cell_type": "code",
     "collapsed": false,
     "input": [
      "fig = bathy_tools.plot_colourmesh_zoom(\n",
      "    fB, (400,400), half_width=50)"
     ],
     "language": "python",
     "metadata": {},
     "outputs": [
      {
       "ename": "NameError",
       "evalue": "name 'bathy_tools' is not defined",
       "output_type": "pyerr",
       "traceback": [
        "\u001b[1;31m---------------------------------------------------------------------------\u001b[0m\n\u001b[1;31mNameError\u001b[0m                                 Traceback (most recent call last)",
        "\u001b[1;32m<ipython-input-8-8784c80547af>\u001b[0m in \u001b[0;36m<module>\u001b[1;34m()\u001b[0m\n\u001b[1;32m----> 1\u001b[1;33m fig = bathy_tools.plot_colourmesh_zoom(\n\u001b[0m\u001b[0;32m      2\u001b[0m     fB, (400,400), half_width=50)\n",
        "\u001b[1;31mNameError\u001b[0m: name 'bathy_tools' is not defined"
       ]
      }
     ],
     "prompt_number": 8
    },
    {
     "cell_type": "code",
     "collapsed": false,
     "input": [
      "# Assumed river flow (m3/s): this is the yearly average flow based on Morrison spreadsheet\n",
      "Flux = 29.56e9/365./86400."
     ],
     "language": "python",
     "metadata": {},
     "outputs": [],
     "prompt_number": 35
    },
    {
     "cell_type": "markdown",
     "metadata": {},
     "source": [
      "**Fraser: South Arm+Canoe, Main Arm, North Arm**"
     ]
    },
    {
     "cell_type": "markdown",
     "metadata": {},
     "source": [
      "Plot the mouths of the South Arm, Main Arm, North Arm"
     ]
    },
    {
     "cell_type": "code",
     "collapsed": true,
     "input": [
      "fig = bathy_tools.plot_colourmesh_zoom(\n",
      "    fB, (321,448), half_width=10)"
     ],
     "language": "python",
     "metadata": {},
     "outputs": [
      {
       "metadata": {},
       "output_type": "display_data",
       "png": "[encoded data removed]",
       "text": [
        "<matplotlib.figure.Figure at 0x3f88190>"
       ]
      }
     ],
     "prompt_number": 6
    },
    {
     "cell_type": "markdown",
     "metadata": {},
     "source": [
      "Flow Calculations"
     ]
    },
    {
     "cell_type": "code",
     "collapsed": false,
     "input": [
      "runoff_orig = np.copy(runoff)\n",
      "# Main South Arm cells based on map are i=414,415,416 and j=334\n",
      "# Assumed river flow (m3/s): this is 75% of the Fraser yearly average flow from Morrison spreadsheet (in km3/yr)\n",
      "Flux = 111.94e9/365./86400\n",
      "fill_runoff_array(Flux*0.75,istart=414,di=3,jstart=334,dj=1,depth_of_flux=3)\n",
      "\n",
      "# Southern South Arm (aka Canoe Pass, although that is not open), cells i= 411,412 j=324\n",
      "fill_runoff_array(Flux*0.05,istart=411,di=2,jstart=324,dj=1,depth_of_flux=3)\n",
      "\n",
      "# Main Arm, cells i=434,435, j=318\n",
      "fill_runoff_array(Flux*0.05,istart=434,di=2,jstart=318,dj=1,depth_of_flux=3)\n",
      "\n",
      "# North Arm, cells i=440, j=323,324\n",
      "fill_runoff_array(Flux*0.15,istart=440,di=1,jstart=323,dj=2,depth_of_flux=3)\n",
      "\n",
      "check_sum(runoff_orig, runoff, Flux)"
     ],
     "language": "python",
     "metadata": {},
     "outputs": [
      {
       "output_type": "stream",
       "stream": "stdout",
       "text": [
        "4.10304237373\n",
        "0.409832237563\n",
        "0.411263697084\n",
        "1.23548730201\n",
        "3567.06228587 3549.59411466\n"
       ]
      }
     ],
     "prompt_number": 166
    },
    {
     "cell_type": "markdown",
     "metadata": {},
     "source": [
      "**Howe: Squamish + Burrard Inlet**"
     ]
    },
    {
     "cell_type": "code",
     "collapsed": false,
     "input": [
      "fig = bathy_tools.plot_colourmesh_zoom(\n",
      "    fB, (345,457), half_width=5)"
     ],
     "language": "python",
     "metadata": {},
     "outputs": [],
     "prompt_number": 27
    },
    {
     "cell_type": "code",
     "collapsed": false,
     "input": [
      "runoff_orig = np.copy(runoff)\n",
      "# Squamish cells based on map are i = 532 and j=385 and j=386\n",
      "# Assumed river flow (m3/s): this is the yearly average flow based on Morrison spreadsheet\n",
      "# Taking 90% here because http://www.bccf.com/steelhead says Indian+Capilano+Lynn+Seymour+Brunette are 10% of \n",
      "# area recorded in Morrison spreadsheet\n",
      "Flux = 18.07e9/365./86400.\n",
      "fill_runoff_array(Flux*0.9,istart=532,di=1,jstart=385,dj=2,depth_of_flux=3)\n",
      "\n",
      "# Burrard Inlet cells based on map are i=457-459 and j=343\n",
      "fill_runoff_array(Flux*0.1,istart=457,di=3,jstart=343,dj=1,depth_of_flux=3)\n",
      "check_sum(runoff_orig, runoff, Flux)"
     ],
     "language": "python",
     "metadata": {},
     "outputs": [
      {
       "output_type": "stream",
       "stream": "stdout",
       "text": [
        "1.22264831899\n",
        "0.0890288991787\n",
        "589.15280288 572.995941147\n"
       ]
      }
     ],
     "prompt_number": 167
    },
    {
     "cell_type": "markdown",
     "metadata": {},
     "source": [
      "**East Vancouver Island - South** : Gold River, Chemanius, Cowichan, Nanaimo, Englishman, Small/Big Qualicum"
     ]
    },
    {
     "cell_type": "code",
     "collapsed": false,
     "input": [
      "runoff_orig = np.copy(runoff)\n",
      "# Assumed river flow (m3/s): this is the yearly average flow based on Morrison spreadsheet\n",
      "Flux = 10.39e9/365./86400.\n",
      "# From bccf, steelhead, plus extra according to their map: http://www.bccf.com/steelhead/watersheds.htm\n",
      "Goldstream = 2.2\n",
      "Koksilah = 9.77\n",
      "# north of Goldstream and Saanich Penn = 2x Koksilah\n",
      "Goldstream = Goldstream + 2* Koksilah\n",
      "# Koksilah flows into Cowichan\n",
      "Cowichan = 55+Koksilah\n",
      "Chemanius = 19.2\n",
      "# north and south of Chemanius, another 1/2\n",
      "Chemanius = Chemanius*1.5\n",
      "Nanaimo = 39.7\n",
      "Englishman = 14.\n",
      "LittleQualicum = 11.8\n",
      "Qualicum = 7.3\n",
      "# Nanoose Area - about a LittleQualicum, split\n",
      "NorNanaimo = LittleQualicum/2.\n",
      "Nanoose = LittleQualicum/2.\n",
      "# North and South of Little Qualicum, a BigQualicum extra (1/2 here, 1/2 into French Creek)\n",
      "LittleQualicum = LittleQualicum + 0.5*Qualicum\n",
      "# French Creek draining south of Little Qualicum/ 0.5 of a Big Qualicum\n",
      "FrenchCreek = 0.5*Qualicum\n",
      "Tsable = 7.99\n",
      "# South Denman (Rosewall Creek) = Tsable + BigQualicum\n",
      "SouthDenman = Tsable+Qualicum\n",
      "# North of Tsable, another one\n",
      "Tsable = Tsable*2\n",
      "Trent = 3\n",
      "Puntledge = 42\n",
      "# Around Black Creek, another Qualicum\n",
      "BlackCreek = 1.8\n",
      "BlackCreek = BlackCreek+Qualicum\n",
      "Total = (Goldstream+Cowichan+Chemanius+Nanaimo+NorNanaimo+Nanoose+Englishman+\n",
      "         FrenchCreek+LittleQualicum+Qualicum+SouthDenman+Tsable+Trent+Puntledge+BlackCreek)\n",
      "print Flux, Total\n",
      "\n",
      "# Black Creek i=701, j=123\n",
      "fill_runoff_array(Flux*BlackCreek/Total,istart=701,di=1,jstart=123,dj=1,depth_of_flux=3)\n",
      "# Chemainus, one mouth at 414,211 and one inshore of 417, 212\n",
      "fill_runoff_array(Flux*Chemanius/Total*0.5, istart=414, di=1, jstart=211, dj=1, depth_of_flux=3)\n",
      "fill_runoff_array(Flux*Chemanius/Total*0.5, istart=417, di=1, jstart=212, dj=1, depth_of_flux=3)\n",
      "# Cowichan including Koksilah, based on maps and determining lat/longs i =383, j=201,202\n",
      "fill_runoff_array(Flux*Cowichan/Total,istart=383,di=1,jstart=201,dj=2,depth_of_flux=3)\n",
      "# Englishman, i=541, j=175\n",
      "fill_runoff_array(Flux*Englishman/Total,istart=541,di=1,jstart=175,dj=1,depth_of_flux=3)\n",
      "# French Creek, i=551, j=168\n",
      "fill_runoff_array(Flux*FrenchCreek/Total,istart=551,di=1,jstart=168,dj=1,depth_of_flux=3)\n",
      "# Goldstream, i=334, j=185\n",
      "fill_runoff_array(Flux*Goldstream/Total,istart=334,di=1,jstart=185,dj=1,depth_of_flux=3)\n",
      "# Little Qualicum, i=563, j=150\n",
      "fill_runoff_array(Flux*LittleQualicum/Total,istart=563,di=1,jstart=150,dj=1,depth_of_flux=3)\n",
      "# Nanaimo, weird shape!  i=478,j=208,209 AND i =477, j=210\n",
      "fill_runoff_array(Flux*Nanaimo/Total*0.67,istart=478,di=1,jstart=208,dj=2,depth_of_flux=3)\n",
      "fill_runoff_array(Flux*Nanaimo/Total*0.33,istart=477,di=1,jstart=210,dj=1,depth_of_flux=3)\n",
      "# Nanoose, i=518, j=185\n",
      "fill_runoff_array(Flux*Nanoose/Total,istart=518,di=1,jstart=185,dj=1,depth_of_flux=3)\n",
      "# NorNanaimo, j=213, i=491-493\n",
      "fill_runoff_array(Flux*NorNanaimo/Total,istart=491,di=3,jstart=213,dj=1,depth_of_flux=3)\n",
      "# Puntledge, based on maps i= 656, j= 119,120\n",
      "fill_runoff_array(Flux*Puntledge/Total,istart=656,di=1,jstart=119,dj=2,depth_of_flux=3)\n",
      "# Qualicum, i=578, j=137\n",
      "fill_runoff_array(Flux*Qualicum/Total,istart=578,di=1,jstart=137,dj=1,depth_of_flux=3)\n",
      "# South Denman, i=602, j=120\n",
      "fill_runoff_array(Flux*SouthDenman/Total,istart=602,di=1,jstart=120,dj=1,depth_of_flux=3)\n",
      "# Trent, Royston i=648, j=121\n",
      "fill_runoff_array(Flux*Trent/Total,istart=648,di=1,jstart=121,dj=1,depth_of_flux=3)\n",
      "# Tsable, i=616-7, j=120\n",
      "fill_runoff_array(Flux*Tsable/Total,istart=616,di=2,jstart=120,dj=1,depth_of_flux=3)\n",
      "\n",
      "\n",
      "print lat[701,123],lon[701,123]\n",
      "check_sum(runoff_orig, runoff, Flux)"
     ],
     "language": "python",
     "metadata": {},
     "outputs": [
      {
       "output_type": "stream",
       "stream": "stdout",
       "text": [
        "329.464738711 292.58\n",
        "0.0483923007411\n",
        "0.0743250562304\n",
        "0.0743635295564\n",
        "0.166288169732\n",
        "0.0733993593009\n",
        "0.019150316929\n",
        "0.110773438908\n",
        "0.0810430885975\n",
        "0.0692881686959\n",
        "0.068255855292\n",
        "0.0308578361924\n",
        "0.0102711882916\n",
        "0.111077338965"
       ]
      },
      {
       "output_type": "stream",
       "stream": "stdout",
       "text": [
        "\n",
        "0.0383171887726\n",
        "0.0803568122117\n",
        "0.0158578531229\n",
        "0.0420661349438\n",
        "49.8560180664 -125.095230103\n",
        "330.883710662 329.464738711\n"
       ]
      }
     ],
     "prompt_number": 168
    },
    {
     "cell_type": "code",
     "collapsed": false,
     "input": [
      "fig = bathy_tools.plot_colourmesh_zoom(\n",
      "    fB, (122,702), half_width=5)"
     ],
     "language": "python",
     "metadata": {},
     "outputs": [
      {
       "metadata": {},
       "output_type": "display_data",
       "png": "[encoded data removed]",
       "text": [
        "<matplotlib.figure.Figure at 0x106d79b50>"
       ]
      }
     ],
     "prompt_number": 137
    },
    {
     "cell_type": "markdown",
     "metadata": {},
     "source": [
      "**East Vancouver Island - North**: Campbell River, Nimpkish??? -- not the whole thing...."
     ]
    },
    {
     "cell_type": "code",
     "collapsed": false,
     "input": [
      "fig = bathy_tools.plot_colourmesh_zoom(\n",
      "    fB, (100,857), half_width=100)"
     ],
     "language": "python",
     "metadata": {},
     "outputs": [
      {
       "metadata": {},
       "output_type": "display_data",
       "png": "[encoded data removed]",
       "text": [
        "<matplotlib.figure.Figure at 0x1014faad0>"
       ]
      }
     ],
     "prompt_number": 62
    },
    {
     "cell_type": "code",
     "collapsed": false,
     "input": [
      "# Oyster river is at 705,121\n",
      "#Assumed river flow (m3/s): this is the yearly average flow based on Morrison spreadsheet: this is the whole!!!!\n",
      "Flux = 20.13e9/365./86400."
     ],
     "language": "python",
     "metadata": {},
     "outputs": []
    },
    {
     "cell_type": "markdown",
     "metadata": {},
     "source": [
      "**Jervis** : Jervis, Sechelt, Powell River"
     ]
    },
    {
     "cell_type": "code",
     "collapsed": false,
     "input": [
      "# Assumed river flow (m3/s): this is the yearly average flow based on Morrison spreadsheet\n",
      "Flux = 9.36e9/365./86400."
     ],
     "language": "python",
     "metadata": {},
     "outputs": [],
     "prompt_number": 58
    },
    {
     "cell_type": "markdown",
     "metadata": {},
     "source": [
      "**Toba** : Head versus Brem Creek?"
     ]
    },
    {
     "cell_type": "code",
     "collapsed": false,
     "input": [
      "#fig = bathy_tools.plot_colourmesh_zoom(\n",
      "#    fB, (310,776), half_width=5)"
     ],
     "language": "python",
     "metadata": {},
     "outputs": [],
     "prompt_number": 52
    },
    {
     "cell_type": "code",
     "collapsed": false,
     "input": [
      "# Assumed river flow (m3/s): this is the yearly average flow based on Morrison spreadsheet\n",
      "Flux = 8.52e9/365./86400.\n",
      "# Brem Creek, i = 782, j = 259, 260\n",
      "# fill_runoff_array(Flux,istart=782,di=1,jstart=259,dj=2,depth_of_flux=3)\n",
      "# River at Head, i= 775,775 j= 310\n",
      "# fill_runoff_array(Flux,istart=775,di=2,jstart=310,dj=1,depth_of_flux=3)\n"
     ],
     "language": "python",
     "metadata": {},
     "outputs": [],
     "prompt_number": 36
    },
    {
     "cell_type": "markdown",
     "metadata": {},
     "source": [
      "**Bute** : All at head?  two rivers though?"
     ]
    },
    {
     "cell_type": "code",
     "collapsed": false,
     "input": [
      "fig = bathy_tools.plot_colourmesh_zoom(\n",
      "    fB, (300,857), half_width=50)"
     ],
     "language": "python",
     "metadata": {},
     "outputs": [
      {
       "metadata": {},
       "output_type": "display_data",
       "png": "[encoded data removed]",
       "text": [
        "<matplotlib.figure.Figure at 0x107e5e650>"
       ]
      }
     ],
     "prompt_number": 30
    },
    {
     "cell_type": "code",
     "collapsed": false,
     "input": [
      "# Assumed river flow (m3/s): this is the yearly average flow based on Morrison spreadsheet\n",
      "Flux = 17.36e9/365./86400."
     ],
     "language": "python",
     "metadata": {},
     "outputs": [],
     "prompt_number": 34
    },
    {
     "cell_type": "markdown",
     "metadata": {},
     "source": [
      "Create the File"
     ]
    },
    {
     "cell_type": "code",
     "collapsed": false,
     "input": [
      "nemo = NC.Dataset('rivers_Fraserplus_cnst.nc', 'w')\n",
      "nemo.description = 'Constant Yearly Average, South arm of Fraser, Squamish' \n",
      "\n",
      "# dimensions\n",
      "nemo.createDimension('x', xmax)\n",
      "nemo.createDimension('y', ymax)\n",
      "nemo.createDimension('time_counter', None)\n",
      "\n",
      "# variables\n",
      "# latitude and longitude\n",
      "nav_lat = nemo.createVariable('nav_lat','float32',('y','x'),zlib=True)\n",
      "nav_lat = lat\n",
      "x = nemo.createVariable('nav_lon','float32',('y','x'),zlib=True)\n",
      "nav_lon = lon\n",
      "# time\n",
      "time_counter = nemo.createVariable('time_counter', 'float32', ('time_counter'),zlib=True)\n",
      "time_counter.units = 'non-dim'\n",
      "time_counter[0] = 1\n",
      "# runoff\n",
      "rorunoff = nemo.createVariable('rorunoff', 'float32', ('time_counter','y','x'), zlib=True)\n",
      "rorunoff._Fillvalue = 0.\n",
      "rorunoff._missing_value = 0.\n",
      "rorunoff._units = 'kg m-2 s-1'\n",
      "rorunoff[0,:] = runoff\n",
      "# depth\n",
      "rodepth = nemo.createVariable('rodepth','float32',('y','x'),zlib=True)\n",
      "rodepth._Fillvalue = -1.\n",
      "rodepth.missing_value = -1.\n",
      "rodepth.units = 'm'\n",
      "rodepth[:] = run_depth\n",
      "nemo.close()"
     ],
     "language": "python",
     "metadata": {},
     "outputs": [],
     "prompt_number": 169
    },
    {
     "cell_type": "code",
     "collapsed": false,
     "input": [],
     "language": "python",
     "metadata": {},
     "outputs": []
    }
   ],
   "metadata": {}
  }
 ]
}