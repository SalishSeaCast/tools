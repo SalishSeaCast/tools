{
 "cells": [
  {
   "cell_type": "markdown",
   "metadata": {},
   "source": [
    "Create a TS+biology tracers initial file for one bathymetry based on a restart file from a different bathymetry"
   ]
  },
  {
   "cell_type": "code",
   "execution_count": 1,
   "metadata": {},
   "outputs": [],
   "source": [
    "import netCDF4 as nc\n",
    "import numpy as np \n",
    "\n",
    "from salishsea_tools import nc_tools\n",
    "\n",
    "%matplotlib inline"
   ]
  },
  {
   "cell_type": "markdown",
   "metadata": {},
   "source": [
    "# New Bathymetry (via its mesh mask)"
   ]
  },
  {
   "cell_type": "code",
   "execution_count": 2,
   "metadata": {},
   "outputs": [],
   "source": [
    "mesh = nc.Dataset('/home/sallen/MEOPAR/grid/mesh_mask202108.nc')\n",
    "mbathy = mesh.variables['mbathy'][0,:,:] \n",
    "#used to calculate number of vertical ocean grid cells at each (i,j) (1=land point)\n",
    "gdepw = mesh.variables['gdepw_0'][0,:,:,:]\n",
    "surface_tmask = mesh.variables['tmask'][0,0,:,:]\n",
    "surface_tmask = np.abs(surface_tmask-1)\n",
    "tmask = mesh.variables['tmask'][0,:,:,:]\n",
    "tmask = np.abs(tmask-1)\n",
    "lats = mesh.variables['nav_lat'][:]\n",
    "lons = mesh.variables['nav_lon'][:]\n",
    "mesh.close()"
   ]
  },
  {
   "cell_type": "code",
   "execution_count": 3,
   "metadata": {},
   "outputs": [],
   "source": [
    "# calculate bathymetry based on meshmask\n",
    "NEMO_bathy = np.zeros(mbathy.shape)\n",
    "for i in range(NEMO_bathy.shape[1]):\n",
    "    for j in range(NEMO_bathy.shape[0]):\n",
    "        level = mbathy[j,i]\n",
    "        NEMO_bathy[j,i] = gdepw[level,j,i]\n",
    "NEMO_bathy = np.ma.masked_array(NEMO_bathy, mask = surface_tmask)"
   ]
  },
  {
   "cell_type": "markdown",
   "metadata": {},
   "source": [
    "# Old Bathymetry (based on its mesh mask)"
   ]
  },
  {
   "cell_type": "code",
   "execution_count": 5,
   "metadata": {},
   "outputs": [],
   "source": [
    "oldmesh = nc.Dataset('/home/sallen/MEOPAR/grid/mesh_mask201702.nc')\n",
    "oldmbathy =oldmesh.variables['mbathy'][0,:,:] \n",
    "#used to calculate number of vertical ocean grid cells at each (i,j) (1=land point)\n",
    "oldgdepw = oldmesh.variables['gdepw_0'][0,:,:,:]\n",
    "oldsurface_tmask = oldmesh.variables['tmask'][0,0,:,:]\n",
    "oldsurface_tmask = np.abs(oldsurface_tmask-1)\n",
    "oldtmask = oldmesh.variables['tmask'][0,:,:,:]\n",
    "oldtmask = np.abs(oldtmask-1)\n",
    "oldmesh.close()"
   ]
  },
  {
   "cell_type": "markdown",
   "metadata": {},
   "source": [
    "# Restart Files to Get Tracers (TS and Biology)"
   ]
  },
  {
   "cell_type": "code",
   "execution_count": 6,
   "metadata": {},
   "outputs": [],
   "source": [
    "dataphys = nc.Dataset('/results2/SalishSea/nowcast-green.201905/31oct14/SalishSea_03021840_restart.nc')\n",
    "databio = nc.Dataset('/home/sallen/MEOPAR/ANALYSIS/analysis-susan/notebooks/Hindcast_202007/SalishSea_ZCil_lowNSi_03021840_restart_trc.nc')"
   ]
  },
  {
   "cell_type": "code",
   "execution_count": 7,
   "metadata": {},
   "outputs": [
    {
     "name": "stdout",
     "output_type": "stream",
     "text": [
      "TRNDON\n",
      "TRNMICZ\n",
      "TRNMYRI\n",
      "TRNNH4\n",
      "TRNNO3\n",
      "TRNTRA\n",
      "TRNPHY\n",
      "TRNDIAT\n",
      "TRNPON\n",
      "TRNSi\n",
      "TRNbSi\n",
      "TRNDIC\n",
      "TRNTA\n",
      "TRNO2\n",
      "TRBDON\n",
      "TRBMICZ\n",
      "TRBMYRI\n",
      "TRBNH4\n",
      "TRBNO3\n",
      "TRBTRA\n",
      "TRBPHY\n",
      "TRBDIAT\n",
      "TRBPON\n",
      "TRBSi\n",
      "TRBbSi\n",
      "TRBDIC\n",
      "TRBTA\n",
      "TRBO2\n"
     ]
    }
   ],
   "source": [
    "physical = ['tn', 'sn',\n",
    "           'tb', 'sb']\n",
    "biological = ['TRNDON', 'TRNMICZ','TRNMYRI','TRNNH4','TRNNO3','TRNTRA',\n",
    "              'TRNPHY','TRNDIAT','TRNPON','TRNSi','TRNbSi',\n",
    "              'TRNDIC', 'TRNTA', 'TRNO2',\n",
    "             'TRBDON', 'TRBMICZ','TRBMYRI','TRBNH4','TRBNO3','TRBTRA',\n",
    "              'TRBPHY','TRBDIAT','TRBPON','TRBSi','TRBbSi',\n",
    "             'TRBDIC', 'TRBTA', 'TRBO2',]\n",
    "varas = {}\n",
    "for vb in physical:\n",
    "    varas[vb] = dataphys.variables[vb][0, :]\n",
    "for vb in biological:\n",
    "    print (vb)\n",
    "    varas[vb] = databio.variables[vb][0, :]\n",
    "dataphys.close()\n",
    "databio.close()\n",
    "varall = physical + biological\n"
   ]
  },
  {
   "cell_type": "markdown",
   "metadata": {},
   "source": [
    "# Fill in any Missing Data Points"
   ]
  },
  {
   "cell_type": "code",
   "execution_count": 8,
   "metadata": {},
   "outputs": [],
   "source": [
    "def find_mean(varas, varall, i, j, k, dd, oldtmask):\n",
    "    for vb in varall:\n",
    "        imin = max(i-dd, 0)\n",
    "        imax = min(i+dd, 897)\n",
    "        jmin = max(j-dd, 0)\n",
    "        jmax = min(j+dd, 397)\n",
    "        temporary = np.sum(varas[vb][k, imin:imax+1, jmin:jmax+1]*(1-oldtmask[k, imin:imax+1, jmin:jmax+1]))\n",
    "        count = np.sum(1-oldtmask[k, imin:imax+1, jmin:jmax+1])\n",
    "        if count == 0:\n",
    "            varas[vb][k, i, j] = 0\n",
    "        else:\n",
    "            varas[vb][k, i, j] = temporary/count\n",
    "    return varas"
   ]
  },
  {
   "cell_type": "code",
   "execution_count": 12,
   "metadata": {},
   "outputs": [],
   "source": [
    "def fillit(kmax, oldtmask, varas, varall):\n",
    "    dd = 1\n",
    "    bad = 1\n",
    "    while bad > 0:\n",
    "        dd += 1\n",
    "        good = 1\n",
    "        while good > 0:\n",
    "            good = 0; bad = 0; already = 0\n",
    "            for k in range(kmax+1):\n",
    "                for i in range(1, 898):\n",
    "                    for j in range(1, 398):\n",
    "                        if tmask[k,i,j] < oldtmask[k,i,j]:\n",
    "                            if varas['sn'][k, i, j] > 0:\n",
    "                                already = already + 1\n",
    "                            else:\n",
    "                                varas = find_mean(varas, varall, i, j, k, dd, oldtmask)\n",
    "                                if varas['sn'][k, i, j] > 0:\n",
    "                                    good = good + 1\n",
    "                                else:\n",
    "                                    bad = bad + 1\n",
    "                                    if dd > 5:\n",
    "                                        print (k, i, j)\n",
    "            print ('dd', dd, 'good', good)\n",
    "            print ('already', already, 'bad', bad)\n",
    "            \n",
    "\n"
   ]
  },
  {
   "cell_type": "markdown",
   "metadata": {},
   "source": [
    "This can take a very long time if the bathymetries are very different, aka add a new long river.  If you want you can do it in pieces by starting with the first argument at say 5 and then slowly increasing it.  You do need to go to 39 finally. For new bathy201702 versus old bathy201702 its fast."
   ]
  },
  {
   "cell_type": "code",
   "execution_count": 17,
   "metadata": {},
   "outputs": [
    {
     "name": "stdout",
     "output_type": "stream",
     "text": [
      "dd 2 good 1\n",
      "already 1967 bad 0\n",
      "dd 2 good 0\n",
      "already 1968 bad 0\n"
     ]
    }
   ],
   "source": [
    "fillit(39, oldtmask, varas, varall)"
   ]
  },
  {
   "cell_type": "markdown",
   "metadata": {},
   "source": [
    "# Write your Initial File"
   ]
  },
  {
   "cell_type": "code",
   "execution_count": 18,
   "metadata": {},
   "outputs": [
    {
     "name": "stdout",
     "output_type": "stream",
     "text": [
      "file format: NETCDF4\n",
      "Conventions: CF-1.6\n",
      "title: All tracers for Bathymetry 202108 from nowcast-green 31oct14, with N and Si inc.\n",
      "institution: Dept of Earth, Ocean & Atmospheric Sciences, University of British Columbia\n",
      "source: REQUIRED\n",
      "references: REQUIRED\n",
      "history: [2021-08-09 14:16:44] Created netCDF4 zlib=True dataset.\n",
      "comment: All Tracers, physical and biological\n"
     ]
    },
    {
     "data": {
      "text/plain": [
       "<class 'netCDF4._netCDF4.Dimension'> (unlimited): name = 'time_counter', size = 0"
      ]
     },
     "execution_count": 18,
     "metadata": {},
     "output_type": "execute_result"
    }
   ],
   "source": [
    "# build nc file\n",
    "new_initialfile = nc.Dataset('Bathy202108_31oct14.nc', 'w')\n",
    "nc_tools.init_dataset_attrs(\n",
    "    new_initialfile, \n",
    "    title='All tracers for Bathymetry 202108 from nowcast-green 31oct14, with N and Si inc.', \n",
    "    notebook_name='tools/I_ForcingFiles/Initial/Initial_from_Restart_Bathy202108', \n",
    "    nc_filepath='grid/Bathy202108_31oct14.nc',\n",
    "    comment='All Tracers, physical and biological')\n",
    "new_initialfile.createDimension('y', 898)\n",
    "new_initialfile.createDimension('x', 398)\n",
    "new_initialfile.createDimension('deptht', 40)\n",
    "new_initialfile.createDimension('time_counter', None)"
   ]
  },
  {
   "cell_type": "code",
   "execution_count": 19,
   "metadata": {},
   "outputs": [
    {
     "name": "stdout",
     "output_type": "stream",
     "text": [
      "tn 16.5625\n",
      "sn 33.625\n",
      "tb 16.5625\n",
      "sb 33.625\n",
      "TRNDON 0.375\n",
      "TRNMICZ 0.1875\n",
      "TRNMYRI 0.0\n",
      "TRNNH4 4.25\n",
      "TRNNO3 38.5\n",
      "TRNTRA 12.25\n",
      "TRNPHY 0.1875\n",
      "TRNDIAT 0.1875\n",
      "TRNPON 0.125\n",
      "TRNSi 92.125\n",
      "TRNbSi 7.3125\n",
      "TRNDIC 2300.625\n",
      "TRNTA 2300.5\n",
      "TRNO2 300.4375\n",
      "TRBDON 0.375\n",
      "TRBMICZ 0.1875\n",
      "TRBMYRI 0.0\n",
      "TRBNH4 4.25\n",
      "TRBNO3 38.5\n",
      "TRBTRA 12.25\n",
      "TRBPHY 0.1875\n",
      "TRBDIAT 0.1875\n",
      "TRBPON 0.125\n",
      "TRBSi 92.125\n",
      "TRBbSi 7.3125\n",
      "TRBDIC 2300.625\n",
      "TRBTA 2300.5\n",
      "TRBO2 300.4375\n"
     ]
    },
    {
     "data": {
      "text/plain": [
       "<class 'netCDF4._netCDF4.Dataset'>\n",
       "root group (NETCDF4 data model, file format HDF5):\n",
       "    Conventions: CF-1.6\n",
       "    title: All tracers for Bathymetry 202108 from nowcast-green 31oct14, with N and Si inc.\n",
       "    institution: Dept of Earth, Ocean & Atmospheric Sciences, University of British Columbia\n",
       "    source: REQUIRED\n",
       "    references: REQUIRED\n",
       "    history: [2021-08-09 14:16:44] Created netCDF4 zlib=True dataset.\n",
       "    comment: All Tracers, physical and biological\n",
       "    dimensions(sizes): y(898), x(398), deptht(40), time_counter(1)\n",
       "    variables(dimensions): float32 tn(time_counter, deptht, y, x), float32 sn(time_counter, deptht, y, x), float32 tb(time_counter, deptht, y, x), float32 sb(time_counter, deptht, y, x), float32 TRNDON(time_counter, deptht, y, x), float32 TRNMICZ(time_counter, deptht, y, x), float32 TRNMYRI(time_counter, deptht, y, x), float32 TRNNH4(time_counter, deptht, y, x), float32 TRNNO3(time_counter, deptht, y, x), float32 TRNTRA(time_counter, deptht, y, x), float32 TRNPHY(time_counter, deptht, y, x), float32 TRNDIAT(time_counter, deptht, y, x), float32 TRNPON(time_counter, deptht, y, x), float32 TRNSi(time_counter, deptht, y, x), float32 TRNbSi(time_counter, deptht, y, x), float32 TRNDIC(time_counter, deptht, y, x), float32 TRNTA(time_counter, deptht, y, x), float32 TRNO2(time_counter, deptht, y, x), float32 TRBDON(time_counter, deptht, y, x), float32 TRBMICZ(time_counter, deptht, y, x), float32 TRBMYRI(time_counter, deptht, y, x), float32 TRBNH4(time_counter, deptht, y, x), float32 TRBNO3(time_counter, deptht, y, x), float32 TRBTRA(time_counter, deptht, y, x), float32 TRBPHY(time_counter, deptht, y, x), float32 TRBDIAT(time_counter, deptht, y, x), float32 TRBPON(time_counter, deptht, y, x), float32 TRBSi(time_counter, deptht, y, x), float32 TRBbSi(time_counter, deptht, y, x), float32 TRBDIC(time_counter, deptht, y, x), float32 TRBTA(time_counter, deptht, y, x), float32 TRBO2(time_counter, deptht, y, x)\n",
       "    groups: "
      ]
     },
     "execution_count": 19,
     "metadata": {},
     "output_type": "execute_result"
    }
   ],
   "source": [
    "thevara = {}\n",
    "for vb in varall:\n",
    "    thevara[vb] = new_initialfile.createVariable(\n",
    "        vb, 'float32', ('time_counter', 'deptht', 'y', 'x'), zlib=True,\n",
    "        least_significant_digit=1e-5, fill_value=-99)\n",
    "    thevara[vb][0] = varas[vb]\n",
    "    print (vb, np.max(thevara[vb]))\n",
    "new_initialfile"
   ]
  },
  {
   "cell_type": "code",
   "execution_count": 20,
   "metadata": {},
   "outputs": [],
   "source": [
    "new_initialfile.close()"
   ]
  },
  {
   "cell_type": "code",
   "execution_count": null,
   "metadata": {
    "collapsed": true,
    "jupyter": {
     "outputs_hidden": true
    }
   },
   "outputs": [],
   "source": []
  }
 ],
 "metadata": {
  "anaconda-cloud": {},
  "kernelspec": {
   "display_name": "py39",
   "language": "python",
   "name": "py39"
  },
  "language_info": {
   "codemirror_mode": {
    "name": "ipython",
    "version": 3
   },
   "file_extension": ".py",
   "mimetype": "text/x-python",
   "name": "python",
   "nbconvert_exporter": "python",
   "pygments_lexer": "ipython3",
   "version": "3.9.2"
  },
  "toc": {
   "colors": {
    "hover_highlight": "#DAA520",
    "running_highlight": "#FF0000",
    "selected_highlight": "#FFD700"
   },
   "moveMenuLeft": true,
   "nav_menu": {
    "height": "12px",
    "width": "252px"
   },
   "navigate_menu": true,
   "number_sections": true,
   "sideBar": true,
   "threshold": 4,
   "toc_cell": false,
   "toc_section_display": "block",
   "toc_window_display": true,
   "widenNotebook": false
  }
 },
 "nbformat": 4,
 "nbformat_minor": 4
}
