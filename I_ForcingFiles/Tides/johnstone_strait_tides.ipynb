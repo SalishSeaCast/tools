{
 "metadata": {
  "name": ""
 },
 "nbformat": 3,
 "nbformat_minor": 0,
 "worksheets": [
  {
   "cells": [
    {
     "cell_type": "code",
     "collapsed": false,
     "input": [
      "#from Table 2, Thomson & Huggett (1980)\n",
      "#Tidal height harmonics\n",
      "\n",
      "TGS_Jun = {'O1amp':0.3249,'O1pha_PST':130.3,\n",
      "           'K1amp':0.5491,'K1pha_PST':138.9,\n",
      "           'M2amp':1.2196,'M2pha_PST':37.3,\n",
      "           'S2amp':0.3966,'S2pha_PST':56.6}\n",
      "\n",
      "TGN_Jun = {'O1amp':0.3250,'O1pha_PST':129.4,\n",
      "           'K1amp':0.5504,'K1pha_PST':138.5,\n",
      "           'M2amp':1.2086,'M2pha_PST':36.8,\n",
      "           'S2amp':0.3931,'S2pha_PST':56.6}\n",
      "\n",
      "TGW_Jan = {'O1amp':0.3161,'O1pha_PST':127.5,\n",
      "           'K1amp':0.5466,'K1pha_PST':138.7,\n",
      "           'M2amp':1.2453,'M2pha_PST':28.8,\n",
      "           'S2amp':0.4504,'S2pha_PST':51.2}\n",
      "\n",
      "TGS_Feb = {'O1amp':0.3198,'O1pha_PST':126.8,\n",
      "           'K1amp':0.5696,'K1pha_PST':139.4,\n",
      "           'M2amp':1.2218,'M2pha_PST':37.5,\n",
      "           'S2amp':0.4474,'S2pha_PST':59.1}\n",
      "\n",
      "TGE_Feb = {'O1amp':0.3376,'O1pha_PST':127.5,\n",
      "           'K1amp':0.5881,'K1pha_PST':140.8,\n",
      "           'M2amp':1.1690,'M2pha_PST':41.1,\n",
      "           'S2amp':0.4368,'S2pha_PST':62.1}\n"
     ],
     "language": "python",
     "metadata": {},
     "outputs": [],
     "prompt_number": 13
    },
    {
     "cell_type": "code",
     "collapsed": false,
     "input": [
      "#need to convert phases from relative to 120 degrees W to GMT\n",
      "#for this conversion, we need to use the frequency of each component (in hours)\n",
      "freqs = {'M2':12.42, 'S2':12.00, 'O1':25.82, 'K1':23.93}"
     ],
     "language": "python",
     "metadata": {},
     "outputs": [],
     "prompt_number": 14
    },
    {
     "cell_type": "code",
     "collapsed": false,
     "input": [
      "#For details, see Manual for Tide Heights Analysis and Prediction by M.G.G. Foreman, \n",
      "#Pacific Marine Science Report 77-10, IOS, 1977 (Revised 2004), \n",
      "#Section 2.3.1 Astronomical argument and Greenwich phase lag\n",
      "# available here: ftp://canuck.seos.uvic.ca/docs/MFTides/heights.pdf\n",
      "# or here: http://www.pac.dfo-mpo.gc.ca/science/oceans/tidal-marees/index-eng.html\n",
      "\n",
      "#Now, 120 degrees W (Pacific Standard Time) is 8 hours different to GMT \n",
      "# (WHAT ABOUT DAYLIGHT SAVINGS!!!! I'm ignoring it here...)\n",
      "\n",
      "#So to convert M2 phase from PST to GMT:\n",
      "#      GMT_pha = PST_pha - (-8hours)(1/12.42hours)*360degrees\n",
      "\n",
      "#TGS_Jun\n",
      "TGS_Jun['O1pha_GMT'] = TGS_Jun['O1pha_PST']-(-8.0)*(1.0/freqs['O1'])*360\n",
      "TGS_Jun['K1pha_GMT'] = TGS_Jun['K1pha_PST']-(-8.0)*(1.0/freqs['K1'])*360\n",
      "TGS_Jun['M2pha_GMT'] = TGS_Jun['M2pha_PST']-(-8.0)*(1.0/freqs['M2'])*360\n",
      "TGS_Jun['S2pha_GMT'] = TGS_Jun['S2pha_PST']-(-8.0)*(1.0/freqs['S2'])*360\n",
      "\n",
      "#TGN_Jun\n",
      "TGN_Jun['O1pha_GMT'] = TGN_Jun['O1pha_PST']-(-8.0)*(1.0/freqs['O1'])*360\n",
      "TGN_Jun['K1pha_GMT'] = TGN_Jun['K1pha_PST']-(-8.0)*(1.0/freqs['K1'])*360\n",
      "TGN_Jun['M2pha_GMT'] = TGN_Jun['M2pha_PST']-(-8.0)*(1.0/freqs['M2'])*360\n",
      "TGN_Jun['S2pha_GMT'] = TGN_Jun['S2pha_PST']-(-8.0)*(1.0/freqs['S2'])*360\n",
      "\n",
      "#TGW_Jan\n",
      "TGW_Jan['O1pha_GMT'] = TGW_Jan['O1pha_PST']-(-8.0)*(1.0/freqs['O1'])*360\n",
      "TGW_Jan['K1pha_GMT'] = TGW_Jan['K1pha_PST']-(-8.0)*(1.0/freqs['K1'])*360\n",
      "TGW_Jan['M2pha_GMT'] = TGW_Jan['M2pha_PST']-(-8.0)*(1.0/freqs['M2'])*360\n",
      "TGW_Jan['S2pha_GMT'] = TGW_Jan['S2pha_PST']-(-8.0)*(1.0/freqs['S2'])*360\n",
      "\n",
      "#TGS_Feb\n",
      "TGS_Feb['O1pha_GMT'] = TGS_Feb['O1pha_PST']-(-8.0)*(1.0/freqs['O1'])*360\n",
      "TGS_Feb['K1pha_GMT'] = TGS_Feb['K1pha_PST']-(-8.0)*(1.0/freqs['K1'])*360\n",
      "TGS_Feb['M2pha_GMT'] = TGS_Feb['M2pha_PST']-(-8.0)*(1.0/freqs['M2'])*360\n",
      "TGS_Feb['S2pha_GMT'] = TGS_Feb['S2pha_PST']-(-8.0)*(1.0/freqs['S2'])*360\n",
      "\n",
      "#TGE_Feb\n",
      "TGE_Feb['O1pha_GMT'] = TGE_Feb['O1pha_PST']-(-8.0)*(1.0/freqs['O1'])*360\n",
      "TGE_Feb['K1pha_GMT'] = TGE_Feb['K1pha_PST']-(-8.0)*(1.0/freqs['K1'])*360\n",
      "TGE_Feb['M2pha_GMT'] = TGE_Feb['M2pha_PST']-(-8.0)*(1.0/freqs['M2'])*360\n",
      "TGE_Feb['S2pha_GMT'] = TGE_Feb['S2pha_PST']-(-8.0)*(1.0/freqs['S2'])*360\n"
     ],
     "language": "python",
     "metadata": {},
     "outputs": [],
     "prompt_number": 24
    },
    {
     "cell_type": "code",
     "collapsed": false,
     "input": [],
     "language": "python",
     "metadata": {},
     "outputs": []
    }
   ],
   "metadata": {}
  }
 ]
}