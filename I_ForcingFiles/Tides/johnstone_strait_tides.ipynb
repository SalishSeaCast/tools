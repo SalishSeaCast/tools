{
 "cells": [
  {
   "cell_type": "markdown",
   "metadata": {},
   "source": [
    "Make tidal boundary conditions for the Northern boundary in Johnstone Strait. Use data from Webtide and from Thomson & Huggett (1980) to make netcdf input files.\n",
    "\n",
    "Edited by Nancy in March, 2014. Modified measured grid rotation ($129^\\circ$ instead of $-51^\\circ$) and error in S2 elevation calculation.\n",
    "\n",
    "Edited by Susan in April, 2014.  Modified grid rotation to rotate versus across grid rather than up grid.  Corrects phases of currents."
   ]
  },
  {
   "cell_type": "code",
   "execution_count": 1,
   "metadata": {
    "collapsed": false
   },
   "outputs": [],
   "source": [
    "%matplotlib inline\n",
    "import matplotlib.pyplot as plt\n",
    "import webtide_tools"
   ]
  },
  {
   "cell_type": "code",
   "execution_count": 2,
   "metadata": {
    "collapsed": false
   },
   "outputs": [],
   "source": [
    "#from Table 2, Thomson & Huggett (1980)\n",
    "#Tidal height harmonics\n",
    "#lats and lons found by estimating locations shown in Fig 4 with Google Maps\n",
    "\n",
    "TGS_Jun = {'O1amp':0.3249,'O1pha_PST':130.3,\n",
    "           'K1amp':0.5491,'K1pha_PST':138.9,\n",
    "           'M2amp':1.2196,'M2pha_PST':37.3,\n",
    "           'S2amp':0.3966,'S2pha_PST':56.6,\n",
    "           'Lat':50.470945,'Lon':-126.23826}\n",
    "\n",
    "TGN_Jun = {'O1amp':0.3250,'O1pha_PST':129.4,\n",
    "           'K1amp':0.5504,'K1pha_PST':138.5,\n",
    "           'M2amp':1.2086,'M2pha_PST':36.8,\n",
    "           'S2amp':0.3931,'S2pha_PST':56.6,\n",
    "           'Lat':50.498579,'Lon':-126.213026}\n",
    "\n",
    "TGW_Jan = {'O1amp':0.3161,'O1pha_PST':127.5,\n",
    "           'K1amp':0.5466,'K1pha_PST':138.7,\n",
    "           'M2amp':1.2453,'M2pha_PST':28.8,\n",
    "           'S2amp':0.4504,'S2pha_PST':51.2,\n",
    "           'Lat':50.574707,'Lon':-126.790431}\n",
    "\n",
    "TGS_Feb = {'O1amp':0.3198,'O1pha_PST':126.8,\n",
    "           'K1amp':0.5696,'K1pha_PST':139.4,\n",
    "           'M2amp':1.2218,'M2pha_PST':37.5,\n",
    "           'S2amp':0.4474,'S2pha_PST':59.1,\n",
    "           'Lat':50.470945,'Lon':-126.23826}\n",
    "\n",
    "TGE_Feb = {'O1amp':0.3376,'O1pha_PST':127.5,\n",
    "           'K1amp':0.5881,'K1pha_PST':140.8,\n",
    "           'M2amp':1.1690,'M2pha_PST':41.1,\n",
    "           'S2amp':0.4368,'S2pha_PST':62.1,\n",
    "           'Lat':50.442638,'Lon':-125.97064}\n"
   ]
  },
  {
   "cell_type": "code",
   "execution_count": 3,
   "metadata": {
    "collapsed": false
   },
   "outputs": [],
   "source": [
    "#need to convert phases from relative to 120 degrees W to GMT\n",
    "#for this conversion, we need to use the frequency of each component (in hours)\n",
    "freqs = {'M2':12.42, 'S2':12.00, 'O1':25.82, 'K1':23.93}"
   ]
  },
  {
   "cell_type": "code",
   "execution_count": 4,
   "metadata": {
    "collapsed": false
   },
   "outputs": [],
   "source": [
    "#For details, see Manual for Tide Heights Analysis and Prediction by M.G.G. Foreman, \n",
    "#Pacific Marine Science Report 77-10, IOS, 1977 (Revised 2004), \n",
    "#Section 2.3.1 Astronomical argument and Greenwich phase lag\n",
    "# available here: ftp://canuck.seos.uvic.ca/docs/MFTides/heights.pdf\n",
    "# or here: http://www.pac.dfo-mpo.gc.ca/science/oceans/tidal-marees/index-eng.html\n",
    "\n",
    "#Now, 120 degrees W (Pacific Standard Time) is 8 hours different to GMT \n",
    "#So to convert M2 phase from PST to GMT:\n",
    "#      GMT_pha = PST_pha - (-8hours)*(1/12.42hours)*360degrees\n",
    "\n",
    "#TGS_Jun\n",
    "TGS_Jun['O1pha_GMT'] = TGS_Jun['O1pha_PST']-(-8.0)*(1.0/freqs['O1'])*360\n",
    "TGS_Jun['K1pha_GMT'] = TGS_Jun['K1pha_PST']-(-8.0)*(1.0/freqs['K1'])*360\n",
    "TGS_Jun['M2pha_GMT'] = TGS_Jun['M2pha_PST']-(-8.0)*(1.0/freqs['M2'])*360\n",
    "TGS_Jun['S2pha_GMT'] = TGS_Jun['S2pha_PST']-(-8.0)*(1.0/freqs['S2'])*360\n",
    "\n",
    "#TGN_Jun\n",
    "TGN_Jun['O1pha_GMT'] = TGN_Jun['O1pha_PST']-(-8.0)*(1.0/freqs['O1'])*360\n",
    "TGN_Jun['K1pha_GMT'] = TGN_Jun['K1pha_PST']-(-8.0)*(1.0/freqs['K1'])*360\n",
    "TGN_Jun['M2pha_GMT'] = TGN_Jun['M2pha_PST']-(-8.0)*(1.0/freqs['M2'])*360\n",
    "TGN_Jun['S2pha_GMT'] = TGN_Jun['S2pha_PST']-(-8.0)*(1.0/freqs['S2'])*360\n",
    "\n",
    "#TGW_Jan\n",
    "TGW_Jan['O1pha_GMT'] = TGW_Jan['O1pha_PST']-(-8.0)*(1.0/freqs['O1'])*360\n",
    "TGW_Jan['K1pha_GMT'] = TGW_Jan['K1pha_PST']-(-8.0)*(1.0/freqs['K1'])*360\n",
    "TGW_Jan['M2pha_GMT'] = TGW_Jan['M2pha_PST']-(-8.0)*(1.0/freqs['M2'])*360\n",
    "TGW_Jan['S2pha_GMT'] = TGW_Jan['S2pha_PST']-(-8.0)*(1.0/freqs['S2'])*360\n",
    "\n",
    "#TGS_Feb\n",
    "TGS_Feb['O1pha_GMT'] = TGS_Feb['O1pha_PST']-(-8.0)*(1.0/freqs['O1'])*360\n",
    "TGS_Feb['K1pha_GMT'] = TGS_Feb['K1pha_PST']-(-8.0)*(1.0/freqs['K1'])*360\n",
    "TGS_Feb['M2pha_GMT'] = TGS_Feb['M2pha_PST']-(-8.0)*(1.0/freqs['M2'])*360\n",
    "TGS_Feb['S2pha_GMT'] = TGS_Feb['S2pha_PST']-(-8.0)*(1.0/freqs['S2'])*360\n",
    "\n",
    "#TGE_Feb\n",
    "TGE_Feb['O1pha_GMT'] = TGE_Feb['O1pha_PST']-(-8.0)*(1.0/freqs['O1'])*360\n",
    "TGE_Feb['K1pha_GMT'] = TGE_Feb['K1pha_PST']-(-8.0)*(1.0/freqs['K1'])*360\n",
    "TGE_Feb['M2pha_GMT'] = TGE_Feb['M2pha_PST']-(-8.0)*(1.0/freqs['M2'])*360\n",
    "TGE_Feb['S2pha_GMT'] = TGE_Feb['S2pha_PST']-(-8.0)*(1.0/freqs['S2'])*360\n"
   ]
  },
  {
   "cell_type": "code",
   "execution_count": 5,
   "metadata": {
    "collapsed": false
   },
   "outputs": [
    {
     "name": "stdout",
     "output_type": "stream",
     "text": [
      "             Longitude   Latitude       amp         pha\n",
      "Constituent                                            \n",
      "O1           -126.7717  50.556435  0.311897  242.711639\n",
      "P1           -126.7717  50.556435  0.161873  256.887977\n",
      "Q1           -126.7717  50.556435  0.051117  232.075989\n",
      "K1           -126.7717  50.556435  0.522911  260.110718\n",
      "K2           -126.7717  50.556435  0.104906  283.723050\n",
      "N2           -126.7717  50.556435  0.260498  240.832452\n",
      "M2           -126.7717  50.556435  1.253263  263.723173\n",
      "S2           -126.7717  50.556435  0.358527  292.054419\n"
     ]
    }
   ],
   "source": [
    "#Compare the harmonics to Webtide harmonics at 50.556435 deg N, -126.7717 deg W\n",
    "import pandas\n",
    "#webtide = pandas.read_csv('/ocean/klesouef/meopar/tools/I_ForcingFiles/Tides/webtide_point_johnstone_strait.csv',\n",
    "                          #index_col=0,skiprows=2)\n",
    "webtide = pandas.read_csv('webtide_point_johnstone_strait.csv',\n",
    "                          index_col=0,skiprows=2)\n",
    "webtide = webtide.rename(columns={'Amplitude (m)':'amp','Phase (deg GMT)':'pha'})\n",
    "print webtide\n"
   ]
  },
  {
   "cell_type": "code",
   "execution_count": 6,
   "metadata": {
    "collapsed": false
   },
   "outputs": [
    {
     "data": {
      "text/plain": [
       "<matplotlib.text.Text at 0x7fa042a164d0>"
      ]
     },
     "execution_count": 6,
     "metadata": {},
     "output_type": "execute_result"
    },
    {
     "data": {
      "image/png": "[encoded data removed]",
      "text/plain": [
       "<matplotlib.figure.Figure at 0x7fa042a9bd90>"
      ]
     },
     "metadata": {},
     "output_type": "display_data"
    }
   ],
   "source": [
    "#Plot them to check how it looks\n",
    "#the channel is mostly aligned east-west, so plot along the channel\n",
    "plt.figure(figsize=[9,5])\n",
    "pha = 'M2pha_GMT','O1pha_GMT','K1pha_GMT','S2pha_GMT'\n",
    "cols = 'r','b','m','k','g'\n",
    "marks = '>','^','*','d'\n",
    "\n",
    "for t in range(0,len(pha)):\n",
    "    plt.plot([TGW_Jan['Lon'],TGS_Feb['Lon'],TGS_Jun['Lon'],TGN_Jun['Lon'],TGE_Feb['Lon']],\n",
    "             [TGW_Jan[pha[t]],TGS_Feb[pha[t]],TGS_Jun[pha[t]],TGN_Jun[pha[t]],TGE_Feb[pha[t]]],\n",
    "             cols[t],marker=marks[t],markersize=8,linestyle='none')\n",
    "pha = 'M2','O1','K1','S2'\n",
    "nums = [6,0,3,7]\n",
    "marknum = 0\n",
    "for t in nums:\n",
    "    plt.plot(webtide['Longitude'][t],webtide.pha[t],color='green',marker=marks[marknum],markersize=8,linestyle='none')\n",
    "    marknum = marknum+1\n",
    "plt.xlim((-127, -125.5))\n",
    "plt.xlabel('Longitude (deg W)')\n",
    "plt.ylabel('Phase (deg GMT)')\n",
    "plt.legend(('M2pha_GMT','O1pha_GMT','K1pha_GMT','S2pha_GMT'),loc=4)\n",
    "plt.title('Phase lag for measured and Webtide points')\n"
   ]
  },
  {
   "cell_type": "code",
   "execution_count": 7,
   "metadata": {
    "collapsed": false
   },
   "outputs": [
    {
     "data": {
      "text/plain": [
       "<matplotlib.text.Text at 0x7fa042977cd0>"
      ]
     },
     "execution_count": 7,
     "metadata": {},
     "output_type": "execute_result"
    },
    {
     "data": {
      "image/png": "[encoded data removed]",
      "text/plain": [
       "<matplotlib.figure.Figure at 0x7fa0429f3b90>"
      ]
     },
     "metadata": {},
     "output_type": "display_data"
    }
   ],
   "source": [
    "#Plot them to check how it looks\n",
    "#the channel is mostly aligned east-west, so plot along the channel\n",
    "plt.figure(figsize=[9,5])\n",
    "amp = 'M2amp','O1amp','K1amp','S2amp'\n",
    "cols = 'r','b','m','k','g'\n",
    "marks = '>','^','*','d'\n",
    "\n",
    "for t in range(0,len(pha)):\n",
    "    plt.plot([TGW_Jan['Lon'],TGS_Feb['Lon'],TGS_Jun['Lon'],TGN_Jun['Lon'],TGE_Feb['Lon']],\n",
    "             [TGW_Jan[amp[t]],TGS_Feb[amp[t]],TGS_Jun[amp[t]],TGN_Jun[amp[t]],TGE_Feb[amp[t]]],\n",
    "             cols[t],marker=marks[t],markersize=8,linestyle='none')\n",
    "amp = 'M2','O1','K1','S2'\n",
    "nums = [6,0,3,7]\n",
    "marknum = 0\n",
    "for t in nums:\n",
    "    plt.plot(webtide['Longitude'][t],webtide.amp[t],color='green',marker=marks[marknum],markersize=8,linestyle='none')\n",
    "    marknum = marknum+1\n",
    "plt.xlim((-127, -125.5))\n",
    "plt.xlabel('Longitude (deg W)')\n",
    "plt.ylabel('Amplitude (cm)')\n",
    "plt.legend(('M2amp','O1amp','K1amp','S2amp'),loc=4)\n",
    "plt.title('Amplitude for measured and Webtide points')\n"
   ]
  },
  {
   "cell_type": "code",
   "execution_count": 8,
   "metadata": {
    "collapsed": false
   },
   "outputs": [
    {
     "name": "stdout",
     "output_type": "stream",
     "text": [
      "    Station  depth     U  angle  k1amp  k1pha_PST  m2amp  m2pha_PST\n",
      "0         1    120   3.0    145    5.3      170.2   28.4       11.9\n",
      "1         2     15  26.7    175    7.2      100.5   23.6       34.7\n",
      "2         2     15  23.6    174   11.0       88.6   21.8       40.8\n",
      "3         2     75  13.5    167    8.4       94.5   23.8       38.3\n",
      "4         2     75  15.0    170   12.5       83.0   22.2       50.7\n",
      "5         2    150   6.6    333   10.6       58.5   35.6       45.1\n",
      "6         2    150   7.3    344   15.9       39.8   36.9       47.2\n",
      "7         2    225  11.8    350   13.1       24.9   49.0       38.7\n",
      "8         2    295   7.4    351    9.7       19.4   33.2       38.3\n",
      "9         3     15  24.2    163    6.8       74.3   31.4       29.7\n",
      "10        3     15  23.8    176    NaN        NaN   25.6       37.3\n",
      "11        3     20  26.4    179    8.1       87.6   25.2       34.5\n",
      "12        3     23  29.6    176    7.4       94.6   28.0       32.4\n",
      "13        3     23  23.1    172    6.3       82.0   28.4       34.2\n",
      "14        3     75  14.7    171    7.4       92.4   24.0       34.3\n",
      "15        3    150  13.3    338   15.3       28.4   40.2       42.3\n",
      "16        3    200  15.8    349   10.9       24.5   44.1       40.7\n",
      "17        3    225  19.0    358   14.1       26.7   50.3       38.6\n",
      "18        3    225  17.9    357   18.3        9.0   46.7       37.6\n",
      "19        3    250  19.5    353   18.0        4.1   46.9       36.4\n",
      "20        3    275  14.6    348   16.2       47.1   46.1       40.7\n",
      "21        3    275  16.4    351   12.3       16.8   47.3       41.4\n",
      "22        4     75   5.7    155   10.4       47.6   31.7       41.3\n",
      "23        4    150  11.1    353   15.5       14.9   44.2       39.0\n",
      "24        4    250  21.0    340   16.9       -1.4   50.8       34.6\n",
      "25        5     80   4.0    193    8.8       13.6   41.4       12.3\n"
     ]
    },
    {
     "name": "stderr",
     "output_type": "stream",
     "text": [
      "/homes/anu/sallen/anaconda/lib/python2.7/site-packages/IPython/kernel/__main__.py:7: SettingWithCopyWarning: \n",
      "A value is trying to be set on a copy of a slice from a DataFrame\n",
      "\n",
      "See the the caveats in the documentation: http://pandas.pydata.org/pandas-docs/stable/indexing.html#indexing-view-versus-copy\n",
      "/homes/anu/sallen/anaconda/lib/python2.7/site-packages/IPython/kernel/__main__.py:8: SettingWithCopyWarning: \n",
      "A value is trying to be set on a copy of a slice from a DataFrame\n",
      "\n",
      "See the the caveats in the documentation: http://pandas.pydata.org/pandas-docs/stable/indexing.html#indexing-view-versus-copy\n"
     ]
    }
   ],
   "source": [
    "#get the measured tidal currents in Johnstone Strait\n",
    "#table 1 of Thomson & Huggett (1980)\n",
    "#thomson = pandas.read_csv('/ocean/klesouef/meopar/tools/I_ForcingFiles/Tides/thomson_obs_1980_johnstone_strait.csv')\n",
    "thomson = pandas.read_csv('thomson_obs_1980_johnstone_strait.csv')\n",
    "thomson = thomson.rename(columns={'K1 amp (cm/s)':'k1amp','K1 phase (deg relative to 120deg W)':'k1pha_PST',\n",
    "                                  'M2 amp (cm/s)':'m2amp','M2 phase (deg relative to 120deg W)':'m2pha_PST',})\n",
    "thomson.k1amp[thomson.k1amp>100] = float('NaN')\n",
    "thomson.k1pha_PST[thomson.k1pha_PST>1000] = float('NaN')\n",
    "print thomson"
   ]
  },
  {
   "cell_type": "code",
   "execution_count": 9,
   "metadata": {
    "collapsed": false
   },
   "outputs": [
    {
     "name": "stdout",
     "output_type": "stream",
     "text": [
      "    Station  depth     U  angle  k1amp   k1pha_GMT  m2amp   m2pha_GMT\n",
      "0         1    120   3.0    145    5.3  290.551024   28.4  243.784058\n",
      "1         2     15  26.7    175    7.2  220.851024   23.6  266.584058\n",
      "2         2     15  23.6    174   11.0  208.951024   21.8  272.684058\n",
      "3         2     75  13.5    167    8.4  214.851024   23.8  270.184058\n",
      "4         2     75  15.0    170   12.5  203.351024   22.2  282.584058\n",
      "5         2    150   6.6    333   10.6  178.851024   35.6  276.984058\n",
      "6         2    150   7.3    344   15.9  160.151024   36.9  279.084058\n",
      "7         2    225  11.8    350   13.1  145.251024   49.0  270.584058\n",
      "8         2    295   7.4    351    9.7  139.751024   33.2  270.184058\n",
      "9         3     15  24.2    163    6.8  194.651024   31.4  261.584058\n",
      "10        3     15  23.8    176    NaN         NaN   25.6  269.184058\n",
      "11        3     20  26.4    179    8.1  207.951024   25.2  266.384058\n",
      "12        3     23  29.6    176    7.4  214.951024   28.0  264.284058\n",
      "13        3     23  23.1    172    6.3  202.351024   28.4  266.084058\n",
      "14        3     75  14.7    171    7.4  212.751024   24.0  266.184058\n",
      "15        3    150  13.3    338   15.3  148.751024   40.2  274.184058\n",
      "16        3    200  15.8    349   10.9  144.851024   44.1  272.584058\n",
      "17        3    225  19.0    358   14.1  147.051024   50.3  270.484058\n",
      "18        3    225  17.9    357   18.3  129.351024   46.7  269.484058\n",
      "19        3    250  19.5    353   18.0  124.451024   46.9  268.284058\n",
      "20        3    275  14.6    348   16.2  167.451024   46.1  272.584058\n",
      "21        3    275  16.4    351   12.3  137.151024   47.3  273.284058\n",
      "22        4     75   5.7    155   10.4  167.951024   31.7  273.184058\n",
      "23        4    150  11.1    353   15.5  135.251024   44.2  270.884058\n",
      "24        4    250  21.0    340   16.9  118.951024   50.8  266.484058\n",
      "25        5     80   4.0    193    8.8  133.951024   41.4  244.184058\n"
     ]
    }
   ],
   "source": [
    "#convert the GMT phase to PST phase and rename it to avoid confusion\n",
    "thomson.k1pha_PST = thomson.k1pha_PST-(-8.0)*(1.0/freqs['K1'])*360\n",
    "thomson.m2pha_PST = thomson.m2pha_PST-(-8.0)*(1.0/freqs['M2'])*360\n",
    "thomson = thomson.rename(columns={'k1pha_PST':'k1pha_GMT','m2pha_PST':'m2pha_GMT'})\n",
    "print thomson"
   ]
  },
  {
   "cell_type": "markdown",
   "metadata": {},
   "source": [
    "Plot the location of all measurements on our grid\n"
   ]
  },
  {
   "cell_type": "code",
   "execution_count": 12,
   "metadata": {
    "collapsed": false
   },
   "outputs": [
    {
     "data": {
      "text/plain": [
       "<matplotlib.text.Text at 0x7fa041533d10>"
      ]
     },
     "execution_count": 12,
     "metadata": {},
     "output_type": "execute_result"
    },
    {
     "data": {
      "image/png": "[encoded data removed]",
      "text/plain": [
       "<matplotlib.figure.Figure at 0x7fa0414af490>"
      ]
     },
     "metadata": {},
     "output_type": "display_data"
    }
   ],
   "source": [
    "import netCDF4 as NC\n",
    "#grid = NC.Dataset('/ocean/klesouef/meopar/nemo-forcing/grid/bathy_meter_SalishSea2.nc','r')\n",
    "#grid = NC.Dataset('../../../nemo-forcing/grid/bathy_meter_SalishSea2.nc','r')\n",
    "grid = NC.Dataset('../../../NEMO-forcing/grid/bathy_meter_SalishSea2.nc','r')\n",
    "bathy = grid.variables['Bathymetry']\n",
    "lat = grid.variables['nav_lat']\n",
    "lon = grid.variables['nav_lon']\n",
    "plt.figure(figsize=(12,9))\n",
    "plt.contourf(lon[:],lat[:],bathy[:],range(4,420))\n",
    "plt.xlim((-126.8,-125.4))\n",
    "plt.ylim((50.2,50.6))\n",
    "\n",
    "#I need the lat/long of each of the current measurement points\n",
    "#From Google Maps, I estimate the following locations:\n",
    "#Station 1\n",
    "plt.plot(-126.133747,50.482197,'m*',markersize=15)\n",
    "#Station 2\n",
    "plt.plot(-126.135936,50.478701,'m*',markersize=15)\n",
    "#Station 3\n",
    "plt.plot(-126.136451,50.472256,'m*',markersize=15)\n",
    "#Station 4\n",
    "plt.plot(-126.137567,50.464225,'m*',markersize=15)\n",
    "#Station 5\n",
    "plt.plot(-126.138554,50.458815,'m*',markersize=15)\n",
    "#Webtide point\n",
    "plt.plot(-126.7717,50.556435,'g*',markersize=15)\n",
    "#current measurement points\n",
    "plt.plot([TGW_Jan['Lon'],TGS_Feb['Lon'],TGS_Jun['Lon'],TGN_Jun['Lon'],TGE_Feb['Lon']],\n",
    "         [TGW_Jan['Lat'],TGS_Feb['Lat'],TGS_Jun['Lat'],TGN_Jun['Lat'],TGE_Feb['Lat']],'r*',markersize=15)\n",
    "\n",
    "#also mark the edge points\n",
    "import numpy as np\n",
    "i=np.array([897,897])\n",
    "j=np.array([37,48])\n",
    "plt.plot(lon[i,j],lat[i,j],'o')\n",
    "\n",
    "plt.title('Location of measurements around our grid')\n",
    "\n",
    "#so the current measurements are pretty much exactly at our boundary, YAY!\n",
    "#and the TGN and TGS stations are pretty close for the water elevation "
   ]
  },
  {
   "cell_type": "markdown",
   "metadata": {},
   "source": [
    "Now, we need to get depth integrated currents for putting into NEMO. Assume each current meter represents the water from halfway between it and the current meter above it, down to halfway between it and the current meter below it"
   ]
  },
  {
   "cell_type": "code",
   "execution_count": 13,
   "metadata": {
    "collapsed": false
   },
   "outputs": [
    {
     "data": {
      "text/plain": [
       "[<matplotlib.lines.Line2D at 0x7fa03be42d90>,\n",
       " <matplotlib.lines.Line2D at 0x7fa03bd30790>]"
      ]
     },
     "execution_count": 13,
     "metadata": {},
     "output_type": "execute_result"
    },
    {
     "data": {
      "image/png": "[encoded data removed]",
      "text/plain": [
       "<matplotlib.figure.Figure at 0x7fa03bf138d0>"
      ]
     },
     "metadata": {},
     "output_type": "display_data"
    },
    {
     "data": {
      "image/png": "[encoded data removed]",
      "text/plain": [
       "<matplotlib.figure.Figure at 0x7fa03be29290>"
      ]
     },
     "metadata": {},
     "output_type": "display_data"
    }
   ],
   "source": [
    "#for K1\n",
    "K1_amp_depth_int = np.zeros((5,1))\n",
    "K1_pha_depth_int = np.zeros((5,1))\n",
    "\n",
    "#Station 1: only one point, therefore this represents all depths\n",
    "K1_amp_depth_int[0,0] = thomson.k1amp[thomson.Station == 1]\n",
    "K1_pha_depth_int[0,0] = thomson.k1pha_GMT[thomson.Station == 1]\n",
    "\n",
    "#Station 2: depth integrate amplitude and phase\n",
    "K1_amp_depth_int[1,0] = np.sum([np.mean(thomson.k1amp[np.logical_and(thomson.Station == 2,thomson.depth == 15)])*45,\n",
    "                                np.mean(thomson.k1amp[np.logical_and(thomson.Station == 2,thomson.depth == 75)])*67.5,\n",
    "                                np.mean(thomson.k1amp[np.logical_and(thomson.Station == 2,thomson.depth == 150)])*75,\n",
    "                                np.mean(thomson.k1amp[np.logical_and(thomson.Station == 2,thomson.depth == 225)])*72.5,\n",
    "                                np.mean(thomson.k1amp[np.logical_and(thomson.Station == 2,thomson.depth == 295)])*40])/300.0\n",
    "K1_pha_depth_int[1,0]= np.sum([np.mean(thomson.k1pha_GMT[np.logical_and(thomson.Station == 2,thomson.depth == 15)])*45,\n",
    "                               np.mean(thomson.k1pha_GMT[np.logical_and(thomson.Station == 2,thomson.depth == 75)])*67.5,\n",
    "                               np.mean(thomson.k1pha_GMT[np.logical_and(thomson.Station == 2,thomson.depth == 150)])*75,\n",
    "                               np.mean(thomson.k1pha_GMT[np.logical_and(thomson.Station == 2,thomson.depth == 225)])*72.5,\n",
    "                               np.mean(thomson.k1pha_GMT[np.logical_and(thomson.Station == 2,thomson.depth == 295)])*40])/300.0\n",
    "\n",
    "#Station 3: depth integrate amplitude and phase\n",
    "K1_amp_depth_int[2,0] = np.sum([np.mean(thomson.k1amp[np.logical_and(thomson.Station == 3,thomson.depth == 15)])*17.5,\n",
    "                                np.mean(thomson.k1amp[np.logical_and(thomson.Station == 3,thomson.depth == 20)])*4,\n",
    "                                np.mean(thomson.k1amp[np.logical_and(thomson.Station == 3,thomson.depth == 23)])*27.5,\n",
    "                                np.mean(thomson.k1amp[np.logical_and(thomson.Station == 3,thomson.depth == 75)])*63.5,\n",
    "                                np.mean(thomson.k1amp[np.logical_and(thomson.Station == 3,thomson.depth == 150)])*62.5,\n",
    "                                np.mean(thomson.k1amp[np.logical_and(thomson.Station == 3,thomson.depth == 200)])*37.5,\n",
    "                                np.mean(thomson.k1amp[np.logical_and(thomson.Station == 3,thomson.depth == 225)])*25,\n",
    "                                np.mean(thomson.k1amp[np.logical_and(thomson.Station == 3,thomson.depth == 250)])*25,\n",
    "                                np.mean(thomson.k1amp[np.logical_and(thomson.Station == 3,thomson.depth == 275)])*37.5])/300.0\n",
    "\n",
    "K1_pha_depth_int[2,0] = np.sum([np.mean(thomson.k1pha_GMT[np.logical_and(thomson.Station == 3,thomson.depth == 15)])*17.5,\n",
    "                                np.mean(thomson.k1pha_GMT[np.logical_and(thomson.Station == 3,thomson.depth == 20)])*4,\n",
    "                                np.mean(thomson.k1pha_GMT[np.logical_and(thomson.Station == 3,thomson.depth == 23)])*27.5,\n",
    "                                np.mean(thomson.k1pha_GMT[np.logical_and(thomson.Station == 3,thomson.depth == 75)])*63.5,\n",
    "                                np.mean(thomson.k1pha_GMT[np.logical_and(thomson.Station == 3,thomson.depth == 150)])*62.5,\n",
    "                                np.mean(thomson.k1pha_GMT[np.logical_and(thomson.Station == 3,thomson.depth == 200)])*37.5,\n",
    "                                np.mean(thomson.k1pha_GMT[np.logical_and(thomson.Station == 3,thomson.depth == 225)])*25,\n",
    "                                np.mean(thomson.k1pha_GMT[np.logical_and(thomson.Station == 3,thomson.depth == 250)])*25,\n",
    "                                np.mean(thomson.k1pha_GMT[np.logical_and(thomson.Station == 3,thomson.depth == 275)])*37.5])/300.0\n",
    "\n",
    "#Station 4: depth integrate amplitude and phase\n",
    "K1_amp_depth_int[3,0] = np.sum([np.mean(thomson.k1amp[np.logical_and(thomson.Station == 4,thomson.depth == 75)])*112.5,\n",
    "                                np.mean(thomson.k1amp[np.logical_and(thomson.Station == 4,thomson.depth == 150)])*87.5,\n",
    "                                np.mean(thomson.k1amp[np.logical_and(thomson.Station == 4,thomson.depth == 250)])*100])/300.0\n",
    "\n",
    "K1_pha_depth_int[3,0] = np.sum([np.mean(thomson.k1pha_GMT[np.logical_and(thomson.Station == 4,thomson.depth == 75)])*112.5,\n",
    "                                np.mean(thomson.k1pha_GMT[np.logical_and(thomson.Station == 4,thomson.depth == 150)])*87.5,\n",
    "                                np.mean(thomson.k1pha_GMT[np.logical_and(thomson.Station == 4,thomson.depth == 250)])*100])/300.0\n",
    "\n",
    "#Station 5: only one point, therefore this represents all depths \n",
    "K1_amp_depth_int[4,0] = thomson.k1amp[thomson.Station == 5]\n",
    "K1_pha_depth_int[4,0] = thomson.k1pha_GMT[thomson.Station == 5]\n",
    "\n",
    "\n",
    "#for M2\n",
    "M2_amp_depth_int = np.zeros((5,1))\n",
    "M2_pha_depth_int = np.zeros((5,1))\n",
    "\n",
    "#Station 1: only one point, therefore this represents all depths\n",
    "M2_amp_depth_int[0,0] = thomson.m2amp[thomson.Station == 1]\n",
    "M2_pha_depth_int[0,0] = thomson.m2pha_GMT[thomson.Station == 1]\n",
    "\n",
    "#Station 2: depth integrate amplitude and phase\n",
    "M2_amp_depth_int[1,0] = np.sum([np.mean(thomson.m2amp[np.logical_and(thomson.Station == 2,thomson.depth == 15)])*45,\n",
    "                                np.mean(thomson.m2amp[np.logical_and(thomson.Station == 2,thomson.depth == 75)])*67.5,\n",
    "                                np.mean(thomson.m2amp[np.logical_and(thomson.Station == 2,thomson.depth == 150)])*75,\n",
    "                                np.mean(thomson.m2amp[np.logical_and(thomson.Station == 2,thomson.depth == 225)])*72.5,\n",
    "                                np.mean(thomson.m2amp[np.logical_and(thomson.Station == 2,thomson.depth == 295)])*40])/300.0\n",
    "M2_pha_depth_int[1,0]= np.sum([np.mean(thomson.m2pha_GMT[np.logical_and(thomson.Station == 2,thomson.depth == 15)])*45,\n",
    "                               np.mean(thomson.m2pha_GMT[np.logical_and(thomson.Station == 2,thomson.depth == 75)])*67.5,\n",
    "                               np.mean(thomson.m2pha_GMT[np.logical_and(thomson.Station == 2,thomson.depth == 150)])*75,\n",
    "                               np.mean(thomson.m2pha_GMT[np.logical_and(thomson.Station == 2,thomson.depth == 225)])*72.5,\n",
    "                               np.mean(thomson.m2pha_GMT[np.logical_and(thomson.Station == 2,thomson.depth == 295)])*40])/300.0\n",
    "\n",
    "#Station 3: depth integrate amplitude and phase\n",
    "M2_amp_depth_int[2,0] = np.sum([np.mean(thomson.m2amp[np.logical_and(thomson.Station == 3,thomson.depth == 15)])*17.5,\n",
    "                                np.mean(thomson.m2amp[np.logical_and(thomson.Station == 3,thomson.depth == 20)])*4,\n",
    "                                np.mean(thomson.m2amp[np.logical_and(thomson.Station == 3,thomson.depth == 23)])*27.5,\n",
    "                                np.mean(thomson.m2amp[np.logical_and(thomson.Station == 3,thomson.depth == 75)])*63.5,\n",
    "                                np.mean(thomson.m2amp[np.logical_and(thomson.Station == 3,thomson.depth == 150)])*62.5,\n",
    "                                np.mean(thomson.m2amp[np.logical_and(thomson.Station == 3,thomson.depth == 200)])*37.5,\n",
    "                                np.mean(thomson.m2amp[np.logical_and(thomson.Station == 3,thomson.depth == 225)])*25,\n",
    "                                np.mean(thomson.m2amp[np.logical_and(thomson.Station == 3,thomson.depth == 250)])*25,\n",
    "                                np.mean(thomson.m2amp[np.logical_and(thomson.Station == 3,thomson.depth == 275)])*37.5])/300.0\n",
    "\n",
    "M2_pha_depth_int[2,0] = np.sum([np.mean(thomson.m2pha_GMT[np.logical_and(thomson.Station == 3,thomson.depth == 15)])*17.5,\n",
    "                                np.mean(thomson.m2pha_GMT[np.logical_and(thomson.Station == 3,thomson.depth == 20)])*4,\n",
    "                                np.mean(thomson.m2pha_GMT[np.logical_and(thomson.Station == 3,thomson.depth == 23)])*27.5,\n",
    "                                np.mean(thomson.m2pha_GMT[np.logical_and(thomson.Station == 3,thomson.depth == 75)])*63.5,\n",
    "                                np.mean(thomson.m2pha_GMT[np.logical_and(thomson.Station == 3,thomson.depth == 150)])*62.5,\n",
    "                                np.mean(thomson.m2pha_GMT[np.logical_and(thomson.Station == 3,thomson.depth == 200)])*37.5,\n",
    "                                np.mean(thomson.m2pha_GMT[np.logical_and(thomson.Station == 3,thomson.depth == 225)])*25,\n",
    "                                np.mean(thomson.m2pha_GMT[np.logical_and(thomson.Station == 3,thomson.depth == 250)])*25,\n",
    "                                np.mean(thomson.m2pha_GMT[np.logical_and(thomson.Station == 3,thomson.depth == 275)])*37.5])/300.0\n",
    "\n",
    "#Station 4: depth integrate amplitude and phase\n",
    "M2_amp_depth_int[3,0] = np.sum([np.mean(thomson.m2amp[np.logical_and(thomson.Station == 4,thomson.depth == 75)])*112.5,\n",
    "                                np.mean(thomson.m2amp[np.logical_and(thomson.Station == 4,thomson.depth == 150)])*87.5,\n",
    "                                np.mean(thomson.m2amp[np.logical_and(thomson.Station == 4,thomson.depth == 250)])*100])/300.0\n",
    "\n",
    "M2_pha_depth_int[3,0] = np.sum([np.mean(thomson.m2pha_GMT[np.logical_and(thomson.Station == 4,thomson.depth == 75)])*112.5,\n",
    "                                np.mean(thomson.m2pha_GMT[np.logical_and(thomson.Station == 4,thomson.depth == 150)])*87.5,\n",
    "                                np.mean(thomson.m2pha_GMT[np.logical_and(thomson.Station == 4,thomson.depth == 250)])*100])/300.0\n",
    "\n",
    "#Station 5: only one point, therefore this represents all depths \n",
    "M2_amp_depth_int[4,0] = thomson.m2amp[thomson.Station == 5]\n",
    "M2_pha_depth_int[4,0] = thomson.m2pha_GMT[thomson.Station == 5]\n",
    "\n",
    "#measurements were in cm/s, convert to m/s\n",
    "K1_amp_depth_int = K1_amp_depth_int/100.0\n",
    "M2_amp_depth_int = M2_amp_depth_int/100.0\n",
    "\n",
    "plt.figure()\n",
    "plt.subplot(2,1,1)\n",
    "plt.plot(range(0,5),M2_amp_depth_int,'.-',range(0,5),K1_amp_depth_int,'.-')\n",
    "plt.legend(('M2','K1'))\n",
    "plt.title('Initial depth interpolated currents')\n",
    "plt.subplot(2,1,2)\n",
    "plt.plot(range(0,5),M2_pha_depth_int,'.-',range(0,5),K1_pha_depth_int,'.-')\n",
    "\n",
    "#after plotting them, the phase for K1 at Station 1 looks too high, so just take the value for Station 2\n",
    "K1_pha_depth_int[0,0] = K1_pha_depth_int[1,0]\n",
    "\n",
    "plt.figure()\n",
    "plt.subplot(2,1,1)\n",
    "plt.plot(range(0,5),M2_amp_depth_int,'.-',range(0,5),K1_amp_depth_int,'.-')\n",
    "plt.legend(('M2','K1'))\n",
    "plt.title('Depth interpolated currents after adjusting one point')\n",
    "plt.subplot(2,1,2)\n",
    "plt.plot(range(0,5),M2_pha_depth_int,'.-',range(0,5),K1_pha_depth_int,'.-')\n"
   ]
  },
  {
   "cell_type": "markdown",
   "metadata": {},
   "source": [
    "Plot depths along the boundary\n"
   ]
  },
  {
   "cell_type": "code",
   "execution_count": 14,
   "metadata": {
    "collapsed": false
   },
   "outputs": [
    {
     "data": {
      "text/plain": [
       "(36, 49)"
      ]
     },
     "execution_count": 14,
     "metadata": {},
     "output_type": "execute_result"
    },
    {
     "data": {
      "image/png": "[encoded data removed]",
      "text/plain": [
       "<matplotlib.figure.Figure at 0x7fa041602b10>"
      ]
     },
     "metadata": {},
     "output_type": "display_data"
    }
   ],
   "source": [
    "k = range(0,60)\n",
    "plt.plot(k,bathy[897,k])\n",
    "plt.gca().invert_yaxis()\n",
    "plt.xlabel('grid point')\n",
    "plt.ylabel('depth [m]')\n",
    "plt.title('Depths at northern boundary')\n",
    "plt.xlim((36,49))\n",
    "#so the boundary is from j=37 to j=48 at i=897"
   ]
  },
  {
   "cell_type": "code",
   "execution_count": 15,
   "metadata": {
    "collapsed": false
   },
   "outputs": [
    {
     "name": "stdout",
     "output_type": "stream",
     "text": [
      "Estimate of Thomson x-sectional area in mkm 693.0\n",
      "Our effective x-sectional area in mkm 856.341797805\n"
     ]
    },
    {
     "data": {
      "text/plain": [
       "[<matplotlib.lines.Line2D at 0x7fa042828490>]"
      ]
     },
     "execution_count": 15,
     "metadata": {},
     "output_type": "execute_result"
    },
    {
     "data": {
      "image/png": "[encoded data removed]",
      "text/plain": [
       "<matplotlib.figure.Figure at 0x7fa03bfc7f50>"
      ]
     },
     "metadata": {},
     "output_type": "display_data"
    }
   ],
   "source": [
    "# compare the size of the flux through the Thomson section and the size of the flux through\n",
    "# our section, remembering that our flux is at 39 degrees to the boundary.\n",
    "# Start with area\n",
    "print 'Estimate of Thomson x-sectional area in mkm', 0.55*0.5*300 + (2.4-0.55)*300 + 0.37*300*0.5\n",
    "dx = 0.4155 # our grid size\n",
    "dxc = dx*np.cos(39.*np.pi/180.) # corrected for slant of boundary\n",
    "print 'Our effective x-sectional area in mkm', np.sum(bathy[897,37:48])*dxc\n",
    "# Thomson bathymetry\n",
    "thomx = (0, 0.18, 0.55, 0.8, 1.4, 1.95, 2.4, 2.46, 2.77)/np.cos(0)+0.5\n",
    "thomy = (0, 100, 300, 300, 300, 300, 300, 150, 0)\n",
    "plt.plot (thomx,thomy,'x-')\n",
    "# Model bathymetry, corrected for slant\n",
    "krange = np.arange(0,49-36+1)*dxc\n",
    "depth = np.zeros(49-36+1)\n",
    "depth[0:49-36+1] = bathy[897,36:50]\n",
    "plt.plot (krange,depth,'*-')"
   ]
  },
  {
   "cell_type": "code",
   "execution_count": 16,
   "metadata": {
    "collapsed": false
   },
   "outputs": [
    {
     "name": "stdout",
     "output_type": "stream",
     "text": [
      "[ 0.373385]\n",
      "[ 257.164675] 314.773414644 [ 1.22401498] 1.23520923521\n",
      "[ 0.371089] 0.367725951687\n",
      "[ 0.66746198]\n"
     ]
    }
   ],
   "source": [
    "# Now estimate flux (M2)\n",
    "obs_flux = 0.\n",
    "model_flux = 0.\n",
    "# Station 5\n",
    "obs_flux = obs_flux + 0.55 * M2_amp_depth_int[4] * 0.5*300\n",
    "model_flux = model_flux + sum(depth[0:3] * dx * M2_amp_depth_int[4]*np.cos(39.*np.pi/180.))\n",
    "# Station 4\n",
    "obs_flux = obs_flux + (1.1-0.55) * M2_amp_depth_int[3] * 300\n",
    "model_flux = model_flux + sum(depth[3:5] * dx * M2_amp_depth_int[3]*np.cos(39.*np.pi/180.))\n",
    "# Station 3\n",
    "obs_flux = obs_flux + (1.7-1.1) * M2_amp_depth_int[2] * 300\n",
    "model_flux = model_flux + sum(depth[5:7] * dx * M2_amp_depth_int[2]*np.cos(39.*np.pi/180.))\n",
    "print M2_amp_depth_int[2]\n",
    "# Station 2\n",
    "obs_flux = obs_flux + (2.4-1.7) * M2_amp_depth_int[1] * 300\n",
    "model_flux = model_flux + sum(depth[7:9] * dx * M2_amp_depth_int[1]*np.cos(39.*np.pi/180.))\n",
    "# Station 1\n",
    "obs_flux = obs_flux + (2.77-2.4) * M2_amp_depth_int[0] * 300 * 0.5\n",
    "model_flux = model_flux + sum(depth[9:13] * dx * M2_amp_depth_int[0]*np.cos(39.*np.pi/180.))\n",
    "print obs_flux, model_flux, model_flux/obs_flux, 856/693.\n",
    "print obs_flux/693., model_flux/856.\n",
    "M2_corr = obs_flux/model_flux\n",
    "M2_corr = M2_corr*M2_corr #reduce by an extra factor for a better match with observations\n",
    "print M2_corr"
   ]
  },
  {
   "cell_type": "code",
   "execution_count": 17,
   "metadata": {
    "collapsed": false
   },
   "outputs": [
    {
     "name": "stdout",
     "output_type": "stream",
     "text": [
      "[ 78.8998] 91.7139880465 [ 1.16241091] 1.23520923521\n",
      "[ 0.86028099]\n"
     ]
    }
   ],
   "source": [
    "# And flux K1\n",
    "obs_flux = 0.\n",
    "model_flux = 0.\n",
    "# Station 5\n",
    "obs_flux = obs_flux + 0.55 * K1_amp_depth_int[4] * 0.5*300\n",
    "model_flux = model_flux + sum(depth[0:3] * dx * K1_amp_depth_int[4]*np.cos(39.*np.pi/180.))\n",
    "# Station 4\n",
    "obs_flux = obs_flux + (1.1-0.55) * K1_amp_depth_int[3] * 300\n",
    "model_flux = model_flux + sum(depth[3:5] * dx * K1_amp_depth_int[3]*np.cos(39.*np.pi/180.))\n",
    "# Station 3\n",
    "obs_flux = obs_flux + (1.7-1.1) * K1_amp_depth_int[2] * 300\n",
    "model_flux = model_flux + sum(depth[5:7] * dx * K1_amp_depth_int[2]*np.cos(39.*np.pi/180.))\n",
    "# Station 2\n",
    "obs_flux = obs_flux + (2.4-1.7) * K1_amp_depth_int[1] * 300\n",
    "model_flux = model_flux + sum(depth[7:9] * dx * K1_amp_depth_int[1]*np.cos(39.*np.pi/180.))\n",
    "# Station 1\n",
    "obs_flux = obs_flux + (2.77-2.4) * K1_amp_depth_int[0] * 300 * 0.5\n",
    "model_flux = model_flux + sum(depth[9:13] * dx * K1_amp_depth_int[0]*np.cos(39.*np.pi/180.))\n",
    "print obs_flux, model_flux, model_flux/obs_flux, 856/693.\n",
    "K1_corr = obs_flux/model_flux\n",
    "print K1_corr"
   ]
  },
  {
   "cell_type": "markdown",
   "metadata": {},
   "source": [
    "So... we have current measurements close to the boundary, but not perfectly aligned with the boundary. But without any other well resolved data west of the NEMO boundary, we can't really interpolate to the boundary location. Plus, there isn't much of a change in tidal amplitudes or phases across the boundary. So just assume that the current measurements represent the currents at the boundary without any interpolation or change."
   ]
  },
  {
   "cell_type": "markdown",
   "metadata": {},
   "source": [
    "This is from Susan's notebook (JohnstoneStraitBoundary) where she looked at the boundary"
   ]
  },
  {
   "cell_type": "code",
   "execution_count": 18,
   "metadata": {
    "collapsed": false
   },
   "outputs": [],
   "source": [
    "#start and end points\n",
    "starti = 32\n",
    "endi = 62\n",
    "lengthi = endi-starti"
   ]
  },
  {
   "cell_type": "markdown",
   "metadata": {},
   "source": [
    "So let's assume for currents (Kates original assumptions and Susan's suggestions)\n",
    "\n",
    "* Station 1 represents cells 47 - 62 (16 cells) -- SEA 45-49, 50-62 (18 cells)\n",
    "\n",
    "* Station 2 represents cells 44 - 46 (3 cells) --  SEA 43-44 (2 cells)\n",
    "\n",
    "* Station 3 represents cells 41 - 43 (3 cells) --- SEA 41-42 (2 cells)\n",
    "\n",
    "* Station 4 represents cells 39 - 40 (2 cells) --- SEA  39-40 (2 cells)\n",
    "\n",
    "* Station 5 represents cells 32 - 38 (7 cells) --- SEA 32-35, 36-38 (7 cells)\n",
    "\n",
    "Put all this into some new variables that are the same length as the boundary"
   ]
  },
  {
   "cell_type": "markdown",
   "metadata": {},
   "source": [
    "<b>This is as far as I have gotten with the corrections.</b> The position of the fluxes, as given by SEA above needs to be corrected.  The impact of the correction from Stn 3 to Stn 4 needs to be propagated.  The currents need to be downgraded by the amount estimated above."
   ]
  },
  {
   "cell_type": "markdown",
   "metadata": {},
   "source": [
    "## Nancy's continuation"
   ]
  },
  {
   "cell_type": "markdown",
   "metadata": {},
   "source": [
    "Plan:\n",
    "\n",
    "1. Correct the currents and check.\n",
    "2. Correct grid positioning.\n",
    "3. Propogate S3-S4 changes through. \n",
    "\n"
   ]
  },
  {
   "cell_type": "markdown",
   "metadata": {},
   "source": [
    "Current corrections:\n",
    "\n",
    "We adjust the currents by multiplying by the correction factors give above:\n",
    "\n",
    "$U_{mod} = corr*U_{obs}$"
   ]
  },
  {
   "cell_type": "code",
   "execution_count": 19,
   "metadata": {
    "collapsed": false
   },
   "outputs": [
    {
     "name": "stdout",
     "output_type": "stream",
     "text": [
      "[[ 0.284     ]\n",
      " [ 0.33910833]\n",
      " [ 0.373385  ]\n",
      " [ 0.417125  ]\n",
      " [ 0.414     ]]\n",
      "[[ 0.1895592 ]\n",
      " [ 0.22634192]\n",
      " [ 0.24922029]\n",
      " [ 0.27841508]\n",
      " [ 0.27632926]]\n"
     ]
    }
   ],
   "source": [
    "\n",
    "\n",
    "print M2_amp_depth_int\n",
    "\n",
    "K1_amp_depth_int_corr = K1_corr*K1_amp_depth_int[:];\n",
    "M2_amp_depth_int_corr = M2_corr*M2_amp_depth_int[:];\n",
    "print M2_amp_depth_int_corr"
   ]
  },
  {
   "cell_type": "code",
   "execution_count": 20,
   "metadata": {
    "collapsed": false
   },
   "outputs": [
    {
     "name": "stdout",
     "output_type": "stream",
     "text": [
      "[ 257.164675] 210.099287269 [ 0.81698347] 1.23520923521\n",
      "[ 0.371089] 0.245443092603\n"
     ]
    }
   ],
   "source": [
    "#Restimate Fluxes\n",
    "# Now estimate flux (M2)\n",
    "obs_flux = 0.\n",
    "model_flux = 0.\n",
    "# Station 5\n",
    "obs_flux = obs_flux + 0.55 * M2_amp_depth_int[4] * 0.5*300\n",
    "model_flux = model_flux + sum(depth[0:3] * dx * M2_amp_depth_int_corr[4]*np.cos(39.*np.pi/180.))\n",
    "# Station 4\n",
    "obs_flux = obs_flux + (1.1-0.55) * M2_amp_depth_int[3] * 300\n",
    "model_flux = model_flux + sum(depth[3:5] * dx * M2_amp_depth_int_corr[3]*np.cos(39.*np.pi/180.))\n",
    "# Station 3\n",
    "obs_flux = obs_flux + (1.7-1.1) * M2_amp_depth_int[2] * 300\n",
    "model_flux = model_flux + sum(depth[5:7] * dx * M2_amp_depth_int_corr[2]*np.cos(39.*np.pi/180.))\n",
    "# Station 2\n",
    "obs_flux = obs_flux + (2.4-1.7) * M2_amp_depth_int[1] * 300\n",
    "model_flux = model_flux + sum(depth[7:9] * dx * M2_amp_depth_int_corr[1]*np.cos(39.*np.pi/180.))\n",
    "# Station 1\n",
    "obs_flux = obs_flux + (2.77-2.4) * M2_amp_depth_int[0] * 300 * 0.5\n",
    "model_flux = model_flux + sum(depth[9:13] * dx * M2_amp_depth_int_corr[0]*np.cos(39.*np.pi/180.))\n",
    "print obs_flux, model_flux, model_flux/obs_flux, 856/693.\n",
    "print obs_flux/693., model_flux/856."
   ]
  },
  {
   "cell_type": "code",
   "execution_count": 21,
   "metadata": {
    "collapsed": false
   },
   "outputs": [
    {
     "name": "stdout",
     "output_type": "stream",
     "text": [
      "[ 78.8998] 78.8998 [ 1.] 1.23520923521\n"
     ]
    }
   ],
   "source": [
    "# And flux K1\n",
    "obs_flux = 0.\n",
    "model_flux = 0.\n",
    "# Station 5\n",
    "obs_flux = obs_flux + 0.55 * K1_amp_depth_int[4] * 0.5*300\n",
    "model_flux = model_flux + sum(depth[0:3] * dx * K1_amp_depth_int_corr[4]*np.cos(39.*np.pi/180.))\n",
    "# Station 4\n",
    "obs_flux = obs_flux + (1.1-0.55) * K1_amp_depth_int[3] * 300\n",
    "model_flux = model_flux + sum(depth[3:5] * dx * K1_amp_depth_int_corr[3]*np.cos(39.*np.pi/180.))\n",
    "# Station 3\n",
    "obs_flux = obs_flux + (1.7-1.1) * K1_amp_depth_int[2] * 300\n",
    "model_flux = model_flux + sum(depth[5:7] * dx * K1_amp_depth_int_corr[2]*np.cos(39.*np.pi/180.))\n",
    "# Station 2\n",
    "obs_flux = obs_flux + (2.4-1.7) * K1_amp_depth_int[1] * 300\n",
    "model_flux = model_flux + sum(depth[7:9] * dx * K1_amp_depth_int_corr[1]*np.cos(39.*np.pi/180.))\n",
    "# Station 1\n",
    "obs_flux = obs_flux + (2.77-2.4) * K1_amp_depth_int[0] * 300 * 0.5\n",
    "model_flux = model_flux + sum(depth[9:13] * dx * K1_amp_depth_int_corr[0]*np.cos(39.*np.pi/180.))\n",
    "print obs_flux, model_flux, model_flux/obs_flux, 856/693."
   ]
  },
  {
   "cell_type": "markdown",
   "metadata": {},
   "source": [
    "The model and observed fluxes match now. Note that there are likely some integration errors in calculating the fluxes but we probably don't have to worry because these are estimates anways. "
   ]
  },
  {
   "cell_type": "markdown",
   "metadata": {},
   "source": [
    "Now, correct the positioning based on Susn's corrections. Make sure  use the new array for corrected depth integrated currents.\n"
   ]
  },
  {
   "cell_type": "markdown",
   "metadata": {},
   "source": [
    "## Fine Tuning"
   ]
  },
  {
   "cell_type": "markdown",
   "metadata": {},
   "source": [
    "So above is correct theoretically, but now given the model results, lets do some fine tuning.  Based on the run tide_M2phase, the average Kelsey Bay/Yorke Island M2 amplitudes are 3.4% high and the phase is 8.2 degrees low.  Add these corrections: here to the velocities and below to the elevations."
   ]
  },
  {
   "cell_type": "code",
   "execution_count": 22,
   "metadata": {
    "collapsed": false
   },
   "outputs": [],
   "source": [
    "M2_amp_finecorrection = 0.953\n",
    "M2_pha_finecorrection = 5.7\n",
    "K1_amp_finecorrection = 0.764\n",
    "K1_pha_finecorrection = 28.4\n",
    "M2_amp_depth_int_corr = M2_amp_depth_int_corr*M2_amp_finecorrection\n",
    "M2_pha_depth_int = M2_pha_depth_int + M2_pha_finecorrection\n",
    "K1_amp_depth_int_corr = K1_amp_depth_int_corr*K1_amp_finecorrection\n",
    "K1_pha_depth_int = K1_pha_depth_int + K1_pha_finecorrection"
   ]
  },
  {
   "cell_type": "code",
   "execution_count": 23,
   "metadata": {
    "collapsed": false
   },
   "outputs": [],
   "source": [
    "#K1 current amplitude\n",
    "amp_K1_bound = np.zeros((lengthi,1))\n",
    "amp_K1_bound[0:7,0]   = K1_amp_depth_int_corr[5-1,0]\n",
    "amp_K1_bound[7:9,0]   = K1_amp_depth_int_corr[4-1,0]\n",
    "amp_K1_bound[9:11,0]  = K1_amp_depth_int_corr[3-1,0]\n",
    "amp_K1_bound[11:13,0] = K1_amp_depth_int_corr[2-1,0]\n",
    "amp_K1_bound[13:,0]   = K1_amp_depth_int_corr[1-1,0]\n",
    "\n",
    "#K1 current phase\n",
    "pha_K1_bound = np.zeros((lengthi,1))\n",
    "pha_K1_bound[0:7,0]   = K1_pha_depth_int[5-1,0]\n",
    "pha_K1_bound[7:9,0]   = K1_pha_depth_int[4-1,0]\n",
    "pha_K1_bound[9:11,0]  = K1_pha_depth_int[3-1,0]\n",
    "pha_K1_bound[11:13,0] = K1_pha_depth_int[2-1,0]\n",
    "pha_K1_bound[13:,0]   = K1_pha_depth_int[1-1,0]\n",
    "\n",
    "#M2 current amplitude\n",
    "amp_M2_bound = np.zeros((lengthi,1))\n",
    "amp_M2_bound[0:7,0]   = M2_amp_depth_int_corr[5-1,0]\n",
    "amp_M2_bound[7:9,0]   = M2_amp_depth_int_corr[4-1,0]\n",
    "amp_M2_bound[9:11,0]  = M2_amp_depth_int_corr[3-1,0]\n",
    "amp_M2_bound[11:13,0] = M2_amp_depth_int_corr[2-1,0]\n",
    "amp_M2_bound[13:,0]   = M2_amp_depth_int_corr[1-1,0]\n",
    "\n",
    "#M2 current phase\n",
    "pha_M2_bound = np.zeros((lengthi,1))\n",
    "pha_M2_bound[0:7,0]   = M2_pha_depth_int[5-1,0]\n",
    "pha_M2_bound[7:9,0]   = M2_pha_depth_int[4-1,0]\n",
    "pha_M2_bound[9:11,0]  = M2_pha_depth_int[3-1,0]\n",
    "pha_M2_bound[11:13,0] = M2_pha_depth_int[2-1,0]\n",
    "pha_M2_bound[13:,0]   = M2_pha_depth_int[1-1,0]\n"
   ]
  },
  {
   "cell_type": "markdown",
   "metadata": {},
   "source": [
    "Now, as noted in the text of Thomson & Huggett (1980), the current amplitudes are in the along-strait direction. Across-strait currents are assumed to be negligible. From the direction of the mean currents, the average along-strait direction is approximately 170 degrees/350 degrees, measured counter-clockwise from east. \n",
    "\n",
    "So, we must convert the along-strait amplitude and phase into u and v amplitude and phase relative for NEMO. This means that we must rotate them because NEMO wants velocities relative to its grid orientation (not North South).\n",
    "\n",
    "Following the approach used to rotate the Webtide tidal constituents, we can do the following:\n",
    "\n",
    "* assume the postive along strait direction is approximately 10 degrees measured clockwise from East\n",
    "* 'up' in NEMO is rotated 29 degrees counter-clockwise of North\n",
    "* 'across' in NEMO is rotated 29 degrees counter-clockwise of East\n",
    "* the angle of rotation between along-strait direction and 'across' in NEMO is therefore $\\theta = 29^\\circ +10^\\circ=39^\\circ$\n",
    "* neglect across-strait velocity (i.e. $v_a = 0$, $\\phi_v = 0$)\n",
    "* $u_a$ and $\\phi_u$ are the depth averaged amplitude and phase at each station (calculated above)\n",
    "* following the approach described in the docs (docs/tides/tides_data_acquisition):\n",
    "    \n",
    "    so for U: \n",
    "\n",
    "    $Z1 = u_a\\cos\\theta\\cos\\phi_u$ \n",
    "    \n",
    "    $Z2 = u_a\\cos\\theta\\sin\\phi_u$\n",
    "    \n",
    "    and for V: \n",
    "\n",
    "    $Z1 = -u_a\\sin\\theta\\cos\\phi_u$ \n",
    "    \n",
    "    $Z2 = -u_a\\sin\\theta\\sin\\phi_u$"
   ]
  },
  {
   "cell_type": "code",
   "execution_count": 32,
   "metadata": {
    "collapsed": false
   },
   "outputs": [
    {
     "name": "stdout",
     "output_type": "stream",
     "text": [
      "[[ 0.05699677]\n",
      " [ 0.05699677]\n",
      " [ 0.05699677]\n",
      " [ 0.05699677]\n",
      " [ 0.05699677]\n",
      " [ 0.05699677]\n",
      " [ 0.05699677]\n",
      " [-0.0173956 ]\n",
      " [-0.0173956 ]\n",
      " [-0.01445693]\n",
      " [-0.01445693]\n",
      " [-0.02183368]\n",
      " [-0.02183368]\n",
      " [ 0.03984354]\n",
      " [ 0.03984354]\n",
      " [ 0.03984354]\n",
      " [ 0.03984354]\n",
      " [ 0.03984354]\n",
      " [ 0.03984354]\n",
      " [ 0.03984354]\n",
      " [ 0.03984354]\n",
      " [ 0.03984354]\n",
      " [ 0.03984354]\n",
      " [ 0.03984354]\n",
      " [ 0.03984354]\n",
      " [ 0.03984354]\n",
      " [ 0.03984354]\n",
      " [ 0.03984354]\n",
      " [ 0.03984354]\n",
      " [ 0.03984354]]\n"
     ]
    }
   ],
   "source": [
    "theta = 39\n",
    "\n",
    "#for K1 currents\n",
    "UZ1_K1 =  amp_K1_bound*np.cos(np.radians(theta))*np.cos(np.radians(pha_K1_bound))\n",
    "UZ2_K1 =  amp_K1_bound*np.cos(np.radians(theta))*np.sin(np.radians(pha_K1_bound))\n",
    "VZ1_K1 = -amp_K1_bound*np.sin(np.radians(theta))*np.cos(np.radians(pha_K1_bound)) \n",
    "VZ2_K1 = -amp_K1_bound*np.sin(np.radians(theta))*np.sin(np.radians(pha_K1_bound))\n",
    "\n",
    "#for M2 currents\n",
    "UZ1_M2 =  amp_M2_bound*np.cos(np.radians(theta))*np.cos(np.radians(pha_M2_bound))\n",
    "UZ2_M2 =  amp_M2_bound*np.cos(np.radians(theta))*np.sin(np.radians(pha_M2_bound))\n",
    "VZ1_M2 = -amp_M2_bound*np.sin(np.radians(theta))*np.cos(np.radians(pha_M2_bound)) \n",
    "VZ2_M2 = -amp_M2_bound*np.sin(np.radians(theta))*np.sin(np.radians(pha_M2_bound))"
   ]
  },
  {
   "cell_type": "markdown",
   "metadata": {},
   "source": [
    "And let's assume for surface elevation that the whole boundary is represented by the average between TGN and TGS. \n",
    "\n",
    "Then convert the amplitude and phase into cosine and sine format that NEMO likes."
   ]
  },
  {
   "cell_type": "code",
   "execution_count": 25,
   "metadata": {
    "collapsed": false
   },
   "outputs": [
    {
     "name": "stdout",
     "output_type": "stream",
     "text": [
      "1.15948333333 0.0967015767395 -1.15544381314\n",
      "[[ 188.66189287]\n",
      " [ 188.66189287]\n",
      " [ 188.66189287]\n",
      " [ 188.66189287]\n",
      " [ 188.66189287]\n",
      " [ 188.66189287]\n",
      " [ 188.66189287]\n",
      " [ 185.8456629 ]\n",
      " [ 185.8456629 ]\n",
      " [ 231.93758754]\n",
      " [ 231.93758754]\n",
      " [ 281.19522716]\n",
      " [ 281.19522716]\n",
      " [ 400.91120053]\n",
      " [ 400.91120053]\n",
      " [ 400.91120053]\n",
      " [ 400.91120053]\n",
      " [ 400.91120053]\n",
      " [ 400.91120053]\n",
      " [ 400.91120053]\n",
      " [ 400.91120053]\n",
      " [ 400.91120053]\n",
      " [ 400.91120053]\n",
      " [ 400.91120053]\n",
      " [ 400.91120053]\n",
      " [ 400.91120053]\n",
      " [ 400.91120053]\n",
      " [ 400.91120053]\n",
      " [ 400.91120053]\n",
      " [ 400.91120053]]\n",
      "[[  513.49255312]\n",
      " [  513.49255312]\n",
      " [  513.49255312]\n",
      " [  513.49255312]\n",
      " [  513.49255312]\n",
      " [  513.49255312]\n",
      " [  513.49255312]\n",
      " [  201.32110015]\n",
      " [  201.32110015]\n",
      " [  281.7438385 ]\n",
      " [  281.7438385 ]\n",
      " [  301.31235573]\n",
      " [  301.31235573]\n",
      " [ 1415.62347146]\n",
      " [ 1415.62347146]\n",
      " [ 1415.62347146]\n",
      " [ 1415.62347146]\n",
      " [ 1415.62347146]\n",
      " [ 1415.62347146]\n",
      " [ 1415.62347146]\n",
      " [ 1415.62347146]\n",
      " [ 1415.62347146]\n",
      " [ 1415.62347146]\n",
      " [ 1415.62347146]\n",
      " [ 1415.62347146]\n",
      " [ 1415.62347146]\n",
      " [ 1415.62347146]\n",
      " [ 1415.62347146]\n",
      " [ 1415.62347146]\n",
      " [ 1415.62347146]]\n"
     ]
    }
   ],
   "source": [
    "#K1 surface elevation \n",
    "elev_amp_K1 = np.mean([TGN_Jun['K1amp'],TGS_Feb['K1amp'],TGS_Jun['K1amp']])*K1_amp_finecorrection\n",
    "elev_pha_K1 = np.mean([TGN_Jun['K1pha_GMT'],TGS_Feb['K1pha_GMT'],\n",
    "                       TGS_Jun['K1pha_GMT']]) + K1_amp_finecorrection\n",
    "Z1_K1 = elev_amp_K1*np.cos(np.radians(elev_pha_K1))       \n",
    "Z2_K1 = elev_amp_K1*np.sin(np.radians(elev_pha_K1))\n",
    "\n",
    "#M2 surface elevation \n",
    "elev_amp_M2 = np.mean([TGN_Jun['M2amp'],TGS_Feb['M2amp'],TGS_Jun['M2amp']])*M2_amp_finecorrection\n",
    "elev_pha_M2 = np.mean([TGN_Jun['M2pha_GMT'],TGS_Feb['M2pha_GMT'],\n",
    "                       TGS_Jun['M2pha_GMT']]) + M2_pha_finecorrection\n",
    "Z1_M2 = elev_amp_M2*np.cos(np.radians(elev_pha_M2))       \n",
    "Z2_M2 = elev_amp_M2*np.sin(np.radians(elev_pha_M2))\n",
    "\n",
    "print elev_amp_M2, Z1_M2, Z2_M2\n",
    "print Z2_M2**2/(UZ1_M2**2+UZ2_M2**2+VZ1_M2**2+VZ2_M2**2)*9.8\n",
    "print Z2_K1**2/(UZ1_K1**2+UZ2_K1**2+VZ1_K1**2+VZ2_K1**2)*9.8"
   ]
  },
  {
   "cell_type": "markdown",
   "metadata": {},
   "source": [
    "Start to make the netcdf file"
   ]
  },
  {
   "cell_type": "code",
   "execution_count": 26,
   "metadata": {
    "collapsed": false
   },
   "outputs": [
    {
     "name": "stdout",
     "output_type": "stream",
     "text": [
      "file format: NETCDF4\n",
      "Conventions: CF-1.6\n",
      "title: Tidal Boundary Conditions for Northern Boundary\n",
      "institution: Dept of Earth, Ocean & Atmospheric Sciences, University of British Columbia\n",
      "source: https://bitbucket.org/salishsea/tools/src/tip/johnstone_strait_tides.ipynb\n",
      "references: https://bitbucket.org/salishsea/nemo-forcing/src/tip/open_boundaries/north/SalishSea2_North_tide_K1_grid_U.nc\n",
      "history: [2015-11-06 16:05:21] Created netCDF4 zlib=True dataset.\n",
      "comment: Tidal current and amplitude data from Thomson & Huggett 1980\n",
      "(1, 30)\n",
      "file format: NETCDF4\n",
      "Conventions: CF-1.6\n",
      "title: Tidal Boundary Conditions for Northern Boundary\n",
      "institution: Dept of Earth, Ocean & Atmospheric Sciences, University of British Columbia\n",
      "source: https://bitbucket.org/salishsea/tools/src/tip/johnstone_strait_tides.ipynb\n",
      "references: https://bitbucket.org/salishsea/nemo-forcing/src/tip/open_boundaries/north/SalishSea2_North_tide_K1_grid_V.nc\n",
      "history: [2015-11-06 16:05:21] Created netCDF4 zlib=True dataset.\n",
      "comment: Tidal current and amplitude data from Thomson & Huggett 1980\n",
      "(1, 30)\n",
      "file format: NETCDF4\n",
      "Conventions: CF-1.6\n",
      "title: Tidal Boundary Conditions for Northern Boundary\n",
      "institution: Dept of Earth, Ocean & Atmospheric Sciences, University of British Columbia\n",
      "source: https://bitbucket.org/salishsea/tools/src/tip/johnstone_strait_tides.ipynb\n",
      "references: https://bitbucket.org/salishsea/nemo-forcing/src/tip/open_boundaries/north/SalishSea2_North_tide_M2_grid_U.nc\n",
      "history: [2015-11-06 16:05:22] Created netCDF4 zlib=True dataset.\n",
      "comment: Tidal current and amplitude data from Thomson & Huggett 1980\n",
      "(1, 30)\n",
      "file format: NETCDF4\n",
      "Conventions: CF-1.6\n",
      "title: Tidal Boundary Conditions for Northern Boundary\n",
      "institution: Dept of Earth, Ocean & Atmospheric Sciences, University of British Columbia\n",
      "source: https://bitbucket.org/salishsea/tools/src/tip/johnstone_strait_tides.ipynb\n",
      "references: https://bitbucket.org/salishsea/nemo-forcing/src/tip/open_boundaries/north/SalishSea2_North_tide_M2_grid_V.nc\n",
      "history: [2015-11-06 16:05:22] Created netCDF4 zlib=True dataset.\n",
      "comment: Tidal current and amplitude data from Thomson & Huggett 1980\n",
      "(1, 30)\n",
      "file format: NETCDF4\n",
      "Conventions: CF-1.6\n",
      "title: Tidal Boundary Conditions for Northern Boundary\n",
      "institution: Dept of Earth, Ocean & Atmospheric Sciences, University of British Columbia\n",
      "source: https://bitbucket.org/salishsea/tools/src/tip/johnstone_strait_tides.ipynb\n",
      "references: https://bitbucket.org/salishsea/nemo-forcing/src/tip/open_boundaries/north/SalishSea2_North_tide_K1_grid_T.nc\n",
      "history: [2015-11-06 16:05:23] Created netCDF4 zlib=True dataset.\n",
      "comment: Tidal current and amplitude data from Thomson & Huggett 1980\n",
      "(1, 30)\n",
      "file format: NETCDF4\n",
      "Conventions: CF-1.6\n",
      "title: Tidal Boundary Conditions for Northern Boundary\n",
      "institution: Dept of Earth, Ocean & Atmospheric Sciences, University of British Columbia\n",
      "source: https://bitbucket.org/salishsea/tools/src/tip/johnstone_strait_tides.ipynb\n",
      "references: https://bitbucket.org/salishsea/nemo-forcing/src/tip/open_boundaries/north/SalishSea2_North_tide_M2_grid_T.nc\n",
      "history: [2015-11-06 16:05:23] Created netCDF4 zlib=True dataset.\n",
      "comment: Tidal current and amplitude data from Thomson & Huggett 1980\n",
      "(1, 30)\n"
     ]
    }
   ],
   "source": [
    "reload(webtide_tools)\n",
    "#wait.... what about the U and V being on different grids?\n",
    "#.... nothing really changes because we don't have great spatial resolution of measurements...\n",
    "#... perhaps we'll need to make an extra cell for the V grid....\n",
    "#currents\n",
    "webtide_tools.create_northern_tides(UZ1_K1,UZ2_K1,'U','K1', 'TS1')\n",
    "webtide_tools.create_northern_tides(VZ1_K1,VZ2_K1,'V','K1','TS1')\n",
    "webtide_tools.create_northern_tides(UZ1_M2,UZ2_M2,'U','M2', 'TS1')\n",
    "webtide_tools.create_northern_tides(VZ1_M2,VZ2_M2,'V','M2', 'TS1')\n",
    "#surface elevation \n",
    "webtide_tools.create_northern_tides(Z1_K1,Z2_K1,'T','K1', 'TS1')\n",
    "webtide_tools.create_northern_tides(Z1_M2,Z2_M2,'T','M2', 'TS1')"
   ]
  },
  {
   "cell_type": "code",
   "execution_count": 27,
   "metadata": {
    "collapsed": false
   },
   "outputs": [
    {
     "name": "stdout",
     "output_type": "stream",
     "text": [
      "[[-0.06285332 -0.06285332 -0.06285332 -0.06285332 -0.06285332 -0.06285332\n",
      "  -0.06285332  0.03085715  0.03085715  0.02623218  0.02623218  0.03465951\n",
      "   0.03465951 -0.04406371 -0.04406371 -0.04406371 -0.04406371 -0.04406371\n",
      "  -0.04406371 -0.04406371 -0.04406371 -0.04406371 -0.04406371 -0.04406371\n",
      "  -0.04406371 -0.04406371 -0.04406371 -0.04406371 -0.04406371 -0.04406371]]\n"
     ]
    }
   ],
   "source": [
    "#test = NC.Dataset('/ocean/klesouef/meopar/tools/I_ForcingFiles/Tides/SalishSea2_North_tide_M2_grid_V.nc','r')\n",
    "test = NC.Dataset('SalishSea2_corrF_North_tide_M2_grid_U.nc','r')\n",
    "print test.variables['u1'][:]\n",
    "test.close()"
   ]
  },
  {
   "cell_type": "code",
   "execution_count": 28,
   "metadata": {
    "collapsed": false
   },
   "outputs": [
    {
     "name": "stdout",
     "output_type": "stream",
     "text": [
      "[[-0.14011116 -0.14011116 -0.14011116 -0.14011116 -0.14011116 -0.14011116\n",
      "  -0.14011116 -0.00385936 -0.00385936 -0.00075727 -0.00075727 -0.00075727\n",
      "   0.01634435  0.01634435  0.01634435 -0.09749961 -0.09749961 -0.09749961\n",
      "  -0.09749961 -0.09749961 -0.09749961 -0.09749961 -0.09749961 -0.09749961\n",
      "  -0.09749961 -0.09749961 -0.09749961 -0.09749961 -0.09749961 -0.09749961]]\n"
     ]
    }
   ],
   "source": [
    "test = NC.Dataset('/data/nsoontie/MEOPAR/NEMO-forcing/open_boundaries/north/tides/SalishSea2_North_tide_M2_grid_U.nc','r')\n",
    "print test.variables['u1'][:]\n",
    "test.close()"
   ]
  },
  {
   "cell_type": "markdown",
   "metadata": {},
   "source": [
    "Now, remake the tides in the johnstone_strait_contd notebook."
   ]
  },
  {
   "cell_type": "code",
   "execution_count": null,
   "metadata": {
    "collapsed": false
   },
   "outputs": [],
   "source": []
  }
 ],
 "metadata": {
  "kernelspec": {
   "display_name": "Python 2",
   "language": "python",
   "name": "python2"
  },
  "language_info": {
   "codemirror_mode": {
    "name": "ipython",
    "version": 2
   },
   "file_extension": ".py",
   "mimetype": "text/x-python",
   "name": "python",
   "nbconvert_exporter": "python",
   "pygments_lexer": "ipython2",
   "version": "2.7.10"
  }
 },
 "nbformat": 4,
 "nbformat_minor": 0
}
