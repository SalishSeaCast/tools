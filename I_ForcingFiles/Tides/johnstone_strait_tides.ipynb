{
 "metadata": {
  "name": ""
 },
 "nbformat": 3,
 "nbformat_minor": 0,
 "worksheets": [
  {
   "cells": [
    {
     "cell_type": "code",
     "collapsed": false,
     "input": [
      "#from Table 2, Thomson & Huggett (1980)\n",
      "#Tidal height harmonics\n",
      "#lats and lons found by estimating locations shown in Fig 4 with Google Maps\n",
      "\n",
      "TGS_Jun = {'O1amp':0.3249,'O1pha_PST':130.3,\n",
      "           'K1amp':0.5491,'K1pha_PST':138.9,\n",
      "           'M2amp':1.2196,'M2pha_PST':37.3,\n",
      "           'S2amp':0.3966,'S2pha_PST':56.6,\n",
      "           'Lat':50.470945,'Lon':-126.23826}\n",
      "\n",
      "TGN_Jun = {'O1amp':0.3250,'O1pha_PST':129.4,\n",
      "           'K1amp':0.5504,'K1pha_PST':138.5,\n",
      "           'M2amp':1.2086,'M2pha_PST':36.8,\n",
      "           'S2amp':0.3931,'S2pha_PST':56.6,\n",
      "           'Lat':50.498579,'Lon':-126.213026}\n",
      "\n",
      "TGW_Jan = {'O1amp':0.3161,'O1pha_PST':127.5,\n",
      "           'K1amp':0.5466,'K1pha_PST':138.7,\n",
      "           'M2amp':1.2453,'M2pha_PST':28.8,\n",
      "           'S2amp':0.4504,'S2pha_PST':51.2,\n",
      "           'Lat':50.574707,'Lon':-126.790431}\n",
      "\n",
      "TGS_Feb = {'O1amp':0.3198,'O1pha_PST':126.8,\n",
      "           'K1amp':0.5696,'K1pha_PST':139.4,\n",
      "           'M2amp':1.2218,'M2pha_PST':37.5,\n",
      "           'S2amp':0.4474,'S2pha_PST':59.1,\n",
      "           'Lat':50.470945,'Lon':-126.23826}\n",
      "\n",
      "TGE_Feb = {'O1amp':0.3376,'O1pha_PST':127.5,\n",
      "           'K1amp':0.5881,'K1pha_PST':140.8,\n",
      "           'M2amp':1.1690,'M2pha_PST':41.1,\n",
      "           'S2amp':0.4368,'S2pha_PST':62.1,\n",
      "           'Lat':50.442638,'Lon':-125.97064}\n"
     ],
     "language": "python",
     "metadata": {},
     "outputs": [],
     "prompt_number": 2
    },
    {
     "cell_type": "code",
     "collapsed": false,
     "input": [
      "#need to convert phases from relative to 120 degrees W to GMT\n",
      "#for this conversion, we need to use the frequency of each component (in hours)\n",
      "freqs = {'M2':12.42, 'S2':12.00, 'O1':25.82, 'K1':23.93}"
     ],
     "language": "python",
     "metadata": {},
     "outputs": [],
     "prompt_number": 3
    },
    {
     "cell_type": "code",
     "collapsed": false,
     "input": [
      "#For details, see Manual for Tide Heights Analysis and Prediction by M.G.G. Foreman, \n",
      "#Pacific Marine Science Report 77-10, IOS, 1977 (Revised 2004), \n",
      "#Section 2.3.1 Astronomical argument and Greenwich phase lag\n",
      "# available here: ftp://canuck.seos.uvic.ca/docs/MFTides/heights.pdf\n",
      "# or here: http://www.pac.dfo-mpo.gc.ca/science/oceans/tidal-marees/index-eng.html\n",
      "\n",
      "#Now, 120 degrees W (Pacific Standard Time) is 8 hours different to GMT \n",
      "#So to convert M2 phase from PST to GMT:\n",
      "#      GMT_pha = PST_pha - (-8hours)*(1/12.42hours)*360degrees\n",
      "\n",
      "#TGS_Jun\n",
      "TGS_Jun['O1pha_GMT'] = TGS_Jun['O1pha_PST']-(-8.0)*(1.0/freqs['O1'])*360\n",
      "TGS_Jun['K1pha_GMT'] = TGS_Jun['K1pha_PST']-(-8.0)*(1.0/freqs['K1'])*360\n",
      "TGS_Jun['M2pha_GMT'] = TGS_Jun['M2pha_PST']-(-8.0)*(1.0/freqs['M2'])*360\n",
      "TGS_Jun['S2pha_GMT'] = TGS_Jun['S2pha_PST']-(-8.0)*(1.0/freqs['S2'])*360\n",
      "\n",
      "#TGN_Jun\n",
      "TGN_Jun['O1pha_GMT'] = TGN_Jun['O1pha_PST']-(-8.0)*(1.0/freqs['O1'])*360\n",
      "TGN_Jun['K1pha_GMT'] = TGN_Jun['K1pha_PST']-(-8.0)*(1.0/freqs['K1'])*360\n",
      "TGN_Jun['M2pha_GMT'] = TGN_Jun['M2pha_PST']-(-8.0)*(1.0/freqs['M2'])*360\n",
      "TGN_Jun['S2pha_GMT'] = TGN_Jun['S2pha_PST']-(-8.0)*(1.0/freqs['S2'])*360\n",
      "\n",
      "#TGW_Jan\n",
      "TGW_Jan['O1pha_GMT'] = TGW_Jan['O1pha_PST']-(-8.0)*(1.0/freqs['O1'])*360\n",
      "TGW_Jan['K1pha_GMT'] = TGW_Jan['K1pha_PST']-(-8.0)*(1.0/freqs['K1'])*360\n",
      "TGW_Jan['M2pha_GMT'] = TGW_Jan['M2pha_PST']-(-8.0)*(1.0/freqs['M2'])*360\n",
      "TGW_Jan['S2pha_GMT'] = TGW_Jan['S2pha_PST']-(-8.0)*(1.0/freqs['S2'])*360\n",
      "\n",
      "#TGS_Feb\n",
      "TGS_Feb['O1pha_GMT'] = TGS_Feb['O1pha_PST']-(-8.0)*(1.0/freqs['O1'])*360\n",
      "TGS_Feb['K1pha_GMT'] = TGS_Feb['K1pha_PST']-(-8.0)*(1.0/freqs['K1'])*360\n",
      "TGS_Feb['M2pha_GMT'] = TGS_Feb['M2pha_PST']-(-8.0)*(1.0/freqs['M2'])*360\n",
      "TGS_Feb['S2pha_GMT'] = TGS_Feb['S2pha_PST']-(-8.0)*(1.0/freqs['S2'])*360\n",
      "\n",
      "#TGE_Feb\n",
      "TGE_Feb['O1pha_GMT'] = TGE_Feb['O1pha_PST']-(-8.0)*(1.0/freqs['O1'])*360\n",
      "TGE_Feb['K1pha_GMT'] = TGE_Feb['K1pha_PST']-(-8.0)*(1.0/freqs['K1'])*360\n",
      "TGE_Feb['M2pha_GMT'] = TGE_Feb['M2pha_PST']-(-8.0)*(1.0/freqs['M2'])*360\n",
      "TGE_Feb['S2pha_GMT'] = TGE_Feb['S2pha_PST']-(-8.0)*(1.0/freqs['S2'])*360\n"
     ],
     "language": "python",
     "metadata": {},
     "outputs": [],
     "prompt_number": 4
    },
    {
     "cell_type": "code",
     "collapsed": false,
     "input": [
      "#Compare the harmonics to Webtide harmonics at 50.556435 deg N, -126.7717 deg W\n",
      "import pandas\n",
      "webtide = pandas.read_csv('/ocean/klesouef/meopar/tools/I_ForcingFiles/Tides/webtide_point_johnstone_strait.csv',\n",
      "                          index_col=0,skiprows=2)\n",
      "webtide = webtide.rename(columns={'Amplitude (m)':'amp','Phase (deg GMT)':'pha'})\n",
      "print webtide\n"
     ],
     "language": "python",
     "metadata": {},
     "outputs": [
      {
       "output_type": "stream",
       "stream": "stdout",
       "text": [
        "             Longitude   Latitude       amp         pha\n",
        "Constituent                                            \n",
        "O1           -126.7717  50.556435  0.311897  242.711639\n",
        "P1           -126.7717  50.556435  0.161873  256.887977\n",
        "Q1           -126.7717  50.556435  0.051117  232.075989\n",
        "K1           -126.7717  50.556435  0.522911  260.110718\n",
        "K2           -126.7717  50.556435  0.104906  283.723050\n",
        "N2           -126.7717  50.556435  0.260498  240.832452\n",
        "M2           -126.7717  50.556435  1.253263  263.723173\n",
        "S2           -126.7717  50.556435  0.358527  292.054419\n"
       ]
      }
     ],
     "prompt_number": 5
    },
    {
     "cell_type": "code",
     "collapsed": false,
     "input": [
      "%matplotlib inline\n",
      "import matplotlib.pyplot as plt"
     ],
     "language": "python",
     "metadata": {},
     "outputs": [],
     "prompt_number": 6
    },
    {
     "cell_type": "code",
     "collapsed": false,
     "input": [
      "#Plot them to check how it looks\n",
      "#the channel is mostly aligned east-west, so plot along the channel\n",
      "plt.figure(figsize=[9,5])\n",
      "pha = 'M2pha_GMT','O1pha_GMT','K1pha_GMT','S2pha_GMT'\n",
      "cols = 'r','b','m','k','g'\n",
      "marks = '>','^','*','d'\n",
      "\n",
      "for t in range(0,len(pha)):\n",
      "    plt.plot([TGW_Jan['Lon'],TGS_Feb['Lon'],TGS_Jun['Lon'],TGN_Jun['Lon'],TGE_Feb['Lon']],\n",
      "             [TGW_Jan[pha[t]],TGS_Feb[pha[t]],TGS_Jun[pha[t]],TGN_Jun[pha[t]],TGE_Feb[pha[t]]],\n",
      "             cols[t],marker=marks[t],markersize=8,linestyle='none')\n",
      "pha = 'M2','O1','K1','S2'\n",
      "nums = [6,0,3,7]\n",
      "marknum = 0\n",
      "for t in nums:\n",
      "    plt.plot(webtide['Longitude'][t],webtide.pha[t],color='green',marker=marks[marknum],markersize=8,linestyle='none')\n",
      "    marknum = marknum+1\n",
      "plt.xlim((-127, -125.5))\n",
      "plt.xlabel('Longitude (deg W)')\n",
      "plt.ylabel('Phase (deg GMT)')\n",
      "plt.legend(('M2pha_GMT','O1pha_GMT','K1pha_GMT','S2pha_GMT'),loc=4)\n"
     ],
     "language": "python",
     "metadata": {},
     "outputs": [
      {
       "metadata": {},
       "output_type": "pyout",
       "prompt_number": 7,
       "text": [
        "<matplotlib.legend.Legend at 0x43ac350>"
       ]
      },
      {
       "metadata": {},
       "output_type": "display_data",
       "png": "[encoded data removed]",
       "text": [
        "<matplotlib.figure.Figure at 0x437bf90>"
       ]
      }
     ],
     "prompt_number": 7
    },
    {
     "cell_type": "code",
     "collapsed": false,
     "input": [
      "#get the measured tidal currents in Johnstone Strait\n",
      "#table 1 of Thomson & Huggett (1980)\n",
      "thomson = pandas.read_csv('/ocean/klesouef/meopar/tools/I_ForcingFiles/Tides/thomson_obs_1980_johnstone_strait.csv')\n",
      "thomson = thomson.rename(columns={'K1 amp (cm/s)':'k1amp','K1 phase (deg relative to 120deg W)':'k1pha_PST',\n",
      "                                  'M2 amp (cm/s)':'m2amp','M2 phase (deg relative to 120deg W)':'m2pha_PST',})\n",
      "thomson.k1amp[thomson.k1amp>100] = float('NaN')\n",
      "thomson.k1pha_PST[thomson.k1pha_PST>1000] = float('NaN')\n",
      "print thomson"
     ],
     "language": "python",
     "metadata": {},
     "outputs": [
      {
       "output_type": "stream",
       "stream": "stdout",
       "text": [
        "    Station  depth     U  angle  k1amp  k1pha_PST  m2amp  m2pha_PST\n",
        "0         1    120   3.0    145    5.3      170.2   28.4       11.9\n",
        "1         2     15  26.7    175    7.2      100.5   23.6       34.7\n",
        "2         2     15  23.6    174   11.0       88.6   21.8       40.8\n",
        "3         2     75  13.5    167    8.4       94.5   23.8       38.3\n",
        "4         2     75  15.0    170   12.5       83.0   22.2       50.7\n",
        "5         2    150   6.6    333   10.6       58.5   35.6       45.1\n",
        "6         2    150   7.3    344   15.9       39.8   36.9       47.2\n",
        "7         2    225  11.8    350   13.1       24.9   49.0       38.7\n",
        "8         2    295   7.4    351    9.7       19.4   33.2       38.3\n",
        "9         3     15  24.2    163    6.8       74.3   31.4       29.7\n",
        "10        3     15  23.8    176    NaN        NaN   25.6       37.3\n",
        "11        3     20  26.4    179    8.1       87.6   25.2       34.5\n",
        "12        3     23  29.6    176    7.4       94.6   28.0       32.4\n",
        "13        3     23  23.1    172    6.3       82.0   28.4       34.2\n",
        "14        3     75  14.7    171    7.4       92.4   24.0       34.3\n",
        "15        3    150  13.3    338   15.3       28.4   40.2       42.3\n",
        "16        3    200  15.8    349   10.9       24.5   44.1       40.7\n",
        "17        3    225  19.0    358   14.1       26.7   50.3       38.6\n",
        "18        3    225  17.9    357   18.3        9.0   46.7       37.6\n",
        "19        3    250  19.5    353   18.0        4.1   46.9       36.4\n",
        "20        3    275  14.6    348   16.2       47.1   46.1       40.7\n",
        "21        3    275  16.4    351   12.3       16.8   47.3       41.4\n",
        "22        4     75   5.7    155   10.4       47.6   31.7       41.3\n",
        "23        4    150  11.1    353   15.5       14.9   44.2       39.0\n",
        "24        4    250  21.0    340   16.9       -1.4   50.8       34.6\n",
        "25        5     80   4.0    193    8.8       13.6   41.4       12.3\n"
       ]
      }
     ],
     "prompt_number": 44
    },
    {
     "cell_type": "code",
     "collapsed": false,
     "input": [
      "#convert the GMT phase to PST phase and rename it to avoid confusion\n",
      "thomson.k1pha_PST = thomson.k1pha_PST-(-8.0)*(1.0/freqs['K1'])*360\n",
      "thomson.m2pha_PST = thomson.m2pha_PST-(-8.0)*(1.0/freqs['M2'])*360\n",
      "thomson = thomson.rename(columns={'k1pha_PST':'k1pha_GMT','m2pha_PST':'m2pha_GMT'})\n",
      "print thomson"
     ],
     "language": "python",
     "metadata": {},
     "outputs": [
      {
       "output_type": "stream",
       "stream": "stdout",
       "text": [
        "    Station  depth     U  angle  k1amp   k1pha_GMT  m2amp   m2pha_GMT\n",
        "0         1    120   3.0    145    5.3  290.551024   28.4  243.784058\n",
        "1         2     15  26.7    175    7.2  220.851024   23.6  266.584058\n",
        "2         2     15  23.6    174   11.0  208.951024   21.8  272.684058\n",
        "3         2     75  13.5    167    8.4  214.851024   23.8  270.184058\n",
        "4         2     75  15.0    170   12.5  203.351024   22.2  282.584058\n",
        "5         2    150   6.6    333   10.6  178.851024   35.6  276.984058\n",
        "6         2    150   7.3    344   15.9  160.151024   36.9  279.084058\n",
        "7         2    225  11.8    350   13.1  145.251024   49.0  270.584058\n",
        "8         2    295   7.4    351    9.7  139.751024   33.2  270.184058\n",
        "9         3     15  24.2    163    6.8  194.651024   31.4  261.584058\n",
        "10        3     15  23.8    176    NaN         NaN   25.6  269.184058\n",
        "11        3     20  26.4    179    8.1  207.951024   25.2  266.384058\n",
        "12        3     23  29.6    176    7.4  214.951024   28.0  264.284058\n",
        "13        3     23  23.1    172    6.3  202.351024   28.4  266.084058\n",
        "14        3     75  14.7    171    7.4  212.751024   24.0  266.184058\n",
        "15        3    150  13.3    338   15.3  148.751024   40.2  274.184058\n",
        "16        3    200  15.8    349   10.9  144.851024   44.1  272.584058\n",
        "17        3    225  19.0    358   14.1  147.051024   50.3  270.484058\n",
        "18        3    225  17.9    357   18.3  129.351024   46.7  269.484058\n",
        "19        3    250  19.5    353   18.0  124.451024   46.9  268.284058\n",
        "20        3    275  14.6    348   16.2  167.451024   46.1  272.584058\n",
        "21        3    275  16.4    351   12.3  137.151024   47.3  273.284058\n",
        "22        4     75   5.7    155   10.4  167.951024   31.7  273.184058\n",
        "23        4    150  11.1    353   15.5  135.251024   44.2  270.884058\n",
        "24        4    250  21.0    340   16.9  118.951024   50.8  266.484058\n",
        "25        5     80   4.0    193    8.8  133.951024   41.4  244.184058\n"
       ]
      }
     ],
     "prompt_number": 45
    },
    {
     "cell_type": "code",
     "collapsed": false,
     "input": [],
     "language": "python",
     "metadata": {},
     "outputs": []
    }
   ],
   "metadata": {}
  }
 ]
}