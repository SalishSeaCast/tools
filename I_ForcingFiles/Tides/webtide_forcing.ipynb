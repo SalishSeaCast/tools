{
 "cells": [
  {
   "cell_type": "markdown",
   "metadata": {},
   "source": [
    "Get the forcing from WebTide (http://www.bio.gc.ca/science/research-recherche/ocean/webtide/index-eng.php) for the Juan de Fuca boundary of the model and created the web forcing files for the model, including all tidal corrections"
   ]
  },
  {
   "cell_type": "code",
   "execution_count": 24,
   "metadata": {
    "collapsed": false
   },
   "outputs": [],
   "source": [
    "#preamble\n",
    "%matplotlib inline\n",
    "from matplotlib import pylab\n",
    "import netCDF4 as NC\n",
    "import csv \n",
    "import numpy\n",
    "from itertools import islice\n",
    "from math import cos, sin, tan, radians\n",
    "import sys\n",
    "import webtide_tools"
   ]
  },
  {
   "cell_type": "code",
   "execution_count": null,
   "metadata": {
    "collapsed": true
   },
   "outputs": [],
   "source": [
    "# These are the corrections to be used.\n",
    "tidesetname = 'TS2'\n",
    "#list of constituents in Webtide predictions\n",
    "constlist = ['O1', 'Q1', 'K1', 'N2', 'M2', 'S2']\n",
    "# these are the Fine Tuning Correction Factors.\n",
    "# A means All, A2 : all semi-diurnals, A1: all diurnals\n",
    "CFactors = {'A2 Flux':1.2240, 'A2 Phase': -13.18, 'A2 Amp': 0.898,\n",
    "            'S2 Phase': 0.9, 'S2 Amp': 1.037,\n",
    "            'N2 Phase': 0.5, 'N2 Amp': 0.974,\n",
    "            'K2 Phase': 0., 'K2 Amp': 0.,\n",
    "            'A1 Phase': -18.0, 'A1 Amp': 1.076,\n",
    "            'O1 Phase': +13.6, 'O1 Amp': 0.999,\n",
    "            'Q1 Phase': +12.9, 'Q1 Amp': 0.988}\n",
    "CFactors['K2 Phase'] = -5.7\n",
    "CFactors['K2 Amp'] = 0.235\n",
    "CFactors['P1 Phase'] = - 3.5\n",
    "CFactors['P1 Amp'] = 0.31"
   ]
  },
  {
   "cell_type": "markdown",
   "metadata": {},
   "source": [
    "Get the co-ordinates of the boundary and put them in a text file for WebTide. \n",
    "\n",
    "Note that surface elevation, u and v are offset from each other on a Arakawa C grid. So the lat/lon of each grid will be different for each of them. We therefore need a different list of co-ordinates to give WebTide for T, U and V.\n",
    "\n",
    "Use new bathymetry with smoothed JdF mouth.\n",
    "\n",
    "K1 phase decreased by 5 degrees in U,V,eta.\n",
    "K1 amplitude increased by factor of 1.15 in U,V,eta\n",
    "M2 phase decreased by 5 degrees in U,V,eta\n"
   ]
  },
  {
   "cell_type": "code",
   "execution_count": null,
   "metadata": {
    "collapsed": false
   },
   "outputs": [],
   "source": [
    "#load in the bathymetry netcdf data\n",
    "#fB = NC.Dataset('../../../nemo-forcing/grid/bathy_meter_SalishSea2.nc','r')\n",
    "fB = NC.Dataset('../../../NEMO-forcing/grid/bathy_meter_SalishSea2.nc','r')\n",
    "\n",
    "#get the depth data from the netcdf\n",
    "depth = fB.variables['Bathymetry'][:]\n",
    "# masking just causes problems, set depth to 0 on land\n",
    "depth[depth.mask] = 0\n",
    "a, b = depth.shape\n",
    "print(a,b)"
   ]
  },
  {
   "cell_type": "code",
   "execution_count": null,
   "metadata": {
    "collapsed": false
   },
   "outputs": [],
   "source": [
    "#load in the co-ordinates file\n",
    "#fC = NC.Dataset('../../../nemo-forcing/grid/coordinates_seagrid_SalishSea.nc','r')\n",
    "fC = NC.Dataset('../../../NEMO-forcing/grid/coordinates_seagrid_SalishSea.nc','r')\n",
    "\n",
    "#glam = longitude, gphi = latitude\n",
    "lonT = fC.variables['glamt'][0,:,0]\n",
    "latT = fC.variables['gphit'][0,:,0]\n",
    "lonU = fC.variables['glamu'][0,:,0]\n",
    "latU = fC.variables['gphiu'][0,:,0]\n",
    "lonV = fC.variables['glamv'][0,:,0]\n",
    "latV = fC.variables['gphiv'][0,:,0]\n",
    "\n",
    "#check it's the right boundary :)\n",
    "pylab.contourf(fC.variables['glamt'][0,:,:],fC.variables['gphit'][0,:,:],depth)\n",
    "pylab.plot(lonT,latT,'oy')"
   ]
  },
  {
   "cell_type": "code",
   "execution_count": null,
   "metadata": {
    "collapsed": false
   },
   "outputs": [],
   "source": [
    "#i and j indices of the western boundary\n",
    "i = a-1\n",
    "j = 0\n",
    "\n",
    "#find the boundary from the depth data\n",
    "depthT = depth[:,j]\n",
    "depthU = 0.5*(depth[:,j]+depth[:,j+1])\n",
    "depthV = numpy.zeros(len(depthT))\n",
    "depthV[0:i-1] = 0.5*(depth[0:i-1,j]+depth[1:i,j])\n",
    "depthV[i] = depth[i,j]\n",
    "\n",
    "#plot all the depth data\n",
    "#if the three depth variables line up then I've done it right!\n",
    "pylab.plot(depthT,'x',depthU,'o',depthV,'*')\n",
    "pylab.xlabel('grid number')\n",
    "pylab.ylabel('depth [m]')\n",
    "pylab.legend(('T','U','V'))\n",
    "pylab.title('Check the three grids line up')\n",
    "\n",
    "#find where lats and lons the depths are not 0 - this is the boundary\n",
    "boundlatT = latT[depthT!=0]\n",
    "boundlonT = lonT[depthT!=0]\n",
    "boundlatU = latU[depthU!=0]\n",
    "boundlonU = lonU[depthU!=0]\n",
    "boundlatV = latV[depthV!=0]\n",
    "boundlonV = lonV[depthV!=0]\n",
    "\n",
    "print('number of T cells along boundary = '+str(len(boundlatT)))\n",
    "print('number of U cells along boundary = '+str(len(boundlatU)))\n",
    "print('number of V cells along boundary = '+str(len(boundlatV)))"
   ]
  },
  {
   "cell_type": "code",
   "execution_count": null,
   "metadata": {
    "collapsed": false
   },
   "outputs": [],
   "source": [
    "print('T')\n",
    "I = numpy.where(depthT!=0)\n",
    "print(I[0][-1]+6)\n",
    "print(I[0][0]-5)\n",
    "\n",
    "print(len(depth[I]))\n",
    "print('u')\n",
    "print(numpy.where(depthU!=0))\n",
    "print('v')\n",
    "print(numpy.where(depthV!=0))"
   ]
  },
  {
   "cell_type": "code",
   "execution_count": null,
   "metadata": {
    "collapsed": false
   },
   "outputs": [],
   "source": [
    "#Write the lats and lons of each grid to a text file\n",
    "\n",
    "#T grid\n",
    "#create a .csv file of lat/lons for tidal elevation predictions, to import into Webtide\n",
    "with open('jdf_boundary_coords_T.txt', 'wb') as csvfile:\n",
    "    writer = csv.writer(csvfile, delimiter=' ')\n",
    "    for t in numpy.arange(0,len(boundlatT)):\n",
    "            writer.writerow([boundlonT[t],boundlatT[t]])         \n",
    "            \n",
    "#U grid\n",
    "#create a .csv file of lat/lons for tidal elevation predictions, to import into Webtide\n",
    "with open('jdf_boundary_coords_U.txt', 'wb') as csvfile:\n",
    "    writer = csv.writer(csvfile, delimiter=' ')\n",
    "    for t in numpy.arange(0,len(boundlatU)):\n",
    "            writer.writerow([boundlonU[t],boundlatU[t]])         \n",
    "\n",
    "#V grid\n",
    "#create a .csv file of lat/lons for tidal elevation predictions, to import into Webtide\n",
    "with open('jdf_boundary_coords_V.txt', 'wb') as csvfile:\n",
    "    writer = csv.writer(csvfile, delimiter=' ')\n",
    "    for t in numpy.arange(0,len(boundlatV)):\n",
    "            writer.writerow([boundlonV[t],boundlatV[t]])         "
   ]
  },
  {
   "cell_type": "markdown",
   "metadata": {},
   "source": [
    "Now I start the WebTide application, select 'Import Tide Markers' then select 'Get Constituents'. An html page opens with the constituents for each of the points. I select all the data and copy into a .csv file. I do this separately for T, U and V grids. For the T grid, I get constituents for elevation. For the U grid, I get constituents for currents but I only use the u component. For the V grid, I get constituents for currents but I only use the v component.\n",
    "\n",
    "NOTE: I did this once for the subdomain grid, but the lat/lon of the boundary points didn't change so I didn't change it for the bigger domain.\n"
   ]
  },
  {
   "cell_type": "markdown",
   "metadata": {},
   "source": [
    "## Read in Webtide data, change from amplitude/phase to Z1/Z2 (required by NEMO) and create NetCDF files"
   ]
  },
  {
   "cell_type": "code",
   "execution_count": null,
   "metadata": {
    "collapsed": false
   },
   "outputs": [],
   "source": [
    "reload(webtide_tools)"
   ]
  },
  {
   "cell_type": "code",
   "execution_count": null,
   "metadata": {
    "collapsed": false
   },
   "outputs": [],
   "source": [
    "# Use the flux/amplitude/phase corrections and calculate and write the files.\n",
    "\n",
    "\n",
    "for i in numpy.arange(0,len(constlist)):\n",
    "    \n",
    "    #get the predictsion results for elevation, y and v and convert to required format\n",
    "    #the last number, puts a number after SalishSea.  Here a \"2\" says the bathymetry with\n",
    "    #smoothed JdF mouth\n",
    "    elZ1, elZ2 = webtide_tools.create_tide_netcdf('T', constlist[i], depthT, '2', tidesetname, CFactors)\n",
    "    uZ1, uZ2 = webtide_tools.create_tide_netcdf('U', constlist[i], depthU, '2', tidesetname, CFactors)\n",
    "    vZ1, vZ2 = webtide_tools.create_tide_netcdf('V', constlist[i], depthV, '2', tidesetname, CFactors)\n",
    "    \n",
    "    #plot the results for each constituent to check it makes sense\n",
    "    pylab.figure()\n",
    "    #define some arbitrary time to check results\n",
    "    theta1 = numpy.pi/4\n",
    "\n",
    "    #plot the elevation results\n",
    "    pylab.subplot(4,1,1)\n",
    "    Ael = numpy.sqrt(elZ1**2+elZ2**2)\n",
    "    phiel = -numpy.arctan2(elZ2,elZ1)\n",
    "    elN = Ael*numpy.cos(theta1-phiel)\n",
    "    pylab.title(constlist[i])\n",
    "    pylab.plot(elN,'r')\n",
    "    pylab.ylabel('elevation (m)')\n",
    "    pylab.ylim((-0.4,0.4))\n",
    "    \n",
    "    #calculate the actual components u and v\n",
    "    Au = numpy.sqrt(uZ1**2+uZ2**2)\n",
    "    Av = numpy.sqrt(vZ1**2+vZ2**2)\n",
    "    phiu = -numpy.arctan2(uZ2,uZ1)\n",
    "    phiv = -numpy.arctan2(vZ2,vZ1)\n",
    "    uN = Au*numpy.cos(theta1-phiu)\n",
    "    vN = Av*numpy.cos(theta1-phiv)\n",
    "    \n",
    "    #plot the u and v velocities separately\n",
    "    pylab.subplot(4,1,2)\n",
    "    pylab.plot(uN,'b')\n",
    "    pylab.ylabel('u (m/s)')\n",
    "    pylab.ylim((-0.3,0.3))\n",
    "\n",
    "    pylab.subplot(4,1,3)\n",
    "    pylab.plot(vN,'m')\n",
    "    pylab.ylabel('v (m/s)')\n",
    "    pylab.ylim((-0.3,0.3))\n",
    "    \n",
    "    #make a little quiver plot to check this makes sense\n",
    "    pylab.subplot(4,1,4)\n",
    "    pylab.quiver([0]*78,numpy.linspace(0,77,78),uN[0:76],vN[0:76],scale=1)\n",
    "\n",
    "#    print phiel*180/numpy.pi"
   ]
  },
  {
   "cell_type": "code",
   "execution_count": null,
   "metadata": {
    "collapsed": false
   },
   "outputs": [],
   "source": []
  }
 ],
 "metadata": {
  "kernelspec": {
   "display_name": "Python 2",
   "language": "python",
   "name": "python2"
  },
  "language_info": {
   "codemirror_mode": {
    "name": "ipython",
    "version": 2
   },
   "file_extension": ".py",
   "mimetype": "text/x-python",
   "name": "python",
   "nbconvert_exporter": "python",
   "pygments_lexer": "ipython2",
   "version": "2.7.10"
  }
 },
 "nbformat": 4,
 "nbformat_minor": 0
}
