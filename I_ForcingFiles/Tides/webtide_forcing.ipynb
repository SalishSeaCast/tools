{
 "metadata": {
  "name": "",
  "signature": "sha256:104e25b7d01abc6dc14513c2b12255bd5ed5a54adbc71cd8b59704a196293f6a"
 },
 "nbformat": 3,
 "nbformat_minor": 0,
 "worksheets": [
  {
   "cells": [
    {
     "cell_type": "markdown",
     "metadata": {},
     "source": [
      "Get the forcing from WebTide (http://www.bio.gc.ca/science/research-recherche/ocean/webtide/index-eng.php) for the Juan de Fuca boundary of the model"
     ]
    },
    {
     "cell_type": "code",
     "collapsed": false,
     "input": [
      "#preamble\n",
      "%matplotlib inline\n",
      "from matplotlib import pylab\n",
      "import netCDF4 as NC\n",
      "import csv \n",
      "import numpy\n",
      "from itertools import islice\n",
      "from math import cos, sin, tan, radians\n",
      "import sys\n",
      "import webtide_tools"
     ],
     "language": "python",
     "metadata": {},
     "outputs": [],
     "prompt_number": 17
    },
    {
     "cell_type": "markdown",
     "metadata": {},
     "source": [
      "Get the co-ordinates of the boundary and put them in a text file for WebTide. \n",
      "\n",
      "Note that surface elevation, u and v are offset from each other on a Arakawa C grid. So the lat/lon of each grid will be different for each of them. We therefore need a different list of co-ordinates to give WebTide for T, U and V.\n",
      "\n",
      "Use new bathymetry with smoothed JdF mouth.\n",
      "\n",
      "K1 phase decreased by 5 degrees in U,V,eta.\n",
      "K1 amplitude increased by factor of 1.15 in U,V,eta\n",
      "M2 phase decreased by 5 degrees in U,V,eta\n"
     ]
    },
    {
     "cell_type": "code",
     "collapsed": false,
     "input": [
      "#load in the bathymetry netcdf data\n",
      "#fB = NC.Dataset('../../../nemo-forcing/grid/bathy_meter_SalishSea2.nc','r')\n",
      "fB = NC.Dataset('../../../NEMO-forcing/grid/bathy_meter_SalishSea2.nc','r')\n",
      "\n",
      "#get the depth data from the netcdf\n",
      "depth = fB.variables['Bathymetry'][:]\n",
      "# masking just causes problems, set depth to 0 on land\n",
      "depth[depth.mask] = 0\n",
      "a, b = depth.shape\n",
      "print(a,b)"
     ],
     "language": "python",
     "metadata": {},
     "outputs": [
      {
       "output_type": "stream",
       "stream": "stdout",
       "text": [
        "(898, 398)\n"
       ]
      }
     ]
    },
    {
     "cell_type": "code",
     "collapsed": false,
     "input": [
      "#load in the co-ordinates file\n",
      "#fC = NC.Dataset('../../../nemo-forcing/grid/coordinates_seagrid_SalishSea.nc','r')\n",
      "fC = NC.Dataset('../../../NEMO-forcing/grid/coordinates_seagrid_SalishSea.nc','r')\n",
      "\n",
      "#glam = longitude, gphi = latitude\n",
      "lonT = fC.variables['glamt'][0,:,0]\n",
      "latT = fC.variables['gphit'][0,:,0]\n",
      "lonU = fC.variables['glamu'][0,:,0]\n",
      "latU = fC.variables['gphiu'][0,:,0]\n",
      "lonV = fC.variables['glamv'][0,:,0]\n",
      "latV = fC.variables['gphiv'][0,:,0]\n",
      "\n",
      "#check it's the right boundary :)\n",
      "pylab.contourf(fC.variables['glamt'][0,:,:],fC.variables['gphit'][0,:,:],depth)\n",
      "pylab.plot(lonT,latT,'oy')"
     ],
     "language": "python",
     "metadata": {},
     "outputs": [
      {
       "metadata": {},
       "output_type": "pyout",
       "prompt_number": 19,
       "text": [
        "[<matplotlib.lines.Line2D at 0x44b7f50>]"
       ]
      },
      {
       "metadata": {},
       "output_type": "display_data",
       "png": "[encoded data removed]",
       "text": [
        "<matplotlib.figure.Figure at 0x44b75d0>"
       ]
      }
     ]
    },
    {
     "cell_type": "code",
     "collapsed": false,
     "input": [
      "#i and j indices of the western boundary\n",
      "i = a-1\n",
      "j = 0\n",
      "\n",
      "#find the boundary from the depth data\n",
      "depthT = depth[:,j]\n",
      "depthU = 0.5*(depth[:,j]+depth[:,j+1])\n",
      "depthV = numpy.zeros(len(depthT))\n",
      "depthV[0:i-1] = 0.5*(depth[0:i-1,j]+depth[1:i,j])\n",
      "depthV[i] = depth[i,j]\n",
      "\n",
      "#plot all the depth data\n",
      "#if the three depth variables line up then I've done it right!\n",
      "pylab.plot(depthT,'x',depthU,'o',depthV,'*')\n",
      "pylab.xlabel('grid number')\n",
      "pylab.ylabel('depth [m]')\n",
      "pylab.legend(('T','U','V'))\n",
      "pylab.title('Check the three grids line up')\n",
      "\n",
      "#find where lats and lons the depths are not 0 - this is the boundary\n",
      "boundlatT = latT[depthT!=0]\n",
      "boundlonT = lonT[depthT!=0]\n",
      "boundlatU = latU[depthU!=0]\n",
      "boundlonU = lonU[depthU!=0]\n",
      "boundlatV = latV[depthV!=0]\n",
      "boundlonV = lonV[depthV!=0]\n",
      "\n",
      "print('number of T cells along boundary = '+str(len(boundlatT)))\n",
      "print('number of U cells along boundary = '+str(len(boundlatU)))\n",
      "print('number of V cells along boundary = '+str(len(boundlatV)))"
     ],
     "language": "python",
     "metadata": {},
     "outputs": []
    },
    {
     "cell_type": "code",
     "collapsed": false,
     "input": [
      "print('T')\n",
      "I = numpy.where(depthT!=0)\n",
      "print(I[0][-1]+6)\n",
      "print(I[0][0]-5)\n",
      "\n",
      "print(len(depth[I]))\n",
      "print('u')\n",
      "print(numpy.where(depthU!=0))\n",
      "print('v')\n",
      "print(numpy.where(depthV!=0))"
     ],
     "language": "python",
     "metadata": {},
     "outputs": []
    },
    {
     "cell_type": "code",
     "collapsed": false,
     "input": [
      "#Write the lats and lons of each grid to a text file\n",
      "\n",
      "#T grid\n",
      "#create a .csv file of lat/lons for tidal elevation predictions, to import into Webtide\n",
      "with open('jdf_boundary_coords_T.txt', 'wb') as csvfile:\n",
      "    writer = csv.writer(csvfile, delimiter=' ')\n",
      "    for t in numpy.arange(0,len(boundlatT)):\n",
      "            writer.writerow([boundlonT[t],boundlatT[t]])         \n",
      "            \n",
      "#U grid\n",
      "#create a .csv file of lat/lons for tidal elevation predictions, to import into Webtide\n",
      "with open('jdf_boundary_coords_U.txt', 'wb') as csvfile:\n",
      "    writer = csv.writer(csvfile, delimiter=' ')\n",
      "    for t in numpy.arange(0,len(boundlatU)):\n",
      "            writer.writerow([boundlonU[t],boundlatU[t]])         \n",
      "\n",
      "#V grid\n",
      "#create a .csv file of lat/lons for tidal elevation predictions, to import into Webtide\n",
      "with open('jdf_boundary_coords_V.txt', 'wb') as csvfile:\n",
      "    writer = csv.writer(csvfile, delimiter=' ')\n",
      "    for t in numpy.arange(0,len(boundlatV)):\n",
      "            writer.writerow([boundlonV[t],boundlatV[t]])         "
     ],
     "language": "python",
     "metadata": {},
     "outputs": []
    },
    {
     "cell_type": "markdown",
     "metadata": {},
     "source": [
      "Now I start the WebTide application, select 'Import Tide Markers' then select 'Get Constituents'. An html page opens with the constituents for each of the points. I select all the data and copy into a .csv file. I do this separately for T, U and V grids. For the T grid, I get constituents for elevation. For the U grid, I get constituents for currents but I only use the u component. For the V grid, I get constituents for currents but I only use the v component.\n",
      "\n",
      "NOTE: I did this once for the subdomain grid, but the lat/lon of the boundary points didn't change so I didn't change it for the bigger domain.\n"
     ]
    },
    {
     "cell_type": "heading",
     "level": 2,
     "metadata": {},
     "source": [
      "Read in Webtide data, change from amplitude/phase to Z1/Z2 (required by NEMO) and create NetCDF files"
     ]
    },
    {
     "cell_type": "code",
     "collapsed": false,
     "input": [
      "reload(webtide_tools)"
     ],
     "language": "python",
     "metadata": {},
     "outputs": []
    },
    {
     "cell_type": "code",
     "collapsed": false,
     "input": [
      "#list of constituents in Webtide predictions\n",
      "constlist = ['O1', 'P1', 'Q1', 'K1', 'K2', 'N2', 'M2', 'S2']\n",
      "CFactors = {'A2 Flux':1.2240, 'A2 Phase': 13.87, 'A2 Amp': 0.971,\n",
      "            'S2 Phase': 0, 'S2 Amp': 1,\n",
      "            'A1 Phase': 7.83, 'A1 Amp': 0.925,\n",
      "            'O1 Phase': -2.1, 'O1 Amp': 0.974}\n",
      "\n",
      "for i in numpy.arange(0,len(constlist)):\n",
      "    \n",
      "    #get the predictsion results for elevation, y and v and convert to required format\n",
      "    #the last number, puts a number after SalishSea.  Here a \"2\" says the bathymetry with\n",
      "    #smoothed JdF mouth\n",
      "    elZ1, elZ2 = webtide_tools.create_tide_netcdf('T',constlist[i],depthT,'2','Flux_RC4',CFactors)\n",
      "    uZ1, uZ2 = webtide_tools.create_tide_netcdf('U',constlist[i],depthU,'2','Flux_RC4',CFactors)\n",
      "    vZ1, vZ2 = webtide_tools.create_tide_netcdf('V',constlist[i],depthV,'2','Flux_RC4',CFactors)\n",
      "    \n",
      "    #plot the results for each constituent to check it makes sense\n",
      "    pylab.figure()\n",
      "    #define some arbitrary time to check results\n",
      "    theta1 = numpy.pi/4\n",
      "\n",
      "    #plot the elevation results\n",
      "    pylab.subplot(4,1,1)\n",
      "    Ael = numpy.sqrt(elZ1**2+elZ2**2)\n",
      "    phiel = -numpy.arctan2(elZ2,elZ1)\n",
      "    elN = Ael*numpy.cos(theta1-phiel)\n",
      "    pylab.title(constlist[i])\n",
      "    pylab.plot(elN,'r')\n",
      "    pylab.ylabel('elevation (m)')\n",
      "    pylab.ylim((-0.4,0.4))\n",
      "    \n",
      "    #calculate the actual components u and v\n",
      "    Au = numpy.sqrt(uZ1**2+uZ2**2)\n",
      "    Av = numpy.sqrt(vZ1**2+vZ2**2)\n",
      "    phiu = -numpy.arctan2(uZ2,uZ1)\n",
      "    phiv = -numpy.arctan2(vZ2,vZ1)\n",
      "    uN = Au*numpy.cos(theta1-phiu)\n",
      "    vN = Av*numpy.cos(theta1-phiv)\n",
      "    \n",
      "    #plot the u and v velocities separately\n",
      "    pylab.subplot(4,1,2)\n",
      "    pylab.plot(uN,'b')\n",
      "    pylab.ylabel('u (m/s)')\n",
      "    pylab.ylim((-0.3,0.3))\n",
      "\n",
      "    pylab.subplot(4,1,3)\n",
      "    pylab.plot(vN,'m')\n",
      "    pylab.ylabel('v (m/s)')\n",
      "    pylab.ylim((-0.3,0.3))\n",
      "    \n",
      "    #make a little quiver plot to check this makes sense\n",
      "    pylab.subplot(4,1,4)\n",
      "    pylab.quiver([0]*78,numpy.linspace(0,77,78),uN[0:76],vN[0:76],scale=1)\n",
      "\n",
      "#    print phiel*180/numpy.pi"
     ],
     "language": "python",
     "metadata": {},
     "outputs": []
    },
    {
     "cell_type": "code",
     "collapsed": false,
     "input": [],
     "language": "python",
     "metadata": {},
     "outputs": []
    }
   ],
   "metadata": {}
  }
 ]
}