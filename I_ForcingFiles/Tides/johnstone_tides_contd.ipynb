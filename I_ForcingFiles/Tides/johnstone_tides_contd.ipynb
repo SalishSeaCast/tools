{
 "metadata": {
  "name": "",
  "signature": "sha256:e95f8974d76d8c65a0bc12e591271c4d336e3dd9aca0c3927805d96d16086af5"
 },
 "nbformat": 3,
 "nbformat_minor": 0,
 "worksheets": [
  {
   "cells": [
    {
     "cell_type": "markdown",
     "metadata": {},
     "source": [
      "This notebook extends Kate's work on generating forcing files for the tides at Johnstone Strait. Kate's notebook is based on observations from Thomson and Huggett (1980). Unfortunately, their observations are not long enough to retrieve the smaller tidal constuents: O1, S2, N2, P1, Q1, K2.\n",
      "\n",
      "To determine these constituents, we will calculate the amplitude and phase change of the M2/K1 harmonics between the Webtide point closest to our boundary and the Johnstone Strait harmonics that Kate has determined. We will apply the same change to the remaining constituents. "
     ]
    },
    {
     "cell_type": "code",
     "collapsed": false,
     "input": [
      "%matplotlib inline\n",
      "from matplotlib import pylab\n",
      "import matplotlib.pyplot as plt\n",
      "import netCDF4 as NC\n",
      "import numpy as np\n",
      "from math import cos, sin, tan, radians\n",
      "import math\n",
      "import webtide_tools"
     ],
     "language": "python",
     "metadata": {},
     "outputs": [],
     "prompt_number": 16
    },
    {
     "cell_type": "markdown",
     "metadata": {},
     "source": [
      "Load the NETCDF tidal data from the north."
     ]
    },
    {
     "cell_type": "code",
     "collapsed": false,
     "input": [
      "def get_files(constituent,code):\n",
      "    #returns the U, V, T netcdf handles for the tidal constiruents that Kate created for the northern boundary\n",
      "    #constituent = 'O1', 'M2', etc\n",
      "    filename = 'SalishSea2_'+code+'_North_tide_' + constituent\n",
      "        \n",
      "    fU=NC.Dataset(filename + '_grid_U.nc', 'r')\n",
      "    fV=NC.Dataset(filename + '_grid_V.nc', 'r')\n",
      "    fT=NC.Dataset(filename + '_grid_T.nc', 'r')\n",
      "    \n",
      "    return fU, fV, fT\n"
     ],
     "language": "python",
     "metadata": {},
     "outputs": [],
     "prompt_number": 17
    },
    {
     "cell_type": "code",
     "collapsed": false,
     "input": [
      "code = 'corr12'\n",
      "consts_full= {'M2': [], 'K1': [], 'O1': [], 'S2': [], 'N2': [], 'P1': [], 'Q1': [], 'K2': []}\n",
      "consts_North= {'M2': [], 'K1': []}\n",
      "\n",
      "fUs_North={}\n",
      "fVs_North={}\n",
      "fTs_North={}\n",
      "\n",
      "for key in consts_North:\n",
      "    [fUs_North[key], fVs_North[key],fTs_North[key]]= get_files(key,code)\n",
      "      "
     ],
     "language": "python",
     "metadata": {},
     "outputs": [],
     "prompt_number": 18
    },
    {
     "cell_type": "markdown",
     "metadata": {},
     "source": [
      "NEMO takes the harmonics as :\n",
      "\n",
      "$Z_1 = A \\cos(\\phi)$\n",
      "\n",
      "$Z_2 = A \\sin(\\phi)$\n",
      "\n",
      "Where $A$ and $\\phi$ are the amplitude and phase. \n",
      "\n",
      "So: $A = \\sqrt(Z_1^2+Z_2^2)$ and $ \\phi = \\arctan(Z_2/Z_1)$ "
     ]
    },
    {
     "cell_type": "code",
     "collapsed": false,
     "input": [
      "def get_harmomincs(f, comp):\n",
      "    #returns the harmonics as vecotors\n",
      "    #f is the nertcdf handle\n",
      "    #comp is the component ('U','V','T')\n",
      "    import numpy as np\n",
      "    import math\n",
      "    \n",
      "    if comp=='U':\n",
      "        x1='u1'; x2='u2';\n",
      "        \n",
      "    elif comp == 'V':\n",
      "        x1='v1'; x2='v2';\n",
      "        \n",
      "    elif comp == 'T':\n",
      "        x1='z1'; x2='z2';\n",
      "        \n",
      "    X1=f.variables[x1]; X1=np.array(X1); X1=X1.flatten();\n",
      "    X2=f.variables[x2]; X2=np.array(X2); X2=X2.flatten();\n",
      "    amp = np.sqrt(X1[:]**2 + X2[:]**2);\n",
      "    pha=[]\n",
      "    for i in range(0,len(amp)):\n",
      "        pha.append(math.atan2(X2[i],X1[i]))\n",
      "    \n",
      "    pha = np.array(pha)\n",
      "    pha = pha + (pha<0)*2*np.pi\n",
      "            \n",
      "    \n",
      "    return amp, pha"
     ],
     "language": "python",
     "metadata": {},
     "outputs": [],
     "prompt_number": 19
    },
    {
     "cell_type": "markdown",
     "metadata": {},
     "source": [
      "Open the NETCDF files and retrieve the constituents at the North. These are the ones that Kate calculated from Thomson and Huggett (1980). This data is relative to the NEMO grid rotation. "
     ]
    },
    {
     "cell_type": "code",
     "collapsed": false,
     "input": [
      "Us_North_amp = {}; Us_North_pha = {}\n",
      "Vs_North_amp = {}; Vs_North_pha = {}\n",
      "Ts_North_amp = {}; Ts_North_pha = {}\n",
      "\n",
      "for key in consts_North:\n",
      "    [Us_North_amp[key], Us_North_pha[key]]= get_harmomincs(fUs_North[key],'U')\n",
      "    [Vs_North_amp[key], Vs_North_pha[key]]= get_harmomincs(fVs_North[key],'V')\n",
      "    [Ts_North_amp[key], Ts_North_pha[key]]= get_harmomincs(fTs_North[key],'T')\n",
      "\n",
      "\n"
     ],
     "language": "python",
     "metadata": {},
     "outputs": [],
     "prompt_number": 20
    },
    {
     "cell_type": "markdown",
     "metadata": {},
     "source": [
      "Get the tidal elevation constituents from the nearby Webtide point.\n",
      "\n",
      "Note: Kate has the tidal elevation constituents from webtide saved in webtide_point_johnstone_strait.csv. I had to retrieve the current constituents.\n",
      "\n",
      "To do this, I launched Webtide, created a tidal marker at the Lat/Lon from Kate's webtide point. Then I pressed \"Get Harmonics\" with currents selected. Webtide outputs an html file which I saved and then copied to a csv file. \n",
      "\n",
      "The data is in:\n",
      "Currents: /data/nsoontie/MEOPAR/tools/I_ForcingFiles/Tides/Webtide_Current_Constituents_North.csv\n",
      "\n",
      "Elevation: /data/nsoontie/MEOPAR/tools/I_ForcingFiles/Tides/webtide_point_johnstone_strait.csv\n"
     ]
    },
    {
     "cell_type": "code",
     "collapsed": false,
     "input": [
      "def get_webtide_data(constituent):\n",
      "    # returns the phase and amplitude of a constituent from webtide. Takes into account the rotation of the grid.\n",
      "    # constituent is eg 'M2', 'K1', etc...\n",
      "    # this is based on Kate's function get_data_from_csv() in webtide_tools \n",
      "    # returns the T,U,V phase (radians) and amplitude for the NEMO grid (ie rotated)\n",
      "    # uses Kate's method of rotating the currents from webtide. See Data acquisition in docs\n",
      "\n",
      "    import pandas as pd\n",
      "    import math\n",
      "    import numpy as np\n",
      "    \n",
      "    theta = math.radians(29);\n",
      "    webtide_curr = pd.read_csv('Webtide_Current_Constituents_North.csv',\\\n",
      "                                 skiprows = 2)\n",
      "    webtide_curr = webtide_curr.rename(columns={'Constituent': 'const', 'Longitude': 'lon', 'Latitude': 'lat', \\\n",
      "                                          'U Amplitude (m)': 'ewamp', 'U Phase (deg GMT)': 'ewpha',\\\n",
      "                                          'V Amplitude (m)': 'nsamp', 'V Phase (deg GMT)': 'nspha'})\n",
      "\n",
      "    #Convert phase from north/south into grid co-ordinates (see docs/tides/tides_data_acquisition for details)\n",
      "    ua = webtide_curr[webtide_curr.const==(constituent)].ewamp\n",
      "    va = webtide_curr[webtide_curr.const==(constituent)].nsamp\n",
      "    uphi = math.radians(webtide_curr[webtide_curr.const==(constituent)].ewpha)\n",
      "    vphi = math.radians(webtide_curr[webtide_curr.const==(constituent)].nspha)\n",
      "        \n",
      "    uZ1 = ua*math.cos(theta)*math.cos(uphi) - va*math.sin(theta)*math.sin(vphi)\n",
      "    uZ2 = ua*math.cos(theta)*math.sin(uphi) + va*math.sin(theta)*math.cos(vphi)\n",
      "    \n",
      "    vZ1 = -ua*math.sin(theta)*math.cos(uphi) - va*math.cos(theta)*math.sin(vphi)\n",
      "    vZ2 = -ua*math.sin(theta)*math.sin(uphi) + va*math.cos(theta)*math.cos(vphi)\n",
      "    \n",
      "    #Now get the phase and amplitude for U on NEMO grid\n",
      "    U_amp = math.sqrt(uZ1**2 +uZ2**2);\n",
      "    U_pha=math.atan2(uZ2,uZ1)\n",
      "    U_pha = U_pha + (U_pha<0)*2*np.pi;\n",
      "        \n",
      "    #Now get the phase and amplitude for V on NEMO grid\n",
      "    V_amp = math.sqrt(vZ1**2 +vZ2**2);\n",
      "    V_pha=math.atan2(vZ2,vZ1)\n",
      "    V_pha = V_pha + (V_pha<0)*2*np.pi;\n",
      "        \n",
      "    #Now get the webtide data for elevation. This is much easier since we don't have to worry about rotation.\n",
      "    webtide_elev = pd.read_csv('webtide_point_johnstone_strait.csv',\\\n",
      "                              skiprows = 2)\n",
      "    webtide_elev = webtide_elev.rename(columns={'Constituent': 'const', 'Longitude': 'lon', 'Latitude': 'lat', \\\n",
      "                                          'Amplitude (m)': 'amp', 'Phase (deg GMT)': 'pha'})\n",
      "        \n",
      "    T_amp = np.array(webtide_elev[webtide_elev.const==(constituent)].amp)[0]\n",
      "    T_pha = np.radians(np.array(webtide_elev[webtide_elev.const==(constituent)].pha)[0])\n",
      "    T_pha = T_pha + (T_pha<0)*2*np.pi;\n",
      "    \n",
      "    return U_amp, U_pha, V_amp, V_pha, T_amp, T_pha"
     ],
     "language": "python",
     "metadata": {},
     "outputs": [],
     "prompt_number": 21
    },
    {
     "cell_type": "code",
     "collapsed": false,
     "input": [
      "#Get all the webtide data\n",
      "Us_web_amp={}\n",
      "Us_web_pha={}\n",
      "Vs_web_amp={}\n",
      "Vs_web_pha={}\n",
      "Ts_web_amp={}\n",
      "Ts_web_pha={}\n",
      "\n",
      "for key in consts_full:\n",
      "    [Us_web_amp[key], Us_web_pha[key], Vs_web_amp[key],\n",
      "     Vs_web_pha[key], Ts_web_amp[key], Ts_web_pha[key]] = get_webtide_data(key)\n"
     ],
     "language": "python",
     "metadata": {},
     "outputs": [],
     "prompt_number": 22
    },
    {
     "cell_type": "markdown",
     "metadata": {},
     "source": [
      "Check on the calculations from webtide and Northern tides by plotting."
     ]
    },
    {
     "cell_type": "code",
     "collapsed": false,
     "input": [
      "#West\n",
      "amp = [-20, 30, 0, 1.5]\n",
      "pha = [-20, 30, 0, 360]\n",
      "cols = {'M2':'r', 'K1': 'b','O1': 'm', 'S2': 'k','P1': 'g', 'N2': 'c', 'Q1': 'y', 'K2': '0.75'}\n",
      "plt.figure(figsize=(18,14))\n",
      "\n",
      "for key in consts_full:\n",
      "    pylab.subplot(3,2,1)\n",
      "    pylab.plot(Us_web_amp[key],cols[key],marker ='o',label=key + ' webtide')\n",
      "    pylab.title('U amp')\n",
      "    pylab.legend(loc=0)\n",
      "    \n",
      "    pylab.subplot(3,2,2)\n",
      "    pylab.plot(np.degrees(Us_web_pha[key]),cols[key],marker ='o',label=key + ' webtide')\n",
      "    pylab.title('U pha')\n",
      "    pylab.legend(loc=0)\n",
      "    \n",
      "    pylab.subplot(3,2,3)\n",
      "    pylab.plot(Vs_web_amp[key],cols[key], marker ='o',label=key + ' webtide')\n",
      "    pylab.title('V amp')\n",
      "    pylab.legend(loc=0)\n",
      "    \n",
      "    pylab.subplot(3,2,4)\n",
      "    pylab.plot(np.degrees(Vs_web_pha[key]),cols[key], marker ='o',label=key + ' webtide')\n",
      "    pylab.title('V pha')\n",
      "    pylab.legend(loc=0)\n",
      "    \n",
      "    pylab.subplot(3,2,5)\n",
      "    pylab.plot(Ts_web_amp[key],cols[key],marker ='o',label=key+ ' webtide')\n",
      "    pylab.title('T amp')\n",
      "    \n",
      "    pylab.subplot(3,2,6)\n",
      "    pylab.plot(np.degrees(Ts_web_pha[key]),cols[key], marker ='o',label=key+ 'webtide')\n",
      "    pylab.title('T pha')    \n",
      "\n",
      "    \n",
      "for key in consts_North:\n",
      "    pylab.subplot(3,2,1)\n",
      "    pylab.plot(Us_North_amp[key],cols[key],label=key + 'North')\n",
      "    pylab.title('U amp')\n",
      "    pylab.legend(loc=0)\n",
      "    pylab.axis(amp)\n",
      "    \n",
      "    pylab.subplot(3,2,2)\n",
      "    pylab.plot(np.degrees(Us_North_pha[key]),cols[key],label=key + 'North')\n",
      "    pylab.title('U pha')\n",
      "    pylab.legend(loc=0)\n",
      "    pylab.axis(pha)\n",
      "    \n",
      "    pylab.subplot(3,2,3)\n",
      "    pylab.plot(Vs_North_amp[key],cols[key], label=key + 'North')\n",
      "    pylab.title('V amp')\n",
      "    pylab.legend(loc=0)\n",
      "    pylab.axis(amp)\n",
      "    \n",
      "    pylab.subplot(3,2,4)\n",
      "    pylab.plot(np.degrees(Vs_North_pha[key]),cols[key], label=key + 'North')\n",
      "    pylab.title('V pha')\n",
      "    pylab.legend(loc=0)\n",
      "    pylab.axis(pha)\n",
      "    \n",
      "    pylab.subplot(3,2,5)\n",
      "    pylab.plot(Ts_North_amp[key],cols[key],label=key+ 'North')\n",
      "    pylab.title('T amp')\n",
      "    \n",
      "    pylab.subplot(3,2,6)\n",
      "    pylab.plot(np.degrees(Ts_North_pha[key]),cols[key], label=key+ 'North')\n",
      "    pylab.title('T pha')\n",
      "    \n",
      "\n",
      "          "
     ],
     "language": "python",
     "metadata": {},
     "outputs": [
      {
       "metadata": {},
       "output_type": "display_data",
       "png": "[encoded data removed]",
       "text": [
        "<matplotlib.figure.Figure at 0x49b6d90>"
       ]
      }
     ],
     "prompt_number": 23
    },
    {
     "cell_type": "markdown",
     "metadata": {},
     "source": [
      "Now, we will see how much the amplitudes and phases have changed between the north and the western boundary.\n",
      "\n",
      "If the M2 tide amplitude has changed by a factor $R$, then we will assume the S2 tide ampltiude has changed by a factor $R$. So,\n",
      "\n",
      "$\\frac{M_{2 North}}{ M_{2 Webtide}} = \\frac{S_{2 North}}{ S_{2 Webtide}}$.\n",
      "\n",
      "This means\n",
      "$S_{2 North} = S_{2 Webtide}\\frac{M_{2 North}}{ M_{2 Webtide}}$\n",
      "\n",
      "\n",
      "If the M2 tide phase has changed by $\\Delta$ then we will assume that the S2 tide phase has also changed by $\\Delta$. Or,\n",
      "\n",
      "$M_{2 North} - M_{2 Webtide} = S_{2 North} - S_{2 Webtide}$.\n",
      "\n",
      "This means\n",
      "$S_{2 North} = S_{2 Webtide} + \\Delta$,\n",
      "\n",
      "where $\\Delta =M_{2 North} - M_{2 Webtide}$.\n"
     ]
    },
    {
     "cell_type": "code",
     "collapsed": false,
     "input": [
      "Us_ratio_amp = {}\n",
      "Vs_ratio_amp = {}\n",
      "Ts_ratio_amp = {}\n",
      "\n",
      "Us_diff_pha= {}\n",
      "Vs_diff_pha = {}\n",
      "Ts_diff_pha = {}\n",
      "\n",
      "\n",
      "\n",
      "for key in consts_North:\n",
      "    Us_ratio_amp[key] = Us_North_amp[key]/Us_web_amp[key];\n",
      "    Vs_ratio_amp[key] = Vs_North_amp[key]/Vs_web_amp[key];\n",
      "    Ts_ratio_amp[key] = Ts_North_amp[key]/Ts_web_amp[key];\n",
      "\n",
      "    Us_diff_pha[key] = Us_North_pha[key]- Us_web_pha[key];\n",
      "    Vs_diff_pha[key] = Vs_North_pha[key]- Vs_web_pha[key];\n",
      "    Ts_diff_pha[key] = Ts_North_pha[key]- Ts_web_pha[key];\n"
     ],
     "language": "python",
     "metadata": {},
     "outputs": [],
     "prompt_number": 24
    },
    {
     "cell_type": "code",
     "collapsed": false,
     "input": [
      "print Us_ratio_amp\n",
      "print Us_diff_pha"
     ],
     "language": "python",
     "metadata": {},
     "outputs": [
      {
       "output_type": "stream",
       "stream": "stdout",
       "text": [
        "{'K1': array([ 0.29502812,  0.29502812,  0.29502812,  0.29502812,  0.29502812,\n",
        "        0.29502812,  0.29502812,  0.47117892,  0.47117892,  0.39829352,\n",
        "        0.39829352,  0.38514301,  0.38514301,  0.17768738,  0.17768738,\n",
        "        0.17768738,  0.17768738,  0.17768738,  0.17768738,  0.17768738,\n",
        "        0.17768738,  0.17768738,  0.17768738,  0.17768738,  0.17768738,\n",
        "        0.17768738,  0.17768738,  0.17768738,  0.17768738,  0.17768738], dtype=float32), 'M2': array([ 0.67270583,  0.67270583,  0.67270583,  0.67270583,  0.67270583,\n",
        "        0.67270583,  0.67270583,  0.67778367,  0.67778367,  0.60671079,\n",
        "        0.60671079,  0.55101484,  0.55101484,  0.46146974,  0.46146974,\n",
        "        0.46146974,  0.46146974,  0.46146974,  0.46146974,  0.46146974,\n",
        "        0.46146974,  0.46146974,  0.46146974,  0.46146974,  0.46146974,\n",
        "        0.46146974,  0.46146974,  0.46146974,  0.46146974,  0.46146974], dtype=float32)}\n",
        "{'K1': array([-1.12725134, -1.12725134, -1.12725134, -1.12725134, -1.12725134,\n",
        "       -1.12725134, -1.12725134, -0.9853706 , -0.9853706 , -0.52761873,\n",
        "       -0.52761873, -0.40393596, -0.40393596, -0.40393595, -0.40393595,\n",
        "       -0.40393595, -0.40393595, -0.40393595, -0.40393595, -0.40393595,\n",
        "       -0.40393595, -0.40393595, -0.40393595, -0.40393595, -0.40393595,\n",
        "       -0.40393595, -0.40393595, -0.40393595, -0.40393595, -0.40393595]), 'M2': array([-0.58648813, -0.58648813, -0.58648813, -0.58648813, -0.58648813,\n",
        "       -0.58648813, -0.58648813, -0.13102991, -0.13102991, -0.13852464,\n",
        "       -0.13852464, -0.07385583, -0.07385583, -0.59346942, -0.59346942,\n",
        "       -0.59346942, -0.59346942, -0.59346942, -0.59346942, -0.59346942,\n",
        "       -0.59346942, -0.59346942, -0.59346942, -0.59346942, -0.59346942,\n",
        "       -0.59346942, -0.59346942, -0.59346942, -0.59346942, -0.59346942])}\n"
       ]
      }
     ],
     "prompt_number": 25
    },
    {
     "cell_type": "markdown",
     "metadata": {},
     "source": [
      "Compute the new Northern amplitudes and phases based on the ratios and make any fine-tuning changes here too."
     ]
    },
    {
     "cell_type": "code",
     "collapsed": false,
     "input": [
      "consts_2 = {'S2': [], 'N2': [], 'K2': []}\n",
      "consts_1 = {'O1': [], 'P1': [], 'Q1': []}\n",
      "# Fine tuning corrections, note that these are relative to M2/K1\n",
      "amp_corr = {'O1': 0.967, 'S2': 0.971, 'P1': 1.048, 'N2': 0.994, 'Q1': 1.031, 'K2': 0.846}\n",
      "pha_corr = {'O1': -0.3*np.pi/180., 'S2': -6.8*np.pi/180., 'P1': 5.1*np.pi/180., 'N2': -3.0*np.pi/180., \n",
      "            'Q1': 1.8*np.pi/180., 'K2': 7.6*np.pi/180.0}\n",
      "\n",
      "# 2 tides\n",
      "for key in consts_2:\n",
      "    Us_North_amp[key] = Us_web_amp[key]*Us_ratio_amp['M2']*amp_corr[key]\n",
      "    Vs_North_amp[key] = Vs_web_amp[key]*Vs_ratio_amp['M2']*amp_corr[key]\n",
      "    Ts_North_amp[key] = Ts_web_amp[key]*Ts_ratio_amp['M2']*amp_corr[key]\n",
      "    \n",
      "    Us_North_pha[key] = Us_web_pha[key] + Us_diff_pha['M2'] + pha_corr[key]\n",
      "    Vs_North_pha[key] = Vs_web_pha[key] + Vs_diff_pha['M2'] + pha_corr[key]\n",
      "    Ts_North_pha[key] = Ts_web_pha[key] + Ts_diff_pha['M2'] + pha_corr[key]\n",
      "    \n",
      "# 1 tides\n",
      "for key in consts_1:\n",
      "    Us_North_amp[key] = Us_web_amp[key]*Us_ratio_amp['K1']*amp_corr[key]\n",
      "    Vs_North_amp[key] = Vs_web_amp[key]*Vs_ratio_amp['K1']*amp_corr[key]\n",
      "    Ts_North_amp[key] = Ts_web_amp[key]*Ts_ratio_amp['K1']*amp_corr[key]\n",
      "    \n",
      "    Us_North_pha[key] = Us_web_pha[key] + Us_diff_pha['K1'] + pha_corr[key]\n",
      "    Vs_North_pha[key] = Vs_web_pha[key] + Vs_diff_pha['K1'] + pha_corr[key]\n",
      "    Ts_North_pha[key] = Ts_web_pha[key] + Ts_diff_pha['K1'] + pha_corr[key]\n",
      "    "
     ],
     "language": "python",
     "metadata": {},
     "outputs": []
    },
    {
     "cell_type": "markdown",
     "metadata": {},
     "source": [
      "Plot the results to check. "
     ]
    },
    {
     "cell_type": "code",
     "collapsed": false,
     "input": [
      "cols = {'M2':'r', 'K1': 'b','O1': 'm', 'S2': 'k','P1': 'g', 'N2': 'c', 'Q1': 'y', 'K2': '0.75'}\n",
      "plt.figure(figsize=(14,10))\n",
      "for key in consts_full:\n",
      "    pylab.subplot(3,2,1)\n",
      "    pylab.plot(Us_North_amp[key],cols[key],label=key)\n",
      "    pylab.title('U amp')\n",
      "    pylab.legend(loc=0)\n",
      "    \n",
      "    pylab.subplot(3,2,2)\n",
      "    pylab.plot(np.degrees(Us_North_pha[key]),cols[key],label=key)\n",
      "    pylab.title('U pha')\n",
      "    pylab.legend(loc=0)\n",
      "    \n",
      "    pylab.subplot(3,2,3)\n",
      "    pylab.plot(Vs_North_amp[key],cols[key],label=key)\n",
      "    pylab.title('V amp')\n",
      "    pylab.legend(loc=0)\n",
      "    \n",
      "    pylab.subplot(3,2,4)\n",
      "    pylab.plot(np.degrees(Vs_North_pha[key]),cols[key],label=key)\n",
      "    pylab.title('V pha')\n",
      "    pylab.legend(loc=0)\n",
      "    \n",
      "    pylab.subplot(3,2,5)\n",
      "    pylab.plot(Ts_North_amp[key],cols[key],label=key)\n",
      "    pylab.title('T amp')\n",
      "    pylab.legend(loc=0)\n",
      "    \n",
      "    pylab.subplot(3,2,6)\n",
      "    pylab.plot(np.degrees(Ts_North_pha[key]),cols[key],label=key)\n",
      "    pylab.title('T pha')\n",
      "    pylab.legend(loc=0)\n",
      "    \n",
      "    "
     ],
     "language": "python",
     "metadata": {},
     "outputs": []
    },
    {
     "cell_type": "markdown",
     "metadata": {},
     "source": [
      "Now convert to the form that NEMO likes:\n",
      "\n",
      "$Z_1 = A\\cos(\\phi)$ and $Z_2=A\\sin(\\phi)$"
     ]
    },
    {
     "cell_type": "code",
     "collapsed": false,
     "input": [
      "U1s = {}\n",
      "U2s = {}\n",
      "\n",
      "V1s = {}\n",
      "V2s = {}\n",
      "\n",
      "T1s = {}\n",
      "T2s = {}\n",
      "\n",
      "for key in consts_full:\n",
      "    U1s[key] = Us_North_amp[key]*np.cos(Us_North_pha[key]); X=np.array(U1s[key]); U1s[key]=np.reshape(X,(len(X),1))\n",
      "    U2s[key] = Us_North_amp[key]*np.sin(Us_North_pha[key]); X=np.array(U2s[key]); U2s[key]=np.reshape(X,(len(X),1))\n",
      "    \n",
      "    V1s[key] = Vs_North_amp[key]*np.cos(Vs_North_pha[key]); X=np.array(V1s[key]); V1s[key]=np.reshape(X,(len(X),1))\n",
      "    V2s[key] = Vs_North_amp[key]*np.sin(Vs_North_pha[key]); X=np.array(V2s[key]); V2s[key]=np.reshape(X,(len(X),1))\n",
      "    \n",
      "    T1s[key] = Ts_North_amp[key]*np.cos(Ts_North_pha[key]); X=np.array(T1s[key]); T1s[key]=np.reshape(X,(len(X),1))\n",
      "    T2s[key] = Ts_North_amp[key]*np.sin(Ts_North_pha[key]); X=np.array(T2s[key]); T2s[key]=np.reshape(X,(len(X),1))"
     ],
     "language": "python",
     "metadata": {},
     "outputs": []
    },
    {
     "cell_type": "markdown",
     "metadata": {},
     "source": [
      "Check with a plot"
     ]
    },
    {
     "cell_type": "code",
     "collapsed": false,
     "input": [
      "cols = {'M2':'r', 'K1': 'b','O1': 'm', 'S2': 'k','P1': 'g', 'N2': 'c', 'Q1': 'y', 'K2': '0.75'}\n",
      "plt.figure(figsize=(14,10))\n",
      "for key in consts_full:\n",
      "    pylab.subplot(3,2,1)\n",
      "    pylab.plot(U1s[key],cols[key],label=key)\n",
      "    pylab.title('U1')\n",
      "    pylab.legend(loc=0)\n",
      "    \n",
      "    pylab.subplot(3,2,2)\n",
      "    pylab.plot(U2s[key],cols[key],label=key)\n",
      "    pylab.title('U2')\n",
      "    pylab.legend(loc=0)\n",
      "    \n",
      "    pylab.subplot(3,2,3)\n",
      "    pylab.plot(V1s[key],cols[key],label=key)\n",
      "    pylab.title('V1')\n",
      "    pylab.legend(loc=0)\n",
      "    \n",
      "    pylab.subplot(3,2,4)\n",
      "    pylab.plot(V2s[key],cols[key],label=key)\n",
      "    pylab.title('V2')\n",
      "    pylab.legend(loc=0)\n",
      "    \n",
      "    pylab.subplot(3,2,5)\n",
      "    pylab.plot(T1s[key],cols[key],label=key)\n",
      "    pylab.title('T1')\n",
      "    pylab.legend(loc=0)\n",
      "    \n",
      "    pylab.subplot(3,2,6)\n",
      "    pylab.plot(T2s[key],cols[key],label=key)\n",
      "    pylab.title('T2')\n",
      "    pylab.legend(loc=0)\n",
      "    "
     ],
     "language": "python",
     "metadata": {},
     "outputs": []
    },
    {
     "cell_type": "markdown",
     "metadata": {},
     "source": [
      "Save N2, P1, Q1, K2 and the U/V components of O1, S2"
     ]
    },
    {
     "cell_type": "code",
     "collapsed": false,
     "input": [
      "reload(webtide_tools)\n",
      "#wait.... what about the U and V being on different grids?\n",
      "#.... nothing really changes because we don't have great spatial resolution of measurements...\n",
      "#... perhaps we'll need to make an extra cell for the V grid....\n",
      "#currents\n",
      "print X.shape\n",
      "saves={'S2': [], 'O1': [], 'N2': [], 'P1': [], 'Q1': [], 'K2': []} \n",
      "for key in saves:\n",
      "    webtide_tools.create_northern_tides_contd(U1s[key],U2s[key],'U',key,code)\n",
      "    webtide_tools.create_northern_tides_contd(V1s[key],V2s[key],'V',key,code)\n",
      "    webtide_tools.create_northern_tides_contd(T1s[key][0,0],T2s[key][0,0],'T',key,code)\n"
     ],
     "language": "python",
     "metadata": {},
     "outputs": []
    },
    {
     "cell_type": "markdown",
     "metadata": {},
     "source": [
      "Now that the files are created, I will copy them over to NEMO-forcing and commit."
     ]
    },
    {
     "cell_type": "code",
     "collapsed": false,
     "input": [],
     "language": "python",
     "metadata": {},
     "outputs": []
    }
   ],
   "metadata": {}
  }
 ]
}