{
 "metadata": {
  "name": ""
 },
 "nbformat": 3,
 "nbformat_minor": 0,
 "worksheets": [
  {
   "cells": [
    {
     "cell_type": "heading",
     "level": 1,
     "metadata": {},
     "source": [
      "Compare M2 harmonics from NEMO model to observed M2 harmonics "
     ]
    },
    {
     "cell_type": "code",
     "collapsed": false,
     "input": [
      "#preamble\n",
      "import csv\n",
      "import os\n",
      "from itertools import islice\n",
      "import netCDF4 as NC\n",
      "import numpy as np\n",
      "from math import radians, cos, sin, asin, sqrt, pi"
     ],
     "language": "python",
     "metadata": {},
     "outputs": [],
     "prompt_number": 1
    },
    {
     "cell_type": "code",
     "collapsed": false,
     "input": [
      "#load in text file containing all the harmonics calculated from observations in Table 1 of Foreman et al. (1995)\n",
      "loc = \"/ocean/klesouef/meopar/tools/compare_tides\"\n",
      "os.chdir(loc)\n",
      "sitename = []\n",
      "lat = []\n",
      "lon = []\n",
      "M2_amp = []\n",
      "M2_pha = []\n",
      "K1_amp = []\n",
      "K1_pha = []\n",
      "\n",
      "with open('obs_tidal_wlev_const_Foreman95.csv', 'rb') as csvfile:\n",
      "    reader = csv.reader(csvfile, delimiter=',')\n",
      "    for row in islice(reader, 0, None):\n",
      "        for row in reader:\n",
      "            sitename.append(row[0])\n",
      "            lat.append(float(row[1]))\n",
      "            lon.append(float(row[2]))\n",
      "            M2_amp.append(float(row[3]))\n",
      "            M2_pha.append(float(row[4]))\n",
      "            K1_amp.append(float(row[5]))\n",
      "            K1_pha.append(float(row[6]))"
     ],
     "language": "python",
     "metadata": {},
     "outputs": [],
     "prompt_number": 2
    },
    {
     "cell_type": "code",
     "collapsed": false,
     "input": [
      "#load in M2 harmonics modelled data from NEMO\n",
      "loc = \"/ocean/klesouef/meopar/tools/NetCDF_Plot\"\n",
      "os.chdir(loc)\n",
      "harmT = NC.Dataset('WC3_Harmonics_gridT_TIDE2D.nc','r')\n",
      "#Get amplitude and phase\n",
      "mod_M2_amp = harmT.variables['M2_amp'][0,:,:]\n",
      "mod_M2_pha = harmT.variables['M2_pha'][0,:,:]"
     ],
     "language": "python",
     "metadata": {},
     "outputs": [],
     "prompt_number": 3
    },
    {
     "cell_type": "code",
     "collapsed": false,
     "input": [
      "#get the bathymetry, lats and longs\n",
      "os.chdir('/ocean/klesouef/meopar/nemo-forcing/grid')\n",
      "grid = NC.Dataset('SubDom_bathy_meter_NOBCchancomp.nc','r')\n",
      "bathy = grid.variables['Bathymetry'][:,:]\n",
      "\n",
      "loc = \"/ocean/klesouef/meopar/tools/NetCDF_Plot\"\n",
      "os.chdir(loc)\n",
      "fT = NC.Dataset('WC3_CU60_20020102_20020104_grid_T.nc','r')\n",
      "eta = fT.variables['sossheig'][:,:,:]\n",
      "X = fT.variables['nav_lon'][:,:]\n",
      "Y = fT.variables['nav_lat'][:,:]\n",
      "\n",
      "#define a function to find the closest grid point to some desired location X, Y\n",
      "def find_closest_model_point(X,Y,lon,lat):\n",
      "    #find the closest model grid point to the measured data\n",
      "    #tolerance for searching for grid points (approx. distances between adjacent grid points)\n",
      "    tol1 = 0.0052  #lon\n",
      "    tol2 = 0.00189 #lat\n",
      "    \n",
      "    #search for a grid point with lon/lat within tolerance of measured location \n",
      "    x1, y1=np.where(np.logical_and((np.logical_and(X>lon-tol1,X<lon+tol1)),np.logical_and(Y>lat-tol2,Y<lat+tol2)))\n",
      "    if np.size(x1)!=0:\n",
      "        x1 = x1[0]\n",
      "        y1 = y1[0]\n",
      "        #What if more than one point is returned from this search? Just take the first one...\n",
      "\n",
      "        #if x1,y1 is masked, search 3x3 grid around. If all those points are masked, search 4x4 grid around etc\n",
      "        for ii in np.arange(1,100):\n",
      "            if bathy.mask[x1,y1]==True:\n",
      "                for i in np.arange(x1-ii,x1+ii+1):\n",
      "                    for j in np.arange(y1-ii,y1+ii+1):\n",
      "                        if bathy.mask[i,j] == False:\n",
      "                            break\n",
      "                    if bathy.mask[i,j] == False:\n",
      "                        break\n",
      "                if bathy.mask[i,j] == False:\n",
      "                    break\n",
      "            else:\n",
      "                i = x1\n",
      "                j = y1\n",
      "    else:\n",
      "        i=[]\n",
      "        j=[]\n",
      "    return i, j\n",
      "\n"
     ],
     "language": "python",
     "metadata": {},
     "outputs": [],
     "prompt_number": 6
    },
    {
     "cell_type": "code",
     "collapsed": false,
     "input": [
      "# For each site in the .csv file, find the corresponding model grid point and calculate differences.\n",
      "# -Calculate D_F95 as by Foreman et al. (1995) (typical values of D around 1cm - 5cm)\n",
      "#  e.g. D_F95 = [(A0*cosg0\u2212Am*cosgm)^2+(A0*sing0\u2212Am*singm)^2]^(1/2)\n",
      "# -Calculate D_M04 as by Masson & Cummins (2004)\n",
      "#  e.g. D_M04 = [1/2*(Am^2+Ao^2)\u2212Am*Ao*cos(\u03d5m\u2212\u03d5o)]^(1/2)\n",
      "loc = \"/ocean/klesouef/meopar/tools/dfo_w_level\"\n",
      "os.chdir(loc)\n",
      "\n",
      "#make an appropriately named csv file for results (FINISH THIS)\n",
      "#model_run_name = ???\n",
      "#outfile = 'wlev_harm_diffs_'+model_run_name\n",
      "\n",
      "with open('wlev_harm_diffs.csv', 'wb') as csvfile:\n",
      "    writer = csv.writer(csvfile, delimiter=',')\n",
      "    writer.writerow(['Station Number','Station Name','Longitude','Latitude','Difference Foreman','Difference Masson'])\n",
      "    for t in np.arange(0,len(lat)):\n",
      "        x1, y1 = find_closest_model_point(X,Y,-lon[t],lat[t])\n",
      "        if x1:\n",
      "            #observed constituents\n",
      "            Ao = M2_amp[t]/100 #[m]\n",
      "            go = M2_pha[t]     #[degrees UTC]\n",
      "            #modelled constituents\n",
      "            Am = mod_M2_amp[x1,y1] #[m]\n",
      "            gm = mod_M2_pha[x1,y1] #[degrees ????]\n",
      "            #calculate differences two ways\n",
      "            D_F95 = sqrt((Ao*np.cos(radians(go))-Am*np.cos(radians(gm)))**2 + (Ao*np.sin(radians(go))-Am*np.sin(radians(gm)))**2)\n",
      "            D_M04 = sqrt(0.5*(Am**2+Ao**2)-Am*Ao*cos(radians(gm-go)))\n",
      "            writer.writerow([str(t+1),sitename[t],-lon[t],lat[t],D_F95,D_M04])\n",
      "        else:\n",
      "            #if no point found, fill difference fields with 9999\n",
      "            print('No point found in current domain for station '+str(t+1)+' :(')\n",
      "            writer.writerow([str(t+1),sitename[t],-lon[t],lat[t],9999,9999])\n",
      "\n",
      "print('Results saved here: '+loc+'/w_lev_harm_diffs.csv')"
     ],
     "language": "python",
     "metadata": {},
     "outputs": [
      {
       "output_type": "stream",
       "stream": "stdout",
       "text": [
        "No point found in current domain for station 26 :(\n",
        "No point found in current domain for station 27 :(\n",
        "Results saved here: /ocean/klesouef/meopar/tools/dfo_w_level/w_lev_harm_diffs.csv\n"
       ]
      }
     ],
     "prompt_number": 22
    },
    {
     "cell_type": "markdown",
     "metadata": {},
     "source": [
      "Now plot the results of this analysis in some meaningful way...."
     ]
    },
    {
     "cell_type": "code",
     "collapsed": false,
     "input": [
      "import matplotlib.pyplot as plt\n",
      "\n",
      "diff = []\n",
      "\n",
      "with open('wlev_harm_diffs.csv', 'wb') as csvfile:\n",
      "    reader = csv.reader(csvfile, delimiter=',')\n",
      "    for row in islice(reader, 0, None):\n",
      "        for row in reader:\n",
      "            diff.append(float(row[0])\n",
      "            lat.append(float(row[1]))\n",
      "            lon.append(float(row[2]))\n",
      "            M2_amp.append(float(row[3]))\n",
      "            M2_pha.append(float(row[4]))\n",
      "            K1_amp.append(float(row[5]))\n",
      "            K1_pha.append(float(row[6]))\n",
      "\n",
      "\n",
      "#fig, ax = plt.subplots()\n",
      "ax.scatter(lon, lat, c='b', s=volume, alpha=0.5)\n",
      "\n",
      "ax.set_xlabel(r'$\\Delta_i$', fontsize=20)\n",
      "ax.set_ylabel(r'$\\Delta_{i+1}$', fontsize=20)\n",
      "ax.set_title('Volume and percent change')\n",
      "\n",
      "ax.grid(True)\n",
      "fig.tight_layout()\n",
      "\n",
      "#plt.show()"
     ],
     "language": "python",
     "metadata": {},
     "outputs": []
    },
    {
     "cell_type": "code",
     "collapsed": false,
     "input": [],
     "language": "python",
     "metadata": {},
     "outputs": []
    }
   ],
   "metadata": {}
  }
 ]
}