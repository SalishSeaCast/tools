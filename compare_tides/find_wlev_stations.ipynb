{
 "metadata": {
  "name": ""
 },
 "nbformat": 3,
 "nbformat_minor": 0,
 "worksheets": [
  {
   "cells": [
    {
     "cell_type": "markdown",
     "metadata": {},
     "source": [
      "Where shall we evaluate the storm surge performance of the model? The station needs to have water level data for the period of 2002-2010 (this is when we have wind data).\n",
      "\n",
      "* Point Atkinson (49.34,-123.25)\n",
      "\n",
      "* Victoria Harbour (48.42,-123.37)\n",
      "\n",
      "* Patricia Bay (48.65,-123.45)\n",
      "\n",
      "* Campbell River (50.04,-125.25)\n",
      "\n",
      "All other sites are not in our domain or do not have water level data for these points"
     ]
    },
    {
     "cell_type": "code",
     "collapsed": false,
     "input": [
      "from salishsea_tools import tidetools\n",
      "bathy, X, Y = tidetools.get_SS_bathy_data()\n",
      "x1, y1 = tidetools.find_closest_model_point(-123.25,49.34,X,Y,bathy)\n",
      "print('Point Atkinson: i='+str(x1)+', j='+str(y1))\n",
      "x1, y1 = tidetools.find_closest_model_point(-123.37,48.42,X,Y,bathy)\n",
      "print('Victoria Harbour: i='+str(x1)+', j='+str(y1))\n",
      "x1, y1 = tidetools.find_closest_model_point(-123.45,48.65,X,Y,bathy)\n",
      "print('Patricia Bay: i='+str(x1)+', j='+str(y1))\n",
      "x1, y1 = tidetools.find_closest_model_point(-125.25,50.04,X,Y,bathy)\n",
      "print('Campbell River: i='+str(x1)+', j='+str(y1))"
     ],
     "language": "python",
     "metadata": {},
     "outputs": [
      {
       "output_type": "stream",
       "stream": "stdout",
       "text": [
        "Point Atkinson: i=468, j=328\n",
        "Victoria Harbour: i=298, j=195\n",
        "Patricia Bay: i=351, j=213\n",
        "Campbell River: i=747, j=123\n"
       ]
      }
     ],
     "prompt_number": 7
    },
    {
     "cell_type": "code",
     "collapsed": false,
     "input": [],
     "language": "python",
     "metadata": {},
     "outputs": []
    }
   ],
   "metadata": {}
  }
 ]
}