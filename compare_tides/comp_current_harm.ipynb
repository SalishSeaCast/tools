{
 "metadata": {
  "name": ""
 },
 "nbformat": 3,
 "nbformat_minor": 0,
 "worksheets": [
  {
   "cells": [
    {
     "cell_type": "markdown",
     "metadata": {},
     "source": [
      "Compare harmonics from currents between measured and modelled. Measured harmonics are taken from Table 3 of Foreman et al (1995)\n"
     ]
    },
    {
     "cell_type": "code",
     "collapsed": false,
     "input": [
      "#Preamble\n",
      "%matplotlib inline\n",
      "import csv\n",
      "import os\n",
      "from itertools import islice\n",
      "import netCDF4 as NC\n",
      "import numpy as np\n",
      "from math import radians, cos, sin\n",
      "import sys\n",
      "sys.path.append('/ocean/klesouef/meopar/tools/bathymetry/')\n",
      "import bathy_tools\n",
      "import matplotlib.pyplot as plt\n",
      "import matplotlib.dates as mdates\n",
      "from matplotlib import pylab\n",
      "import tidetools\n"
     ],
     "language": "python",
     "metadata": {},
     "outputs": [],
     "prompt_number": 1
    },
    {
     "cell_type": "code",
     "collapsed": false,
     "input": [
      "#Get measured current harmonics\n",
      "#constituents taken from Table 3 of Foreman et al (1995). \n",
      "#latitude and longitude taken from http://www.charts.gc.ca/copyright-droitdauteur/documents/currents-courants-eng.asp\n",
      "\n",
      "#load in text file containing all the harmonics calculated from observations in Table 3 of Foreman et al. (1995)\n",
      "loc = \"/ocean/klesouef/meopar/tools/compare_tides\"\n",
      "os.chdir(loc)\n",
      "sitename = []\n",
      "lat = []\n",
      "lon = []\n",
      "M2_amp = []\n",
      "M2_pha = []\n",
      "M2_dir = []\n",
      "K1_amp = []\n",
      "K1_pha = []\n",
      "K1_dir = []\n",
      "\n",
      "with open('obs_tidal_current_const_Foreman95.csv', 'rb') as csvfile:\n",
      "    reader = csv.reader(csvfile, delimiter=',')\n",
      "    for row in islice(reader, 0, None):\n",
      "        for row in reader:\n",
      "            sitename.append(row[0])\n",
      "            lat.append(float(row[1]))\n",
      "            lon.append(float(row[2]))\n",
      "            M2_amp.append(float(row[3]))\n",
      "            M2_pha.append(float(row[4]))\n",
      "            M2_dir.append(float(row[5]))\n",
      "            K1_amp.append(float(row[6]))\n",
      "            K1_pha.append(float(row[7]))\n",
      "            K1_dir.append(float(row[8]))\n",
      "\n",
      "M2_amp_U = M2_amp*np.cos(np.radians(M2_dir))\n",
      "M2_amp_V = M2_amp*np.sin(np.radians(M2_dir))\n",
      "print(lon)\n",
      "print(lat)"
     ],
     "language": "python",
     "metadata": {},
     "outputs": [
      {
       "output_type": "stream",
       "stream": "stdout",
       "text": [
        "[123.53, 123.53, 123.3, 123.58, 123.7, 123.81]\n",
        "[48.23, 48.3, 48.86, 49.01, 49.12, 49.13]\n"
       ]
      }
     ],
     "prompt_number": 2
    },
    {
     "cell_type": "code",
     "collapsed": false,
     "input": [
      "#find the model co-ordinates of each of the measured locations\n",
      "mo_ind_lon = []\n",
      "mo_ind_lat = []\n",
      "\n",
      "for i in np.arange(0,len(lon)):\n",
      "    x1, y1 = tidetools.find_closest_model_point(-lon[i],lat[i])\n",
      "    mo_ind_lon.append(x1)\n",
      "    mo_ind_lat.append(y1)\n"
     ],
     "language": "python",
     "metadata": {},
     "outputs": [
      {
       "output_type": "stream",
       "stream": "stdout",
       "text": [
        "lon = -123.53\n",
        "lat = 48.23\n",
        "x1 =[76 76]\n",
        "y1 =[150 151]\n",
        "X = [-123.53469849 -123.52949524]\n",
        "Y = [ 48.22988892  48.2318306 ]\n",
        "lon = -123.53"
       ]
      },
      {
       "output_type": "stream",
       "stream": "stdout",
       "text": [
        "\n",
        "lat = 48.3\n",
        "x1 =[89 89]\n",
        "y1 =[159 160]\n",
        "X = [-123.53108215 -123.52587891]\n",
        "Y = [ 48.2988739   48.30080795]\n",
        "lon = -123.3"
       ]
      },
      {
       "output_type": "stream",
       "stream": "stdout",
       "text": [
        "\n",
        "lat = 48.86\n",
        "x1 =[181]\n",
        "y1 =[262]\n",
        "X = [-123.30225372]\n",
        "Y = [ 48.86003113]\n",
        "lon = -123.58"
       ]
      },
      {
       "output_type": "stream",
       "stream": "stdout",
       "text": [
        "\n",
        "lat = 49.01\n",
        "x1 =[230]\n",
        "y1 =[240]\n",
        "X = [-123.58066559]\n",
        "Y = [ 49.01113892]\n",
        "lon = -123.7"
       ]
      },
      {
       "output_type": "stream",
       "stream": "stdout",
       "text": [
        "\n",
        "lat = 49.12\n",
        "x1 =[260]\n",
        "y1 =[236]\n",
        "X = [-123.70185852]\n",
        "Y = [ 49.12146759]\n",
        "lon = -123.81"
       ]
      },
      {
       "output_type": "stream",
       "stream": "stdout",
       "text": [
        "\n",
        "lat = 49.13\n",
        "x1 =[269]\n",
        "y1 =[221]\n",
        "X = [-123.80982208]\n",
        "Y = [ 49.12839508]\n"
       ]
      }
     ],
     "prompt_number": 4
    },
    {
     "cell_type": "code",
     "collapsed": false,
     "input": [
      "#Get modelled current harmonics\n",
      "loc = \"/ocean/klesouef/meopar/tools/NetCDF_Plot\"\n",
      "os.chdir(loc)\n",
      "harmU = NC.Dataset('WC3_Harmonics_gridU_TIDE2D.nc','r')\n",
      "harmV = NC.Dataset('WC3_Harmonics_gridV_TIDE2D.nc','r')\n",
      "\n",
      "#Get amplitude and phase\n",
      "mod_U_M2_amp = harmU.variables['M2_amp'][0,:,:]\n",
      "mod_U_M2_pha = harmU.variables['M2_pha'][0,:,:]\n",
      "mod_V_M2_amp = harmV.variables['M2_amp'][0,:,:]\n",
      "mod_V_M2_pha = harmV.variables['M2_pha'][0,:,:]\n"
     ],
     "language": "python",
     "metadata": {},
     "outputs": [],
     "prompt_number": 6
    },
    {
     "cell_type": "code",
     "collapsed": false,
     "input": [
      "print(mod_U_M2_amp[mo_ind_lon[0],mo_ind_lat[0]])\n",
      "print(mod_V_M2_amp[mo_ind_lon[0],mo_ind_lat[0]])\n",
      "print(M2_amp_U[0])\n",
      "print(M2_amp_V[0])\n",
      "\n",
      "print(mod_U_M2_pha[mo_ind_lon[0],mo_ind_lat[0]])\n",
      "print(mod_V_M2_pha[mo_ind_lon[0],mo_ind_lat[0]])\n",
      "print(M2_pha_U[0])\n",
      "print(M2_pha_V[0])"
     ],
     "language": "python",
     "metadata": {},
     "outputs": [
      {
       "ename": "NameError",
       "evalue": "name 'M2_pha_U' is not defined",
       "output_type": "pyerr",
       "traceback": [
        "\u001b[1;31m---------------------------------------------------------------------------\u001b[0m\n\u001b[1;31mNameError\u001b[0m                                 Traceback (most recent call last)",
        "\u001b[1;32m<ipython-input-13-eee38056cab9>\u001b[0m in \u001b[0;36m<module>\u001b[1;34m()\u001b[0m\n\u001b[0;32m      6\u001b[0m \u001b[1;32mprint\u001b[0m\u001b[1;33m(\u001b[0m\u001b[0mmod_U_M2_pha\u001b[0m\u001b[1;33m[\u001b[0m\u001b[0mmo_ind_lon\u001b[0m\u001b[1;33m[\u001b[0m\u001b[1;36m0\u001b[0m\u001b[1;33m]\u001b[0m\u001b[1;33m,\u001b[0m\u001b[0mmo_ind_lat\u001b[0m\u001b[1;33m[\u001b[0m\u001b[1;36m0\u001b[0m\u001b[1;33m]\u001b[0m\u001b[1;33m]\u001b[0m\u001b[1;33m)\u001b[0m\u001b[1;33m\u001b[0m\u001b[0m\n\u001b[0;32m      7\u001b[0m \u001b[1;32mprint\u001b[0m\u001b[1;33m(\u001b[0m\u001b[0mmod_V_M2_pha\u001b[0m\u001b[1;33m[\u001b[0m\u001b[0mmo_ind_lon\u001b[0m\u001b[1;33m[\u001b[0m\u001b[1;36m0\u001b[0m\u001b[1;33m]\u001b[0m\u001b[1;33m,\u001b[0m\u001b[0mmo_ind_lat\u001b[0m\u001b[1;33m[\u001b[0m\u001b[1;36m0\u001b[0m\u001b[1;33m]\u001b[0m\u001b[1;33m]\u001b[0m\u001b[1;33m)\u001b[0m\u001b[1;33m\u001b[0m\u001b[0m\n\u001b[1;32m----> 8\u001b[1;33m \u001b[1;32mprint\u001b[0m\u001b[1;33m(\u001b[0m\u001b[0mM2_pha_U\u001b[0m\u001b[1;33m[\u001b[0m\u001b[1;36m0\u001b[0m\u001b[1;33m]\u001b[0m\u001b[1;33m)\u001b[0m\u001b[1;33m\u001b[0m\u001b[0m\n\u001b[0m\u001b[0;32m      9\u001b[0m \u001b[1;32mprint\u001b[0m\u001b[1;33m(\u001b[0m\u001b[0mM2_pha_V\u001b[0m\u001b[1;33m[\u001b[0m\u001b[1;36m0\u001b[0m\u001b[1;33m]\u001b[0m\u001b[1;33m)\u001b[0m\u001b[1;33m\u001b[0m\u001b[0m\n",
        "\u001b[1;31mNameError\u001b[0m: name 'M2_pha_U' is not defined"
       ]
      },
      {
       "output_type": "stream",
       "stream": "stdout",
       "text": [
        "0.553041\n",
        "0.279101\n",
        "-73.4995522128\n",
        "0.256562879019\n",
        "-51.7543\n",
        "128.268\n"
       ]
      }
     ],
     "prompt_number": 13
    },
    {
     "cell_type": "code",
     "collapsed": false,
     "input": [],
     "language": "python",
     "metadata": {},
     "outputs": [],
     "prompt_number": 6
    },
    {
     "cell_type": "code",
     "collapsed": false,
     "input": [],
     "language": "python",
     "metadata": {},
     "outputs": [],
     "prompt_number": 6
    },
    {
     "cell_type": "code",
     "collapsed": false,
     "input": [],
     "language": "python",
     "metadata": {},
     "outputs": [],
     "prompt_number": 7
    },
    {
     "cell_type": "code",
     "collapsed": false,
     "input": [
      "#Calculate differences between measured and modelled"
     ],
     "language": "python",
     "metadata": {},
     "outputs": [],
     "prompt_number": 8
    },
    {
     "cell_type": "code",
     "collapsed": false,
     "input": [],
     "language": "python",
     "metadata": {},
     "outputs": []
    }
   ],
   "metadata": {}
  }
 ]
}