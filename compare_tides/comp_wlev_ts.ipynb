{
 "metadata": {
  "name": ""
 },
 "nbformat": 3,
 "nbformat_minor": 0,
 "worksheets": [
  {
   "cells": [
    {
     "cell_type": "code",
     "collapsed": false,
     "input": [
      "#Preamble\n",
      "%matplotlib inline\n",
      "import csv\n",
      "import datetime\n",
      "from itertools import islice\n",
      "import numpy as np\n",
      "import matplotlib.pyplot as plt\n",
      "import matplotlib.dates as mdates\n",
      "import netCDF4 as NC\n",
      "from matplotlib import pylab\n",
      "import requests\n",
      "from math import radians, cos, sin, asin, sqrt, pi"
     ],
     "language": "python",
     "metadata": {},
     "outputs": [],
     "prompt_number": 1
    },
    {
     "cell_type": "markdown",
     "metadata": {},
     "source": [
      "FROM DOUG: \n",
      "\n",
      "It looks to me like the crucial step is submitting the form on http://www.meds-sdmm.dfo-mpo.gc.ca/isdm-gdsi/twl-mne/inventory-inventaire/interval-intervalle-eng.asp?user=isdm-gdsi&region=PAC&tst=1&no=7795. I think that the submit action there is causing a script to run on the server that puts the results in a temporary file and then shows you a page with the link to that file on it. So you need to mimic that in code - send a POST request with the dates and hourly, then do the GET request to download it.\n"
     ]
    },
    {
     "cell_type": "markdown",
     "metadata": {},
     "source": [
      "There were a couple of more tricks to getting this to work.\n",
      "\n",
      "The name of the script that handles the POST request is in the `action` attribute of the `form` tag - `form_handler` below.\n",
      "That gets appended to the URL of the base part of the URL of the page that the form is on.\n",
      "I factored out that base URL part because it's common to both requests.\n",
      "It's pretty unconventional that the form handler uses both query string parameters\n",
      "(the key-value pairs separated by `&` characters after the `?`)\n",
      "and `POST` data,\n",
      "but that's old-school web programming for you...\n",
      "\n",
      "I experimented with moving the query string parameters from `form_handler` into `sitedata` but that doesn't work.\n",
      "\n",
      "The other trick is that the response from the `POST` request includes a cookie that has to be sent back with the `GET` request that contains the `csv` file name.\n",
      "I guessed that was going to be the case because going directly to the last link was failing,\n",
      "and that suggested that there was some \"state\" information connecting the 2 requests.\n",
      "\"State\" often means cookies,\n",
      "especially in old-school web programming.\n",
      "I confirmed my guess by looking at the `headers` and `cookies` attributes of the `request.Response` object from the `POST` request.\n",
      "\n",
      "Wrapping the 2 requests in a `requests.Session()` context is an easy,\n",
      "elegant way to manage the cookie.\n",
      "\n",
      "The `%5C` strings in `data_provider` encoded back-slashes.\n",
      "The first 2 can be changed back to `\\` characters,\n",
      "but if the 3rd one is the request fails,\n",
      "so I just left them encoded.\n",
      "The `Size` parameter at the end of `data_provider` struck me as problematic\n",
      "and indeed results in truncation is it is incorrect.\n",
      "Fortunately,\n",
      "it appear that it is not required."
     ]
    },
    {
     "cell_type": "heading",
     "level": 1,
     "metadata": {},
     "source": [
      "Get data from DFO website"
     ]
    },
    {
     "cell_type": "code",
     "collapsed": false,
     "input": [
      "#DFO station number and required dates\n",
      "station_no = 7795\n",
      "start_date = '02-JAN-2002'\n",
      "end_date = '05-JAN-2002'\n",
      "\n",
      "base_url = 'http://www.meds-sdmm.dfo-mpo.gc.ca/isdm-gdsi/twl-mne/inventory-inventaire/'\n",
      "form_handler = 'data-donnees-eng.asp?user=isdm-gdsi&region=PAC&tst=1&no='+str(station_no)\n",
      "\n",
      "sitedata = {\n",
      "            'start_period': start_date,\n",
      "            'end_period': end_date,\n",
      "            'resolution': 'h',\n",
      "            'time_zone': 'l',\n",
      "           }\n",
      "\n",
      "#data_provider = 'download-telecharger.asp?File=E:%5Ciusr_tmpfiles%5CTWL%5C7795-01-JAN-2002_slev.csv&Name=7795-01-JAN-2002_slev.csv'\n",
      "data_provider = 'download-telecharger.asp?File=E:%5Ciusr_tmpfiles%5CTWL%5C'+str(station_no)+'-'+start_date+'_slev.csv&Name='+str(station_no)+'-'+start_date+'_slev.csv'\n",
      "\n",
      "with requests.Session() as s:\n",
      "    s.post(base_url + form_handler, data=sitedata)\n",
      "    r = s.get(base_url + data_provider)"
     ],
     "language": "python",
     "metadata": {},
     "outputs": [],
     "prompt_number": 2
    },
    {
     "cell_type": "markdown",
     "metadata": {},
     "source": [
      "I've just printed the `text` attribute of the reponse below to prove that we're getting the expected data,\n",
      "but you should be able to save it to a file with:\n",
      "```python\n",
      "with open('foo', 'w') as f:\n",
      "    f.write(r.text)\n",
      "```"
     ]
    },
    {
     "cell_type": "heading",
     "level": 1,
     "metadata": {},
     "source": [
      "Take the Response object from the request above and extract the data we want:"
     ]
    },
    {
     "cell_type": "code",
     "collapsed": false,
     "input": [
      "#initialise the lists\n",
      "dates = []\n",
      "wlev = []\n",
      "stat_name = []\n",
      "stat_num = []\n",
      "stat_lat = []\n",
      "stat_lon = []\n",
      "n = 0\n",
      "\n",
      "#go through the data line by line (first 8 lines are headers)\n",
      "for line in r.iter_lines(chunk_size=128):\n",
      "    test = line.split(',')\n",
      "    #get station name from data\n",
      "    if n==0:\n",
      "        stat_name = test[1:2]\n",
      "    #get station number from data\n",
      "    if n==1:\n",
      "        stat_num = map(int,test[1:2])\n",
      "    #get station latitude from data\n",
      "    if n==2:\n",
      "        stat_lat = map(float,test[1:2])\n",
      "    #get station longitude from data (should be -ve in BC!!)\n",
      "    if n==3:\n",
      "        stat_lon = map(float,test[1:2])\n",
      "        stat_lon[0] = stat_lon[0]*-1\n",
      "    if n>8:\n",
      "        if line: \n",
      "            #get water level data\n",
      "            wlev.append(test[1:2])\n",
      "            #get date data\n",
      "            dates.append(datetime.datetime.strptime(test[0],\"%Y/%m/%d %H:%M\"))\n",
      "    n = n+1"
     ],
     "language": "python",
     "metadata": {},
     "outputs": [],
     "prompt_number": 3
    },
    {
     "cell_type": "code",
     "collapsed": false,
     "input": [
      "#measured times are in PTZ - first make dates aware of this, then convert dates to UTC\n",
      "import pytz\n",
      "for x in np.arange(0,len(dates)):\n",
      "    dates[x] = dates[x].replace(tzinfo=pytz.timezone('Canada/Pacific'))\n",
      "    dates[x] = dates[x].astimezone(pytz.timezone('UTC'))\n",
      "print(dates[100].tzinfo)"
     ],
     "language": "python",
     "metadata": {},
     "outputs": [],
     "prompt_number": 57
    },
    {
     "cell_type": "heading",
     "level": 1,
     "metadata": {},
     "source": [
      "Now get the model output data"
     ]
    },
    {
     "cell_type": "code",
     "collapsed": false,
     "input": [
      "#go to the directory and get the modelled water level data\n",
      "fT = NC.Dataset('/ocean/klesouef/meopar/tools/NetCDF_Plot/WC3_CU60_20020102_20020104_grid_T.nc','r')\n",
      "\n",
      "#get some variables from the netcdf\n",
      "T_ssh = fT.variables['sossheig']\n",
      "T_lat = fT.variables['nav_lat']\n",
      "T_lon = fT.variables['nav_lon']\n",
      "eta = T_ssh[:,:,:]\n",
      "\n",
      "import tidetools\n",
      "bathy, X, Y = tidetools.get_subdomain_bathy_data()\n",
      "x1, y1 = tidetools.find_closest_model_point(stat_lon[0],stat_lat[0],X,Y,bathy)\n",
      "\n",
      "print('Index of model '+str(x1)+', '+str(y1))"
     ],
     "language": "python",
     "metadata": {},
     "outputs": [
      {
       "output_type": "stream",
       "stream": "stdout",
       "text": [
        "Index of model 269, 328\n"
       ]
      }
     ],
     "prompt_number": 4
    },
    {
     "cell_type": "markdown",
     "metadata": {},
     "source": [
      "Another way I was trying was to search around the grid point for a non-masked cell where we can get water level data from by using 'circle_around' from Stack Overflow to search in a square around from centre:\n",
      "http://stackoverflow.com/questions/8979214/iterate-over-2d-array-in-an-expanding-circular-spiral \n",
      "This seems unnecessary though! \n"
     ]
    },
    {
     "cell_type": "code",
     "collapsed": false,
     "input": [
      "#Calculate distance between measured and modelled location to check how this is doing\n",
      "#haversine function copied from stackoverflow:\n",
      "#http://stackoverflow.com/questions/4913349/haversine-formula-in-python-bearing-and-distance-between-two-gps-points\n",
      "\n",
      "def haversine(lon1, lat1, lon2, lat2):\n",
      "    # convert decimal degrees to radians \n",
      "    lon1, lat1, lon2, lat2 = map(radians, [lon1, lat1, lon2, lat2])\n",
      "    # haversine formula \n",
      "    dlon = lon2 - lon1 \n",
      "    dlat = lat2 - lat1 \n",
      "    a = sin(dlat/2)**2 + cos(lat1) * cos(lat2) * sin(dlon/2)**2\n",
      "    c = 2 * asin(sqrt(a)) \n",
      "    km = 6367 * c\n",
      "    return km \n",
      "\n",
      "dist = haversine(float(stat_lon[0]),float(stat_lat[0]),float(X[x1,y1]),float(Y[x1,y1]))\n",
      "print('Observation site and model grid point are '+str(round(dist,3))+'km apart')"
     ],
     "language": "python",
     "metadata": {},
     "outputs": [
      {
       "output_type": "stream",
       "stream": "stdout",
       "text": [
        "Observation site and model grid point are 0.756km apart\n"
       ]
      }
     ],
     "prompt_number": 5
    },
    {
     "cell_type": "code",
     "collapsed": false,
     "input": [
      "#Plot the two spots on a map \n",
      "def plot_meas_mod_locations(measlon, measlat, modlon, modlat):\n",
      "    plt.contourf(X,Y,bathy)\n",
      "    plt.colorbar()\n",
      "    plt.title('Domain of model (depths in m)')\n",
      "    hold = True\n",
      "    plt.plot(modlon,Y[x1,y1],'g.',markersize=10,label='model')\n",
      "    plt.plot(measlon,measlat,'m.',markersize=10,label='measured')\n",
      "    plt.xlim([modlon-0.1,modlon+0.1])\n",
      "    plt.ylim([modlat-0.1,modlat+0.1])\n",
      "    plt.legend(numpoints=1)\n",
      "    \n",
      "plot_meas_mod_locations(stat_lon[0],stat_lat[0],X[x1,y1],Y[x1,y1])"
     ],
     "language": "python",
     "metadata": {},
     "outputs": [
      {
       "metadata": {},
       "output_type": "display_data",
       "png": "[encoded data removed]",
       "text": [
        "<matplotlib.figure.Figure at 0x26b1410>"
       ]
      }
     ],
     "prompt_number": 6
    },
    {
     "cell_type": "heading",
     "level": 1,
     "metadata": {},
     "source": [
      "Plot modelled and measured data at this point!"
     ]
    },
    {
     "cell_type": "code",
     "collapsed": false,
     "input": [
      "#get the start time for the model run\n",
      "model_start_time = datetime.datetime.strptime(fT.variables['time_counter'].time_origin,' %Y-%b-%d %H:%S:%M')\n",
      "#interval_write is in seconds, change it to hours\n",
      "timestep = fT.variables['time_counter'][:]/(60*60)\n",
      "#create list of dates\n",
      "dateList = [model_start_time + datetime.timedelta(hours=x) for x in timestep ]\n",
      "#model time is in UTC, make sure the times are aware of this\n",
      "import pytz\n",
      "for x in np.arange(0,len(timestep)):\n",
      "    dateList[x] = dateList[x].replace(tzinfo=pytz.timezone('UTC'))\n",
      "print(dateList[0].tzinfo)"
     ],
     "language": "python",
     "metadata": {},
     "outputs": [
      {
       "output_type": "stream",
       "stream": "stdout",
       "text": [
        "UTC\n"
       ]
      }
     ],
     "prompt_number": 55
    },
    {
     "cell_type": "code",
     "collapsed": false,
     "input": [
      "#Modelled tidal harmonics are calculated for past 24 hours inside NEMO model and outputted to:\n",
      "harmT = NC.Dataset('/ocean/klesouef/meopar/tools/NetCDF_Plot/WC3_Harmonics_gridT_TIDE2D.nc','r')\n",
      "#Get amplitude and phase\n",
      "mod_M2_amp_1 = harmT.variables['M2_amp']\n",
      "mod_M2_amp = mod_M2_amp_1[0,:,:]\n",
      "mod_M2_pha_1 = harmT.variables['M2_pha']\n",
      "mod_M2_pha = mod_M2_pha_1[0,:,:]\n",
      "#frequency of M2 tide\n",
      "M2_freq = 2*pi/(12.42*3600)\n",
      "\n",
      "#plot measured and modelled timeseries and harmonic data\n",
      "plt.plot(dateList,eta[:,x1,y1],label='Model Time Series')\n",
      "plt.plot(dates,wlev,label='Measured Time Series')\n",
      "plt.ylabel('Water level (m CD)')\n",
      "plt.xlabel('Time')\n",
      "plt.title('Water level at '+stat_name[0]+' (station '+str(stat_num[0])+')')\n",
      "plt.legend(bbox_to_anchor=(1.05, 1), loc=2)"
     ],
     "language": "python",
     "metadata": {},
     "outputs": [
      {
       "metadata": {},
       "output_type": "pyout",
       "prompt_number": 58,
       "text": [
        "<matplotlib.legend.Legend at 0x37682d0>"
       ]
      },
      {
       "metadata": {},
       "output_type": "display_data",
       "png": "[encoded data removed]",
       "text": [
        "<matplotlib.figure.Figure at 0x37f7690>"
       ]
      }
     ],
     "prompt_number": 58
    },
    {
     "cell_type": "code",
     "collapsed": false,
     "input": [],
     "language": "python",
     "metadata": {},
     "outputs": []
    }
   ],
   "metadata": {}
  }
 ]
}