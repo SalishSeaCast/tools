{
 "metadata": {
  "name": ""
 },
 "nbformat": 3,
 "nbformat_minor": 0,
 "worksheets": [
  {
   "cells": [
    {
     "cell_type": "code",
     "collapsed": false,
     "input": [
      "import requests"
     ],
     "language": "python",
     "metadata": {},
     "outputs": [],
     "prompt_number": 1
    },
    {
     "cell_type": "heading",
     "level": 2,
     "metadata": {},
     "source": [
      "Get measured water level"
     ]
    },
    {
     "cell_type": "code",
     "collapsed": false,
     "input": [
      "#DFO station number and required dates\n",
      "station_no = 7795\n",
      "start_date = '01-JAN-2002'\n",
      "end_date = '01-JAN-2003'\n",
      "\n",
      "base_url = 'http://www.meds-sdmm.dfo-mpo.gc.ca/isdm-gdsi/twl-mne/inventory-inventaire/'\n",
      "form_handler = 'data-donnees-eng.asp?user=isdm-gdsi&region=PAC&tst=1&no='+str(station_no)\n",
      "\n",
      "sitedata = {\n",
      "            'start_period': start_date,\n",
      "            'end_period': end_date,\n",
      "            'resolution': 'h',\n",
      "            'time_zone': 'l',\n",
      "           }\n",
      "\n",
      "#data_provider = 'download-telecharger.asp?File=E:%5Ciusr_tmpfiles%5CTWL%5C7795-01-JAN-2002_slev.csv&Name=7795-01-JAN-2002_slev.csv'\n",
      "data_provider = 'download-telecharger.asp?File=E:%5Ciusr_tmpfiles%5CTWL%5C'+str(station_no)+'-'+start_date+'_slev.csv&Name='+str(station_no)+'-'+start_date+'_slev.csv'\n",
      "\n",
      "with requests.Session() as s:\n",
      "    s.post(base_url + form_handler, data=sitedata)\n",
      "    r = s.get(base_url + data_provider)\n",
      "\n",
      "with open('wlev_timeseries.csv', 'w') as f:\n",
      "    f.write(r.text)\n"
     ],
     "language": "python",
     "metadata": {},
     "outputs": [],
     "prompt_number": 2
    },
    {
     "cell_type": "code",
     "collapsed": false,
     "input": [
      "import datetime\n",
      "import pandas as pd\n",
      "import pytz\n",
      "def dateParserMeasured(s):\n",
      "    #convert the string to a datetime object\n",
      "    unaware = datetime.datetime.strptime(s, \"%Y/%m/%d %H:%M\")\n",
      "    #add in the local time zone (Canada/Pacific)\n",
      "    aware = unaware.replace(tzinfo=pytz.timezone('Canada/Pacific'))\n",
      "    #convert to UTC\n",
      "    return aware.astimezone(pytz.timezone('UTC'))\n",
      "    \n",
      "wlev_meas = pd.read_csv('wlev_timeseries.csv',skiprows=7,parse_dates=[0],date_parser=dateParserMeasured)\n",
      "wlev_meas = wlev_meas.rename(columns={'Obs_date': 'time', 'SLEV(metres)': 'slev'})\n",
      "\n",
      "print(wlev_meas.time[0].tzinfo)\n",
      "\n",
      "#convert to arrays\n",
      "#wlev = numpy.array(wlev_all.slev)\n"
     ],
     "language": "python",
     "metadata": {},
     "outputs": [
      {
       "output_type": "stream",
       "stream": "stdout",
       "text": [
        "UTC\n"
       ]
      }
     ],
     "prompt_number": 25
    },
    {
     "cell_type": "code",
     "collapsed": false,
     "input": [
      "#plot the measured data\n",
      "%matplotlib inline\n",
      "import matplotlib.pyplot as plt\n",
      "import matplotlib.dates as mdates\n",
      "\n",
      "plt.plot(wlev_meas.time[0:100],wlev_meas.slev[0:100])\n",
      "plt.title('Station '+str(station_no))\n",
      "plt.ylabel('Elevation [m CD]')\n",
      "plt.xlabel('Time')"
     ],
     "language": "python",
     "metadata": {},
     "outputs": [
      {
       "metadata": {},
       "output_type": "pyout",
       "prompt_number": 26,
       "text": [
        "<matplotlib.text.Text at 0x43435d0>"
       ]
      },
      {
       "metadata": {},
       "output_type": "display_data",
       "png": "[encoded data removed]",
       "text": [
        "<matplotlib.figure.Figure at 0x4950490>"
       ]
      }
     ],
     "prompt_number": 26
    },
    {
     "cell_type": "heading",
     "level": 2,
     "metadata": {},
     "source": [
      "Get predicted water level (from Webtide)\n"
     ]
    },
    {
     "cell_type": "code",
     "collapsed": false,
     "input": [
      "#define a function for dealing with dates from pandas\n",
      "def dateParserPredicted(s):\n",
      "    unaware = datetime.datetime.strptime(s,'%Y %j %H %M %S')\n",
      "    return unaware.replace(tzinfo=pytz.UTC)\n",
      "    \n",
      "import pandas as pd\n",
      "#import the predicted water level\n",
      "#note the column names are messed up (Year=Year, Julian=Julian, Day=Hour, Hour=Minute, Minute=Second)\n",
      "wlev_pred = pd.read_csv('webtide_pred_7795_2002.csv',skiprows=[0,2],\\\n",
      "                        parse_dates={'time':['Year','Julian','Day','Hour','Minute']},\\\n",
      "                        date_parser=dateParserPredicted)\n",
      "\n",
      "#Vertical datum in Webtide is Mean Water Level\n",
      "#Webtide_0m = MWL = +3.3mCD ==================> CHECK!!!!\n",
      "wlev_pred.Elevation = wlev_pred.Elevation + 3.3"
     ],
     "language": "python",
     "metadata": {},
     "outputs": [],
     "prompt_number": 12
    },
    {
     "cell_type": "code",
     "collapsed": false,
     "input": [
      "#plot the predicted water level\n",
      "plt.plot(wlev_pred.time[0:100],wlev_pred.Elevation[0:100])\n",
      "plt.ylabel('Elevation [m CD]')\n",
      "plt.xlabel('Time')"
     ],
     "language": "python",
     "metadata": {},
     "outputs": [
      {
       "metadata": {},
       "output_type": "pyout",
       "prompt_number": 13,
       "text": [
        "<matplotlib.text.Text at 0x390f910>"
       ]
      },
      {
       "metadata": {},
       "output_type": "display_data",
       "png": "[encoded data removed]",
       "text": [
        "<matplotlib.figure.Figure at 0x3d29b90>"
       ]
      }
     ],
     "prompt_number": 13
    },
    {
     "cell_type": "heading",
     "level": 2,
     "metadata": {},
     "source": [
      "Compare the measured water level to predictions"
     ]
    },
    {
     "cell_type": "code",
     "collapsed": false,
     "input": [
      "#find the sea surface anomaly (measured-predicted)\n",
      "#check lengths\n",
      "print(len(wlev_pred.time))\n",
      "print(len(wlev_meas.time))\n",
      "wlev_anom = wlev_meas.slev - wlev_pred.Elevation\n",
      "print(wlev_meas.slev[0:100])\n",
      "print(wlev_pred.Elevation[0:100])\n",
      "print(wlev_anom[0:100])\n",
      "plt.plot(wlev_pred.time,wlev_anom)"
     ],
     "language": "python",
     "metadata": {},
     "outputs": [
      {
       "output_type": "stream",
       "stream": "stdout",
       "text": [
        "8761\n",
        "8761\n",
        "0     0.22\n",
        "1     0.37\n",
        "2     0.91\n",
        "3     1.67\n",
        "4     2.63\n",
        "5     3.57\n",
        "6     4.35\n",
        "7     4.81\n",
        "8     4.95\n",
        "9     4.81\n",
        "10    4.54\n",
        "11    4.13\n",
        "12    3.84\n",
        "13    3.69\n",
        "14    3.76\n",
        "...\n",
        "85    3.95\n",
        "86    3.44\n",
        "87    3.02\n",
        "88    2.83\n",
        "89    2.84\n",
        "90    3.03\n",
        "91    3.31\n",
        "92    3.54\n",
        "93    3.62\n",
        "94    3.52\n",
        "95    3.15\n",
        "96    2.71\n",
        "97    2.18\n",
        "98    1.73\n",
        "99    1.50\n",
        "Name: slev, Length: 100, dtype: float64\n",
        "0     4.3667\n",
        "1     4.4145\n",
        "2     4.2228\n",
        "3     3.7598\n",
        "4     3.0647\n",
        "5     2.2431\n",
        "6     1.4447\n",
        "7     0.8296\n",
        "8     0.5303\n",
        "9     0.6199\n",
        "10    1.0933\n",
        "11    1.8678\n",
        "12    2.8009\n",
        "13    3.7231\n",
        "14    4.4762\n",
        "...\n",
        "85    2.1973\n",
        "86    2.9591\n",
        "87    3.7492\n",
        "88    4.4194\n",
        "89    4.8513\n",
        "90    4.9821\n",
        "91    4.8174\n",
        "92    4.4269\n",
        "93    3.9250\n",
        "94    3.4416\n",
        "95    3.0896\n",
        "96    2.9375\n",
        "97    2.9947\n",
        "98    3.2111\n",
        "99    3.4927\n",
        "Name: Elevation, Length: 100, dtype: float64\n",
        "0    -4.1467\n",
        "1    -4.0445\n",
        "2    -3.3128\n",
        "3    -2.0898\n",
        "4    -0.4347\n",
        "5     1.3269\n",
        "6     2.9053\n",
        "7     3.9804\n",
        "8     4.4197\n",
        "9     4.1901\n",
        "10    3.4467\n",
        "11    2.2622\n",
        "12    1.0391\n",
        "13   -0.0331\n",
        "14   -0.7162\n",
        "...\n",
        "85    1.7527\n",
        "86    0.4809\n",
        "87   -0.7292\n",
        "88   -1.5894\n",
        "89   -2.0113\n",
        "90   -1.9521\n",
        "91   -1.5074\n",
        "92   -0.8869\n",
        "93   -0.3050\n",
        "94    0.0784\n",
        "95    0.0604\n",
        "96   -0.2275\n",
        "97   -0.8147\n",
        "98   -1.4811\n",
        "99   -1.9927\n",
        "Length: 100, dtype: float64\n"
       ]
      },
      {
       "metadata": {},
       "output_type": "pyout",
       "prompt_number": 27,
       "text": [
        "[<matplotlib.lines.Line2D at 0x495a4d0>]"
       ]
      },
      {
       "metadata": {},
       "output_type": "display_data",
       "png": "[encoded data removed]",
       "text": [
        "<matplotlib.figure.Figure at 0x3e2dc90>"
       ]
      }
     ],
     "prompt_number": 27
    },
    {
     "cell_type": "code",
     "collapsed": false,
     "input": [
      "import numpy\n",
      "#only look at December-March\n",
      "test = numpy.zeros((len(wlev),1))\n",
      "for i in numpy.arange(0,len(wlev)):\n",
      "    test[i,0] = wlev_meas.time[i].month\n",
      "    \n",
      "test1 = numpy.where(numpy.logical_or(test[:,0]>11,test[:,0]<4))"
     ],
     "language": "python",
     "metadata": {},
     "outputs": [
      {
       "ename": "NameError",
       "evalue": "name 'wlev' is not defined",
       "output_type": "pyerr",
       "traceback": [
        "\u001b[1;31m---------------------------------------------------------------------------\u001b[0m\n\u001b[1;31mNameError\u001b[0m                                 Traceback (most recent call last)",
        "\u001b[1;32m<ipython-input-11-4f28a1688203>\u001b[0m in \u001b[0;36m<module>\u001b[1;34m()\u001b[0m\n\u001b[0;32m      1\u001b[0m \u001b[1;32mimport\u001b[0m \u001b[0mnumpy\u001b[0m\u001b[1;33m\u001b[0m\u001b[0m\n\u001b[0;32m      2\u001b[0m \u001b[1;31m#only look at December-March\u001b[0m\u001b[1;33m\u001b[0m\u001b[1;33m\u001b[0m\u001b[0m\n\u001b[1;32m----> 3\u001b[1;33m \u001b[0mtest\u001b[0m \u001b[1;33m=\u001b[0m \u001b[0mnumpy\u001b[0m\u001b[1;33m.\u001b[0m\u001b[0mzeros\u001b[0m\u001b[1;33m(\u001b[0m\u001b[1;33m(\u001b[0m\u001b[0mlen\u001b[0m\u001b[1;33m(\u001b[0m\u001b[0mwlev\u001b[0m\u001b[1;33m)\u001b[0m\u001b[1;33m,\u001b[0m\u001b[1;36m1\u001b[0m\u001b[1;33m)\u001b[0m\u001b[1;33m)\u001b[0m\u001b[1;33m\u001b[0m\u001b[0m\n\u001b[0m\u001b[0;32m      4\u001b[0m \u001b[1;32mfor\u001b[0m \u001b[0mi\u001b[0m \u001b[1;32min\u001b[0m \u001b[0mnumpy\u001b[0m\u001b[1;33m.\u001b[0m\u001b[0marange\u001b[0m\u001b[1;33m(\u001b[0m\u001b[1;36m0\u001b[0m\u001b[1;33m,\u001b[0m\u001b[0mlen\u001b[0m\u001b[1;33m(\u001b[0m\u001b[0mwlev\u001b[0m\u001b[1;33m)\u001b[0m\u001b[1;33m)\u001b[0m\u001b[1;33m:\u001b[0m\u001b[1;33m\u001b[0m\u001b[0m\n\u001b[0;32m      5\u001b[0m     \u001b[0mtest\u001b[0m\u001b[1;33m[\u001b[0m\u001b[0mi\u001b[0m\u001b[1;33m,\u001b[0m\u001b[1;36m0\u001b[0m\u001b[1;33m]\u001b[0m \u001b[1;33m=\u001b[0m \u001b[0mwlev_meas\u001b[0m\u001b[1;33m.\u001b[0m\u001b[0mtime\u001b[0m\u001b[1;33m[\u001b[0m\u001b[0mi\u001b[0m\u001b[1;33m]\u001b[0m\u001b[1;33m.\u001b[0m\u001b[0mmonth\u001b[0m\u001b[1;33m\u001b[0m\u001b[0m\n",
        "\u001b[1;31mNameError\u001b[0m: name 'wlev' is not defined"
       ]
      }
     ],
     "prompt_number": 11
    },
    {
     "cell_type": "code",
     "collapsed": false,
     "input": [],
     "language": "python",
     "metadata": {},
     "outputs": []
    },
    {
     "cell_type": "code",
     "collapsed": false,
     "input": [],
     "language": "python",
     "metadata": {},
     "outputs": []
    }
   ],
   "metadata": {}
  }
 ]
}