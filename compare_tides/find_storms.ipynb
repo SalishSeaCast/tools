{
 "metadata": {
  "name": ""
 },
 "nbformat": 3,
 "nbformat_minor": 0,
 "worksheets": [
  {
   "cells": [
    {
     "cell_type": "code",
     "collapsed": false,
     "input": [
      "import requests"
     ],
     "language": "python",
     "metadata": {},
     "outputs": [],
     "prompt_number": 1
    },
    {
     "cell_type": "code",
     "collapsed": false,
     "input": [
      "#DFO station number and required dates\n",
      "station_no = 7795\n",
      "start_date = '01-JAN-2002'\n",
      "end_date = '31-DEC-2002'\n",
      "\n",
      "base_url = 'http://www.meds-sdmm.dfo-mpo.gc.ca/isdm-gdsi/twl-mne/inventory-inventaire/'\n",
      "form_handler = 'data-donnees-eng.asp?user=isdm-gdsi&region=PAC&tst=1&no='+str(station_no)\n",
      "\n",
      "sitedata = {\n",
      "            'start_period': start_date,\n",
      "            'end_period': end_date,\n",
      "            'resolution': 'h',\n",
      "            'time_zone': 'l',\n",
      "           }\n",
      "\n",
      "#data_provider = 'download-telecharger.asp?File=E:%5Ciusr_tmpfiles%5CTWL%5C7795-01-JAN-2002_slev.csv&Name=7795-01-JAN-2002_slev.csv'\n",
      "data_provider = 'download-telecharger.asp?File=E:%5Ciusr_tmpfiles%5CTWL%5C'+str(station_no)+'-'+start_date+'_slev.csv&Name='+str(station_no)+'-'+start_date+'_slev.csv'\n",
      "\n",
      "with requests.Session() as s:\n",
      "    s.post(base_url + form_handler, data=sitedata)\n",
      "    r = s.get(base_url + data_provider)"
     ],
     "language": "python",
     "metadata": {},
     "outputs": [],
     "prompt_number": 2
    },
    {
     "cell_type": "code",
     "collapsed": false,
     "input": [
      "import numpy\n",
      "print r.text\n"
     ],
     "language": "python",
     "metadata": {},
     "outputs": [
      {
       "output_type": "stream",
       "stream": "stdout",
       "text": [
        "<!DOCTYPE HTML PUBLIC \"-//W3C//DTD HTML 4.01//EN\" \"http://www.w3.org/TR/html4/strict.dtd\">\r\n",
        "<HTML><HEAD><TITLE>The page cannot be displayed</TITLE>\r\n",
        "<META HTTP-EQUIV=\"Content-Type\" Content=\"text/html; charset=Windows-1252\">\r\n",
        "<STYLE type=\"text/css\">\r\n",
        "  BODY { font: 8pt/12pt verdana }\r\n",
        "  H1 { font: 13pt/15pt verdana }\r\n",
        "  H2 { font: 8pt/12pt verdana }\r\n",
        "  A:link { color: red }\r\n",
        "  A:visited { color: maroon }\r\n",
        "</STYLE>\r\n",
        "</HEAD><BODY><TABLE width=500 border=0 cellspacing=10><TR><TD>\r\n",
        "\r\n",
        "<h1>The page cannot be displayed</h1>\r\n",
        "You have attempted to execute a CGI, ISAPI, or other executable program from a directory that does not allow programs to be executed.\r\n",
        "<hr>\r\n",
        "<p>Please try the following:</p>\r\n",
        "<ul>\r\n",
        "<li>Contact the Web site administrator if you believe this directory should allow execute access.</li>\r\n",
        "</ul>\r\n",
        "<h2>HTTP Error 403.1 - Forbidden: Execute access is denied.<br>Internet Information Services (IIS)</h2>\r\n",
        "<hr>\r\n",
        "<p>Technical Information (for support personnel)</p>\r\n",
        "<ul>\r\n",
        "<li>Go to <a href=\"http://go.microsoft.com/fwlink/?linkid=8180\">Microsoft Product Support Services</a> and perform a title search for the words <b>HTTP</b> and <b>403</b>.</li>\r\n",
        "<li>Open <b>IIS Help</b>, which is accessible in IIS Manager (inetmgr),\r\n",
        " and search for topics titled <b>Configuring ISAPI Extensions</b>, <b>Configuring CGI Applications</b>, <b>Securing Your Site with Web Site Permissions</b>, and <b>About Custom Error Messages</b>.</li>\r\n",
        "<li>In the IIS Software Development Kit (SDK) or at the <a href=\"http://go.microsoft.com/fwlink/?LinkId=8181\">MSDN Online Library</a>, search for topics titled <b>Developing ISAPI Extensions</b>, <b>ISAPI and CGI</b>, and <b>Debugging ISAPI Extensions and Filters</b>.</li>\r\n",
        "</ul>\r\n",
        "\r\n",
        "</TD></TR></TABLE></BODY></HTML>\r\n",
        "\n"
       ]
      }
     ],
     "prompt_number": 7
    },
    {
     "cell_type": "code",
     "collapsed": false,
     "input": [],
     "language": "python",
     "metadata": {},
     "outputs": []
    }
   ],
   "metadata": {}
  }
 ]
}