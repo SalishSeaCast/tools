{
 "metadata": {
  "name": ""
 },
 "nbformat": 3,
 "nbformat_minor": 0,
 "worksheets": [
  {
   "cells": [
    {
     "cell_type": "markdown",
     "metadata": {},
     "source": [
      "Notebook that opens the NetCDF(3) files created by BIO CONCEPTS 110 WCSD and plots them.\n",
      "Velocity plots are totally dominated by high velocities in the islands. Most useful is the flickery movie of the seasurface height."
     ]
    },
    {
     "cell_type": "markdown",
     "metadata": {},
     "source": [
      "First cell:  \n",
      "    1. makes plots run inline  \n",
      "    2. matlab like pylab interface\n",
      "    3. object type interface into matplotlib\n",
      "    4. imports netCDF4 to handle the netCDF 3 files\n",
      "    5. and numpy for arrays"
     ]
    },
    {
     "cell_type": "code",
     "collapsed": false,
     "input": [
      "%matplotlib inline\n",
      "from matplotlib import pylab\n",
      "import matplotlib.pyplot as plt\n",
      "import netCDF4 as NC\n",
      "import numpy as np"
     ],
     "language": "python",
     "metadata": {},
     "outputs": [],
     "prompt_number": 4
    },
    {
     "cell_type": "markdown",
     "metadata": {},
     "source": [
      "Open the files"
     ]
    },
    {
     "cell_type": "code",
     "collapsed": false,
     "input": [
      "#fV = NC.Dataset('WC3_CU60_20020102_20020104_grid_V.nc','r')\n",
      "fT = NC.Dataset('WC3_CU60_20020102_20020104_grid_T.nc','r')"
     ],
     "language": "python",
     "metadata": {},
     "outputs": [],
     "prompt_number": 6
    },
    {
     "cell_type": "markdown",
     "metadata": {},
     "source": [
      "File dimensions.  the u just means unicode, ignore it."
     ]
    },
    {
     "cell_type": "code",
     "collapsed": false,
     "input": [
      "fT.dimensions.keys()"
     ],
     "language": "python",
     "metadata": {},
     "outputs": [
      {
       "metadata": {},
       "output_type": "pyout",
       "prompt_number": 8,
       "text": [
        "[u'x', u'y', u'deptht', u'time_counter']"
       ]
      }
     ],
     "prompt_number": 8
    },
    {
     "cell_type": "markdown",
     "metadata": {},
     "source": [
      "Variable list."
     ]
    },
    {
     "cell_type": "code",
     "collapsed": false,
     "input": [
      "fT.variables.keys()"
     ],
     "language": "python",
     "metadata": {},
     "outputs": [
      {
       "metadata": {},
       "output_type": "pyout",
       "prompt_number": 9,
       "text": [
        "[u'nav_lon',\n",
        " u'nav_lat',\n",
        " u'deptht',\n",
        " u'time_counter',\n",
        " u'votemper',\n",
        " u'vosaline',\n",
        " u'sosstsst',\n",
        " u'sosaline',\n",
        " u'sossheig',\n",
        " u'sowaflup',\n",
        " u'sowaflcd',\n",
        " u'sosalflx',\n",
        " u'sohefldo',\n",
        " u'soshfldo',\n",
        " u'somxl010',\n",
        " u'somixhgt',\n",
        " u'soicecov',\n",
        " u'sohefldp',\n",
        " u'sosafldp',\n",
        " u'sowafldp',\n",
        " u'sobowlin']"
       ]
      }
     ],
     "prompt_number": 9
    },
    {
     "cell_type": "markdown",
     "metadata": {},
     "source": [
      "Get the dimension list and size for V"
     ]
    },
    {
     "cell_type": "code",
     "collapsed": false,
     "input": [
      "for dim in fV.dimensions.values():\n",
      "    print dim"
     ],
     "language": "python",
     "metadata": {},
     "outputs": [
      {
       "output_type": "stream",
       "stream": "stdout",
       "text": [
        "<type 'netCDF4.Dimension'>: name = 'x', size = 398\n",
        "\n",
        "<type 'netCDF4.Dimension'>: name = 'y', size = 345\n",
        "\n",
        "<type 'netCDF4.Dimension'>: name = 'depthv', size = 40\n",
        "\n",
        "<type 'netCDF4.Dimension'> (unlimited): name = 'time_counter', size = 72\n",
        "\n"
       ]
      }
     ],
     "prompt_number": 8
    },
    {
     "cell_type": "markdown",
     "metadata": {},
     "source": [
      "Get a more information about the variables"
     ]
    },
    {
     "cell_type": "code",
     "collapsed": false,
     "input": [
      "for var in fV.variables.values():\n",
      "    print var"
     ],
     "language": "python",
     "metadata": {},
     "outputs": [
      {
       "output_type": "stream",
       "stream": "stdout",
       "text": [
        "<type 'netCDF4.Variable'>\n",
        "float32 nav_lon(y, x)\n",
        "    standard_name: longitude\n",
        "    units: degrees_east\n",
        "    valid_min: -124.208\n",
        "    valid_max: -123.799\n",
        "    long_name: Longitude\n",
        "    nav_model: Default grid\n",
        "unlimited dimensions: \n",
        "current shape = (345, 398)\n",
        "\n",
        "<type 'netCDF4.Variable'>\n",
        "float32 nav_lat(y, x)\n",
        "    standard_name: latitude\n",
        "    units: degrees_north\n",
        "    valid_min: 47.6328\n",
        "    valid_max: 47.9106\n",
        "    long_name: Latitude\n",
        "    nav_model: Default grid\n",
        "unlimited dimensions: \n",
        "current shape = (345, 398)\n",
        "\n",
        "<type 'netCDF4.Variable'>\n",
        "float32 depthv(depthv)\n",
        "    axis: Z\n",
        "    standard_name: model_level_number\n",
        "    units: m\n",
        "    positive: down\n",
        "    valid_min: 0.5\n",
        "    valid_max: 515.866\n",
        "    title: depthv\n",
        "    long_name: Vertical V levels\n",
        "unlimited dimensions: \n",
        "current shape = (40,)\n",
        "\n",
        "<type 'netCDF4.Variable'>\n",
        "float64 time_counter(time_counter)\n",
        "    axis: T\n",
        "    standard_name: time\n",
        "    units: seconds since 2002-01-02 00:00:00\n",
        "    calendar: gregorian\n",
        "    title: Time\n",
        "    long_name: Time axis\n",
        "    time_origin:  2002-JAN-02 00:00:00\n",
        "unlimited dimensions: time_counter\n",
        "current shape = (72,)\n",
        "\n",
        "<type 'netCDF4.Variable'>\n",
        "float32 vomecrty(time_counter, depthv, y, x)\n",
        "    units: m/s\n",
        "    standard_name: Meridional Current\n",
        "    _FillValue: 9.96921e+36\n",
        "    long_name: Meridional Current\n",
        "    online_operation: ave(x)\n",
        "    interval_operation: 60.0\n",
        "    interval_write: 3600.0\n",
        "    coordinates: time_counter depthv nav_lat nav_lon\n",
        "unlimited dimensions: time_counter\n",
        "current shape = (72, 40, 345, 398)\n",
        "\n",
        "<type 'netCDF4.Variable'>\n",
        "float32 sometauy(time_counter, y, x)\n",
        "    units: N/m2\n",
        "    standard_name: Wind Stress along j-axis\n",
        "    _FillValue: 9.96921e+36\n",
        "    long_name: Wind Stress along j-axis\n",
        "    online_operation: ave(x)\n",
        "    interval_operation: 60.0\n",
        "    interval_write: 3600.0\n",
        "    coordinates: time_counter nav_lat nav_lon\n",
        "unlimited dimensions: time_counter\n",
        "current shape = (72, 345, 398)\n",
        "\n"
       ]
      }
     ],
     "prompt_number": 9
    },
    {
     "cell_type": "markdown",
     "metadata": {},
     "source": [
      "Set the v variable, X and Y and plot using pylab (matlab like) interface."
     ]
    },
    {
     "cell_type": "code",
     "collapsed": false,
     "input": [
      "v_vel = fV.variables['vomecrty']\n",
      "v_lat = fV.variables['nav_lat']\n",
      "v_lon = fV.variables['nav_lon']\n",
      "timestamp = 71\n",
      "depthlevel = 5\n",
      "V = v_vel[timestamp,depthlevel,:,:]\n",
      "X = v_lon[:,:]\n",
      "Y = v_lat[:,:]\n",
      "pylab.contourf(X,Y,V)\n",
      "pylab.colorbar()"
     ],
     "language": "python",
     "metadata": {},
     "outputs": [
      {
       "metadata": {},
       "output_type": "pyout",
       "prompt_number": 12,
       "text": [
        "<matplotlib.colorbar.Colorbar instance at 0x10872dab8>"
       ]
      },
      {
       "metadata": {},
       "output_type": "display_data",
       "png": "[encoded data removed]",
       "text": [
        "<matplotlib.figure.Figure at 0x107622d10>"
       ]
      }
     ],
     "prompt_number": 12
    },
    {
     "cell_type": "markdown",
     "metadata": {},
     "source": [
      "Set the sea surface height variables."
     ]
    },
    {
     "cell_type": "code",
     "collapsed": false,
     "input": [
      "T_ssh = fT.variables['sossheig']\n",
      "T_lat = fT.variables['nav_lat']\n",
      "T_lon = fT.variables['nav_lon']\n",
      "eta = T_ssh[:,:,:]\n",
      "X = T_lon[:,:]\n",
      "Y = T_lat[:,:]"
     ],
     "language": "python",
     "metadata": {},
     "outputs": [],
     "prompt_number": 10
    },
    {
     "cell_type": "markdown",
     "metadata": {},
     "source": [
      "Again using the matlab like interface, define a function to plot the surface height at a given time step with given contour levels."
     ]
    },
    {
     "cell_type": "code",
     "collapsed": false,
     "input": [
      "def tidal_height(timeindex,levels):\n",
      "    pylab.contourf(X,Y,eta[timeindex,:,:],levels)\n",
      "    pylab.colorbar()"
     ],
     "language": "python",
     "metadata": {},
     "outputs": [],
     "prompt_number": 11
    },
    {
     "cell_type": "code",
     "collapsed": false,
     "input": [
      "timeindex = 71\n",
      "levels = np.arange(-1.0,1.25,0.25)\n",
      "tidal_height(timeindex,levels)"
     ],
     "language": "python",
     "metadata": {},
     "outputs": [
      {
       "metadata": {},
       "output_type": "display_data",
       "png": "[encoded data removed]",
       "text": [
        "<matplotlib.figure.Figure at 0x335fb90>"
       ]
      }
     ],
     "prompt_number": 12
    },
    {
     "cell_type": "markdown",
     "metadata": {},
     "source": [
      "Using the object type matlab interface, create a flickery movie of the surface height."
     ]
    },
    {
     "cell_type": "code",
     "collapsed": false,
     "input": [
      "import time\n",
      "from IPython.core.display import clear_output, display\n",
      "levels = np.arange(-1,1.25,0.25)\n",
      "\n",
      "f, ax = plt.subplots()\n",
      "\n",
      "for i in range(72):\n",
      "    ax.contourf(X,Y,eta[i,:,:],levels)\n",
      "    time.sleep(0.1)\n",
      "    clear_output()\n",
      "    display(f)\n",
      "    ax.cla()\n",
      "plt.close()"
     ],
     "language": "python",
     "metadata": {},
     "outputs": [
      {
       "metadata": {},
       "output_type": "display_data",
       "png": "[encoded data removed]",
       "text": [
        "<matplotlib.figure.Figure at 0x3437690>"
       ]
      }
     ],
     "prompt_number": 13
    },
    {
     "cell_type": "code",
     "collapsed": false,
     "input": [],
     "language": "python",
     "metadata": {},
     "outputs": []
    }
   ],
   "metadata": {}
  }
 ]
}