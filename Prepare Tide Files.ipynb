{
 "metadata": {
  "name": ""
 },
 "nbformat": 3,
 "nbformat_minor": 0,
 "worksheets": [
  {
   "cells": [
    {
     "cell_type": "markdown",
     "metadata": {},
     "source": [
      "Notebook to prepare NEMO 3.4 Tide Files based on CONCEPTS 110 Tide Files"
     ]
    },
    {
     "cell_type": "code",
     "collapsed": false,
     "input": [
      "%matplotlib inline\n",
      "from matplotlib import pylab\n",
      "import netCDF4 as NC\n",
      "from numpy import sin, cos, pi\n",
      "from numpy import arange"
     ],
     "language": "python",
     "metadata": {},
     "outputs": [],
     "prompt_number": 15
    },
    {
     "cell_type": "markdown",
     "metadata": {},
     "source": [
      "Open CONCEPTS Tide Files"
     ]
    },
    {
     "cell_type": "code",
     "collapsed": false,
     "input": [
      "fT = NC.Dataset('SubDom_tide_elev.nc','r')\n",
      "fU = NC.Dataset('SubDom_tide_ubar.nc','r')\n",
      "fV = NC.Dataset('SubDom_tide_vbar.nc','r')"
     ],
     "language": "python",
     "metadata": {},
     "outputs": [],
     "prompt_number": 4
    },
    {
     "cell_type": "markdown",
     "metadata": {},
     "source": [
      "Extract Tides along the Northern and Western Boundaries"
     ]
    },
    {
     "cell_type": "code",
     "collapsed": false,
     "input": [
      "etaelev = fT.variables['M2_amp_elev']\n",
      "umax = fU.variables['M2_amp_u']\n",
      "vmax = fV.variables['M2_amp_v']\n",
      "print etaelev.shape, umax.shape, vmax.shape\n",
      "etaphase = fT.variables['M2_phi_elev']\n",
      "uphase = fU.variables['M2_phi_u']\n",
      "vphase = fV.variables['M2_phi_v']\n",
      "\n",
      "iindex_N = 345-1\n",
      "etaelev_N = etaelev[iindex_N,:]\n",
      "umax_N = umax[iindex_N,:]\n",
      "vmax_N = vmax[iindex_N,:]\n",
      "etaphase_N = etaphase[iindex_N,:]*pi/180.\n",
      "uphase_N = uphase[iindex_N,:]*pi/180.\n",
      "vphase_N = vphase[iindex_N,:]*pi/180.\n",
      "etaZ1_N = etaelev_N*cos(etaphase_N)\n",
      "etaZ2_N = etaelev_N*sin(etaphase_N)\n",
      "uZ1_N = umax_N*cos(uphase_N)\n",
      "uZ2_N = umax_N*sin(uphase_N)\n",
      "vZ1_N = vmax_N*cos(vphase_N)\n",
      "vZ2_N = vmax_N*sin(vphase_N)\n",
      "print etaZ1_N.size\n",
      "\n",
      "jindex_W = 1-1\n",
      "etaelev_W = etaelev[:,jindex_W]\n",
      "umax_W = umax[:,jindex_W]\n",
      "vmax_W = vmax[:,jindex_W]\n",
      "etaphase_W = etaphase[:,jindex_W]*pi/180.\n",
      "uphase_W = uphase[:,jindex_W]*pi/180.\n",
      "vphase_W = vphase[:,jindex_W]*pi/180.\n",
      "etaZ1_W = etaelev_W*cos(etaphase_W)\n",
      "etaZ2_W = etaelev_W*sin(etaphase_W)\n",
      "uZ1_W = umax_W*cos(uphase_W)\n",
      "uZ2_W = umax_W*sin(uphase_W)\n",
      "vZ1_W = vmax_W*cos(vphase_W)\n",
      "vZ2_W = vmax_W*sin(vphase_W)"
     ],
     "language": "python",
     "metadata": {},
     "outputs": [
      {
       "output_type": "stream",
       "stream": "stdout",
       "text": [
        "(345, 398) (345, 398) (345, 398)\n",
        "398\n"
       ]
      }
     ],
     "prompt_number": 89
    },
    {
     "cell_type": "code",
     "collapsed": false,
     "input": [
      "pylab.plot(uZ1_W)"
     ],
     "language": "python",
     "metadata": {},
     "outputs": [
      {
       "metadata": {},
       "output_type": "pyout",
       "prompt_number": 90,
       "text": [
        "[<matplotlib.lines.Line2D at 0x10b7cb6d0>]"
       ]
      },
      {
       "metadata": {},
       "output_type": "display_data",
       "png": "[encoded data removed]",
       "text": [
        "<matplotlib.figure.Figure at 0x10b58ce50>"
       ]
      }
     ],
     "prompt_number": 90
    },
    {
     "cell_type": "markdown",
     "metadata": {},
     "source": [
      "Test that I got the conversion correct"
     ]
    },
    {
     "cell_type": "code",
     "collapsed": false,
     "input": [
      "phi = arange(0,6.2,0.1)\n",
      "eta_C = etaelev_W[200]*cos(phi-etaphase_W[200])\n",
      "eta_N = etaZ1_W[200]*cos(phi)+etaZ2_W[200]*sin(phi)\n",
      "pylab.plot(phi,eta_C,'+g',phi,eta_N,'-r')"
     ],
     "language": "python",
     "metadata": {},
     "outputs": [
      {
       "metadata": {},
       "output_type": "pyout",
       "prompt_number": 84,
       "text": [
        "[<matplotlib.lines.Line2D at 0x10b59eb50>,\n",
        " <matplotlib.lines.Line2D at 0x10b59ed90>]"
       ]
      },
      {
       "metadata": {},
       "output_type": "display_data",
       "png": "[encoded data removed]",
       "text": [
        "<matplotlib.figure.Figure at 0x10b0c8210>"
       ]
      }
     ],
     "prompt_number": 84
    },
    {
     "cell_type": "markdown",
     "metadata": {},
     "source": [
      "Create the NEMO 3.4 File"
     ]
    },
    {
     "cell_type": "code",
     "collapsed": false,
     "input": [
      "nemo = NC.Dataset('JPP_bdytide_M2_grid_T.nc', 'w', format='NETCDF3_CLASSIC')\n",
      "nemo.description = 'Tide data from WebTide via JPP'\n",
      "\n",
      "# dimensions\n",
      "nemo.createDimension('xb', etaZ1_N.size+etaZ1_W.size)\n",
      "nemo.createDimension('yb', 1)\n",
      "\n",
      "# variables\n",
      "xb = nemo.createVariable('xb', 'int32', ('xb',))\n",
      "xb.units = 'non dim'\n",
      "xb.longname = 'counter around boundary'\n",
      "yb = nemo.createVariable('yb', 'int32', ('yb',))\n",
      "yb.units = 'non dim'\n",
      "nbidta = nemo.createVariable('nbidta', 'int32' , ('yb','xb'))\n",
      "nbidta.units = 'non dim'\n",
      "nbidta.longname = 'i grid position'\n",
      "nbjdta = nemo.createVariable('nbjdta', 'int32' , ('yb','xb'))\n",
      "nbjdta.units = 'non dim'\n",
      "nbjdta.longname = 'j grid position'\n",
      "nbrdta = nemo.createVariable('nbrdta', 'int32' , ('yb','xb'))\n",
      "nbrdta.units = 'non dim'\n",
      "z1 = nemo.createVariable('z1','float32',('yb','xb'))\n",
      "z1.units = 'm'\n",
      "z1.longname = 'tidal elevation: cosine'\n",
      "z2 = nemo.createVariable('z2','float32',('yb','xb'))\n",
      "z2.units = 'm'\n",
      "z2.longname = 'tidal elevation: sine'\n",
      "\n",
      "# data\n",
      "total_length = etaZ1_N.size+etaZ1_W.size\n",
      "xb[:] = arange(1, total_length+1)\n",
      "yb[0] = 1\n",
      "    # North Boundary\n",
      "nbidta[0,0:etaZ1_N.size] = xb[0:etaZ1_N.size]\n",
      "nbjdta[0,0:etaZ1_N.size] = iindex_N+1\n",
      "z1[0,0:etaZ1_N.size] = etaZ1_N\n",
      "z2[0,0:etaZ1_N.size] = etaZ2_N\n",
      "    # West Boundary\n",
      "nbidta[0,etaZ1_N.size:] = 1\n",
      "nbjdta[0,etaZ1_N.size:] = arange(1,etaZ1_W.size+1)\n",
      "z1[0,etaZ1_N.size:] = etaZ1_W\n",
      "z2[0,etaZ2_N.size:] = etaZ2_W\n",
      "    # and both\n",
      "nbrdta[:] = 1\n",
      "\n",
      "pylab.plot(nbidta[0,:],nbjdta[0,:],'*')\n",
      "\n",
      "nemo.close()"
     ],
     "language": "python",
     "metadata": {},
     "outputs": [
      {
       "metadata": {},
       "output_type": "display_data",
       "png": "[encoded data removed]",
       "text": [
        "<matplotlib.figure.Figure at 0x10b5cf910>"
       ]
      }
     ],
     "prompt_number": 91
    },
    {
     "cell_type": "code",
     "collapsed": false,
     "input": [
      "u = NC.Dataset('JPP_bdytide_M2_grid_U.nc', 'w', format='NETCDF3_CLASSIC')\n",
      "u.description = 'Tide data from WebTide via JPP'\n",
      "\n",
      "#dimensions\n",
      "u.createDimension('xb', etaZ1_N.size+etaZ1_W.size)\n",
      "u.createDimension('yb', 1)\n",
      "\n",
      "# variables\n",
      "xb = u.createVariable('xb', 'int32', ('xb',))\n",
      "xb.units = 'non dim'\n",
      "xb.longname = 'counter around boundary'\n",
      "yb = u.createVariable('yb', 'int32', ('yb',))\n",
      "yb.units = 'non dim'\n",
      "nbidta = u.createVariable('nbidta', 'int32' , ('yb','xb'))\n",
      "nbidta.units = 'non dim'\n",
      "nbidta.longname = 'i grid position'\n",
      "nbjdta = u.createVariable('nbjdta', 'int32' , ('yb','xb'))\n",
      "nbjdta.units = 'non dim'\n",
      "nbjdta.longname = 'j grid position'\n",
      "nbrdta = u.createVariable('nbrdta', 'int32' , ('yb','xb'))\n",
      "nbrdta.units = 'non dim'\n",
      "z1 = u.createVariable('z1','float32',('yb','xb'))\n",
      "z1.units = 'm'\n",
      "z1.longname = 'tidal elevation: cosine'\n",
      "z2 = u.createVariable('z2','float32',('yb','xb'))\n",
      "z2.units = 'm'\n",
      "z2.longname = 'tidal elevation: sine'\n",
      "\n",
      "# data\n",
      "total_length = etaZ1_N.size+etaZ1_W.size\n",
      "xb[:] = arange(1, total_length+1)\n",
      "yb[0] = 1\n",
      "    # North Boundary\n",
      "nbidta[0,0:etaZ1_N.size] = xb[0:etaZ1_N.size]\n",
      "nbjdta[0,0:etaZ1_N.size] = iindex_N+1\n",
      "z1[0,0:etaZ1_N.size] = uZ1_N\n",
      "z2[0,0:etaZ1_N.size] = uZ2_N\n",
      "    # West Boundary\n",
      "nbidta[0,etaZ1_N.size:] = 1\n",
      "nbjdta[0,etaZ1_N.size:] = arange(1,etaZ1_W.size+1)\n",
      "z1[0,etaZ1_N.size:] = uZ1_W\n",
      "z2[0,etaZ2_N.size:] = uZ2_W\n",
      "    # and both\n",
      "nbrdta[:] = 1\n",
      "\n",
      "pylab.plot(nbidta[0,:],nbjdta[0,:],'*')\n",
      "\n",
      "nemo.close()"
     ],
     "language": "python",
     "metadata": {},
     "outputs": [
      {
       "metadata": {},
       "output_type": "display_data",
       "png": "[encoded data removed]",
       "text": [
        "<matplotlib.figure.Figure at 0x10579aa50>"
       ]
      }
     ],
     "prompt_number": 94
    },
    {
     "cell_type": "code",
     "collapsed": false,
     "input": [
      "v = NC.Dataset('JPP_bdytide_M2_grid_V.nc', 'w', format='NETCDF3_CLASSIC')\n",
      "v.description = 'Tide data from WebTide via JPP'\n",
      "\n",
      "# dimensions\n",
      "v.createDimension('xb', etaZ1_N.size+etaZ1_W.size)\n",
      "v.createDimension('yb', 1)\n",
      "\n",
      "# variables\n",
      "xb = v.createVariable('xb', 'int32', ('xb',))\n",
      "xb.units = 'non dim'\n",
      "xb.longname = 'counter around boundary'\n",
      "yb = v.createVariable('yb', 'int32', ('yb',))\n",
      "yb.units = 'non dim'\n",
      "nbidta = v.createVariable('nbidta', 'int32' , ('yb','xb'))\n",
      "nbidta.units = 'non dim'\n",
      "nbidta.longname = 'i grid position'\n",
      "nbjdta = v.createVariable('nbjdta', 'int32' , ('yb','xb'))\n",
      "nbjdta.units = 'non dim'\n",
      "nbjdta.longname = 'j grid position'\n",
      "nbrdta = v.createVariable('nbrdta', 'int32' , ('yb','xb'))\n",
      "nbrdta.units = 'non dim'\n",
      "z1 = v.createVariable('z1','float32',('yb','xb'))\n",
      "z1.units = 'm'\n",
      "z1.longname = 'tidal elevation: cosine'\n",
      "z2 = v.createVariable('z2','float32',('yb','xb'))\n",
      "z2.units = 'm'\n",
      "z2.longname = 'tidal elevation: sine'\n",
      "\n",
      "# data\n",
      "total_length = etaZ1_N.size+etaZ1_W.size\n",
      "xb[:] = arange(1, total_length+1)\n",
      "yb[0] = 1\n",
      "    # North Boundary\n",
      "nbidta[0,0:etaZ1_N.size] = xb[0:etaZ1_N.size]\n",
      "nbjdta[0,0:etaZ1_N.size] = iindex_N+1\n",
      "z1[0,0:etaZ1_N.size] = vZ1_N\n",
      "z2[0,0:etaZ1_N.size] = vZ2_N\n",
      "    # West Boundary\n",
      "nbidta[0,etaZ1_N.size:] = 1\n",
      "nbjdta[0,etaZ1_N.size:] = arange(1,etaZ1_W.size+1)\n",
      "z1[0,etaZ1_N.size:] = vZ1_W\n",
      "z2[0,etaZ2_N.size:] = vZ2_W\n",
      "    # and both\n",
      "nbrdta[:] = 1\n",
      "\n",
      "pylab.plot(nbidta[0,:],nbjdta[0,:],'*')\n",
      "\n",
      "v.close()"
     ],
     "language": "python",
     "metadata": {},
     "outputs": [
      {
       "metadata": {},
       "output_type": "display_data",
       "png": "[encoded data removed]",
       "text": [
        "<matplotlib.figure.Figure at 0x10bb5f7d0>"
       ]
      }
     ],
     "prompt_number": 93
    },
    {
     "cell_type": "code",
     "collapsed": false,
     "input": [],
     "language": "python",
     "metadata": {},
     "outputs": []
    }
   ],
   "metadata": {}
  }
 ]
}