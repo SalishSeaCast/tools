{
 "cells": [
  {
   "cell_type": "markdown",
   "metadata": {},
   "source": [
    "## Process New River Bathymetry ##\n",
    "Take the bathymetry produced by Michael including the better resolved river and process it.\n",
    "We need to do the following steps:\n",
    "1. Straighten North Open Boundary\n",
    "2. Straighten West Open Boundary\n",
    "3. Smooth\n",
    "4. Add shallow Jetty\n",
    "5. Check dredged River Channel\n",
    "6. Check continuity and Add Mixed Islands\n",
    "7. Fix Puget\n",
    "8. Write out bathy file and jetty extra friction files"
   ]
  },
  {
   "cell_type": "code",
   "execution_count": 1,
   "metadata": {
    "collapsed": true
   },
   "outputs": [],
   "source": [
    "import cmocean.cm as cm \n",
    "import matplotlib.pyplot as plt\n",
    "import netCDF4 as nc\n",
    "import numpy as np\n",
    "\n",
    "from salishsea_tools import bathy_tools, nc_tools, viz_tools\n",
    "\n",
    "%matplotlib inline\n",
    "\n",
    "import matplotlib.colors as matcolors\n",
    "import matplotlib.cm as cmx"
   ]
  },
  {
   "cell_type": "code",
   "execution_count": 2,
   "metadata": {
    "collapsed": false
   },
   "outputs": [],
   "source": [
    "# Plotting Set Up\n",
    "cmap = cm.deep\n",
    "cmap.set_bad('darkgreen')\n",
    "ylim = (47, 51)\n",
    "xlim = (-126.3, -122.2)\n",
    "cNorm  = matcolors.Normalize(vmin=0, vmax=14)\n",
    "scalarMap = cmx.ScalarMappable(norm=cNorm, cmap='cool')"
   ]
  },
  {
   "cell_type": "markdown",
   "metadata": {},
   "source": [
    "### 0. Michael's Bathymetry ###"
   ]
  },
  {
   "cell_type": "code",
   "execution_count": 3,
   "metadata": {
    "collapsed": false
   },
   "outputs": [
    {
     "ename": "OSError",
     "evalue": "No such file or directory",
     "output_type": "error",
     "traceback": [
      "\u001b[0;31m---------------------------------------------------------------------------\u001b[0m",
      "\u001b[0;31mOSError\u001b[0m                                   Traceback (most recent call last)",
      "\u001b[0;32m<ipython-input-3-1b787af904c9>\u001b[0m in \u001b[0;36m<module>\u001b[0;34m()\u001b[0m\n\u001b[0;32m----> 1\u001b[0;31m \u001b[0mmd_bathyfile\u001b[0m \u001b[0;34m=\u001b[0m \u001b[0mnc\u001b[0m\u001b[0;34m.\u001b[0m\u001b[0mDataset\u001b[0m\u001b[0;34m(\u001b[0m\u001b[0;34m'/home/mdunphy/MEOPAR/Bathy/bathy_meter_SalishSeaM0.nc'\u001b[0m\u001b[0;34m)\u001b[0m\u001b[0;34m\u001b[0m\u001b[0m\n\u001b[0m\u001b[1;32m      2\u001b[0m \u001b[0mlon\u001b[0m \u001b[0;34m=\u001b[0m \u001b[0mmd_bathyfile\u001b[0m\u001b[0;34m.\u001b[0m\u001b[0mvariables\u001b[0m\u001b[0;34m[\u001b[0m\u001b[0;34m'nav_lon'\u001b[0m\u001b[0;34m]\u001b[0m\u001b[0;34m\u001b[0m\u001b[0m\n\u001b[1;32m      3\u001b[0m \u001b[0mlat\u001b[0m \u001b[0;34m=\u001b[0m \u001b[0mmd_bathyfile\u001b[0m\u001b[0;34m.\u001b[0m\u001b[0mvariables\u001b[0m\u001b[0;34m[\u001b[0m\u001b[0;34m'nav_lat'\u001b[0m\u001b[0;34m]\u001b[0m\u001b[0;34m\u001b[0m\u001b[0m\n\u001b[1;32m      4\u001b[0m \u001b[0mmd_bathy\u001b[0m \u001b[0;34m=\u001b[0m \u001b[0mmd_bathyfile\u001b[0m\u001b[0;34m.\u001b[0m\u001b[0mvariables\u001b[0m\u001b[0;34m[\u001b[0m\u001b[0;34m'Bathymetry'\u001b[0m\u001b[0;34m]\u001b[0m\u001b[0;34m\u001b[0m\u001b[0m\n\u001b[1;32m      5\u001b[0m \u001b[0;34m\u001b[0m\u001b[0m\n",
      "\u001b[0;32mnetCDF4/_netCDF4.pyx\u001b[0m in \u001b[0;36mnetCDF4._netCDF4.Dataset.__init__ (netCDF4/_netCDF4.c:12626)\u001b[0;34m()\u001b[0m\n",
      "\u001b[0;31mOSError\u001b[0m: No such file or directory"
     ]
    }
   ],
   "source": [
    "md_bathyfile = nc.Dataset('/home/mdunphy/MEOPAR/Bathy/bathy_meter_SalishSeaM0.nc')\n",
    "lon = md_bathyfile.variables['nav_lon']\n",
    "lat = md_bathyfile.variables['nav_lat']\n",
    "md_bathy = md_bathyfile.variables['Bathymetry']\n",
    "\n",
    "fig, ax = plt.subplots(1, 1, figsize=(5, 4))\n",
    "viz_tools.set_aspect(ax, coords='map')\n",
    "mesh = ax.pcolormesh(lon[:], lat[:], md_bathy[:], cmap=cmap)\n",
    "fig.colorbar(mesh, ax=ax)\n",
    "ax.set_ylim(ylim)\n",
    "ax.set_xlim(xlim);"
   ]
  },
  {
   "cell_type": "markdown",
   "metadata": {},
   "source": [
    "### 1. Straighten Northern Boundary"
   ]
  },
  {
   "cell_type": "code",
   "execution_count": null,
   "metadata": {
    "collapsed": true
   },
   "outputs": [],
   "source": [
    "ns_bathy = np.copy(md_bathy[:])\n",
    "js = 37\n",
    "je = 75"
   ]
  },
  {
   "cell_type": "code",
   "execution_count": null,
   "metadata": {
    "collapsed": false
   },
   "outputs": [],
   "source": [
    "ns_masked = np.ma.masked_array(ns_bathy, ns_bathy == 0)\n",
    "\n",
    "fig, axs = plt.subplots(1, 2, figsize=(10, 4))\n",
    "\n",
    "viz_tools.set_aspect(axs[0])\n",
    "mesh = axs[0].pcolormesh(ns_masked, cmap=cmap, vmax=20)\n",
    "fig.colorbar(mesh, ax=axs[0])\n",
    "axs[0].set_ylim((850, 898))\n",
    "axs[0].set_xlim((30, 80));\n",
    "\n",
    "axs[1].plot(range(js-10, je+10), ns_bathy[897, js-10:je+10], color=scalarMap.to_rgba(0), linewidth=3)\n",
    "for i in range(1, 14):\n",
    "    axs[1].plot(range(js-10, je+10), ns_bathy[897-i, js-10:je+10], color=scalarMap.to_rgba(i))\n",
    "axs[1].plot(range(js-10, je+10), ns_bathy[897-14, js-10:je+10], color=scalarMap.to_rgba(14), linewidth=2)\n",
    "axs[1].invert_yaxis()"
   ]
  },
  {
   "cell_type": "code",
   "execution_count": null,
   "metadata": {
    "collapsed": false
   },
   "outputs": [],
   "source": [
    "init_north = np.array(md_bathy[897, :])\n",
    "# shift north bathymetry 7 points west\n",
    "north = np.zeros_like(init_north)\n",
    "north[js:je] = init_north[js-7:je-7]\n",
    "\n",
    "#first 6 grid points (0-5) use the same, core profile shifted east.  After that merge into the original\n",
    "#bathymetry, shifting South by half a grid point per grid point east.\n",
    "\n",
    "# Closest 5 rows to northern boundary, all the same as the boundary\n",
    "for i in range(898-5, 898):\n",
    "    ns_bathy[i, js:je] = north[js:je]\n",
    "# Now move away from the boundary, blending    \n",
    "\n",
    "i=5; ii=898-1-i\n",
    "ns_bathy[ii, js:je] = (-i+15)/10.*north[js:je] + (i-5)/10.*ns_bathy[ii, js:je]\n",
    "i=6; ii=898-1-i\n",
    "ns_bathy[ii, js:je] = (-i+15)/10.*north[js-1:je-1] + (i-5)/10.*ns_bathy[ii, js:je]\n",
    "i=7; ii=898-1-i\n",
    "ns_bathy[ii, js:je] = (-i+15)/10.*north[js-2:je-2] + (i-5)/10.*ns_bathy[ii, js:je]\n",
    "i=8; ii=898-1-i\n",
    "ns_bathy[ii, js:je] = (-i+15)/10.*north[js-3:je-3] + (i-5)/10.*ns_bathy[ii, js:je]\n",
    "i=9; ii=898-1-i\n",
    "ns_bathy[ii, js:je] = (-i+15)/10.*north[js-4:je-4] + (i-5)/10.*ns_bathy[ii, js:je]\n",
    "i=10; ii=898-1-i\n",
    "ns_bathy[ii, js:je] = (-i+15)/10.*north[js-5:je-5] + (i-5)/10.*ns_bathy[ii, js:je]\n",
    "i=11; ii=898-1-i\n",
    "ns_bathy[ii, js:je] = (-i+15)/10.*north[js-6:je-6] + (i-5)/10.*ns_bathy[ii, js:je]\n",
    "i=12; ii=898-1-i\n",
    "ns_bathy[ii, js:je] = (-i+15)/10.*north[js-7:je-7] + (i-5)/10.*ns_bathy[ii, js:je]\n",
    "i=13; ii=898-1-i\n",
    "ns_bathy[ii, js:je] = (-i+15)/10.*north[js-8:je-8] + (i-5)/10.*ns_bathy[ii, js:je]\n",
    "i=14; ii=898-1-i\n",
    "ns_bathy[ii, js:je] = (-i+15)/10.*north[js-9:je-9] + (i-5)/10.*ns_bathy[ii, js:je]"
   ]
  },
  {
   "cell_type": "code",
   "execution_count": null,
   "metadata": {
    "collapsed": false
   },
   "outputs": [],
   "source": [
    "# Remove shallow points, deepen points almost at 4\n",
    "for i in range(880,898):\n",
    "    for j in range(30,80) :\n",
    "        if ns_bathy[i, j] < 2:\n",
    "            ns_bathy[i, j] = 0\n",
    "        elif ns_bathy[i, j] < 4:\n",
    "            ns_bathy[i, j] = 4"
   ]
  },
  {
   "cell_type": "code",
   "execution_count": null,
   "metadata": {
    "collapsed": false
   },
   "outputs": [],
   "source": [
    "ns_masked = np.ma.masked_array(ns_bathy, ns_bathy == 0)\n",
    "\n",
    "fig, axs = plt.subplots(1, 2, figsize=(10, 4))\n",
    "\n",
    "viz_tools.set_aspect(axs[0])\n",
    "mesh = axs[0].pcolormesh(ns_masked, cmap=cmap, vmax=20, vmin=0)\n",
    "fig.colorbar(mesh, ax=axs[0])\n",
    "axs[0].set_ylim((850, 898))\n",
    "axs[0].set_xlim((30, 80));\n",
    "\n",
    "axs[1].plot(range(js-10, je+10), ns_bathy[897, js-10:je+10], color=scalarMap.to_rgba(0), linewidth=3)\n",
    "for i in range(1, 14):\n",
    "    axs[1].plot(range(js-10, je+10), ns_bathy[897-i, js-10:je+10], color=scalarMap.to_rgba(i))\n",
    "axs[1].plot(range(js-10, je+10), ns_bathy[897-14, js-10:je+10], color=scalarMap.to_rgba(14), linewidth=2)\n",
    "axs[1].invert_yaxis()"
   ]
  },
  {
   "cell_type": "markdown",
   "metadata": {},
   "source": [
    "### 2. Straighten Western Boundary"
   ]
  },
  {
   "cell_type": "code",
   "execution_count": null,
   "metadata": {
    "collapsed": true
   },
   "outputs": [],
   "source": [
    "ws_bathy = np.copy(ns_bathy[:])\n",
    "iss = 350\n",
    "iee = 470"
   ]
  },
  {
   "cell_type": "code",
   "execution_count": null,
   "metadata": {
    "collapsed": false
   },
   "outputs": [],
   "source": [
    "fig, axs = plt.subplots(1, 2, figsize=(10, 4))\n",
    "\n",
    "viz_tools.set_aspect(axs[0])\n",
    "mesh = axs[0].pcolormesh(ws_bathy, cmap=cmap)\n",
    "fig.colorbar(mesh, ax=axs[0])\n",
    "axs[0].set_ylim((350, 470))\n",
    "axs[0].set_xlim((0, 30));\n",
    "\n",
    "for j in range(1, 14):\n",
    "    axs[1].plot(range(iss, iee), ws_bathy[iss:iee, j], color=scalarMap.to_rgba(i))\n",
    "axs[1].plot(range(iss, iee), ws_bathy[iss:iee, 14], color=scalarMap.to_rgba(14), linewidth=2)\n",
    "axs[1].plot(range(iss, iee), ws_bathy[iss:iee, 0], color=scalarMap.to_rgba(0), linewidth=3)\n",
    "\n",
    "axs[1].invert_yaxis()"
   ]
  },
  {
   "cell_type": "markdown",
   "metadata": {},
   "source": [
    "Unlike the North, the mouth profile is kind of jagged.  \n",
    "A. We'll take out the bank to the south by rearranging the profile and  \n",
    "B. We'll rearrange the depths in the centre, so that they are a simple up and down: i.e. make the two deep channels into one. At the same time, move the deepest point, one point to the south. This emphasizes the southern channel, which is the channel that continues into Juan de Fuca. We do this so there is no artifical sill in this channel which is not seen in the original bathymetry."
   ]
  },
  {
   "cell_type": "code",
   "execution_count": null,
   "metadata": {
    "collapsed": false
   },
   "outputs": [],
   "source": [
    "core = np.copy(ws_bathy[:,0])\n",
    "print (core[iss+43:iss+53])"
   ]
  },
  {
   "cell_type": "code",
   "execution_count": null,
   "metadata": {
    "collapsed": false
   },
   "outputs": [],
   "source": [
    "# A. remove bank\n",
    "core[iss+46] = ws_bathy[iss+48,0]\n",
    "core[iss+47] = ws_bathy[iss+49,0]\n",
    "core[iss+48] = ws_bathy[iss+46,0]\n",
    "core[iss+49] = ws_bathy[iss+47,0]\n",
    "print (core[iss+43:iss+53])"
   ]
  },
  {
   "cell_type": "code",
   "execution_count": null,
   "metadata": {
    "collapsed": false
   },
   "outputs": [],
   "source": [
    "print (core[401:420])"
   ]
  },
  {
   "cell_type": "code",
   "execution_count": null,
   "metadata": {
    "collapsed": false
   },
   "outputs": [],
   "source": [
    "# B. Fix central channel\n",
    "core[402] = ws_bathy[403,0]\n",
    "core[403] = ws_bathy[405,0]\n",
    "core[404] = ws_bathy[407,0]\n",
    "core[405] = ws_bathy[406,0]\n",
    "core[406] = ws_bathy[412,0]\n",
    "core[407] = ws_bathy[411,0]\n",
    "core[408] = ws_bathy[413,0] \n",
    "core[409] = ws_bathy[410,0]\n",
    "core[410] = ws_bathy[408,0]\n",
    "core[411] = ws_bathy[414,0]\n",
    "core[412] = ws_bathy[409,0]\n",
    "core[413] = ws_bathy[415,0]\n",
    "core[414] = ws_bathy[416,0]\n",
    "core[415] = ws_bathy[404,0]\n",
    "core[416] = ws_bathy[417,0]\n",
    "core[417] = ws_bathy[402,0]\n",
    "print (core[402:417])"
   ]
  },
  {
   "cell_type": "code",
   "execution_count": null,
   "metadata": {
    "collapsed": false
   },
   "outputs": [],
   "source": [
    "print (core[iss+37:iss+40])\n",
    "print (core[iee-4:iee-1])\n"
   ]
  },
  {
   "cell_type": "code",
   "execution_count": null,
   "metadata": {
    "collapsed": false
   },
   "outputs": [],
   "source": [
    "# smooth the west profile, twice\n",
    "newcore = core\n",
    "for i in range(iss,iee):\n",
    "    newcore[i] = 0.25*core[i-1] + 0.5*core[i] + 0.25*core[i+1]\n",
    "core[:] = newcore\n",
    "for i in range(360,500):\n",
    "    newcore[i] = 0.25*core[i-1] + 0.5*core[i] + 0.25*core[i+1]\n",
    "core[:] = newcore\n",
    "# rezero iss+37 and iss+38 as we do not want to expand the domain\n",
    "core[0:iss+38+1] = 0\n",
    "# rezero iee-4, iee-3,iee-2 as we do not want to expand the domain\n",
    "print (core[iee-4:iee])\n",
    "core[iee-3:] = 0\n",
    "# this domain goes one grid point further north than previous, zero iee-4\n",
    "core[iee-4] = 0."
   ]
  },
  {
   "cell_type": "code",
   "execution_count": null,
   "metadata": {
    "collapsed": false
   },
   "outputs": [],
   "source": [
    "plt.plot(range(370,470),-core[370:470],'ko',range(370,470),-ws_bathy[370:470,0],'-');"
   ]
  },
  {
   "cell_type": "markdown",
   "metadata": {},
   "source": [
    "We now have \"core\" which is the bathymetry at the mouth.  This continues 5 more grid points into the domain.  Beyond that we blend into the original bathymetry linearly over the next 10 grid points.  The only difficulty is that we need to follow the bathymetry south-east, so we need to shift south as we go."
   ]
  },
  {
   "cell_type": "code",
   "execution_count": null,
   "metadata": {
    "collapsed": true
   },
   "outputs": [],
   "source": [
    "for i in range(0,5):\n",
    "    ws_bathy[370:470,i] = core[370:470]\n",
    "i=5\n",
    "ws_bathy[370:470,i] = (-i+15)/10.*core[370:470] + (i-5)/10.*ws_bathy[370:470,i]\n",
    "i=6\n",
    "ws_bathy[370:470,i] = (-i+15)/10.*(core[370:470]+core[371:471])/2. + (i-5)/10.*ws_bathy[370:470,i]\n",
    "i=7\n",
    "ws_bathy[370:470,i] = (-i+15)/10.*core[371:471] + (i-5)/10.*ws_bathy[370:470,i]\n",
    "i=8\n",
    "ws_bathy[370:470,i] = (-i+15)/10.*(core[371:471]+core[372:472])/2. + (i-5)/10.*ws_bathy[370:470,i]\n",
    "i=9\n",
    "ws_bathy[370:470,i] = (-i+15)/10.*core[372:472] + (i-5)/10.*ws_bathy[370:470,i]\n",
    "i=10\n",
    "ws_bathy[370:470,i] = (-i+15)/10.*(core[372:472]+core[373:473])/2. + (i-5)/10.*ws_bathy[370:470,i]\n",
    "i=11\n",
    "ws_bathy[370:470,i] = (-i+15)/10.*core[373:473] + (i-5)/10.*ws_bathy[370:470,i]\n",
    "i=12\n",
    "ws_bathy[370:470,i] = (-i+15)/10.*(core[373:473]+core[374:474])/2. + (i-5)/10.*ws_bathy[370:470,i]\n",
    "i=13\n",
    "ws_bathy[370:470,i] = (-i+15)/10.*core[374:474] + (i-5)/10.*ws_bathy[370:470,i]\n",
    "i=14\n",
    "ws_bathy[370:470,i] = (-i+15)/10.*(core[374:474]+core[375:475])/2. + (i-5)/10.*ws_bathy[370:470,i]\n"
   ]
  },
  {
   "cell_type": "code",
   "execution_count": null,
   "metadata": {
    "collapsed": false,
    "scrolled": true
   },
   "outputs": [],
   "source": [
    "ws_masked = np.ma.masked_array(ws_bathy, ws_bathy == 0)\n",
    "fig, axs = plt.subplots(1, 2, figsize=(10, 4))\n",
    "\n",
    "viz_tools.set_aspect(axs[0])\n",
    "mesh = axs[0].pcolormesh(ws_masked, cmap=cmap)\n",
    "fig.colorbar(mesh, ax=axs[0])\n",
    "axs[0].set_ylim((350, 470))\n",
    "axs[0].set_xlim((0, 30));\n",
    "\n",
    "for j in range(1, 14):\n",
    "    axs[1].plot(range(iss, iee), ws_bathy[iss:iee, j], color=scalarMap.to_rgba(i))\n",
    "axs[1].plot(range(iss, iee), ws_bathy[iss:iee, 14], color=scalarMap.to_rgba(14), linewidth=2)\n",
    "axs[1].plot(range(iss, iee), ws_bathy[iss:iee, 0], color=scalarMap.to_rgba(0), linewidth=3)\n",
    "\n",
    "axs[1].invert_yaxis()"
   ]
  },
  {
   "cell_type": "markdown",
   "metadata": {},
   "source": [
    "there is too much extra shallow water in the North.  We can't get rid of all of it, it is partially due to the direct Eastward extension of the boundary, but we can crop some."
   ]
  },
  {
   "cell_type": "code",
   "execution_count": null,
   "metadata": {
    "collapsed": false
   },
   "outputs": [],
   "source": [
    "top=470\n",
    "bot=440\n",
    "left = 3\n",
    "right = 30\n",
    "\n",
    "ws_bathy[bot+26,3+left:12+left] = 0\n",
    "ws_bathy[bot+25,5+left:12+left] = 0\n",
    "ws_bathy[bot+24,6+left:12+left] = 0\n",
    "ws_bathy[bot+23,7+left:12+left] = 0\n",
    "ws_bathy[bot+22,8+left:12+left] = 0\n",
    "ws_bathy[bot+21,9+left:12+left] = 0\n",
    "ws_bathy[bot+20,10+left:13+left] = 0\n",
    "ws_bathy[bot+15:bot+20,11+left:13+left] = 0\n",
    "ws_bathy[bot+11:bot+15,12+left:14+left] = 0\n"
   ]
  },
  {
   "cell_type": "code",
   "execution_count": null,
   "metadata": {
    "collapsed": false
   },
   "outputs": [],
   "source": [
    "ws_masked = np.ma.masked_array(ws_bathy, ws_bathy == 0)\n",
    "fig, axs = plt.subplots(1, 2, figsize=(10, 4))\n",
    "\n",
    "viz_tools.set_aspect(axs[0])\n",
    "mesh = axs[0].pcolormesh(ws_masked, cmap=cmap)\n",
    "fig.colorbar(mesh, ax=axs[0])\n",
    "axs[0].set_ylim((350, 470))\n",
    "axs[0].set_xlim((0, 30));\n",
    "\n",
    "for j in range(1, 14):\n",
    "    axs[1].plot(range(iss, iee), ws_bathy[iss:iee, j], color=scalarMap.to_rgba(i))\n",
    "axs[1].plot(range(iss, iee), ws_bathy[iss:iee, 14], color=scalarMap.to_rgba(14), linewidth=2)\n",
    "axs[1].plot(range(iss, iee), ws_bathy[iss:iee, 0], color=scalarMap.to_rgba(0), linewidth=3)\n",
    "\n",
    "axs[1].invert_yaxis()"
   ]
  },
  {
   "cell_type": "code",
   "execution_count": null,
   "metadata": {
    "collapsed": false
   },
   "outputs": [],
   "source": [
    "print (core[iee-4], ws_bathy[iee-4, 0:4])"
   ]
  },
  {
   "cell_type": "markdown",
   "metadata": {},
   "source": [
    "### 3. Smooth"
   ]
  },
  {
   "cell_type": "code",
   "execution_count": null,
   "metadata": {
    "collapsed": false
   },
   "outputs": [],
   "source": [
    "# lets smooth\n",
    "ws_masked = np.ma.masked_array(ws_bathy, ws_bathy == 0)\n",
    "max_dh_over_hbar = 0.8\n",
    "sm_bathy = bathy_tools.smooth(ws_masked, max_norm_depth_diff=max_dh_over_hbar, smooth_factor=0.2)"
   ]
  },
  {
   "cell_type": "markdown",
   "metadata": {},
   "source": [
    "### 4. Add Shallow Jetty ###"
   ]
  },
  {
   "cell_type": "code",
   "execution_count": null,
   "metadata": {
    "collapsed": true
   },
   "outputs": [],
   "source": [
    "sj_bathy = np.copy(sm_bathy[:])\n",
    "ibase = 410\n",
    "jbase = 295"
   ]
  },
  {
   "cell_type": "code",
   "execution_count": null,
   "metadata": {
    "collapsed": false
   },
   "outputs": [],
   "source": [
    "sj_masked = np.ma.masked_array(sj_bathy, sj_bathy == 0)\n",
    "fig, ax = plt.subplots(1, 1, figsize=(10, 4))\n",
    "\n",
    "vmax= 15\n",
    "vmin = 4\n",
    "viz_tools.set_aspect(ax)\n",
    "mesh = ax.pcolormesh(sj_masked, cmap=cmap, vmax=vmax, vmin=vmin)\n",
    "fig.colorbar(mesh, ax=ax)\n",
    "ax.set_ylim((ibase+10, ibase+25))\n",
    "ax.set_xlim((jbase-10, jbase+20));\n",
    "\n"
   ]
  },
  {
   "cell_type": "code",
   "execution_count": null,
   "metadata": {
    "collapsed": false
   },
   "outputs": [],
   "source": [
    "x = np.arange(295, 309); jv_x = np.arange(295, 309); ju_x = 308\n",
    "y = np.ones(14)*429; jv_y = np.ones(14)*429; ju_y = 429\n",
    "print (x.shape, y.shape)\n",
    "x = np.append(x, (308, 309)); jv_x = np.append(jv_x, 309); ju_x = np.append(ju_x, 309)\n",
    "y = np.append(y, (428, 428)); jv_y = np.append(jv_y, 428); ju_y = np.append(ju_y, 428)\n",
    "x = np.append(x, (309, 310)); jv_x = np.append(jv_x, 310); ju_x = np.append(ju_x, 310)\n",
    "y = np.append(y, (427, 427)); jv_y = np.append(jv_y, 427); ju_y = np.append(ju_y, 427)\n",
    "x = np.append(x, (310, 311)); jv_x = np.append(jv_x, 311); \n",
    "y = np.append(y, (426, 426)); jv_y = np.append(jv_y, 426); ju_y = np.append(ju_y, 426)\n",
    "print (x.shape, y.shape, ju_x.shape)\n",
    "\n",
    "# make the jetty 4m deep\n",
    "for j,i in zip(y, x):\n",
    "    sj_bathy[int(j), i] = 4"
   ]
  },
  {
   "cell_type": "code",
   "execution_count": null,
   "metadata": {
    "collapsed": false
   },
   "outputs": [],
   "source": [
    "fig, ax = plt.subplots(1, 1, figsize=(10, 4))\n",
    "\n",
    "vmax=4.5\n",
    "vmin = 4\n",
    "viz_tools.set_aspect(ax)\n",
    "mesh = ax.pcolormesh(sj_masked, cmap=cmap, vmax=vmax, vmin=vmin)\n",
    "fig.colorbar(mesh, ax=ax)\n",
    "ax.set_ylim((ibase+10, ibase+25))\n",
    "ax.set_xlim((jbase-10, jbase+20));\n",
    "\n",
    "for j,i in zip(y,x):\n",
    "    ax.plot(i+0.5, j+0.5, 'oy')\n",
    "for j,i in zip(jv_y, jv_x):\n",
    "    ax.plot(i+0.5, j+1, 'om')\n",
    "for j,i in zip(ju_y, ju_x):\n",
    "    ax.plot(i+1, j+0.5, 'xr')"
   ]
  },
  {
   "cell_type": "markdown",
   "metadata": {},
   "source": [
    "### 5. Check Dredged Channel"
   ]
  },
  {
   "cell_type": "code",
   "execution_count": null,
   "metadata": {
    "collapsed": true
   },
   "outputs": [],
   "source": [
    "dc_bathy = np.copy(sj_bathy[:])\n"
   ]
  },
  {
   "cell_type": "code",
   "execution_count": null,
   "metadata": {
    "collapsed": false
   },
   "outputs": [],
   "source": [
    "dc_masked = np.ma.masked_array(dc_bathy, dc_bathy == 0)\n",
    "fig, ax = plt.subplots(1, 1, figsize=(10, 4))\n",
    "\n",
    "vmax= 13\n",
    "vmin = 8\n",
    "\n",
    "viz_tools.set_aspect(ax)\n",
    "mesh = ax.pcolormesh(dc_masked, cmap=cmap, vmax=vmax, vmin=vmin)\n",
    "fig.colorbar(mesh, ax=ax)\n",
    "ax.set_ylim((ibase, ibase+20))\n",
    "ax.set_xlim((jbase-10, jbase+50));\n",
    "ax.plot(jbase+23+0.5, ibase+6+0.5, 'o')\n"
   ]
  },
  {
   "cell_type": "markdown",
   "metadata": {},
   "source": [
    "According to: https://voony.files.wordpress.com/2012/10/gmtnauticalchart.jpg\n",
    "\n",
    "it should be at least 10 m above datum = 13 m above msl deep north of Deas. So I'll make it continuous 13 m throughout.\n"
   ]
  },
  {
   "cell_type": "code",
   "execution_count": null,
   "metadata": {
    "collapsed": false
   },
   "outputs": [],
   "source": [
    "dc_bathy[ibase+3, jbase+49] = 13\n",
    "dc_bathy[ibase+3, jbase+48] = 13\n",
    "dc_bathy[ibase+4, jbase+48] = 13\n",
    "dc_bathy[ibase+4, jbase+43] = 13\n",
    "dc_bathy[ibase+5, jbase+43] = 13\n",
    "dc_bathy[ibase+5, jbase+42] = 13\n",
    "dc_bathy[ibase+5, jbase+41] = 13\n",
    "dc_bathy[ibase+5, jbase+40] = 13\n",
    "dc_bathy[ibase+5, jbase+39] = 13\n",
    "dc_bathy[ibase+5, jbase+37] = 13\n",
    "dc_bathy[ibase+4, jbase+37] = 13\n",
    "dc_bathy[ibase+4, jbase+36] = 13\n",
    "dc_bathy[ibase+4, jbase+35] = 13\n",
    "dc_bathy[ibase+4, jbase+34] = 13\n",
    "dc_bathy[ibase+4, jbase+33] = 13\n",
    "dc_bathy[ibase+4, jbase+32] = 13\n",
    "dc_bathy[ibase+4, jbase+31] = 13\n",
    "dc_bathy[ibase+4, jbase+30] = 13\n",
    "dc_bathy[ibase+4, jbase+29] = 13\n",
    "dc_bathy[ibase+5, jbase+29] = 13\n",
    "dc_bathy[ibase+5, jbase+28] = 13\n",
    "dc_bathy[ibase+5, jbase+27] = 13\n",
    "dc_bathy[ibase+6, jbase+27] = 13\n",
    "dc_bathy[ibase+6, jbase+26] = 13\n",
    "dc_bathy[ibase+6, jbase+25] = 13\n",
    "dc_bathy[ibase+6, jbase+22] = 13\n",
    "dc_bathy[ibase+7, jbase+22] = 13\n",
    "dc_bathy[ibase+7, jbase+21] = 13\n",
    "dc_bathy[ibase+7, jbase+20] = 13\n",
    "dc_bathy[ibase+8, jbase+20] = 13\n",
    "dc_bathy[ibase+8, jbase+19] = 13\n",
    "dc_bathy[ibase+9, jbase+19] = 13\n",
    "dc_bathy[ibase+9, jbase+18] = 13\n",
    "dc_bathy[ibase+10, jbase+18] = 13\n",
    "dc_bathy[ibase+10, jbase+17] = 13\n",
    "dc_bathy[ibase+11, jbase+17] = 13\n",
    "dc_bathy[ibase+11, jbase+16] = 13\n",
    "dc_bathy[ibase+12, jbase+16] = 13\n",
    "dc_bathy[ibase+13, jbase+16] = 13\n",
    "dc_bathy[ibase+13, jbase+15] = 13\n",
    "dc_bathy[ibase+14, jbase+15] = 13\n",
    "dc_bathy[ibase+14, jbase+14] = 13\n",
    "dc_bathy[ibase+15, jbase+14] = 13\n",
    "dc_bathy[ibase+16, jbase+14] = 13\n",
    "dc_bathy[ibase+16, jbase+13] = 13\n",
    "dc_bathy[ibase+17, jbase+13] = 13\n",
    "dc_bathy[ibase+17, jbase+12] = 13\n",
    "dc_bathy[ibase+18, jbase+12] = 13\n",
    "dc_bathy[ibase+18, jbase+7:jbase+12] = 13\n",
    "dc_bathy[ibase+18, jbase+6] = 13\n",
    "dc_bathy[ibase+18, jbase+5] = 13\n",
    "dc_bathy[ibase+18, jbase+4] = 13\n",
    "dc_bathy[ibase+18, jbase+3] = 13\n",
    "dc_bathy[ibase+17, jbase+3] = 13\n",
    "dc_bathy[ibase+17, jbase+2] = 13\n",
    "dc_bathy[ibase+17, jbase+1] = 13\n",
    "dc_bathy[ibase+17, jbase] = 13\n",
    "dc_bathy[ibase+17, jbase-1] = 13\n",
    "dc_bathy[ibase+17, jbase-2] = 13"
   ]
  },
  {
   "cell_type": "code",
   "execution_count": null,
   "metadata": {
    "collapsed": false
   },
   "outputs": [],
   "source": [
    "dc_masked = np.ma.masked_array(dc_bathy, dc_bathy == 0)\n",
    "fig, ax = plt.subplots(1, 1, figsize=(10, 4))\n",
    "\n",
    "vmax= 13\n",
    "vmin = 7\n",
    "viz_tools.set_aspect(ax)\n",
    "mesh = ax.pcolormesh(dc_masked, cmap=cmap, vmax=vmax, vmin=vmin)\n",
    "fig.colorbar(mesh, ax=ax)\n",
    "ax.set_ylim((ibase, ibase+22))\n",
    "ax.set_xlim((jbase-10, jbase+50));\n",
    "ax.plot(x[0]+0.5, y[0]+0.5, 'om')"
   ]
  },
  {
   "cell_type": "code",
   "execution_count": null,
   "metadata": {
    "collapsed": false
   },
   "outputs": [],
   "source": [
    "fig, ax = plt.subplots(1, 1, figsize=(10, 4))\n",
    "\n",
    "vmax= 5\n",
    "vmin = 0\n",
    "viz_tools.set_aspect(ax)\n",
    "mesh = ax.pcolormesh(dc_masked-sj_masked, cmap=cmap, vmax=vmax, vmin=vmin)\n",
    "fig.colorbar(mesh, ax=ax)\n",
    "ax.set_ylim((ibase, ibase+22))\n",
    "ax.set_xlim((jbase-10, jbase+50));\n",
    "ax.plot(x[0]+0.5, y[0]+0.5, 'om')"
   ]
  },
  {
   "cell_type": "markdown",
   "metadata": {},
   "source": [
    "### 6. Check continuity and Add Mixed Islands"
   ]
  },
  {
   "cell_type": "code",
   "execution_count": null,
   "metadata": {
    "collapsed": true
   },
   "outputs": [],
   "source": [
    "oc_bathy = np.copy(dc_bathy)"
   ]
  },
  {
   "cell_type": "code",
   "execution_count": null,
   "metadata": {
    "collapsed": false
   },
   "outputs": [],
   "source": [
    "oc_bathy[38, 116] = 0.5*(oc_bathy[38, 117] + oc_bathy[37, 116])\n",
    "oc_bathy[194, 318] = 0.5*(oc_bathy[193, 318] + oc_bathy[195, 318])\n",
    "oc_bathy[271, 339] = 0.\n",
    "oc_bathy[319, 249] = 0.5*(oc_bathy[318, 249] + oc_bathy[320, 249])\n",
    "oc_bathy[331, 308] = 0.\n",
    "# End of Saturna Island\n",
    "oc_bathy[348, 286:289] = 0.\n",
    "# Tumbo Island\n",
    "oc_bathy[350, 288:290] = 0.\n",
    "oc_bathy[351, 287:289] = 0.\n",
    "oc_bathy[352, 286] = 0.\n",
    "oc_bathy[353, 285] = 0.\n",
    "# Russell Island near Fulford Harbour\n",
    "oc_bathy[366, 232:234] = 0.\n",
    "# Piers Island near Swartz Bay\n",
    "oc_bathy[358, 225:227] = 0\n",
    "# Knapp Island near Swartz Bay\n",
    "oc_bathy[356, 228] = 0.\n",
    "# Samuel Island north end of Saturna\n",
    "oc_bathy[364:367, 271] = 0.\n",
    "oc_bathy[368, 269] = 0.\n",
    "# end of Galiano\n",
    "oc_bathy[428, 240] = 0.\n",
    "# Newcastle Island\n",
    "oc_bathy[488:491, 209] = 0.\n",
    "# Mudge Island\n",
    "oc_bathy[469, 222] = 0.\n",
    "oc_bathy[468, 223] = 0.\n",
    "oc_bathy[467, 224] = 0.\n",
    "oc_bathy[466, 225:227] = 0.\n",
    "oc_bathy[465, 226] = 0.\n",
    "# Twin Islands near Hernando\n",
    "oc_bathy[724:726, 169] = 0.\n",
    "# Between West and East Redondo\n",
    "oc_bathy[763, 221] = 0.5*(oc_bathy[762, 221] + oc_bathy[763, 222])\n",
    "# North of West thurlow\n",
    "oc_bathy[849, 131] = 0.5*(oc_bathy[849, 130] + oc_bathy[848, 131])\n",
    "# Stuart Island\n",
    "oc_bathy[807, 180] = 0.5*(oc_bathy[807, 179] + oc_bathy[808, 180])\n",
    "# Boundary Pass Smoothing\n",
    "oc_bathy[344, 301] = 0.5*(oc_bathy[345, 301] + oc_bathy[344, 300])"
   ]
  },
  {
   "cell_type": "markdown",
   "metadata": {},
   "source": [
    "### 7. Fix Puget"
   ]
  },
  {
   "cell_type": "code",
   "execution_count": null,
   "metadata": {
    "collapsed": false
   },
   "outputs": [],
   "source": [
    "ps_bathy = np.copy(oc_bathy[:])\n"
   ]
  },
  {
   "cell_type": "code",
   "execution_count": null,
   "metadata": {
    "collapsed": false
   },
   "outputs": [],
   "source": [
    "# Snohomish river mouth\n",
    "Fill = [(309,145),(309,144),(310,148),(310,147),(310,146),(310,145),(310,144),(310,143),(310,142),(311,148),(311,147),(311,146),(311,145),(311,144),(311,143),(311,142),(311,141),(312,149),(312,148),(312,147),(312,146),(312,145),(312,144),(312,143),(312,142),(312,141),(312,140),(312,138),(312,137),(313,149),(313,148),(313,147),(313,146),(313,145),(313,144),(313,143),(313,142),(313,141),(313,140),(313,138),(313,137),(314,146),(314,145),(314,144),(314,143),(314,142),(314,141),(314,139),(315,144),(315,143),(315,142),(315,140),(315,139),(316,144),(316,143),(316,141),(316,140),(317,144),(317,143),(317,142),(317,141),(313,139),(314,140),(315,141),(316,142),(318,145),(318,144),(318,143),(318,142),(319,145),(319,144),(319,143),(319,142),(320,145),(320,144),(320,143),(321,143),(318,141)]\n",
    "#Dabob bay \n",
    "Fill += [(198,145),(198,146),(197,146),(199,146),(199,147),(198,147),(197,147),(199,148),(200,148),(198,144),(208,149),(209,149),(207,149),(236,111),(237,111),(180,127),(180,128),(181,128)]\n",
    "# Near Brinnon and Seabeck\n",
    "Fill += [(168,119),(167,119),(177,124),(178,124),(179,124),(179,125),(180,125),(180,126),(179,126),(181,112)]\n",
    "# North Bay\n",
    "Fill += [(150,59),(150,60),(151,60),(151,59),(152,61),(152,62),(151,61),(153,61),(153,62),(153,63),(153,64),(154,64)]\n",
    "\n",
    "# Simple fill in with 4m depth here\n",
    "for i,j in Fill:\n",
    "    ps_bathy[j,i]=4\n",
    "\n",
    "ps_masked = np.ma.masked_array(ps_bathy, ps_bathy == 0)\n",
    "\n",
    "# Down towards Skokomish\n",
    "Fill2 = [(135,100),(134,98),(133,98),(132,97),(131,97),(131,96),(130,96),(129,96),(127,96),(127,95),(126,95),(125,94),(124,94),(124,93),(123,93),(122,93),(122,92),(121,92),(120,92),(119,91),(118,90),(117,90),(116,89),(115,88),(114,87),(113,87),(112,86),(111,85),(107,77),(109,76),(108,76),(109,75),(106,76),(105,76),(104,76),(103,76),(102,75),(103,75),(104,75),(105,75),(104,74),(103,74),(103,73),(112,72),(114,71),(116,70),(121,70),(122,70),(148,73),(149,73),(150,73),(151,73),(152,73),(153,73),(149,72),(148,71),(150,72),(151,72),(136,73),(107,76)]\n",
    "# Southern most edge of Puget Sound (Budd Inlet, Oyster Bay, etc)\n",
    "Fill2 += [(90,13),(90,14),(89,14),(88,14),(88,13),(89,13),(87,13),(86,13),(86,12),(87,14),(85,11),(85,12),(87,23),(87,24),(88,24),(86,24),(86,25),(85,25),(85,24),(84,24),(84,25),(83,25),(83,24),(82,24),(81,24),(80,24),(119,13),(119,12),(119,11),(118,11),(118,10),(100,3),(101,3),(102,4),(102,5),(131,1),(132,1),(132,2),(133,1),(132,0),(133,0),(134,0),(131,0),(154,12),(135,37),(136,37),(136,38),(137,38),(138,38),(118,37),(118,36),(116,38),(118,38)]\n",
    "\n",
    "# These ones we'll fill with max(4, mean of nearby values)\n",
    "def chk(bathy,ijlist):\n",
    "    for i,j in ijlist:\n",
    "        if ps_masked[j,i] is np.ma.masked: return True\n",
    "    return False\n",
    "while(chk(ps_bathy, Fill2)):\n",
    "    print(\"Filling pass\")\n",
    "    bathy0 = np.ma.masked_array(np.copy(ps_masked), mask=ps_masked.mask)\n",
    "    ny, nx = ps_bathy.shape\n",
    "    for i,j in Fill2:\n",
    "        i1, i2 = max(0,i-1), min(nx-1,i+1)\n",
    "        j1, j2 = max(0,j-1), min(ny-1,j+1)\n",
    "        tmp = bathy0[j1:j2+1,i1:i2+1]\n",
    "        nzvals = tmp[~tmp.mask].data\n",
    "        ps_masked[j,i] = max(4, np.mean(nzvals))"
   ]
  },
  {
   "cell_type": "code",
   "execution_count": null,
   "metadata": {
    "collapsed": false
   },
   "outputs": [],
   "source": [
    "di = 300; dj=300\n",
    "imin= 0; jmin = 50\n",
    "fig, ax = plt.subplots(1, 1, figsize=(6, 4.5))\n",
    "viz_tools.set_aspect(ax)\n",
    "mesh = ax.pcolormesh(ps_masked[:] - oc_bathy[:], cmap=cm.oxy_r, vmax=5., vmin=-2)\n",
    "fig.colorbar(mesh, ax=ax)\n",
    "ax.set_ylim((imin, imin+di))\n",
    "ax.set_xlim((jmin, jmin+dj))\n",
    "plt.plot(180+0.5, 807+0.5, 'rx')\n",
    "plt.plot(99+0.5, 867+0.5, 'rx')\n",
    "\n",
    "print (lat[465, 226], lon[465, 226])"
   ]
  },
  {
   "cell_type": "code",
   "execution_count": null,
   "metadata": {
    "collapsed": true
   },
   "outputs": [],
   "source": [
    "final_bathy = ps_masked"
   ]
  },
  {
   "cell_type": "code",
   "execution_count": null,
   "metadata": {
    "collapsed": false
   },
   "outputs": [],
   "source": [
    "fig, axs = plt.subplots(1, 2, figsize=(10, 4))\n",
    "viz_tools.set_aspect(axs[0], coords='map')\n",
    "mesh = axs[0].pcolormesh(lon[:], lat[:], md_bathy[:], cmap=cmap)\n",
    "fig.colorbar(mesh, ax=axs[0])\n",
    "axs[0].set_ylim(ylim)\n",
    "axs[0].set_xlim(xlim)\n",
    "viz_tools.set_aspect(axs[1], coords='map')\n",
    "mesh = axs[1].pcolormesh(lon[:], lat[:], final_bathy[:], cmap=cmap)\n",
    "fig.colorbar(mesh, ax=axs[1])\n",
    "axs[1].set_ylim(ylim)\n",
    "axs[1].set_xlim(xlim);"
   ]
  },
  {
   "cell_type": "code",
   "execution_count": null,
   "metadata": {
    "collapsed": false
   },
   "outputs": [],
   "source": [
    "fig, ax = plt.subplots(1, 1, figsize=(12, 10))\n",
    "viz_tools.set_aspect(ax, coords='map')\n",
    "mesh = ax.pcolormesh(lon[:], lat[:], final_bathy-np.array(md_bathy[:]), cmap='bwr', vmax=20, vmin=-20)\n",
    "fig.colorbar(mesh, ax=ax)\n",
    "ax.set_ylim(ylim)\n",
    "ax.set_title('Changes due to Processing')\n",
    "ax.set_xlim(xlim);"
   ]
  },
  {
   "cell_type": "code",
   "execution_count": null,
   "metadata": {
    "collapsed": false
   },
   "outputs": [],
   "source": [
    "ss2_file = nc.Dataset('/ocean/sallen/allen/research/MEOPAR/NEMO-forcing/grid/bathy_meter_SalishSea2.nc')\n",
    "ss2_bathy = ss2_file.variables['Bathymetry']\n",
    "fig, ax = plt.subplots(1, 1, figsize=(12, 10))\n",
    "viz_tools.set_aspect(ax, coords='map')\n",
    "mesh = ax.pcolormesh(lon[:], lat[:], final_bathy-np.array(ss2_bathy[:]), cmap='bwr', vmax=20, vmin=-20)\n",
    "fig.colorbar(mesh, ax=ax)\n",
    "ax.set_title('Difference compared to SalishSea2')\n",
    "ax.set_ylim(ylim)\n",
    "ax.set_xlim(xlim)\n",
    "ss2_file.close()"
   ]
  },
  {
   "cell_type": "code",
   "execution_count": null,
   "metadata": {
    "collapsed": false
   },
   "outputs": [],
   "source": [
    "db1_file = nc.Dataset('/ocean/sallen/allen/research/MEOPAR/NEMO-forcing/grid/bathy_downonegrid2.nc')\n",
    "db1_bathy = db1_file.variables['Bathymetry']\n",
    "fig, ax = plt.subplots(1, 1, figsize=(12, 10))\n",
    "viz_tools.set_aspect(ax, coords='map')\n",
    "mesh = ax.pcolormesh(lon[:], lat[:], final_bathy-np.array(db1_bathy[:]), cmap='bwr', vmax=20, vmin=-20)\n",
    "fig.colorbar(mesh, ax=ax)\n",
    "ax.set_title('Difference compared to DownbyOne2')\n",
    "ax.set_ylim(ylim)\n",
    "ax.set_xlim(xlim)\n",
    "db1_file.close()"
   ]
  },
  {
   "cell_type": "code",
   "execution_count": null,
   "metadata": {
    "collapsed": false
   },
   "outputs": [],
   "source": [
    "fig, ax = plt.subplots(1, 1, figsize=(10, 7))\n",
    "viz_tools.set_aspect(ax, coords='map')\n",
    "mesh = ax.pcolormesh(lon[:], lat[:], final_bathy[:], cmap=cmap ,vmax=25, vmin=4)\n",
    "fig.colorbar(mesh, ax=ax)\n",
    "ax.set_ylim((48.9, 49.35))\n",
    "ax.set_xlim((-123.4, -122.8));"
   ]
  },
  {
   "cell_type": "code",
   "execution_count": null,
   "metadata": {
    "collapsed": false
   },
   "outputs": [],
   "source": [
    "fig, ax = plt.subplots(1, 1, figsize=(10, 7))\n",
    "viz_tools.set_aspect(ax, coords='map')\n",
    "mesh = ax.pcolormesh(lon[:], lat[:], final_bathy[:]-md_bathy[:], cmap='bwr' ,vmax=5, vmin=-5)\n",
    "fig.colorbar(mesh, ax=ax)\n",
    "ax.set_ylim((48.9, 49.35))\n",
    "ax.set_xlim((-123.4, -122.8));"
   ]
  },
  {
   "cell_type": "markdown",
   "metadata": {},
   "source": [
    "### 7. Write out ###"
   ]
  },
  {
   "cell_type": "code",
   "execution_count": null,
   "metadata": {
    "collapsed": false
   },
   "outputs": [],
   "source": [
    "nc_tools.show_dataset_attrs(md_bathyfile)"
   ]
  },
  {
   "cell_type": "code",
   "execution_count": null,
   "metadata": {
    "collapsed": false
   },
   "outputs": [],
   "source": [
    "ysize = final_bathy.shape[0]; xsize = final_bathy.shape[1]\n",
    "print (ysize, xsize)"
   ]
  },
  {
   "cell_type": "code",
   "execution_count": null,
   "metadata": {
    "collapsed": false
   },
   "outputs": [],
   "source": [
    "bathy201702 = nc.Dataset('./bathymetry_201702.nc', 'w')\n",
    "bathy201702.createDimension('y', ysize)\n",
    "bathy201702.createDimension('x', xsize)\n",
    "nc_tools.show_dimensions(bathy201702)"
   ]
  },
  {
   "cell_type": "code",
   "execution_count": null,
   "metadata": {
    "collapsed": true
   },
   "outputs": [],
   "source": [
    "newlons = bathy201702.createVariable('nav_lon', float, ('y', 'x'), zlib=True)\n",
    "newlons.setncattr('units', 'degrees_east')\n",
    "newlats = bathy201702.createVariable('nav_lat', float, ('y', 'x'), zlib=True)\n",
    "newlats.setncattr('units', 'degrees_north')\n",
    "\n",
    "newdepths = bathy201702.createVariable(\n",
    "    'Bathymetry', float, ('y', 'x'), \n",
    "    zlib=True, least_significant_digit=0.1, fill_value=0)\n",
    "newdepths.setncattr('units', 'metres')\n",
    "\n",
    "newlons[:] = lon\n",
    "newlats[:] = lat\n",
    "newdepths[:] = final_bathy"
   ]
  },
  {
   "cell_type": "code",
   "execution_count": null,
   "metadata": {
    "collapsed": false
   },
   "outputs": [],
   "source": [
    "nc_tools.init_dataset_attrs(bathy201702, 'Bathymetry 201702', 'ProcessNewRiverBathymetry',\n",
    "                           'NEMO-forcing/grid/bathymetry_201702', \n",
    "                            'Bathymetry processed from Michaels New Full River Bathymetry')"
   ]
  },
  {
   "cell_type": "code",
   "execution_count": null,
   "metadata": {
    "collapsed": true
   },
   "outputs": [],
   "source": [
    "bathy201702.close()"
   ]
  },
  {
   "cell_type": "markdown",
   "metadata": {},
   "source": [
    "### Jetty Mask ###"
   ]
  },
  {
   "cell_type": "code",
   "execution_count": null,
   "metadata": {
    "collapsed": false
   },
   "outputs": [],
   "source": [
    "mask_for_jetty_u = np.zeros_like(ns_bathy)\n",
    "mask_for_jetty_v = np.zeros_like(ns_bathy)\n",
    "for j, i in zip(jv_y, jv_x):\n",
    "    mask_for_jetty_v[j, i]= 1.0\n",
    "for j, i in zip(ju_y, ju_x):\n",
    "    mask_for_jetty_u[j, i] = 1.0\n",
    "fig, ax = plt.subplots(1, 3, figsize=(10,5))\n",
    "viz_tools.set_aspect(ax[0])\n",
    "viz_tools.set_aspect(ax[1])\n",
    "viz_tools.set_aspect(ax[2])\n",
    "ax[0].pcolormesh(final_bathy[380:450, 280:350], cmap='copper', vmax=25, vmin=3)\n",
    "ax[1].pcolormesh(mask_for_jetty_u[380:450, 280:350], cmap='copper', vmax=1, vmin=0)\n",
    "ax[2].pcolormesh(mask_for_jetty_v[380:450, 280:350], cmap='copper', vmax=1, vmin=0);"
   ]
  },
  {
   "cell_type": "code",
   "execution_count": null,
   "metadata": {
    "collapsed": false
   },
   "outputs": [],
   "source": [
    "jetty_mask = nc.Dataset('./jetty_mask_bathy201702.nc', 'w')\n",
    "jetty_mask.createDimension('y', ysize)\n",
    "jetty_mask.createDimension('x', xsize)\n",
    "nc_tools.show_dimensions(jetty_mask)"
   ]
  },
  {
   "cell_type": "code",
   "execution_count": null,
   "metadata": {
    "collapsed": true
   },
   "outputs": [],
   "source": [
    "newlons = jetty_mask.createVariable('nav_lon', float, ('y', 'x'), zlib=True)\n",
    "newlons.setncattr('units', 'degrees_east')\n",
    "newlats = jetty_mask.createVariable('nav_lat', float, ('y', 'x'), zlib=True)\n",
    "newlats.setncattr('units', 'degrees_north')\n",
    "friction_mask_u = jetty_mask.createVariable(\n",
    "    'bfr_coef_u', float, ('y', 'x'), \n",
    "    zlib=True, least_significant_digit=0.01, fill_value=0)\n",
    "friction_mask_u.setncattr('units', 'none')\n",
    "friction_mask_v = jetty_mask.createVariable(\n",
    "    'bfr_coef_v', float, ('y', 'x'), \n",
    "    zlib=True, least_significant_digit=0.01, fill_value=0)\n",
    "friction_mask_v.setncattr('units', 'none')"
   ]
  },
  {
   "cell_type": "code",
   "execution_count": null,
   "metadata": {
    "collapsed": true
   },
   "outputs": [],
   "source": [
    "newlons[:] = lon\n",
    "newlats[:] = lat\n",
    "friction_mask_u[:] = mask_for_jetty_u[:]\n",
    "friction_mask_v[:] = mask_for_jetty_v[:]"
   ]
  },
  {
   "cell_type": "code",
   "execution_count": null,
   "metadata": {
    "collapsed": false
   },
   "outputs": [],
   "source": [
    "nc_tools.init_dataset_attrs(jetty_mask, 'Jetty Mask for Bathy 201702', 'ProcessNewRiverBathymetry',\n",
    "                           'NEMO-forcing/grid/jetty_mask_bathy201702', \n",
    "                            'Bathymetry processed from Michaels New Full River Bathymetry')"
   ]
  },
  {
   "cell_type": "code",
   "execution_count": null,
   "metadata": {
    "collapsed": true
   },
   "outputs": [],
   "source": [
    "jetty_mask.close()"
   ]
  },
  {
   "cell_type": "code",
   "execution_count": null,
   "metadata": {
    "collapsed": false
   },
   "outputs": [],
   "source": [
    "di = 50; dj=50\n",
    "imin = 0; jmin = 80\n",
    "fig, ax = plt.subplots(1, 1, figsize=(6, 4.5))\n",
    "viz_tools.set_aspect(ax)\n",
    "mesh = ax.pcolormesh(final_bathy[:], cmap=cmap, vmax=25)\n",
    "fig.colorbar(mesh, ax=ax)\n",
    "ax.set_ylim((imin, imin+di))\n",
    "ax.set_xlim((jmin, jmin+dj))\n",
    "plt.plot(180+0.5, 807+0.5, 'rx')\n",
    "plt.plot(99+0.5, 867+0.5, 'rx')\n",
    "\n",
    "print (lat[465, 226], lon[465, 226])"
   ]
  },
  {
   "cell_type": "code",
   "execution_count": null,
   "metadata": {
    "collapsed": true
   },
   "outputs": [],
   "source": [
    "original_file = nc.Dataset('/ocean/sallen/allen/research/MEOPAR/NEMO-forcing/grid/bathymetry_201702.nc')\n",
    "new_file = nc.Dataset('./bathymetry_201702.nc')\n",
    "deptho = original_file.variables['Bathymetry']\n",
    "depthn = new_file.variables['Bathymetry']"
   ]
  },
  {
   "cell_type": "code",
   "execution_count": null,
   "metadata": {
    "collapsed": false
   },
   "outputs": [],
   "source": [
    "di=100; dj=100\n",
    "fig, axs = plt.subplots(36, 3, figsize=(15, 180))\n",
    "plot = 0\n",
    "for row in range(9):\n",
    "    i = di*row\n",
    "    for column in range(4):\n",
    "        j = dj*column\n",
    "        axs[plot, 0].pcolormesh(deptho[i:i+di, j:j+dj], cmap=cmap, vmax=50)\n",
    "        axs[plot, 1].pcolormesh(depthn[i:i+di, j:j+dj], cmap=cmap, vmax=50)\n",
    "        axs[plot, 2].pcolormesh(np.array(depthn[i:i+di, j:j+dj]) - \n",
    "                                np.array(deptho[i:i+di, j:j+dj]), cmap='bwr', vmax=10, vmin=-10)\n",
    "        axs[plot, 0].set_title('At '+str(i)+' and '+str(j))\n",
    "        plot += 1"
   ]
  },
  {
   "cell_type": "code",
   "execution_count": null,
   "metadata": {
    "collapsed": true
   },
   "outputs": [],
   "source": [
    "original_file.close()\n",
    "new_file.close()"
   ]
  },
  {
   "cell_type": "code",
   "execution_count": null,
   "metadata": {
    "collapsed": true
   },
   "outputs": [],
   "source": []
  }
 ],
 "metadata": {
  "anaconda-cloud": {},
  "kernelspec": {
   "display_name": "Python [conda env:py3]",
   "language": "python",
   "name": "conda-env-py3-py"
  },
  "language_info": {
   "codemirror_mode": {
    "name": "ipython",
    "version": 3
   },
   "file_extension": ".py",
   "mimetype": "text/x-python",
   "name": "python",
   "nbconvert_exporter": "python",
   "pygments_lexer": "ipython3",
   "version": "3.5.2"
  }
 },
 "nbformat": 4,
 "nbformat_minor": 2
}
