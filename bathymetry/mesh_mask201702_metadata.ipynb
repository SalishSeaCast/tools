{
 "cells": [
  {
   "cell_type": "markdown",
   "metadata": {
    "collapsed": true
   },
   "source": [
    "# `mesh_mask201702.nc` Metadata\n",
    "\n",
    "Add metadata to the NEMO-generated mesh mask file for the 201702 bathymetry\n",
    "so that a well-defined ERDDAP dataset can be produced from it."
   ]
  },
  {
   "cell_type": "code",
   "execution_count": 1,
   "metadata": {
    "collapsed": true
   },
   "outputs": [],
   "source": [
    "from datetime import datetime\n",
    "\n",
    "import xarray as xr"
   ]
  },
  {
   "cell_type": "code",
   "execution_count": 2,
   "metadata": {
    "collapsed": true
   },
   "outputs": [],
   "source": [
    "mm = xr.open_dataset('../../grid/mesh_mask.nc')"
   ]
  },
  {
   "cell_type": "code",
   "execution_count": 3,
   "metadata": {
    "collapsed": true
   },
   "outputs": [],
   "source": [
    "# Copy/pasted from Google Drive MeshMask Variables spreadsheet\n",
    "\n",
    "# NEMO Variable Name\tDescription -> long_name Attribute\tUnits\n",
    "nemo_vars = '''\n",
    "e1t\tgrid spacing on T-grid in u direction\tm\n",
    "e2t\tgrid spacing on T-grid in v direction\tm\n",
    "e1u\tgrid spacing on U-grid in u direction\tm\n",
    "e2u \tgrid spacing on U-grid in v direction\tm\n",
    "e1v\tgrid spacing on V-grid in u direction\tm\n",
    "e2v\tgrid spacing on V-grid in v direction\tm\n",
    "e1f\tgrid spacing on vorticity-grid in u direction\tm\n",
    "e2f\tgrid spacing on vorticity-grid in v direction\tm\n",
    "glamt\tlongitude of T-grid points\tdegrees east\n",
    "gphit\tlatitude of T-grid points\tdegrees north\n",
    "glamu\tlongitude of U-grid points\tdegrees east\n",
    "gphiu\tlatitude of U-grid points\tdegrees north\n",
    "glamv\tlongitude of V-grid points\tdegrees east\n",
    "gphiv\tlatitude of V-grid points\tdegrees north\n",
    "glamf\tlongitude of vorticity-grid points\tdegrees east\n",
    "gphif\tlatitude of vorticity-grid points\tdegrees north\n",
    "tmaskutil\tdry land mask for T-grid and W-grid\tboolean\n",
    "umaskutil\tdry land mask for U-grid\tboolean\n",
    "vmaskutil\tdry land mask for V-grid\tboolean\n",
    "fmaskutil\tdry land mask for vorticity-grid\tboolean\n",
    "ff\tCoriolis parameter on vorticity-grid\ts-1\n",
    "mbathy\tfortran index of deepest water cell, T-grid\tindex\n",
    "e3t_0\tgrid spacing on T-grid in w direction\tm\n",
    "e3u_0\tgrid spacing on U-grid in w direction\tm\n",
    "e3v_0\tgrid spacing on V-grid in w direction\tm\n",
    "e3w_0\tgrid spacing on W-grid in w direction\tm\n",
    "e3t_1d\tnominal vertical grid spacing on T-grid\tm\n",
    "e3w_1d\tnominal vertical grid spacing on W-grid\tm\n",
    "gdept_0\tdepth of T-grid points\tm\n",
    "gdepu\tdepth of U-grid points\tm\n",
    "gdepv\tdepth of V-grid points\tm\n",
    "gdepw_0\tdepth of W-grid points\tm\n",
    "gdept_1d\tnominal depth of T-grid points\tm\n",
    "gdepw_1d\tnominal depth of W-grid points\tm\n",
    "tmask\tmask for T-grid and W-grid\tboolean\n",
    "umask\tmask for U-grid\tboolean\n",
    "vmask\tmask for V-grid\tboolean\n",
    "fmask\tmask for vorticity-grid\tboolean\n",
    "misf\tfortran index of shallowest water, T-grid\tindex\n",
    "isfdraft\tthickness of land-fast ice below sea level\tm\n",
    "nav_lat\tlatitude of T-grid points\tdegrees north\n",
    "nav_lon\tlongitude of T-grid points\tdegrees east\n",
    "time_counter\ttime\tseconds since 1900-01-01 00:00:00\n",
    "'''"
   ]
  },
  {
   "cell_type": "code",
   "execution_count": 4,
   "metadata": {
    "collapsed": true
   },
   "outputs": [],
   "source": [
    "def interesting_lines(nemo_vars):\n",
    "    for line in nemo_vars.splitlines():\n",
    "        if line:\n",
    "            yield line\n",
    "            \n",
    "units_subs = {\n",
    "    's-1': '1/s',\n",
    "    'index': 'count',\n",
    "    'degrees east': 'degrees_east',\n",
    "    'degrees north': 'degrees_north',\n",
    "}\n",
    "\n",
    "for line in interesting_lines(nemo_vars):\n",
    "    var_name, long_name, units = map(str.strip, line.split('\\t'))\n",
    "    mm[var_name].attrs['standard_name'] = var_name\n",
    "    mm[var_name].attrs['long_name'] = long_name\n",
    "    if units == 'boolean':\n",
    "        mm[var_name].attrs['flag_values'] = '0, 1'\n",
    "        mm[var_name].attrs['flag_meanings'] = 'land, water'\n",
    "    else:\n",
    "        try:\n",
    "            mm[var_name].attrs['units'] = units_subs[units]\n",
    "        except KeyError:\n",
    "            mm[var_name].attrs['units'] = units\n",
    "    if 'depth' in long_name:\n",
    "        mm[var_name].attrs['positive'] = 'down'\n",
    "    if 'time' in long_name:\n",
    "        mm[var_name].attrs['calendar'] = 'gregorian'\n",
    "        mm[var_name].attrs['time_origin'] = '2014-09-12 00:30:00'\n",
    "        \n",
    "del mm['nav_lev']"
   ]
  },
  {
   "cell_type": "markdown",
   "metadata": {},
   "source": [
    "Spot check results:"
   ]
  },
  {
   "cell_type": "code",
   "execution_count": 5,
   "metadata": {
    "collapsed": false
   },
   "outputs": [
    {
     "data": {
      "text/plain": [
       "<xarray.Dataset>\n",
       "Dimensions:       (t: 1, x: 398, y: 898, z: 40)\n",
       "Dimensions without coordinates: t, x, y, z\n",
       "Data variables:\n",
       "    nav_lon       (y, x) float32 ...\n",
       "    nav_lat       (y, x) float32 ...\n",
       "    time_counter  (t) float64 ...\n",
       "    tmask         (t, z, y, x) int8 ...\n",
       "    umask         (t, z, y, x) int8 ...\n",
       "    vmask         (t, z, y, x) int8 ...\n",
       "    fmask         (t, z, y, x) int8 ...\n",
       "    tmaskutil     (t, y, x) int8 ...\n",
       "    umaskutil     (t, y, x) int8 ...\n",
       "    vmaskutil     (t, y, x) int8 ...\n",
       "    fmaskutil     (t, y, x) int8 ...\n",
       "    glamt         (t, y, x) float32 ...\n",
       "    glamu         (t, y, x) float32 ...\n",
       "    glamv         (t, y, x) float32 ...\n",
       "    glamf         (t, y, x) float32 ...\n",
       "    gphit         (t, y, x) float32 ...\n",
       "    gphiu         (t, y, x) float32 ...\n",
       "    gphiv         (t, y, x) float32 ...\n",
       "    gphif         (t, y, x) float32 ...\n",
       "    e1t           (t, y, x) float64 ...\n",
       "    e1u           (t, y, x) float64 ...\n",
       "    e1v           (t, y, x) float64 ...\n",
       "    e1f           (t, y, x) float64 ...\n",
       "    e2t           (t, y, x) float64 ...\n",
       "    e2u           (t, y, x) float64 ...\n",
       "    e2v           (t, y, x) float64 ...\n",
       "    e2f           (t, y, x) float64 ...\n",
       "    ff            (t, y, x) float64 ...\n",
       "    mbathy        (t, y, x) int16 ...\n",
       "    misf          (t, y, x) int16 ...\n",
       "    isfdraft      (t, y, x) float32 ...\n",
       "    e3t_0         (t, z, y, x) float64 ...\n",
       "    e3u_0         (t, z, y, x) float64 ...\n",
       "    e3v_0         (t, z, y, x) float64 ...\n",
       "    e3w_0         (t, z, y, x) float64 ...\n",
       "    gdept_0       (t, z, y, x) float32 ...\n",
       "    gdepu         (t, z, y, x) float32 ...\n",
       "    gdepv         (t, z, y, x) float32 ...\n",
       "    gdepw_0       (t, z, y, x) float32 ...\n",
       "    gdept_1d      (t, z) float64 ...\n",
       "    gdepw_1d      (t, z) float64 ...\n",
       "    e3t_1d        (t, z) float64 ...\n",
       "    e3w_1d        (t, z) float64 ...\n",
       "Attributes:\n",
       "    DOMAIN_number_total:     1\n",
       "    DOMAIN_number:           0\n",
       "    DOMAIN_dimensions_ids:   [1 2]\n",
       "    DOMAIN_size_global:      [398 898]\n",
       "    DOMAIN_size_local:       [398 898]\n",
       "    DOMAIN_position_first:   [1 1]\n",
       "    DOMAIN_position_last:    [398 898]\n",
       "    DOMAIN_halo_size_start:  [0 0]\n",
       "    DOMAIN_halo_size_end:    [0 0]\n",
       "    DOMAIN_type:             BOX"
      ]
     },
     "execution_count": 5,
     "metadata": {},
     "output_type": "execute_result"
    }
   ],
   "source": [
    "mm"
   ]
  },
  {
   "cell_type": "code",
   "execution_count": 6,
   "metadata": {
    "collapsed": false
   },
   "outputs": [
    {
     "data": {
      "text/plain": [
       "<xarray.DataArray 'time_counter' (t: 1)>\n",
       "array([0.])\n",
       "Dimensions without coordinates: t\n",
       "Attributes:\n",
       "    standard_name:  time_counter\n",
       "    long_name:      time\n",
       "    units:          seconds since 1900-01-01 00:00:00\n",
       "    calendar:       gregorian\n",
       "    time_origin:    2014-09-12 00:30:00"
      ]
     },
     "execution_count": 6,
     "metadata": {},
     "output_type": "execute_result"
    }
   ],
   "source": [
    "mm.time_counter"
   ]
  },
  {
   "cell_type": "code",
   "execution_count": 7,
   "metadata": {
    "collapsed": false
   },
   "outputs": [
    {
     "data": {
      "text/plain": [
       "<xarray.DataArray 'e1t' (t: 1, y: 898, x: 398)>\n",
       "[357404 values with dtype=float64]\n",
       "Dimensions without coordinates: t, y, x\n",
       "Attributes:\n",
       "    standard_name:  e1t\n",
       "    long_name:      grid spacing on T-grid in u direction\n",
       "    units:          m"
      ]
     },
     "execution_count": 7,
     "metadata": {},
     "output_type": "execute_result"
    }
   ],
   "source": [
    "mm.e1t"
   ]
  },
  {
   "cell_type": "code",
   "execution_count": 8,
   "metadata": {
    "collapsed": false
   },
   "outputs": [
    {
     "data": {
      "text/plain": [
       "<xarray.DataArray 'glamt' (t: 1, y: 898, x: 398)>\n",
       "[357404 values with dtype=float32]\n",
       "Dimensions without coordinates: t, y, x\n",
       "Attributes:\n",
       "    standard_name:  glamt\n",
       "    long_name:      longitude of T-grid points\n",
       "    units:          degrees_east"
      ]
     },
     "execution_count": 8,
     "metadata": {},
     "output_type": "execute_result"
    }
   ],
   "source": [
    "mm.glamt"
   ]
  },
  {
   "cell_type": "code",
   "execution_count": 8,
   "metadata": {
    "collapsed": false
   },
   "outputs": [
    {
     "data": {
      "text/plain": [
       "<xarray.DataArray 'gphit' (t: 1, y: 898, x: 398)>\n",
       "[357404 values with dtype=float32]\n",
       "Dimensions without coordinates: t, y, x\n",
       "Attributes:\n",
       "    standard_name:  gphit\n",
       "    long_name:      latitude of T-grid points\n",
       "    units:          degrees_north"
      ]
     },
     "execution_count": 8,
     "metadata": {},
     "output_type": "execute_result"
    }
   ],
   "source": [
    "mm.gphit"
   ]
  },
  {
   "cell_type": "code",
   "execution_count": 9,
   "metadata": {
    "collapsed": false
   },
   "outputs": [
    {
     "data": {
      "text/plain": [
       "<xarray.DataArray 'gdept_0' (t: 1, z: 40, y: 898, x: 398)>\n",
       "[14296160 values with dtype=float32]\n",
       "Dimensions without coordinates: t, z, y, x\n",
       "Attributes:\n",
       "    standard_name:  gdept_0\n",
       "    long_name:      depth of T-grid points\n",
       "    units:          m\n",
       "    positive:       down"
      ]
     },
     "execution_count": 9,
     "metadata": {},
     "output_type": "execute_result"
    }
   ],
   "source": [
    "mm.gdept_0"
   ]
  },
  {
   "cell_type": "code",
   "execution_count": 10,
   "metadata": {
    "collapsed": false
   },
   "outputs": [
    {
     "data": {
      "text/plain": [
       "<xarray.DataArray 'tmask' (t: 1, z: 40, y: 898, x: 398)>\n",
       "[14296160 values with dtype=int8]\n",
       "Dimensions without coordinates: t, z, y, x\n",
       "Attributes:\n",
       "    standard_name:  tmask\n",
       "    long_name:      mask for T-grid and W-grid\n",
       "    flag_values:    0, 1\n",
       "    flag_meanings:  land, water"
      ]
     },
     "execution_count": 10,
     "metadata": {},
     "output_type": "execute_result"
    }
   ],
   "source": [
    "mm.tmask"
   ]
  },
  {
   "cell_type": "code",
   "execution_count": 11,
   "metadata": {
    "collapsed": false
   },
   "outputs": [
    {
     "data": {
      "text/plain": [
       "<xarray.DataArray 'ff' (t: 1, y: 898, x: 398)>\n",
       "[357404 values with dtype=float64]\n",
       "Dimensions without coordinates: t, y, x\n",
       "Attributes:\n",
       "    standard_name:  ff\n",
       "    long_name:      Coriolis parameter on vorticity-grid\n",
       "    units:          1/s"
      ]
     },
     "execution_count": 11,
     "metadata": {},
     "output_type": "execute_result"
    }
   ],
   "source": [
    "mm.ff"
   ]
  },
  {
   "cell_type": "code",
   "execution_count": 12,
   "metadata": {
    "collapsed": false
   },
   "outputs": [
    {
     "data": {
      "text/plain": [
       "<xarray.DataArray 'mbathy' (t: 1, y: 898, x: 398)>\n",
       "[357404 values with dtype=int16]\n",
       "Dimensions without coordinates: t, y, x\n",
       "Attributes:\n",
       "    standard_name:  mbathy\n",
       "    long_name:      fortran index of deepest water cell, T-grid\n",
       "    units:          count"
      ]
     },
     "execution_count": 12,
     "metadata": {},
     "output_type": "execute_result"
    }
   ],
   "source": [
    "mm.mbathy"
   ]
  },
  {
   "cell_type": "markdown",
   "metadata": {},
   "source": [
    "Add file attributes\n",
    "Attributes:\n",
    "    file_name:  mesh_mask.nc\n",
    "    TimeStamp:  30/09/2017 16:10:02 -0700"
   ]
  },
  {
   "cell_type": "code",
   "execution_count": 14,
   "metadata": {
    "collapsed": false
   },
   "outputs": [
    {
     "name": "stdout",
     "output_type": "stream",
     "text": [
      "-rw-r--r-- 1 sallen pulse-access 32966550 Mar 14 15:00 ../../grid/mesh_mask.nc\r\n"
     ]
    }
   ],
   "source": [
    "! ls -l ../../grid/mesh_mask.nc"
   ]
  },
  {
   "cell_type": "code",
   "execution_count": 15,
   "metadata": {
    "collapsed": true
   },
   "outputs": [],
   "source": [
    "mm.attrs['file_name'] = 'mesh_mask.nc'\n",
    "mm.attrs['TimeStamp'] ='14/03/2019 15:00:00 -0700'"
   ]
  },
  {
   "cell_type": "markdown",
   "metadata": {},
   "source": [
    "Update dataset attributes:"
   ]
  },
  {
   "cell_type": "code",
   "execution_count": 16,
   "metadata": {
    "collapsed": false
   },
   "outputs": [],
   "source": [
    "mm_timestamp = datetime.strptime(mm.attrs['TimeStamp'], '%d/%m/%Y %H:%M:%S %z')\n",
    "mm.attrs['file_name'] = 'NEMO-forcing/grid/mesh_mask201702.nc'\n",
    "mm.attrs['Conventions'] = 'CF-1.6'\n",
    "mm.attrs['title'] = 'Salish Sea NEMO bathymetry_201702 Bathymetry Mesh Mask'\n",
    "mm.attrs['institution'] = 'Dept of Earth, Ocean & Atmospheric Sciences, University of British Columbia'\n",
    "mm.attrs['source'] = 'NEMO-3.6 Salish Sea configuration'\n",
    "mm.attrs['references'] = '''https://salishsea.eos.ubc.ca/erddap/info/\n",
    "https://bitbucket.org/salishsea/nemo-forcing/src/tip/grid/bathymetery_201702.nc\n",
    "'''\n",
    "mm.attrs['history'] = ('''[{0:%Y-%m-%d %H:%M}] ncks -4 -L4 -O mesh_mask.nc mesh_mask201702.nc\n",
    "[{1:%Y-%m-%d %H:%M}] Added metadata to variable in preparation for creation of ERDDAP datasets.'''\n",
    ".format(mm_timestamp, datetime.now()))"
   ]
  },
  {
   "cell_type": "code",
   "execution_count": 15,
   "metadata": {
    "collapsed": false
   },
   "outputs": [
    {
     "data": {
      "text/plain": [
       "OrderedDict([('file_name', 'NEMO-forcing/grid/mesh_mask201702.nc'),\n",
       "             ('TimeStamp', '30/09/2017 16:10:02 -0700'),\n",
       "             ('Conventions', 'CF-1.6'),\n",
       "             ('title',\n",
       "              'Salish Sea NEMO bathymetry_201702 Bathymetry Mesh Mask'),\n",
       "             ('institution',\n",
       "              'Dept of Earth, Ocean & Atmospheric Sciences, University of British Columbia'),\n",
       "             ('source', 'NEMO-3.6 Salish Sea configuration'),\n",
       "             ('references',\n",
       "              'https://salishsea.eos.ubc.ca/erddap/info/\\nhttps://bitbucket.org/salishsea/nemo-forcing/src/tip/grid/bathymetery_201702.nc\\n'),\n",
       "             ('history',\n",
       "              '[2017-09-30 16:10] ncks -4 -L4 -O mesh_mask.nc mesh_mask201702.nc\\n[2017-10-10 15:48] Added metadata to variable in preparation for creation of ERDDAP datasets.')])"
      ]
     },
     "execution_count": 15,
     "metadata": {},
     "output_type": "execute_result"
    }
   ],
   "source": [
    "mm.attrs"
   ]
  },
  {
   "cell_type": "code",
   "execution_count": 17,
   "metadata": {
    "collapsed": true
   },
   "outputs": [],
   "source": [
    "encoding = {var: {'zlib': True} for var in mm.data_vars}\n",
    "mm.to_netcdf('foo.nc', engine='netcdf4', format='netcdf4', encoding=encoding)"
   ]
  },
  {
   "cell_type": "code",
   "execution_count": null,
   "metadata": {
    "collapsed": true
   },
   "outputs": [],
   "source": []
  }
 ],
 "metadata": {
  "kernelspec": {
   "display_name": "Python 3",
   "language": "python",
   "name": "python3"
  },
  "language_info": {
   "codemirror_mode": {
    "name": "ipython",
    "version": 3
   },
   "file_extension": ".py",
   "mimetype": "text/x-python",
   "name": "python",
   "nbconvert_exporter": "python",
   "pygments_lexer": "ipython3",
   "version": "3.6.5"
  },
  "toc": {
   "colors": {
    "hover_highlight": "#DAA520",
    "navigate_num": "#000000",
    "navigate_text": "#333333",
    "running_highlight": "#FF0000",
    "selected_highlight": "#FFD700",
    "sidebar_border": "#EEEEEE",
    "wrapper_background": "#FFFFFF"
   },
   "moveMenuLeft": true,
   "nav_menu": {
    "height": "31px",
    "width": "252px"
   },
   "navigate_menu": true,
   "number_sections": false,
   "sideBar": true,
   "threshold": 4,
   "toc_cell": false,
   "toc_section_display": "block",
   "toc_window_display": false,
   "widenNotebook": false
  }
 },
 "nbformat": 4,
 "nbformat_minor": 1
}
