{
 "cells": [
  {
   "cell_type": "markdown",
   "metadata": {},
   "source": [
    "# Exploring `.bag` Bathymetry Data Files\n",
    "\n",
    "An exploration of data and metadata in Bathymetric Attributed Grid (BAG) files."
   ]
  },
  {
   "cell_type": "markdown",
   "metadata": {},
   "source": [
    "References:\n",
    "\n",
    "* BAG website: https://marinemetadata.org/references/bag\n",
    "* Format Specification Document: http://www.opennavsurf.org/papers/ons_fsd.pdf\n",
    "* A slightly dated, Python 2 based video lesson on accessing BAG files: https://www.youtube.com/watch?v=dEtC6bRcjvc"
   ]
  },
  {
   "cell_type": "markdown",
   "metadata": {},
   "source": [
    "Working environment for this notebook:\n",
    "\n",
    "* Python 3.5\n",
    "* `conda` packages:\n",
    "\n",
    "    * `h5py` - Python interface to HDF5 format used by BAG\n",
    "    * `lxml` - XML parser and manipulation library to access BAG metadata\n",
    "    * `numpy` - for n-dimensional arrays\n",
    "    * `matplotlib` - for plotting\n",
    "    * `notebook` - Jupyter notebook\n",
    "    \n",
    "\"Keep Calm and Conda Install\""
   ]
  },
  {
   "cell_type": "markdown",
   "metadata": {},
   "source": [
    "If you are looking at this in the Salish Sea Tools docs at\n",
    "http://salishsea-meopar-tools.readthedocs.io/en/latest/bathymetry/exploring_bag_files.html,\n",
    "you can find the source notebook that generated the page in the Salish Sea project\n",
    "[tools repo](https://bitbucket.org/salishsea/tools)\n",
    "at `tools/bathymetry/ExploringBagFiles.ipynb`\n",
    "or download the notebook by itself\n",
    "(instead of cloning the [tools repo](https://bitbucket.org/salishsea/tools) to get it)\n",
    "from\n",
    "http://nbviewer.jupyter.org/urls/bitbucket.org/salishsea/tools/raw/tip/bathymetry/ExploringBagFiles.ipynb."
   ]
  },
  {
   "cell_type": "code",
   "execution_count": 1,
   "metadata": {
    "collapsed": true
   },
   "outputs": [],
   "source": [
    "import h5py\n",
    "import matplotlib.pyplot as plt\n",
    "import numpy as np"
   ]
  },
  {
   "cell_type": "code",
   "execution_count": 2,
   "metadata": {
    "collapsed": true
   },
   "outputs": [],
   "source": [
    "%matplotlib inline"
   ]
  },
  {
   "cell_type": "markdown",
   "metadata": {},
   "source": [
    "Load the BAG dataset and explore some of its basic attributes:"
   ]
  },
  {
   "cell_type": "code",
   "execution_count": 3,
   "metadata": {
    "collapsed": true
   },
   "outputs": [],
   "source": [
    "bag = h5py.File('/ocean/sallen/allen/research/MEOPAR/chs_bathy/092B.bag')"
   ]
  },
  {
   "cell_type": "code",
   "execution_count": 5,
   "metadata": {
    "collapsed": false
   },
   "outputs": [
    {
     "name": "stdout",
     "output_type": "stream",
     "text": [
      "<class 'h5py._hl.files.File'>\n",
      "/\n",
      "/ocean/sallen/allen/research/MEOPAR/chs_bathy/092B.bag\n"
     ]
    }
   ],
   "source": [
    "print(type(bag))\n",
    "print(bag.name)\n",
    "print(bag.filename)"
   ]
  },
  {
   "cell_type": "code",
   "execution_count": 7,
   "metadata": {
    "collapsed": false
   },
   "outputs": [
    {
     "name": "stdout",
     "output_type": "stream",
     "text": [
      "('BAG_root', <HDF5 group \"/BAG_root\" (4 members)>)\n",
      "<HDF5 group \"/BAG_root\" (4 members)>\n"
     ]
    }
   ],
   "source": [
    "for item in bag.items():\n",
    "    print(item)\n",
    "    \n",
    "for value in bag.values():\n",
    "    print(value)"
   ]
  },
  {
   "cell_type": "code",
   "execution_count": 8,
   "metadata": {
    "collapsed": false
   },
   "outputs": [
    {
     "data": {
      "text/plain": [
       "[('elevation', <HDF5 dataset \"elevation\": shape (337, 448), type \"<f4\">),\n",
       " ('metadata', <HDF5 dataset \"metadata\": shape (9730,), type \"|S1\">),\n",
       " ('tracking_list', <HDF5 dataset \"tracking_list\": shape (0,), type \"|V20\">),\n",
       " ('uncertainty', <HDF5 dataset \"uncertainty\": shape (337, 448), type \"<f4\">)]"
      ]
     },
     "execution_count": 8,
     "metadata": {},
     "output_type": "execute_result"
    }
   ],
   "source": [
    "list(bag['BAG_root'].items())"
   ]
  },
  {
   "cell_type": "markdown",
   "metadata": {},
   "source": [
    "The list above contains the 4 elements that the BAG specification tells us\n",
    "should be in the file.\n",
    "\n",
    "Note that under Python 3 the `h5py` library maked heavy use of `memoryview` objects\n",
    "which are iterators.\n",
    "The transformation to a `list` object above,\n",
    "or the use of a `for` loop above that collects the items from the `memoryview`.\n",
    "\n",
    "One odd thing to note is that the metadata is stored as a collection of 1-character strings\n",
    "which turn out to be single bytes in Python 3.\n",
    "We're going to have to do something about that...\n",
    "\n",
    "Peeling away the HDF5 group layer:"
   ]
  },
  {
   "cell_type": "code",
   "execution_count": 9,
   "metadata": {
    "collapsed": false
   },
   "outputs": [
    {
     "name": "stdout",
     "output_type": "stream",
     "text": [
      "/BAG_root\n",
      "<HDF5 group \"/\" (1 members)>\n"
     ]
    },
    {
     "data": {
      "text/plain": [
       "[('elevation', <HDF5 dataset \"elevation\": shape (337, 448), type \"<f4\">),\n",
       " ('metadata', <HDF5 dataset \"metadata\": shape (9730,), type \"|S1\">),\n",
       " ('tracking_list', <HDF5 dataset \"tracking_list\": shape (0,), type \"|V20\">),\n",
       " ('uncertainty', <HDF5 dataset \"uncertainty\": shape (337, 448), type \"<f4\">)]"
      ]
     },
     "execution_count": 9,
     "metadata": {},
     "output_type": "execute_result"
    }
   ],
   "source": [
    "root = bag['BAG_root']\n",
    "print(root.name)\n",
    "print(root.parent)\n",
    "list(root.items())"
   ]
  },
  {
   "cell_type": "code",
   "execution_count": null,
   "metadata": {
    "collapsed": true
   },
   "outputs": [],
   "source": []
  }
 ],
 "metadata": {
  "kernelspec": {
   "display_name": "Python 3",
   "language": "python",
   "name": "python3"
  },
  "language_info": {
   "codemirror_mode": {
    "name": "ipython",
    "version": 3
   },
   "file_extension": ".py",
   "mimetype": "text/x-python",
   "name": "python",
   "nbconvert_exporter": "python",
   "pygments_lexer": "ipython3",
   "version": "3.5.1"
  }
 },
 "nbformat": 4,
 "nbformat_minor": 0
}
