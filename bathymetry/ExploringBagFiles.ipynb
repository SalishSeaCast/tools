{
 "cells": [
  {
   "cell_type": "markdown",
   "metadata": {},
   "source": [
    "# Exploring `.bag` Bathymetry Data Files\n",
    "\n",
    "An exploration of data and metadata in Bathymetric Attributed Grid (BAG) files."
   ]
  },
  {
   "cell_type": "markdown",
   "metadata": {},
   "source": [
    "References:\n",
    "\n",
    "* BAG website: https://marinemetadata.org/references/bag\n",
    "* Format Specification Document: http://www.opennavsurf.org/papers/ons_fsd.pdf\n",
    "* A slightly dated, Python 2 based video lesson on accessing BAG files: https://www.youtube.com/watch?v=dEtC6bRcjvc"
   ]
  },
  {
   "cell_type": "markdown",
   "metadata": {},
   "source": [
    "Working environment for this notebook:\n",
    "\n",
    "* Python 3\n",
    "* `conda` packages:\n",
    "\n",
    "    * `h5py` - Python interface to HDF5 format used by BAG\n",
    "    * `lxml` - XML parser and manipulation library to access BAG metadata\n",
    "    * `numpy` - for n-dimensional arrays\n",
    "    * `matplotlib` - for plotting\n",
    "    * `notebook` - Jupyter notebook\n",
    "    \n",
    "\"Keep Calm and Conda Install\""
   ]
  },
  {
   "cell_type": "markdown",
   "metadata": {},
   "source": [
    "If you are looking at this in the Salish Sea Tools docs at\n",
    "http://salishsea-meopar-tools.readthedocs.io/en/latest/bathymetry/ExploringBagFiles.html,\n",
    "you can find the source notebook that generated the page in the Salish Sea project\n",
    "[tools repo](https://bitbucket.org/salishsea/tools)\n",
    "at `tools/bathymetry/ExploringBagFiles.ipynb`\n",
    "or download the notebook by itself\n",
    "(instead of cloning the [tools repo](https://bitbucket.org/salishsea/tools) to get it)\n",
    "from\n",
    "http://nbviewer.jupyter.org/urls/bitbucket.org/salishsea/tools/raw/tip/bathymetry/ExploringBagFiles.ipynb."
   ]
  },
  {
   "cell_type": "code",
   "execution_count": 1,
   "metadata": {
    "collapsed": true
   },
   "outputs": [],
   "source": [
    "from io import BytesIO\n",
    "\n",
    "import h5py\n",
    "from lxml import etree\n",
    "import matplotlib.pyplot as plt\n",
    "import numpy as np"
   ]
  },
  {
   "cell_type": "code",
   "execution_count": 2,
   "metadata": {
    "collapsed": true
   },
   "outputs": [],
   "source": [
    "%matplotlib inline"
   ]
  },
  {
   "cell_type": "markdown",
   "metadata": {},
   "source": [
    "## BAG Dataset\n",
    "\n",
    "Load the BAG dataset and explore some of its basic attributes:"
   ]
  },
  {
   "cell_type": "code",
   "execution_count": 3,
   "metadata": {
    "collapsed": false
   },
   "outputs": [],
   "source": [
    "bag = h5py.File('/ocean/sallen/allen/research/MEOPAR/chs_bathy/092B.bag')"
   ]
  },
  {
   "cell_type": "code",
   "execution_count": 4,
   "metadata": {
    "collapsed": false
   },
   "outputs": [
    {
     "name": "stdout",
     "output_type": "stream",
     "text": [
      "<class 'h5py._hl.files.File'>\n",
      "/\n",
      "/ocean/sallen/allen/research/MEOPAR/chs_bathy/092B.bag\n"
     ]
    }
   ],
   "source": [
    "print(type(bag))\n",
    "print(bag.name)\n",
    "print(bag.filename)"
   ]
  },
  {
   "cell_type": "code",
   "execution_count": 5,
   "metadata": {
    "collapsed": false
   },
   "outputs": [
    {
     "name": "stdout",
     "output_type": "stream",
     "text": [
      "('BAG_root', <HDF5 group \"/BAG_root\" (4 members)>)\n",
      "<HDF5 group \"/BAG_root\" (4 members)>\n"
     ]
    }
   ],
   "source": [
    "for item in bag.items():\n",
    "    print(item)\n",
    "    \n",
    "for value in bag.values():\n",
    "    print(value)"
   ]
  },
  {
   "cell_type": "code",
   "execution_count": 6,
   "metadata": {
    "collapsed": false
   },
   "outputs": [
    {
     "data": {
      "text/plain": [
       "[('elevation', <HDF5 dataset \"elevation\": shape (337, 448), type \"<f4\">),\n",
       " ('metadata', <HDF5 dataset \"metadata\": shape (9730,), type \"|S1\">),\n",
       " ('tracking_list', <HDF5 dataset \"tracking_list\": shape (0,), type \"|V20\">),\n",
       " ('uncertainty', <HDF5 dataset \"uncertainty\": shape (337, 448), type \"<f4\">)]"
      ]
     },
     "execution_count": 6,
     "metadata": {},
     "output_type": "execute_result"
    }
   ],
   "source": [
    "list(bag['BAG_root'].items())"
   ]
  },
  {
   "cell_type": "markdown",
   "metadata": {},
   "source": [
    "The list above contains the 4 elements that the BAG specification tells us\n",
    "should be in the file:\n",
    "\n",
    "* `elevation` is the depths as negative 32-bit floats, with `1.0e6` as the \"no data\" value (land, typically)\n",
    "* `metadata` is the BAG metadata, a blob of XML\n",
    "* `tracking_list` is adjustments to the `elevation` data values made by a hydrographer\n",
    "* `uncertainty` is the vertical uncertainty in the `elevation` data values\n",
    "\n",
    "Note that under Python 3 the `h5py` library maked heavy use of `memoryview` objects\n",
    "which are iterators.\n",
    "The transformation to a `list` object above,\n",
    "or the use of a `for` loop above that collects the items from the `memoryview`.\n",
    "\n",
    "One odd thing to note is that the metadata is stored as a collection of 1-character strings\n",
    "which turn out to be single bytes in Python 3.\n",
    "We're going to have to do something about that...\n",
    "\n",
    "Peeling away the HDF5 group layer:"
   ]
  },
  {
   "cell_type": "code",
   "execution_count": 7,
   "metadata": {
    "collapsed": false
   },
   "outputs": [
    {
     "name": "stdout",
     "output_type": "stream",
     "text": [
      "/BAG_root\n",
      "<HDF5 group \"/\" (1 members)>\n"
     ]
    },
    {
     "data": {
      "text/plain": [
       "[('elevation', <HDF5 dataset \"elevation\": shape (337, 448), type \"<f4\">),\n",
       " ('metadata', <HDF5 dataset \"metadata\": shape (9730,), type \"|S1\">),\n",
       " ('tracking_list', <HDF5 dataset \"tracking_list\": shape (0,), type \"|V20\">),\n",
       " ('uncertainty', <HDF5 dataset \"uncertainty\": shape (337, 448), type \"<f4\">)]"
      ]
     },
     "execution_count": 7,
     "metadata": {},
     "output_type": "execute_result"
    }
   ],
   "source": [
    "root = bag['BAG_root']\n",
    "print(root.name)\n",
    "print(root.parent)\n",
    "list(root.items())"
   ]
  },
  {
   "cell_type": "markdown",
   "metadata": {},
   "source": [
    "## The `elevation` Element\n",
    "\n",
    "Pulling the `elevation` dataset out of the BAG,\n",
    "and the depths data out of the dataset:"
   ]
  },
  {
   "cell_type": "code",
   "execution_count": 8,
   "metadata": {
    "collapsed": false
   },
   "outputs": [
    {
     "name": "stdout",
     "output_type": "stream",
     "text": [
      "<class 'h5py._hl.dataset.Dataset'>\n"
     ]
    }
   ],
   "source": [
    "elev_node = root['elevation']\n",
    "print(type(elev_node))"
   ]
  },
  {
   "cell_type": "code",
   "execution_count": 9,
   "metadata": {
    "collapsed": false
   },
   "outputs": [
    {
     "name": "stdout",
     "output_type": "stream",
     "text": [
      "<class 'numpy.ndarray'>\n"
     ]
    }
   ],
   "source": [
    "elev = elev_node.value\n",
    "print(type(elev))"
   ]
  },
  {
   "cell_type": "code",
   "execution_count": 10,
   "metadata": {
    "collapsed": false
   },
   "outputs": [
    {
     "name": "stdout",
     "output_type": "stream",
     "text": [
      "-341.917 1e+06\n"
     ]
    }
   ],
   "source": [
    "print(elev.min(), elev.max())"
   ]
  },
  {
   "cell_type": "markdown",
   "metadata": {},
   "source": [
    "As noted above `1e+06` indicates no data at a point,\n",
    "typically meaning land.\n",
    "Let's replace those with NumPy `NaN`s so that we can work with the data more easily:"
   ]
  },
  {
   "cell_type": "code",
   "execution_count": 11,
   "metadata": {
    "collapsed": false
   },
   "outputs": [
    {
     "name": "stdout",
     "output_type": "stream",
     "text": [
      "-341.917 4.2\n"
     ]
    }
   ],
   "source": [
    "elev[elev > 9e5] = np.NAN\n",
    "print(np.nanmin(elev), np.nanmax(elev))"
   ]
  },
  {
   "cell_type": "code",
   "execution_count": 12,
   "metadata": {
    "collapsed": false
   },
   "outputs": [
    {
     "data": {
      "image/png": "[encoded data removed]",
      "text/plain": [
       "<matplotlib.figure.Figure at 0x7fbbb3b814e0>"
      ]
     },
     "metadata": {},
     "output_type": "display_data"
    }
   ],
   "source": [
    "fig, ax = plt.subplots(1, 1)\n",
    "ax.imshow(elev)\n",
    "ax.invert_yaxis()"
   ]
  },
  {
   "cell_type": "markdown",
   "metadata": {},
   "source": [
    "## The `metadata` Element\n",
    "\n",
    "Pulling the `metadata` element out of the BAG,\n",
    "and getting it into a form that we can work with:"
   ]
  },
  {
   "cell_type": "code",
   "execution_count": 13,
   "metadata": {
    "collapsed": false
   },
   "outputs": [
    {
     "name": "stdout",
     "output_type": "stream",
     "text": [
      "<class 'h5py._hl.dataset.Dataset'>\n",
      "<HDF5 dataset \"metadata\": shape (9730,), type \"|S1\">\n"
     ]
    }
   ],
   "source": [
    "metadata_node = root['metadata']\n",
    "print(type(metadata_node))\n",
    "print(metadata_node)"
   ]
  },
  {
   "cell_type": "markdown",
   "metadata": {},
   "source": [
    "As noted above,\n",
    "the metadata is a collection of single characters in the form of bytes.\n",
    "We need to collect those bytes into a buffer and parse them to get an XML tree object\n",
    "that we can work with in code:"
   ]
  },
  {
   "cell_type": "code",
   "execution_count": 14,
   "metadata": {
    "collapsed": false
   },
   "outputs": [],
   "source": [
    "buffer = BytesIO(metadata_node.value)\n",
    "tree = etree.parse(buffer)\n",
    "root = tree.getroot()"
   ]
  },
  {
   "cell_type": "markdown",
   "metadata": {},
   "source": [
    "Now we can get a somewhat readable rendering of the metadata in all its verbose XML glory:"
   ]
  },
  {
   "cell_type": "code",
   "execution_count": 15,
   "metadata": {
    "collapsed": false
   },
   "outputs": [
    {
     "name": "stdout",
     "output_type": "stream",
     "text": [
      "<gmi:MI_Metadata xmlns:gmi=\"http://www.isotc211.org/2005/gmi\" xmlns:gmd=\"http://www.isotc211.org/2005/gmd\" xmlns:xsi=\"http://www.w3.org/2001/XMLSchema-instance\" xmlns:gml=\"http://www.opengis.net/gml/3.2\" xmlns:gco=\"http://www.isotc211.org/2005/gco\" xmlns:xlink=\"http://www.w3.org/1999/xlink\" xmlns:bag=\"http://www.opennavsurf.org/schema/bag\">\n",
      "  <gmd:fileIdentifier>\n",
      "    <gco:CharacterString>2db1df98-90f2-4e20-a91e-6089111e2f5d</gco:CharacterString>\n",
      "  </gmd:fileIdentifier>\n",
      "  <gmd:language>\n",
      "    <gmd:LanguageCode codeList=\"http://www.loc.gov/standards/iso639-2/\" codeListValue=\"eng\">eng</gmd:LanguageCode>\n",
      "  </gmd:language>\n",
      "  <gmd:characterSet>\n",
      "    <gmd:MD_CharacterSetCode codeList=\"http://www.isotc211.org/2005/resources/Codelist/gmxCodelists.xml#MD_CharacterSetCode\" codeListValue=\"utf8\">utf8</gmd:MD_CharacterSetCode>\n",
      "  </gmd:characterSet>\n",
      "  <gmd:hierarchyLevel>\n",
      "    <gmd:MD_ScopeCode codeList=\"http://www.isotc211.org/2005/resources/Codelist/gmxCodelists.xml#MD_ScopeCode\" codeListValue=\"dataset\">dataset</gmd:MD_ScopeCode>\n",
      "  </gmd:hierarchyLevel>\n",
      "  <gmd:contact>\n",
      "    <gmd:CI_ResponsibleParty>\n",
      "      <gmd:individualName>\n",
      "        <gco:CharacterString>dillt</gco:CharacterString>\n",
      "      </gmd:individualName>\n",
      "      <gmd:organisationName>\n",
      "        <gco:CharacterString>CHS</gco:CharacterString>\n",
      "      </gmd:organisationName>\n",
      "      <gmd:positionName>\n",
      "        <gco:CharacterString> MDH</gco:CharacterString>\n",
      "      </gmd:positionName>\n",
      "      <gmd:role>\n",
      "        <gmd:CI_RoleCode codeList=\"http://www.isotc211.org/2005/resources/Codelist/gmxCodelists.xml#CI_RoleCode\" codeListValue=\"pointOfContact\">pointOfContact</gmd:CI_RoleCode>\n",
      "      </gmd:role>\n",
      "    </gmd:CI_ResponsibleParty>\n",
      "  </gmd:contact>\n",
      "  <gmd:dateStamp>\n",
      "    <gco:Date>2014-02-07</gco:Date>\n",
      "  </gmd:dateStamp>\n",
      "  <gmd:metadataStandardName>\n",
      "    <gco:CharacterString>ISO 19115</gco:CharacterString>\n",
      "  </gmd:metadataStandardName>\n",
      "  <gmd:metadataStandardVersion>\n",
      "    <gco:CharacterString>2003/Cor.1:2006</gco:CharacterString>\n",
      "  </gmd:metadataStandardVersion>\n",
      "  <gmd:spatialRepresentationInfo>\n",
      "    <gmd:MD_Georectified>\n",
      "      <gmd:numberOfDimensions>\n",
      "        <gco:Integer>2</gco:Integer>\n",
      "      </gmd:numberOfDimensions>\n",
      "      <gmd:axisDimensionProperties>\n",
      "        <gmd:MD_Dimension>\n",
      "          <gmd:dimensionName>\n",
      "            <gmd:MD_DimensionNameTypeCode codeList=\"http://www.isotc211.org/2005/resources/Codelist/gmxCodelists.xml#MD_DimensionNameTypeCode\" codeListValue=\"row\">row</gmd:MD_DimensionNameTypeCode>\n",
      "          </gmd:dimensionName>\n",
      "          <gmd:dimensionSize>\n",
      "            <gco:Integer>337</gco:Integer>\n",
      "          </gmd:dimensionSize>\n",
      "          <gmd:resolution>\n",
      "            <gco:Measure uom=\"Metres\">500</gco:Measure>\n",
      "          </gmd:resolution>\n",
      "        </gmd:MD_Dimension>\n",
      "      </gmd:axisDimensionProperties>\n",
      "      <gmd:axisDimensionProperties>\n",
      "        <gmd:MD_Dimension>\n",
      "          <gmd:dimensionName>\n",
      "            <gmd:MD_DimensionNameTypeCode codeList=\"http://www.isotc211.org/2005/resources/Codelist/gmxCodelists.xml#MD_DimensionNameTypeCode\" codeListValue=\"column\">column</gmd:MD_DimensionNameTypeCode>\n",
      "          </gmd:dimensionName>\n",
      "          <gmd:dimensionSize>\n",
      "            <gco:Integer>448</gco:Integer>\n",
      "          </gmd:dimensionSize>\n",
      "          <gmd:resolution>\n",
      "            <gco:Measure uom=\"Metres\">500</gco:Measure>\n",
      "          </gmd:resolution>\n",
      "        </gmd:MD_Dimension>\n",
      "      </gmd:axisDimensionProperties>\n",
      "      <gmd:cellGeometry>\n",
      "        <gmd:MD_CellGeometryCode codeList=\"http://www.isotc211.org/2005/resources/Codelist/gmxCodelists.xml#MD_CellGeometryCode\" codeListValue=\"point\">point</gmd:MD_CellGeometryCode>\n",
      "      </gmd:cellGeometry>\n",
      "      <gmd:transformationParameterAvailability>\n",
      "        <gco:Boolean>1</gco:Boolean>\n",
      "      </gmd:transformationParameterAvailability>\n",
      "      <gmd:checkPointAvailability>\n",
      "        <gco:Boolean>0</gco:Boolean>\n",
      "      </gmd:checkPointAvailability>\n",
      "      <gmd:cornerPoints>\n",
      "        <gml:Point gml:id=\"id1\">\n",
      "          <gml:coordinates decimal=\".\" cs=\",\" ts=\" \">-13804000.000000000000,6075000.000000000000 -13580500.000000000000,6243000.000000000000</gml:coordinates>\n",
      "        </gml:Point>\n",
      "      </gmd:cornerPoints>\n",
      "      <gmd:pointInPixel>\n",
      "        <gmd:MD_PixelOrientationCode>center</gmd:MD_PixelOrientationCode>\n",
      "      </gmd:pointInPixel>\n",
      "    </gmd:MD_Georectified>\n",
      "  </gmd:spatialRepresentationInfo>\n",
      "  <gmd:referenceSystemInfo>\n",
      "    <gmd:MD_ReferenceSystem>\n",
      "      <gmd:referenceSystemIdentifier>\n",
      "        <gmd:RS_Identifier>\n",
      "          <gmd:code>\n",
      "            <gco:CharacterString>PROJCS[\"WRLDMERC\",\n",
      "    GEOGCS[\"unnamed\",\n",
      "        DATUM[\"WGS_1984\",\n",
      "            SPHEROID[\"WGS_1984\",6378137,298.2572201434276],\n",
      "            TOWGS84[0,0,0,0,0,0,0]],\n",
      "        PRIMEM[\"Greenwich\",0],\n",
      "        UNIT[\"degree\",0.0174532925199433],\n",
      "        EXTENSION[\"Scaler\",\"0,0,0,0.01,0.01,0.0001\"],\n",
      "        EXTENSION[\"Source\",\"CARIS\"]],\n",
      "    PROJECTION[\"Mercator_1SP\"],\n",
      "    PARAMETER[\"central_meridian\",0],\n",
      "    PARAMETER[\"scale_factor\",1],\n",
      "    PARAMETER[\"false_easting\",0],\n",
      "    PARAMETER[\"false_northing\",0],\n",
      "    UNIT[\"Meter\",1]]</gco:CharacterString>\n",
      "          </gmd:code>\n",
      "          <gmd:codeSpace>\n",
      "            <gco:CharacterString>WKT</gco:CharacterString>\n",
      "          </gmd:codeSpace>\n",
      "        </gmd:RS_Identifier>\n",
      "      </gmd:referenceSystemIdentifier>\n",
      "    </gmd:MD_ReferenceSystem>\n",
      "  </gmd:referenceSystemInfo>\n",
      "  <gmd:referenceSystemInfo>\n",
      "    <gmd:MD_ReferenceSystem>\n",
      "      <gmd:referenceSystemIdentifier>\n",
      "        <gmd:RS_Identifier>\n",
      "          <gmd:code>\n",
      "            <gco:CharacterString>VERT_CS[\"Unknown\", VERT_DATUM[Unknown, 2000]]</gco:CharacterString>\n",
      "          </gmd:code>\n",
      "          <gmd:codeSpace>\n",
      "            <gco:CharacterString>WKT</gco:CharacterString>\n",
      "          </gmd:codeSpace>\n",
      "        </gmd:RS_Identifier>\n",
      "      </gmd:referenceSystemIdentifier>\n",
      "    </gmd:MD_ReferenceSystem>\n",
      "  </gmd:referenceSystemInfo>\n",
      "  <gmd:identificationInfo>\n",
      "    <bag:BAG_DataIdentification>\n",
      "      <gmd:citation>\n",
      "        <gmd:CI_Citation>\n",
      "          <gmd:title>\n",
      "            <gco:CharacterString>BDB_92B_500m_WorldMerc_2014-02-05_extract_final.csar</gco:CharacterString>\n",
      "          </gmd:title>\n",
      "          <gmd:date>\n",
      "            <gmd:CI_Date>\n",
      "              <gmd:date>\n",
      "                <gco:Date>2014-02-07</gco:Date>\n",
      "              </gmd:date>\n",
      "              <gmd:dateType>\n",
      "                <gmd:CI_DateTypeCode codeList=\"http://www.isotc211.org/2005/resources/Codelist/gmxCodelists.xml#CI_DateTypeCode\" codeListValue=\"creation\">creation</gmd:CI_DateTypeCode>\n",
      "              </gmd:dateType>\n",
      "            </gmd:CI_Date>\n",
      "          </gmd:date>\n",
      "          <gmd:citedResponsibleParty>\n",
      "            <gmd:CI_ResponsibleParty>\n",
      "              <gmd:individualName>\n",
      "                <gco:CharacterString>dillt</gco:CharacterString>\n",
      "              </gmd:individualName>\n",
      "              <gmd:organisationName>\n",
      "                <gco:CharacterString>CHS</gco:CharacterString>\n",
      "              </gmd:organisationName>\n",
      "              <gmd:positionName>\n",
      "                <gco:CharacterString> MDH</gco:CharacterString>\n",
      "              </gmd:positionName>\n",
      "              <gmd:role>\n",
      "                <gmd:CI_RoleCode codeList=\"http://www.isotc211.org/2005/resources/Codelist/gmxCodelists.xml#CI_RoleCode\" codeListValue=\"originator\">originator</gmd:CI_RoleCode>\n",
      "              </gmd:role>\n",
      "            </gmd:CI_ResponsibleParty>\n",
      "          </gmd:citedResponsibleParty>\n",
      "        </gmd:CI_Citation>\n",
      "      </gmd:citation>\n",
      "      <gmd:abstract>\n",
      "        <gco:CharacterString>unknown</gco:CharacterString>\n",
      "      </gmd:abstract>\n",
      "      <gmd:status>\n",
      "        <gmd:MD_ProgressCode codeList=\"http://www.isotc211.org/2005/resources/Codelist/gmxCodelists.xml#MD_ProgressCode\" codeListValue=\"onGoing\">onGoing</gmd:MD_ProgressCode>\n",
      "      </gmd:status>\n",
      "      <gmd:spatialRepresentationType>\n",
      "        <gmd:MD_SpatialRepresentationTypeCode codeList=\"http://www.isotc211.org/2005/resources/Codelist/gmxCodelists.xml#MD_SpatialRepresentationTypeCode\" codeListValue=\"grid\">grid</gmd:MD_SpatialRepresentationTypeCode>\n",
      "      </gmd:spatialRepresentationType>\n",
      "      <gmd:language>\n",
      "        <gmd:LanguageCode codeList=\"http://www.loc.gov/standards/iso639-2/\" codeListValue=\"eng\">eng</gmd:LanguageCode>\n",
      "      </gmd:language>\n",
      "      <gmd:characterSet>\n",
      "        <gmd:MD_CharacterSetCode codeList=\"http://www.isotc211.org/2005/resources/Codelist/gmxCodelists.xml#MD_CharacterSetCode\" codeListValue=\"utf8\">utf8</gmd:MD_CharacterSetCode>\n",
      "      </gmd:characterSet>\n",
      "      <gmd:topicCategory>\n",
      "        <gmd:MD_TopicCategoryCode>elevation</gmd:MD_TopicCategoryCode>\n",
      "      </gmd:topicCategory>\n",
      "      <gmd:extent>\n",
      "        <gmd:EX_Extent>\n",
      "          <gmd:geographicElement>\n",
      "            <gmd:EX_GeographicBoundingBox>\n",
      "              <gmd:westBoundLongitude>\n",
      "                <gco:Decimal>-124.003</gco:Decimal>\n",
      "              </gmd:westBoundLongitude>\n",
      "              <gmd:eastBoundLongitude>\n",
      "                <gco:Decimal>-121.996</gco:Decimal>\n",
      "              </gmd:eastBoundLongitude>\n",
      "              <gmd:southBoundLatitude>\n",
      "                <gco:Decimal>47.9995</gco:Decimal>\n",
      "              </gmd:southBoundLatitude>\n",
      "              <gmd:northBoundLatitude>\n",
      "                <gco:Decimal>49.0024</gco:Decimal>\n",
      "              </gmd:northBoundLatitude>\n",
      "            </gmd:EX_GeographicBoundingBox>\n",
      "          </gmd:geographicElement>\n",
      "        </gmd:EX_Extent>\n",
      "      </gmd:extent>\n",
      "      <bag:verticalUncertaintyType>\n",
      "        <bag:BAG_VertUncertCode codeList=\"http://www.opennavsurf.org/schema/bag/bagCodelists.xml#BAG_VertUncertCode\" codeListValue=\"unknown\">unknown</bag:BAG_VertUncertCode>\n",
      "      </bag:verticalUncertaintyType>\n",
      "    </bag:BAG_DataIdentification>\n",
      "  </gmd:identificationInfo>\n",
      "  <gmd:dataQualityInfo>\n",
      "    <gmd:DQ_DataQuality>\n",
      "      <gmd:scope>\n",
      "        <gmd:DQ_Scope>\n",
      "          <gmd:level>\n",
      "            <gmd:MD_ScopeCode codeList=\"http://www.isotc211.org/2005/resources/Codelist/gmxCodelists.xml#MD_ScopeCode\" codeListValue=\"dataset\">dataset</gmd:MD_ScopeCode>\n",
      "          </gmd:level>\n",
      "        </gmd:DQ_Scope>\n",
      "      </gmd:scope>\n",
      "      <gmd:lineage>\n",
      "        <gmd:LI_Lineage>\n",
      "          <gmd:processStep>\n",
      "            <bag:BAG_ProcessStep>\n",
      "              <gmd:description>\n",
      "                <gco:CharacterString/>\n",
      "              </gmd:description>\n",
      "              <gmd:dateTime>\n",
      "                <gco:DateTime/>\n",
      "              </gmd:dateTime>\n",
      "              <bag:trackingId>\n",
      "                <gco:CharacterString/>\n",
      "              </bag:trackingId>\n",
      "            </bag:BAG_ProcessStep>\n",
      "          </gmd:processStep>\n",
      "          <gmd:processStep>\n",
      "            <bag:BAG_ProcessStep>\n",
      "              <gmd:description>\n",
      "                <gco:CharacterString>Designated soundings applied by automated procedure.</gco:CharacterString>\n",
      "              </gmd:description>\n",
      "              <gmd:dateTime>\n",
      "                <gco:DateTime/>\n",
      "              </gmd:dateTime>\n",
      "              <bag:trackingId>\n",
      "                <gco:CharacterString>0</gco:CharacterString>\n",
      "              </bag:trackingId>\n",
      "            </bag:BAG_ProcessStep>\n",
      "          </gmd:processStep>\n",
      "        </gmd:LI_Lineage>\n",
      "      </gmd:lineage>\n",
      "    </gmd:DQ_DataQuality>\n",
      "  </gmd:dataQualityInfo>\n",
      "  <gmd:metadataConstraints>\n",
      "    <gmd:MD_LegalConstraints>\n",
      "      <gmd:useConstraints>\n",
      "        <gmd:MD_RestrictionCode codeList=\"http://www.isotc211.org/2005/resources/Codelist/gmxCodelists.xml#MD_RestrictionCode\" codeListValue=\"otherRestrictions\">otherRestrictions</gmd:MD_RestrictionCode>\n",
      "      </gmd:useConstraints>\n",
      "      <gmd:otherConstraints>\n",
      "        <gco:CharacterString>Not for navigation, not to be redistributed</gco:CharacterString>\n",
      "      </gmd:otherConstraints>\n",
      "    </gmd:MD_LegalConstraints>\n",
      "  </gmd:metadataConstraints>\n",
      "  <gmd:metadataConstraints>\n",
      "    <gmd:MD_SecurityConstraints>\n",
      "      <gmd:classification>\n",
      "        <gmd:MD_ClassificationCode codeList=\"http://www.isotc211.org/2005/resources/Codelist/gmxCodelists.xml#MD_ClassificationCode\" codeListValue=\"unclassified\">unclassified</gmd:MD_ClassificationCode>\n",
      "      </gmd:classification>\n",
      "      <gmd:userNote>\n",
      "        <gco:CharacterString>Contact Pete Wills for inquiries: Peter.Wills@dfo-mpo.gc.ca, 250-363-6384</gco:CharacterString>\n",
      "      </gmd:userNote>\n",
      "    </gmd:MD_SecurityConstraints>\n",
      "  </gmd:metadataConstraints>\n",
      "</gmi:MI_Metadata>\n",
      "\n"
     ]
    }
   ],
   "source": [
    "print(etree.tostring(root, pretty_print=True).decode('ascii'))"
   ]
  },
  {
   "cell_type": "markdown",
   "metadata": {},
   "source": [
    "To get information out of the tree we need to deal with the\n",
    "namespaces that are used for the various tags:"
   ]
  },
  {
   "cell_type": "code",
   "execution_count": 16,
   "metadata": {
    "collapsed": false
   },
   "outputs": [
    {
     "data": {
      "text/plain": [
       "{'bag': 'http://www.opennavsurf.org/schema/bag',\n",
       " 'gco': 'http://www.isotc211.org/2005/gco',\n",
       " 'gmd': 'http://www.isotc211.org/2005/gmd',\n",
       " 'gmi': 'http://www.isotc211.org/2005/gmi',\n",
       " 'gml': 'http://www.opengis.net/gml/3.2',\n",
       " 'xlink': 'http://www.w3.org/1999/xlink',\n",
       " 'xsi': 'http://www.w3.org/2001/XMLSchema-instance'}"
      ]
     },
     "execution_count": 16,
     "metadata": {},
     "output_type": "execute_result"
    }
   ],
   "source": [
    "root.nsmap"
   ]
  },
  {
   "cell_type": "markdown",
   "metadata": {},
   "source": [
    "Building the tags that we need to get to the resolution,\n",
    "and then walking the tree to get the resolution and its units:"
   ]
  },
  {
   "cell_type": "code",
   "execution_count": 17,
   "metadata": {
    "collapsed": false
   },
   "outputs": [],
   "source": [
    "sri = etree.QName(root.nsmap['gmd'], 'spatialRepresentationInfo').text\n",
    "adp = etree.QName(root.nsmap['gmd'], 'axisDimensionProperties').text\n",
    "dim = etree.QName(root.nsmap['gmd'], 'MD_Dimension').text\n",
    "res = etree.QName(root.nsmap['gmd'], 'resolution').text\n",
    "res_meas = etree.QName(root.nsmap['gco'], 'Measure').text"
   ]
  },
  {
   "cell_type": "code",
   "execution_count": 18,
   "metadata": {
    "collapsed": false
   },
   "outputs": [
    {
     "name": "stdout",
     "output_type": "stream",
     "text": [
      "500 Metres\n"
     ]
    }
   ],
   "source": [
    "resolution = (\n",
    "    root\n",
    "    .find('.//{}'.format(sri))\n",
    "    .find('.//{}'.format(adp))\n",
    "    .find('.//{}'.format(dim))\n",
    "    .find('.//{}'.format(res))\n",
    "    .find('.//{}'.format(res_meas))\n",
    ")\n",
    "print(resolution.text, resolution.get('uom'))"
   ]
  },
  {
   "cell_type": "markdown",
   "metadata": {},
   "source": [
    "There might be a more elegant way of doing the sequence of `find`s above\n",
    "if one were to dig more deeply into XPATH syntax.\n",
    "\n",
    "Similarily for the data region boundaries:"
   ]
  },
  {
   "cell_type": "code",
   "execution_count": 19,
   "metadata": {
    "collapsed": false
   },
   "outputs": [],
   "source": [
    "id_info = etree.QName(root.nsmap['gmd'], 'identificationInfo').text\n",
    "bag_data_id = etree.QName(root.nsmap['bag'], 'BAG_DataIdentification').text\n",
    "extent = etree.QName(root.nsmap['gmd'], 'extent').text\n",
    "ex_extent = etree.QName(root.nsmap['gmd'], 'EX_Extent').text\n",
    "geo_el = etree.QName(root.nsmap['gmd'], 'geographicElement').text\n",
    "geo_bb = etree.QName(root.nsmap['gmd'], 'EX_GeographicBoundingBox').text\n",
    "\n",
    "west_bound_lon = etree.QName(root.nsmap['gmd'], 'westBoundLongitude').text\n",
    "east_bound_lon = etree.QName(root.nsmap['gmd'], 'eastBoundLongitude').text\n",
    "north_bound_lat = etree.QName(root.nsmap['gmd'], 'northBoundLatitude').text\n",
    "south_bound_lat = etree.QName(root.nsmap['gmd'], 'southBoundLatitude').text\n",
    "\n",
    "decimal = etree.QName(root.nsmap['gco'], 'Decimal').text"
   ]
  },
  {
   "cell_type": "code",
   "execution_count": 20,
   "metadata": {
    "collapsed": false
   },
   "outputs": [
    {
     "name": "stdout",
     "output_type": "stream",
     "text": [
      "west: -124.003\n",
      "east: -121.996\n",
      "north: 49.0024\n",
      "south: 47.9995\n"
     ]
    }
   ],
   "source": [
    "bbox = (\n",
    "    root\n",
    "    .find('.//{}'.format(id_info))\n",
    "    .find('.//{}'.format(bag_data_id))\n",
    "    .find('.//{}'.format(extent))\n",
    "    .find('.//{}'.format(ex_extent))\n",
    "    .find('.//{}'.format(geo_el))\n",
    "    .find('.//{}'.format(geo_bb))\n",
    ")\n",
    "west_lon = (\n",
    "    bbox\n",
    "    .find('.//{}'.format(west_bound_lon))\n",
    "    .find('.//{}'.format(decimal))\n",
    ")\n",
    "print('west:', west_lon.text)\n",
    "\n",
    "east_lon = (\n",
    "    bbox\n",
    "    .find('.//{}'.format(east_bound_lon))\n",
    "    .find('.//{}'.format(decimal))\n",
    ")\n",
    "print('east:', east_lon.text)\n",
    "\n",
    "north_lat = (\n",
    "    bbox\n",
    "    .find('.//{}'.format(north_bound_lat))\n",
    "    .find('.//{}'.format(decimal))\n",
    ")\n",
    "print('north:', north_lat.text)\n",
    "\n",
    "south_lat = (\n",
    "    bbox\n",
    "    .find('.//{}'.format(south_bound_lat))\n",
    "    .find('.//{}'.format(decimal))\n",
    ")\n",
    "print('south:', south_lat.text)"
   ]
  }
 ],
 "metadata": {
  "kernelspec": {
   "display_name": "Python 3",
   "language": "python",
   "name": "python3"
  },
  "language_info": {
   "codemirror_mode": {
    "name": "ipython",
    "version": 3
   },
   "file_extension": ".py",
   "mimetype": "text/x-python",
   "name": "python",
   "nbconvert_exporter": "python",
   "pygments_lexer": "ipython3",
   "version": "3.5.1"
  }
 },
 "nbformat": 4,
 "nbformat_minor": 0
}
