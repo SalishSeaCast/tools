{
 "metadata": {
  "name": ""
 },
 "nbformat": 3,
 "nbformat_minor": 0,
 "worksheets": [
  {
   "cells": [
    {
     "cell_type": "code",
     "collapsed": false,
     "input": [
      "%matplotlib inline\n",
      "import matplotlib.pyplot as plt\n",
      "import netCDF4 as nc\n",
      "import numpy as np\n",
      "from salishsea_tools import nc_tools"
     ],
     "language": "python",
     "metadata": {},
     "outputs": [],
     "prompt_number": 1
    },
    {
     "cell_type": "code",
     "collapsed": false,
     "input": [
      "! cp ../../NEMO-forcing/grid/bathy_meter_SalishSea.nc ../../NEMO-forcing/grid/bathy_meter_SalishSea2.nc\n",
      "bathy = nc.Dataset('../../NEMO-forcing/grid/bathy_meter_SalishSea2.nc', 'r+')\n",
      "depths = bathy.variables['Bathymetry']"
     ],
     "language": "python",
     "metadata": {},
     "outputs": [],
     "prompt_number": 10
    },
    {
     "cell_type": "code",
     "collapsed": false,
     "input": [
      "# copy the depths array into newdepths\n",
      "newdepths = depths[:,:]\n",
      "# remove the mask, i.e. make masked variables 1\n",
      "newdepths[newdepths.mask] = 0\n",
      "# use the depth average from grid points 10-12.  These points because the profile is simply here.\n",
      "depaverage = (newdepths[:,10]+newdepths[:,11]+newdepths[:,12])/3.\n",
      "# between where the centre of the channel is at the mouth and at grid points 10-12, is a N/S shift of \n",
      "# 5 grid points\n",
      "shift = 5\n",
      "# smooth the profile, twice\n",
      "for i in range(360,500):\n",
      "    depaverage[i] = 0.25*depaverage[i-1] + 0.5*depaverage[i] + 0.25*depaverage[i+1]\n",
      "for i in range(360,500):\n",
      "    depaverage[i] = 0.25*depaverage[i-1] + 0.5*depaverage[i] + 0.25*depaverage[i+1]\n",
      "#plt.plot(range(370+shift,470+shift),-depaverage[370:470],'k')\n",
      "\n",
      "#first 6 grid points (0-5) use the same, depaverage profile.  After that merge into the original\n",
      "#bathymetry, shifting South by half a grid point per grid point east.\n",
      "for i in range(0,5):\n",
      "    newdepths[370+shift:470+shift,i] = depaverage[370:470]\n",
      "i=5\n",
      "newdepths[370+shift:470+shift,i] = (-i+15)/10.*depaverage[370:470] + (i-5)/10.*newdepths[370+shift:470+shift,i]\n",
      "i=6\n",
      "newdepths[370+shift:470+shift,i] = (-i+15)/10.*(depaverage[370:470]+depaverage[371:471])/2. + (i-5)/10.*newdepths[370+shift:470+shift,i]\n",
      "i=7\n",
      "newdepths[370+shift:470+shift,i] = (-i+15)/10.*depaverage[371:471] + (i-5)/10.*newdepths[370+shift:470+shift,i]\n",
      "i=8\n",
      "newdepths[370+shift:470+shift,i] = (-i+15)/10.*(depaverage[371:471]+depaverage[372:472])/2. + (i-5)/10.*newdepths[370+shift:470+shift,i]\n",
      "i=9\n",
      "newdepths[370+shift:470+shift,i] = (-i+15)/10.*depaverage[372:472] + (i-5)/10.*newdepths[370+shift:470+shift,i]\n",
      "i=10\n",
      "newdepths[370+shift:470+shift,i] = (-i+15)/10.*(depaverage[372:472]+depaverage[373:473])/2. + (i-5)/10.*newdepths[370+shift:470+shift,i]\n",
      "i=11\n",
      "newdepths[370+shift:470+shift,i] = (-i+15)/10.*depaverage[373:473] + (i-5)/10.*newdepths[370+shift:470+shift,i]\n",
      "i=12\n",
      "newdepths[370+shift:470+shift,i] = (-i+15)/10.*(depaverage[373:473]+depaverage[374:474])/2. + (i-5)/10.*newdepths[370+shift:470+shift,i]\n",
      "i=13\n",
      "newdepths[370+shift:470+shift,i] = (-i+15)/10.*depaverage[374:474] + (i-5)/10.*newdepths[370+shift:470+shift,i]\n",
      "i=14\n",
      "newdepths[370+shift:470+shift,i] = (-i+15)/10.*(depaverage[374:474]+depaverage[375:475])/2. + (i-5)/10.*newdepths[370+shift:470+shift,i]\n",
      "\n",
      "# reimplement the mask\n",
      "shallow = newdepths[:] < 4\n",
      "newdepths_masked = np.ma.array(newdepths,mask=shallow)"
     ],
     "language": "python",
     "metadata": {},
     "outputs": [],
     "prompt_number": 11
    },
    {
     "cell_type": "code",
     "collapsed": false,
     "input": [
      "# plot\n",
      "plt.subplot(1,2,1)\n",
      "plt.pcolormesh(newdepths_masked[350:460,:30])\n",
      "plt.subplot(1,2,2)\n",
      "plt.pcolormesh(depths[350:460,:30])"
     ],
     "language": "python",
     "metadata": {},
     "outputs": [
      {
       "metadata": {},
       "output_type": "pyout",
       "prompt_number": 12,
       "text": [
        "<matplotlib.collections.QuadMesh at 0x105a811d0>"
       ]
      },
      {
       "metadata": {},
       "output_type": "display_data",
       "png": "[encoded data removed]",
       "text": [
        "<matplotlib.figure.Figure at 0x106739250>"
       ]
      }
     ],
     "prompt_number": 12
    },
    {
     "cell_type": "code",
     "collapsed": false,
     "input": [
      "# reassign to \"depths\"\n",
      "depths = newdepths_masked\n",
      "bathy.close()"
     ],
     "language": "python",
     "metadata": {},
     "outputs": [],
     "prompt_number": 13
    },
    {
     "cell_type": "code",
     "collapsed": false,
     "input": [],
     "language": "python",
     "metadata": {},
     "outputs": [],
     "prompt_number": 9
    },
    {
     "cell_type": "code",
     "collapsed": false,
     "input": [],
     "language": "python",
     "metadata": {},
     "outputs": []
    }
   ],
   "metadata": {}
  }
 ]
}