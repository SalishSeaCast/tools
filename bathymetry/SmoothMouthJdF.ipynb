{
 "metadata": {
  "name": ""
 },
 "nbformat": 3,
 "nbformat_minor": 0,
 "worksheets": [
  {
   "cells": [
    {
     "cell_type": "code",
     "collapsed": false,
     "input": [
      "%matplotlib inline\n",
      "import matplotlib.pyplot as plt\n",
      "import netCDF4 as nc\n",
      "import numpy as np\n",
      "from salishsea_tools import nc_tools"
     ],
     "language": "python",
     "metadata": {},
     "outputs": [],
     "prompt_number": 13
    },
    {
     "cell_type": "code",
     "collapsed": false,
     "input": [
      "#! cp ../../NEMO-forcing/grid/bathy_meter_SalishSea.nc ../../NEMO-forcing/grid/bathy_meter_SalishSea2.nc\n",
      "!cp ../../NEMO-forcing/grid/bathy_meter_SalishSea.nc bathy_meter_SalishSea2.nc\n",
      "bathy = nc.Dataset('bathy_meter_SalishSea2.nc', 'r+')\n",
      "depths = bathy.variables['Bathymetry']"
     ],
     "language": "python",
     "metadata": {},
     "outputs": [],
     "prompt_number": 14
    },
    {
     "cell_type": "code",
     "collapsed": false,
     "input": [
      "# copy the depths array into newdepths\n",
      "newdepths = depths[:,:]\n",
      "# remove the mask, i.e. make masked variables 1\n",
      "newdepths[newdepths.mask] = 0\n",
      "# use the depth average from grid points 10-12.  These points because the profile is simply here.\n",
      "depaverage = (newdepths[:,10]+newdepths[:,11]+newdepths[:,12])/3.\n",
      "# between where the centre of the channel is at the mouth and at grid points 10-12, is a N/S shift of \n",
      "# 5 grid points\n",
      "shift = 5\n",
      "# smooth the profile, twice\n",
      "for i in range(360,500):\n",
      "    depaverage[i] = 0.25*depaverage[i-1] + 0.5*depaverage[i] + 0.25*depaverage[i+1]\n",
      "for i in range(360,500):\n",
      "    depaverage[i] = 0.25*depaverage[i-1] + 0.5*depaverage[i] + 0.25*depaverage[i+1]\n",
      "#plt.plot(range(370+shift,470+shift),-depaverage[370:470],'k')\n",
      "\n",
      "#first 6 grid points (0-5) use the same, depaverage profile.  After that merge into the original\n",
      "#bathymetry, shifting South by half a grid point per grid point east.\n",
      "for i in range(0,5):\n",
      "    newdepths[370+shift:470+shift,i] = depaverage[370:470]\n",
      "i=5\n",
      "newdepths[370+shift:470+shift,i] = (-i+15)/10.*depaverage[370:470] + (i-5)/10.*newdepths[370+shift:470+shift,i]\n",
      "i=6\n",
      "newdepths[370+shift:470+shift,i] = (-i+15)/10.*(depaverage[370:470]+depaverage[371:471])/2. + (i-5)/10.*newdepths[370+shift:470+shift,i]\n",
      "i=7\n",
      "newdepths[370+shift:470+shift,i] = (-i+15)/10.*depaverage[371:471] + (i-5)/10.*newdepths[370+shift:470+shift,i]\n",
      "i=8\n",
      "newdepths[370+shift:470+shift,i] = (-i+15)/10.*(depaverage[371:471]+depaverage[372:472])/2. + (i-5)/10.*newdepths[370+shift:470+shift,i]\n",
      "i=9\n",
      "newdepths[370+shift:470+shift,i] = (-i+15)/10.*depaverage[372:472] + (i-5)/10.*newdepths[370+shift:470+shift,i]\n",
      "i=10\n",
      "newdepths[370+shift:470+shift,i] = (-i+15)/10.*(depaverage[372:472]+depaverage[373:473])/2. + (i-5)/10.*newdepths[370+shift:470+shift,i]\n",
      "i=11\n",
      "newdepths[370+shift:470+shift,i] = (-i+15)/10.*depaverage[373:473] + (i-5)/10.*newdepths[370+shift:470+shift,i]\n",
      "i=12\n",
      "newdepths[370+shift:470+shift,i] = (-i+15)/10.*(depaverage[373:473]+depaverage[374:474])/2. + (i-5)/10.*newdepths[370+shift:470+shift,i]\n",
      "i=13\n",
      "newdepths[370+shift:470+shift,i] = (-i+15)/10.*depaverage[374:474] + (i-5)/10.*newdepths[370+shift:470+shift,i]\n",
      "i=14\n",
      "newdepths[370+shift:470+shift,i] = (-i+15)/10.*(depaverage[374:474]+depaverage[375:475])/2. + (i-5)/10.*newdepths[370+shift:470+shift,i]\n",
      "\n",
      "# reimplement the mask\n",
      "shallow = newdepths[:] < 4\n",
      "newdepths_masked = np.ma.array(newdepths,mask=shallow)"
     ],
     "language": "python",
     "metadata": {},
     "outputs": [],
     "prompt_number": 15
    },
    {
     "cell_type": "code",
     "collapsed": false,
     "input": [
      "# plot\n",
      "plt.subplot(1,2,1)\n",
      "plt.pcolormesh(newdepths_masked[350:460,:30])\n",
      "plt.subplot(1,2,2)\n",
      "plt.pcolormesh(depths[350:460,:30])"
     ],
     "language": "python",
     "metadata": {},
     "outputs": [
      {
       "metadata": {},
       "output_type": "pyout",
       "prompt_number": 16,
       "text": [
        "<matplotlib.collections.QuadMesh at 0x10594c110>"
       ]
      },
      {
       "metadata": {},
       "output_type": "display_data",
       "png": "[encoded data removed]",
       "text": [
        "<matplotlib.figure.Figure at 0x10630e110>"
       ]
      }
     ],
     "prompt_number": 16
    },
    {
     "cell_type": "code",
     "collapsed": false,
     "input": [
      "# reassign to \"depths\"\n",
      "depths[:] = newdepths_masked\n",
      "plt.pcolormesh(depths[350:460,:30])\n"
     ],
     "language": "python",
     "metadata": {},
     "outputs": [
      {
       "metadata": {},
       "output_type": "pyout",
       "prompt_number": 17,
       "text": [
        "<matplotlib.collections.QuadMesh at 0x10636e6d0>"
       ]
      },
      {
       "metadata": {},
       "output_type": "display_data",
       "png": "[encoded data removed]",
       "text": [
        "<matplotlib.figure.Figure at 0x105aeda50>"
       ]
      }
     ],
     "prompt_number": 17
    },
    {
     "cell_type": "code",
     "collapsed": false,
     "input": [
      "nc_tools.show_dataset_attrs(bathy)"
     ],
     "language": "python",
     "metadata": {},
     "outputs": [
      {
       "output_type": "stream",
       "stream": "stdout",
       "text": [
        "file format: NETCDF4\n",
        "Conventions: CF-1.6\n",
        "title: Salish Sea NEMO Bathymetry\n",
        "institution: Dept of Earth, Ocean & Atmospheric Sciences, University of British Columbia\n",
        "source: https://bitbucket.org/salishsea/tools/src/tip/bathymetry/SalishSeaBathy.ipynb\n",
        "references: https://bitbucket.org/salishsea/nemo-forcing/src/tip/grid/bathy_meter_SalishSea.nc\n",
        "comment: Based on 1_bathymetry_seagrid_WestCoast.nc file from 2-Oct-2013 WCSD_PREP tarball provided by J-P Paquin.\n",
        "history: \n",
        "    [2013-10-30 13:18] Created netCDF4 zlib=True dataset.\n",
        "    [2013-10-30 15:22] Set depths between 0 and 4m to 4m and those >428m to 428m.\n",
        "    [2013-10-31 17:10] Algorithmic smoothing.\n",
        "    [2013-11-21 19:53] Reverted to pre-smothing dataset (repo rev 3b301b5b9b6d).\n",
        "    [2013-11-21 20:14] Updated dataset and variable attributes to CF-1.6 conventions & project standards.\n",
        "    [2013-11-21 20:47] Removed east end of Jervis Inlet and Toba Inlet region due to deficient source bathymetry data in Cascadia dataset.\n",
        "    [2013-11-21 21:52] Algorithmic smoothing.\n",
        "\n"
       ]
      }
     ],
     "prompt_number": 18
    },
    {
     "cell_type": "code",
     "collapsed": false,
     "input": [
      "bathy.history = \"\"\"\n",
      "[2013-10-30 13:18] Created netCDF4 zlib=True dataset.\n",
      "[2013-10-30 15:22] Set depths between 0 and 4m to 4m and those >428m to 428m.\n",
      "[2013-10-31 17:10] Algorithmic smoothing.\n",
      "[2013-11-21 19:53] Reverted to pre-smothing dataset (repo rev 3b301b5b9b6d).\n",
      "[2013-11-21 20:14] Updated dataset and variable attributes to CF-1.6 conventions & project standards.\n",
      "[2013-11-21 20:47] Removed east end of Jervis Inlet and Toba Inlet region due to deficient source bathymetry data in Cascadia dataset.\n",
      "[2013-11-21 21:52] Algorithmic smoothing.\n",
      "[2013-12-31 16:24] Smoothed mouth of Juan de Fuca\n",
      "\"\"\"\n",
      "bathy.source = \"\"\"\n",
      "https://bitbucket.org/salishsea/tools/src/tip/bathymetry/SalishSeaBathy.ipynb\n",
      "https://bitbucket.org/salishsea/tools/src/tip/bathymetry/SmoothMouthJdF.ipynb\n",
      "\"\"\""
     ],
     "language": "python",
     "metadata": {},
     "outputs": [],
     "prompt_number": 20
    },
    {
     "cell_type": "code",
     "collapsed": false,
     "input": [
      "bathy.close()"
     ],
     "language": "python",
     "metadata": {},
     "outputs": [],
     "prompt_number": 21
    },
    {
     "cell_type": "code",
     "collapsed": false,
     "input": [],
     "language": "python",
     "metadata": {},
     "outputs": []
    }
   ],
   "metadata": {}
  }
 ]
}