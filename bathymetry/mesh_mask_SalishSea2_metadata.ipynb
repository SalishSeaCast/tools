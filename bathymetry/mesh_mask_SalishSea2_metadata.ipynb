{
 "cells": [
  {
   "cell_type": "markdown",
   "metadata": {},
   "source": [
    "# `mesh_mask_SalishSea2.nc` Metadata\n",
    "\n",
    "Add metadata to the NEMO-generated mesh mask file for the SalishSea2 bathymetry\n",
    "so that a well-defined ERDDAP dataset can be produced from it."
   ]
  },
  {
   "cell_type": "code",
   "execution_count": 1,
   "metadata": {
    "collapsed": true
   },
   "outputs": [],
   "source": [
    "import xarray as xr"
   ]
  },
  {
   "cell_type": "code",
   "execution_count": 2,
   "metadata": {
    "collapsed": true
   },
   "outputs": [],
   "source": [
    "mm = xr.open_dataset('../../NEMO-forcing/grid/mesh_mask_SalishSea2.nc')"
   ]
  },
  {
   "cell_type": "code",
   "execution_count": 3,
   "metadata": {
    "collapsed": true
   },
   "outputs": [],
   "source": [
    "# Copy/pasted from Google Drive MeshMask Variables spreadsheet\n",
    "\n",
    "# NEMO Variable Name\tDescription -> long_name Attribute\tUnits\n",
    "nemo_vars = '''\n",
    "e1t\tgrid spacing on T-grid in u direction\tm\n",
    "e2t\tgrid spacing on T-grid in v direction\tm\n",
    "e3t\tgrid spacing on T-grid in w direction\tm\n",
    "e1u\tgrid spacing on U-grid in u direction\tm\n",
    "e2u\tgrid spacing on U-grid in v direction\tm\n",
    "e3u\tgrid spacing on U-grid in w direction\tm\n",
    "e1v\tgrid spacing on V-grid in u direction\tm\n",
    "e2v\tgrid spacing on V-grid in v direction\tm\n",
    "e3v\tgrid spacing on V-grid in w direction\tm\n",
    "e3t_0\tnominal vertical grid spacing on T-grid\tm\n",
    "e3w\tgrid spacing on W-grid in w direction\tm\n",
    "e3w_0\tnominal vertical grid spacing on W-grid\tm\n",
    "e1f\tgrid spacing on vorticity-grid in u direction\tm\n",
    "e2f\tgrid spacing on vorticity-grid in v direction\tm\n",
    "glamt\tlongitude of T-grid points\tdegrees east\n",
    "gphit\tlatitude of T-grid points\tdegrees north\n",
    "glamu\tlongitude of U-grid points\tdegrees east\n",
    "gphiu\tlatitude of U-grid points\tdegrees north\n",
    "glamv\tlongitude of V-grid points\tdegrees east\n",
    "gphiv\tlatitude of V-grid points\tdegrees north\n",
    "gdept\tdepth of T-grid points\tm\n",
    "gdepu\tdepth of U-grid points\tm\n",
    "gdepv\tdepth of V-grid points\tm\n",
    "gdepw\tdepth of W-grid points\tm\n",
    "tmask\tmask for T-grid and W-grid\tboolean\n",
    "umask\tmask for U-grid\tboolean\n",
    "vmask\tmask for V-grid\tboolean\n",
    "fmask\tmask for vorticity-grid\tboolean\n",
    "tmaskutil\tdry land mask for T-grid and W-grid\tboolean\n",
    "umaskutil\tdry land mask for U-grid\tboolean\n",
    "vmaskutil\tdry land mask for V-grid\tboolean\n",
    "fmaskutil\tdry land mask for vorticity-grid\tboolean\n",
    "ff\tCoriolis parameter on vorticity-grid\ts-1\n",
    "mbathy\tfortran index of deepest water cell, T-grid\tindex\n",
    "nav_lat\tlatitude of T-grid points\tdegrees north\n",
    "nav_lon\tlongitude of T-grid points\tdegrees east\n",
    "nav_lev\tnominal depth of T-grid points\tm\n",
    "'''"
   ]
  },
  {
   "cell_type": "code",
   "execution_count": 4,
   "metadata": {
    "collapsed": false
   },
   "outputs": [],
   "source": [
    "def interesting_lines(nemo_vars):\n",
    "    for line in nemo_vars.splitlines():\n",
    "        if line:\n",
    "            yield line\n",
    "            \n",
    "units_subs = {\n",
    "    's-1': '1/s',\n",
    "    'index': 'count',\n",
    "    'degrees east': 'degrees_east',\n",
    "    'degrees north': 'degrees_north',\n",
    "}\n",
    "\n",
    "for line in interesting_lines(nemo_vars):\n",
    "    var_name, long_name, units = map(str.strip, line.split('\\t'))\n",
    "    mm[var_name].attrs['standard_name'] = var_name\n",
    "    mm[var_name].attrs['long_name'] = long_name\n",
    "    if units == 'boolean':\n",
    "        mm[var_name].attrs['flag_values'] = '0, 1'\n",
    "        mm[var_name].attrs['flag_meaings'] = 'land, water'\n",
    "    else:\n",
    "        try:\n",
    "            mm[var_name].attrs['units'] = units_subs[units]\n",
    "        except KeyError:\n",
    "            mm[var_name].attrs['units'] = units\n",
    "    if 'depth' in long_name:\n",
    "        mm[var_name].attrs['positive'] = 'down'"
   ]
  },
  {
   "cell_type": "markdown",
   "metadata": {},
   "source": [
    "Spot check results:"
   ]
  },
  {
   "cell_type": "code",
   "execution_count": 5,
   "metadata": {
    "collapsed": false
   },
   "outputs": [
    {
     "data": {
      "text/plain": [
       "<xarray.DataArray 'e1t' (t: 1, y: 898, x: 398)>\n",
       "[357404 values with dtype=float64]\n",
       "Coordinates:\n",
       "  * t        (t) int64 0\n",
       "  * y        (y) int64 0 1 2 3 4 5 6 7 8 9 10 11 12 13 14 15 16 17 18 19 20 ...\n",
       "  * x        (x) int64 0 1 2 3 4 5 6 7 8 9 10 11 12 13 14 15 16 17 18 19 20 ...\n",
       "Attributes:\n",
       "    standard_name: e1t\n",
       "    long_name: grid spacing on T-grid in u direction\n",
       "    units: m"
      ]
     },
     "execution_count": 5,
     "metadata": {},
     "output_type": "execute_result"
    }
   ],
   "source": [
    "mm.e1t"
   ]
  },
  {
   "cell_type": "code",
   "execution_count": 6,
   "metadata": {
    "collapsed": false
   },
   "outputs": [
    {
     "data": {
      "text/plain": [
       "<xarray.DataArray 'glamt' (t: 1, y: 898, x: 398)>\n",
       "[357404 values with dtype=float32]\n",
       "Coordinates:\n",
       "  * t        (t) int64 0\n",
       "  * y        (y) int64 0 1 2 3 4 5 6 7 8 9 10 11 12 13 14 15 16 17 18 19 20 ...\n",
       "  * x        (x) int64 0 1 2 3 4 5 6 7 8 9 10 11 12 13 14 15 16 17 18 19 20 ...\n",
       "Attributes:\n",
       "    standard_name: glamt\n",
       "    long_name: longitude of T-grid points\n",
       "    units: degrees_east"
      ]
     },
     "execution_count": 6,
     "metadata": {},
     "output_type": "execute_result"
    }
   ],
   "source": [
    "mm.glamt"
   ]
  },
  {
   "cell_type": "code",
   "execution_count": 7,
   "metadata": {
    "collapsed": false
   },
   "outputs": [
    {
     "data": {
      "text/plain": [
       "<xarray.DataArray 'gphit' (t: 1, y: 898, x: 398)>\n",
       "[357404 values with dtype=float32]\n",
       "Coordinates:\n",
       "  * t        (t) int64 0\n",
       "  * y        (y) int64 0 1 2 3 4 5 6 7 8 9 10 11 12 13 14 15 16 17 18 19 20 ...\n",
       "  * x        (x) int64 0 1 2 3 4 5 6 7 8 9 10 11 12 13 14 15 16 17 18 19 20 ...\n",
       "Attributes:\n",
       "    standard_name: gphit\n",
       "    long_name: latitude of T-grid points\n",
       "    units: degrees_north"
      ]
     },
     "execution_count": 7,
     "metadata": {},
     "output_type": "execute_result"
    }
   ],
   "source": [
    "mm.gphit"
   ]
  },
  {
   "cell_type": "code",
   "execution_count": 8,
   "metadata": {
    "collapsed": false
   },
   "outputs": [
    {
     "data": {
      "text/plain": [
       "<xarray.DataArray 'gdept' (t: 1, z: 40, y: 898, x: 398)>\n",
       "[14296160 values with dtype=float32]\n",
       "Coordinates:\n",
       "  * t        (t) int64 0\n",
       "  * y        (y) int64 0 1 2 3 4 5 6 7 8 9 10 11 12 13 14 15 16 17 18 19 20 ...\n",
       "  * x        (x) int64 0 1 2 3 4 5 6 7 8 9 10 11 12 13 14 15 16 17 18 19 20 ...\n",
       "  * z        (z) int64 0 1 2 3 4 5 6 7 8 9 10 11 12 13 14 15 16 17 18 19 20 ...\n",
       "Attributes:\n",
       "    standard_name: gdept\n",
       "    long_name: depth of T-grid points\n",
       "    units: m\n",
       "    positive: down"
      ]
     },
     "execution_count": 8,
     "metadata": {},
     "output_type": "execute_result"
    }
   ],
   "source": [
    "mm.gdept"
   ]
  },
  {
   "cell_type": "code",
   "execution_count": 9,
   "metadata": {
    "collapsed": false
   },
   "outputs": [
    {
     "data": {
      "text/plain": [
       "<xarray.DataArray 'tmask' (t: 1, z: 40, y: 898, x: 398)>\n",
       "[14296160 values with dtype=int8]\n",
       "Coordinates:\n",
       "  * t        (t) int64 0\n",
       "  * y        (y) int64 0 1 2 3 4 5 6 7 8 9 10 11 12 13 14 15 16 17 18 19 20 ...\n",
       "  * x        (x) int64 0 1 2 3 4 5 6 7 8 9 10 11 12 13 14 15 16 17 18 19 20 ...\n",
       "  * z        (z) int64 0 1 2 3 4 5 6 7 8 9 10 11 12 13 14 15 16 17 18 19 20 ...\n",
       "Attributes:\n",
       "    standard_name: tmask\n",
       "    long_name: mask for T-grid and W-grid\n",
       "    flag_values: 0, 1\n",
       "    flag_meaings: land, water"
      ]
     },
     "execution_count": 9,
     "metadata": {},
     "output_type": "execute_result"
    }
   ],
   "source": [
    "mm.tmask"
   ]
  },
  {
   "cell_type": "code",
   "execution_count": 10,
   "metadata": {
    "collapsed": false
   },
   "outputs": [
    {
     "data": {
      "text/plain": [
       "<xarray.DataArray 'ff' (t: 1, y: 898, x: 398)>\n",
       "[357404 values with dtype=float64]\n",
       "Coordinates:\n",
       "  * t        (t) int64 0\n",
       "  * y        (y) int64 0 1 2 3 4 5 6 7 8 9 10 11 12 13 14 15 16 17 18 19 20 ...\n",
       "  * x        (x) int64 0 1 2 3 4 5 6 7 8 9 10 11 12 13 14 15 16 17 18 19 20 ...\n",
       "Attributes:\n",
       "    standard_name: ff\n",
       "    long_name: Coriolis parameter on vorticity-grid\n",
       "    units: 1/s"
      ]
     },
     "execution_count": 10,
     "metadata": {},
     "output_type": "execute_result"
    }
   ],
   "source": [
    "mm.ff"
   ]
  },
  {
   "cell_type": "code",
   "execution_count": 11,
   "metadata": {
    "collapsed": false
   },
   "outputs": [
    {
     "data": {
      "text/plain": [
       "<xarray.DataArray 'mbathy' (t: 1, y: 898, x: 398)>\n",
       "[357404 values with dtype=int16]\n",
       "Coordinates:\n",
       "  * t        (t) int64 0\n",
       "  * y        (y) int64 0 1 2 3 4 5 6 7 8 9 10 11 12 13 14 15 16 17 18 19 20 ...\n",
       "  * x        (x) int64 0 1 2 3 4 5 6 7 8 9 10 11 12 13 14 15 16 17 18 19 20 ...\n",
       "Attributes:\n",
       "    standard_name: mbathy\n",
       "    long_name: fortran index of deepest water cell, T-grid\n",
       "    units: count"
      ]
     },
     "execution_count": 11,
     "metadata": {},
     "output_type": "execute_result"
    }
   ],
   "source": [
    "mm.mbathy"
   ]
  },
  {
   "cell_type": "markdown",
   "metadata": {},
   "source": [
    "Update dataset attributes:"
   ]
  },
  {
   "cell_type": "code",
   "execution_count": 12,
   "metadata": {
    "collapsed": true
   },
   "outputs": [],
   "source": [
    "mm.attrs['file_name'] = 'NEMO-forcing/grid/mesh_mask_SalishSea2.nc'\n",
    "mm.attrs['Conventions'] = 'CF-1.6'\n",
    "mm.attrs['title'] = 'Salish Sea NEMO Bathymetry2 Mesh Mask'\n",
    "mm.attrs['institution'] = 'Dept of Earth, Ocean & Atmospheric Sciences, University of British Columbia'\n",
    "mm.attrs['source'] = 'NEMO-3.4 Salish Sea configuration'\n",
    "mm.attrs['references'] = '''https://salishsea.eos.ubc.ca/erddap/info/\n",
    "https://bitbucket.org/salishsea/nemo-forcing/src/tip/grid/bathy_meter_SalishSea2.nc\n",
    "'''\n",
    "mm.attrs['history'] = '''Tue Sep 23 16:45:21 2014: ncks -4 -L4 -O mesh_mask.nc mesh_mask.nc\n",
    "[2016-04-20 12:00] Added metadata to variable in preparation for creation of ERDDAP datasets.\n",
    "[2016-11-09 12:14] Corrected long_name attribute values for e1t e2t, e1u, e2u, e1v, e2v, e1f, and e2f variables.'''"
   ]
  },
  {
   "cell_type": "code",
   "execution_count": 13,
   "metadata": {
    "collapsed": false
   },
   "outputs": [
    {
     "data": {
      "text/plain": [
       "OrderedDict([('file_name', 'NEMO-forcing/grid/mesh_mask_SalishSea2.nc'),\n",
       "             ('TimeStamp', '06/08/2014 10:21:26 -0700'),\n",
       "             ('history',\n",
       "              'Tue Sep 23 16:45:21 2014: ncks -4 -L4 -O mesh_mask.nc mesh_mask.nc\\n[2016-04-20 12:00] Added metadata to variable in preparation for creation of ERDDAP datasets.\\n[2016-11-09 12:14] Corrected long_name attribute values for e1t e2t, e1u, e2u, e1v, e2v, e1f, and e2f variables.'),\n",
       "             ('NCO', '4.4.2'),\n",
       "             ('Conventions', 'CF-1.6'),\n",
       "             ('title', 'Salish Sea NEMO Bathymetry2 Mesh Mask'),\n",
       "             ('institution',\n",
       "              'Dept of Earth, Ocean & Atmospheric Sciences, University of British Columbia'),\n",
       "             ('source', 'NEMO-3.4 Salish Sea configuration'),\n",
       "             ('references',\n",
       "              'https://salishsea.eos.ubc.ca/erddap/info/\\nhttps://bitbucket.org/salishsea/nemo-forcing/src/tip/grid/bathy_meter_SalishSea2.nc\\n')])"
      ]
     },
     "execution_count": 13,
     "metadata": {},
     "output_type": "execute_result"
    }
   ],
   "source": [
    "mm.attrs"
   ]
  },
  {
   "cell_type": "code",
   "execution_count": 14,
   "metadata": {
    "collapsed": true
   },
   "outputs": [],
   "source": [
    "mm.to_netcdf('foo.nc')"
   ]
  },
  {
   "cell_type": "code",
   "execution_count": null,
   "metadata": {
    "collapsed": true
   },
   "outputs": [],
   "source": []
  }
 ],
 "metadata": {
  "kernelspec": {
   "display_name": "Python 3",
   "language": "python",
   "name": "python3"
  },
  "language_info": {
   "codemirror_mode": {
    "name": "ipython",
    "version": 3
   },
   "file_extension": ".py",
   "mimetype": "text/x-python",
   "name": "python",
   "nbconvert_exporter": "python",
   "pygments_lexer": "ipython3",
   "version": "3.5.2"
  }
 },
 "nbformat": 4,
 "nbformat_minor": 0
}
