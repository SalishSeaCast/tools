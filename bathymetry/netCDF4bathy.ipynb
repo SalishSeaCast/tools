{
 "metadata": {
  "name": ""
 },
 "nbformat": 3,
 "nbformat_minor": 0,
 "worksheets": [
  {
   "cells": [
    {
     "cell_type": "markdown",
     "metadata": {},
     "source": [
      "#Explore Changing Bathymetry Data Format\n",
      "##netCDF4 Instead of netCDF3_CLASSIC"
     ]
    },
    {
     "cell_type": "code",
     "collapsed": false,
     "input": [
      "%matplotlib inline\n",
      "import netCDF4 as nc\n",
      "import numpy as np\n",
      "from salishsea_tools import bathy_tools\n",
      "from salishsea_tools import nc_tools"
     ],
     "language": "python",
     "metadata": {},
     "outputs": [],
     "prompt_number": 3
    },
    {
     "cell_type": "markdown",
     "metadata": {},
     "source": [
      "Algorithmic smoothed version of Salish Sea sub-domain bathymetry\n",
      "based on that from 2-Oct-2013 `WCSD_PREP` tarball:"
     ]
    },
    {
     "cell_type": "code",
     "collapsed": false,
     "input": [
      "bathy = nc.Dataset('../../NEMO-forcing/grid/Subdom_bathy_meter_smooth.nc', 'r')"
     ],
     "language": "python",
     "metadata": {},
     "outputs": [],
     "prompt_number": 4
    },
    {
     "cell_type": "code",
     "collapsed": false,
     "input": [
      "nc_tools.show_dataset_attrs(bathy)\n",
      "nc_tools.show_dimensions(bathy)\n",
      "nc_tools.show_variables(bathy)\n",
      "nc_tools.show_variable_attrs(bathy)"
     ],
     "language": "python",
     "metadata": {},
     "outputs": [
      {
       "output_type": "stream",
       "stream": "stdout",
       "text": [
        "file format: NETCDF3_CLASSIC\n",
        "CDI: Climate Data Interface version 1.5.9 (http://code.zmaw.de/projects/cdi)\n",
        "Conventions: CF-1.4\n",
        "history: Thu Sep 26 11:44:40 2013: cdo selindexbox,1,398,200,544 /users/staff/jppaquin/scratch/WC3_PREP/2_bathy/bathy_meter_NOBCchancomp.nc /users/staff/jppaquin/scratch/WCSD_PREP/SubDom_bathy_meter_NOBCchancomp.nc\n",
        "Fri Jul 19 16:03:29 2013: cdo setrtoc,0,4,4 ../1_Seagrid/1_bathymetry_seagrid_WestCoast.nc ./bathy_meter.nc\n",
        "CDO: Climate Data Operators version 1.5.9rc3 (http://code.zmaw.de/projects/cdo)\n",
        "<type 'netCDF4.Dimension'>: name = 'x', size = 398\n",
        "\n",
        "<type 'netCDF4.Dimension'>: name = 'y', size = 345\n",
        "\n",
        "[u'nav_lon', u'nav_lat', u'Bathymetry']\n",
        "<type 'netCDF4.Variable'>\n",
        "float32 nav_lon(y, x)\n",
        "    units: degrees_east\n",
        "unlimited dimensions: \n",
        "current shape = (345, 398)\n",
        "\n",
        "<type 'netCDF4.Variable'>\n",
        "float32 nav_lat(y, x)\n",
        "    units: degrees_north\n",
        "unlimited dimensions: \n",
        "current shape = (345, 398)\n",
        "\n",
        "<type 'netCDF4.Variable'>\n",
        "float32 Bathymetry(y, x)\n",
        "    units: metre\n",
        "    _FillValue: 0.0\n",
        "unlimited dimensions: \n",
        "current shape = (345, 398)\n",
        "\n",
        "<type 'netCDF4.Variable'>\n",
        "float32 nav_lon(y, x)\n",
        "    units: degrees_east\n",
        "unlimited dimensions: \n",
        "current shape = (345, 398)\n",
        "\n",
        "<type 'netCDF4.Variable'>\n",
        "float32 nav_lat(y, x)\n",
        "    units: degrees_north\n",
        "unlimited dimensions: \n",
        "current shape = (345, 398)\n",
        "\n",
        "<type 'netCDF4.Variable'>\n",
        "float32 Bathymetry(y, x)\n",
        "    units: metre\n",
        "    _FillValue: 0.0\n",
        "unlimited dimensions: \n",
        "current shape = (345, 398)\n",
        "\n"
       ]
      }
     ],
     "prompt_number": 6
    },
    {
     "cell_type": "markdown",
     "metadata": {},
     "source": [
      "netCDF4 bathymetry dataset we're creating:"
     ]
    },
    {
     "cell_type": "code",
     "collapsed": false,
     "input": [
      "new_bathy = nc.Dataset('subdom_bathy_meter_nc4_expt.nc', 'w')"
     ],
     "language": "python",
     "metadata": {},
     "outputs": [],
     "prompt_number": 3
    },
    {
     "cell_type": "code",
     "collapsed": false,
     "input": [
      "print new_bathy.file_format\n",
      "nc_tools.show_dataset_attrs(new_bathy)"
     ],
     "language": "python",
     "metadata": {},
     "outputs": [
      {
       "output_type": "stream",
       "stream": "stdout",
       "text": [
        "NETCDF4\n"
       ]
      }
     ],
     "prompt_number": 5
    },
    {
     "cell_type": "markdown",
     "metadata": {},
     "source": [
      "Dimensions:"
     ]
    },
    {
     "cell_type": "code",
     "collapsed": false,
     "input": [
      "new_bathy.createDimension('y', 345)\n",
      "new_bathy.createDimension('x', 398)\n",
      "nc_tools.show_dimensions(new_bathy)"
     ],
     "language": "python",
     "metadata": {},
     "outputs": [
      {
       "output_type": "stream",
       "stream": "stdout",
       "text": [
        "<type 'netCDF4.Dimension'>: name = 'y', size = 345\n",
        "\n",
        "<type 'netCDF4.Dimension'>: name = 'x', size = 398\n",
        "\n"
       ]
      }
     ],
     "prompt_number": 60
    },
    {
     "cell_type": "markdown",
     "metadata": {},
     "source": [
      "Variables and their attributes.\n",
      "\n",
      "Note that `zlib=True` for all variables\n",
      "and `least significant_digit` and `fill_value`\n",
      "are set for the depths."
     ]
    },
    {
     "cell_type": "code",
     "collapsed": false,
     "input": [
      "lons = new_bathy.createVariable('nav_lon', float, ('y', 'x'), zlib=True)\n",
      "lons.setncattr('units', 'degrees_east')\n",
      "lats = new_bathy.createVariable('nav_lat', float, ('y', 'x'), zlib=True)\n",
      "lats.setncattr('units', 'degrees_north')\n",
      "depths = new_bathy.createVariable(\n",
      "    'Bathymetry', float, ('y', 'x'), \n",
      "    zlib=True, least_significant_digit=1, fill_value=0)\n",
      "depths.setncattr('units', 'metres')"
     ],
     "language": "python",
     "metadata": {},
     "outputs": []
    },
    {
     "cell_type": "code",
     "collapsed": false,
     "input": [
      "nc_tools.show_variables(new_bathy)\n",
      "nc_tools.show_variable_attrs(new_bathy)"
     ],
     "language": "python",
     "metadata": {},
     "outputs": [
      {
       "output_type": "stream",
       "stream": "stdout",
       "text": [
        "[u'nav_lon', u'nav_lat', u'Bathymetry']\n",
        "<type 'netCDF4.Variable'>\n",
        "float64 nav_lon(y, x)\n",
        "    units: degrees_east\n",
        "unlimited dimensions: \n",
        "current shape = (345, 398)\n",
        "\n",
        "<type 'netCDF4.Variable'>\n",
        "float64 nav_lat(y, x)\n",
        "    units: degrees_north\n",
        "unlimited dimensions: \n",
        "current shape = (345, 398)\n",
        "\n",
        "<type 'netCDF4.Variable'>\n",
        "float64 Bathymetry(y, x)\n",
        "    _FillValue: 0.0\n",
        "    least_significant_digit: 1\n",
        "    units: metres\n",
        "unlimited dimensions: \n",
        "current shape = (345, 398)\n",
        "\n"
       ]
      }
     ],
     "prompt_number": 8
    },
    {
     "cell_type": "markdown",
     "metadata": {},
     "source": [
      "Copy data values from netCDF3 dataset to our new one:"
     ]
    },
    {
     "cell_type": "code",
     "collapsed": false,
     "input": [
      "lons[:] = bathy.variables['nav_lon']\n",
      "lats[:] = bathy.variables['nav_lat']\n",
      "depths[:] = bathy.variables['Bathymetry']"
     ],
     "language": "python",
     "metadata": {},
     "outputs": [],
     "prompt_number": 63
    },
    {
     "cell_type": "markdown",
     "metadata": {},
     "source": [
      "Verify the new dataset:"
     ]
    },
    {
     "cell_type": "code",
     "collapsed": false,
     "input": [
      "lat_stats = bathy_tools.min_mid_max(lats)\n",
      "lon_stats = bathy_tools.min_mid_max(lons)\n",
      "print lat_stats\n",
      "print lon_stats\n",
      "print np.min(depths), np.max(depths)"
     ],
     "language": "python",
     "metadata": {},
     "outputs": [
      {
       "output_type": "stream",
       "stream": "stdout",
       "text": [
        "(47.630783081054688, 48.702592849731445, 49.751277923583984)\n",
        "(-125.20716857910156, -123.60331344604492, -121.98944091796875)\n",
        "0.0"
       ]
      },
      {
       "output_type": "stream",
       "stream": "stdout",
       "text": [
        " 428.0\n"
       ]
      }
     ],
     "prompt_number": 9
    },
    {
     "cell_type": "code",
     "collapsed": false,
     "input": [
      "fig = bathy_tools.plot_colourmesh(new_bathy, 'Smoothed Sub-domain netCDF4')"
     ],
     "language": "python",
     "metadata": {},
     "outputs": [
      {
       "metadata": {},
       "output_type": "display_data",
       "png": "[encoded data removed]",
       "text": [
        "<matplotlib.figure.Figure at 0x1023cd810>"
       ]
      }
     ],
     "prompt_number": 10
    },
    {
     "cell_type": "code",
     "collapsed": false,
     "input": [
      "new_bathy.close()"
     ],
     "language": "python",
     "metadata": {},
     "outputs": [],
     "prompt_number": 11
    },
    {
     "cell_type": "markdown",
     "metadata": {},
     "source": [
      "The netCDF4 file is 227kb in constrast to the netCDF3 file at 1.6Mb.\n",
      "NEMO-3.4 reads the netCDF4 file without complaint."
     ]
    },
    {
     "cell_type": "code",
     "collapsed": false,
     "input": [],
     "language": "python",
     "metadata": {},
     "outputs": []
    }
   ],
   "metadata": {}
  }
 ]
}