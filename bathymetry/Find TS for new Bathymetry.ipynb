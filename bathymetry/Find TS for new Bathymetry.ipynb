{
 "metadata": {
  "name": "",
  "signature": "sha256:4297f46220f07f62430f23db3578180e8c271f5bcbd6f431e873c76691c08b6a"
 },
 "nbformat": 3,
 "nbformat_minor": 0,
 "worksheets": [
  {
   "cells": [
    {
     "cell_type": "code",
     "collapsed": false,
     "input": [
      "from __future__ import division\n",
      "import matplotlib.pyplot as plt\n",
      "import netCDF4 as nc\n",
      "import numpy as np\n",
      "from salishsea_tools import nc_tools\n",
      "from salishsea_tools import tidetools\n",
      "%matplotlib inline"
     ],
     "language": "python",
     "metadata": {},
     "outputs": [],
     "prompt_number": 9
    },
    {
     "cell_type": "code",
     "collapsed": false,
     "input": [
      "# read in old bathymetry\n",
      "nc_filepath1 = '../../NEMO-forcing/grid/bathy_meter_SalishSea2.nc'\n",
      "old_bathy = nc.Dataset(nc_filepath1, 'r')\n",
      "old_depth = old_bathy.variables['Bathymetry']"
     ],
     "language": "python",
     "metadata": {},
     "outputs": [],
     "prompt_number": 2
    },
    {
     "cell_type": "code",
     "collapsed": false,
     "input": [
      "# read in old TS, this also gives the depths of the cells\n",
      "nc_filepath2 = '/ocean/dlatorne/MEOPAR/SalishSea/results/spin-up/11apr20apr/SalishSea_01529280_restart.nc'\n",
      "TS = nc.Dataset(nc_filepath2, 'r')\n",
      "old_salinity = TS.variables['sn'][0]\n",
      "old_temperature = TS.variables['tn'][0]\n",
      "depths = TS.variables['nav_lev'][:]\n",
      "lat = TS.variables['nav_lat'][:]\n",
      "lon = TS.variables['nav_lon'][:]\n",
      "print old_salinity.shape\n",
      "print old_salinity[2,2,2]"
     ],
     "language": "python",
     "metadata": {},
     "outputs": [
      {
       "output_type": "stream",
       "stream": "stdout",
       "text": [
        "(40, 898, 398)\n",
        "0.0\n"
       ]
      }
     ],
     "prompt_number": 3
    },
    {
     "cell_type": "code",
     "collapsed": false,
     "input": [
      "# read in new bathymetry\n",
      "nc_filepath3 = '../../NEMO-forcing/grid/smoothto033.nc'\n",
      "bathy = nc.Dataset(nc_filepath3, 'r')\n",
      "depth = bathy.variables['Bathymetry']\n",
      "plt.pcolormesh(depth[300:350,250:300]-old_depth[300:350,250:300])\n",
      "plt.colorbar()"
     ],
     "language": "python",
     "metadata": {},
     "outputs": [
      {
       "metadata": {},
       "output_type": "pyout",
       "prompt_number": 4,
       "text": [
        "<matplotlib.colorbar.Colorbar instance at 0x7f881b320c20>"
       ]
      },
      {
       "metadata": {},
       "output_type": "display_data",
       "png": "[encoded data removed]",
       "text": [
        "<matplotlib.figure.Figure at 0x7f881b5ced50>"
       ]
      }
     ],
     "prompt_number": 4
    },
    {
     "cell_type": "code",
     "collapsed": false,
     "input": [
      "floor = np.empty_like(depths)\n",
      "ceil = np.empty_like(depths)\n",
      "ceil[0] = 0.\n",
      "floor[0] = 2*depths[0]\n",
      "for k in range(1,40):\n",
      "    ceil[k] = floor[k-1]\n",
      "    floor[k] = 2*depths[k] -floor[k-1]"
     ],
     "language": "python",
     "metadata": {},
     "outputs": [],
     "prompt_number": 5
    },
    {
     "cell_type": "code",
     "collapsed": false,
     "input": [
      "S = np.empty_like(old_salinity)\n",
      "T = np.empty_like(old_temperature)\n",
      "# for every cell with top of cell depth < bathymetry, use old TS, if old TS=0, find closest point and use that.\n",
      "for k in range(40):\n",
      "    print k\n",
      "    for j in range(398):\n",
      "        for i in range(898):\n",
      "            if ceil[k] < depth[i,j]:\n",
      "                if old_salinity[k,i,j] <> 0:\n",
      "                    S[k,i,j] = old_salinity[k, i, j]\n",
      "                    T[k,i,j] = old_temperature[k, i, j]\n",
      "                else:\n",
      "                    # closest neighbour thing\n",
      "                    masked_array = np.ma.array(old_salinity[k], mask = old_salinity[k] == 0)\n",
      "                    X, Y = tidetools.find_closest_model_point(lon[i,j], lat[i,j], lon, lat, masked_array)\n",
      "                    S[k, i, j] = old_salinity[k, X, Y]\n",
      "                    T[k, i, j] = old_temperature[k, X, Y]"
     ],
     "language": "python",
     "metadata": {},
     "outputs": [
      {
       "output_type": "stream",
       "stream": "stdout",
       "text": [
        "0\n",
        "1"
       ]
      },
      {
       "output_type": "stream",
       "stream": "stdout",
       "text": [
        "\n",
        "2"
       ]
      },
      {
       "output_type": "stream",
       "stream": "stdout",
       "text": [
        "\n",
        "3"
       ]
      },
      {
       "output_type": "stream",
       "stream": "stdout",
       "text": [
        "\n",
        "4"
       ]
      },
      {
       "output_type": "stream",
       "stream": "stdout",
       "text": [
        "\n",
        "5"
       ]
      },
      {
       "output_type": "stream",
       "stream": "stdout",
       "text": [
        "\n",
        "6"
       ]
      },
      {
       "output_type": "stream",
       "stream": "stdout",
       "text": [
        "\n",
        "7"
       ]
      },
      {
       "output_type": "stream",
       "stream": "stdout",
       "text": [
        "\n",
        "8"
       ]
      },
      {
       "output_type": "stream",
       "stream": "stdout",
       "text": [
        "\n",
        "9"
       ]
      },
      {
       "output_type": "stream",
       "stream": "stdout",
       "text": [
        "\n",
        "10"
       ]
      },
      {
       "output_type": "stream",
       "stream": "stdout",
       "text": [
        "\n",
        "11"
       ]
      },
      {
       "output_type": "stream",
       "stream": "stdout",
       "text": [
        "\n",
        "12"
       ]
      },
      {
       "output_type": "stream",
       "stream": "stdout",
       "text": [
        "\n",
        "13"
       ]
      },
      {
       "output_type": "stream",
       "stream": "stdout",
       "text": [
        "\n",
        "14"
       ]
      },
      {
       "output_type": "stream",
       "stream": "stdout",
       "text": [
        "\n",
        "15"
       ]
      },
      {
       "output_type": "stream",
       "stream": "stdout",
       "text": [
        "\n",
        "16"
       ]
      },
      {
       "output_type": "stream",
       "stream": "stdout",
       "text": [
        "\n",
        "17"
       ]
      },
      {
       "output_type": "stream",
       "stream": "stdout",
       "text": [
        "\n",
        "18"
       ]
      },
      {
       "output_type": "stream",
       "stream": "stdout",
       "text": [
        "\n",
        "19"
       ]
      },
      {
       "output_type": "stream",
       "stream": "stdout",
       "text": [
        "\n",
        "20"
       ]
      },
      {
       "output_type": "stream",
       "stream": "stdout",
       "text": [
        "\n",
        "21"
       ]
      },
      {
       "output_type": "stream",
       "stream": "stdout",
       "text": [
        "\n",
        "22"
       ]
      },
      {
       "output_type": "stream",
       "stream": "stdout",
       "text": [
        "\n",
        "23"
       ]
      },
      {
       "output_type": "stream",
       "stream": "stdout",
       "text": [
        "\n",
        "24"
       ]
      },
      {
       "output_type": "stream",
       "stream": "stdout",
       "text": [
        "\n",
        "25"
       ]
      },
      {
       "output_type": "stream",
       "stream": "stdout",
       "text": [
        "\n",
        "26"
       ]
      },
      {
       "output_type": "stream",
       "stream": "stdout",
       "text": [
        "\n",
        "27"
       ]
      },
      {
       "output_type": "stream",
       "stream": "stdout",
       "text": [
        "\n",
        "28"
       ]
      },
      {
       "output_type": "stream",
       "stream": "stdout",
       "text": [
        "\n",
        "29"
       ]
      },
      {
       "output_type": "stream",
       "stream": "stdout",
       "text": [
        "\n",
        "30"
       ]
      },
      {
       "output_type": "stream",
       "stream": "stdout",
       "text": [
        "\n",
        "31"
       ]
      },
      {
       "output_type": "stream",
       "stream": "stdout",
       "text": [
        "\n",
        "32"
       ]
      },
      {
       "output_type": "stream",
       "stream": "stdout",
       "text": [
        "\n",
        "33"
       ]
      },
      {
       "output_type": "stream",
       "stream": "stdout",
       "text": [
        "\n",
        "34"
       ]
      },
      {
       "output_type": "stream",
       "stream": "stdout",
       "text": [
        "\n",
        "35"
       ]
      },
      {
       "output_type": "stream",
       "stream": "stdout",
       "text": [
        "\n",
        "36"
       ]
      },
      {
       "output_type": "stream",
       "stream": "stdout",
       "text": [
        "\n",
        "37"
       ]
      },
      {
       "output_type": "stream",
       "stream": "stdout",
       "text": [
        "\n",
        "38"
       ]
      },
      {
       "output_type": "stream",
       "stream": "stdout",
       "text": [
        "\n",
        "39"
       ]
      },
      {
       "output_type": "stream",
       "stream": "stdout",
       "text": [
        "\n"
       ]
      }
     ],
     "prompt_number": 6
    },
    {
     "cell_type": "code",
     "collapsed": false,
     "input": [
      "# build nc file\n",
      "new_TS = nc.Dataset('TSforsmoothto033.nc', 'w')\n",
      "nc_tools.init_dataset_attrs(\n",
      "    new_TS, \n",
      "    title='Salinity Temperature Initial Conditions based on Spin-up April 20 for 0.33 smooth', \n",
      "    notebook_name='Find TS for new Bathymetry', \n",
      "    nc_filepath='../../../nemo-forcing/initial_strat/TSforsmoothto033.nc',\n",
      "    comment='Salinity and Temperature conditions from spin-up April 20, 2003 onto 0.33 smooth bathymetry')\n",
      "new_TS.createDimension('y', 898)\n",
      "new_TS.createDimension('x', 398)\n",
      "new_TS.createDimension('deptht',size = len(depths))\n",
      "new_TS.createDimension('time_counter', None)\n",
      "nc_tools.show_dimensions(new_TS)\n",
      "# variables\n",
      "nav_lat = new_TS.createVariable('nav_lat', 'float32', ('y','x'))\n",
      "nav_lat.long_name = 'Latitude'\n",
      "nav_lat.units = 'degrees_north'\n",
      "nav_lat = lat\n",
      "nav_lon = new_TS.createVariable('nav_lon', 'float32', ('y','x'))\n",
      "nav_lon.long_name = 'Longitude'\n",
      "nav_lon.units = 'degrees_east'\n",
      "nav_lon = lon\n",
      "deptht = new_TS.createVariable('deptht', 'float32', ('deptht'))\n",
      "deptht.long_name = 'Depth'\n",
      "deptht.units = 'm'\n",
      "deptht.positive = 'down'\n",
      "deptht.valid_range = np.array((4., 428.))\n",
      "deptht = depths\n",
      "time_counter = new_TS.createVariable('time_counter', 'float32', ('time_counter'))\n",
      "time_counter.units = 'seconds since 2003-04-20 0:00:00'\n",
      "time_counter.long_name = 'Time axis'\n",
      "vosaline = new_TS.createVariable('vosaline', 'float32', \n",
      "                               ('time_counter','deptht','y','x'))\n",
      "vosaline.units = 'none'\n",
      "vosaline.long_name = 'Practical Salinity'  \n",
      "vosaline.coordinates = 'nav_lon nav_lat deptht time_counter'\n",
      "vosaline.grid = 'SalishSea2, smooth 0.33'\n",
      "vosaline[0] = S\n",
      "votemper = new_TS.createVariable('votemper', 'float32', \n",
      "                               ('time_counter','deptht','y','x'))\n",
      "votemper.units = 'degC'\n",
      "votemper.long_name = 'Temperature' \n",
      "votemper.coordinates = 'nav_lon nav_lat deptht time_counter'\n",
      "votemper[0] = T\n",
      "new_TS.history = \"\"\"[2015-01-01] Created\"\"\""
     ],
     "language": "python",
     "metadata": {},
     "outputs": []
    },
    {
     "cell_type": "code",
     "collapsed": false,
     "input": [
      "print votemper[:].shape"
     ],
     "language": "python",
     "metadata": {},
     "outputs": [
      {
       "output_type": "stream",
       "stream": "stdout",
       "text": [
        "(1, 40, 898, 398)\n"
       ]
      }
     ],
     "prompt_number": 18
    },
    {
     "cell_type": "code",
     "collapsed": false,
     "input": [
      "new_TS.close()"
     ],
     "language": "python",
     "metadata": {},
     "outputs": [],
     "prompt_number": 19
    },
    {
     "cell_type": "code",
     "collapsed": false,
     "input": [],
     "language": "python",
     "metadata": {},
     "outputs": []
    }
   ],
   "metadata": {}
  }
 ]
}