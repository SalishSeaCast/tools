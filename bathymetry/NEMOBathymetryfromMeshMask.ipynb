{
 "cells": [
  {
   "cell_type": "markdown",
   "metadata": {},
   "source": [
    "Notebook to create a Nemo Bathymetry file for the ERDDAP server  \n",
    "Based on:   \n",
    "Nancy/NEMO depths vs bathymetry file.ipynb"
   ]
  },
  {
   "cell_type": "code",
   "execution_count": 1,
   "metadata": {
    "collapsed": true
   },
   "outputs": [],
   "source": [
    "from matplotlib.colors import BoundaryNorm\n",
    "import matplotlib.pyplot as plt\n",
    "from matplotlib.ticker import MaxNLocator\n",
    "import netCDF4 as nc\n",
    "import numpy as np \n",
    "\n",
    "from salishsea_tools import (\n",
    "    bathy_tools,\n",
    "    nc_tools,\n",
    ")\n",
    "\n",
    "%matplotlib inline"
   ]
  },
  {
   "cell_type": "code",
   "execution_count": 2,
   "metadata": {
    "collapsed": false
   },
   "outputs": [],
   "source": [
    "mesh = nc.Dataset('../../NEMO-forcing/grid/mesh_mask_SalishSea2.nc')\n",
    "mbathy = mesh.variables['mbathy'][0,:,:] \n",
    "#used to calculate number of vertical ocean grid cells at each (i,j) (1=land point)\n",
    "gdepw = mesh.variables['gdepw'][0,:,:,:]\n",
    "surface_tmask = mesh.variables['tmask'][0,0,:,:]\n",
    "surface_tmask = np.abs(surface_tmask-1)"
   ]
  },
  {
   "cell_type": "code",
   "execution_count": 3,
   "metadata": {
    "collapsed": false
   },
   "outputs": [],
   "source": [
    "NEMO_bathy = np.zeros(mbathy.shape)\n",
    "for i in range(NEMO_bathy.shape[1]):\n",
    "    for j in range(NEMO_bathy.shape[0]):\n",
    "        level = mbathy[j,i]\n",
    "        NEMO_bathy[j,i] = gdepw[level,j,i]\n",
    "NEMO_bathy = np.ma.masked_array(NEMO_bathy, mask = surface_tmask)"
   ]
  },
  {
   "cell_type": "code",
   "execution_count": 4,
   "metadata": {
    "collapsed": false
   },
   "outputs": [],
   "source": [
    "lats = mesh.variables['nav_lat'][:]\n",
    "lons = mesh.variables['nav_lon'][:]"
   ]
  },
  {
   "cell_type": "code",
   "execution_count": 5,
   "metadata": {
    "collapsed": false
   },
   "outputs": [
    {
     "name": "stdout",
     "output_type": "stream",
     "text": [
      "file format: NETCDF4\n",
      "Conventions: CF-1.6\n",
      "title: Bathymetry after NEMO Processes, SalishSea Bathymetry 2\n",
      "institution: Dept of Earth, Ocean & Atmospheric Sciences, University of British Columbia\n",
      "source: https://bitbucket.org/salishsea/tools/src/tip/bathymetry/NEMOBathymetryfromMeshMask.ipynb\n",
      "references: REQUIRED\n",
      "history: [2016-03-03 12:31:04] Created netCDF4 zlib=True dataset.\n",
      "comment: Bathymetry, Latitudes and Longitudes\n",
      "<class 'netCDF4._netCDF4.Dimension'>: name = 'y', size = 898\n",
      "\n",
      "<class 'netCDF4._netCDF4.Dimension'>: name = 'x', size = 398\n",
      "\n"
     ]
    }
   ],
   "source": [
    "# build nc file\n",
    "new_bathy = nc.Dataset('../../NEMO-forcing/grid/SalishSea2_NEMO_bathy.nc', 'w')\n",
    "nc_tools.init_dataset_attrs(\n",
    "    new_bathy, \n",
    "    title='Bathymetry after NEMO Processes, SalishSea Bathymetry 2', \n",
    "    notebook_name='NEMOBathymetryfromMeshMask', \n",
    "    nc_filepath='NEMO-forcing/grid/SalishSea2_NEMO_bathy.nc',\n",
    "    comment='Bathymetry, Latitudes and Longitudes')\n",
    "new_bathy.createDimension('y', 898)\n",
    "new_bathy.createDimension('x', 398)\n",
    "nc_tools.show_dimensions(new_bathy)\n",
    "# variables\n",
    "latitude = new_bathy.createVariable('latitude', 'float32', ('y','x'), zlib=True)\n",
    "latitude.long_name = 'Latitude'\n",
    "latitude.units = 'degrees_north'\n",
    "latitude[:] = lats\n",
    "latitude.valid_range = np.array((np.min(latitude), np.max(latitude)))\n",
    "longitude = new_bathy.createVariable('longitude', 'float32', ('y','x'), zlib=True)\n",
    "longitude.long_name = 'Longitude'\n",
    "longitude.units = 'degrees_east'\n",
    "longitude[:] = lons\n",
    "longitude.valid_range = np.array((np.min(longitude), np.max(longitude)))\n",
    "\n",
    "bathymetry = new_bathy.createVariable(\n",
    "    'bathymetry', 'float32', ('y','x'), zlib=True,\n",
    "    least_significant_digit=1, fill_value=0)\n",
    "bathymetry.units = 'm'\n",
    "bathymetry.long_name = 'Depth of Bottom'  \n",
    "bathymetry.coordinates = 'longitude latitude'\n",
    "bathymetry.grid = 'Salish Sea 2'\n",
    "bathymetry[:] = NEMO_bathy\n",
    "bathymetry.valid_range = np.array((np.min(bathymetry), np.max(bathymetry)))"
   ]
  },
  {
   "cell_type": "code",
   "execution_count": 6,
   "metadata": {
    "collapsed": true
   },
   "outputs": [],
   "source": [
    "new_bathy.history = \"\"\"[2016-02-05 16:35:19] Created dataset.\n",
    "[2016-03-02 18:08:56] Changed all variables to zlib=True.\n",
    "[2016-03-02 18:08:56] Added least_significant_digit=1 and fill_value=0 to bathymetry variable.\n",
    "[2016-03-03 12:28:37] Added valid_range attribute to all variables.\"\"\"\n",
    "new_bathy.references = 'https://bitbucket.org/salishsea/nemo-forcing/src/tipgrid/mesh_mask_SalishSea2.nc'"
   ]
  },
  {
   "cell_type": "code",
   "execution_count": 7,
   "metadata": {
    "collapsed": false
   },
   "outputs": [
    {
     "name": "stdout",
     "output_type": "stream",
     "text": [
      "file format: NETCDF4\n",
      "Conventions: CF-1.6\n",
      "title: Bathymetry after NEMO Processes, SalishSea Bathymetry 2\n",
      "institution: Dept of Earth, Ocean & Atmospheric Sciences, University of British Columbia\n",
      "source: https://bitbucket.org/salishsea/tools/src/tip/bathymetry/NEMOBathymetryfromMeshMask.ipynb\n",
      "references: https://bitbucket.org/salishsea/nemo-forcing/src/tipgrid/mesh_mask_SalishSea2.nc\n",
      "history: [2016-02-05 16:35:19] Created dataset.\n",
      "[2016-03-02 18:08:56] Changed all variables to zlib=True.\n",
      "[2016-03-02 18:08:56] Added least_significant_digit=1 and fill_value=0 to bathymetry variable.\n",
      "[2016-03-03 12:28:37] Added valid_range attribute to all variables.\n",
      "comment: Bathymetry, Latitudes and Longitudes\n"
     ]
    }
   ],
   "source": [
    "nc_tools.show_dataset_attrs(new_bathy)"
   ]
  },
  {
   "cell_type": "code",
   "execution_count": 8,
   "metadata": {
    "collapsed": false
   },
   "outputs": [
    {
     "name": "stdout",
     "output_type": "stream",
     "text": [
      "(46.859665, 49.008484, 51.104801)\n",
      "(-126.40029, -123.86369, -121.31835)\n",
      "0.0 428.0\n"
     ]
    }
   ],
   "source": [
    "print(bathy_tools.min_mid_max(latitude))\n",
    "print(bathy_tools.min_mid_max(longitude))\n",
    "print(np.min(bathymetry), np.max(bathymetry))"
   ]
  },
  {
   "cell_type": "code",
   "execution_count": 9,
   "metadata": {
    "collapsed": false
   },
   "outputs": [
    {
     "name": "stdout",
     "output_type": "stream",
     "text": [
      "[ 46.85966492  51.10480118]\n",
      "[-126.40029144 -121.31835175]\n",
      "[   0.  428.]\n"
     ]
    }
   ],
   "source": [
    "print(latitude.valid_range)\n",
    "print(longitude.valid_range)\n",
    "print(bathymetry.valid_range)"
   ]
  },
  {
   "cell_type": "code",
   "execution_count": 10,
   "metadata": {
    "collapsed": false
   },
   "outputs": [
    {
     "data": {
      "image/png": "[encoded data removed]",
      "text/plain": [
       "<matplotlib.figure.Figure at 0x7f91673a93c8>"
      ]
     },
     "metadata": {},
     "output_type": "display_data"
    }
   ],
   "source": [
    "fig = plt.figure(figsize=(9, 9))\n",
    "ax = plt.axes()\n",
    "ax.set_aspect(1 / np.cos(np.median(latitude) * np.pi / 180))\n",
    "plt.title(new_bathy.title)\n",
    "levels = MaxNLocator(nbins=15).tick_values(0, np.max(bathymetry))\n",
    "cmap = plt.get_cmap('winter_r')\n",
    "norm = BoundaryNorm(levels, ncolors=cmap.N)\n",
    "cmap.set_bad('burlywood')\n",
    "plt.pcolormesh(longitude[:], latitude[:], bathymetry[:], cmap=cmap, norm=norm)\n",
    "cbar = plt.colorbar()\n",
    "cbar.set_label('Depth [m]')"
   ]
  },
  {
   "cell_type": "code",
   "execution_count": 11,
   "metadata": {
    "collapsed": true
   },
   "outputs": [],
   "source": [
    "new_bathy.close()"
   ]
  }
 ],
 "metadata": {
  "kernelspec": {
   "display_name": "Python 3",
   "language": "python",
   "name": "python3"
  },
  "language_info": {
   "codemirror_mode": {
    "name": "ipython",
    "version": 3
   },
   "file_extension": ".py",
   "mimetype": "text/x-python",
   "name": "python",
   "nbconvert_exporter": "python",
   "pygments_lexer": "ipython3",
   "version": "3.5.1"
  }
 },
 "nbformat": 4,
 "nbformat_minor": 0
}
