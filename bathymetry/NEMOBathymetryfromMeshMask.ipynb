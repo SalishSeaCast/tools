{
 "cells": [
  {
   "cell_type": "markdown",
   "metadata": {},
   "source": [
    "Notebook to create a Nemo Bathymetry file for the ERDDAP server  \n",
    "Based on:   \n",
    "Nancy/NEMO depths vs bathymetry file.ipynb"
   ]
  },
  {
   "cell_type": "code",
   "execution_count": 10,
   "metadata": {
    "collapsed": true
   },
   "outputs": [],
   "source": [
    "import netCDF4 as nc\n",
    "import numpy as np \n",
    "import matplotlib.pyplot as plt\n",
    "\n",
    "from salishsea_tools import nc_tools\n",
    "\n",
    "%matplotlib inline"
   ]
  },
  {
   "cell_type": "code",
   "execution_count": 2,
   "metadata": {
    "collapsed": true
   },
   "outputs": [],
   "source": [
    "mesh = nc.Dataset('/data/nsoontie/MEOPAR/NEMO-forcing/grid/mesh_mask_SalishSea2.nc')\n",
    "mbathy = mesh.variables['mbathy'][0,:,:] \n",
    "#used to calculate number of vertical ocean grid cells at each (i,j) (1=land point)\n",
    "gdepw = mesh.variables['gdepw'][0,:,:,:]\n",
    "surface_tmask = mesh.variables['tmask'][0,0,:,:]\n",
    "surface_tmask = np.abs(surface_tmask-1)"
   ]
  },
  {
   "cell_type": "code",
   "execution_count": 4,
   "metadata": {
    "collapsed": false
   },
   "outputs": [],
   "source": [
    "NEMO_bathy = np.zeros(mbathy.shape)\n",
    "for i in np.arange(NEMO_bathy.shape[1]):\n",
    "    for j in np.arange(NEMO_bathy.shape[0]):\n",
    "        level = mbathy[j,i]\n",
    "        NEMO_bathy[j,i] = gdepw[level,j,i]\n",
    "NEMO_bathy = np.ma.masked_array(NEMO_bathy, mask = surface_tmask)\n"
   ]
  },
  {
   "cell_type": "code",
   "execution_count": 8,
   "metadata": {
    "collapsed": false
   },
   "outputs": [],
   "source": [
    "lats = mesh.variables['nav_lat'][:]\n",
    "lons = mesh.variables['nav_lon'][:]"
   ]
  },
  {
   "cell_type": "code",
   "execution_count": 13,
   "metadata": {
    "collapsed": false
   },
   "outputs": [
    {
     "name": "stdout",
     "output_type": "stream",
     "text": [
      "file format: NETCDF4\n",
      "Conventions: CF-1.6\n",
      "title: Bathymetry after NEMO Processes, SalishSea Bathymetry 2\n",
      "institution: Dept of Earth, Ocean & Atmospheric Sciences, University of British Columbia\n",
      "source: https://bitbucket.org/salishsea/analysis/src/tip/Susan/NEMOBathymetryfromMeshMask.ipynb\n",
      "references: REQUIRED\n",
      "history: [2016-02-06 16:35:19] Created netCDF4 zlib=True dataset.\n",
      "comment: Bathymetry, Latitudes and Longitudes\n",
      "<class 'netCDF4._netCDF4.Dimension'>: name = 'y', size = 898\n",
      "\n",
      "<class 'netCDF4._netCDF4.Dimension'>: name = 'x', size = 398\n",
      "\n"
     ]
    }
   ],
   "source": [
    "# build nc file\n",
    "new_bathy = nc.Dataset('SalishSea2_NEMO_bathy.nc', 'w')\n",
    "nc_tools.init_dataset_attrs(\n",
    "    new_bathy, \n",
    "    title='Bathymetry after NEMO Processes, SalishSea Bathymetry 2', \n",
    "    notebook_name='NEMOBathymetryfromMeshMask', \n",
    "    nc_filepath='NEMO-forcing/grid/SalishSea2_NEMO_bathy.nc',\n",
    "    comment='Bathymetry, Latitudes and Longitudes')\n",
    "new_bathy.createDimension('y', 898)\n",
    "new_bathy.createDimension('x', 398)\n",
    "nc_tools.show_dimensions(new_bathy)\n",
    "# variables\n",
    "latitude = new_bathy.createVariable('latitude', 'float32', ('y','x'))\n",
    "latitude.long_name = 'Latitude'\n",
    "latitude.units = 'degrees_north'\n",
    "latitude[:] = lats\n",
    "longitude = new_bathy.createVariable('longitude', 'float32', ('y','x'))\n",
    "longitude.long_name = 'Longitude'\n",
    "longitude.units = 'degrees_east'\n",
    "longitude[:] = lons\n",
    "\n",
    "bathymetry = new_bathy.createVariable('bathymetry', 'float32', ('y','x'))\n",
    "bathymetry.units = 'm'\n",
    "bathymetry.long_name = 'Depth of Bottom'  \n",
    "bathymetry.coordinates = 'longitude latitude'\n",
    "bathymetry.grid = 'Salish Sea 2'\n",
    "bathymetry[:] = NEMO_bathy\n",
    "\n",
    "new_bathy.history = \"\"\"[2016-02-05 Created]\"\"\""
   ]
  },
  {
   "cell_type": "code",
   "execution_count": 14,
   "metadata": {
    "collapsed": true
   },
   "outputs": [],
   "source": [
    "new_bathy.close()"
   ]
  },
  {
   "cell_type": "code",
   "execution_count": null,
   "metadata": {
    "collapsed": true
   },
   "outputs": [],
   "source": []
  }
 ],
 "metadata": {
  "kernelspec": {
   "display_name": "Python 3",
   "language": "python",
   "name": "python3"
  },
  "language_info": {
   "codemirror_mode": {
    "name": "ipython",
    "version": 3
   },
   "file_extension": ".py",
   "mimetype": "text/x-python",
   "name": "python",
   "nbconvert_exporter": "python",
   "pygments_lexer": "ipython3",
   "version": "3.5.0"
  }
 },
 "nbformat": 4,
 "nbformat_minor": 0
}
