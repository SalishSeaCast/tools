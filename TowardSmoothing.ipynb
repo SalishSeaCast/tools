{
 "metadata": {
  "name": ""
 },
 "nbformat": 3,
 "nbformat_minor": 0,
 "worksheets": [
  {
   "cells": [
    {
     "cell_type": "code",
     "collapsed": false,
     "input": [
      "%matplotlib inline\n",
      "import matplotlib.pyplot as plt\n",
      "import netCDF4 as NC\n",
      "import numpy as np"
     ],
     "language": "python",
     "metadata": {},
     "outputs": [],
     "prompt_number": 2
    },
    {
     "cell_type": "code",
     "collapsed": false,
     "input": [
      "fB = NC.Dataset('SubDom_bathy_meter_NOBCchancomp.nc','r')\n",
      "D = fB.variables['Bathymetry'][:]"
     ],
     "language": "python",
     "metadata": {},
     "outputs": [],
     "prompt_number": 3
    },
    {
     "cell_type": "code",
     "collapsed": false,
     "input": [
      "def find_max(D):\n",
      "    i,j = np.unravel_index(D.argmax(), D.shape)\n",
      "    return i,j"
     ],
     "language": "python",
     "metadata": {},
     "outputs": [],
     "prompt_number": 10
    },
    {
     "cell_type": "code",
     "collapsed": false,
     "input": [
      "def find_slope(D,di,dj):\n",
      "    imax, jmax = D.shape\n",
      "    Da = 0.5*(D[di:,dj:]+D[0:imax-di,0:jmax-dj])\n",
      "    Dd = D[di:,dj:]-D[0:imax-di,0:jmax-dj]\n",
      "    return Dd/Da"
     ],
     "language": "python",
     "metadata": {},
     "outputs": [],
     "prompt_number": 11
    },
    {
     "cell_type": "code",
     "collapsed": false,
     "input": [
      "def smooth(gamma,D,i,j,di,dj):\n",
      "    a = 0.5*(D[i,j]+D[i+di,j+dj])\n",
      "    if D[i,j] < D[i+di,j+dj]:\n",
      "        change = gamma\n",
      "    else:\n",
      "        change = -gamma\n",
      "    D[i,j] = D[i,j] + gamma*a\n",
      "    D[i+di,j+dj] = D[i+di,j+dj] - gamma*a"
     ],
     "language": "python",
     "metadata": {},
     "outputs": [],
     "prompt_number": 26
    },
    {
     "cell_type": "code",
     "collapsed": false,
     "input": [
      "gamma = 0.2\n",
      "maxslope = 0.8\n",
      "\n",
      "slopei = find_slope(D,1,0)\n",
      "i,j = find_max(slopei)\n",
      "slopej = find_slope(D,0,1)\n",
      "k,l = find_max(slopej)\n",
      "\n",
      "while np.maximum(slopei[i,j],slopej[k,l] > maxslope:\n",
      "    if slopei[i,j] > slopej[k,l]:\n",
      "        smooth(gamma,D,i,j,1,0)\n",
      "    else:\n",
      "        smooth(gamma,D,k,l,0,1)\n",
      "    slopei = find_slope(D,1,0)\n",
      "    i,j = find_max(slopei)\n",
      "    slopej = find_slope(D,0,1)\n",
      "    k,l = find_max(slopej)\n",
      "\n",
      "print slopei[i,j]\n",
      "print slopej[i,j]"
     ],
     "language": "python",
     "metadata": {},
     "outputs": [
      {
       "output_type": "stream",
       "stream": "stdout",
       "text": [
        "slope i 0.8\n",
        "slope j 0.8\n"
       ]
      }
     ],
     "prompt_number": 171
    },
    {
     "cell_type": "code",
     "collapsed": false,
     "input": [
      "Do = fB.variables['Bathymetry'][:]\n",
      "diff = Do-D\n",
      "levels = np.arange(-35, 55, 10)\n",
      "#norm = plt.cm.colors.Normalize(vmax=2.0, vmin=btm)\n",
      "\n",
      "plt.contourf(diff, levels=levels, cmap=plt.cm.bwr,)\n",
      "\n",
      "plt.colorbar()"
     ],
     "language": "python",
     "metadata": {},
     "outputs": [
      {
       "metadata": {},
       "output_type": "pyout",
       "prompt_number": 172,
       "text": [
        "<matplotlib.colorbar.Colorbar instance at 0x10a6580e0>"
       ]
      },
      {
       "metadata": {},
       "output_type": "display_data",
       "png": "[encoded data removed]",
       "text": [
        "<matplotlib.figure.Figure at 0x10b031b50>"
       ]
      }
     ],
     "prompt_number": 172
    },
    {
     "cell_type": "code",
     "collapsed": false,
     "input": [
      "np.maximum(10.9,3.6)"
     ],
     "language": "python",
     "metadata": {},
     "outputs": [
      {
       "metadata": {},
       "output_type": "pyout",
       "prompt_number": 174,
       "text": [
        "10.9"
       ]
      }
     ],
     "prompt_number": 174
    },
    {
     "cell_type": "code",
     "collapsed": false,
     "input": [],
     "language": "python",
     "metadata": {},
     "outputs": []
    }
   ],
   "metadata": {}
  }
 ]
}