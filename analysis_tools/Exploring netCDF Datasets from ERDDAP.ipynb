{
 "cells": [
  {
   "cell_type": "markdown",
   "metadata": {},
   "source": [
    "# Exploring netCDF Datasets from ERDDAP Servers\n",
    "\n",
    "This notebook provides discussion, examples, and best practices for\n",
    "working with netCDF datasets from ERDDAP servers in Python.\n",
    "Topics include:\n",
    "\n",
    "* [ERDDAP](http://coastwatch.pfeg.noaa.gov/erddap/) servers\n",
    "* The [`netcdf4-python`](http://unidata.github.io/netcdf4-python/) library\n",
    "* The [`salishsea_tools.nc_tools`](http://salishsea-meopar-tools.readthedocs.org/en/latest/SalishSeaTools/salishsea-tools.html#module-nc_tools) code module\n",
    "* Reading netCDF datasets from an ERDDAP server into Python data structures\n",
    "* Exploring netCDF dataset dimensions, variables, and attributes\n",
    "* Working with netCDF variable data as [NumPy](http://www.numpy.org/) arrays"
   ]
  },
  {
   "cell_type": "markdown",
   "metadata": {},
   "source": [
    "This notebook is a companion to the \n",
    "[Exploring netCDF Files](https://nbviewer.jupyter.org/urls/bitbucket.org/salishsea/tools/raw/tip/analysis_tools/Exploring%20netCDF%20Files.ipynb)\n",
    "notebook.\n",
    "That notebook focuses on reading data from netCDF files stored on your computer.\n",
    "\n",
    "This notebook is about reading data from netCDF datasets stored on ERDDAP servers on the Internet.\n",
    "The Salish Sea project maintains an ERDDAP server at https://salishsea.eos.ubc.ca/erddap/\n",
    "that we will use here as our data source.\n",
    "\n",
    "ERDDAP is a web application tool created by NOAA's Environmental Research Division (ERD).\n",
    "To users it is a data server that gives you a simple,\n",
    "consistent way to download subsets of scientific datasets in common file formats like netCDF.\n",
    "ERDDAP servers provide access to data both via web pages for humans,\n",
    "and [RESTful](https://en.wikipedia.org/wiki/Representational_state_transfer)\n",
    "web services for computer programs.\n",
    "\n",
    "Creating netCDF files and working with their attribute metadata is documented elsewhere:\n",
    "http://salishsea-meopar-docs.readthedocs.org/en/latest/code-notes/salishsea-nemo/nemo-forcing/netcdf4.html"
   ]
  },
  {
   "cell_type": "markdown",
   "metadata": {},
   "source": [
    "The [`netcdf4-python`](http://unidata.github.io/netcdf4-python/) library\n",
    "does all of the heavy lifting to let us work with netCDF datasets.\n",
    "Follow the link to get to the library documentation.\n",
    "The [salishsea_tools.nc_tools](http://salishsea-meopar-tools.readthedocs.org/en/latest/SalishSeaTools/salishsea-tools.html#module-nc_tools) code module provides some shortcut functions for exploring netCDF datasets.\n",
    "Let's go ahead and import those two packages.\n",
    "We'll also import `numpy` because we're going to use it later and it's good Python form\n",
    "to keep all of our imports at the top of the file.\n",
    "\n",
    "This notebook assumes that you are working in Python 3.\n",
    "If you don't have a Python 3 environment set up,\n",
    "please see our\n",
    "[Anaconda Python Distribution](http://salishsea-meopar-docs.readthedocs.org/en/latest/work_env/anaconda_python.html)\n",
    "docs for instructions on how to set one up."
   ]
  },
  {
   "cell_type": "code",
   "execution_count": 1,
   "metadata": {
    "collapsed": false
   },
   "outputs": [],
   "source": [
    "import netCDF4 as nc\n",
    "import numpy as np\n",
    "\n",
    "from salishsea_tools import nc_tools"
   ]
  },
  {
   "cell_type": "markdown",
   "metadata": {},
   "source": [
    "Note that:\n",
    "\n",
    "* By convention, we alias `netCDF4` to `nc` and `numpy` to `np`\n",
    "so that we don't have to type as much\n",
    "* For the same reason we use the `from ... import ...` form to get `nc_tools`\n",
    "so that we can avoid typing `salishsea_tools.nc_tools` everywhere"
   ]
  },
  {
   "cell_type": "markdown",
   "metadata": {},
   "source": [
    "`netCDF4` provides a `Dataset` object that allows us to load \n",
    "a netCDF dataset into a Python data structure by simply passing in the\n",
    "ERDDAP server URL and dataset ID.\n",
    "Let's explore the Salish Sea NEMO model bathymetry data:"
   ]
  },
  {
   "cell_type": "code",
   "execution_count": 2,
   "metadata": {
    "collapsed": false
   },
   "outputs": [],
   "source": [
    "grid = nc.Dataset('https://salishsea.eos.ubc.ca/erddap/griddap/ubcSSnBathymetry2V1')"
   ]
  },
  {
   "cell_type": "markdown",
   "metadata": {},
   "source": [
    "How do we know what URL to use?\n",
    "* `https://salishsea.eos.ubc.ca/erddap/` is the domain and the conventional name of an ERDDAP server.\n",
    "* `griddap` means that we want a gridded dataset (e.g. model results)\n",
    "in contrast to tabular data (e.g. observations)\n",
    "* `ubcSSnBathymetry2V1` is the dataset ID that uniquely identifies the dataset on the server\n",
    "\n",
    "You can see page that shows all of the datasets on an ERDDAP server by browsing to\n",
    "a URL like https://salishsea.eos.ubc.ca/erddap/info/."
   ]
  },
  {
   "cell_type": "markdown",
   "metadata": {},
   "source": [
    "netCDF datasets are organized around 4 big concepts:\n",
    "\n",
    "* groups\n",
    "* dimensions\n",
    "* variables\n",
    "* attributes\n",
    "\n",
    "NEMO doesn't use netCDF groups, so we'll ignore them.\n",
    "\n",
    "`nc_tools` provides useful (convenience) functions to look at the other 3."
   ]
  },
  {
   "cell_type": "code",
   "execution_count": 4,
   "metadata": {
    "collapsed": false
   },
   "outputs": [
    {
     "name": "stdout",
     "output_type": "stream",
     "text": [
      "<class 'netCDF4._netCDF4.Dimension'>: name = 'gridX', size = 398\n",
      "\n",
      "<class 'netCDF4._netCDF4.Dimension'>: name = 'gridY', size = 898\n",
      "\n"
     ]
    }
   ],
   "source": [
    "nc_tools.show_dimensions(grid)"
   ]
  },
  {
   "cell_type": "code",
   "execution_count": 5,
   "metadata": {
    "collapsed": false
   },
   "outputs": [
    {
     "name": "stdout",
     "output_type": "stream",
     "text": [
      "odict_keys(['gridY', 'gridX', 'longitude', 'latitude', 'bathymetry'])\n"
     ]
    }
   ],
   "source": [
    "nc_tools.show_variables(grid)"
   ]
  },
  {
   "cell_type": "markdown",
   "metadata": {},
   "source": [
    "So, we have a dataset that has 2 dimensions called `gridX` and `gridY`\n",
    "of size 398 and 898, respectively,\n",
    "and 5 variables called `gridY`, `gridX`, `longitude`, `latitude`, and `bathymetry`.\n",
    "We'll see how the dimensions and variables are related,\n",
    "and how to work with the data in the variables in a moment,\n",
    "but first,\n",
    "let's look at the dataset attributes:"
   ]
  },
  {
   "cell_type": "code",
   "execution_count": 6,
   "metadata": {
    "collapsed": false
   },
   "outputs": [
    {
     "name": "stdout",
     "output_type": "stream",
     "text": [
      "file format: NETCDF3_CLASSIC\n",
      "acknowledgement: MEOPAR, ONC, Compute Canada\n",
      "cdm_data_type: Grid\n",
      "comment: Bathymetry, Latitudes and Longitudes\n",
      "Conventions: CF-1.6, COARDS, ACDD-1.3\n",
      "coverage_content_type: modelResult\n",
      "creator_email: sallen@eos.ubc.ca\n",
      "creator_name: Salish Sea MEOPAR Project Contributors\n",
      "creator_url: https://salishsea-meopar-docs.readthedocs.org/\n",
      "drawLandMask: over\n",
      "history: [2016-02-05 16:35:19] Created dataset.\n",
      "[2016-03-02 18:08:56] Changed all variables to zlib=True.\n",
      "[2016-03-02 18:08:56] Added least_significant_digit=1 and fill_value=0 to bathymetry variable.\n",
      "2016-03-03T20:34:57Z (local files)\n",
      "2016-03-03T20:34:57Z http://skookum.eos.ubc.ca:8080/erddap/griddap/ubcSSnBathymetry2V1.das\n",
      "infoUrl: https://salishsea-meopar-tools.readthedocs.org/en/latest/results_server/index.html#salish-sea-model-results\n",
      "institution: UBC EOAS\n",
      "institution_fullname: Earth, Ocean & Atmospheric Sciences, University of British Columbia\n",
      "keywords: bathymetry, bottom, data, model results, depth, floor, latitude, longitude, nemo, ocean, oceans,\n",
      "Oceans > Bathymetry/Seafloor Topography > Bathymetry, salishsea, sea, sea_floor_depth, seafloor, topography\n",
      "keywords_vocabulary: GCMD Science Keywords\n",
      "license: The Salish Sea MEOPAR NEMO model results are copyright 2013-2016\n",
      "by the Salish Sea MEOPAR Project Contributors and The University of British Columbia.\n",
      "\n",
      "They are licensed under the Apache License, Version 2.0. http://www.apache.org/licenses/LICENSE-2.0\n",
      "project: Salish Sea MEOPAR NEMO Model\n",
      "references: https://bitbucket.org/salishsea/nemo-forcing/src/tipgrid/mesh_mask_SalishSea2.nc\n",
      "source: https://bitbucket.org/salishsea/tools/src/tip/bathymetry/NEMOBathymetryfromMeshMask.ipynb\n",
      "sourceUrl: (local files)\n",
      "standard_name_vocabulary: CF Standard Name Table v29\n",
      "summary: Salish Sea NEMO Model Grid, Geo-location and Bathymetry, v1\n",
      "\n",
      "Longitude, latitude, and bathymetry of the Salish Sea NEMO model grid.\n",
      "The bathymetry values are those calculated by NEMO from the input bathymetry file.\n",
      "NEMO modifies the input bathymetry to remove isolated holes, and too-small partial steps.\n",
      "The model grid includes the Juan de Fuca Strait, the Strait of Georgia, Puget Sound,\n",
      "and Johnstone Strait on the coasts of Washington State and British Columbia.\n",
      "\n",
      "v1: longitude, latitude and bathymetry variables\n",
      "title: Salish Sea NEMO Model Grid, Geo-location and Bathymetry, v1\n"
     ]
    }
   ],
   "source": [
    "nc_tools.show_dataset_attrs(grid)"
   ]
  },
  {
   "cell_type": "markdown",
   "metadata": {},
   "source": [
    "netCDF attributes are metadata.\n",
    "In the cast of the dataset attributes they tell us about the dataset as a whole:\n",
    "how, when, and by whom it was created, how it has been modified, etc.\n",
    "The meanings of the various attributes and the conventions for them that we use\n",
    "in the Salish Sea MEOPAR project are documented [elsewhere](http://salishsea-meopar-docs.readthedocs.org/en/latest/code-notes/salishsea-nemo/nemo-forcing/netcdf4.html).\n",
    "Variables also have attributes and `nc_tools` provides a function to display them too:"
   ]
  },
  {
   "cell_type": "code",
   "execution_count": 7,
   "metadata": {
    "collapsed": false
   },
   "outputs": [
    {
     "name": "stdout",
     "output_type": "stream",
     "text": [
      "<class 'netCDF4._netCDF4.Variable'>\n",
      "float32 longitude(gridY, gridX)\n",
      "    _ChunkSize: [898 398]\n",
      "    colorBarMaximum: 180.0\n",
      "    colorBarMinimum: -180.0\n",
      "    long_name: Longitude\n",
      "    standard_name: longitude\n",
      "    units: degrees_east\n",
      "unlimited dimensions: \n",
      "current shape = (898, 398)\n",
      "filling off\n",
      "\n"
     ]
    }
   ],
   "source": [
    "nc_tools.show_variable_attrs(grid, 'longitude')"
   ]
  },
  {
   "cell_type": "markdown",
   "metadata": {},
   "source": [
    "This tells us a whole lot of useful information about the longitude data values in\n",
    "our bathymetry dataset, for instance:\n",
    "\n",
    "* They are 32-bit floating point values\n",
    "* They are associated with the `gridY` and `gridX` dimensions, in that order\n",
    "* The units are degrees measured eastward (from the Greenwich meridian)\n",
    "* etc.\n",
    "\n",
    "You can list as many variable names as you want in the `show_variable_attrs()` call\n",
    "to get information about several variables at once.\n",
    "If you don't provide any variables names,\n",
    "you get the attributes of all of the variables in the dataset:"
   ]
  },
  {
   "cell_type": "code",
   "execution_count": 8,
   "metadata": {
    "collapsed": false
   },
   "outputs": [
    {
     "name": "stdout",
     "output_type": "stream",
     "text": [
      "<class 'netCDF4._netCDF4.Variable'>\n",
      "int32 gridY(gridY)\n",
      "    actual_range: [  0 897]\n",
      "    long_name: Y\n",
      "    units: count\n",
      "unlimited dimensions: \n",
      "current shape = (898,)\n",
      "filling off\n",
      "\n",
      "<class 'netCDF4._netCDF4.Variable'>\n",
      "int16 gridX(gridX)\n",
      "    actual_range: [  0 397]\n",
      "    long_name: X\n",
      "    units: count\n",
      "unlimited dimensions: \n",
      "current shape = (398,)\n",
      "filling off\n",
      "\n",
      "<class 'netCDF4._netCDF4.Variable'>\n",
      "float32 longitude(gridY, gridX)\n",
      "    _ChunkSize: [898 398]\n",
      "    colorBarMaximum: 180.0\n",
      "    colorBarMinimum: -180.0\n",
      "    long_name: Longitude\n",
      "    standard_name: longitude\n",
      "    units: degrees_east\n",
      "unlimited dimensions: \n",
      "current shape = (898, 398)\n",
      "filling off\n",
      "\n",
      "<class 'netCDF4._netCDF4.Variable'>\n",
      "float32 latitude(gridY, gridX)\n",
      "    _ChunkSize: [898 398]\n",
      "    colorBarMaximum: 90.0\n",
      "    colorBarMinimum: -90.0\n",
      "    long_name: Latitude\n",
      "    standard_name: latitude\n",
      "    units: degrees_north\n",
      "unlimited dimensions: \n",
      "current shape = (898, 398)\n",
      "filling off\n",
      "\n",
      "<class 'netCDF4._netCDF4.Variable'>\n",
      "float32 bathymetry(gridY, gridX)\n",
      "    _ChunkSize: [898 398]\n",
      "    _FillValue: 0.0\n",
      "    colorBarMaximum: 450.0\n",
      "    colorBarMinimum: 0.0\n",
      "    colorBarPalette: OceanDepth\n",
      "    grid: Salish Sea 2\n",
      "    least_significant_digit: 1.0\n",
      "    long_name: Depth of Bottom\n",
      "    standard_name: sea_floor_depth\n",
      "    units: m\n",
      "unlimited dimensions: \n",
      "current shape = (898, 398)\n",
      "filling off\n",
      "\n"
     ]
    }
   ],
   "source": [
    "nc_tools.show_variable_attrs(grid)"
   ]
  },
  {
   "cell_type": "markdown",
   "metadata": {},
   "source": [
    "Before we can go further exploring and working with the variables we need to\n",
    "associate them with Python variables names.\n",
    "We do that by accessing them by name in the `variables` attribute of our `Dataset` object.\n",
    "`variables` is a Python `dict`.\n",
    "We can use any Python variable names we like, so let's shorten them\n",
    "(being careful not to sacrifice readability for ease of typing):"
   ]
  },
  {
   "cell_type": "code",
   "execution_count": 9,
   "metadata": {
    "collapsed": false
   },
   "outputs": [],
   "source": [
    "lons = grid.variables['longitude']\n",
    "lats = grid.variables['latitude']\n",
    "bathy = grid.variables['bathymetry']"
   ]
  },
  {
   "cell_type": "markdown",
   "metadata": {},
   "source": [
    "Having done that, we can now access the attributes of our variables\n",
    "using dotted notation:"
   ]
  },
  {
   "cell_type": "code",
   "execution_count": 10,
   "metadata": {
    "collapsed": false
   },
   "outputs": [
    {
     "data": {
      "text/plain": [
       "('m', 'Depth of Bottom')"
      ]
     },
     "execution_count": 10,
     "metadata": {},
     "output_type": "execute_result"
    }
   ],
   "source": [
    "bathy.units, bathy.long_name"
   ]
  },
  {
   "cell_type": "markdown",
   "metadata": {},
   "source": [
    "Our variables are instances of the `netCDF.Variable` object.\n",
    "In addition to their attributes, they carry a bunch of other\n",
    "useful properties and methods that you can read about in the netCDF4-python docs.\n",
    "Perhaps more importantly the data associated with the variables\n",
    "are stored as NumPy arrays.\n",
    "So, we can use NumPy indexing and slicing to access the data values.\n",
    "For instance, to get the latitudes and longitudes of the 4 corners of the domain:"
   ]
  },
  {
   "cell_type": "code",
   "execution_count": 11,
   "metadata": {
    "collapsed": false
   },
   "outputs": [
    {
     "data": {
      "text/plain": [
       "(898, 398)"
      ]
     },
     "execution_count": 11,
     "metadata": {},
     "output_type": "execute_result"
    }
   ],
   "source": [
    "lats.shape"
   ]
  },
  {
   "cell_type": "code",
   "execution_count": 12,
   "metadata": {
    "collapsed": false
   },
   "outputs": [
    {
     "name": "stdout",
     "output_type": "stream",
     "text": [
      "Latitudes and longitudes of domain corners:\n",
      "  0, 0:         46.8597 -123.429\n",
      "  0, x-max:     47.6009 -121.318\n",
      "  y-max, 0:     50.3899 -126.4\n",
      "  y-max, x-max: 51.1048 -124.342\n"
     ]
    }
   ],
   "source": [
    "print('Latitudes and longitudes of domain corners:')\n",
    "pt = (0, 0)\n",
    "print('  0, 0:        ', lats[pt], lons[pt])\n",
    "pt = (0, lats.shape[1] - 1)\n",
    "print('  0, x-max:    ', lats[pt], lons[pt])\n",
    "pt = (lats.shape[0] - 1, 0)\n",
    "print('  y-max, 0:    ', lats[pt], lons[pt])\n",
    "pt = (lats.shape[0] - 1, lats.shape[1] - 1)\n",
    "print('  y-max, x-max:', lats[pt], lons[pt])"
   ]
  },
  {
   "cell_type": "markdown",
   "metadata": {},
   "source": [
    "You can also access the entire variable data array, or subsets of it using slicing.\n",
    "The `[:]` slice notation is a convenient shorthand that means \"the entire array\"."
   ]
  },
  {
   "cell_type": "code",
   "execution_count": 13,
   "metadata": {
    "collapsed": false
   },
   "outputs": [
    {
     "data": {
      "text/plain": [
       "array([[ 46.85966492,  46.86154556,  46.86342621, ...,  47.59721375,\n",
       "         47.59906769,  47.60092163],\n",
       "       [ 46.86278915,  46.86481476,  46.86677933, ...,  47.60125732,\n",
       "         47.60311127,  47.60496521],\n",
       "       [ 46.86606979,  46.86814499,  46.87015915, ...,  47.60529709,\n",
       "         47.60715485,  47.60900879],\n",
       "       ..., \n",
       "       [ 50.38191605,  50.38397598,  50.38602448, ...,  51.09400177,\n",
       "         51.09560776,  51.09720612],\n",
       "       [ 50.38591766,  50.38798523,  50.39004135, ...,  51.09781265,\n",
       "         51.0994072 ,  51.10100174],\n",
       "       [ 50.38992691,  50.39200592,  50.39406967, ...,  51.10162354,\n",
       "         51.10321808,  51.10480118]], dtype=float32)"
      ]
     },
     "execution_count": 13,
     "metadata": {},
     "output_type": "execute_result"
    }
   ],
   "source": [
    "lats[:]"
   ]
  },
  {
   "cell_type": "code",
   "execution_count": 14,
   "metadata": {
    "collapsed": false
   },
   "outputs": [
    {
     "data": {
      "text/plain": [
       "array([[-122.884552  , -122.87927246, -122.87399292, -122.86871338,\n",
       "        -122.86342621, -122.85814667, -122.85286713],\n",
       "       [-122.88778687, -122.88250732, -122.87722778, -122.87194824,\n",
       "        -122.8666687 , -122.86138916, -122.85610962],\n",
       "       [-122.89102936, -122.88574982, -122.88047028, -122.87519073,\n",
       "        -122.86991119, -122.86463165, -122.85934448]], dtype=float32)"
      ]
     },
     "execution_count": 14,
     "metadata": {},
     "output_type": "execute_result"
    }
   ],
   "source": [
    "lons[42:45, 128:135]"
   ]
  },
  {
   "cell_type": "code",
   "execution_count": 15,
   "metadata": {
    "collapsed": false
   },
   "outputs": [
    {
     "data": {
      "text/plain": [
       "(array([[-123.42943573, -123.42411804],\n",
       "        [-123.43196869, -123.42677307]], dtype=float32),\n",
       " array([[ 51.0994072 ,  51.10100174],\n",
       "        [ 51.10321808,  51.10480118]], dtype=float32))"
      ]
     },
     "execution_count": 15,
     "metadata": {},
     "output_type": "execute_result"
    }
   ],
   "source": [
    "lons[:2, :2], lats[-2:, -2:]"
   ]
  },
  {
   "cell_type": "markdown",
   "metadata": {},
   "source": [
    "Note that the zero and maximum dimension values may be omitted\n",
    "for slices that extend to the ends of array dimensions."
   ]
  },
  {
   "cell_type": "markdown",
   "metadata": {},
   "source": [
    "In some cases, like our bathymetry depths, \n",
    "the netCDF variable has a `_FillingValue` attribute value that is equal\n",
    "to values in the variable data.\n",
    "In that case the data are represented by a [NumPy Masked Array](http://docs.scipy.org/doc/numpy/reference/maskedarray.html) with the\n",
    "mask applied there the data values equal the `_FillingValue`:"
   ]
  },
  {
   "cell_type": "code",
   "execution_count": 16,
   "metadata": {
    "collapsed": false
   },
   "outputs": [
    {
     "data": {
      "text/plain": [
       "masked_array(data =\n",
       " [[-- -- -- ..., -- -- --]\n",
       " [-- -- -- ..., -- -- --]\n",
       " [-- -- -- ..., -- -- --]\n",
       " ..., \n",
       " [-- -- -- ..., -- -- --]\n",
       " [-- -- -- ..., -- -- --]\n",
       " [-- -- -- ..., -- -- --]],\n",
       "             mask =\n",
       " [[ True  True  True ...,  True  True  True]\n",
       " [ True  True  True ...,  True  True  True]\n",
       " [ True  True  True ...,  True  True  True]\n",
       " ..., \n",
       " [ True  True  True ...,  True  True  True]\n",
       " [ True  True  True ...,  True  True  True]\n",
       " [ True  True  True ...,  True  True  True]],\n",
       "       fill_value = 0.0)"
      ]
     },
     "execution_count": 16,
     "metadata": {},
     "output_type": "execute_result"
    }
   ],
   "source": [
    "bathy[:]"
   ]
  },
  {
   "cell_type": "markdown",
   "metadata": {},
   "source": [
    "You can test to see if a variables data is masked like this:"
   ]
  },
  {
   "cell_type": "code",
   "execution_count": 17,
   "metadata": {
    "collapsed": false
   },
   "outputs": [
    {
     "data": {
      "text/plain": [
       "True"
      ]
     },
     "execution_count": 17,
     "metadata": {},
     "output_type": "execute_result"
    }
   ],
   "source": [
    "np.ma.is_masked(bathy[:])"
   ]
  },
  {
   "cell_type": "markdown",
   "metadata": {},
   "source": [
    "Masked arrays are useful because require less storage than a comparable\n",
    "size fully populated array.\n",
    "Also, when masked arrays are plotted the maked values are all plotted\n",
    "in the same colour (white by default).\n",
    "We'll see in other example notebooks how this allows us to very easily \n",
    "plot our bathymetry in a meaningfully way,\n",
    "and use it,\n",
    "or other values to mask velocity component, salinity, etc. results so\n",
    "that they show values only in the water areas of the domain."
   ]
  }
 ],
 "metadata": {
  "kernelspec": {
   "display_name": "Python 3",
   "language": "python",
   "name": "python3"
  },
  "language_info": {
   "codemirror_mode": {
    "name": "ipython",
    "version": 3
   },
   "file_extension": ".py",
   "mimetype": "text/x-python",
   "name": "python",
   "nbconvert_exporter": "python",
   "pygments_lexer": "ipython3",
   "version": "3.5.1"
  }
 },
 "nbformat": 4,
 "nbformat_minor": 0
}
