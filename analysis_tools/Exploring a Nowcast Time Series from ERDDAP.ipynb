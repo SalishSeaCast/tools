{
 "cells": [
  {
   "cell_type": "markdown",
   "metadata": {},
   "source": [
    "# Exploring a Nowcast Time Series from ERDDAP\n",
    "\n",
    "This notebook contains discussion and examples of accessing a time series of\n",
    "results from the Salish Sea NEMO Nowcast system from the ERDDAP server.\n",
    "The time series of interest span several days of nowcast runs,\n",
    "so ERDDAP provides a more convenient way of accessing the results than building\n",
    "the time series by loading several single day nowcast results file.\n",
    "We'll use the [xarray](http://xarray.pydata.org/) to demonstrate it powerful\n",
    "time period selection,\n",
    "and built-in plotting features that facilitate quick dataset visualization.\n",
    "Topics include:\n",
    "\n",
    "* Opening ERDDAP datasets with `xarray`\n",
    "* Examining dataset and variable metadata\n",
    "* Creating rudimentary plots of dataset variable for quick visualization\n",
    "* Selecting single point values of variables from datasets by index and by value\n",
    "* Selecting time series slices of variables from datasets by date/time ranges"
   ]
  },
  {
   "cell_type": "markdown",
   "metadata": {},
   "source": [
    "For an introduction to accessing nowcast results datasets from our ERDDAP server,\n",
    "please see [Exploring netCDF Datasets from ERDDAP.ipynb](https://nbviewer.org/github/SalishSeaCast/tools/blob/main/analysis_tools/Exploring%20netCDF%20Datasets%20from%20ERDDAP.ipynb).\n",
    "\n",
    "For an introduction to the xarray package,\n",
    "please see [Exploring netCDF Datasets Using xarray.ipynb](https://nbviewer.org/github/SalishSeaCast/tools/blob/main/analysis_tools/Exploring%20netCDF%20Datasets%20Using%20xarray.ipynb)."
   ]
  },
  {
   "cell_type": "markdown",
   "metadata": {},
   "source": [
    "This notebook assumes that you are working in Python 3.\n",
    "If you don't have a Python 3 environment set up,\n",
    "please see our\n",
    "[Anaconda Python Distribution](http://salishsea-meopar-docs.readthedocs.org/en/latest/work_env/anaconda_python.html)\n",
    "docs for instructions on how to set one up.\n",
    "\n",
    "`xarray` and some of the packages that it depends on are not included in the default Anaconda\n",
    "collection of packages,\n",
    "so you may need to installed them explicitly:\n",
    "```\n",
    "$ conda install xarray netCDF4 bottleneck\n",
    "```\n",
    "\n",
    "[`bottleneck`](https://github.com/kwgoodman/bottleneck)\n",
    "is a package that speeds up NaN-skipping and rolling window aggregations.\n",
    "\n",
    "If you are using a version of Python earlier than 3.5\n",
    "(check with the command `python --version`),\n",
    "you should also install [`cyordereddict`](https://github.com/shoyer/cyordereddict)\n",
    "to speed internal operations with xarray data structures.\n",
    "It is not required for Python ≥3.5 because `collections.OrderedDict` has been rewritten\n",
    "in C,\n",
    "making it even faster than `cyordereddict`."
   ]
  },
  {
   "cell_type": "markdown",
   "metadata": {},
   "source": [
    "As always, we'll start with our imports, and activation of the Matplotlib `inline` backend so that our plots will appear below the cells that create them."
   ]
  },
  {
   "cell_type": "code",
   "execution_count": 1,
   "metadata": {
    "collapsed": false
   },
   "outputs": [],
   "source": [
    "import matplotlib.pyplot as plt\n",
    "import numpy as np\n",
    "import xarray as xr\n",
    "\n",
    "from salishsea_tools import (\n",
    "    geo_tools,\n",
    "    viz_tools,\n",
    "    wind_tools,\n",
    ")"
   ]
  },
  {
   "cell_type": "code",
   "execution_count": 2,
   "metadata": {
    "collapsed": true
   },
   "outputs": [],
   "source": [
    "%matplotlib inline"
   ]
  },
  {
   "cell_type": "markdown",
   "metadata": {},
   "source": [
    "First we're going to take a quick look at the Salish Sea NEMO domain\n",
    "by looking at the metadata in the dataset that contains the mapping of\n",
    "of the domain's `(x, y)` grid points to longitudes and latitudes.\n",
    "That dataset also contains the ocean depth at each of those grid points\n",
    "so we can do a quick colour mesh plot of the model bathymetry too.\n",
    "\n",
    "The list of datasets available from the Salish Sea NEMO model ERDDAP server\n",
    "is at https://salishsea.eos.ubc.ca/erddap/info/.\n",
    "From that list we choose the model grid geo-location and bathymetry dataset\n",
    "which has the dataset id `ubcSSnBathymetry2V1`.\n",
    "\n",
    "You can follow the `data` link for that dataset on the `info` page to see more\n",
    "details about the dataset at https://salishsea.eos.ubc.ca/erddap/griddap/ubcSSnBathymetry2V1.html\n",
    "but we want to work with the dataset in code,\n",
    "so we're user `xarray.open_dataset()` to access the dataset.\n",
    "Note that the URL ends with the dataset id but there is no `.html` or `.nc` extension."
   ]
  },
  {
   "cell_type": "code",
   "execution_count": 3,
   "metadata": {
    "collapsed": false
   },
   "outputs": [],
   "source": [
    "grid = xr.open_dataset('https://salishsea.eos.ubc.ca/erddap/griddap/ubcSSnBathymetry2V1')"
   ]
  },
  {
   "cell_type": "markdown",
   "metadata": {},
   "source": [
    "Opening the dataset is quick because all that is retrived from the server is the dataset\n",
    "metadata.\n",
    "We can examine the metadata by printing the variable `grid` variable that we assigned\n",
    "the result of `xarray.open_dataset()` to:"
   ]
  },
  {
   "cell_type": "code",
   "execution_count": 4,
   "metadata": {
    "collapsed": false
   },
   "outputs": [
    {
     "name": "stdout",
     "output_type": "stream",
     "text": [
      "<xarray.Dataset>\n",
      "Dimensions:     (gridX: 398, gridY: 898)\n",
      "Coordinates:\n",
      "  * gridY       (gridY) int32 0 1 2 3 4 5 6 7 8 9 10 11 12 13 14 15 16 17 18 ...\n",
      "  * gridX       (gridX) int16 0 1 2 3 4 5 6 7 8 9 10 11 12 13 14 15 16 17 18 ...\n",
      "Data variables:\n",
      "    longitude   (gridY, gridX) float32 ...\n",
      "    latitude    (gridY, gridX) float32 ...\n",
      "    bathymetry  (gridY, gridX) float64 ...\n",
      "Attributes:\n",
      "    acknowledgement: MEOPAR, ONC, Compute Canada\n",
      "    cdm_data_type: Grid\n",
      "    comment: Bathymetry, Latitudes and Longitudes\n",
      "    Conventions: CF-1.6, COARDS, ACDD-1.3\n",
      "    coverage_content_type: modelResult\n",
      "    creator_email: sallen@eos.ubc.ca\n",
      "    creator_name: Salish Sea MEOPAR Project Contributors\n",
      "    creator_url: https://salishsea-meopar-docs.readthedocs.org/\n",
      "    drawLandMask: over\n",
      "    history: [2016-02-05 16:35:19] Created dataset.\n",
      "[2016-03-02 18:08:56] Changed all variables to zlib=True.\n",
      "[2016-03-02 18:08:56] Added least_significant_digit=1 and fill_value=0 to bathymetry variable.\n",
      "[2016-03-03 12:28:37] Added valid_range attribute to all variables.\n",
      "2016-06-06T18:31:47Z (local files)\n",
      "2016-06-06T18:31:47Z https://salishsea.eos.ubc.ca/erddap/griddap/ubcSSnBathymetry2V1.das\n",
      "    infoUrl: https://salishsea-meopar-tools.readthedocs.org/en/latest/results_server/index.html#salish-sea-model-results\n",
      "    institution: UBC EOAS\n",
      "    institution_fullname: Earth, Ocean & Atmospheric Sciences, University of British Columbia\n",
      "    keywords: bathymetry, bottom, data, model results, depth, floor, latitude, longitude, nemo, ocean, oceans,\n",
      "Oceans > Bathymetry/Seafloor Topography > Bathymetry, salishsea, sea, sea_floor_depth, seafloor, topography\n",
      "    keywords_vocabulary: GCMD Science Keywords\n",
      "    license: The Salish Sea MEOPAR NEMO model results are copyright 2013-2021\n",
      "by the Salish Sea MEOPAR Project Contributors and The University of British Columbia.\n",
      "\n",
      "They are licensed under the Apache License, Version 2.0. http://www.apache.org/licenses/LICENSE-2.0\n",
      "    project: Salish Sea MEOPAR NEMO Model\n",
      "    references: https://bitbucket.org/salishsea/nemo-forcing/src/tipgrid/mesh_mask_SalishSea2.nc\n",
      "    source: https://github.com/SalishSeaCast/tools/blob/master/bathymetry/NEMOBathymetryfromMeshMask.ipynb\n",
      "    sourceUrl: (local files)\n",
      "    standard_name_vocabulary: CF Standard Name Table v29\n",
      "    summary: Salish Sea NEMO Model Grid, Geo-location and Bathymetry, v1\n",
      "\n",
      "Longitude, latitude, and bathymetry of the Salish Sea NEMO model grid.\n",
      "The bathymetry values are those calculated by NEMO from the input bathymetry file.\n",
      "NEMO modifies the input bathymetry to remove isolated holes, and too-small partial steps.\n",
      "The model grid includes the Juan de Fuca Strait, the Strait of Georgia, Puget Sound,\n",
      "and Johnstone Strait on the coasts of Washington State and British Columbia.\n",
      "\n",
      "v1: longitude, latitude and b...\n",
      "    title: Salish Sea NEMO Model Grid, Geo-location and Bathymetry, v1\n"
     ]
    }
   ],
   "source": [
    "print(grid)"
   ]
  },
  {
   "metadata": {},
   "cell_type": "markdown",
   "source": [
    "The [Exploring netCDF Datasets Using xarray.ipynb](https://nbviewer.org/github/SalishSeaCast/tools/blob/main/analysis_tools/Exploring%20netCDF%20Datasets%20Using%20xarray.ipynb)\n",
    "notebook has details about the types of metadata and how to access individual elements of it.\n",
    "\n",
    "For now we're going to use the plotting interface that is built into `xarray.Dataset` objects\n",
    "to take a look at the domain.\n",
    "\n",
    "The `grid.bathymetry.plot()` would produce a plot all by itself.\n",
    "The extra statements around it are to make the plot larger,\n",
    "present it with the correct aspect ratio,\n",
    "and add a grid."
   ]
  },
  {
   "metadata": {},
   "cell_type": "code",
   "outputs": [],
   "execution_count": null,
   "source": [
    "fig, ax = plt.subplots(figsize=(10, 10))\n",
    "viz_tools.set_aspect(ax)\n",
    "grid.bathymetry.plot(ax=ax)\n",
    "ax.grid(axis='both')"
   ]
  },
  {
   "cell_type": "markdown",
   "metadata": {},
   "source": [
    "Now let's take a look at a sea surface temperature time series\n",
    "at the `(gridY, gridX) = (500, 250)` point in the middle of\n",
    "the Strait of Georgia.\n",
    "Having decided on the grid point that we want to look at,\n",
    "let's store it in a variable:"
   ]
  },
  {
   "cell_type": "code",
   "execution_count": 6,
   "metadata": {
    "collapsed": true
   },
   "outputs": [],
   "source": [
    "nemo_ji = (500, 250)"
   ]
  },
  {
   "cell_type": "markdown",
   "metadata": {},
   "source": [
    "The water temperature calculated by the model is stored in the `ubcSSn3DTracerFields1hV1` dataset:"
   ]
  },
  {
   "cell_type": "code",
   "execution_count": 7,
   "metadata": {
    "collapsed": false
   },
   "outputs": [
    {
     "name": "stdout",
     "output_type": "stream",
     "text": [
      "<xarray.Dataset>\n",
      "Dimensions:      (depth: 40, gridX: 398, gridY: 898, time: 14904)\n",
      "Coordinates:\n",
      "  * time         (time) datetime64[ns] 2014-09-24T00:30:00 ...\n",
      "  * depth        (depth) float32 0.5 1.5 2.50001 3.50003 4.50007 5.50015 ...\n",
      "  * gridY        (gridY) int16 0 1 2 3 4 5 6 7 8 9 10 11 12 13 14 15 16 17 ...\n",
      "  * gridX        (gridX) int16 0 1 2 3 4 5 6 7 8 9 10 11 12 13 14 15 16 17 ...\n",
      "Data variables:\n",
      "    salinity     (time, depth, gridY, gridX) float64 ...\n",
      "    temperature  (time, depth, gridY, gridX) float64 ...\n",
      "Attributes:\n",
      "    acknowledgement: MEOPAR, ONC, Compute Canada\n",
      "    cdm_data_type: Grid\n",
      "    Conventions: CF-1.6, COARDS, ACDD-1.3\n",
      "    coverage_content_type: modelResult\n",
      "    creator_email: sallen@eos.ubc.ca\n",
      "    creator_name: Salish Sea MEOPAR Project Contributors\n",
      "    creator_url: https://salishsea-meopar-docs.readthedocs.org/\n",
      "    drawLandMask: over\n",
      "    file_name: SalishSea_1h_20160605_20160605_grid_T.nc\n",
      "    history: Sun Jun  5 16:21:54 2016: ncks -4 -L4 -O SalishSea_1h_20160605_20160605_grid_T.nc SalishSea_1h_20160605_20160605_grid_T.nc\n",
      "2016-06-06T18:32:07Z (local files)\n",
      "2016-06-06T18:32:07Z https://salishsea.eos.ubc.ca/erddap/griddap/ubcSSn3DTracerFields1hV1.das\n",
      "    infoUrl: https://salishsea-meopar-tools.readthedocs.org/en/latest/results_server/index.html#salish-sea-model-results\n",
      "    institution: UBC EOAS\n",
      "    institution_fullname: Earth, Ocean & Atmospheric Sciences, University of British Columbia\n",
      "    keywords: model results, density, deptht, local, ocean, oceans,\n",
      "Oceans > Salinity/Density > Salinity,\n",
      "practical, salinity, sea, sea_water_practical_salinity, seawater, source, temperature, time_counter, vosaline, votemper, water\n",
      "    keywords_vocabulary: GCMD Science Keywords\n",
      "    license: The Salish Sea MEOPAR NEMO model results are copyright 2013-2021\n",
      "by the Salish Sea MEOPAR Project Contributors and The University of British Columbia.\n",
      "\n",
      "They are licensed under the Apache License, Version 2.0. http://www.apache.org/licenses/LICENSE-2.0\n",
      "    NCO: 4.4.2\n",
      "    production: An IPSL model\n",
      "    project: Salish Sea MEOPAR NEMO Model\n",
      "    sourceUrl: (local files)\n",
      "    standard_name_vocabulary: CF Standard Name Table v29\n",
      "    summary: Nowcast, Salish Sea, 3d Tracer Fields, Hourly, v1\n",
      "\n",
      "3d salinity and water temperature field values averaged over 1 hour intervals\n",
      "from Salish Sea NEMO model nowcast runs. The values are calculated for the entire model grid\n",
      "that includes the Juan de Fuca Strait, the Strait of Georgia, Puget Sound,\n",
      "and Johnstone Strait on the coasts of Washington State and British Columbia.\n",
      "\n",
      "v1: longitude, latitude, salinity (practical), and temperature variables\n",
      "    time_coverage_end: 2016-06-05T23:30:00Z\n",
      "    time_coverage_start: 2014-09-24T00:30:00Z\n",
      "    TimeStamp: 05/06/2016 16:03:27 -0700\n",
      "    title: Nowcast, Salish Sea, 3d Tracer Fields, Hourly, v1\n"
     ]
    }
   ],
   "source": [
    "tracers = xr.open_dataset('https://salishsea.eos.ubc.ca/erddap/griddap/ubcSSn3DTracerFields1hV1')\n",
    "print(tracers)"
   ]
  },
  {
   "cell_type": "markdown",
   "metadata": {},
   "source": [
    "Let's use the Python `slice()` built-in to define the time period for our time series.\n",
    "\n",
    "Then we use the `.sel()` and `.isel()` methods on our dataset variable to a time series\n",
    "at:\n",
    "* the depth level nearest the surface (0.5 m)\n",
    "* the `(gridY, gridX)` point we chose above\n",
    "* the time period we're interested in\n",
    "\n",
    "`.sel()` is used to select by variable values.\n",
    "`.isel()` is used to select by data array indices."
   ]
  },
  {
   "cell_type": "code",
   "execution_count": 8,
   "metadata": {
    "collapsed": false
   },
   "outputs": [],
   "source": [
    "time_slice = slice('2016-04-12 12:00:00', '2016-04-15 12:00:00')\n",
    "\n",
    "sst_ts = (\n",
    "    tracers.temperature\n",
    "    .sel(depth=0.5, method='nearest')\n",
    "    .isel(gridY=nemo_ji[0], gridX=nemo_ji[1])\n",
    "    .sel(time=time_slice)\n",
    ")"
   ]
  },
  {
   "cell_type": "code",
   "execution_count": 9,
   "metadata": {
    "collapsed": false
   },
   "outputs": [
    {
     "name": "stdout",
     "output_type": "stream",
     "text": [
      "<xarray.DataArray 'temperature' (time: 72)>\n",
      "array([ 10.32647896,  10.31182003,  10.29314327,  10.27291679,\n",
      "        10.24502754,  10.21254921,  10.20513344,  10.22968483,\n",
      "        10.25965405,  10.28726673,  10.3109436 ,  10.31446552,\n",
      "        10.30096149,  10.27960873,  10.25584126,  10.23131561,\n",
      "        10.21692562,  10.21260738,  10.20860863,  10.19730568,\n",
      "        10.18265343,  10.16810799,  10.15409946,  10.14090729,\n",
      "        10.12986755,  10.12731171,  10.12561607,  10.11983299,\n",
      "        10.11456394,  10.10525227,  10.10963058,  10.12554932,\n",
      "        10.14661407,  10.16364193,  10.1686697 ,  10.17202663,\n",
      "        10.17286396,  10.16785336,  10.15109825,  10.11667442,\n",
      "        10.07461452,  10.04056072,  10.01904583,  10.00424671,\n",
      "         9.99383259,   9.99546432,   9.99157524,   9.9837141 ,\n",
      "         9.97451019,   9.9607048 ,   9.94492912,   9.93665409,\n",
      "         9.9361124 ,   9.94130993,   9.96282959,  10.00479698,\n",
      "        10.04234219,  10.07499599,  10.10446739,  10.12510204,\n",
      "        10.14573383,  10.17908192,  10.22210979,  10.26771069,\n",
      "        10.30044746,  10.2887392 ,  10.25901127,  10.22126007,\n",
      "        10.17931557,  10.13547421,  10.09255886,  10.05157852])\n",
      "Coordinates:\n",
      "  * time     (time) datetime64[ns] 2016-04-12T12:30:00 2016-04-12T13:30:00 ...\n",
      "    depth    float32 ...\n",
      "    gridY    int16 ...\n",
      "    gridX    int16 ...\n",
      "Attributes:\n",
      "    colorBarMaximum: 40.0\n",
      "    colorBarMinimum: -10.0\n",
      "    interval_operation: 10.0\n",
      "    interval_write: 3600.0\n",
      "    ioos_category: Temperature\n",
      "    long_name: temperature\n",
      "    online_operation: ave(X)\n",
      "    units: degC\n"
     ]
    }
   ],
   "source": [
    "print(sst_ts)"
   ]
  },
  {
   "cell_type": "markdown",
   "metadata": {},
   "source": [
    "Again,\n",
    "we'll use the built-in `xarray.Dataset.plot()` method to quickly visualize\n",
    "out temperature time series,\n",
    "with a couple of matplotlib lines added to change the size of the plot\n",
    "and add grid lines to the x-axis."
   ]
  },
  {
   "cell_type": "code",
   "execution_count": 10,
   "metadata": {
    "collapsed": false
   },
   "outputs": [
    {
     "data": {
      "image/png": "[encoded data removed]",
      "text/plain": [
       "<matplotlib.figure.Figure at 0x7f4aa774e588>"
      ]
     },
     "metadata": {},
     "output_type": "display_data"
    }
   ],
   "source": [
    "fig, ax = plt.subplots(figsize=(18, 3))\n",
    "sst_ts.plot(ax=ax)\n",
    "ax.grid(axis='x')"
   ]
  },
  {
   "cell_type": "markdown",
   "metadata": {},
   "source": [
    "Now we'll get the longitude and latitude of our point of interest from the `grid` dataset:"
   ]
  },
  {
   "cell_type": "code",
   "execution_count": 11,
   "metadata": {
    "collapsed": false
   },
   "outputs": [
    {
     "name": "stdout",
     "output_type": "stream",
     "text": [
      "(-123.7665023803711, 49.30873107910156)\n"
     ]
    }
   ],
   "source": [
    "nemo_lon = grid.longitude.isel(gridY=nemo_ji[0], gridX=nemo_ji[1])\n",
    "nemo_lat = grid.latitude.isel(gridY=nemo_ji[0], gridX=nemo_ji[1])\n",
    "nemo_lon_lat = (np.asscalar(nemo_lon.values), np.asscalar(nemo_lat))\n",
    "print(nemo_lon_lat)"
   ]
  },
  {
   "cell_type": "markdown",
   "metadata": {},
   "source": [
    "Let's compare the sea surface temperature to the wind speed that was used to force\n",
    "the model during the same time period.\n",
    "\n",
    "The atmospheric forcing that is used for the nowcast system is\n",
    "a processed model product from the Environment and Climate Change Canada\n",
    "High Resolution Deterministic Prediction System (HDRPS) GEM 2.5 km resolution model.\n",
    "As was the case for the NEMO model results,\n",
    "the grid parameters for the atmospheric forcing\n",
    "(different from those for the NEMO model)\n",
    "are stored in a separate dataset from the model product variable values.\n",
    "\n",
    "We start by opening and examining the atmospheric forcing grid dataset:"
   ]
  },
  {
   "cell_type": "code",
   "execution_count": 12,
   "metadata": {
    "collapsed": false
   },
   "outputs": [
    {
     "name": "stdout",
     "output_type": "stream",
     "text": [
      "<xarray.Dataset>\n",
      "Dimensions:    (gridX: 256, gridY: 266)\n",
      "Coordinates:\n",
      "  * gridY      (gridY) float64 0.0 2.5e+03 5e+03 7.5e+03 1e+04 1.25e+04 ...\n",
      "  * gridX      (gridX) float64 0.0 2.5e+03 5e+03 7.5e+03 1e+04 1.25e+04 ...\n",
      "Data variables:\n",
      "    longitude  (gridY, gridX) float32 ...\n",
      "    latitude   (gridY, gridX) float32 ...\n",
      "Attributes:\n",
      "    acknowledgement: Environment Canada, MEOPAR, ONC, Compute Canada\n",
      "    cdm_data_type: Grid\n",
      "    Conventions: CF-1.6, COARDS, ACDD-1.3\n",
      "    coverage_content_type: modelResult\n",
      "    creator_email: sallen@eos.ubc.ca\n",
      "    creator_name: Salish Sea MEOPAR Project Contributors\n",
      "    creator_url: https://salishsea-meopar-docs.readthedocs.org/\n",
      "    drawLandMask: over\n",
      "    GRIB2_grid_template: 20\n",
      "    history: Mon Mar  7 10:07:34 2016: ncks -4 -L4 -O /results/forcing/atmospheric/GEM2.5/operational/ops_y2016m03d07.nc /results/forcing/atmospheric/GEM2.5/operational/ops_y2016m03d07.nc\n",
      "    created by wgrib2\n",
      "2016-06-06T18:32:50Z (local files)\n",
      "2016-06-06T18:32:50Z https://salishsea.eos.ubc.ca/erddap/griddap/ubcSSaAtmosphereGridV1.das\n",
      "    infoUrl: https://salishsea-meopar-tools.readthedocs.org/en/latest/results_server/index.html#salish-sea-model-results\n",
      "    institution: UBC EOAS\n",
      "    institution_fullname: Earth, Ocean & Atmospheric Sciences, University of British Columbia\n",
      "    keywords: atmosphere, model results, HRDPS, latitude, longitude, salishsea\n",
      "    keywords_vocabulary: GCMD Science Keywords\n",
      "    license: The Salish Sea MEOPAR NEMO model results are copyright 2013-2021\n",
      "by the Salish Sea MEOPAR Project Contributors and The University of British Columbia.\n",
      "\n",
      "They are licensed under the Apache License, Version 2.0. http://www.apache.org/licenses/LICENSE-2.0\n",
      "\n",
      "This dataset is derived from a product of the Environment Canada HRDPS (High Resolution Deterministic Prediction System) model. The Terms and conditions of use of Meteorological Data from Environment Canada are available at http://dd.weather.gc...\n",
      "    NCO: 4.4.2\n",
      "    project: Salish Sea MEOPAR NEMO Model\n",
      "    sourceUrl: (local files)\n",
      "    standard_name_vocabulary: CF Standard Name Table v29\n",
      "    summary: HRDPS, Salish Sea, Atmospheric Forcing Grid, Geo-location, v1\n",
      "\n",
      "Longitude and latitude of the Environment Canada HRDPS atmospheric forcing model grid that is used to force the Salish Sea NEMO model.\n",
      "The model grid includes the Juan de Fuca Strait, the Strait of Georgia, Puget Sound,\n",
      "and Johnstone Strait on the coasts of Washington State and British Columbia.\n",
      "\n",
      "v1: longitude and latitude variables\n",
      "    title: HRDPS, Salish Sea, Atmospheric Forcing Grid, Geo-location, v1\n"
     ]
    }
   ],
   "source": [
    "atmos_grid = xr.open_dataset('https://salishsea.eos.ubc.ca/erddap/griddap/ubcSSaAtmosphereGridV1')\n",
    "print(atmos_grid)"
   ]
  },
  {
   "cell_type": "markdown",
   "metadata": {},
   "source": [
    "Now we'll use a library function\n",
    "[salishsea_tools.geo_tools.find_closest_model_point()](http://salishsea-meopar-tools.readthedocs.io/en/latest/SalishSeaTools/api.html#salishsea_tools.geo_tools.find_closest_model_point)\n",
    "to find the indices of the atmospheric forcing grid point that is closest to\n",
    "our the longitude and latitude of our NEMO grid point of interest.\n",
    "Note that the atmospheric grid uses a longitude range of 0° to 360° east\n",
    "in contrast to the NEMO range of -180° to 180° east,\n",
    "so we subtract 360° from the atmospheric longitudes to bring them to the same basis."
   ]
  },
  {
   "cell_type": "code",
   "execution_count": 13,
   "metadata": {
    "collapsed": false
   },
   "outputs": [
    {
     "name": "stdout",
     "output_type": "stream",
     "text": [
      "(148, 139)\n"
     ]
    }
   ],
   "source": [
    "atmos_ji = geo_tools.find_closest_model_point(\n",
    "    nemo_lon_lat[0], nemo_lon_lat[1],\n",
    "    atmos_grid.longitude.values - 360, atmos_grid.latitude.values,\n",
    "    grid = \"GEM2.5\")\n",
    "print(atmos_ji)"
   ]
  },
  {
   "cell_type": "markdown",
   "metadata": {},
   "source": [
    "Confirming that our atmospheric forcing and NEMO model grid points are\n",
    "indeed close:"
   ]
  },
  {
   "cell_type": "code",
   "execution_count": 14,
   "metadata": {
    "collapsed": false
   },
   "outputs": [
    {
     "name": "stdout",
     "output_type": "stream",
     "text": [
      "NEMO: (-123.7665023803711, 49.30873107910156)\n",
      "GEM2.5: (-123.42138671875, 49.31491470336914)\n"
     ]
    }
   ],
   "source": [
    "atmos_lon_lat = (\n",
    "    np.asscalar(atmos_grid.longitude.isel(gridY=atmos_ji[1], gridX=atmos_ji[0]) - 360),\n",
    "    np.asscalar(atmos_grid.latitude.isel(gridY=atmos_ji[0], gridX=atmos_ji[1])))\n",
    "print('NEMO:', nemo_lon_lat)\n",
    "print('GEM2.5:', atmos_lon_lat)"
   ]
  },
  {
   "cell_type": "markdown",
   "metadata": {},
   "source": [
    "Opening and examing the GEM2.5 model variables dataset:"
   ]
  },
  {
   "cell_type": "code",
   "execution_count": 15,
   "metadata": {
    "collapsed": false
   },
   "outputs": [
    {
     "name": "stdout",
     "output_type": "stream",
     "text": [
      "<xarray.Dataset>\n",
      "Dimensions:    (gridX: 256, gridY: 266, time: 15192)\n",
      "Coordinates:\n",
      "  * time       (time) datetime64[ns] 2014-09-12 2014-09-12T01:00:00 ...\n",
      "  * gridY      (gridY) float64 0.0 2.5e+03 5e+03 7.5e+03 1e+04 1.25e+04 ...\n",
      "  * gridX      (gridX) float64 0.0 2.5e+03 5e+03 7.5e+03 1e+04 1.25e+04 ...\n",
      "Data variables:\n",
      "    atmpres    (time, gridY, gridX) float64 ...\n",
      "    precip     (time, gridY, gridX) float64 ...\n",
      "    qair       (time, gridY, gridX) float64 ...\n",
      "    solar      (time, gridY, gridX) float64 ...\n",
      "    tair       (time, gridY, gridX) float64 ...\n",
      "    therm_rad  (time, gridY, gridX) float64 ...\n",
      "    u_wind     (time, gridY, gridX) float64 ...\n",
      "    v_wind     (time, gridY, gridX) float64 ...\n",
      "Attributes:\n",
      "    acknowledgement: MEOPAR, ONC, Compute Canada, Environment Canada\n",
      "    cdm_data_type: Grid\n",
      "    Conventions: CF-1.6, COARDS, ACDD-1.3\n",
      "    coverage_content_type: modelResult\n",
      "    creator_email: sallen@eos.ubc.ca\n",
      "    creator_name: Salish Sea MEOPAR Project Contributors\n",
      "    creator_url: https://salishsea-meopar-docs.readthedocs.org/\n",
      "    drawLandMask: over\n",
      "    GRIB2_grid_template: 20\n",
      "    history: Thu Mar 10 10:11:37 2016: ncks -4 -L4 -O /results/forcing/atmospheric/GEM2.5/operational/ops_y2016m03d10.nc /results/forcing/atmospheric/GEM2.5/operational/ops_y2016m03d10.nc\n",
      "created by wgrib2\n",
      "2016-06-06T18:33:18Z (local files)\n",
      "2016-06-06T18:33:18Z https://salishsea.eos.ubc.ca/erddap/griddap/ubcSSaSurfaceAtmosphereFieldsV1.das\n",
      "    infoUrl: https://salishsea-meopar-tools.readthedocs.org/en/latest/results_server/index.html#salish-sea-model-results\n",
      "    institution: UBC EOAS\n",
      "    institution_fullname: Earth, Ocean & Atmospheric Sciences, University of British Columbia\n",
      "    keywords: atmosphere,\n",
      "Atmosphere > Atmospheric Water Vapor > Humidity,\n",
      "atmospheric, atmpres, component, data, downward, flux, humidity, level, local, long, long-wave, mean, msl, precipitation, pressure, qair, rad, radiation, rain, rainfall, reduced, sea, seawater, short, short-wave, solar, source, specific, specific_humidity, tair, temperature, therm_rad, time_counter, total, u-component, u_wind, v-component, v_wind, vapor, water, wave, wind\n",
      "    keywords_vocabulary: GCMD Science Keywords\n",
      "    license: The Salish Sea MEOPAR NEMO model results are copyright 2013-2021\n",
      "by the Salish Sea MEOPAR Project Contributors and The University of British Columbia.\n",
      "\n",
      "They are licensed under the Apache License, Version 2.0. http://www.apache.org/licenses/LICENSE-2.0\n",
      "\n",
      "This dataset is derived from a product of the Environment Canada HRDPS (High Resolution Deterministic Prediction System)\n",
      "model. The Terms and conditions of use of Meteorological Data from Environment Canada are available at\n",
      "http://dd.weather.gc...\n",
      "    NCO: 4.4.2\n",
      "    project: Salish Sea MEOPAR NEMO Model\n",
      "    sourceUrl: (local files)\n",
      "    standard_name_vocabulary: CF Standard Name Table v29\n",
      "    summary: HRDPS, Salish Sea, Atmospheric Forcing Fields, Hourly, v1\n",
      "\n",
      "2d hourly atmospheric field values from the\n",
      "Environment Canada HRDPS atmospheric forcing model that are used to force the Salish Sea NEMO model.\n",
      "The model grid includes the Juan de Fuca Strait, the Strait of Georgia, Puget Sound,\n",
      "and Johnstone Strait on the coasts of Washington State and British Columbia.\n",
      "Geo-location data for the atmospheric forcing grid are available in the ubcSSaAtmosphereGridV1 dataset.\n",
      "Atmospheric field values ar...\n",
      "    time_coverage_end: 2016-06-05T23:00:00Z\n",
      "    time_coverage_start: 2014-09-12T00:00:00Z\n",
      "    title: HRDPS, Salish Sea, Atmospheric Forcing Fields, Hourly, v1\n"
     ]
    }
   ],
   "source": [
    "atmos = xr.open_dataset('https://salishsea.eos.ubc.ca/erddap/griddap/ubcSSaSurfaceAtmosphereFieldsV1')\n",
    "print(atmos)"
   ]
  },
  {
   "cell_type": "markdown",
   "metadata": {},
   "source": [
    "We use similar selection method to those we used to get our sea surface temperature\n",
    "time series to get time series of the `u` and `v` direction wind components\n",
    "and the wind speed by calculating their vector magnitude point-by-point:"
   ]
  },
  {
   "cell_type": "code",
   "execution_count": 16,
   "metadata": {
    "collapsed": false
   },
   "outputs": [
    {
     "name": "stdout",
     "output_type": "stream",
     "text": [
      "<xarray.DataArray 'u_wind' (time: 73)>\n",
      "array([-1.05917239, -3.04814696, -4.96694756, -4.78094864, -6.76331902,\n",
      "       -5.63688517, -4.6332531 , -5.78558493, -5.37458658, -5.68006086,\n",
      "       -8.85669804, -5.06238031, -6.38645267, -9.4808321 , -9.28648663,\n",
      "       -0.82977903, -2.1348455 , -2.02301145, -2.09442878, -0.82522279,\n",
      "        0.18815552, -0.35409728, -0.70026857, -0.92308348,  0.0968042 ,\n",
      "       -7.23134899, -7.44315195, -5.77181149, -5.50816774, -9.00427341,\n",
      "       -8.38943768, -8.70123386, -7.77310896, -8.05629253, -8.08463097,\n",
      "       -7.63914537, -5.92442036, -7.29924059, -6.86813498, -6.25053215,\n",
      "       -6.14370346, -5.73162127, -5.23012686, -4.61478138, -3.31545663,\n",
      "       -0.32263795,  5.16658831,  4.64208126,  2.54366088,  1.71671879,\n",
      "        2.90249991,  2.97891593,  3.61276126,  5.0596509 ,  6.03637838,\n",
      "        6.95431089,  9.45231533,  9.67509079,  9.29780006,  8.31392956,\n",
      "        5.45045328,  1.92030025, -0.85120147, -1.17830968, -1.98287165,\n",
      "       -3.57917213, -4.83343554, -4.91310835, -4.89395857, -4.16421747,\n",
      "       -3.23917413, -3.11863089, -3.65346122])\n",
      "Coordinates:\n",
      "  * time     (time) datetime64[ns] 2016-04-12T12:00:00 2016-04-12T13:00:00 ...\n",
      "    gridY    float64 ...\n",
      "    gridX    float64 ...\n",
      "Attributes:\n",
      "    level: 10 m above ground\n",
      "    long_name: U-Component of Wind\n",
      "    short_name: UGRD_10maboveground\n",
      "    units: m/s\n"
     ]
    }
   ],
   "source": [
    "u_wind_ts = (\n",
    "    atmos.u_wind\n",
    "    .isel(gridY=atmos_ji[0], gridX=atmos_ji[1])\n",
    "    .sel(time=time_slice)\n",
    ")\n",
    "print(u_wind_ts)"
   ]
  },
  {
   "cell_type": "code",
   "execution_count": 17,
   "metadata": {
    "collapsed": false
   },
   "outputs": [],
   "source": [
    "v_wind_ts = (\n",
    "    atmos.v_wind\n",
    "    .isel(gridY=atmos_ji[0], gridX=atmos_ji[1])\n",
    "    .sel(time=time_slice)\n",
    ")\n",
    "\n",
    "wind_speed_dir = wind_tools.wind_speed_dir(u_wind_ts, v_wind_ts)"
   ]
  },
  {
   "cell_type": "markdown",
   "metadata": {},
   "source": [
    "And with that,\n",
    "we can add a wind speed time series axes to our figure:"
   ]
  },
  {
   "cell_type": "code",
   "execution_count": 18,
   "metadata": {
    "collapsed": false
   },
   "outputs": [
    {
     "data": {
      "image/png": "[encoded data removed]",
      "text/plain": [
       "<matplotlib.figure.Figure at 0x7f4aa76c4d30>"
      ]
     },
     "metadata": {},
     "output_type": "display_data"
    }
   ],
   "source": [
    "fig, (ax_wind, ax_sst) = plt.subplots(nrows=2, figsize=(18, 9))\n",
    "wind_speed_dir.speed.plot(ax=ax_wind, label='wind speed')\n",
    "ax_wind.legend()\n",
    "ax_wind.grid(axis='x')\n",
    "sst_ts.plot(ax=ax_sst, label='sst')\n",
    "ax_sst.grid(axis='x')"
   ]
  },
  {
   "cell_type": "code",
   "execution_count": null,
   "metadata": {
    "collapsed": true
   },
   "outputs": [],
   "source": []
  }
 ],
 "metadata": {
  "kernelspec": {
   "display_name": "Python 3",
   "language": "python",
   "name": "python3"
  },
  "language_info": {
   "codemirror_mode": {
    "name": "ipython",
    "version": 3
   },
   "file_extension": ".py",
   "mimetype": "text/x-python",
   "name": "python",
   "nbconvert_exporter": "python",
   "pygments_lexer": "ipython3",
   "version": "3.5.1"
  }
 },
 "nbformat": 4,
 "nbformat_minor": 0
}
