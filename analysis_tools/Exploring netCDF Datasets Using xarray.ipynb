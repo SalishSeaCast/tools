{
 "cells": [
  {
   "cell_type": "markdown",
   "metadata": {},
   "source": [
    "# Exploring netCDF Datasets Using the xarray Package\n",
    "\n",
    "This notebook provides discussion, examples, and best practices for\n",
    "working with netCDF datasets in Python using the [`xarray`](http://xarray.pydata.org/) package.\n",
    "Topics include:\n",
    "\n",
    "* The [`xarray`](http://xarray.pydata.org/) package\n",
    "* Reading netCDF datasets into Python data structures\n",
    "* Exploring netCDF dataset dimensions, variables, and attributes\n",
    "* Working with netCDF variable data as [NumPy](http://www.numpy.org/) arrays"
   ]
  },
  {
   "cell_type": "markdown",
   "metadata": {},
   "source": [
    "This notebook is a companion to the \n",
    "[Exploring netCDF Files](https://nbviewer.jupyter.org/urls/bitbucket.org/salishsea/tools/raw/tip/analysis_tools/Exploring%20netCDF%20Files.ipynb)\n",
    "and\n",
    "[Exploring netCDF Datasets from ERDDAP](https://nbviewer.jupyter.org/urls/bitbucket.org/salishsea/tools/raw/tip/analysis_tools/Exploring%20netCDF%20Files.ipynb)\n",
    "notebooks.\n",
    "Those notebooks focus on using the\n",
    "[`netcdf4-python`](http://unidata.github.io/netcdf4-python/) package\n",
    "to read netCDF datasets from local files and\n",
    "[ERDDAP](http://coastwatch.pfeg.noaa.gov/erddap/) servers on the Internet,\n",
    "respectively.\n",
    "\n",
    "This notebook is about using the [`xarray`](http://xarray.pydata.org/) package\n",
    "to work with netCDF datasets.\n",
    "`xarray` uses the `netcdf4-python` package behind the scenes,\n",
    "so datasets can be read from either local files or from ERDDAP servers.\n",
    "\n",
    "`xarray` is a Python package that applies the concepts and tools for working with labeled data structures\n",
    "from the [`pandas`](http://pandas.pydata.org/) package to the physical sciences.\n",
    "Whereas `pandas` excels at manipulating tablular data,\n",
    "`xarray` brings similar power to working with N-dimensional arrays.\n",
    "\n",
    "If you are already familiar with working with netCDF datasets via the `netCDF4-python` package,\n",
    "you can think of `xarray` as a higher level Python tools for working with those dataset.\n",
    "\n",
    "Creating netCDF files and working with their attribute metadata is documented elsewhere:\n",
    "http://salishsea-meopar-docs.readthedocs.org/en/latest/code-notes/salishsea-nemo/nemo-forcing/netcdf4.html.\n",
    "\n",
    "This notebook assumes that you are working in Python 3.\n",
    "If you don't have a Python 3 environment set up,\n",
    "please see our\n",
    "[Anaconda Python Distribution](http://salishsea-meopar-docs.readthedocs.org/en/latest/work_env/anaconda_python.html)\n",
    "docs for instructions on how to set one up.\n",
    "\n",
    "`xarray` and some of the packages that it depends on are not included in the default Anaconda\n",
    "collection of packages,\n",
    "so you may need to installed them explicitly:\n",
    "```\n",
    "$ conda install xarray netCDF4 bottleneck\n",
    "```\n",
    "\n",
    "[`bottleneck`](https://github.com/kwgoodman/bottleneck)\n",
    "is a package that speeds up NaN-skipping and rolling window aggregations.\n",
    "\n",
    "If you are using a version of Python earlier than 3.5\n",
    "(check with the command `python --version`),\n",
    "you should also install [`cyordereddict`](https://github.com/shoyer/cyordereddict)\n",
    "to speed internal operations with xarray data structures.\n",
    "It is not required for Python ≥3.5 because `collections.OrderedDict` has been rewritten\n",
    "in C,\n",
    "making it even faster than `cyordereddict`."
   ]
  },
  {
   "cell_type": "markdown",
   "metadata": {},
   "source": [
    "Let's start with some imports.\n",
    "It's good Python form to keep all of our imports at the top of the file."
   ]
  },
  {
   "cell_type": "code",
   "execution_count": 1,
   "metadata": {
    "collapsed": true
   },
   "outputs": [],
   "source": [
    "import numpy as np\n",
    "import xarray as xr"
   ]
  },
  {
   "cell_type": "markdown",
   "metadata": {},
   "source": [
    "Note that we alias `numpy` to `np` and `xarray` to `xr`\n",
    "so that we don't have to type as much."
   ]
  },
  {
   "cell_type": "markdown",
   "metadata": {},
   "source": [
    "`xarray` provides a `open_dataset` function that allows us to load \n",
    "a netCDF dataset into a Python data structure by simply passing in\n",
    "a file path/name,\n",
    "or an ERDDAP server URL and dataset ID.\n",
    "\n",
    "Let's explore the Salish Sea NEMO model bathymetry data:"
   ]
  },
  {
   "cell_type": "code",
   "execution_count": 3,
   "metadata": {
    "collapsed": false
   },
   "outputs": [],
   "source": [
    "ds = xr.open_dataset('https://salishsea.eos.ubc.ca/erddap/griddap/ubcSSnBathymetry2V1')"
   ]
  },
  {
   "cell_type": "markdown",
   "metadata": {},
   "source": [
    "See the [Exploring netCDF Datasets from ERDDAP](https://nbviewer.jupyter.org/urls/bitbucket.org/salishsea/tools/raw/tip/analysis_tools/Exploring%20netCDF%20Files.ipynb)\n",
    "notebook for more information about ERDDAP dataset URLs.\n",
    "\n",
    "We could have opened the same dataset from a local file with:\n",
    "```\n",
    "ds = xr.open_dataset('../../NEMO-forcing/grid/bathy_meter_SalishSea2.nc')\n",
    "```"
   ]
  },
  {
   "cell_type": "code",
   "execution_count": 4,
   "metadata": {
    "collapsed": true
   },
   "outputs": [],
   "source": [
    "lds = xr.open_dataset('../../NEMO-forcing/grid/bathy_meter_SalishSea2.nc')"
   ]
  },
  {
   "cell_type": "markdown",
   "metadata": {},
   "source": [
    "Printing the string respresentation of the `ds` data structure that `open_dataset()`\n",
    "returns gives us lots of information about the dataset and its metadata:"
   ]
  },
  {
   "cell_type": "code",
   "execution_count": 7,
   "metadata": {
    "collapsed": false
   },
   "outputs": [
    {
     "name": "stdout",
     "output_type": "stream",
     "text": [
      "<xarray.Dataset>\n",
      "Dimensions:     (gridX: 398, gridY: 898)\n",
      "Coordinates:\n",
      "  * gridY       (gridY) int32 0 1 2 3 4 5 6 7 8 9 10 11 12 13 14 15 16 17 18 ...\n",
      "  * gridX       (gridX) int16 0 1 2 3 4 5 6 7 8 9 10 11 12 13 14 15 16 17 18 ...\n",
      "Data variables:\n",
      "    longitude   (gridY, gridX) float32 ...\n",
      "    latitude    (gridY, gridX) float32 ...\n",
      "    bathymetry  (gridY, gridX) float64 ...\n",
      "Attributes:\n",
      "    acknowledgement: MEOPAR, ONC, Compute Canada\n",
      "    cdm_data_type: Grid\n",
      "    comment: Bathymetry, Latitudes and Longitudes\n",
      "    Conventions: CF-1.6, COARDS, ACDD-1.3\n",
      "    coverage_content_type: modelResult\n",
      "    creator_email: sallen@eos.ubc.ca\n",
      "    creator_name: Salish Sea MEOPAR Project Contributors\n",
      "    creator_url: https://salishsea-meopar-docs.readthedocs.org/\n",
      "    drawLandMask: over\n",
      "    history: [2016-02-05 16:35:19] Created dataset.\n",
      "[2016-03-02 18:08:56] Changed all variables to zlib=True.\n",
      "[2016-03-02 18:08:56] Added least_significant_digit=1 and fill_value=0 to bathymetry variable.\n",
      "[2016-03-03 12:28:37] Added valid_range attribute to all variables.\n",
      "2016-04-14T21:46:25Z (local files)\n",
      "2016-04-14T21:46:25Z https://salishsea.eos.ubc.ca/erddap/griddap/ubcSSnBathymetry2V1.das\n",
      "    infoUrl: https://salishsea-meopar-tools.readthedocs.org/en/latest/results_server/index.html#salish-sea-model-results\n",
      "    institution: UBC EOAS\n",
      "    institution_fullname: Earth, Ocean & Atmospheric Sciences, University of British Columbia\n",
      "    keywords: bathymetry, bottom, data, model results, depth, floor, latitude, longitude, nemo, ocean, oceans,\n",
      "Oceans > Bathymetry/Seafloor Topography > Bathymetry, salishsea, sea, sea_floor_depth, seafloor, topography\n",
      "    keywords_vocabulary: GCMD Science Keywords\n",
      "    license: The Salish Sea MEOPAR NEMO model results are copyright 2013-2016\n",
      "by the Salish Sea MEOPAR Project Contributors and The University of British Columbia.\n",
      "\n",
      "They are licensed under the Apache License, Version 2.0. http://www.apache.org/licenses/LICENSE-2.0\n",
      "    project: Salish Sea MEOPAR NEMO Model\n",
      "    references: https://bitbucket.org/salishsea/nemo-forcing/src/tipgrid/mesh_mask_SalishSea2.nc\n",
      "    source: https://bitbucket.org/salishsea/tools/src/tip/bathymetry/NEMOBathymetryfromMeshMask.ipynb\n",
      "    sourceUrl: (local files)\n",
      "    standard_name_vocabulary: CF Standard Name Table v29\n",
      "    summary: Salish Sea NEMO Model Grid, Geo-location and Bathymetry, v1\n",
      "\n",
      "Longitude, latitude, and bathymetry of the Salish Sea NEMO model grid.\n",
      "The bathymetry values are those calculated by NEMO from the input bathymetry file.\n",
      "NEMO modifies the input bathymetry to remove isolated holes, and too-small partial steps.\n",
      "The model grid includes the Juan de Fuca Strait, the Strait of Georgia, Puget Sound,\n",
      "and Johnstone Strait on the coasts of Washington State and British Columbia.\n",
      "\n",
      "v1: longitude, latitude and b...\n",
      "    title: Salish Sea NEMO Model Grid, Geo-location and Bathymetry, v1\n"
     ]
    }
   ],
   "source": [
    "print(ds)"
   ]
  },
  {
   "cell_type": "markdown",
   "metadata": {},
   "source": [
    "`open_dataset()` returns an `xarray.Dataset` object\n",
    "that is `xarray`’s multi-dimensional equivalent of a `pandas.DataFrame`. \n",
    "It is a dict-like container of labeled arrays (`DataArray` objects) with aligned dimensions.\n",
    "It is designed as an in-memory representation of the data model from the netCDF file format.\n",
    "\n",
    "Dataset objects have four key properties:\n",
    "\n",
    "* `dims`: a dictionary mapping from dimension names to the fixed length of each dimension\n",
    "(e.g., `{'x': 6, 'y': 6, 'time': 8}`)\n",
    "* `data_vars`: a dict-like container of DataArrays corresponding to variables\n",
    "* `coords`: another dict-like container of `DataArray`s intended to label points used in `data_vars` \n",
    "(e.g., arrays of numbers, datetime objects or strings)\n",
    "* `attrs`: an `OrderedDict` to hold arbitrary metadata\n",
    "\n",
    "Let's look at them one at a time:"
   ]
  },
  {
   "cell_type": "code",
   "execution_count": 6,
   "metadata": {
    "collapsed": false
   },
   "outputs": [
    {
     "data": {
      "text/plain": [
       "<xarray.Dataset>\n",
       "Dimensions:     (x: 398, y: 898)\n",
       "Coordinates:\n",
       "  * x           (x) int64 0 1 2 3 4 5 6 7 8 9 10 11 12 13 14 15 16 17 18 19 ...\n",
       "  * y           (y) int64 0 1 2 3 4 5 6 7 8 9 10 11 12 13 14 15 16 17 18 19 ...\n",
       "Data variables:\n",
       "    nav_lon     (y, x) float64 -123.4 -123.4 -123.4 -123.4 -123.4 -123.4 ...\n",
       "    nav_lat     (y, x) float64 46.86 46.86 46.86 46.87 46.87 46.87 46.87 ...\n",
       "    Bathymetry  (y, x) float64 nan nan nan nan nan nan nan nan nan nan nan ...\n",
       "Attributes:\n",
       "    Conventions: CF-1.6\n",
       "    title: Salish Sea NEMO Bathymetry\n",
       "    institution: Dept of Earth, Ocean & Atmospheric Sciences, University of British Columbia\n",
       "    references: https://bitbucket.org/salishsea/nemo-forcing/src/tip/grid/bathy_meter_SalishSea.nc\n",
       "    comment: Based on 1_bathymetry_seagrid_WestCoast.nc file from 2-Oct-2013 WCSD_PREP tarball provided by J-P Paquin.\n",
       "    source: \n",
       "https://bitbucket.org/salishsea/tools/src/tip/bathymetry/SalishSeaBathy.ipynb\n",
       "https://bitbucket.org/salishsea/tools/src/tip/bathymetry/SmoothMouthJdF.ipynb\n",
       "\n",
       "    history: \n",
       "[2013-10-30 13:18] Created netCDF4 zlib=True dataset.\n",
       "[2013-10-30 15:22] Set depths between 0 and 4m to 4m and those >428m to 428m.\n",
       "[2013-10-31 17:10] Algorithmic smoothing.\n",
       "[2013-11-21 19:53] Reverted to pre-smothing dataset (repo rev 3b301b5b9b6d).\n",
       "[2013-11-21 20:14] Updated dataset and variable attributes to CF-1.6 conventions & project standards.\n",
       "[2013-11-21 20:47] Removed east end of Jervis Inlet and Toba Inlet region due to deficient source bathymetry data in Cascadia dataset.\n",
       "[2013-11..."
      ]
     },
     "execution_count": 6,
     "metadata": {},
     "output_type": "execute_result"
    }
   ],
   "source": [
    "lds"
   ]
  },
  {
   "cell_type": "code",
   "execution_count": 9,
   "metadata": {
    "collapsed": false
   },
   "outputs": [
    {
     "name": "stdout",
     "output_type": "stream",
     "text": [
      "Frozen(SortedKeysDict({'gridX': 398, 'gridY': 898}))\n"
     ]
    }
   ],
   "source": [
    "ds.dims"
   ]
  },
  {
   "cell_type": "code",
   "execution_count": 11,
   "metadata": {
    "collapsed": false
   },
   "outputs": [
    {
     "data": {
      "text/plain": [
       "Data variables:\n",
       "    longitude   (gridY, gridX) float32 ...\n",
       "    latitude    (gridY, gridX) float32 ...\n",
       "    bathymetry  (gridY, gridX) float64 ..."
      ]
     },
     "execution_count": 11,
     "metadata": {},
     "output_type": "execute_result"
    }
   ],
   "source": [
    "ds.data_vars"
   ]
  },
  {
   "cell_type": "code",
   "execution_count": 12,
   "metadata": {
    "collapsed": false
   },
   "outputs": [
    {
     "data": {
      "text/plain": [
       "Coordinates:\n",
       "  * gridY    (gridY) int32 0 1 2 3 4 5 6 7 8 9 10 11 12 13 14 15 16 17 18 19 ...\n",
       "  * gridX    (gridX) int16 0 1 2 3 4 5 6 7 8 9 10 11 12 13 14 15 16 17 18 19 ..."
      ]
     },
     "execution_count": 12,
     "metadata": {},
     "output_type": "execute_result"
    }
   ],
   "source": [
    "ds.coords"
   ]
  },
  {
   "cell_type": "markdown",
   "metadata": {},
   "source": [
    "So, we have a dataset that has 2 dimensions called `gridX` and `gridY`\n",
    "of size 398 and 898, respectively,\n",
    "3 variables called `longitude`, `latitude`, and `bathymetry`,\n",
    "and 2 coordinates with the same names as the dimensions,\n",
    "`gridX` and `gridY`.\n",
    "\n",
    "The `xarray` docs have a \n",
    "[good explanation and a diagram](http://xarray.pydata.org/en/stable/data-structures.html#dataset)\n",
    "about the distinction between coordinates and data variables.\n",
    "\n",
    "If you are already familiar with working with netCDF datasets via the `netCDF4-python` package,\n",
    "you will note that the `dims` and `data_vars` attributes provide similar information to that\n",
    "produced by functions in the\n",
    "[SalishSeaTools.nc_tools](http://salishsea-meopar-tools.readthedocs.org/en/latest/SalishSeaTools/api.html#module-salishsea_tools.nc_tools) module.\n",
    "`xarray` provides a higher level Python interface to datasets.\n",
    "\n",
    "We'll see how the dimensions and variables are related,\n",
    "and how to work with the data in the variables in a moment,\n",
    "but first,\n",
    "let's look at the dataset attributes:"
   ]
  },
  {
   "cell_type": "code",
   "execution_count": 15,
   "metadata": {
    "collapsed": false
   },
   "outputs": [
    {
     "data": {
      "text/plain": [
       "OrderedDict([('acknowledgement', 'MEOPAR, ONC, Compute Canada'),\n",
       "             ('cdm_data_type', 'Grid'),\n",
       "             ('comment', 'Bathymetry, Latitudes and Longitudes'),\n",
       "             ('Conventions', 'CF-1.6, COARDS, ACDD-1.3'),\n",
       "             ('coverage_content_type', 'modelResult'),\n",
       "             ('creator_email', 'sallen@eos.ubc.ca'),\n",
       "             ('creator_name', 'Salish Sea MEOPAR Project Contributors'),\n",
       "             ('creator_url', 'https://salishsea-meopar-docs.readthedocs.org/'),\n",
       "             ('drawLandMask', 'over'),\n",
       "             ('history',\n",
       "              '[2016-02-05 16:35:19] Created dataset.\\n[2016-03-02 18:08:56] Changed all variables to zlib=True.\\n[2016-03-02 18:08:56] Added least_significant_digit=1 and fill_value=0 to bathymetry variable.\\n[2016-03-03 12:28:37] Added valid_range attribute to all variables.\\n2016-04-14T21:46:25Z (local files)\\n2016-04-14T21:46:25Z https://salishsea.eos.ubc.ca/erddap/griddap/ubcSSnBathymetry2V1.das'),\n",
       "             ('infoUrl',\n",
       "              'https://salishsea-meopar-tools.readthedocs.org/en/latest/results_server/index.html#salish-sea-model-results'),\n",
       "             ('institution', 'UBC EOAS'),\n",
       "             ('institution_fullname',\n",
       "              'Earth, Ocean & Atmospheric Sciences, University of British Columbia'),\n",
       "             ('keywords',\n",
       "              'bathymetry, bottom, data, model results, depth, floor, latitude, longitude, nemo, ocean, oceans,\\nOceans > Bathymetry/Seafloor Topography > Bathymetry, salishsea, sea, sea_floor_depth, seafloor, topography'),\n",
       "             ('keywords_vocabulary', 'GCMD Science Keywords'),\n",
       "             ('license',\n",
       "              'The Salish Sea MEOPAR NEMO model results are copyright 2013-2016\\nby the Salish Sea MEOPAR Project Contributors and The University of British Columbia.\\n\\nThey are licensed under the Apache License, Version 2.0. http://www.apache.org/licenses/LICENSE-2.0'),\n",
       "             ('project', 'Salish Sea MEOPAR NEMO Model'),\n",
       "             ('references',\n",
       "              'https://bitbucket.org/salishsea/nemo-forcing/src/tipgrid/mesh_mask_SalishSea2.nc'),\n",
       "             ('source',\n",
       "              'https://bitbucket.org/salishsea/tools/src/tip/bathymetry/NEMOBathymetryfromMeshMask.ipynb'),\n",
       "             ('sourceUrl', '(local files)'),\n",
       "             ('standard_name_vocabulary', 'CF Standard Name Table v29'),\n",
       "             ('summary',\n",
       "              'Salish Sea NEMO Model Grid, Geo-location and Bathymetry, v1\\n\\nLongitude, latitude, and bathymetry of the Salish Sea NEMO model grid.\\nThe bathymetry values are those calculated by NEMO from the input bathymetry file.\\nNEMO modifies the input bathymetry to remove isolated holes, and too-small partial steps.\\nThe model grid includes the Juan de Fuca Strait, the Strait of Georgia, Puget Sound,\\nand Johnstone Strait on the coasts of Washington State and British Columbia.\\n\\nv1: longitude, latitude and bathymetry variables'),\n",
       "             ('title',\n",
       "              'Salish Sea NEMO Model Grid, Geo-location and Bathymetry, v1')])"
      ]
     },
     "execution_count": 15,
     "metadata": {},
     "output_type": "execute_result"
    }
   ],
   "source": [
    "ds.attrs"
   ]
  },
  {
   "cell_type": "markdown",
   "metadata": {},
   "source": [
    "Dataset attributes are metadata.\n",
    "They tell us about the dataset as a whole:\n",
    "how, when, and by whom it was created, how it has been modified, etc.\n",
    "The meanings of the various attributes and the conventions for them that we use\n",
    "in the Salish Sea MEOPAR project are documented [elsewhere](http://salishsea-meopar-docs.readthedocs.org/en/latest/code-notes/salishsea-nemo/nemo-forcing/netcdf4.html).\n",
    "\n",
    "Variables also have attributes :"
   ]
  },
  {
   "cell_type": "code",
   "execution_count": 18,
   "metadata": {
    "collapsed": false
   },
   "outputs": [
    {
     "data": {
      "text/plain": [
       "<xarray.DataArray 'longitude' (gridY: 898, gridX: 398)>\n",
       "[357404 values with dtype=float32]\n",
       "Coordinates:\n",
       "  * gridY    (gridY) int32 0 1 2 3 4 5 6 7 8 9 10 11 12 13 14 15 16 17 18 19 ...\n",
       "  * gridX    (gridX) int16 0 1 2 3 4 5 6 7 8 9 10 11 12 13 14 15 16 17 18 19 ...\n",
       "Attributes:\n",
       "    _ChunkSize: [898 398]\n",
       "    colorBarMaximum: 180.0\n",
       "    colorBarMinimum: -180.0\n",
       "    long_name: Longitude\n",
       "    standard_name: longitude\n",
       "    units: degrees_east\n",
       "    valid_range: [-126.40029144 -121.31835175]"
      ]
     },
     "execution_count": 18,
     "metadata": {},
     "output_type": "execute_result"
    }
   ],
   "source": [
    "ds.longitude"
   ]
  },
  {
   "cell_type": "markdown",
   "metadata": {},
   "source": [
    "This tells us a whole lot of useful information about the longitude data values in\n",
    "our bathymetry dataset, for instance:\n",
    "\n",
    "* They are 32-bit floating point values\n",
    "* They are associated with the `gridY` and `gridX` dimensions, in that order\n",
    "* The units are degrees measured eastward (from the Greenwich meridian)\n",
    "* etc.\n",
    "\n",
    "We can access the attributes of the dataset variables using dotted notation:"
   ]
  },
  {
   "cell_type": "code",
   "execution_count": 21,
   "metadata": {
    "collapsed": false
   },
   "outputs": [
    {
     "data": {
      "text/plain": [
       "('m', 'Depth of Bottom')"
      ]
     },
     "execution_count": 21,
     "metadata": {},
     "output_type": "execute_result"
    }
   ],
   "source": [
    "ds.bathymetry.units, ds.bathymetry.long_name"
   ]
  },
  {
   "cell_type": "markdown",
   "metadata": {},
   "source": [
    "Dataset variables are `xarray.DataArray` objects.\n",
    "In addition to their attributes,\n",
    "they carry a bunch of other useful properties and methods that you can read about in the\n",
    "[xarray docs](http://xarray.pydata.org/en/stable/data-structures.html#dataarray).\n",
    "\n",
    "Perhaps most importantly the data associated with the variables\n",
    "are stored as NumPy arrays.\n",
    "So, we can use NumPy indexing and slicing to access the data values.\n",
    "For instance, to get the latitudes and longitudes of the 4 corners of the domain:"
   ]
  },
  {
   "cell_type": "code",
   "execution_count": 31,
   "metadata": {
    "collapsed": false
   },
   "outputs": [
    {
     "data": {
      "text/plain": [
       "(898, 398)"
      ]
     },
     "execution_count": 31,
     "metadata": {},
     "output_type": "execute_result"
    }
   ],
   "source": [
    "ds.latitude.shape"
   ]
  },
  {
   "cell_type": "code",
   "execution_count": 28,
   "metadata": {
    "collapsed": false
   },
   "outputs": [
    {
     "name": "stdout",
     "output_type": "stream",
     "text": [
      "Latitudes and longitudes of domain corners:\n",
      "  0, 0:         46.8597 -123.429\n",
      "  0, x-max:     47.6009 -121.318\n",
      "  y-max, 0:     50.3899 -126.4\n",
      "  y-max, x-max: 51.1048 -124.342\n"
     ]
    }
   ],
   "source": [
    "print('Latitudes and longitudes of domain corners:')\n",
    "pt = (0, 0)\n",
    "print('  0, 0:        ', ds.latitude.values[pt], ds.longitude.values[pt])\n",
    "pt = (0, ds.latitude.shape[1] - 1)\n",
    "print('  0, x-max:    ', ds.latitude.values[pt], ds.longitude.values[pt])\n",
    "pt = (ds.latitude.shape[0] - 1, 0)\n",
    "print('  y-max, 0:    ', ds.latitude.values[pt], ds.longitude.values[pt])\n",
    "pt = (ds.latitude.shape[0] - 1, ds.longitude.shape[1] - 1)\n",
    "print('  y-max, x-max:', ds.latitude.values[pt], ds.longitude.values[pt])"
   ]
  },
  {
   "cell_type": "markdown",
   "metadata": {},
   "source": [
    "You can also access the entire variable data array,\n",
    "or subsets of it using slicing."
   ]
  },
  {
   "cell_type": "code",
   "execution_count": 34,
   "metadata": {
    "collapsed": false
   },
   "outputs": [
    {
     "data": {
      "text/plain": [
       "array([[ 46.85966492,  46.86154556,  46.86342621, ...,  47.59721375,\n",
       "         47.59906769,  47.60092163],\n",
       "       [ 46.86278915,  46.86481476,  46.86677933, ...,  47.60125732,\n",
       "         47.60311127,  47.60496521],\n",
       "       [ 46.86606979,  46.86814499,  46.87015915, ...,  47.60529709,\n",
       "         47.60715485,  47.60900879],\n",
       "       ..., \n",
       "       [ 50.38191605,  50.38397598,  50.38602448, ...,  51.09400177,\n",
       "         51.09560776,  51.09720612],\n",
       "       [ 50.38591766,  50.38798523,  50.39004135, ...,  51.09781265,\n",
       "         51.0994072 ,  51.10100174],\n",
       "       [ 50.38992691,  50.39200592,  50.39406967, ...,  51.10162354,\n",
       "         51.10321808,  51.10480118]], dtype=float32)"
      ]
     },
     "execution_count": 34,
     "metadata": {},
     "output_type": "execute_result"
    }
   ],
   "source": [
    "ds.latitude.values"
   ]
  },
  {
   "cell_type": "code",
   "execution_count": 36,
   "metadata": {
    "collapsed": false
   },
   "outputs": [
    {
     "data": {
      "text/plain": [
       "array([[-122.884552  , -122.87927246, -122.87399292, -122.86871338,\n",
       "        -122.86342621, -122.85814667, -122.85286713],\n",
       "       [-122.88778687, -122.88250732, -122.87722778, -122.87194824,\n",
       "        -122.8666687 , -122.86138916, -122.85610962],\n",
       "       [-122.89102936, -122.88574982, -122.88047028, -122.87519073,\n",
       "        -122.86991119, -122.86463165, -122.85934448]], dtype=float32)"
      ]
     },
     "execution_count": 36,
     "metadata": {},
     "output_type": "execute_result"
    }
   ],
   "source": [
    "ds.longitude.values[42:45, 128:135]"
   ]
  },
  {
   "cell_type": "code",
   "execution_count": 37,
   "metadata": {
    "collapsed": false
   },
   "outputs": [
    {
     "data": {
      "text/plain": [
       "(array([[-123.42943573, -123.42411804],\n",
       "        [-123.43196869, -123.42677307]], dtype=float32),\n",
       " array([[ 51.0994072 ,  51.10100174],\n",
       "        [ 51.10321808,  51.10480118]], dtype=float32))"
      ]
     },
     "execution_count": 37,
     "metadata": {},
     "output_type": "execute_result"
    }
   ],
   "source": [
    "ds.longitude.values[:2, :2], ds.latitude.values[-2:, -2:]"
   ]
  },
  {
   "cell_type": "markdown",
   "metadata": {},
   "source": [
    "Note that the zero and maximum dimension values may be omitted\n",
    "for slices that extend to the ends of array dimensions."
   ]
  }
 ],
 "metadata": {
  "kernelspec": {
   "display_name": "Python 3",
   "language": "python",
   "name": "python3"
  },
  "language_info": {
   "codemirror_mode": {
    "name": "ipython",
    "version": 3
   },
   "file_extension": ".py",
   "mimetype": "text/x-python",
   "name": "python",
   "nbconvert_exporter": "python",
   "pygments_lexer": "ipython3",
   "version": "3.5.1"
  }
 },
 "nbformat": 4,
 "nbformat_minor": 0
}
