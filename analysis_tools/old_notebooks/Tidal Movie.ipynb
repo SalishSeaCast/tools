{
 "metadata": {
  "name": "",
  "signature": "sha256:7c77af8d3f8c2ed7d48efcd15694f64f9e5440c0b59c6f60e20ed1d9a7f6eca9"
 },
 "nbformat": 3,
 "nbformat_minor": 0,
 "worksheets": [
  {
   "cells": [
    {
     "cell_type": "markdown",
     "metadata": {},
     "source": [
      "Notebook that opens the NetCDF files created by NEMO and creates a movie.\n"
     ]
    },
    {
     "cell_type": "markdown",
     "metadata": {},
     "source": [
      "First cell:  \n",
      "    1. makes plots run inline  \n",
      "    2. object type interface into matplotlib\n",
      "    3. animation \n",
      "    4. imports netCDF4 to handle the netCDF files\n",
      "    5. and numpy for arrays"
     ]
    },
    {
     "cell_type": "code",
     "collapsed": false,
     "input": [
      "%matplotlib inline\n",
      "import matplotlib.pyplot as plt\n",
      "import matplotlib.animation as animation\n",
      "import netCDF4 as NC\n",
      "import numpy as np\n",
      "import time"
     ],
     "language": "python",
     "metadata": {},
     "outputs": [],
     "prompt_number": 25
    },
    {
     "cell_type": "markdown",
     "metadata": {},
     "source": [
      "Open the file"
     ]
    },
    {
     "cell_type": "code",
     "collapsed": false,
     "input": [
      "fT = NC.Dataset('/ocean/sallen/allen/research/Meopar/myResults/JPP/72h_1h_smooth_bathy/JPP_1h_20020102_20020104_grid_T.nc','r')"
     ],
     "language": "python",
     "metadata": {},
     "outputs": [],
     "prompt_number": 26
    },
    {
     "cell_type": "markdown",
     "metadata": {},
     "source": [
      "Set the sea surface height variables."
     ]
    },
    {
     "cell_type": "code",
     "collapsed": false,
     "input": [
      "T_ssh = fT.variables['sossheig']\n",
      "T_lat = fT.variables['nav_lat']\n",
      "T_lon = fT.variables['nav_lon']\n",
      "eta = T_ssh[:,:,:]\n",
      "X = T_lon[:,:]\n",
      "Y = T_lat[:,:]"
     ],
     "language": "python",
     "metadata": {},
     "outputs": [],
     "prompt_number": 27
    },
    {
     "cell_type": "markdown",
     "metadata": {},
     "source": [
      "Define a function to plot the surface height at a given time step with given contour levels."
     ]
    },
    {
     "cell_type": "code",
     "collapsed": false,
     "input": [
      "def tidal_height(timeindex):\n",
      "    levels = np.arange(-1.0,1.25,0.25)\n",
      "    plt.contourf(X,Y,eta[timeindex,:,:],levels)"
     ],
     "language": "python",
     "metadata": {},
     "outputs": [],
     "prompt_number": 28
    },
    {
     "cell_type": "markdown",
     "metadata": {},
     "source": [
      "Test it."
     ]
    },
    {
     "cell_type": "code",
     "collapsed": false,
     "input": [
      "timeindex = 71\n",
      "tidal_height(timeindex)"
     ],
     "language": "python",
     "metadata": {},
     "outputs": [
      {
       "metadata": {},
       "output_type": "display_data",
       "png": "[encoded data removed]",
       "text": [
        "<matplotlib.figure.Figure at 0x9ab2690>"
       ]
      }
     ],
     "prompt_number": 29
    },
    {
     "cell_type": "markdown",
     "metadata": {},
     "source": [
      "Make the movie!"
     ]
    },
    {
     "cell_type": "code",
     "collapsed": false,
     "input": [
      "fig,ax = plt.subplots(figsize=(6,6))\n",
      "ani = animation.FuncAnimation(fig, tidal_height, frames=72, blit=True)\n",
      "ani.save('im.mp4', metadata={'artist':'SalishSea'},fps=2)"
     ],
     "language": "python",
     "metadata": {},
     "outputs": [
      {
       "metadata": {},
       "output_type": "display_data",
       "png": "[encoded data removed]",
       "text": [
        "<matplotlib.figure.Figure at 0x1242eb10>"
       ]
      }
     ],
     "prompt_number": 32
    },
    {
     "cell_type": "code",
     "collapsed": false,
     "input": [],
     "language": "python",
     "metadata": {},
     "outputs": [],
     "prompt_number": 30
    }
   ],
   "metadata": {}
  }
 ]
}