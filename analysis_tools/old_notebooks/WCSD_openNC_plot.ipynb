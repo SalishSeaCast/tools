{
 "metadata": {
  "name": ""
 },
 "nbformat": 3,
 "nbformat_minor": 0,
 "worksheets": [
  {
   "cells": [
    {
     "cell_type": "markdown",
     "metadata": {},
     "source": [
      "Notebook that opens the NetCDF(3) files created by BIO CONCEPTS 110 WCSD and plots them.\n",
      "Velocity plots are totally dominated by high velocities in the islands. Most useful is the flickery movie of the seasurface height."
     ]
    },
    {
     "cell_type": "markdown",
     "metadata": {},
     "source": [
      "First cell:  \n",
      "    1. makes plots run inline  \n",
      "    2. matlab like pylab interface\n",
      "    3. object type interface into matplotlib\n",
      "    4. imports netCDF4 to handle the netCDF 3 files\n",
      "    5. and numpy for arrays"
     ]
    },
    {
     "cell_type": "code",
     "collapsed": false,
     "input": [
      "%matplotlib inline\n",
      "from matplotlib import pylab\n",
      "import matplotlib.pyplot as plt\n",
      "import matplotlib.animation as animation\n",
      "import netCDF4 as NC\n",
      "import numpy as np"
     ],
     "language": "python",
     "metadata": {},
     "outputs": [],
     "prompt_number": 18
    },
    {
     "cell_type": "markdown",
     "metadata": {},
     "source": [
      "Open the files"
     ]
    },
    {
     "cell_type": "code",
     "collapsed": false,
     "input": [
      "fT = NC.Dataset('../../Results/JPP/72h_1h_smooth_bathy/JPP_1h_20020102_20020104_grid_T.nc','r')"
     ],
     "language": "python",
     "metadata": {},
     "outputs": [],
     "prompt_number": 10
    },
    {
     "cell_type": "markdown",
     "metadata": {},
     "source": [
      "File dimensions.  the u just means unicode, ignore it."
     ]
    },
    {
     "cell_type": "code",
     "collapsed": false,
     "input": [
      "fT.dimensions.keys()"
     ],
     "language": "python",
     "metadata": {},
     "outputs": [
      {
       "metadata": {},
       "output_type": "pyout",
       "prompt_number": 4,
       "text": [
        "[u'x', u'y', u'deptht', u'time_counter']"
       ]
      }
     ],
     "prompt_number": 4
    },
    {
     "cell_type": "markdown",
     "metadata": {},
     "source": [
      "Variable list."
     ]
    },
    {
     "cell_type": "code",
     "collapsed": false,
     "input": [
      "fT.variables.keys()"
     ],
     "language": "python",
     "metadata": {},
     "outputs": [
      {
       "metadata": {},
       "output_type": "pyout",
       "prompt_number": 5,
       "text": [
        "[u'nav_lon',\n",
        " u'nav_lat',\n",
        " u'deptht',\n",
        " u'time_counter',\n",
        " u'votemper',\n",
        " u'vosaline',\n",
        " u'sosstsst',\n",
        " u'sosaline',\n",
        " u'sossheig',\n",
        " u'sowaflup',\n",
        " u'sowaflcd',\n",
        " u'sosalflx',\n",
        " u'sohefldo',\n",
        " u'soshfldo',\n",
        " u'somixhgt',\n",
        " u'somxl010',\n",
        " u'soicecov',\n",
        " u'sowindsp',\n",
        " u'sobowlin']"
       ]
      }
     ],
     "prompt_number": 5
    },
    {
     "cell_type": "markdown",
     "metadata": {},
     "source": [
      "Get the dimension list and size for V"
     ]
    },
    {
     "cell_type": "code",
     "collapsed": false,
     "input": [
      "for dim in fT.dimensions.values():\n",
      "    print dim"
     ],
     "language": "python",
     "metadata": {},
     "outputs": [
      {
       "output_type": "stream",
       "stream": "stdout",
       "text": [
        "<type 'netCDF4.Dimension'>: name = 'x', size = 398\n",
        "\n",
        "<type 'netCDF4.Dimension'>: name = 'y', size = 345\n",
        "\n",
        "<type 'netCDF4.Dimension'>: name = 'deptht', size = 40\n",
        "\n",
        "<type 'netCDF4.Dimension'> (unlimited): name = 'time_counter', size = 72\n",
        "\n"
       ]
      }
     ],
     "prompt_number": 11
    },
    {
     "cell_type": "markdown",
     "metadata": {},
     "source": [
      "Get a more information about the variables"
     ]
    },
    {
     "cell_type": "code",
     "collapsed": false,
     "input": [
      "for var in fT.variables.values():\n",
      "    print var"
     ],
     "language": "python",
     "metadata": {},
     "outputs": [
      {
       "output_type": "stream",
       "stream": "stdout",
       "text": [
        "<type 'netCDF4.Variable'>\n",
        "float32 nav_lon(y, x)\n",
        "    standard_name: longitude\n",
        "    units: degrees_east\n",
        "    valid_min: -125.207\n",
        "    valid_max: -121.989\n",
        "    long_name: Longitude\n",
        "    nav_model: Default grid\n",
        "unlimited dimensions: \n",
        "current shape = (345, 398)\n",
        "\n",
        "<type 'netCDF4.Variable'>\n",
        "float32 nav_lat(y, x)\n",
        "    standard_name: latitude\n",
        "    units: degrees_north\n",
        "    valid_min: 47.6308\n",
        "    valid_max: 49.7513\n",
        "    long_name: Latitude\n",
        "    nav_model: Default grid\n",
        "unlimited dimensions: \n",
        "current shape = (345, 398)\n",
        "\n",
        "<type 'netCDF4.Variable'>\n",
        "float32 deptht(deptht)\n",
        "    axis: Z\n",
        "    standard_name: model_level_number\n",
        "    units: m\n",
        "    positive: down\n",
        "    valid_min: 0.5\n",
        "    valid_max: 515.866\n",
        "    title: deptht\n",
        "    long_name: Vertical T levels\n",
        "unlimited dimensions: \n",
        "current shape = (40,)\n",
        "\n",
        "<type 'netCDF4.Variable'>\n",
        "float64 time_counter(time_counter)\n",
        "    axis: T\n",
        "    standard_name: time\n",
        "    units: seconds since 2002-01-02 00:00:00\n",
        "    calendar: gregorian\n",
        "    title: Time\n",
        "    long_name: Time axis\n",
        "    time_origin:  2002-JAN-02 00:00:00\n",
        "unlimited dimensions: time_counter\n",
        "current shape = (72,)\n",
        "\n",
        "<type 'netCDF4.Variable'>\n",
        "float32 votemper(time_counter, deptht, y, x)\n",
        "    units: C\n",
        "    standard_name: Temperature\n",
        "    _FillValue: 9.96921e+36\n",
        "    long_name: Temperature\n",
        "    online_operation: inst(x)\n",
        "    interval_operation: 3600.0\n",
        "    interval_write: 3600.0\n",
        "    coordinates: time_counter deptht nav_lat nav_lon\n",
        "unlimited dimensions: time_counter\n",
        "current shape = (72, 40, 345, 398)\n",
        "\n",
        "<type 'netCDF4.Variable'>\n",
        "float32 vosaline(time_counter, deptht, y, x)\n",
        "    units: PSU\n",
        "    standard_name: Salinity\n",
        "    _FillValue: 9.96921e+36\n",
        "    long_name: Salinity\n",
        "    online_operation: inst(x)\n",
        "    interval_operation: 3600.0\n",
        "    interval_write: 3600.0\n",
        "    coordinates: time_counter deptht nav_lat nav_lon\n",
        "unlimited dimensions: time_counter\n",
        "current shape = (72, 40, 345, 398)\n",
        "\n",
        "<type 'netCDF4.Variable'>\n",
        "float32 sosstsst(time_counter, y, x)\n",
        "    units: C\n",
        "    standard_name: Sea Surface temperature\n",
        "    _FillValue: 9.96921e+36\n",
        "    long_name: Sea Surface temperature\n",
        "    online_operation: inst(x)\n",
        "    interval_operation: 3600.0\n",
        "    interval_write: 3600.0\n",
        "    coordinates: time_counter nav_lat nav_lon\n",
        "unlimited dimensions: time_counter\n",
        "current shape = (72, 345, 398)\n",
        "\n",
        "<type 'netCDF4.Variable'>\n",
        "float32 sosaline(time_counter, y, x)\n",
        "    units: PSU\n",
        "    standard_name: Sea Surface Salinity\n",
        "    _FillValue: 9.96921e+36\n",
        "    long_name: Sea Surface Salinity\n",
        "    online_operation: inst(x)\n",
        "    interval_operation: 3600.0\n",
        "    interval_write: 3600.0\n",
        "    coordinates: time_counter nav_lat nav_lon\n",
        "unlimited dimensions: time_counter\n",
        "current shape = (72, 345, 398)\n",
        "\n",
        "<type 'netCDF4.Variable'>\n",
        "float32 sossheig(time_counter, y, x)\n",
        "    units: m\n",
        "    standard_name: Sea Surface Height\n",
        "    _FillValue: 9.96921e+36\n",
        "    long_name: Sea Surface Height\n",
        "    online_operation: inst(x)\n",
        "    interval_operation: 3600.0\n",
        "    interval_write: 3600.0\n",
        "    coordinates: time_counter nav_lat nav_lon\n",
        "unlimited dimensions: time_counter\n",
        "current shape = (72, 345, 398)\n",
        "\n",
        "<type 'netCDF4.Variable'>\n",
        "float32 sowaflup(time_counter, y, x)\n",
        "    units: Kg/m2/s\n",
        "    standard_name: Net Upward Water Flux\n",
        "    _FillValue: 9.96921e+36\n",
        "    long_name: Net Upward Water Flux\n",
        "    online_operation: inst(x)\n",
        "    interval_operation: 3600.0\n",
        "    interval_write: 3600.0\n",
        "    coordinates: time_counter nav_lat nav_lon\n",
        "unlimited dimensions: time_counter\n",
        "current shape = (72, 345, 398)\n",
        "\n",
        "<type 'netCDF4.Variable'>\n",
        "float32 sowaflcd(time_counter, y, x)\n",
        "    units: kg/m2/s\n",
        "    standard_name: concentration/dilution water flux\n",
        "    _FillValue: 9.96921e+36\n",
        "    long_name: concentration/dilution water flux\n",
        "    online_operation: inst(x)\n",
        "    interval_operation: 3600.0\n",
        "    interval_write: 3600.0\n",
        "    coordinates: time_counter nav_lat nav_lon\n",
        "unlimited dimensions: time_counter\n",
        "current shape = (72, 345, 398)\n",
        "\n",
        "<type 'netCDF4.Variable'>\n",
        "float32 sosalflx(time_counter, y, x)\n",
        "    units: Kg/m2/s\n",
        "    standard_name: Surface Salt Flux\n",
        "    _FillValue: 9.96921e+36\n",
        "    long_name: Surface Salt Flux\n",
        "    online_operation: inst(x)\n",
        "    interval_operation: 3600.0\n",
        "    interval_write: 3600.0\n",
        "    coordinates: time_counter nav_lat nav_lon\n",
        "unlimited dimensions: time_counter\n",
        "current shape = (72, 345, 398)\n",
        "\n",
        "<type 'netCDF4.Variable'>\n",
        "float32 sohefldo(time_counter, y, x)\n",
        "    units: W/m2\n",
        "    standard_name: Net Downward Heat Flux\n",
        "    _FillValue: 9.96921e+36\n",
        "    long_name: Net Downward Heat Flux\n",
        "    online_operation: inst(x)\n",
        "    interval_operation: 3600.0\n",
        "    interval_write: 3600.0\n",
        "    coordinates: time_counter nav_lat nav_lon\n",
        "unlimited dimensions: time_counter\n",
        "current shape = (72, 345, 398)\n",
        "\n",
        "<type 'netCDF4.Variable'>\n",
        "float32 soshfldo(time_counter, y, x)\n",
        "    units: W/m2\n",
        "    standard_name: Shortwave Radiation\n",
        "    _FillValue: 9.96921e+36\n",
        "    long_name: Shortwave Radiation\n",
        "    online_operation: inst(x)\n",
        "    interval_operation: 3600.0\n",
        "    interval_write: 3600.0\n",
        "    coordinates: time_counter nav_lat nav_lon\n",
        "unlimited dimensions: time_counter\n",
        "current shape = (72, 345, 398)\n",
        "\n",
        "<type 'netCDF4.Variable'>\n",
        "float32 somixhgt(time_counter, y, x)\n",
        "    units: m\n",
        "    standard_name: Turbocline Depth\n",
        "    _FillValue: 9.96921e+36\n",
        "    long_name: Turbocline Depth\n",
        "    online_operation: inst(x)\n",
        "    interval_operation: 3600.0\n",
        "    interval_write: 3600.0\n",
        "    coordinates: time_counter nav_lat nav_lon\n",
        "unlimited dimensions: time_counter\n",
        "current shape = (72, 345, 398)\n",
        "\n",
        "<type 'netCDF4.Variable'>\n",
        "float32 somxl010(time_counter, y, x)\n",
        "    units: m\n",
        "    standard_name: Mixed Layer Depth 0.01\n",
        "    _FillValue: 9.96921e+36\n",
        "    long_name: Mixed Layer Depth 0.01\n",
        "    online_operation: inst(x)\n",
        "    interval_operation: 3600.0\n",
        "    interval_write: 3600.0\n",
        "    coordinates: time_counter nav_lat nav_lon\n",
        "unlimited dimensions: time_counter\n",
        "current shape = (72, 345, 398)\n",
        "\n",
        "<type 'netCDF4.Variable'>\n",
        "float32 soicecov(time_counter, y, x)\n",
        "    units: [0,1]\n",
        "    standard_name: Ice fraction\n",
        "    _FillValue: 9.96921e+36\n",
        "    long_name: Ice fraction\n",
        "    online_operation: inst(x)\n",
        "    interval_operation: 3600.0\n",
        "    interval_write: 3600.0\n",
        "    coordinates: time_counter nav_lat nav_lon\n",
        "unlimited dimensions: time_counter\n",
        "current shape = (72, 345, 398)\n",
        "\n",
        "<type 'netCDF4.Variable'>\n",
        "float32 sowindsp(time_counter, y, x)\n",
        "    units: m/s\n",
        "    standard_name: wind speed at 10m\n",
        "    _FillValue: 9.96921e+36\n",
        "    long_name: wind speed at 10m\n",
        "    online_operation: inst(x)\n",
        "    interval_operation: 3600.0\n",
        "    interval_write: 3600.0\n",
        "    coordinates: time_counter nav_lat nav_lon\n",
        "unlimited dimensions: time_counter\n",
        "current shape = (72, 345, 398)\n",
        "\n",
        "<type 'netCDF4.Variable'>\n",
        "float32 sobowlin(y, x)\n",
        "    units: W-point\n",
        "    standard_name: Bowl Index\n",
        "    _FillValue: 9.96921e+36\n",
        "    long_name: Bowl Index\n",
        "    online_operation: l_max(only(x))\n",
        "    coordinates: nav_lat nav_lon\n",
        "unlimited dimensions: \n",
        "current shape = (345, 398)\n",
        "\n"
       ]
      }
     ],
     "prompt_number": 12
    },
    {
     "cell_type": "markdown",
     "metadata": {},
     "source": [
      "Set the v variable, X and Y and plot using pylab (matlab like) interface."
     ]
    },
    {
     "cell_type": "code",
     "collapsed": false,
     "input": [
      "v_vel = fV.variables['vomecrty']\n",
      "v_lat = fV.variables['nav_lat']\n",
      "v_lon = fV.variables['nav_lon']\n",
      "timestamp = 71\n",
      "depthlevel = 5\n",
      "V = v_vel[timestamp,depthlevel,:,:]\n",
      "X = v_lon[:,:]\n",
      "Y = v_lat[:,:]\n",
      "pylab.contourf(X,Y,V)\n",
      "pylab.colorbar()"
     ],
     "language": "python",
     "metadata": {},
     "outputs": [
      {
       "ename": "NameError",
       "evalue": "name 'fV' is not defined",
       "output_type": "pyerr",
       "traceback": [
        "\u001b[1;31m---------------------------------------------------------------------------\u001b[0m\n\u001b[1;31mNameError\u001b[0m                                 Traceback (most recent call last)",
        "\u001b[1;32m<ipython-input-10-3a5e98768d3b>\u001b[0m in \u001b[0;36m<module>\u001b[1;34m()\u001b[0m\n\u001b[1;32m----> 1\u001b[1;33m \u001b[0mv_vel\u001b[0m \u001b[1;33m=\u001b[0m \u001b[0mfV\u001b[0m\u001b[1;33m.\u001b[0m\u001b[0mvariables\u001b[0m\u001b[1;33m[\u001b[0m\u001b[1;34m'vomecrty'\u001b[0m\u001b[1;33m]\u001b[0m\u001b[1;33m\u001b[0m\u001b[0m\n\u001b[0m\u001b[0;32m      2\u001b[0m \u001b[0mv_lat\u001b[0m \u001b[1;33m=\u001b[0m \u001b[0mfV\u001b[0m\u001b[1;33m.\u001b[0m\u001b[0mvariables\u001b[0m\u001b[1;33m[\u001b[0m\u001b[1;34m'nav_lat'\u001b[0m\u001b[1;33m]\u001b[0m\u001b[1;33m\u001b[0m\u001b[0m\n\u001b[0;32m      3\u001b[0m \u001b[0mv_lon\u001b[0m \u001b[1;33m=\u001b[0m \u001b[0mfV\u001b[0m\u001b[1;33m.\u001b[0m\u001b[0mvariables\u001b[0m\u001b[1;33m[\u001b[0m\u001b[1;34m'nav_lon'\u001b[0m\u001b[1;33m]\u001b[0m\u001b[1;33m\u001b[0m\u001b[0m\n\u001b[0;32m      4\u001b[0m \u001b[0mtimestamp\u001b[0m \u001b[1;33m=\u001b[0m \u001b[1;36m71\u001b[0m\u001b[1;33m\u001b[0m\u001b[0m\n\u001b[0;32m      5\u001b[0m \u001b[0mdepthlevel\u001b[0m \u001b[1;33m=\u001b[0m \u001b[1;36m5\u001b[0m\u001b[1;33m\u001b[0m\u001b[0m\n",
        "\u001b[1;31mNameError\u001b[0m: name 'fV' is not defined"
       ]
      }
     ],
     "prompt_number": 10
    },
    {
     "cell_type": "markdown",
     "metadata": {},
     "source": [
      "Set the sea surface height variables."
     ]
    },
    {
     "cell_type": "code",
     "collapsed": false,
     "input": [
      "T_ssh = fT.variables['sossheig']\n",
      "T_lat = fT.variables['nav_lat']\n",
      "T_lon = fT.variables['nav_lon']\n",
      "eta = T_ssh[:,:,:]\n",
      "X = T_lon[:,:]\n",
      "Y = T_lat[:,:]"
     ],
     "language": "python",
     "metadata": {},
     "outputs": [],
     "prompt_number": 13
    },
    {
     "cell_type": "markdown",
     "metadata": {},
     "source": [
      "Again using the matlab like interface, define a function to plot the surface height at a given time step with given contour levels."
     ]
    },
    {
     "cell_type": "code",
     "collapsed": false,
     "input": [
      "def tidal_height(timeindex):\n",
      "    levels = np.arange(-1.0,1.25,0.25)\n",
      "    plt.contourf(X,Y,eta[timeindex,:,:],levels)"
     ],
     "language": "python",
     "metadata": {},
     "outputs": [],
     "prompt_number": 44
    },
    {
     "cell_type": "code",
     "collapsed": false,
     "input": [
      "timeindex = 2\n",
      "levels = np.arange(-1.0,1.25,0.25)\n",
      "tidal_height(timeindex)"
     ],
     "language": "python",
     "metadata": {},
     "outputs": [
      {
       "metadata": {},
       "output_type": "display_data",
       "png": "[encoded data removed]",
       "text": [
        "<matplotlib.figure.Figure at 0xf0c7fd0>"
       ]
      }
     ],
     "prompt_number": 37
    },
    {
     "cell_type": "markdown",
     "metadata": {},
     "source": [
      "Using the object type matlab interface, create a flickery movie of the surface height."
     ]
    },
    {
     "cell_type": "code",
     "collapsed": false,
     "input": [
      "import time\n",
      "from IPython.core.display import clear_output, display\n",
      "levels = np.arange(-1,1.25,0.25)\n",
      "\n",
      "f, ax = plt.subplots()\n",
      "\n",
      "for i in range(72):\n",
      "    ax.contourf(X,Y,eta[i,:,:],levels)\n",
      "    time.sleep(0.1)\n",
      "    clear_output()\n",
      "    display(f)\n",
      "    ax.cla()\n",
      "plt.close()"
     ],
     "language": "python",
     "metadata": {},
     "outputs": [
      {
       "metadata": {},
       "output_type": "display_data",
       "png": "[encoded data removed]",
       "text": [
        "<matplotlib.figure.Figure at 0x3e568d0>"
       ]
      }
     ],
     "prompt_number": 16
    },
    {
     "cell_type": "code",
     "collapsed": false,
     "input": [
      "fig,ax = plt.subplots(figsize=(6,6))\n",
      "ani = animation.FuncAnimation(fig, tidal_height, frames=72, blit=True)\n",
      "ani.save('im.mp4', metadata={'artist':'SalishSea'},fps=1)"
     ],
     "language": "python",
     "metadata": {},
     "outputs": [
      {
       "metadata": {},
       "output_type": "display_data",
       "png": "[encoded data removed]",
       "text": [
        "<matplotlib.figure.Figure at 0x3411b850>"
       ]
      }
     ],
     "prompt_number": 52
    },
    {
     "cell_type": "code",
     "collapsed": false,
     "input": [],
     "language": "python",
     "metadata": {},
     "outputs": []
    }
   ],
   "metadata": {}
  }
 ]
}