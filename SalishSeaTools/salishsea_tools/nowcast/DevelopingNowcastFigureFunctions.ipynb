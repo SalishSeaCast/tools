{
 "metadata": {
  "name": "",
  "signature": "sha256:1f23e6609c9d7446ccba6515789048103e541a723bfcae6f3921f355137f7f16"
 },
 "nbformat": 3,
 "nbformat_minor": 0,
 "worksheets": [
  {
   "cells": [
    {
     "cell_type": "markdown",
     "metadata": {},
     "source": [
      "This notebook describes the recommended process for development of\n",
      "functions for the `salishsea_tools.nowcast.figures` module,\n",
      "and provides an example of development of such a function."
     ]
    },
    {
     "cell_type": "code",
     "collapsed": false,
     "input": [],
     "language": "python",
     "metadata": {},
     "outputs": []
    }
   ],
   "metadata": {}
  }
 ]
}