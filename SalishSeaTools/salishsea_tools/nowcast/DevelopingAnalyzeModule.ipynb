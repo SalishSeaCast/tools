{
 "metadata": {
  "name": "",
  "signature": "sha256:ec990b52a616773c6ecb19cec66156a5e2ab1d6f35ddeec5b83d05c0190fd76b"
 },
 "nbformat": 3,
 "nbformat_minor": 0,
 "worksheets": [
  {
   "cells": [
    {
     "cell_type": "code",
     "collapsed": false,
     "input": [
      "# figures.py imports\n",
      "from __future__ import division\n",
      "\n",
      "from cStringIO import StringIO\n",
      "import datetime\n",
      "import glob\n",
      "import os\n",
      "\n",
      "import arrow\n",
      "from dateutil import tz\n",
      "import matplotlib.dates as mdates\n",
      "import matplotlib.gridspec as gridspec\n",
      "import matplotlib.pyplot as plt\n",
      "import matplotlib.cm as cm\n",
      "import netCDF4 as nc\n",
      "import numpy as np\n",
      "import pandas as pd\n",
      "import requests\n",
      "from scipy import interpolate as interp\n",
      "\n",
      "from salishsea_tools import (\n",
      "    nc_tools,\n",
      "    viz_tools,\n",
      "    stormtools,\n",
      "    tidetools,\n",
      ")\n",
      "\n",
      "from salishsea_tools.nowcast import figures\n",
      "from salishsea_tools.nowcast import analyze"
     ],
     "language": "python",
     "metadata": {},
     "outputs": [],
     "prompt_number": 1
    },
    {
     "cell_type": "code",
     "collapsed": false,
     "input": [
      "%matplotlib inline"
     ],
     "language": "python",
     "metadata": {},
     "outputs": [],
     "prompt_number": 2
    },
    {
     "cell_type": "code",
     "collapsed": false,
     "input": [
      "bathy = nc.Dataset('/data/nsoontie/MEOPAR/NEMO-forcing/grid/bathy_meter_SalishSea2.nc')"
     ],
     "language": "python",
     "metadata": {},
     "outputs": [],
     "prompt_number": 3
    },
    {
     "cell_type": "code",
     "collapsed": false,
     "input": [
      "t_orig=datetime.datetime(2015,1,23); t_final=datetime.datetime(2015, 1, 26)"
     ],
     "language": "python",
     "metadata": {},
     "outputs": [],
     "prompt_number": 4
    },
    {
     "cell_type": "code",
     "collapsed": false,
     "input": [
      "path='/data/dlatorne/MEOPAR/SalishSea/nowcast/'"
     ],
     "language": "python",
     "metadata": {},
     "outputs": [],
     "prompt_number": 5
    },
    {
     "cell_type": "heading",
     "level": 1,
     "metadata": {},
     "source": [
      "Functions in development"
     ]
    },
    {
     "cell_type": "code",
     "collapsed": false,
     "input": [
      "def create_path_results2(mode, t_orig, period, grid):\n",
      "    \"\"\" Filters the list returned by create_path_results to display\n",
      "    only filenames that contain the period (1h or 1d) and grid\n",
      "    (eg. grid_T) specified.\n",
      "    \"\"\"\n",
      "    \n",
      "    filenames = analyze.create_path_results(mode, t_orig)\n",
      "    filenames = filter(lambda k: period in k, filenames)\n",
      "    filenames = filter(lambda k: grid in k, filenames)\n",
      "    \n",
      "    return filenames"
     ],
     "language": "python",
     "metadata": {},
     "outputs": [],
     "prompt_number": 6
    },
    {
     "cell_type": "code",
     "collapsed": false,
     "input": [
      "create_path_results2('nowcast', t_orig, '1h', 'grid_T')"
     ],
     "language": "python",
     "metadata": {},
     "outputs": [
      {
       "metadata": {},
       "output_type": "pyout",
       "prompt_number": 7,
       "text": [
        "['/data/dlatorne/MEOPAR/SalishSea/nowcast/23jan15/SalishSea_1h_20150123_20150123_grid_T.nc']"
       ]
      }
     ],
     "prompt_number": 7
    },
    {
     "cell_type": "code",
     "collapsed": false,
     "input": [
      "[lats, lons] = figures.station_coords()\n",
      "lats['Point Atkinson']"
     ],
     "language": "python",
     "metadata": {},
     "outputs": [
      {
       "metadata": {},
       "output_type": "pyout",
       "prompt_number": 9,
       "text": [
        "49.33"
       ]
      }
     ],
     "prompt_number": 9
    },
    {
     "cell_type": "markdown",
     "metadata": {},
     "source": [
      "def plot_new_function(ax, modes_all, grid_B, t_orig, name):\n",
      "    \"\"\" Intermediate plot function.\n",
      "    \"\"\"\n",
      "    \n",
      "    paths = analyze.model_paths()\n",
      "    colours = {'nowcast':'DodgerBlue', 'forecast':'ForestGreen', 'forecast2':'MediumVioletRed'}\n",
      "    \n",
      "    t_final = t_orig + datetime.timedelta(days=1)\n",
      "\n",
      "    for mode in modes_all:\n",
      "        files_all = create_path_results2(mode, t_orig, '1h', 'grid_T')\n",
      "        analyze.plot_files(ax, grid_B, files_all, 'sossheig', 'None', t_orig, t_orig, name, mode, colours[mode])\n",
      "    \n",
      "    ax.legend(loc = 2, ncol = 3)\n",
      "    ax.set_xlim([t_orig, t_final]) \n",
      "    \n",
      "    return ax\n"
     ]
    },
    {
     "cell_type": "markdown",
     "metadata": {},
     "source": [
      "def plot_new_function_all(t_orig, figsize = (20, 7)):\n",
      "    \"\"\" Final function.\n",
      "    \"\"\"\n",
      "    \n",
      "    runs_list = analyze.verified_runs(t_orig)\n",
      "    \n",
      "    fig, ax = plt.subplots(1, 1, figsize=figsize)  \n",
      "\n",
      "    ax = plot_new_function(ax, runs_list, bathy, t_orig, 'Point Atkinson')\n",
      "    fig.autofmt_xdate()\n",
      "    \n",
      "    return fig"
     ]
    },
    {
     "cell_type": "markdown",
     "metadata": {},
     "source": [
      "def calculate_wlev_residual_DFO(name, t_orig, t_final):\n",
      "    \"\"\" Calculates the residual of the observed water levels with respect to the model's sea surface height at a\n",
      "    specific station and for a specific date.\n",
      "    \"\"\"\n",
      "    \n",
      "    start_date = t_orig.strftime('%d-%b-%Y')\n",
      "    end_date = t_final.strftime('%d-%b-%Y')\n",
      "    \n",
      "    wlev_meas = figures.load_archived_observations(name, start_date, end_date)\n",
      "    \n",
      "    # Prepare to find residual\n",
      "    residual = np.zeros(len(wleav_meas.time))\n",
      "    \n",
      "    # Residual and time check\n",
      "    for i in np.arange(0,len(wleav_meas.time)):\n",
      "        if any(ssh.time==wleav_meas.time[i]):\n",
      "            residual[i] = wleav_meas.wlev[i] - ssh[ssh.time==wleav_meas.time[i]]\n",
      "        else:\n",
      "            residual[i]=float('Nan')\n",
      "    \n",
      "    return residual   "
     ]
    },
    {
     "cell_type": "heading",
     "level": 1,
     "metadata": {},
     "source": [
      "Functions in module"
     ]
    },
    {
     "cell_type": "code",
     "collapsed": false,
     "input": [
      "def get_filenames(t_orig, t_final, period, grid, model_path):\n",
      "    \"\"\"Returns a list with the filenames for all files over the\n",
      "    defined period of time and sorted in chronological order.\n",
      "    \"\"\"\n",
      "\n",
      "    numdays = (t_final-t_orig).days\n",
      "    dates = [t_orig + datetime.timedelta(days=num)\n",
      "             for num in range(0, numdays+1)]\n",
      "    dates.sort()\n",
      "\n",
      "    allfiles = glob.glob(model_path+'*/SalishSea_'+period+'*_'+grid+'.nc')\n",
      "    sdt = dates[0].strftime('%Y%m%d')\n",
      "    edt = dates[-1].strftime('%Y%m%d')\n",
      "    sstr = 'SalishSea_{}_{}_{}_{}.nc'.format(period, sdt, sdt, grid)\n",
      "    estr = 'SalishSea_{}_{}_{}_{}.nc'.format(period, edt, edt, grid)\n",
      "\n",
      "    files = []\n",
      "    for filename in allfiles:\n",
      "        if os.path.basename(filename) >= sstr:\n",
      "            if os.path.basename(filename) <= estr:\n",
      "                files.append(filename)\n",
      "\n",
      "    files.sort(key=os.path.basename)\n",
      "\n",
      "    return files"
     ],
     "language": "python",
     "metadata": {},
     "outputs": []
    },
    {
     "cell_type": "code",
     "collapsed": false,
     "input": [
      "def combine_files(files, var, depth, j, i):\n",
      "    \"\"\"Returns the value of the variable entered over\n",
      "    multiple files covering a certain period of time.\n",
      "    \"\"\"\n",
      "\n",
      "    time = np.array([])\n",
      "    var_ary = np.array([])\n",
      "\n",
      "    for f in files:\n",
      "        G = nc.Dataset(f)\n",
      "        if depth == 'None':\n",
      "            var_tmp = G.variables[var][:, j, i]\n",
      "        else:\n",
      "            var_tmp = G.variables[var][:, depth, j, i]\n",
      "\n",
      "        var_ary = np.append(var_ary, var_tmp, axis=0)\n",
      "        t = nc_tools.timestamp(G, np.arange(var_tmp.shape[0]))\n",
      "        for ind in range(len(t)):\n",
      "            t[ind] = t[ind].datetime\n",
      "        time = np.append(time, t)\n",
      "\n",
      "    return var_ary, time"
     ],
     "language": "python",
     "metadata": {},
     "outputs": []
    },
    {
     "cell_type": "heading",
     "level": 2,
     "metadata": {},
     "source": [
      "New function HERE"
     ]
    },
    {
     "cell_type": "code",
     "collapsed": false,
     "input": [
      "def combine_files2(grid_B, files, var, depth, name)\n",
      "    \"\"\" Retrieves the information generated by combine_files and prepares it to be plotted.\n",
      "    \"\"\"\n",
      "\n",
      "    # Stations information\n",
      "    [lats, lons] = figures.station_coords()\n",
      "\n",
      "    # Bathymetry\n",
      "    bathy, X, Y = tidetools.get_bathy_data(grid_B)\n",
      "\n",
      "    # Get index\n",
      "    [j, i] = tidetools.find_closest_model_point(lons[name], lats[name], X, Y,\n",
      "                                                bathy, allow_land=False)\n",
      "\n",
      "    # Call function\n",
      "    var_ary, time = combine_files(files, var, depth, j, i)\n",
      "    \n",
      "    return var_ary, time"
     ],
     "language": "python",
     "metadata": {},
     "outputs": []
    },
    {
     "cell_type": "heading",
     "level": 2,
     "metadata": {},
     "source": [
      "Changes to existing function HERE"
     ]
    },
    {
     "cell_type": "code",
     "collapsed": false,
     "input": [
      "def plot_files(ax, t_orig, t_final, label, color):\n",
      "    \"\"\"Plots values of  variable over multiple files covering\n",
      "    a certain period of time.\n",
      "    \"\"\"\n",
      "\n",
      "    # Stations information\n",
      "    #[lats, lons] = figures.station_coords()\n",
      "\n",
      "    # Bathymetry\n",
      "    #bathy, X, Y = tidetools.get_bathy_data(grid_B)\n",
      "\n",
      "    # Get index\n",
      "    #[j, i] = tidetools.find_closest_model_point(lons[name], lats[name], X, Y,\n",
      "    #                                            bathy, allow_land=False)\n",
      "\n",
      "    # Call function\n",
      "    #var_ary, time = combine_files(files, var, depth, j, i)\n",
      "\n",
      "    # Plot\n",
      "    ax.plot(time, var_ary, label=label, color=color, linewidth=2)\n",
      "\n",
      "    # Figure format\n",
      "    ax_start = t_orig\n",
      "    ax_end = t_final + datetime.timedelta(days=1)\n",
      "    ax.set_xlim(ax_start, ax_end)\n",
      "    hfmt = mdates.DateFormatter('%m/%d %H:%M')\n",
      "    ax.xaxis.set_major_formatter(hfmt)\n",
      "\n",
      "    return ax"
     ],
     "language": "python",
     "metadata": {},
     "outputs": []
    },
    {
     "cell_type": "heading",
     "level": 2,
     "metadata": {},
     "source": [
      "Changes to be made here HERE"
     ]
    },
    {
     "cell_type": "code",
     "collapsed": false,
     "input": [
      "def compare_ssh_tides(grid_B, files, t_orig, t_final, name, PST=0, MSL=0, figsize=(20, 5)):\n",
      "    \n",
      "    # Figure\n",
      "    fig, ax = plt.subplots(1, 1, figsize=figsize)\n",
      "\n",
      "    # Model\n",
      "    ax = plot_files(ax, grid_B, files, 'sossheig', 'None',\n",
      "                    t_orig, t_final, name)\n",
      "    # Tides\n",
      "    figures.plot_tides(ax, name, PST, MSL, color='green')\n",
      "\n",
      "    # Figure format\n",
      "    fig.autofmt_xdate()\n",
      "    ax.set_title('Modelled Sea Surface Height versus Predicted Tides:{t_start:%d-%b-%Y} to {t_end:%d-%b-%Y}'.format(t_start=t_orig, t_end=t_final))\n",
      "    ax.legend(loc=3, ncol=2)\n",
      "\n",
      "    return fig\n"
     ],
     "language": "python",
     "metadata": {},
     "outputs": []
    },
    {
     "cell_type": "heading",
     "level": 1,
     "metadata": {},
     "source": [
      "..."
     ]
    },
    {
     "cell_type": "code",
     "collapsed": false,
     "input": [
      "def calculate_wlev_residual_NOAA(name, t_orig):\n",
      "    \"\"\" Calculates the residual of the observed water levels with respect to the predicted tides at a specific station\n",
      "    and for a specific date.\n",
      "    \n",
      "    :returns: residual (calculated residual), obs (observed water levels), tides (predicted tides)\n",
      "    \"\"\"\n",
      "    stations = {'Cherry Point': 9449424, 'Neah Bay': 9443090, 'Friday Harbor': 9449880}\n",
      "    start_date = t_orig.strftime('%d-%b-%Y')\n",
      "    end_date = start_date\n",
      "    obs=figures.get_NOAA_wlevels(stations[name],start_date,end_date)\n",
      "    tides=figures.get_NOAA_tides(stations[name],start_date,end_date)\n",
      "    \n",
      "    # Prepare to find residual\n",
      "    residual = np.zeros(len(obs.time))\n",
      "    \n",
      "    # Residual and time check\n",
      "    for i in np.arange(0,len(obs.time)):\n",
      "        if any(tides.time==obs.time[i]):\n",
      "            residual[i] = obs.wlev[i] - tides.pred[tides.time==obs.time[i]]\n",
      "        else:\n",
      "            residual[i]=float('Nan')\n",
      "            \n",
      "    return residual, obs, tides"
     ],
     "language": "python",
     "metadata": {},
     "outputs": []
    },
    {
     "cell_type": "code",
     "collapsed": false,
     "input": [
      "def plot_wlev_residual_NOAA(t_orig, elements, figsize=(20,5)):\n",
      "    \"\"\" Plots the water level residual as calculated by the function calculate_wlev_residual_NOAA and has\n",
      "    the option to also plot the observed water levels and predicted tides over the course of one day.\n",
      "    \n",
      "    :returns: fig\n",
      "    \"\"\"\n",
      "    \n",
      "    residual, obs, tides = calculate_wlev_residual_NOAA('Neah Bay', t_orig)\n",
      "\n",
      "    # Figure\n",
      "    fig, ax=plt.subplots(1,1,figsize=figsize)\n",
      "    \n",
      "    #Plot\n",
      "    ax.plot(obs.time,residual, 'Gray', label='Obs Residual', linewidth=2)\n",
      "    if elements == 'all':\n",
      "        ax.plot(obs.time, obs.wlev, 'DodgerBlue', label='Obs Water Level', linewidth=2)\n",
      "        ax.plot(tides.time,tides.pred[tides.time==obs.time], 'ForestGreen', label='Pred Tides', linewidth=2)\n",
      "    if elements == 'residual':\n",
      "        pass\n",
      "    ax.legend()\n",
      "    hfmt = mdates.DateFormatter('%m/%d %H:%M')\n",
      "    ax.xaxis.set_major_formatter(hfmt)\n",
      "    fig.autofmt_xdate()\n",
      "    \n",
      "    return fig\n",
      "    "
     ],
     "language": "python",
     "metadata": {},
     "outputs": []
    },
    {
     "cell_type": "code",
     "collapsed": false,
     "input": [
      "def model_paths():\n",
      "    \"\"\" A dictionary of paths containing model results for nowcasts, forecasts and forecasts 2.\n",
      "    \n",
      "    :returns: paths (dictionary)\n",
      "    \"\"\"\n",
      "    \n",
      "    paths = {'nowcast':'/data/dlatorne/MEOPAR/SalishSea/nowcast/',\n",
      "             'forecast':'/ocean/sallen/allen/research/MEOPAR/SalishSea/forecast/',\n",
      "             'forecast2':'/ocean/sallen/allen/research/MEOPAR/SalishSea/forecast2/'}\n",
      "    return paths"
     ],
     "language": "python",
     "metadata": {},
     "outputs": []
    },
    {
     "cell_type": "code",
     "collapsed": false,
     "input": [
      "def create_path_sshNB(mode, t_orig):\n",
      "    \"\"\" Creates a complete path to the .txt file containing predicted water levels at Neah Bay for the specified date\n",
      "    and for the mode chosen.\n",
      "    \n",
      "    :returns: filename_NB (path including filename), and run_date, a datetime object of the simulation run date\n",
      "    \"\"\"\n",
      "    \n",
      "    # All paths \n",
      "    paths = model_paths()\n",
      "    \n",
      "    run_date = t_orig\n",
      "    \n",
      "    # Directory housing all daily nowcast or forecast folders\n",
      "    if mode == 'nowcast':\n",
      "        results_home = paths['nowcast']\n",
      "    elif mode == 'forecast':\n",
      "        results_home = paths['forecast']\n",
      "        run_date = run_date + datetime.timedelta(days=-1)\n",
      "    elif mode == 'forecast2':\n",
      "        results_home = paths['forecast2']\n",
      "        run_date = run_date + datetime.timedelta(days=-2)\n",
      "    \n",
      "    # Directory housing all result files for one day\n",
      "    results_dir = os.path.join(results_home, run_date.strftime('%d%b%y').lower())\n",
      "    \n",
      "    # Directory and filename\n",
      "    filename_NB = glob.glob(results_dir+'/ssh*')\n",
      "    filename_NB = filename_NB[0]\n",
      "\n",
      "    return filename_NB, run_date\n"
     ],
     "language": "python",
     "metadata": {},
     "outputs": []
    },
    {
     "cell_type": "code",
     "collapsed": false,
     "input": [
      "def create_path_results(mode, t_orig):\n",
      "    \"\"\" Compiles a list of complete paths to the various model result .nc files (both 1d and 1h and grid U, V, W and T)\n",
      "    for the specified mode and date.\n",
      "    \n",
      "    :returns: filenames (list of paths including filenames)\n",
      "    \"\"\"\n",
      "    \n",
      "    # All paths \n",
      "    paths = model_paths()\n",
      "    \n",
      "    run_date = t_orig\n",
      "    \n",
      "    # Directory housing all daily nowcast or forecast folders\n",
      "    if mode == 'nowcast':\n",
      "        results_home = paths['nowcast']\n",
      "    elif mode == 'forecast':\n",
      "        results_home = paths['forecast']\n",
      "        run_date = run_date + datetime.timedelta(days=-1)\n",
      "    elif mode == 'forecast2':\n",
      "        results_home = paths['forecast2']\n",
      "        run_date = run_date + datetime.timedelta(days=-2)\n",
      "        \n",
      "    results_dir = os.path.join(results_home, run_date.strftime('%d%b%y').lower())\n",
      "    filenames = glob.glob(results_dir+'/SalishSea_*_grid_*.nc')\n",
      "    \n",
      "    return filenames"
     ],
     "language": "python",
     "metadata": {},
     "outputs": []
    },
    {
     "cell_type": "code",
     "collapsed": false,
     "input": [
      "def verified_runs(t_orig):\n",
      "    \"\"\" Compiles a list of run types (nowcast, forecast, and/or forecast 2) that have been verified as complete by \n",
      "    checking if their corresponding .nc files for that day (generated by create_path_results) exist.\n",
      "    \n",
      "    :returns: runs_list (list of strings)\n",
      "    \"\"\"\n",
      "    \n",
      "    runs_list = []\n",
      "    for mode in ['nowcast','forecast','forecast2']:\n",
      "        files = create_path_results(mode, t_orig)\n",
      "        if files:\n",
      "            runs_list.append(mode)\n",
      "    return runs_list"
     ],
     "language": "python",
     "metadata": {},
     "outputs": []
    },
    {
     "cell_type": "code",
     "collapsed": false,
     "input": [
      "def feet_to_metres(feet):\n",
      "    \"\"\" Converts feet to metres.\n",
      "    \n",
      "    :returns: metres\n",
      "    \"\"\"\n",
      "    \n",
      "    metres = feet*0.3048\n",
      "    return metres"
     ],
     "language": "python",
     "metadata": {},
     "outputs": []
    },
    {
     "cell_type": "code",
     "collapsed": false,
     "input": [
      "def load_surge_data(filename_NB):\n",
      "    \"\"\"Loads the textfile with surge predictions for Neah Bay.\n",
      "    \n",
      "    :returns: data (data structure)\n",
      "    \"\"\"\n",
      "\n",
      "    #Loading the data from that text file.\n",
      "    data = pd.read_csv(filename_NB,skiprows=3,names=['date','surge','tide','obs','fcst','anom','comment'], \n",
      "    comment='#')\n",
      "    #drop rows with all Nans\n",
      "    data= data.dropna(how='all')    \n",
      "    return data"
     ],
     "language": "python",
     "metadata": {},
     "outputs": []
    },
    {
     "cell_type": "code",
     "collapsed": false,
     "input": [
      "def to_datetime(datestr,year,isDec,isJan):\n",
      "    \"\"\" Converts the string given by datestr to a datetime object.\n",
      "    The year is an argument because the datestr in the NOAA data doesn't have a year.\n",
      "    Times are in UTC/GMT.\n",
      "    isDec and isJan are booleans that indicate if the run date was Dec or Jan\n",
      "    \n",
      "    :returns: dt (datetime representation of datestr)\n",
      "    \"\"\"\n",
      "    dt = datetime.datetime.strptime(datestr,'%m/%d %HZ')\n",
      "    # Dealing with year changes.\n",
      "    if isDec and dt.month == 1:\n",
      "        dt = dt.replace(year=year+1)\n",
      "    elif isJan and dt.month == 12:\n",
      "        dt = dt.replace(year=year-1)\n",
      "    else:\n",
      "        dt = dt.replace(year=year)\n",
      "    dt=dt.replace(tzinfo=tz.tzutc())\n",
      "    return dt"
     ],
     "language": "python",
     "metadata": {},
     "outputs": []
    },
    {
     "cell_type": "code",
     "collapsed": false,
     "input": [
      "def retrieve_surge(data, run_date):\n",
      "    \"\"\" Gathers the surge information a forcing file from on run_date. \n",
      "    \n",
      "    :returns: surges (meteres), times (array with time_counter)\n",
      "    \"\"\"\n",
      "    \n",
      "    surge=[]\n",
      "    times=[]\n",
      "    isDec, isJan = False, False\n",
      "    if run_date.month == 1:\n",
      "        isJan = True\n",
      "    if run_date.month == 12:\n",
      "        isDec = True\n",
      "    #convert datetime to string for comparing with times in data\n",
      "    for d in data.date:\n",
      "\n",
      "        dt = to_datetime(d, run_date.year,isDec,isJan)\n",
      "        times.append(dt)\n",
      "        daystr = dt.strftime('%m/%d %HZ')\n",
      "        tide=data.tide[data.date==daystr].item()\n",
      "        obs=data.obs[data.date==daystr].item()\n",
      "        fcst = data.fcst[data.date==daystr].item()\n",
      "        if obs == 99.90:\n",
      "            #fall daylight savings\n",
      "            if fcst==99.90:\n",
      "                #if surge is empty, just append 0\n",
      "                if not surge:\n",
      "                    surge.append(0)\n",
      "                else:  \n",
      "                #otherwise append previous value \n",
      "                    surge.append(surge[-1])\n",
      "            else:\n",
      "                surge.append(feet_to_metres(fcst-tide))\n",
      "        else:\n",
      "            surge.append(feet_to_metres(obs-tide))\n",
      "    \n",
      "    return surge, times"
     ],
     "language": "python",
     "metadata": {},
     "outputs": []
    },
    {
     "cell_type": "code",
     "collapsed": false,
     "input": [
      "def plot_forced_residual(ax, modes_all, t_orig):\n",
      "    \"\"\" Plots observed water level residual (calculate_wlev_residual_NOAA) at Neah Bay against forced residuals \n",
      "    using surge data (retrieve_surge) from existing .txt files for Neah Bay. Function may produce none, any, \n",
      "    or all (nowcast, forecast, forecast 2) forced residuals depending on availability for specified date.\n",
      "    \n",
      "    :returns: figure\n",
      "    \"\"\"\n",
      "    \n",
      "    t_forcing_start = t_orig\n",
      "    t_forcing_end = t_forcing_start + datetime.timedelta(days=1)\n",
      "    \n",
      "    colours = {'observed':'DimGray', 'nowcast':'DodgerBlue', 'forecast':'ForestGreen', 'forecast2':'MediumVioletRed'}\n",
      "    \n",
      "    # Residual\n",
      "    residual, obs, tides = calculate_wlev_residual_NOAA('Neah Bay', t_forcing_start)\n",
      "    ax.plot(obs.time, residual, colours['observed'], label='observed',\n",
      "            linewidth=2.5)\n",
      "\n",
      "    # Nowcast and Forecasts\n",
      "    for mode in modes_all:\n",
      "        try:\n",
      "            filename_NB, run_date = create_path_sshNB(mode, t_orig)\n",
      "            data = load_surge_data(filename_NB)\n",
      "            surge, dates = retrieve_surge(data, run_date)\n",
      "            ax.plot(dates, surge, label=mode, linewidth=2.5,\n",
      "                    color=colours[mode])\n",
      "        except IndexError:\n",
      "            pass\n",
      "\n",
      "    # Figure format\n",
      "    ax.set_xlim([t_forcing_start, t_forcing_end])\n",
      "    ax.set_ylim([-0.4, 0.2])\n",
      "    ax.set_xlabel('[hrs]')\n",
      "    ax.set_ylabel('[m]')\n",
      "    ax.set_title('Comparison of observed and forced sea surface height residuals: {t_forcing:%d-%b-%Y}'.format(t_forcing=t_forcing_start))\n",
      "    ax.legend(loc=2, ncol=4)\n",
      "    ax.grid()\n",
      "\n",
      "    return ax"
     ],
     "language": "python",
     "metadata": {},
     "outputs": []
    },
    {
     "cell_type": "code",
     "collapsed": false,
     "input": [
      "def plot_forced_residual_all(t_orig, figsize = (20, 7)):\n",
      "    \n",
      "    runs_list = verified_runs(t_orig)\n",
      "\n",
      "    # Figure\n",
      "    fig, ax = plt.subplots(1, 1, figsize=figsize)\n",
      "    ax = plot_forced_residual(ax, runs_list, t_orig)"
     ],
     "language": "python",
     "metadata": {},
     "outputs": []
    },
    {
     "cell_type": "code",
     "collapsed": false,
     "input": [],
     "language": "python",
     "metadata": {},
     "outputs": []
    }
   ],
   "metadata": {}
  }
 ]
}