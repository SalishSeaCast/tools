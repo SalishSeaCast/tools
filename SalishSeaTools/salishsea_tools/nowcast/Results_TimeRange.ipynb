{
 "metadata": {
  "name": "",
  "signature": "sha256:c44b629dc8a37418826a097e1407c0934d50b6dccdb15848b34fe7667870276d"
 },
 "nbformat": 3,
 "nbformat_minor": 0,
 "worksheets": [
  {
   "cells": [
    {
     "cell_type": "heading",
     "level": 1,
     "metadata": {},
     "source": [
      "Figures.py Imports"
     ]
    },
    {
     "cell_type": "code",
     "collapsed": false,
     "input": [
      "from __future__ import division\n",
      "\n",
      "from cStringIO import StringIO\n",
      "import datetime\n",
      "import glob\n",
      "import os\n",
      "\n",
      "import arrow\n",
      "from dateutil import tz\n",
      "import matplotlib.dates as mdates\n",
      "import matplotlib.gridspec as gridspec\n",
      "import matplotlib.pyplot as plt\n",
      "import matplotlib.cm as cm\n",
      "import netCDF4 as nc\n",
      "import numpy as np\n",
      "import pandas as pd\n",
      "import requests\n",
      "from scipy import interpolate as interp\n",
      "\n",
      "from salishsea_tools import (\n",
      "    nc_tools,\n",
      "    viz_tools,\n",
      "    stormtools,\n",
      "    tidetools,\n",
      ")\n",
      "\n",
      "from salishsea_tools.nowcast import figures"
     ],
     "language": "python",
     "metadata": {},
     "outputs": [],
     "prompt_number": 1
    },
    {
     "cell_type": "code",
     "collapsed": false,
     "input": [
      "%matplotlib inline"
     ],
     "language": "python",
     "metadata": {},
     "outputs": [],
     "prompt_number": 2
    },
    {
     "cell_type": "heading",
     "level": 1,
     "metadata": {},
     "source": [
      "Files"
     ]
    },
    {
     "cell_type": "code",
     "collapsed": false,
     "input": [
      "bathy = nc.Dataset('/data/nsoontie/MEOPAR/NEMO-forcing/grid/bathy_meter_SalishSea2.nc')"
     ],
     "language": "python",
     "metadata": {},
     "outputs": [],
     "prompt_number": 3
    },
    {
     "cell_type": "heading",
     "level": 1,
     "metadata": {},
     "source": [
      "Function 0"
     ]
    },
    {
     "cell_type": "code",
     "collapsed": false,
     "input": [
      "\n",
      "def date(year, month, day_start, day_end, period, grid):\n",
      "    \n",
      "    day_range = np.arange(day_start, day_end+1)\n",
      "    day_len = len(day_range)\n",
      "    files_all = [None] * day_len\n",
      "    inds = np.arange(day_len)\n",
      "    \n",
      "    for i, day in zip(inds, day_range):\n",
      "        run_date = datetime.datetime(year,month, day)\n",
      "        results_home = '/data/dlatorne/MEOPAR/SalishSea/nowcast/'\n",
      "        results_dir = os.path.join(results_home, run_date.strftime('%d%b%y').lower())\n",
      "        filename = 'SalishSea_' + period + '_' + run_date.strftime('%Y%m%d').lower() + '_' + run_date.strftime('%Y%m%d').lower() + '_' + grid + '.nc'\n",
      "        file_single = os.path.join(results_dir, filename)\n",
      "        files_all[i] = file_single\n",
      "        \n",
      "    print files_all\n",
      "\n",
      "    return files_all"
     ],
     "language": "python",
     "metadata": {},
     "outputs": [],
     "prompt_number": 4
    },
    {
     "cell_type": "code",
     "collapsed": false,
     "input": [
      "def get_filenames(t_orig,t_final,period,grid,model_path):\n",
      "    \n",
      "   numdays=(t_final-t_orig).days\n",
      "\n",
      "   dates = [ t_orig + datetime.timedelta(days=num) for num in range(0,numdays+1)]\n",
      "   dates.sort();\n",
      "\n",
      "   allfiles=glob.glob(model_path+'*/SalishSea_'+period+'*_'+grid+'.nc')\n",
      "\n",
      "\n",
      "   sstr ='SalishSea_'+period+ '_'+dates[0].strftime('%Y%m%d') +'_'+dates[0].strftime('%Y%m%d') +'_'+grid+'.nc'\n",
      "   estr ='SalishSea_'+period+ '_'+dates[-1].strftime('%Y%m%d') +'_'+dates[-1].strftime('%Y%m%d') +'_'+grid+'.nc'\n",
      "\n",
      "   files=[]\n",
      "   print sstr\n",
      "   print estr\n",
      "   for filename in allfiles:\n",
      "    if os.path.basename(filename) >= sstr:\n",
      "        if os.path.basename(filename) <= estr:\n",
      "            files.append(filename)\n",
      "\n",
      "   files.sort(key=os.path.basename)\n",
      "\n",
      "   return files"
     ],
     "language": "python",
     "metadata": {},
     "outputs": [],
     "prompt_number": 5
    },
    {
     "cell_type": "code",
     "collapsed": false,
     "input": [
      "t_orig=datetime.datetime(2014,10,5); t_final=datetime.datetime(2014,10,9)\n",
      "path='/data/dlatorne/MEOPAR/SalishSea/nowcast/'\n",
      "\n",
      "get_filenames(t_orig,t_final,'1h','grid_T',path)"
     ],
     "language": "python",
     "metadata": {},
     "outputs": [
      {
       "output_type": "stream",
       "stream": "stdout",
       "text": [
        "SalishSea_1h_20141005_20141005_grid_T.nc\n",
        "SalishSea_1h_20141009_20141009_grid_T.nc\n"
       ]
      },
      {
       "metadata": {},
       "output_type": "pyout",
       "prompt_number": 6,
       "text": [
        "[]"
       ]
      }
     ],
     "prompt_number": 6
    },
    {
     "cell_type": "heading",
     "level": 1,
     "metadata": {},
     "source": [
      "Function 1"
     ]
    },
    {
     "cell_type": "code",
     "collapsed": false,
     "input": [
      "def combine_var(files,var,depth,j,i):\n",
      "    \n",
      "    time=np.array([]); \n",
      "    var_ary=np.array([]);\n",
      "    for f in files:\n",
      "        G=nc.Dataset(f)\n",
      "        if depth=='None':\n",
      "            var_tmp=G.variables[var][:,j,i]\n",
      "        else:\n",
      "            var_tmp=G.variables[var][:,depth,j,i]\n",
      "        var_ary=np.append(var_ary,var_tmp,axis=0)\n",
      "        t=nc_tools.timestamp(G,np.arange(var_tmp.shape[0]))\n",
      "        for ind in range(len(t)):\n",
      "            t[ind]=t[ind].datetime\n",
      "        time=np.append(time,t)\n",
      "\n",
      "    return var_ary,time"
     ],
     "language": "python",
     "metadata": {},
     "outputs": [],
     "prompt_number": 7
    },
    {
     "cell_type": "heading",
     "level": 1,
     "metadata": {},
     "source": [
      "Function 2"
     ]
    },
    {
     "cell_type": "code",
     "collapsed": false,
     "input": [
      "def plot_week(grid_B, files, var, depth, name, figsize=(20,5)):\n",
      "    \"\"\"Plot days.\n",
      "    \"\"\"\n",
      "    \n",
      "    # Stations information\n",
      "    [lats, lons] = figures.station_coords()\n",
      "    \n",
      "    # Bathymetry\n",
      "    bathy, X, Y = tidetools.get_bathy_data(grid_B)\n",
      "    \n",
      "    # Get index\n",
      "    [j,i]=tidetools.find_closest_model_point(lons[name],lats[name],X,Y,bathy,allow_land=False)\n",
      "    \n",
      "    # Call append function\n",
      "    var_ary, time= combine_var(files, var, depth,j,i)\n",
      "    \n",
      "    #Figure\n",
      "    fig,ax=plt.subplots(1,1,figsize=figsize)\n",
      "    \n",
      "    #Plot\n",
      "    ax.plot(time,var_ary)\n",
      "    hfmt = mdates.DateFormatter('%m/%d %H:%M')\n",
      "    ax.xaxis.set_major_formatter(hfmt)\n",
      "    \n",
      "    fig.autofmt_xdate()\n",
      "    \n",
      "       \n",
      "    return fig"
     ],
     "language": "python",
     "metadata": {},
     "outputs": [],
     "prompt_number": 8
    },
    {
     "cell_type": "code",
     "collapsed": false,
     "input": [
      "t_orig=datetime.datetime(2014,12,28); t_final=datetime.datetime(2015,1,1)\n",
      "path='/data/dlatorne/MEOPAR/SalishSea/nowcast/'\n",
      "\n",
      "files_all=get_filenames(t_orig,t_final,'1h','grid_T',path)\n",
      "fig = plot_week(bathy, files_all, 'sossheig', 'None', 'Point Atkinson')"
     ],
     "language": "python",
     "metadata": {},
     "outputs": [
      {
       "output_type": "stream",
       "stream": "stdout",
       "text": [
        "SalishSea_1h_20141228_20141228_grid_T.nc\n",
        "SalishSea_1h_20150101_20150101_grid_T.nc\n"
       ]
      },
      {
       "metadata": {},
       "output_type": "display_data",
       "png": "[encoded data removed]",
       "text": [
        "<matplotlib.figure.Figure at 0x7f8a256b8cd0>"
       ]
      }
     ],
     "prompt_number": 9
    },
    {
     "cell_type": "code",
     "collapsed": false,
     "input": [],
     "language": "python",
     "metadata": {},
     "outputs": [],
     "prompt_number": 9
    }
   ],
   "metadata": {}
  }
 ]
}