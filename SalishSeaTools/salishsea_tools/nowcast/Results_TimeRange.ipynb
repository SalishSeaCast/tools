{
 "metadata": {
  "name": "",
  "signature": "sha256:29149c700f88cfec79c46b87642d17954bb58abc33efe7a6f17c89c61de58fa8"
 },
 "nbformat": 3,
 "nbformat_minor": 0,
 "worksheets": [
  {
   "cells": [
    {
     "cell_type": "heading",
     "level": 1,
     "metadata": {},
     "source": [
      "Figures.py Imports"
     ]
    },
    {
     "cell_type": "code",
     "collapsed": false,
     "input": [
      "from __future__ import division\n",
      "\n",
      "from cStringIO import StringIO\n",
      "import datetime\n",
      "import glob\n",
      "import os\n",
      "\n",
      "import arrow\n",
      "from dateutil import tz\n",
      "import matplotlib.dates as mdates\n",
      "import matplotlib.gridspec as gridspec\n",
      "import matplotlib.pyplot as plt\n",
      "import matplotlib.cm as cm\n",
      "import netCDF4 as nc\n",
      "import numpy as np\n",
      "import pandas as pd\n",
      "import requests\n",
      "from scipy import interpolate as interp\n",
      "\n",
      "from salishsea_tools import (\n",
      "    nc_tools,\n",
      "    viz_tools,\n",
      "    stormtools,\n",
      "    tidetools,\n",
      ")\n",
      "\n",
      "from salishsea_tools.nowcast import figures"
     ],
     "language": "python",
     "metadata": {},
     "outputs": [],
     "prompt_number": 1
    },
    {
     "cell_type": "code",
     "collapsed": false,
     "input": [
      "%matplotlib inline"
     ],
     "language": "python",
     "metadata": {},
     "outputs": [],
     "prompt_number": 2
    },
    {
     "cell_type": "heading",
     "level": 1,
     "metadata": {},
     "source": [
      "Files"
     ]
    },
    {
     "cell_type": "code",
     "collapsed": false,
     "input": [
      "bathy = nc.Dataset('/data/nsoontie/MEOPAR/NEMO-forcing/grid/bathy_meter_SalishSea2.nc')"
     ],
     "language": "python",
     "metadata": {},
     "outputs": [],
     "prompt_number": 3
    },
    {
     "cell_type": "heading",
     "level": 1,
     "metadata": {},
     "source": [
      "Function 0"
     ]
    },
    {
     "cell_type": "code",
     "collapsed": false,
     "input": [
      "from glob import glob\n",
      "import os\n",
      "import datetime\n",
      "import numpy as np\n",
      "\n",
      "def date(year, month, day_start, day_end, period, grid):\n",
      "    \n",
      "    day_range = np.arange(day_start, day_end+1)\n",
      "    day_len = len(day_range)\n",
      "    files_all = [None] * day_len\n",
      "    inds = np.arange(day_len)\n",
      "    \n",
      "    for i, day in zip(inds, day_range):\n",
      "        run_date = datetime.datetime(year,month, day)\n",
      "        results_home = '/data/dlatorne/MEOPAR/SalishSea/nowcast/'\n",
      "        results_dir = os.path.join(results_home, run_date.strftime('%d%b%y').lower())\n",
      "        filename = 'SalishSea_' + period + '_' + run_date.strftime('%Y%m%d').lower() + '_' + run_date.strftime('%Y%m%d').lower() + '_' + grid + '.nc'\n",
      "        file_single = os.path.join(results_dir, filename)\n",
      "        files_all[i] = file_single\n",
      "        \n",
      "    print files_all\n",
      "\n",
      "    return files_all"
     ],
     "language": "python",
     "metadata": {},
     "outputs": [],
     "prompt_number": 4
    },
    {
     "cell_type": "heading",
     "level": 1,
     "metadata": {},
     "source": [
      "Function 1"
     ]
    },
    {
     "cell_type": "code",
     "collapsed": false,
     "input": [
      "def combine_var(files,var,depth,j,i):\n",
      "    \n",
      "    time=np.array([]); \n",
      "    var_ary=np.array([]);\n",
      "    for f in files:\n",
      "        G=nc.Dataset(f)\n",
      "        if depth=='None':\n",
      "            var_tmp=G.variables[var][:,j,i]\n",
      "        else:\n",
      "            var_tmp=G.variables[var][:,depth,j,i]\n",
      "        var_ary=np.append(var_ary,var_tmp,axis=0)\n",
      "        t=nc_tools.timestamp(G,np.arange(var_tmp.shape[0]))\n",
      "        for ind in range(len(t)):\n",
      "            t[ind]=t[ind].datetime\n",
      "        time=np.append(time,t)\n",
      "\n",
      "    return var_ary,time"
     ],
     "language": "python",
     "metadata": {},
     "outputs": [],
     "prompt_number": 5
    },
    {
     "cell_type": "heading",
     "level": 1,
     "metadata": {},
     "source": [
      "Function 2"
     ]
    },
    {
     "cell_type": "code",
     "collapsed": false,
     "input": [
      "def plot_week(grid_B, files, var, depth, name, figsize=(20,5)):\n",
      "    \"\"\"Plot days.\n",
      "    \"\"\"\n",
      "    \n",
      "    # Stations information\n",
      "    [lats, lons] = figures.station_coords()\n",
      "    \n",
      "    # Bathymetry\n",
      "    bathy, X, Y = tidetools.get_bathy_data(grid_B)\n",
      "    \n",
      "    # Get index\n",
      "    [j,i]=tidetools.find_closest_model_point(lons[name],lats[name],X,Y,bathy,allow_land=False)\n",
      "    \n",
      "    # Call append function\n",
      "    var_ary, time= combine_var(files, var, depth,j,i)\n",
      "    \n",
      "    #Figure\n",
      "    fig,ax=plt.subplots(1,1,figsize=figsize)\n",
      "    \n",
      "    #Plot\n",
      "    ax.plot(time,var_ary)\n",
      "    hfmt = mdates.DateFormatter('%m/%d %H:%M')\n",
      "    ax.xaxis.set_major_formatter(hfmt)\n",
      "    \n",
      "    fig.autofmt_xdate()\n",
      "    \n",
      "       \n",
      "    return fig"
     ],
     "language": "python",
     "metadata": {},
     "outputs": [],
     "prompt_number": 6
    },
    {
     "cell_type": "code",
     "collapsed": false,
     "input": [
      "files_all = date(2014, 12, 18, 22, '1h', 'grid_T')\n",
      "fig = plot_week(bathy, files_all, 'vosaline', 0, 'Point Atkinson')"
     ],
     "language": "python",
     "metadata": {},
     "outputs": [
      {
       "output_type": "stream",
       "stream": "stdout",
       "text": [
        "['/data/dlatorne/MEOPAR/SalishSea/nowcast/18dec14/SalishSea_1h_20141218_20141218_grid_T.nc', '/data/dlatorne/MEOPAR/SalishSea/nowcast/19dec14/SalishSea_1h_20141219_20141219_grid_T.nc', '/data/dlatorne/MEOPAR/SalishSea/nowcast/20dec14/SalishSea_1h_20141220_20141220_grid_T.nc', '/data/dlatorne/MEOPAR/SalishSea/nowcast/21dec14/SalishSea_1h_20141221_20141221_grid_T.nc', '/data/dlatorne/MEOPAR/SalishSea/nowcast/22dec14/SalishSea_1h_20141222_20141222_grid_T.nc']\n"
       ]
      },
      {
       "metadata": {},
       "output_type": "display_data",
       "png": "[encoded data removed]",
       "text": [
        "<matplotlib.figure.Figure at 0x7f3666c83990>"
       ]
      }
     ],
     "prompt_number": 8
    },
    {
     "cell_type": "code",
     "collapsed": false,
     "input": [],
     "language": "python",
     "metadata": {},
     "outputs": []
    }
   ],
   "metadata": {}
  }
 ]
}