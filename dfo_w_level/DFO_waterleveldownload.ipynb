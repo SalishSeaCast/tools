{
 "metadata": {
  "name": ""
 },
 "nbformat": 3,
 "nbformat_minor": 0,
 "worksheets": [
  {
   "cells": [
    {
     "cell_type": "markdown",
     "metadata": {},
     "source": [
      "FROM DOUG: \n",
      "\n",
      "It looks to me like the crucial step is submitting the form on http://www.meds-sdmm.dfo-mpo.gc.ca/isdm-gdsi/twl-mne/inventory-inventaire/interval-intervalle-eng.asp?user=isdm-gdsi&region=PAC&tst=1&no=7795. I think that the submit action there is causing a script to run on the server that puts the results in a temporary file and then shows you a page with the link to that file on it. So you need to mimic that in code - send a POST request with the dates and hourly, then do the GET request to download it.\n"
     ]
    },
    {
     "cell_type": "code",
     "collapsed": false,
     "input": [
      "import requests\n",
      "sitedata = {\n",
      "            'start_period': '01-JAN-2002',\n",
      "            'end_period': '04-JAN-2002',\n",
      "            'resolution': 'h',\n",
      "            'time_zone': 'l'\n",
      "           }\n",
      "r = requests.post(\"http://www.meds-sdmm.dfo-mpo.gc.ca/isdm-gdsi/twl-mne/inventory-inventaire/interval-intervalle-eng.asp?user=isdm-gdsi&region=PAC&tst=1&no=7795\", data=sitedata)\n",
      "\n",
      "\n",
      "\n",
      "\n",
      "\n"
     ],
     "language": "python",
     "metadata": {},
     "outputs": [],
     "prompt_number": 1
    },
    {
     "cell_type": "code",
     "collapsed": false,
     "input": [],
     "language": "python",
     "metadata": {},
     "outputs": [],
     "prompt_number": 9
    }
   ],
   "metadata": {}
  }
 ]
}