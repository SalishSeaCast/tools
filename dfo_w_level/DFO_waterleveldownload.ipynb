{
 "metadata": {
  "name": ""
 },
 "nbformat": 3,
 "nbformat_minor": 0,
 "worksheets": [
  {
   "cells": [
    {
     "cell_type": "code",
     "collapsed": false,
     "input": [
      "#Preamble\n",
      "%matplotlib inline\n",
      "import os\n",
      "import csv\n",
      "import datetime\n",
      "from itertools import islice\n",
      "import numpy as np\n",
      "import matplotlib.pyplot as plt\n",
      "import matplotlib.dates as mdates\n",
      "import netCDF4 as NC\n",
      "from matplotlib import pylab\n",
      "import requests"
     ],
     "language": "python",
     "metadata": {},
     "outputs": [],
     "prompt_number": 290
    },
    {
     "cell_type": "markdown",
     "metadata": {},
     "source": [
      "FROM DOUG: \n",
      "\n",
      "It looks to me like the crucial step is submitting the form on http://www.meds-sdmm.dfo-mpo.gc.ca/isdm-gdsi/twl-mne/inventory-inventaire/interval-intervalle-eng.asp?user=isdm-gdsi&region=PAC&tst=1&no=7795. I think that the submit action there is causing a script to run on the server that puts the results in a temporary file and then shows you a page with the link to that file on it. So you need to mimic that in code - send a POST request with the dates and hourly, then do the GET request to download it.\n"
     ]
    },
    {
     "cell_type": "markdown",
     "metadata": {},
     "source": [
      "There were a couple of more tricks to getting this to work.\n",
      "\n",
      "The name of the script that handles the POST request is in the `action` attribute of the `form` tag - `form_handler` below.\n",
      "That gets appended to the URL of the base part of the URL of the page that the form is on.\n",
      "I factored out that base URL part because it's common to both requests.\n",
      "It's pretty unconventional that the form handler uses both query string parameters\n",
      "(the key-value pairs separated by `&` characters after the `?`)\n",
      "and `POST` data,\n",
      "but that's old-school web programming for you...\n",
      "\n",
      "I experimented with moving the query string parameters from `form_handler` into `sitedata` but that doesn't work.\n",
      "\n",
      "The other trick is that the response from the `POST` request includes a cookie that has to be sent back with the `GET` request that contains the `csv` file name.\n",
      "I guessed that was going to be the case because going directly to the last link was failing,\n",
      "and that suggested that there was some \"state\" information connecting the 2 requests.\n",
      "\"State\" often means cookies,\n",
      "especially in old-school web programming.\n",
      "I confirmed my guess by looking at the `headers` and `cookies` attributes of the `request.Response` object from the `POST` request.\n",
      "\n",
      "Wrapping the 2 requests in a `requests.Session()` context is an easy,\n",
      "elegant way to manage the cookie.\n",
      "\n",
      "The `%5C` strings in `data_provider` encoded back-slashes.\n",
      "The first 2 can be changed back to `\\` characters,\n",
      "but if the 3rd one is the request fails,\n",
      "so I just left them encoded.\n",
      "The `Size` parameter at the end of `data_provider` struck me as problematic\n",
      "and indeed results in truncation is it is incorrect.\n",
      "Fortunately,\n",
      "it appear that it is not required."
     ]
    },
    {
     "cell_type": "heading",
     "level": 1,
     "metadata": {},
     "source": [
      "Get data from DFO website"
     ]
    },
    {
     "cell_type": "code",
     "collapsed": false,
     "input": [
      "#DFO station number and required dates\n",
      "station_no = 7795\n",
      "start_date = '02-JAN-2002'\n",
      "end_date = '05-JAN-2002'\n",
      "\n",
      "base_url = 'http://www.meds-sdmm.dfo-mpo.gc.ca/isdm-gdsi/twl-mne/inventory-inventaire/'\n",
      "form_handler = 'data-donnees-eng.asp?user=isdm-gdsi&region=PAC&tst=1&no='+str(station_no)\n",
      "\n",
      "sitedata = {\n",
      "            'start_period': start_date,\n",
      "            'end_period': end_date,\n",
      "            'resolution': 'h',\n",
      "            'time_zone': 'l',\n",
      "           }\n",
      "\n",
      "#data_provider = 'download-telecharger.asp?File=E:%5Ciusr_tmpfiles%5CTWL%5C7795-01-JAN-2002_slev.csv&Name=7795-01-JAN-2002_slev.csv'\n",
      "data_provider = 'download-telecharger.asp?File=E:%5Ciusr_tmpfiles%5CTWL%5C'+str(station_no)+'-'+start_date+'_slev.csv&Name='+str(station_no)+'-'+start_date+'_slev.csv'\n",
      "\n",
      "with requests.Session() as s:\n",
      "    s.post(base_url + form_handler, data=sitedata)\n",
      "    r = s.get(base_url + data_provider)"
     ],
     "language": "python",
     "metadata": {},
     "outputs": [],
     "prompt_number": 291
    },
    {
     "cell_type": "markdown",
     "metadata": {},
     "source": [
      "I've just printed the `text` attribute of the reponse below to prove that we're getting the expected data,\n",
      "but you should be able to save it to a file with:\n",
      "```python\n",
      "with open('foo', 'w') as f:\n",
      "    f.write(r.text)\n",
      "```"
     ]
    },
    {
     "cell_type": "heading",
     "level": 1,
     "metadata": {},
     "source": [
      "Take the Response object from the request above and extract the data we want:"
     ]
    },
    {
     "cell_type": "code",
     "collapsed": false,
     "input": [
      "#initialise the lists\n",
      "dates = []\n",
      "wlev = []\n",
      "stat_name = []\n",
      "stat_num = []\n",
      "stat_lat = []\n",
      "stat_lon = []\n",
      "n = 0\n",
      "\n",
      "#go through the data line by line (first 8 lines are headers)\n",
      "for line in r.iter_lines(chunk_size=128):\n",
      "    test = line.split(',')\n",
      "    #get station name from data\n",
      "    if n==0:\n",
      "        stat_name = test[1:2]\n",
      "    #get station number from data\n",
      "    if n==1:\n",
      "        stat_num = map(int,test[1:2])\n",
      "    #get station latitude from data\n",
      "    if n==2:\n",
      "        stat_lat = map(float,test[1:2])\n",
      "    #get station longitude from data (should be -ve in BC!!)\n",
      "    if n==3:\n",
      "        stat_lon = map(float,test[1:2])\n",
      "        stat_lon[0] = stat_lon[0]*-1\n",
      "    if n>8:\n",
      "        if line: \n",
      "            #get water level data\n",
      "            wlev.append(test[1:2])\n",
      "            #get date data\n",
      "            dates.append(datetime.datetime.strptime(test[0],\"%Y/%m/%d %H:%M\"))\n",
      "    n = n+1"
     ],
     "language": "python",
     "metadata": {},
     "outputs": [],
     "prompt_number": 292
    },
    {
     "cell_type": "markdown",
     "metadata": {},
     "source": [
      "Assuming that I have downloaded a .csv file, I could also extract the measured data in the following way:\n",
      "```python\n",
      "#go to the directory and get a list of files\n",
      "loc = \"/ocean/klesouef/meopar/tools/dfo_w_level\"\n",
      "os.chdir(loc)\n",
      "files = os.listdir(loc)\n",
      "\n",
      "#find only those files that end in .csv\n",
      "for files in os.listdir(\".\"):\n",
      "    if files.endswith(\".csv\"):\n",
      "        h = files\n",
      "\n",
      "#open the .csv file and get date and wlev data\n",
      "#initialise the lists\n",
      "dates = []\n",
      "wlev = []\n",
      "with open(h, 'rb') as f:\n",
      "    reader = csv.reader(f)\n",
      "    #ignore first 8 header lines\n",
      "    for row in islice(reader, 8, None):\n",
      "        for row in reader:\n",
      "            #get water level data\n",
      "            wlev.append(row[1])\n",
      "            #get date data\n",
      "            dates.append(datetime.datetime.strptime(row[0],\"%Y/%m/%d %H:%M\"))\n",
      "\n",
      "#could also consider using something like this \n",
      "#dates, wlev = np.loadtxt(h,unpack=True,delimiter=\",\",skiprows=8,converters={ 0: mdates.strpdate2num('%Y/%m/%d %H:%M')})\n",
      "\n",
      "```"
     ]
    },
    {
     "cell_type": "heading",
     "level": 1,
     "metadata": {},
     "source": [
      "Now get the model output data"
     ]
    },
    {
     "cell_type": "code",
     "collapsed": false,
     "input": [
      "#go to the directory and get the modelled water level data\n",
      "loc = \"/ocean/klesouef/meopar/tools/NetCDF_Plot\"\n",
      "os.chdir(loc)\n",
      "fT = NC.Dataset('WC3_CU60_20020102_20020104_grid_T.nc','r')\n",
      "\n",
      "#get some variables from the netcdf\n",
      "T_ssh = fT.variables['sossheig']\n",
      "T_lat = fT.variables['nav_lat']\n",
      "T_lon = fT.variables['nav_lon']\n",
      "eta = T_ssh[:,:,:]\n",
      "X = T_lon[:,:]\n",
      "Y = T_lat[:,:]\n",
      "\n",
      "# get the bathy to check if this grid point is on land ('masked')\n",
      "os.chdir('/ocean/klesouef/meopar/nemo-forcing/grid')\n",
      "grid = NC.Dataset('SubDom_bathy_meter_NOBCchancomp.nc','r')\n",
      "bathy = grid.variables['Bathymetry'][:,:]\n",
      "\n",
      "#find the closest model grid point to the measured data\n",
      "#tolerance for searching for grid points\n",
      "tol = 0.005  \n",
      "\n",
      "#search for a grid point with lon/lat within tolerance of measured location and that is not masked (ie. is water)\n",
      "x1, y1=np.where(np.logical_and(np.logical_and((np.logical_and(X>stat_lon[0]-tol,X<stat_lon[0]+tol)),\n",
      "                               np.logical_and(Y>stat_lat[0]-tol,Y<stat_lat[0]+tol)),bathy.mask==False))\n",
      "\n",
      "#(what if no point is found?? what if more than 1 point is found? To do tomorrow!!)\n",
      "\n",
      "print(x1,y1)\n",
      "print(bathy[x1,y1])\n",
      "\n",
      "#TO DO: Calculate the distance between the measured and modelled location to check how bad this is doing\n",
      "#Plot the two spots on a map and see if it looks OK"
     ],
     "language": "python",
     "metadata": {},
     "outputs": [
      {
       "output_type": "stream",
       "stream": "stdout",
       "text": [
        "(array([269]), array([329]))\n",
        "[25.0]\n"
       ]
      }
     ],
     "prompt_number": 430
    },
    {
     "cell_type": "markdown",
     "metadata": {},
     "source": [
      "Another way I was trying was to search around the grid point for a non-masked cell where we can get water level data from by using 'circle_around' from Stack Overflow to search in a square around from centre:\n",
      "http://stackoverflow.com/questions/8979214/iterate-over-2d-array-in-an-expanding-circular-spiral \n",
      "This seems unnecessary though?! \n"
     ]
    },
    {
     "cell_type": "heading",
     "level": 1,
     "metadata": {},
     "source": [
      "Plot the modelled and measured timeseries data!"
     ]
    },
    {
     "cell_type": "code",
     "collapsed": false,
     "input": [
      "#plot time series of measured water level at this point\n",
      "model_start_time = datetime.datetime.strptime(fT.variables['time_counter'].time_origin,' %Y-%b-%d %H:%S:%M')\n",
      "#interval_write is in seconds, change it to hours\n",
      "timestep = fT.variables['sossheig'].interval_write/(60*60)\n",
      "timevec = np.linspace(0,len(eta),len(eta)/timestep,endpoint=False)\n",
      "#create list of dates\n",
      "dateList = [model_start_time + datetime.timedelta(hours=x) for x in timevec ]\n",
      "\n",
      "#plot measured and modelled data\n",
      "plt.plot(dateList,eta[:,x1,y1],'b-',dates,wlev,'r-')\n",
      "plt.ylabel('Water level (m CD)')\n",
      "plt.xlabel('Time')\n",
      "plt.title('Water level at '+stat_name[0]+' (station '+str(stat_num[0])+')')\n",
      "plt.ylim(-1,6)\n",
      "plt.legend(('Model','Measured'))"
     ],
     "language": "python",
     "metadata": {},
     "outputs": [
      {
       "metadata": {},
       "output_type": "pyout",
       "prompt_number": 432,
       "text": [
        "<matplotlib.legend.Legend at 0x9c392d0>"
       ]
      },
      {
       "metadata": {},
       "output_type": "display_data",
       "png": "[encoded data removed]",
       "text": [
        "<matplotlib.figure.Figure at 0x8bd15d0>"
       ]
      }
     ],
     "prompt_number": 432
    },
    {
     "cell_type": "code",
     "collapsed": false,
     "input": [
      "#THINK ABOUT TIME SOME MORE!\n",
      "test=fT.variables['time_counter']\n",
      "test1 = test[:]\n",
      "print(test1)\n",
      "#hmmm... this seems to be on the half hour...."
     ],
     "language": "python",
     "metadata": {},
     "outputs": [
      {
       "output_type": "stream",
       "stream": "stdout",
       "text": [
        "[   1800.    5400.    9000.   12600.   16200.   19800.   23400.   27000.\n",
        "   30600.   34200.   37800.   41400.   45000.   48600.   52200.   55800.\n",
        "   59400.   63000.   66600.   70200.   73800.   77400.   81000.   84600.\n",
        "   88200.   91800.   95400.   99000.  102600.  106200.  109800.  113400.\n",
        "  117000.  120600.  124200.  127800.  131400.  135000.  138600.  142200.\n",
        "  145800.  149400.  153000.  156600.  160200.  163800.  167400.  171000.\n",
        "  174600.  178200.  181800.  185400.  189000.  192600.  196200.  199800.\n",
        "  203400.  207000.  210600.  214200.  217800.  221400.  225000.  228600.\n",
        "  232200.  235800.  239400.  243000.  246600.  250200.  253800.  257400.]\n"
       ]
      }
     ],
     "prompt_number": 295
    },
    {
     "cell_type": "heading",
     "level": 1,
     "metadata": {},
     "source": [
      "Compare tidal harmonics between measured and modelled"
     ]
    }
   ],
   "metadata": {}
  }
 ]
}