{
 "metadata": {
  "name": ""
 },
 "nbformat": 3,
 "nbformat_minor": 0,
 "worksheets": [
  {
   "cells": [
    {
     "cell_type": "markdown",
     "metadata": {},
     "source": [
      "FROM DOUG: \n",
      "\n",
      "It looks to me like the crucial step is submitting the form on http://www.meds-sdmm.dfo-mpo.gc.ca/isdm-gdsi/twl-mne/inventory-inventaire/interval-intervalle-eng.asp?user=isdm-gdsi&region=PAC&tst=1&no=7795. I think that the submit action there is causing a script to run on the server that puts the results in a temporary file and then shows you a page with the link to that file on it. So you need to mimic that in code - send a POST request with the dates and hourly, then do the GET request to download it.\n"
     ]
    },
    {
     "cell_type": "code",
     "collapsed": false,
     "input": [
      "import requests\n",
      "sitedata = {\n",
      "            'start_period': '01-JAN-2002',\n",
      "            'end_period': '04-JAN-2002',\n",
      "            'resolution': 'h',\n",
      "            'time_zone': 'l'\n",
      "           }\n",
      "r = requests.post(\"http://www.meds-sdmm.dfo-mpo.gc.ca/isdm-gdsi/twl-mne/inventory-inventaire/interval-intervalle-eng.asp?user=isdm-gdsi&region=PAC&tst=1&no=7795\", data=sitedata)\n"
     ],
     "language": "python",
     "metadata": {},
     "outputs": [],
     "prompt_number": 1
    },
    {
     "cell_type": "markdown",
     "metadata": {},
     "source": [
      "Assuming that I have successfully downloaded the .csv file, extract the measured data"
     ]
    },
    {
     "cell_type": "code",
     "collapsed": false,
     "input": [
      "#preamble\n",
      "import os\n",
      "import csv\n",
      "import datetime\n",
      "from itertools import islice\n",
      "import numpy as np\n",
      "import matplotlib.pyplot as plt\n",
      "import matplotlib.dates as mdates\n",
      "\n",
      "#go to the directory and get a list of files\n",
      "loc = \"/ocean/klesouef/meopar/tools/dfo_w_level\"\n",
      "os.chdir(loc)\n",
      "files = os.listdir(loc)\n",
      "\n",
      "#find only those files that end in .csv\n",
      "for files in os.listdir(\".\"):\n",
      "    if files.endswith(\".csv\"):\n",
      "        h = files\n",
      "\n",
      "#open the .csv file and get date and wlev data\n",
      "#initialise the lists\n",
      "dates = []\n",
      "wlev = []\n",
      "with open(h, 'rb') as f:\n",
      "    reader = csv.reader(f)\n",
      "    #ignore first 8 header lines\n",
      "    for row in islice(reader, 8, None):\n",
      "        for row in reader:\n",
      "            #get water level data\n",
      "            wlev.append(row[1])\n",
      "            #get date data\n",
      "            dates.append(datetime.datetime.strptime(row[0],\"%Y/%m/%d %H:%M\"))\n",
      "\n",
      "#consider using something like this \n",
      "#dates, wlev = np.loadtxt(h,unpack=True,delimiter=\",\",skiprows=8,converters={ 0: mdates.strpdate2num('%Y/%m/%d %H:%M')})\n",
      "\n",
      "#plot the measured data\n",
      "plt.plot_date(x=dates,y=wlev,fmt='r-')\n",
      "plt.show()\n",
      "plt.ylabel('Water level (m CD)')\n",
      "\n",
      "\n"
     ],
     "language": "python",
     "metadata": {},
     "outputs": [
      {
       "metadata": {},
       "output_type": "pyout",
       "prompt_number": 125,
       "text": [
        "<matplotlib.text.Text at 0x5398810>"
       ]
      }
     ],
     "prompt_number": 125
    },
    {
     "cell_type": "markdown",
     "metadata": {},
     "source": [
      "Now get the model output data"
     ]
    },
    {
     "cell_type": "code",
     "collapsed": false,
     "input": [
      "import netCDF4 as NC\n",
      "\n",
      "#go to the directory and get the modelled water level data\n",
      "loc = \"/ocean/klesouef/meopar/tools/NetCDF_Plot\"\n",
      "os.chdir(loc)\n",
      "fT = NC.Dataset('WC3_CU60_20020102_20020104_grid_T.nc','r')\n",
      "\n",
      "#look at the dimensions of the netcdf\n",
      "fT.dimensions.keys()\n",
      "fT.variables.keys()\n",
      "\n",
      "#get some variables from the netcdf\n",
      "T_ssh = fT.variables['sossheig']\n",
      "T_lat = fT.variables['nav_lat']\n",
      "T_lon = fT.variables['nav_lon']\n",
      "eta = T_ssh[:,:,:]\n",
      "X = T_lon[:,:]\n",
      "Y = T_lat[:,:]\n",
      "\n",
      "print(T_ssh)\n"
     ],
     "language": "python",
     "metadata": {},
     "outputs": [
      {
       "output_type": "stream",
       "stream": "stdout",
       "text": [
        "<type 'netCDF4.Variable'>\n",
        "float32 sossheig(time_counter, y, x)\n",
        "    units: m\n",
        "    standard_name: Sea Surface Height\n",
        "    _FillValue: 9.96921e+36\n",
        "    long_name: Sea Surface Height\n",
        "    online_operation: ave(x)\n",
        "    interval_operation: 60.0\n",
        "    interval_write: 3600.0\n",
        "    coordinates: time_counter nav_lat nav_lon\n",
        "unlimited dimensions: time_counter\n",
        "current shape = (72, 345, 398)\n",
        "\n"
       ]
      }
     ],
     "prompt_number": 130
    },
    {
     "cell_type": "code",
     "collapsed": false,
     "input": [],
     "language": "python",
     "metadata": {},
     "outputs": [],
     "prompt_number": 127
    },
    {
     "cell_type": "code",
     "collapsed": false,
     "input": [],
     "language": "python",
     "metadata": {},
     "outputs": []
    }
   ],
   "metadata": {}
  }
 ]
}