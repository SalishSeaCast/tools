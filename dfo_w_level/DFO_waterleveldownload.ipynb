{
 "metadata": {
  "name": ""
 },
 "nbformat": 3,
 "nbformat_minor": 0,
 "worksheets": [
  {
   "cells": [
    {
     "cell_type": "code",
     "collapsed": false,
     "input": [
      "#Preamble\n",
      "%matplotlib inline\n",
      "import os\n",
      "import csv\n",
      "import datetime\n",
      "from itertools import islice\n",
      "import numpy as np\n",
      "import matplotlib.pyplot as plt\n",
      "import matplotlib.dates as mdates\n",
      "import netCDF4 as NC\n",
      "from matplotlib import pylab\n",
      "import requests"
     ],
     "language": "python",
     "metadata": {},
     "outputs": [],
     "prompt_number": 228
    },
    {
     "cell_type": "markdown",
     "metadata": {},
     "source": [
      "FROM DOUG: \n",
      "\n",
      "It looks to me like the crucial step is submitting the form on http://www.meds-sdmm.dfo-mpo.gc.ca/isdm-gdsi/twl-mne/inventory-inventaire/interval-intervalle-eng.asp?user=isdm-gdsi&region=PAC&tst=1&no=7795. I think that the submit action there is causing a script to run on the server that puts the results in a temporary file and then shows you a page with the link to that file on it. So you need to mimic that in code - send a POST request with the dates and hourly, then do the GET request to download it.\n"
     ]
    },
    {
     "cell_type": "markdown",
     "metadata": {},
     "source": [
      "There were a couple of more tricks to getting this to work.\n",
      "\n",
      "The name of the script that handles the POST request is in the `action` attribute of the `form` tag - `form_handler` below.\n",
      "That gets appended to the URL of the base part of the URL of the page that the form is on.\n",
      "I factored out that base URL part because it's common to both requests.\n",
      "It's pretty unconventional that the form handler uses both query string parameters\n",
      "(the key-value pairs separated by `&` characters after the `?`)\n",
      "and `POST` data,\n",
      "but that's old-school web programming for you...\n",
      "\n",
      "I experimented with moving the query string parameters from `form_handler` into `sitedata` but that doesn't work.\n",
      "\n",
      "The other trick is that the response from the `POST` request includes a cookie that has to be sent back with the `GET` request that contains the `csv` file name.\n",
      "I guessed that was going to be the case because going directly to the last link was failing,\n",
      "and that suggested that there was some \"state\" information connecting the 2 requests.\n",
      "\"State\" often means cookies,\n",
      "especially in old-school web programming.\n",
      "I confirmed my guess by looking at the `headers` and `cookies` attributes of the `request.Response` object from the `POST` request.\n",
      "\n",
      "Wrapping the 2 requests in a `requests.Session()` context is an easy,\n",
      "elegant way to manage the cookie.\n",
      "\n",
      "The `%5C` strings in `data_provider` encoded back-slashes.\n",
      "The first 2 can be changed back to `\\` characters,\n",
      "but if the 3rd one is the request fails,\n",
      "so I just left them encoded.\n",
      "The `Size` parameter at the end of `data_provider` struck me as problematic\n",
      "and indeed results in truncation is it is incorrect.\n",
      "Fortunately,\n",
      "it appear that it is not required."
     ]
    },
    {
     "cell_type": "heading",
     "level": 1,
     "metadata": {},
     "source": [
      "Get data from DFO website"
     ]
    },
    {
     "cell_type": "code",
     "collapsed": false,
     "input": [
      "#DFO station number and required dates\n",
      "station_no = 7795\n",
      "start_date = '02-JAN-2002'\n",
      "end_date = '05-JAN-2002'\n",
      "\n",
      "base_url = 'http://www.meds-sdmm.dfo-mpo.gc.ca/isdm-gdsi/twl-mne/inventory-inventaire/'\n",
      "form_handler = 'data-donnees-eng.asp?user=isdm-gdsi&region=PAC&tst=1&no='+str(station_no)\n",
      "\n",
      "sitedata = {\n",
      "            'start_period': start_date,\n",
      "            'end_period': end_date,\n",
      "            'resolution': 'h',\n",
      "            'time_zone': 'l',\n",
      "           }\n",
      "\n",
      "#data_provider = 'download-telecharger.asp?File=E:%5Ciusr_tmpfiles%5CTWL%5C7795-01-JAN-2002_slev.csv&Name=7795-01-JAN-2002_slev.csv'\n",
      "data_provider = 'download-telecharger.asp?File=E:%5Ciusr_tmpfiles%5CTWL%5C'+str(station_no)+'-'+start_date+'_slev.csv&Name='+str(station_no)+'-'+start_date+'_slev.csv'\n",
      "\n",
      "with requests.Session() as s:\n",
      "    s.post(base_url + form_handler, data=sitedata)\n",
      "    r = s.get(base_url + data_provider)\n",
      "print(r.text)"
     ],
     "language": "python",
     "metadata": {},
     "outputs": [
      {
       "output_type": "stream",
       "stream": "stdout",
       "text": [
        "Station_Name,Point Atkinson, B.C.\r\n",
        "Station_Number,7795\r\n",
        "Latitude_Decimal_Degrees,49.337\r\n",
        "Longitude_Decimal_Degrees,123.253\r\n",
        "Datum,CD\r\n",
        "Time_Zone,PST\r\n",
        "SLEV=Observed Water Level\r\n",
        "Obs_date,SLEV(metres),ATMS,PSAL,TEMP\r\n",
        "2002/01/02 00:00,0.82,\r\n",
        "2002/01/02 01:00,0.57,\r\n",
        "2002/01/02 02:00,0.83,\r\n",
        "2002/01/02 03:00,1.42,\r\n",
        "2002/01/02 04:00,2.24,\r\n",
        "2002/01/02 05:00,3.19,\r\n",
        "2002/01/02 06:00,4.08,\r\n",
        "2002/01/02 07:00,4.77,\r\n",
        "2002/01/02 08:00,5.13,\r\n",
        "2002/01/02 09:00,5.13,\r\n",
        "2002/01/02 10:00,4.93,\r\n",
        "2002/01/02 11:00,4.55,\r\n",
        "2002/01/02 12:00,4.13,\r\n",
        "2002/01/02 13:00,3.79,\r\n",
        "2002/01/02 14:00,3.62,\r\n",
        "2002/01/02 15:00,3.72,\r\n",
        "2002/01/02 16:00,3.96,\r\n",
        "2002/01/02 17:00,4.23,\r\n",
        "2002/01/02 18:00,4.45,\r\n",
        "2002/01/02 19:00,4.49,\r\n",
        "2002/01/02 20:00,4.2,\r\n",
        "2002/01/02 21:00,3.66,\r\n",
        "2002/01/02 22:00,2.97,\r\n",
        "2002/01/02 23:00,2.21,\r\n",
        "2002/01/03 00:00,1.48,\r\n",
        "2002/01/03 01:00,0.95,\r\n",
        "2002/01/03 02:00,0.8,\r\n",
        "2002/01/03 03:00,1.11,\r\n",
        "2002/01/03 04:00,1.72,\r\n",
        "2002/01/03 05:00,2.52,\r\n",
        "2002/01/03 06:00,3.42,\r\n",
        "2002/01/03 07:00,4.24,\r\n",
        "2002/01/03 08:00,4.82,\r\n",
        "2002/01/03 09:00,5.09,\r\n",
        "2002/01/03 10:00,5,\r\n",
        "2002/01/03 11:00,4.72,\r\n",
        "2002/01/03 12:00,4.27,\r\n",
        "2002/01/03 13:00,3.8,\r\n",
        "2002/01/03 14:00,3.42,\r\n",
        "2002/01/03 15:00,3.24,\r\n",
        "2002/01/03 16:00,3.27,\r\n",
        "2002/01/03 17:00,3.46,\r\n",
        "2002/01/03 18:00,3.7,\r\n",
        "2002/01/03 19:00,3.89,\r\n",
        "2002/01/03 20:00,3.89,\r\n",
        "2002/01/03 21:00,3.66,\r\n",
        "2002/01/03 22:00,3.18,\r\n",
        "2002/01/03 23:00,2.6,\r\n",
        "2002/01/04 00:00,1.93,\r\n",
        "2002/01/04 01:00,1.35,\r\n",
        "2002/01/04 02:00,0.95,\r\n",
        "2002/01/04 03:00,0.93,\r\n",
        "2002/01/04 04:00,1.32,\r\n",
        "2002/01/04 05:00,1.94,\r\n",
        "2002/01/04 06:00,2.75,\r\n",
        "2002/01/04 07:00,3.59,\r\n",
        "2002/01/04 08:00,4.33,\r\n",
        "2002/01/04 09:00,4.81,\r\n",
        "2002/01/04 10:00,4.97,\r\n",
        "2002/01/04 11:00,4.81,\r\n",
        "2002/01/04 12:00,4.46,\r\n",
        "2002/01/04 13:00,3.95,\r\n",
        "2002/01/04 14:00,3.44,\r\n",
        "2002/01/04 15:00,3.02,\r\n",
        "2002/01/04 16:00,2.83,\r\n",
        "2002/01/04 17:00,2.84,\r\n",
        "2002/01/04 18:00,3.03,\r\n",
        "2002/01/04 19:00,3.31,\r\n",
        "2002/01/04 20:00,3.54,\r\n",
        "2002/01/04 21:00,3.62,\r\n",
        "2002/01/04 22:00,3.52,\r\n",
        "2002/01/04 23:00,3.15,\r\n",
        "2002/01/05 00:00,2.71,\r\n",
        "\n"
       ]
      }
     ],
     "prompt_number": 229
    },
    {
     "cell_type": "markdown",
     "metadata": {},
     "source": [
      "I've just printed the `text` attribute of the reponse below to prove that we're getting the expected data,\n",
      "but you should be able to save it to a file with:\n",
      "```python\n",
      "with open('foo', 'w') as f:\n",
      "    f.write(r.text)\n",
      "```"
     ]
    },
    {
     "cell_type": "heading",
     "level": 1,
     "metadata": {},
     "source": [
      "Take the Response object from the request above and extract the data we want:"
     ]
    },
    {
     "cell_type": "code",
     "collapsed": false,
     "input": [
      "#initialise the lists\n",
      "dates = []\n",
      "wlev = []\n",
      "stat_name = []\n",
      "stat_num = []\n",
      "stat_lat = []\n",
      "stat_lon = []\n",
      "n = 0\n",
      "\n",
      "#go through the data line by line (first 8 lines are headers)\n",
      "for line in r.iter_lines(chunk_size=128):\n",
      "    test = line.split(',')\n",
      "    #get station name from data\n",
      "    if n==0:\n",
      "        stat_name = test[1:2]\n",
      "    #get station number from data\n",
      "    if n==1:\n",
      "        stat_num = map(int,test[1:2])\n",
      "    #get station latitude from data\n",
      "    if n==2:\n",
      "        stat_lat = map(float,test[1:2])\n",
      "    #get station longitude from data (should be -ve in BC!!)\n",
      "    if n==3:\n",
      "        stat_lon = map(float,test[1:2])\n",
      "        stat_lon[0] = stat_lon[0]*-1\n",
      "    if n>8:\n",
      "        if line: \n",
      "            #get water level data\n",
      "            wlev.append(test[1:2])\n",
      "            #get date data\n",
      "            dates.append(datetime.datetime.strptime(test[0],\"%Y/%m/%d %H:%M\"))\n",
      "    n = n+1"
     ],
     "language": "python",
     "metadata": {},
     "outputs": [],
     "prompt_number": 230
    },
    {
     "cell_type": "markdown",
     "metadata": {},
     "source": [
      "Assuming that I have downloaded a .csv file, I could also extract the measured data in the following way:\n",
      "```python\n",
      "#go to the directory and get a list of files\n",
      "loc = \"/ocean/klesouef/meopar/tools/dfo_w_level\"\n",
      "os.chdir(loc)\n",
      "files = os.listdir(loc)\n",
      "\n",
      "#find only those files that end in .csv\n",
      "for files in os.listdir(\".\"):\n",
      "    if files.endswith(\".csv\"):\n",
      "        h = files\n",
      "\n",
      "#open the .csv file and get date and wlev data\n",
      "#initialise the lists\n",
      "dates = []\n",
      "wlev = []\n",
      "with open(h, 'rb') as f:\n",
      "    reader = csv.reader(f)\n",
      "    #ignore first 8 header lines\n",
      "    for row in islice(reader, 8, None):\n",
      "        for row in reader:\n",
      "            #get water level data\n",
      "            wlev.append(row[1])\n",
      "            #get date data\n",
      "            dates.append(datetime.datetime.strptime(row[0],\"%Y/%m/%d %H:%M\"))\n",
      "\n",
      "#could also consider using something like this \n",
      "#dates, wlev = np.loadtxt(h,unpack=True,delimiter=\",\",skiprows=8,converters={ 0: mdates.strpdate2num('%Y/%m/%d %H:%M')})\n",
      "\n",
      "```"
     ]
    },
    {
     "cell_type": "heading",
     "level": 1,
     "metadata": {},
     "source": [
      "Now get the model output data"
     ]
    },
    {
     "cell_type": "code",
     "collapsed": false,
     "input": [
      "#go to the directory and get the modelled water level data\n",
      "loc = \"/ocean/klesouef/meopar/tools/NetCDF_Plot\"\n",
      "os.chdir(loc)\n",
      "fT = NC.Dataset('WC3_CU60_20020102_20020104_grid_T.nc','r')\n",
      "\n",
      "#get the dimensions of the netcdf\n",
      "fT.dimensions.keys()\n",
      "fT.variables.keys()\n",
      "\n",
      "#get some variables from the netcdf\n",
      "T_ssh = fT.variables['sossheig']\n",
      "T_lat = fT.variables['nav_lat']\n",
      "T_lon = fT.variables['nav_lon']\n",
      "eta = T_ssh[:,:,:]\n",
      "X = T_lon[:,:]\n",
      "Y = T_lat[:,:]\n",
      "\n",
      "#find the closest model grid point to the measured data\n",
      "tol = 0.001 #tolerance for searching for grid points\n",
      "model_ind=np.logical_and((np.logical_and(X>stat_lon[0]-tol,X<stat_lon[0]+tol)),\\\n",
      "                         np.logical_and(Y>stat_lat[0]-tol,Y<stat_lat[0]+tol))\n",
      "print(X[model_ind])\n",
      "print(Y[model_ind])\n",
      "#YAY I FOUND A POINT! Now how to check if it's in the water or on land??? To do tomorrow...\n"
     ],
     "language": "python",
     "metadata": {},
     "outputs": [
      {
       "output_type": "stream",
       "stream": "stdout",
       "text": [
        "[-123.25281525]\n",
        "[ 49.33607101]\n"
       ]
      }
     ],
     "prompt_number": 232
    },
    {
     "cell_type": "heading",
     "level": 1,
     "metadata": {},
     "source": [
      "Plot the modelled and measured data!"
     ]
    },
    {
     "cell_type": "code",
     "collapsed": false,
     "input": [
      "#plot time series of measured water level at this point\n",
      "model_start_time = datetime.datetime.strptime(fT.variables['time_counter'].time_origin,' %Y-%b-%d %H:%S:%M')\n",
      "#interval_write is in seconds, change it to hours\n",
      "timestep = fT.variables['sossheig'].interval_write/(60*60)\n",
      "timevec = np.linspace(0,len(eta),len(eta)/timestep,endpoint=False)\n",
      "#create list of dates\n",
      "dateList = [model_start_time + datetime.timedelta(hours=x) for x in timevec ]\n",
      "\n",
      "#plot measured and modelled data\n",
      "plt.plot(dateList,eta[:,model_ind],'b-',dates,wlev,'r-')\n",
      "plt.ylabel('Water level (m CD)')\n",
      "plt.xlabel('Time')\n",
      "plt.title('Water level at '+stat_name[0]+', (station '+str(stat_num[0])+')')\n",
      "plt.ylim(-1,6)\n",
      "plt.legend(('Model','Measured'))\n",
      "#OK so this point is on the land"
     ],
     "language": "python",
     "metadata": {},
     "outputs": [
      {
       "metadata": {},
       "output_type": "pyout",
       "prompt_number": 235,
       "text": [
        "<matplotlib.legend.Legend at 0x8560290>"
       ]
      },
      {
       "metadata": {},
       "output_type": "display_data",
       "png": "[encoded data removed]",
       "text": [
        "<matplotlib.figure.Figure at 0x8537410>"
       ]
      }
     ],
     "prompt_number": 235
    },
    {
     "cell_type": "code",
     "collapsed": false,
     "input": [],
     "language": "python",
     "metadata": {},
     "outputs": [],
     "prompt_number": 233
    }
   ],
   "metadata": {}
  }
 ]
}