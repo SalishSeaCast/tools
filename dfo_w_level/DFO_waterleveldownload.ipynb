{
 "metadata": {
  "name": ""
 },
 "nbformat": 3,
 "nbformat_minor": 0,
 "worksheets": [
  {
   "cells": [
    {
     "cell_type": "markdown",
     "metadata": {},
     "source": [
      "FROM DOUG: \n",
      "\n",
      "It looks to me like the crucial step is submitting the form on http://www.meds-sdmm.dfo-mpo.gc.ca/isdm-gdsi/twl-mne/inventory-inventaire/interval-intervalle-eng.asp?user=isdm-gdsi&region=PAC&tst=1&no=7795. I think that the submit action there is causing a script to run on the server that puts the results in a temporary file and then shows you a page with the link to that file on it. So you need to mimic that in code - send a POST request with the dates and hourly, then do the GET request to download it.\n"
     ]
    },
    {
     "cell_type": "code",
     "collapsed": false,
     "input": [
      "import requests\n",
      "sitedata = {\n",
      "            'start_period': '01-JAN-2002',\n",
      "            'end_period': '04-JAN-2002',\n",
      "            'resolution': 'h',\n",
      "            'time_zone': 'l'\n",
      "           }\n",
      "r = requests.post(\"http://www.meds-sdmm.dfo-mpo.gc.ca/isdm-gdsi/twl-mne/inventory-inventaire/interval-intervalle-eng.asp?user=isdm-gdsi&region=PAC&tst=1&no=7795\", data=sitedata)\n",
      "\n",
      "\n",
      "\n",
      "\n",
      "\n"
     ],
     "language": "python",
     "metadata": {},
     "outputs": [],
     "prompt_number": 1
    },
    {
     "cell_type": "markdown",
     "metadata": {},
     "source": [
      "Assuming that I have successfully downloaded the .csv file, now plot the measured data"
     ]
    },
    {
     "cell_type": "code",
     "collapsed": false,
     "input": [
      "#preamble\n",
      "import os\n",
      "import csv\n",
      "from itertools import islice\n",
      "\n",
      "#go to the create directory and get a list of files\n",
      "loc = \"/ocean/klesouef/meopar/tools/dfo_w_level\"\n",
      "os.chdir(loc)\n",
      "files = os.listdir(loc)\n",
      "\n",
      "#find only those files that end in .csv\n",
      "for files in os.listdir(\".\"):\n",
      "    if files.endswith(\".csv\"):\n",
      "        h = files\n",
      "\n",
      "#open the .csv file and have a look at it\n",
      "dates = []\n",
      "wlev = []\n",
      "with open(h, 'rb') as f:\n",
      "    reader = csv.reader(f)\n",
      "    #ignore first 8 header lines\n",
      "    for row in islice(reader, 8, None):\n",
      "        for row in reader:\n",
      "            wlev.append(row[1])\n",
      "            dates.append(row[0])\n",
      "#print(wlev)\n",
      "#print(dates)\n",
      "\n",
      "rownum = 1\n",
      "year = dates[rownum][0:4]\n",
      "month = dates[rownum][5:7]\n",
      "day = dates[rownum][8:10]\n",
      "hour = dates[rownum][11:13]\n",
      "minute = dates[rownum][14:16]\n",
      "\n",
      "print(dates[rownum])\n",
      "print(year)\n",
      "print(month)\n",
      "print(day)\n",
      "print(hour)\n",
      "print(minute)\n",
      "\n",
      "\n",
      "\n"
     ],
     "language": "python",
     "metadata": {},
     "outputs": [
      {
       "output_type": "stream",
       "stream": "stdout",
       "text": [
        "2002/01/01 02:00\n",
        "2002\n",
        "01\n",
        "01\n",
        "02\n",
        "00\n"
       ]
      }
     ],
     "prompt_number": 60
    },
    {
     "cell_type": "code",
     "collapsed": false,
     "input": [],
     "language": "python",
     "metadata": {},
     "outputs": [],
     "prompt_number": 29
    },
    {
     "cell_type": "code",
     "collapsed": false,
     "input": [],
     "language": "python",
     "metadata": {},
     "outputs": []
    }
   ],
   "metadata": {}
  }
 ]
}