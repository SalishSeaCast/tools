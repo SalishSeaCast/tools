{
 "metadata": {
  "name": ""
 },
 "nbformat": 3,
 "nbformat_minor": 0,
 "worksheets": [
  {
   "cells": [
    {
     "cell_type": "markdown",
     "metadata": {},
     "source": [
      "Compare harmonics calculated by NEMO model to M2 harmonics calculated from observations by Foreman et al. (1995) (Table 1)"
     ]
    },
    {
     "cell_type": "code",
     "collapsed": false,
     "input": [
      "#preamble\n",
      "import csv\n",
      "import os\n",
      "from itertools import islice\n",
      "import netCDF4 as NC\n",
      "from math import radians, cos, sin, asin, sqrt, pi"
     ],
     "language": "python",
     "metadata": {},
     "outputs": [],
     "prompt_number": 23
    },
    {
     "cell_type": "code",
     "collapsed": false,
     "input": [
      "#load in text file containing all the harmonics in Table 1 of Foreman et al. (1995)\n",
      "loc = \"/ocean/klesouef/meopar/tools/dfo_w_level\"\n",
      "os.chdir(loc)\n",
      "sitename = []\n",
      "lat = []\n",
      "lon = []\n",
      "M2_amp = []\n",
      "M2_pha = []\n",
      "K1_amp = []\n",
      "K1_pha = []\n",
      "\n",
      "with open('obs_tidal_const_Foreman95.csv', 'rb') as csvfile:\n",
      "    reader = csv.reader(csvfile, delimiter=',', quotechar='|')\n",
      "    for row in islice(reader, 1, None):\n",
      "        for row in reader:\n",
      "            sitename.append(row[0])\n",
      "            lat.append(row[1])\n",
      "            lon.append(row[2])\n",
      "            M2_amp.append(row[3])\n",
      "            M2_pha.append(row[4])\n",
      "            K1_amp.append(row[5])\n",
      "            K1_pha.append(row[6])"
     ],
     "language": "python",
     "metadata": {},
     "outputs": [],
     "prompt_number": 16
    },
    {
     "cell_type": "code",
     "collapsed": false,
     "input": [
      "#load in M2 harmonics modelled data from NEMO\n",
      "loc = \"/ocean/klesouef/meopar/tools/NetCDF_Plot\"\n",
      "os.chdir(loc)\n",
      "harmT = NC.Dataset('WC3_Harmonics_gridT_TIDE2D.nc','r')\n",
      "#Get amplitude and phase\n",
      "mod_M2_amp_1 = harmT.variables['M2_amp'][0,:,:]\n",
      "mod_M2_pha_1 = harmT.variables['M2_pha'][0,:,:]"
     ],
     "language": "python",
     "metadata": {},
     "outputs": [],
     "prompt_number": 24
    },
    {
     "cell_type": "code",
     "collapsed": false,
     "input": [
      "#define a function to find the closest grid point to some desired location X, Y\n",
      "\n",
      "def find_closest_model_point(X,Y):\n",
      "    #get the grid data\n",
      "    os.chdir('/ocean/klesouef/meopar/nemo-forcing/grid')\n",
      "    grid = NC.Dataset('SubDom_bathy_meter_NOBCchancomp.nc','r')\n",
      "    bathy = grid.variables['Bathymetry'][:,:]\n",
      "\n",
      "    #find the closest model grid point to the measured data\n",
      "    #tolerance for searching for grid points (approx. distances between adjacent grid points)\n",
      "    tol1 = 0.0052  #lon\n",
      "    tol2 = 0.00189 #lat\n",
      "    \n",
      "    #search for a grid point with lon/lat within tolerance of measured location \n",
      "    x1, y1=np.where(np.logical_and((np.logical_and(X>stat_lon[0]-tol1,X<stat_lon[0]+tol1)),\n",
      "                                                  np.logical_and(Y>stat_lat[0]-tol2,Y<stat_lat[0]+tol2)))\n",
      "    \n",
      "    #What if more than one point is returned from this search?\n",
      "    \n",
      "    #if x1,y1 is masked, search 3x3 grid around. If all those points are masked, search 4x4 grid around etc\n",
      "    for ii in np.arange(1,100):\n",
      "        if bathy.mask[x1,y1]==True:\n",
      "            for i in np.arange(x1-ii,x1+ii+1):\n",
      "                for j in np.arange(y1-ii,y1+ii+1):\n",
      "                    if bathy.mask[i,j] == False:\n",
      "                        break\n",
      "                if bathy.mask[i,j] == False:\n",
      "                    break\n",
      "            if bathy.mask[i,j] == False:\n",
      "                break\n",
      "    return i, j\n"
     ],
     "language": "python",
     "metadata": {},
     "outputs": []
    },
    {
     "cell_type": "code",
     "collapsed": false,
     "input": [
      "#for each site in the .csv file, find the corresponding model grid point and calculate D (as in Foreman et al 1995)\n",
      "#get the bathy to check if this grid point is on land ('masked')\n",
      "\n",
      "\n"
     ],
     "language": "python",
     "metadata": {},
     "outputs": []
    }
   ],
   "metadata": {}
  }
 ]
}